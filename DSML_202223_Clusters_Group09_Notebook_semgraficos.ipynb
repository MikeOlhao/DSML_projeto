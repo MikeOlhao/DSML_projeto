{
 "cells": [
  {
   "cell_type": "markdown",
   "id": "7bc87212",
   "metadata": {},
   "source": [
    "### Table of Contents"
   ]
  },
  {
   "cell_type": "markdown",
   "id": "db4075ae",
   "metadata": {},
   "source": [
    "# 1. Import Data"
   ]
  },
  {
   "cell_type": "markdown",
   "id": "24debbce",
   "metadata": {},
   "source": [
    "## 1.1 Import the needed libraries"
   ]
  },
  {
   "cell_type": "code",
   "execution_count": 81,
   "id": "40e3108e",
   "metadata": {},
   "outputs": [],
   "source": [
    "import pandas as pd\n",
    "import numpy as np\n",
    "import matplotlib.pyplot as plt\n",
    "import seaborn as sns\n",
    "import sklearn as sk\n",
    "from datetime import date\n",
    "from scipy.stats import zscore\n",
    "\n",
    "%matplotlib inline\n",
    "pd.set_option('display.max_columns', None)\n",
    "\n",
    "from sklearn.preprocessing import MinMaxScaler\n",
    "from sklearn.impute import KNNImputer"
   ]
  },
  {
   "cell_type": "markdown",
   "id": "bc474e5f",
   "metadata": {},
   "source": [
    "## 1.2 Import a integrate data"
   ]
  },
  {
   "cell_type": "code",
   "execution_count": 82,
   "id": "4acdbaaa",
   "metadata": {},
   "outputs": [],
   "source": [
    "df_crm = pd.read_csv('crm.csv')\n",
    "df_mkt = pd.read_csv('mkt.csv')\n",
    "df_sales = pd.read_excel('sales.xlsx')"
   ]
  },
  {
   "cell_type": "code",
   "execution_count": 83,
   "id": "c71a4e04",
   "metadata": {},
   "outputs": [],
   "source": [
    "df = pd.merge(pd.merge(df_crm,df_sales,on='CustomerID',how=\"inner\"),df_mkt,on=\"CustomerID\",how=\"inner\")"
   ]
  },
  {
   "cell_type": "markdown",
   "id": "3659ba1c",
   "metadata": {},
   "source": [
    "## 1.3 Set Index\n"
   ]
  },
  {
   "cell_type": "code",
   "execution_count": 84,
   "id": "133e3a1f",
   "metadata": {},
   "outputs": [],
   "source": [
    "df.set_index('CustomerID',inplace = True)"
   ]
  },
  {
   "cell_type": "markdown",
   "id": "7c1102a1",
   "metadata": {},
   "source": [
    "## 1.4 Check and removing duplicates"
   ]
  },
  {
   "cell_type": "code",
   "execution_count": 85,
   "id": "e0d3e069",
   "metadata": {},
   "outputs": [
    {
     "data": {
      "text/html": [
       "<div>\n",
       "<style scoped>\n",
       "    .dataframe tbody tr th:only-of-type {\n",
       "        vertical-align: middle;\n",
       "    }\n",
       "\n",
       "    .dataframe tbody tr th {\n",
       "        vertical-align: top;\n",
       "    }\n",
       "\n",
       "    .dataframe thead th {\n",
       "        text-align: right;\n",
       "    }\n",
       "</style>\n",
       "<table border=\"1\" class=\"dataframe\">\n",
       "  <thead>\n",
       "    <tr style=\"text-align: right;\">\n",
       "      <th></th>\n",
       "      <th>Name</th>\n",
       "      <th>Birthyear</th>\n",
       "      <th>Education</th>\n",
       "      <th>Marital_Status</th>\n",
       "      <th>Income</th>\n",
       "      <th>Kid_Younger6</th>\n",
       "      <th>Children_6to18</th>\n",
       "      <th>Date_Adherence</th>\n",
       "      <th>Recency</th>\n",
       "      <th>MntMeat&amp;Fish</th>\n",
       "      <th>MntEntries</th>\n",
       "      <th>MntVegan&amp;Vegetarian</th>\n",
       "      <th>MntDrinks</th>\n",
       "      <th>MntDesserts</th>\n",
       "      <th>MntAdditionalRequests</th>\n",
       "      <th>NumOfferPurchases</th>\n",
       "      <th>NumAppPurchases</th>\n",
       "      <th>NumTakeAwayPurchases</th>\n",
       "      <th>NumStorePurchases</th>\n",
       "      <th>NumAppVisitsMonth</th>\n",
       "      <th>Complain</th>\n",
       "      <th>Response_Cmp1</th>\n",
       "      <th>Response_Cmp2</th>\n",
       "      <th>Response_Cmp3</th>\n",
       "      <th>Response_Cmp4</th>\n",
       "      <th>Response_Cmp5</th>\n",
       "    </tr>\n",
       "    <tr>\n",
       "      <th>CustomerID</th>\n",
       "      <th></th>\n",
       "      <th></th>\n",
       "      <th></th>\n",
       "      <th></th>\n",
       "      <th></th>\n",
       "      <th></th>\n",
       "      <th></th>\n",
       "      <th></th>\n",
       "      <th></th>\n",
       "      <th></th>\n",
       "      <th></th>\n",
       "      <th></th>\n",
       "      <th></th>\n",
       "      <th></th>\n",
       "      <th></th>\n",
       "      <th></th>\n",
       "      <th></th>\n",
       "      <th></th>\n",
       "      <th></th>\n",
       "      <th></th>\n",
       "      <th></th>\n",
       "      <th></th>\n",
       "      <th></th>\n",
       "      <th></th>\n",
       "      <th></th>\n",
       "      <th></th>\n",
       "    </tr>\n",
       "  </thead>\n",
       "  <tbody>\n",
       "    <tr>\n",
       "      <th>32924</th>\n",
       "      <td>Mrs. Wanda Terry</td>\n",
       "      <td>1986</td>\n",
       "      <td>Graduation</td>\n",
       "      <td>Divorced</td>\n",
       "      <td>41264.0</td>\n",
       "      <td>1</td>\n",
       "      <td>1</td>\n",
       "      <td>2020-10-03 00:00:00</td>\n",
       "      <td>61.0</td>\n",
       "      <td>70.0</td>\n",
       "      <td>20</td>\n",
       "      <td>165.0</td>\n",
       "      <td>40.0</td>\n",
       "      <td>0.0</td>\n",
       "      <td>7.0</td>\n",
       "      <td>2</td>\n",
       "      <td>3</td>\n",
       "      <td>1</td>\n",
       "      <td>3</td>\n",
       "      <td>7</td>\n",
       "      <td>0</td>\n",
       "      <td>0</td>\n",
       "      <td>0</td>\n",
       "      <td>0</td>\n",
       "      <td>0</td>\n",
       "      <td>0</td>\n",
       "    </tr>\n",
       "    <tr>\n",
       "      <th>8276</th>\n",
       "      <td>Mrs. Mary Jackson</td>\n",
       "      <td>1968</td>\n",
       "      <td>HighSchool</td>\n",
       "      <td>Married</td>\n",
       "      <td>118238.0</td>\n",
       "      <td>0</td>\n",
       "      <td>0</td>\n",
       "      <td>2020-10-13 00:00:00</td>\n",
       "      <td>42.0</td>\n",
       "      <td>5940.0</td>\n",
       "      <td>1002</td>\n",
       "      <td>9465.0</td>\n",
       "      <td>1100.0</td>\n",
       "      <td>1100.0</td>\n",
       "      <td>32.0</td>\n",
       "      <td>1</td>\n",
       "      <td>6</td>\n",
       "      <td>7</td>\n",
       "      <td>8</td>\n",
       "      <td>2</td>\n",
       "      <td>0</td>\n",
       "      <td>0</td>\n",
       "      <td>0</td>\n",
       "      <td>0</td>\n",
       "      <td>0</td>\n",
       "      <td>0</td>\n",
       "    </tr>\n",
       "    <tr>\n",
       "      <th>32966</th>\n",
       "      <td>Mr. Steven Baker</td>\n",
       "      <td>1961</td>\n",
       "      <td>HighSchool</td>\n",
       "      <td>Married</td>\n",
       "      <td>84974.0</td>\n",
       "      <td>0</td>\n",
       "      <td>1</td>\n",
       "      <td>2022-02-17 00:00:00</td>\n",
       "      <td>56.0</td>\n",
       "      <td>2610.0</td>\n",
       "      <td>840</td>\n",
       "      <td>2160.0</td>\n",
       "      <td>840.0</td>\n",
       "      <td>960.0</td>\n",
       "      <td>133.0</td>\n",
       "      <td>3</td>\n",
       "      <td>6</td>\n",
       "      <td>5</td>\n",
       "      <td>9</td>\n",
       "      <td>3</td>\n",
       "      <td>0</td>\n",
       "      <td>0</td>\n",
       "      <td>0</td>\n",
       "      <td>0</td>\n",
       "      <td>0</td>\n",
       "      <td>0</td>\n",
       "    </tr>\n",
       "    <tr>\n",
       "      <th>5627</th>\n",
       "      <td>Mr. Jonathan Clark</td>\n",
       "      <td>1988</td>\n",
       "      <td>Graduation</td>\n",
       "      <td>Married</td>\n",
       "      <td>40975.0</td>\n",
       "      <td>1</td>\n",
       "      <td>0</td>\n",
       "      <td>2022-04-28 00:00:00</td>\n",
       "      <td>31.0</td>\n",
       "      <td>130.0</td>\n",
       "      <td>0</td>\n",
       "      <td>120.0</td>\n",
       "      <td>20.0</td>\n",
       "      <td>20.0</td>\n",
       "      <td>5.0</td>\n",
       "      <td>1</td>\n",
       "      <td>3</td>\n",
       "      <td>1</td>\n",
       "      <td>4</td>\n",
       "      <td>3</td>\n",
       "      <td>0</td>\n",
       "      <td>0</td>\n",
       "      <td>0</td>\n",
       "      <td>0</td>\n",
       "      <td>0</td>\n",
       "      <td>0</td>\n",
       "    </tr>\n",
       "    <tr>\n",
       "      <th>29357</th>\n",
       "      <td>Mr. Eric Springer</td>\n",
       "      <td>1972</td>\n",
       "      <td>PhD</td>\n",
       "      <td>Married</td>\n",
       "      <td>77778.0</td>\n",
       "      <td>0</td>\n",
       "      <td>1</td>\n",
       "      <td>2022-04-19 00:00:00</td>\n",
       "      <td>92.0</td>\n",
       "      <td>1240.0</td>\n",
       "      <td>60</td>\n",
       "      <td>315.0</td>\n",
       "      <td>20.0</td>\n",
       "      <td>20.0</td>\n",
       "      <td>33.0</td>\n",
       "      <td>1</td>\n",
       "      <td>5</td>\n",
       "      <td>2</td>\n",
       "      <td>4</td>\n",
       "      <td>6</td>\n",
       "      <td>0</td>\n",
       "      <td>0</td>\n",
       "      <td>1</td>\n",
       "      <td>0</td>\n",
       "      <td>0</td>\n",
       "      <td>0</td>\n",
       "    </tr>\n",
       "    <tr>\n",
       "      <th>26891</th>\n",
       "      <td>Mr. Sam Peake</td>\n",
       "      <td>1992</td>\n",
       "      <td>Graduation</td>\n",
       "      <td>Married</td>\n",
       "      <td>74147.0</td>\n",
       "      <td>1</td>\n",
       "      <td>0</td>\n",
       "      <td>2022-03-21 00:00:00</td>\n",
       "      <td>13.0</td>\n",
       "      <td>610.0</td>\n",
       "      <td>320</td>\n",
       "      <td>915.0</td>\n",
       "      <td>20.0</td>\n",
       "      <td>240.0</td>\n",
       "      <td>78.0</td>\n",
       "      <td>2</td>\n",
       "      <td>6</td>\n",
       "      <td>3</td>\n",
       "      <td>2</td>\n",
       "      <td>6</td>\n",
       "      <td>0</td>\n",
       "      <td>1</td>\n",
       "      <td>0</td>\n",
       "      <td>0</td>\n",
       "      <td>0</td>\n",
       "      <td>0</td>\n",
       "    </tr>\n",
       "    <tr>\n",
       "      <th>21269</th>\n",
       "      <td>Mr. Nathan Glover</td>\n",
       "      <td>1971</td>\n",
       "      <td>Graduation</td>\n",
       "      <td>Married</td>\n",
       "      <td>91241.0</td>\n",
       "      <td>0</td>\n",
       "      <td>1</td>\n",
       "      <td>2022-03-28 00:00:00</td>\n",
       "      <td>18.0</td>\n",
       "      <td>1780.0</td>\n",
       "      <td>220</td>\n",
       "      <td>2370.0</td>\n",
       "      <td>540.0</td>\n",
       "      <td>380.0</td>\n",
       "      <td>59.0</td>\n",
       "      <td>1</td>\n",
       "      <td>8</td>\n",
       "      <td>3</td>\n",
       "      <td>6</td>\n",
       "      <td>5</td>\n",
       "      <td>0</td>\n",
       "      <td>0</td>\n",
       "      <td>0</td>\n",
       "      <td>0</td>\n",
       "      <td>0</td>\n",
       "      <td>0</td>\n",
       "    </tr>\n",
       "    <tr>\n",
       "      <th>32777</th>\n",
       "      <td>Mr. Joe James</td>\n",
       "      <td>1967</td>\n",
       "      <td>Master</td>\n",
       "      <td>Married</td>\n",
       "      <td>101251.0</td>\n",
       "      <td>0</td>\n",
       "      <td>1</td>\n",
       "      <td>2021-12-30 00:00:00</td>\n",
       "      <td>26.0</td>\n",
       "      <td>7350.0</td>\n",
       "      <td>2780</td>\n",
       "      <td>4170.0</td>\n",
       "      <td>500.0</td>\n",
       "      <td>1760.0</td>\n",
       "      <td>66.0</td>\n",
       "      <td>2</td>\n",
       "      <td>8</td>\n",
       "      <td>8</td>\n",
       "      <td>6</td>\n",
       "      <td>3</td>\n",
       "      <td>0</td>\n",
       "      <td>1</td>\n",
       "      <td>0</td>\n",
       "      <td>0</td>\n",
       "      <td>0</td>\n",
       "      <td>0</td>\n",
       "    </tr>\n",
       "    <tr>\n",
       "      <th>26285</th>\n",
       "      <td>Mr. Oliver Sanderson</td>\n",
       "      <td>1986</td>\n",
       "      <td>Basic</td>\n",
       "      <td>Together</td>\n",
       "      <td>22345.0</td>\n",
       "      <td>1</td>\n",
       "      <td>0</td>\n",
       "      <td>2021-03-21 00:00:00</td>\n",
       "      <td>54.0</td>\n",
       "      <td>50.0</td>\n",
       "      <td>180</td>\n",
       "      <td>285.0</td>\n",
       "      <td>240.0</td>\n",
       "      <td>280.0</td>\n",
       "      <td>39.0</td>\n",
       "      <td>3</td>\n",
       "      <td>5</td>\n",
       "      <td>2</td>\n",
       "      <td>2</td>\n",
       "      <td>9</td>\n",
       "      <td>0</td>\n",
       "      <td>1</td>\n",
       "      <td>0</td>\n",
       "      <td>0</td>\n",
       "      <td>0</td>\n",
       "      <td>0</td>\n",
       "    </tr>\n",
       "    <tr>\n",
       "      <th>5540</th>\n",
       "      <td>Mr. Justin MacLeod</td>\n",
       "      <td>1995</td>\n",
       "      <td>Graduation</td>\n",
       "      <td>Together</td>\n",
       "      <td>44247.0</td>\n",
       "      <td>1</td>\n",
       "      <td>0</td>\n",
       "      <td>2021-03-08 00:00:00</td>\n",
       "      <td>51.0</td>\n",
       "      <td>1540.0</td>\n",
       "      <td>400</td>\n",
       "      <td>990.0</td>\n",
       "      <td>0.0</td>\n",
       "      <td>240.0</td>\n",
       "      <td>27.0</td>\n",
       "      <td>7</td>\n",
       "      <td>8</td>\n",
       "      <td>2</td>\n",
       "      <td>4</td>\n",
       "      <td>9</td>\n",
       "      <td>0</td>\n",
       "      <td>0</td>\n",
       "      <td>0</td>\n",
       "      <td>0</td>\n",
       "      <td>0</td>\n",
       "      <td>0</td>\n",
       "    </tr>\n",
       "    <tr>\n",
       "      <th>17069</th>\n",
       "      <td>Miss Zoe Underwood</td>\n",
       "      <td>1977</td>\n",
       "      <td>Graduation</td>\n",
       "      <td>Together</td>\n",
       "      <td>75226.0</td>\n",
       "      <td>1</td>\n",
       "      <td>1</td>\n",
       "      <td>2020-11-24 00:00:00</td>\n",
       "      <td>32.0</td>\n",
       "      <td>1320.0</td>\n",
       "      <td>280</td>\n",
       "      <td>390.0</td>\n",
       "      <td>180.0</td>\n",
       "      <td>100.0</td>\n",
       "      <td>28.0</td>\n",
       "      <td>5</td>\n",
       "      <td>7</td>\n",
       "      <td>2</td>\n",
       "      <td>3</td>\n",
       "      <td>8</td>\n",
       "      <td>0</td>\n",
       "      <td>0</td>\n",
       "      <td>0</td>\n",
       "      <td>0</td>\n",
       "      <td>0</td>\n",
       "      <td>0</td>\n",
       "    </tr>\n",
       "    <tr>\n",
       "      <th>12320</th>\n",
       "      <td>Mr. Christian Morrison</td>\n",
       "      <td>1985</td>\n",
       "      <td>Master</td>\n",
       "      <td>Married</td>\n",
       "      <td>39747.0</td>\n",
       "      <td>1</td>\n",
       "      <td>0</td>\n",
       "      <td>2021-04-06 00:00:00</td>\n",
       "      <td>64.0</td>\n",
       "      <td>120.0</td>\n",
       "      <td>0</td>\n",
       "      <td>195.0</td>\n",
       "      <td>20.0</td>\n",
       "      <td>0.0</td>\n",
       "      <td>10.0</td>\n",
       "      <td>1</td>\n",
       "      <td>3</td>\n",
       "      <td>1</td>\n",
       "      <td>3</td>\n",
       "      <td>7</td>\n",
       "      <td>0</td>\n",
       "      <td>0</td>\n",
       "      <td>0</td>\n",
       "      <td>0</td>\n",
       "      <td>0</td>\n",
       "      <td>0</td>\n",
       "    </tr>\n",
       "    <tr>\n",
       "      <th>24260</th>\n",
       "      <td>Mr. Dan Langdon</td>\n",
       "      <td>1993</td>\n",
       "      <td>Graduation</td>\n",
       "      <td>Single</td>\n",
       "      <td>116645.0</td>\n",
       "      <td>0</td>\n",
       "      <td>0</td>\n",
       "      <td>2021-05-18 00:00:00</td>\n",
       "      <td>64.0</td>\n",
       "      <td>3330.0</td>\n",
       "      <td>0</td>\n",
       "      <td>12225.0</td>\n",
       "      <td>1980.0</td>\n",
       "      <td>832.0</td>\n",
       "      <td>29.0</td>\n",
       "      <td>1</td>\n",
       "      <td>6</td>\n",
       "      <td>11</td>\n",
       "      <td>11</td>\n",
       "      <td>2</td>\n",
       "      <td>0</td>\n",
       "      <td>0</td>\n",
       "      <td>0</td>\n",
       "      <td>0</td>\n",
       "      <td>0</td>\n",
       "      <td>0</td>\n",
       "    </tr>\n",
       "    <tr>\n",
       "      <th>6470</th>\n",
       "      <td>Miss Diane White</td>\n",
       "      <td>1980</td>\n",
       "      <td>Graduation</td>\n",
       "      <td>Single</td>\n",
       "      <td>127255.0</td>\n",
       "      <td>0</td>\n",
       "      <td>0</td>\n",
       "      <td>2021-06-17 00:00:00</td>\n",
       "      <td>75.0</td>\n",
       "      <td>5760.0</td>\n",
       "      <td>2220</td>\n",
       "      <td>13950.0</td>\n",
       "      <td>2960.0</td>\n",
       "      <td>1860.0</td>\n",
       "      <td>74.0</td>\n",
       "      <td>1</td>\n",
       "      <td>5</td>\n",
       "      <td>3</td>\n",
       "      <td>13</td>\n",
       "      <td>1</td>\n",
       "      <td>0</td>\n",
       "      <td>0</td>\n",
       "      <td>0</td>\n",
       "      <td>0</td>\n",
       "      <td>0</td>\n",
       "      <td>0</td>\n",
       "    </tr>\n",
       "    <tr>\n",
       "      <th>10265</th>\n",
       "      <td>Mr. Max Martin</td>\n",
       "      <td>1988</td>\n",
       "      <td>HighSchool</td>\n",
       "      <td>Together</td>\n",
       "      <td>27838.0</td>\n",
       "      <td>1</td>\n",
       "      <td>0</td>\n",
       "      <td>2021-10-08 00:00:00</td>\n",
       "      <td>7.0</td>\n",
       "      <td>170.0</td>\n",
       "      <td>60</td>\n",
       "      <td>105.0</td>\n",
       "      <td>280.0</td>\n",
       "      <td>20.0</td>\n",
       "      <td>42.0</td>\n",
       "      <td>2</td>\n",
       "      <td>4</td>\n",
       "      <td>3</td>\n",
       "      <td>2</td>\n",
       "      <td>4</td>\n",
       "      <td>0</td>\n",
       "      <td>1</td>\n",
       "      <td>0</td>\n",
       "      <td>0</td>\n",
       "      <td>0</td>\n",
       "      <td>0</td>\n",
       "    </tr>\n",
       "    <tr>\n",
       "      <th>21767</th>\n",
       "      <td>Mrs. Jan Sharp</td>\n",
       "      <td>1977</td>\n",
       "      <td>Master</td>\n",
       "      <td>Married</td>\n",
       "      <td>54507.0</td>\n",
       "      <td>1</td>\n",
       "      <td>1</td>\n",
       "      <td>2020-10-27 00:00:00</td>\n",
       "      <td>94.0</td>\n",
       "      <td>280.0</td>\n",
       "      <td>40</td>\n",
       "      <td>135.0</td>\n",
       "      <td>20.0</td>\n",
       "      <td>20.0</td>\n",
       "      <td>8.0</td>\n",
       "      <td>2</td>\n",
       "      <td>4</td>\n",
       "      <td>1</td>\n",
       "      <td>3</td>\n",
       "      <td>7</td>\n",
       "      <td>0</td>\n",
       "      <td>0</td>\n",
       "      <td>0</td>\n",
       "      <td>0</td>\n",
       "      <td>0</td>\n",
       "      <td>0</td>\n",
       "    </tr>\n",
       "    <tr>\n",
       "      <th>15905</th>\n",
       "      <td>Mr. Charles James</td>\n",
       "      <td>1957</td>\n",
       "      <td>PhD</td>\n",
       "      <td>Together</td>\n",
       "      <td>95655.0</td>\n",
       "      <td>0</td>\n",
       "      <td>0</td>\n",
       "      <td>2020-09-04 00:00:00</td>\n",
       "      <td>3.0</td>\n",
       "      <td>8900.0</td>\n",
       "      <td>1260</td>\n",
       "      <td>4380.0</td>\n",
       "      <td>0.0</td>\n",
       "      <td>500.0</td>\n",
       "      <td>12.0</td>\n",
       "      <td>4</td>\n",
       "      <td>10</td>\n",
       "      <td>5</td>\n",
       "      <td>7</td>\n",
       "      <td>6</td>\n",
       "      <td>0</td>\n",
       "      <td>0</td>\n",
       "      <td>0</td>\n",
       "      <td>0</td>\n",
       "      <td>0</td>\n",
       "      <td>0</td>\n",
       "    </tr>\n",
       "    <tr>\n",
       "      <th>28688</th>\n",
       "      <td>Mr. Anthony Gibson</td>\n",
       "      <td>1976</td>\n",
       "      <td>Graduation</td>\n",
       "      <td>Together</td>\n",
       "      <td>77992.0</td>\n",
       "      <td>0</td>\n",
       "      <td>1</td>\n",
       "      <td>2020-12-29 00:00:00</td>\n",
       "      <td>43.0</td>\n",
       "      <td>5940.0</td>\n",
       "      <td>120</td>\n",
       "      <td>570.0</td>\n",
       "      <td>120.0</td>\n",
       "      <td>120.0</td>\n",
       "      <td>25.0</td>\n",
       "      <td>4</td>\n",
       "      <td>9</td>\n",
       "      <td>3</td>\n",
       "      <td>10</td>\n",
       "      <td>7</td>\n",
       "      <td>0</td>\n",
       "      <td>0</td>\n",
       "      <td>0</td>\n",
       "      <td>0</td>\n",
       "      <td>0</td>\n",
       "      <td>0</td>\n",
       "    </tr>\n",
       "    <tr>\n",
       "      <th>28739</th>\n",
       "      <td>Mr. Stephen Henderson</td>\n",
       "      <td>1970</td>\n",
       "      <td>Graduation</td>\n",
       "      <td>Married</td>\n",
       "      <td>81721.0</td>\n",
       "      <td>0</td>\n",
       "      <td>1</td>\n",
       "      <td>2021-07-21 00:00:00</td>\n",
       "      <td>78.0</td>\n",
       "      <td>2140.0</td>\n",
       "      <td>1700</td>\n",
       "      <td>2085.0</td>\n",
       "      <td>1160.0</td>\n",
       "      <td>740.0</td>\n",
       "      <td>16.0</td>\n",
       "      <td>4</td>\n",
       "      <td>7</td>\n",
       "      <td>3</td>\n",
       "      <td>10</td>\n",
       "      <td>5</td>\n",
       "      <td>0</td>\n",
       "      <td>0</td>\n",
       "      <td>0</td>\n",
       "      <td>0</td>\n",
       "      <td>0</td>\n",
       "      <td>0</td>\n",
       "    </tr>\n",
       "    <tr>\n",
       "      <th>25052</th>\n",
       "      <td>Mr. Piers Nolan</td>\n",
       "      <td>1977</td>\n",
       "      <td>Master</td>\n",
       "      <td>Divorced</td>\n",
       "      <td>57770.0</td>\n",
       "      <td>1</td>\n",
       "      <td>0</td>\n",
       "      <td>2021-07-23 00:00:00</td>\n",
       "      <td>12.0</td>\n",
       "      <td>700.0</td>\n",
       "      <td>60</td>\n",
       "      <td>1275.0</td>\n",
       "      <td>240.0</td>\n",
       "      <td>180.0</td>\n",
       "      <td>95.0</td>\n",
       "      <td>3</td>\n",
       "      <td>6</td>\n",
       "      <td>3</td>\n",
       "      <td>3</td>\n",
       "      <td>7</td>\n",
       "      <td>0</td>\n",
       "      <td>0</td>\n",
       "      <td>0</td>\n",
       "      <td>0</td>\n",
       "      <td>0</td>\n",
       "      <td>0</td>\n",
       "    </tr>\n",
       "    <tr>\n",
       "      <th>7586</th>\n",
       "      <td>Mr. Jason Powell</td>\n",
       "      <td>1985</td>\n",
       "      <td>Master</td>\n",
       "      <td>Married</td>\n",
       "      <td>98465.0</td>\n",
       "      <td>0</td>\n",
       "      <td>1</td>\n",
       "      <td>2021-04-25 00:00:00</td>\n",
       "      <td>39.0</td>\n",
       "      <td>3780.0</td>\n",
       "      <td>200</td>\n",
       "      <td>2205.0</td>\n",
       "      <td>100.0</td>\n",
       "      <td>100.0</td>\n",
       "      <td>38.0</td>\n",
       "      <td>3</td>\n",
       "      <td>9</td>\n",
       "      <td>3</td>\n",
       "      <td>8</td>\n",
       "      <td>6</td>\n",
       "      <td>0</td>\n",
       "      <td>0</td>\n",
       "      <td>0</td>\n",
       "      <td>0</td>\n",
       "      <td>0</td>\n",
       "      <td>0</td>\n",
       "    </tr>\n",
       "    <tr>\n",
       "      <th>32495</th>\n",
       "      <td>Miss Wanda Wallace</td>\n",
       "      <td>1962</td>\n",
       "      <td>Graduation</td>\n",
       "      <td>Together</td>\n",
       "      <td>8305.4</td>\n",
       "      <td>0</td>\n",
       "      <td>1</td>\n",
       "      <td>2022-03-21 00:00:00</td>\n",
       "      <td>30.0</td>\n",
       "      <td>479.0</td>\n",
       "      <td>10</td>\n",
       "      <td>123.0</td>\n",
       "      <td>10.0</td>\n",
       "      <td>34.0</td>\n",
       "      <td>17.1</td>\n",
       "      <td>0</td>\n",
       "      <td>1</td>\n",
       "      <td>1</td>\n",
       "      <td>0</td>\n",
       "      <td>20</td>\n",
       "      <td>0</td>\n",
       "      <td>1</td>\n",
       "      <td>0</td>\n",
       "      <td>0</td>\n",
       "      <td>0</td>\n",
       "      <td>0</td>\n",
       "    </tr>\n",
       "    <tr>\n",
       "      <th>19295</th>\n",
       "      <td>Mr. Justin Martin</td>\n",
       "      <td>1998</td>\n",
       "      <td>Graduation</td>\n",
       "      <td>Together</td>\n",
       "      <td>120028.0</td>\n",
       "      <td>0</td>\n",
       "      <td>0</td>\n",
       "      <td>2022-05-13 00:00:00</td>\n",
       "      <td>15.0</td>\n",
       "      <td>9370.0</td>\n",
       "      <td>1060</td>\n",
       "      <td>3000.0</td>\n",
       "      <td>800.0</td>\n",
       "      <td>2140.0</td>\n",
       "      <td>200.0</td>\n",
       "      <td>0</td>\n",
       "      <td>6</td>\n",
       "      <td>4</td>\n",
       "      <td>13</td>\n",
       "      <td>1</td>\n",
       "      <td>0</td>\n",
       "      <td>0</td>\n",
       "      <td>0</td>\n",
       "      <td>1</td>\n",
       "      <td>0</td>\n",
       "      <td>0</td>\n",
       "    </tr>\n",
       "    <tr>\n",
       "      <th>14942</th>\n",
       "      <td>Mr. Stewart North</td>\n",
       "      <td>1978</td>\n",
       "      <td>PhD</td>\n",
       "      <td>Together</td>\n",
       "      <td>135654.0</td>\n",
       "      <td>0</td>\n",
       "      <td>0</td>\n",
       "      <td>2021-05-02 00:00:00</td>\n",
       "      <td>71.0</td>\n",
       "      <td>9790.0</td>\n",
       "      <td>880</td>\n",
       "      <td>14025.0</td>\n",
       "      <td>440.0</td>\n",
       "      <td>488.0</td>\n",
       "      <td>22.0</td>\n",
       "      <td>1</td>\n",
       "      <td>9</td>\n",
       "      <td>6</td>\n",
       "      <td>12</td>\n",
       "      <td>3</td>\n",
       "      <td>0</td>\n",
       "      <td>0</td>\n",
       "      <td>1</td>\n",
       "      <td>1</td>\n",
       "      <td>1</td>\n",
       "      <td>0</td>\n",
       "    </tr>\n",
       "    <tr>\n",
       "      <th>20747</th>\n",
       "      <td>Mr. Luke Lambert</td>\n",
       "      <td>1988</td>\n",
       "      <td>PhD</td>\n",
       "      <td>Married</td>\n",
       "      <td>97456.0</td>\n",
       "      <td>0</td>\n",
       "      <td>0</td>\n",
       "      <td>2020-08-14 00:00:00</td>\n",
       "      <td>63.0</td>\n",
       "      <td>2540.0</td>\n",
       "      <td>1420</td>\n",
       "      <td>6705.0</td>\n",
       "      <td>2020.0</td>\n",
       "      <td>2840.0</td>\n",
       "      <td>20.0</td>\n",
       "      <td>1</td>\n",
       "      <td>5</td>\n",
       "      <td>5</td>\n",
       "      <td>8</td>\n",
       "      <td>1</td>\n",
       "      <td>0</td>\n",
       "      <td>0</td>\n",
       "      <td>0</td>\n",
       "      <td>0</td>\n",
       "      <td>0</td>\n",
       "      <td>0</td>\n",
       "    </tr>\n",
       "    <tr>\n",
       "      <th>12035</th>\n",
       "      <td>Mrs. Heather Hart</td>\n",
       "      <td>1985</td>\n",
       "      <td>Graduation</td>\n",
       "      <td>Married</td>\n",
       "      <td>127587.0</td>\n",
       "      <td>1</td>\n",
       "      <td>0</td>\n",
       "      <td>2021-09-30 00:00:00</td>\n",
       "      <td>73.0</td>\n",
       "      <td>6300.0</td>\n",
       "      <td>3200</td>\n",
       "      <td>3945.0</td>\n",
       "      <td>220.0</td>\n",
       "      <td>1600.0</td>\n",
       "      <td>45.0</td>\n",
       "      <td>1</td>\n",
       "      <td>6</td>\n",
       "      <td>6</td>\n",
       "      <td>8</td>\n",
       "      <td>5</td>\n",
       "      <td>0</td>\n",
       "      <td>0</td>\n",
       "      <td>1</td>\n",
       "      <td>0</td>\n",
       "      <td>1</td>\n",
       "      <td>0</td>\n",
       "    </tr>\n",
       "    <tr>\n",
       "      <th>8447</th>\n",
       "      <td>Mrs. Grace Davies</td>\n",
       "      <td>1967</td>\n",
       "      <td>Graduation</td>\n",
       "      <td>Married</td>\n",
       "      <td>116080.0</td>\n",
       "      <td>1</td>\n",
       "      <td>1</td>\n",
       "      <td>2022-04-24 00:00:00</td>\n",
       "      <td>33.0</td>\n",
       "      <td>2450.0</td>\n",
       "      <td>320</td>\n",
       "      <td>3345.0</td>\n",
       "      <td>320.0</td>\n",
       "      <td>860.0</td>\n",
       "      <td>16.0</td>\n",
       "      <td>2</td>\n",
       "      <td>10</td>\n",
       "      <td>2</td>\n",
       "      <td>8</td>\n",
       "      <td>6</td>\n",
       "      <td>0</td>\n",
       "      <td>0</td>\n",
       "      <td>0</td>\n",
       "      <td>0</td>\n",
       "      <td>0</td>\n",
       "      <td>0</td>\n",
       "    </tr>\n",
       "    <tr>\n",
       "      <th>25685</th>\n",
       "      <td>Mr. Austin Knox</td>\n",
       "      <td>1955</td>\n",
       "      <td>PhD</td>\n",
       "      <td>Widow</td>\n",
       "      <td>60675.0</td>\n",
       "      <td>1</td>\n",
       "      <td>1</td>\n",
       "      <td>2020-11-19 00:00:00</td>\n",
       "      <td>15.0</td>\n",
       "      <td>5020.0</td>\n",
       "      <td>0</td>\n",
       "      <td>645.0</td>\n",
       "      <td>0.0</td>\n",
       "      <td>0.0</td>\n",
       "      <td>27.0</td>\n",
       "      <td>9</td>\n",
       "      <td>10</td>\n",
       "      <td>3</td>\n",
       "      <td>7</td>\n",
       "      <td>9</td>\n",
       "      <td>0</td>\n",
       "      <td>0</td>\n",
       "      <td>0</td>\n",
       "      <td>0</td>\n",
       "      <td>0</td>\n",
       "      <td>0</td>\n",
       "    </tr>\n",
       "    <tr>\n",
       "      <th>28625</th>\n",
       "      <td>Mr. Frank Piper</td>\n",
       "      <td>1969</td>\n",
       "      <td>Basic</td>\n",
       "      <td>Married</td>\n",
       "      <td>30685.0</td>\n",
       "      <td>2</td>\n",
       "      <td>1</td>\n",
       "      <td>2021-12-25 00:00:00</td>\n",
       "      <td>35.0</td>\n",
       "      <td>60.0</td>\n",
       "      <td>120</td>\n",
       "      <td>120.0</td>\n",
       "      <td>180.0</td>\n",
       "      <td>180.0</td>\n",
       "      <td>18.0</td>\n",
       "      <td>3</td>\n",
       "      <td>4</td>\n",
       "      <td>2</td>\n",
       "      <td>3</td>\n",
       "      <td>6</td>\n",
       "      <td>0</td>\n",
       "      <td>0</td>\n",
       "      <td>0</td>\n",
       "      <td>0</td>\n",
       "      <td>0</td>\n",
       "      <td>0</td>\n",
       "    </tr>\n",
       "    <tr>\n",
       "      <th>28844</th>\n",
       "      <td>Mr. Neil Dowd</td>\n",
       "      <td>1981</td>\n",
       "      <td>Graduation</td>\n",
       "      <td>Married</td>\n",
       "      <td>93031.0</td>\n",
       "      <td>0</td>\n",
       "      <td>1</td>\n",
       "      <td>2022-06-29 00:00:00</td>\n",
       "      <td>43.0</td>\n",
       "      <td>6050.0</td>\n",
       "      <td>140</td>\n",
       "      <td>1275.0</td>\n",
       "      <td>140.0</td>\n",
       "      <td>140.0</td>\n",
       "      <td>7.0</td>\n",
       "      <td>1</td>\n",
       "      <td>10</td>\n",
       "      <td>3</td>\n",
       "      <td>10</td>\n",
       "      <td>4</td>\n",
       "      <td>0</td>\n",
       "      <td>0</td>\n",
       "      <td>1</td>\n",
       "      <td>0</td>\n",
       "      <td>0</td>\n",
       "      <td>0</td>\n",
       "    </tr>\n",
       "    <tr>\n",
       "      <th>30464</th>\n",
       "      <td>Miss Gabrielle Churchill</td>\n",
       "      <td>1960</td>\n",
       "      <td>Graduation</td>\n",
       "      <td>Together</td>\n",
       "      <td>99213.0</td>\n",
       "      <td>0</td>\n",
       "      <td>1</td>\n",
       "      <td>2021-05-02 00:00:00</td>\n",
       "      <td>9.0</td>\n",
       "      <td>2120.0</td>\n",
       "      <td>980</td>\n",
       "      <td>2700.0</td>\n",
       "      <td>1200.0</td>\n",
       "      <td>980.0</td>\n",
       "      <td>32.0</td>\n",
       "      <td>2</td>\n",
       "      <td>5</td>\n",
       "      <td>5</td>\n",
       "      <td>10</td>\n",
       "      <td>2</td>\n",
       "      <td>0</td>\n",
       "      <td>0</td>\n",
       "      <td>0</td>\n",
       "      <td>0</td>\n",
       "      <td>0</td>\n",
       "      <td>0</td>\n",
       "    </tr>\n",
       "  </tbody>\n",
       "</table>\n",
       "</div>"
      ],
      "text/plain": [
       "                                Name  Birthyear   Education Marital_Status  \\\n",
       "CustomerID                                                                   \n",
       "32924               Mrs. Wanda Terry       1986  Graduation       Divorced   \n",
       "8276               Mrs. Mary Jackson       1968  HighSchool        Married   \n",
       "32966               Mr. Steven Baker       1961  HighSchool        Married   \n",
       "5627              Mr. Jonathan Clark       1988  Graduation        Married   \n",
       "29357              Mr. Eric Springer       1972         PhD        Married   \n",
       "26891                  Mr. Sam Peake       1992  Graduation        Married   \n",
       "21269              Mr. Nathan Glover       1971  Graduation        Married   \n",
       "32777                  Mr. Joe James       1967      Master        Married   \n",
       "26285           Mr. Oliver Sanderson       1986       Basic       Together   \n",
       "5540              Mr. Justin MacLeod       1995  Graduation       Together   \n",
       "17069             Miss Zoe Underwood       1977  Graduation       Together   \n",
       "12320         Mr. Christian Morrison       1985      Master        Married   \n",
       "24260                Mr. Dan Langdon       1993  Graduation         Single   \n",
       "6470                Miss Diane White       1980  Graduation         Single   \n",
       "10265                 Mr. Max Martin       1988  HighSchool       Together   \n",
       "21767                 Mrs. Jan Sharp       1977      Master        Married   \n",
       "15905              Mr. Charles James       1957         PhD       Together   \n",
       "28688             Mr. Anthony Gibson       1976  Graduation       Together   \n",
       "28739          Mr. Stephen Henderson       1970  Graduation        Married   \n",
       "25052                Mr. Piers Nolan       1977      Master       Divorced   \n",
       "7586                Mr. Jason Powell       1985      Master        Married   \n",
       "32495             Miss Wanda Wallace       1962  Graduation       Together   \n",
       "19295              Mr. Justin Martin       1998  Graduation       Together   \n",
       "14942              Mr. Stewart North       1978         PhD       Together   \n",
       "20747               Mr. Luke Lambert       1988         PhD        Married   \n",
       "12035              Mrs. Heather Hart       1985  Graduation        Married   \n",
       "8447               Mrs. Grace Davies       1967  Graduation        Married   \n",
       "25685                Mr. Austin Knox       1955         PhD          Widow   \n",
       "28625                Mr. Frank Piper       1969       Basic        Married   \n",
       "28844                  Mr. Neil Dowd       1981  Graduation        Married   \n",
       "30464       Miss Gabrielle Churchill       1960  Graduation       Together   \n",
       "\n",
       "              Income  Kid_Younger6  Children_6to18       Date_Adherence  \\\n",
       "CustomerID                                                                \n",
       "32924        41264.0             1               1  2020-10-03 00:00:00   \n",
       "8276        118238.0             0               0  2020-10-13 00:00:00   \n",
       "32966        84974.0             0               1  2022-02-17 00:00:00   \n",
       "5627         40975.0             1               0  2022-04-28 00:00:00   \n",
       "29357        77778.0             0               1  2022-04-19 00:00:00   \n",
       "26891        74147.0             1               0  2022-03-21 00:00:00   \n",
       "21269        91241.0             0               1  2022-03-28 00:00:00   \n",
       "32777       101251.0             0               1  2021-12-30 00:00:00   \n",
       "26285        22345.0             1               0  2021-03-21 00:00:00   \n",
       "5540         44247.0             1               0  2021-03-08 00:00:00   \n",
       "17069        75226.0             1               1  2020-11-24 00:00:00   \n",
       "12320        39747.0             1               0  2021-04-06 00:00:00   \n",
       "24260       116645.0             0               0  2021-05-18 00:00:00   \n",
       "6470        127255.0             0               0  2021-06-17 00:00:00   \n",
       "10265        27838.0             1               0  2021-10-08 00:00:00   \n",
       "21767        54507.0             1               1  2020-10-27 00:00:00   \n",
       "15905        95655.0             0               0  2020-09-04 00:00:00   \n",
       "28688        77992.0             0               1  2020-12-29 00:00:00   \n",
       "28739        81721.0             0               1  2021-07-21 00:00:00   \n",
       "25052        57770.0             1               0  2021-07-23 00:00:00   \n",
       "7586         98465.0             0               1  2021-04-25 00:00:00   \n",
       "32495         8305.4             0               1  2022-03-21 00:00:00   \n",
       "19295       120028.0             0               0  2022-05-13 00:00:00   \n",
       "14942       135654.0             0               0  2021-05-02 00:00:00   \n",
       "20747        97456.0             0               0  2020-08-14 00:00:00   \n",
       "12035       127587.0             1               0  2021-09-30 00:00:00   \n",
       "8447        116080.0             1               1  2022-04-24 00:00:00   \n",
       "25685        60675.0             1               1  2020-11-19 00:00:00   \n",
       "28625        30685.0             2               1  2021-12-25 00:00:00   \n",
       "28844        93031.0             0               1  2022-06-29 00:00:00   \n",
       "30464        99213.0             0               1  2021-05-02 00:00:00   \n",
       "\n",
       "            Recency  MntMeat&Fish  MntEntries  MntVegan&Vegetarian  MntDrinks  \\\n",
       "CustomerID                                                                      \n",
       "32924          61.0          70.0          20                165.0       40.0   \n",
       "8276           42.0        5940.0        1002               9465.0     1100.0   \n",
       "32966          56.0        2610.0         840               2160.0      840.0   \n",
       "5627           31.0         130.0           0                120.0       20.0   \n",
       "29357          92.0        1240.0          60                315.0       20.0   \n",
       "26891          13.0         610.0         320                915.0       20.0   \n",
       "21269          18.0        1780.0         220               2370.0      540.0   \n",
       "32777          26.0        7350.0        2780               4170.0      500.0   \n",
       "26285          54.0          50.0         180                285.0      240.0   \n",
       "5540           51.0        1540.0         400                990.0        0.0   \n",
       "17069          32.0        1320.0         280                390.0      180.0   \n",
       "12320          64.0         120.0           0                195.0       20.0   \n",
       "24260          64.0        3330.0           0              12225.0     1980.0   \n",
       "6470           75.0        5760.0        2220              13950.0     2960.0   \n",
       "10265           7.0         170.0          60                105.0      280.0   \n",
       "21767          94.0         280.0          40                135.0       20.0   \n",
       "15905           3.0        8900.0        1260               4380.0        0.0   \n",
       "28688          43.0        5940.0         120                570.0      120.0   \n",
       "28739          78.0        2140.0        1700               2085.0     1160.0   \n",
       "25052          12.0         700.0          60               1275.0      240.0   \n",
       "7586           39.0        3780.0         200               2205.0      100.0   \n",
       "32495          30.0         479.0          10                123.0       10.0   \n",
       "19295          15.0        9370.0        1060               3000.0      800.0   \n",
       "14942          71.0        9790.0         880              14025.0      440.0   \n",
       "20747          63.0        2540.0        1420               6705.0     2020.0   \n",
       "12035          73.0        6300.0        3200               3945.0      220.0   \n",
       "8447           33.0        2450.0         320               3345.0      320.0   \n",
       "25685          15.0        5020.0           0                645.0        0.0   \n",
       "28625          35.0          60.0         120                120.0      180.0   \n",
       "28844          43.0        6050.0         140               1275.0      140.0   \n",
       "30464           9.0        2120.0         980               2700.0     1200.0   \n",
       "\n",
       "            MntDesserts  MntAdditionalRequests  NumOfferPurchases  \\\n",
       "CustomerID                                                          \n",
       "32924               0.0                    7.0                  2   \n",
       "8276             1100.0                   32.0                  1   \n",
       "32966             960.0                  133.0                  3   \n",
       "5627               20.0                    5.0                  1   \n",
       "29357              20.0                   33.0                  1   \n",
       "26891             240.0                   78.0                  2   \n",
       "21269             380.0                   59.0                  1   \n",
       "32777            1760.0                   66.0                  2   \n",
       "26285             280.0                   39.0                  3   \n",
       "5540              240.0                   27.0                  7   \n",
       "17069             100.0                   28.0                  5   \n",
       "12320               0.0                   10.0                  1   \n",
       "24260             832.0                   29.0                  1   \n",
       "6470             1860.0                   74.0                  1   \n",
       "10265              20.0                   42.0                  2   \n",
       "21767              20.0                    8.0                  2   \n",
       "15905             500.0                   12.0                  4   \n",
       "28688             120.0                   25.0                  4   \n",
       "28739             740.0                   16.0                  4   \n",
       "25052             180.0                   95.0                  3   \n",
       "7586              100.0                   38.0                  3   \n",
       "32495              34.0                   17.1                  0   \n",
       "19295            2140.0                  200.0                  0   \n",
       "14942             488.0                   22.0                  1   \n",
       "20747            2840.0                   20.0                  1   \n",
       "12035            1600.0                   45.0                  1   \n",
       "8447              860.0                   16.0                  2   \n",
       "25685               0.0                   27.0                  9   \n",
       "28625             180.0                   18.0                  3   \n",
       "28844             140.0                    7.0                  1   \n",
       "30464             980.0                   32.0                  2   \n",
       "\n",
       "            NumAppPurchases  NumTakeAwayPurchases  NumStorePurchases  \\\n",
       "CustomerID                                                             \n",
       "32924                     3                     1                  3   \n",
       "8276                      6                     7                  8   \n",
       "32966                     6                     5                  9   \n",
       "5627                      3                     1                  4   \n",
       "29357                     5                     2                  4   \n",
       "26891                     6                     3                  2   \n",
       "21269                     8                     3                  6   \n",
       "32777                     8                     8                  6   \n",
       "26285                     5                     2                  2   \n",
       "5540                      8                     2                  4   \n",
       "17069                     7                     2                  3   \n",
       "12320                     3                     1                  3   \n",
       "24260                     6                    11                 11   \n",
       "6470                      5                     3                 13   \n",
       "10265                     4                     3                  2   \n",
       "21767                     4                     1                  3   \n",
       "15905                    10                     5                  7   \n",
       "28688                     9                     3                 10   \n",
       "28739                     7                     3                 10   \n",
       "25052                     6                     3                  3   \n",
       "7586                      9                     3                  8   \n",
       "32495                     1                     1                  0   \n",
       "19295                     6                     4                 13   \n",
       "14942                     9                     6                 12   \n",
       "20747                     5                     5                  8   \n",
       "12035                     6                     6                  8   \n",
       "8447                     10                     2                  8   \n",
       "25685                    10                     3                  7   \n",
       "28625                     4                     2                  3   \n",
       "28844                    10                     3                 10   \n",
       "30464                     5                     5                 10   \n",
       "\n",
       "            NumAppVisitsMonth  Complain  Response_Cmp1  Response_Cmp2  \\\n",
       "CustomerID                                                              \n",
       "32924                       7         0              0              0   \n",
       "8276                        2         0              0              0   \n",
       "32966                       3         0              0              0   \n",
       "5627                        3         0              0              0   \n",
       "29357                       6         0              0              1   \n",
       "26891                       6         0              1              0   \n",
       "21269                       5         0              0              0   \n",
       "32777                       3         0              1              0   \n",
       "26285                       9         0              1              0   \n",
       "5540                        9         0              0              0   \n",
       "17069                       8         0              0              0   \n",
       "12320                       7         0              0              0   \n",
       "24260                       2         0              0              0   \n",
       "6470                        1         0              0              0   \n",
       "10265                       4         0              1              0   \n",
       "21767                       7         0              0              0   \n",
       "15905                       6         0              0              0   \n",
       "28688                       7         0              0              0   \n",
       "28739                       5         0              0              0   \n",
       "25052                       7         0              0              0   \n",
       "7586                        6         0              0              0   \n",
       "32495                      20         0              1              0   \n",
       "19295                       1         0              0              0   \n",
       "14942                       3         0              0              1   \n",
       "20747                       1         0              0              0   \n",
       "12035                       5         0              0              1   \n",
       "8447                        6         0              0              0   \n",
       "25685                       9         0              0              0   \n",
       "28625                       6         0              0              0   \n",
       "28844                       4         0              0              1   \n",
       "30464                       2         0              0              0   \n",
       "\n",
       "            Response_Cmp3  Response_Cmp4  Response_Cmp5  \n",
       "CustomerID                                               \n",
       "32924                   0              0              0  \n",
       "8276                    0              0              0  \n",
       "32966                   0              0              0  \n",
       "5627                    0              0              0  \n",
       "29357                   0              0              0  \n",
       "26891                   0              0              0  \n",
       "21269                   0              0              0  \n",
       "32777                   0              0              0  \n",
       "26285                   0              0              0  \n",
       "5540                    0              0              0  \n",
       "17069                   0              0              0  \n",
       "12320                   0              0              0  \n",
       "24260                   0              0              0  \n",
       "6470                    0              0              0  \n",
       "10265                   0              0              0  \n",
       "21767                   0              0              0  \n",
       "15905                   0              0              0  \n",
       "28688                   0              0              0  \n",
       "28739                   0              0              0  \n",
       "25052                   0              0              0  \n",
       "7586                    0              0              0  \n",
       "32495                   0              0              0  \n",
       "19295                   1              0              0  \n",
       "14942                   1              1              0  \n",
       "20747                   0              0              0  \n",
       "12035                   0              1              0  \n",
       "8447                    0              0              0  \n",
       "25685                   0              0              0  \n",
       "28625                   0              0              0  \n",
       "28844                   0              0              0  \n",
       "30464                   0              0              0  "
      ]
     },
     "execution_count": 85,
     "metadata": {},
     "output_type": "execute_result"
    }
   ],
   "source": [
    "df[df.duplicated()] # checking duplicates"
   ]
  },
  {
   "cell_type": "code",
   "execution_count": 86,
   "id": "b97cf554",
   "metadata": {},
   "outputs": [],
   "source": [
    "df = df[~df.duplicated()] # drop duplicates rows"
   ]
  },
  {
   "cell_type": "markdown",
   "id": "7708f19d",
   "metadata": {},
   "source": [
    "# 2. Explore Data"
   ]
  },
  {
   "cell_type": "markdown",
   "metadata": {
    "collapsed": false
   },
   "source": [
    "## 2.0 Data profiling\n",
    "\n",
    "Se não quiserem instalar a biblioteca não corram esta secção. Caso contrário o comando para instalar é pip install ydata-profiling. No final **apagar esta secção**"
   ]
  },
  {
   "cell_type": "code",
   "execution_count": 87,
   "metadata": {
    "collapsed": false
   },
   "outputs": [],
   "source": [
    "#from ydata_profiling import ProfileReport\n",
    "#profile= ProfileReport (df, title= \"DSML_Project\")"
   ]
  },
  {
   "cell_type": "code",
   "execution_count": 88,
   "metadata": {
    "collapsed": false
   },
   "outputs": [],
   "source": [
    "#profile.to_file('DSML_profile.html')"
   ]
  },
  {
   "cell_type": "markdown",
   "id": "47f0cea9",
   "metadata": {},
   "source": [
    "## 2.1 Basic Exploration"
   ]
  },
  {
   "cell_type": "markdown",
   "id": "7a938300",
   "metadata": {},
   "source": [
    "Q: _To check the number of columns and rows_ we used `shape` _attribute_"
   ]
  },
  {
   "cell_type": "code",
   "execution_count": 89,
   "id": "6ee99fa7",
   "metadata": {},
   "outputs": [
    {
     "data": {
      "text/plain": [
       "(7000, 26)"
      ]
     },
     "execution_count": 89,
     "metadata": {},
     "output_type": "execute_result"
    }
   ],
   "source": [
    "df.shape"
   ]
  },
  {
   "cell_type": "markdown",
   "id": "c353f14d",
   "metadata": {},
   "source": [
    "> A: _The dataset has **7000 rows** and **26 columns**_"
   ]
  },
  {
   "cell_type": "markdown",
   "id": "2b265b69",
   "metadata": {},
   "source": [
    "__*Q*__: Check the name of the features of the dataset we used `columns` _attribute_"
   ]
  },
  {
   "cell_type": "code",
   "execution_count": 90,
   "id": "df65ab3c",
   "metadata": {},
   "outputs": [
    {
     "data": {
      "text/plain": [
       "Index(['Name', 'Birthyear', 'Education', 'Marital_Status', 'Income',\n",
       "       'Kid_Younger6', 'Children_6to18', 'Date_Adherence', 'Recency',\n",
       "       'MntMeat&Fish', 'MntEntries', 'MntVegan&Vegetarian', 'MntDrinks',\n",
       "       'MntDesserts', 'MntAdditionalRequests', 'NumOfferPurchases',\n",
       "       'NumAppPurchases', 'NumTakeAwayPurchases', 'NumStorePurchases',\n",
       "       'NumAppVisitsMonth', 'Complain', 'Response_Cmp1', 'Response_Cmp2',\n",
       "       'Response_Cmp3', 'Response_Cmp4', 'Response_Cmp5'],\n",
       "      dtype='object')"
      ]
     },
     "execution_count": 90,
     "metadata": {},
     "output_type": "execute_result"
    }
   ],
   "source": [
    "df.columns"
   ]
  },
  {
   "cell_type": "markdown",
   "id": "b0613146",
   "metadata": {},
   "source": [
    "> A: The dataset has the following columns/features names: <br>\n",
    "        >Index. CustomerID\n",
    "        >1. 'Name' <br>\n",
    "        >2. 'Birthyear'<br>\n",
    "        >3. 'Education'<br>\n",
    "        >4. 'Marital_Status'<br>\n",
    "        >5. 'Income'<br>\n",
    "        >6. 'Kid_Younger6'<br>\n",
    "        >7. 'Children_6to18'<br>\n",
    "        >8. 'Date_Adherence'<br>\n",
    "        >9. 'Recency'<br>\n",
    "        >10. 'MntMeat&Fish'<br>\n",
    "        >11. 'MntEntries'<br>\n",
    "        >12. 'MntVegan&Vegetarian'<br>\n",
    "        >13. 'MntDrinks'<br>\n",
    "        >14. 'MntDesserts'<br>\n",
    "        >15. 'MntAdditionalRequests'<br>\n",
    "        >16. 'NumOfferPurchases'<br>\n",
    "        >17. 'NumAppPurchases'<br>\n",
    "        >18. 'NumTakeAwayPurchases'<br>\n",
    "        >19. 'NumStorePurchases'<br>\n",
    "        >20. 'NumAppVisitsMonth'<br>\n",
    "        >21. 'Complain'<br>\n",
    "        >22. 'Response_Cmp1'<br>\n",
    "        >23. 'Response_Cmp2'<br>\n",
    "        >24. 'Response_Cmp3'<br>\n",
    "        >25. 'Response_Cmp4'<br>\n",
    "        >26. 'Response_Cmp5'<br>"
   ]
  },
  {
   "cell_type": "markdown",
   "id": "29734ade",
   "metadata": {},
   "source": [
    "Q: First glance of the dataset using `head` and `tail` methods to check the first and last 5 rows."
   ]
  },
  {
   "cell_type": "code",
   "execution_count": 91,
   "id": "3ccf8a80",
   "metadata": {},
   "outputs": [
    {
     "data": {
      "text/html": [
       "<div>\n",
       "<style scoped>\n",
       "    .dataframe tbody tr th:only-of-type {\n",
       "        vertical-align: middle;\n",
       "    }\n",
       "\n",
       "    .dataframe tbody tr th {\n",
       "        vertical-align: top;\n",
       "    }\n",
       "\n",
       "    .dataframe thead th {\n",
       "        text-align: right;\n",
       "    }\n",
       "</style>\n",
       "<table border=\"1\" class=\"dataframe\">\n",
       "  <thead>\n",
       "    <tr style=\"text-align: right;\">\n",
       "      <th></th>\n",
       "      <th>Name</th>\n",
       "      <th>Birthyear</th>\n",
       "      <th>Education</th>\n",
       "      <th>Marital_Status</th>\n",
       "      <th>Income</th>\n",
       "      <th>Kid_Younger6</th>\n",
       "      <th>Children_6to18</th>\n",
       "      <th>Date_Adherence</th>\n",
       "      <th>Recency</th>\n",
       "      <th>MntMeat&amp;Fish</th>\n",
       "      <th>MntEntries</th>\n",
       "      <th>MntVegan&amp;Vegetarian</th>\n",
       "      <th>MntDrinks</th>\n",
       "      <th>MntDesserts</th>\n",
       "      <th>MntAdditionalRequests</th>\n",
       "      <th>NumOfferPurchases</th>\n",
       "      <th>NumAppPurchases</th>\n",
       "      <th>NumTakeAwayPurchases</th>\n",
       "      <th>NumStorePurchases</th>\n",
       "      <th>NumAppVisitsMonth</th>\n",
       "      <th>Complain</th>\n",
       "      <th>Response_Cmp1</th>\n",
       "      <th>Response_Cmp2</th>\n",
       "      <th>Response_Cmp3</th>\n",
       "      <th>Response_Cmp4</th>\n",
       "      <th>Response_Cmp5</th>\n",
       "    </tr>\n",
       "    <tr>\n",
       "      <th>CustomerID</th>\n",
       "      <th></th>\n",
       "      <th></th>\n",
       "      <th></th>\n",
       "      <th></th>\n",
       "      <th></th>\n",
       "      <th></th>\n",
       "      <th></th>\n",
       "      <th></th>\n",
       "      <th></th>\n",
       "      <th></th>\n",
       "      <th></th>\n",
       "      <th></th>\n",
       "      <th></th>\n",
       "      <th></th>\n",
       "      <th></th>\n",
       "      <th></th>\n",
       "      <th></th>\n",
       "      <th></th>\n",
       "      <th></th>\n",
       "      <th></th>\n",
       "      <th></th>\n",
       "      <th></th>\n",
       "      <th></th>\n",
       "      <th></th>\n",
       "      <th></th>\n",
       "      <th></th>\n",
       "    </tr>\n",
       "  </thead>\n",
       "  <tbody>\n",
       "    <tr>\n",
       "      <th>14594</th>\n",
       "      <td>Miss Leah Lewis</td>\n",
       "      <td>1981</td>\n",
       "      <td>Graduation</td>\n",
       "      <td>Single</td>\n",
       "      <td>113947.0</td>\n",
       "      <td>0</td>\n",
       "      <td>0</td>\n",
       "      <td>2021-01-09 00:00:00</td>\n",
       "      <td>43.0</td>\n",
       "      <td>4640.0</td>\n",
       "      <td>3380</td>\n",
       "      <td>5700.0</td>\n",
       "      <td>2240.0</td>\n",
       "      <td>562.0</td>\n",
       "      <td>154.0</td>\n",
       "      <td>2</td>\n",
       "      <td>10</td>\n",
       "      <td>7</td>\n",
       "      <td>7</td>\n",
       "      <td>4</td>\n",
       "      <td>0</td>\n",
       "      <td>0</td>\n",
       "      <td>1</td>\n",
       "      <td>0</td>\n",
       "      <td>0</td>\n",
       "      <td>0</td>\n",
       "    </tr>\n",
       "    <tr>\n",
       "      <th>19070</th>\n",
       "      <td>Miss Grace Black</td>\n",
       "      <td>1974</td>\n",
       "      <td>Graduation</td>\n",
       "      <td>Together</td>\n",
       "      <td>114297.0</td>\n",
       "      <td>0</td>\n",
       "      <td>0</td>\n",
       "      <td>2021-04-10 00:00:00</td>\n",
       "      <td>74.0</td>\n",
       "      <td>7080.0</td>\n",
       "      <td>3680</td>\n",
       "      <td>7620.0</td>\n",
       "      <td>1840.0</td>\n",
       "      <td>1220.0</td>\n",
       "      <td>46.0</td>\n",
       "      <td>1</td>\n",
       "      <td>5</td>\n",
       "      <td>9</td>\n",
       "      <td>12</td>\n",
       "      <td>2</td>\n",
       "      <td>0</td>\n",
       "      <td>0</td>\n",
       "      <td>0</td>\n",
       "      <td>0</td>\n",
       "      <td>0</td>\n",
       "      <td>0</td>\n",
       "    </tr>\n",
       "    <tr>\n",
       "      <th>29888</th>\n",
       "      <td>Mr. Gavin Morrison</td>\n",
       "      <td>1960</td>\n",
       "      <td>PhD</td>\n",
       "      <td>Together</td>\n",
       "      <td>115476.0</td>\n",
       "      <td>0</td>\n",
       "      <td>0</td>\n",
       "      <td>2022-01-12 00:00:00</td>\n",
       "      <td>85.0</td>\n",
       "      <td>4130.0</td>\n",
       "      <td>380</td>\n",
       "      <td>4890.0</td>\n",
       "      <td>3640.0</td>\n",
       "      <td>380.0</td>\n",
       "      <td>28.0</td>\n",
       "      <td>1</td>\n",
       "      <td>5</td>\n",
       "      <td>5</td>\n",
       "      <td>7</td>\n",
       "      <td>1</td>\n",
       "      <td>0</td>\n",
       "      <td>0</td>\n",
       "      <td>0</td>\n",
       "      <td>0</td>\n",
       "      <td>0</td>\n",
       "      <td>0</td>\n",
       "    </tr>\n",
       "  </tbody>\n",
       "</table>\n",
       "</div>"
      ],
      "text/plain": [
       "                          Name  Birthyear   Education Marital_Status  \\\n",
       "CustomerID                                                             \n",
       "14594          Miss Leah Lewis       1981  Graduation         Single   \n",
       "19070         Miss Grace Black       1974  Graduation       Together   \n",
       "29888       Mr. Gavin Morrison       1960         PhD       Together   \n",
       "\n",
       "              Income  Kid_Younger6  Children_6to18       Date_Adherence  \\\n",
       "CustomerID                                                                \n",
       "14594       113947.0             0               0  2021-01-09 00:00:00   \n",
       "19070       114297.0             0               0  2021-04-10 00:00:00   \n",
       "29888       115476.0             0               0  2022-01-12 00:00:00   \n",
       "\n",
       "            Recency  MntMeat&Fish  MntEntries  MntVegan&Vegetarian  MntDrinks  \\\n",
       "CustomerID                                                                      \n",
       "14594          43.0        4640.0        3380               5700.0     2240.0   \n",
       "19070          74.0        7080.0        3680               7620.0     1840.0   \n",
       "29888          85.0        4130.0         380               4890.0     3640.0   \n",
       "\n",
       "            MntDesserts  MntAdditionalRequests  NumOfferPurchases  \\\n",
       "CustomerID                                                          \n",
       "14594             562.0                  154.0                  2   \n",
       "19070            1220.0                   46.0                  1   \n",
       "29888             380.0                   28.0                  1   \n",
       "\n",
       "            NumAppPurchases  NumTakeAwayPurchases  NumStorePurchases  \\\n",
       "CustomerID                                                             \n",
       "14594                    10                     7                  7   \n",
       "19070                     5                     9                 12   \n",
       "29888                     5                     5                  7   \n",
       "\n",
       "            NumAppVisitsMonth  Complain  Response_Cmp1  Response_Cmp2  \\\n",
       "CustomerID                                                              \n",
       "14594                       4         0              0              1   \n",
       "19070                       2         0              0              0   \n",
       "29888                       1         0              0              0   \n",
       "\n",
       "            Response_Cmp3  Response_Cmp4  Response_Cmp5  \n",
       "CustomerID                                               \n",
       "14594                   0              0              0  \n",
       "19070                   0              0              0  \n",
       "29888                   0              0              0  "
      ]
     },
     "execution_count": 91,
     "metadata": {},
     "output_type": "execute_result"
    }
   ],
   "source": [
    "df.head(3)"
   ]
  },
  {
   "cell_type": "code",
   "execution_count": 92,
   "id": "bf42f408",
   "metadata": {},
   "outputs": [
    {
     "data": {
      "text/html": [
       "<div>\n",
       "<style scoped>\n",
       "    .dataframe tbody tr th:only-of-type {\n",
       "        vertical-align: middle;\n",
       "    }\n",
       "\n",
       "    .dataframe tbody tr th {\n",
       "        vertical-align: top;\n",
       "    }\n",
       "\n",
       "    .dataframe thead th {\n",
       "        text-align: right;\n",
       "    }\n",
       "</style>\n",
       "<table border=\"1\" class=\"dataframe\">\n",
       "  <thead>\n",
       "    <tr style=\"text-align: right;\">\n",
       "      <th></th>\n",
       "      <th>Name</th>\n",
       "      <th>Birthyear</th>\n",
       "      <th>Education</th>\n",
       "      <th>Marital_Status</th>\n",
       "      <th>Income</th>\n",
       "      <th>Kid_Younger6</th>\n",
       "      <th>Children_6to18</th>\n",
       "      <th>Date_Adherence</th>\n",
       "      <th>Recency</th>\n",
       "      <th>MntMeat&amp;Fish</th>\n",
       "      <th>MntEntries</th>\n",
       "      <th>MntVegan&amp;Vegetarian</th>\n",
       "      <th>MntDrinks</th>\n",
       "      <th>MntDesserts</th>\n",
       "      <th>MntAdditionalRequests</th>\n",
       "      <th>NumOfferPurchases</th>\n",
       "      <th>NumAppPurchases</th>\n",
       "      <th>NumTakeAwayPurchases</th>\n",
       "      <th>NumStorePurchases</th>\n",
       "      <th>NumAppVisitsMonth</th>\n",
       "      <th>Complain</th>\n",
       "      <th>Response_Cmp1</th>\n",
       "      <th>Response_Cmp2</th>\n",
       "      <th>Response_Cmp3</th>\n",
       "      <th>Response_Cmp4</th>\n",
       "      <th>Response_Cmp5</th>\n",
       "    </tr>\n",
       "    <tr>\n",
       "      <th>CustomerID</th>\n",
       "      <th></th>\n",
       "      <th></th>\n",
       "      <th></th>\n",
       "      <th></th>\n",
       "      <th></th>\n",
       "      <th></th>\n",
       "      <th></th>\n",
       "      <th></th>\n",
       "      <th></th>\n",
       "      <th></th>\n",
       "      <th></th>\n",
       "      <th></th>\n",
       "      <th></th>\n",
       "      <th></th>\n",
       "      <th></th>\n",
       "      <th></th>\n",
       "      <th></th>\n",
       "      <th></th>\n",
       "      <th></th>\n",
       "      <th></th>\n",
       "      <th></th>\n",
       "      <th></th>\n",
       "      <th></th>\n",
       "      <th></th>\n",
       "      <th></th>\n",
       "      <th></th>\n",
       "    </tr>\n",
       "  </thead>\n",
       "  <tbody>\n",
       "    <tr>\n",
       "      <th>29186</th>\n",
       "      <td>Mr. Thomas Churchill</td>\n",
       "      <td>1967</td>\n",
       "      <td>PhD</td>\n",
       "      <td>Together</td>\n",
       "      <td>56039.0</td>\n",
       "      <td>0</td>\n",
       "      <td>1</td>\n",
       "      <td>2021-12-15 00:00:00</td>\n",
       "      <td>30.0</td>\n",
       "      <td>540.0</td>\n",
       "      <td>0</td>\n",
       "      <td>135.0</td>\n",
       "      <td>0.0</td>\n",
       "      <td>0.0</td>\n",
       "      <td>5.0</td>\n",
       "      <td>2</td>\n",
       "      <td>3</td>\n",
       "      <td>1</td>\n",
       "      <td>4</td>\n",
       "      <td>6</td>\n",
       "      <td>0</td>\n",
       "      <td>0</td>\n",
       "      <td>0</td>\n",
       "      <td>0</td>\n",
       "      <td>0</td>\n",
       "      <td>0</td>\n",
       "    </tr>\n",
       "    <tr>\n",
       "      <th>23312</th>\n",
       "      <td>Miss Angela Murray</td>\n",
       "      <td>1989</td>\n",
       "      <td>Graduation</td>\n",
       "      <td>Single</td>\n",
       "      <td>44867.0</td>\n",
       "      <td>1</td>\n",
       "      <td>0</td>\n",
       "      <td>2020-11-12 00:00:00</td>\n",
       "      <td>8.0</td>\n",
       "      <td>80.0</td>\n",
       "      <td>120</td>\n",
       "      <td>210.0</td>\n",
       "      <td>120.0</td>\n",
       "      <td>100.0</td>\n",
       "      <td>17.0</td>\n",
       "      <td>1</td>\n",
       "      <td>3</td>\n",
       "      <td>1</td>\n",
       "      <td>3</td>\n",
       "      <td>8</td>\n",
       "      <td>0</td>\n",
       "      <td>0</td>\n",
       "      <td>0</td>\n",
       "      <td>0</td>\n",
       "      <td>0</td>\n",
       "      <td>0</td>\n",
       "    </tr>\n",
       "    <tr>\n",
       "      <th>15581</th>\n",
       "      <td>Miss Diana Taylor</td>\n",
       "      <td>1960</td>\n",
       "      <td>Graduation</td>\n",
       "      <td>Single</td>\n",
       "      <td>124379.0</td>\n",
       "      <td>0</td>\n",
       "      <td>0</td>\n",
       "      <td>2021-02-04 00:00:00</td>\n",
       "      <td>80.0</td>\n",
       "      <td>7280.0</td>\n",
       "      <td>422</td>\n",
       "      <td>1692.0</td>\n",
       "      <td>3760.0</td>\n",
       "      <td>1880.0</td>\n",
       "      <td>235.0</td>\n",
       "      <td>1</td>\n",
       "      <td>6</td>\n",
       "      <td>12</td>\n",
       "      <td>11</td>\n",
       "      <td>2</td>\n",
       "      <td>0</td>\n",
       "      <td>0</td>\n",
       "      <td>0</td>\n",
       "      <td>1</td>\n",
       "      <td>1</td>\n",
       "      <td>0</td>\n",
       "    </tr>\n",
       "  </tbody>\n",
       "</table>\n",
       "</div>"
      ],
      "text/plain": [
       "                            Name  Birthyear   Education Marital_Status  \\\n",
       "CustomerID                                                               \n",
       "29186       Mr. Thomas Churchill       1967         PhD       Together   \n",
       "23312         Miss Angela Murray       1989  Graduation         Single   \n",
       "15581          Miss Diana Taylor       1960  Graduation         Single   \n",
       "\n",
       "              Income  Kid_Younger6  Children_6to18       Date_Adherence  \\\n",
       "CustomerID                                                                \n",
       "29186        56039.0             0               1  2021-12-15 00:00:00   \n",
       "23312        44867.0             1               0  2020-11-12 00:00:00   \n",
       "15581       124379.0             0               0  2021-02-04 00:00:00   \n",
       "\n",
       "            Recency  MntMeat&Fish  MntEntries  MntVegan&Vegetarian  MntDrinks  \\\n",
       "CustomerID                                                                      \n",
       "29186          30.0         540.0           0                135.0        0.0   \n",
       "23312           8.0          80.0         120                210.0      120.0   \n",
       "15581          80.0        7280.0         422               1692.0     3760.0   \n",
       "\n",
       "            MntDesserts  MntAdditionalRequests  NumOfferPurchases  \\\n",
       "CustomerID                                                          \n",
       "29186               0.0                    5.0                  2   \n",
       "23312             100.0                   17.0                  1   \n",
       "15581            1880.0                  235.0                  1   \n",
       "\n",
       "            NumAppPurchases  NumTakeAwayPurchases  NumStorePurchases  \\\n",
       "CustomerID                                                             \n",
       "29186                     3                     1                  4   \n",
       "23312                     3                     1                  3   \n",
       "15581                     6                    12                 11   \n",
       "\n",
       "            NumAppVisitsMonth  Complain  Response_Cmp1  Response_Cmp2  \\\n",
       "CustomerID                                                              \n",
       "29186                       6         0              0              0   \n",
       "23312                       8         0              0              0   \n",
       "15581                       2         0              0              0   \n",
       "\n",
       "            Response_Cmp3  Response_Cmp4  Response_Cmp5  \n",
       "CustomerID                                               \n",
       "29186                   0              0              0  \n",
       "23312                   0              0              0  \n",
       "15581                   1              1              0  "
      ]
     },
     "execution_count": 92,
     "metadata": {},
     "output_type": "execute_result"
    }
   ],
   "source": [
    "df.tail(3)"
   ]
  },
  {
   "cell_type": "markdown",
   "id": "ced4cb06",
   "metadata": {},
   "source": [
    "Q: To check the basic information of the dataset we've used the `info` method"
   ]
  },
  {
   "cell_type": "code",
   "execution_count": 93,
   "id": "cedc7804",
   "metadata": {},
   "outputs": [
    {
     "name": "stdout",
     "output_type": "stream",
     "text": [
      "<class 'pandas.core.frame.DataFrame'>\n",
      "Int64Index: 7000 entries, 14594 to 15581\n",
      "Data columns (total 26 columns):\n",
      " #   Column                 Non-Null Count  Dtype  \n",
      "---  ------                 --------------  -----  \n",
      " 0   Name                   7000 non-null   object \n",
      " 1   Birthyear              7000 non-null   int64  \n",
      " 2   Education              6986 non-null   object \n",
      " 3   Marital_Status         7000 non-null   object \n",
      " 4   Income                 7000 non-null   float64\n",
      " 5   Kid_Younger6           7000 non-null   int64  \n",
      " 6   Children_6to18         7000 non-null   int64  \n",
      " 7   Date_Adherence         7000 non-null   object \n",
      " 8   Recency                6977 non-null   float64\n",
      " 9   MntMeat&Fish           7000 non-null   float64\n",
      " 10  MntEntries             7000 non-null   int64  \n",
      " 11  MntVegan&Vegetarian    7000 non-null   float64\n",
      " 12  MntDrinks              6972 non-null   float64\n",
      " 13  MntDesserts            7000 non-null   float64\n",
      " 14  MntAdditionalRequests  7000 non-null   float64\n",
      " 15  NumOfferPurchases      7000 non-null   int64  \n",
      " 16  NumAppPurchases        7000 non-null   int64  \n",
      " 17  NumTakeAwayPurchases   7000 non-null   int64  \n",
      " 18  NumStorePurchases      7000 non-null   int64  \n",
      " 19  NumAppVisitsMonth      7000 non-null   int64  \n",
      " 20  Complain               7000 non-null   int64  \n",
      " 21  Response_Cmp1          7000 non-null   int64  \n",
      " 22  Response_Cmp2          7000 non-null   int64  \n",
      " 23  Response_Cmp3          7000 non-null   int64  \n",
      " 24  Response_Cmp4          7000 non-null   int64  \n",
      " 25  Response_Cmp5          7000 non-null   int64  \n",
      "dtypes: float64(7), int64(15), object(4)\n",
      "memory usage: 1.4+ MB\n"
     ]
    }
   ],
   "source": [
    "df.info()"
   ]
  },
  {
   "cell_type": "markdown",
   "id": "6794da09",
   "metadata": {},
   "source": [
    ">A: We can observe the data type of the dataset and the how many of features per data type  `dtypes: float64 - (7), int64 - (15), object - (4)`, the memory usage of `1.4+MB`, and the non-null values present per columns. <br>\n",
    "> Using only `info` method we understand that `'Education', 'Recency', 'MntDrinks'` have __14, 23, 28 null values__ that require some action."
   ]
  },
  {
   "cell_type": "markdown",
   "id": "87889183",
   "metadata": {},
   "source": [
    "# 2.2 Statistical Exploration"
   ]
  },
  {
   "cell_type": "markdown",
   "id": "849f7658",
   "metadata": {},
   "source": [
    "## 2.2.1 Numerical Variables"
   ]
  },
  {
   "cell_type": "code",
   "execution_count": 94,
   "id": "121f1c74",
   "metadata": {},
   "outputs": [
    {
     "data": {
      "text/html": [
       "<div>\n",
       "<style scoped>\n",
       "    .dataframe tbody tr th:only-of-type {\n",
       "        vertical-align: middle;\n",
       "    }\n",
       "\n",
       "    .dataframe tbody tr th {\n",
       "        vertical-align: top;\n",
       "    }\n",
       "\n",
       "    .dataframe thead th {\n",
       "        text-align: right;\n",
       "    }\n",
       "</style>\n",
       "<table border=\"1\" class=\"dataframe\">\n",
       "  <thead>\n",
       "    <tr style=\"text-align: right;\">\n",
       "      <th></th>\n",
       "      <th>Birthyear</th>\n",
       "      <th>Income</th>\n",
       "      <th>Kid_Younger6</th>\n",
       "      <th>Children_6to18</th>\n",
       "      <th>Recency</th>\n",
       "      <th>MntMeat&amp;Fish</th>\n",
       "      <th>MntEntries</th>\n",
       "      <th>MntVegan&amp;Vegetarian</th>\n",
       "      <th>MntDrinks</th>\n",
       "      <th>MntDesserts</th>\n",
       "      <th>MntAdditionalRequests</th>\n",
       "      <th>NumOfferPurchases</th>\n",
       "      <th>NumAppPurchases</th>\n",
       "      <th>NumTakeAwayPurchases</th>\n",
       "      <th>NumStorePurchases</th>\n",
       "      <th>NumAppVisitsMonth</th>\n",
       "      <th>Complain</th>\n",
       "      <th>Response_Cmp1</th>\n",
       "      <th>Response_Cmp2</th>\n",
       "      <th>Response_Cmp3</th>\n",
       "      <th>Response_Cmp4</th>\n",
       "      <th>Response_Cmp5</th>\n",
       "    </tr>\n",
       "  </thead>\n",
       "  <tbody>\n",
       "    <tr>\n",
       "      <th>count</th>\n",
       "      <td>7000.000000</td>\n",
       "      <td>7000.000000</td>\n",
       "      <td>7000.000000</td>\n",
       "      <td>7000.000000</td>\n",
       "      <td>6977.000000</td>\n",
       "      <td>7000.000000</td>\n",
       "      <td>7000.000000</td>\n",
       "      <td>7000.000000</td>\n",
       "      <td>6972.000000</td>\n",
       "      <td>7000.000000</td>\n",
       "      <td>7000.000000</td>\n",
       "      <td>7000.000000</td>\n",
       "      <td>7000.000000</td>\n",
       "      <td>7000.000000</td>\n",
       "      <td>7000.000000</td>\n",
       "      <td>7000.000000</td>\n",
       "      <td>7000.000000</td>\n",
       "      <td>7000.000000</td>\n",
       "      <td>7000.000000</td>\n",
       "      <td>7000.000000</td>\n",
       "      <td>7000.000000</td>\n",
       "      <td>7000.000000</td>\n",
       "    </tr>\n",
       "    <tr>\n",
       "      <th>mean</th>\n",
       "      <td>1976.451429</td>\n",
       "      <td>77988.962407</td>\n",
       "      <td>0.440571</td>\n",
       "      <td>0.490571</td>\n",
       "      <td>49.235058</td>\n",
       "      <td>3079.523800</td>\n",
       "      <td>534.749429</td>\n",
       "      <td>2785.050786</td>\n",
       "      <td>545.657544</td>\n",
       "      <td>540.656029</td>\n",
       "      <td>42.556186</td>\n",
       "      <td>2.448429</td>\n",
       "      <td>6.015714</td>\n",
       "      <td>3.834571</td>\n",
       "      <td>5.790571</td>\n",
       "      <td>5.278286</td>\n",
       "      <td>0.010286</td>\n",
       "      <td>0.079143</td>\n",
       "      <td>0.073286</td>\n",
       "      <td>0.083000</td>\n",
       "      <td>0.065857</td>\n",
       "      <td>0.014286</td>\n",
       "    </tr>\n",
       "    <tr>\n",
       "      <th>std</th>\n",
       "      <td>11.996270</td>\n",
       "      <td>35409.810253</td>\n",
       "      <td>0.543477</td>\n",
       "      <td>0.542174</td>\n",
       "      <td>28.922688</td>\n",
       "      <td>3370.377166</td>\n",
       "      <td>787.846684</td>\n",
       "      <td>3908.718244</td>\n",
       "      <td>805.149088</td>\n",
       "      <td>802.221866</td>\n",
       "      <td>49.650747</td>\n",
       "      <td>2.306968</td>\n",
       "      <td>2.745537</td>\n",
       "      <td>3.331142</td>\n",
       "      <td>3.295708</td>\n",
       "      <td>2.748596</td>\n",
       "      <td>0.100903</td>\n",
       "      <td>0.269981</td>\n",
       "      <td>0.260624</td>\n",
       "      <td>0.275902</td>\n",
       "      <td>0.248050</td>\n",
       "      <td>0.118675</td>\n",
       "    </tr>\n",
       "    <tr>\n",
       "      <th>min</th>\n",
       "      <td>1948.000000</td>\n",
       "      <td>2493.800000</td>\n",
       "      <td>0.000000</td>\n",
       "      <td>0.000000</td>\n",
       "      <td>0.000000</td>\n",
       "      <td>0.000000</td>\n",
       "      <td>0.000000</td>\n",
       "      <td>0.000000</td>\n",
       "      <td>0.000000</td>\n",
       "      <td>0.000000</td>\n",
       "      <td>0.000000</td>\n",
       "      <td>0.000000</td>\n",
       "      <td>0.000000</td>\n",
       "      <td>0.000000</td>\n",
       "      <td>0.000000</td>\n",
       "      <td>0.000000</td>\n",
       "      <td>0.000000</td>\n",
       "      <td>0.000000</td>\n",
       "      <td>0.000000</td>\n",
       "      <td>0.000000</td>\n",
       "      <td>0.000000</td>\n",
       "      <td>0.000000</td>\n",
       "    </tr>\n",
       "    <tr>\n",
       "      <th>25%</th>\n",
       "      <td>1967.000000</td>\n",
       "      <td>51586.250000</td>\n",
       "      <td>0.000000</td>\n",
       "      <td>0.000000</td>\n",
       "      <td>24.000000</td>\n",
       "      <td>250.000000</td>\n",
       "      <td>40.000000</td>\n",
       "      <td>240.000000</td>\n",
       "      <td>40.000000</td>\n",
       "      <td>40.000000</td>\n",
       "      <td>9.000000</td>\n",
       "      <td>1.000000</td>\n",
       "      <td>4.000000</td>\n",
       "      <td>1.000000</td>\n",
       "      <td>3.000000</td>\n",
       "      <td>3.000000</td>\n",
       "      <td>0.000000</td>\n",
       "      <td>0.000000</td>\n",
       "      <td>0.000000</td>\n",
       "      <td>0.000000</td>\n",
       "      <td>0.000000</td>\n",
       "      <td>0.000000</td>\n",
       "    </tr>\n",
       "    <tr>\n",
       "      <th>50%</th>\n",
       "      <td>1977.000000</td>\n",
       "      <td>77190.000000</td>\n",
       "      <td>0.000000</td>\n",
       "      <td>0.000000</td>\n",
       "      <td>49.000000</td>\n",
       "      <td>1820.000000</td>\n",
       "      <td>180.000000</td>\n",
       "      <td>1110.000000</td>\n",
       "      <td>180.000000</td>\n",
       "      <td>180.000000</td>\n",
       "      <td>24.000000</td>\n",
       "      <td>2.000000</td>\n",
       "      <td>6.000000</td>\n",
       "      <td>3.000000</td>\n",
       "      <td>5.000000</td>\n",
       "      <td>5.000000</td>\n",
       "      <td>0.000000</td>\n",
       "      <td>0.000000</td>\n",
       "      <td>0.000000</td>\n",
       "      <td>0.000000</td>\n",
       "      <td>0.000000</td>\n",
       "      <td>0.000000</td>\n",
       "    </tr>\n",
       "    <tr>\n",
       "      <th>75%</th>\n",
       "      <td>1985.000000</td>\n",
       "      <td>102016.250000</td>\n",
       "      <td>1.000000</td>\n",
       "      <td>1.000000</td>\n",
       "      <td>74.000000</td>\n",
       "      <td>5070.000000</td>\n",
       "      <td>680.000000</td>\n",
       "      <td>3795.000000</td>\n",
       "      <td>700.000000</td>\n",
       "      <td>680.000000</td>\n",
       "      <td>57.000000</td>\n",
       "      <td>3.000000</td>\n",
       "      <td>8.000000</td>\n",
       "      <td>5.000000</td>\n",
       "      <td>8.000000</td>\n",
       "      <td>7.000000</td>\n",
       "      <td>0.000000</td>\n",
       "      <td>0.000000</td>\n",
       "      <td>0.000000</td>\n",
       "      <td>0.000000</td>\n",
       "      <td>0.000000</td>\n",
       "      <td>0.000000</td>\n",
       "    </tr>\n",
       "    <tr>\n",
       "      <th>max</th>\n",
       "      <td>2005.000000</td>\n",
       "      <td>237639.725000</td>\n",
       "      <td>2.000000</td>\n",
       "      <td>2.000000</td>\n",
       "      <td>99.000000</td>\n",
       "      <td>14980.000000</td>\n",
       "      <td>3980.000000</td>\n",
       "      <td>25974.000000</td>\n",
       "      <td>3980.000000</td>\n",
       "      <td>3980.000000</td>\n",
       "      <td>249.000000</td>\n",
       "      <td>16.000000</td>\n",
       "      <td>13.000000</td>\n",
       "      <td>24.000000</td>\n",
       "      <td>13.000000</td>\n",
       "      <td>20.000000</td>\n",
       "      <td>1.000000</td>\n",
       "      <td>1.000000</td>\n",
       "      <td>1.000000</td>\n",
       "      <td>1.000000</td>\n",
       "      <td>1.000000</td>\n",
       "      <td>1.000000</td>\n",
       "    </tr>\n",
       "  </tbody>\n",
       "</table>\n",
       "</div>"
      ],
      "text/plain": [
       "         Birthyear         Income  Kid_Younger6  Children_6to18      Recency  \\\n",
       "count  7000.000000    7000.000000   7000.000000     7000.000000  6977.000000   \n",
       "mean   1976.451429   77988.962407      0.440571        0.490571    49.235058   \n",
       "std      11.996270   35409.810253      0.543477        0.542174    28.922688   \n",
       "min    1948.000000    2493.800000      0.000000        0.000000     0.000000   \n",
       "25%    1967.000000   51586.250000      0.000000        0.000000    24.000000   \n",
       "50%    1977.000000   77190.000000      0.000000        0.000000    49.000000   \n",
       "75%    1985.000000  102016.250000      1.000000        1.000000    74.000000   \n",
       "max    2005.000000  237639.725000      2.000000        2.000000    99.000000   \n",
       "\n",
       "       MntMeat&Fish   MntEntries  MntVegan&Vegetarian    MntDrinks  \\\n",
       "count   7000.000000  7000.000000          7000.000000  6972.000000   \n",
       "mean    3079.523800   534.749429          2785.050786   545.657544   \n",
       "std     3370.377166   787.846684          3908.718244   805.149088   \n",
       "min        0.000000     0.000000             0.000000     0.000000   \n",
       "25%      250.000000    40.000000           240.000000    40.000000   \n",
       "50%     1820.000000   180.000000          1110.000000   180.000000   \n",
       "75%     5070.000000   680.000000          3795.000000   700.000000   \n",
       "max    14980.000000  3980.000000         25974.000000  3980.000000   \n",
       "\n",
       "       MntDesserts  MntAdditionalRequests  NumOfferPurchases  NumAppPurchases  \\\n",
       "count  7000.000000            7000.000000        7000.000000      7000.000000   \n",
       "mean    540.656029              42.556186           2.448429         6.015714   \n",
       "std     802.221866              49.650747           2.306968         2.745537   \n",
       "min       0.000000               0.000000           0.000000         0.000000   \n",
       "25%      40.000000               9.000000           1.000000         4.000000   \n",
       "50%     180.000000              24.000000           2.000000         6.000000   \n",
       "75%     680.000000              57.000000           3.000000         8.000000   \n",
       "max    3980.000000             249.000000          16.000000        13.000000   \n",
       "\n",
       "       NumTakeAwayPurchases  NumStorePurchases  NumAppVisitsMonth  \\\n",
       "count           7000.000000        7000.000000        7000.000000   \n",
       "mean               3.834571           5.790571           5.278286   \n",
       "std                3.331142           3.295708           2.748596   \n",
       "min                0.000000           0.000000           0.000000   \n",
       "25%                1.000000           3.000000           3.000000   \n",
       "50%                3.000000           5.000000           5.000000   \n",
       "75%                5.000000           8.000000           7.000000   \n",
       "max               24.000000          13.000000          20.000000   \n",
       "\n",
       "          Complain  Response_Cmp1  Response_Cmp2  Response_Cmp3  \\\n",
       "count  7000.000000    7000.000000    7000.000000    7000.000000   \n",
       "mean      0.010286       0.079143       0.073286       0.083000   \n",
       "std       0.100903       0.269981       0.260624       0.275902   \n",
       "min       0.000000       0.000000       0.000000       0.000000   \n",
       "25%       0.000000       0.000000       0.000000       0.000000   \n",
       "50%       0.000000       0.000000       0.000000       0.000000   \n",
       "75%       0.000000       0.000000       0.000000       0.000000   \n",
       "max       1.000000       1.000000       1.000000       1.000000   \n",
       "\n",
       "       Response_Cmp4  Response_Cmp5  \n",
       "count    7000.000000    7000.000000  \n",
       "mean        0.065857       0.014286  \n",
       "std         0.248050       0.118675  \n",
       "min         0.000000       0.000000  \n",
       "25%         0.000000       0.000000  \n",
       "50%         0.000000       0.000000  \n",
       "75%         0.000000       0.000000  \n",
       "max         1.000000       1.000000  "
      ]
     },
     "execution_count": 94,
     "metadata": {},
     "output_type": "execute_result"
    }
   ],
   "source": [
    "df.describe()"
   ]
  },
  {
   "cell_type": "markdown",
   "metadata": {
    "collapsed": false
   },
   "source": [
    "> _The describe return we can get a first glance and make some conclusion:_\n",
    "\n",
    ">__Birthyear__ - could originate an Age column for readability purposes<br>\n",
    "__Income__ - Min and Max are very far from each other and far from the mean value which could indicate outliers<br>\n",
    "__Recency__ - 6977 valid values, hence we should look in deep and decide on how to minimize that effect of missing values<br>\n",
    "__MntMeat&Fish__ - Min and Max are distant from each other and have high standard deviation which could effect some future conclusion<br>\n",
    "__MntEntries__ - Again has high standard deviation that we should analyze, Min and Max far apart, similar to MntMeat&Fish<br>\n",
    "__MntVegan&Vegetarian__ - Similar to the previous two Mnt columns<br>\n",
    "__MntDrinks, MntDesserts__ - Seems to be very similar between them<br>\n",
    "__MntAdditionalRequests__ - The max value standard deviation seems high and also the max value very far apart from the mean<br>\n",
    "__NumOfferPurchases, NumTakeAwayPurchases, NumAppVisitsMonth__  - Have a max value to distante from the mean that could be true but we need to take into account<br>\n",
    "__NumAppPurchases, SumStorePurchases__ - Seems does not have strange summary statistcs<br>\n",
    "__Kid_Younger6, Children_6to18__ - 75% of clients have at least one child"
   ]
  },
  {
   "cell_type": "markdown",
   "metadata": {
    "collapsed": false
   },
   "source": [
    "**Q**: Skewness of each variable "
   ]
  },
  {
   "cell_type": "code",
   "execution_count": 95,
   "metadata": {
    "collapsed": false
   },
   "outputs": [
    {
     "name": "stderr",
     "output_type": "stream",
     "text": [
      "/var/folders/gt/lg95g0n95mqdr3vk5d1k062h0000gn/T/ipykernel_18227/547062910.py:1: FutureWarning: Dropping of nuisance columns in DataFrame reductions (with 'numeric_only=None') is deprecated; in a future version this will raise TypeError.  Select only valid columns before calling the reduction.\n",
      "  df.skew()\n"
     ]
    },
    {
     "data": {
      "text/plain": [
       "Birthyear               -0.092478\n",
       "Income                   0.844721\n",
       "Kid_Younger6             0.693587\n",
       "Children_6to18           0.451693\n",
       "Recency                  0.017676\n",
       "MntMeat&Fish             1.148862\n",
       "MntEntries               2.087220\n",
       "MntVegan&Vegetarian      2.486897\n",
       "MntDrinks                2.046308\n",
       "MntDesserts              2.057811\n",
       "MntAdditionalRequests    1.826522\n",
       "NumOfferPurchases        2.860514\n",
       "NumAppPurchases          0.525873\n",
       "NumTakeAwayPurchases     2.254158\n",
       "NumStorePurchases        0.623254\n",
       "NumAppVisitsMonth        1.005192\n",
       "Complain                 9.709429\n",
       "Response_Cmp1            3.118572\n",
       "Response_Cmp2            3.275500\n",
       "Response_Cmp3            3.023677\n",
       "Response_Cmp4            3.501448\n",
       "Response_Cmp5            8.187993\n",
       "dtype: float64"
      ]
     },
     "execution_count": 95,
     "metadata": {},
     "output_type": "execute_result"
    }
   ],
   "source": [
    "df.skew()"
   ]
  },
  {
   "cell_type": "markdown",
   "metadata": {
    "collapsed": false
   },
   "source": [
    "Concerning the variables' skewness, we can conclude the following:\n",
    "- `Moderate skewness (between |0.5| and |1.0|)`: Birthyear, Income, Kid_Younger6, Children_6to18, Recency, NumAppPurchases, NumStorePurchases, NumAppVisitsMonth\n",
    "- `High skewness (higher than |1.0|)`: MntMeat&Fish, MntEntries, MntVegan&Vegetarian, MntDrinks, MntDesserts, MntAdditionalRequests, NumOfferPurchases, NumTakeAwayPurchases, Complain, Response_Cmp1, Response_Cmp2, Response_Cmp3, Response_Cmp4, Response_Cmp5"
   ]
  },
  {
   "cell_type": "code",
   "execution_count": 96,
   "metadata": {
    "collapsed": false
   },
   "outputs": [
    {
     "name": "stderr",
     "output_type": "stream",
     "text": [
      "C:\\Users\\guisi\\AppData\\Local\\Temp\\ipykernel_22920\\3952544226.py:1: FutureWarning: The default value of numeric_only in DataFrame.kurt is deprecated. In a future version, it will default to False. In addition, specifying 'numeric_only=None' is deprecated. Select only valid columns or specify the value of numeric_only to silence this warning.\n",
      "  df.kurt()\n"
     ]
    },
    {
     "data": {
      "text/plain": [
       "Birthyear                -0.857341\n",
       "Income                    2.649035\n",
       "Kid_Younger6             -0.651127\n",
       "Children_6to18           -0.973333\n",
       "Recency                  -1.197978\n",
       "MntMeat&Fish              0.532098\n",
       "MntEntries                4.096167\n",
       "MntVegan&Vegetarian       8.431538\n",
       "MntDrinks                 3.839256\n",
       "MntDesserts               3.813464\n",
       "MntAdditionalRequests     3.084190\n",
       "NumOfferPurchases        10.997946\n",
       "NumAppPurchases          -0.222899\n",
       "NumTakeAwayPurchases      8.582138\n",
       "NumStorePurchases        -0.694327\n",
       "NumAppVisitsMonth         4.992870\n",
       "Complain                 92.299387\n",
       "Response_Cmp1             7.727700\n",
       "Response_Cmp2             8.731398\n",
       "Response_Cmp3             7.144665\n",
       "Response_Cmp4            10.263068\n",
       "Response_Cmp5            65.061813\n",
       "dtype: float64"
      ]
     },
     "execution_count": 96,
     "metadata": {},
     "output_type": "execute_result"
    }
   ],
   "source": [
    "df.kurt()"
   ]
  },
  {
   "cell_type": "markdown",
   "metadata": {
    "collapsed": false
   },
   "source": [
    "Features with kurtosis higher than 3 could indicate presence of outliers, hence we should have special considerantion with the following features:\n",
    ">MntEntries, MntVegan&Vegetarian, MntDrinks, MntDesserts, NumOfferPurchases, NumAppVisitsMonth\n",
    "\n",
    "Note: Binomial Variables Complain, and Response_Cmp1 the kurtosis we will not consider as outliers"
   ]
  },
  {
   "cell_type": "markdown",
   "metadata": {
    "collapsed": false
   },
   "source": [
    "## 2.2.2 Categorical Values"
   ]
  },
  {
   "cell_type": "code",
   "execution_count": 97,
   "metadata": {
    "collapsed": false
   },
   "outputs": [
    {
     "data": {
      "text/html": [
       "<div>\n",
       "<style scoped>\n",
       "    .dataframe tbody tr th:only-of-type {\n",
       "        vertical-align: middle;\n",
       "    }\n",
       "\n",
       "    .dataframe tbody tr th {\n",
       "        vertical-align: top;\n",
       "    }\n",
       "\n",
       "    .dataframe thead th {\n",
       "        text-align: right;\n",
       "    }\n",
       "</style>\n",
       "<table border=\"1\" class=\"dataframe\">\n",
       "  <thead>\n",
       "    <tr style=\"text-align: right;\">\n",
       "      <th></th>\n",
       "      <th>Name</th>\n",
       "      <th>Education</th>\n",
       "      <th>Marital_Status</th>\n",
       "      <th>Date_Adherence</th>\n",
       "    </tr>\n",
       "  </thead>\n",
       "  <tbody>\n",
       "    <tr>\n",
       "      <th>count</th>\n",
       "      <td>7000</td>\n",
       "      <td>6986</td>\n",
       "      <td>7000</td>\n",
       "      <td>7000</td>\n",
       "    </tr>\n",
       "    <tr>\n",
       "      <th>unique</th>\n",
       "      <td>6241</td>\n",
       "      <td>9</td>\n",
       "      <td>10</td>\n",
       "      <td>701</td>\n",
       "    </tr>\n",
       "    <tr>\n",
       "      <th>top</th>\n",
       "      <td>Mr. Stewart Grant</td>\n",
       "      <td>Graduation</td>\n",
       "      <td>Married</td>\n",
       "      <td>2020-09-19 00:00:00</td>\n",
       "    </tr>\n",
       "    <tr>\n",
       "      <th>freq</th>\n",
       "      <td>3</td>\n",
       "      <td>3497</td>\n",
       "      <td>2830</td>\n",
       "      <td>23</td>\n",
       "    </tr>\n",
       "  </tbody>\n",
       "</table>\n",
       "</div>"
      ],
      "text/plain": [
       "                     Name   Education Marital_Status       Date_Adherence\n",
       "count                7000        6986           7000                 7000\n",
       "unique               6241           9             10                  701\n",
       "top     Mr. Stewart Grant  Graduation        Married  2020-09-19 00:00:00\n",
       "freq                    3        3497           2830                   23"
      ]
     },
     "execution_count": 97,
     "metadata": {},
     "output_type": "execute_result"
    }
   ],
   "source": [
    "df.describe(include = object)"
   ]
  },
  {
   "cell_type": "markdown",
   "metadata": {
    "collapsed": false
   },
   "source": [
    "> We can conclude that the education as **14 missing** values"
   ]
  },
  {
   "cell_type": "markdown",
   "metadata": {
    "collapsed": false
   },
   "source": [
    "#### Level/Possible values of Categorical Features"
   ]
  },
  {
   "cell_type": "markdown",
   "metadata": {
    "collapsed": false
   },
   "source": [
    "### `Name` prefix unique values and count"
   ]
  },
  {
   "cell_type": "code",
   "execution_count": 98,
   "metadata": {
    "collapsed": false
   },
   "outputs": [
    {
     "data": {
      "text/plain": [
       "Mr.     5133\n",
       "Miss    1469\n",
       "Mrs.     398\n",
       "Name: 0, dtype: int64"
      ]
     },
     "execution_count": 98,
     "metadata": {},
     "output_type": "execute_result"
    }
   ],
   "source": [
    "df['Name'].str.partition(\" \")[0].value_counts()"
   ]
  },
  {
   "cell_type": "markdown",
   "metadata": {
    "collapsed": false
   },
   "source": [
    "With the prefix we can generate a `gender` feature to further explore the dataset. We will deal with that in the data transformation capther"
   ]
  },
  {
   "cell_type": "markdown",
   "metadata": {
    "collapsed": false
   },
   "source": [
    "#### **`Gender`** feature creation"
   ]
  },
  {
   "cell_type": "code",
   "execution_count": 99,
   "metadata": {
    "collapsed": false
   },
   "outputs": [],
   "source": [
    "df[\"Gender\"] = df['Name'].str.partition(\" \")[0]\n",
    "df = df.replace({\"Gender\":{\"Mr.\": 1,\"Miss\": 0,\"Mrs.\": 0}})"
   ]
  },
  {
   "cell_type": "markdown",
   "metadata": {
    "collapsed": false
   },
   "source": [
    "### `Education` unique values and count"
   ]
  },
  {
   "cell_type": "code",
   "execution_count": 100,
   "metadata": {
    "collapsed": false
   },
   "outputs": [
    {
     "data": {
      "text/plain": [
       "Graduation    3497\n",
       "PhD           1494\n",
       "Master        1135\n",
       "HighSchool     663\n",
       "Basic          179\n",
       "master           7\n",
       "graduation       7\n",
       "phd              2\n",
       "highschool       2\n",
       "Name: Education, dtype: int64"
      ]
     },
     "execution_count": 100,
     "metadata": {},
     "output_type": "execute_result"
    }
   ],
   "source": [
    "df[\"Education\"].value_counts()"
   ]
  },
  {
   "cell_type": "markdown",
   "metadata": {
    "collapsed": false
   },
   "source": [
    "We have some issues that will need trasformatioin:<br>\n",
    "- Graduation, Master, HighSchool are written in different ways<br>\n",
    "- `Basic` and `HighSchool` need different levels?"
   ]
  },
  {
   "cell_type": "markdown",
   "metadata": {
    "collapsed": false
   },
   "source": [
    "#### Education standardization"
   ]
  },
  {
   "cell_type": "code",
   "execution_count": 101,
   "metadata": {
    "collapsed": false
   },
   "outputs": [],
   "source": [
    "df = df.replace({\"Education\":{\"master\":\"Master\", \"graduation\":\"Graduation\", \"phd\":\"PhD\",\"highschool\":\"HighSchool\"}})"
   ]
  },
  {
   "cell_type": "markdown",
   "metadata": {
    "collapsed": false
   },
   "source": [
    "### `Marital_Status` unique values and count"
   ]
  },
  {
   "cell_type": "code",
   "execution_count": 102,
   "metadata": {
    "collapsed": false
   },
   "outputs": [
    {
     "data": {
      "text/plain": [
       "Married     2830\n",
       "Together    1683\n",
       "Single      1525\n",
       "Divorced     637\n",
       "Widow        243\n",
       "married       36\n",
       "together      23\n",
       "single        13\n",
       "divorced       8\n",
       "widow          2\n",
       "Name: Marital_Status, dtype: int64"
      ]
     },
     "execution_count": 102,
     "metadata": {},
     "output_type": "execute_result"
    }
   ],
   "source": [
    "df[\"Marital_Status\"].value_counts()"
   ]
  },
  {
   "cell_type": "markdown",
   "metadata": {
    "collapsed": false
   },
   "source": [
    "Similarly to previous feature we also have some issues that need transformation:<br>\n",
    "- Married, Together, Single, Divorced and Widow are written with lower and capital letters\n",
    "- We could also consider that Married and Together are similar and joined them in the same level<br>"
   ]
  },
  {
   "cell_type": "markdown",
   "metadata": {
    "collapsed": false
   },
   "source": [
    "#### Marital_Status standardization"
   ]
  },
  {
   "cell_type": "code",
   "execution_count": 103,
   "metadata": {
    "collapsed": false
   },
   "outputs": [
    {
     "data": {
      "text/plain": [
       "Married     4572\n",
       "Single      1538\n",
       "Divorced     645\n",
       "Widow        245\n",
       "Name: Marital_Status, dtype: int64"
      ]
     },
     "execution_count": 103,
     "metadata": {},
     "output_type": "execute_result"
    }
   ],
   "source": [
    "df = df.replace({\"Marital_Status\":{\"married\":\"Married\", \"together\":\"Married\", \"single\":\"Single\",\"widow\":\"Widow\",\"divorced\":\"Divorced\",\"Together\":\"Married\"}})\n",
    "df[\"Marital_Status\"].value_counts()"
   ]
  },
  {
   "cell_type": "markdown",
   "metadata": {
    "collapsed": false
   },
   "source": [
    "`Date_Adherence` unqiue values and count"
   ]
  },
  {
   "cell_type": "code",
   "execution_count": 104,
   "metadata": {
    "collapsed": false
   },
   "outputs": [
    {
     "data": {
      "text/plain": [
       "2020-09-19    23\n",
       "2021-08-22    20\n",
       "2021-07-30    20\n",
       "2022-05-23    20\n",
       "2021-08-21    19\n",
       "              ..\n",
       "2021-03-09     3\n",
       "2020-09-18     2\n",
       "2020-07-30     2\n",
       "2020-08-29     2\n",
       "2021-03-22     2\n",
       "Name: Date_Adherence, Length: 701, dtype: int64"
      ]
     },
     "execution_count": 104,
     "metadata": {},
     "output_type": "execute_result"
    }
   ],
   "source": [
    "df[\"Date_Adherence\"].value_counts()"
   ]
  },
  {
   "cell_type": "markdown",
   "metadata": {
    "collapsed": false
   },
   "source": [
    "`Date_Adherence` is a date and will need transformation to a date format for further exploration"
   ]
  },
  {
   "cell_type": "markdown",
   "metadata": {
    "collapsed": false
   },
   "source": [
    "## 2.3 Visual Exploration"
   ]
  },
  {
   "cell_type": "markdown",
   "metadata": {
    "collapsed": false
   },
   "source": [
    "### 2.3.1 Numerical Variables"
   ]
  },
  {
   "cell_type": "markdown",
   "metadata": {
    "collapsed": false
   },
   "source": [
    "## 2.4. In-Depth Exploration"
   ]
  },
  {
   "cell_type": "code",
   "execution_count": null,
   "metadata": {
    "collapsed": false
   },
   "outputs": [],
   "source": []
  },
  {
   "cell_type": "markdown",
   "metadata": {
    "collapsed": false
   },
   "source": [
    "# 3. Preprocess Data"
   ]
  },
  {
   "cell_type": "markdown",
   "metadata": {
    "collapsed": false
   },
   "source": [
    "## 3.1. Data Cleaning"
   ]
  },
  {
   "cell_type": "markdown",
   "metadata": {
    "collapsed": false
   },
   "source": [
    "### 3.1.1. Outliers"
   ]
  },
  {
   "cell_type": "markdown",
   "metadata": {
    "collapsed": false
   },
   "source": []
  },
  {
   "cell_type": "code",
   "execution_count": 105,
   "metadata": {
    "collapsed": false
   },
   "outputs": [],
   "source": [
    "#fig, (ax1, ax2) = plt.subplots(1, 2, figsize = (10, 5))\n",
    "#ax1.boxplot(df['MntVegan&Vegetarian'])\n",
    "#ax2.boxplot(df['Income'])"
   ]
  },
  {
   "cell_type": "code",
   "execution_count": 106,
   "metadata": {
    "collapsed": false
   },
   "outputs": [],
   "source": [
    "df.drop(df[abs(zscore(df['MntVegan&Vegetarian'])) > 3].index, inplace=True)\n",
    "df.drop(df[abs(zscore(df['Income'])) > 3].index, inplace=True)"
   ]
  },
  {
   "cell_type": "code",
   "execution_count": 107,
   "metadata": {
    "collapsed": false
   },
   "outputs": [],
   "source": [
    "#fig, (ax1, ax2) = plt.subplots(1, 2, figsize = (10, 5))\n",
    "#ax1.boxplot(df['MntVegan&Vegetarian'])\n",
    "#ax2.boxplot(df['Income'])"
   ]
  },
  {
   "cell_type": "markdown",
   "metadata": {
    "collapsed": false
   },
   "source": [
    "## 3.1.2 Skewness Correction"
   ]
  },
  {
   "cell_type": "code",
   "execution_count": 108,
   "metadata": {
    "collapsed": false
   },
   "outputs": [],
   "source": [
    "df['MntMeat&Fish'] = df['MntMeat&Fish'].apply(lambda x: np.log10(x+1))\n",
    "df['MntVegan&Vegetarian'] = df['MntVegan&Vegetarian'].apply(lambda x: np.log10(x+1))\n",
    "df['MntEntries'] = df['MntEntries'].apply(lambda x: np.log10(x+1))\n",
    "df['MntDrinks'] = df['MntDrinks'].apply(lambda x: np.log10(x+1))\n",
    "df['MntDesserts'] = df['MntDesserts'].apply(lambda x: np.log10(x+1))\n",
    "df['MntAdditionalRequests'] = df['MntAdditionalRequests'].apply(lambda x: np.log10(x+1))\n",
    "df['NumOfferPurchases'] = df['NumOfferPurchases'].apply(lambda x: np.log10(x+1))\n",
    "df['NumTakeAwayPurchases'] = df['NumTakeAwayPurchases'].apply(lambda x: np.log10(x+1))\n",
    "df['Complain'] = df['Complain'].apply(lambda x: np.log10(x+1))\n",
    "df['Response_Cmp1'] = df['Response_Cmp1'].apply(lambda x: np.log10(x+1))\n",
    "df['Response_Cmp2'] = df['Response_Cmp2'].apply(lambda x: np.log10(x+1))\n",
    "df['Response_Cmp3'] = df['Response_Cmp3'].apply(lambda x: np.log10(x+1))\n",
    "df['Response_Cmp4'] = df['Response_Cmp4'].apply(lambda x: np.log10(x+1))\n",
    "df['Response_Cmp5'] = df['Response_Cmp5'].apply(lambda x: np.log10(x+1))"
   ]
  },
  {
   "cell_type": "markdown",
   "metadata": {
    "collapsed": false
   },
   "source": [
    "### 3.1.2. Missing Values"
   ]
  },
  {
   "cell_type": "code",
   "execution_count": 109,
   "metadata": {
    "collapsed": false
   },
   "outputs": [
    {
     "data": {
      "text/plain": "True"
     },
     "execution_count": 109,
     "metadata": {},
     "output_type": "execute_result"
    }
   ],
   "source": [
    "df[\"Response_Cmp1\"].isna().sum()"
   ]
  },
  {
   "cell_type": "code",
   "execution_count": 110,
   "metadata": {
    "collapsed": false
   },
   "outputs": [
    {
     "data": {
      "text/plain": "0"
     },
     "execution_count": 26,
     "metadata": {},
     "output_type": "execute_result"
    }
   ],
   "source": [
    "df[\"Response_Cmp2\"].isna().sum()"
   ]
  },
  {
   "cell_type": "code",
   "execution_count": 27,
   "metadata": {
    "collapsed": false
   },
   "outputs": [
    {
     "data": {
      "text/plain": "0"
     },
     "execution_count": 27,
     "metadata": {},
     "output_type": "execute_result"
    }
   ],
   "source": [
    "df[\"Response_Cmp3\"].isna().sum()"
   ]
  },
  {
   "cell_type": "code",
   "execution_count": 28,
   "metadata": {
    "collapsed": false
   },
   "outputs": [
    {
     "data": {
      "text/plain": "0"
     },
     "execution_count": 28,
     "metadata": {},
     "output_type": "execute_result"
    }
   ],
   "source": [
    "df[\"Response_Cmp4\"].isna().sum()\n"
   ]
  },
  {
   "cell_type": "code",
   "execution_count": 29,
   "metadata": {
    "collapsed": false
   },
   "outputs": [
    {
     "name": "stdout",
     "output_type": "stream",
     "text": [
      "<class 'pandas.core.frame.DataFrame'>\n",
      "Int64Index: 6884 entries, 14594 to 15581\n",
      "Data columns (total 27 columns):\n",
      " #   Column                 Non-Null Count  Dtype  \n",
      "---  ------                 --------------  -----  \n",
      " 0   Name                   6884 non-null   object \n",
      " 1   Birthyear              6884 non-null   int64  \n",
      " 2   Education              6870 non-null   object \n",
      " 3   Marital_Status         6884 non-null   object \n",
      " 4   Income                 6884 non-null   float64\n",
      " 5   Kid_Younger6           6884 non-null   int64  \n",
      " 6   Children_6to18         6884 non-null   int64  \n",
      " 7   Date_Adherence         6884 non-null   object \n",
      " 8   Recency                6861 non-null   float64\n",
      " 9   MntMeat&Fish           6884 non-null   float64\n",
      " 10  MntEntries             6884 non-null   float64\n",
      " 11  MntVegan&Vegetarian    6884 non-null   float64\n",
      " 12  MntDrinks              6856 non-null   float64\n",
      " 13  MntDesserts            6884 non-null   float64\n",
      " 14  MntAdditionalRequests  6884 non-null   float64\n",
      " 15  NumOfferPurchases      6884 non-null   float64\n",
      " 16  NumAppPurchases        6884 non-null   int64  \n",
      " 17  NumTakeAwayPurchases   6884 non-null   float64\n",
      " 18  NumStorePurchases      6884 non-null   int64  \n",
      " 19  NumAppVisitsMonth      6884 non-null   int64  \n",
      " 20  Complain               6884 non-null   float64\n",
      " 21  Response_Cmp1          6884 non-null   float64\n",
      " 22  Response_Cmp2          6884 non-null   float64\n",
      " 23  Response_Cmp3          6884 non-null   float64\n",
      " 24  Response_Cmp4          6884 non-null   float64\n",
      " 25  Response_Cmp5          6884 non-null   float64\n",
      " 26  Gender                 6884 non-null   int64  \n",
      "dtypes: float64(16), int64(7), object(4)\n",
      "memory usage: 1.5+ MB\n"
     ]
    }
   ],
   "source": [
    "df.info()"
   ]
  },
  {
   "cell_type": "code",
   "execution_count": 27,
   "metadata": {
    "collapsed": false
   },
   "outputs": [
    {
     "data": {
      "text/plain": [
       "Name                      0\n",
       "Birthyear                 0\n",
       "Education                14\n",
       "Marital_Status            0\n",
       "Income                    0\n",
       "Kid_Younger6              0\n",
       "Children_6to18            0\n",
       "Date_Adherence            0\n",
       "Recency                  23\n",
       "MntMeat&Fish              0\n",
       "MntEntries                0\n",
       "MntVegan&Vegetarian       0\n",
       "MntDrinks                28\n",
       "MntDesserts               0\n",
       "MntAdditionalRequests     0\n",
       "NumOfferPurchases         0\n",
       "NumAppPurchases           0\n",
       "NumTakeAwayPurchases      0\n",
       "NumStorePurchases         0\n",
       "NumAppVisitsMonth         0\n",
       "Complain                  0\n",
       "Response_Cmp1             0\n",
       "Response_Cmp2             0\n",
       "Response_Cmp3             0\n",
       "Response_Cmp4             0\n",
       "Response_Cmp5             0\n",
       "Gender                    0\n",
       "dtype: int64"
      ]
     },
     "execution_count": 27,
     "metadata": {},
     "output_type": "execute_result"
    }
   ],
   "source": [
    "df.isna().sum()"
   ]
  },
  {
   "cell_type": "markdown",
   "metadata": {
    "collapsed": false
   },
   "source": [
    "- **`Education`**, **`Recency`**, **`MntDrinks`** and **`MntTotal`** (due to dependancy of `MntDrinks`) have missing values"
   ]
  },
  {
   "cell_type": "markdown",
   "metadata": {
    "collapsed": false
   },
   "source": [
    "#### Filling the missing values"
   ]
  },
  {
   "cell_type": "markdown",
   "metadata": {
    "collapsed": false
   },
   "source": []
  },
  {
   "cell_type": "markdown",
   "metadata": {
    "collapsed": false
   },
   "source": [
    "Fill `Education` with the mode"
   ]
  },
  {
   "cell_type": "code",
   "execution_count": 28,
   "metadata": {
    "collapsed": false
   },
   "outputs": [],
   "source": [
    "df[\"Education\"].fillna(df[\"Education\"].mode()[0], inplace = True)"
   ]
  },
  {
   "cell_type": "markdown",
   "metadata": {
    "collapsed": false
   },
   "source": [
    "Fill `Recency` with the median value"
   ]
  },
  {
   "cell_type": "code",
   "execution_count": 29,
   "metadata": {
    "collapsed": false
   },
   "outputs": [],
   "source": [
    "df[\"Recency\"].fillna(df[\"Recency\"].mean(), inplace = True)"
   ]
  },
  {
   "cell_type": "code",
   "execution_count": 30,
   "metadata": {
    "collapsed": false
   },
   "outputs": [],
   "source": [
    "df_mnt = df[[ 'MntMeat&Fish', 'MntEntries', 'MntVegan&Vegetarian', 'MntDrinks',\n",
    "       'MntDesserts', 'MntAdditionalRequests']]\n",
    "\n",
    "imputer = KNNImputer(n_neighbors=3)\n",
    "array_impute = imputer.fit_transform(df_mnt)\n",
    "df_mnt = pd.DataFrame(array_impute, columns = df_mnt.columns)"
   ]
  },
  {
   "cell_type": "code",
   "execution_count": 31,
   "metadata": {
    "collapsed": false
   },
   "outputs": [],
   "source": [
    "df[\"MntDrinks\"] = df_mnt[\"MntDrinks\"].values"
   ]
  },
  {
   "cell_type": "code",
   "execution_count": 32,
   "metadata": {
    "collapsed": false
   },
   "outputs": [],
   "source": [
    "df[\"MntTotal\"] = df['MntMeat&Fish'] + df['MntEntries'] + df['MntVegan&Vegetarian'] + df['MntDrinks'] + df['MntDesserts']"
   ]
  },
  {
   "cell_type": "code",
   "execution_count": 33,
   "metadata": {
    "collapsed": false
   },
   "outputs": [
    {
     "data": {
      "text/plain": [
       "Name                     0\n",
       "Birthyear                0\n",
       "Education                0\n",
       "Marital_Status           0\n",
       "Income                   0\n",
       "Kid_Younger6             0\n",
       "Children_6to18           0\n",
       "Date_Adherence           0\n",
       "Recency                  0\n",
       "MntMeat&Fish             0\n",
       "MntEntries               0\n",
       "MntVegan&Vegetarian      0\n",
       "MntDrinks                0\n",
       "MntDesserts              0\n",
       "MntAdditionalRequests    0\n",
       "NumOfferPurchases        0\n",
       "NumAppPurchases          0\n",
       "NumTakeAwayPurchases     0\n",
       "NumStorePurchases        0\n",
       "NumAppVisitsMonth        0\n",
       "Complain                 0\n",
       "Response_Cmp1            0\n",
       "Response_Cmp2            0\n",
       "Response_Cmp3            0\n",
       "Response_Cmp4            0\n",
       "Response_Cmp5            0\n",
       "Gender                   0\n",
       "MntTotal                 0\n",
       "dtype: int64"
      ]
     },
     "execution_count": 33,
     "metadata": {},
     "output_type": "execute_result"
    }
   ],
   "source": [
    "df.isna().sum()"
   ]
  },
  {
   "cell_type": "markdown",
   "metadata": {
    "collapsed": false
   },
   "source": [
    "## 3.2. Data Transformation"
   ]
  },
  {
   "cell_type": "markdown",
   "metadata": {
    "collapsed": false
   },
   "source": [
    "### 3.2.1. Create new Variables"
   ]
  },
  {
   "cell_type": "markdown",
   "metadata": {
    "collapsed": false
   },
   "source": [
    "### Utils"
   ]
  },
  {
   "cell_type": "markdown",
   "metadata": {
    "collapsed": false
   },
   "source": [
    "#### Creating Age variable from the Birthyear"
   ]
  },
  {
   "cell_type": "code",
   "execution_count": 34,
   "metadata": {
    "collapsed": false
   },
   "outputs": [],
   "source": [
    "df['Age'] = df.Birthyear.apply(lambda x: date.today().year-x)"
   ]
  },
  {
   "cell_type": "code",
   "execution_count": 35,
   "outputs": [],
   "source": [
    "df.drop('Age', axis= 1, inplace = True)"
   ],
   "metadata": {
    "collapsed": false
   }
  },
  {
   "cell_type": "markdown",
   "id": "a796c176",
   "metadata": {},
   "source": []
  },
  {
   "cell_type": "code",
   "execution_count": 36,
   "metadata": {
    "collapsed": false
   },
   "source": [
    "#### Creating card adherence age variable from the Date adherence"
   ]
  },
  {
   "cell_type": "code",
   "execution_count": 37,
   "metadata": {
    "collapsed": false
   },
   "outputs": [],
   "source": [
    "from datetime import datetime\n",
    "df = df.replace({\"Date_Adherence\":{\"2/29/2022\": datetime.strptime(\"2022-03-01\", '%Y-%m-%d')}}) #2022 is not a leap year, therefore 29/02/2022 is not a possible day"
   ]
  },
  {
   "cell_type": "code",
   "execution_count": 38,
   "metadata": {
    "collapsed": false
   },
   "outputs": [],
   "source": [
    "df['daysAsCardClient'] = df['Date_Adherence'].apply(lambda x: (date.today() - x.date()).days)"
   ]
  },
  {
   "cell_type": "code",
   "execution_count": 39,
   "outputs": [],
   "source": [
    "df.drop('Date_Adherence', axis= 1, inplace = True)"
   ],
   "metadata": {
    "collapsed": false
   }
  },
  {
   "cell_type": "markdown",
   "source": [
    "#### Fill Education"
   ],
   "metadata": {
    "collapsed": false
   }
  },
  {
   "cell_type": "code",
   "execution_count": 40,
   "outputs": [],
   "source": [
    "edu_encode = pd.get_dummies(df.Education, drop_first= True)\n",
    "df = pd.concat([df, edu_encode], axis = 1)"
   ],
   "metadata": {
    "collapsed": false
   }
  },
  {
   "cell_type": "code",
   "execution_count": 41,
   "metadata": {
    "collapsed": false
   },
   "outputs": [],
   "source": [
    "df.drop('Education', axis = 1, inplace = True)"
   ]
  },
  {
   "cell_type": "markdown",
   "source": [
    "#### Fill Maritial Status"
   ],
   "metadata": {
    "collapsed": false
   }
  },
  {
   "cell_type": "code",
   "execution_count": 42,
   "outputs": [],
   "source": [
    "marital_encode = pd.get_dummies(df.Marital_Status, drop_first= True)\n",
    "df = pd.concat([df, marital_encode], axis = 1)"
   ],
   "metadata": {
    "collapsed": false
   }
  },
  {
   "cell_type": "code",
   "execution_count": 43,
   "metadata": {
    "collapsed": false
   },
   "outputs": [],
   "source": [
    "marital_encode = pd.get_dummies(df.Marital_Status, drop_first= True)\n",
    "df = pd.concat([df, marital_encode], axis = 1)\n",
    "df.drop('Marital_Status', axis= 1, inplace = True)"
   ]
  },
  {
   "cell_type": "markdown",
   "source": [
    "#### Create MntTotal"
   ],
   "metadata": {
    "collapsed": false
   }
  },
  {
   "cell_type": "code",
   "execution_count": 44,
   "outputs": [
    {
     "data": {
      "text/plain": [
       "CustomerID\n",
       "14594    19.242890\n",
       "19070    19.321940\n",
       "29888    17.490921\n",
       "12221    12.145689\n",
       "21107    18.204269\n",
       "           ...    \n",
       "30686    14.183984\n",
       "17210    16.426555\n",
       "29186     5.644887\n",
       "23312    11.657932\n",
       "15581    18.939792\n",
       "Name: MntTotal, Length: 6884, dtype: float64"
      ]
     },
     "execution_count": 44,
     "metadata": {},
     "output_type": "execute_result"
    }
   ],
   "source": [
    "df[\"MntTotal\"] = df['MntMeat&Fish'] + df['MntEntries'] + df['MntVegan&Vegetarian'] + df['MntDrinks'] + df['MntDesserts'] + df['MntAdditionalRequests']\n",
    "df[\"MntTotal\"]\n",
    "# em falta Mnt Add Requests"
   ],
   "metadata": {
    "collapsed": false
   }
  },
  {
   "cell_type": "markdown",
   "source": [
    "#### Create Mnt Pday Card"
   ],
   "metadata": {
    "collapsed": false
   }
  },
  {
   "cell_type": "code",
   "execution_count": 45,
   "metadata": {
    "collapsed": false
   },
   "outputs": [],
   "source": [
    "df['Mnt_pday_card']= df.MntTotal/df.daysAsCardClient"
   ]
  },
  {
   "cell_type": "markdown",
   "source": [
    "#### Create Response Campaigns"
   ],
   "metadata": {
    "collapsed": false
   }
  },
  {
   "cell_type": "code",
   "execution_count": 46,
   "outputs": [],
   "source": [
    "df['Response_Campaigns'] = df['Response_Cmp1'] + df['Response_Cmp2'] + df['Response_Cmp3'] + df['Response_Cmp4'] + df[\n",
    "       'Response_Cmp5']"
   ]
  },
  {
   "cell_type": "code",
   "execution_count": 130,
   "metadata": {
    "collapsed": false
   }
  },
  {
   "cell_type": "code",
   "execution_count": 47,
   "outputs": [],
   "source": [
    "df.drop(['Response_Cmp1', 'Response_Cmp2', 'Response_Cmp3', 'Response_Cmp4', 'Response_Cmp5'], axis=1, inplace=True)"
   ],
   "metadata": {
    "collapsed": false
   }
  },
  {
   "cell_type": "markdown",
   "source": [
    "#### Create Total Kids"
   ],
   "metadata": {
    "collapsed": false
   }
  },
  {
   "cell_type": "code",
   "execution_count": 48,
   "outputs": [],
   "source": [
    "df[\"Total_Kids\"] = df[\"Kid_Younger6\"] + df[\"Children_6to18\"]"
   ],
   "metadata": {
    "collapsed": false
   }
  },
  {
   "cell_type": "markdown",
   "source": [
    "#### Create Has Kids"
   ],
   "metadata": {
    "collapsed": false
   }
  },
  {
   "cell_type": "code",
   "execution_count": 49,
   "outputs": [
    {
     "data": {
      "text/plain": "CustomerID\n14594    0\n19070    0\n29888    0\n12221    1\n21107    0\n        ..\n30686    0\n17210    0\n29186    1\n23312    1\n15581    0\nName: has_Kids, Length: 7000, dtype: int64"
     },
     "execution_count": 49,
     "metadata": {},
     "output_type": "execute_result"
    }
   ],
   "source": [
    "df[\"has_Kids\"] = df[\"Total_Kids\"].apply(lambda x: 0 if x == 0 else 1)\n",
    "df[\"has_Kids\"]"
   ],
   "metadata": {
    "collapsed": false
   }
  },
  {
   "cell_type": "code",
   "execution_count": 50,
   "outputs": [],
   "source": [
    "df.drop(['Kid_Younger6', 'Children_6to18'], axis = 1, inplace = True)"
   ],
   "metadata": {
    "collapsed": false
   }
  },
  {
   "cell_type": "markdown",
   "source": [
    "## Incoherencies\n"
   ],
   "metadata": {
    "collapsed": false
   }
  },
  {
   "cell_type": "code",
   "execution_count": 51,
   "outputs": [
    {
     "data": {
      "text/plain": "                               Name  Birthyear      Income  Recency  \\\nCustomerID                                                            \n6185              Mr. Matt Clarkson       1991    4609.600     32.0   \n20405          Mr. Stephen Paterson       1967  229052.725      0.0   \n11126            Mr. Michael Arnold       1970  228750.025     95.0   \n5318             Mr. Liam MacDonald       1968    3005.400     16.0   \n6164              Mr. Anthony Grant       1983  229113.325     38.0   \n8780              Mr. Brandon Black       2000  226439.025     35.0   \n25079             Mr. Harry Dickens       1959    5048.000     64.0   \n23297              Mr. Harry Newman       1980    3909.600     29.0   \n34565          Miss Jasmine Russell       1962    7644.800     15.0   \n5108          Mr. Sebastian Abraham       1990   10724.200     93.0   \n10622             Mr. Keith Randall       1960  231009.025     46.0   \n27515         Mr. Sebastian Wallace       1962  231360.525     98.0   \n28916                 Mr. Dan Vance       1988  226865.425     72.0   \n18872             Miss Rachel Young       1983    3550.000      4.0   \n13388                Mr. Eric Berry       1984    4554.800     99.0   \n14084       Mr. Christopher MacLeod       1994    5281.300     17.0   \n5366                 Mr. Boris Reid       1975    6065.100     75.0   \n31409           Mr. Christian Allan       1985    3746.500     35.0   \n26711            Mr. Nicholas Baker       1966  229626.425     14.0   \n29573              Miss Fiona Walsh       1980  231001.225     12.0   \n15068               Mr. Jason Avery       1988  228085.825      6.0   \n30521          Miss Stephanie Terry       1955    3623.700     94.0   \n23372              Mr. Sam Buckland       1997  227738.325     66.0   \n28061                Mr. Adam Black       1979    3133.700     36.0   \n14132               Mr. Tim Edmunds       1966  229935.325     50.0   \n29633              Miss Sophie Ross       1992  230027.625     91.0   \n27845              Miss Emily Alsop       1984  231928.425     22.0   \n10547             Mr. Thomas Slater       1973    3478.000     57.0   \n26696           Mr. Charles Pullman       1960    5171.200     89.0   \n17573          Mr. Dominic Hemmings       1967  229161.925     70.0   \n15911          Miss Pippa Underwood       1988    4472.200     23.0   \n12800           Mr. Sebastian Paige       1973    7175.500     53.0   \n17996               Mr. Paul Peters       1959    7507.000     97.0   \n31586              Mr. Blake Tucker       1966  231612.325     39.0   \n11960              Mrs. Sally Sharp       1986  226393.625     93.0   \n5132           Mrs. Lillian Stewart       1973  227063.725     52.0   \n7127                Mr. Joe Chapman       1986    6324.300     85.0   \n22133               Mr. Evan Bailey       1996    7326.000     30.0   \n\n            MntMeat&Fish  MntEntries  MntVegan&Vegetarian  MntDrinks  \\\nCustomerID                                                             \n6185                19.0          10                 73.5       10.0   \n20405               80.0           2                 55.5        0.0   \n11126               51.0          10                 37.5        2.0   \n5318                 5.0           8                  7.5        6.0   \n6164                11.0           0                  7.5        0.0   \n8780                 6.0          16                 45.0       52.0   \n25079               13.0           4                  4.5        0.0   \n23297               12.0           0                  4.5        0.0   \n34565               36.0           2                 91.5       62.0   \n5108               286.0         246                382.5      138.0   \n10622               81.0           0                 55.5        8.0   \n27515               14.0           0                  4.5        0.0   \n28916                9.0           8                 37.5       24.0   \n18872               34.0           0                 21.0        4.0   \n13388                5.0          20                 19.5        4.0   \n14084               11.0          10                 36.0        6.0   \n5366                39.0           2                 16.5        0.0   \n31409               32.0           2                 96.0       24.0   \n26711                7.0           4                 15.0        6.0   \n29573                9.0           4                 27.0       10.0   \n15068               15.0          12                 19.5       10.0   \n30521               64.0          26                 49.5       44.0   \n23372                7.0           4                 12.0        4.0   \n28061               31.0           2                 10.5        0.0   \n14132               56.0           0                 31.5        6.0   \n29633                9.0           0                 10.5        0.0   \n27845               26.0          14                 16.5       28.0   \n10547                9.0          14                 33.0       12.0   \n26696                5.0           0                 16.5       20.0   \n17573               34.0           2              24631.5        0.0   \n15911                4.0           6                  4.5        6.0   \n12800               92.0           0                 84.0        2.0   \n17996               51.0           0                  1.5        0.0   \n31586               42.0          26                 76.5        2.0   \n11960                4.0          16                 16.5       28.0   \n5132                 6.0          12              24630.0       16.0   \n7127                42.0          10                102.0       70.0   \n22133               39.0          18                 37.5       24.0   \n\n            MntDesserts  MntAdditionalRequests  NumOfferPurchases  \\\nCustomerID                                                          \n6185               28.0                    3.2                 15   \n20405               2.0                    0.3                  0   \n11126              12.0                    1.6                  0   \n5318                4.0                    1.0                  0   \n6164                0.0                    0.1                  0   \n8780               34.0                    6.0                  0   \n25079               2.0                    0.0                 15   \n23297               0.0                    0.3                 15   \n34565              38.0                   13.2                 15   \n5108               76.0                    2.3                  0   \n10622              46.0                    4.3                  0   \n27515               2.0                    0.4                  0   \n28916              36.0                    2.8                  0   \n18872               2.0                    0.2                  0   \n13388              16.0                    1.6                 15   \n14084              10.0                    0.4                  0   \n5366                4.0                    1.2                 15   \n31409              24.0                    8.5                 15   \n26711               2.0                    0.1                  0   \n29573              16.0                    0.8                  0   \n15068               6.0                    1.4                  0   \n30521              36.0                   11.3                 15   \n23372               4.0                    0.3                  0   \n28061               2.0                    2.3                  0   \n14132              16.0                    1.8                  0   \n29633               2.0                    0.0                  0   \n27845              10.0                    1.4                  0   \n10547              10.0                    0.9                  0   \n26696              16.0                    1.9                 15   \n17573               0.0                    0.5                  0   \n15911              14.0                    0.4                  0   \n12800               2.0                    1.0                 15   \n17996               0.0                    0.3                 15   \n31586              20.0                    2.0                  0   \n11960              24.0                    2.6                  0   \n5132                8.0                    1.5                  0   \n7127               66.0                    3.8                 15   \n22133              66.0                    1.0                  0   \n\n            NumAppPurchases  NumTakeAwayPurchases  NumStorePurchases  \\\nCustomerID                                                             \n6185                      0                     0                  0   \n20405                     0                     0                  0   \n11126                     0                     0                  0   \n5318                      0                     0                  0   \n6164                      0                     0                  0   \n8780                      0                     0                  0   \n25079                     0                     0                  0   \n23297                     0                     0                  0   \n34565                     0                     0                  0   \n5108                      0                     0                  0   \n10622                     0                     0                  0   \n27515                     0                     0                  0   \n28916                     0                     0                  0   \n18872                     0                     0                  0   \n13388                     0                     0                  0   \n14084                     0                     0                  0   \n5366                      0                     0                  0   \n31409                     0                     0                  0   \n26711                     0                     0                  0   \n29573                     0                     0                  0   \n15068                     0                     0                  0   \n30521                     0                     0                  0   \n23372                     0                     0                  0   \n28061                     0                     0                  0   \n14132                     0                     0                  0   \n29633                     0                     0                  0   \n27845                     0                     0                  0   \n10547                     0                     0                  0   \n26696                     0                     0                  0   \n17573                     0                     0                  0   \n15911                     0                     0                  0   \n12800                     0                     0                  0   \n17996                     0                     0                  0   \n31586                     0                     0                  0   \n11960                     0                     0                  0   \n5132                      0                     0                  0   \n7127                      0                     0                  0   \n22133                     0                     0                  0   \n\n            NumAppVisitsMonth  Complain  Gender  MntTotal  daysAsCardClient  \\\nCustomerID                                                                    \n6185                       20         0       1     143.7               822   \n20405                       1         0       1     139.8               908   \n11126                       1         0       1     114.1               917   \n5318                       20         0       1      31.5               804   \n6164                        1         0       1      18.6               821   \n8780                        1         0       1     159.0               979   \n25079                      20         0       1      23.5               941   \n23297                      20         0       1      16.8               843   \n34565                      19         0       0     242.7               651   \n5108                       19         0       1    1130.8               399   \n10622                       1         0       1     194.8               309   \n27515                       1         0       1      20.9               626   \n28916                       1         0       1     117.3               936   \n18872                      20         0       0      61.2               647   \n13388                      20         0       1      66.1               807   \n14084                      19         0       1      73.4               353   \n5366                       19         0       1      62.7               342   \n31409                      20         0       1     186.5               943   \n26711                       1         0       1      34.1               579   \n29573                       0         0       0      66.8               545   \n15068                       1         0       1      63.9               816   \n30521                      20         0       0     230.8               490   \n23372                       1         0       1      31.3               762   \n28061                      20         0       1      47.8               695   \n14132                       1         0       1     111.3               404   \n29633                       1         0       0      21.5               843   \n27845                       1         0       0      95.9               745   \n10547                      20         0       1      78.9               367   \n26696                      20         0       1      59.4               285   \n17573                       1         0       1   24668.0               527   \n15911                      20         0       0      34.9               648   \n12800                      20         0       1     181.0               846   \n17996                      19         0       1      52.8               291   \n31586                       0         0       1     168.5               565   \n11960                       1         0       0      91.1               800   \n5132                        1         0       0   24673.5               522   \n7127                       20         0       1     293.8               445   \n22133                      20         1       1     185.5               745   \n\n            Graduation  HighSchool  Master  PhD  Married  Single  Widow  \\\nCustomerID                                                                \n6185                 0           0       1    0        1       0      0   \n20405                0           0       1    0        1       0      0   \n11126                1           0       0    0        1       0      0   \n5318                 0           1       0    0        1       0      0   \n6164                 0           0       0    1        1       0      0   \n8780                 0           1       0    0        0       1      0   \n25079                0           0       0    1        1       0      0   \n23297                1           0       0    0        1       0      0   \n34565                0           1       0    0        0       1      0   \n5108                 0           0       0    1        1       0      0   \n10622                0           1       0    0        0       0      0   \n27515                1           0       0    0        1       0      0   \n28916                1           0       0    0        1       0      0   \n18872                0           0       0    1        0       1      0   \n13388                0           1       0    0        1       0      0   \n14084                1           0       0    0        0       1      0   \n5366                 0           0       0    1        0       1      0   \n31409                1           0       0    0        0       0      0   \n26711                0           0       1    0        1       0      0   \n29573                1           0       0    0        0       1      0   \n15068                1           0       0    0        1       0      0   \n30521                1           0       0    0        1       0      0   \n23372                1           0       0    0        0       1      0   \n28061                1           0       0    0        0       0      0   \n14132                1           0       0    0        1       0      0   \n29633                0           0       0    1        1       0      0   \n27845                1           0       0    0        0       1      0   \n10547                1           0       0    0        1       0      0   \n26696                1           0       0    0        0       0      0   \n17573                1           0       0    0        1       0      0   \n15911                1           0       0    0        0       1      0   \n12800                0           0       0    1        1       0      0   \n17996                0           0       0    1        1       0      0   \n31586                0           1       0    0        0       0      0   \n11960                0           0       0    0        1       0      0   \n5132                 0           0       1    0        1       0      0   \n7127                 0           1       0    0        0       0      0   \n22133                0           1       0    0        1       0      0   \n\n            Mnt_pday_card  Response_Campaigns  Total_Kids  has_Kids  \nCustomerID                                                           \n6185             0.174818                   0           2         1  \n20405            0.153965                   0           1         1  \n11126            0.124427                   0           3         1  \n5318             0.039179                   0           0         0  \n6164             0.022655                   0           1         1  \n8780             0.162411                   0           0         0  \n25079            0.024973                   0           1         1  \n23297            0.019929                   0           2         1  \n34565            0.372811                   1           2         1  \n5108             2.834085                   0           0         0  \n10622            0.630421                   0           2         1  \n27515            0.033387                   0           1         1  \n28916            0.125321                   0           1         1  \n18872            0.094590                   0           1         1  \n13388            0.081908                   0           1         1  \n14084            0.207932                   0           1         1  \n5366             0.183333                   0           2         1  \n31409            0.197773                   0           1         1  \n26711            0.058895                   0           2         1  \n29573            0.122569                   0           2         1  \n15068            0.078309                   0           1         1  \n30521            0.471020                   1           0         0  \n23372            0.041076                   0           1         1  \n28061            0.068777                   1           1         1  \n14132            0.275495                   0           2         1  \n29633            0.025504                   0           1         1  \n27845            0.128725                   0           2         1  \n10547            0.214986                   0           0         0  \n26696            0.208421                   0           0         0  \n17573           46.808349                   0           2         1  \n15911            0.053858                   0           1         1  \n12800            0.213948                   0           4         1  \n17996            0.181443                   1           1         1  \n31586            0.298230                   0           2         1  \n11960            0.113875                   0           1         1  \n5132            47.267241                   0           0         0  \n7127             0.660225                   0           1         1  \n22133            0.248993                   0           1         1  ",
      "text/html": "<div>\n<style scoped>\n    .dataframe tbody tr th:only-of-type {\n        vertical-align: middle;\n    }\n\n    .dataframe tbody tr th {\n        vertical-align: top;\n    }\n\n    .dataframe thead th {\n        text-align: right;\n    }\n</style>\n<table border=\"1\" class=\"dataframe\">\n  <thead>\n    <tr style=\"text-align: right;\">\n      <th></th>\n      <th>Name</th>\n      <th>Birthyear</th>\n      <th>Income</th>\n      <th>Recency</th>\n      <th>MntMeat&amp;Fish</th>\n      <th>MntEntries</th>\n      <th>MntVegan&amp;Vegetarian</th>\n      <th>MntDrinks</th>\n      <th>MntDesserts</th>\n      <th>MntAdditionalRequests</th>\n      <th>NumOfferPurchases</th>\n      <th>NumAppPurchases</th>\n      <th>NumTakeAwayPurchases</th>\n      <th>NumStorePurchases</th>\n      <th>NumAppVisitsMonth</th>\n      <th>Complain</th>\n      <th>Gender</th>\n      <th>MntTotal</th>\n      <th>daysAsCardClient</th>\n      <th>Graduation</th>\n      <th>HighSchool</th>\n      <th>Master</th>\n      <th>PhD</th>\n      <th>Married</th>\n      <th>Single</th>\n      <th>Widow</th>\n      <th>Mnt_pday_card</th>\n      <th>Response_Campaigns</th>\n      <th>Total_Kids</th>\n      <th>has_Kids</th>\n    </tr>\n    <tr>\n      <th>CustomerID</th>\n      <th></th>\n      <th></th>\n      <th></th>\n      <th></th>\n      <th></th>\n      <th></th>\n      <th></th>\n      <th></th>\n      <th></th>\n      <th></th>\n      <th></th>\n      <th></th>\n      <th></th>\n      <th></th>\n      <th></th>\n      <th></th>\n      <th></th>\n      <th></th>\n      <th></th>\n      <th></th>\n      <th></th>\n      <th></th>\n      <th></th>\n      <th></th>\n      <th></th>\n      <th></th>\n      <th></th>\n      <th></th>\n      <th></th>\n      <th></th>\n    </tr>\n  </thead>\n  <tbody>\n    <tr>\n      <th>6185</th>\n      <td>Mr. Matt Clarkson</td>\n      <td>1991</td>\n      <td>4609.600</td>\n      <td>32.0</td>\n      <td>19.0</td>\n      <td>10</td>\n      <td>73.5</td>\n      <td>10.0</td>\n      <td>28.0</td>\n      <td>3.2</td>\n      <td>15</td>\n      <td>0</td>\n      <td>0</td>\n      <td>0</td>\n      <td>20</td>\n      <td>0</td>\n      <td>1</td>\n      <td>143.7</td>\n      <td>822</td>\n      <td>0</td>\n      <td>0</td>\n      <td>1</td>\n      <td>0</td>\n      <td>1</td>\n      <td>0</td>\n      <td>0</td>\n      <td>0.174818</td>\n      <td>0</td>\n      <td>2</td>\n      <td>1</td>\n    </tr>\n    <tr>\n      <th>20405</th>\n      <td>Mr. Stephen Paterson</td>\n      <td>1967</td>\n      <td>229052.725</td>\n      <td>0.0</td>\n      <td>80.0</td>\n      <td>2</td>\n      <td>55.5</td>\n      <td>0.0</td>\n      <td>2.0</td>\n      <td>0.3</td>\n      <td>0</td>\n      <td>0</td>\n      <td>0</td>\n      <td>0</td>\n      <td>1</td>\n      <td>0</td>\n      <td>1</td>\n      <td>139.8</td>\n      <td>908</td>\n      <td>0</td>\n      <td>0</td>\n      <td>1</td>\n      <td>0</td>\n      <td>1</td>\n      <td>0</td>\n      <td>0</td>\n      <td>0.153965</td>\n      <td>0</td>\n      <td>1</td>\n      <td>1</td>\n    </tr>\n    <tr>\n      <th>11126</th>\n      <td>Mr. Michael Arnold</td>\n      <td>1970</td>\n      <td>228750.025</td>\n      <td>95.0</td>\n      <td>51.0</td>\n      <td>10</td>\n      <td>37.5</td>\n      <td>2.0</td>\n      <td>12.0</td>\n      <td>1.6</td>\n      <td>0</td>\n      <td>0</td>\n      <td>0</td>\n      <td>0</td>\n      <td>1</td>\n      <td>0</td>\n      <td>1</td>\n      <td>114.1</td>\n      <td>917</td>\n      <td>1</td>\n      <td>0</td>\n      <td>0</td>\n      <td>0</td>\n      <td>1</td>\n      <td>0</td>\n      <td>0</td>\n      <td>0.124427</td>\n      <td>0</td>\n      <td>3</td>\n      <td>1</td>\n    </tr>\n    <tr>\n      <th>5318</th>\n      <td>Mr. Liam MacDonald</td>\n      <td>1968</td>\n      <td>3005.400</td>\n      <td>16.0</td>\n      <td>5.0</td>\n      <td>8</td>\n      <td>7.5</td>\n      <td>6.0</td>\n      <td>4.0</td>\n      <td>1.0</td>\n      <td>0</td>\n      <td>0</td>\n      <td>0</td>\n      <td>0</td>\n      <td>20</td>\n      <td>0</td>\n      <td>1</td>\n      <td>31.5</td>\n      <td>804</td>\n      <td>0</td>\n      <td>1</td>\n      <td>0</td>\n      <td>0</td>\n      <td>1</td>\n      <td>0</td>\n      <td>0</td>\n      <td>0.039179</td>\n      <td>0</td>\n      <td>0</td>\n      <td>0</td>\n    </tr>\n    <tr>\n      <th>6164</th>\n      <td>Mr. Anthony Grant</td>\n      <td>1983</td>\n      <td>229113.325</td>\n      <td>38.0</td>\n      <td>11.0</td>\n      <td>0</td>\n      <td>7.5</td>\n      <td>0.0</td>\n      <td>0.0</td>\n      <td>0.1</td>\n      <td>0</td>\n      <td>0</td>\n      <td>0</td>\n      <td>0</td>\n      <td>1</td>\n      <td>0</td>\n      <td>1</td>\n      <td>18.6</td>\n      <td>821</td>\n      <td>0</td>\n      <td>0</td>\n      <td>0</td>\n      <td>1</td>\n      <td>1</td>\n      <td>0</td>\n      <td>0</td>\n      <td>0.022655</td>\n      <td>0</td>\n      <td>1</td>\n      <td>1</td>\n    </tr>\n    <tr>\n      <th>8780</th>\n      <td>Mr. Brandon Black</td>\n      <td>2000</td>\n      <td>226439.025</td>\n      <td>35.0</td>\n      <td>6.0</td>\n      <td>16</td>\n      <td>45.0</td>\n      <td>52.0</td>\n      <td>34.0</td>\n      <td>6.0</td>\n      <td>0</td>\n      <td>0</td>\n      <td>0</td>\n      <td>0</td>\n      <td>1</td>\n      <td>0</td>\n      <td>1</td>\n      <td>159.0</td>\n      <td>979</td>\n      <td>0</td>\n      <td>1</td>\n      <td>0</td>\n      <td>0</td>\n      <td>0</td>\n      <td>1</td>\n      <td>0</td>\n      <td>0.162411</td>\n      <td>0</td>\n      <td>0</td>\n      <td>0</td>\n    </tr>\n    <tr>\n      <th>25079</th>\n      <td>Mr. Harry Dickens</td>\n      <td>1959</td>\n      <td>5048.000</td>\n      <td>64.0</td>\n      <td>13.0</td>\n      <td>4</td>\n      <td>4.5</td>\n      <td>0.0</td>\n      <td>2.0</td>\n      <td>0.0</td>\n      <td>15</td>\n      <td>0</td>\n      <td>0</td>\n      <td>0</td>\n      <td>20</td>\n      <td>0</td>\n      <td>1</td>\n      <td>23.5</td>\n      <td>941</td>\n      <td>0</td>\n      <td>0</td>\n      <td>0</td>\n      <td>1</td>\n      <td>1</td>\n      <td>0</td>\n      <td>0</td>\n      <td>0.024973</td>\n      <td>0</td>\n      <td>1</td>\n      <td>1</td>\n    </tr>\n    <tr>\n      <th>23297</th>\n      <td>Mr. Harry Newman</td>\n      <td>1980</td>\n      <td>3909.600</td>\n      <td>29.0</td>\n      <td>12.0</td>\n      <td>0</td>\n      <td>4.5</td>\n      <td>0.0</td>\n      <td>0.0</td>\n      <td>0.3</td>\n      <td>15</td>\n      <td>0</td>\n      <td>0</td>\n      <td>0</td>\n      <td>20</td>\n      <td>0</td>\n      <td>1</td>\n      <td>16.8</td>\n      <td>843</td>\n      <td>1</td>\n      <td>0</td>\n      <td>0</td>\n      <td>0</td>\n      <td>1</td>\n      <td>0</td>\n      <td>0</td>\n      <td>0.019929</td>\n      <td>0</td>\n      <td>2</td>\n      <td>1</td>\n    </tr>\n    <tr>\n      <th>34565</th>\n      <td>Miss Jasmine Russell</td>\n      <td>1962</td>\n      <td>7644.800</td>\n      <td>15.0</td>\n      <td>36.0</td>\n      <td>2</td>\n      <td>91.5</td>\n      <td>62.0</td>\n      <td>38.0</td>\n      <td>13.2</td>\n      <td>15</td>\n      <td>0</td>\n      <td>0</td>\n      <td>0</td>\n      <td>19</td>\n      <td>0</td>\n      <td>0</td>\n      <td>242.7</td>\n      <td>651</td>\n      <td>0</td>\n      <td>1</td>\n      <td>0</td>\n      <td>0</td>\n      <td>0</td>\n      <td>1</td>\n      <td>0</td>\n      <td>0.372811</td>\n      <td>1</td>\n      <td>2</td>\n      <td>1</td>\n    </tr>\n    <tr>\n      <th>5108</th>\n      <td>Mr. Sebastian Abraham</td>\n      <td>1990</td>\n      <td>10724.200</td>\n      <td>93.0</td>\n      <td>286.0</td>\n      <td>246</td>\n      <td>382.5</td>\n      <td>138.0</td>\n      <td>76.0</td>\n      <td>2.3</td>\n      <td>0</td>\n      <td>0</td>\n      <td>0</td>\n      <td>0</td>\n      <td>19</td>\n      <td>0</td>\n      <td>1</td>\n      <td>1130.8</td>\n      <td>399</td>\n      <td>0</td>\n      <td>0</td>\n      <td>0</td>\n      <td>1</td>\n      <td>1</td>\n      <td>0</td>\n      <td>0</td>\n      <td>2.834085</td>\n      <td>0</td>\n      <td>0</td>\n      <td>0</td>\n    </tr>\n    <tr>\n      <th>10622</th>\n      <td>Mr. Keith Randall</td>\n      <td>1960</td>\n      <td>231009.025</td>\n      <td>46.0</td>\n      <td>81.0</td>\n      <td>0</td>\n      <td>55.5</td>\n      <td>8.0</td>\n      <td>46.0</td>\n      <td>4.3</td>\n      <td>0</td>\n      <td>0</td>\n      <td>0</td>\n      <td>0</td>\n      <td>1</td>\n      <td>0</td>\n      <td>1</td>\n      <td>194.8</td>\n      <td>309</td>\n      <td>0</td>\n      <td>1</td>\n      <td>0</td>\n      <td>0</td>\n      <td>0</td>\n      <td>0</td>\n      <td>0</td>\n      <td>0.630421</td>\n      <td>0</td>\n      <td>2</td>\n      <td>1</td>\n    </tr>\n    <tr>\n      <th>27515</th>\n      <td>Mr. Sebastian Wallace</td>\n      <td>1962</td>\n      <td>231360.525</td>\n      <td>98.0</td>\n      <td>14.0</td>\n      <td>0</td>\n      <td>4.5</td>\n      <td>0.0</td>\n      <td>2.0</td>\n      <td>0.4</td>\n      <td>0</td>\n      <td>0</td>\n      <td>0</td>\n      <td>0</td>\n      <td>1</td>\n      <td>0</td>\n      <td>1</td>\n      <td>20.9</td>\n      <td>626</td>\n      <td>1</td>\n      <td>0</td>\n      <td>0</td>\n      <td>0</td>\n      <td>1</td>\n      <td>0</td>\n      <td>0</td>\n      <td>0.033387</td>\n      <td>0</td>\n      <td>1</td>\n      <td>1</td>\n    </tr>\n    <tr>\n      <th>28916</th>\n      <td>Mr. Dan Vance</td>\n      <td>1988</td>\n      <td>226865.425</td>\n      <td>72.0</td>\n      <td>9.0</td>\n      <td>8</td>\n      <td>37.5</td>\n      <td>24.0</td>\n      <td>36.0</td>\n      <td>2.8</td>\n      <td>0</td>\n      <td>0</td>\n      <td>0</td>\n      <td>0</td>\n      <td>1</td>\n      <td>0</td>\n      <td>1</td>\n      <td>117.3</td>\n      <td>936</td>\n      <td>1</td>\n      <td>0</td>\n      <td>0</td>\n      <td>0</td>\n      <td>1</td>\n      <td>0</td>\n      <td>0</td>\n      <td>0.125321</td>\n      <td>0</td>\n      <td>1</td>\n      <td>1</td>\n    </tr>\n    <tr>\n      <th>18872</th>\n      <td>Miss Rachel Young</td>\n      <td>1983</td>\n      <td>3550.000</td>\n      <td>4.0</td>\n      <td>34.0</td>\n      <td>0</td>\n      <td>21.0</td>\n      <td>4.0</td>\n      <td>2.0</td>\n      <td>0.2</td>\n      <td>0</td>\n      <td>0</td>\n      <td>0</td>\n      <td>0</td>\n      <td>20</td>\n      <td>0</td>\n      <td>0</td>\n      <td>61.2</td>\n      <td>647</td>\n      <td>0</td>\n      <td>0</td>\n      <td>0</td>\n      <td>1</td>\n      <td>0</td>\n      <td>1</td>\n      <td>0</td>\n      <td>0.094590</td>\n      <td>0</td>\n      <td>1</td>\n      <td>1</td>\n    </tr>\n    <tr>\n      <th>13388</th>\n      <td>Mr. Eric Berry</td>\n      <td>1984</td>\n      <td>4554.800</td>\n      <td>99.0</td>\n      <td>5.0</td>\n      <td>20</td>\n      <td>19.5</td>\n      <td>4.0</td>\n      <td>16.0</td>\n      <td>1.6</td>\n      <td>15</td>\n      <td>0</td>\n      <td>0</td>\n      <td>0</td>\n      <td>20</td>\n      <td>0</td>\n      <td>1</td>\n      <td>66.1</td>\n      <td>807</td>\n      <td>0</td>\n      <td>1</td>\n      <td>0</td>\n      <td>0</td>\n      <td>1</td>\n      <td>0</td>\n      <td>0</td>\n      <td>0.081908</td>\n      <td>0</td>\n      <td>1</td>\n      <td>1</td>\n    </tr>\n    <tr>\n      <th>14084</th>\n      <td>Mr. Christopher MacLeod</td>\n      <td>1994</td>\n      <td>5281.300</td>\n      <td>17.0</td>\n      <td>11.0</td>\n      <td>10</td>\n      <td>36.0</td>\n      <td>6.0</td>\n      <td>10.0</td>\n      <td>0.4</td>\n      <td>0</td>\n      <td>0</td>\n      <td>0</td>\n      <td>0</td>\n      <td>19</td>\n      <td>0</td>\n      <td>1</td>\n      <td>73.4</td>\n      <td>353</td>\n      <td>1</td>\n      <td>0</td>\n      <td>0</td>\n      <td>0</td>\n      <td>0</td>\n      <td>1</td>\n      <td>0</td>\n      <td>0.207932</td>\n      <td>0</td>\n      <td>1</td>\n      <td>1</td>\n    </tr>\n    <tr>\n      <th>5366</th>\n      <td>Mr. Boris Reid</td>\n      <td>1975</td>\n      <td>6065.100</td>\n      <td>75.0</td>\n      <td>39.0</td>\n      <td>2</td>\n      <td>16.5</td>\n      <td>0.0</td>\n      <td>4.0</td>\n      <td>1.2</td>\n      <td>15</td>\n      <td>0</td>\n      <td>0</td>\n      <td>0</td>\n      <td>19</td>\n      <td>0</td>\n      <td>1</td>\n      <td>62.7</td>\n      <td>342</td>\n      <td>0</td>\n      <td>0</td>\n      <td>0</td>\n      <td>1</td>\n      <td>0</td>\n      <td>1</td>\n      <td>0</td>\n      <td>0.183333</td>\n      <td>0</td>\n      <td>2</td>\n      <td>1</td>\n    </tr>\n    <tr>\n      <th>31409</th>\n      <td>Mr. Christian Allan</td>\n      <td>1985</td>\n      <td>3746.500</td>\n      <td>35.0</td>\n      <td>32.0</td>\n      <td>2</td>\n      <td>96.0</td>\n      <td>24.0</td>\n      <td>24.0</td>\n      <td>8.5</td>\n      <td>15</td>\n      <td>0</td>\n      <td>0</td>\n      <td>0</td>\n      <td>20</td>\n      <td>0</td>\n      <td>1</td>\n      <td>186.5</td>\n      <td>943</td>\n      <td>1</td>\n      <td>0</td>\n      <td>0</td>\n      <td>0</td>\n      <td>0</td>\n      <td>0</td>\n      <td>0</td>\n      <td>0.197773</td>\n      <td>0</td>\n      <td>1</td>\n      <td>1</td>\n    </tr>\n    <tr>\n      <th>26711</th>\n      <td>Mr. Nicholas Baker</td>\n      <td>1966</td>\n      <td>229626.425</td>\n      <td>14.0</td>\n      <td>7.0</td>\n      <td>4</td>\n      <td>15.0</td>\n      <td>6.0</td>\n      <td>2.0</td>\n      <td>0.1</td>\n      <td>0</td>\n      <td>0</td>\n      <td>0</td>\n      <td>0</td>\n      <td>1</td>\n      <td>0</td>\n      <td>1</td>\n      <td>34.1</td>\n      <td>579</td>\n      <td>0</td>\n      <td>0</td>\n      <td>1</td>\n      <td>0</td>\n      <td>1</td>\n      <td>0</td>\n      <td>0</td>\n      <td>0.058895</td>\n      <td>0</td>\n      <td>2</td>\n      <td>1</td>\n    </tr>\n    <tr>\n      <th>29573</th>\n      <td>Miss Fiona Walsh</td>\n      <td>1980</td>\n      <td>231001.225</td>\n      <td>12.0</td>\n      <td>9.0</td>\n      <td>4</td>\n      <td>27.0</td>\n      <td>10.0</td>\n      <td>16.0</td>\n      <td>0.8</td>\n      <td>0</td>\n      <td>0</td>\n      <td>0</td>\n      <td>0</td>\n      <td>0</td>\n      <td>0</td>\n      <td>0</td>\n      <td>66.8</td>\n      <td>545</td>\n      <td>1</td>\n      <td>0</td>\n      <td>0</td>\n      <td>0</td>\n      <td>0</td>\n      <td>1</td>\n      <td>0</td>\n      <td>0.122569</td>\n      <td>0</td>\n      <td>2</td>\n      <td>1</td>\n    </tr>\n    <tr>\n      <th>15068</th>\n      <td>Mr. Jason Avery</td>\n      <td>1988</td>\n      <td>228085.825</td>\n      <td>6.0</td>\n      <td>15.0</td>\n      <td>12</td>\n      <td>19.5</td>\n      <td>10.0</td>\n      <td>6.0</td>\n      <td>1.4</td>\n      <td>0</td>\n      <td>0</td>\n      <td>0</td>\n      <td>0</td>\n      <td>1</td>\n      <td>0</td>\n      <td>1</td>\n      <td>63.9</td>\n      <td>816</td>\n      <td>1</td>\n      <td>0</td>\n      <td>0</td>\n      <td>0</td>\n      <td>1</td>\n      <td>0</td>\n      <td>0</td>\n      <td>0.078309</td>\n      <td>0</td>\n      <td>1</td>\n      <td>1</td>\n    </tr>\n    <tr>\n      <th>30521</th>\n      <td>Miss Stephanie Terry</td>\n      <td>1955</td>\n      <td>3623.700</td>\n      <td>94.0</td>\n      <td>64.0</td>\n      <td>26</td>\n      <td>49.5</td>\n      <td>44.0</td>\n      <td>36.0</td>\n      <td>11.3</td>\n      <td>15</td>\n      <td>0</td>\n      <td>0</td>\n      <td>0</td>\n      <td>20</td>\n      <td>0</td>\n      <td>0</td>\n      <td>230.8</td>\n      <td>490</td>\n      <td>1</td>\n      <td>0</td>\n      <td>0</td>\n      <td>0</td>\n      <td>1</td>\n      <td>0</td>\n      <td>0</td>\n      <td>0.471020</td>\n      <td>1</td>\n      <td>0</td>\n      <td>0</td>\n    </tr>\n    <tr>\n      <th>23372</th>\n      <td>Mr. Sam Buckland</td>\n      <td>1997</td>\n      <td>227738.325</td>\n      <td>66.0</td>\n      <td>7.0</td>\n      <td>4</td>\n      <td>12.0</td>\n      <td>4.0</td>\n      <td>4.0</td>\n      <td>0.3</td>\n      <td>0</td>\n      <td>0</td>\n      <td>0</td>\n      <td>0</td>\n      <td>1</td>\n      <td>0</td>\n      <td>1</td>\n      <td>31.3</td>\n      <td>762</td>\n      <td>1</td>\n      <td>0</td>\n      <td>0</td>\n      <td>0</td>\n      <td>0</td>\n      <td>1</td>\n      <td>0</td>\n      <td>0.041076</td>\n      <td>0</td>\n      <td>1</td>\n      <td>1</td>\n    </tr>\n    <tr>\n      <th>28061</th>\n      <td>Mr. Adam Black</td>\n      <td>1979</td>\n      <td>3133.700</td>\n      <td>36.0</td>\n      <td>31.0</td>\n      <td>2</td>\n      <td>10.5</td>\n      <td>0.0</td>\n      <td>2.0</td>\n      <td>2.3</td>\n      <td>0</td>\n      <td>0</td>\n      <td>0</td>\n      <td>0</td>\n      <td>20</td>\n      <td>0</td>\n      <td>1</td>\n      <td>47.8</td>\n      <td>695</td>\n      <td>1</td>\n      <td>0</td>\n      <td>0</td>\n      <td>0</td>\n      <td>0</td>\n      <td>0</td>\n      <td>0</td>\n      <td>0.068777</td>\n      <td>1</td>\n      <td>1</td>\n      <td>1</td>\n    </tr>\n    <tr>\n      <th>14132</th>\n      <td>Mr. Tim Edmunds</td>\n      <td>1966</td>\n      <td>229935.325</td>\n      <td>50.0</td>\n      <td>56.0</td>\n      <td>0</td>\n      <td>31.5</td>\n      <td>6.0</td>\n      <td>16.0</td>\n      <td>1.8</td>\n      <td>0</td>\n      <td>0</td>\n      <td>0</td>\n      <td>0</td>\n      <td>1</td>\n      <td>0</td>\n      <td>1</td>\n      <td>111.3</td>\n      <td>404</td>\n      <td>1</td>\n      <td>0</td>\n      <td>0</td>\n      <td>0</td>\n      <td>1</td>\n      <td>0</td>\n      <td>0</td>\n      <td>0.275495</td>\n      <td>0</td>\n      <td>2</td>\n      <td>1</td>\n    </tr>\n    <tr>\n      <th>29633</th>\n      <td>Miss Sophie Ross</td>\n      <td>1992</td>\n      <td>230027.625</td>\n      <td>91.0</td>\n      <td>9.0</td>\n      <td>0</td>\n      <td>10.5</td>\n      <td>0.0</td>\n      <td>2.0</td>\n      <td>0.0</td>\n      <td>0</td>\n      <td>0</td>\n      <td>0</td>\n      <td>0</td>\n      <td>1</td>\n      <td>0</td>\n      <td>0</td>\n      <td>21.5</td>\n      <td>843</td>\n      <td>0</td>\n      <td>0</td>\n      <td>0</td>\n      <td>1</td>\n      <td>1</td>\n      <td>0</td>\n      <td>0</td>\n      <td>0.025504</td>\n      <td>0</td>\n      <td>1</td>\n      <td>1</td>\n    </tr>\n    <tr>\n      <th>27845</th>\n      <td>Miss Emily Alsop</td>\n      <td>1984</td>\n      <td>231928.425</td>\n      <td>22.0</td>\n      <td>26.0</td>\n      <td>14</td>\n      <td>16.5</td>\n      <td>28.0</td>\n      <td>10.0</td>\n      <td>1.4</td>\n      <td>0</td>\n      <td>0</td>\n      <td>0</td>\n      <td>0</td>\n      <td>1</td>\n      <td>0</td>\n      <td>0</td>\n      <td>95.9</td>\n      <td>745</td>\n      <td>1</td>\n      <td>0</td>\n      <td>0</td>\n      <td>0</td>\n      <td>0</td>\n      <td>1</td>\n      <td>0</td>\n      <td>0.128725</td>\n      <td>0</td>\n      <td>2</td>\n      <td>1</td>\n    </tr>\n    <tr>\n      <th>10547</th>\n      <td>Mr. Thomas Slater</td>\n      <td>1973</td>\n      <td>3478.000</td>\n      <td>57.0</td>\n      <td>9.0</td>\n      <td>14</td>\n      <td>33.0</td>\n      <td>12.0</td>\n      <td>10.0</td>\n      <td>0.9</td>\n      <td>0</td>\n      <td>0</td>\n      <td>0</td>\n      <td>0</td>\n      <td>20</td>\n      <td>0</td>\n      <td>1</td>\n      <td>78.9</td>\n      <td>367</td>\n      <td>1</td>\n      <td>0</td>\n      <td>0</td>\n      <td>0</td>\n      <td>1</td>\n      <td>0</td>\n      <td>0</td>\n      <td>0.214986</td>\n      <td>0</td>\n      <td>0</td>\n      <td>0</td>\n    </tr>\n    <tr>\n      <th>26696</th>\n      <td>Mr. Charles Pullman</td>\n      <td>1960</td>\n      <td>5171.200</td>\n      <td>89.0</td>\n      <td>5.0</td>\n      <td>0</td>\n      <td>16.5</td>\n      <td>20.0</td>\n      <td>16.0</td>\n      <td>1.9</td>\n      <td>15</td>\n      <td>0</td>\n      <td>0</td>\n      <td>0</td>\n      <td>20</td>\n      <td>0</td>\n      <td>1</td>\n      <td>59.4</td>\n      <td>285</td>\n      <td>1</td>\n      <td>0</td>\n      <td>0</td>\n      <td>0</td>\n      <td>0</td>\n      <td>0</td>\n      <td>0</td>\n      <td>0.208421</td>\n      <td>0</td>\n      <td>0</td>\n      <td>0</td>\n    </tr>\n    <tr>\n      <th>17573</th>\n      <td>Mr. Dominic Hemmings</td>\n      <td>1967</td>\n      <td>229161.925</td>\n      <td>70.0</td>\n      <td>34.0</td>\n      <td>2</td>\n      <td>24631.5</td>\n      <td>0.0</td>\n      <td>0.0</td>\n      <td>0.5</td>\n      <td>0</td>\n      <td>0</td>\n      <td>0</td>\n      <td>0</td>\n      <td>1</td>\n      <td>0</td>\n      <td>1</td>\n      <td>24668.0</td>\n      <td>527</td>\n      <td>1</td>\n      <td>0</td>\n      <td>0</td>\n      <td>0</td>\n      <td>1</td>\n      <td>0</td>\n      <td>0</td>\n      <td>46.808349</td>\n      <td>0</td>\n      <td>2</td>\n      <td>1</td>\n    </tr>\n    <tr>\n      <th>15911</th>\n      <td>Miss Pippa Underwood</td>\n      <td>1988</td>\n      <td>4472.200</td>\n      <td>23.0</td>\n      <td>4.0</td>\n      <td>6</td>\n      <td>4.5</td>\n      <td>6.0</td>\n      <td>14.0</td>\n      <td>0.4</td>\n      <td>0</td>\n      <td>0</td>\n      <td>0</td>\n      <td>0</td>\n      <td>20</td>\n      <td>0</td>\n      <td>0</td>\n      <td>34.9</td>\n      <td>648</td>\n      <td>1</td>\n      <td>0</td>\n      <td>0</td>\n      <td>0</td>\n      <td>0</td>\n      <td>1</td>\n      <td>0</td>\n      <td>0.053858</td>\n      <td>0</td>\n      <td>1</td>\n      <td>1</td>\n    </tr>\n    <tr>\n      <th>12800</th>\n      <td>Mr. Sebastian Paige</td>\n      <td>1973</td>\n      <td>7175.500</td>\n      <td>53.0</td>\n      <td>92.0</td>\n      <td>0</td>\n      <td>84.0</td>\n      <td>2.0</td>\n      <td>2.0</td>\n      <td>1.0</td>\n      <td>15</td>\n      <td>0</td>\n      <td>0</td>\n      <td>0</td>\n      <td>20</td>\n      <td>0</td>\n      <td>1</td>\n      <td>181.0</td>\n      <td>846</td>\n      <td>0</td>\n      <td>0</td>\n      <td>0</td>\n      <td>1</td>\n      <td>1</td>\n      <td>0</td>\n      <td>0</td>\n      <td>0.213948</td>\n      <td>0</td>\n      <td>4</td>\n      <td>1</td>\n    </tr>\n    <tr>\n      <th>17996</th>\n      <td>Mr. Paul Peters</td>\n      <td>1959</td>\n      <td>7507.000</td>\n      <td>97.0</td>\n      <td>51.0</td>\n      <td>0</td>\n      <td>1.5</td>\n      <td>0.0</td>\n      <td>0.0</td>\n      <td>0.3</td>\n      <td>15</td>\n      <td>0</td>\n      <td>0</td>\n      <td>0</td>\n      <td>19</td>\n      <td>0</td>\n      <td>1</td>\n      <td>52.8</td>\n      <td>291</td>\n      <td>0</td>\n      <td>0</td>\n      <td>0</td>\n      <td>1</td>\n      <td>1</td>\n      <td>0</td>\n      <td>0</td>\n      <td>0.181443</td>\n      <td>1</td>\n      <td>1</td>\n      <td>1</td>\n    </tr>\n    <tr>\n      <th>31586</th>\n      <td>Mr. Blake Tucker</td>\n      <td>1966</td>\n      <td>231612.325</td>\n      <td>39.0</td>\n      <td>42.0</td>\n      <td>26</td>\n      <td>76.5</td>\n      <td>2.0</td>\n      <td>20.0</td>\n      <td>2.0</td>\n      <td>0</td>\n      <td>0</td>\n      <td>0</td>\n      <td>0</td>\n      <td>0</td>\n      <td>0</td>\n      <td>1</td>\n      <td>168.5</td>\n      <td>565</td>\n      <td>0</td>\n      <td>1</td>\n      <td>0</td>\n      <td>0</td>\n      <td>0</td>\n      <td>0</td>\n      <td>0</td>\n      <td>0.298230</td>\n      <td>0</td>\n      <td>2</td>\n      <td>1</td>\n    </tr>\n    <tr>\n      <th>11960</th>\n      <td>Mrs. Sally Sharp</td>\n      <td>1986</td>\n      <td>226393.625</td>\n      <td>93.0</td>\n      <td>4.0</td>\n      <td>16</td>\n      <td>16.5</td>\n      <td>28.0</td>\n      <td>24.0</td>\n      <td>2.6</td>\n      <td>0</td>\n      <td>0</td>\n      <td>0</td>\n      <td>0</td>\n      <td>1</td>\n      <td>0</td>\n      <td>0</td>\n      <td>91.1</td>\n      <td>800</td>\n      <td>0</td>\n      <td>0</td>\n      <td>0</td>\n      <td>0</td>\n      <td>1</td>\n      <td>0</td>\n      <td>0</td>\n      <td>0.113875</td>\n      <td>0</td>\n      <td>1</td>\n      <td>1</td>\n    </tr>\n    <tr>\n      <th>5132</th>\n      <td>Mrs. Lillian Stewart</td>\n      <td>1973</td>\n      <td>227063.725</td>\n      <td>52.0</td>\n      <td>6.0</td>\n      <td>12</td>\n      <td>24630.0</td>\n      <td>16.0</td>\n      <td>8.0</td>\n      <td>1.5</td>\n      <td>0</td>\n      <td>0</td>\n      <td>0</td>\n      <td>0</td>\n      <td>1</td>\n      <td>0</td>\n      <td>0</td>\n      <td>24673.5</td>\n      <td>522</td>\n      <td>0</td>\n      <td>0</td>\n      <td>1</td>\n      <td>0</td>\n      <td>1</td>\n      <td>0</td>\n      <td>0</td>\n      <td>47.267241</td>\n      <td>0</td>\n      <td>0</td>\n      <td>0</td>\n    </tr>\n    <tr>\n      <th>7127</th>\n      <td>Mr. Joe Chapman</td>\n      <td>1986</td>\n      <td>6324.300</td>\n      <td>85.0</td>\n      <td>42.0</td>\n      <td>10</td>\n      <td>102.0</td>\n      <td>70.0</td>\n      <td>66.0</td>\n      <td>3.8</td>\n      <td>15</td>\n      <td>0</td>\n      <td>0</td>\n      <td>0</td>\n      <td>20</td>\n      <td>0</td>\n      <td>1</td>\n      <td>293.8</td>\n      <td>445</td>\n      <td>0</td>\n      <td>1</td>\n      <td>0</td>\n      <td>0</td>\n      <td>0</td>\n      <td>0</td>\n      <td>0</td>\n      <td>0.660225</td>\n      <td>0</td>\n      <td>1</td>\n      <td>1</td>\n    </tr>\n    <tr>\n      <th>22133</th>\n      <td>Mr. Evan Bailey</td>\n      <td>1996</td>\n      <td>7326.000</td>\n      <td>30.0</td>\n      <td>39.0</td>\n      <td>18</td>\n      <td>37.5</td>\n      <td>24.0</td>\n      <td>66.0</td>\n      <td>1.0</td>\n      <td>0</td>\n      <td>0</td>\n      <td>0</td>\n      <td>0</td>\n      <td>20</td>\n      <td>1</td>\n      <td>1</td>\n      <td>185.5</td>\n      <td>745</td>\n      <td>0</td>\n      <td>1</td>\n      <td>0</td>\n      <td>0</td>\n      <td>1</td>\n      <td>0</td>\n      <td>0</td>\n      <td>0.248993</td>\n      <td>0</td>\n      <td>1</td>\n      <td>1</td>\n    </tr>\n  </tbody>\n</table>\n</div>"
     },
     "execution_count": 51,
     "metadata": {},
     "output_type": "execute_result"
    }
   ],
   "source": [
    "df[(df[['MntMeat&Fish', 'MntEntries',\n",
    "        'MntVegan&Vegetarian', 'MntDrinks', 'MntDesserts',\n",
    "        'MntAdditionalRequests']].sum(axis = 1) > 0) & (df[['NumAppPurchases', 'NumTakeAwayPurchases', 'NumStorePurchases']].sum(axis = 1) <= 0)]"
   ],
   "metadata": {
    "collapsed": false
   }
  },
  {
   "cell_type": "code",
   "execution_count": 52,
   "outputs": [],
   "source": [
    "df.loc[(df[['MntMeat&Fish', 'MntEntries',\n",
    "            'MntVegan&Vegetarian', 'MntDrinks', 'MntDesserts',\n",
    "            'MntAdditionalRequests']].sum(axis = 1) > 0) & (df[['NumAppPurchases', 'NumTakeAwayPurchases', 'NumStorePurchases']].sum(axis = 1) <= 0),['MntMeat&Fish','MntEntries','MntVegan&Vegetarian', 'MntDrinks', 'MntDesserts','MntAdditionalRequests']] = [0,0,0,0,0,0]"
   ],
   "metadata": {
    "collapsed": false
   }
  },
  {
   "cell_type": "code",
   "execution_count": 53,
   "outputs": [
    {
     "data": {
      "text/plain": "Empty DataFrame\nColumns: [Name, Birthyear, Income, Recency, MntMeat&Fish, MntEntries, MntVegan&Vegetarian, MntDrinks, MntDesserts, MntAdditionalRequests, NumOfferPurchases, NumAppPurchases, NumTakeAwayPurchases, NumStorePurchases, NumAppVisitsMonth, Complain, Gender, MntTotal, daysAsCardClient, Graduation, HighSchool, Master, PhD, Married, Single, Widow, Mnt_pday_card, Response_Campaigns, Total_Kids, has_Kids]\nIndex: []",
      "text/html": "<div>\n<style scoped>\n    .dataframe tbody tr th:only-of-type {\n        vertical-align: middle;\n    }\n\n    .dataframe tbody tr th {\n        vertical-align: top;\n    }\n\n    .dataframe thead th {\n        text-align: right;\n    }\n</style>\n<table border=\"1\" class=\"dataframe\">\n  <thead>\n    <tr style=\"text-align: right;\">\n      <th></th>\n      <th>Name</th>\n      <th>Birthyear</th>\n      <th>Income</th>\n      <th>Recency</th>\n      <th>MntMeat&amp;Fish</th>\n      <th>MntEntries</th>\n      <th>MntVegan&amp;Vegetarian</th>\n      <th>MntDrinks</th>\n      <th>MntDesserts</th>\n      <th>MntAdditionalRequests</th>\n      <th>NumOfferPurchases</th>\n      <th>NumAppPurchases</th>\n      <th>NumTakeAwayPurchases</th>\n      <th>NumStorePurchases</th>\n      <th>NumAppVisitsMonth</th>\n      <th>Complain</th>\n      <th>Gender</th>\n      <th>MntTotal</th>\n      <th>daysAsCardClient</th>\n      <th>Graduation</th>\n      <th>HighSchool</th>\n      <th>Master</th>\n      <th>PhD</th>\n      <th>Married</th>\n      <th>Single</th>\n      <th>Widow</th>\n      <th>Mnt_pday_card</th>\n      <th>Response_Campaigns</th>\n      <th>Total_Kids</th>\n      <th>has_Kids</th>\n    </tr>\n    <tr>\n      <th>CustomerID</th>\n      <th></th>\n      <th></th>\n      <th></th>\n      <th></th>\n      <th></th>\n      <th></th>\n      <th></th>\n      <th></th>\n      <th></th>\n      <th></th>\n      <th></th>\n      <th></th>\n      <th></th>\n      <th></th>\n      <th></th>\n      <th></th>\n      <th></th>\n      <th></th>\n      <th></th>\n      <th></th>\n      <th></th>\n      <th></th>\n      <th></th>\n      <th></th>\n      <th></th>\n      <th></th>\n      <th></th>\n      <th></th>\n      <th></th>\n      <th></th>\n    </tr>\n  </thead>\n  <tbody>\n  </tbody>\n</table>\n</div>"
     },
     "execution_count": 53,
     "metadata": {},
     "output_type": "execute_result"
    }
   ],
   "source": [
    "df[(df[['MntMeat&Fish', 'MntEntries',\n",
    "        'MntVegan&Vegetarian', 'MntDrinks', 'MntDesserts',\n",
    "        'MntAdditionalRequests']].sum(axis = 1) > 0) & (df[['NumAppPurchases', 'NumTakeAwayPurchases', 'NumStorePurchases']].sum(axis = 1) <= 0)] # confirmação do ajuste"
   ],
   "metadata": {
    "collapsed": false
   }
  },
  {
   "cell_type": "code",
   "execution_count": 54,
   "outputs": [
    {
     "data": {
      "text/plain": "                             Name  Birthyear   Income  Recency  MntMeat&Fish  \\\nCustomerID                                                                     \n6185            Mr. Matt Clarkson       1991   4609.6     32.0           0.0   \n7733           Mr. Jonathan Peake       1983  10214.7     53.0         991.0   \n11753          Mr. Andrew Thomson       1955  12680.0     67.0         450.0   \n7679             Miss Carol Clark       1996  11211.9      2.0         739.0   \n20819           Mr. Colin Forsyth       1975   7875.9     94.0         263.0   \n12011             Mr. Keith Mills       1967   8503.6     70.0        1046.0   \n31391          Mr. Justin Forsyth       1958   9709.1     26.0         304.0   \n26018          Mr. Alan Sanderson       1976   9539.3     40.0         118.0   \n33314         Mr. Michael Parsons       1982  10468.8     10.0         851.0   \n25079           Mr. Harry Dickens       1959   5048.0     64.0           0.0   \n23297            Mr. Harry Newman       1980   3909.6     29.0           0.0   \n34565        Miss Jasmine Russell       1962   7644.8     15.0           0.0   \n33191               Mr. Phil Kerr       1976  11628.4     71.0         126.0   \n34802            Miss Ava Randall       1981  11552.4     17.0        1042.0   \n33236       Mr. Stewart Henderson       1978   6535.7     26.0         388.0   \n23306          Mr. Michael Glover       1994  10582.4     87.0        1327.0   \n13388              Mr. Eric Berry       1984   4554.8     99.0           0.0   \n28973         Miss Sonia Hemmings       1969   9599.2     97.0         512.0   \n16043          Miss Wendy Coleman       1969  13985.1     87.0         646.0   \n5366               Mr. Boris Reid       1975   6065.1     75.0           0.0   \n31409         Mr. Christian Allan       1985   3746.5     35.0           0.0   \n27335             Mr. Alan Mathis       1984   7984.8     72.0         141.0   \n30521        Miss Stephanie Terry       1955   3623.7     94.0           0.0   \n11162           Mr. Leonard Nolan       1968  11451.7     68.0         516.0   \n23030            Miss Lily Gibson       1966   9153.4     74.0         131.0   \n13748             Mr. David Paige       1977   9432.2     99.0        1152.0   \n25838           Mrs. Rebecca Gray       1980   6577.2     21.0         466.0   \n7448            Mr. Jake Mitchell       2002  14060.7     71.0         594.0   \n26696         Mr. Charles Pullman       1960   5171.2     89.0           0.0   \n12800         Mr. Sebastian Paige       1973   7175.5     53.0           0.0   \n17996             Mr. Paul Peters       1959   7507.0     97.0           0.0   \n21251       Miss Kimberly Ellison       1970   7298.2     20.0         216.0   \n7127              Mr. Joe Chapman       1986   6324.3     85.0           0.0   \n\n            MntEntries  MntVegan&Vegetarian  MntDrinks  MntDesserts  \\\nCustomerID                                                            \n6185                 0                  0.0        0.0          0.0   \n7733                72                217.5       24.0         72.0   \n11753               60               1126.5      266.0         32.0   \n7679               214                463.5      214.0        160.0   \n20819               10                349.5      106.0         82.0   \n12011                0                 31.5        0.0          0.0   \n31391              184                265.5      170.0         98.0   \n26018               36                121.5       62.0         30.0   \n33314              170                237.0      194.0         72.0   \n25079                0                  0.0        0.0          0.0   \n23297                0                  0.0        0.0          0.0   \n34565                0                  0.0        0.0          0.0   \n33191              368                672.0      276.0         50.6   \n34802                0                594.0       28.0         28.0   \n33236                8                 51.0        8.0          0.0   \n23306              228                994.5      228.0        182.0   \n13388                0                  0.0        0.0          0.0   \n28973               26                147.0       12.0         52.0   \n16043               20                477.0       40.0         82.0   \n5366                 0                  0.0        0.0          0.0   \n31409                0                  0.0        0.0          0.0   \n27335                2                 43.5        0.0         26.0   \n30521                0                  0.0        0.0          0.0   \n11162              398                823.5      166.0         63.2   \n23030               74                136.5      100.0         46.0   \n13748                0                528.0       96.0         96.0   \n25838               66                286.5      198.0         66.0   \n7448               236               1246.5       47.4        396.0   \n26696                0                  0.0        0.0          0.0   \n12800                0                  0.0        0.0          0.0   \n17996                0                  0.0        0.0          0.0   \n21251               20                153.0       12.0         12.0   \n7127                 0                  0.0        0.0          0.0   \n\n            MntAdditionalRequests  NumOfferPurchases  NumAppPurchases  \\\nCustomerID                                                              \n6185                          0.0                 15                0   \n7733                          1.2                 15                1   \n11753                         4.4                 15                1   \n7679                          3.5                 15                0   \n20819                         8.3                 15                1   \n12011                        12.9                 15                0   \n31391                         4.9                 15                0   \n26018                         3.6                 15                1   \n33314                         6.0                 15                1   \n25079                         0.0                 15                0   \n23297                         0.0                 15                0   \n34565                         0.0                 15                0   \n33191                         3.5                 15                1   \n34802                        13.2                 16                1   \n33236                         0.4                 15                1   \n23306                         2.2                 15                1   \n13388                         0.0                 15                0   \n28973                        12.4                 15                1   \n16043                         6.1                 15                1   \n5366                          0.0                 15                0   \n31409                         0.0                 15                0   \n27335                         4.2                 15                1   \n30521                         0.0                 15                0   \n11162                         4.9                 15                1   \n23030                         3.0                 15                0   \n13748                         1.6                 15                1   \n25838                         7.4                 15                1   \n7448                          7.9                 15                0   \n26696                         0.0                 15                0   \n12800                         0.0                 15                0   \n17996                         0.0                 15                0   \n21251                         4.4                 15                1   \n7127                          0.0                 15                0   \n\n            NumTakeAwayPurchases  NumStorePurchases  NumAppVisitsMonth  \\\nCustomerID                                                               \n6185                           0                  0                 20   \n7733                           1                  0                 20   \n11753                          1                  0                 19   \n7679                           1                  1                 20   \n20819                          1                  1                 20   \n12011                          0                  1                 20   \n31391                          0                  1                 19   \n26018                          0                  1                 19   \n33314                          1                  1                 20   \n25079                          0                  0                 20   \n23297                          0                  0                 20   \n34565                          0                  0                 19   \n33191                          1                  1                 19   \n34802                          1                  0                 20   \n33236                          0                  1                 20   \n23306                          1                  1                 20   \n13388                          0                  0                 20   \n28973                          0                  1                 20   \n16043                          0                  1                 19   \n5366                           0                  0                 19   \n31409                          0                  0                 20   \n27335                          0                  0                 20   \n30521                          0                  0                 20   \n11162                          1                  0                 19   \n23030                          0                  1                 19   \n13748                          1                  1                 20   \n25838                          0                  1                 20   \n7448                           1                  1                 19   \n26696                          0                  0                 20   \n12800                          0                  0                 20   \n17996                          0                  0                 19   \n21251                          0                  0                 20   \n7127                           0                  0                 20   \n\n            Complain  Gender  MntTotal  daysAsCardClient  Graduation  \\\nCustomerID                                                             \n6185               0       1     143.7               822           0   \n7733               0       1    1377.7               628           0   \n11753              0       1    1938.9               792           1   \n7679               0       0    1794.0               923           1   \n20819              0       1     818.8               965           1   \n12011              0       1    1090.4               402           1   \n31391              0       1    1026.4               431           0   \n26018              0       1     371.1               310           1   \n33314              0       1    1530.0               875           0   \n25079              0       1      23.5               941           0   \n23297              0       1      16.8               843           1   \n34565              0       0     242.7               651           0   \n33191              0       1    1496.1               367           0   \n34802              0       0    1705.2               973           0   \n33236              0       1     455.4               792           0   \n23306              0       1    2961.7               935           0   \n13388              0       1      66.1               807           0   \n28973              0       0     761.4               697           1   \n16043              0       0    1271.1               599           0   \n5366               0       1      62.7               342           0   \n31409              0       1     186.5               943           1   \n27335              0       1     216.7               686           1   \n30521              0       0     230.8               490           1   \n11162              0       1    1971.6               656           1   \n23030              0       0     490.5               461           0   \n13748              0       1    1873.6               744           0   \n25838              0       0    1089.9               947           1   \n7448               0       1    2527.8               387           0   \n26696              0       1      59.4               285           1   \n12800              0       1     181.0               846           0   \n17996              0       1      52.8               291           0   \n21251              0       0     417.4               922           1   \n7127               0       1     293.8               445           0   \n\n            HighSchool  Master  PhD  Married  Single  Widow  Mnt_pday_card  \\\nCustomerID                                                                   \n6185                 0       1    0        1       0      0       0.174818   \n7733                 0       1    0        1       0      0       2.193790   \n11753                0       0    0        1       0      0       2.448106   \n7679                 0       0    0        1       0      0       1.943662   \n20819                0       0    0        1       0      0       0.848497   \n12011                0       0    0        1       0      0       2.712438   \n31391                0       0    1        0       0      1       2.381439   \n26018                0       0    0        0       1      0       1.197097   \n33314                0       1    0        1       0      0       1.748571   \n25079                0       0    1        1       0      0       0.024973   \n23297                0       0    0        1       0      0       0.019929   \n34565                1       0    0        0       1      0       0.372811   \n33191                1       0    0        1       0      0       4.076567   \n34802                0       0    1        1       0      0       1.752518   \n33236                0       0    1        1       0      0       0.575000   \n23306                1       0    0        1       0      0       3.167594   \n13388                1       0    0        1       0      0       0.081908   \n28973                0       0    0        1       0      0       1.092396   \n16043                0       0    1        0       1      0       2.122037   \n5366                 0       0    1        0       1      0       0.183333   \n31409                0       0    0        0       0      0       0.197773   \n27335                0       0    0        1       0      0       0.315889   \n30521                0       0    0        1       0      0       0.471020   \n11162                0       0    0        1       0      0       3.005488   \n23030                1       0    0        0       1      0       1.063991   \n13748                0       0    1        1       0      0       2.518280   \n25838                0       0    0        1       0      0       1.150898   \n7448                 1       0    0        1       0      0       6.531783   \n26696                0       0    0        0       0      0       0.208421   \n12800                0       0    1        1       0      0       0.213948   \n17996                0       0    1        1       0      0       0.181443   \n21251                0       0    0        1       0      0       0.452711   \n7127                 1       0    0        0       0      0       0.660225   \n\n            Response_Campaigns  Total_Kids  has_Kids  \nCustomerID                                            \n6185                         0           2         1  \n7733                         0           1         1  \n11753                        2           0         0  \n7679                         0           1         1  \n20819                        0           2         1  \n12011                        3           0         0  \n31391                        0           0         0  \n26018                        0           2         1  \n33314                        1           1         1  \n25079                        0           1         1  \n23297                        0           2         1  \n34565                        1           2         1  \n33191                        0           0         0  \n34802                        1           2         1  \n33236                        0           1         1  \n23306                        3           0         0  \n13388                        0           1         1  \n28973                        0           1         1  \n16043                        1           2         1  \n5366                         0           2         1  \n31409                        0           1         1  \n27335                        0           2         1  \n30521                        1           0         0  \n11162                        0           0         0  \n23030                        0           1         1  \n13748                        1           1         1  \n25838                        0           0         0  \n7448                         1           0         0  \n26696                        0           0         0  \n12800                        0           4         1  \n17996                        1           1         1  \n21251                        0           1         1  \n7127                         0           1         1  ",
      "text/html": "<div>\n<style scoped>\n    .dataframe tbody tr th:only-of-type {\n        vertical-align: middle;\n    }\n\n    .dataframe tbody tr th {\n        vertical-align: top;\n    }\n\n    .dataframe thead th {\n        text-align: right;\n    }\n</style>\n<table border=\"1\" class=\"dataframe\">\n  <thead>\n    <tr style=\"text-align: right;\">\n      <th></th>\n      <th>Name</th>\n      <th>Birthyear</th>\n      <th>Income</th>\n      <th>Recency</th>\n      <th>MntMeat&amp;Fish</th>\n      <th>MntEntries</th>\n      <th>MntVegan&amp;Vegetarian</th>\n      <th>MntDrinks</th>\n      <th>MntDesserts</th>\n      <th>MntAdditionalRequests</th>\n      <th>NumOfferPurchases</th>\n      <th>NumAppPurchases</th>\n      <th>NumTakeAwayPurchases</th>\n      <th>NumStorePurchases</th>\n      <th>NumAppVisitsMonth</th>\n      <th>Complain</th>\n      <th>Gender</th>\n      <th>MntTotal</th>\n      <th>daysAsCardClient</th>\n      <th>Graduation</th>\n      <th>HighSchool</th>\n      <th>Master</th>\n      <th>PhD</th>\n      <th>Married</th>\n      <th>Single</th>\n      <th>Widow</th>\n      <th>Mnt_pday_card</th>\n      <th>Response_Campaigns</th>\n      <th>Total_Kids</th>\n      <th>has_Kids</th>\n    </tr>\n    <tr>\n      <th>CustomerID</th>\n      <th></th>\n      <th></th>\n      <th></th>\n      <th></th>\n      <th></th>\n      <th></th>\n      <th></th>\n      <th></th>\n      <th></th>\n      <th></th>\n      <th></th>\n      <th></th>\n      <th></th>\n      <th></th>\n      <th></th>\n      <th></th>\n      <th></th>\n      <th></th>\n      <th></th>\n      <th></th>\n      <th></th>\n      <th></th>\n      <th></th>\n      <th></th>\n      <th></th>\n      <th></th>\n      <th></th>\n      <th></th>\n      <th></th>\n      <th></th>\n    </tr>\n  </thead>\n  <tbody>\n    <tr>\n      <th>6185</th>\n      <td>Mr. Matt Clarkson</td>\n      <td>1991</td>\n      <td>4609.6</td>\n      <td>32.0</td>\n      <td>0.0</td>\n      <td>0</td>\n      <td>0.0</td>\n      <td>0.0</td>\n      <td>0.0</td>\n      <td>0.0</td>\n      <td>15</td>\n      <td>0</td>\n      <td>0</td>\n      <td>0</td>\n      <td>20</td>\n      <td>0</td>\n      <td>1</td>\n      <td>143.7</td>\n      <td>822</td>\n      <td>0</td>\n      <td>0</td>\n      <td>1</td>\n      <td>0</td>\n      <td>1</td>\n      <td>0</td>\n      <td>0</td>\n      <td>0.174818</td>\n      <td>0</td>\n      <td>2</td>\n      <td>1</td>\n    </tr>\n    <tr>\n      <th>7733</th>\n      <td>Mr. Jonathan Peake</td>\n      <td>1983</td>\n      <td>10214.7</td>\n      <td>53.0</td>\n      <td>991.0</td>\n      <td>72</td>\n      <td>217.5</td>\n      <td>24.0</td>\n      <td>72.0</td>\n      <td>1.2</td>\n      <td>15</td>\n      <td>1</td>\n      <td>1</td>\n      <td>0</td>\n      <td>20</td>\n      <td>0</td>\n      <td>1</td>\n      <td>1377.7</td>\n      <td>628</td>\n      <td>0</td>\n      <td>0</td>\n      <td>1</td>\n      <td>0</td>\n      <td>1</td>\n      <td>0</td>\n      <td>0</td>\n      <td>2.193790</td>\n      <td>0</td>\n      <td>1</td>\n      <td>1</td>\n    </tr>\n    <tr>\n      <th>11753</th>\n      <td>Mr. Andrew Thomson</td>\n      <td>1955</td>\n      <td>12680.0</td>\n      <td>67.0</td>\n      <td>450.0</td>\n      <td>60</td>\n      <td>1126.5</td>\n      <td>266.0</td>\n      <td>32.0</td>\n      <td>4.4</td>\n      <td>15</td>\n      <td>1</td>\n      <td>1</td>\n      <td>0</td>\n      <td>19</td>\n      <td>0</td>\n      <td>1</td>\n      <td>1938.9</td>\n      <td>792</td>\n      <td>1</td>\n      <td>0</td>\n      <td>0</td>\n      <td>0</td>\n      <td>1</td>\n      <td>0</td>\n      <td>0</td>\n      <td>2.448106</td>\n      <td>2</td>\n      <td>0</td>\n      <td>0</td>\n    </tr>\n    <tr>\n      <th>7679</th>\n      <td>Miss Carol Clark</td>\n      <td>1996</td>\n      <td>11211.9</td>\n      <td>2.0</td>\n      <td>739.0</td>\n      <td>214</td>\n      <td>463.5</td>\n      <td>214.0</td>\n      <td>160.0</td>\n      <td>3.5</td>\n      <td>15</td>\n      <td>0</td>\n      <td>1</td>\n      <td>1</td>\n      <td>20</td>\n      <td>0</td>\n      <td>0</td>\n      <td>1794.0</td>\n      <td>923</td>\n      <td>1</td>\n      <td>0</td>\n      <td>0</td>\n      <td>0</td>\n      <td>1</td>\n      <td>0</td>\n      <td>0</td>\n      <td>1.943662</td>\n      <td>0</td>\n      <td>1</td>\n      <td>1</td>\n    </tr>\n    <tr>\n      <th>20819</th>\n      <td>Mr. Colin Forsyth</td>\n      <td>1975</td>\n      <td>7875.9</td>\n      <td>94.0</td>\n      <td>263.0</td>\n      <td>10</td>\n      <td>349.5</td>\n      <td>106.0</td>\n      <td>82.0</td>\n      <td>8.3</td>\n      <td>15</td>\n      <td>1</td>\n      <td>1</td>\n      <td>1</td>\n      <td>20</td>\n      <td>0</td>\n      <td>1</td>\n      <td>818.8</td>\n      <td>965</td>\n      <td>1</td>\n      <td>0</td>\n      <td>0</td>\n      <td>0</td>\n      <td>1</td>\n      <td>0</td>\n      <td>0</td>\n      <td>0.848497</td>\n      <td>0</td>\n      <td>2</td>\n      <td>1</td>\n    </tr>\n    <tr>\n      <th>12011</th>\n      <td>Mr. Keith Mills</td>\n      <td>1967</td>\n      <td>8503.6</td>\n      <td>70.0</td>\n      <td>1046.0</td>\n      <td>0</td>\n      <td>31.5</td>\n      <td>0.0</td>\n      <td>0.0</td>\n      <td>12.9</td>\n      <td>15</td>\n      <td>0</td>\n      <td>0</td>\n      <td>1</td>\n      <td>20</td>\n      <td>0</td>\n      <td>1</td>\n      <td>1090.4</td>\n      <td>402</td>\n      <td>1</td>\n      <td>0</td>\n      <td>0</td>\n      <td>0</td>\n      <td>1</td>\n      <td>0</td>\n      <td>0</td>\n      <td>2.712438</td>\n      <td>3</td>\n      <td>0</td>\n      <td>0</td>\n    </tr>\n    <tr>\n      <th>31391</th>\n      <td>Mr. Justin Forsyth</td>\n      <td>1958</td>\n      <td>9709.1</td>\n      <td>26.0</td>\n      <td>304.0</td>\n      <td>184</td>\n      <td>265.5</td>\n      <td>170.0</td>\n      <td>98.0</td>\n      <td>4.9</td>\n      <td>15</td>\n      <td>0</td>\n      <td>0</td>\n      <td>1</td>\n      <td>19</td>\n      <td>0</td>\n      <td>1</td>\n      <td>1026.4</td>\n      <td>431</td>\n      <td>0</td>\n      <td>0</td>\n      <td>0</td>\n      <td>1</td>\n      <td>0</td>\n      <td>0</td>\n      <td>1</td>\n      <td>2.381439</td>\n      <td>0</td>\n      <td>0</td>\n      <td>0</td>\n    </tr>\n    <tr>\n      <th>26018</th>\n      <td>Mr. Alan Sanderson</td>\n      <td>1976</td>\n      <td>9539.3</td>\n      <td>40.0</td>\n      <td>118.0</td>\n      <td>36</td>\n      <td>121.5</td>\n      <td>62.0</td>\n      <td>30.0</td>\n      <td>3.6</td>\n      <td>15</td>\n      <td>1</td>\n      <td>0</td>\n      <td>1</td>\n      <td>19</td>\n      <td>0</td>\n      <td>1</td>\n      <td>371.1</td>\n      <td>310</td>\n      <td>1</td>\n      <td>0</td>\n      <td>0</td>\n      <td>0</td>\n      <td>0</td>\n      <td>1</td>\n      <td>0</td>\n      <td>1.197097</td>\n      <td>0</td>\n      <td>2</td>\n      <td>1</td>\n    </tr>\n    <tr>\n      <th>33314</th>\n      <td>Mr. Michael Parsons</td>\n      <td>1982</td>\n      <td>10468.8</td>\n      <td>10.0</td>\n      <td>851.0</td>\n      <td>170</td>\n      <td>237.0</td>\n      <td>194.0</td>\n      <td>72.0</td>\n      <td>6.0</td>\n      <td>15</td>\n      <td>1</td>\n      <td>1</td>\n      <td>1</td>\n      <td>20</td>\n      <td>0</td>\n      <td>1</td>\n      <td>1530.0</td>\n      <td>875</td>\n      <td>0</td>\n      <td>0</td>\n      <td>1</td>\n      <td>0</td>\n      <td>1</td>\n      <td>0</td>\n      <td>0</td>\n      <td>1.748571</td>\n      <td>1</td>\n      <td>1</td>\n      <td>1</td>\n    </tr>\n    <tr>\n      <th>25079</th>\n      <td>Mr. Harry Dickens</td>\n      <td>1959</td>\n      <td>5048.0</td>\n      <td>64.0</td>\n      <td>0.0</td>\n      <td>0</td>\n      <td>0.0</td>\n      <td>0.0</td>\n      <td>0.0</td>\n      <td>0.0</td>\n      <td>15</td>\n      <td>0</td>\n      <td>0</td>\n      <td>0</td>\n      <td>20</td>\n      <td>0</td>\n      <td>1</td>\n      <td>23.5</td>\n      <td>941</td>\n      <td>0</td>\n      <td>0</td>\n      <td>0</td>\n      <td>1</td>\n      <td>1</td>\n      <td>0</td>\n      <td>0</td>\n      <td>0.024973</td>\n      <td>0</td>\n      <td>1</td>\n      <td>1</td>\n    </tr>\n    <tr>\n      <th>23297</th>\n      <td>Mr. Harry Newman</td>\n      <td>1980</td>\n      <td>3909.6</td>\n      <td>29.0</td>\n      <td>0.0</td>\n      <td>0</td>\n      <td>0.0</td>\n      <td>0.0</td>\n      <td>0.0</td>\n      <td>0.0</td>\n      <td>15</td>\n      <td>0</td>\n      <td>0</td>\n      <td>0</td>\n      <td>20</td>\n      <td>0</td>\n      <td>1</td>\n      <td>16.8</td>\n      <td>843</td>\n      <td>1</td>\n      <td>0</td>\n      <td>0</td>\n      <td>0</td>\n      <td>1</td>\n      <td>0</td>\n      <td>0</td>\n      <td>0.019929</td>\n      <td>0</td>\n      <td>2</td>\n      <td>1</td>\n    </tr>\n    <tr>\n      <th>34565</th>\n      <td>Miss Jasmine Russell</td>\n      <td>1962</td>\n      <td>7644.8</td>\n      <td>15.0</td>\n      <td>0.0</td>\n      <td>0</td>\n      <td>0.0</td>\n      <td>0.0</td>\n      <td>0.0</td>\n      <td>0.0</td>\n      <td>15</td>\n      <td>0</td>\n      <td>0</td>\n      <td>0</td>\n      <td>19</td>\n      <td>0</td>\n      <td>0</td>\n      <td>242.7</td>\n      <td>651</td>\n      <td>0</td>\n      <td>1</td>\n      <td>0</td>\n      <td>0</td>\n      <td>0</td>\n      <td>1</td>\n      <td>0</td>\n      <td>0.372811</td>\n      <td>1</td>\n      <td>2</td>\n      <td>1</td>\n    </tr>\n    <tr>\n      <th>33191</th>\n      <td>Mr. Phil Kerr</td>\n      <td>1976</td>\n      <td>11628.4</td>\n      <td>71.0</td>\n      <td>126.0</td>\n      <td>368</td>\n      <td>672.0</td>\n      <td>276.0</td>\n      <td>50.6</td>\n      <td>3.5</td>\n      <td>15</td>\n      <td>1</td>\n      <td>1</td>\n      <td>1</td>\n      <td>19</td>\n      <td>0</td>\n      <td>1</td>\n      <td>1496.1</td>\n      <td>367</td>\n      <td>0</td>\n      <td>1</td>\n      <td>0</td>\n      <td>0</td>\n      <td>1</td>\n      <td>0</td>\n      <td>0</td>\n      <td>4.076567</td>\n      <td>0</td>\n      <td>0</td>\n      <td>0</td>\n    </tr>\n    <tr>\n      <th>34802</th>\n      <td>Miss Ava Randall</td>\n      <td>1981</td>\n      <td>11552.4</td>\n      <td>17.0</td>\n      <td>1042.0</td>\n      <td>0</td>\n      <td>594.0</td>\n      <td>28.0</td>\n      <td>28.0</td>\n      <td>13.2</td>\n      <td>16</td>\n      <td>1</td>\n      <td>1</td>\n      <td>0</td>\n      <td>20</td>\n      <td>0</td>\n      <td>0</td>\n      <td>1705.2</td>\n      <td>973</td>\n      <td>0</td>\n      <td>0</td>\n      <td>0</td>\n      <td>1</td>\n      <td>1</td>\n      <td>0</td>\n      <td>0</td>\n      <td>1.752518</td>\n      <td>1</td>\n      <td>2</td>\n      <td>1</td>\n    </tr>\n    <tr>\n      <th>33236</th>\n      <td>Mr. Stewart Henderson</td>\n      <td>1978</td>\n      <td>6535.7</td>\n      <td>26.0</td>\n      <td>388.0</td>\n      <td>8</td>\n      <td>51.0</td>\n      <td>8.0</td>\n      <td>0.0</td>\n      <td>0.4</td>\n      <td>15</td>\n      <td>1</td>\n      <td>0</td>\n      <td>1</td>\n      <td>20</td>\n      <td>0</td>\n      <td>1</td>\n      <td>455.4</td>\n      <td>792</td>\n      <td>0</td>\n      <td>0</td>\n      <td>0</td>\n      <td>1</td>\n      <td>1</td>\n      <td>0</td>\n      <td>0</td>\n      <td>0.575000</td>\n      <td>0</td>\n      <td>1</td>\n      <td>1</td>\n    </tr>\n    <tr>\n      <th>23306</th>\n      <td>Mr. Michael Glover</td>\n      <td>1994</td>\n      <td>10582.4</td>\n      <td>87.0</td>\n      <td>1327.0</td>\n      <td>228</td>\n      <td>994.5</td>\n      <td>228.0</td>\n      <td>182.0</td>\n      <td>2.2</td>\n      <td>15</td>\n      <td>1</td>\n      <td>1</td>\n      <td>1</td>\n      <td>20</td>\n      <td>0</td>\n      <td>1</td>\n      <td>2961.7</td>\n      <td>935</td>\n      <td>0</td>\n      <td>1</td>\n      <td>0</td>\n      <td>0</td>\n      <td>1</td>\n      <td>0</td>\n      <td>0</td>\n      <td>3.167594</td>\n      <td>3</td>\n      <td>0</td>\n      <td>0</td>\n    </tr>\n    <tr>\n      <th>13388</th>\n      <td>Mr. Eric Berry</td>\n      <td>1984</td>\n      <td>4554.8</td>\n      <td>99.0</td>\n      <td>0.0</td>\n      <td>0</td>\n      <td>0.0</td>\n      <td>0.0</td>\n      <td>0.0</td>\n      <td>0.0</td>\n      <td>15</td>\n      <td>0</td>\n      <td>0</td>\n      <td>0</td>\n      <td>20</td>\n      <td>0</td>\n      <td>1</td>\n      <td>66.1</td>\n      <td>807</td>\n      <td>0</td>\n      <td>1</td>\n      <td>0</td>\n      <td>0</td>\n      <td>1</td>\n      <td>0</td>\n      <td>0</td>\n      <td>0.081908</td>\n      <td>0</td>\n      <td>1</td>\n      <td>1</td>\n    </tr>\n    <tr>\n      <th>28973</th>\n      <td>Miss Sonia Hemmings</td>\n      <td>1969</td>\n      <td>9599.2</td>\n      <td>97.0</td>\n      <td>512.0</td>\n      <td>26</td>\n      <td>147.0</td>\n      <td>12.0</td>\n      <td>52.0</td>\n      <td>12.4</td>\n      <td>15</td>\n      <td>1</td>\n      <td>0</td>\n      <td>1</td>\n      <td>20</td>\n      <td>0</td>\n      <td>0</td>\n      <td>761.4</td>\n      <td>697</td>\n      <td>1</td>\n      <td>0</td>\n      <td>0</td>\n      <td>0</td>\n      <td>1</td>\n      <td>0</td>\n      <td>0</td>\n      <td>1.092396</td>\n      <td>0</td>\n      <td>1</td>\n      <td>1</td>\n    </tr>\n    <tr>\n      <th>16043</th>\n      <td>Miss Wendy Coleman</td>\n      <td>1969</td>\n      <td>13985.1</td>\n      <td>87.0</td>\n      <td>646.0</td>\n      <td>20</td>\n      <td>477.0</td>\n      <td>40.0</td>\n      <td>82.0</td>\n      <td>6.1</td>\n      <td>15</td>\n      <td>1</td>\n      <td>0</td>\n      <td>1</td>\n      <td>19</td>\n      <td>0</td>\n      <td>0</td>\n      <td>1271.1</td>\n      <td>599</td>\n      <td>0</td>\n      <td>0</td>\n      <td>0</td>\n      <td>1</td>\n      <td>0</td>\n      <td>1</td>\n      <td>0</td>\n      <td>2.122037</td>\n      <td>1</td>\n      <td>2</td>\n      <td>1</td>\n    </tr>\n    <tr>\n      <th>5366</th>\n      <td>Mr. Boris Reid</td>\n      <td>1975</td>\n      <td>6065.1</td>\n      <td>75.0</td>\n      <td>0.0</td>\n      <td>0</td>\n      <td>0.0</td>\n      <td>0.0</td>\n      <td>0.0</td>\n      <td>0.0</td>\n      <td>15</td>\n      <td>0</td>\n      <td>0</td>\n      <td>0</td>\n      <td>19</td>\n      <td>0</td>\n      <td>1</td>\n      <td>62.7</td>\n      <td>342</td>\n      <td>0</td>\n      <td>0</td>\n      <td>0</td>\n      <td>1</td>\n      <td>0</td>\n      <td>1</td>\n      <td>0</td>\n      <td>0.183333</td>\n      <td>0</td>\n      <td>2</td>\n      <td>1</td>\n    </tr>\n    <tr>\n      <th>31409</th>\n      <td>Mr. Christian Allan</td>\n      <td>1985</td>\n      <td>3746.5</td>\n      <td>35.0</td>\n      <td>0.0</td>\n      <td>0</td>\n      <td>0.0</td>\n      <td>0.0</td>\n      <td>0.0</td>\n      <td>0.0</td>\n      <td>15</td>\n      <td>0</td>\n      <td>0</td>\n      <td>0</td>\n      <td>20</td>\n      <td>0</td>\n      <td>1</td>\n      <td>186.5</td>\n      <td>943</td>\n      <td>1</td>\n      <td>0</td>\n      <td>0</td>\n      <td>0</td>\n      <td>0</td>\n      <td>0</td>\n      <td>0</td>\n      <td>0.197773</td>\n      <td>0</td>\n      <td>1</td>\n      <td>1</td>\n    </tr>\n    <tr>\n      <th>27335</th>\n      <td>Mr. Alan Mathis</td>\n      <td>1984</td>\n      <td>7984.8</td>\n      <td>72.0</td>\n      <td>141.0</td>\n      <td>2</td>\n      <td>43.5</td>\n      <td>0.0</td>\n      <td>26.0</td>\n      <td>4.2</td>\n      <td>15</td>\n      <td>1</td>\n      <td>0</td>\n      <td>0</td>\n      <td>20</td>\n      <td>0</td>\n      <td>1</td>\n      <td>216.7</td>\n      <td>686</td>\n      <td>1</td>\n      <td>0</td>\n      <td>0</td>\n      <td>0</td>\n      <td>1</td>\n      <td>0</td>\n      <td>0</td>\n      <td>0.315889</td>\n      <td>0</td>\n      <td>2</td>\n      <td>1</td>\n    </tr>\n    <tr>\n      <th>30521</th>\n      <td>Miss Stephanie Terry</td>\n      <td>1955</td>\n      <td>3623.7</td>\n      <td>94.0</td>\n      <td>0.0</td>\n      <td>0</td>\n      <td>0.0</td>\n      <td>0.0</td>\n      <td>0.0</td>\n      <td>0.0</td>\n      <td>15</td>\n      <td>0</td>\n      <td>0</td>\n      <td>0</td>\n      <td>20</td>\n      <td>0</td>\n      <td>0</td>\n      <td>230.8</td>\n      <td>490</td>\n      <td>1</td>\n      <td>0</td>\n      <td>0</td>\n      <td>0</td>\n      <td>1</td>\n      <td>0</td>\n      <td>0</td>\n      <td>0.471020</td>\n      <td>1</td>\n      <td>0</td>\n      <td>0</td>\n    </tr>\n    <tr>\n      <th>11162</th>\n      <td>Mr. Leonard Nolan</td>\n      <td>1968</td>\n      <td>11451.7</td>\n      <td>68.0</td>\n      <td>516.0</td>\n      <td>398</td>\n      <td>823.5</td>\n      <td>166.0</td>\n      <td>63.2</td>\n      <td>4.9</td>\n      <td>15</td>\n      <td>1</td>\n      <td>1</td>\n      <td>0</td>\n      <td>19</td>\n      <td>0</td>\n      <td>1</td>\n      <td>1971.6</td>\n      <td>656</td>\n      <td>1</td>\n      <td>0</td>\n      <td>0</td>\n      <td>0</td>\n      <td>1</td>\n      <td>0</td>\n      <td>0</td>\n      <td>3.005488</td>\n      <td>0</td>\n      <td>0</td>\n      <td>0</td>\n    </tr>\n    <tr>\n      <th>23030</th>\n      <td>Miss Lily Gibson</td>\n      <td>1966</td>\n      <td>9153.4</td>\n      <td>74.0</td>\n      <td>131.0</td>\n      <td>74</td>\n      <td>136.5</td>\n      <td>100.0</td>\n      <td>46.0</td>\n      <td>3.0</td>\n      <td>15</td>\n      <td>0</td>\n      <td>0</td>\n      <td>1</td>\n      <td>19</td>\n      <td>0</td>\n      <td>0</td>\n      <td>490.5</td>\n      <td>461</td>\n      <td>0</td>\n      <td>1</td>\n      <td>0</td>\n      <td>0</td>\n      <td>0</td>\n      <td>1</td>\n      <td>0</td>\n      <td>1.063991</td>\n      <td>0</td>\n      <td>1</td>\n      <td>1</td>\n    </tr>\n    <tr>\n      <th>13748</th>\n      <td>Mr. David Paige</td>\n      <td>1977</td>\n      <td>9432.2</td>\n      <td>99.0</td>\n      <td>1152.0</td>\n      <td>0</td>\n      <td>528.0</td>\n      <td>96.0</td>\n      <td>96.0</td>\n      <td>1.6</td>\n      <td>15</td>\n      <td>1</td>\n      <td>1</td>\n      <td>1</td>\n      <td>20</td>\n      <td>0</td>\n      <td>1</td>\n      <td>1873.6</td>\n      <td>744</td>\n      <td>0</td>\n      <td>0</td>\n      <td>0</td>\n      <td>1</td>\n      <td>1</td>\n      <td>0</td>\n      <td>0</td>\n      <td>2.518280</td>\n      <td>1</td>\n      <td>1</td>\n      <td>1</td>\n    </tr>\n    <tr>\n      <th>25838</th>\n      <td>Mrs. Rebecca Gray</td>\n      <td>1980</td>\n      <td>6577.2</td>\n      <td>21.0</td>\n      <td>466.0</td>\n      <td>66</td>\n      <td>286.5</td>\n      <td>198.0</td>\n      <td>66.0</td>\n      <td>7.4</td>\n      <td>15</td>\n      <td>1</td>\n      <td>0</td>\n      <td>1</td>\n      <td>20</td>\n      <td>0</td>\n      <td>0</td>\n      <td>1089.9</td>\n      <td>947</td>\n      <td>1</td>\n      <td>0</td>\n      <td>0</td>\n      <td>0</td>\n      <td>1</td>\n      <td>0</td>\n      <td>0</td>\n      <td>1.150898</td>\n      <td>0</td>\n      <td>0</td>\n      <td>0</td>\n    </tr>\n    <tr>\n      <th>7448</th>\n      <td>Mr. Jake Mitchell</td>\n      <td>2002</td>\n      <td>14060.7</td>\n      <td>71.0</td>\n      <td>594.0</td>\n      <td>236</td>\n      <td>1246.5</td>\n      <td>47.4</td>\n      <td>396.0</td>\n      <td>7.9</td>\n      <td>15</td>\n      <td>0</td>\n      <td>1</td>\n      <td>1</td>\n      <td>19</td>\n      <td>0</td>\n      <td>1</td>\n      <td>2527.8</td>\n      <td>387</td>\n      <td>0</td>\n      <td>1</td>\n      <td>0</td>\n      <td>0</td>\n      <td>1</td>\n      <td>0</td>\n      <td>0</td>\n      <td>6.531783</td>\n      <td>1</td>\n      <td>0</td>\n      <td>0</td>\n    </tr>\n    <tr>\n      <th>26696</th>\n      <td>Mr. Charles Pullman</td>\n      <td>1960</td>\n      <td>5171.2</td>\n      <td>89.0</td>\n      <td>0.0</td>\n      <td>0</td>\n      <td>0.0</td>\n      <td>0.0</td>\n      <td>0.0</td>\n      <td>0.0</td>\n      <td>15</td>\n      <td>0</td>\n      <td>0</td>\n      <td>0</td>\n      <td>20</td>\n      <td>0</td>\n      <td>1</td>\n      <td>59.4</td>\n      <td>285</td>\n      <td>1</td>\n      <td>0</td>\n      <td>0</td>\n      <td>0</td>\n      <td>0</td>\n      <td>0</td>\n      <td>0</td>\n      <td>0.208421</td>\n      <td>0</td>\n      <td>0</td>\n      <td>0</td>\n    </tr>\n    <tr>\n      <th>12800</th>\n      <td>Mr. Sebastian Paige</td>\n      <td>1973</td>\n      <td>7175.5</td>\n      <td>53.0</td>\n      <td>0.0</td>\n      <td>0</td>\n      <td>0.0</td>\n      <td>0.0</td>\n      <td>0.0</td>\n      <td>0.0</td>\n      <td>15</td>\n      <td>0</td>\n      <td>0</td>\n      <td>0</td>\n      <td>20</td>\n      <td>0</td>\n      <td>1</td>\n      <td>181.0</td>\n      <td>846</td>\n      <td>0</td>\n      <td>0</td>\n      <td>0</td>\n      <td>1</td>\n      <td>1</td>\n      <td>0</td>\n      <td>0</td>\n      <td>0.213948</td>\n      <td>0</td>\n      <td>4</td>\n      <td>1</td>\n    </tr>\n    <tr>\n      <th>17996</th>\n      <td>Mr. Paul Peters</td>\n      <td>1959</td>\n      <td>7507.0</td>\n      <td>97.0</td>\n      <td>0.0</td>\n      <td>0</td>\n      <td>0.0</td>\n      <td>0.0</td>\n      <td>0.0</td>\n      <td>0.0</td>\n      <td>15</td>\n      <td>0</td>\n      <td>0</td>\n      <td>0</td>\n      <td>19</td>\n      <td>0</td>\n      <td>1</td>\n      <td>52.8</td>\n      <td>291</td>\n      <td>0</td>\n      <td>0</td>\n      <td>0</td>\n      <td>1</td>\n      <td>1</td>\n      <td>0</td>\n      <td>0</td>\n      <td>0.181443</td>\n      <td>1</td>\n      <td>1</td>\n      <td>1</td>\n    </tr>\n    <tr>\n      <th>21251</th>\n      <td>Miss Kimberly Ellison</td>\n      <td>1970</td>\n      <td>7298.2</td>\n      <td>20.0</td>\n      <td>216.0</td>\n      <td>20</td>\n      <td>153.0</td>\n      <td>12.0</td>\n      <td>12.0</td>\n      <td>4.4</td>\n      <td>15</td>\n      <td>1</td>\n      <td>0</td>\n      <td>0</td>\n      <td>20</td>\n      <td>0</td>\n      <td>0</td>\n      <td>417.4</td>\n      <td>922</td>\n      <td>1</td>\n      <td>0</td>\n      <td>0</td>\n      <td>0</td>\n      <td>1</td>\n      <td>0</td>\n      <td>0</td>\n      <td>0.452711</td>\n      <td>0</td>\n      <td>1</td>\n      <td>1</td>\n    </tr>\n    <tr>\n      <th>7127</th>\n      <td>Mr. Joe Chapman</td>\n      <td>1986</td>\n      <td>6324.3</td>\n      <td>85.0</td>\n      <td>0.0</td>\n      <td>0</td>\n      <td>0.0</td>\n      <td>0.0</td>\n      <td>0.0</td>\n      <td>0.0</td>\n      <td>15</td>\n      <td>0</td>\n      <td>0</td>\n      <td>0</td>\n      <td>20</td>\n      <td>0</td>\n      <td>1</td>\n      <td>293.8</td>\n      <td>445</td>\n      <td>0</td>\n      <td>1</td>\n      <td>0</td>\n      <td>0</td>\n      <td>0</td>\n      <td>0</td>\n      <td>0</td>\n      <td>0.660225</td>\n      <td>0</td>\n      <td>1</td>\n      <td>1</td>\n    </tr>\n  </tbody>\n</table>\n</div>"
     },
     "execution_count": 54,
     "metadata": {},
     "output_type": "execute_result"
    }
   ],
   "source": [
    "df[(df['NumOfferPurchases'] > df[['NumAppPurchases','NumTakeAwayPurchases','NumStorePurchases']].sum(axis=1))]"
   ],
   "metadata": {
    "collapsed": false
   }
  },
  {
   "cell_type": "code",
   "execution_count": 55,
   "outputs": [],
   "source": [
    "df.loc[(df['NumOfferPurchases'] > df[['NumAppPurchases','NumTakeAwayPurchases','NumStorePurchases']].sum(axis=1)),'NumOfferPurchases'] = df['NumAppPurchases'] + df['NumTakeAwayPurchases'] + df['NumStorePurchases']"
   ],
   "metadata": {
    "collapsed": false
   }
  },
  {
   "cell_type": "code",
   "execution_count": 68,
   "outputs": [
    {
     "data": {
      "text/plain": "Empty DataFrame\nColumns: [Name, Birthyear, Income, Recency, MntMeat&Fish, MntEntries, MntVegan&Vegetarian, MntDrinks, MntDesserts, MntAdditionalRequests, NumOfferPurchases, NumAppPurchases, NumTakeAwayPurchases, NumStorePurchases, NumAppVisitsMonth, Complain, Gender, MntTotal, daysAsCardClient, Graduation, HighSchool, Master, PhD, Married, Single, Widow, Mnt_pday_card, Response_Campaigns, Total_Kids, has_Kids]\nIndex: []",
      "text/html": "<div>\n<style scoped>\n    .dataframe tbody tr th:only-of-type {\n        vertical-align: middle;\n    }\n\n    .dataframe tbody tr th {\n        vertical-align: top;\n    }\n\n    .dataframe thead th {\n        text-align: right;\n    }\n</style>\n<table border=\"1\" class=\"dataframe\">\n  <thead>\n    <tr style=\"text-align: right;\">\n      <th></th>\n      <th>Name</th>\n      <th>Birthyear</th>\n      <th>Income</th>\n      <th>Recency</th>\n      <th>MntMeat&amp;Fish</th>\n      <th>MntEntries</th>\n      <th>MntVegan&amp;Vegetarian</th>\n      <th>MntDrinks</th>\n      <th>MntDesserts</th>\n      <th>MntAdditionalRequests</th>\n      <th>NumOfferPurchases</th>\n      <th>NumAppPurchases</th>\n      <th>NumTakeAwayPurchases</th>\n      <th>NumStorePurchases</th>\n      <th>NumAppVisitsMonth</th>\n      <th>Complain</th>\n      <th>Gender</th>\n      <th>MntTotal</th>\n      <th>daysAsCardClient</th>\n      <th>Graduation</th>\n      <th>HighSchool</th>\n      <th>Master</th>\n      <th>PhD</th>\n      <th>Married</th>\n      <th>Single</th>\n      <th>Widow</th>\n      <th>Mnt_pday_card</th>\n      <th>Response_Campaigns</th>\n      <th>Total_Kids</th>\n      <th>has_Kids</th>\n    </tr>\n    <tr>\n      <th>CustomerID</th>\n      <th></th>\n      <th></th>\n      <th></th>\n      <th></th>\n      <th></th>\n      <th></th>\n      <th></th>\n      <th></th>\n      <th></th>\n      <th></th>\n      <th></th>\n      <th></th>\n      <th></th>\n      <th></th>\n      <th></th>\n      <th></th>\n      <th></th>\n      <th></th>\n      <th></th>\n      <th></th>\n      <th></th>\n      <th></th>\n      <th></th>\n      <th></th>\n      <th></th>\n      <th></th>\n      <th></th>\n      <th></th>\n      <th></th>\n      <th></th>\n    </tr>\n  </thead>\n  <tbody>\n  </tbody>\n</table>\n</div>"
     },
     "execution_count": 68,
     "metadata": {},
     "output_type": "execute_result"
    }
   ],
   "source": [
    "df[(df['NumOfferPurchases'] > df[['NumAppPurchases','NumTakeAwayPurchases','NumStorePurchases']].sum(axis=1))] # confirmação do ajuste"
   ],
   "metadata": {
    "collapsed": false
   }
  },
  {
   "cell_type": "markdown",
   "metadata": {
    "collapsed": false
   },
   "source": [
    "## Data Review\n",
    "\n",
    "Ver a dataframe no seu estado final\n",
    "Drop: Id, name, birthyear, date_adherence, total_kids, mntTotal"
   ]
  },
  {
   "cell_type": "code",
   "execution_count": 57,
   "metadata": {
    "collapsed": false
   },
   "outputs": [
    {
     "data": {
      "text/plain": "                          Name  Birthyear    Income  Recency  MntMeat&Fish  \\\nCustomerID                                                                   \n14594          Miss Leah Lewis       1981  113947.0     43.0        4640.0   \n19070         Miss Grace Black       1974  114297.0     74.0        7080.0   \n29888       Mr. Gavin Morrison       1960  115476.0     85.0        4130.0   \n12221          Mr. Ryan Glover       1980  101172.0     25.0        3590.0   \n21107        Mr. Paul Anderson       1971  123128.0     64.0        5390.0   \n\n            MntEntries  MntVegan&Vegetarian  MntDrinks  MntDesserts  \\\nCustomerID                                                            \n14594             3380               5700.0     2240.0        562.0   \n19070             3680               7620.0     1840.0       1220.0   \n29888              380               4890.0     3640.0        380.0   \n12221                0               1770.0       80.0        180.0   \n21107             1126               9495.0      656.0        562.0   \n\n            MntAdditionalRequests  NumOfferPurchases  NumAppPurchases  \\\nCustomerID                                                              \n14594                       154.0                  2               10   \n19070                        46.0                  1                5   \n29888                        28.0                  1                5   \n12221                        14.0                  5                8   \n21107                        74.0                  0                4   \n\n            NumTakeAwayPurchases  NumStorePurchases  NumAppVisitsMonth  \\\nCustomerID                                                               \n14594                          7                  7                  4   \n19070                          9                 12                  2   \n29888                          5                  7                  1   \n12221                          3                  8                  5   \n21107                          7                  8                  5   \n\n            Complain  Gender  MntTotal  daysAsCardClient  Graduation  \\\nCustomerID                                                             \n14594              0       0   16676.0               821           1   \n19070              0       0   21486.0               730           1   \n29888              0       1   13448.0               453           0   \n12221              0       1    5634.0               545           1   \n21107              0       1   17303.0               850           0   \n\n            HighSchool  Master  PhD  Married  Single  Widow  Mnt_pday_card  \\\nCustomerID                                                                   \n14594                0       0    0        0       1      0      20.311815   \n19070                0       0    0        1       0      0      29.432877   \n29888                0       0    1        1       0      0      29.686534   \n12221                0       0    0        1       0      0      10.337615   \n21107                1       0    0        0       1      0      20.356471   \n\n            Response_Campaigns  Total_Kids  has_Kids  \nCustomerID                                            \n14594                        1           0         0  \n19070                        0           0         0  \n29888                        0           0         0  \n12221                        0           2         1  \n21107                        2           0         0  ",
      "text/html": "<div>\n<style scoped>\n    .dataframe tbody tr th:only-of-type {\n        vertical-align: middle;\n    }\n\n    .dataframe tbody tr th {\n        vertical-align: top;\n    }\n\n    .dataframe thead th {\n        text-align: right;\n    }\n</style>\n<table border=\"1\" class=\"dataframe\">\n  <thead>\n    <tr style=\"text-align: right;\">\n      <th></th>\n      <th>Name</th>\n      <th>Birthyear</th>\n      <th>Income</th>\n      <th>Recency</th>\n      <th>MntMeat&amp;Fish</th>\n      <th>MntEntries</th>\n      <th>MntVegan&amp;Vegetarian</th>\n      <th>MntDrinks</th>\n      <th>MntDesserts</th>\n      <th>MntAdditionalRequests</th>\n      <th>NumOfferPurchases</th>\n      <th>NumAppPurchases</th>\n      <th>NumTakeAwayPurchases</th>\n      <th>NumStorePurchases</th>\n      <th>NumAppVisitsMonth</th>\n      <th>Complain</th>\n      <th>Gender</th>\n      <th>MntTotal</th>\n      <th>daysAsCardClient</th>\n      <th>Graduation</th>\n      <th>HighSchool</th>\n      <th>Master</th>\n      <th>PhD</th>\n      <th>Married</th>\n      <th>Single</th>\n      <th>Widow</th>\n      <th>Mnt_pday_card</th>\n      <th>Response_Campaigns</th>\n      <th>Total_Kids</th>\n      <th>has_Kids</th>\n    </tr>\n    <tr>\n      <th>CustomerID</th>\n      <th></th>\n      <th></th>\n      <th></th>\n      <th></th>\n      <th></th>\n      <th></th>\n      <th></th>\n      <th></th>\n      <th></th>\n      <th></th>\n      <th></th>\n      <th></th>\n      <th></th>\n      <th></th>\n      <th></th>\n      <th></th>\n      <th></th>\n      <th></th>\n      <th></th>\n      <th></th>\n      <th></th>\n      <th></th>\n      <th></th>\n      <th></th>\n      <th></th>\n      <th></th>\n      <th></th>\n      <th></th>\n      <th></th>\n      <th></th>\n    </tr>\n  </thead>\n  <tbody>\n    <tr>\n      <th>14594</th>\n      <td>Miss Leah Lewis</td>\n      <td>1981</td>\n      <td>113947.0</td>\n      <td>43.0</td>\n      <td>4640.0</td>\n      <td>3380</td>\n      <td>5700.0</td>\n      <td>2240.0</td>\n      <td>562.0</td>\n      <td>154.0</td>\n      <td>2</td>\n      <td>10</td>\n      <td>7</td>\n      <td>7</td>\n      <td>4</td>\n      <td>0</td>\n      <td>0</td>\n      <td>16676.0</td>\n      <td>821</td>\n      <td>1</td>\n      <td>0</td>\n      <td>0</td>\n      <td>0</td>\n      <td>0</td>\n      <td>1</td>\n      <td>0</td>\n      <td>20.311815</td>\n      <td>1</td>\n      <td>0</td>\n      <td>0</td>\n    </tr>\n    <tr>\n      <th>19070</th>\n      <td>Miss Grace Black</td>\n      <td>1974</td>\n      <td>114297.0</td>\n      <td>74.0</td>\n      <td>7080.0</td>\n      <td>3680</td>\n      <td>7620.0</td>\n      <td>1840.0</td>\n      <td>1220.0</td>\n      <td>46.0</td>\n      <td>1</td>\n      <td>5</td>\n      <td>9</td>\n      <td>12</td>\n      <td>2</td>\n      <td>0</td>\n      <td>0</td>\n      <td>21486.0</td>\n      <td>730</td>\n      <td>1</td>\n      <td>0</td>\n      <td>0</td>\n      <td>0</td>\n      <td>1</td>\n      <td>0</td>\n      <td>0</td>\n      <td>29.432877</td>\n      <td>0</td>\n      <td>0</td>\n      <td>0</td>\n    </tr>\n    <tr>\n      <th>29888</th>\n      <td>Mr. Gavin Morrison</td>\n      <td>1960</td>\n      <td>115476.0</td>\n      <td>85.0</td>\n      <td>4130.0</td>\n      <td>380</td>\n      <td>4890.0</td>\n      <td>3640.0</td>\n      <td>380.0</td>\n      <td>28.0</td>\n      <td>1</td>\n      <td>5</td>\n      <td>5</td>\n      <td>7</td>\n      <td>1</td>\n      <td>0</td>\n      <td>1</td>\n      <td>13448.0</td>\n      <td>453</td>\n      <td>0</td>\n      <td>0</td>\n      <td>0</td>\n      <td>1</td>\n      <td>1</td>\n      <td>0</td>\n      <td>0</td>\n      <td>29.686534</td>\n      <td>0</td>\n      <td>0</td>\n      <td>0</td>\n    </tr>\n    <tr>\n      <th>12221</th>\n      <td>Mr. Ryan Glover</td>\n      <td>1980</td>\n      <td>101172.0</td>\n      <td>25.0</td>\n      <td>3590.0</td>\n      <td>0</td>\n      <td>1770.0</td>\n      <td>80.0</td>\n      <td>180.0</td>\n      <td>14.0</td>\n      <td>5</td>\n      <td>8</td>\n      <td>3</td>\n      <td>8</td>\n      <td>5</td>\n      <td>0</td>\n      <td>1</td>\n      <td>5634.0</td>\n      <td>545</td>\n      <td>1</td>\n      <td>0</td>\n      <td>0</td>\n      <td>0</td>\n      <td>1</td>\n      <td>0</td>\n      <td>0</td>\n      <td>10.337615</td>\n      <td>0</td>\n      <td>2</td>\n      <td>1</td>\n    </tr>\n    <tr>\n      <th>21107</th>\n      <td>Mr. Paul Anderson</td>\n      <td>1971</td>\n      <td>123128.0</td>\n      <td>64.0</td>\n      <td>5390.0</td>\n      <td>1126</td>\n      <td>9495.0</td>\n      <td>656.0</td>\n      <td>562.0</td>\n      <td>74.0</td>\n      <td>0</td>\n      <td>4</td>\n      <td>7</td>\n      <td>8</td>\n      <td>5</td>\n      <td>0</td>\n      <td>1</td>\n      <td>17303.0</td>\n      <td>850</td>\n      <td>0</td>\n      <td>1</td>\n      <td>0</td>\n      <td>0</td>\n      <td>0</td>\n      <td>1</td>\n      <td>0</td>\n      <td>20.356471</td>\n      <td>2</td>\n      <td>0</td>\n      <td>0</td>\n    </tr>\n  </tbody>\n</table>\n</div>"
     },
     "execution_count": 57,
     "metadata": {},
     "output_type": "execute_result"
    }
   ],
   "source": [
    "df.head()"
   ]
  },
  {
   "cell_type": "code",
   "execution_count": 58,
   "metadata": {
    "collapsed": false
   },
   "outputs": [
    {
     "data": {
      "text/plain": "         Birthyear         Income      Recency  MntMeat&Fish   MntEntries  \\\ncount  7000.000000    7000.000000  7000.000000   7000.000000  7000.000000   \nmean   1976.451429   77988.962407    49.235058   3079.338657   534.676571   \nstd      11.996270   35409.810253    28.875126   3370.543582   787.890295   \nmin    1948.000000    2493.800000     0.000000      0.000000     0.000000   \n25%    1967.000000   51586.250000    24.000000    250.000000    40.000000   \n50%    1977.000000   77190.000000    49.000000   1820.000000   180.000000   \n75%    1985.000000  102016.250000    74.000000   5070.000000   680.000000   \nmax    2005.000000  237639.725000    99.000000  14980.000000  3980.000000   \n\n       MntVegan&Vegetarian    MntDrinks  MntDesserts  MntAdditionalRequests  \\\ncount          7000.000000  7000.000000  7000.000000            7000.000000   \nmean           2777.790571   546.374152   540.562314              42.544371   \nstd            3891.668111   805.480676   802.282712              49.660142   \nmin               0.000000     0.000000     0.000000               0.000000   \n25%             240.000000    40.000000    40.000000               9.000000   \n50%            1110.000000   180.000000   180.000000              24.000000   \n75%            3795.000000   700.000000   680.000000              57.000000   \nmax           25974.000000  3980.000000  3980.000000             249.000000   \n\n       NumOfferPurchases  NumAppPurchases  NumTakeAwayPurchases  \\\ncount        7000.000000      7000.000000           7000.000000   \nmean            2.383571         6.015714              3.834571   \nstd             2.140951         2.745537              3.331142   \nmin             0.000000         0.000000              0.000000   \n25%             1.000000         4.000000              1.000000   \n50%             2.000000         6.000000              3.000000   \n75%             3.000000         8.000000              5.000000   \nmax            16.000000        13.000000             24.000000   \n\n       NumStorePurchases  NumAppVisitsMonth     Complain       Gender  \\\ncount        7000.000000        7000.000000  7000.000000  7000.000000   \nmean            5.790571           5.278286     0.010286     0.733286   \nstd             3.295708           2.748596     0.100903     0.442273   \nmin             0.000000           0.000000     0.000000     0.000000   \n25%             3.000000           3.000000     0.000000     0.000000   \n50%             5.000000           5.000000     0.000000     1.000000   \n75%             8.000000           7.000000     0.000000     1.000000   \nmax            13.000000          20.000000     1.000000     1.000000   \n\n           MntTotal  daysAsCardClient   Graduation   HighSchool       Master  \\\ncount   7000.000000       7000.000000  7000.000000  7000.000000  7000.000000   \nmean    7529.000095        632.302714     0.502571     0.095000     0.163143   \nstd     7649.219409        202.826692     0.500029     0.293236     0.369522   \nmin       16.800000        285.000000     0.000000     0.000000     0.000000   \n25%      812.750000        457.000000     0.000000     0.000000     0.000000   \n50%     4652.500000        626.500000     1.000000     0.000000     0.000000   \n75%    12764.750000        808.000000     1.000000     0.000000     0.000000   \nmax    33256.000000        984.000000     1.000000     1.000000     1.000000   \n\n               PhD      Married       Single        Widow  Mnt_pday_card  \\\ncount  7000.000000  7000.000000  7000.000000  7000.000000    7000.000000   \nmean      0.213714     0.653143     0.219714     0.035000      12.723414   \nstd       0.409957     0.476004     0.414083     0.183793      14.030254   \nmin       0.000000     0.000000     0.000000     0.000000       0.019929   \n25%       0.000000     0.000000     0.000000     0.000000       1.480386   \n50%       0.000000     1.000000     0.000000     0.000000       7.431310   \n75%       0.000000     1.000000     0.000000     0.000000      20.172449   \nmax       1.000000     1.000000     1.000000     1.000000      91.444828   \n\n       Response_Campaigns   Total_Kids     has_Kids  \ncount         7000.000000  7000.000000  7000.000000  \nmean             0.315571     0.931143     0.703429  \nstd              0.682262     0.753599     0.456779  \nmin              0.000000     0.000000     0.000000  \n25%              0.000000     0.000000     0.000000  \n50%              0.000000     1.000000     1.000000  \n75%              0.000000     1.000000     1.000000  \nmax              4.000000     4.000000     1.000000  ",
      "text/html": "<div>\n<style scoped>\n    .dataframe tbody tr th:only-of-type {\n        vertical-align: middle;\n    }\n\n    .dataframe tbody tr th {\n        vertical-align: top;\n    }\n\n    .dataframe thead th {\n        text-align: right;\n    }\n</style>\n<table border=\"1\" class=\"dataframe\">\n  <thead>\n    <tr style=\"text-align: right;\">\n      <th></th>\n      <th>Birthyear</th>\n      <th>Income</th>\n      <th>Recency</th>\n      <th>MntMeat&amp;Fish</th>\n      <th>MntEntries</th>\n      <th>MntVegan&amp;Vegetarian</th>\n      <th>MntDrinks</th>\n      <th>MntDesserts</th>\n      <th>MntAdditionalRequests</th>\n      <th>NumOfferPurchases</th>\n      <th>NumAppPurchases</th>\n      <th>NumTakeAwayPurchases</th>\n      <th>NumStorePurchases</th>\n      <th>NumAppVisitsMonth</th>\n      <th>Complain</th>\n      <th>Gender</th>\n      <th>MntTotal</th>\n      <th>daysAsCardClient</th>\n      <th>Graduation</th>\n      <th>HighSchool</th>\n      <th>Master</th>\n      <th>PhD</th>\n      <th>Married</th>\n      <th>Single</th>\n      <th>Widow</th>\n      <th>Mnt_pday_card</th>\n      <th>Response_Campaigns</th>\n      <th>Total_Kids</th>\n      <th>has_Kids</th>\n    </tr>\n  </thead>\n  <tbody>\n    <tr>\n      <th>count</th>\n      <td>7000.000000</td>\n      <td>7000.000000</td>\n      <td>7000.000000</td>\n      <td>7000.000000</td>\n      <td>7000.000000</td>\n      <td>7000.000000</td>\n      <td>7000.000000</td>\n      <td>7000.000000</td>\n      <td>7000.000000</td>\n      <td>7000.000000</td>\n      <td>7000.000000</td>\n      <td>7000.000000</td>\n      <td>7000.000000</td>\n      <td>7000.000000</td>\n      <td>7000.000000</td>\n      <td>7000.000000</td>\n      <td>7000.000000</td>\n      <td>7000.000000</td>\n      <td>7000.000000</td>\n      <td>7000.000000</td>\n      <td>7000.000000</td>\n      <td>7000.000000</td>\n      <td>7000.000000</td>\n      <td>7000.000000</td>\n      <td>7000.000000</td>\n      <td>7000.000000</td>\n      <td>7000.000000</td>\n      <td>7000.000000</td>\n      <td>7000.000000</td>\n    </tr>\n    <tr>\n      <th>mean</th>\n      <td>1976.451429</td>\n      <td>77988.962407</td>\n      <td>49.235058</td>\n      <td>3079.338657</td>\n      <td>534.676571</td>\n      <td>2777.790571</td>\n      <td>546.374152</td>\n      <td>540.562314</td>\n      <td>42.544371</td>\n      <td>2.383571</td>\n      <td>6.015714</td>\n      <td>3.834571</td>\n      <td>5.790571</td>\n      <td>5.278286</td>\n      <td>0.010286</td>\n      <td>0.733286</td>\n      <td>7529.000095</td>\n      <td>632.302714</td>\n      <td>0.502571</td>\n      <td>0.095000</td>\n      <td>0.163143</td>\n      <td>0.213714</td>\n      <td>0.653143</td>\n      <td>0.219714</td>\n      <td>0.035000</td>\n      <td>12.723414</td>\n      <td>0.315571</td>\n      <td>0.931143</td>\n      <td>0.703429</td>\n    </tr>\n    <tr>\n      <th>std</th>\n      <td>11.996270</td>\n      <td>35409.810253</td>\n      <td>28.875126</td>\n      <td>3370.543582</td>\n      <td>787.890295</td>\n      <td>3891.668111</td>\n      <td>805.480676</td>\n      <td>802.282712</td>\n      <td>49.660142</td>\n      <td>2.140951</td>\n      <td>2.745537</td>\n      <td>3.331142</td>\n      <td>3.295708</td>\n      <td>2.748596</td>\n      <td>0.100903</td>\n      <td>0.442273</td>\n      <td>7649.219409</td>\n      <td>202.826692</td>\n      <td>0.500029</td>\n      <td>0.293236</td>\n      <td>0.369522</td>\n      <td>0.409957</td>\n      <td>0.476004</td>\n      <td>0.414083</td>\n      <td>0.183793</td>\n      <td>14.030254</td>\n      <td>0.682262</td>\n      <td>0.753599</td>\n      <td>0.456779</td>\n    </tr>\n    <tr>\n      <th>min</th>\n      <td>1948.000000</td>\n      <td>2493.800000</td>\n      <td>0.000000</td>\n      <td>0.000000</td>\n      <td>0.000000</td>\n      <td>0.000000</td>\n      <td>0.000000</td>\n      <td>0.000000</td>\n      <td>0.000000</td>\n      <td>0.000000</td>\n      <td>0.000000</td>\n      <td>0.000000</td>\n      <td>0.000000</td>\n      <td>0.000000</td>\n      <td>0.000000</td>\n      <td>0.000000</td>\n      <td>16.800000</td>\n      <td>285.000000</td>\n      <td>0.000000</td>\n      <td>0.000000</td>\n      <td>0.000000</td>\n      <td>0.000000</td>\n      <td>0.000000</td>\n      <td>0.000000</td>\n      <td>0.000000</td>\n      <td>0.019929</td>\n      <td>0.000000</td>\n      <td>0.000000</td>\n      <td>0.000000</td>\n    </tr>\n    <tr>\n      <th>25%</th>\n      <td>1967.000000</td>\n      <td>51586.250000</td>\n      <td>24.000000</td>\n      <td>250.000000</td>\n      <td>40.000000</td>\n      <td>240.000000</td>\n      <td>40.000000</td>\n      <td>40.000000</td>\n      <td>9.000000</td>\n      <td>1.000000</td>\n      <td>4.000000</td>\n      <td>1.000000</td>\n      <td>3.000000</td>\n      <td>3.000000</td>\n      <td>0.000000</td>\n      <td>0.000000</td>\n      <td>812.750000</td>\n      <td>457.000000</td>\n      <td>0.000000</td>\n      <td>0.000000</td>\n      <td>0.000000</td>\n      <td>0.000000</td>\n      <td>0.000000</td>\n      <td>0.000000</td>\n      <td>0.000000</td>\n      <td>1.480386</td>\n      <td>0.000000</td>\n      <td>0.000000</td>\n      <td>0.000000</td>\n    </tr>\n    <tr>\n      <th>50%</th>\n      <td>1977.000000</td>\n      <td>77190.000000</td>\n      <td>49.000000</td>\n      <td>1820.000000</td>\n      <td>180.000000</td>\n      <td>1110.000000</td>\n      <td>180.000000</td>\n      <td>180.000000</td>\n      <td>24.000000</td>\n      <td>2.000000</td>\n      <td>6.000000</td>\n      <td>3.000000</td>\n      <td>5.000000</td>\n      <td>5.000000</td>\n      <td>0.000000</td>\n      <td>1.000000</td>\n      <td>4652.500000</td>\n      <td>626.500000</td>\n      <td>1.000000</td>\n      <td>0.000000</td>\n      <td>0.000000</td>\n      <td>0.000000</td>\n      <td>1.000000</td>\n      <td>0.000000</td>\n      <td>0.000000</td>\n      <td>7.431310</td>\n      <td>0.000000</td>\n      <td>1.000000</td>\n      <td>1.000000</td>\n    </tr>\n    <tr>\n      <th>75%</th>\n      <td>1985.000000</td>\n      <td>102016.250000</td>\n      <td>74.000000</td>\n      <td>5070.000000</td>\n      <td>680.000000</td>\n      <td>3795.000000</td>\n      <td>700.000000</td>\n      <td>680.000000</td>\n      <td>57.000000</td>\n      <td>3.000000</td>\n      <td>8.000000</td>\n      <td>5.000000</td>\n      <td>8.000000</td>\n      <td>7.000000</td>\n      <td>0.000000</td>\n      <td>1.000000</td>\n      <td>12764.750000</td>\n      <td>808.000000</td>\n      <td>1.000000</td>\n      <td>0.000000</td>\n      <td>0.000000</td>\n      <td>0.000000</td>\n      <td>1.000000</td>\n      <td>0.000000</td>\n      <td>0.000000</td>\n      <td>20.172449</td>\n      <td>0.000000</td>\n      <td>1.000000</td>\n      <td>1.000000</td>\n    </tr>\n    <tr>\n      <th>max</th>\n      <td>2005.000000</td>\n      <td>237639.725000</td>\n      <td>99.000000</td>\n      <td>14980.000000</td>\n      <td>3980.000000</td>\n      <td>25974.000000</td>\n      <td>3980.000000</td>\n      <td>3980.000000</td>\n      <td>249.000000</td>\n      <td>16.000000</td>\n      <td>13.000000</td>\n      <td>24.000000</td>\n      <td>13.000000</td>\n      <td>20.000000</td>\n      <td>1.000000</td>\n      <td>1.000000</td>\n      <td>33256.000000</td>\n      <td>984.000000</td>\n      <td>1.000000</td>\n      <td>1.000000</td>\n      <td>1.000000</td>\n      <td>1.000000</td>\n      <td>1.000000</td>\n      <td>1.000000</td>\n      <td>1.000000</td>\n      <td>91.444828</td>\n      <td>4.000000</td>\n      <td>4.000000</td>\n      <td>1.000000</td>\n    </tr>\n  </tbody>\n</table>\n</div>"
     },
     "execution_count": 58,
     "metadata": {},
     "output_type": "execute_result"
    }
   ],
   "source": [
    "df.describe()"
   ]
  },
  {
   "cell_type": "code",
   "execution_count": 59,
   "metadata": {
    "collapsed": false
   },
   "outputs": [],
   "source": [
    "df_train= df.copy()\n",
    "df_train.drop(['Name', 'Birthyear', 'Date_Adherence', 'Response_Cmp1', 'Response_Cmp2', 'Response_Cmp3', 'Response_Cmp4', 'Response_Cmp5',\n",
    "               'Kid_Younger6', 'Children_6to18'], axis = 1, inplace = True)"
   ]
  },
  {
   "cell_type": "code",
   "execution_count": 60,
   "metadata": {
    "collapsed": false
   },
   "outputs": [
    {
     "data": {
      "text/plain": "Birthyear                0\nIncome                   0\nRecency                  0\nMntMeat&Fish             0\nMntEntries               0\nMntVegan&Vegetarian      0\nMntDrinks                0\nMntDesserts              0\nMntAdditionalRequests    0\nNumOfferPurchases        0\nNumAppPurchases          0\nNumTakeAwayPurchases     0\nNumStorePurchases        0\nNumAppVisitsMonth        0\nComplain                 0\nGender                   0\nMntTotal                 0\ndaysAsCardClient         0\nGraduation               0\nHighSchool               0\nMaster                   0\nPhD                      0\nMarried                  0\nSingle                   0\nWidow                    0\nMnt_pday_card            0\nResponse_Campaigns       0\nTotal_Kids               0\nhas_Kids                 0\ndtype: int64"
     },
     "execution_count": 60,
     "metadata": {},
     "output_type": "execute_result"
    }
   ],
   "source": [
    "df_train.isna().sum()"
   ]
  },
  {
   "cell_type": "markdown",
   "metadata": {
    "collapsed": false
   },
   "source": [
    "## Data scaling\n",
    "min max: income, recency, mnt..., purchases ..., age, daysasClient, mnt per ..."
   ]
  },
  {
   "cell_type": "code",
   "execution_count": 61,
   "metadata": {
    "collapsed": false
   },
   "outputs": [],
   "source": [
    "scaler = MinMaxScaler()\n",
    "df_train = pd.DataFrame(scaler.fit_transform(df_train))\n",
    "#df_train.describe()"
   ]
  },
  {
   "cell_type": "markdown",
   "metadata": {
    "collapsed": false
   },
   "source": [
    "## PCA\n"
   ]
  },
  {
   "cell_type": "markdown",
   "metadata": {
    "collapsed": false
   },
   "source": [
    "A implementação do pca acima pareceu me estranha. deixo aqui outra e quando reunirmos vemos"
   ]
  },
  {
   "cell_type": "code",
   "execution_count": 147,
   "metadata": {
    "collapsed": false
   }
  },
  {
   "cell_type": "code",
   "execution_count": 62,
   "outputs": [
    {
     "data": {
      "text/plain": "<Figure size 640x480 with 1 Axes>",
      "image/png": "[encoded data removed]"
     },
     "metadata": {},
     "output_type": "display_data"
    }
   ],
   "source": [
    "from sklearn.decomposition import PCA\n",
    "pca = PCA()\n",
    "df_train2= df_train.copy()\n",
    "pca.fit(df_train2)\n",
    "var= pca.explained_variance_ratio_\n",
    "var1=np.cumsum(np.round(pca.explained_variance_ratio_, decimals=4)*100)\n",
    "\n",
    "plt.title(\"PCA Variance against num of Componmnets\")\n",
    "plt.ylabel(\"Variance %\")\n",
    "plt.xlabel(\"Number of componments\")\n",
    "l = plt.axhline(80, color=\"red\")\n",
    "\n",
    "plt.plot(var1)\n",
    "plt.grid()"
   ]
  },
  {
   "cell_type": "code",
   "execution_count": 148,
   "metadata": {
    "collapsed": false
   }
  },
  {
   "cell_type": "code",
   "execution_count": 63,
   "outputs": [
    {
     "data": {
      "text/plain": "array([[ 1.17576784,  1.23640077, -0.05324717, ...,  0.14891474,\n        -0.0968246 ,  0.1190282 ],\n       [ 1.24214579, -0.0195271 , -0.61744542, ...,  0.22849953,\n        -0.04722807,  0.03377055],\n       [ 0.79986695, -0.78349873,  0.47460546, ..., -0.55730538,\n         0.37463731, -0.23686631],\n       ...,\n       [-0.59277339, -0.69592144,  0.47280083, ..., -0.60427361,\n         0.20000318, -0.22282551],\n       [-0.49280358,  1.33925186, -0.0317281 , ...,  0.0994117 ,\n         0.03640155, -0.01300656],\n       [ 1.35828325,  1.19989545, -0.04214578, ...,  0.13594133,\n        -0.24584306,  0.12002288]])"
     },
     "execution_count": 63,
     "metadata": {},
     "output_type": "execute_result"
    }
   ],
   "source": [
    "pca = PCA(n_components=7)\n",
    "pca_train=pca.fit_transform(df_train2)\n",
    "pca_train"
   ]
  },
  {
   "cell_type": "code",
   "execution_count": 149,
   "metadata": {
    "collapsed": false
   }
  },
  {
   "cell_type": "code",
   "execution_count": 55,
   "outputs": [
    {
     "data": {
      "text/plain": "            0         1         2         3         4         5         6   \\\n0     0.473975  0.434343  0.309746  0.849246  0.219450  0.562814  0.141206   \n1     0.475463  0.747475  0.472630  0.924623  0.293370  0.462312  0.306533   \n2     0.480477  0.858586  0.275701  0.095477  0.188265  0.914573  0.095477   \n3     0.419647  0.252525  0.239653  0.000000  0.068145  0.020101  0.045226   \n4     0.513018  0.646465  0.359813  0.282915  0.365558  0.164824  0.141206   \n...        ...       ...       ...       ...       ...       ...       ...   \n6995  0.410274  0.666667  0.606809  0.065327  0.231578  0.065327  0.000000   \n6996  0.457091  0.080808  0.391856  0.256281  0.518596  0.954774  0.000000   \n6997  0.227711  0.303030  0.036048  0.000000  0.005198  0.000000  0.000000   \n6998  0.180200  0.080808  0.005340  0.030151  0.008085  0.030151  0.025126   \n6999  0.518339  0.808081  0.485981  0.106030  0.065142  0.944724  0.472362   \n\n            7       8         9         10        11    12   13   14  \\\n0     0.618474  0.1250  0.769231  0.291667  0.538462  0.20  0.0  0.0   \n1     0.184739  0.0625  0.384615  0.375000  0.923077  0.10  0.0  0.0   \n2     0.112450  0.0625  0.384615  0.208333  0.538462  0.05  0.0  1.0   \n3     0.056225  0.3125  0.615385  0.125000  0.615385  0.25  0.0  1.0   \n4     0.297189  0.0000  0.307692  0.291667  0.615385  0.25  0.0  1.0   \n...        ...     ...       ...       ...       ...   ...  ...  ...   \n6995  0.160643  0.0625  0.461538  0.250000  0.846154  0.10  0.0  1.0   \n6996  0.345382  0.0625  0.384615  0.291667  0.538462  0.10  0.0  1.0   \n6997  0.020080  0.1250  0.230769  0.041667  0.307692  0.30  0.0  1.0   \n6998  0.068273  0.0625  0.230769  0.041667  0.230769  0.40  0.0  0.0   \n6999  0.943775  0.0625  0.461538  0.500000  0.846154  0.10  0.0  0.0   \n\n            15        16        17   18   19   20   21   22   23   24  \\\n0     0.501191  0.421053  0.766810  1.0  0.0  0.0  0.0  0.0  1.0  0.0   \n1     0.645900  0.543860  0.636624  1.0  0.0  0.0  0.0  1.0  0.0  0.0   \n2     0.404077  0.789474  0.240343  0.0  0.0  0.0  1.0  1.0  0.0  0.0   \n3     0.168993  0.438596  0.371960  1.0  0.0  0.0  0.0  1.0  0.0  0.0   \n4     0.520055  0.596491  0.808298  0.0  1.0  0.0  0.0  0.0  1.0  0.0   \n...        ...       ...       ...  ...  ...  ...  ...  ...  ...  ...   \n6995  0.470775  0.192982  0.290415  0.0  0.0  0.0  1.0  0.0  0.0  0.0   \n6996  0.728935  0.350877  0.937053  1.0  0.0  0.0  0.0  0.0  0.0  0.0   \n6997  0.019952  0.666667  0.280401  0.0  0.0  0.0  1.0  1.0  0.0  0.0   \n6998  0.018960  0.280702  0.849785  1.0  0.0  0.0  0.0  0.0  1.0  0.0   \n6999  0.458862  0.789474  0.729614  1.0  0.0  0.0  0.0  0.0  1.0  0.0   \n\n            25    26  \n0     0.221951  0.25  \n1     0.321717  0.00  \n2     0.324492  0.00  \n3     0.112854  0.00  \n4     0.222440  0.50  \n...        ...   ...  \n6995  0.350894  0.00  \n6996  0.281911  0.00  \n6997  0.015245  0.00  \n6998  0.007833  0.00  \n6999  0.209859  0.50  \n\n[7000 rows x 27 columns]",
      "text/html": "<div>\n<style scoped>\n    .dataframe tbody tr th:only-of-type {\n        vertical-align: middle;\n    }\n\n    .dataframe tbody tr th {\n        vertical-align: top;\n    }\n\n    .dataframe thead th {\n        text-align: right;\n    }\n</style>\n<table border=\"1\" class=\"dataframe\">\n  <thead>\n    <tr style=\"text-align: right;\">\n      <th></th>\n      <th>0</th>\n      <th>1</th>\n      <th>2</th>\n      <th>3</th>\n      <th>4</th>\n      <th>5</th>\n      <th>6</th>\n      <th>7</th>\n      <th>8</th>\n      <th>9</th>\n      <th>10</th>\n      <th>11</th>\n      <th>12</th>\n      <th>13</th>\n      <th>14</th>\n      <th>15</th>\n      <th>16</th>\n      <th>17</th>\n      <th>18</th>\n      <th>19</th>\n      <th>20</th>\n      <th>21</th>\n      <th>22</th>\n      <th>23</th>\n      <th>24</th>\n      <th>25</th>\n      <th>26</th>\n    </tr>\n  </thead>\n  <tbody>\n    <tr>\n      <th>0</th>\n      <td>0.473975</td>\n      <td>0.434343</td>\n      <td>0.309746</td>\n      <td>0.849246</td>\n      <td>0.219450</td>\n      <td>0.562814</td>\n      <td>0.141206</td>\n      <td>0.618474</td>\n      <td>0.1250</td>\n      <td>0.769231</td>\n      <td>0.291667</td>\n      <td>0.538462</td>\n      <td>0.20</td>\n      <td>0.0</td>\n      <td>0.0</td>\n      <td>0.501191</td>\n      <td>0.421053</td>\n      <td>0.766810</td>\n      <td>1.0</td>\n      <td>0.0</td>\n      <td>0.0</td>\n      <td>0.0</td>\n      <td>0.0</td>\n      <td>1.0</td>\n      <td>0.0</td>\n      <td>0.221951</td>\n      <td>0.25</td>\n    </tr>\n    <tr>\n      <th>1</th>\n      <td>0.475463</td>\n      <td>0.747475</td>\n      <td>0.472630</td>\n      <td>0.924623</td>\n      <td>0.293370</td>\n      <td>0.462312</td>\n      <td>0.306533</td>\n      <td>0.184739</td>\n      <td>0.0625</td>\n      <td>0.384615</td>\n      <td>0.375000</td>\n      <td>0.923077</td>\n      <td>0.10</td>\n      <td>0.0</td>\n      <td>0.0</td>\n      <td>0.645900</td>\n      <td>0.543860</td>\n      <td>0.636624</td>\n      <td>1.0</td>\n      <td>0.0</td>\n      <td>0.0</td>\n      <td>0.0</td>\n      <td>1.0</td>\n      <td>0.0</td>\n      <td>0.0</td>\n      <td>0.321717</td>\n      <td>0.00</td>\n    </tr>\n    <tr>\n      <th>2</th>\n      <td>0.480477</td>\n      <td>0.858586</td>\n      <td>0.275701</td>\n      <td>0.095477</td>\n      <td>0.188265</td>\n      <td>0.914573</td>\n      <td>0.095477</td>\n      <td>0.112450</td>\n      <td>0.0625</td>\n      <td>0.384615</td>\n      <td>0.208333</td>\n      <td>0.538462</td>\n      <td>0.05</td>\n      <td>0.0</td>\n      <td>1.0</td>\n      <td>0.404077</td>\n      <td>0.789474</td>\n      <td>0.240343</td>\n      <td>0.0</td>\n      <td>0.0</td>\n      <td>0.0</td>\n      <td>1.0</td>\n      <td>1.0</td>\n      <td>0.0</td>\n      <td>0.0</td>\n      <td>0.324492</td>\n      <td>0.00</td>\n    </tr>\n    <tr>\n      <th>3</th>\n      <td>0.419647</td>\n      <td>0.252525</td>\n      <td>0.239653</td>\n      <td>0.000000</td>\n      <td>0.068145</td>\n      <td>0.020101</td>\n      <td>0.045226</td>\n      <td>0.056225</td>\n      <td>0.3125</td>\n      <td>0.615385</td>\n      <td>0.125000</td>\n      <td>0.615385</td>\n      <td>0.25</td>\n      <td>0.0</td>\n      <td>1.0</td>\n      <td>0.168993</td>\n      <td>0.438596</td>\n      <td>0.371960</td>\n      <td>1.0</td>\n      <td>0.0</td>\n      <td>0.0</td>\n      <td>0.0</td>\n      <td>1.0</td>\n      <td>0.0</td>\n      <td>0.0</td>\n      <td>0.112854</td>\n      <td>0.00</td>\n    </tr>\n    <tr>\n      <th>4</th>\n      <td>0.513018</td>\n      <td>0.646465</td>\n      <td>0.359813</td>\n      <td>0.282915</td>\n      <td>0.365558</td>\n      <td>0.164824</td>\n      <td>0.141206</td>\n      <td>0.297189</td>\n      <td>0.0000</td>\n      <td>0.307692</td>\n      <td>0.291667</td>\n      <td>0.615385</td>\n      <td>0.25</td>\n      <td>0.0</td>\n      <td>1.0</td>\n      <td>0.520055</td>\n      <td>0.596491</td>\n      <td>0.808298</td>\n      <td>0.0</td>\n      <td>1.0</td>\n      <td>0.0</td>\n      <td>0.0</td>\n      <td>0.0</td>\n      <td>1.0</td>\n      <td>0.0</td>\n      <td>0.222440</td>\n      <td>0.50</td>\n    </tr>\n    <tr>\n      <th>...</th>\n      <td>...</td>\n      <td>...</td>\n      <td>...</td>\n      <td>...</td>\n      <td>...</td>\n      <td>...</td>\n      <td>...</td>\n      <td>...</td>\n      <td>...</td>\n      <td>...</td>\n      <td>...</td>\n      <td>...</td>\n      <td>...</td>\n      <td>...</td>\n      <td>...</td>\n      <td>...</td>\n      <td>...</td>\n      <td>...</td>\n      <td>...</td>\n      <td>...</td>\n      <td>...</td>\n      <td>...</td>\n      <td>...</td>\n      <td>...</td>\n      <td>...</td>\n      <td>...</td>\n      <td>...</td>\n    </tr>\n    <tr>\n      <th>6995</th>\n      <td>0.410274</td>\n      <td>0.666667</td>\n      <td>0.606809</td>\n      <td>0.065327</td>\n      <td>0.231578</td>\n      <td>0.065327</td>\n      <td>0.000000</td>\n      <td>0.160643</td>\n      <td>0.0625</td>\n      <td>0.461538</td>\n      <td>0.250000</td>\n      <td>0.846154</td>\n      <td>0.10</td>\n      <td>0.0</td>\n      <td>1.0</td>\n      <td>0.470775</td>\n      <td>0.192982</td>\n      <td>0.290415</td>\n      <td>0.0</td>\n      <td>0.0</td>\n      <td>0.0</td>\n      <td>1.0</td>\n      <td>0.0</td>\n      <td>0.0</td>\n      <td>0.0</td>\n      <td>0.350894</td>\n      <td>0.00</td>\n    </tr>\n    <tr>\n      <th>6996</th>\n      <td>0.457091</td>\n      <td>0.080808</td>\n      <td>0.391856</td>\n      <td>0.256281</td>\n      <td>0.518596</td>\n      <td>0.954774</td>\n      <td>0.000000</td>\n      <td>0.345382</td>\n      <td>0.0625</td>\n      <td>0.384615</td>\n      <td>0.291667</td>\n      <td>0.538462</td>\n      <td>0.10</td>\n      <td>0.0</td>\n      <td>1.0</td>\n      <td>0.728935</td>\n      <td>0.350877</td>\n      <td>0.937053</td>\n      <td>1.0</td>\n      <td>0.0</td>\n      <td>0.0</td>\n      <td>0.0</td>\n      <td>0.0</td>\n      <td>0.0</td>\n      <td>0.0</td>\n      <td>0.281911</td>\n      <td>0.00</td>\n    </tr>\n    <tr>\n      <th>6997</th>\n      <td>0.227711</td>\n      <td>0.303030</td>\n      <td>0.036048</td>\n      <td>0.000000</td>\n      <td>0.005198</td>\n      <td>0.000000</td>\n      <td>0.000000</td>\n      <td>0.020080</td>\n      <td>0.1250</td>\n      <td>0.230769</td>\n      <td>0.041667</td>\n      <td>0.307692</td>\n      <td>0.30</td>\n      <td>0.0</td>\n      <td>1.0</td>\n      <td>0.019952</td>\n      <td>0.666667</td>\n      <td>0.280401</td>\n      <td>0.0</td>\n      <td>0.0</td>\n      <td>0.0</td>\n      <td>1.0</td>\n      <td>1.0</td>\n      <td>0.0</td>\n      <td>0.0</td>\n      <td>0.015245</td>\n      <td>0.00</td>\n    </tr>\n    <tr>\n      <th>6998</th>\n      <td>0.180200</td>\n      <td>0.080808</td>\n      <td>0.005340</td>\n      <td>0.030151</td>\n      <td>0.008085</td>\n      <td>0.030151</td>\n      <td>0.025126</td>\n      <td>0.068273</td>\n      <td>0.0625</td>\n      <td>0.230769</td>\n      <td>0.041667</td>\n      <td>0.230769</td>\n      <td>0.40</td>\n      <td>0.0</td>\n      <td>0.0</td>\n      <td>0.018960</td>\n      <td>0.280702</td>\n      <td>0.849785</td>\n      <td>1.0</td>\n      <td>0.0</td>\n      <td>0.0</td>\n      <td>0.0</td>\n      <td>0.0</td>\n      <td>1.0</td>\n      <td>0.0</td>\n      <td>0.007833</td>\n      <td>0.00</td>\n    </tr>\n    <tr>\n      <th>6999</th>\n      <td>0.518339</td>\n      <td>0.808081</td>\n      <td>0.485981</td>\n      <td>0.106030</td>\n      <td>0.065142</td>\n      <td>0.944724</td>\n      <td>0.472362</td>\n      <td>0.943775</td>\n      <td>0.0625</td>\n      <td>0.461538</td>\n      <td>0.500000</td>\n      <td>0.846154</td>\n      <td>0.10</td>\n      <td>0.0</td>\n      <td>0.0</td>\n      <td>0.458862</td>\n      <td>0.789474</td>\n      <td>0.729614</td>\n      <td>1.0</td>\n      <td>0.0</td>\n      <td>0.0</td>\n      <td>0.0</td>\n      <td>0.0</td>\n      <td>1.0</td>\n      <td>0.0</td>\n      <td>0.209859</td>\n      <td>0.50</td>\n    </tr>\n  </tbody>\n</table>\n<p>7000 rows × 27 columns</p>\n</div>"
     },
     "execution_count": 55,
     "metadata": {},
     "output_type": "execute_result"
    }
   ],
   "source": [
    "df_train"
   ]
  },
  {
   "cell_type": "markdown",
   "metadata": {
    "collapsed": false
   },
   "source": [
    "7 variaveis explicam ~80% da variancia"
   ]
  },
  {
   "cell_type": "markdown",
   "metadata": {
    "collapsed": false
   },
   "source": [
    "## Loading Scores for each PC"
   ]
  },
  {
   "cell_type": "markdown",
   "metadata": {
    "collapsed": false
   },
   "source": [
    "##  Correlação entre PC's e as variáveis originais"
   ]
  },
  {
   "cell_type": "markdown",
   "metadata": {
    "collapsed": false
   },
   "source": [
    "## Model Train"
   ]
  },
  {
   "cell_type": "code",
   "execution_count": 60,
   "metadata": {
    "collapsed": false
   },
   "outputs": [
    {
     "name": "stderr",
     "output_type": "stream",
     "text": [
      "A:\\FCUL\\Pós-Graduação\\DSML\\DSML_venv\\lib\\site-packages\\sklearn\\cluster\\_kmeans.py:870: FutureWarning: The default value of `n_init` will change from 10 to 'auto' in 1.4. Set the value of `n_init` explicitly to suppress the warning\n",
      "  warnings.warn(\n"
     ]
    }
   ],
   "source": [
    "from sklearn.cluster import KMeans\n",
    "\n",
    "kmeans= KMeans(n_clusters = 7, max_iter =10000, random_state= 1)\n",
    "kmeans.fit(pca_train)\n",
    "pca_train_label = kmeans.labels_"
   ]
  },
  {
   "cell_type": "code",
   "execution_count": 61,
   "outputs": [
    {
     "name": "stderr",
     "output_type": "stream",
     "text": [
      "A:\\FCUL\\Pós-Graduação\\DSML\\DSML_venv\\lib\\site-packages\\sklearn\\cluster\\_kmeans.py:870: FutureWarning: The default value of `n_init` will change from 10 to 'auto' in 1.4. Set the value of `n_init` explicitly to suppress the warning\n",
      "  warnings.warn(\n"
     ]
    }
   ],
   "source": [
    "kmeans2= KMeans(n_clusters = 7, max_iter = 10000, random_state = 1)\n",
    "kmeans2.fit(df_train)\n",
    "df_train_label = kmeans2.labels_"
   ],
   "metadata": {
    "collapsed": false
   }
  },
  {
   "cell_type": "code",
   "execution_count": 62,
   "outputs": [
    {
     "data": {
      "text/plain": "   Compare  counts\n0    False    6932\n1     True      68",
      "text/html": "<div>\n<style scoped>\n    .dataframe tbody tr th:only-of-type {\n        vertical-align: middle;\n    }\n\n    .dataframe tbody tr th {\n        vertical-align: top;\n    }\n\n    .dataframe thead th {\n        text-align: right;\n    }\n</style>\n<table border=\"1\" class=\"dataframe\">\n  <thead>\n    <tr style=\"text-align: right;\">\n      <th></th>\n      <th>Compare</th>\n      <th>counts</th>\n    </tr>\n  </thead>\n  <tbody>\n    <tr>\n      <th>0</th>\n      <td>False</td>\n      <td>6932</td>\n    </tr>\n    <tr>\n      <th>1</th>\n      <td>True</td>\n      <td>68</td>\n    </tr>\n  </tbody>\n</table>\n</div>"
     },
     "execution_count": 62,
     "metadata": {},
     "output_type": "execute_result"
    }
   ],
   "source": [
    "dfTF= pd.DataFrame()\n",
    "dfTF['Compare'] = pca_train_label== df_train_label\n",
    "#pd.DataFrame(dfTF.groupby('Compare'))\n",
    "dfTF.groupby(['Compare']).size().reset_index(name='counts') #TODO perguntar sobre pca e nao pca dar modelos iguais"
   ],
   "metadata": {
    "collapsed": false
   }
  },
  {
   "cell_type": "markdown",
   "id": "cd1fb8d0",
   "metadata": {},
   "source": [
    "### 3.2.2. Misclassifications"
   ]
  },
  {
   "cell_type": "markdown",
   "id": "bf325433",
   "metadata": {},
   "source": [
    "### 3.2.3. Incoherencies"
   ]
  },
  {
   "cell_type": "markdown",
   "id": "e043eb36",
   "metadata": {},
   "source": [
    "> 3.2.3.1 Clients that spent money but never had a registered Purchase"
   ]
  },
  {
   "cell_type": "code",
   "execution_count": 59,
   "id": "dbde3154",
   "metadata": {},
   "outputs": [
    {
     "data": {
      "text/plain": "(26, 37)"
     },
     "execution_count": 59,
     "metadata": {},
     "output_type": "execute_result"
    }
   ],
   "source": [
    "df[(df[['MntMeat&Fish', 'MntEntries',\n",
    "       'MntVegan&Vegetarian', 'MntDrinks', 'MntDesserts',\n",
    "       'MntAdditionalRequests']].sum(axis = 1) >= 0) & (df[['NumOfferPurchases', 'NumAppPurchases',\n",
    "       'NumTakeAwayPurchases', 'NumStorePurchases']].sum(axis = 1) <= 0)].shape"
   ]
  },
  {
   "cell_type": "markdown",
   "id": "a70497b0",
   "metadata": {},
   "source": [
    "### 3.2.4. Binning"
   ]
  },
  {
   "cell_type": "markdown",
   "id": "167e07f7",
   "metadata": {},
   "source": [
    "### 3.2.5. Reclassification"
   ]
  },
  {
   "cell_type": "markdown",
   "id": "7385de6b",
   "metadata": {},
   "source": [
    "### 3.2.6. Power Transform"
   ]
  },
  {
   "cell_type": "markdown",
   "id": "91126155",
   "metadata": {},
   "source": [
    "## 3.3. Data Reduction"
   ]
  },
  {
   "cell_type": "markdown",
   "id": "0a1bb4a3",
   "metadata": {},
   "source": [
    "### 3.3.1. Multicollinearity - Check correlation"
   ]
  },
  {
   "cell_type": "markdown",
   "id": "478dd700",
   "metadata": {},
   "source": [
    "### 3.3.2. Unary Variables"
   ]
  },
  {
   "cell_type": "markdown",
   "id": "c2eb07fe",
   "metadata": {},
   "source": [
    "### 3.3.3. Variables with a high percentage of missing values"
   ]
  },
  {
   "cell_type": "markdown",
   "id": "d20c2381",
   "metadata": {},
   "source": [
    "## 3.2. Back to Data Transformation"
   ]
  },
  {
   "cell_type": "markdown",
   "id": "f8c221ce",
   "metadata": {},
   "source": [
    "### 3.2.7. Apply ordinal encoding and create Dummy variables"
   ]
  },
  {
   "cell_type": "markdown",
   "id": "ee645019",
   "metadata": {},
   "source": [
    "### 3.2.8. Scaling"
   ]
  },
  {
   "attachments": {},
   "cell_type": "markdown",
   "id": "a16b3e65",
   "metadata": {},
   "source": [
    "## 4. Models"
   ]
  },
  {
   "cell_type": "markdown",
   "id": "ab752e66",
   "metadata": {},
   "source": [
    "### 4.1. K-Means"
   ]
  },
  {
   "cell_type": "code",
   "execution_count": null,
   "id": "c9b0c5dd",
   "metadata": {},
   "outputs": [],
   "source": [
    "# variavel modelo visao monetary: \n",
    "        #  Mnt_pday_card, has_Kids, Income, age_bins, 'Graduation', 'HighSchool', 'Master', 'PhD', 'Gender'"
   ]
  },
  {
   "cell_type": "code",
   "execution_count": 157,
   "id": "db306aaa",
   "metadata": {},
   "outputs": [],
   "source": [
    "df_value = df[[\"Mnt_pday_card\", \"has_Kids\", \"Income\", \"Age\", 'Graduation', 'HighSchool', 'Master', 'PhD', 'Gender', \"Recency\" ]].copy()"
   ]
  },
  {
   "cell_type": "code",
   "execution_count": 158,
   "id": "0e0fea63",
   "metadata": {},
   "outputs": [],
   "source": [
    "ks = range(1,11)\n",
    "inertias = []\n",
    "\n",
    "\n",
    "for k in ks:\n",
    "    model = KMeans(n_clusters = k).fit(df_value)\n",
    "    inertias.append(model.inertia_)"
   ]
  },
  {
   "cell_type": "code",
   "execution_count": 159,
   "id": "6a89dadf",
   "metadata": {},
   "outputs": [
    {
     "data": {
      "image/png": "[encoded data removed]",
      "text/plain": [
       "<Figure size 640x480 with 1 Axes>"
      ]
     },
     "metadata": {},
     "output_type": "display_data"
    }
   ],
   "source": [
    "# Plot ks (x-axis) vs inertias (y-axis) using plt.plot(). \n",
    "plt.plot(ks, inertias)\n",
    "\n",
    "# define the label for the x axis as 'number of clusters' using matplotlib.pyplot.xlabel\n",
    "plt.xlabel('number of clusters')\n",
    "# define the label for the y axis as 'inertia' using matplotlib.pyplot.ylabel\n",
    "plt.ylabel('inertia')\n",
    "# define the ticks on the x axis using the values of ks\n",
    "plt.xticks(ks)\n",
    "# call plt.show()\n",
    "plt.show()"
   ]
  },
  {
   "cell_type": "code",
   "execution_count": 160,
   "id": "9952c884",
   "metadata": {},
   "outputs": [],
   "source": [
    "df_value_k2 = df_value.copy()\n",
    "model_k2 = sk.cluster.KMeans(n_clusters = 2, random_state = 1).fit(df_value_k2)"
   ]
  },
  {
   "cell_type": "code",
   "execution_count": 161,
   "id": "1957fde5",
   "metadata": {},
   "outputs": [],
   "source": [
    "df_value_k2[\"label\"] = model_k2.labels_"
   ]
  },
  {
   "cell_type": "code",
   "execution_count": 162,
   "id": "6a430073",
   "metadata": {},
   "outputs": [
    {
     "data": {
      "text/plain": [
       "0    3497\n",
       "1    3387\n",
       "Name: label, dtype: int64"
      ]
     },
     "execution_count": 162,
     "metadata": {},
     "output_type": "execute_result"
    }
   ],
   "source": [
    "df_value_k2[\"label\"].value_counts()"
   ]
  },
  {
   "cell_type": "code",
   "execution_count": 163,
   "id": "c8ded3f5",
   "metadata": {},
   "outputs": [
    {
     "data": {
      "text/html": [
       "<div>\n",
       "<style scoped>\n",
       "    .dataframe tbody tr th:only-of-type {\n",
       "        vertical-align: middle;\n",
       "    }\n",
       "\n",
       "    .dataframe tbody tr th {\n",
       "        vertical-align: top;\n",
       "    }\n",
       "\n",
       "    .dataframe thead th {\n",
       "        text-align: right;\n",
       "    }\n",
       "</style>\n",
       "<table border=\"1\" class=\"dataframe\">\n",
       "  <thead>\n",
       "    <tr style=\"text-align: right;\">\n",
       "      <th>label</th>\n",
       "      <th>0</th>\n",
       "      <th>1</th>\n",
       "    </tr>\n",
       "  </thead>\n",
       "  <tbody>\n",
       "    <tr>\n",
       "      <th>Mnt_pday_card</th>\n",
       "      <td>0.028630</td>\n",
       "      <td>0.018120</td>\n",
       "    </tr>\n",
       "    <tr>\n",
       "      <th>has_Kids</th>\n",
       "      <td>0.539319</td>\n",
       "      <td>0.875406</td>\n",
       "    </tr>\n",
       "    <tr>\n",
       "      <th>Income</th>\n",
       "      <td>101949.380898</td>\n",
       "      <td>49496.085740</td>\n",
       "    </tr>\n",
       "    <tr>\n",
       "      <th>Age</th>\n",
       "      <td>48.753789</td>\n",
       "      <td>44.242693</td>\n",
       "    </tr>\n",
       "    <tr>\n",
       "      <th>Graduation</th>\n",
       "      <td>0.502717</td>\n",
       "      <td>0.501919</td>\n",
       "    </tr>\n",
       "    <tr>\n",
       "      <th>HighSchool</th>\n",
       "      <td>0.077495</td>\n",
       "      <td>0.113965</td>\n",
       "    </tr>\n",
       "    <tr>\n",
       "      <th>Master</th>\n",
       "      <td>0.170146</td>\n",
       "      <td>0.155595</td>\n",
       "    </tr>\n",
       "    <tr>\n",
       "      <th>PhD</th>\n",
       "      <td>0.249643</td>\n",
       "      <td>0.176853</td>\n",
       "    </tr>\n",
       "    <tr>\n",
       "      <th>Gender</th>\n",
       "      <td>0.732914</td>\n",
       "      <td>0.733097</td>\n",
       "    </tr>\n",
       "    <tr>\n",
       "      <th>Recency</th>\n",
       "      <td>49.738409</td>\n",
       "      <td>48.649970</td>\n",
       "    </tr>\n",
       "  </tbody>\n",
       "</table>\n",
       "</div>"
      ],
      "text/plain": [
       "label                      0             1\n",
       "Mnt_pday_card       0.028630      0.018120\n",
       "has_Kids            0.539319      0.875406\n",
       "Income         101949.380898  49496.085740\n",
       "Age                48.753789     44.242693\n",
       "Graduation          0.502717      0.501919\n",
       "HighSchool          0.077495      0.113965\n",
       "Master              0.170146      0.155595\n",
       "PhD                 0.249643      0.176853\n",
       "Gender              0.732914      0.733097\n",
       "Recency            49.738409     48.649970"
      ]
     },
     "execution_count": 163,
     "metadata": {},
     "output_type": "execute_result"
    }
   ],
   "source": [
    "df_value_k2.groupby([\"label\"]).mean().transpose()"
   ]
  },
  {
   "cell_type": "code",
   "execution_count": 164,
   "id": "9ff7c3d1",
   "metadata": {},
   "outputs": [],
   "source": [
    "df_value_k3 = df_value.copy()\n",
    "model_k3 = sk.cluster.KMeans(n_clusters = 3, random_state = 2).fit(df_value_k3)"
   ]
  },
  {
   "cell_type": "code",
   "execution_count": 165,
   "id": "1ced9d2e",
   "metadata": {},
   "outputs": [],
   "source": [
    "df_value_k3[\"label\"] = model_k3.labels_"
   ]
  },
  {
   "cell_type": "code",
   "execution_count": 168,
   "id": "e3d795e9",
   "metadata": {},
   "outputs": [
    {
     "data": {
      "text/plain": [
       "1    2481\n",
       "0    2216\n",
       "2    2187\n",
       "Name: label, dtype: int64"
      ]
     },
     "execution_count": 168,
     "metadata": {},
     "output_type": "execute_result"
    }
   ],
   "source": [
    "df_value_k3[\"label\"].value_counts()"
   ]
  },
  {
   "cell_type": "code",
   "execution_count": 169,
   "id": "baafb18e",
   "metadata": {},
   "outputs": [
    {
     "data": {
      "text/html": [
       "<div>\n",
       "<style scoped>\n",
       "    .dataframe tbody tr th:only-of-type {\n",
       "        vertical-align: middle;\n",
       "    }\n",
       "\n",
       "    .dataframe tbody tr th {\n",
       "        vertical-align: top;\n",
       "    }\n",
       "\n",
       "    .dataframe thead tr th {\n",
       "        text-align: left;\n",
       "    }\n",
       "\n",
       "    .dataframe thead tr:last-of-type th {\n",
       "        text-align: right;\n",
       "    }\n",
       "</style>\n",
       "<table border=\"1\" class=\"dataframe\">\n",
       "  <thead>\n",
       "    <tr>\n",
       "      <th></th>\n",
       "      <th colspan=\"8\" halign=\"left\">Mnt_pday_card</th>\n",
       "      <th colspan=\"8\" halign=\"left\">has_Kids</th>\n",
       "      <th colspan=\"8\" halign=\"left\">Income</th>\n",
       "      <th colspan=\"8\" halign=\"left\">Age</th>\n",
       "      <th colspan=\"8\" halign=\"left\">Graduation</th>\n",
       "      <th colspan=\"8\" halign=\"left\">HighSchool</th>\n",
       "      <th colspan=\"8\" halign=\"left\">Master</th>\n",
       "      <th colspan=\"8\" halign=\"left\">PhD</th>\n",
       "      <th colspan=\"8\" halign=\"left\">Gender</th>\n",
       "      <th colspan=\"8\" halign=\"left\">Recency</th>\n",
       "    </tr>\n",
       "    <tr>\n",
       "      <th></th>\n",
       "      <th>count</th>\n",
       "      <th>mean</th>\n",
       "      <th>std</th>\n",
       "      <th>min</th>\n",
       "      <th>25%</th>\n",
       "      <th>50%</th>\n",
       "      <th>75%</th>\n",
       "      <th>max</th>\n",
       "      <th>count</th>\n",
       "      <th>mean</th>\n",
       "      <th>std</th>\n",
       "      <th>min</th>\n",
       "      <th>25%</th>\n",
       "      <th>50%</th>\n",
       "      <th>75%</th>\n",
       "      <th>max</th>\n",
       "      <th>count</th>\n",
       "      <th>mean</th>\n",
       "      <th>std</th>\n",
       "      <th>min</th>\n",
       "      <th>25%</th>\n",
       "      <th>50%</th>\n",
       "      <th>75%</th>\n",
       "      <th>max</th>\n",
       "      <th>count</th>\n",
       "      <th>mean</th>\n",
       "      <th>std</th>\n",
       "      <th>min</th>\n",
       "      <th>25%</th>\n",
       "      <th>50%</th>\n",
       "      <th>75%</th>\n",
       "      <th>max</th>\n",
       "      <th>count</th>\n",
       "      <th>mean</th>\n",
       "      <th>std</th>\n",
       "      <th>min</th>\n",
       "      <th>25%</th>\n",
       "      <th>50%</th>\n",
       "      <th>75%</th>\n",
       "      <th>max</th>\n",
       "      <th>count</th>\n",
       "      <th>mean</th>\n",
       "      <th>std</th>\n",
       "      <th>min</th>\n",
       "      <th>25%</th>\n",
       "      <th>50%</th>\n",
       "      <th>75%</th>\n",
       "      <th>max</th>\n",
       "      <th>count</th>\n",
       "      <th>mean</th>\n",
       "      <th>std</th>\n",
       "      <th>min</th>\n",
       "      <th>25%</th>\n",
       "      <th>50%</th>\n",
       "      <th>75%</th>\n",
       "      <th>max</th>\n",
       "      <th>count</th>\n",
       "      <th>mean</th>\n",
       "      <th>std</th>\n",
       "      <th>min</th>\n",
       "      <th>25%</th>\n",
       "      <th>50%</th>\n",
       "      <th>75%</th>\n",
       "      <th>max</th>\n",
       "      <th>count</th>\n",
       "      <th>mean</th>\n",
       "      <th>std</th>\n",
       "      <th>min</th>\n",
       "      <th>25%</th>\n",
       "      <th>50%</th>\n",
       "      <th>75%</th>\n",
       "      <th>max</th>\n",
       "      <th>count</th>\n",
       "      <th>mean</th>\n",
       "      <th>std</th>\n",
       "      <th>min</th>\n",
       "      <th>25%</th>\n",
       "      <th>50%</th>\n",
       "      <th>75%</th>\n",
       "      <th>max</th>\n",
       "    </tr>\n",
       "    <tr>\n",
       "      <th>label</th>\n",
       "      <th></th>\n",
       "      <th></th>\n",
       "      <th></th>\n",
       "      <th></th>\n",
       "      <th></th>\n",
       "      <th></th>\n",
       "      <th></th>\n",
       "      <th></th>\n",
       "      <th></th>\n",
       "      <th></th>\n",
       "      <th></th>\n",
       "      <th></th>\n",
       "      <th></th>\n",
       "      <th></th>\n",
       "      <th></th>\n",
       "      <th></th>\n",
       "      <th></th>\n",
       "      <th></th>\n",
       "      <th></th>\n",
       "      <th></th>\n",
       "      <th></th>\n",
       "      <th></th>\n",
       "      <th></th>\n",
       "      <th></th>\n",
       "      <th></th>\n",
       "      <th></th>\n",
       "      <th></th>\n",
       "      <th></th>\n",
       "      <th></th>\n",
       "      <th></th>\n",
       "      <th></th>\n",
       "      <th></th>\n",
       "      <th></th>\n",
       "      <th></th>\n",
       "      <th></th>\n",
       "      <th></th>\n",
       "      <th></th>\n",
       "      <th></th>\n",
       "      <th></th>\n",
       "      <th></th>\n",
       "      <th></th>\n",
       "      <th></th>\n",
       "      <th></th>\n",
       "      <th></th>\n",
       "      <th></th>\n",
       "      <th></th>\n",
       "      <th></th>\n",
       "      <th></th>\n",
       "      <th></th>\n",
       "      <th></th>\n",
       "      <th></th>\n",
       "      <th></th>\n",
       "      <th></th>\n",
       "      <th></th>\n",
       "      <th></th>\n",
       "      <th></th>\n",
       "      <th></th>\n",
       "      <th></th>\n",
       "      <th></th>\n",
       "      <th></th>\n",
       "      <th></th>\n",
       "      <th></th>\n",
       "      <th></th>\n",
       "      <th></th>\n",
       "      <th></th>\n",
       "      <th></th>\n",
       "      <th></th>\n",
       "      <th></th>\n",
       "      <th></th>\n",
       "      <th></th>\n",
       "      <th></th>\n",
       "      <th></th>\n",
       "      <th></th>\n",
       "      <th></th>\n",
       "      <th></th>\n",
       "      <th></th>\n",
       "      <th></th>\n",
       "      <th></th>\n",
       "      <th></th>\n",
       "      <th></th>\n",
       "    </tr>\n",
       "  </thead>\n",
       "  <tbody>\n",
       "    <tr>\n",
       "      <th>0</th>\n",
       "      <td>2216.0</td>\n",
       "      <td>0.031057</td>\n",
       "      <td>0.011347</td>\n",
       "      <td>0.010953</td>\n",
       "      <td>0.021907</td>\n",
       "      <td>0.028150</td>\n",
       "      <td>0.038379</td>\n",
       "      <td>0.066583</td>\n",
       "      <td>2216.0</td>\n",
       "      <td>0.366877</td>\n",
       "      <td>0.482061</td>\n",
       "      <td>0.0</td>\n",
       "      <td>0.0</td>\n",
       "      <td>0.0</td>\n",
       "      <td>1.0</td>\n",
       "      <td>1.0</td>\n",
       "      <td>2216.0</td>\n",
       "      <td>111785.825361</td>\n",
       "      <td>11957.250902</td>\n",
       "      <td>93998.0</td>\n",
       "      <td>101893.25</td>\n",
       "      <td>110391.5</td>\n",
       "      <td>120179.0</td>\n",
       "      <td>153703.0</td>\n",
       "      <td>2216.0</td>\n",
       "      <td>48.394856</td>\n",
       "      <td>13.220982</td>\n",
       "      <td>20.0</td>\n",
       "      <td>38.0</td>\n",
       "      <td>48.0</td>\n",
       "      <td>60.0</td>\n",
       "      <td>75.0</td>\n",
       "      <td>2216.0</td>\n",
       "      <td>0.501354</td>\n",
       "      <td>0.500111</td>\n",
       "      <td>0.0</td>\n",
       "      <td>0.0</td>\n",
       "      <td>1.0</td>\n",
       "      <td>1.0</td>\n",
       "      <td>1.0</td>\n",
       "      <td>2216.0</td>\n",
       "      <td>0.081227</td>\n",
       "      <td>0.273246</td>\n",
       "      <td>0.0</td>\n",
       "      <td>0.0</td>\n",
       "      <td>0.0</td>\n",
       "      <td>0.0</td>\n",
       "      <td>1.0</td>\n",
       "      <td>2216.0</td>\n",
       "      <td>0.172383</td>\n",
       "      <td>0.377798</td>\n",
       "      <td>0.0</td>\n",
       "      <td>0.0</td>\n",
       "      <td>0.0</td>\n",
       "      <td>0.0</td>\n",
       "      <td>1.0</td>\n",
       "      <td>2216.0</td>\n",
       "      <td>0.245036</td>\n",
       "      <td>0.430206</td>\n",
       "      <td>0.0</td>\n",
       "      <td>0.0</td>\n",
       "      <td>0.0</td>\n",
       "      <td>0.0</td>\n",
       "      <td>1.0</td>\n",
       "      <td>2216.0</td>\n",
       "      <td>0.730596</td>\n",
       "      <td>0.443750</td>\n",
       "      <td>0.0</td>\n",
       "      <td>0.0</td>\n",
       "      <td>1.0</td>\n",
       "      <td>1.0</td>\n",
       "      <td>1.0</td>\n",
       "      <td>2216.0</td>\n",
       "      <td>50.112731</td>\n",
       "      <td>29.184440</td>\n",
       "      <td>0.0</td>\n",
       "      <td>25.0</td>\n",
       "      <td>50.0</td>\n",
       "      <td>75.0</td>\n",
       "      <td>99.0</td>\n",
       "    </tr>\n",
       "    <tr>\n",
       "      <th>1</th>\n",
       "      <td>2481.0</td>\n",
       "      <td>0.022088</td>\n",
       "      <td>0.008941</td>\n",
       "      <td>0.004380</td>\n",
       "      <td>0.016134</td>\n",
       "      <td>0.020381</td>\n",
       "      <td>0.026165</td>\n",
       "      <td>0.058814</td>\n",
       "      <td>2481.0</td>\n",
       "      <td>0.875453</td>\n",
       "      <td>0.330271</td>\n",
       "      <td>0.0</td>\n",
       "      <td>1.0</td>\n",
       "      <td>1.0</td>\n",
       "      <td>1.0</td>\n",
       "      <td>1.0</td>\n",
       "      <td>2481.0</td>\n",
       "      <td>76228.635228</td>\n",
       "      <td>10380.149131</td>\n",
       "      <td>58061.0</td>\n",
       "      <td>67329.00</td>\n",
       "      <td>76373.0</td>\n",
       "      <td>85347.0</td>\n",
       "      <td>93976.0</td>\n",
       "      <td>2481.0</td>\n",
       "      <td>48.839178</td>\n",
       "      <td>10.547298</td>\n",
       "      <td>20.0</td>\n",
       "      <td>41.0</td>\n",
       "      <td>49.0</td>\n",
       "      <td>58.0</td>\n",
       "      <td>73.0</td>\n",
       "      <td>2481.0</td>\n",
       "      <td>0.494156</td>\n",
       "      <td>0.500067</td>\n",
       "      <td>0.0</td>\n",
       "      <td>0.0</td>\n",
       "      <td>0.0</td>\n",
       "      <td>1.0</td>\n",
       "      <td>1.0</td>\n",
       "      <td>2481.0</td>\n",
       "      <td>0.081419</td>\n",
       "      <td>0.273532</td>\n",
       "      <td>0.0</td>\n",
       "      <td>0.0</td>\n",
       "      <td>0.0</td>\n",
       "      <td>0.0</td>\n",
       "      <td>1.0</td>\n",
       "      <td>2481.0</td>\n",
       "      <td>0.184200</td>\n",
       "      <td>0.387725</td>\n",
       "      <td>0.0</td>\n",
       "      <td>0.0</td>\n",
       "      <td>0.0</td>\n",
       "      <td>0.0</td>\n",
       "      <td>1.0</td>\n",
       "      <td>2481.0</td>\n",
       "      <td>0.239017</td>\n",
       "      <td>0.426569</td>\n",
       "      <td>0.0</td>\n",
       "      <td>0.0</td>\n",
       "      <td>0.0</td>\n",
       "      <td>0.0</td>\n",
       "      <td>1.0</td>\n",
       "      <td>2481.0</td>\n",
       "      <td>0.737606</td>\n",
       "      <td>0.440024</td>\n",
       "      <td>0.0</td>\n",
       "      <td>0.0</td>\n",
       "      <td>1.0</td>\n",
       "      <td>1.0</td>\n",
       "      <td>1.0</td>\n",
       "      <td>2481.0</td>\n",
       "      <td>49.353335</td>\n",
       "      <td>28.674646</td>\n",
       "      <td>0.0</td>\n",
       "      <td>25.0</td>\n",
       "      <td>49.0</td>\n",
       "      <td>74.0</td>\n",
       "      <td>99.0</td>\n",
       "    </tr>\n",
       "    <tr>\n",
       "      <th>2</th>\n",
       "      <td>2187.0</td>\n",
       "      <td>0.017315</td>\n",
       "      <td>0.007170</td>\n",
       "      <td>0.002329</td>\n",
       "      <td>0.012337</td>\n",
       "      <td>0.016140</td>\n",
       "      <td>0.020915</td>\n",
       "      <td>0.048990</td>\n",
       "      <td>2187.0</td>\n",
       "      <td>0.853224</td>\n",
       "      <td>0.353964</td>\n",
       "      <td>0.0</td>\n",
       "      <td>1.0</td>\n",
       "      <td>1.0</td>\n",
       "      <td>1.0</td>\n",
       "      <td>1.0</td>\n",
       "      <td>2187.0</td>\n",
       "      <td>39926.654961</td>\n",
       "      <td>12594.656509</td>\n",
       "      <td>2493.8</td>\n",
       "      <td>31938.00</td>\n",
       "      <td>42044.0</td>\n",
       "      <td>50210.0</td>\n",
       "      <td>58027.0</td>\n",
       "      <td>2187.0</td>\n",
       "      <td>42.034294</td>\n",
       "      <td>10.941256</td>\n",
       "      <td>18.0</td>\n",
       "      <td>34.0</td>\n",
       "      <td>41.0</td>\n",
       "      <td>48.0</td>\n",
       "      <td>75.0</td>\n",
       "      <td>2187.0</td>\n",
       "      <td>0.512574</td>\n",
       "      <td>0.499956</td>\n",
       "      <td>0.0</td>\n",
       "      <td>0.0</td>\n",
       "      <td>1.0</td>\n",
       "      <td>1.0</td>\n",
       "      <td>1.0</td>\n",
       "      <td>2187.0</td>\n",
       "      <td>0.125743</td>\n",
       "      <td>0.331635</td>\n",
       "      <td>0.0</td>\n",
       "      <td>0.0</td>\n",
       "      <td>0.0</td>\n",
       "      <td>0.0</td>\n",
       "      <td>1.0</td>\n",
       "      <td>2187.0</td>\n",
       "      <td>0.129401</td>\n",
       "      <td>0.335720</td>\n",
       "      <td>0.0</td>\n",
       "      <td>0.0</td>\n",
       "      <td>0.0</td>\n",
       "      <td>0.0</td>\n",
       "      <td>1.0</td>\n",
       "      <td>2187.0</td>\n",
       "      <td>0.153635</td>\n",
       "      <td>0.360681</td>\n",
       "      <td>0.0</td>\n",
       "      <td>0.0</td>\n",
       "      <td>0.0</td>\n",
       "      <td>0.0</td>\n",
       "      <td>1.0</td>\n",
       "      <td>2187.0</td>\n",
       "      <td>0.730224</td>\n",
       "      <td>0.443945</td>\n",
       "      <td>0.0</td>\n",
       "      <td>0.0</td>\n",
       "      <td>1.0</td>\n",
       "      <td>1.0</td>\n",
       "      <td>1.0</td>\n",
       "      <td>2187.0</td>\n",
       "      <td>48.110303</td>\n",
       "      <td>28.705251</td>\n",
       "      <td>0.0</td>\n",
       "      <td>24.0</td>\n",
       "      <td>47.0</td>\n",
       "      <td>72.0</td>\n",
       "      <td>99.0</td>\n",
       "    </tr>\n",
       "  </tbody>\n",
       "</table>\n",
       "</div>"
      ],
      "text/plain": [
       "      Mnt_pday_card                                                    \\\n",
       "              count      mean       std       min       25%       50%   \n",
       "label                                                                   \n",
       "0            2216.0  0.031057  0.011347  0.010953  0.021907  0.028150   \n",
       "1            2481.0  0.022088  0.008941  0.004380  0.016134  0.020381   \n",
       "2            2187.0  0.017315  0.007170  0.002329  0.012337  0.016140   \n",
       "\n",
       "                          has_Kids                                          \\\n",
       "            75%       max    count      mean       std  min  25%  50%  75%   \n",
       "label                                                                        \n",
       "0      0.038379  0.066583   2216.0  0.366877  0.482061  0.0  0.0  0.0  1.0   \n",
       "1      0.026165  0.058814   2481.0  0.875453  0.330271  0.0  1.0  1.0  1.0   \n",
       "2      0.020915  0.048990   2187.0  0.853224  0.353964  0.0  1.0  1.0  1.0   \n",
       "\n",
       "            Income                                                             \\\n",
       "       max   count           mean           std      min        25%       50%   \n",
       "label                                                                           \n",
       "0      1.0  2216.0  111785.825361  11957.250902  93998.0  101893.25  110391.5   \n",
       "1      1.0  2481.0   76228.635228  10380.149131  58061.0   67329.00   76373.0   \n",
       "2      1.0  2187.0   39926.654961  12594.656509   2493.8   31938.00   42044.0   \n",
       "\n",
       "                              Age                                          \\\n",
       "            75%       max   count       mean        std   min   25%   50%   \n",
       "label                                                                       \n",
       "0      120179.0  153703.0  2216.0  48.394856  13.220982  20.0  38.0  48.0   \n",
       "1       85347.0   93976.0  2481.0  48.839178  10.547298  20.0  41.0  49.0   \n",
       "2       50210.0   58027.0  2187.0  42.034294  10.941256  18.0  34.0  41.0   \n",
       "\n",
       "                  Graduation                                               \\\n",
       "        75%   max      count      mean       std  min  25%  50%  75%  max   \n",
       "label                                                                       \n",
       "0      60.0  75.0     2216.0  0.501354  0.500111  0.0  0.0  1.0  1.0  1.0   \n",
       "1      58.0  73.0     2481.0  0.494156  0.500067  0.0  0.0  0.0  1.0  1.0   \n",
       "2      48.0  75.0     2187.0  0.512574  0.499956  0.0  0.0  1.0  1.0  1.0   \n",
       "\n",
       "      HighSchool                                               Master  \\\n",
       "           count      mean       std  min  25%  50%  75%  max   count   \n",
       "label                                                                   \n",
       "0         2216.0  0.081227  0.273246  0.0  0.0  0.0  0.0  1.0  2216.0   \n",
       "1         2481.0  0.081419  0.273532  0.0  0.0  0.0  0.0  1.0  2481.0   \n",
       "2         2187.0  0.125743  0.331635  0.0  0.0  0.0  0.0  1.0  2187.0   \n",
       "\n",
       "                                                       PhD            \\\n",
       "           mean       std  min  25%  50%  75%  max   count      mean   \n",
       "label                                                                  \n",
       "0      0.172383  0.377798  0.0  0.0  0.0  0.0  1.0  2216.0  0.245036   \n",
       "1      0.184200  0.387725  0.0  0.0  0.0  0.0  1.0  2481.0  0.239017   \n",
       "2      0.129401  0.335720  0.0  0.0  0.0  0.0  1.0  2187.0  0.153635   \n",
       "\n",
       "                                          Gender                           \\\n",
       "            std  min  25%  50%  75%  max   count      mean       std  min   \n",
       "label                                                                       \n",
       "0      0.430206  0.0  0.0  0.0  0.0  1.0  2216.0  0.730596  0.443750  0.0   \n",
       "1      0.426569  0.0  0.0  0.0  0.0  1.0  2481.0  0.737606  0.440024  0.0   \n",
       "2      0.360681  0.0  0.0  0.0  0.0  1.0  2187.0  0.730224  0.443945  0.0   \n",
       "\n",
       "                          Recency                                         \\\n",
       "       25%  50%  75%  max   count       mean        std  min   25%   50%   \n",
       "label                                                                      \n",
       "0      0.0  1.0  1.0  1.0  2216.0  50.112731  29.184440  0.0  25.0  50.0   \n",
       "1      0.0  1.0  1.0  1.0  2481.0  49.353335  28.674646  0.0  25.0  49.0   \n",
       "2      0.0  1.0  1.0  1.0  2187.0  48.110303  28.705251  0.0  24.0  47.0   \n",
       "\n",
       "                   \n",
       "        75%   max  \n",
       "label              \n",
       "0      75.0  99.0  \n",
       "1      74.0  99.0  \n",
       "2      72.0  99.0  "
      ]
     },
     "execution_count": 169,
     "metadata": {},
     "output_type": "execute_result"
    }
   ],
   "source": [
    "df_value_k3.groupby([\"label\"]).describe()"
   ]
  },
  {
   "cell_type": "markdown",
   "id": "14c9f588",
   "metadata": {},
   "source": [
    "Measuring distances between clusters"
   ]
  },
  {
   "cell_type": "code",
   "execution_count": 170,
   "id": "98bab391",
   "metadata": {},
   "outputs": [
    {
     "data": {
      "text/plain": [
       "array([[    0.        , 35561.89738661, 71843.35462908],\n",
       "       [35561.89738661,     0.        , 36281.4576042 ],\n",
       "       [71843.35462908, 36281.4576042 ,     0.        ]])"
      ]
     },
     "execution_count": 170,
     "metadata": {},
     "output_type": "execute_result"
    }
   ],
   "source": [
    "from sklearn.metrics.pairwise import euclidean_distances\n",
    "\n",
    "dists_k2 = euclidean_distances(model_k2.cluster_centers_)\n",
    "dists_k2"
   ]
  },
  {
   "cell_type": "code",
   "execution_count": 172,
   "id": "cf96bc8c",
   "metadata": {},
   "outputs": [
    {
     "data": {
      "text/plain": [
       "array([[    0.        , 35561.89738661, 71843.35462908],\n",
       "       [35561.89738661,     0.        , 36281.4576042 ],\n",
       "       [71843.35462908, 36281.4576042 ,     0.        ]])"
      ]
     },
     "execution_count": 172,
     "metadata": {},
     "output_type": "execute_result"
    }
   ],
   "source": [
    "dists_k3 = euclidean_distances(model_k3.cluster_centers_)\n",
    "dists_k3"
   ]
  },
  {
   "cell_type": "markdown",
   "id": "7eb4a311",
   "metadata": {},
   "source": [
    "### Visualization"
   ]
  },
  {
   "cell_type": "code",
   "execution_count": 173,
   "id": "871c91ed",
   "metadata": {},
   "outputs": [],
   "source": [
    "cluster0 = df_value_k2[df_value_k2.label == 0]\n",
    "cluster1 = df_value_k2[df_value_k2.label == 1]\n"
   ]
  },
  {
   "cell_type": "code",
   "execution_count": 174,
   "id": "69dfeff1",
   "metadata": {},
   "outputs": [
    {
     "data": {
      "text/plain": [
       "<matplotlib.legend.Legend at 0x1ef0495b850>"
      ]
     },
     "execution_count": 174,
     "metadata": {},
     "output_type": "execute_result"
    },
    {
     "data": {
      "image/png": "[encoded data removed]",
      "text/plain": [
       "<Figure size 640x480 with 1 Axes>"
      ]
     },
     "metadata": {},
     "output_type": "display_data"
    }
   ],
   "source": [
    "sns.histplot(cluster0['Mnt_pday_card'],color='red',label='Cluster 0', bins = 20)\n",
    "sns.histplot(cluster1['Mnt_pday_card'],color='yellow',label='Cluster 1', bins = 20)\n",
    "plt.legend()"
   ]
  },
  {
   "cell_type": "code",
   "execution_count": 175,
   "id": "ec61844b",
   "metadata": {},
   "outputs": [],
   "source": [
    "cluster0 = df_value_k3[df_value_k3.label == 0]\n",
    "cluster1 = df_value_k3[df_value_k3.label == 1]\n",
    "cluster2 = df_value_k3[df_value_k3.label == 2]"
   ]
  },
  {
   "cell_type": "code",
   "execution_count": 176,
   "id": "0a53954d",
   "metadata": {},
   "outputs": [
    {
     "data": {
      "text/plain": [
       "<matplotlib.legend.Legend at 0x1ef04a771f0>"
      ]
     },
     "execution_count": 176,
     "metadata": {},
     "output_type": "execute_result"
    },
    {
     "data": {
      "image/png": "[encoded data removed]",
      "text/plain": [
       "<Figure size 640x480 with 1 Axes>"
      ]
     },
     "metadata": {},
     "output_type": "display_data"
    }
   ],
   "source": [
    "sns.histplot(cluster0['Mnt_pday_card'],color='red',label='Cluster 0', bins = 20)\n",
    "sns.histplot(cluster1['Mnt_pday_card'],color='yellow',label='Cluster 1', bins = 20)\n",
    "sns.histplot(cluster2['Mnt_pday_card'],color='green',label='Cluster 2', bins = 20)\n",
    "plt.legend()"
   ]
  },
  {
   "cell_type": "code",
   "execution_count": 177,
   "id": "6aa42603",
   "metadata": {},
   "outputs": [
    {
     "data": {
      "text/plain": [
       "<matplotlib.legend.Legend at 0x1ef04bbbaf0>"
      ]
     },
     "execution_count": 177,
     "metadata": {},
     "output_type": "execute_result"
    },
    {
     "data": {
      "image/png": "[encoded data removed]",
      "text/plain": [
       "<Figure size 640x480 with 1 Axes>"
      ]
     },
     "metadata": {},
     "output_type": "display_data"
    }
   ],
   "source": [
    "sns.histplot(cluster0['Income'],color='red',label='Cluster 0', bins = 20)\n",
    "sns.histplot(cluster1['Income'],color='yellow',label='Cluster 1', bins = 20)\n",
    "sns.histplot(cluster2['Income'],color='green',label='Cluster 2', bins = 20)\n",
    "plt.legend()"
   ]
  },
  {
   "cell_type": "code",
   "execution_count": 178,
   "id": "13dce7d7",
   "metadata": {},
   "outputs": [],
   "source": [
    "# variavel modelo visao customer behaviour: NumOfferPurchases', 'NumAppPurchases',\n",
    "       # 'NumTakeAwayPurchases', 'NumStorePurchases', 'NumAppVisitsMonth',\n",
    "       # 'Complain', 'Gender', 'Income', 'Age', 'Graduation', 'HighSchool', 'Master', 'PhD', 'Married', 'Single',\n",
    "       # 'Widow'"
   ]
  }
 ],
 "metadata": {
  "kernelspec": {
   "display_name": "Python 3 (ipykernel)",
   "language": "python",
   "name": "python3"
  },
  "language_info": {
   "codemirror_mode": {
    "name": "ipython",
    "version": 3
   },
   "file_extension": ".py",
   "mimetype": "text/x-python",
   "name": "python",
   "nbconvert_exporter": "python",
   "pygments_lexer": "ipython3",
   "version": "3.9.13"
  }
 },
 "nbformat": 4,
 "nbformat_minor": 5
}
