{
 "cells": [
  {
   "cell_type": "markdown",
   "id": "7bc87212",
   "metadata": {},
   "source": [
    "### Table of Contents"
   ]
  },
  {
   "cell_type": "markdown",
   "id": "db4075ae",
   "metadata": {},
   "source": [
    "# 1. Import Data"
   ]
  },
  {
   "cell_type": "markdown",
   "id": "24debbce",
   "metadata": {},
   "source": [
    "## 1.1 Import the needed libraries"
   ]
  },
  {
   "cell_type": "code",
   "execution_count": 128,
   "id": "40e3108e",
   "metadata": {},
   "outputs": [],
   "source": [
    "import pandas as pd\n",
    "import numpy as np\n",
    "import matplotlib.pyplot as plt\n",
    "import seaborn as sns\n",
    "import sklearn as sk\n",
    "from datetime import date\n",
    "from scipy.stats import zscore\n",
    "\n",
    "%matplotlib inline\n",
    "pd.set_option('display.max_columns', None)\n",
    "\n",
    "from sklearn.preprocessing import MinMaxScaler\n",
    "from sklearn.impute import KNNImputer"
   ]
  },
  {
   "cell_type": "markdown",
   "id": "bc474e5f",
   "metadata": {},
   "source": [
    "## 1.2 Import a integrate data"
   ]
  },
  {
   "cell_type": "code",
   "execution_count": 129,
   "id": "4acdbaaa",
   "metadata": {},
   "outputs": [],
   "source": [
    "df_crm = pd.read_csv('crm.csv')\n",
    "df_mkt = pd.read_csv('mkt.csv')\n",
    "df_sales = pd.read_excel('sales.xlsx')"
   ]
  },
  {
   "cell_type": "code",
   "execution_count": 130,
   "id": "c71a4e04",
   "metadata": {},
   "outputs": [],
   "source": [
    "df = pd.merge(pd.merge(df_crm,df_sales,on='CustomerID',how=\"inner\"),df_mkt,on=\"CustomerID\",how=\"inner\")"
   ]
  },
  {
   "cell_type": "markdown",
   "id": "3659ba1c",
   "metadata": {},
   "source": [
    "## 1.3 Set Index\n"
   ]
  },
  {
   "cell_type": "code",
   "execution_count": 131,
   "id": "133e3a1f",
   "metadata": {},
   "outputs": [],
   "source": [
    "df.set_index('CustomerID',inplace = True)"
   ]
  },
  {
   "cell_type": "markdown",
   "id": "7c1102a1",
   "metadata": {},
   "source": [
    "## 1.4 Check and removing duplicates"
   ]
  },
  {
   "cell_type": "code",
   "execution_count": 132,
   "id": "e0d3e069",
   "metadata": {},
   "outputs": [
    {
     "data": {
      "text/plain": "                                Name  Birthyear   Education Marital_Status  \\\nCustomerID                                                                   \n32924               Mrs. Wanda Terry       1986  Graduation       Divorced   \n8276               Mrs. Mary Jackson       1968  HighSchool        Married   \n32966               Mr. Steven Baker       1961  HighSchool        Married   \n5627              Mr. Jonathan Clark       1988  Graduation        Married   \n29357              Mr. Eric Springer       1972         PhD        Married   \n26891                  Mr. Sam Peake       1992  Graduation        Married   \n21269              Mr. Nathan Glover       1971  Graduation        Married   \n32777                  Mr. Joe James       1967      Master        Married   \n26285           Mr. Oliver Sanderson       1986       Basic       Together   \n5540              Mr. Justin MacLeod       1995  Graduation       Together   \n17069             Miss Zoe Underwood       1977  Graduation       Together   \n12320         Mr. Christian Morrison       1985      Master        Married   \n24260                Mr. Dan Langdon       1993  Graduation         Single   \n6470                Miss Diane White       1980  Graduation         Single   \n10265                 Mr. Max Martin       1988  HighSchool       Together   \n21767                 Mrs. Jan Sharp       1977      Master        Married   \n15905              Mr. Charles James       1957         PhD       Together   \n28688             Mr. Anthony Gibson       1976  Graduation       Together   \n28739          Mr. Stephen Henderson       1970  Graduation        Married   \n25052                Mr. Piers Nolan       1977      Master       Divorced   \n7586                Mr. Jason Powell       1985      Master        Married   \n32495             Miss Wanda Wallace       1962  Graduation       Together   \n19295              Mr. Justin Martin       1998  Graduation       Together   \n14942              Mr. Stewart North       1978         PhD       Together   \n20747               Mr. Luke Lambert       1988         PhD        Married   \n12035              Mrs. Heather Hart       1985  Graduation        Married   \n8447               Mrs. Grace Davies       1967  Graduation        Married   \n25685                Mr. Austin Knox       1955         PhD          Widow   \n28625                Mr. Frank Piper       1969       Basic        Married   \n28844                  Mr. Neil Dowd       1981  Graduation        Married   \n30464       Miss Gabrielle Churchill       1960  Graduation       Together   \n\n              Income  Kid_Younger6  Children_6to18       Date_Adherence  \\\nCustomerID                                                                \n32924        41264.0             1               1  2020-10-03 00:00:00   \n8276        118238.0             0               0  2020-10-13 00:00:00   \n32966        84974.0             0               1  2022-02-17 00:00:00   \n5627         40975.0             1               0  2022-04-28 00:00:00   \n29357        77778.0             0               1  2022-04-19 00:00:00   \n26891        74147.0             1               0  2022-03-21 00:00:00   \n21269        91241.0             0               1  2022-03-28 00:00:00   \n32777       101251.0             0               1  2021-12-30 00:00:00   \n26285        22345.0             1               0  2021-03-21 00:00:00   \n5540         44247.0             1               0  2021-03-08 00:00:00   \n17069        75226.0             1               1  2020-11-24 00:00:00   \n12320        39747.0             1               0  2021-04-06 00:00:00   \n24260       116645.0             0               0  2021-05-18 00:00:00   \n6470        127255.0             0               0  2021-06-17 00:00:00   \n10265        27838.0             1               0  2021-10-08 00:00:00   \n21767        54507.0             1               1  2020-10-27 00:00:00   \n15905        95655.0             0               0  2020-09-04 00:00:00   \n28688        77992.0             0               1  2020-12-29 00:00:00   \n28739        81721.0             0               1  2021-07-21 00:00:00   \n25052        57770.0             1               0  2021-07-23 00:00:00   \n7586         98465.0             0               1  2021-04-25 00:00:00   \n32495         8305.4             0               1  2022-03-21 00:00:00   \n19295       120028.0             0               0  2022-05-13 00:00:00   \n14942       135654.0             0               0  2021-05-02 00:00:00   \n20747        97456.0             0               0  2020-08-14 00:00:00   \n12035       127587.0             1               0  2021-09-30 00:00:00   \n8447        116080.0             1               1  2022-04-24 00:00:00   \n25685        60675.0             1               1  2020-11-19 00:00:00   \n28625        30685.0             2               1  2021-12-25 00:00:00   \n28844        93031.0             0               1  2022-06-29 00:00:00   \n30464        99213.0             0               1  2021-05-02 00:00:00   \n\n            Recency  MntMeat&Fish  MntEntries  MntVegan&Vegetarian  MntDrinks  \\\nCustomerID                                                                      \n32924          61.0          70.0          20                165.0       40.0   \n8276           42.0        5940.0        1002               9465.0     1100.0   \n32966          56.0        2610.0         840               2160.0      840.0   \n5627           31.0         130.0           0                120.0       20.0   \n29357          92.0        1240.0          60                315.0       20.0   \n26891          13.0         610.0         320                915.0       20.0   \n21269          18.0        1780.0         220               2370.0      540.0   \n32777          26.0        7350.0        2780               4170.0      500.0   \n26285          54.0          50.0         180                285.0      240.0   \n5540           51.0        1540.0         400                990.0        0.0   \n17069          32.0        1320.0         280                390.0      180.0   \n12320          64.0         120.0           0                195.0       20.0   \n24260          64.0        3330.0           0              12225.0     1980.0   \n6470           75.0        5760.0        2220              13950.0     2960.0   \n10265           7.0         170.0          60                105.0      280.0   \n21767          94.0         280.0          40                135.0       20.0   \n15905           3.0        8900.0        1260               4380.0        0.0   \n28688          43.0        5940.0         120                570.0      120.0   \n28739          78.0        2140.0        1700               2085.0     1160.0   \n25052          12.0         700.0          60               1275.0      240.0   \n7586           39.0        3780.0         200               2205.0      100.0   \n32495          30.0         479.0          10                123.0       10.0   \n19295          15.0        9370.0        1060               3000.0      800.0   \n14942          71.0        9790.0         880              14025.0      440.0   \n20747          63.0        2540.0        1420               6705.0     2020.0   \n12035          73.0        6300.0        3200               3945.0      220.0   \n8447           33.0        2450.0         320               3345.0      320.0   \n25685          15.0        5020.0           0                645.0        0.0   \n28625          35.0          60.0         120                120.0      180.0   \n28844          43.0        6050.0         140               1275.0      140.0   \n30464           9.0        2120.0         980               2700.0     1200.0   \n\n            MntDesserts  MntAdditionalRequests  NumOfferPurchases  \\\nCustomerID                                                          \n32924               0.0                    7.0                  2   \n8276             1100.0                   32.0                  1   \n32966             960.0                  133.0                  3   \n5627               20.0                    5.0                  1   \n29357              20.0                   33.0                  1   \n26891             240.0                   78.0                  2   \n21269             380.0                   59.0                  1   \n32777            1760.0                   66.0                  2   \n26285             280.0                   39.0                  3   \n5540              240.0                   27.0                  7   \n17069             100.0                   28.0                  5   \n12320               0.0                   10.0                  1   \n24260             832.0                   29.0                  1   \n6470             1860.0                   74.0                  1   \n10265              20.0                   42.0                  2   \n21767              20.0                    8.0                  2   \n15905             500.0                   12.0                  4   \n28688             120.0                   25.0                  4   \n28739             740.0                   16.0                  4   \n25052             180.0                   95.0                  3   \n7586              100.0                   38.0                  3   \n32495              34.0                   17.1                  0   \n19295            2140.0                  200.0                  0   \n14942             488.0                   22.0                  1   \n20747            2840.0                   20.0                  1   \n12035            1600.0                   45.0                  1   \n8447              860.0                   16.0                  2   \n25685               0.0                   27.0                  9   \n28625             180.0                   18.0                  3   \n28844             140.0                    7.0                  1   \n30464             980.0                   32.0                  2   \n\n            NumAppPurchases  NumTakeAwayPurchases  NumStorePurchases  \\\nCustomerID                                                             \n32924                     3                     1                  3   \n8276                      6                     7                  8   \n32966                     6                     5                  9   \n5627                      3                     1                  4   \n29357                     5                     2                  4   \n26891                     6                     3                  2   \n21269                     8                     3                  6   \n32777                     8                     8                  6   \n26285                     5                     2                  2   \n5540                      8                     2                  4   \n17069                     7                     2                  3   \n12320                     3                     1                  3   \n24260                     6                    11                 11   \n6470                      5                     3                 13   \n10265                     4                     3                  2   \n21767                     4                     1                  3   \n15905                    10                     5                  7   \n28688                     9                     3                 10   \n28739                     7                     3                 10   \n25052                     6                     3                  3   \n7586                      9                     3                  8   \n32495                     1                     1                  0   \n19295                     6                     4                 13   \n14942                     9                     6                 12   \n20747                     5                     5                  8   \n12035                     6                     6                  8   \n8447                     10                     2                  8   \n25685                    10                     3                  7   \n28625                     4                     2                  3   \n28844                    10                     3                 10   \n30464                     5                     5                 10   \n\n            NumAppVisitsMonth  Complain  Response_Cmp1  Response_Cmp2  \\\nCustomerID                                                              \n32924                       7         0              0              0   \n8276                        2         0              0              0   \n32966                       3         0              0              0   \n5627                        3         0              0              0   \n29357                       6         0              0              1   \n26891                       6         0              1              0   \n21269                       5         0              0              0   \n32777                       3         0              1              0   \n26285                       9         0              1              0   \n5540                        9         0              0              0   \n17069                       8         0              0              0   \n12320                       7         0              0              0   \n24260                       2         0              0              0   \n6470                        1         0              0              0   \n10265                       4         0              1              0   \n21767                       7         0              0              0   \n15905                       6         0              0              0   \n28688                       7         0              0              0   \n28739                       5         0              0              0   \n25052                       7         0              0              0   \n7586                        6         0              0              0   \n32495                      20         0              1              0   \n19295                       1         0              0              0   \n14942                       3         0              0              1   \n20747                       1         0              0              0   \n12035                       5         0              0              1   \n8447                        6         0              0              0   \n25685                       9         0              0              0   \n28625                       6         0              0              0   \n28844                       4         0              0              1   \n30464                       2         0              0              0   \n\n            Response_Cmp3  Response_Cmp4  Response_Cmp5  \nCustomerID                                               \n32924                   0              0              0  \n8276                    0              0              0  \n32966                   0              0              0  \n5627                    0              0              0  \n29357                   0              0              0  \n26891                   0              0              0  \n21269                   0              0              0  \n32777                   0              0              0  \n26285                   0              0              0  \n5540                    0              0              0  \n17069                   0              0              0  \n12320                   0              0              0  \n24260                   0              0              0  \n6470                    0              0              0  \n10265                   0              0              0  \n21767                   0              0              0  \n15905                   0              0              0  \n28688                   0              0              0  \n28739                   0              0              0  \n25052                   0              0              0  \n7586                    0              0              0  \n32495                   0              0              0  \n19295                   1              0              0  \n14942                   1              1              0  \n20747                   0              0              0  \n12035                   0              1              0  \n8447                    0              0              0  \n25685                   0              0              0  \n28625                   0              0              0  \n28844                   0              0              0  \n30464                   0              0              0  ",
      "text/html": "<div>\n<style scoped>\n    .dataframe tbody tr th:only-of-type {\n        vertical-align: middle;\n    }\n\n    .dataframe tbody tr th {\n        vertical-align: top;\n    }\n\n    .dataframe thead th {\n        text-align: right;\n    }\n</style>\n<table border=\"1\" class=\"dataframe\">\n  <thead>\n    <tr style=\"text-align: right;\">\n      <th></th>\n      <th>Name</th>\n      <th>Birthyear</th>\n      <th>Education</th>\n      <th>Marital_Status</th>\n      <th>Income</th>\n      <th>Kid_Younger6</th>\n      <th>Children_6to18</th>\n      <th>Date_Adherence</th>\n      <th>Recency</th>\n      <th>MntMeat&amp;Fish</th>\n      <th>MntEntries</th>\n      <th>MntVegan&amp;Vegetarian</th>\n      <th>MntDrinks</th>\n      <th>MntDesserts</th>\n      <th>MntAdditionalRequests</th>\n      <th>NumOfferPurchases</th>\n      <th>NumAppPurchases</th>\n      <th>NumTakeAwayPurchases</th>\n      <th>NumStorePurchases</th>\n      <th>NumAppVisitsMonth</th>\n      <th>Complain</th>\n      <th>Response_Cmp1</th>\n      <th>Response_Cmp2</th>\n      <th>Response_Cmp3</th>\n      <th>Response_Cmp4</th>\n      <th>Response_Cmp5</th>\n    </tr>\n    <tr>\n      <th>CustomerID</th>\n      <th></th>\n      <th></th>\n      <th></th>\n      <th></th>\n      <th></th>\n      <th></th>\n      <th></th>\n      <th></th>\n      <th></th>\n      <th></th>\n      <th></th>\n      <th></th>\n      <th></th>\n      <th></th>\n      <th></th>\n      <th></th>\n      <th></th>\n      <th></th>\n      <th></th>\n      <th></th>\n      <th></th>\n      <th></th>\n      <th></th>\n      <th></th>\n      <th></th>\n      <th></th>\n    </tr>\n  </thead>\n  <tbody>\n    <tr>\n      <th>32924</th>\n      <td>Mrs. Wanda Terry</td>\n      <td>1986</td>\n      <td>Graduation</td>\n      <td>Divorced</td>\n      <td>41264.0</td>\n      <td>1</td>\n      <td>1</td>\n      <td>2020-10-03 00:00:00</td>\n      <td>61.0</td>\n      <td>70.0</td>\n      <td>20</td>\n      <td>165.0</td>\n      <td>40.0</td>\n      <td>0.0</td>\n      <td>7.0</td>\n      <td>2</td>\n      <td>3</td>\n      <td>1</td>\n      <td>3</td>\n      <td>7</td>\n      <td>0</td>\n      <td>0</td>\n      <td>0</td>\n      <td>0</td>\n      <td>0</td>\n      <td>0</td>\n    </tr>\n    <tr>\n      <th>8276</th>\n      <td>Mrs. Mary Jackson</td>\n      <td>1968</td>\n      <td>HighSchool</td>\n      <td>Married</td>\n      <td>118238.0</td>\n      <td>0</td>\n      <td>0</td>\n      <td>2020-10-13 00:00:00</td>\n      <td>42.0</td>\n      <td>5940.0</td>\n      <td>1002</td>\n      <td>9465.0</td>\n      <td>1100.0</td>\n      <td>1100.0</td>\n      <td>32.0</td>\n      <td>1</td>\n      <td>6</td>\n      <td>7</td>\n      <td>8</td>\n      <td>2</td>\n      <td>0</td>\n      <td>0</td>\n      <td>0</td>\n      <td>0</td>\n      <td>0</td>\n      <td>0</td>\n    </tr>\n    <tr>\n      <th>32966</th>\n      <td>Mr. Steven Baker</td>\n      <td>1961</td>\n      <td>HighSchool</td>\n      <td>Married</td>\n      <td>84974.0</td>\n      <td>0</td>\n      <td>1</td>\n      <td>2022-02-17 00:00:00</td>\n      <td>56.0</td>\n      <td>2610.0</td>\n      <td>840</td>\n      <td>2160.0</td>\n      <td>840.0</td>\n      <td>960.0</td>\n      <td>133.0</td>\n      <td>3</td>\n      <td>6</td>\n      <td>5</td>\n      <td>9</td>\n      <td>3</td>\n      <td>0</td>\n      <td>0</td>\n      <td>0</td>\n      <td>0</td>\n      <td>0</td>\n      <td>0</td>\n    </tr>\n    <tr>\n      <th>5627</th>\n      <td>Mr. Jonathan Clark</td>\n      <td>1988</td>\n      <td>Graduation</td>\n      <td>Married</td>\n      <td>40975.0</td>\n      <td>1</td>\n      <td>0</td>\n      <td>2022-04-28 00:00:00</td>\n      <td>31.0</td>\n      <td>130.0</td>\n      <td>0</td>\n      <td>120.0</td>\n      <td>20.0</td>\n      <td>20.0</td>\n      <td>5.0</td>\n      <td>1</td>\n      <td>3</td>\n      <td>1</td>\n      <td>4</td>\n      <td>3</td>\n      <td>0</td>\n      <td>0</td>\n      <td>0</td>\n      <td>0</td>\n      <td>0</td>\n      <td>0</td>\n    </tr>\n    <tr>\n      <th>29357</th>\n      <td>Mr. Eric Springer</td>\n      <td>1972</td>\n      <td>PhD</td>\n      <td>Married</td>\n      <td>77778.0</td>\n      <td>0</td>\n      <td>1</td>\n      <td>2022-04-19 00:00:00</td>\n      <td>92.0</td>\n      <td>1240.0</td>\n      <td>60</td>\n      <td>315.0</td>\n      <td>20.0</td>\n      <td>20.0</td>\n      <td>33.0</td>\n      <td>1</td>\n      <td>5</td>\n      <td>2</td>\n      <td>4</td>\n      <td>6</td>\n      <td>0</td>\n      <td>0</td>\n      <td>1</td>\n      <td>0</td>\n      <td>0</td>\n      <td>0</td>\n    </tr>\n    <tr>\n      <th>26891</th>\n      <td>Mr. Sam Peake</td>\n      <td>1992</td>\n      <td>Graduation</td>\n      <td>Married</td>\n      <td>74147.0</td>\n      <td>1</td>\n      <td>0</td>\n      <td>2022-03-21 00:00:00</td>\n      <td>13.0</td>\n      <td>610.0</td>\n      <td>320</td>\n      <td>915.0</td>\n      <td>20.0</td>\n      <td>240.0</td>\n      <td>78.0</td>\n      <td>2</td>\n      <td>6</td>\n      <td>3</td>\n      <td>2</td>\n      <td>6</td>\n      <td>0</td>\n      <td>1</td>\n      <td>0</td>\n      <td>0</td>\n      <td>0</td>\n      <td>0</td>\n    </tr>\n    <tr>\n      <th>21269</th>\n      <td>Mr. Nathan Glover</td>\n      <td>1971</td>\n      <td>Graduation</td>\n      <td>Married</td>\n      <td>91241.0</td>\n      <td>0</td>\n      <td>1</td>\n      <td>2022-03-28 00:00:00</td>\n      <td>18.0</td>\n      <td>1780.0</td>\n      <td>220</td>\n      <td>2370.0</td>\n      <td>540.0</td>\n      <td>380.0</td>\n      <td>59.0</td>\n      <td>1</td>\n      <td>8</td>\n      <td>3</td>\n      <td>6</td>\n      <td>5</td>\n      <td>0</td>\n      <td>0</td>\n      <td>0</td>\n      <td>0</td>\n      <td>0</td>\n      <td>0</td>\n    </tr>\n    <tr>\n      <th>32777</th>\n      <td>Mr. Joe James</td>\n      <td>1967</td>\n      <td>Master</td>\n      <td>Married</td>\n      <td>101251.0</td>\n      <td>0</td>\n      <td>1</td>\n      <td>2021-12-30 00:00:00</td>\n      <td>26.0</td>\n      <td>7350.0</td>\n      <td>2780</td>\n      <td>4170.0</td>\n      <td>500.0</td>\n      <td>1760.0</td>\n      <td>66.0</td>\n      <td>2</td>\n      <td>8</td>\n      <td>8</td>\n      <td>6</td>\n      <td>3</td>\n      <td>0</td>\n      <td>1</td>\n      <td>0</td>\n      <td>0</td>\n      <td>0</td>\n      <td>0</td>\n    </tr>\n    <tr>\n      <th>26285</th>\n      <td>Mr. Oliver Sanderson</td>\n      <td>1986</td>\n      <td>Basic</td>\n      <td>Together</td>\n      <td>22345.0</td>\n      <td>1</td>\n      <td>0</td>\n      <td>2021-03-21 00:00:00</td>\n      <td>54.0</td>\n      <td>50.0</td>\n      <td>180</td>\n      <td>285.0</td>\n      <td>240.0</td>\n      <td>280.0</td>\n      <td>39.0</td>\n      <td>3</td>\n      <td>5</td>\n      <td>2</td>\n      <td>2</td>\n      <td>9</td>\n      <td>0</td>\n      <td>1</td>\n      <td>0</td>\n      <td>0</td>\n      <td>0</td>\n      <td>0</td>\n    </tr>\n    <tr>\n      <th>5540</th>\n      <td>Mr. Justin MacLeod</td>\n      <td>1995</td>\n      <td>Graduation</td>\n      <td>Together</td>\n      <td>44247.0</td>\n      <td>1</td>\n      <td>0</td>\n      <td>2021-03-08 00:00:00</td>\n      <td>51.0</td>\n      <td>1540.0</td>\n      <td>400</td>\n      <td>990.0</td>\n      <td>0.0</td>\n      <td>240.0</td>\n      <td>27.0</td>\n      <td>7</td>\n      <td>8</td>\n      <td>2</td>\n      <td>4</td>\n      <td>9</td>\n      <td>0</td>\n      <td>0</td>\n      <td>0</td>\n      <td>0</td>\n      <td>0</td>\n      <td>0</td>\n    </tr>\n    <tr>\n      <th>17069</th>\n      <td>Miss Zoe Underwood</td>\n      <td>1977</td>\n      <td>Graduation</td>\n      <td>Together</td>\n      <td>75226.0</td>\n      <td>1</td>\n      <td>1</td>\n      <td>2020-11-24 00:00:00</td>\n      <td>32.0</td>\n      <td>1320.0</td>\n      <td>280</td>\n      <td>390.0</td>\n      <td>180.0</td>\n      <td>100.0</td>\n      <td>28.0</td>\n      <td>5</td>\n      <td>7</td>\n      <td>2</td>\n      <td>3</td>\n      <td>8</td>\n      <td>0</td>\n      <td>0</td>\n      <td>0</td>\n      <td>0</td>\n      <td>0</td>\n      <td>0</td>\n    </tr>\n    <tr>\n      <th>12320</th>\n      <td>Mr. Christian Morrison</td>\n      <td>1985</td>\n      <td>Master</td>\n      <td>Married</td>\n      <td>39747.0</td>\n      <td>1</td>\n      <td>0</td>\n      <td>2021-04-06 00:00:00</td>\n      <td>64.0</td>\n      <td>120.0</td>\n      <td>0</td>\n      <td>195.0</td>\n      <td>20.0</td>\n      <td>0.0</td>\n      <td>10.0</td>\n      <td>1</td>\n      <td>3</td>\n      <td>1</td>\n      <td>3</td>\n      <td>7</td>\n      <td>0</td>\n      <td>0</td>\n      <td>0</td>\n      <td>0</td>\n      <td>0</td>\n      <td>0</td>\n    </tr>\n    <tr>\n      <th>24260</th>\n      <td>Mr. Dan Langdon</td>\n      <td>1993</td>\n      <td>Graduation</td>\n      <td>Single</td>\n      <td>116645.0</td>\n      <td>0</td>\n      <td>0</td>\n      <td>2021-05-18 00:00:00</td>\n      <td>64.0</td>\n      <td>3330.0</td>\n      <td>0</td>\n      <td>12225.0</td>\n      <td>1980.0</td>\n      <td>832.0</td>\n      <td>29.0</td>\n      <td>1</td>\n      <td>6</td>\n      <td>11</td>\n      <td>11</td>\n      <td>2</td>\n      <td>0</td>\n      <td>0</td>\n      <td>0</td>\n      <td>0</td>\n      <td>0</td>\n      <td>0</td>\n    </tr>\n    <tr>\n      <th>6470</th>\n      <td>Miss Diane White</td>\n      <td>1980</td>\n      <td>Graduation</td>\n      <td>Single</td>\n      <td>127255.0</td>\n      <td>0</td>\n      <td>0</td>\n      <td>2021-06-17 00:00:00</td>\n      <td>75.0</td>\n      <td>5760.0</td>\n      <td>2220</td>\n      <td>13950.0</td>\n      <td>2960.0</td>\n      <td>1860.0</td>\n      <td>74.0</td>\n      <td>1</td>\n      <td>5</td>\n      <td>3</td>\n      <td>13</td>\n      <td>1</td>\n      <td>0</td>\n      <td>0</td>\n      <td>0</td>\n      <td>0</td>\n      <td>0</td>\n      <td>0</td>\n    </tr>\n    <tr>\n      <th>10265</th>\n      <td>Mr. Max Martin</td>\n      <td>1988</td>\n      <td>HighSchool</td>\n      <td>Together</td>\n      <td>27838.0</td>\n      <td>1</td>\n      <td>0</td>\n      <td>2021-10-08 00:00:00</td>\n      <td>7.0</td>\n      <td>170.0</td>\n      <td>60</td>\n      <td>105.0</td>\n      <td>280.0</td>\n      <td>20.0</td>\n      <td>42.0</td>\n      <td>2</td>\n      <td>4</td>\n      <td>3</td>\n      <td>2</td>\n      <td>4</td>\n      <td>0</td>\n      <td>1</td>\n      <td>0</td>\n      <td>0</td>\n      <td>0</td>\n      <td>0</td>\n    </tr>\n    <tr>\n      <th>21767</th>\n      <td>Mrs. Jan Sharp</td>\n      <td>1977</td>\n      <td>Master</td>\n      <td>Married</td>\n      <td>54507.0</td>\n      <td>1</td>\n      <td>1</td>\n      <td>2020-10-27 00:00:00</td>\n      <td>94.0</td>\n      <td>280.0</td>\n      <td>40</td>\n      <td>135.0</td>\n      <td>20.0</td>\n      <td>20.0</td>\n      <td>8.0</td>\n      <td>2</td>\n      <td>4</td>\n      <td>1</td>\n      <td>3</td>\n      <td>7</td>\n      <td>0</td>\n      <td>0</td>\n      <td>0</td>\n      <td>0</td>\n      <td>0</td>\n      <td>0</td>\n    </tr>\n    <tr>\n      <th>15905</th>\n      <td>Mr. Charles James</td>\n      <td>1957</td>\n      <td>PhD</td>\n      <td>Together</td>\n      <td>95655.0</td>\n      <td>0</td>\n      <td>0</td>\n      <td>2020-09-04 00:00:00</td>\n      <td>3.0</td>\n      <td>8900.0</td>\n      <td>1260</td>\n      <td>4380.0</td>\n      <td>0.0</td>\n      <td>500.0</td>\n      <td>12.0</td>\n      <td>4</td>\n      <td>10</td>\n      <td>5</td>\n      <td>7</td>\n      <td>6</td>\n      <td>0</td>\n      <td>0</td>\n      <td>0</td>\n      <td>0</td>\n      <td>0</td>\n      <td>0</td>\n    </tr>\n    <tr>\n      <th>28688</th>\n      <td>Mr. Anthony Gibson</td>\n      <td>1976</td>\n      <td>Graduation</td>\n      <td>Together</td>\n      <td>77992.0</td>\n      <td>0</td>\n      <td>1</td>\n      <td>2020-12-29 00:00:00</td>\n      <td>43.0</td>\n      <td>5940.0</td>\n      <td>120</td>\n      <td>570.0</td>\n      <td>120.0</td>\n      <td>120.0</td>\n      <td>25.0</td>\n      <td>4</td>\n      <td>9</td>\n      <td>3</td>\n      <td>10</td>\n      <td>7</td>\n      <td>0</td>\n      <td>0</td>\n      <td>0</td>\n      <td>0</td>\n      <td>0</td>\n      <td>0</td>\n    </tr>\n    <tr>\n      <th>28739</th>\n      <td>Mr. Stephen Henderson</td>\n      <td>1970</td>\n      <td>Graduation</td>\n      <td>Married</td>\n      <td>81721.0</td>\n      <td>0</td>\n      <td>1</td>\n      <td>2021-07-21 00:00:00</td>\n      <td>78.0</td>\n      <td>2140.0</td>\n      <td>1700</td>\n      <td>2085.0</td>\n      <td>1160.0</td>\n      <td>740.0</td>\n      <td>16.0</td>\n      <td>4</td>\n      <td>7</td>\n      <td>3</td>\n      <td>10</td>\n      <td>5</td>\n      <td>0</td>\n      <td>0</td>\n      <td>0</td>\n      <td>0</td>\n      <td>0</td>\n      <td>0</td>\n    </tr>\n    <tr>\n      <th>25052</th>\n      <td>Mr. Piers Nolan</td>\n      <td>1977</td>\n      <td>Master</td>\n      <td>Divorced</td>\n      <td>57770.0</td>\n      <td>1</td>\n      <td>0</td>\n      <td>2021-07-23 00:00:00</td>\n      <td>12.0</td>\n      <td>700.0</td>\n      <td>60</td>\n      <td>1275.0</td>\n      <td>240.0</td>\n      <td>180.0</td>\n      <td>95.0</td>\n      <td>3</td>\n      <td>6</td>\n      <td>3</td>\n      <td>3</td>\n      <td>7</td>\n      <td>0</td>\n      <td>0</td>\n      <td>0</td>\n      <td>0</td>\n      <td>0</td>\n      <td>0</td>\n    </tr>\n    <tr>\n      <th>7586</th>\n      <td>Mr. Jason Powell</td>\n      <td>1985</td>\n      <td>Master</td>\n      <td>Married</td>\n      <td>98465.0</td>\n      <td>0</td>\n      <td>1</td>\n      <td>2021-04-25 00:00:00</td>\n      <td>39.0</td>\n      <td>3780.0</td>\n      <td>200</td>\n      <td>2205.0</td>\n      <td>100.0</td>\n      <td>100.0</td>\n      <td>38.0</td>\n      <td>3</td>\n      <td>9</td>\n      <td>3</td>\n      <td>8</td>\n      <td>6</td>\n      <td>0</td>\n      <td>0</td>\n      <td>0</td>\n      <td>0</td>\n      <td>0</td>\n      <td>0</td>\n    </tr>\n    <tr>\n      <th>32495</th>\n      <td>Miss Wanda Wallace</td>\n      <td>1962</td>\n      <td>Graduation</td>\n      <td>Together</td>\n      <td>8305.4</td>\n      <td>0</td>\n      <td>1</td>\n      <td>2022-03-21 00:00:00</td>\n      <td>30.0</td>\n      <td>479.0</td>\n      <td>10</td>\n      <td>123.0</td>\n      <td>10.0</td>\n      <td>34.0</td>\n      <td>17.1</td>\n      <td>0</td>\n      <td>1</td>\n      <td>1</td>\n      <td>0</td>\n      <td>20</td>\n      <td>0</td>\n      <td>1</td>\n      <td>0</td>\n      <td>0</td>\n      <td>0</td>\n      <td>0</td>\n    </tr>\n    <tr>\n      <th>19295</th>\n      <td>Mr. Justin Martin</td>\n      <td>1998</td>\n      <td>Graduation</td>\n      <td>Together</td>\n      <td>120028.0</td>\n      <td>0</td>\n      <td>0</td>\n      <td>2022-05-13 00:00:00</td>\n      <td>15.0</td>\n      <td>9370.0</td>\n      <td>1060</td>\n      <td>3000.0</td>\n      <td>800.0</td>\n      <td>2140.0</td>\n      <td>200.0</td>\n      <td>0</td>\n      <td>6</td>\n      <td>4</td>\n      <td>13</td>\n      <td>1</td>\n      <td>0</td>\n      <td>0</td>\n      <td>0</td>\n      <td>1</td>\n      <td>0</td>\n      <td>0</td>\n    </tr>\n    <tr>\n      <th>14942</th>\n      <td>Mr. Stewart North</td>\n      <td>1978</td>\n      <td>PhD</td>\n      <td>Together</td>\n      <td>135654.0</td>\n      <td>0</td>\n      <td>0</td>\n      <td>2021-05-02 00:00:00</td>\n      <td>71.0</td>\n      <td>9790.0</td>\n      <td>880</td>\n      <td>14025.0</td>\n      <td>440.0</td>\n      <td>488.0</td>\n      <td>22.0</td>\n      <td>1</td>\n      <td>9</td>\n      <td>6</td>\n      <td>12</td>\n      <td>3</td>\n      <td>0</td>\n      <td>0</td>\n      <td>1</td>\n      <td>1</td>\n      <td>1</td>\n      <td>0</td>\n    </tr>\n    <tr>\n      <th>20747</th>\n      <td>Mr. Luke Lambert</td>\n      <td>1988</td>\n      <td>PhD</td>\n      <td>Married</td>\n      <td>97456.0</td>\n      <td>0</td>\n      <td>0</td>\n      <td>2020-08-14 00:00:00</td>\n      <td>63.0</td>\n      <td>2540.0</td>\n      <td>1420</td>\n      <td>6705.0</td>\n      <td>2020.0</td>\n      <td>2840.0</td>\n      <td>20.0</td>\n      <td>1</td>\n      <td>5</td>\n      <td>5</td>\n      <td>8</td>\n      <td>1</td>\n      <td>0</td>\n      <td>0</td>\n      <td>0</td>\n      <td>0</td>\n      <td>0</td>\n      <td>0</td>\n    </tr>\n    <tr>\n      <th>12035</th>\n      <td>Mrs. Heather Hart</td>\n      <td>1985</td>\n      <td>Graduation</td>\n      <td>Married</td>\n      <td>127587.0</td>\n      <td>1</td>\n      <td>0</td>\n      <td>2021-09-30 00:00:00</td>\n      <td>73.0</td>\n      <td>6300.0</td>\n      <td>3200</td>\n      <td>3945.0</td>\n      <td>220.0</td>\n      <td>1600.0</td>\n      <td>45.0</td>\n      <td>1</td>\n      <td>6</td>\n      <td>6</td>\n      <td>8</td>\n      <td>5</td>\n      <td>0</td>\n      <td>0</td>\n      <td>1</td>\n      <td>0</td>\n      <td>1</td>\n      <td>0</td>\n    </tr>\n    <tr>\n      <th>8447</th>\n      <td>Mrs. Grace Davies</td>\n      <td>1967</td>\n      <td>Graduation</td>\n      <td>Married</td>\n      <td>116080.0</td>\n      <td>1</td>\n      <td>1</td>\n      <td>2022-04-24 00:00:00</td>\n      <td>33.0</td>\n      <td>2450.0</td>\n      <td>320</td>\n      <td>3345.0</td>\n      <td>320.0</td>\n      <td>860.0</td>\n      <td>16.0</td>\n      <td>2</td>\n      <td>10</td>\n      <td>2</td>\n      <td>8</td>\n      <td>6</td>\n      <td>0</td>\n      <td>0</td>\n      <td>0</td>\n      <td>0</td>\n      <td>0</td>\n      <td>0</td>\n    </tr>\n    <tr>\n      <th>25685</th>\n      <td>Mr. Austin Knox</td>\n      <td>1955</td>\n      <td>PhD</td>\n      <td>Widow</td>\n      <td>60675.0</td>\n      <td>1</td>\n      <td>1</td>\n      <td>2020-11-19 00:00:00</td>\n      <td>15.0</td>\n      <td>5020.0</td>\n      <td>0</td>\n      <td>645.0</td>\n      <td>0.0</td>\n      <td>0.0</td>\n      <td>27.0</td>\n      <td>9</td>\n      <td>10</td>\n      <td>3</td>\n      <td>7</td>\n      <td>9</td>\n      <td>0</td>\n      <td>0</td>\n      <td>0</td>\n      <td>0</td>\n      <td>0</td>\n      <td>0</td>\n    </tr>\n    <tr>\n      <th>28625</th>\n      <td>Mr. Frank Piper</td>\n      <td>1969</td>\n      <td>Basic</td>\n      <td>Married</td>\n      <td>30685.0</td>\n      <td>2</td>\n      <td>1</td>\n      <td>2021-12-25 00:00:00</td>\n      <td>35.0</td>\n      <td>60.0</td>\n      <td>120</td>\n      <td>120.0</td>\n      <td>180.0</td>\n      <td>180.0</td>\n      <td>18.0</td>\n      <td>3</td>\n      <td>4</td>\n      <td>2</td>\n      <td>3</td>\n      <td>6</td>\n      <td>0</td>\n      <td>0</td>\n      <td>0</td>\n      <td>0</td>\n      <td>0</td>\n      <td>0</td>\n    </tr>\n    <tr>\n      <th>28844</th>\n      <td>Mr. Neil Dowd</td>\n      <td>1981</td>\n      <td>Graduation</td>\n      <td>Married</td>\n      <td>93031.0</td>\n      <td>0</td>\n      <td>1</td>\n      <td>2022-06-29 00:00:00</td>\n      <td>43.0</td>\n      <td>6050.0</td>\n      <td>140</td>\n      <td>1275.0</td>\n      <td>140.0</td>\n      <td>140.0</td>\n      <td>7.0</td>\n      <td>1</td>\n      <td>10</td>\n      <td>3</td>\n      <td>10</td>\n      <td>4</td>\n      <td>0</td>\n      <td>0</td>\n      <td>1</td>\n      <td>0</td>\n      <td>0</td>\n      <td>0</td>\n    </tr>\n    <tr>\n      <th>30464</th>\n      <td>Miss Gabrielle Churchill</td>\n      <td>1960</td>\n      <td>Graduation</td>\n      <td>Together</td>\n      <td>99213.0</td>\n      <td>0</td>\n      <td>1</td>\n      <td>2021-05-02 00:00:00</td>\n      <td>9.0</td>\n      <td>2120.0</td>\n      <td>980</td>\n      <td>2700.0</td>\n      <td>1200.0</td>\n      <td>980.0</td>\n      <td>32.0</td>\n      <td>2</td>\n      <td>5</td>\n      <td>5</td>\n      <td>10</td>\n      <td>2</td>\n      <td>0</td>\n      <td>0</td>\n      <td>0</td>\n      <td>0</td>\n      <td>0</td>\n      <td>0</td>\n    </tr>\n  </tbody>\n</table>\n</div>"
     },
     "execution_count": 132,
     "metadata": {},
     "output_type": "execute_result"
    }
   ],
   "source": [
    "df[df.duplicated()] # checking duplicates"
   ]
  },
  {
   "cell_type": "code",
   "execution_count": 133,
   "id": "b97cf554",
   "metadata": {},
   "outputs": [],
   "source": [
    "df = df[~df.duplicated()] # drop duplicates rows"
   ]
  },
  {
   "cell_type": "markdown",
   "id": "7708f19d",
   "metadata": {},
   "source": [
    "# 2. Explore Data"
   ]
  },
  {
   "cell_type": "markdown",
   "metadata": {
    "collapsed": false
   },
   "source": [
    "## 2.0 Data profiling\n",
    "\n",
    "Se não quiserem instalar a biblioteca não corram esta secção. Caso contrário o comando para instalar é pip install ydata-profiling. No final **apagar esta secção**"
   ]
  },
  {
   "cell_type": "code",
   "execution_count": 134,
   "metadata": {
    "collapsed": false
   },
   "outputs": [],
   "source": [
    "#from ydata_profiling import ProfileReport\n",
    "#profile= ProfileReport (df, title= \"DSML_Project\")"
   ]
  },
  {
   "cell_type": "code",
   "execution_count": 135,
   "metadata": {
    "collapsed": false
   },
   "outputs": [],
   "source": [
    "#profile.to_file('DSML_profile.html')"
   ]
  },
  {
   "cell_type": "markdown",
   "id": "47f0cea9",
   "metadata": {},
   "source": [
    "## 2.1 Basic Exploration"
   ]
  },
  {
   "cell_type": "markdown",
   "id": "7a938300",
   "metadata": {},
   "source": [
    "Q: _To check the number of columns and rows_ we used `shape` _attribute_"
   ]
  },
  {
   "cell_type": "code",
   "execution_count": 136,
   "id": "6ee99fa7",
   "metadata": {},
   "outputs": [
    {
     "data": {
      "text/plain": "(7000, 26)"
     },
     "execution_count": 136,
     "metadata": {},
     "output_type": "execute_result"
    }
   ],
   "source": [
    "df.shape"
   ]
  },
  {
   "cell_type": "markdown",
   "id": "c353f14d",
   "metadata": {},
   "source": [
    "> A: _The dataset has **7000 rows** and **26 columns**_"
   ]
  },
  {
   "cell_type": "markdown",
   "id": "2b265b69",
   "metadata": {},
   "source": [
    "__*Q*__: Check the name of the features of the dataset we used `columns` _attribute_"
   ]
  },
  {
   "cell_type": "code",
   "execution_count": 137,
   "id": "df65ab3c",
   "metadata": {},
   "outputs": [
    {
     "data": {
      "text/plain": "Index(['Name', 'Birthyear', 'Education', 'Marital_Status', 'Income',\n       'Kid_Younger6', 'Children_6to18', 'Date_Adherence', 'Recency',\n       'MntMeat&Fish', 'MntEntries', 'MntVegan&Vegetarian', 'MntDrinks',\n       'MntDesserts', 'MntAdditionalRequests', 'NumOfferPurchases',\n       'NumAppPurchases', 'NumTakeAwayPurchases', 'NumStorePurchases',\n       'NumAppVisitsMonth', 'Complain', 'Response_Cmp1', 'Response_Cmp2',\n       'Response_Cmp3', 'Response_Cmp4', 'Response_Cmp5'],\n      dtype='object')"
     },
     "execution_count": 137,
     "metadata": {},
     "output_type": "execute_result"
    }
   ],
   "source": [
    "df.columns"
   ]
  },
  {
   "cell_type": "markdown",
   "id": "b0613146",
   "metadata": {},
   "source": [
    "> A: The dataset has the following columns/features names: <br>\n",
    "        >Index. CustomerID\n",
    "        >1. 'Name' <br>\n",
    "        >2. 'Birthyear'<br>\n",
    "        >3. 'Education'<br>\n",
    "        >4. 'Marital_Status'<br>\n",
    "        >5. 'Income'<br>\n",
    "        >6. 'Kid_Younger6'<br>\n",
    "        >7. 'Children_6to18'<br>\n",
    "        >8. 'Date_Adherence'<br>\n",
    "        >9. 'Recency'<br>\n",
    "        >10. 'MntMeat&Fish'<br>\n",
    "        >11. 'MntEntries'<br>\n",
    "        >12. 'MntVegan&Vegetarian'<br>\n",
    "        >13. 'MntDrinks'<br>\n",
    "        >14. 'MntDesserts'<br>\n",
    "        >15. 'MntAdditionalRequests'<br>\n",
    "        >16. 'NumOfferPurchases'<br>\n",
    "        >17. 'NumAppPurchases'<br>\n",
    "        >18. 'NumTakeAwayPurchases'<br>\n",
    "        >19. 'NumStorePurchases'<br>\n",
    "        >20. 'NumAppVisitsMonth'<br>\n",
    "        >21. 'Complain'<br>\n",
    "        >22. 'Response_Cmp1'<br>\n",
    "        >23. 'Response_Cmp2'<br>\n",
    "        >24. 'Response_Cmp3'<br>\n",
    "        >25. 'Response_Cmp4'<br>\n",
    "        >26. 'Response_Cmp5'<br>"
   ]
  },
  {
   "cell_type": "markdown",
   "id": "29734ade",
   "metadata": {},
   "source": [
    "Q: First glance of the dataset using `head` and `tail` methods to check the first and last 5 rows."
   ]
  },
  {
   "cell_type": "code",
   "execution_count": 138,
   "id": "3ccf8a80",
   "metadata": {},
   "outputs": [
    {
     "data": {
      "text/plain": "                          Name  Birthyear   Education Marital_Status  \\\nCustomerID                                                             \n14594          Miss Leah Lewis       1981  Graduation         Single   \n19070         Miss Grace Black       1974  Graduation       Together   \n29888       Mr. Gavin Morrison       1960         PhD       Together   \n\n              Income  Kid_Younger6  Children_6to18       Date_Adherence  \\\nCustomerID                                                                \n14594       113947.0             0               0  2021-01-09 00:00:00   \n19070       114297.0             0               0  2021-04-10 00:00:00   \n29888       115476.0             0               0  2022-01-12 00:00:00   \n\n            Recency  MntMeat&Fish  MntEntries  MntVegan&Vegetarian  MntDrinks  \\\nCustomerID                                                                      \n14594          43.0        4640.0        3380               5700.0     2240.0   \n19070          74.0        7080.0        3680               7620.0     1840.0   \n29888          85.0        4130.0         380               4890.0     3640.0   \n\n            MntDesserts  MntAdditionalRequests  NumOfferPurchases  \\\nCustomerID                                                          \n14594             562.0                  154.0                  2   \n19070            1220.0                   46.0                  1   \n29888             380.0                   28.0                  1   \n\n            NumAppPurchases  NumTakeAwayPurchases  NumStorePurchases  \\\nCustomerID                                                             \n14594                    10                     7                  7   \n19070                     5                     9                 12   \n29888                     5                     5                  7   \n\n            NumAppVisitsMonth  Complain  Response_Cmp1  Response_Cmp2  \\\nCustomerID                                                              \n14594                       4         0              0              1   \n19070                       2         0              0              0   \n29888                       1         0              0              0   \n\n            Response_Cmp3  Response_Cmp4  Response_Cmp5  \nCustomerID                                               \n14594                   0              0              0  \n19070                   0              0              0  \n29888                   0              0              0  ",
      "text/html": "<div>\n<style scoped>\n    .dataframe tbody tr th:only-of-type {\n        vertical-align: middle;\n    }\n\n    .dataframe tbody tr th {\n        vertical-align: top;\n    }\n\n    .dataframe thead th {\n        text-align: right;\n    }\n</style>\n<table border=\"1\" class=\"dataframe\">\n  <thead>\n    <tr style=\"text-align: right;\">\n      <th></th>\n      <th>Name</th>\n      <th>Birthyear</th>\n      <th>Education</th>\n      <th>Marital_Status</th>\n      <th>Income</th>\n      <th>Kid_Younger6</th>\n      <th>Children_6to18</th>\n      <th>Date_Adherence</th>\n      <th>Recency</th>\n      <th>MntMeat&amp;Fish</th>\n      <th>MntEntries</th>\n      <th>MntVegan&amp;Vegetarian</th>\n      <th>MntDrinks</th>\n      <th>MntDesserts</th>\n      <th>MntAdditionalRequests</th>\n      <th>NumOfferPurchases</th>\n      <th>NumAppPurchases</th>\n      <th>NumTakeAwayPurchases</th>\n      <th>NumStorePurchases</th>\n      <th>NumAppVisitsMonth</th>\n      <th>Complain</th>\n      <th>Response_Cmp1</th>\n      <th>Response_Cmp2</th>\n      <th>Response_Cmp3</th>\n      <th>Response_Cmp4</th>\n      <th>Response_Cmp5</th>\n    </tr>\n    <tr>\n      <th>CustomerID</th>\n      <th></th>\n      <th></th>\n      <th></th>\n      <th></th>\n      <th></th>\n      <th></th>\n      <th></th>\n      <th></th>\n      <th></th>\n      <th></th>\n      <th></th>\n      <th></th>\n      <th></th>\n      <th></th>\n      <th></th>\n      <th></th>\n      <th></th>\n      <th></th>\n      <th></th>\n      <th></th>\n      <th></th>\n      <th></th>\n      <th></th>\n      <th></th>\n      <th></th>\n      <th></th>\n    </tr>\n  </thead>\n  <tbody>\n    <tr>\n      <th>14594</th>\n      <td>Miss Leah Lewis</td>\n      <td>1981</td>\n      <td>Graduation</td>\n      <td>Single</td>\n      <td>113947.0</td>\n      <td>0</td>\n      <td>0</td>\n      <td>2021-01-09 00:00:00</td>\n      <td>43.0</td>\n      <td>4640.0</td>\n      <td>3380</td>\n      <td>5700.0</td>\n      <td>2240.0</td>\n      <td>562.0</td>\n      <td>154.0</td>\n      <td>2</td>\n      <td>10</td>\n      <td>7</td>\n      <td>7</td>\n      <td>4</td>\n      <td>0</td>\n      <td>0</td>\n      <td>1</td>\n      <td>0</td>\n      <td>0</td>\n      <td>0</td>\n    </tr>\n    <tr>\n      <th>19070</th>\n      <td>Miss Grace Black</td>\n      <td>1974</td>\n      <td>Graduation</td>\n      <td>Together</td>\n      <td>114297.0</td>\n      <td>0</td>\n      <td>0</td>\n      <td>2021-04-10 00:00:00</td>\n      <td>74.0</td>\n      <td>7080.0</td>\n      <td>3680</td>\n      <td>7620.0</td>\n      <td>1840.0</td>\n      <td>1220.0</td>\n      <td>46.0</td>\n      <td>1</td>\n      <td>5</td>\n      <td>9</td>\n      <td>12</td>\n      <td>2</td>\n      <td>0</td>\n      <td>0</td>\n      <td>0</td>\n      <td>0</td>\n      <td>0</td>\n      <td>0</td>\n    </tr>\n    <tr>\n      <th>29888</th>\n      <td>Mr. Gavin Morrison</td>\n      <td>1960</td>\n      <td>PhD</td>\n      <td>Together</td>\n      <td>115476.0</td>\n      <td>0</td>\n      <td>0</td>\n      <td>2022-01-12 00:00:00</td>\n      <td>85.0</td>\n      <td>4130.0</td>\n      <td>380</td>\n      <td>4890.0</td>\n      <td>3640.0</td>\n      <td>380.0</td>\n      <td>28.0</td>\n      <td>1</td>\n      <td>5</td>\n      <td>5</td>\n      <td>7</td>\n      <td>1</td>\n      <td>0</td>\n      <td>0</td>\n      <td>0</td>\n      <td>0</td>\n      <td>0</td>\n      <td>0</td>\n    </tr>\n  </tbody>\n</table>\n</div>"
     },
     "execution_count": 138,
     "metadata": {},
     "output_type": "execute_result"
    }
   ],
   "source": [
    "df.head(3)"
   ]
  },
  {
   "cell_type": "code",
   "execution_count": 139,
   "id": "bf42f408",
   "metadata": {},
   "outputs": [
    {
     "data": {
      "text/plain": "                            Name  Birthyear   Education Marital_Status  \\\nCustomerID                                                               \n29186       Mr. Thomas Churchill       1967         PhD       Together   \n23312         Miss Angela Murray       1989  Graduation         Single   \n15581          Miss Diana Taylor       1960  Graduation         Single   \n\n              Income  Kid_Younger6  Children_6to18       Date_Adherence  \\\nCustomerID                                                                \n29186        56039.0             0               1  2021-12-15 00:00:00   \n23312        44867.0             1               0  2020-11-12 00:00:00   \n15581       124379.0             0               0  2021-02-04 00:00:00   \n\n            Recency  MntMeat&Fish  MntEntries  MntVegan&Vegetarian  MntDrinks  \\\nCustomerID                                                                      \n29186          30.0         540.0           0                135.0        0.0   \n23312           8.0          80.0         120                210.0      120.0   \n15581          80.0        7280.0         422               1692.0     3760.0   \n\n            MntDesserts  MntAdditionalRequests  NumOfferPurchases  \\\nCustomerID                                                          \n29186               0.0                    5.0                  2   \n23312             100.0                   17.0                  1   \n15581            1880.0                  235.0                  1   \n\n            NumAppPurchases  NumTakeAwayPurchases  NumStorePurchases  \\\nCustomerID                                                             \n29186                     3                     1                  4   \n23312                     3                     1                  3   \n15581                     6                    12                 11   \n\n            NumAppVisitsMonth  Complain  Response_Cmp1  Response_Cmp2  \\\nCustomerID                                                              \n29186                       6         0              0              0   \n23312                       8         0              0              0   \n15581                       2         0              0              0   \n\n            Response_Cmp3  Response_Cmp4  Response_Cmp5  \nCustomerID                                               \n29186                   0              0              0  \n23312                   0              0              0  \n15581                   1              1              0  ",
      "text/html": "<div>\n<style scoped>\n    .dataframe tbody tr th:only-of-type {\n        vertical-align: middle;\n    }\n\n    .dataframe tbody tr th {\n        vertical-align: top;\n    }\n\n    .dataframe thead th {\n        text-align: right;\n    }\n</style>\n<table border=\"1\" class=\"dataframe\">\n  <thead>\n    <tr style=\"text-align: right;\">\n      <th></th>\n      <th>Name</th>\n      <th>Birthyear</th>\n      <th>Education</th>\n      <th>Marital_Status</th>\n      <th>Income</th>\n      <th>Kid_Younger6</th>\n      <th>Children_6to18</th>\n      <th>Date_Adherence</th>\n      <th>Recency</th>\n      <th>MntMeat&amp;Fish</th>\n      <th>MntEntries</th>\n      <th>MntVegan&amp;Vegetarian</th>\n      <th>MntDrinks</th>\n      <th>MntDesserts</th>\n      <th>MntAdditionalRequests</th>\n      <th>NumOfferPurchases</th>\n      <th>NumAppPurchases</th>\n      <th>NumTakeAwayPurchases</th>\n      <th>NumStorePurchases</th>\n      <th>NumAppVisitsMonth</th>\n      <th>Complain</th>\n      <th>Response_Cmp1</th>\n      <th>Response_Cmp2</th>\n      <th>Response_Cmp3</th>\n      <th>Response_Cmp4</th>\n      <th>Response_Cmp5</th>\n    </tr>\n    <tr>\n      <th>CustomerID</th>\n      <th></th>\n      <th></th>\n      <th></th>\n      <th></th>\n      <th></th>\n      <th></th>\n      <th></th>\n      <th></th>\n      <th></th>\n      <th></th>\n      <th></th>\n      <th></th>\n      <th></th>\n      <th></th>\n      <th></th>\n      <th></th>\n      <th></th>\n      <th></th>\n      <th></th>\n      <th></th>\n      <th></th>\n      <th></th>\n      <th></th>\n      <th></th>\n      <th></th>\n      <th></th>\n    </tr>\n  </thead>\n  <tbody>\n    <tr>\n      <th>29186</th>\n      <td>Mr. Thomas Churchill</td>\n      <td>1967</td>\n      <td>PhD</td>\n      <td>Together</td>\n      <td>56039.0</td>\n      <td>0</td>\n      <td>1</td>\n      <td>2021-12-15 00:00:00</td>\n      <td>30.0</td>\n      <td>540.0</td>\n      <td>0</td>\n      <td>135.0</td>\n      <td>0.0</td>\n      <td>0.0</td>\n      <td>5.0</td>\n      <td>2</td>\n      <td>3</td>\n      <td>1</td>\n      <td>4</td>\n      <td>6</td>\n      <td>0</td>\n      <td>0</td>\n      <td>0</td>\n      <td>0</td>\n      <td>0</td>\n      <td>0</td>\n    </tr>\n    <tr>\n      <th>23312</th>\n      <td>Miss Angela Murray</td>\n      <td>1989</td>\n      <td>Graduation</td>\n      <td>Single</td>\n      <td>44867.0</td>\n      <td>1</td>\n      <td>0</td>\n      <td>2020-11-12 00:00:00</td>\n      <td>8.0</td>\n      <td>80.0</td>\n      <td>120</td>\n      <td>210.0</td>\n      <td>120.0</td>\n      <td>100.0</td>\n      <td>17.0</td>\n      <td>1</td>\n      <td>3</td>\n      <td>1</td>\n      <td>3</td>\n      <td>8</td>\n      <td>0</td>\n      <td>0</td>\n      <td>0</td>\n      <td>0</td>\n      <td>0</td>\n      <td>0</td>\n    </tr>\n    <tr>\n      <th>15581</th>\n      <td>Miss Diana Taylor</td>\n      <td>1960</td>\n      <td>Graduation</td>\n      <td>Single</td>\n      <td>124379.0</td>\n      <td>0</td>\n      <td>0</td>\n      <td>2021-02-04 00:00:00</td>\n      <td>80.0</td>\n      <td>7280.0</td>\n      <td>422</td>\n      <td>1692.0</td>\n      <td>3760.0</td>\n      <td>1880.0</td>\n      <td>235.0</td>\n      <td>1</td>\n      <td>6</td>\n      <td>12</td>\n      <td>11</td>\n      <td>2</td>\n      <td>0</td>\n      <td>0</td>\n      <td>0</td>\n      <td>1</td>\n      <td>1</td>\n      <td>0</td>\n    </tr>\n  </tbody>\n</table>\n</div>"
     },
     "execution_count": 139,
     "metadata": {},
     "output_type": "execute_result"
    }
   ],
   "source": [
    "df.tail(3)"
   ]
  },
  {
   "cell_type": "markdown",
   "id": "ced4cb06",
   "metadata": {},
   "source": [
    "Q: To check the basic information of the dataset we've used the `info` method"
   ]
  },
  {
   "cell_type": "code",
   "execution_count": 140,
   "id": "cedc7804",
   "metadata": {},
   "outputs": [
    {
     "name": "stdout",
     "output_type": "stream",
     "text": [
      "<class 'pandas.core.frame.DataFrame'>\n",
      "Int64Index: 7000 entries, 14594 to 15581\n",
      "Data columns (total 26 columns):\n",
      " #   Column                 Non-Null Count  Dtype  \n",
      "---  ------                 --------------  -----  \n",
      " 0   Name                   7000 non-null   object \n",
      " 1   Birthyear              7000 non-null   int64  \n",
      " 2   Education              6986 non-null   object \n",
      " 3   Marital_Status         7000 non-null   object \n",
      " 4   Income                 7000 non-null   float64\n",
      " 5   Kid_Younger6           7000 non-null   int64  \n",
      " 6   Children_6to18         7000 non-null   int64  \n",
      " 7   Date_Adherence         7000 non-null   object \n",
      " 8   Recency                6977 non-null   float64\n",
      " 9   MntMeat&Fish           7000 non-null   float64\n",
      " 10  MntEntries             7000 non-null   int64  \n",
      " 11  MntVegan&Vegetarian    7000 non-null   float64\n",
      " 12  MntDrinks              6972 non-null   float64\n",
      " 13  MntDesserts            7000 non-null   float64\n",
      " 14  MntAdditionalRequests  7000 non-null   float64\n",
      " 15  NumOfferPurchases      7000 non-null   int64  \n",
      " 16  NumAppPurchases        7000 non-null   int64  \n",
      " 17  NumTakeAwayPurchases   7000 non-null   int64  \n",
      " 18  NumStorePurchases      7000 non-null   int64  \n",
      " 19  NumAppVisitsMonth      7000 non-null   int64  \n",
      " 20  Complain               7000 non-null   int64  \n",
      " 21  Response_Cmp1          7000 non-null   int64  \n",
      " 22  Response_Cmp2          7000 non-null   int64  \n",
      " 23  Response_Cmp3          7000 non-null   int64  \n",
      " 24  Response_Cmp4          7000 non-null   int64  \n",
      " 25  Response_Cmp5          7000 non-null   int64  \n",
      "dtypes: float64(7), int64(15), object(4)\n",
      "memory usage: 1.4+ MB\n"
     ]
    }
   ],
   "source": [
    "df.info()"
   ]
  },
  {
   "cell_type": "markdown",
   "id": "6794da09",
   "metadata": {},
   "source": [
    ">A: We can observe the data type of the dataset and the how many of features per data type  `dtypes: float64 - (7), int64 - (15), object - (4)`, the memory usage of `1.4+MB`, and the non-null values present per columns. <br>\n",
    "> Using only `info` method we understand that `'Education', 'Recency', 'MntDrinks'` have __14, 23, 28 null values__ that require some action."
   ]
  },
  {
   "cell_type": "markdown",
   "id": "87889183",
   "metadata": {},
   "source": [
    "# 2.2 Statistical Exploration"
   ]
  },
  {
   "cell_type": "markdown",
   "id": "849f7658",
   "metadata": {},
   "source": [
    "## 2.2.1 Numerical Variables"
   ]
  },
  {
   "cell_type": "code",
   "execution_count": 141,
   "id": "121f1c74",
   "metadata": {},
   "outputs": [
    {
     "data": {
      "text/plain": "         Birthyear         Income  Kid_Younger6  Children_6to18      Recency  \\\ncount  7000.000000    7000.000000   7000.000000     7000.000000  6977.000000   \nmean   1976.451429   77988.962407      0.440571        0.490571    49.235058   \nstd      11.996270   35409.810253      0.543477        0.542174    28.922688   \nmin    1948.000000    2493.800000      0.000000        0.000000     0.000000   \n25%    1967.000000   51586.250000      0.000000        0.000000    24.000000   \n50%    1977.000000   77190.000000      0.000000        0.000000    49.000000   \n75%    1985.000000  102016.250000      1.000000        1.000000    74.000000   \nmax    2005.000000  237639.725000      2.000000        2.000000    99.000000   \n\n       MntMeat&Fish   MntEntries  MntVegan&Vegetarian    MntDrinks  \\\ncount   7000.000000  7000.000000          7000.000000  6972.000000   \nmean    3079.523800   534.749429          2785.050786   545.657544   \nstd     3370.377166   787.846684          3908.718244   805.149088   \nmin        0.000000     0.000000             0.000000     0.000000   \n25%      250.000000    40.000000           240.000000    40.000000   \n50%     1820.000000   180.000000          1110.000000   180.000000   \n75%     5070.000000   680.000000          3795.000000   700.000000   \nmax    14980.000000  3980.000000         25974.000000  3980.000000   \n\n       MntDesserts  MntAdditionalRequests  NumOfferPurchases  NumAppPurchases  \\\ncount  7000.000000            7000.000000        7000.000000      7000.000000   \nmean    540.656029              42.556186           2.448429         6.015714   \nstd     802.221866              49.650747           2.306968         2.745537   \nmin       0.000000               0.000000           0.000000         0.000000   \n25%      40.000000               9.000000           1.000000         4.000000   \n50%     180.000000              24.000000           2.000000         6.000000   \n75%     680.000000              57.000000           3.000000         8.000000   \nmax    3980.000000             249.000000          16.000000        13.000000   \n\n       NumTakeAwayPurchases  NumStorePurchases  NumAppVisitsMonth  \\\ncount           7000.000000        7000.000000        7000.000000   \nmean               3.834571           5.790571           5.278286   \nstd                3.331142           3.295708           2.748596   \nmin                0.000000           0.000000           0.000000   \n25%                1.000000           3.000000           3.000000   \n50%                3.000000           5.000000           5.000000   \n75%                5.000000           8.000000           7.000000   \nmax               24.000000          13.000000          20.000000   \n\n          Complain  Response_Cmp1  Response_Cmp2  Response_Cmp3  \\\ncount  7000.000000    7000.000000    7000.000000    7000.000000   \nmean      0.010286       0.079143       0.073286       0.083000   \nstd       0.100903       0.269981       0.260624       0.275902   \nmin       0.000000       0.000000       0.000000       0.000000   \n25%       0.000000       0.000000       0.000000       0.000000   \n50%       0.000000       0.000000       0.000000       0.000000   \n75%       0.000000       0.000000       0.000000       0.000000   \nmax       1.000000       1.000000       1.000000       1.000000   \n\n       Response_Cmp4  Response_Cmp5  \ncount    7000.000000    7000.000000  \nmean        0.065857       0.014286  \nstd         0.248050       0.118675  \nmin         0.000000       0.000000  \n25%         0.000000       0.000000  \n50%         0.000000       0.000000  \n75%         0.000000       0.000000  \nmax         1.000000       1.000000  ",
      "text/html": "<div>\n<style scoped>\n    .dataframe tbody tr th:only-of-type {\n        vertical-align: middle;\n    }\n\n    .dataframe tbody tr th {\n        vertical-align: top;\n    }\n\n    .dataframe thead th {\n        text-align: right;\n    }\n</style>\n<table border=\"1\" class=\"dataframe\">\n  <thead>\n    <tr style=\"text-align: right;\">\n      <th></th>\n      <th>Birthyear</th>\n      <th>Income</th>\n      <th>Kid_Younger6</th>\n      <th>Children_6to18</th>\n      <th>Recency</th>\n      <th>MntMeat&amp;Fish</th>\n      <th>MntEntries</th>\n      <th>MntVegan&amp;Vegetarian</th>\n      <th>MntDrinks</th>\n      <th>MntDesserts</th>\n      <th>MntAdditionalRequests</th>\n      <th>NumOfferPurchases</th>\n      <th>NumAppPurchases</th>\n      <th>NumTakeAwayPurchases</th>\n      <th>NumStorePurchases</th>\n      <th>NumAppVisitsMonth</th>\n      <th>Complain</th>\n      <th>Response_Cmp1</th>\n      <th>Response_Cmp2</th>\n      <th>Response_Cmp3</th>\n      <th>Response_Cmp4</th>\n      <th>Response_Cmp5</th>\n    </tr>\n  </thead>\n  <tbody>\n    <tr>\n      <th>count</th>\n      <td>7000.000000</td>\n      <td>7000.000000</td>\n      <td>7000.000000</td>\n      <td>7000.000000</td>\n      <td>6977.000000</td>\n      <td>7000.000000</td>\n      <td>7000.000000</td>\n      <td>7000.000000</td>\n      <td>6972.000000</td>\n      <td>7000.000000</td>\n      <td>7000.000000</td>\n      <td>7000.000000</td>\n      <td>7000.000000</td>\n      <td>7000.000000</td>\n      <td>7000.000000</td>\n      <td>7000.000000</td>\n      <td>7000.000000</td>\n      <td>7000.000000</td>\n      <td>7000.000000</td>\n      <td>7000.000000</td>\n      <td>7000.000000</td>\n      <td>7000.000000</td>\n    </tr>\n    <tr>\n      <th>mean</th>\n      <td>1976.451429</td>\n      <td>77988.962407</td>\n      <td>0.440571</td>\n      <td>0.490571</td>\n      <td>49.235058</td>\n      <td>3079.523800</td>\n      <td>534.749429</td>\n      <td>2785.050786</td>\n      <td>545.657544</td>\n      <td>540.656029</td>\n      <td>42.556186</td>\n      <td>2.448429</td>\n      <td>6.015714</td>\n      <td>3.834571</td>\n      <td>5.790571</td>\n      <td>5.278286</td>\n      <td>0.010286</td>\n      <td>0.079143</td>\n      <td>0.073286</td>\n      <td>0.083000</td>\n      <td>0.065857</td>\n      <td>0.014286</td>\n    </tr>\n    <tr>\n      <th>std</th>\n      <td>11.996270</td>\n      <td>35409.810253</td>\n      <td>0.543477</td>\n      <td>0.542174</td>\n      <td>28.922688</td>\n      <td>3370.377166</td>\n      <td>787.846684</td>\n      <td>3908.718244</td>\n      <td>805.149088</td>\n      <td>802.221866</td>\n      <td>49.650747</td>\n      <td>2.306968</td>\n      <td>2.745537</td>\n      <td>3.331142</td>\n      <td>3.295708</td>\n      <td>2.748596</td>\n      <td>0.100903</td>\n      <td>0.269981</td>\n      <td>0.260624</td>\n      <td>0.275902</td>\n      <td>0.248050</td>\n      <td>0.118675</td>\n    </tr>\n    <tr>\n      <th>min</th>\n      <td>1948.000000</td>\n      <td>2493.800000</td>\n      <td>0.000000</td>\n      <td>0.000000</td>\n      <td>0.000000</td>\n      <td>0.000000</td>\n      <td>0.000000</td>\n      <td>0.000000</td>\n      <td>0.000000</td>\n      <td>0.000000</td>\n      <td>0.000000</td>\n      <td>0.000000</td>\n      <td>0.000000</td>\n      <td>0.000000</td>\n      <td>0.000000</td>\n      <td>0.000000</td>\n      <td>0.000000</td>\n      <td>0.000000</td>\n      <td>0.000000</td>\n      <td>0.000000</td>\n      <td>0.000000</td>\n      <td>0.000000</td>\n    </tr>\n    <tr>\n      <th>25%</th>\n      <td>1967.000000</td>\n      <td>51586.250000</td>\n      <td>0.000000</td>\n      <td>0.000000</td>\n      <td>24.000000</td>\n      <td>250.000000</td>\n      <td>40.000000</td>\n      <td>240.000000</td>\n      <td>40.000000</td>\n      <td>40.000000</td>\n      <td>9.000000</td>\n      <td>1.000000</td>\n      <td>4.000000</td>\n      <td>1.000000</td>\n      <td>3.000000</td>\n      <td>3.000000</td>\n      <td>0.000000</td>\n      <td>0.000000</td>\n      <td>0.000000</td>\n      <td>0.000000</td>\n      <td>0.000000</td>\n      <td>0.000000</td>\n    </tr>\n    <tr>\n      <th>50%</th>\n      <td>1977.000000</td>\n      <td>77190.000000</td>\n      <td>0.000000</td>\n      <td>0.000000</td>\n      <td>49.000000</td>\n      <td>1820.000000</td>\n      <td>180.000000</td>\n      <td>1110.000000</td>\n      <td>180.000000</td>\n      <td>180.000000</td>\n      <td>24.000000</td>\n      <td>2.000000</td>\n      <td>6.000000</td>\n      <td>3.000000</td>\n      <td>5.000000</td>\n      <td>5.000000</td>\n      <td>0.000000</td>\n      <td>0.000000</td>\n      <td>0.000000</td>\n      <td>0.000000</td>\n      <td>0.000000</td>\n      <td>0.000000</td>\n    </tr>\n    <tr>\n      <th>75%</th>\n      <td>1985.000000</td>\n      <td>102016.250000</td>\n      <td>1.000000</td>\n      <td>1.000000</td>\n      <td>74.000000</td>\n      <td>5070.000000</td>\n      <td>680.000000</td>\n      <td>3795.000000</td>\n      <td>700.000000</td>\n      <td>680.000000</td>\n      <td>57.000000</td>\n      <td>3.000000</td>\n      <td>8.000000</td>\n      <td>5.000000</td>\n      <td>8.000000</td>\n      <td>7.000000</td>\n      <td>0.000000</td>\n      <td>0.000000</td>\n      <td>0.000000</td>\n      <td>0.000000</td>\n      <td>0.000000</td>\n      <td>0.000000</td>\n    </tr>\n    <tr>\n      <th>max</th>\n      <td>2005.000000</td>\n      <td>237639.725000</td>\n      <td>2.000000</td>\n      <td>2.000000</td>\n      <td>99.000000</td>\n      <td>14980.000000</td>\n      <td>3980.000000</td>\n      <td>25974.000000</td>\n      <td>3980.000000</td>\n      <td>3980.000000</td>\n      <td>249.000000</td>\n      <td>16.000000</td>\n      <td>13.000000</td>\n      <td>24.000000</td>\n      <td>13.000000</td>\n      <td>20.000000</td>\n      <td>1.000000</td>\n      <td>1.000000</td>\n      <td>1.000000</td>\n      <td>1.000000</td>\n      <td>1.000000</td>\n      <td>1.000000</td>\n    </tr>\n  </tbody>\n</table>\n</div>"
     },
     "execution_count": 141,
     "metadata": {},
     "output_type": "execute_result"
    }
   ],
   "source": [
    "df.describe()"
   ]
  },
  {
   "cell_type": "markdown",
   "metadata": {
    "collapsed": false
   },
   "source": [
    "> _The describe return we can get a first glance and make some conclusion:_\n",
    "\n",
    ">__Birthyear__ - could originate an Age column for readability purposes<br>\n",
    "__Income__ - Min and Max are very far from each other and far from the mean value which could indicate outliers<br>\n",
    "__Recency__ - 6977 valid values, hence we should look in deep and decide on how to minimize that effect of missing values<br>\n",
    "__MntMeat&Fish__ - Min and Max are distant from each other and have high standard deviation which could effect some future conclusion<br>\n",
    "__MntEntries__ - Again has high standard deviation that we should analyze, Min and Max far apart, similar to MntMeat&Fish<br>\n",
    "__MntVegan&Vegetarian__ - Similar to the previous two Mnt columns<br>\n",
    "__MntDrinks, MntDesserts__ - Seems to be very similar between them<br>\n",
    "__MntAdditionalRequests__ - The max value standard deviation seems high and also the max value very far apart from the mean<br>\n",
    "__NumOfferPurchases, NumTakeAwayPurchases, NumAppVisitsMonth__  - Have a max value to distante from the mean that could be true but we need to take into account<br>\n",
    "__NumAppPurchases, SumStorePurchases__ - Seems does not have strange summary statistcs<br>\n",
    "__Kid_Younger6, Children_6to18__ - 75% of clients have at least one child"
   ]
  },
  {
   "cell_type": "markdown",
   "metadata": {
    "collapsed": false
   },
   "source": [
    "**Q**: Skewness of each variable "
   ]
  },
  {
   "cell_type": "code",
   "execution_count": 142,
   "metadata": {
    "collapsed": false
   },
   "outputs": [
    {
     "name": "stderr",
     "output_type": "stream",
     "text": [
      "/var/folders/gt/lg95g0n95mqdr3vk5d1k062h0000gn/T/ipykernel_37366/547062910.py:1: FutureWarning: Dropping of nuisance columns in DataFrame reductions (with 'numeric_only=None') is deprecated; in a future version this will raise TypeError.  Select only valid columns before calling the reduction.\n",
      "  df.skew()\n"
     ]
    },
    {
     "data": {
      "text/plain": "Birthyear               -0.092478\nIncome                   0.844721\nKid_Younger6             0.693587\nChildren_6to18           0.451693\nRecency                  0.017676\nMntMeat&Fish             1.148862\nMntEntries               2.087220\nMntVegan&Vegetarian      2.486897\nMntDrinks                2.046308\nMntDesserts              2.057811\nMntAdditionalRequests    1.826522\nNumOfferPurchases        2.860514\nNumAppPurchases          0.525873\nNumTakeAwayPurchases     2.254158\nNumStorePurchases        0.623254\nNumAppVisitsMonth        1.005192\nComplain                 9.709429\nResponse_Cmp1            3.118572\nResponse_Cmp2            3.275500\nResponse_Cmp3            3.023677\nResponse_Cmp4            3.501448\nResponse_Cmp5            8.187993\ndtype: float64"
     },
     "execution_count": 142,
     "metadata": {},
     "output_type": "execute_result"
    }
   ],
   "source": [
    "df.skew()"
   ]
  },
  {
   "cell_type": "markdown",
   "metadata": {
    "collapsed": false
   },
   "source": [
    "Concerning the variables' skewness, we can conclude the following:\n",
    "- `Moderate skewness (between |0.5| and |1.0|)`: Birthyear, Income, Kid_Younger6, Children_6to18, Recency, NumAppPurchases, NumStorePurchases, NumAppVisitsMonth\n",
    "- `High skewness (higher than |1.0|)`: MntMeat&Fish, MntEntries, MntVegan&Vegetarian, MntDrinks, MntDesserts, MntAdditionalRequests, NumOfferPurchases, NumTakeAwayPurchases, Complain, Response_Cmp1, Response_Cmp2, Response_Cmp3, Response_Cmp4, Response_Cmp5"
   ]
  },
  {
   "cell_type": "code",
   "execution_count": 143,
   "metadata": {
    "collapsed": false
   },
   "outputs": [
    {
     "name": "stderr",
     "output_type": "stream",
     "text": [
      "/var/folders/gt/lg95g0n95mqdr3vk5d1k062h0000gn/T/ipykernel_37366/3952544226.py:1: FutureWarning: Dropping of nuisance columns in DataFrame reductions (with 'numeric_only=None') is deprecated; in a future version this will raise TypeError.  Select only valid columns before calling the reduction.\n",
      "  df.kurt()\n"
     ]
    },
    {
     "data": {
      "text/plain": "Birthyear                -0.857341\nIncome                    2.649035\nKid_Younger6             -0.651127\nChildren_6to18           -0.973333\nRecency                  -1.197978\nMntMeat&Fish              0.532098\nMntEntries                4.096167\nMntVegan&Vegetarian       8.431538\nMntDrinks                 3.839256\nMntDesserts               3.813464\nMntAdditionalRequests     3.084190\nNumOfferPurchases        10.997946\nNumAppPurchases          -0.222899\nNumTakeAwayPurchases      8.582138\nNumStorePurchases        -0.694327\nNumAppVisitsMonth         4.992870\nComplain                 92.299387\nResponse_Cmp1             7.727700\nResponse_Cmp2             8.731398\nResponse_Cmp3             7.144665\nResponse_Cmp4            10.263068\nResponse_Cmp5            65.061813\ndtype: float64"
     },
     "execution_count": 143,
     "metadata": {},
     "output_type": "execute_result"
    }
   ],
   "source": [
    "df.kurt()"
   ]
  },
  {
   "cell_type": "markdown",
   "metadata": {
    "collapsed": false
   },
   "source": [
    "Features with kurtosis higher than 3 could indicate presence of outliers, hence we should have special considerantion with the following features:\n",
    ">MntEntries, MntVegan&Vegetarian, MntDrinks, MntDesserts, NumOfferPurchases, NumAppVisitsMonth\n",
    "\n",
    "Note: Binomial Variables Complain, and Response_Cmp1 the kurtosis we will not consider as outliers"
   ]
  },
  {
   "cell_type": "markdown",
   "metadata": {
    "collapsed": false
   },
   "source": [
    "## 2.2.2 Categorical Values"
   ]
  },
  {
   "cell_type": "code",
   "execution_count": 144,
   "metadata": {
    "collapsed": false
   },
   "outputs": [
    {
     "data": {
      "text/plain": "                     Name   Education Marital_Status       Date_Adherence\ncount                7000        6986           7000                 7000\nunique               6241           9             10                  701\ntop     Mr. Stewart Grant  Graduation        Married  2020-09-19 00:00:00\nfreq                    3        3497           2830                   23",
      "text/html": "<div>\n<style scoped>\n    .dataframe tbody tr th:only-of-type {\n        vertical-align: middle;\n    }\n\n    .dataframe tbody tr th {\n        vertical-align: top;\n    }\n\n    .dataframe thead th {\n        text-align: right;\n    }\n</style>\n<table border=\"1\" class=\"dataframe\">\n  <thead>\n    <tr style=\"text-align: right;\">\n      <th></th>\n      <th>Name</th>\n      <th>Education</th>\n      <th>Marital_Status</th>\n      <th>Date_Adherence</th>\n    </tr>\n  </thead>\n  <tbody>\n    <tr>\n      <th>count</th>\n      <td>7000</td>\n      <td>6986</td>\n      <td>7000</td>\n      <td>7000</td>\n    </tr>\n    <tr>\n      <th>unique</th>\n      <td>6241</td>\n      <td>9</td>\n      <td>10</td>\n      <td>701</td>\n    </tr>\n    <tr>\n      <th>top</th>\n      <td>Mr. Stewart Grant</td>\n      <td>Graduation</td>\n      <td>Married</td>\n      <td>2020-09-19 00:00:00</td>\n    </tr>\n    <tr>\n      <th>freq</th>\n      <td>3</td>\n      <td>3497</td>\n      <td>2830</td>\n      <td>23</td>\n    </tr>\n  </tbody>\n</table>\n</div>"
     },
     "execution_count": 144,
     "metadata": {},
     "output_type": "execute_result"
    }
   ],
   "source": [
    "df.describe(include = object)"
   ]
  },
  {
   "cell_type": "markdown",
   "metadata": {
    "collapsed": false
   },
   "source": [
    "> We can conclude that the education as **14 missing** values"
   ]
  },
  {
   "cell_type": "markdown",
   "metadata": {
    "collapsed": false
   },
   "source": [
    "#### Level/Possible values of Categorical Features"
   ]
  },
  {
   "cell_type": "markdown",
   "metadata": {
    "collapsed": false
   },
   "source": [
    "### `Name` prefix unique values and count"
   ]
  },
  {
   "cell_type": "code",
   "execution_count": 145,
   "metadata": {
    "collapsed": false
   },
   "outputs": [
    {
     "data": {
      "text/plain": "Mr.     5133\nMiss    1469\nMrs.     398\nName: 0, dtype: int64"
     },
     "execution_count": 145,
     "metadata": {},
     "output_type": "execute_result"
    }
   ],
   "source": [
    "df['Name'].str.partition(\" \")[0].value_counts()"
   ]
  },
  {
   "cell_type": "markdown",
   "metadata": {
    "collapsed": false
   },
   "source": [
    "With the prefix we can generate a `gender` feature to further explore the dataset. We will deal with that in the data transformation capther"
   ]
  },
  {
   "cell_type": "markdown",
   "metadata": {
    "collapsed": false
   },
   "source": [
    "#### **`Gender`** feature creation"
   ]
  },
  {
   "cell_type": "code",
   "execution_count": 146,
   "metadata": {
    "collapsed": false
   },
   "outputs": [],
   "source": [
    "df[\"Gender\"] = df['Name'].str.partition(\" \")[0]\n",
    "df = df.replace({\"Gender\":{\"Mr.\": 1,\"Miss\": 0,\"Mrs.\": 0}})"
   ]
  },
  {
   "cell_type": "markdown",
   "metadata": {
    "collapsed": false
   },
   "source": [
    "### `Education` unique values and count"
   ]
  },
  {
   "cell_type": "code",
   "execution_count": 147,
   "metadata": {
    "collapsed": false
   },
   "outputs": [
    {
     "data": {
      "text/plain": "Graduation    3497\nPhD           1494\nMaster        1135\nHighSchool     663\nBasic          179\nmaster           7\ngraduation       7\nphd              2\nhighschool       2\nName: Education, dtype: int64"
     },
     "execution_count": 147,
     "metadata": {},
     "output_type": "execute_result"
    }
   ],
   "source": [
    "df[\"Education\"].value_counts()"
   ]
  },
  {
   "cell_type": "markdown",
   "metadata": {
    "collapsed": false
   },
   "source": [
    "We have some issues that will need trasformatioin:<br>\n",
    "- Graduation, Master, HighSchool are written in different ways<br>\n",
    "- `Basic` and `HighSchool` need different levels?"
   ]
  },
  {
   "cell_type": "markdown",
   "metadata": {
    "collapsed": false
   },
   "source": [
    "#### Education standardization"
   ]
  },
  {
   "cell_type": "code",
   "execution_count": 148,
   "metadata": {
    "collapsed": false
   },
   "outputs": [],
   "source": [
    "df = df.replace({\"Education\":{\"master\":\"Master\", \"graduation\":\"Graduation\", \"phd\":\"PhD\",\"highschool\":\"HighSchool\"}})"
   ]
  },
  {
   "cell_type": "markdown",
   "metadata": {
    "collapsed": false
   },
   "source": [
    "### `Marital_Status` unique values and count"
   ]
  },
  {
   "cell_type": "code",
   "execution_count": 149,
   "metadata": {
    "collapsed": false
   },
   "outputs": [
    {
     "data": {
      "text/plain": "Married     2830\nTogether    1683\nSingle      1525\nDivorced     637\nWidow        243\nmarried       36\ntogether      23\nsingle        13\ndivorced       8\nwidow          2\nName: Marital_Status, dtype: int64"
     },
     "execution_count": 149,
     "metadata": {},
     "output_type": "execute_result"
    }
   ],
   "source": [
    "df[\"Marital_Status\"].value_counts()"
   ]
  },
  {
   "cell_type": "markdown",
   "metadata": {
    "collapsed": false
   },
   "source": [
    "Similarly to previous feature we also have some issues that need transformation:<br>\n",
    "- Married, Together, Single, Divorced and Widow are written with lower and capital letters\n",
    "- We could also consider that Married and Together are similar and joined them in the same level<br>"
   ]
  },
  {
   "cell_type": "markdown",
   "metadata": {
    "collapsed": false
   },
   "source": [
    "#### Marital_Status standardization"
   ]
  },
  {
   "cell_type": "code",
   "execution_count": 150,
   "metadata": {
    "collapsed": false
   },
   "outputs": [
    {
     "data": {
      "text/plain": "Married     4572\nSingle      1538\nDivorced     645\nWidow        245\nName: Marital_Status, dtype: int64"
     },
     "execution_count": 150,
     "metadata": {},
     "output_type": "execute_result"
    }
   ],
   "source": [
    "df = df.replace({\"Marital_Status\":{\"married\":\"Married\", \"together\":\"Married\", \"single\":\"Single\",\"widow\":\"Widow\",\"divorced\":\"Divorced\",\"Together\":\"Married\"}})\n",
    "df[\"Marital_Status\"].value_counts()"
   ]
  },
  {
   "cell_type": "markdown",
   "metadata": {
    "collapsed": false
   },
   "source": [
    "`Date_Adherence` unqiue values and count"
   ]
  },
  {
   "cell_type": "code",
   "execution_count": 151,
   "metadata": {
    "collapsed": false
   },
   "outputs": [
    {
     "data": {
      "text/plain": "2020-09-19    23\n2021-08-22    20\n2021-07-30    20\n2022-05-23    20\n2021-08-21    19\n              ..\n2021-03-09     3\n2020-09-18     2\n2020-07-30     2\n2020-08-29     2\n2021-03-22     2\nName: Date_Adherence, Length: 701, dtype: int64"
     },
     "execution_count": 151,
     "metadata": {},
     "output_type": "execute_result"
    }
   ],
   "source": [
    "df[\"Date_Adherence\"].value_counts()"
   ]
  },
  {
   "cell_type": "markdown",
   "metadata": {
    "collapsed": false
   },
   "source": [
    "`Date_Adherence` is a date and will need transformation to a date format for further exploration"
   ]
  },
  {
   "cell_type": "markdown",
   "metadata": {
    "collapsed": false
   },
   "source": [
    "## 2.3 Visual Exploration"
   ]
  },
  {
   "cell_type": "markdown",
   "metadata": {
    "collapsed": false
   },
   "source": [
    "### 2.3.1 Numerical Variables"
   ]
  },
  {
   "cell_type": "markdown",
   "metadata": {
    "collapsed": false
   },
   "source": [
    "## 2.4. In-Depth Exploration"
   ]
  },
  {
   "cell_type": "code",
   "execution_count": 151,
   "metadata": {
    "collapsed": false
   },
   "outputs": [],
   "source": []
  },
  {
   "cell_type": "markdown",
   "metadata": {
    "collapsed": false
   },
   "source": [
    "# 3. Preprocess Data"
   ]
  },
  {
   "cell_type": "markdown",
   "metadata": {
    "collapsed": false
   },
   "source": [
    "## 3.1. Data Cleaning"
   ]
  },
  {
   "cell_type": "markdown",
   "metadata": {
    "collapsed": false
   },
   "source": [
    "### 3.1.1. Outliers"
   ]
  },
  {
   "cell_type": "markdown",
   "metadata": {
    "collapsed": false
   },
   "source": []
  },
  {
   "cell_type": "code",
   "execution_count": 152,
   "metadata": {
    "collapsed": false
   },
   "outputs": [],
   "source": [
    "#fig, (ax1, ax2) = plt.subplots(1, 2, figsize = (10, 5))\n",
    "#ax1.boxplot(df['MntVegan&Vegetarian'])\n",
    "#ax2.boxplot(df['Income'])"
   ]
  },
  {
   "cell_type": "code",
   "execution_count": 153,
   "metadata": {
    "collapsed": false
   },
   "outputs": [],
   "source": [
    "df.drop(df[abs(zscore(df['MntVegan&Vegetarian'])) > 3].index, inplace=True)\n",
    "df.drop(df[abs(zscore(df['Income'])) > 3].index, inplace=True)"
   ]
  },
  {
   "cell_type": "code",
   "execution_count": 154,
   "metadata": {
    "collapsed": false
   },
   "outputs": [],
   "source": [
    "#fig, (ax1, ax2) = plt.subplots(1, 2, figsize = (10, 5))\n",
    "#ax1.boxplot(df['MntVegan&Vegetarian'])\n",
    "#ax2.boxplot(df['Income'])"
   ]
  },
  {
   "cell_type": "markdown",
   "metadata": {
    "collapsed": false
   },
   "source": [
    "## 3.1.2 Skewness Correction"
   ]
  },
  {
   "cell_type": "code",
   "execution_count": 155,
   "metadata": {
    "collapsed": false
   },
   "outputs": [],
   "source": [
    "df['MntMeat&Fish'] = df['MntMeat&Fish'].apply(lambda x: np.log10(x + 1))\n",
    "df['MntVegan&Vegetarian'] = df['MntVegan&Vegetarian'].apply(lambda x: np.log10(x + 1))\n",
    "df['MntEntries'] = df['MntEntries'].apply(lambda x: np.log10(x + 1))\n",
    "df['MntDrinks'] = df['MntDrinks'].apply(lambda x: np.log10(x + 1))\n",
    "df['MntDesserts'] = df['MntDesserts'].apply(lambda x: np.log10(x + 1))\n",
    "df['MntAdditionalRequests'] = df['MntAdditionalRequests'].apply(lambda x: np.log10(x + 1))\n",
    "df['NumOfferPurchases'] = df['NumOfferPurchases'].apply(lambda x: np.log10(x + 1))\n",
    "df['NumTakeAwayPurchases'] = df['NumTakeAwayPurchases'].apply(lambda x: np.log10(x + 1))\n",
    "df['Complain'] = df['Complain'].apply(lambda x: np.log10(x + 1))\n",
    "df['Response_Cmp1'] = df['Response_Cmp1'].apply(lambda x: np.log10(x + 1))\n",
    "df['Response_Cmp2'] = df['Response_Cmp2'].apply(lambda x: np.log10(x + 1))\n",
    "df['Response_Cmp3'] = df['Response_Cmp3'].apply(lambda x: np.log10(x + 1))\n",
    "df['Response_Cmp4'] = df['Response_Cmp4'].apply(lambda x: np.log10(x + 1))\n",
    "df['Response_Cmp5'] = df['Response_Cmp5'].apply(lambda x: np.log10(x + 1))"
   ]
  },
  {
   "cell_type": "markdown",
   "metadata": {
    "collapsed": false
   },
   "source": [
    "### 3.1.2. Missing Values"
   ]
  },
  {
   "cell_type": "code",
   "execution_count": 156,
   "metadata": {
    "collapsed": false
   },
   "outputs": [
    {
     "data": {
      "text/plain": "True"
     },
     "execution_count": 156,
     "metadata": {},
     "output_type": "execute_result"
    }
   ],
   "source": [
    "Response_is_null = df[\"Response_Cmp1\"].isna().sum() + df[\"Response_Cmp2\"].isna().sum() + df[\"Response_Cmp3\"].isna().sum() + df[\"Response_Cmp4\"].isna().sum()\n",
    "Response_is_null == 0"
   ]
  },
  {
   "cell_type": "code",
   "execution_count": 157,
   "metadata": {
    "collapsed": false
   },
   "outputs": [
    {
     "name": "stdout",
     "output_type": "stream",
     "text": [
      "<class 'pandas.core.frame.DataFrame'>\n",
      "Int64Index: 6884 entries, 14594 to 15581\n",
      "Data columns (total 27 columns):\n",
      " #   Column                 Non-Null Count  Dtype  \n",
      "---  ------                 --------------  -----  \n",
      " 0   Name                   6884 non-null   object \n",
      " 1   Birthyear              6884 non-null   int64  \n",
      " 2   Education              6870 non-null   object \n",
      " 3   Marital_Status         6884 non-null   object \n",
      " 4   Income                 6884 non-null   float64\n",
      " 5   Kid_Younger6           6884 non-null   int64  \n",
      " 6   Children_6to18         6884 non-null   int64  \n",
      " 7   Date_Adherence         6884 non-null   object \n",
      " 8   Recency                6861 non-null   float64\n",
      " 9   MntMeat&Fish           6884 non-null   float64\n",
      " 10  MntEntries             6884 non-null   float64\n",
      " 11  MntVegan&Vegetarian    6884 non-null   float64\n",
      " 12  MntDrinks              6856 non-null   float64\n",
      " 13  MntDesserts            6884 non-null   float64\n",
      " 14  MntAdditionalRequests  6884 non-null   float64\n",
      " 15  NumOfferPurchases      6884 non-null   float64\n",
      " 16  NumAppPurchases        6884 non-null   int64  \n",
      " 17  NumTakeAwayPurchases   6884 non-null   float64\n",
      " 18  NumStorePurchases      6884 non-null   int64  \n",
      " 19  NumAppVisitsMonth      6884 non-null   int64  \n",
      " 20  Complain               6884 non-null   float64\n",
      " 21  Response_Cmp1          6884 non-null   float64\n",
      " 22  Response_Cmp2          6884 non-null   float64\n",
      " 23  Response_Cmp3          6884 non-null   float64\n",
      " 24  Response_Cmp4          6884 non-null   float64\n",
      " 25  Response_Cmp5          6884 non-null   float64\n",
      " 26  Gender                 6884 non-null   int64  \n",
      "dtypes: float64(16), int64(7), object(4)\n",
      "memory usage: 1.5+ MB\n"
     ]
    }
   ],
   "source": [
    "df.info()"
   ]
  },
  {
   "cell_type": "code",
   "execution_count": 158,
   "metadata": {
    "collapsed": false
   },
   "outputs": [
    {
     "data": {
      "text/plain": "Name                      0\nBirthyear                 0\nEducation                14\nMarital_Status            0\nIncome                    0\nKid_Younger6              0\nChildren_6to18            0\nDate_Adherence            0\nRecency                  23\nMntMeat&Fish              0\nMntEntries                0\nMntVegan&Vegetarian       0\nMntDrinks                28\nMntDesserts               0\nMntAdditionalRequests     0\nNumOfferPurchases         0\nNumAppPurchases           0\nNumTakeAwayPurchases      0\nNumStorePurchases         0\nNumAppVisitsMonth         0\nComplain                  0\nResponse_Cmp1             0\nResponse_Cmp2             0\nResponse_Cmp3             0\nResponse_Cmp4             0\nResponse_Cmp5             0\nGender                    0\ndtype: int64"
     },
     "execution_count": 158,
     "metadata": {},
     "output_type": "execute_result"
    }
   ],
   "source": [
    "df.isna().sum()"
   ]
  },
  {
   "cell_type": "markdown",
   "metadata": {
    "collapsed": false
   },
   "source": [
    "- **`Education`**, **`Recency`**, **`MntDrinks`** and **`MntTotal`** (due to dependancy of `MntDrinks`) have missing values"
   ]
  },
  {
   "cell_type": "markdown",
   "metadata": {
    "collapsed": false
   },
   "source": [
    "#### Filling the missing values"
   ]
  },
  {
   "cell_type": "markdown",
   "metadata": {
    "collapsed": false
   },
   "source": [
    "Fill `Education` with the mode"
   ]
  },
  {
   "cell_type": "code",
   "execution_count": 159,
   "metadata": {
    "collapsed": false
   },
   "outputs": [],
   "source": [
    "df[\"Education\"].fillna(df[\"Education\"].mode()[0], inplace = True)"
   ]
  },
  {
   "cell_type": "markdown",
   "metadata": {
    "collapsed": false
   },
   "source": [
    "Fill `Recency` with the median value"
   ]
  },
  {
   "cell_type": "code",
   "execution_count": 160,
   "metadata": {
    "collapsed": false
   },
   "outputs": [],
   "source": [
    "df[\"Recency\"].fillna(df[\"Recency\"].mean(), inplace = True)"
   ]
  },
  {
   "cell_type": "code",
   "execution_count": 161,
   "metadata": {
    "collapsed": false
   },
   "outputs": [],
   "source": [
    "df_mnt = df[[ 'MntMeat&Fish', 'MntEntries', 'MntVegan&Vegetarian', 'MntDrinks',\n",
    "       'MntDesserts', 'MntAdditionalRequests']]\n",
    "\n",
    "imputer = KNNImputer(n_neighbors=3)\n",
    "array_impute = imputer.fit_transform(df_mnt)\n",
    "df_mnt = pd.DataFrame(array_impute, columns = df_mnt.columns)"
   ]
  },
  {
   "cell_type": "code",
   "execution_count": 162,
   "metadata": {
    "collapsed": false
   },
   "outputs": [],
   "source": [
    "df[\"MntDrinks\"] = df_mnt[\"MntDrinks\"].values"
   ]
  },
  {
   "cell_type": "code",
   "execution_count": 163,
   "metadata": {
    "collapsed": false
   },
   "outputs": [],
   "source": [
    "df[\"MntTotal\"] = df['MntMeat&Fish'] + df['MntEntries'] + df['MntVegan&Vegetarian'] + df['MntDrinks'] + df['MntDesserts']"
   ]
  },
  {
   "cell_type": "code",
   "execution_count": 164,
   "metadata": {
    "collapsed": false
   },
   "outputs": [
    {
     "data": {
      "text/plain": "Name                     0\nBirthyear                0\nEducation                0\nMarital_Status           0\nIncome                   0\nKid_Younger6             0\nChildren_6to18           0\nDate_Adherence           0\nRecency                  0\nMntMeat&Fish             0\nMntEntries               0\nMntVegan&Vegetarian      0\nMntDrinks                0\nMntDesserts              0\nMntAdditionalRequests    0\nNumOfferPurchases        0\nNumAppPurchases          0\nNumTakeAwayPurchases     0\nNumStorePurchases        0\nNumAppVisitsMonth        0\nComplain                 0\nResponse_Cmp1            0\nResponse_Cmp2            0\nResponse_Cmp3            0\nResponse_Cmp4            0\nResponse_Cmp5            0\nGender                   0\nMntTotal                 0\ndtype: int64"
     },
     "execution_count": 164,
     "metadata": {},
     "output_type": "execute_result"
    }
   ],
   "source": [
    "df.isna().sum()"
   ]
  },
  {
   "cell_type": "markdown",
   "metadata": {
    "collapsed": false
   },
   "source": [
    "## 3.2. Data Transformation"
   ]
  },
  {
   "cell_type": "markdown",
   "metadata": {
    "collapsed": false
   },
   "source": [
    "### 3.2.1. Create new Variables"
   ]
  },
  {
   "cell_type": "markdown",
   "metadata": {
    "collapsed": false
   },
   "source": [
    "### Utils"
   ]
  },
  {
   "cell_type": "markdown",
   "metadata": {
    "collapsed": false
   },
   "source": [
    "#### Creating Age variable from the Birthyear"
   ]
  },
  {
   "cell_type": "code",
   "execution_count": 165,
   "metadata": {
    "collapsed": false
   },
   "outputs": [],
   "source": [
    "df['Age'] = df.Birthyear.apply(lambda x: date.today().year-x)"
   ]
  },
  {
   "cell_type": "code",
   "execution_count": 166,
   "metadata": {
    "collapsed": false
   },
   "outputs": [],
   "source": [
    "df.drop('Birthyear', axis= 1, inplace = True)"
   ]
  },
  {
   "cell_type": "markdown",
   "id": "a796c176",
   "metadata": {},
   "source": []
  },
  {
   "cell_type": "code",
   "execution_count": 167,
   "metadata": {
    "collapsed": false
   },
   "outputs": [],
   "source": [
    "#### Creating card adherence age variable from the Date adherence"
   ]
  },
  {
   "cell_type": "code",
   "execution_count": 168,
   "metadata": {
    "collapsed": false
   },
   "outputs": [],
   "source": [
    "from datetime import datetime\n",
    "df = df.replace({\"Date_Adherence\":{\"2/29/2022\": datetime.strptime(\"2022-03-01\", '%Y-%m-%d')}}) #2022 is not a leap year, therefore 29/02/2022 is not a possible day"
   ]
  },
  {
   "cell_type": "code",
   "execution_count": 169,
   "metadata": {
    "collapsed": false
   },
   "outputs": [],
   "source": [
    "df['daysAsCardClient'] = df['Date_Adherence'].apply(lambda x: (date.today() - x.date()).days)"
   ]
  },
  {
   "cell_type": "code",
   "execution_count": 170,
   "metadata": {
    "collapsed": false
   },
   "outputs": [],
   "source": [
    "df.drop('Date_Adherence', axis= 1, inplace = True)"
   ]
  },
  {
   "cell_type": "markdown",
   "metadata": {
    "collapsed": false
   },
   "source": [
    "#### Fill Education"
   ]
  },
  {
   "cell_type": "code",
   "execution_count": 171,
   "metadata": {
    "collapsed": false
   },
   "outputs": [],
   "source": [
    "edu_encode = pd.get_dummies(df.Education, drop_first= True)\n",
    "df = pd.concat([df, edu_encode], axis = 1)"
   ]
  },
  {
   "cell_type": "code",
   "execution_count": 172,
   "metadata": {
    "collapsed": false
   },
   "outputs": [],
   "source": [
    "df.drop('Education', axis = 1, inplace = True)"
   ]
  },
  {
   "cell_type": "markdown",
   "metadata": {
    "collapsed": false
   },
   "source": [
    "#### Fill Maritial Status"
   ]
  },
  {
   "cell_type": "code",
   "execution_count": 173,
   "metadata": {
    "collapsed": false
   },
   "outputs": [],
   "source": [
    "marital_encode = pd.get_dummies(df.Marital_Status, drop_first= True)\n",
    "df = pd.concat([df, marital_encode], axis = 1)"
   ]
  },
  {
   "cell_type": "code",
   "execution_count": 174,
   "metadata": {
    "collapsed": false
   },
   "outputs": [],
   "source": [
    "df.drop('Marital_Status', axis= 1, inplace = True)"
   ]
  },
  {
   "cell_type": "markdown",
   "metadata": {
    "collapsed": false
   },
   "source": [
    "#### Create MntTotal"
   ]
  },
  {
   "cell_type": "code",
   "execution_count": 175,
   "metadata": {
    "collapsed": false
   },
   "outputs": [
    {
     "data": {
      "text/plain": "CustomerID\n14594    19.242890\n19070    19.321940\n29888    17.490921\n12221    12.145689\n21107    18.204269\n           ...    \n30686    14.183984\n17210    16.426555\n29186     5.644887\n23312    11.657932\n15581    18.939792\nName: MntTotal, Length: 6884, dtype: float64"
     },
     "execution_count": 175,
     "metadata": {},
     "output_type": "execute_result"
    }
   ],
   "source": [
    "df[\"MntTotal\"] = df['MntMeat&Fish'] + df['MntEntries'] + df['MntVegan&Vegetarian'] + df['MntDrinks'] + df['MntDesserts'] + df['MntAdditionalRequests']\n",
    "df[\"MntTotal\"]\n",
    "# em falta Mnt Add Requests"
   ]
  },
  {
   "cell_type": "markdown",
   "metadata": {
    "collapsed": false
   },
   "source": [
    "#### Create Mnt Pday Card"
   ]
  },
  {
   "cell_type": "code",
   "execution_count": 176,
   "metadata": {
    "collapsed": false
   },
   "outputs": [],
   "source": [
    "df['Mnt_pday_card']= df.MntTotal/df.daysAsCardClient"
   ]
  },
  {
   "cell_type": "markdown",
   "metadata": {
    "collapsed": false
   },
   "source": [
    "#### Create Response Campaigns"
   ]
  },
  {
   "cell_type": "code",
   "execution_count": 177,
   "metadata": {
    "collapsed": false
   },
   "outputs": [],
   "source": [
    "df['Response_Campaigns'] = df['Response_Cmp1'] + df['Response_Cmp2'] + df['Response_Cmp3'] + df['Response_Cmp4'] + df[\n",
    "       'Response_Cmp5']"
   ]
  },
  {
   "cell_type": "code",
   "execution_count": 178,
   "metadata": {
    "collapsed": false
   },
   "outputs": [],
   "source": [
    "df.drop(['Response_Cmp1', 'Response_Cmp2', 'Response_Cmp3', 'Response_Cmp4', 'Response_Cmp5'], axis=1, inplace=True)"
   ]
  },
  {
   "cell_type": "markdown",
   "metadata": {
    "collapsed": false
   },
   "source": [
    "#### Create Total Kids"
   ]
  },
  {
   "cell_type": "code",
   "execution_count": 179,
   "metadata": {
    "collapsed": false
   },
   "outputs": [],
   "source": [
    "df[\"Total_Kids\"] = df[\"Kid_Younger6\"] + df[\"Children_6to18\"]"
   ]
  },
  {
   "cell_type": "markdown",
   "metadata": {
    "collapsed": false
   },
   "source": [
    "#### Create Has Kids"
   ]
  },
  {
   "cell_type": "code",
   "execution_count": 180,
   "metadata": {
    "collapsed": false
   },
   "outputs": [
    {
     "data": {
      "text/plain": "CustomerID\n14594    0\n19070    0\n29888    0\n12221    1\n21107    0\n        ..\n30686    0\n17210    0\n29186    1\n23312    1\n15581    0\nName: has_Kids, Length: 6884, dtype: int64"
     },
     "execution_count": 180,
     "metadata": {},
     "output_type": "execute_result"
    }
   ],
   "source": [
    "df[\"has_Kids\"] = df[\"Total_Kids\"].apply(lambda x: 0 if x == 0 else 1)\n",
    "df[\"has_Kids\"]"
   ]
  },
  {
   "cell_type": "code",
   "execution_count": 181,
   "metadata": {
    "collapsed": false
   },
   "outputs": [],
   "source": [
    "df.drop(['Kid_Younger6', 'Children_6to18'], axis = 1, inplace = True)"
   ]
  },
  {
   "cell_type": "code",
   "execution_count": 182,
   "id": "e0af0b63",
   "metadata": {},
   "outputs": [],
   "source": [
    "df[\"age_bins\"] = pd.cut(df[\"Age\"], bins = 5)"
   ]
  },
  {
   "cell_type": "code",
   "execution_count": 183,
   "id": "bb6fae86",
   "metadata": {},
   "outputs": [
    {
     "data": {
      "text/plain": "CustomerID\n14594      (40.8, 52.2]\n19070      (40.8, 52.2]\n29888      (52.2, 63.6]\n12221      (40.8, 52.2]\n21107      (40.8, 52.2]\n              ...      \n30686    (17.943, 29.4]\n17210      (29.4, 40.8]\n29186      (52.2, 63.6]\n23312      (29.4, 40.8]\n15581      (52.2, 63.6]\nName: age_bins, Length: 6884, dtype: category\nCategories (5, interval[float64, right]): [(17.943, 29.4] < (29.4, 40.8] < (40.8, 52.2] < (52.2, 63.6] < (63.6, 75.0]]"
     },
     "execution_count": 183,
     "metadata": {},
     "output_type": "execute_result"
    }
   ],
   "source": [
    "df[\"age_bins\"] # corrigir para permitir pca"
   ]
  },
  {
   "cell_type": "markdown",
   "metadata": {
    "collapsed": false
   },
   "source": [
    "## Incoherencies\n"
   ]
  },
  {
   "cell_type": "code",
   "execution_count": 184,
   "metadata": {
    "collapsed": false
   },
   "outputs": [
    {
     "data": {
      "text/plain": "                               Name   Income  Recency  MntMeat&Fish  \\\nCustomerID                                                            \n6185              Mr. Matt Clarkson   4609.6     32.0      1.301030   \n5318             Mr. Liam MacDonald   3005.4     16.0      0.778151   \n25079             Mr. Harry Dickens   5048.0     64.0      1.146128   \n23297              Mr. Harry Newman   3909.6     29.0      1.113943   \n34565          Miss Jasmine Russell   7644.8     15.0      1.568202   \n5108          Mr. Sebastian Abraham  10724.2     93.0      2.457882   \n18872             Miss Rachel Young   3550.0      4.0      1.544068   \n13388                Mr. Eric Berry   4554.8     99.0      0.778151   \n14084       Mr. Christopher MacLeod   5281.3     17.0      1.079181   \n5366                 Mr. Boris Reid   6065.1     75.0      1.602060   \n31409           Mr. Christian Allan   3746.5     35.0      1.518514   \n30521          Miss Stephanie Terry   3623.7     94.0      1.812913   \n28061                Mr. Adam Black   3133.7     36.0      1.505150   \n10547             Mr. Thomas Slater   3478.0     57.0      1.000000   \n26696           Mr. Charles Pullman   5171.2     89.0      0.778151   \n15911          Miss Pippa Underwood   4472.2     23.0      0.698970   \n12800           Mr. Sebastian Paige   7175.5     53.0      1.968483   \n17996               Mr. Paul Peters   7507.0     97.0      1.716003   \n7127                Mr. Joe Chapman   6324.3     85.0      1.633468   \n22133               Mr. Evan Bailey   7326.0     30.0      1.602060   \n\n            MntEntries  MntVegan&Vegetarian  MntDrinks  MntDesserts  \\\nCustomerID                                                            \n6185          1.041393             1.872156   1.041393     1.462398   \n5318          0.954243             0.929419   0.845098     0.698970   \n25079         0.698970             0.740363   0.000000     0.477121   \n23297         0.000000             0.740363   0.000000     0.000000   \n34565         0.477121             1.966142   1.799341     1.591065   \n5108          2.392697             2.583765   2.143015     1.886491   \n18872         0.000000             1.342423   0.698970     0.477121   \n13388         1.322219             1.311754   0.698970     1.230449   \n14084         1.041393             1.568202   0.845098     1.041393   \n5366          0.477121             1.243038   0.000000     0.698970   \n31409         0.477121             1.986772   1.397940     1.397940   \n30521         1.431364             1.703291   1.653213     1.568202   \n28061         0.477121             1.060698   0.000000     0.477121   \n10547         1.176091             1.531479   1.113943     1.041393   \n26696         0.000000             1.243038   1.322219     1.230449   \n15911         0.845098             0.740363   0.845098     1.176091   \n12800         0.000000             1.929419   0.477121     0.477121   \n17996         0.000000             0.397940   0.000000     0.000000   \n7127          1.041393             2.012837   1.851258     1.826075   \n22133         1.278754             1.585461   1.397940     1.826075   \n\n            MntAdditionalRequests  NumOfferPurchases  NumAppPurchases  \\\nCustomerID                                                              \n6185                     0.623249            1.20412                0   \n5318                     0.301030            0.00000                0   \n25079                    0.000000            1.20412                0   \n23297                    0.113943            1.20412                0   \n34565                    1.152288            1.20412                0   \n5108                     0.518514            0.00000                0   \n18872                    0.079181            0.00000                0   \n13388                    0.414973            1.20412                0   \n14084                    0.146128            0.00000                0   \n5366                     0.342423            1.20412                0   \n31409                    0.977724            1.20412                0   \n30521                    1.089905            1.20412                0   \n28061                    0.518514            0.00000                0   \n10547                    0.278754            0.00000                0   \n26696                    0.462398            1.20412                0   \n15911                    0.146128            0.00000                0   \n12800                    0.301030            1.20412                0   \n17996                    0.113943            1.20412                0   \n7127                     0.681241            1.20412                0   \n22133                    0.301030            0.00000                0   \n\n            NumTakeAwayPurchases  NumStorePurchases  NumAppVisitsMonth  \\\nCustomerID                                                               \n6185                         0.0                  0                 20   \n5318                         0.0                  0                 20   \n25079                        0.0                  0                 20   \n23297                        0.0                  0                 20   \n34565                        0.0                  0                 19   \n5108                         0.0                  0                 19   \n18872                        0.0                  0                 20   \n13388                        0.0                  0                 20   \n14084                        0.0                  0                 19   \n5366                         0.0                  0                 19   \n31409                        0.0                  0                 20   \n30521                        0.0                  0                 20   \n28061                        0.0                  0                 20   \n10547                        0.0                  0                 20   \n26696                        0.0                  0                 20   \n15911                        0.0                  0                 20   \n12800                        0.0                  0                 20   \n17996                        0.0                  0                 19   \n7127                         0.0                  0                 20   \n22133                        0.0                  0                 20   \n\n            Complain  Gender   MntTotal  Age  daysAsCardClient  Graduation  \\\nCustomerID                                                                   \n6185         0.00000       1   7.341619   32               823           0   \n5318         0.00000       1   4.506911   55               805           0   \n25079        0.00000       1   3.062582   64               942           0   \n23297        0.00000       1   1.968249   43               844           1   \n34565        0.00000       0   8.554158   61               652           0   \n5108         0.00000       1  11.982364   33               400           0   \n18872        0.00000       0   4.141763   40               648           0   \n13388        0.00000       1   5.756517   39               808           0   \n14084        0.00000       1   5.721394   29               354           1   \n5366         0.00000       1   4.363612   48               343           0   \n31409        0.00000       1   7.756011   38               944           1   \n30521        0.00000       0   9.258888   68               491           1   \n28061        0.00000       1   4.038604   44               696           1   \n10547        0.00000       1   6.141660   50               368           1   \n26696        0.00000       1   5.036256   63               286           1   \n15911        0.00000       0   4.451748   35               649           1   \n12800        0.00000       1   5.153174   50               847           0   \n17996        0.00000       1   2.227887   64               292           0   \n7127         0.00000       1   9.046273   37               446           0   \n22133        0.30103       1   7.991319   27               746           0   \n\n            HighSchool  Master  PhD  Married  Single  Widow  Mnt_pday_card  \\\nCustomerID                                                                   \n6185                 0       1    0        1       0      0       0.008921   \n5318                 1       0    0        1       0      0       0.005599   \n25079                0       0    1        1       0      0       0.003251   \n23297                0       0    0        1       0      0       0.002332   \n34565                1       0    0        0       1      0       0.013120   \n5108                 0       0    1        1       0      0       0.029956   \n18872                0       0    1        0       1      0       0.006392   \n13388                1       0    0        1       0      0       0.007124   \n14084                0       0    0        0       1      0       0.016162   \n5366                 0       0    1        0       1      0       0.012722   \n31409                0       0    0        0       0      0       0.008216   \n30521                0       0    0        1       0      0       0.018857   \n28061                0       0    0        0       0      0       0.005803   \n10547                0       0    0        1       0      0       0.016689   \n26696                0       0    0        0       0      0       0.017609   \n15911                0       0    0        0       1      0       0.006859   \n12800                0       0    1        1       0      0       0.006084   \n17996                0       0    1        1       0      0       0.007630   \n7127                 1       0    0        0       0      0       0.020283   \n22133                1       0    0        1       0      0       0.010712   \n\n            Response_Campaigns  Total_Kids  has_Kids        age_bins  \nCustomerID                                                            \n6185                   0.00000           2         1    (29.4, 40.8]  \n5318                   0.00000           0         0    (52.2, 63.6]  \n25079                  0.00000           1         1    (63.6, 75.0]  \n23297                  0.00000           2         1    (40.8, 52.2]  \n34565                  0.30103           2         1    (52.2, 63.6]  \n5108                   0.00000           0         0    (29.4, 40.8]  \n18872                  0.00000           1         1    (29.4, 40.8]  \n13388                  0.00000           1         1    (29.4, 40.8]  \n14084                  0.00000           1         1  (17.943, 29.4]  \n5366                   0.00000           2         1    (40.8, 52.2]  \n31409                  0.00000           1         1    (29.4, 40.8]  \n30521                  0.30103           0         0    (63.6, 75.0]  \n28061                  0.30103           1         1    (40.8, 52.2]  \n10547                  0.00000           0         0    (40.8, 52.2]  \n26696                  0.00000           0         0    (52.2, 63.6]  \n15911                  0.00000           1         1    (29.4, 40.8]  \n12800                  0.00000           4         1    (40.8, 52.2]  \n17996                  0.30103           1         1    (63.6, 75.0]  \n7127                   0.00000           1         1    (29.4, 40.8]  \n22133                  0.00000           1         1  (17.943, 29.4]  ",
      "text/html": "<div>\n<style scoped>\n    .dataframe tbody tr th:only-of-type {\n        vertical-align: middle;\n    }\n\n    .dataframe tbody tr th {\n        vertical-align: top;\n    }\n\n    .dataframe thead th {\n        text-align: right;\n    }\n</style>\n<table border=\"1\" class=\"dataframe\">\n  <thead>\n    <tr style=\"text-align: right;\">\n      <th></th>\n      <th>Name</th>\n      <th>Income</th>\n      <th>Recency</th>\n      <th>MntMeat&amp;Fish</th>\n      <th>MntEntries</th>\n      <th>MntVegan&amp;Vegetarian</th>\n      <th>MntDrinks</th>\n      <th>MntDesserts</th>\n      <th>MntAdditionalRequests</th>\n      <th>NumOfferPurchases</th>\n      <th>NumAppPurchases</th>\n      <th>NumTakeAwayPurchases</th>\n      <th>NumStorePurchases</th>\n      <th>NumAppVisitsMonth</th>\n      <th>Complain</th>\n      <th>Gender</th>\n      <th>MntTotal</th>\n      <th>Age</th>\n      <th>daysAsCardClient</th>\n      <th>Graduation</th>\n      <th>HighSchool</th>\n      <th>Master</th>\n      <th>PhD</th>\n      <th>Married</th>\n      <th>Single</th>\n      <th>Widow</th>\n      <th>Mnt_pday_card</th>\n      <th>Response_Campaigns</th>\n      <th>Total_Kids</th>\n      <th>has_Kids</th>\n      <th>age_bins</th>\n    </tr>\n    <tr>\n      <th>CustomerID</th>\n      <th></th>\n      <th></th>\n      <th></th>\n      <th></th>\n      <th></th>\n      <th></th>\n      <th></th>\n      <th></th>\n      <th></th>\n      <th></th>\n      <th></th>\n      <th></th>\n      <th></th>\n      <th></th>\n      <th></th>\n      <th></th>\n      <th></th>\n      <th></th>\n      <th></th>\n      <th></th>\n      <th></th>\n      <th></th>\n      <th></th>\n      <th></th>\n      <th></th>\n      <th></th>\n      <th></th>\n      <th></th>\n      <th></th>\n      <th></th>\n      <th></th>\n    </tr>\n  </thead>\n  <tbody>\n    <tr>\n      <th>6185</th>\n      <td>Mr. Matt Clarkson</td>\n      <td>4609.6</td>\n      <td>32.0</td>\n      <td>1.301030</td>\n      <td>1.041393</td>\n      <td>1.872156</td>\n      <td>1.041393</td>\n      <td>1.462398</td>\n      <td>0.623249</td>\n      <td>1.20412</td>\n      <td>0</td>\n      <td>0.0</td>\n      <td>0</td>\n      <td>20</td>\n      <td>0.00000</td>\n      <td>1</td>\n      <td>7.341619</td>\n      <td>32</td>\n      <td>823</td>\n      <td>0</td>\n      <td>0</td>\n      <td>1</td>\n      <td>0</td>\n      <td>1</td>\n      <td>0</td>\n      <td>0</td>\n      <td>0.008921</td>\n      <td>0.00000</td>\n      <td>2</td>\n      <td>1</td>\n      <td>(29.4, 40.8]</td>\n    </tr>\n    <tr>\n      <th>5318</th>\n      <td>Mr. Liam MacDonald</td>\n      <td>3005.4</td>\n      <td>16.0</td>\n      <td>0.778151</td>\n      <td>0.954243</td>\n      <td>0.929419</td>\n      <td>0.845098</td>\n      <td>0.698970</td>\n      <td>0.301030</td>\n      <td>0.00000</td>\n      <td>0</td>\n      <td>0.0</td>\n      <td>0</td>\n      <td>20</td>\n      <td>0.00000</td>\n      <td>1</td>\n      <td>4.506911</td>\n      <td>55</td>\n      <td>805</td>\n      <td>0</td>\n      <td>1</td>\n      <td>0</td>\n      <td>0</td>\n      <td>1</td>\n      <td>0</td>\n      <td>0</td>\n      <td>0.005599</td>\n      <td>0.00000</td>\n      <td>0</td>\n      <td>0</td>\n      <td>(52.2, 63.6]</td>\n    </tr>\n    <tr>\n      <th>25079</th>\n      <td>Mr. Harry Dickens</td>\n      <td>5048.0</td>\n      <td>64.0</td>\n      <td>1.146128</td>\n      <td>0.698970</td>\n      <td>0.740363</td>\n      <td>0.000000</td>\n      <td>0.477121</td>\n      <td>0.000000</td>\n      <td>1.20412</td>\n      <td>0</td>\n      <td>0.0</td>\n      <td>0</td>\n      <td>20</td>\n      <td>0.00000</td>\n      <td>1</td>\n      <td>3.062582</td>\n      <td>64</td>\n      <td>942</td>\n      <td>0</td>\n      <td>0</td>\n      <td>0</td>\n      <td>1</td>\n      <td>1</td>\n      <td>0</td>\n      <td>0</td>\n      <td>0.003251</td>\n      <td>0.00000</td>\n      <td>1</td>\n      <td>1</td>\n      <td>(63.6, 75.0]</td>\n    </tr>\n    <tr>\n      <th>23297</th>\n      <td>Mr. Harry Newman</td>\n      <td>3909.6</td>\n      <td>29.0</td>\n      <td>1.113943</td>\n      <td>0.000000</td>\n      <td>0.740363</td>\n      <td>0.000000</td>\n      <td>0.000000</td>\n      <td>0.113943</td>\n      <td>1.20412</td>\n      <td>0</td>\n      <td>0.0</td>\n      <td>0</td>\n      <td>20</td>\n      <td>0.00000</td>\n      <td>1</td>\n      <td>1.968249</td>\n      <td>43</td>\n      <td>844</td>\n      <td>1</td>\n      <td>0</td>\n      <td>0</td>\n      <td>0</td>\n      <td>1</td>\n      <td>0</td>\n      <td>0</td>\n      <td>0.002332</td>\n      <td>0.00000</td>\n      <td>2</td>\n      <td>1</td>\n      <td>(40.8, 52.2]</td>\n    </tr>\n    <tr>\n      <th>34565</th>\n      <td>Miss Jasmine Russell</td>\n      <td>7644.8</td>\n      <td>15.0</td>\n      <td>1.568202</td>\n      <td>0.477121</td>\n      <td>1.966142</td>\n      <td>1.799341</td>\n      <td>1.591065</td>\n      <td>1.152288</td>\n      <td>1.20412</td>\n      <td>0</td>\n      <td>0.0</td>\n      <td>0</td>\n      <td>19</td>\n      <td>0.00000</td>\n      <td>0</td>\n      <td>8.554158</td>\n      <td>61</td>\n      <td>652</td>\n      <td>0</td>\n      <td>1</td>\n      <td>0</td>\n      <td>0</td>\n      <td>0</td>\n      <td>1</td>\n      <td>0</td>\n      <td>0.013120</td>\n      <td>0.30103</td>\n      <td>2</td>\n      <td>1</td>\n      <td>(52.2, 63.6]</td>\n    </tr>\n    <tr>\n      <th>5108</th>\n      <td>Mr. Sebastian Abraham</td>\n      <td>10724.2</td>\n      <td>93.0</td>\n      <td>2.457882</td>\n      <td>2.392697</td>\n      <td>2.583765</td>\n      <td>2.143015</td>\n      <td>1.886491</td>\n      <td>0.518514</td>\n      <td>0.00000</td>\n      <td>0</td>\n      <td>0.0</td>\n      <td>0</td>\n      <td>19</td>\n      <td>0.00000</td>\n      <td>1</td>\n      <td>11.982364</td>\n      <td>33</td>\n      <td>400</td>\n      <td>0</td>\n      <td>0</td>\n      <td>0</td>\n      <td>1</td>\n      <td>1</td>\n      <td>0</td>\n      <td>0</td>\n      <td>0.029956</td>\n      <td>0.00000</td>\n      <td>0</td>\n      <td>0</td>\n      <td>(29.4, 40.8]</td>\n    </tr>\n    <tr>\n      <th>18872</th>\n      <td>Miss Rachel Young</td>\n      <td>3550.0</td>\n      <td>4.0</td>\n      <td>1.544068</td>\n      <td>0.000000</td>\n      <td>1.342423</td>\n      <td>0.698970</td>\n      <td>0.477121</td>\n      <td>0.079181</td>\n      <td>0.00000</td>\n      <td>0</td>\n      <td>0.0</td>\n      <td>0</td>\n      <td>20</td>\n      <td>0.00000</td>\n      <td>0</td>\n      <td>4.141763</td>\n      <td>40</td>\n      <td>648</td>\n      <td>0</td>\n      <td>0</td>\n      <td>0</td>\n      <td>1</td>\n      <td>0</td>\n      <td>1</td>\n      <td>0</td>\n      <td>0.006392</td>\n      <td>0.00000</td>\n      <td>1</td>\n      <td>1</td>\n      <td>(29.4, 40.8]</td>\n    </tr>\n    <tr>\n      <th>13388</th>\n      <td>Mr. Eric Berry</td>\n      <td>4554.8</td>\n      <td>99.0</td>\n      <td>0.778151</td>\n      <td>1.322219</td>\n      <td>1.311754</td>\n      <td>0.698970</td>\n      <td>1.230449</td>\n      <td>0.414973</td>\n      <td>1.20412</td>\n      <td>0</td>\n      <td>0.0</td>\n      <td>0</td>\n      <td>20</td>\n      <td>0.00000</td>\n      <td>1</td>\n      <td>5.756517</td>\n      <td>39</td>\n      <td>808</td>\n      <td>0</td>\n      <td>1</td>\n      <td>0</td>\n      <td>0</td>\n      <td>1</td>\n      <td>0</td>\n      <td>0</td>\n      <td>0.007124</td>\n      <td>0.00000</td>\n      <td>1</td>\n      <td>1</td>\n      <td>(29.4, 40.8]</td>\n    </tr>\n    <tr>\n      <th>14084</th>\n      <td>Mr. Christopher MacLeod</td>\n      <td>5281.3</td>\n      <td>17.0</td>\n      <td>1.079181</td>\n      <td>1.041393</td>\n      <td>1.568202</td>\n      <td>0.845098</td>\n      <td>1.041393</td>\n      <td>0.146128</td>\n      <td>0.00000</td>\n      <td>0</td>\n      <td>0.0</td>\n      <td>0</td>\n      <td>19</td>\n      <td>0.00000</td>\n      <td>1</td>\n      <td>5.721394</td>\n      <td>29</td>\n      <td>354</td>\n      <td>1</td>\n      <td>0</td>\n      <td>0</td>\n      <td>0</td>\n      <td>0</td>\n      <td>1</td>\n      <td>0</td>\n      <td>0.016162</td>\n      <td>0.00000</td>\n      <td>1</td>\n      <td>1</td>\n      <td>(17.943, 29.4]</td>\n    </tr>\n    <tr>\n      <th>5366</th>\n      <td>Mr. Boris Reid</td>\n      <td>6065.1</td>\n      <td>75.0</td>\n      <td>1.602060</td>\n      <td>0.477121</td>\n      <td>1.243038</td>\n      <td>0.000000</td>\n      <td>0.698970</td>\n      <td>0.342423</td>\n      <td>1.20412</td>\n      <td>0</td>\n      <td>0.0</td>\n      <td>0</td>\n      <td>19</td>\n      <td>0.00000</td>\n      <td>1</td>\n      <td>4.363612</td>\n      <td>48</td>\n      <td>343</td>\n      <td>0</td>\n      <td>0</td>\n      <td>0</td>\n      <td>1</td>\n      <td>0</td>\n      <td>1</td>\n      <td>0</td>\n      <td>0.012722</td>\n      <td>0.00000</td>\n      <td>2</td>\n      <td>1</td>\n      <td>(40.8, 52.2]</td>\n    </tr>\n    <tr>\n      <th>31409</th>\n      <td>Mr. Christian Allan</td>\n      <td>3746.5</td>\n      <td>35.0</td>\n      <td>1.518514</td>\n      <td>0.477121</td>\n      <td>1.986772</td>\n      <td>1.397940</td>\n      <td>1.397940</td>\n      <td>0.977724</td>\n      <td>1.20412</td>\n      <td>0</td>\n      <td>0.0</td>\n      <td>0</td>\n      <td>20</td>\n      <td>0.00000</td>\n      <td>1</td>\n      <td>7.756011</td>\n      <td>38</td>\n      <td>944</td>\n      <td>1</td>\n      <td>0</td>\n      <td>0</td>\n      <td>0</td>\n      <td>0</td>\n      <td>0</td>\n      <td>0</td>\n      <td>0.008216</td>\n      <td>0.00000</td>\n      <td>1</td>\n      <td>1</td>\n      <td>(29.4, 40.8]</td>\n    </tr>\n    <tr>\n      <th>30521</th>\n      <td>Miss Stephanie Terry</td>\n      <td>3623.7</td>\n      <td>94.0</td>\n      <td>1.812913</td>\n      <td>1.431364</td>\n      <td>1.703291</td>\n      <td>1.653213</td>\n      <td>1.568202</td>\n      <td>1.089905</td>\n      <td>1.20412</td>\n      <td>0</td>\n      <td>0.0</td>\n      <td>0</td>\n      <td>20</td>\n      <td>0.00000</td>\n      <td>0</td>\n      <td>9.258888</td>\n      <td>68</td>\n      <td>491</td>\n      <td>1</td>\n      <td>0</td>\n      <td>0</td>\n      <td>0</td>\n      <td>1</td>\n      <td>0</td>\n      <td>0</td>\n      <td>0.018857</td>\n      <td>0.30103</td>\n      <td>0</td>\n      <td>0</td>\n      <td>(63.6, 75.0]</td>\n    </tr>\n    <tr>\n      <th>28061</th>\n      <td>Mr. Adam Black</td>\n      <td>3133.7</td>\n      <td>36.0</td>\n      <td>1.505150</td>\n      <td>0.477121</td>\n      <td>1.060698</td>\n      <td>0.000000</td>\n      <td>0.477121</td>\n      <td>0.518514</td>\n      <td>0.00000</td>\n      <td>0</td>\n      <td>0.0</td>\n      <td>0</td>\n      <td>20</td>\n      <td>0.00000</td>\n      <td>1</td>\n      <td>4.038604</td>\n      <td>44</td>\n      <td>696</td>\n      <td>1</td>\n      <td>0</td>\n      <td>0</td>\n      <td>0</td>\n      <td>0</td>\n      <td>0</td>\n      <td>0</td>\n      <td>0.005803</td>\n      <td>0.30103</td>\n      <td>1</td>\n      <td>1</td>\n      <td>(40.8, 52.2]</td>\n    </tr>\n    <tr>\n      <th>10547</th>\n      <td>Mr. Thomas Slater</td>\n      <td>3478.0</td>\n      <td>57.0</td>\n      <td>1.000000</td>\n      <td>1.176091</td>\n      <td>1.531479</td>\n      <td>1.113943</td>\n      <td>1.041393</td>\n      <td>0.278754</td>\n      <td>0.00000</td>\n      <td>0</td>\n      <td>0.0</td>\n      <td>0</td>\n      <td>20</td>\n      <td>0.00000</td>\n      <td>1</td>\n      <td>6.141660</td>\n      <td>50</td>\n      <td>368</td>\n      <td>1</td>\n      <td>0</td>\n      <td>0</td>\n      <td>0</td>\n      <td>1</td>\n      <td>0</td>\n      <td>0</td>\n      <td>0.016689</td>\n      <td>0.00000</td>\n      <td>0</td>\n      <td>0</td>\n      <td>(40.8, 52.2]</td>\n    </tr>\n    <tr>\n      <th>26696</th>\n      <td>Mr. Charles Pullman</td>\n      <td>5171.2</td>\n      <td>89.0</td>\n      <td>0.778151</td>\n      <td>0.000000</td>\n      <td>1.243038</td>\n      <td>1.322219</td>\n      <td>1.230449</td>\n      <td>0.462398</td>\n      <td>1.20412</td>\n      <td>0</td>\n      <td>0.0</td>\n      <td>0</td>\n      <td>20</td>\n      <td>0.00000</td>\n      <td>1</td>\n      <td>5.036256</td>\n      <td>63</td>\n      <td>286</td>\n      <td>1</td>\n      <td>0</td>\n      <td>0</td>\n      <td>0</td>\n      <td>0</td>\n      <td>0</td>\n      <td>0</td>\n      <td>0.017609</td>\n      <td>0.00000</td>\n      <td>0</td>\n      <td>0</td>\n      <td>(52.2, 63.6]</td>\n    </tr>\n    <tr>\n      <th>15911</th>\n      <td>Miss Pippa Underwood</td>\n      <td>4472.2</td>\n      <td>23.0</td>\n      <td>0.698970</td>\n      <td>0.845098</td>\n      <td>0.740363</td>\n      <td>0.845098</td>\n      <td>1.176091</td>\n      <td>0.146128</td>\n      <td>0.00000</td>\n      <td>0</td>\n      <td>0.0</td>\n      <td>0</td>\n      <td>20</td>\n      <td>0.00000</td>\n      <td>0</td>\n      <td>4.451748</td>\n      <td>35</td>\n      <td>649</td>\n      <td>1</td>\n      <td>0</td>\n      <td>0</td>\n      <td>0</td>\n      <td>0</td>\n      <td>1</td>\n      <td>0</td>\n      <td>0.006859</td>\n      <td>0.00000</td>\n      <td>1</td>\n      <td>1</td>\n      <td>(29.4, 40.8]</td>\n    </tr>\n    <tr>\n      <th>12800</th>\n      <td>Mr. Sebastian Paige</td>\n      <td>7175.5</td>\n      <td>53.0</td>\n      <td>1.968483</td>\n      <td>0.000000</td>\n      <td>1.929419</td>\n      <td>0.477121</td>\n      <td>0.477121</td>\n      <td>0.301030</td>\n      <td>1.20412</td>\n      <td>0</td>\n      <td>0.0</td>\n      <td>0</td>\n      <td>20</td>\n      <td>0.00000</td>\n      <td>1</td>\n      <td>5.153174</td>\n      <td>50</td>\n      <td>847</td>\n      <td>0</td>\n      <td>0</td>\n      <td>0</td>\n      <td>1</td>\n      <td>1</td>\n      <td>0</td>\n      <td>0</td>\n      <td>0.006084</td>\n      <td>0.00000</td>\n      <td>4</td>\n      <td>1</td>\n      <td>(40.8, 52.2]</td>\n    </tr>\n    <tr>\n      <th>17996</th>\n      <td>Mr. Paul Peters</td>\n      <td>7507.0</td>\n      <td>97.0</td>\n      <td>1.716003</td>\n      <td>0.000000</td>\n      <td>0.397940</td>\n      <td>0.000000</td>\n      <td>0.000000</td>\n      <td>0.113943</td>\n      <td>1.20412</td>\n      <td>0</td>\n      <td>0.0</td>\n      <td>0</td>\n      <td>19</td>\n      <td>0.00000</td>\n      <td>1</td>\n      <td>2.227887</td>\n      <td>64</td>\n      <td>292</td>\n      <td>0</td>\n      <td>0</td>\n      <td>0</td>\n      <td>1</td>\n      <td>1</td>\n      <td>0</td>\n      <td>0</td>\n      <td>0.007630</td>\n      <td>0.30103</td>\n      <td>1</td>\n      <td>1</td>\n      <td>(63.6, 75.0]</td>\n    </tr>\n    <tr>\n      <th>7127</th>\n      <td>Mr. Joe Chapman</td>\n      <td>6324.3</td>\n      <td>85.0</td>\n      <td>1.633468</td>\n      <td>1.041393</td>\n      <td>2.012837</td>\n      <td>1.851258</td>\n      <td>1.826075</td>\n      <td>0.681241</td>\n      <td>1.20412</td>\n      <td>0</td>\n      <td>0.0</td>\n      <td>0</td>\n      <td>20</td>\n      <td>0.00000</td>\n      <td>1</td>\n      <td>9.046273</td>\n      <td>37</td>\n      <td>446</td>\n      <td>0</td>\n      <td>1</td>\n      <td>0</td>\n      <td>0</td>\n      <td>0</td>\n      <td>0</td>\n      <td>0</td>\n      <td>0.020283</td>\n      <td>0.00000</td>\n      <td>1</td>\n      <td>1</td>\n      <td>(29.4, 40.8]</td>\n    </tr>\n    <tr>\n      <th>22133</th>\n      <td>Mr. Evan Bailey</td>\n      <td>7326.0</td>\n      <td>30.0</td>\n      <td>1.602060</td>\n      <td>1.278754</td>\n      <td>1.585461</td>\n      <td>1.397940</td>\n      <td>1.826075</td>\n      <td>0.301030</td>\n      <td>0.00000</td>\n      <td>0</td>\n      <td>0.0</td>\n      <td>0</td>\n      <td>20</td>\n      <td>0.30103</td>\n      <td>1</td>\n      <td>7.991319</td>\n      <td>27</td>\n      <td>746</td>\n      <td>0</td>\n      <td>1</td>\n      <td>0</td>\n      <td>0</td>\n      <td>1</td>\n      <td>0</td>\n      <td>0</td>\n      <td>0.010712</td>\n      <td>0.00000</td>\n      <td>1</td>\n      <td>1</td>\n      <td>(17.943, 29.4]</td>\n    </tr>\n  </tbody>\n</table>\n</div>"
     },
     "execution_count": 184,
     "metadata": {},
     "output_type": "execute_result"
    }
   ],
   "source": [
    "df[(df[['MntMeat&Fish', 'MntEntries',\n",
    "        'MntVegan&Vegetarian', 'MntDrinks', 'MntDesserts',\n",
    "        'MntAdditionalRequests']].sum(axis = 1) > 0) & (df[['NumAppPurchases', 'NumTakeAwayPurchases', 'NumStorePurchases']].sum(axis = 1) <= 0)]"
   ]
  },
  {
   "cell_type": "code",
   "execution_count": 185,
   "metadata": {
    "collapsed": false
   },
   "outputs": [],
   "source": [
    "# como justificar a atribuição de [0,0,0,0,0,0] às variaveis de monetary?\n",
    "\n",
    "df.loc[(df[['MntMeat&Fish', 'MntEntries',\n",
    "            'MntVegan&Vegetarian', 'MntDrinks', 'MntDesserts',\n",
    "            'MntAdditionalRequests']].sum(axis = 1) > 0) & (df[['NumAppPurchases', 'NumTakeAwayPurchases', 'NumStorePurchases']].sum(axis = 1) <= 0),['MntMeat&Fish','MntEntries','MntVegan&Vegetarian', 'MntDrinks', 'MntDesserts','MntAdditionalRequests']] = [0,0,0,0,0,0]"
   ]
  },
  {
   "cell_type": "code",
   "execution_count": 186,
   "metadata": {
    "collapsed": false
   },
   "outputs": [
    {
     "data": {
      "text/plain": "Empty DataFrame\nColumns: [Name, Income, Recency, MntMeat&Fish, MntEntries, MntVegan&Vegetarian, MntDrinks, MntDesserts, MntAdditionalRequests, NumOfferPurchases, NumAppPurchases, NumTakeAwayPurchases, NumStorePurchases, NumAppVisitsMonth, Complain, Gender, MntTotal, Age, daysAsCardClient, Graduation, HighSchool, Master, PhD, Married, Single, Widow, Mnt_pday_card, Response_Campaigns, Total_Kids, has_Kids, age_bins]\nIndex: []",
      "text/html": "<div>\n<style scoped>\n    .dataframe tbody tr th:only-of-type {\n        vertical-align: middle;\n    }\n\n    .dataframe tbody tr th {\n        vertical-align: top;\n    }\n\n    .dataframe thead th {\n        text-align: right;\n    }\n</style>\n<table border=\"1\" class=\"dataframe\">\n  <thead>\n    <tr style=\"text-align: right;\">\n      <th></th>\n      <th>Name</th>\n      <th>Income</th>\n      <th>Recency</th>\n      <th>MntMeat&amp;Fish</th>\n      <th>MntEntries</th>\n      <th>MntVegan&amp;Vegetarian</th>\n      <th>MntDrinks</th>\n      <th>MntDesserts</th>\n      <th>MntAdditionalRequests</th>\n      <th>NumOfferPurchases</th>\n      <th>NumAppPurchases</th>\n      <th>NumTakeAwayPurchases</th>\n      <th>NumStorePurchases</th>\n      <th>NumAppVisitsMonth</th>\n      <th>Complain</th>\n      <th>Gender</th>\n      <th>MntTotal</th>\n      <th>Age</th>\n      <th>daysAsCardClient</th>\n      <th>Graduation</th>\n      <th>HighSchool</th>\n      <th>Master</th>\n      <th>PhD</th>\n      <th>Married</th>\n      <th>Single</th>\n      <th>Widow</th>\n      <th>Mnt_pday_card</th>\n      <th>Response_Campaigns</th>\n      <th>Total_Kids</th>\n      <th>has_Kids</th>\n      <th>age_bins</th>\n    </tr>\n    <tr>\n      <th>CustomerID</th>\n      <th></th>\n      <th></th>\n      <th></th>\n      <th></th>\n      <th></th>\n      <th></th>\n      <th></th>\n      <th></th>\n      <th></th>\n      <th></th>\n      <th></th>\n      <th></th>\n      <th></th>\n      <th></th>\n      <th></th>\n      <th></th>\n      <th></th>\n      <th></th>\n      <th></th>\n      <th></th>\n      <th></th>\n      <th></th>\n      <th></th>\n      <th></th>\n      <th></th>\n      <th></th>\n      <th></th>\n      <th></th>\n      <th></th>\n      <th></th>\n      <th></th>\n    </tr>\n  </thead>\n  <tbody>\n  </tbody>\n</table>\n</div>"
     },
     "execution_count": 186,
     "metadata": {},
     "output_type": "execute_result"
    }
   ],
   "source": [
    "df[(df[['MntMeat&Fish', 'MntEntries',\n",
    "        'MntVegan&Vegetarian', 'MntDrinks', 'MntDesserts',\n",
    "        'MntAdditionalRequests']].sum(axis = 1) > 0) & (df[['NumAppPurchases', 'NumTakeAwayPurchases', 'NumStorePurchases']].sum(axis = 1) <= 0)] # confirmação do ajuste"
   ]
  },
  {
   "cell_type": "code",
   "execution_count": 187,
   "metadata": {
    "collapsed": false
   },
   "outputs": [
    {
     "data": {
      "text/plain": "                             Name  Income  Recency  MntMeat&Fish  MntEntries  \\\nCustomerID                                                                     \n6185            Mr. Matt Clarkson  4609.6     32.0      0.000000    0.000000   \n12011             Mr. Keith Mills  8503.6     70.0      3.019947    0.000000   \n31391          Mr. Justin Forsyth  9709.1     26.0      2.484300    2.267172   \n25079           Mr. Harry Dickens  5048.0     64.0      0.000000    0.000000   \n23297            Mr. Harry Newman  3909.6     29.0      0.000000    0.000000   \n34565        Miss Jasmine Russell  7644.8     15.0      0.000000    0.000000   \n13388              Mr. Eric Berry  4554.8     99.0      0.000000    0.000000   \n5366               Mr. Boris Reid  6065.1     75.0      0.000000    0.000000   \n31409         Mr. Christian Allan  3746.5     35.0      0.000000    0.000000   \n27335             Mr. Alan Mathis  7984.8     72.0      2.152288    0.477121   \n30521        Miss Stephanie Terry  3623.7     94.0      0.000000    0.000000   \n23030            Miss Lily Gibson  9153.4     74.0      2.120574    1.875061   \n26696         Mr. Charles Pullman  5171.2     89.0      0.000000    0.000000   \n12800         Mr. Sebastian Paige  7175.5     53.0      0.000000    0.000000   \n17996             Mr. Paul Peters  7507.0     97.0      0.000000    0.000000   \n21251       Miss Kimberly Ellison  7298.2     20.0      2.336460    1.322219   \n7127              Mr. Joe Chapman  6324.3     85.0      0.000000    0.000000   \n\n            MntVegan&Vegetarian  MntDrinks  MntDesserts  \\\nCustomerID                                                \n6185                   0.000000   0.000000     0.000000   \n12011                  1.511883   0.000000     0.000000   \n31391                  2.425697   2.232996     1.995635   \n25079                  0.000000   0.000000     0.000000   \n23297                  0.000000   0.000000     0.000000   \n34565                  0.000000   0.000000     0.000000   \n13388                  0.000000   0.000000     0.000000   \n5366                   0.000000   0.000000     0.000000   \n31409                  0.000000   0.000000     0.000000   \n27335                  1.648360   0.000000     1.431364   \n30521                  0.000000   0.000000     0.000000   \n23030                  2.138303   2.004321     1.672098   \n26696                  0.000000   0.000000     0.000000   \n12800                  0.000000   0.000000     0.000000   \n17996                  0.000000   0.000000     0.000000   \n21251                  2.187521   1.113943     1.113943   \n7127                   0.000000   0.000000     0.000000   \n\n            MntAdditionalRequests  NumOfferPurchases  NumAppPurchases  \\\nCustomerID                                                              \n6185                     0.000000            1.20412                0   \n12011                    1.143015            1.20412                0   \n31391                    0.770852            1.20412                0   \n25079                    0.000000            1.20412                0   \n23297                    0.000000            1.20412                0   \n34565                    0.000000            1.20412                0   \n13388                    0.000000            1.20412                0   \n5366                     0.000000            1.20412                0   \n31409                    0.000000            1.20412                0   \n27335                    0.716003            1.20412                1   \n30521                    0.000000            1.20412                0   \n23030                    0.602060            1.20412                0   \n26696                    0.000000            1.20412                0   \n12800                    0.000000            1.20412                0   \n17996                    0.000000            1.20412                0   \n21251                    0.732394            1.20412                1   \n7127                     0.000000            1.20412                0   \n\n            NumTakeAwayPurchases  NumStorePurchases  NumAppVisitsMonth  \\\nCustomerID                                                               \n6185                         0.0                  0                 20   \n12011                        0.0                  1                 20   \n31391                        0.0                  1                 19   \n25079                        0.0                  0                 20   \n23297                        0.0                  0                 20   \n34565                        0.0                  0                 19   \n13388                        0.0                  0                 20   \n5366                         0.0                  0                 19   \n31409                        0.0                  0                 20   \n27335                        0.0                  0                 20   \n30521                        0.0                  0                 20   \n23030                        0.0                  1                 19   \n26696                        0.0                  0                 20   \n12800                        0.0                  0                 20   \n17996                        0.0                  0                 19   \n21251                        0.0                  0                 20   \n7127                         0.0                  0                 20   \n\n            Complain  Gender   MntTotal  Age  daysAsCardClient  Graduation  \\\nCustomerID                                                                   \n6185             0.0       1   7.341619   32               823           0   \n12011            0.0       1   5.674845   56               403           1   \n31391            0.0       1  12.176652   65               432           0   \n25079            0.0       1   3.062582   64               942           0   \n23297            0.0       1   1.968249   43               844           1   \n34565            0.0       0   8.554158   61               652           0   \n13388            0.0       1   5.756517   39               808           0   \n5366             0.0       1   4.363612   48               343           0   \n31409            0.0       1   7.756011   38               944           1   \n27335            0.0       1   6.425137   39               687           1   \n30521            0.0       0   9.258888   68               491           1   \n23030            0.0       0  10.412417   57               462           0   \n26696            0.0       1   5.036256   63               286           1   \n12800            0.0       1   5.153174   50               847           0   \n17996            0.0       1   2.227887   64               292           0   \n21251            0.0       0   8.806480   53               923           1   \n7127             0.0       1   9.046273   37               446           0   \n\n            HighSchool  Master  PhD  Married  Single  Widow  Mnt_pday_card  \\\nCustomerID                                                                   \n6185                 0       1    0        1       0      0       0.008921   \n12011                0       0    0        1       0      0       0.014082   \n31391                0       0    1        0       0      1       0.028187   \n25079                0       0    1        1       0      0       0.003251   \n23297                0       0    0        1       0      0       0.002332   \n34565                1       0    0        0       1      0       0.013120   \n13388                1       0    0        1       0      0       0.007124   \n5366                 0       0    1        0       1      0       0.012722   \n31409                0       0    0        0       0      0       0.008216   \n27335                0       0    0        1       0      0       0.009352   \n30521                0       0    0        1       0      0       0.018857   \n23030                1       0    0        0       1      0       0.022538   \n26696                0       0    0        0       0      0       0.017609   \n12800                0       0    1        1       0      0       0.006084   \n17996                0       0    1        1       0      0       0.007630   \n21251                0       0    0        1       0      0       0.009541   \n7127                 1       0    0        0       0      0       0.020283   \n\n            Response_Campaigns  Total_Kids  has_Kids      age_bins  \nCustomerID                                                          \n6185                   0.00000           2         1  (29.4, 40.8]  \n12011                  0.90309           0         0  (52.2, 63.6]  \n31391                  0.00000           0         0  (63.6, 75.0]  \n25079                  0.00000           1         1  (63.6, 75.0]  \n23297                  0.00000           2         1  (40.8, 52.2]  \n34565                  0.30103           2         1  (52.2, 63.6]  \n13388                  0.00000           1         1  (29.4, 40.8]  \n5366                   0.00000           2         1  (40.8, 52.2]  \n31409                  0.00000           1         1  (29.4, 40.8]  \n27335                  0.00000           2         1  (29.4, 40.8]  \n30521                  0.30103           0         0  (63.6, 75.0]  \n23030                  0.00000           1         1  (52.2, 63.6]  \n26696                  0.00000           0         0  (52.2, 63.6]  \n12800                  0.00000           4         1  (40.8, 52.2]  \n17996                  0.30103           1         1  (63.6, 75.0]  \n21251                  0.00000           1         1  (52.2, 63.6]  \n7127                   0.00000           1         1  (29.4, 40.8]  ",
      "text/html": "<div>\n<style scoped>\n    .dataframe tbody tr th:only-of-type {\n        vertical-align: middle;\n    }\n\n    .dataframe tbody tr th {\n        vertical-align: top;\n    }\n\n    .dataframe thead th {\n        text-align: right;\n    }\n</style>\n<table border=\"1\" class=\"dataframe\">\n  <thead>\n    <tr style=\"text-align: right;\">\n      <th></th>\n      <th>Name</th>\n      <th>Income</th>\n      <th>Recency</th>\n      <th>MntMeat&amp;Fish</th>\n      <th>MntEntries</th>\n      <th>MntVegan&amp;Vegetarian</th>\n      <th>MntDrinks</th>\n      <th>MntDesserts</th>\n      <th>MntAdditionalRequests</th>\n      <th>NumOfferPurchases</th>\n      <th>NumAppPurchases</th>\n      <th>NumTakeAwayPurchases</th>\n      <th>NumStorePurchases</th>\n      <th>NumAppVisitsMonth</th>\n      <th>Complain</th>\n      <th>Gender</th>\n      <th>MntTotal</th>\n      <th>Age</th>\n      <th>daysAsCardClient</th>\n      <th>Graduation</th>\n      <th>HighSchool</th>\n      <th>Master</th>\n      <th>PhD</th>\n      <th>Married</th>\n      <th>Single</th>\n      <th>Widow</th>\n      <th>Mnt_pday_card</th>\n      <th>Response_Campaigns</th>\n      <th>Total_Kids</th>\n      <th>has_Kids</th>\n      <th>age_bins</th>\n    </tr>\n    <tr>\n      <th>CustomerID</th>\n      <th></th>\n      <th></th>\n      <th></th>\n      <th></th>\n      <th></th>\n      <th></th>\n      <th></th>\n      <th></th>\n      <th></th>\n      <th></th>\n      <th></th>\n      <th></th>\n      <th></th>\n      <th></th>\n      <th></th>\n      <th></th>\n      <th></th>\n      <th></th>\n      <th></th>\n      <th></th>\n      <th></th>\n      <th></th>\n      <th></th>\n      <th></th>\n      <th></th>\n      <th></th>\n      <th></th>\n      <th></th>\n      <th></th>\n      <th></th>\n      <th></th>\n    </tr>\n  </thead>\n  <tbody>\n    <tr>\n      <th>6185</th>\n      <td>Mr. Matt Clarkson</td>\n      <td>4609.6</td>\n      <td>32.0</td>\n      <td>0.000000</td>\n      <td>0.000000</td>\n      <td>0.000000</td>\n      <td>0.000000</td>\n      <td>0.000000</td>\n      <td>0.000000</td>\n      <td>1.20412</td>\n      <td>0</td>\n      <td>0.0</td>\n      <td>0</td>\n      <td>20</td>\n      <td>0.0</td>\n      <td>1</td>\n      <td>7.341619</td>\n      <td>32</td>\n      <td>823</td>\n      <td>0</td>\n      <td>0</td>\n      <td>1</td>\n      <td>0</td>\n      <td>1</td>\n      <td>0</td>\n      <td>0</td>\n      <td>0.008921</td>\n      <td>0.00000</td>\n      <td>2</td>\n      <td>1</td>\n      <td>(29.4, 40.8]</td>\n    </tr>\n    <tr>\n      <th>12011</th>\n      <td>Mr. Keith Mills</td>\n      <td>8503.6</td>\n      <td>70.0</td>\n      <td>3.019947</td>\n      <td>0.000000</td>\n      <td>1.511883</td>\n      <td>0.000000</td>\n      <td>0.000000</td>\n      <td>1.143015</td>\n      <td>1.20412</td>\n      <td>0</td>\n      <td>0.0</td>\n      <td>1</td>\n      <td>20</td>\n      <td>0.0</td>\n      <td>1</td>\n      <td>5.674845</td>\n      <td>56</td>\n      <td>403</td>\n      <td>1</td>\n      <td>0</td>\n      <td>0</td>\n      <td>0</td>\n      <td>1</td>\n      <td>0</td>\n      <td>0</td>\n      <td>0.014082</td>\n      <td>0.90309</td>\n      <td>0</td>\n      <td>0</td>\n      <td>(52.2, 63.6]</td>\n    </tr>\n    <tr>\n      <th>31391</th>\n      <td>Mr. Justin Forsyth</td>\n      <td>9709.1</td>\n      <td>26.0</td>\n      <td>2.484300</td>\n      <td>2.267172</td>\n      <td>2.425697</td>\n      <td>2.232996</td>\n      <td>1.995635</td>\n      <td>0.770852</td>\n      <td>1.20412</td>\n      <td>0</td>\n      <td>0.0</td>\n      <td>1</td>\n      <td>19</td>\n      <td>0.0</td>\n      <td>1</td>\n      <td>12.176652</td>\n      <td>65</td>\n      <td>432</td>\n      <td>0</td>\n      <td>0</td>\n      <td>0</td>\n      <td>1</td>\n      <td>0</td>\n      <td>0</td>\n      <td>1</td>\n      <td>0.028187</td>\n      <td>0.00000</td>\n      <td>0</td>\n      <td>0</td>\n      <td>(63.6, 75.0]</td>\n    </tr>\n    <tr>\n      <th>25079</th>\n      <td>Mr. Harry Dickens</td>\n      <td>5048.0</td>\n      <td>64.0</td>\n      <td>0.000000</td>\n      <td>0.000000</td>\n      <td>0.000000</td>\n      <td>0.000000</td>\n      <td>0.000000</td>\n      <td>0.000000</td>\n      <td>1.20412</td>\n      <td>0</td>\n      <td>0.0</td>\n      <td>0</td>\n      <td>20</td>\n      <td>0.0</td>\n      <td>1</td>\n      <td>3.062582</td>\n      <td>64</td>\n      <td>942</td>\n      <td>0</td>\n      <td>0</td>\n      <td>0</td>\n      <td>1</td>\n      <td>1</td>\n      <td>0</td>\n      <td>0</td>\n      <td>0.003251</td>\n      <td>0.00000</td>\n      <td>1</td>\n      <td>1</td>\n      <td>(63.6, 75.0]</td>\n    </tr>\n    <tr>\n      <th>23297</th>\n      <td>Mr. Harry Newman</td>\n      <td>3909.6</td>\n      <td>29.0</td>\n      <td>0.000000</td>\n      <td>0.000000</td>\n      <td>0.000000</td>\n      <td>0.000000</td>\n      <td>0.000000</td>\n      <td>0.000000</td>\n      <td>1.20412</td>\n      <td>0</td>\n      <td>0.0</td>\n      <td>0</td>\n      <td>20</td>\n      <td>0.0</td>\n      <td>1</td>\n      <td>1.968249</td>\n      <td>43</td>\n      <td>844</td>\n      <td>1</td>\n      <td>0</td>\n      <td>0</td>\n      <td>0</td>\n      <td>1</td>\n      <td>0</td>\n      <td>0</td>\n      <td>0.002332</td>\n      <td>0.00000</td>\n      <td>2</td>\n      <td>1</td>\n      <td>(40.8, 52.2]</td>\n    </tr>\n    <tr>\n      <th>34565</th>\n      <td>Miss Jasmine Russell</td>\n      <td>7644.8</td>\n      <td>15.0</td>\n      <td>0.000000</td>\n      <td>0.000000</td>\n      <td>0.000000</td>\n      <td>0.000000</td>\n      <td>0.000000</td>\n      <td>0.000000</td>\n      <td>1.20412</td>\n      <td>0</td>\n      <td>0.0</td>\n      <td>0</td>\n      <td>19</td>\n      <td>0.0</td>\n      <td>0</td>\n      <td>8.554158</td>\n      <td>61</td>\n      <td>652</td>\n      <td>0</td>\n      <td>1</td>\n      <td>0</td>\n      <td>0</td>\n      <td>0</td>\n      <td>1</td>\n      <td>0</td>\n      <td>0.013120</td>\n      <td>0.30103</td>\n      <td>2</td>\n      <td>1</td>\n      <td>(52.2, 63.6]</td>\n    </tr>\n    <tr>\n      <th>13388</th>\n      <td>Mr. Eric Berry</td>\n      <td>4554.8</td>\n      <td>99.0</td>\n      <td>0.000000</td>\n      <td>0.000000</td>\n      <td>0.000000</td>\n      <td>0.000000</td>\n      <td>0.000000</td>\n      <td>0.000000</td>\n      <td>1.20412</td>\n      <td>0</td>\n      <td>0.0</td>\n      <td>0</td>\n      <td>20</td>\n      <td>0.0</td>\n      <td>1</td>\n      <td>5.756517</td>\n      <td>39</td>\n      <td>808</td>\n      <td>0</td>\n      <td>1</td>\n      <td>0</td>\n      <td>0</td>\n      <td>1</td>\n      <td>0</td>\n      <td>0</td>\n      <td>0.007124</td>\n      <td>0.00000</td>\n      <td>1</td>\n      <td>1</td>\n      <td>(29.4, 40.8]</td>\n    </tr>\n    <tr>\n      <th>5366</th>\n      <td>Mr. Boris Reid</td>\n      <td>6065.1</td>\n      <td>75.0</td>\n      <td>0.000000</td>\n      <td>0.000000</td>\n      <td>0.000000</td>\n      <td>0.000000</td>\n      <td>0.000000</td>\n      <td>0.000000</td>\n      <td>1.20412</td>\n      <td>0</td>\n      <td>0.0</td>\n      <td>0</td>\n      <td>19</td>\n      <td>0.0</td>\n      <td>1</td>\n      <td>4.363612</td>\n      <td>48</td>\n      <td>343</td>\n      <td>0</td>\n      <td>0</td>\n      <td>0</td>\n      <td>1</td>\n      <td>0</td>\n      <td>1</td>\n      <td>0</td>\n      <td>0.012722</td>\n      <td>0.00000</td>\n      <td>2</td>\n      <td>1</td>\n      <td>(40.8, 52.2]</td>\n    </tr>\n    <tr>\n      <th>31409</th>\n      <td>Mr. Christian Allan</td>\n      <td>3746.5</td>\n      <td>35.0</td>\n      <td>0.000000</td>\n      <td>0.000000</td>\n      <td>0.000000</td>\n      <td>0.000000</td>\n      <td>0.000000</td>\n      <td>0.000000</td>\n      <td>1.20412</td>\n      <td>0</td>\n      <td>0.0</td>\n      <td>0</td>\n      <td>20</td>\n      <td>0.0</td>\n      <td>1</td>\n      <td>7.756011</td>\n      <td>38</td>\n      <td>944</td>\n      <td>1</td>\n      <td>0</td>\n      <td>0</td>\n      <td>0</td>\n      <td>0</td>\n      <td>0</td>\n      <td>0</td>\n      <td>0.008216</td>\n      <td>0.00000</td>\n      <td>1</td>\n      <td>1</td>\n      <td>(29.4, 40.8]</td>\n    </tr>\n    <tr>\n      <th>27335</th>\n      <td>Mr. Alan Mathis</td>\n      <td>7984.8</td>\n      <td>72.0</td>\n      <td>2.152288</td>\n      <td>0.477121</td>\n      <td>1.648360</td>\n      <td>0.000000</td>\n      <td>1.431364</td>\n      <td>0.716003</td>\n      <td>1.20412</td>\n      <td>1</td>\n      <td>0.0</td>\n      <td>0</td>\n      <td>20</td>\n      <td>0.0</td>\n      <td>1</td>\n      <td>6.425137</td>\n      <td>39</td>\n      <td>687</td>\n      <td>1</td>\n      <td>0</td>\n      <td>0</td>\n      <td>0</td>\n      <td>1</td>\n      <td>0</td>\n      <td>0</td>\n      <td>0.009352</td>\n      <td>0.00000</td>\n      <td>2</td>\n      <td>1</td>\n      <td>(29.4, 40.8]</td>\n    </tr>\n    <tr>\n      <th>30521</th>\n      <td>Miss Stephanie Terry</td>\n      <td>3623.7</td>\n      <td>94.0</td>\n      <td>0.000000</td>\n      <td>0.000000</td>\n      <td>0.000000</td>\n      <td>0.000000</td>\n      <td>0.000000</td>\n      <td>0.000000</td>\n      <td>1.20412</td>\n      <td>0</td>\n      <td>0.0</td>\n      <td>0</td>\n      <td>20</td>\n      <td>0.0</td>\n      <td>0</td>\n      <td>9.258888</td>\n      <td>68</td>\n      <td>491</td>\n      <td>1</td>\n      <td>0</td>\n      <td>0</td>\n      <td>0</td>\n      <td>1</td>\n      <td>0</td>\n      <td>0</td>\n      <td>0.018857</td>\n      <td>0.30103</td>\n      <td>0</td>\n      <td>0</td>\n      <td>(63.6, 75.0]</td>\n    </tr>\n    <tr>\n      <th>23030</th>\n      <td>Miss Lily Gibson</td>\n      <td>9153.4</td>\n      <td>74.0</td>\n      <td>2.120574</td>\n      <td>1.875061</td>\n      <td>2.138303</td>\n      <td>2.004321</td>\n      <td>1.672098</td>\n      <td>0.602060</td>\n      <td>1.20412</td>\n      <td>0</td>\n      <td>0.0</td>\n      <td>1</td>\n      <td>19</td>\n      <td>0.0</td>\n      <td>0</td>\n      <td>10.412417</td>\n      <td>57</td>\n      <td>462</td>\n      <td>0</td>\n      <td>1</td>\n      <td>0</td>\n      <td>0</td>\n      <td>0</td>\n      <td>1</td>\n      <td>0</td>\n      <td>0.022538</td>\n      <td>0.00000</td>\n      <td>1</td>\n      <td>1</td>\n      <td>(52.2, 63.6]</td>\n    </tr>\n    <tr>\n      <th>26696</th>\n      <td>Mr. Charles Pullman</td>\n      <td>5171.2</td>\n      <td>89.0</td>\n      <td>0.000000</td>\n      <td>0.000000</td>\n      <td>0.000000</td>\n      <td>0.000000</td>\n      <td>0.000000</td>\n      <td>0.000000</td>\n      <td>1.20412</td>\n      <td>0</td>\n      <td>0.0</td>\n      <td>0</td>\n      <td>20</td>\n      <td>0.0</td>\n      <td>1</td>\n      <td>5.036256</td>\n      <td>63</td>\n      <td>286</td>\n      <td>1</td>\n      <td>0</td>\n      <td>0</td>\n      <td>0</td>\n      <td>0</td>\n      <td>0</td>\n      <td>0</td>\n      <td>0.017609</td>\n      <td>0.00000</td>\n      <td>0</td>\n      <td>0</td>\n      <td>(52.2, 63.6]</td>\n    </tr>\n    <tr>\n      <th>12800</th>\n      <td>Mr. Sebastian Paige</td>\n      <td>7175.5</td>\n      <td>53.0</td>\n      <td>0.000000</td>\n      <td>0.000000</td>\n      <td>0.000000</td>\n      <td>0.000000</td>\n      <td>0.000000</td>\n      <td>0.000000</td>\n      <td>1.20412</td>\n      <td>0</td>\n      <td>0.0</td>\n      <td>0</td>\n      <td>20</td>\n      <td>0.0</td>\n      <td>1</td>\n      <td>5.153174</td>\n      <td>50</td>\n      <td>847</td>\n      <td>0</td>\n      <td>0</td>\n      <td>0</td>\n      <td>1</td>\n      <td>1</td>\n      <td>0</td>\n      <td>0</td>\n      <td>0.006084</td>\n      <td>0.00000</td>\n      <td>4</td>\n      <td>1</td>\n      <td>(40.8, 52.2]</td>\n    </tr>\n    <tr>\n      <th>17996</th>\n      <td>Mr. Paul Peters</td>\n      <td>7507.0</td>\n      <td>97.0</td>\n      <td>0.000000</td>\n      <td>0.000000</td>\n      <td>0.000000</td>\n      <td>0.000000</td>\n      <td>0.000000</td>\n      <td>0.000000</td>\n      <td>1.20412</td>\n      <td>0</td>\n      <td>0.0</td>\n      <td>0</td>\n      <td>19</td>\n      <td>0.0</td>\n      <td>1</td>\n      <td>2.227887</td>\n      <td>64</td>\n      <td>292</td>\n      <td>0</td>\n      <td>0</td>\n      <td>0</td>\n      <td>1</td>\n      <td>1</td>\n      <td>0</td>\n      <td>0</td>\n      <td>0.007630</td>\n      <td>0.30103</td>\n      <td>1</td>\n      <td>1</td>\n      <td>(63.6, 75.0]</td>\n    </tr>\n    <tr>\n      <th>21251</th>\n      <td>Miss Kimberly Ellison</td>\n      <td>7298.2</td>\n      <td>20.0</td>\n      <td>2.336460</td>\n      <td>1.322219</td>\n      <td>2.187521</td>\n      <td>1.113943</td>\n      <td>1.113943</td>\n      <td>0.732394</td>\n      <td>1.20412</td>\n      <td>1</td>\n      <td>0.0</td>\n      <td>0</td>\n      <td>20</td>\n      <td>0.0</td>\n      <td>0</td>\n      <td>8.806480</td>\n      <td>53</td>\n      <td>923</td>\n      <td>1</td>\n      <td>0</td>\n      <td>0</td>\n      <td>0</td>\n      <td>1</td>\n      <td>0</td>\n      <td>0</td>\n      <td>0.009541</td>\n      <td>0.00000</td>\n      <td>1</td>\n      <td>1</td>\n      <td>(52.2, 63.6]</td>\n    </tr>\n    <tr>\n      <th>7127</th>\n      <td>Mr. Joe Chapman</td>\n      <td>6324.3</td>\n      <td>85.0</td>\n      <td>0.000000</td>\n      <td>0.000000</td>\n      <td>0.000000</td>\n      <td>0.000000</td>\n      <td>0.000000</td>\n      <td>0.000000</td>\n      <td>1.20412</td>\n      <td>0</td>\n      <td>0.0</td>\n      <td>0</td>\n      <td>20</td>\n      <td>0.0</td>\n      <td>1</td>\n      <td>9.046273</td>\n      <td>37</td>\n      <td>446</td>\n      <td>0</td>\n      <td>1</td>\n      <td>0</td>\n      <td>0</td>\n      <td>0</td>\n      <td>0</td>\n      <td>0</td>\n      <td>0.020283</td>\n      <td>0.00000</td>\n      <td>1</td>\n      <td>1</td>\n      <td>(29.4, 40.8]</td>\n    </tr>\n  </tbody>\n</table>\n</div>"
     },
     "execution_count": 187,
     "metadata": {},
     "output_type": "execute_result"
    }
   ],
   "source": [
    "df[(df['NumOfferPurchases'] > df[['NumAppPurchases','NumTakeAwayPurchases','NumStorePurchases']].sum(axis=1))]"
   ]
  },
  {
   "cell_type": "code",
   "execution_count": 188,
   "metadata": {
    "collapsed": false
   },
   "outputs": [],
   "source": [
    "# será esta a abordagem mais acertada, isto é, assumir que todas as compras deste cliente foram \"OfferPurchases\"?\n",
    "\n",
    "df.loc[(df['NumOfferPurchases'] > df[['NumAppPurchases','NumTakeAwayPurchases','NumStorePurchases']].sum(axis=1)),'NumOfferPurchases'] = df['NumAppPurchases'] + df['NumTakeAwayPurchases'] + df['NumStorePurchases']"
   ]
  },
  {
   "cell_type": "code",
   "execution_count": 189,
   "metadata": {
    "collapsed": false
   },
   "outputs": [
    {
     "data": {
      "text/plain": "Empty DataFrame\nColumns: [Name, Income, Recency, MntMeat&Fish, MntEntries, MntVegan&Vegetarian, MntDrinks, MntDesserts, MntAdditionalRequests, NumOfferPurchases, NumAppPurchases, NumTakeAwayPurchases, NumStorePurchases, NumAppVisitsMonth, Complain, Gender, MntTotal, Age, daysAsCardClient, Graduation, HighSchool, Master, PhD, Married, Single, Widow, Mnt_pday_card, Response_Campaigns, Total_Kids, has_Kids, age_bins]\nIndex: []",
      "text/html": "<div>\n<style scoped>\n    .dataframe tbody tr th:only-of-type {\n        vertical-align: middle;\n    }\n\n    .dataframe tbody tr th {\n        vertical-align: top;\n    }\n\n    .dataframe thead th {\n        text-align: right;\n    }\n</style>\n<table border=\"1\" class=\"dataframe\">\n  <thead>\n    <tr style=\"text-align: right;\">\n      <th></th>\n      <th>Name</th>\n      <th>Income</th>\n      <th>Recency</th>\n      <th>MntMeat&amp;Fish</th>\n      <th>MntEntries</th>\n      <th>MntVegan&amp;Vegetarian</th>\n      <th>MntDrinks</th>\n      <th>MntDesserts</th>\n      <th>MntAdditionalRequests</th>\n      <th>NumOfferPurchases</th>\n      <th>NumAppPurchases</th>\n      <th>NumTakeAwayPurchases</th>\n      <th>NumStorePurchases</th>\n      <th>NumAppVisitsMonth</th>\n      <th>Complain</th>\n      <th>Gender</th>\n      <th>MntTotal</th>\n      <th>Age</th>\n      <th>daysAsCardClient</th>\n      <th>Graduation</th>\n      <th>HighSchool</th>\n      <th>Master</th>\n      <th>PhD</th>\n      <th>Married</th>\n      <th>Single</th>\n      <th>Widow</th>\n      <th>Mnt_pday_card</th>\n      <th>Response_Campaigns</th>\n      <th>Total_Kids</th>\n      <th>has_Kids</th>\n      <th>age_bins</th>\n    </tr>\n    <tr>\n      <th>CustomerID</th>\n      <th></th>\n      <th></th>\n      <th></th>\n      <th></th>\n      <th></th>\n      <th></th>\n      <th></th>\n      <th></th>\n      <th></th>\n      <th></th>\n      <th></th>\n      <th></th>\n      <th></th>\n      <th></th>\n      <th></th>\n      <th></th>\n      <th></th>\n      <th></th>\n      <th></th>\n      <th></th>\n      <th></th>\n      <th></th>\n      <th></th>\n      <th></th>\n      <th></th>\n      <th></th>\n      <th></th>\n      <th></th>\n      <th></th>\n      <th></th>\n      <th></th>\n    </tr>\n  </thead>\n  <tbody>\n  </tbody>\n</table>\n</div>"
     },
     "execution_count": 189,
     "metadata": {},
     "output_type": "execute_result"
    }
   ],
   "source": [
    "df[(df['NumOfferPurchases'] > df[['NumAppPurchases','NumTakeAwayPurchases','NumStorePurchases']].sum(axis=1))] # confirmação do ajuste"
   ]
  },
  {
   "cell_type": "markdown",
   "metadata": {
    "collapsed": false
   },
   "source": [
    "## Data Review\n",
    "\n",
    "Ver a dataframe no seu estado final\n",
    "Drop: Id, name, birthyear, date_adherence, total_kids, mntTotal"
   ]
  },
  {
   "cell_type": "code",
   "execution_count": 190,
   "metadata": {
    "collapsed": false
   },
   "outputs": [
    {
     "data": {
      "text/plain": "                          Name    Income  Recency  MntMeat&Fish  MntEntries  \\\nCustomerID                                                                    \n14594          Miss Leah Lewis  113947.0     43.0      3.666612    3.529045   \n19070         Miss Grace Black  114297.0     74.0      3.850095    3.565966   \n29888       Mr. Gavin Morrison  115476.0     85.0      3.616055    2.580925   \n12221          Mr. Ryan Glover  101172.0     25.0      3.555215    0.000000   \n21107        Mr. Paul Anderson  123128.0     64.0      3.731669    3.051924   \n\n            MntVegan&Vegetarian  MntDrinks  MntDesserts  \\\nCustomerID                                                \n14594                  3.755951   3.350442     2.750508   \n19070                  3.882012   3.265054     3.086716   \n29888                  3.689398   3.561221     2.580925   \n12221                  3.248219   1.908485     2.257679   \n21107                  3.977541   2.817565     2.750508   \n\n            MntAdditionalRequests  NumOfferPurchases  NumAppPurchases  \\\nCustomerID                                                              \n14594                    2.190332           0.477121               10   \n19070                    1.672098           0.301030                5   \n29888                    1.462398           0.301030                5   \n12221                    1.176091           0.778151                8   \n21107                    1.875061           0.000000                4   \n\n            NumTakeAwayPurchases  NumStorePurchases  NumAppVisitsMonth  \\\nCustomerID                                                               \n14594                   0.903090                  7                  4   \n19070                   1.000000                 12                  2   \n29888                   0.778151                  7                  1   \n12221                   0.602060                  8                  5   \n21107                   0.903090                  8                  5   \n\n            Complain  Gender   MntTotal  Age  daysAsCardClient  Graduation  \\\nCustomerID                                                                   \n14594            0.0       0  19.242890   42               822           1   \n19070            0.0       0  19.321940   49               731           1   \n29888            0.0       1  17.490921   63               454           0   \n12221            0.0       1  12.145689   43               546           1   \n21107            0.0       1  18.204269   52               851           0   \n\n            HighSchool  Master  PhD  Married  Single  Widow  Mnt_pday_card  \\\nCustomerID                                                                   \n14594                0       0    0        0       1      0       0.023410   \n19070                0       0    0        1       0      0       0.026432   \n29888                0       0    1        1       0      0       0.038526   \n12221                0       0    0        1       0      0       0.022245   \n21107                1       0    0        0       1      0       0.021392   \n\n            Response_Campaigns  Total_Kids  has_Kids      age_bins  \nCustomerID                                                          \n14594                  0.30103           0         0  (40.8, 52.2]  \n19070                  0.00000           0         0  (40.8, 52.2]  \n29888                  0.00000           0         0  (52.2, 63.6]  \n12221                  0.00000           2         1  (40.8, 52.2]  \n21107                  0.60206           0         0  (40.8, 52.2]  ",
      "text/html": "<div>\n<style scoped>\n    .dataframe tbody tr th:only-of-type {\n        vertical-align: middle;\n    }\n\n    .dataframe tbody tr th {\n        vertical-align: top;\n    }\n\n    .dataframe thead th {\n        text-align: right;\n    }\n</style>\n<table border=\"1\" class=\"dataframe\">\n  <thead>\n    <tr style=\"text-align: right;\">\n      <th></th>\n      <th>Name</th>\n      <th>Income</th>\n      <th>Recency</th>\n      <th>MntMeat&amp;Fish</th>\n      <th>MntEntries</th>\n      <th>MntVegan&amp;Vegetarian</th>\n      <th>MntDrinks</th>\n      <th>MntDesserts</th>\n      <th>MntAdditionalRequests</th>\n      <th>NumOfferPurchases</th>\n      <th>NumAppPurchases</th>\n      <th>NumTakeAwayPurchases</th>\n      <th>NumStorePurchases</th>\n      <th>NumAppVisitsMonth</th>\n      <th>Complain</th>\n      <th>Gender</th>\n      <th>MntTotal</th>\n      <th>Age</th>\n      <th>daysAsCardClient</th>\n      <th>Graduation</th>\n      <th>HighSchool</th>\n      <th>Master</th>\n      <th>PhD</th>\n      <th>Married</th>\n      <th>Single</th>\n      <th>Widow</th>\n      <th>Mnt_pday_card</th>\n      <th>Response_Campaigns</th>\n      <th>Total_Kids</th>\n      <th>has_Kids</th>\n      <th>age_bins</th>\n    </tr>\n    <tr>\n      <th>CustomerID</th>\n      <th></th>\n      <th></th>\n      <th></th>\n      <th></th>\n      <th></th>\n      <th></th>\n      <th></th>\n      <th></th>\n      <th></th>\n      <th></th>\n      <th></th>\n      <th></th>\n      <th></th>\n      <th></th>\n      <th></th>\n      <th></th>\n      <th></th>\n      <th></th>\n      <th></th>\n      <th></th>\n      <th></th>\n      <th></th>\n      <th></th>\n      <th></th>\n      <th></th>\n      <th></th>\n      <th></th>\n      <th></th>\n      <th></th>\n      <th></th>\n      <th></th>\n    </tr>\n  </thead>\n  <tbody>\n    <tr>\n      <th>14594</th>\n      <td>Miss Leah Lewis</td>\n      <td>113947.0</td>\n      <td>43.0</td>\n      <td>3.666612</td>\n      <td>3.529045</td>\n      <td>3.755951</td>\n      <td>3.350442</td>\n      <td>2.750508</td>\n      <td>2.190332</td>\n      <td>0.477121</td>\n      <td>10</td>\n      <td>0.903090</td>\n      <td>7</td>\n      <td>4</td>\n      <td>0.0</td>\n      <td>0</td>\n      <td>19.242890</td>\n      <td>42</td>\n      <td>822</td>\n      <td>1</td>\n      <td>0</td>\n      <td>0</td>\n      <td>0</td>\n      <td>0</td>\n      <td>1</td>\n      <td>0</td>\n      <td>0.023410</td>\n      <td>0.30103</td>\n      <td>0</td>\n      <td>0</td>\n      <td>(40.8, 52.2]</td>\n    </tr>\n    <tr>\n      <th>19070</th>\n      <td>Miss Grace Black</td>\n      <td>114297.0</td>\n      <td>74.0</td>\n      <td>3.850095</td>\n      <td>3.565966</td>\n      <td>3.882012</td>\n      <td>3.265054</td>\n      <td>3.086716</td>\n      <td>1.672098</td>\n      <td>0.301030</td>\n      <td>5</td>\n      <td>1.000000</td>\n      <td>12</td>\n      <td>2</td>\n      <td>0.0</td>\n      <td>0</td>\n      <td>19.321940</td>\n      <td>49</td>\n      <td>731</td>\n      <td>1</td>\n      <td>0</td>\n      <td>0</td>\n      <td>0</td>\n      <td>1</td>\n      <td>0</td>\n      <td>0</td>\n      <td>0.026432</td>\n      <td>0.00000</td>\n      <td>0</td>\n      <td>0</td>\n      <td>(40.8, 52.2]</td>\n    </tr>\n    <tr>\n      <th>29888</th>\n      <td>Mr. Gavin Morrison</td>\n      <td>115476.0</td>\n      <td>85.0</td>\n      <td>3.616055</td>\n      <td>2.580925</td>\n      <td>3.689398</td>\n      <td>3.561221</td>\n      <td>2.580925</td>\n      <td>1.462398</td>\n      <td>0.301030</td>\n      <td>5</td>\n      <td>0.778151</td>\n      <td>7</td>\n      <td>1</td>\n      <td>0.0</td>\n      <td>1</td>\n      <td>17.490921</td>\n      <td>63</td>\n      <td>454</td>\n      <td>0</td>\n      <td>0</td>\n      <td>0</td>\n      <td>1</td>\n      <td>1</td>\n      <td>0</td>\n      <td>0</td>\n      <td>0.038526</td>\n      <td>0.00000</td>\n      <td>0</td>\n      <td>0</td>\n      <td>(52.2, 63.6]</td>\n    </tr>\n    <tr>\n      <th>12221</th>\n      <td>Mr. Ryan Glover</td>\n      <td>101172.0</td>\n      <td>25.0</td>\n      <td>3.555215</td>\n      <td>0.000000</td>\n      <td>3.248219</td>\n      <td>1.908485</td>\n      <td>2.257679</td>\n      <td>1.176091</td>\n      <td>0.778151</td>\n      <td>8</td>\n      <td>0.602060</td>\n      <td>8</td>\n      <td>5</td>\n      <td>0.0</td>\n      <td>1</td>\n      <td>12.145689</td>\n      <td>43</td>\n      <td>546</td>\n      <td>1</td>\n      <td>0</td>\n      <td>0</td>\n      <td>0</td>\n      <td>1</td>\n      <td>0</td>\n      <td>0</td>\n      <td>0.022245</td>\n      <td>0.00000</td>\n      <td>2</td>\n      <td>1</td>\n      <td>(40.8, 52.2]</td>\n    </tr>\n    <tr>\n      <th>21107</th>\n      <td>Mr. Paul Anderson</td>\n      <td>123128.0</td>\n      <td>64.0</td>\n      <td>3.731669</td>\n      <td>3.051924</td>\n      <td>3.977541</td>\n      <td>2.817565</td>\n      <td>2.750508</td>\n      <td>1.875061</td>\n      <td>0.000000</td>\n      <td>4</td>\n      <td>0.903090</td>\n      <td>8</td>\n      <td>5</td>\n      <td>0.0</td>\n      <td>1</td>\n      <td>18.204269</td>\n      <td>52</td>\n      <td>851</td>\n      <td>0</td>\n      <td>1</td>\n      <td>0</td>\n      <td>0</td>\n      <td>0</td>\n      <td>1</td>\n      <td>0</td>\n      <td>0.021392</td>\n      <td>0.60206</td>\n      <td>0</td>\n      <td>0</td>\n      <td>(40.8, 52.2]</td>\n    </tr>\n  </tbody>\n</table>\n</div>"
     },
     "execution_count": 190,
     "metadata": {},
     "output_type": "execute_result"
    }
   ],
   "source": [
    "df.head()"
   ]
  },
  {
   "cell_type": "code",
   "execution_count": 191,
   "metadata": {
    "collapsed": false
   },
   "outputs": [
    {
     "data": {
      "text/plain": "              Income      Recency  MntMeat&Fish   MntEntries  \\\ncount    6884.000000  6884.000000   6884.000000  6884.000000   \nmean    76141.811069    49.202886      3.022627     2.030261   \nstd     30999.688896    28.856545      0.838659     1.075018   \nmin      2493.800000     0.000000      0.000000     0.000000   \n25%     51266.500000    24.000000      2.416641     1.612784   \n50%     76546.500000    49.000000      3.272074     2.257679   \n75%    101052.750000    74.000000      3.707655     2.839792   \nmax    153703.000000    99.000000      4.175541     3.599992   \n\n       MntVegan&Vegetarian    MntDrinks  MntDesserts  MntAdditionalRequests  \\\ncount          6884.000000  6884.000000  6884.000000            6884.000000   \nmean              2.968492     2.029535     2.027266               1.357073   \nstd               0.717287     1.082055     1.079144               0.549658   \nmin               0.000000     0.000000     0.000000               0.000000   \n25%               2.382017     1.612784     1.612784               1.000000   \n50%               3.039811     2.257679     2.257679               1.397940   \n75%               3.558678     2.845718     2.833783               1.770852   \nmax               4.160198     3.599992     3.599992               2.397940   \n\n       NumOfferPurchases  NumAppPurchases  NumTakeAwayPurchases  \\\ncount        6884.000000      6884.000000           6884.000000   \nmean            0.470617         6.095729              0.600230   \nstd             0.207293         2.682044              0.247088   \nmin             0.000000         0.000000              0.000000   \n25%             0.301030         4.000000              0.301030   \n50%             0.477121         6.000000              0.602060   \n75%             0.602060         8.000000              0.778151   \nmax             1.230449        13.000000              1.397940   \n\n       NumStorePurchases  NumAppVisitsMonth     Complain       Gender  \\\ncount        6884.000000        6884.000000  6884.000000  6884.000000   \nmean            5.865195           5.354445     0.003061     0.733004   \nstd             3.253601           2.705270     0.030203     0.442422   \nmin             0.000000           0.000000     0.000000     0.000000   \n25%             3.000000           3.000000     0.000000     0.000000   \n50%             5.000000           6.000000     0.000000     1.000000   \n75%             8.000000           7.000000     0.000000     1.000000   \nmax            13.000000          20.000000     0.301030     1.000000   \n\n          MntTotal          Age  daysAsCardClient   Graduation   HighSchool  \\\ncount  6884.000000  6884.000000       6884.000000  6884.000000  6884.000000   \nmean     13.452468    46.534282        632.594567     0.502324     0.095439   \nstd       4.196910    11.992327        202.920394     0.500031     0.293841   \nmin       1.968249    18.000000        286.000000     0.000000     0.000000   \n25%      10.308203    38.000000        457.000000     0.000000     0.000000   \n50%      13.812267    46.000000        627.000000     1.000000     0.000000   \n75%      17.253992    56.000000        808.000000     1.000000     0.000000   \nmax      20.776802    75.000000        985.000000     1.000000     1.000000   \n\n            Master          PhD      Married       Single        Widow  \\\ncount  6884.000000  6884.000000  6884.000000  6884.000000  6884.000000   \nmean      0.162987     0.213829     0.653690     0.220366     0.034282   \nstd       0.369380     0.410037     0.475828     0.414524     0.181967   \nmin       0.000000     0.000000     0.000000     0.000000     0.000000   \n25%       0.000000     0.000000     0.000000     0.000000     0.000000   \n50%       0.000000     0.000000     1.000000     0.000000     0.000000   \n75%       0.000000     0.000000     1.000000     0.000000     0.000000   \nmax       1.000000     1.000000     1.000000     1.000000     1.000000   \n\n       Mnt_pday_card  Response_Campaigns   Total_Kids     has_Kids  \ncount    6884.000000         6884.000000  6884.000000  6884.000000  \nmean        0.023505            0.094455     0.932162     0.704678  \nstd         0.010890            0.204300     0.752672     0.456221  \nmin         0.002332            0.000000     0.000000     0.000000  \n25%         0.016012            0.000000     0.000000     0.000000  \n50%         0.021120            0.000000     1.000000     1.000000  \n75%         0.028800            0.000000     1.000000     1.000000  \nmax         0.066812            1.204120     4.000000     1.000000  ",
      "text/html": "<div>\n<style scoped>\n    .dataframe tbody tr th:only-of-type {\n        vertical-align: middle;\n    }\n\n    .dataframe tbody tr th {\n        vertical-align: top;\n    }\n\n    .dataframe thead th {\n        text-align: right;\n    }\n</style>\n<table border=\"1\" class=\"dataframe\">\n  <thead>\n    <tr style=\"text-align: right;\">\n      <th></th>\n      <th>Income</th>\n      <th>Recency</th>\n      <th>MntMeat&amp;Fish</th>\n      <th>MntEntries</th>\n      <th>MntVegan&amp;Vegetarian</th>\n      <th>MntDrinks</th>\n      <th>MntDesserts</th>\n      <th>MntAdditionalRequests</th>\n      <th>NumOfferPurchases</th>\n      <th>NumAppPurchases</th>\n      <th>NumTakeAwayPurchases</th>\n      <th>NumStorePurchases</th>\n      <th>NumAppVisitsMonth</th>\n      <th>Complain</th>\n      <th>Gender</th>\n      <th>MntTotal</th>\n      <th>Age</th>\n      <th>daysAsCardClient</th>\n      <th>Graduation</th>\n      <th>HighSchool</th>\n      <th>Master</th>\n      <th>PhD</th>\n      <th>Married</th>\n      <th>Single</th>\n      <th>Widow</th>\n      <th>Mnt_pday_card</th>\n      <th>Response_Campaigns</th>\n      <th>Total_Kids</th>\n      <th>has_Kids</th>\n    </tr>\n  </thead>\n  <tbody>\n    <tr>\n      <th>count</th>\n      <td>6884.000000</td>\n      <td>6884.000000</td>\n      <td>6884.000000</td>\n      <td>6884.000000</td>\n      <td>6884.000000</td>\n      <td>6884.000000</td>\n      <td>6884.000000</td>\n      <td>6884.000000</td>\n      <td>6884.000000</td>\n      <td>6884.000000</td>\n      <td>6884.000000</td>\n      <td>6884.000000</td>\n      <td>6884.000000</td>\n      <td>6884.000000</td>\n      <td>6884.000000</td>\n      <td>6884.000000</td>\n      <td>6884.000000</td>\n      <td>6884.000000</td>\n      <td>6884.000000</td>\n      <td>6884.000000</td>\n      <td>6884.000000</td>\n      <td>6884.000000</td>\n      <td>6884.000000</td>\n      <td>6884.000000</td>\n      <td>6884.000000</td>\n      <td>6884.000000</td>\n      <td>6884.000000</td>\n      <td>6884.000000</td>\n      <td>6884.000000</td>\n    </tr>\n    <tr>\n      <th>mean</th>\n      <td>76141.811069</td>\n      <td>49.202886</td>\n      <td>3.022627</td>\n      <td>2.030261</td>\n      <td>2.968492</td>\n      <td>2.029535</td>\n      <td>2.027266</td>\n      <td>1.357073</td>\n      <td>0.470617</td>\n      <td>6.095729</td>\n      <td>0.600230</td>\n      <td>5.865195</td>\n      <td>5.354445</td>\n      <td>0.003061</td>\n      <td>0.733004</td>\n      <td>13.452468</td>\n      <td>46.534282</td>\n      <td>632.594567</td>\n      <td>0.502324</td>\n      <td>0.095439</td>\n      <td>0.162987</td>\n      <td>0.213829</td>\n      <td>0.653690</td>\n      <td>0.220366</td>\n      <td>0.034282</td>\n      <td>0.023505</td>\n      <td>0.094455</td>\n      <td>0.932162</td>\n      <td>0.704678</td>\n    </tr>\n    <tr>\n      <th>std</th>\n      <td>30999.688896</td>\n      <td>28.856545</td>\n      <td>0.838659</td>\n      <td>1.075018</td>\n      <td>0.717287</td>\n      <td>1.082055</td>\n      <td>1.079144</td>\n      <td>0.549658</td>\n      <td>0.207293</td>\n      <td>2.682044</td>\n      <td>0.247088</td>\n      <td>3.253601</td>\n      <td>2.705270</td>\n      <td>0.030203</td>\n      <td>0.442422</td>\n      <td>4.196910</td>\n      <td>11.992327</td>\n      <td>202.920394</td>\n      <td>0.500031</td>\n      <td>0.293841</td>\n      <td>0.369380</td>\n      <td>0.410037</td>\n      <td>0.475828</td>\n      <td>0.414524</td>\n      <td>0.181967</td>\n      <td>0.010890</td>\n      <td>0.204300</td>\n      <td>0.752672</td>\n      <td>0.456221</td>\n    </tr>\n    <tr>\n      <th>min</th>\n      <td>2493.800000</td>\n      <td>0.000000</td>\n      <td>0.000000</td>\n      <td>0.000000</td>\n      <td>0.000000</td>\n      <td>0.000000</td>\n      <td>0.000000</td>\n      <td>0.000000</td>\n      <td>0.000000</td>\n      <td>0.000000</td>\n      <td>0.000000</td>\n      <td>0.000000</td>\n      <td>0.000000</td>\n      <td>0.000000</td>\n      <td>0.000000</td>\n      <td>1.968249</td>\n      <td>18.000000</td>\n      <td>286.000000</td>\n      <td>0.000000</td>\n      <td>0.000000</td>\n      <td>0.000000</td>\n      <td>0.000000</td>\n      <td>0.000000</td>\n      <td>0.000000</td>\n      <td>0.000000</td>\n      <td>0.002332</td>\n      <td>0.000000</td>\n      <td>0.000000</td>\n      <td>0.000000</td>\n    </tr>\n    <tr>\n      <th>25%</th>\n      <td>51266.500000</td>\n      <td>24.000000</td>\n      <td>2.416641</td>\n      <td>1.612784</td>\n      <td>2.382017</td>\n      <td>1.612784</td>\n      <td>1.612784</td>\n      <td>1.000000</td>\n      <td>0.301030</td>\n      <td>4.000000</td>\n      <td>0.301030</td>\n      <td>3.000000</td>\n      <td>3.000000</td>\n      <td>0.000000</td>\n      <td>0.000000</td>\n      <td>10.308203</td>\n      <td>38.000000</td>\n      <td>457.000000</td>\n      <td>0.000000</td>\n      <td>0.000000</td>\n      <td>0.000000</td>\n      <td>0.000000</td>\n      <td>0.000000</td>\n      <td>0.000000</td>\n      <td>0.000000</td>\n      <td>0.016012</td>\n      <td>0.000000</td>\n      <td>0.000000</td>\n      <td>0.000000</td>\n    </tr>\n    <tr>\n      <th>50%</th>\n      <td>76546.500000</td>\n      <td>49.000000</td>\n      <td>3.272074</td>\n      <td>2.257679</td>\n      <td>3.039811</td>\n      <td>2.257679</td>\n      <td>2.257679</td>\n      <td>1.397940</td>\n      <td>0.477121</td>\n      <td>6.000000</td>\n      <td>0.602060</td>\n      <td>5.000000</td>\n      <td>6.000000</td>\n      <td>0.000000</td>\n      <td>1.000000</td>\n      <td>13.812267</td>\n      <td>46.000000</td>\n      <td>627.000000</td>\n      <td>1.000000</td>\n      <td>0.000000</td>\n      <td>0.000000</td>\n      <td>0.000000</td>\n      <td>1.000000</td>\n      <td>0.000000</td>\n      <td>0.000000</td>\n      <td>0.021120</td>\n      <td>0.000000</td>\n      <td>1.000000</td>\n      <td>1.000000</td>\n    </tr>\n    <tr>\n      <th>75%</th>\n      <td>101052.750000</td>\n      <td>74.000000</td>\n      <td>3.707655</td>\n      <td>2.839792</td>\n      <td>3.558678</td>\n      <td>2.845718</td>\n      <td>2.833783</td>\n      <td>1.770852</td>\n      <td>0.602060</td>\n      <td>8.000000</td>\n      <td>0.778151</td>\n      <td>8.000000</td>\n      <td>7.000000</td>\n      <td>0.000000</td>\n      <td>1.000000</td>\n      <td>17.253992</td>\n      <td>56.000000</td>\n      <td>808.000000</td>\n      <td>1.000000</td>\n      <td>0.000000</td>\n      <td>0.000000</td>\n      <td>0.000000</td>\n      <td>1.000000</td>\n      <td>0.000000</td>\n      <td>0.000000</td>\n      <td>0.028800</td>\n      <td>0.000000</td>\n      <td>1.000000</td>\n      <td>1.000000</td>\n    </tr>\n    <tr>\n      <th>max</th>\n      <td>153703.000000</td>\n      <td>99.000000</td>\n      <td>4.175541</td>\n      <td>3.599992</td>\n      <td>4.160198</td>\n      <td>3.599992</td>\n      <td>3.599992</td>\n      <td>2.397940</td>\n      <td>1.230449</td>\n      <td>13.000000</td>\n      <td>1.397940</td>\n      <td>13.000000</td>\n      <td>20.000000</td>\n      <td>0.301030</td>\n      <td>1.000000</td>\n      <td>20.776802</td>\n      <td>75.000000</td>\n      <td>985.000000</td>\n      <td>1.000000</td>\n      <td>1.000000</td>\n      <td>1.000000</td>\n      <td>1.000000</td>\n      <td>1.000000</td>\n      <td>1.000000</td>\n      <td>1.000000</td>\n      <td>0.066812</td>\n      <td>1.204120</td>\n      <td>4.000000</td>\n      <td>1.000000</td>\n    </tr>\n  </tbody>\n</table>\n</div>"
     },
     "execution_count": 191,
     "metadata": {},
     "output_type": "execute_result"
    }
   ],
   "source": [
    "df.describe()"
   ]
  },
  {
   "cell_type": "code",
   "execution_count": 192,
   "metadata": {
    "collapsed": false
   },
   "outputs": [],
   "source": [
    "df_train= df.copy()\n",
    "df_train.drop(['Name'], axis = 1, inplace = True)"
   ]
  },
  {
   "cell_type": "code",
   "execution_count": 193,
   "metadata": {
    "collapsed": false
   },
   "outputs": [
    {
     "data": {
      "text/plain": "Income                   0\nRecency                  0\nMntMeat&Fish             0\nMntEntries               0\nMntVegan&Vegetarian      0\nMntDrinks                0\nMntDesserts              0\nMntAdditionalRequests    0\nNumOfferPurchases        0\nNumAppPurchases          0\nNumTakeAwayPurchases     0\nNumStorePurchases        0\nNumAppVisitsMonth        0\nComplain                 0\nGender                   0\nMntTotal                 0\nAge                      0\ndaysAsCardClient         0\nGraduation               0\nHighSchool               0\nMaster                   0\nPhD                      0\nMarried                  0\nSingle                   0\nWidow                    0\nMnt_pday_card            0\nResponse_Campaigns       0\nTotal_Kids               0\nhas_Kids                 0\nage_bins                 0\ndtype: int64"
     },
     "execution_count": 193,
     "metadata": {},
     "output_type": "execute_result"
    }
   ],
   "source": [
    "df_train.isna().sum()"
   ]
  },
  {
   "cell_type": "markdown",
   "metadata": {
    "collapsed": false
   },
   "source": [
    "## Data scaling\n",
    "min max: income, recency, mnt..., purchases ..., age, daysasClient, mnt per ..."
   ]
  },
  {
   "cell_type": "code",
   "execution_count": 194,
   "metadata": {
    "collapsed": false
   },
   "outputs": [
    {
     "ename": "TypeError",
     "evalue": "float() argument must be a string or a number, not 'pandas._libs.interval.Interval'",
     "output_type": "error",
     "traceback": [
      "\u001B[0;31m---------------------------------------------------------------------------\u001B[0m",
      "\u001B[0;31mTypeError\u001B[0m                                 Traceback (most recent call last)",
      "\u001B[0;32m/var/folders/gt/lg95g0n95mqdr3vk5d1k062h0000gn/T/ipykernel_37366/2975059660.py\u001B[0m in \u001B[0;36m<module>\u001B[0;34m\u001B[0m\n\u001B[1;32m      1\u001B[0m \u001B[0mscaler\u001B[0m \u001B[0;34m=\u001B[0m \u001B[0mMinMaxScaler\u001B[0m\u001B[0;34m(\u001B[0m\u001B[0;34m)\u001B[0m\u001B[0;34m\u001B[0m\u001B[0;34m\u001B[0m\u001B[0m\n\u001B[0;32m----> 2\u001B[0;31m \u001B[0mdf_train\u001B[0m \u001B[0;34m=\u001B[0m \u001B[0mpd\u001B[0m\u001B[0;34m.\u001B[0m\u001B[0mDataFrame\u001B[0m\u001B[0;34m(\u001B[0m\u001B[0mscaler\u001B[0m\u001B[0;34m.\u001B[0m\u001B[0mfit_transform\u001B[0m\u001B[0;34m(\u001B[0m\u001B[0mdf_train\u001B[0m\u001B[0;34m)\u001B[0m\u001B[0;34m)\u001B[0m\u001B[0;34m\u001B[0m\u001B[0;34m\u001B[0m\u001B[0m\n\u001B[0m\u001B[1;32m      3\u001B[0m \u001B[0;31m#df_train.describe()\u001B[0m\u001B[0;34m\u001B[0m\u001B[0;34m\u001B[0m\u001B[0m\n",
      "\u001B[0;32m~/opt/anaconda3/lib/python3.9/site-packages/sklearn/base.py\u001B[0m in \u001B[0;36mfit_transform\u001B[0;34m(self, X, y, **fit_params)\u001B[0m\n\u001B[1;32m    850\u001B[0m         \u001B[0;32mif\u001B[0m \u001B[0my\u001B[0m \u001B[0;32mis\u001B[0m \u001B[0;32mNone\u001B[0m\u001B[0;34m:\u001B[0m\u001B[0;34m\u001B[0m\u001B[0;34m\u001B[0m\u001B[0m\n\u001B[1;32m    851\u001B[0m             \u001B[0;31m# fit method of arity 1 (unsupervised transformation)\u001B[0m\u001B[0;34m\u001B[0m\u001B[0;34m\u001B[0m\u001B[0m\n\u001B[0;32m--> 852\u001B[0;31m             \u001B[0;32mreturn\u001B[0m \u001B[0mself\u001B[0m\u001B[0;34m.\u001B[0m\u001B[0mfit\u001B[0m\u001B[0;34m(\u001B[0m\u001B[0mX\u001B[0m\u001B[0;34m,\u001B[0m \u001B[0;34m**\u001B[0m\u001B[0mfit_params\u001B[0m\u001B[0;34m)\u001B[0m\u001B[0;34m.\u001B[0m\u001B[0mtransform\u001B[0m\u001B[0;34m(\u001B[0m\u001B[0mX\u001B[0m\u001B[0;34m)\u001B[0m\u001B[0;34m\u001B[0m\u001B[0;34m\u001B[0m\u001B[0m\n\u001B[0m\u001B[1;32m    853\u001B[0m         \u001B[0;32melse\u001B[0m\u001B[0;34m:\u001B[0m\u001B[0;34m\u001B[0m\u001B[0;34m\u001B[0m\u001B[0m\n\u001B[1;32m    854\u001B[0m             \u001B[0;31m# fit method of arity 2 (supervised transformation)\u001B[0m\u001B[0;34m\u001B[0m\u001B[0;34m\u001B[0m\u001B[0m\n",
      "\u001B[0;32m~/opt/anaconda3/lib/python3.9/site-packages/sklearn/preprocessing/_data.py\u001B[0m in \u001B[0;36mfit\u001B[0;34m(self, X, y)\u001B[0m\n\u001B[1;32m    414\u001B[0m         \u001B[0;31m# Reset internal state before fitting\u001B[0m\u001B[0;34m\u001B[0m\u001B[0;34m\u001B[0m\u001B[0m\n\u001B[1;32m    415\u001B[0m         \u001B[0mself\u001B[0m\u001B[0;34m.\u001B[0m\u001B[0m_reset\u001B[0m\u001B[0;34m(\u001B[0m\u001B[0;34m)\u001B[0m\u001B[0;34m\u001B[0m\u001B[0;34m\u001B[0m\u001B[0m\n\u001B[0;32m--> 416\u001B[0;31m         \u001B[0;32mreturn\u001B[0m \u001B[0mself\u001B[0m\u001B[0;34m.\u001B[0m\u001B[0mpartial_fit\u001B[0m\u001B[0;34m(\u001B[0m\u001B[0mX\u001B[0m\u001B[0;34m,\u001B[0m \u001B[0my\u001B[0m\u001B[0;34m)\u001B[0m\u001B[0;34m\u001B[0m\u001B[0;34m\u001B[0m\u001B[0m\n\u001B[0m\u001B[1;32m    417\u001B[0m \u001B[0;34m\u001B[0m\u001B[0m\n\u001B[1;32m    418\u001B[0m     \u001B[0;32mdef\u001B[0m \u001B[0mpartial_fit\u001B[0m\u001B[0;34m(\u001B[0m\u001B[0mself\u001B[0m\u001B[0;34m,\u001B[0m \u001B[0mX\u001B[0m\u001B[0;34m,\u001B[0m \u001B[0my\u001B[0m\u001B[0;34m=\u001B[0m\u001B[0;32mNone\u001B[0m\u001B[0;34m)\u001B[0m\u001B[0;34m:\u001B[0m\u001B[0;34m\u001B[0m\u001B[0;34m\u001B[0m\u001B[0m\n",
      "\u001B[0;32m~/opt/anaconda3/lib/python3.9/site-packages/sklearn/preprocessing/_data.py\u001B[0m in \u001B[0;36mpartial_fit\u001B[0;34m(self, X, y)\u001B[0m\n\u001B[1;32m    451\u001B[0m \u001B[0;34m\u001B[0m\u001B[0m\n\u001B[1;32m    452\u001B[0m         \u001B[0mfirst_pass\u001B[0m \u001B[0;34m=\u001B[0m \u001B[0;32mnot\u001B[0m \u001B[0mhasattr\u001B[0m\u001B[0;34m(\u001B[0m\u001B[0mself\u001B[0m\u001B[0;34m,\u001B[0m \u001B[0;34m\"n_samples_seen_\"\u001B[0m\u001B[0;34m)\u001B[0m\u001B[0;34m\u001B[0m\u001B[0;34m\u001B[0m\u001B[0m\n\u001B[0;32m--> 453\u001B[0;31m         X = self._validate_data(\n\u001B[0m\u001B[1;32m    454\u001B[0m             \u001B[0mX\u001B[0m\u001B[0;34m,\u001B[0m\u001B[0;34m\u001B[0m\u001B[0;34m\u001B[0m\u001B[0m\n\u001B[1;32m    455\u001B[0m             \u001B[0mreset\u001B[0m\u001B[0;34m=\u001B[0m\u001B[0mfirst_pass\u001B[0m\u001B[0;34m,\u001B[0m\u001B[0;34m\u001B[0m\u001B[0;34m\u001B[0m\u001B[0m\n",
      "\u001B[0;32m~/opt/anaconda3/lib/python3.9/site-packages/sklearn/base.py\u001B[0m in \u001B[0;36m_validate_data\u001B[0;34m(self, X, y, reset, validate_separately, **check_params)\u001B[0m\n\u001B[1;32m    564\u001B[0m             \u001B[0;32mraise\u001B[0m \u001B[0mValueError\u001B[0m\u001B[0;34m(\u001B[0m\u001B[0;34m\"Validation should be done on X, y or both.\"\u001B[0m\u001B[0;34m)\u001B[0m\u001B[0;34m\u001B[0m\u001B[0;34m\u001B[0m\u001B[0m\n\u001B[1;32m    565\u001B[0m         \u001B[0;32melif\u001B[0m \u001B[0;32mnot\u001B[0m \u001B[0mno_val_X\u001B[0m \u001B[0;32mand\u001B[0m \u001B[0mno_val_y\u001B[0m\u001B[0;34m:\u001B[0m\u001B[0;34m\u001B[0m\u001B[0;34m\u001B[0m\u001B[0m\n\u001B[0;32m--> 566\u001B[0;31m             \u001B[0mX\u001B[0m \u001B[0;34m=\u001B[0m \u001B[0mcheck_array\u001B[0m\u001B[0;34m(\u001B[0m\u001B[0mX\u001B[0m\u001B[0;34m,\u001B[0m \u001B[0;34m**\u001B[0m\u001B[0mcheck_params\u001B[0m\u001B[0;34m)\u001B[0m\u001B[0;34m\u001B[0m\u001B[0;34m\u001B[0m\u001B[0m\n\u001B[0m\u001B[1;32m    567\u001B[0m             \u001B[0mout\u001B[0m \u001B[0;34m=\u001B[0m \u001B[0mX\u001B[0m\u001B[0;34m\u001B[0m\u001B[0;34m\u001B[0m\u001B[0m\n\u001B[1;32m    568\u001B[0m         \u001B[0;32melif\u001B[0m \u001B[0mno_val_X\u001B[0m \u001B[0;32mand\u001B[0m \u001B[0;32mnot\u001B[0m \u001B[0mno_val_y\u001B[0m\u001B[0;34m:\u001B[0m\u001B[0;34m\u001B[0m\u001B[0;34m\u001B[0m\u001B[0m\n",
      "\u001B[0;32m~/opt/anaconda3/lib/python3.9/site-packages/sklearn/utils/validation.py\u001B[0m in \u001B[0;36mcheck_array\u001B[0;34m(array, accept_sparse, accept_large_sparse, dtype, order, copy, force_all_finite, ensure_2d, allow_nd, ensure_min_samples, ensure_min_features, estimator)\u001B[0m\n\u001B[1;32m    744\u001B[0m                     \u001B[0marray\u001B[0m \u001B[0;34m=\u001B[0m \u001B[0marray\u001B[0m\u001B[0;34m.\u001B[0m\u001B[0mastype\u001B[0m\u001B[0;34m(\u001B[0m\u001B[0mdtype\u001B[0m\u001B[0;34m,\u001B[0m \u001B[0mcasting\u001B[0m\u001B[0;34m=\u001B[0m\u001B[0;34m\"unsafe\"\u001B[0m\u001B[0;34m,\u001B[0m \u001B[0mcopy\u001B[0m\u001B[0;34m=\u001B[0m\u001B[0;32mFalse\u001B[0m\u001B[0;34m)\u001B[0m\u001B[0;34m\u001B[0m\u001B[0;34m\u001B[0m\u001B[0m\n\u001B[1;32m    745\u001B[0m                 \u001B[0;32melse\u001B[0m\u001B[0;34m:\u001B[0m\u001B[0;34m\u001B[0m\u001B[0;34m\u001B[0m\u001B[0m\n\u001B[0;32m--> 746\u001B[0;31m                     \u001B[0marray\u001B[0m \u001B[0;34m=\u001B[0m \u001B[0mnp\u001B[0m\u001B[0;34m.\u001B[0m\u001B[0masarray\u001B[0m\u001B[0;34m(\u001B[0m\u001B[0marray\u001B[0m\u001B[0;34m,\u001B[0m \u001B[0morder\u001B[0m\u001B[0;34m=\u001B[0m\u001B[0morder\u001B[0m\u001B[0;34m,\u001B[0m \u001B[0mdtype\u001B[0m\u001B[0;34m=\u001B[0m\u001B[0mdtype\u001B[0m\u001B[0;34m)\u001B[0m\u001B[0;34m\u001B[0m\u001B[0;34m\u001B[0m\u001B[0m\n\u001B[0m\u001B[1;32m    747\u001B[0m             \u001B[0;32mexcept\u001B[0m \u001B[0mComplexWarning\u001B[0m \u001B[0;32mas\u001B[0m \u001B[0mcomplex_warning\u001B[0m\u001B[0;34m:\u001B[0m\u001B[0;34m\u001B[0m\u001B[0;34m\u001B[0m\u001B[0m\n\u001B[1;32m    748\u001B[0m                 raise ValueError(\n",
      "\u001B[0;32m~/opt/anaconda3/lib/python3.9/site-packages/pandas/core/generic.py\u001B[0m in \u001B[0;36m__array__\u001B[0;34m(self, dtype)\u001B[0m\n\u001B[1;32m   2062\u001B[0m \u001B[0;34m\u001B[0m\u001B[0m\n\u001B[1;32m   2063\u001B[0m     \u001B[0;32mdef\u001B[0m \u001B[0m__array__\u001B[0m\u001B[0;34m(\u001B[0m\u001B[0mself\u001B[0m\u001B[0;34m,\u001B[0m \u001B[0mdtype\u001B[0m\u001B[0;34m:\u001B[0m \u001B[0mnpt\u001B[0m\u001B[0;34m.\u001B[0m\u001B[0mDTypeLike\u001B[0m \u001B[0;34m|\u001B[0m \u001B[0;32mNone\u001B[0m \u001B[0;34m=\u001B[0m \u001B[0;32mNone\u001B[0m\u001B[0;34m)\u001B[0m \u001B[0;34m->\u001B[0m \u001B[0mnp\u001B[0m\u001B[0;34m.\u001B[0m\u001B[0mndarray\u001B[0m\u001B[0;34m:\u001B[0m\u001B[0;34m\u001B[0m\u001B[0;34m\u001B[0m\u001B[0m\n\u001B[0;32m-> 2064\u001B[0;31m         \u001B[0;32mreturn\u001B[0m \u001B[0mnp\u001B[0m\u001B[0;34m.\u001B[0m\u001B[0masarray\u001B[0m\u001B[0;34m(\u001B[0m\u001B[0mself\u001B[0m\u001B[0;34m.\u001B[0m\u001B[0m_values\u001B[0m\u001B[0;34m,\u001B[0m \u001B[0mdtype\u001B[0m\u001B[0;34m=\u001B[0m\u001B[0mdtype\u001B[0m\u001B[0;34m)\u001B[0m\u001B[0;34m\u001B[0m\u001B[0;34m\u001B[0m\u001B[0m\n\u001B[0m\u001B[1;32m   2065\u001B[0m \u001B[0;34m\u001B[0m\u001B[0m\n\u001B[1;32m   2066\u001B[0m     def __array_wrap__(\n",
      "\u001B[0;31mTypeError\u001B[0m: float() argument must be a string or a number, not 'pandas._libs.interval.Interval'"
     ]
    }
   ],
   "source": [
    "scaler = MinMaxScaler()\n",
    "df_train = pd.DataFrame(scaler.fit_transform(df_train))\n",
    "#df_train.describe()"
   ]
  },
  {
   "cell_type": "markdown",
   "metadata": {
    "collapsed": false
   },
   "source": [
    "## PCA\n"
   ]
  },
  {
   "cell_type": "markdown",
   "metadata": {
    "collapsed": false
   },
   "source": [
    "A implementação do pca acima pareceu me estranha. deixo aqui outra e quando reunirmos vemos"
   ]
  },
  {
   "cell_type": "code",
   "execution_count": null,
   "metadata": {
    "collapsed": false
   },
   "outputs": [],
   "source": [
    "from sklearn.decomposition import PCA\n",
    "pca = PCA()\n",
    "df_train2= df_train.copy()\n",
    "pca.fit(df_train2)\n",
    "var= pca.explained_variance_ratio_\n",
    "var1=np.cumsum(np.round(pca.explained_variance_ratio_, decimals=4)*100)\n",
    "\n",
    "plt.title(\"PCA Variance against num of Componmnets\")\n",
    "plt.ylabel(\"Variance %\")\n",
    "plt.xlabel(\"Number of componments\")\n",
    "l = plt.axhline(80, color=\"red\")\n",
    "\n",
    "plt.plot(var1)\n",
    "plt.grid()"
   ]
  },
  {
   "cell_type": "code",
   "execution_count": null,
   "metadata": {
    "collapsed": false
   },
   "outputs": [],
   "source": [
    "pca = PCA(n_components=7)\n",
    "pca_train=pca.fit_transform(df_train2)\n",
    "pca_train"
   ]
  },
  {
   "cell_type": "code",
   "execution_count": null,
   "metadata": {
    "collapsed": false
   },
   "outputs": [],
   "source": [
    "df_train"
   ]
  },
  {
   "cell_type": "markdown",
   "metadata": {
    "collapsed": false
   },
   "source": [
    "7 variaveis explicam ~80% da variancia"
   ]
  },
  {
   "cell_type": "markdown",
   "metadata": {
    "collapsed": false
   },
   "source": [
    "## Loading Scores for each PC"
   ]
  },
  {
   "cell_type": "markdown",
   "metadata": {
    "collapsed": false
   },
   "source": [
    "##  Correlação entre PC's e as variáveis originais"
   ]
  },
  {
   "cell_type": "markdown",
   "metadata": {
    "collapsed": false
   },
   "source": [
    "## Model Train"
   ]
  },
  {
   "cell_type": "code",
   "execution_count": null,
   "metadata": {
    "collapsed": false
   },
   "outputs": [],
   "source": [
    "from sklearn.cluster import KMeans\n",
    "\n",
    "kmeans= KMeans(n_clusters = 100, max_iter =10000, random_state= 1)\n",
    "kmeans.fit(pca_train)\n",
    "pca_train_label = kmeans.labels_"
   ]
  },
  {
   "cell_type": "code",
   "execution_count": null,
   "metadata": {
    "collapsed": false
   },
   "outputs": [],
   "source": [
    "kmeans2= KMeans(n_clusters = 100, max_iter = 10000, random_state = 1)\n",
    "kmeans2.fit(df_train)\n",
    "df_train_label = kmeans.labels_"
   ]
  },
  {
   "cell_type": "code",
   "execution_count": null,
   "metadata": {
    "collapsed": false
   },
   "outputs": [],
   "source": [
    "dfTF= pd.DataFrame()\n",
    "dfTF['Compare'] = pca_train_label== df_train_label\n",
    "#pd.DataFrame(dfTF.groupby('Compare'))\n",
    "dfTF.groupby(['Compare']).size().reset_index(name='counts') #TODO perguntar sobre pca e nao pca dar modelos iguais\n"
   ]
  },
  {
   "cell_type": "markdown",
   "id": "cd1fb8d0",
   "metadata": {},
   "source": [
    "### 3.2.2. Misclassifications"
   ]
  },
  {
   "cell_type": "markdown",
   "id": "a70497b0",
   "metadata": {},
   "source": [
    "### 3.2.4. Binning"
   ]
  },
  {
   "cell_type": "markdown",
   "id": "167e07f7",
   "metadata": {},
   "source": [
    "### 3.2.5. Reclassification"
   ]
  },
  {
   "cell_type": "markdown",
   "id": "7385de6b",
   "metadata": {},
   "source": [
    "### 3.2.6. Power Transform"
   ]
  },
  {
   "cell_type": "markdown",
   "id": "91126155",
   "metadata": {},
   "source": [
    "## 3.3. Data Reduction"
   ]
  },
  {
   "cell_type": "markdown",
   "id": "0a1bb4a3",
   "metadata": {},
   "source": [
    "### 3.3.1. Multicollinearity - Check correlation"
   ]
  },
  {
   "cell_type": "markdown",
   "id": "478dd700",
   "metadata": {},
   "source": [
    "### 3.3.2. Unary Variables"
   ]
  },
  {
   "cell_type": "markdown",
   "id": "c2eb07fe",
   "metadata": {},
   "source": [
    "### 3.3.3. Variables with a high percentage of missing values"
   ]
  },
  {
   "cell_type": "markdown",
   "id": "d20c2381",
   "metadata": {},
   "source": [
    "## 3.2. Back to Data Transformation"
   ]
  },
  {
   "cell_type": "markdown",
   "id": "f8c221ce",
   "metadata": {},
   "source": [
    "### 3.2.7. Apply ordinal encoding and create Dummy variables"
   ]
  },
  {
   "cell_type": "markdown",
   "id": "ee645019",
   "metadata": {},
   "source": [
    "### 3.2.8. Scaling"
   ]
  }
 ],
 "metadata": {
  "kernelspec": {
   "display_name": "Python 3 (ipykernel)",
   "language": "python",
   "name": "python3"
  },
  "language_info": {
   "codemirror_mode": {
    "name": "ipython",
    "version": 3
   },
   "file_extension": ".py",
   "mimetype": "text/x-python",
   "name": "python",
   "nbconvert_exporter": "python",
   "pygments_lexer": "ipython3",
   "version": "3.9.13"
  }
 },
 "nbformat": 4,
 "nbformat_minor": 5
}
