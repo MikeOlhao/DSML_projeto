{
 "cells": [
  {
   "cell_type": "markdown",
   "id": "7bc87212",
   "metadata": {},
   "source": [
    "### Table of Contents"
   ]
  },
  {
   "cell_type": "markdown",
   "id": "db4075ae",
   "metadata": {},
   "source": [
    "# 1. Import Data"
   ]
  },
  {
   "cell_type": "markdown",
   "id": "24debbce",
   "metadata": {},
   "source": [
    "## 1.1 Import the needed libraries"
   ]
  },
  {
   "cell_type": "code",
   "execution_count": 708,
   "outputs": [],
   "source": [
    "import pandas as pd\n",
    "import numpy as np\n",
    "import matplotlib.pyplot as plt\n",
    "import seaborn as sns\n",
    "import sklearn as sk\n",
    "from datetime import date\n",
    "from scipy.stats import zscore\n",
    "%matplotlib inline\n",
    "pd.set_option('display.max_columns', None)\n",
    "\n",
    "from sklearn.preprocessing import MinMaxScaler\n",
    "from sklearn.preprocessing import StandardScaler\n",
    "from sklearn.impute import KNNImputer"
   ],
   "metadata": {
    "collapsed": false
   }
  },
  {
   "cell_type": "markdown",
   "source": [
    "## 1.2 Import a integrate data"
   ],
   "metadata": {
    "collapsed": false
   }
  },
  {
   "cell_type": "code",
   "execution_count": 709,
   "outputs": [],
   "source": [
    "df_crm = pd.read_csv('crm.csv')\n",
    "df_mkt = pd.read_csv('mkt.csv')\n",
    "df_sales = pd.read_excel('sales.xlsx')"
   ],
   "metadata": {
    "collapsed": false
   }
  },
  {
   "cell_type": "code",
   "execution_count": 710,
   "outputs": [],
   "source": [
    "df = pd.merge(pd.merge(df_crm,df_sales,on='CustomerID',how=\"inner\"),df_mkt,on=\"CustomerID\",how=\"inner\")"
   ],
   "metadata": {
    "collapsed": false
   }
  },
  {
   "cell_type": "markdown",
   "source": [
    "## 1.3 Set Index\n"
   ],
   "metadata": {
    "collapsed": false
   }
  },
  {
   "cell_type": "code",
   "execution_count": 711,
   "outputs": [],
   "source": [
    "df.set_index('CustomerID',inplace = True)"
   ],
   "metadata": {
    "collapsed": false
   }
  },
  {
   "cell_type": "markdown",
   "source": [
    "## 1.4 Check and removing duplicates"
   ],
   "metadata": {
    "collapsed": false
   }
  },
  {
   "cell_type": "code",
   "execution_count": 712,
   "outputs": [
    {
     "data": {
      "text/plain": "                                Name  Birthyear   Education Marital_Status  \\\nCustomerID                                                                   \n32924               Mrs. Wanda Terry       1986  Graduation       Divorced   \n8276               Mrs. Mary Jackson       1968  HighSchool        Married   \n32966               Mr. Steven Baker       1961  HighSchool        Married   \n5627              Mr. Jonathan Clark       1988  Graduation        Married   \n29357              Mr. Eric Springer       1972         PhD        Married   \n26891                  Mr. Sam Peake       1992  Graduation        Married   \n21269              Mr. Nathan Glover       1971  Graduation        Married   \n32777                  Mr. Joe James       1967      Master        Married   \n26285           Mr. Oliver Sanderson       1986       Basic       Together   \n5540              Mr. Justin MacLeod       1995  Graduation       Together   \n17069             Miss Zoe Underwood       1977  Graduation       Together   \n12320         Mr. Christian Morrison       1985      Master        Married   \n24260                Mr. Dan Langdon       1993  Graduation         Single   \n6470                Miss Diane White       1980  Graduation         Single   \n10265                 Mr. Max Martin       1988  HighSchool       Together   \n21767                 Mrs. Jan Sharp       1977      Master        Married   \n15905              Mr. Charles James       1957         PhD       Together   \n28688             Mr. Anthony Gibson       1976  Graduation       Together   \n28739          Mr. Stephen Henderson       1970  Graduation        Married   \n25052                Mr. Piers Nolan       1977      Master       Divorced   \n7586                Mr. Jason Powell       1985      Master        Married   \n32495             Miss Wanda Wallace       1962  Graduation       Together   \n19295              Mr. Justin Martin       1998  Graduation       Together   \n14942              Mr. Stewart North       1978         PhD       Together   \n20747               Mr. Luke Lambert       1988         PhD        Married   \n12035              Mrs. Heather Hart       1985  Graduation        Married   \n8447               Mrs. Grace Davies       1967  Graduation        Married   \n25685                Mr. Austin Knox       1955         PhD          Widow   \n28625                Mr. Frank Piper       1969       Basic        Married   \n28844                  Mr. Neil Dowd       1981  Graduation        Married   \n30464       Miss Gabrielle Churchill       1960  Graduation       Together   \n\n              Income  Kid_Younger6  Children_6to18       Date_Adherence  \\\nCustomerID                                                                \n32924        41264.0             1               1  2020-10-03 00:00:00   \n8276        118238.0             0               0  2020-10-13 00:00:00   \n32966        84974.0             0               1  2022-02-17 00:00:00   \n5627         40975.0             1               0  2022-04-28 00:00:00   \n29357        77778.0             0               1  2022-04-19 00:00:00   \n26891        74147.0             1               0  2022-03-21 00:00:00   \n21269        91241.0             0               1  2022-03-28 00:00:00   \n32777       101251.0             0               1  2021-12-30 00:00:00   \n26285        22345.0             1               0  2021-03-21 00:00:00   \n5540         44247.0             1               0  2021-03-08 00:00:00   \n17069        75226.0             1               1  2020-11-24 00:00:00   \n12320        39747.0             1               0  2021-04-06 00:00:00   \n24260       116645.0             0               0  2021-05-18 00:00:00   \n6470        127255.0             0               0  2021-06-17 00:00:00   \n10265        27838.0             1               0  2021-10-08 00:00:00   \n21767        54507.0             1               1  2020-10-27 00:00:00   \n15905        95655.0             0               0  2020-09-04 00:00:00   \n28688        77992.0             0               1  2020-12-29 00:00:00   \n28739        81721.0             0               1  2021-07-21 00:00:00   \n25052        57770.0             1               0  2021-07-23 00:00:00   \n7586         98465.0             0               1  2021-04-25 00:00:00   \n32495         8305.4             0               1  2022-03-21 00:00:00   \n19295       120028.0             0               0  2022-05-13 00:00:00   \n14942       135654.0             0               0  2021-05-02 00:00:00   \n20747        97456.0             0               0  2020-08-14 00:00:00   \n12035       127587.0             1               0  2021-09-30 00:00:00   \n8447        116080.0             1               1  2022-04-24 00:00:00   \n25685        60675.0             1               1  2020-11-19 00:00:00   \n28625        30685.0             2               1  2021-12-25 00:00:00   \n28844        93031.0             0               1  2022-06-29 00:00:00   \n30464        99213.0             0               1  2021-05-02 00:00:00   \n\n            Recency  MntMeat&Fish  MntEntries  MntVegan&Vegetarian  MntDrinks  \\\nCustomerID                                                                      \n32924          61.0          70.0          20                165.0       40.0   \n8276           42.0        5940.0        1002               9465.0     1100.0   \n32966          56.0        2610.0         840               2160.0      840.0   \n5627           31.0         130.0           0                120.0       20.0   \n29357          92.0        1240.0          60                315.0       20.0   \n26891          13.0         610.0         320                915.0       20.0   \n21269          18.0        1780.0         220               2370.0      540.0   \n32777          26.0        7350.0        2780               4170.0      500.0   \n26285          54.0          50.0         180                285.0      240.0   \n5540           51.0        1540.0         400                990.0        0.0   \n17069          32.0        1320.0         280                390.0      180.0   \n12320          64.0         120.0           0                195.0       20.0   \n24260          64.0        3330.0           0              12225.0     1980.0   \n6470           75.0        5760.0        2220              13950.0     2960.0   \n10265           7.0         170.0          60                105.0      280.0   \n21767          94.0         280.0          40                135.0       20.0   \n15905           3.0        8900.0        1260               4380.0        0.0   \n28688          43.0        5940.0         120                570.0      120.0   \n28739          78.0        2140.0        1700               2085.0     1160.0   \n25052          12.0         700.0          60               1275.0      240.0   \n7586           39.0        3780.0         200               2205.0      100.0   \n32495          30.0         479.0          10                123.0       10.0   \n19295          15.0        9370.0        1060               3000.0      800.0   \n14942          71.0        9790.0         880              14025.0      440.0   \n20747          63.0        2540.0        1420               6705.0     2020.0   \n12035          73.0        6300.0        3200               3945.0      220.0   \n8447           33.0        2450.0         320               3345.0      320.0   \n25685          15.0        5020.0           0                645.0        0.0   \n28625          35.0          60.0         120                120.0      180.0   \n28844          43.0        6050.0         140               1275.0      140.0   \n30464           9.0        2120.0         980               2700.0     1200.0   \n\n            MntDesserts  MntAdditionalRequests  NumOfferPurchases  \\\nCustomerID                                                          \n32924               0.0                    7.0                  2   \n8276             1100.0                   32.0                  1   \n32966             960.0                  133.0                  3   \n5627               20.0                    5.0                  1   \n29357              20.0                   33.0                  1   \n26891             240.0                   78.0                  2   \n21269             380.0                   59.0                  1   \n32777            1760.0                   66.0                  2   \n26285             280.0                   39.0                  3   \n5540              240.0                   27.0                  7   \n17069             100.0                   28.0                  5   \n12320               0.0                   10.0                  1   \n24260             832.0                   29.0                  1   \n6470             1860.0                   74.0                  1   \n10265              20.0                   42.0                  2   \n21767              20.0                    8.0                  2   \n15905             500.0                   12.0                  4   \n28688             120.0                   25.0                  4   \n28739             740.0                   16.0                  4   \n25052             180.0                   95.0                  3   \n7586              100.0                   38.0                  3   \n32495              34.0                   17.1                  0   \n19295            2140.0                  200.0                  0   \n14942             488.0                   22.0                  1   \n20747            2840.0                   20.0                  1   \n12035            1600.0                   45.0                  1   \n8447              860.0                   16.0                  2   \n25685               0.0                   27.0                  9   \n28625             180.0                   18.0                  3   \n28844             140.0                    7.0                  1   \n30464             980.0                   32.0                  2   \n\n            NumAppPurchases  NumTakeAwayPurchases  NumStorePurchases  \\\nCustomerID                                                             \n32924                     3                     1                  3   \n8276                      6                     7                  8   \n32966                     6                     5                  9   \n5627                      3                     1                  4   \n29357                     5                     2                  4   \n26891                     6                     3                  2   \n21269                     8                     3                  6   \n32777                     8                     8                  6   \n26285                     5                     2                  2   \n5540                      8                     2                  4   \n17069                     7                     2                  3   \n12320                     3                     1                  3   \n24260                     6                    11                 11   \n6470                      5                     3                 13   \n10265                     4                     3                  2   \n21767                     4                     1                  3   \n15905                    10                     5                  7   \n28688                     9                     3                 10   \n28739                     7                     3                 10   \n25052                     6                     3                  3   \n7586                      9                     3                  8   \n32495                     1                     1                  0   \n19295                     6                     4                 13   \n14942                     9                     6                 12   \n20747                     5                     5                  8   \n12035                     6                     6                  8   \n8447                     10                     2                  8   \n25685                    10                     3                  7   \n28625                     4                     2                  3   \n28844                    10                     3                 10   \n30464                     5                     5                 10   \n\n            NumAppVisitsMonth  Complain  Response_Cmp1  Response_Cmp2  \\\nCustomerID                                                              \n32924                       7         0              0              0   \n8276                        2         0              0              0   \n32966                       3         0              0              0   \n5627                        3         0              0              0   \n29357                       6         0              0              1   \n26891                       6         0              1              0   \n21269                       5         0              0              0   \n32777                       3         0              1              0   \n26285                       9         0              1              0   \n5540                        9         0              0              0   \n17069                       8         0              0              0   \n12320                       7         0              0              0   \n24260                       2         0              0              0   \n6470                        1         0              0              0   \n10265                       4         0              1              0   \n21767                       7         0              0              0   \n15905                       6         0              0              0   \n28688                       7         0              0              0   \n28739                       5         0              0              0   \n25052                       7         0              0              0   \n7586                        6         0              0              0   \n32495                      20         0              1              0   \n19295                       1         0              0              0   \n14942                       3         0              0              1   \n20747                       1         0              0              0   \n12035                       5         0              0              1   \n8447                        6         0              0              0   \n25685                       9         0              0              0   \n28625                       6         0              0              0   \n28844                       4         0              0              1   \n30464                       2         0              0              0   \n\n            Response_Cmp3  Response_Cmp4  Response_Cmp5  \nCustomerID                                               \n32924                   0              0              0  \n8276                    0              0              0  \n32966                   0              0              0  \n5627                    0              0              0  \n29357                   0              0              0  \n26891                   0              0              0  \n21269                   0              0              0  \n32777                   0              0              0  \n26285                   0              0              0  \n5540                    0              0              0  \n17069                   0              0              0  \n12320                   0              0              0  \n24260                   0              0              0  \n6470                    0              0              0  \n10265                   0              0              0  \n21767                   0              0              0  \n15905                   0              0              0  \n28688                   0              0              0  \n28739                   0              0              0  \n25052                   0              0              0  \n7586                    0              0              0  \n32495                   0              0              0  \n19295                   1              0              0  \n14942                   1              1              0  \n20747                   0              0              0  \n12035                   0              1              0  \n8447                    0              0              0  \n25685                   0              0              0  \n28625                   0              0              0  \n28844                   0              0              0  \n30464                   0              0              0  ",
      "text/html": "<div>\n<style scoped>\n    .dataframe tbody tr th:only-of-type {\n        vertical-align: middle;\n    }\n\n    .dataframe tbody tr th {\n        vertical-align: top;\n    }\n\n    .dataframe thead th {\n        text-align: right;\n    }\n</style>\n<table border=\"1\" class=\"dataframe\">\n  <thead>\n    <tr style=\"text-align: right;\">\n      <th></th>\n      <th>Name</th>\n      <th>Birthyear</th>\n      <th>Education</th>\n      <th>Marital_Status</th>\n      <th>Income</th>\n      <th>Kid_Younger6</th>\n      <th>Children_6to18</th>\n      <th>Date_Adherence</th>\n      <th>Recency</th>\n      <th>MntMeat&amp;Fish</th>\n      <th>MntEntries</th>\n      <th>MntVegan&amp;Vegetarian</th>\n      <th>MntDrinks</th>\n      <th>MntDesserts</th>\n      <th>MntAdditionalRequests</th>\n      <th>NumOfferPurchases</th>\n      <th>NumAppPurchases</th>\n      <th>NumTakeAwayPurchases</th>\n      <th>NumStorePurchases</th>\n      <th>NumAppVisitsMonth</th>\n      <th>Complain</th>\n      <th>Response_Cmp1</th>\n      <th>Response_Cmp2</th>\n      <th>Response_Cmp3</th>\n      <th>Response_Cmp4</th>\n      <th>Response_Cmp5</th>\n    </tr>\n    <tr>\n      <th>CustomerID</th>\n      <th></th>\n      <th></th>\n      <th></th>\n      <th></th>\n      <th></th>\n      <th></th>\n      <th></th>\n      <th></th>\n      <th></th>\n      <th></th>\n      <th></th>\n      <th></th>\n      <th></th>\n      <th></th>\n      <th></th>\n      <th></th>\n      <th></th>\n      <th></th>\n      <th></th>\n      <th></th>\n      <th></th>\n      <th></th>\n      <th></th>\n      <th></th>\n      <th></th>\n      <th></th>\n    </tr>\n  </thead>\n  <tbody>\n    <tr>\n      <th>32924</th>\n      <td>Mrs. Wanda Terry</td>\n      <td>1986</td>\n      <td>Graduation</td>\n      <td>Divorced</td>\n      <td>41264.0</td>\n      <td>1</td>\n      <td>1</td>\n      <td>2020-10-03 00:00:00</td>\n      <td>61.0</td>\n      <td>70.0</td>\n      <td>20</td>\n      <td>165.0</td>\n      <td>40.0</td>\n      <td>0.0</td>\n      <td>7.0</td>\n      <td>2</td>\n      <td>3</td>\n      <td>1</td>\n      <td>3</td>\n      <td>7</td>\n      <td>0</td>\n      <td>0</td>\n      <td>0</td>\n      <td>0</td>\n      <td>0</td>\n      <td>0</td>\n    </tr>\n    <tr>\n      <th>8276</th>\n      <td>Mrs. Mary Jackson</td>\n      <td>1968</td>\n      <td>HighSchool</td>\n      <td>Married</td>\n      <td>118238.0</td>\n      <td>0</td>\n      <td>0</td>\n      <td>2020-10-13 00:00:00</td>\n      <td>42.0</td>\n      <td>5940.0</td>\n      <td>1002</td>\n      <td>9465.0</td>\n      <td>1100.0</td>\n      <td>1100.0</td>\n      <td>32.0</td>\n      <td>1</td>\n      <td>6</td>\n      <td>7</td>\n      <td>8</td>\n      <td>2</td>\n      <td>0</td>\n      <td>0</td>\n      <td>0</td>\n      <td>0</td>\n      <td>0</td>\n      <td>0</td>\n    </tr>\n    <tr>\n      <th>32966</th>\n      <td>Mr. Steven Baker</td>\n      <td>1961</td>\n      <td>HighSchool</td>\n      <td>Married</td>\n      <td>84974.0</td>\n      <td>0</td>\n      <td>1</td>\n      <td>2022-02-17 00:00:00</td>\n      <td>56.0</td>\n      <td>2610.0</td>\n      <td>840</td>\n      <td>2160.0</td>\n      <td>840.0</td>\n      <td>960.0</td>\n      <td>133.0</td>\n      <td>3</td>\n      <td>6</td>\n      <td>5</td>\n      <td>9</td>\n      <td>3</td>\n      <td>0</td>\n      <td>0</td>\n      <td>0</td>\n      <td>0</td>\n      <td>0</td>\n      <td>0</td>\n    </tr>\n    <tr>\n      <th>5627</th>\n      <td>Mr. Jonathan Clark</td>\n      <td>1988</td>\n      <td>Graduation</td>\n      <td>Married</td>\n      <td>40975.0</td>\n      <td>1</td>\n      <td>0</td>\n      <td>2022-04-28 00:00:00</td>\n      <td>31.0</td>\n      <td>130.0</td>\n      <td>0</td>\n      <td>120.0</td>\n      <td>20.0</td>\n      <td>20.0</td>\n      <td>5.0</td>\n      <td>1</td>\n      <td>3</td>\n      <td>1</td>\n      <td>4</td>\n      <td>3</td>\n      <td>0</td>\n      <td>0</td>\n      <td>0</td>\n      <td>0</td>\n      <td>0</td>\n      <td>0</td>\n    </tr>\n    <tr>\n      <th>29357</th>\n      <td>Mr. Eric Springer</td>\n      <td>1972</td>\n      <td>PhD</td>\n      <td>Married</td>\n      <td>77778.0</td>\n      <td>0</td>\n      <td>1</td>\n      <td>2022-04-19 00:00:00</td>\n      <td>92.0</td>\n      <td>1240.0</td>\n      <td>60</td>\n      <td>315.0</td>\n      <td>20.0</td>\n      <td>20.0</td>\n      <td>33.0</td>\n      <td>1</td>\n      <td>5</td>\n      <td>2</td>\n      <td>4</td>\n      <td>6</td>\n      <td>0</td>\n      <td>0</td>\n      <td>1</td>\n      <td>0</td>\n      <td>0</td>\n      <td>0</td>\n    </tr>\n    <tr>\n      <th>26891</th>\n      <td>Mr. Sam Peake</td>\n      <td>1992</td>\n      <td>Graduation</td>\n      <td>Married</td>\n      <td>74147.0</td>\n      <td>1</td>\n      <td>0</td>\n      <td>2022-03-21 00:00:00</td>\n      <td>13.0</td>\n      <td>610.0</td>\n      <td>320</td>\n      <td>915.0</td>\n      <td>20.0</td>\n      <td>240.0</td>\n      <td>78.0</td>\n      <td>2</td>\n      <td>6</td>\n      <td>3</td>\n      <td>2</td>\n      <td>6</td>\n      <td>0</td>\n      <td>1</td>\n      <td>0</td>\n      <td>0</td>\n      <td>0</td>\n      <td>0</td>\n    </tr>\n    <tr>\n      <th>21269</th>\n      <td>Mr. Nathan Glover</td>\n      <td>1971</td>\n      <td>Graduation</td>\n      <td>Married</td>\n      <td>91241.0</td>\n      <td>0</td>\n      <td>1</td>\n      <td>2022-03-28 00:00:00</td>\n      <td>18.0</td>\n      <td>1780.0</td>\n      <td>220</td>\n      <td>2370.0</td>\n      <td>540.0</td>\n      <td>380.0</td>\n      <td>59.0</td>\n      <td>1</td>\n      <td>8</td>\n      <td>3</td>\n      <td>6</td>\n      <td>5</td>\n      <td>0</td>\n      <td>0</td>\n      <td>0</td>\n      <td>0</td>\n      <td>0</td>\n      <td>0</td>\n    </tr>\n    <tr>\n      <th>32777</th>\n      <td>Mr. Joe James</td>\n      <td>1967</td>\n      <td>Master</td>\n      <td>Married</td>\n      <td>101251.0</td>\n      <td>0</td>\n      <td>1</td>\n      <td>2021-12-30 00:00:00</td>\n      <td>26.0</td>\n      <td>7350.0</td>\n      <td>2780</td>\n      <td>4170.0</td>\n      <td>500.0</td>\n      <td>1760.0</td>\n      <td>66.0</td>\n      <td>2</td>\n      <td>8</td>\n      <td>8</td>\n      <td>6</td>\n      <td>3</td>\n      <td>0</td>\n      <td>1</td>\n      <td>0</td>\n      <td>0</td>\n      <td>0</td>\n      <td>0</td>\n    </tr>\n    <tr>\n      <th>26285</th>\n      <td>Mr. Oliver Sanderson</td>\n      <td>1986</td>\n      <td>Basic</td>\n      <td>Together</td>\n      <td>22345.0</td>\n      <td>1</td>\n      <td>0</td>\n      <td>2021-03-21 00:00:00</td>\n      <td>54.0</td>\n      <td>50.0</td>\n      <td>180</td>\n      <td>285.0</td>\n      <td>240.0</td>\n      <td>280.0</td>\n      <td>39.0</td>\n      <td>3</td>\n      <td>5</td>\n      <td>2</td>\n      <td>2</td>\n      <td>9</td>\n      <td>0</td>\n      <td>1</td>\n      <td>0</td>\n      <td>0</td>\n      <td>0</td>\n      <td>0</td>\n    </tr>\n    <tr>\n      <th>5540</th>\n      <td>Mr. Justin MacLeod</td>\n      <td>1995</td>\n      <td>Graduation</td>\n      <td>Together</td>\n      <td>44247.0</td>\n      <td>1</td>\n      <td>0</td>\n      <td>2021-03-08 00:00:00</td>\n      <td>51.0</td>\n      <td>1540.0</td>\n      <td>400</td>\n      <td>990.0</td>\n      <td>0.0</td>\n      <td>240.0</td>\n      <td>27.0</td>\n      <td>7</td>\n      <td>8</td>\n      <td>2</td>\n      <td>4</td>\n      <td>9</td>\n      <td>0</td>\n      <td>0</td>\n      <td>0</td>\n      <td>0</td>\n      <td>0</td>\n      <td>0</td>\n    </tr>\n    <tr>\n      <th>17069</th>\n      <td>Miss Zoe Underwood</td>\n      <td>1977</td>\n      <td>Graduation</td>\n      <td>Together</td>\n      <td>75226.0</td>\n      <td>1</td>\n      <td>1</td>\n      <td>2020-11-24 00:00:00</td>\n      <td>32.0</td>\n      <td>1320.0</td>\n      <td>280</td>\n      <td>390.0</td>\n      <td>180.0</td>\n      <td>100.0</td>\n      <td>28.0</td>\n      <td>5</td>\n      <td>7</td>\n      <td>2</td>\n      <td>3</td>\n      <td>8</td>\n      <td>0</td>\n      <td>0</td>\n      <td>0</td>\n      <td>0</td>\n      <td>0</td>\n      <td>0</td>\n    </tr>\n    <tr>\n      <th>12320</th>\n      <td>Mr. Christian Morrison</td>\n      <td>1985</td>\n      <td>Master</td>\n      <td>Married</td>\n      <td>39747.0</td>\n      <td>1</td>\n      <td>0</td>\n      <td>2021-04-06 00:00:00</td>\n      <td>64.0</td>\n      <td>120.0</td>\n      <td>0</td>\n      <td>195.0</td>\n      <td>20.0</td>\n      <td>0.0</td>\n      <td>10.0</td>\n      <td>1</td>\n      <td>3</td>\n      <td>1</td>\n      <td>3</td>\n      <td>7</td>\n      <td>0</td>\n      <td>0</td>\n      <td>0</td>\n      <td>0</td>\n      <td>0</td>\n      <td>0</td>\n    </tr>\n    <tr>\n      <th>24260</th>\n      <td>Mr. Dan Langdon</td>\n      <td>1993</td>\n      <td>Graduation</td>\n      <td>Single</td>\n      <td>116645.0</td>\n      <td>0</td>\n      <td>0</td>\n      <td>2021-05-18 00:00:00</td>\n      <td>64.0</td>\n      <td>3330.0</td>\n      <td>0</td>\n      <td>12225.0</td>\n      <td>1980.0</td>\n      <td>832.0</td>\n      <td>29.0</td>\n      <td>1</td>\n      <td>6</td>\n      <td>11</td>\n      <td>11</td>\n      <td>2</td>\n      <td>0</td>\n      <td>0</td>\n      <td>0</td>\n      <td>0</td>\n      <td>0</td>\n      <td>0</td>\n    </tr>\n    <tr>\n      <th>6470</th>\n      <td>Miss Diane White</td>\n      <td>1980</td>\n      <td>Graduation</td>\n      <td>Single</td>\n      <td>127255.0</td>\n      <td>0</td>\n      <td>0</td>\n      <td>2021-06-17 00:00:00</td>\n      <td>75.0</td>\n      <td>5760.0</td>\n      <td>2220</td>\n      <td>13950.0</td>\n      <td>2960.0</td>\n      <td>1860.0</td>\n      <td>74.0</td>\n      <td>1</td>\n      <td>5</td>\n      <td>3</td>\n      <td>13</td>\n      <td>1</td>\n      <td>0</td>\n      <td>0</td>\n      <td>0</td>\n      <td>0</td>\n      <td>0</td>\n      <td>0</td>\n    </tr>\n    <tr>\n      <th>10265</th>\n      <td>Mr. Max Martin</td>\n      <td>1988</td>\n      <td>HighSchool</td>\n      <td>Together</td>\n      <td>27838.0</td>\n      <td>1</td>\n      <td>0</td>\n      <td>2021-10-08 00:00:00</td>\n      <td>7.0</td>\n      <td>170.0</td>\n      <td>60</td>\n      <td>105.0</td>\n      <td>280.0</td>\n      <td>20.0</td>\n      <td>42.0</td>\n      <td>2</td>\n      <td>4</td>\n      <td>3</td>\n      <td>2</td>\n      <td>4</td>\n      <td>0</td>\n      <td>1</td>\n      <td>0</td>\n      <td>0</td>\n      <td>0</td>\n      <td>0</td>\n    </tr>\n    <tr>\n      <th>21767</th>\n      <td>Mrs. Jan Sharp</td>\n      <td>1977</td>\n      <td>Master</td>\n      <td>Married</td>\n      <td>54507.0</td>\n      <td>1</td>\n      <td>1</td>\n      <td>2020-10-27 00:00:00</td>\n      <td>94.0</td>\n      <td>280.0</td>\n      <td>40</td>\n      <td>135.0</td>\n      <td>20.0</td>\n      <td>20.0</td>\n      <td>8.0</td>\n      <td>2</td>\n      <td>4</td>\n      <td>1</td>\n      <td>3</td>\n      <td>7</td>\n      <td>0</td>\n      <td>0</td>\n      <td>0</td>\n      <td>0</td>\n      <td>0</td>\n      <td>0</td>\n    </tr>\n    <tr>\n      <th>15905</th>\n      <td>Mr. Charles James</td>\n      <td>1957</td>\n      <td>PhD</td>\n      <td>Together</td>\n      <td>95655.0</td>\n      <td>0</td>\n      <td>0</td>\n      <td>2020-09-04 00:00:00</td>\n      <td>3.0</td>\n      <td>8900.0</td>\n      <td>1260</td>\n      <td>4380.0</td>\n      <td>0.0</td>\n      <td>500.0</td>\n      <td>12.0</td>\n      <td>4</td>\n      <td>10</td>\n      <td>5</td>\n      <td>7</td>\n      <td>6</td>\n      <td>0</td>\n      <td>0</td>\n      <td>0</td>\n      <td>0</td>\n      <td>0</td>\n      <td>0</td>\n    </tr>\n    <tr>\n      <th>28688</th>\n      <td>Mr. Anthony Gibson</td>\n      <td>1976</td>\n      <td>Graduation</td>\n      <td>Together</td>\n      <td>77992.0</td>\n      <td>0</td>\n      <td>1</td>\n      <td>2020-12-29 00:00:00</td>\n      <td>43.0</td>\n      <td>5940.0</td>\n      <td>120</td>\n      <td>570.0</td>\n      <td>120.0</td>\n      <td>120.0</td>\n      <td>25.0</td>\n      <td>4</td>\n      <td>9</td>\n      <td>3</td>\n      <td>10</td>\n      <td>7</td>\n      <td>0</td>\n      <td>0</td>\n      <td>0</td>\n      <td>0</td>\n      <td>0</td>\n      <td>0</td>\n    </tr>\n    <tr>\n      <th>28739</th>\n      <td>Mr. Stephen Henderson</td>\n      <td>1970</td>\n      <td>Graduation</td>\n      <td>Married</td>\n      <td>81721.0</td>\n      <td>0</td>\n      <td>1</td>\n      <td>2021-07-21 00:00:00</td>\n      <td>78.0</td>\n      <td>2140.0</td>\n      <td>1700</td>\n      <td>2085.0</td>\n      <td>1160.0</td>\n      <td>740.0</td>\n      <td>16.0</td>\n      <td>4</td>\n      <td>7</td>\n      <td>3</td>\n      <td>10</td>\n      <td>5</td>\n      <td>0</td>\n      <td>0</td>\n      <td>0</td>\n      <td>0</td>\n      <td>0</td>\n      <td>0</td>\n    </tr>\n    <tr>\n      <th>25052</th>\n      <td>Mr. Piers Nolan</td>\n      <td>1977</td>\n      <td>Master</td>\n      <td>Divorced</td>\n      <td>57770.0</td>\n      <td>1</td>\n      <td>0</td>\n      <td>2021-07-23 00:00:00</td>\n      <td>12.0</td>\n      <td>700.0</td>\n      <td>60</td>\n      <td>1275.0</td>\n      <td>240.0</td>\n      <td>180.0</td>\n      <td>95.0</td>\n      <td>3</td>\n      <td>6</td>\n      <td>3</td>\n      <td>3</td>\n      <td>7</td>\n      <td>0</td>\n      <td>0</td>\n      <td>0</td>\n      <td>0</td>\n      <td>0</td>\n      <td>0</td>\n    </tr>\n    <tr>\n      <th>7586</th>\n      <td>Mr. Jason Powell</td>\n      <td>1985</td>\n      <td>Master</td>\n      <td>Married</td>\n      <td>98465.0</td>\n      <td>0</td>\n      <td>1</td>\n      <td>2021-04-25 00:00:00</td>\n      <td>39.0</td>\n      <td>3780.0</td>\n      <td>200</td>\n      <td>2205.0</td>\n      <td>100.0</td>\n      <td>100.0</td>\n      <td>38.0</td>\n      <td>3</td>\n      <td>9</td>\n      <td>3</td>\n      <td>8</td>\n      <td>6</td>\n      <td>0</td>\n      <td>0</td>\n      <td>0</td>\n      <td>0</td>\n      <td>0</td>\n      <td>0</td>\n    </tr>\n    <tr>\n      <th>32495</th>\n      <td>Miss Wanda Wallace</td>\n      <td>1962</td>\n      <td>Graduation</td>\n      <td>Together</td>\n      <td>8305.4</td>\n      <td>0</td>\n      <td>1</td>\n      <td>2022-03-21 00:00:00</td>\n      <td>30.0</td>\n      <td>479.0</td>\n      <td>10</td>\n      <td>123.0</td>\n      <td>10.0</td>\n      <td>34.0</td>\n      <td>17.1</td>\n      <td>0</td>\n      <td>1</td>\n      <td>1</td>\n      <td>0</td>\n      <td>20</td>\n      <td>0</td>\n      <td>1</td>\n      <td>0</td>\n      <td>0</td>\n      <td>0</td>\n      <td>0</td>\n    </tr>\n    <tr>\n      <th>19295</th>\n      <td>Mr. Justin Martin</td>\n      <td>1998</td>\n      <td>Graduation</td>\n      <td>Together</td>\n      <td>120028.0</td>\n      <td>0</td>\n      <td>0</td>\n      <td>2022-05-13 00:00:00</td>\n      <td>15.0</td>\n      <td>9370.0</td>\n      <td>1060</td>\n      <td>3000.0</td>\n      <td>800.0</td>\n      <td>2140.0</td>\n      <td>200.0</td>\n      <td>0</td>\n      <td>6</td>\n      <td>4</td>\n      <td>13</td>\n      <td>1</td>\n      <td>0</td>\n      <td>0</td>\n      <td>0</td>\n      <td>1</td>\n      <td>0</td>\n      <td>0</td>\n    </tr>\n    <tr>\n      <th>14942</th>\n      <td>Mr. Stewart North</td>\n      <td>1978</td>\n      <td>PhD</td>\n      <td>Together</td>\n      <td>135654.0</td>\n      <td>0</td>\n      <td>0</td>\n      <td>2021-05-02 00:00:00</td>\n      <td>71.0</td>\n      <td>9790.0</td>\n      <td>880</td>\n      <td>14025.0</td>\n      <td>440.0</td>\n      <td>488.0</td>\n      <td>22.0</td>\n      <td>1</td>\n      <td>9</td>\n      <td>6</td>\n      <td>12</td>\n      <td>3</td>\n      <td>0</td>\n      <td>0</td>\n      <td>1</td>\n      <td>1</td>\n      <td>1</td>\n      <td>0</td>\n    </tr>\n    <tr>\n      <th>20747</th>\n      <td>Mr. Luke Lambert</td>\n      <td>1988</td>\n      <td>PhD</td>\n      <td>Married</td>\n      <td>97456.0</td>\n      <td>0</td>\n      <td>0</td>\n      <td>2020-08-14 00:00:00</td>\n      <td>63.0</td>\n      <td>2540.0</td>\n      <td>1420</td>\n      <td>6705.0</td>\n      <td>2020.0</td>\n      <td>2840.0</td>\n      <td>20.0</td>\n      <td>1</td>\n      <td>5</td>\n      <td>5</td>\n      <td>8</td>\n      <td>1</td>\n      <td>0</td>\n      <td>0</td>\n      <td>0</td>\n      <td>0</td>\n      <td>0</td>\n      <td>0</td>\n    </tr>\n    <tr>\n      <th>12035</th>\n      <td>Mrs. Heather Hart</td>\n      <td>1985</td>\n      <td>Graduation</td>\n      <td>Married</td>\n      <td>127587.0</td>\n      <td>1</td>\n      <td>0</td>\n      <td>2021-09-30 00:00:00</td>\n      <td>73.0</td>\n      <td>6300.0</td>\n      <td>3200</td>\n      <td>3945.0</td>\n      <td>220.0</td>\n      <td>1600.0</td>\n      <td>45.0</td>\n      <td>1</td>\n      <td>6</td>\n      <td>6</td>\n      <td>8</td>\n      <td>5</td>\n      <td>0</td>\n      <td>0</td>\n      <td>1</td>\n      <td>0</td>\n      <td>1</td>\n      <td>0</td>\n    </tr>\n    <tr>\n      <th>8447</th>\n      <td>Mrs. Grace Davies</td>\n      <td>1967</td>\n      <td>Graduation</td>\n      <td>Married</td>\n      <td>116080.0</td>\n      <td>1</td>\n      <td>1</td>\n      <td>2022-04-24 00:00:00</td>\n      <td>33.0</td>\n      <td>2450.0</td>\n      <td>320</td>\n      <td>3345.0</td>\n      <td>320.0</td>\n      <td>860.0</td>\n      <td>16.0</td>\n      <td>2</td>\n      <td>10</td>\n      <td>2</td>\n      <td>8</td>\n      <td>6</td>\n      <td>0</td>\n      <td>0</td>\n      <td>0</td>\n      <td>0</td>\n      <td>0</td>\n      <td>0</td>\n    </tr>\n    <tr>\n      <th>25685</th>\n      <td>Mr. Austin Knox</td>\n      <td>1955</td>\n      <td>PhD</td>\n      <td>Widow</td>\n      <td>60675.0</td>\n      <td>1</td>\n      <td>1</td>\n      <td>2020-11-19 00:00:00</td>\n      <td>15.0</td>\n      <td>5020.0</td>\n      <td>0</td>\n      <td>645.0</td>\n      <td>0.0</td>\n      <td>0.0</td>\n      <td>27.0</td>\n      <td>9</td>\n      <td>10</td>\n      <td>3</td>\n      <td>7</td>\n      <td>9</td>\n      <td>0</td>\n      <td>0</td>\n      <td>0</td>\n      <td>0</td>\n      <td>0</td>\n      <td>0</td>\n    </tr>\n    <tr>\n      <th>28625</th>\n      <td>Mr. Frank Piper</td>\n      <td>1969</td>\n      <td>Basic</td>\n      <td>Married</td>\n      <td>30685.0</td>\n      <td>2</td>\n      <td>1</td>\n      <td>2021-12-25 00:00:00</td>\n      <td>35.0</td>\n      <td>60.0</td>\n      <td>120</td>\n      <td>120.0</td>\n      <td>180.0</td>\n      <td>180.0</td>\n      <td>18.0</td>\n      <td>3</td>\n      <td>4</td>\n      <td>2</td>\n      <td>3</td>\n      <td>6</td>\n      <td>0</td>\n      <td>0</td>\n      <td>0</td>\n      <td>0</td>\n      <td>0</td>\n      <td>0</td>\n    </tr>\n    <tr>\n      <th>28844</th>\n      <td>Mr. Neil Dowd</td>\n      <td>1981</td>\n      <td>Graduation</td>\n      <td>Married</td>\n      <td>93031.0</td>\n      <td>0</td>\n      <td>1</td>\n      <td>2022-06-29 00:00:00</td>\n      <td>43.0</td>\n      <td>6050.0</td>\n      <td>140</td>\n      <td>1275.0</td>\n      <td>140.0</td>\n      <td>140.0</td>\n      <td>7.0</td>\n      <td>1</td>\n      <td>10</td>\n      <td>3</td>\n      <td>10</td>\n      <td>4</td>\n      <td>0</td>\n      <td>0</td>\n      <td>1</td>\n      <td>0</td>\n      <td>0</td>\n      <td>0</td>\n    </tr>\n    <tr>\n      <th>30464</th>\n      <td>Miss Gabrielle Churchill</td>\n      <td>1960</td>\n      <td>Graduation</td>\n      <td>Together</td>\n      <td>99213.0</td>\n      <td>0</td>\n      <td>1</td>\n      <td>2021-05-02 00:00:00</td>\n      <td>9.0</td>\n      <td>2120.0</td>\n      <td>980</td>\n      <td>2700.0</td>\n      <td>1200.0</td>\n      <td>980.0</td>\n      <td>32.0</td>\n      <td>2</td>\n      <td>5</td>\n      <td>5</td>\n      <td>10</td>\n      <td>2</td>\n      <td>0</td>\n      <td>0</td>\n      <td>0</td>\n      <td>0</td>\n      <td>0</td>\n      <td>0</td>\n    </tr>\n  </tbody>\n</table>\n</div>"
     },
     "execution_count": 712,
     "metadata": {},
     "output_type": "execute_result"
    }
   ],
   "source": [
    "df[df.duplicated()] # checking duplicates"
   ],
   "metadata": {
    "collapsed": false
   }
  },
  {
   "cell_type": "code",
   "execution_count": 713,
   "outputs": [],
   "source": [
    "df = df[~df.duplicated()] # drop duplicates rows"
   ],
   "metadata": {
    "collapsed": false
   }
  },
  {
   "cell_type": "markdown",
   "source": [
    "# 2. Explore Data"
   ],
   "metadata": {
    "collapsed": false
   }
  },
  {
   "cell_type": "markdown",
   "source": [
    "## 2.0 Data profiling\n",
    "\n",
    "Se não quiserem instalar a biblioteca não corram esta secção. Caso contrário o comando para instalar é pip install ydata-profiling. No final **apagar esta secção**"
   ],
   "metadata": {
    "collapsed": false
   }
  },
  {
   "cell_type": "code",
   "execution_count": 714,
   "outputs": [],
   "source": [
    "#from ydata_profiling import ProfileReport\n",
    "#profile= ProfileReport (df, title= \"DSML_Project\")"
   ],
   "metadata": {
    "collapsed": false
   }
  },
  {
   "cell_type": "code",
   "execution_count": 715,
   "outputs": [],
   "source": [
    "#profile.to_file('DSML_profile.html')"
   ],
   "metadata": {
    "collapsed": false
   }
  },
  {
   "cell_type": "markdown",
   "source": [
    "## 2.1 Basic Exploration"
   ],
   "metadata": {
    "collapsed": false
   }
  },
  {
   "cell_type": "markdown",
   "source": [
    "Q: _To check the number of columns and rows_ we used `shape` _attribute_"
   ],
   "metadata": {
    "collapsed": false
   }
  },
  {
   "cell_type": "code",
   "execution_count": 716,
   "outputs": [
    {
     "data": {
      "text/plain": "(7000, 26)"
     },
     "execution_count": 716,
     "metadata": {},
     "output_type": "execute_result"
    }
   ],
   "source": [
    "df.shape"
   ],
   "metadata": {
    "collapsed": false
   }
  },
  {
   "cell_type": "markdown",
   "source": [
    "> A: _The dataset has **7000 rows** and **26 columns**_"
   ],
   "metadata": {
    "collapsed": false
   }
  },
  {
   "cell_type": "markdown",
   "source": [
    "__*Q*__: Check the name of the features of the dataset we used `columns` _attribute_"
   ],
   "metadata": {
    "collapsed": false
   }
  },
  {
   "cell_type": "code",
   "execution_count": 717,
   "outputs": [
    {
     "data": {
      "text/plain": "Index(['Name', 'Birthyear', 'Education', 'Marital_Status', 'Income',\n       'Kid_Younger6', 'Children_6to18', 'Date_Adherence', 'Recency',\n       'MntMeat&Fish', 'MntEntries', 'MntVegan&Vegetarian', 'MntDrinks',\n       'MntDesserts', 'MntAdditionalRequests', 'NumOfferPurchases',\n       'NumAppPurchases', 'NumTakeAwayPurchases', 'NumStorePurchases',\n       'NumAppVisitsMonth', 'Complain', 'Response_Cmp1', 'Response_Cmp2',\n       'Response_Cmp3', 'Response_Cmp4', 'Response_Cmp5'],\n      dtype='object')"
     },
     "execution_count": 717,
     "metadata": {},
     "output_type": "execute_result"
    }
   ],
   "source": [
    "df.columns"
   ],
   "metadata": {
    "collapsed": false
   }
  },
  {
   "cell_type": "markdown",
   "source": [
    "> A: The dataset has the following columns/features names: <br>\n",
    "        >Index. CustomerID\n",
    "        >1. 'Name' <br>\n",
    "        >2. 'Birthyear'<br>\n",
    "        >3. 'Education'<br>\n",
    "        >4. 'Marital_Status'<br>\n",
    "        >5. 'Income'<br>\n",
    "        >6. 'Kid_Younger6'<br>\n",
    "        >7. 'Children_6to18'<br>\n",
    "        >8. 'Date_Adherence'<br>\n",
    "        >9. 'Recency'<br>\n",
    "        >10. 'MntMeat&Fish'<br>\n",
    "        >11. 'MntEntries'<br>\n",
    "        >12. 'MntVegan&Vegetarian'<br>\n",
    "        >13. 'MntDrinks'<br>\n",
    "        >14. 'MntDesserts'<br>\n",
    "        >15. 'MntAdditionalRequests'<br>\n",
    "        >16. 'NumOfferPurchases'<br>\n",
    "        >17. 'NumAppPurchases'<br>\n",
    "        >18. 'NumTakeAwayPurchases'<br>\n",
    "        >19. 'NumStorePurchases'<br>\n",
    "        >20. 'NumAppVisitsMonth'<br>\n",
    "        >21. 'Complain'<br>\n",
    "        >22. 'Response_Cmp1'<br>\n",
    "        >23. 'Response_Cmp2'<br>\n",
    "        >24. 'Response_Cmp3'<br>\n",
    "        >25. 'Response_Cmp4'<br>\n",
    "        >26. 'Response_Cmp5'<br>"
   ],
   "metadata": {
    "collapsed": false
   }
  },
  {
   "cell_type": "markdown",
   "source": [
    "Q: First glance of the dataset using `head` and `tail` methods to check the first and last 5 rows."
   ],
   "metadata": {
    "collapsed": false
   }
  },
  {
   "cell_type": "code",
   "execution_count": 718,
   "outputs": [
    {
     "data": {
      "text/plain": "                          Name  Birthyear   Education Marital_Status  \\\nCustomerID                                                             \n14594          Miss Leah Lewis       1981  Graduation         Single   \n19070         Miss Grace Black       1974  Graduation       Together   \n29888       Mr. Gavin Morrison       1960         PhD       Together   \n\n              Income  Kid_Younger6  Children_6to18       Date_Adherence  \\\nCustomerID                                                                \n14594       113947.0             0               0  2021-01-09 00:00:00   \n19070       114297.0             0               0  2021-04-10 00:00:00   \n29888       115476.0             0               0  2022-01-12 00:00:00   \n\n            Recency  MntMeat&Fish  MntEntries  MntVegan&Vegetarian  MntDrinks  \\\nCustomerID                                                                      \n14594          43.0        4640.0        3380               5700.0     2240.0   \n19070          74.0        7080.0        3680               7620.0     1840.0   \n29888          85.0        4130.0         380               4890.0     3640.0   \n\n            MntDesserts  MntAdditionalRequests  NumOfferPurchases  \\\nCustomerID                                                          \n14594             562.0                  154.0                  2   \n19070            1220.0                   46.0                  1   \n29888             380.0                   28.0                  1   \n\n            NumAppPurchases  NumTakeAwayPurchases  NumStorePurchases  \\\nCustomerID                                                             \n14594                    10                     7                  7   \n19070                     5                     9                 12   \n29888                     5                     5                  7   \n\n            NumAppVisitsMonth  Complain  Response_Cmp1  Response_Cmp2  \\\nCustomerID                                                              \n14594                       4         0              0              1   \n19070                       2         0              0              0   \n29888                       1         0              0              0   \n\n            Response_Cmp3  Response_Cmp4  Response_Cmp5  \nCustomerID                                               \n14594                   0              0              0  \n19070                   0              0              0  \n29888                   0              0              0  ",
      "text/html": "<div>\n<style scoped>\n    .dataframe tbody tr th:only-of-type {\n        vertical-align: middle;\n    }\n\n    .dataframe tbody tr th {\n        vertical-align: top;\n    }\n\n    .dataframe thead th {\n        text-align: right;\n    }\n</style>\n<table border=\"1\" class=\"dataframe\">\n  <thead>\n    <tr style=\"text-align: right;\">\n      <th></th>\n      <th>Name</th>\n      <th>Birthyear</th>\n      <th>Education</th>\n      <th>Marital_Status</th>\n      <th>Income</th>\n      <th>Kid_Younger6</th>\n      <th>Children_6to18</th>\n      <th>Date_Adherence</th>\n      <th>Recency</th>\n      <th>MntMeat&amp;Fish</th>\n      <th>MntEntries</th>\n      <th>MntVegan&amp;Vegetarian</th>\n      <th>MntDrinks</th>\n      <th>MntDesserts</th>\n      <th>MntAdditionalRequests</th>\n      <th>NumOfferPurchases</th>\n      <th>NumAppPurchases</th>\n      <th>NumTakeAwayPurchases</th>\n      <th>NumStorePurchases</th>\n      <th>NumAppVisitsMonth</th>\n      <th>Complain</th>\n      <th>Response_Cmp1</th>\n      <th>Response_Cmp2</th>\n      <th>Response_Cmp3</th>\n      <th>Response_Cmp4</th>\n      <th>Response_Cmp5</th>\n    </tr>\n    <tr>\n      <th>CustomerID</th>\n      <th></th>\n      <th></th>\n      <th></th>\n      <th></th>\n      <th></th>\n      <th></th>\n      <th></th>\n      <th></th>\n      <th></th>\n      <th></th>\n      <th></th>\n      <th></th>\n      <th></th>\n      <th></th>\n      <th></th>\n      <th></th>\n      <th></th>\n      <th></th>\n      <th></th>\n      <th></th>\n      <th></th>\n      <th></th>\n      <th></th>\n      <th></th>\n      <th></th>\n      <th></th>\n    </tr>\n  </thead>\n  <tbody>\n    <tr>\n      <th>14594</th>\n      <td>Miss Leah Lewis</td>\n      <td>1981</td>\n      <td>Graduation</td>\n      <td>Single</td>\n      <td>113947.0</td>\n      <td>0</td>\n      <td>0</td>\n      <td>2021-01-09 00:00:00</td>\n      <td>43.0</td>\n      <td>4640.0</td>\n      <td>3380</td>\n      <td>5700.0</td>\n      <td>2240.0</td>\n      <td>562.0</td>\n      <td>154.0</td>\n      <td>2</td>\n      <td>10</td>\n      <td>7</td>\n      <td>7</td>\n      <td>4</td>\n      <td>0</td>\n      <td>0</td>\n      <td>1</td>\n      <td>0</td>\n      <td>0</td>\n      <td>0</td>\n    </tr>\n    <tr>\n      <th>19070</th>\n      <td>Miss Grace Black</td>\n      <td>1974</td>\n      <td>Graduation</td>\n      <td>Together</td>\n      <td>114297.0</td>\n      <td>0</td>\n      <td>0</td>\n      <td>2021-04-10 00:00:00</td>\n      <td>74.0</td>\n      <td>7080.0</td>\n      <td>3680</td>\n      <td>7620.0</td>\n      <td>1840.0</td>\n      <td>1220.0</td>\n      <td>46.0</td>\n      <td>1</td>\n      <td>5</td>\n      <td>9</td>\n      <td>12</td>\n      <td>2</td>\n      <td>0</td>\n      <td>0</td>\n      <td>0</td>\n      <td>0</td>\n      <td>0</td>\n      <td>0</td>\n    </tr>\n    <tr>\n      <th>29888</th>\n      <td>Mr. Gavin Morrison</td>\n      <td>1960</td>\n      <td>PhD</td>\n      <td>Together</td>\n      <td>115476.0</td>\n      <td>0</td>\n      <td>0</td>\n      <td>2022-01-12 00:00:00</td>\n      <td>85.0</td>\n      <td>4130.0</td>\n      <td>380</td>\n      <td>4890.0</td>\n      <td>3640.0</td>\n      <td>380.0</td>\n      <td>28.0</td>\n      <td>1</td>\n      <td>5</td>\n      <td>5</td>\n      <td>7</td>\n      <td>1</td>\n      <td>0</td>\n      <td>0</td>\n      <td>0</td>\n      <td>0</td>\n      <td>0</td>\n      <td>0</td>\n    </tr>\n  </tbody>\n</table>\n</div>"
     },
     "execution_count": 718,
     "metadata": {},
     "output_type": "execute_result"
    }
   ],
   "source": [
    "df.head(3)"
   ],
   "metadata": {
    "collapsed": false
   }
  },
  {
   "cell_type": "code",
   "execution_count": 719,
   "outputs": [
    {
     "data": {
      "text/plain": "                            Name  Birthyear   Education Marital_Status  \\\nCustomerID                                                               \n29186       Mr. Thomas Churchill       1967         PhD       Together   \n23312         Miss Angela Murray       1989  Graduation         Single   \n15581          Miss Diana Taylor       1960  Graduation         Single   \n\n              Income  Kid_Younger6  Children_6to18       Date_Adherence  \\\nCustomerID                                                                \n29186        56039.0             0               1  2021-12-15 00:00:00   \n23312        44867.0             1               0  2020-11-12 00:00:00   \n15581       124379.0             0               0  2021-02-04 00:00:00   \n\n            Recency  MntMeat&Fish  MntEntries  MntVegan&Vegetarian  MntDrinks  \\\nCustomerID                                                                      \n29186          30.0         540.0           0                135.0        0.0   \n23312           8.0          80.0         120                210.0      120.0   \n15581          80.0        7280.0         422               1692.0     3760.0   \n\n            MntDesserts  MntAdditionalRequests  NumOfferPurchases  \\\nCustomerID                                                          \n29186               0.0                    5.0                  2   \n23312             100.0                   17.0                  1   \n15581            1880.0                  235.0                  1   \n\n            NumAppPurchases  NumTakeAwayPurchases  NumStorePurchases  \\\nCustomerID                                                             \n29186                     3                     1                  4   \n23312                     3                     1                  3   \n15581                     6                    12                 11   \n\n            NumAppVisitsMonth  Complain  Response_Cmp1  Response_Cmp2  \\\nCustomerID                                                              \n29186                       6         0              0              0   \n23312                       8         0              0              0   \n15581                       2         0              0              0   \n\n            Response_Cmp3  Response_Cmp4  Response_Cmp5  \nCustomerID                                               \n29186                   0              0              0  \n23312                   0              0              0  \n15581                   1              1              0  ",
      "text/html": "<div>\n<style scoped>\n    .dataframe tbody tr th:only-of-type {\n        vertical-align: middle;\n    }\n\n    .dataframe tbody tr th {\n        vertical-align: top;\n    }\n\n    .dataframe thead th {\n        text-align: right;\n    }\n</style>\n<table border=\"1\" class=\"dataframe\">\n  <thead>\n    <tr style=\"text-align: right;\">\n      <th></th>\n      <th>Name</th>\n      <th>Birthyear</th>\n      <th>Education</th>\n      <th>Marital_Status</th>\n      <th>Income</th>\n      <th>Kid_Younger6</th>\n      <th>Children_6to18</th>\n      <th>Date_Adherence</th>\n      <th>Recency</th>\n      <th>MntMeat&amp;Fish</th>\n      <th>MntEntries</th>\n      <th>MntVegan&amp;Vegetarian</th>\n      <th>MntDrinks</th>\n      <th>MntDesserts</th>\n      <th>MntAdditionalRequests</th>\n      <th>NumOfferPurchases</th>\n      <th>NumAppPurchases</th>\n      <th>NumTakeAwayPurchases</th>\n      <th>NumStorePurchases</th>\n      <th>NumAppVisitsMonth</th>\n      <th>Complain</th>\n      <th>Response_Cmp1</th>\n      <th>Response_Cmp2</th>\n      <th>Response_Cmp3</th>\n      <th>Response_Cmp4</th>\n      <th>Response_Cmp5</th>\n    </tr>\n    <tr>\n      <th>CustomerID</th>\n      <th></th>\n      <th></th>\n      <th></th>\n      <th></th>\n      <th></th>\n      <th></th>\n      <th></th>\n      <th></th>\n      <th></th>\n      <th></th>\n      <th></th>\n      <th></th>\n      <th></th>\n      <th></th>\n      <th></th>\n      <th></th>\n      <th></th>\n      <th></th>\n      <th></th>\n      <th></th>\n      <th></th>\n      <th></th>\n      <th></th>\n      <th></th>\n      <th></th>\n      <th></th>\n    </tr>\n  </thead>\n  <tbody>\n    <tr>\n      <th>29186</th>\n      <td>Mr. Thomas Churchill</td>\n      <td>1967</td>\n      <td>PhD</td>\n      <td>Together</td>\n      <td>56039.0</td>\n      <td>0</td>\n      <td>1</td>\n      <td>2021-12-15 00:00:00</td>\n      <td>30.0</td>\n      <td>540.0</td>\n      <td>0</td>\n      <td>135.0</td>\n      <td>0.0</td>\n      <td>0.0</td>\n      <td>5.0</td>\n      <td>2</td>\n      <td>3</td>\n      <td>1</td>\n      <td>4</td>\n      <td>6</td>\n      <td>0</td>\n      <td>0</td>\n      <td>0</td>\n      <td>0</td>\n      <td>0</td>\n      <td>0</td>\n    </tr>\n    <tr>\n      <th>23312</th>\n      <td>Miss Angela Murray</td>\n      <td>1989</td>\n      <td>Graduation</td>\n      <td>Single</td>\n      <td>44867.0</td>\n      <td>1</td>\n      <td>0</td>\n      <td>2020-11-12 00:00:00</td>\n      <td>8.0</td>\n      <td>80.0</td>\n      <td>120</td>\n      <td>210.0</td>\n      <td>120.0</td>\n      <td>100.0</td>\n      <td>17.0</td>\n      <td>1</td>\n      <td>3</td>\n      <td>1</td>\n      <td>3</td>\n      <td>8</td>\n      <td>0</td>\n      <td>0</td>\n      <td>0</td>\n      <td>0</td>\n      <td>0</td>\n      <td>0</td>\n    </tr>\n    <tr>\n      <th>15581</th>\n      <td>Miss Diana Taylor</td>\n      <td>1960</td>\n      <td>Graduation</td>\n      <td>Single</td>\n      <td>124379.0</td>\n      <td>0</td>\n      <td>0</td>\n      <td>2021-02-04 00:00:00</td>\n      <td>80.0</td>\n      <td>7280.0</td>\n      <td>422</td>\n      <td>1692.0</td>\n      <td>3760.0</td>\n      <td>1880.0</td>\n      <td>235.0</td>\n      <td>1</td>\n      <td>6</td>\n      <td>12</td>\n      <td>11</td>\n      <td>2</td>\n      <td>0</td>\n      <td>0</td>\n      <td>0</td>\n      <td>1</td>\n      <td>1</td>\n      <td>0</td>\n    </tr>\n  </tbody>\n</table>\n</div>"
     },
     "execution_count": 719,
     "metadata": {},
     "output_type": "execute_result"
    }
   ],
   "source": [
    "df.tail(3)"
   ],
   "metadata": {
    "collapsed": false
   }
  },
  {
   "cell_type": "markdown",
   "source": [
    "Q: To check the basic information of the dataset we've used the `info` method"
   ],
   "metadata": {
    "collapsed": false
   }
  },
  {
   "cell_type": "code",
   "execution_count": 720,
   "outputs": [
    {
     "name": "stdout",
     "output_type": "stream",
     "text": [
      "<class 'pandas.core.frame.DataFrame'>\n",
      "Int64Index: 7000 entries, 14594 to 15581\n",
      "Data columns (total 26 columns):\n",
      " #   Column                 Non-Null Count  Dtype  \n",
      "---  ------                 --------------  -----  \n",
      " 0   Name                   7000 non-null   object \n",
      " 1   Birthyear              7000 non-null   int64  \n",
      " 2   Education              6986 non-null   object \n",
      " 3   Marital_Status         7000 non-null   object \n",
      " 4   Income                 7000 non-null   float64\n",
      " 5   Kid_Younger6           7000 non-null   int64  \n",
      " 6   Children_6to18         7000 non-null   int64  \n",
      " 7   Date_Adherence         7000 non-null   object \n",
      " 8   Recency                6977 non-null   float64\n",
      " 9   MntMeat&Fish           7000 non-null   float64\n",
      " 10  MntEntries             7000 non-null   int64  \n",
      " 11  MntVegan&Vegetarian    7000 non-null   float64\n",
      " 12  MntDrinks              6972 non-null   float64\n",
      " 13  MntDesserts            7000 non-null   float64\n",
      " 14  MntAdditionalRequests  7000 non-null   float64\n",
      " 15  NumOfferPurchases      7000 non-null   int64  \n",
      " 16  NumAppPurchases        7000 non-null   int64  \n",
      " 17  NumTakeAwayPurchases   7000 non-null   int64  \n",
      " 18  NumStorePurchases      7000 non-null   int64  \n",
      " 19  NumAppVisitsMonth      7000 non-null   int64  \n",
      " 20  Complain               7000 non-null   int64  \n",
      " 21  Response_Cmp1          7000 non-null   int64  \n",
      " 22  Response_Cmp2          7000 non-null   int64  \n",
      " 23  Response_Cmp3          7000 non-null   int64  \n",
      " 24  Response_Cmp4          7000 non-null   int64  \n",
      " 25  Response_Cmp5          7000 non-null   int64  \n",
      "dtypes: float64(7), int64(15), object(4)\n",
      "memory usage: 1.4+ MB\n"
     ]
    }
   ],
   "source": [
    "df.info()"
   ],
   "metadata": {
    "collapsed": false
   }
  },
  {
   "cell_type": "markdown",
   "source": [
    ">A: We can observe the data type of the dataset and the how many of features per data type  `dtypes: float64 - (7), int64 - (15), object - (4)`, the memory usage of `1.4+MB`, and the non-null values present per columns. <br>\n",
    "> Using only `info` method we understand that `'Education', 'Recency', 'MntDrinks'` have __14, 23, 28 null values__ that require some action."
   ],
   "metadata": {
    "collapsed": false
   }
  },
  {
   "cell_type": "markdown",
   "source": [
    "# 2.2 Statistical Exploration"
   ],
   "metadata": {
    "collapsed": false
   }
  },
  {
   "cell_type": "markdown",
   "source": [
    "## 2.2.1 Numerical Variables"
   ],
   "metadata": {
    "collapsed": false
   }
  },
  {
   "cell_type": "code",
   "execution_count": 721,
   "outputs": [
    {
     "data": {
      "text/plain": "         Birthyear         Income  Kid_Younger6  Children_6to18      Recency  \\\ncount  7000.000000    7000.000000   7000.000000     7000.000000  6977.000000   \nmean   1976.451429   77988.962407      0.440571        0.490571    49.235058   \nstd      11.996270   35409.810253      0.543477        0.542174    28.922688   \nmin    1948.000000    2493.800000      0.000000        0.000000     0.000000   \n25%    1967.000000   51586.250000      0.000000        0.000000    24.000000   \n50%    1977.000000   77190.000000      0.000000        0.000000    49.000000   \n75%    1985.000000  102016.250000      1.000000        1.000000    74.000000   \nmax    2005.000000  237639.725000      2.000000        2.000000    99.000000   \n\n       MntMeat&Fish   MntEntries  MntVegan&Vegetarian    MntDrinks  \\\ncount   7000.000000  7000.000000          7000.000000  6972.000000   \nmean    3079.523800   534.749429          2785.050786   545.657544   \nstd     3370.377166   787.846684          3908.718244   805.149088   \nmin        0.000000     0.000000             0.000000     0.000000   \n25%      250.000000    40.000000           240.000000    40.000000   \n50%     1820.000000   180.000000          1110.000000   180.000000   \n75%     5070.000000   680.000000          3795.000000   700.000000   \nmax    14980.000000  3980.000000         25974.000000  3980.000000   \n\n       MntDesserts  MntAdditionalRequests  NumOfferPurchases  NumAppPurchases  \\\ncount  7000.000000            7000.000000        7000.000000      7000.000000   \nmean    540.656029              42.556186           2.448429         6.015714   \nstd     802.221866              49.650747           2.306968         2.745537   \nmin       0.000000               0.000000           0.000000         0.000000   \n25%      40.000000               9.000000           1.000000         4.000000   \n50%     180.000000              24.000000           2.000000         6.000000   \n75%     680.000000              57.000000           3.000000         8.000000   \nmax    3980.000000             249.000000          16.000000        13.000000   \n\n       NumTakeAwayPurchases  NumStorePurchases  NumAppVisitsMonth  \\\ncount           7000.000000        7000.000000        7000.000000   \nmean               3.834571           5.790571           5.278286   \nstd                3.331142           3.295708           2.748596   \nmin                0.000000           0.000000           0.000000   \n25%                1.000000           3.000000           3.000000   \n50%                3.000000           5.000000           5.000000   \n75%                5.000000           8.000000           7.000000   \nmax               24.000000          13.000000          20.000000   \n\n          Complain  Response_Cmp1  Response_Cmp2  Response_Cmp3  \\\ncount  7000.000000    7000.000000    7000.000000    7000.000000   \nmean      0.010286       0.079143       0.073286       0.083000   \nstd       0.100903       0.269981       0.260624       0.275902   \nmin       0.000000       0.000000       0.000000       0.000000   \n25%       0.000000       0.000000       0.000000       0.000000   \n50%       0.000000       0.000000       0.000000       0.000000   \n75%       0.000000       0.000000       0.000000       0.000000   \nmax       1.000000       1.000000       1.000000       1.000000   \n\n       Response_Cmp4  Response_Cmp5  \ncount    7000.000000    7000.000000  \nmean        0.065857       0.014286  \nstd         0.248050       0.118675  \nmin         0.000000       0.000000  \n25%         0.000000       0.000000  \n50%         0.000000       0.000000  \n75%         0.000000       0.000000  \nmax         1.000000       1.000000  ",
      "text/html": "<div>\n<style scoped>\n    .dataframe tbody tr th:only-of-type {\n        vertical-align: middle;\n    }\n\n    .dataframe tbody tr th {\n        vertical-align: top;\n    }\n\n    .dataframe thead th {\n        text-align: right;\n    }\n</style>\n<table border=\"1\" class=\"dataframe\">\n  <thead>\n    <tr style=\"text-align: right;\">\n      <th></th>\n      <th>Birthyear</th>\n      <th>Income</th>\n      <th>Kid_Younger6</th>\n      <th>Children_6to18</th>\n      <th>Recency</th>\n      <th>MntMeat&amp;Fish</th>\n      <th>MntEntries</th>\n      <th>MntVegan&amp;Vegetarian</th>\n      <th>MntDrinks</th>\n      <th>MntDesserts</th>\n      <th>MntAdditionalRequests</th>\n      <th>NumOfferPurchases</th>\n      <th>NumAppPurchases</th>\n      <th>NumTakeAwayPurchases</th>\n      <th>NumStorePurchases</th>\n      <th>NumAppVisitsMonth</th>\n      <th>Complain</th>\n      <th>Response_Cmp1</th>\n      <th>Response_Cmp2</th>\n      <th>Response_Cmp3</th>\n      <th>Response_Cmp4</th>\n      <th>Response_Cmp5</th>\n    </tr>\n  </thead>\n  <tbody>\n    <tr>\n      <th>count</th>\n      <td>7000.000000</td>\n      <td>7000.000000</td>\n      <td>7000.000000</td>\n      <td>7000.000000</td>\n      <td>6977.000000</td>\n      <td>7000.000000</td>\n      <td>7000.000000</td>\n      <td>7000.000000</td>\n      <td>6972.000000</td>\n      <td>7000.000000</td>\n      <td>7000.000000</td>\n      <td>7000.000000</td>\n      <td>7000.000000</td>\n      <td>7000.000000</td>\n      <td>7000.000000</td>\n      <td>7000.000000</td>\n      <td>7000.000000</td>\n      <td>7000.000000</td>\n      <td>7000.000000</td>\n      <td>7000.000000</td>\n      <td>7000.000000</td>\n      <td>7000.000000</td>\n    </tr>\n    <tr>\n      <th>mean</th>\n      <td>1976.451429</td>\n      <td>77988.962407</td>\n      <td>0.440571</td>\n      <td>0.490571</td>\n      <td>49.235058</td>\n      <td>3079.523800</td>\n      <td>534.749429</td>\n      <td>2785.050786</td>\n      <td>545.657544</td>\n      <td>540.656029</td>\n      <td>42.556186</td>\n      <td>2.448429</td>\n      <td>6.015714</td>\n      <td>3.834571</td>\n      <td>5.790571</td>\n      <td>5.278286</td>\n      <td>0.010286</td>\n      <td>0.079143</td>\n      <td>0.073286</td>\n      <td>0.083000</td>\n      <td>0.065857</td>\n      <td>0.014286</td>\n    </tr>\n    <tr>\n      <th>std</th>\n      <td>11.996270</td>\n      <td>35409.810253</td>\n      <td>0.543477</td>\n      <td>0.542174</td>\n      <td>28.922688</td>\n      <td>3370.377166</td>\n      <td>787.846684</td>\n      <td>3908.718244</td>\n      <td>805.149088</td>\n      <td>802.221866</td>\n      <td>49.650747</td>\n      <td>2.306968</td>\n      <td>2.745537</td>\n      <td>3.331142</td>\n      <td>3.295708</td>\n      <td>2.748596</td>\n      <td>0.100903</td>\n      <td>0.269981</td>\n      <td>0.260624</td>\n      <td>0.275902</td>\n      <td>0.248050</td>\n      <td>0.118675</td>\n    </tr>\n    <tr>\n      <th>min</th>\n      <td>1948.000000</td>\n      <td>2493.800000</td>\n      <td>0.000000</td>\n      <td>0.000000</td>\n      <td>0.000000</td>\n      <td>0.000000</td>\n      <td>0.000000</td>\n      <td>0.000000</td>\n      <td>0.000000</td>\n      <td>0.000000</td>\n      <td>0.000000</td>\n      <td>0.000000</td>\n      <td>0.000000</td>\n      <td>0.000000</td>\n      <td>0.000000</td>\n      <td>0.000000</td>\n      <td>0.000000</td>\n      <td>0.000000</td>\n      <td>0.000000</td>\n      <td>0.000000</td>\n      <td>0.000000</td>\n      <td>0.000000</td>\n    </tr>\n    <tr>\n      <th>25%</th>\n      <td>1967.000000</td>\n      <td>51586.250000</td>\n      <td>0.000000</td>\n      <td>0.000000</td>\n      <td>24.000000</td>\n      <td>250.000000</td>\n      <td>40.000000</td>\n      <td>240.000000</td>\n      <td>40.000000</td>\n      <td>40.000000</td>\n      <td>9.000000</td>\n      <td>1.000000</td>\n      <td>4.000000</td>\n      <td>1.000000</td>\n      <td>3.000000</td>\n      <td>3.000000</td>\n      <td>0.000000</td>\n      <td>0.000000</td>\n      <td>0.000000</td>\n      <td>0.000000</td>\n      <td>0.000000</td>\n      <td>0.000000</td>\n    </tr>\n    <tr>\n      <th>50%</th>\n      <td>1977.000000</td>\n      <td>77190.000000</td>\n      <td>0.000000</td>\n      <td>0.000000</td>\n      <td>49.000000</td>\n      <td>1820.000000</td>\n      <td>180.000000</td>\n      <td>1110.000000</td>\n      <td>180.000000</td>\n      <td>180.000000</td>\n      <td>24.000000</td>\n      <td>2.000000</td>\n      <td>6.000000</td>\n      <td>3.000000</td>\n      <td>5.000000</td>\n      <td>5.000000</td>\n      <td>0.000000</td>\n      <td>0.000000</td>\n      <td>0.000000</td>\n      <td>0.000000</td>\n      <td>0.000000</td>\n      <td>0.000000</td>\n    </tr>\n    <tr>\n      <th>75%</th>\n      <td>1985.000000</td>\n      <td>102016.250000</td>\n      <td>1.000000</td>\n      <td>1.000000</td>\n      <td>74.000000</td>\n      <td>5070.000000</td>\n      <td>680.000000</td>\n      <td>3795.000000</td>\n      <td>700.000000</td>\n      <td>680.000000</td>\n      <td>57.000000</td>\n      <td>3.000000</td>\n      <td>8.000000</td>\n      <td>5.000000</td>\n      <td>8.000000</td>\n      <td>7.000000</td>\n      <td>0.000000</td>\n      <td>0.000000</td>\n      <td>0.000000</td>\n      <td>0.000000</td>\n      <td>0.000000</td>\n      <td>0.000000</td>\n    </tr>\n    <tr>\n      <th>max</th>\n      <td>2005.000000</td>\n      <td>237639.725000</td>\n      <td>2.000000</td>\n      <td>2.000000</td>\n      <td>99.000000</td>\n      <td>14980.000000</td>\n      <td>3980.000000</td>\n      <td>25974.000000</td>\n      <td>3980.000000</td>\n      <td>3980.000000</td>\n      <td>249.000000</td>\n      <td>16.000000</td>\n      <td>13.000000</td>\n      <td>24.000000</td>\n      <td>13.000000</td>\n      <td>20.000000</td>\n      <td>1.000000</td>\n      <td>1.000000</td>\n      <td>1.000000</td>\n      <td>1.000000</td>\n      <td>1.000000</td>\n      <td>1.000000</td>\n    </tr>\n  </tbody>\n</table>\n</div>"
     },
     "execution_count": 721,
     "metadata": {},
     "output_type": "execute_result"
    }
   ],
   "source": [
    "df.describe()"
   ],
   "metadata": {
    "collapsed": false
   }
  },
  {
   "cell_type": "markdown",
   "source": [
    "> _The describe return we can get a first glance and make some conclusion:_\n",
    "\n",
    ">__Birthyear__ - could originate an Age column for readability purposes<br>\n",
    "__Income__ - Min and Max are very far from each other and far from the mean value which could indicate outliers<br>\n",
    "__Recency__ - 6977 valid values, hence we should look in deep and decide on how to minimize that effect of missing values<br>\n",
    "__MntMeat&Fish__ - Min and Max are distant from each other and have high standard deviation which could effect some future conclusion<br>\n",
    "__MntEntries__ - Again has high standard deviation that we should analyze, Min and Max far apart, similar to MntMeat&Fish<br>\n",
    "__MntVegan&Vegetarian__ - Similar to the previous two Mnt columns<br>\n",
    "__MntDrinks, MntDesserts__ - Seems to be very similar between them<br>\n",
    "__MntAdditionalRequests__ - The max value standard deviation seems high and also the max value very far apart from the mean<br>\n",
    "__NumOfferPurchases, NumTakeAwayPurchases, NumAppVisitsMonth__  - Have a max value to distante from the mean that could be true but we need to take into account<br>\n",
    "__NumAppPurchases, SumStorePurchases__ - Seems does not have strange summary statistcs<br>\n",
    "__Kid_Younger6, Children_6to18__ - 75% of clients have at least one child"
   ],
   "metadata": {
    "collapsed": false
   }
  },
  {
   "cell_type": "markdown",
   "source": [
    "**Q**: Skewness of each variable "
   ],
   "metadata": {
    "collapsed": false
   }
  },
  {
   "cell_type": "code",
   "execution_count": 722,
   "outputs": [
    {
     "name": "stderr",
     "output_type": "stream",
     "text": [
      "/var/folders/gt/lg95g0n95mqdr3vk5d1k062h0000gn/T/ipykernel_51760/547062910.py:1: FutureWarning: Dropping of nuisance columns in DataFrame reductions (with 'numeric_only=None') is deprecated; in a future version this will raise TypeError.  Select only valid columns before calling the reduction.\n",
      "  df.skew()\n"
     ]
    },
    {
     "data": {
      "text/plain": "Birthyear               -0.092478\nIncome                   0.844721\nKid_Younger6             0.693587\nChildren_6to18           0.451693\nRecency                  0.017676\nMntMeat&Fish             1.148862\nMntEntries               2.087220\nMntVegan&Vegetarian      2.486897\nMntDrinks                2.046308\nMntDesserts              2.057811\nMntAdditionalRequests    1.826522\nNumOfferPurchases        2.860514\nNumAppPurchases          0.525873\nNumTakeAwayPurchases     2.254158\nNumStorePurchases        0.623254\nNumAppVisitsMonth        1.005192\nComplain                 9.709429\nResponse_Cmp1            3.118572\nResponse_Cmp2            3.275500\nResponse_Cmp3            3.023677\nResponse_Cmp4            3.501448\nResponse_Cmp5            8.187993\ndtype: float64"
     },
     "execution_count": 722,
     "metadata": {},
     "output_type": "execute_result"
    }
   ],
   "source": [
    "df.skew()"
   ],
   "metadata": {
    "collapsed": false
   }
  },
  {
   "cell_type": "markdown",
   "source": [
    "Concerning the variables' skewness, we can conclude the following:\n",
    "- `Moderate skewness (between |0.5| and |1.0|)`: Birthyear, Income, Kid_Younger6, Children_6to18, Recency, NumAppPurchases, NumStorePurchases, NumAppVisitsMonth\n",
    "- `High skewness (higher than |1.0|)`: MntMeat&Fish, MntEntries, MntVegan&Vegetarian, MntDrinks, MntDesserts, MntAdditionalRequests, NumOfferPurchases, NumTakeAwayPurchases, Complain, Response_Cmp1, Response_Cmp2, Response_Cmp3, Response_Cmp4, Response_Cmp5"
   ],
   "metadata": {
    "collapsed": false
   }
  },
  {
   "cell_type": "code",
   "execution_count": 723,
   "outputs": [
    {
     "name": "stderr",
     "output_type": "stream",
     "text": [
      "/var/folders/gt/lg95g0n95mqdr3vk5d1k062h0000gn/T/ipykernel_51760/3952544226.py:1: FutureWarning: Dropping of nuisance columns in DataFrame reductions (with 'numeric_only=None') is deprecated; in a future version this will raise TypeError.  Select only valid columns before calling the reduction.\n",
      "  df.kurt()\n"
     ]
    },
    {
     "data": {
      "text/plain": "Birthyear                -0.857341\nIncome                    2.649035\nKid_Younger6             -0.651127\nChildren_6to18           -0.973333\nRecency                  -1.197978\nMntMeat&Fish              0.532098\nMntEntries                4.096167\nMntVegan&Vegetarian       8.431538\nMntDrinks                 3.839256\nMntDesserts               3.813464\nMntAdditionalRequests     3.084190\nNumOfferPurchases        10.997946\nNumAppPurchases          -0.222899\nNumTakeAwayPurchases      8.582138\nNumStorePurchases        -0.694327\nNumAppVisitsMonth         4.992870\nComplain                 92.299387\nResponse_Cmp1             7.727700\nResponse_Cmp2             8.731398\nResponse_Cmp3             7.144665\nResponse_Cmp4            10.263068\nResponse_Cmp5            65.061813\ndtype: float64"
     },
     "execution_count": 723,
     "metadata": {},
     "output_type": "execute_result"
    }
   ],
   "source": [
    "df.kurt()"
   ],
   "metadata": {
    "collapsed": false
   }
  },
  {
   "cell_type": "markdown",
   "source": [
    "Features with kurtosis higher than 3 could indicate presence of outliers, hence we should have special considerantion with the following features:\n",
    ">MntEntries, MntVegan&Vegetarian, MntDrinks, MntDesserts, NumOfferPurchases, NumAppVisitsMonth\n",
    "\n",
    "Note: Binomial Variables Complain, and Response_Cmp1 the kurtosis we will not consider as outliers"
   ],
   "metadata": {
    "collapsed": false
   }
  },
  {
   "cell_type": "markdown",
   "source": [
    "## 2.2.2 Categorical Values"
   ],
   "metadata": {
    "collapsed": false
   }
  },
  {
   "cell_type": "code",
   "execution_count": 724,
   "outputs": [
    {
     "data": {
      "text/plain": "                     Name   Education Marital_Status       Date_Adherence\ncount                7000        6986           7000                 7000\nunique               6241           9             10                  701\ntop     Mr. Stewart Grant  Graduation        Married  2020-09-19 00:00:00\nfreq                    3        3497           2830                   23",
      "text/html": "<div>\n<style scoped>\n    .dataframe tbody tr th:only-of-type {\n        vertical-align: middle;\n    }\n\n    .dataframe tbody tr th {\n        vertical-align: top;\n    }\n\n    .dataframe thead th {\n        text-align: right;\n    }\n</style>\n<table border=\"1\" class=\"dataframe\">\n  <thead>\n    <tr style=\"text-align: right;\">\n      <th></th>\n      <th>Name</th>\n      <th>Education</th>\n      <th>Marital_Status</th>\n      <th>Date_Adherence</th>\n    </tr>\n  </thead>\n  <tbody>\n    <tr>\n      <th>count</th>\n      <td>7000</td>\n      <td>6986</td>\n      <td>7000</td>\n      <td>7000</td>\n    </tr>\n    <tr>\n      <th>unique</th>\n      <td>6241</td>\n      <td>9</td>\n      <td>10</td>\n      <td>701</td>\n    </tr>\n    <tr>\n      <th>top</th>\n      <td>Mr. Stewart Grant</td>\n      <td>Graduation</td>\n      <td>Married</td>\n      <td>2020-09-19 00:00:00</td>\n    </tr>\n    <tr>\n      <th>freq</th>\n      <td>3</td>\n      <td>3497</td>\n      <td>2830</td>\n      <td>23</td>\n    </tr>\n  </tbody>\n</table>\n</div>"
     },
     "execution_count": 724,
     "metadata": {},
     "output_type": "execute_result"
    }
   ],
   "source": [
    "df.describe(include = object)"
   ],
   "metadata": {
    "collapsed": false
   }
  },
  {
   "cell_type": "markdown",
   "source": [
    "> We can conclude that the education as **14 missing** values"
   ],
   "metadata": {
    "collapsed": false
   }
  },
  {
   "cell_type": "markdown",
   "source": [
    "#### Level/Possible values of Categorical Features"
   ],
   "metadata": {
    "collapsed": false
   }
  },
  {
   "cell_type": "markdown",
   "source": [
    "### `Name` prefix unique values and count"
   ],
   "metadata": {
    "collapsed": false
   }
  },
  {
   "cell_type": "code",
   "execution_count": 725,
   "outputs": [
    {
     "data": {
      "text/plain": "Mr.     5133\nMiss    1469\nMrs.     398\nName: 0, dtype: int64"
     },
     "execution_count": 725,
     "metadata": {},
     "output_type": "execute_result"
    }
   ],
   "source": [
    "df['Name'].str.partition(\" \")[0].value_counts()"
   ],
   "metadata": {
    "collapsed": false
   }
  },
  {
   "cell_type": "markdown",
   "source": [
    "With the prefix we can generate a `gender` feature to further explore the dataset. We will deal with that in the data transformation capther"
   ],
   "metadata": {
    "collapsed": false
   }
  },
  {
   "cell_type": "markdown",
   "source": [
    "#### **`Gender`** feature creation"
   ],
   "metadata": {
    "collapsed": false
   }
  },
  {
   "cell_type": "code",
   "execution_count": 726,
   "outputs": [],
   "source": [
    "df[\"Gender\"] = df['Name'].str.partition(\" \")[0]\n",
    "df = df.replace({\"Gender\":{\"Mr.\": 1,\"Miss\": 0,\"Mrs.\": 0}})"
   ],
   "metadata": {
    "collapsed": false
   }
  },
  {
   "cell_type": "markdown",
   "source": [
    "### `Education` unique values and count"
   ],
   "metadata": {
    "collapsed": false
   }
  },
  {
   "cell_type": "code",
   "execution_count": 727,
   "outputs": [
    {
     "data": {
      "text/plain": "Graduation    3497\nPhD           1494\nMaster        1135\nHighSchool     663\nBasic          179\nmaster           7\ngraduation       7\nphd              2\nhighschool       2\nName: Education, dtype: int64"
     },
     "execution_count": 727,
     "metadata": {},
     "output_type": "execute_result"
    }
   ],
   "source": [
    "df[\"Education\"].value_counts()"
   ],
   "metadata": {
    "collapsed": false
   }
  },
  {
   "cell_type": "markdown",
   "source": [
    "We have some issues that will need trasformatioin:<br>\n",
    "- Graduation, Master, HighSchool are written in different ways<br>\n",
    "- `Basic` and `HighSchool` need different levels?"
   ],
   "metadata": {
    "collapsed": false
   }
  },
  {
   "cell_type": "markdown",
   "source": [
    "#### Education standardization"
   ],
   "metadata": {
    "collapsed": false
   }
  },
  {
   "cell_type": "code",
   "execution_count": 728,
   "outputs": [],
   "source": [
    "df = df.replace({\"Education\":{\"master\":\"Master\", \"graduation\":\"Graduation\", \"phd\":\"PhD\",\"highschool\":\"HighSchool\"}})"
   ],
   "metadata": {
    "collapsed": false
   }
  },
  {
   "cell_type": "markdown",
   "source": [
    "### `Marital_Status` unique values and count"
   ],
   "metadata": {
    "collapsed": false
   }
  },
  {
   "cell_type": "code",
   "execution_count": 729,
   "outputs": [
    {
     "data": {
      "text/plain": "Married     2830\nTogether    1683\nSingle      1525\nDivorced     637\nWidow        243\nmarried       36\ntogether      23\nsingle        13\ndivorced       8\nwidow          2\nName: Marital_Status, dtype: int64"
     },
     "execution_count": 729,
     "metadata": {},
     "output_type": "execute_result"
    }
   ],
   "source": [
    "df[\"Marital_Status\"].value_counts()"
   ],
   "metadata": {
    "collapsed": false
   }
  },
  {
   "cell_type": "markdown",
   "source": [
    "Similarly to previous feature we also have some issues that need transformation:<br>\n",
    "- Married, Together, Single, Divorced and Widow are written with lower and capital letters\n",
    "- We could also consider that Married and Together are similar and joined them in the same level<br>"
   ],
   "metadata": {
    "collapsed": false
   }
  },
  {
   "cell_type": "markdown",
   "source": [
    "#### Marital_Status standardization"
   ],
   "metadata": {
    "collapsed": false
   }
  },
  {
   "cell_type": "code",
   "execution_count": 730,
   "outputs": [
    {
     "data": {
      "text/plain": "Married     4572\nSingle      1538\nDivorced     645\nWidow        245\nName: Marital_Status, dtype: int64"
     },
     "execution_count": 730,
     "metadata": {},
     "output_type": "execute_result"
    }
   ],
   "source": [
    "df = df.replace({\"Marital_Status\":{\"married\":\"Married\", \"together\":\"Married\", \"single\":\"Single\",\"widow\":\"Widow\",\"divorced\":\"Divorced\",\"Together\":\"Married\"}})\n",
    "df[\"Marital_Status\"].value_counts()"
   ],
   "metadata": {
    "collapsed": false
   }
  },
  {
   "cell_type": "markdown",
   "source": [
    "`Date_Adherence` unqiue values and count"
   ],
   "metadata": {
    "collapsed": false
   }
  },
  {
   "cell_type": "code",
   "execution_count": 731,
   "outputs": [
    {
     "data": {
      "text/plain": "2020-09-19    23\n2021-08-22    20\n2021-07-30    20\n2022-05-23    20\n2021-08-21    19\n              ..\n2021-03-09     3\n2020-09-18     2\n2020-07-30     2\n2020-08-29     2\n2021-03-22     2\nName: Date_Adherence, Length: 701, dtype: int64"
     },
     "execution_count": 731,
     "metadata": {},
     "output_type": "execute_result"
    }
   ],
   "source": [
    "df[\"Date_Adherence\"].value_counts()"
   ],
   "metadata": {
    "collapsed": false
   }
  },
  {
   "cell_type": "markdown",
   "source": [
    "`Date_Adherence` is a date and will need transformation to a date format for further exploration"
   ],
   "metadata": {
    "collapsed": false
   }
  },
  {
   "cell_type": "markdown",
   "source": [
    "## 2.3 Visual Exploration"
   ],
   "metadata": {
    "collapsed": false
   }
  },
  {
   "cell_type": "markdown",
   "source": [
    "### 2.3.1 Numerical Variables"
   ],
   "metadata": {
    "collapsed": false
   }
  },
  {
   "cell_type": "markdown",
   "source": [
    "## 2.4. In-Depth Exploration"
   ],
   "metadata": {
    "collapsed": false
   }
  },
  {
   "cell_type": "code",
   "execution_count": 731,
   "outputs": [],
   "source": [],
   "metadata": {
    "collapsed": false
   }
  },
  {
   "cell_type": "markdown",
   "source": [
    "# 3. Preprocess Data"
   ],
   "metadata": {
    "collapsed": false
   }
  },
  {
   "cell_type": "markdown",
   "source": [
    "## 3.1. Data Cleaning"
   ],
   "metadata": {
    "collapsed": false
   }
  },
  {
   "cell_type": "markdown",
   "source": [
    "### 3.1.1. Outliers"
   ],
   "metadata": {
    "collapsed": false
   }
  },
  {
   "cell_type": "markdown",
   "source": [],
   "metadata": {
    "collapsed": false
   }
  },
  {
   "cell_type": "code",
   "execution_count": 732,
   "outputs": [],
   "source": [
    "#fig, (ax1, ax2) = plt.subplots(1, 2, figsize = (10, 5))\n",
    "#ax1.boxplot(df['MntVegan&Vegetarian'])\n",
    "#ax2.boxplot(df['Income'])"
   ],
   "metadata": {
    "collapsed": false
   }
  },
  {
   "cell_type": "code",
   "execution_count": 733,
   "outputs": [],
   "source": [
    "df.drop(df[abs(zscore(df['MntVegan&Vegetarian'])) > 3].index, inplace=True)\n",
    "df.drop(df[abs(zscore(df['Income'])) > 3].index, inplace=True)"
   ],
   "metadata": {
    "collapsed": false
   }
  },
  {
   "cell_type": "code",
   "execution_count": 734,
   "outputs": [],
   "source": [
    "#fig, (ax1, ax2) = plt.subplots(1, 2, figsize = (10, 5))\n",
    "#ax1.boxplot(df['MntVegan&Vegetarian'])\n",
    "#ax2.boxplot(df['Income'])"
   ],
   "metadata": {
    "collapsed": false
   }
  },
  {
   "cell_type": "markdown",
   "source": [
    "## 3.1.2 Skewness Correction"
   ],
   "metadata": {
    "collapsed": false
   }
  },
  {
   "cell_type": "code",
   "execution_count": 735,
   "outputs": [],
   "source": [
    "df['MntMeat&Fish'] = df['MntMeat&Fish'].apply(lambda x: np.log10(x+1))\n",
    "df['MntVegan&Vegetarian'] = df['MntVegan&Vegetarian'].apply(lambda x: np.log10(x+1))\n",
    "df['MntEntries'] = df['MntEntries'].apply(lambda x: np.log10(x+1))\n",
    "df['MntDrinks'] = df['MntDrinks'].apply(lambda x: np.log10(x+1))\n",
    "df['MntDesserts'] = df['MntDesserts'].apply(lambda x: np.log10(x+1))\n",
    "df['MntAdditionalRequests'] = df['MntAdditionalRequests'].apply(lambda x: np.log10(x+1))\n",
    "df['NumOfferPurchases'] = df['NumOfferPurchases'].apply(lambda x: np.log10(x+1))\n",
    "df['NumTakeAwayPurchases'] = df['NumTakeAwayPurchases'].apply(lambda x: np.log10(x+1))\n",
    "df['Complain'] = df['Complain'].apply(lambda x: np.log10(x+1))\n",
    "df['Response_Cmp1'] = df['Response_Cmp1'].apply(lambda x: np.log10(x+1))\n",
    "df['Response_Cmp2'] = df['Response_Cmp2'].apply(lambda x: np.log10(x+1))\n",
    "df['Response_Cmp3'] = df['Response_Cmp3'].apply(lambda x: np.log10(x+1))\n",
    "df['Response_Cmp4'] = df['Response_Cmp4'].apply(lambda x: np.log10(x+1))\n",
    "df['Response_Cmp5'] = df['Response_Cmp5'].apply(lambda x: np.log10(x+1))"
   ],
   "metadata": {
    "collapsed": false
   }
  },
  {
   "cell_type": "markdown",
   "source": [
    "### 3.1.2. Missing Values"
   ],
   "metadata": {
    "collapsed": false
   }
  },
  {
   "cell_type": "code",
   "execution_count": 736,
   "outputs": [
    {
     "data": {
      "text/plain": "True"
     },
     "execution_count": 736,
     "metadata": {},
     "output_type": "execute_result"
    }
   ],
   "source": [
    "Response_is_null = df[\"Response_Cmp1\"].isna().sum() + df[\"Response_Cmp2\"].isna().sum() + df[\"Response_Cmp3\"].isna().sum() + df[\"Response_Cmp4\"].isna().sum()\n",
    "Response_is_null == 0"
   ],
   "metadata": {
    "collapsed": false
   }
  },
  {
   "cell_type": "code",
   "execution_count": 737,
   "outputs": [
    {
     "name": "stdout",
     "output_type": "stream",
     "text": [
      "<class 'pandas.core.frame.DataFrame'>\n",
      "Int64Index: 6884 entries, 14594 to 15581\n",
      "Data columns (total 27 columns):\n",
      " #   Column                 Non-Null Count  Dtype  \n",
      "---  ------                 --------------  -----  \n",
      " 0   Name                   6884 non-null   object \n",
      " 1   Birthyear              6884 non-null   int64  \n",
      " 2   Education              6870 non-null   object \n",
      " 3   Marital_Status         6884 non-null   object \n",
      " 4   Income                 6884 non-null   float64\n",
      " 5   Kid_Younger6           6884 non-null   int64  \n",
      " 6   Children_6to18         6884 non-null   int64  \n",
      " 7   Date_Adherence         6884 non-null   object \n",
      " 8   Recency                6861 non-null   float64\n",
      " 9   MntMeat&Fish           6884 non-null   float64\n",
      " 10  MntEntries             6884 non-null   float64\n",
      " 11  MntVegan&Vegetarian    6884 non-null   float64\n",
      " 12  MntDrinks              6856 non-null   float64\n",
      " 13  MntDesserts            6884 non-null   float64\n",
      " 14  MntAdditionalRequests  6884 non-null   float64\n",
      " 15  NumOfferPurchases      6884 non-null   float64\n",
      " 16  NumAppPurchases        6884 non-null   int64  \n",
      " 17  NumTakeAwayPurchases   6884 non-null   float64\n",
      " 18  NumStorePurchases      6884 non-null   int64  \n",
      " 19  NumAppVisitsMonth      6884 non-null   int64  \n",
      " 20  Complain               6884 non-null   float64\n",
      " 21  Response_Cmp1          6884 non-null   float64\n",
      " 22  Response_Cmp2          6884 non-null   float64\n",
      " 23  Response_Cmp3          6884 non-null   float64\n",
      " 24  Response_Cmp4          6884 non-null   float64\n",
      " 25  Response_Cmp5          6884 non-null   float64\n",
      " 26  Gender                 6884 non-null   int64  \n",
      "dtypes: float64(16), int64(7), object(4)\n",
      "memory usage: 1.5+ MB\n"
     ]
    }
   ],
   "source": [
    "df.info()"
   ],
   "metadata": {
    "collapsed": false
   }
  },
  {
   "cell_type": "code",
   "execution_count": 738,
   "outputs": [
    {
     "data": {
      "text/plain": "Name                      0\nBirthyear                 0\nEducation                14\nMarital_Status            0\nIncome                    0\nKid_Younger6              0\nChildren_6to18            0\nDate_Adherence            0\nRecency                  23\nMntMeat&Fish              0\nMntEntries                0\nMntVegan&Vegetarian       0\nMntDrinks                28\nMntDesserts               0\nMntAdditionalRequests     0\nNumOfferPurchases         0\nNumAppPurchases           0\nNumTakeAwayPurchases      0\nNumStorePurchases         0\nNumAppVisitsMonth         0\nComplain                  0\nResponse_Cmp1             0\nResponse_Cmp2             0\nResponse_Cmp3             0\nResponse_Cmp4             0\nResponse_Cmp5             0\nGender                    0\ndtype: int64"
     },
     "execution_count": 738,
     "metadata": {},
     "output_type": "execute_result"
    }
   ],
   "source": [
    "df.isna().sum()"
   ],
   "metadata": {
    "collapsed": false
   }
  },
  {
   "cell_type": "markdown",
   "source": [
    "- **`Education`**, **`Recency`**, **`MntDrinks`** and **`MntTotal`** (due to dependancy of `MntDrinks`) have missing values"
   ],
   "metadata": {
    "collapsed": false
   }
  },
  {
   "cell_type": "markdown",
   "source": [
    "#### Filling the missing values"
   ],
   "metadata": {
    "collapsed": false
   }
  },
  {
   "cell_type": "markdown",
   "source": [
    "Fill `Education` with the mode"
   ],
   "metadata": {
    "collapsed": false
   }
  },
  {
   "cell_type": "code",
   "execution_count": 739,
   "outputs": [],
   "source": [
    "df[\"Education\"].fillna(df[\"Education\"].mode()[0], inplace = True)"
   ],
   "metadata": {
    "collapsed": false
   }
  },
  {
   "cell_type": "markdown",
   "source": [
    "Fill `Recency` with the median value"
   ],
   "metadata": {
    "collapsed": false
   }
  },
  {
   "cell_type": "code",
   "execution_count": 740,
   "outputs": [],
   "source": [
    "df[\"Recency\"].fillna(df[\"Recency\"].mean(), inplace = True)"
   ],
   "metadata": {
    "collapsed": false
   }
  },
  {
   "cell_type": "code",
   "execution_count": 741,
   "outputs": [],
   "source": [
    "#df.drop(columns = \"MntTotal\", inplace = True)"
   ],
   "metadata": {
    "collapsed": false
   }
  },
  {
   "cell_type": "code",
   "execution_count": 742,
   "outputs": [],
   "source": [
    "df_mnt = df[[ 'MntMeat&Fish', 'MntEntries', 'MntVegan&Vegetarian', 'MntDrinks',\n",
    "       'MntDesserts', 'MntAdditionalRequests']]\n",
    "\n",
    "imputer = KNNImputer(n_neighbors=3)\n",
    "array_impute = imputer.fit_transform(df_mnt)\n",
    "df_mnt = pd.DataFrame(array_impute, columns = df_mnt.columns)"
   ],
   "metadata": {
    "collapsed": false
   }
  },
  {
   "cell_type": "code",
   "execution_count": 743,
   "outputs": [],
   "source": [
    "df[\"MntDrinks\"] = df_mnt[\"MntDrinks\"].values"
   ],
   "metadata": {
    "collapsed": false
   }
  },
  {
   "cell_type": "code",
   "execution_count": 744,
   "outputs": [],
   "source": [
    "df[\"MntTotal\"] = df['MntMeat&Fish'] + df['MntEntries'] + df['MntVegan&Vegetarian'] + df['MntDrinks'] + df['MntDesserts']"
   ],
   "metadata": {
    "collapsed": false
   }
  },
  {
   "cell_type": "code",
   "execution_count": 745,
   "outputs": [
    {
     "data": {
      "text/plain": "Name                     0\nBirthyear                0\nEducation                0\nMarital_Status           0\nIncome                   0\nKid_Younger6             0\nChildren_6to18           0\nDate_Adherence           0\nRecency                  0\nMntMeat&Fish             0\nMntEntries               0\nMntVegan&Vegetarian      0\nMntDrinks                0\nMntDesserts              0\nMntAdditionalRequests    0\nNumOfferPurchases        0\nNumAppPurchases          0\nNumTakeAwayPurchases     0\nNumStorePurchases        0\nNumAppVisitsMonth        0\nComplain                 0\nResponse_Cmp1            0\nResponse_Cmp2            0\nResponse_Cmp3            0\nResponse_Cmp4            0\nResponse_Cmp5            0\nGender                   0\nMntTotal                 0\ndtype: int64"
     },
     "execution_count": 745,
     "metadata": {},
     "output_type": "execute_result"
    }
   ],
   "source": [
    "df.isna().sum()"
   ],
   "metadata": {
    "collapsed": false
   }
  },
  {
   "cell_type": "markdown",
   "source": [
    "## 3.2. Data Transformation"
   ],
   "metadata": {
    "collapsed": false
   }
  },
  {
   "cell_type": "markdown",
   "source": [
    "### 3.2.1. Create new Variables"
   ],
   "metadata": {
    "collapsed": false
   }
  },
  {
   "cell_type": "markdown",
   "source": [
    "### Utils"
   ],
   "metadata": {
    "collapsed": false
   }
  },
  {
   "cell_type": "markdown",
   "source": [
    "#### Creating Age variable from the Birthyear"
   ],
   "metadata": {
    "collapsed": false
   }
  },
  {
   "cell_type": "code",
   "execution_count": 746,
   "outputs": [],
   "source": [
    "df['Age'] = df.Birthyear.apply(lambda x: date.today().year-x)"
   ],
   "metadata": {
    "collapsed": false
   }
  },
  {
   "cell_type": "code",
   "execution_count": 747,
   "outputs": [],
   "source": [
    "df.drop('Birthyear', axis= 1, inplace = True)"
   ],
   "metadata": {
    "collapsed": false
   }
  },
  {
   "cell_type": "markdown",
   "source": [
    "#### Creating card adherence age variable from the Date adherence"
   ],
   "metadata": {
    "collapsed": false
   }
  },
  {
   "cell_type": "code",
   "execution_count": 748,
   "outputs": [],
   "source": [
    "from datetime import datetime\n",
    "df = df.replace({\"Date_Adherence\":{\"2/29/2022\": datetime.strptime(\"2022-03-01\", '%Y-%m-%d')}}) #2022 is not a leap year, therefore 29/02/2022 is not a possible day"
   ],
   "metadata": {
    "collapsed": false
   }
  },
  {
   "cell_type": "code",
   "execution_count": 749,
   "outputs": [],
   "source": [
    "df['daysAsCardClient'] = df['Date_Adherence'].apply(lambda x: (date.today() - x.date()).days)"
   ],
   "metadata": {
    "collapsed": false
   }
  },
  {
   "cell_type": "code",
   "execution_count": 750,
   "outputs": [],
   "source": [
    "df.drop('Date_Adherence', axis= 1, inplace = True)"
   ],
   "metadata": {
    "collapsed": false
   }
  },
  {
   "cell_type": "markdown",
   "source": [
    "#### Fill Education"
   ],
   "metadata": {
    "collapsed": false
   }
  },
  {
   "cell_type": "code",
   "execution_count": 751,
   "outputs": [],
   "source": [
    "edu_encode = pd.get_dummies(df.Education, drop_first= True)\n",
    "df = pd.concat([df, edu_encode], axis = 1)"
   ],
   "metadata": {
    "collapsed": false
   }
  },
  {
   "cell_type": "code",
   "execution_count": 752,
   "outputs": [],
   "source": [
    "df.drop('Education', axis = 1, inplace = True)"
   ],
   "metadata": {
    "collapsed": false
   }
  },
  {
   "cell_type": "markdown",
   "source": [
    "#### Fill Maritial Status"
   ],
   "metadata": {
    "collapsed": false
   }
  },
  {
   "cell_type": "code",
   "execution_count": 753,
   "outputs": [],
   "source": [
    "marital_encode = pd.get_dummies(df.Marital_Status, drop_first= True)\n",
    "df = pd.concat([df, marital_encode], axis = 1)"
   ],
   "metadata": {
    "collapsed": false
   }
  },
  {
   "cell_type": "code",
   "execution_count": 754,
   "outputs": [],
   "source": [
    "df.drop('Marital_Status', axis= 1, inplace = True)"
   ],
   "metadata": {
    "collapsed": false
   }
  },
  {
   "cell_type": "markdown",
   "source": [
    "#### Create MntTotal"
   ],
   "metadata": {
    "collapsed": false
   }
  },
  {
   "cell_type": "code",
   "execution_count": 755,
   "outputs": [
    {
     "data": {
      "text/plain": "CustomerID\n14594    19.242890\n19070    19.321940\n29888    17.490921\n12221    12.145689\n21107    18.204269\n           ...    \n30686    14.183984\n17210    16.426555\n29186     5.644887\n23312    11.657932\n15581    18.939792\nName: MntTotal, Length: 6884, dtype: float64"
     },
     "execution_count": 755,
     "metadata": {},
     "output_type": "execute_result"
    }
   ],
   "source": [
    "df[\"MntTotal\"] = df['MntMeat&Fish'] + df['MntEntries'] + df['MntVegan&Vegetarian'] + df['MntDrinks'] + df['MntDesserts'] + df['MntAdditionalRequests']\n",
    "df[\"MntTotal\"]\n"
   ],
   "metadata": {
    "collapsed": false
   }
  },
  {
   "cell_type": "markdown",
   "source": [
    "## Create NumPurchases Total"
   ],
   "metadata": {
    "collapsed": false
   }
  },
  {
   "cell_type": "code",
   "execution_count": 756,
   "outputs": [],
   "source": [
    "df['NumPurchasesTotal'] = df['NumTakeAwayPurchases'] + df['NumStorePurchases'] + df['NumAppPurchases']"
   ],
   "metadata": {
    "collapsed": false
   }
  },
  {
   "cell_type": "markdown",
   "source": [
    "#### Create Mnt Pday Card"
   ],
   "metadata": {
    "collapsed": false
   }
  },
  {
   "cell_type": "code",
   "execution_count": 757,
   "outputs": [],
   "source": [
    "df['Mnt_pday_card']= df.MntTotal/df.daysAsCardClient"
   ],
   "metadata": {
    "collapsed": false
   }
  },
  {
   "cell_type": "markdown",
   "source": [
    "#### Create Response Campaigns"
   ],
   "metadata": {
    "collapsed": false
   }
  },
  {
   "cell_type": "code",
   "execution_count": 758,
   "outputs": [],
   "source": [
    "df['Response_Campaigns'] = df['Response_Cmp1'] + df['Response_Cmp2'] + df['Response_Cmp3'] + df['Response_Cmp4'] + df[\n",
    "       'Response_Cmp5']"
   ],
   "metadata": {
    "collapsed": false
   }
  },
  {
   "cell_type": "code",
   "execution_count": 759,
   "outputs": [],
   "source": [
    "# queremos dar drop nos Response, tudo certo ok? pq?\n",
    "df.drop(['Response_Cmp1', 'Response_Cmp2', 'Response_Cmp3', 'Response_Cmp4', 'Response_Cmp5'], axis=1, inplace=True)"
   ],
   "metadata": {
    "collapsed": false
   }
  },
  {
   "cell_type": "markdown",
   "source": [
    "#### Create Total Kids"
   ],
   "metadata": {
    "collapsed": false
   }
  },
  {
   "cell_type": "code",
   "execution_count": 760,
   "outputs": [],
   "source": [
    "df[\"Total_Kids\"] = df[\"Kid_Younger6\"] + df[\"Children_6to18\"]"
   ],
   "metadata": {
    "collapsed": false
   }
  },
  {
   "cell_type": "markdown",
   "source": [
    "#### Create Has Kids"
   ],
   "metadata": {
    "collapsed": false
   }
  },
  {
   "cell_type": "code",
   "execution_count": 761,
   "outputs": [
    {
     "data": {
      "text/plain": "CustomerID\n14594    0\n19070    0\n29888    0\n12221    1\n21107    0\n        ..\n30686    0\n17210    0\n29186    1\n23312    1\n15581    0\nName: has_Kids, Length: 6884, dtype: int64"
     },
     "execution_count": 761,
     "metadata": {},
     "output_type": "execute_result"
    }
   ],
   "source": [
    "df[\"has_Kids\"] = df[\"Total_Kids\"].apply(lambda x: 0 if x == 0 else 1)\n",
    "df[\"has_Kids\"]"
   ],
   "metadata": {
    "collapsed": false
   }
  },
  {
   "cell_type": "code",
   "execution_count": 762,
   "outputs": [],
   "source": [
    "# demos drop pq?\n",
    "df.drop(['Kid_Younger6', 'Children_6to18'], axis = 1, inplace = True)"
   ],
   "metadata": {
    "collapsed": false
   }
  },
  {
   "cell_type": "markdown",
   "source": [
    "#### Create age_bins"
   ],
   "metadata": {
    "collapsed": false
   }
  },
  {
   "cell_type": "code",
   "execution_count": 763,
   "outputs": [],
   "source": [
    "df[\"age_bins\"] = pd.cut(df[\"Age\"], bins = 5)\n",
    "age_bin = pd.get_dummies(df['age_bins'],prefix='age')\n",
    "df = pd.concat([df,age_bin], axis=1)\n",
    "df.drop(['age_bins'],axis=1, inplace=True)"
   ],
   "metadata": {
    "collapsed": false
   }
  },
  {
   "cell_type": "code",
   "execution_count": 764,
   "outputs": [
    {
     "data": {
      "text/plain": "                            Name    Income  Recency  MntMeat&Fish  MntEntries  \\\nCustomerID                                                                      \n14594            Miss Leah Lewis  113947.0     43.0      3.666612    3.529045   \n19070           Miss Grace Black  114297.0     74.0      3.850095    3.565966   \n29888         Mr. Gavin Morrison  115476.0     85.0      3.616055    2.580925   \n12221            Mr. Ryan Glover  101172.0     25.0      3.555215    0.000000   \n21107          Mr. Paul Anderson  123128.0     64.0      3.731669    3.051924   \n...                          ...       ...      ...           ...         ...   \n30686            Mr. John Hughes   98968.0     66.0      3.958612    2.416641   \n17210        Mr. Brandon Simpson  109977.0      8.0      3.768712    3.009026   \n29186       Mr. Thomas Churchill   56039.0     30.0      2.733197    0.000000   \n23312         Miss Angela Murray   44867.0      8.0      1.908485    2.082785   \n15581          Miss Diana Taylor  124379.0     80.0      3.862191    2.626340   \n\n            MntVegan&Vegetarian  MntDrinks  MntDesserts  \\\nCustomerID                                                \n14594                  3.755951   3.350442     2.750508   \n19070                  3.882012   3.265054     3.086716   \n29888                  3.689398   3.561221     2.580925   \n12221                  3.248219   1.908485     2.257679   \n21107                  3.977541   2.817565     2.750508   \n...                         ...        ...          ...   \n30686                  3.779308   2.416641     0.000000   \n17210                  4.129400   3.579898     0.000000   \n29186                  2.133539   0.000000     0.000000   \n23312                  2.324282   2.082785     2.004321   \n15581                  3.228657   3.575303     3.274389   \n\n            MntAdditionalRequests  NumOfferPurchases  NumAppPurchases  \\\nCustomerID                                                              \n14594                    2.190332           0.477121               10   \n19070                    1.672098           0.301030                5   \n29888                    1.462398           0.301030                5   \n12221                    1.176091           0.778151                8   \n21107                    1.875061           0.000000                4   \n...                           ...                ...              ...   \n30686                    1.612784           0.301030                6   \n17210                    1.939519           0.301030                5   \n29186                    0.778151           0.477121                3   \n23312                    1.255273           0.301030                3   \n15581                    2.372912           0.301030                6   \n\n            NumTakeAwayPurchases  NumStorePurchases  NumAppVisitsMonth  \\\nCustomerID                                                               \n14594                   0.903090                  7                  4   \n19070                   1.000000                 12                  2   \n29888                   0.778151                  7                  1   \n12221                   0.602060                  8                  5   \n21107                   0.903090                  8                  5   \n...                          ...                ...                ...   \n30686                   0.845098                 11                  2   \n17210                   0.903090                  7                  2   \n29186                   0.301030                  4                  6   \n23312                   0.301030                  3                  8   \n15581                   1.113943                 11                  2   \n\n            Complain  Gender   MntTotal  Age  daysAsCardClient  Graduation  \\\nCustomerID                                                                   \n14594            0.0       0  19.242890   42               825           1   \n19070            0.0       0  19.321940   49               734           1   \n29888            0.0       1  17.490921   63               457           0   \n12221            0.0       1  12.145689   43               549           1   \n21107            0.0       1  18.204269   52               854           0   \n...              ...     ...        ...  ...               ...         ...   \n30686            0.0       1  14.183984   29               492           0   \n17210            0.0       1  16.426555   38               944           1   \n29186            0.0       1   5.644887   56               485           0   \n23312            0.0       0  11.657932   34               883           1   \n15581            0.0       0  18.939792   63               799           1   \n\n            HighSchool  Master  PhD  Married  Single  Widow  \\\nCustomerID                                                    \n14594                0       0    0        0       1      0   \n19070                0       0    0        1       0      0   \n29888                0       0    1        1       0      0   \n12221                0       0    0        1       0      0   \n21107                1       0    0        0       1      0   \n...                ...     ...  ...      ...     ...    ...   \n30686                0       0    1        0       0      0   \n17210                0       0    0        0       0      0   \n29186                0       0    1        1       0      0   \n23312                0       0    0        0       1      0   \n15581                0       0    0        0       1      0   \n\n            NumPurchasesTotal  Mnt_pday_card  Response_Campaigns  Total_Kids  \\\nCustomerID                                                                     \n14594               17.903090       0.023325             0.30103           0   \n19070               18.000000       0.026324             0.00000           0   \n29888               12.778151       0.038273             0.00000           0   \n12221               16.602060       0.022123             0.00000           2   \n21107               12.903090       0.021316             0.60206           0   \n...                       ...            ...                 ...         ...   \n30686               17.845098       0.028829             0.00000           0   \n17210               12.903090       0.017401             0.00000           0   \n29186                7.301030       0.011639             0.00000           1   \n23312                6.301030       0.013203             0.00000           1   \n15581               18.113943       0.023704             0.60206           0   \n\n            has_Kids  age_(17.943, 29.4]  age_(29.4, 40.8]  age_(40.8, 52.2]  \\\nCustomerID                                                                     \n14594              0                   0                 0                 1   \n19070              0                   0                 0                 1   \n29888              0                   0                 0                 0   \n12221              1                   0                 0                 1   \n21107              0                   0                 0                 1   \n...              ...                 ...               ...               ...   \n30686              0                   1                 0                 0   \n17210              0                   0                 1                 0   \n29186              1                   0                 0                 0   \n23312              1                   0                 1                 0   \n15581              0                   0                 0                 0   \n\n            age_(52.2, 63.6]  age_(63.6, 75.0]  \nCustomerID                                      \n14594                      0                 0  \n19070                      0                 0  \n29888                      1                 0  \n12221                      0                 0  \n21107                      0                 0  \n...                      ...               ...  \n30686                      0                 0  \n17210                      0                 0  \n29186                      1                 0  \n23312                      0                 0  \n15581                      1                 0  \n\n[6884 rows x 36 columns]",
      "text/html": "<div>\n<style scoped>\n    .dataframe tbody tr th:only-of-type {\n        vertical-align: middle;\n    }\n\n    .dataframe tbody tr th {\n        vertical-align: top;\n    }\n\n    .dataframe thead th {\n        text-align: right;\n    }\n</style>\n<table border=\"1\" class=\"dataframe\">\n  <thead>\n    <tr style=\"text-align: right;\">\n      <th></th>\n      <th>Name</th>\n      <th>Income</th>\n      <th>Recency</th>\n      <th>MntMeat&amp;Fish</th>\n      <th>MntEntries</th>\n      <th>MntVegan&amp;Vegetarian</th>\n      <th>MntDrinks</th>\n      <th>MntDesserts</th>\n      <th>MntAdditionalRequests</th>\n      <th>NumOfferPurchases</th>\n      <th>NumAppPurchases</th>\n      <th>NumTakeAwayPurchases</th>\n      <th>NumStorePurchases</th>\n      <th>NumAppVisitsMonth</th>\n      <th>Complain</th>\n      <th>Gender</th>\n      <th>MntTotal</th>\n      <th>Age</th>\n      <th>daysAsCardClient</th>\n      <th>Graduation</th>\n      <th>HighSchool</th>\n      <th>Master</th>\n      <th>PhD</th>\n      <th>Married</th>\n      <th>Single</th>\n      <th>Widow</th>\n      <th>NumPurchasesTotal</th>\n      <th>Mnt_pday_card</th>\n      <th>Response_Campaigns</th>\n      <th>Total_Kids</th>\n      <th>has_Kids</th>\n      <th>age_(17.943, 29.4]</th>\n      <th>age_(29.4, 40.8]</th>\n      <th>age_(40.8, 52.2]</th>\n      <th>age_(52.2, 63.6]</th>\n      <th>age_(63.6, 75.0]</th>\n    </tr>\n    <tr>\n      <th>CustomerID</th>\n      <th></th>\n      <th></th>\n      <th></th>\n      <th></th>\n      <th></th>\n      <th></th>\n      <th></th>\n      <th></th>\n      <th></th>\n      <th></th>\n      <th></th>\n      <th></th>\n      <th></th>\n      <th></th>\n      <th></th>\n      <th></th>\n      <th></th>\n      <th></th>\n      <th></th>\n      <th></th>\n      <th></th>\n      <th></th>\n      <th></th>\n      <th></th>\n      <th></th>\n      <th></th>\n      <th></th>\n      <th></th>\n      <th></th>\n      <th></th>\n      <th></th>\n      <th></th>\n      <th></th>\n      <th></th>\n      <th></th>\n      <th></th>\n    </tr>\n  </thead>\n  <tbody>\n    <tr>\n      <th>14594</th>\n      <td>Miss Leah Lewis</td>\n      <td>113947.0</td>\n      <td>43.0</td>\n      <td>3.666612</td>\n      <td>3.529045</td>\n      <td>3.755951</td>\n      <td>3.350442</td>\n      <td>2.750508</td>\n      <td>2.190332</td>\n      <td>0.477121</td>\n      <td>10</td>\n      <td>0.903090</td>\n      <td>7</td>\n      <td>4</td>\n      <td>0.0</td>\n      <td>0</td>\n      <td>19.242890</td>\n      <td>42</td>\n      <td>825</td>\n      <td>1</td>\n      <td>0</td>\n      <td>0</td>\n      <td>0</td>\n      <td>0</td>\n      <td>1</td>\n      <td>0</td>\n      <td>17.903090</td>\n      <td>0.023325</td>\n      <td>0.30103</td>\n      <td>0</td>\n      <td>0</td>\n      <td>0</td>\n      <td>0</td>\n      <td>1</td>\n      <td>0</td>\n      <td>0</td>\n    </tr>\n    <tr>\n      <th>19070</th>\n      <td>Miss Grace Black</td>\n      <td>114297.0</td>\n      <td>74.0</td>\n      <td>3.850095</td>\n      <td>3.565966</td>\n      <td>3.882012</td>\n      <td>3.265054</td>\n      <td>3.086716</td>\n      <td>1.672098</td>\n      <td>0.301030</td>\n      <td>5</td>\n      <td>1.000000</td>\n      <td>12</td>\n      <td>2</td>\n      <td>0.0</td>\n      <td>0</td>\n      <td>19.321940</td>\n      <td>49</td>\n      <td>734</td>\n      <td>1</td>\n      <td>0</td>\n      <td>0</td>\n      <td>0</td>\n      <td>1</td>\n      <td>0</td>\n      <td>0</td>\n      <td>18.000000</td>\n      <td>0.026324</td>\n      <td>0.00000</td>\n      <td>0</td>\n      <td>0</td>\n      <td>0</td>\n      <td>0</td>\n      <td>1</td>\n      <td>0</td>\n      <td>0</td>\n    </tr>\n    <tr>\n      <th>29888</th>\n      <td>Mr. Gavin Morrison</td>\n      <td>115476.0</td>\n      <td>85.0</td>\n      <td>3.616055</td>\n      <td>2.580925</td>\n      <td>3.689398</td>\n      <td>3.561221</td>\n      <td>2.580925</td>\n      <td>1.462398</td>\n      <td>0.301030</td>\n      <td>5</td>\n      <td>0.778151</td>\n      <td>7</td>\n      <td>1</td>\n      <td>0.0</td>\n      <td>1</td>\n      <td>17.490921</td>\n      <td>63</td>\n      <td>457</td>\n      <td>0</td>\n      <td>0</td>\n      <td>0</td>\n      <td>1</td>\n      <td>1</td>\n      <td>0</td>\n      <td>0</td>\n      <td>12.778151</td>\n      <td>0.038273</td>\n      <td>0.00000</td>\n      <td>0</td>\n      <td>0</td>\n      <td>0</td>\n      <td>0</td>\n      <td>0</td>\n      <td>1</td>\n      <td>0</td>\n    </tr>\n    <tr>\n      <th>12221</th>\n      <td>Mr. Ryan Glover</td>\n      <td>101172.0</td>\n      <td>25.0</td>\n      <td>3.555215</td>\n      <td>0.000000</td>\n      <td>3.248219</td>\n      <td>1.908485</td>\n      <td>2.257679</td>\n      <td>1.176091</td>\n      <td>0.778151</td>\n      <td>8</td>\n      <td>0.602060</td>\n      <td>8</td>\n      <td>5</td>\n      <td>0.0</td>\n      <td>1</td>\n      <td>12.145689</td>\n      <td>43</td>\n      <td>549</td>\n      <td>1</td>\n      <td>0</td>\n      <td>0</td>\n      <td>0</td>\n      <td>1</td>\n      <td>0</td>\n      <td>0</td>\n      <td>16.602060</td>\n      <td>0.022123</td>\n      <td>0.00000</td>\n      <td>2</td>\n      <td>1</td>\n      <td>0</td>\n      <td>0</td>\n      <td>1</td>\n      <td>0</td>\n      <td>0</td>\n    </tr>\n    <tr>\n      <th>21107</th>\n      <td>Mr. Paul Anderson</td>\n      <td>123128.0</td>\n      <td>64.0</td>\n      <td>3.731669</td>\n      <td>3.051924</td>\n      <td>3.977541</td>\n      <td>2.817565</td>\n      <td>2.750508</td>\n      <td>1.875061</td>\n      <td>0.000000</td>\n      <td>4</td>\n      <td>0.903090</td>\n      <td>8</td>\n      <td>5</td>\n      <td>0.0</td>\n      <td>1</td>\n      <td>18.204269</td>\n      <td>52</td>\n      <td>854</td>\n      <td>0</td>\n      <td>1</td>\n      <td>0</td>\n      <td>0</td>\n      <td>0</td>\n      <td>1</td>\n      <td>0</td>\n      <td>12.903090</td>\n      <td>0.021316</td>\n      <td>0.60206</td>\n      <td>0</td>\n      <td>0</td>\n      <td>0</td>\n      <td>0</td>\n      <td>1</td>\n      <td>0</td>\n      <td>0</td>\n    </tr>\n    <tr>\n      <th>...</th>\n      <td>...</td>\n      <td>...</td>\n      <td>...</td>\n      <td>...</td>\n      <td>...</td>\n      <td>...</td>\n      <td>...</td>\n      <td>...</td>\n      <td>...</td>\n      <td>...</td>\n      <td>...</td>\n      <td>...</td>\n      <td>...</td>\n      <td>...</td>\n      <td>...</td>\n      <td>...</td>\n      <td>...</td>\n      <td>...</td>\n      <td>...</td>\n      <td>...</td>\n      <td>...</td>\n      <td>...</td>\n      <td>...</td>\n      <td>...</td>\n      <td>...</td>\n      <td>...</td>\n      <td>...</td>\n      <td>...</td>\n      <td>...</td>\n      <td>...</td>\n      <td>...</td>\n      <td>...</td>\n      <td>...</td>\n      <td>...</td>\n      <td>...</td>\n      <td>...</td>\n    </tr>\n    <tr>\n      <th>30686</th>\n      <td>Mr. John Hughes</td>\n      <td>98968.0</td>\n      <td>66.0</td>\n      <td>3.958612</td>\n      <td>2.416641</td>\n      <td>3.779308</td>\n      <td>2.416641</td>\n      <td>0.000000</td>\n      <td>1.612784</td>\n      <td>0.301030</td>\n      <td>6</td>\n      <td>0.845098</td>\n      <td>11</td>\n      <td>2</td>\n      <td>0.0</td>\n      <td>1</td>\n      <td>14.183984</td>\n      <td>29</td>\n      <td>492</td>\n      <td>0</td>\n      <td>0</td>\n      <td>0</td>\n      <td>1</td>\n      <td>0</td>\n      <td>0</td>\n      <td>0</td>\n      <td>17.845098</td>\n      <td>0.028829</td>\n      <td>0.00000</td>\n      <td>0</td>\n      <td>0</td>\n      <td>1</td>\n      <td>0</td>\n      <td>0</td>\n      <td>0</td>\n      <td>0</td>\n    </tr>\n    <tr>\n      <th>17210</th>\n      <td>Mr. Brandon Simpson</td>\n      <td>109977.0</td>\n      <td>8.0</td>\n      <td>3.768712</td>\n      <td>3.009026</td>\n      <td>4.129400</td>\n      <td>3.579898</td>\n      <td>0.000000</td>\n      <td>1.939519</td>\n      <td>0.301030</td>\n      <td>5</td>\n      <td>0.903090</td>\n      <td>7</td>\n      <td>2</td>\n      <td>0.0</td>\n      <td>1</td>\n      <td>16.426555</td>\n      <td>38</td>\n      <td>944</td>\n      <td>1</td>\n      <td>0</td>\n      <td>0</td>\n      <td>0</td>\n      <td>0</td>\n      <td>0</td>\n      <td>0</td>\n      <td>12.903090</td>\n      <td>0.017401</td>\n      <td>0.00000</td>\n      <td>0</td>\n      <td>0</td>\n      <td>0</td>\n      <td>1</td>\n      <td>0</td>\n      <td>0</td>\n      <td>0</td>\n    </tr>\n    <tr>\n      <th>29186</th>\n      <td>Mr. Thomas Churchill</td>\n      <td>56039.0</td>\n      <td>30.0</td>\n      <td>2.733197</td>\n      <td>0.000000</td>\n      <td>2.133539</td>\n      <td>0.000000</td>\n      <td>0.000000</td>\n      <td>0.778151</td>\n      <td>0.477121</td>\n      <td>3</td>\n      <td>0.301030</td>\n      <td>4</td>\n      <td>6</td>\n      <td>0.0</td>\n      <td>1</td>\n      <td>5.644887</td>\n      <td>56</td>\n      <td>485</td>\n      <td>0</td>\n      <td>0</td>\n      <td>0</td>\n      <td>1</td>\n      <td>1</td>\n      <td>0</td>\n      <td>0</td>\n      <td>7.301030</td>\n      <td>0.011639</td>\n      <td>0.00000</td>\n      <td>1</td>\n      <td>1</td>\n      <td>0</td>\n      <td>0</td>\n      <td>0</td>\n      <td>1</td>\n      <td>0</td>\n    </tr>\n    <tr>\n      <th>23312</th>\n      <td>Miss Angela Murray</td>\n      <td>44867.0</td>\n      <td>8.0</td>\n      <td>1.908485</td>\n      <td>2.082785</td>\n      <td>2.324282</td>\n      <td>2.082785</td>\n      <td>2.004321</td>\n      <td>1.255273</td>\n      <td>0.301030</td>\n      <td>3</td>\n      <td>0.301030</td>\n      <td>3</td>\n      <td>8</td>\n      <td>0.0</td>\n      <td>0</td>\n      <td>11.657932</td>\n      <td>34</td>\n      <td>883</td>\n      <td>1</td>\n      <td>0</td>\n      <td>0</td>\n      <td>0</td>\n      <td>0</td>\n      <td>1</td>\n      <td>0</td>\n      <td>6.301030</td>\n      <td>0.013203</td>\n      <td>0.00000</td>\n      <td>1</td>\n      <td>1</td>\n      <td>0</td>\n      <td>1</td>\n      <td>0</td>\n      <td>0</td>\n      <td>0</td>\n    </tr>\n    <tr>\n      <th>15581</th>\n      <td>Miss Diana Taylor</td>\n      <td>124379.0</td>\n      <td>80.0</td>\n      <td>3.862191</td>\n      <td>2.626340</td>\n      <td>3.228657</td>\n      <td>3.575303</td>\n      <td>3.274389</td>\n      <td>2.372912</td>\n      <td>0.301030</td>\n      <td>6</td>\n      <td>1.113943</td>\n      <td>11</td>\n      <td>2</td>\n      <td>0.0</td>\n      <td>0</td>\n      <td>18.939792</td>\n      <td>63</td>\n      <td>799</td>\n      <td>1</td>\n      <td>0</td>\n      <td>0</td>\n      <td>0</td>\n      <td>0</td>\n      <td>1</td>\n      <td>0</td>\n      <td>18.113943</td>\n      <td>0.023704</td>\n      <td>0.60206</td>\n      <td>0</td>\n      <td>0</td>\n      <td>0</td>\n      <td>0</td>\n      <td>0</td>\n      <td>1</td>\n      <td>0</td>\n    </tr>\n  </tbody>\n</table>\n<p>6884 rows × 36 columns</p>\n</div>"
     },
     "execution_count": 764,
     "metadata": {},
     "output_type": "execute_result"
    }
   ],
   "source": [
    "df"
   ],
   "metadata": {
    "collapsed": false
   }
  },
  {
   "cell_type": "markdown",
   "source": [
    "## Incoherencies\n"
   ],
   "metadata": {
    "collapsed": false
   }
  },
  {
   "cell_type": "code",
   "execution_count": 765,
   "outputs": [
    {
     "data": {
      "text/plain": "                               Name   Income  Recency  MntMeat&Fish  \\\nCustomerID                                                            \n6185              Mr. Matt Clarkson   4609.6     32.0      1.301030   \n5318             Mr. Liam MacDonald   3005.4     16.0      0.778151   \n25079             Mr. Harry Dickens   5048.0     64.0      1.146128   \n23297              Mr. Harry Newman   3909.6     29.0      1.113943   \n34565          Miss Jasmine Russell   7644.8     15.0      1.568202   \n5108          Mr. Sebastian Abraham  10724.2     93.0      2.457882   \n18872             Miss Rachel Young   3550.0      4.0      1.544068   \n13388                Mr. Eric Berry   4554.8     99.0      0.778151   \n14084       Mr. Christopher MacLeod   5281.3     17.0      1.079181   \n5366                 Mr. Boris Reid   6065.1     75.0      1.602060   \n31409           Mr. Christian Allan   3746.5     35.0      1.518514   \n30521          Miss Stephanie Terry   3623.7     94.0      1.812913   \n28061                Mr. Adam Black   3133.7     36.0      1.505150   \n10547             Mr. Thomas Slater   3478.0     57.0      1.000000   \n26696           Mr. Charles Pullman   5171.2     89.0      0.778151   \n15911          Miss Pippa Underwood   4472.2     23.0      0.698970   \n12800           Mr. Sebastian Paige   7175.5     53.0      1.968483   \n17996               Mr. Paul Peters   7507.0     97.0      1.716003   \n7127                Mr. Joe Chapman   6324.3     85.0      1.633468   \n22133               Mr. Evan Bailey   7326.0     30.0      1.602060   \n\n            MntEntries  MntVegan&Vegetarian  MntDrinks  MntDesserts  \\\nCustomerID                                                            \n6185          1.041393             1.872156   1.041393     1.462398   \n5318          0.954243             0.929419   0.845098     0.698970   \n25079         0.698970             0.740363   0.000000     0.477121   \n23297         0.000000             0.740363   0.000000     0.000000   \n34565         0.477121             1.966142   1.799341     1.591065   \n5108          2.392697             2.583765   2.143015     1.886491   \n18872         0.000000             1.342423   0.698970     0.477121   \n13388         1.322219             1.311754   0.698970     1.230449   \n14084         1.041393             1.568202   0.845098     1.041393   \n5366          0.477121             1.243038   0.000000     0.698970   \n31409         0.477121             1.986772   1.397940     1.397940   \n30521         1.431364             1.703291   1.653213     1.568202   \n28061         0.477121             1.060698   0.000000     0.477121   \n10547         1.176091             1.531479   1.113943     1.041393   \n26696         0.000000             1.243038   1.322219     1.230449   \n15911         0.845098             0.740363   0.845098     1.176091   \n12800         0.000000             1.929419   0.477121     0.477121   \n17996         0.000000             0.397940   0.000000     0.000000   \n7127          1.041393             2.012837   1.851258     1.826075   \n22133         1.278754             1.585461   1.397940     1.826075   \n\n            MntAdditionalRequests  NumOfferPurchases  NumAppPurchases  \\\nCustomerID                                                              \n6185                     0.623249            1.20412                0   \n5318                     0.301030            0.00000                0   \n25079                    0.000000            1.20412                0   \n23297                    0.113943            1.20412                0   \n34565                    1.152288            1.20412                0   \n5108                     0.518514            0.00000                0   \n18872                    0.079181            0.00000                0   \n13388                    0.414973            1.20412                0   \n14084                    0.146128            0.00000                0   \n5366                     0.342423            1.20412                0   \n31409                    0.977724            1.20412                0   \n30521                    1.089905            1.20412                0   \n28061                    0.518514            0.00000                0   \n10547                    0.278754            0.00000                0   \n26696                    0.462398            1.20412                0   \n15911                    0.146128            0.00000                0   \n12800                    0.301030            1.20412                0   \n17996                    0.113943            1.20412                0   \n7127                     0.681241            1.20412                0   \n22133                    0.301030            0.00000                0   \n\n            NumTakeAwayPurchases  NumStorePurchases  NumAppVisitsMonth  \\\nCustomerID                                                               \n6185                         0.0                  0                 20   \n5318                         0.0                  0                 20   \n25079                        0.0                  0                 20   \n23297                        0.0                  0                 20   \n34565                        0.0                  0                 19   \n5108                         0.0                  0                 19   \n18872                        0.0                  0                 20   \n13388                        0.0                  0                 20   \n14084                        0.0                  0                 19   \n5366                         0.0                  0                 19   \n31409                        0.0                  0                 20   \n30521                        0.0                  0                 20   \n28061                        0.0                  0                 20   \n10547                        0.0                  0                 20   \n26696                        0.0                  0                 20   \n15911                        0.0                  0                 20   \n12800                        0.0                  0                 20   \n17996                        0.0                  0                 19   \n7127                         0.0                  0                 20   \n22133                        0.0                  0                 20   \n\n            Complain  Gender   MntTotal  Age  daysAsCardClient  Graduation  \\\nCustomerID                                                                   \n6185         0.00000       1   7.341619   32               826           0   \n5318         0.00000       1   4.506911   55               808           0   \n25079        0.00000       1   3.062582   64               945           0   \n23297        0.00000       1   1.968249   43               847           1   \n34565        0.00000       0   8.554158   61               655           0   \n5108         0.00000       1  11.982364   33               403           0   \n18872        0.00000       0   4.141763   40               651           0   \n13388        0.00000       1   5.756517   39               811           0   \n14084        0.00000       1   5.721394   29               357           1   \n5366         0.00000       1   4.363612   48               346           0   \n31409        0.00000       1   7.756011   38               947           1   \n30521        0.00000       0   9.258888   68               494           1   \n28061        0.00000       1   4.038604   44               699           1   \n10547        0.00000       1   6.141660   50               371           1   \n26696        0.00000       1   5.036256   63               289           1   \n15911        0.00000       0   4.451748   35               652           1   \n12800        0.00000       1   5.153174   50               850           0   \n17996        0.00000       1   2.227887   64               295           0   \n7127         0.00000       1   9.046273   37               449           0   \n22133        0.30103       1   7.991319   27               749           0   \n\n            HighSchool  Master  PhD  Married  Single  Widow  \\\nCustomerID                                                    \n6185                 0       1    0        1       0      0   \n5318                 1       0    0        1       0      0   \n25079                0       0    1        1       0      0   \n23297                0       0    0        1       0      0   \n34565                1       0    0        0       1      0   \n5108                 0       0    1        1       0      0   \n18872                0       0    1        0       1      0   \n13388                1       0    0        1       0      0   \n14084                0       0    0        0       1      0   \n5366                 0       0    1        0       1      0   \n31409                0       0    0        0       0      0   \n30521                0       0    0        1       0      0   \n28061                0       0    0        0       0      0   \n10547                0       0    0        1       0      0   \n26696                0       0    0        0       0      0   \n15911                0       0    0        0       1      0   \n12800                0       0    1        1       0      0   \n17996                0       0    1        1       0      0   \n7127                 1       0    0        0       0      0   \n22133                1       0    0        1       0      0   \n\n            NumPurchasesTotal  Mnt_pday_card  Response_Campaigns  Total_Kids  \\\nCustomerID                                                                     \n6185                      0.0       0.008888             0.00000           2   \n5318                      0.0       0.005578             0.00000           0   \n25079                     0.0       0.003241             0.00000           1   \n23297                     0.0       0.002324             0.00000           2   \n34565                     0.0       0.013060             0.30103           2   \n5108                      0.0       0.029733             0.00000           0   \n18872                     0.0       0.006362             0.00000           1   \n13388                     0.0       0.007098             0.00000           1   \n14084                     0.0       0.016026             0.00000           1   \n5366                      0.0       0.012612             0.00000           2   \n31409                     0.0       0.008190             0.00000           1   \n30521                     0.0       0.018743             0.30103           0   \n28061                     0.0       0.005778             0.30103           1   \n10547                     0.0       0.016554             0.00000           0   \n26696                     0.0       0.017426             0.00000           0   \n15911                     0.0       0.006828             0.00000           1   \n12800                     0.0       0.006063             0.00000           4   \n17996                     0.0       0.007552             0.30103           1   \n7127                      0.0       0.020148             0.00000           1   \n22133                     0.0       0.010669             0.00000           1   \n\n            has_Kids  age_(17.943, 29.4]  age_(29.4, 40.8]  age_(40.8, 52.2]  \\\nCustomerID                                                                     \n6185               1                   0                 1                 0   \n5318               0                   0                 0                 0   \n25079              1                   0                 0                 0   \n23297              1                   0                 0                 1   \n34565              1                   0                 0                 0   \n5108               0                   0                 1                 0   \n18872              1                   0                 1                 0   \n13388              1                   0                 1                 0   \n14084              1                   1                 0                 0   \n5366               1                   0                 0                 1   \n31409              1                   0                 1                 0   \n30521              0                   0                 0                 0   \n28061              1                   0                 0                 1   \n10547              0                   0                 0                 1   \n26696              0                   0                 0                 0   \n15911              1                   0                 1                 0   \n12800              1                   0                 0                 1   \n17996              1                   0                 0                 0   \n7127               1                   0                 1                 0   \n22133              1                   1                 0                 0   \n\n            age_(52.2, 63.6]  age_(63.6, 75.0]  \nCustomerID                                      \n6185                       0                 0  \n5318                       1                 0  \n25079                      0                 1  \n23297                      0                 0  \n34565                      1                 0  \n5108                       0                 0  \n18872                      0                 0  \n13388                      0                 0  \n14084                      0                 0  \n5366                       0                 0  \n31409                      0                 0  \n30521                      0                 1  \n28061                      0                 0  \n10547                      0                 0  \n26696                      1                 0  \n15911                      0                 0  \n12800                      0                 0  \n17996                      0                 1  \n7127                       0                 0  \n22133                      0                 0  ",
      "text/html": "<div>\n<style scoped>\n    .dataframe tbody tr th:only-of-type {\n        vertical-align: middle;\n    }\n\n    .dataframe tbody tr th {\n        vertical-align: top;\n    }\n\n    .dataframe thead th {\n        text-align: right;\n    }\n</style>\n<table border=\"1\" class=\"dataframe\">\n  <thead>\n    <tr style=\"text-align: right;\">\n      <th></th>\n      <th>Name</th>\n      <th>Income</th>\n      <th>Recency</th>\n      <th>MntMeat&amp;Fish</th>\n      <th>MntEntries</th>\n      <th>MntVegan&amp;Vegetarian</th>\n      <th>MntDrinks</th>\n      <th>MntDesserts</th>\n      <th>MntAdditionalRequests</th>\n      <th>NumOfferPurchases</th>\n      <th>NumAppPurchases</th>\n      <th>NumTakeAwayPurchases</th>\n      <th>NumStorePurchases</th>\n      <th>NumAppVisitsMonth</th>\n      <th>Complain</th>\n      <th>Gender</th>\n      <th>MntTotal</th>\n      <th>Age</th>\n      <th>daysAsCardClient</th>\n      <th>Graduation</th>\n      <th>HighSchool</th>\n      <th>Master</th>\n      <th>PhD</th>\n      <th>Married</th>\n      <th>Single</th>\n      <th>Widow</th>\n      <th>NumPurchasesTotal</th>\n      <th>Mnt_pday_card</th>\n      <th>Response_Campaigns</th>\n      <th>Total_Kids</th>\n      <th>has_Kids</th>\n      <th>age_(17.943, 29.4]</th>\n      <th>age_(29.4, 40.8]</th>\n      <th>age_(40.8, 52.2]</th>\n      <th>age_(52.2, 63.6]</th>\n      <th>age_(63.6, 75.0]</th>\n    </tr>\n    <tr>\n      <th>CustomerID</th>\n      <th></th>\n      <th></th>\n      <th></th>\n      <th></th>\n      <th></th>\n      <th></th>\n      <th></th>\n      <th></th>\n      <th></th>\n      <th></th>\n      <th></th>\n      <th></th>\n      <th></th>\n      <th></th>\n      <th></th>\n      <th></th>\n      <th></th>\n      <th></th>\n      <th></th>\n      <th></th>\n      <th></th>\n      <th></th>\n      <th></th>\n      <th></th>\n      <th></th>\n      <th></th>\n      <th></th>\n      <th></th>\n      <th></th>\n      <th></th>\n      <th></th>\n      <th></th>\n      <th></th>\n      <th></th>\n      <th></th>\n      <th></th>\n    </tr>\n  </thead>\n  <tbody>\n    <tr>\n      <th>6185</th>\n      <td>Mr. Matt Clarkson</td>\n      <td>4609.6</td>\n      <td>32.0</td>\n      <td>1.301030</td>\n      <td>1.041393</td>\n      <td>1.872156</td>\n      <td>1.041393</td>\n      <td>1.462398</td>\n      <td>0.623249</td>\n      <td>1.20412</td>\n      <td>0</td>\n      <td>0.0</td>\n      <td>0</td>\n      <td>20</td>\n      <td>0.00000</td>\n      <td>1</td>\n      <td>7.341619</td>\n      <td>32</td>\n      <td>826</td>\n      <td>0</td>\n      <td>0</td>\n      <td>1</td>\n      <td>0</td>\n      <td>1</td>\n      <td>0</td>\n      <td>0</td>\n      <td>0.0</td>\n      <td>0.008888</td>\n      <td>0.00000</td>\n      <td>2</td>\n      <td>1</td>\n      <td>0</td>\n      <td>1</td>\n      <td>0</td>\n      <td>0</td>\n      <td>0</td>\n    </tr>\n    <tr>\n      <th>5318</th>\n      <td>Mr. Liam MacDonald</td>\n      <td>3005.4</td>\n      <td>16.0</td>\n      <td>0.778151</td>\n      <td>0.954243</td>\n      <td>0.929419</td>\n      <td>0.845098</td>\n      <td>0.698970</td>\n      <td>0.301030</td>\n      <td>0.00000</td>\n      <td>0</td>\n      <td>0.0</td>\n      <td>0</td>\n      <td>20</td>\n      <td>0.00000</td>\n      <td>1</td>\n      <td>4.506911</td>\n      <td>55</td>\n      <td>808</td>\n      <td>0</td>\n      <td>1</td>\n      <td>0</td>\n      <td>0</td>\n      <td>1</td>\n      <td>0</td>\n      <td>0</td>\n      <td>0.0</td>\n      <td>0.005578</td>\n      <td>0.00000</td>\n      <td>0</td>\n      <td>0</td>\n      <td>0</td>\n      <td>0</td>\n      <td>0</td>\n      <td>1</td>\n      <td>0</td>\n    </tr>\n    <tr>\n      <th>25079</th>\n      <td>Mr. Harry Dickens</td>\n      <td>5048.0</td>\n      <td>64.0</td>\n      <td>1.146128</td>\n      <td>0.698970</td>\n      <td>0.740363</td>\n      <td>0.000000</td>\n      <td>0.477121</td>\n      <td>0.000000</td>\n      <td>1.20412</td>\n      <td>0</td>\n      <td>0.0</td>\n      <td>0</td>\n      <td>20</td>\n      <td>0.00000</td>\n      <td>1</td>\n      <td>3.062582</td>\n      <td>64</td>\n      <td>945</td>\n      <td>0</td>\n      <td>0</td>\n      <td>0</td>\n      <td>1</td>\n      <td>1</td>\n      <td>0</td>\n      <td>0</td>\n      <td>0.0</td>\n      <td>0.003241</td>\n      <td>0.00000</td>\n      <td>1</td>\n      <td>1</td>\n      <td>0</td>\n      <td>0</td>\n      <td>0</td>\n      <td>0</td>\n      <td>1</td>\n    </tr>\n    <tr>\n      <th>23297</th>\n      <td>Mr. Harry Newman</td>\n      <td>3909.6</td>\n      <td>29.0</td>\n      <td>1.113943</td>\n      <td>0.000000</td>\n      <td>0.740363</td>\n      <td>0.000000</td>\n      <td>0.000000</td>\n      <td>0.113943</td>\n      <td>1.20412</td>\n      <td>0</td>\n      <td>0.0</td>\n      <td>0</td>\n      <td>20</td>\n      <td>0.00000</td>\n      <td>1</td>\n      <td>1.968249</td>\n      <td>43</td>\n      <td>847</td>\n      <td>1</td>\n      <td>0</td>\n      <td>0</td>\n      <td>0</td>\n      <td>1</td>\n      <td>0</td>\n      <td>0</td>\n      <td>0.0</td>\n      <td>0.002324</td>\n      <td>0.00000</td>\n      <td>2</td>\n      <td>1</td>\n      <td>0</td>\n      <td>0</td>\n      <td>1</td>\n      <td>0</td>\n      <td>0</td>\n    </tr>\n    <tr>\n      <th>34565</th>\n      <td>Miss Jasmine Russell</td>\n      <td>7644.8</td>\n      <td>15.0</td>\n      <td>1.568202</td>\n      <td>0.477121</td>\n      <td>1.966142</td>\n      <td>1.799341</td>\n      <td>1.591065</td>\n      <td>1.152288</td>\n      <td>1.20412</td>\n      <td>0</td>\n      <td>0.0</td>\n      <td>0</td>\n      <td>19</td>\n      <td>0.00000</td>\n      <td>0</td>\n      <td>8.554158</td>\n      <td>61</td>\n      <td>655</td>\n      <td>0</td>\n      <td>1</td>\n      <td>0</td>\n      <td>0</td>\n      <td>0</td>\n      <td>1</td>\n      <td>0</td>\n      <td>0.0</td>\n      <td>0.013060</td>\n      <td>0.30103</td>\n      <td>2</td>\n      <td>1</td>\n      <td>0</td>\n      <td>0</td>\n      <td>0</td>\n      <td>1</td>\n      <td>0</td>\n    </tr>\n    <tr>\n      <th>5108</th>\n      <td>Mr. Sebastian Abraham</td>\n      <td>10724.2</td>\n      <td>93.0</td>\n      <td>2.457882</td>\n      <td>2.392697</td>\n      <td>2.583765</td>\n      <td>2.143015</td>\n      <td>1.886491</td>\n      <td>0.518514</td>\n      <td>0.00000</td>\n      <td>0</td>\n      <td>0.0</td>\n      <td>0</td>\n      <td>19</td>\n      <td>0.00000</td>\n      <td>1</td>\n      <td>11.982364</td>\n      <td>33</td>\n      <td>403</td>\n      <td>0</td>\n      <td>0</td>\n      <td>0</td>\n      <td>1</td>\n      <td>1</td>\n      <td>0</td>\n      <td>0</td>\n      <td>0.0</td>\n      <td>0.029733</td>\n      <td>0.00000</td>\n      <td>0</td>\n      <td>0</td>\n      <td>0</td>\n      <td>1</td>\n      <td>0</td>\n      <td>0</td>\n      <td>0</td>\n    </tr>\n    <tr>\n      <th>18872</th>\n      <td>Miss Rachel Young</td>\n      <td>3550.0</td>\n      <td>4.0</td>\n      <td>1.544068</td>\n      <td>0.000000</td>\n      <td>1.342423</td>\n      <td>0.698970</td>\n      <td>0.477121</td>\n      <td>0.079181</td>\n      <td>0.00000</td>\n      <td>0</td>\n      <td>0.0</td>\n      <td>0</td>\n      <td>20</td>\n      <td>0.00000</td>\n      <td>0</td>\n      <td>4.141763</td>\n      <td>40</td>\n      <td>651</td>\n      <td>0</td>\n      <td>0</td>\n      <td>0</td>\n      <td>1</td>\n      <td>0</td>\n      <td>1</td>\n      <td>0</td>\n      <td>0.0</td>\n      <td>0.006362</td>\n      <td>0.00000</td>\n      <td>1</td>\n      <td>1</td>\n      <td>0</td>\n      <td>1</td>\n      <td>0</td>\n      <td>0</td>\n      <td>0</td>\n    </tr>\n    <tr>\n      <th>13388</th>\n      <td>Mr. Eric Berry</td>\n      <td>4554.8</td>\n      <td>99.0</td>\n      <td>0.778151</td>\n      <td>1.322219</td>\n      <td>1.311754</td>\n      <td>0.698970</td>\n      <td>1.230449</td>\n      <td>0.414973</td>\n      <td>1.20412</td>\n      <td>0</td>\n      <td>0.0</td>\n      <td>0</td>\n      <td>20</td>\n      <td>0.00000</td>\n      <td>1</td>\n      <td>5.756517</td>\n      <td>39</td>\n      <td>811</td>\n      <td>0</td>\n      <td>1</td>\n      <td>0</td>\n      <td>0</td>\n      <td>1</td>\n      <td>0</td>\n      <td>0</td>\n      <td>0.0</td>\n      <td>0.007098</td>\n      <td>0.00000</td>\n      <td>1</td>\n      <td>1</td>\n      <td>0</td>\n      <td>1</td>\n      <td>0</td>\n      <td>0</td>\n      <td>0</td>\n    </tr>\n    <tr>\n      <th>14084</th>\n      <td>Mr. Christopher MacLeod</td>\n      <td>5281.3</td>\n      <td>17.0</td>\n      <td>1.079181</td>\n      <td>1.041393</td>\n      <td>1.568202</td>\n      <td>0.845098</td>\n      <td>1.041393</td>\n      <td>0.146128</td>\n      <td>0.00000</td>\n      <td>0</td>\n      <td>0.0</td>\n      <td>0</td>\n      <td>19</td>\n      <td>0.00000</td>\n      <td>1</td>\n      <td>5.721394</td>\n      <td>29</td>\n      <td>357</td>\n      <td>1</td>\n      <td>0</td>\n      <td>0</td>\n      <td>0</td>\n      <td>0</td>\n      <td>1</td>\n      <td>0</td>\n      <td>0.0</td>\n      <td>0.016026</td>\n      <td>0.00000</td>\n      <td>1</td>\n      <td>1</td>\n      <td>1</td>\n      <td>0</td>\n      <td>0</td>\n      <td>0</td>\n      <td>0</td>\n    </tr>\n    <tr>\n      <th>5366</th>\n      <td>Mr. Boris Reid</td>\n      <td>6065.1</td>\n      <td>75.0</td>\n      <td>1.602060</td>\n      <td>0.477121</td>\n      <td>1.243038</td>\n      <td>0.000000</td>\n      <td>0.698970</td>\n      <td>0.342423</td>\n      <td>1.20412</td>\n      <td>0</td>\n      <td>0.0</td>\n      <td>0</td>\n      <td>19</td>\n      <td>0.00000</td>\n      <td>1</td>\n      <td>4.363612</td>\n      <td>48</td>\n      <td>346</td>\n      <td>0</td>\n      <td>0</td>\n      <td>0</td>\n      <td>1</td>\n      <td>0</td>\n      <td>1</td>\n      <td>0</td>\n      <td>0.0</td>\n      <td>0.012612</td>\n      <td>0.00000</td>\n      <td>2</td>\n      <td>1</td>\n      <td>0</td>\n      <td>0</td>\n      <td>1</td>\n      <td>0</td>\n      <td>0</td>\n    </tr>\n    <tr>\n      <th>31409</th>\n      <td>Mr. Christian Allan</td>\n      <td>3746.5</td>\n      <td>35.0</td>\n      <td>1.518514</td>\n      <td>0.477121</td>\n      <td>1.986772</td>\n      <td>1.397940</td>\n      <td>1.397940</td>\n      <td>0.977724</td>\n      <td>1.20412</td>\n      <td>0</td>\n      <td>0.0</td>\n      <td>0</td>\n      <td>20</td>\n      <td>0.00000</td>\n      <td>1</td>\n      <td>7.756011</td>\n      <td>38</td>\n      <td>947</td>\n      <td>1</td>\n      <td>0</td>\n      <td>0</td>\n      <td>0</td>\n      <td>0</td>\n      <td>0</td>\n      <td>0</td>\n      <td>0.0</td>\n      <td>0.008190</td>\n      <td>0.00000</td>\n      <td>1</td>\n      <td>1</td>\n      <td>0</td>\n      <td>1</td>\n      <td>0</td>\n      <td>0</td>\n      <td>0</td>\n    </tr>\n    <tr>\n      <th>30521</th>\n      <td>Miss Stephanie Terry</td>\n      <td>3623.7</td>\n      <td>94.0</td>\n      <td>1.812913</td>\n      <td>1.431364</td>\n      <td>1.703291</td>\n      <td>1.653213</td>\n      <td>1.568202</td>\n      <td>1.089905</td>\n      <td>1.20412</td>\n      <td>0</td>\n      <td>0.0</td>\n      <td>0</td>\n      <td>20</td>\n      <td>0.00000</td>\n      <td>0</td>\n      <td>9.258888</td>\n      <td>68</td>\n      <td>494</td>\n      <td>1</td>\n      <td>0</td>\n      <td>0</td>\n      <td>0</td>\n      <td>1</td>\n      <td>0</td>\n      <td>0</td>\n      <td>0.0</td>\n      <td>0.018743</td>\n      <td>0.30103</td>\n      <td>0</td>\n      <td>0</td>\n      <td>0</td>\n      <td>0</td>\n      <td>0</td>\n      <td>0</td>\n      <td>1</td>\n    </tr>\n    <tr>\n      <th>28061</th>\n      <td>Mr. Adam Black</td>\n      <td>3133.7</td>\n      <td>36.0</td>\n      <td>1.505150</td>\n      <td>0.477121</td>\n      <td>1.060698</td>\n      <td>0.000000</td>\n      <td>0.477121</td>\n      <td>0.518514</td>\n      <td>0.00000</td>\n      <td>0</td>\n      <td>0.0</td>\n      <td>0</td>\n      <td>20</td>\n      <td>0.00000</td>\n      <td>1</td>\n      <td>4.038604</td>\n      <td>44</td>\n      <td>699</td>\n      <td>1</td>\n      <td>0</td>\n      <td>0</td>\n      <td>0</td>\n      <td>0</td>\n      <td>0</td>\n      <td>0</td>\n      <td>0.0</td>\n      <td>0.005778</td>\n      <td>0.30103</td>\n      <td>1</td>\n      <td>1</td>\n      <td>0</td>\n      <td>0</td>\n      <td>1</td>\n      <td>0</td>\n      <td>0</td>\n    </tr>\n    <tr>\n      <th>10547</th>\n      <td>Mr. Thomas Slater</td>\n      <td>3478.0</td>\n      <td>57.0</td>\n      <td>1.000000</td>\n      <td>1.176091</td>\n      <td>1.531479</td>\n      <td>1.113943</td>\n      <td>1.041393</td>\n      <td>0.278754</td>\n      <td>0.00000</td>\n      <td>0</td>\n      <td>0.0</td>\n      <td>0</td>\n      <td>20</td>\n      <td>0.00000</td>\n      <td>1</td>\n      <td>6.141660</td>\n      <td>50</td>\n      <td>371</td>\n      <td>1</td>\n      <td>0</td>\n      <td>0</td>\n      <td>0</td>\n      <td>1</td>\n      <td>0</td>\n      <td>0</td>\n      <td>0.0</td>\n      <td>0.016554</td>\n      <td>0.00000</td>\n      <td>0</td>\n      <td>0</td>\n      <td>0</td>\n      <td>0</td>\n      <td>1</td>\n      <td>0</td>\n      <td>0</td>\n    </tr>\n    <tr>\n      <th>26696</th>\n      <td>Mr. Charles Pullman</td>\n      <td>5171.2</td>\n      <td>89.0</td>\n      <td>0.778151</td>\n      <td>0.000000</td>\n      <td>1.243038</td>\n      <td>1.322219</td>\n      <td>1.230449</td>\n      <td>0.462398</td>\n      <td>1.20412</td>\n      <td>0</td>\n      <td>0.0</td>\n      <td>0</td>\n      <td>20</td>\n      <td>0.00000</td>\n      <td>1</td>\n      <td>5.036256</td>\n      <td>63</td>\n      <td>289</td>\n      <td>1</td>\n      <td>0</td>\n      <td>0</td>\n      <td>0</td>\n      <td>0</td>\n      <td>0</td>\n      <td>0</td>\n      <td>0.0</td>\n      <td>0.017426</td>\n      <td>0.00000</td>\n      <td>0</td>\n      <td>0</td>\n      <td>0</td>\n      <td>0</td>\n      <td>0</td>\n      <td>1</td>\n      <td>0</td>\n    </tr>\n    <tr>\n      <th>15911</th>\n      <td>Miss Pippa Underwood</td>\n      <td>4472.2</td>\n      <td>23.0</td>\n      <td>0.698970</td>\n      <td>0.845098</td>\n      <td>0.740363</td>\n      <td>0.845098</td>\n      <td>1.176091</td>\n      <td>0.146128</td>\n      <td>0.00000</td>\n      <td>0</td>\n      <td>0.0</td>\n      <td>0</td>\n      <td>20</td>\n      <td>0.00000</td>\n      <td>0</td>\n      <td>4.451748</td>\n      <td>35</td>\n      <td>652</td>\n      <td>1</td>\n      <td>0</td>\n      <td>0</td>\n      <td>0</td>\n      <td>0</td>\n      <td>1</td>\n      <td>0</td>\n      <td>0.0</td>\n      <td>0.006828</td>\n      <td>0.00000</td>\n      <td>1</td>\n      <td>1</td>\n      <td>0</td>\n      <td>1</td>\n      <td>0</td>\n      <td>0</td>\n      <td>0</td>\n    </tr>\n    <tr>\n      <th>12800</th>\n      <td>Mr. Sebastian Paige</td>\n      <td>7175.5</td>\n      <td>53.0</td>\n      <td>1.968483</td>\n      <td>0.000000</td>\n      <td>1.929419</td>\n      <td>0.477121</td>\n      <td>0.477121</td>\n      <td>0.301030</td>\n      <td>1.20412</td>\n      <td>0</td>\n      <td>0.0</td>\n      <td>0</td>\n      <td>20</td>\n      <td>0.00000</td>\n      <td>1</td>\n      <td>5.153174</td>\n      <td>50</td>\n      <td>850</td>\n      <td>0</td>\n      <td>0</td>\n      <td>0</td>\n      <td>1</td>\n      <td>1</td>\n      <td>0</td>\n      <td>0</td>\n      <td>0.0</td>\n      <td>0.006063</td>\n      <td>0.00000</td>\n      <td>4</td>\n      <td>1</td>\n      <td>0</td>\n      <td>0</td>\n      <td>1</td>\n      <td>0</td>\n      <td>0</td>\n    </tr>\n    <tr>\n      <th>17996</th>\n      <td>Mr. Paul Peters</td>\n      <td>7507.0</td>\n      <td>97.0</td>\n      <td>1.716003</td>\n      <td>0.000000</td>\n      <td>0.397940</td>\n      <td>0.000000</td>\n      <td>0.000000</td>\n      <td>0.113943</td>\n      <td>1.20412</td>\n      <td>0</td>\n      <td>0.0</td>\n      <td>0</td>\n      <td>19</td>\n      <td>0.00000</td>\n      <td>1</td>\n      <td>2.227887</td>\n      <td>64</td>\n      <td>295</td>\n      <td>0</td>\n      <td>0</td>\n      <td>0</td>\n      <td>1</td>\n      <td>1</td>\n      <td>0</td>\n      <td>0</td>\n      <td>0.0</td>\n      <td>0.007552</td>\n      <td>0.30103</td>\n      <td>1</td>\n      <td>1</td>\n      <td>0</td>\n      <td>0</td>\n      <td>0</td>\n      <td>0</td>\n      <td>1</td>\n    </tr>\n    <tr>\n      <th>7127</th>\n      <td>Mr. Joe Chapman</td>\n      <td>6324.3</td>\n      <td>85.0</td>\n      <td>1.633468</td>\n      <td>1.041393</td>\n      <td>2.012837</td>\n      <td>1.851258</td>\n      <td>1.826075</td>\n      <td>0.681241</td>\n      <td>1.20412</td>\n      <td>0</td>\n      <td>0.0</td>\n      <td>0</td>\n      <td>20</td>\n      <td>0.00000</td>\n      <td>1</td>\n      <td>9.046273</td>\n      <td>37</td>\n      <td>449</td>\n      <td>0</td>\n      <td>1</td>\n      <td>0</td>\n      <td>0</td>\n      <td>0</td>\n      <td>0</td>\n      <td>0</td>\n      <td>0.0</td>\n      <td>0.020148</td>\n      <td>0.00000</td>\n      <td>1</td>\n      <td>1</td>\n      <td>0</td>\n      <td>1</td>\n      <td>0</td>\n      <td>0</td>\n      <td>0</td>\n    </tr>\n    <tr>\n      <th>22133</th>\n      <td>Mr. Evan Bailey</td>\n      <td>7326.0</td>\n      <td>30.0</td>\n      <td>1.602060</td>\n      <td>1.278754</td>\n      <td>1.585461</td>\n      <td>1.397940</td>\n      <td>1.826075</td>\n      <td>0.301030</td>\n      <td>0.00000</td>\n      <td>0</td>\n      <td>0.0</td>\n      <td>0</td>\n      <td>20</td>\n      <td>0.30103</td>\n      <td>1</td>\n      <td>7.991319</td>\n      <td>27</td>\n      <td>749</td>\n      <td>0</td>\n      <td>1</td>\n      <td>0</td>\n      <td>0</td>\n      <td>1</td>\n      <td>0</td>\n      <td>0</td>\n      <td>0.0</td>\n      <td>0.010669</td>\n      <td>0.00000</td>\n      <td>1</td>\n      <td>1</td>\n      <td>1</td>\n      <td>0</td>\n      <td>0</td>\n      <td>0</td>\n      <td>0</td>\n    </tr>\n  </tbody>\n</table>\n</div>"
     },
     "execution_count": 765,
     "metadata": {},
     "output_type": "execute_result"
    }
   ],
   "source": [
    "df[(df[['MntMeat&Fish', 'MntEntries',\n",
    "        'MntVegan&Vegetarian', 'MntDrinks', 'MntDesserts',\n",
    "        'MntAdditionalRequests']].sum(axis = 1) > 0) & (df[['NumAppPurchases', 'NumTakeAwayPurchases', 'NumStorePurchases']].sum(axis = 1) <= 0)]"
   ],
   "metadata": {
    "collapsed": false
   }
  },
  {
   "cell_type": "code",
   "execution_count": 766,
   "outputs": [],
   "source": [
    "# como justificar a atribuição de [0,0,0,0,0,0] às variaveis de monetary?\n",
    "\n",
    "df.drop(df.loc[(df[['MntMeat&Fish', 'MntEntries',\n",
    "            'MntVegan&Vegetarian', 'MntDrinks', 'MntDesserts',\n",
    "            'MntAdditionalRequests']].sum(axis = 1) > 0) & (df[['NumAppPurchases', 'NumTakeAwayPurchases', 'NumStorePurchases']].sum(axis = 1) <= 0)].index,inplace=True)"
   ],
   "metadata": {
    "collapsed": false
   }
  },
  {
   "cell_type": "code",
   "execution_count": 767,
   "outputs": [
    {
     "data": {
      "text/plain": "Empty DataFrame\nColumns: [Name, Income, Recency, MntMeat&Fish, MntEntries, MntVegan&Vegetarian, MntDrinks, MntDesserts, MntAdditionalRequests, NumOfferPurchases, NumAppPurchases, NumTakeAwayPurchases, NumStorePurchases, NumAppVisitsMonth, Complain, Gender, MntTotal, Age, daysAsCardClient, Graduation, HighSchool, Master, PhD, Married, Single, Widow, NumPurchasesTotal, Mnt_pday_card, Response_Campaigns, Total_Kids, has_Kids, age_(17.943, 29.4], age_(29.4, 40.8], age_(40.8, 52.2], age_(52.2, 63.6], age_(63.6, 75.0]]\nIndex: []",
      "text/html": "<div>\n<style scoped>\n    .dataframe tbody tr th:only-of-type {\n        vertical-align: middle;\n    }\n\n    .dataframe tbody tr th {\n        vertical-align: top;\n    }\n\n    .dataframe thead th {\n        text-align: right;\n    }\n</style>\n<table border=\"1\" class=\"dataframe\">\n  <thead>\n    <tr style=\"text-align: right;\">\n      <th></th>\n      <th>Name</th>\n      <th>Income</th>\n      <th>Recency</th>\n      <th>MntMeat&amp;Fish</th>\n      <th>MntEntries</th>\n      <th>MntVegan&amp;Vegetarian</th>\n      <th>MntDrinks</th>\n      <th>MntDesserts</th>\n      <th>MntAdditionalRequests</th>\n      <th>NumOfferPurchases</th>\n      <th>NumAppPurchases</th>\n      <th>NumTakeAwayPurchases</th>\n      <th>NumStorePurchases</th>\n      <th>NumAppVisitsMonth</th>\n      <th>Complain</th>\n      <th>Gender</th>\n      <th>MntTotal</th>\n      <th>Age</th>\n      <th>daysAsCardClient</th>\n      <th>Graduation</th>\n      <th>HighSchool</th>\n      <th>Master</th>\n      <th>PhD</th>\n      <th>Married</th>\n      <th>Single</th>\n      <th>Widow</th>\n      <th>NumPurchasesTotal</th>\n      <th>Mnt_pday_card</th>\n      <th>Response_Campaigns</th>\n      <th>Total_Kids</th>\n      <th>has_Kids</th>\n      <th>age_(17.943, 29.4]</th>\n      <th>age_(29.4, 40.8]</th>\n      <th>age_(40.8, 52.2]</th>\n      <th>age_(52.2, 63.6]</th>\n      <th>age_(63.6, 75.0]</th>\n    </tr>\n    <tr>\n      <th>CustomerID</th>\n      <th></th>\n      <th></th>\n      <th></th>\n      <th></th>\n      <th></th>\n      <th></th>\n      <th></th>\n      <th></th>\n      <th></th>\n      <th></th>\n      <th></th>\n      <th></th>\n      <th></th>\n      <th></th>\n      <th></th>\n      <th></th>\n      <th></th>\n      <th></th>\n      <th></th>\n      <th></th>\n      <th></th>\n      <th></th>\n      <th></th>\n      <th></th>\n      <th></th>\n      <th></th>\n      <th></th>\n      <th></th>\n      <th></th>\n      <th></th>\n      <th></th>\n      <th></th>\n      <th></th>\n      <th></th>\n      <th></th>\n      <th></th>\n    </tr>\n  </thead>\n  <tbody>\n  </tbody>\n</table>\n</div>"
     },
     "execution_count": 767,
     "metadata": {},
     "output_type": "execute_result"
    }
   ],
   "source": [
    "df[(df[['MntMeat&Fish', 'MntEntries',\n",
    "        'MntVegan&Vegetarian', 'MntDrinks', 'MntDesserts',\n",
    "        'MntAdditionalRequests']].sum(axis = 1) > 0) & (df[['NumAppPurchases', 'NumTakeAwayPurchases', 'NumStorePurchases']].sum(axis = 1) <= 0)] # confirmação do ajuste"
   ],
   "metadata": {
    "collapsed": false
   }
  },
  {
   "cell_type": "code",
   "execution_count": 768,
   "outputs": [
    {
     "data": {
      "text/plain": "                             Name  Income  Recency  MntMeat&Fish  MntEntries  \\\nCustomerID                                                                     \n12011             Mr. Keith Mills  8503.6     70.0      3.019947    0.000000   \n31391          Mr. Justin Forsyth  9709.1     26.0      2.484300    2.267172   \n27335             Mr. Alan Mathis  7984.8     72.0      2.152288    0.477121   \n23030            Miss Lily Gibson  9153.4     74.0      2.120574    1.875061   \n21251       Miss Kimberly Ellison  7298.2     20.0      2.336460    1.322219   \n\n            MntVegan&Vegetarian  MntDrinks  MntDesserts  \\\nCustomerID                                                \n12011                  1.511883   0.000000     0.000000   \n31391                  2.425697   2.232996     1.995635   \n27335                  1.648360   0.000000     1.431364   \n23030                  2.138303   2.004321     1.672098   \n21251                  2.187521   1.113943     1.113943   \n\n            MntAdditionalRequests  NumOfferPurchases  NumAppPurchases  \\\nCustomerID                                                              \n12011                    1.143015            1.20412                0   \n31391                    0.770852            1.20412                0   \n27335                    0.716003            1.20412                1   \n23030                    0.602060            1.20412                0   \n21251                    0.732394            1.20412                1   \n\n            NumTakeAwayPurchases  NumStorePurchases  NumAppVisitsMonth  \\\nCustomerID                                                               \n12011                        0.0                  1                 20   \n31391                        0.0                  1                 19   \n27335                        0.0                  0                 20   \n23030                        0.0                  1                 19   \n21251                        0.0                  0                 20   \n\n            Complain  Gender   MntTotal  Age  daysAsCardClient  Graduation  \\\nCustomerID                                                                   \n12011            0.0       1   5.674845   56               406           1   \n31391            0.0       1  12.176652   65               435           0   \n27335            0.0       1   6.425137   39               690           1   \n23030            0.0       0  10.412417   57               465           0   \n21251            0.0       0   8.806480   53               926           1   \n\n            HighSchool  Master  PhD  Married  Single  Widow  \\\nCustomerID                                                    \n12011                0       0    0        1       0      0   \n31391                0       0    1        0       0      1   \n27335                0       0    0        1       0      0   \n23030                1       0    0        0       1      0   \n21251                0       0    0        1       0      0   \n\n            NumPurchasesTotal  Mnt_pday_card  Response_Campaigns  Total_Kids  \\\nCustomerID                                                                     \n12011                     1.0       0.013977             0.90309           0   \n31391                     1.0       0.027992             0.00000           0   \n27335                     1.0       0.009312             0.00000           2   \n23030                     1.0       0.022392             0.00000           1   \n21251                     1.0       0.009510             0.00000           1   \n\n            has_Kids  age_(17.943, 29.4]  age_(29.4, 40.8]  age_(40.8, 52.2]  \\\nCustomerID                                                                     \n12011              0                   0                 0                 0   \n31391              0                   0                 0                 0   \n27335              1                   0                 1                 0   \n23030              1                   0                 0                 0   \n21251              1                   0                 0                 0   \n\n            age_(52.2, 63.6]  age_(63.6, 75.0]  \nCustomerID                                      \n12011                      1                 0  \n31391                      0                 1  \n27335                      0                 0  \n23030                      1                 0  \n21251                      1                 0  ",
      "text/html": "<div>\n<style scoped>\n    .dataframe tbody tr th:only-of-type {\n        vertical-align: middle;\n    }\n\n    .dataframe tbody tr th {\n        vertical-align: top;\n    }\n\n    .dataframe thead th {\n        text-align: right;\n    }\n</style>\n<table border=\"1\" class=\"dataframe\">\n  <thead>\n    <tr style=\"text-align: right;\">\n      <th></th>\n      <th>Name</th>\n      <th>Income</th>\n      <th>Recency</th>\n      <th>MntMeat&amp;Fish</th>\n      <th>MntEntries</th>\n      <th>MntVegan&amp;Vegetarian</th>\n      <th>MntDrinks</th>\n      <th>MntDesserts</th>\n      <th>MntAdditionalRequests</th>\n      <th>NumOfferPurchases</th>\n      <th>NumAppPurchases</th>\n      <th>NumTakeAwayPurchases</th>\n      <th>NumStorePurchases</th>\n      <th>NumAppVisitsMonth</th>\n      <th>Complain</th>\n      <th>Gender</th>\n      <th>MntTotal</th>\n      <th>Age</th>\n      <th>daysAsCardClient</th>\n      <th>Graduation</th>\n      <th>HighSchool</th>\n      <th>Master</th>\n      <th>PhD</th>\n      <th>Married</th>\n      <th>Single</th>\n      <th>Widow</th>\n      <th>NumPurchasesTotal</th>\n      <th>Mnt_pday_card</th>\n      <th>Response_Campaigns</th>\n      <th>Total_Kids</th>\n      <th>has_Kids</th>\n      <th>age_(17.943, 29.4]</th>\n      <th>age_(29.4, 40.8]</th>\n      <th>age_(40.8, 52.2]</th>\n      <th>age_(52.2, 63.6]</th>\n      <th>age_(63.6, 75.0]</th>\n    </tr>\n    <tr>\n      <th>CustomerID</th>\n      <th></th>\n      <th></th>\n      <th></th>\n      <th></th>\n      <th></th>\n      <th></th>\n      <th></th>\n      <th></th>\n      <th></th>\n      <th></th>\n      <th></th>\n      <th></th>\n      <th></th>\n      <th></th>\n      <th></th>\n      <th></th>\n      <th></th>\n      <th></th>\n      <th></th>\n      <th></th>\n      <th></th>\n      <th></th>\n      <th></th>\n      <th></th>\n      <th></th>\n      <th></th>\n      <th></th>\n      <th></th>\n      <th></th>\n      <th></th>\n      <th></th>\n      <th></th>\n      <th></th>\n      <th></th>\n      <th></th>\n      <th></th>\n    </tr>\n  </thead>\n  <tbody>\n    <tr>\n      <th>12011</th>\n      <td>Mr. Keith Mills</td>\n      <td>8503.6</td>\n      <td>70.0</td>\n      <td>3.019947</td>\n      <td>0.000000</td>\n      <td>1.511883</td>\n      <td>0.000000</td>\n      <td>0.000000</td>\n      <td>1.143015</td>\n      <td>1.20412</td>\n      <td>0</td>\n      <td>0.0</td>\n      <td>1</td>\n      <td>20</td>\n      <td>0.0</td>\n      <td>1</td>\n      <td>5.674845</td>\n      <td>56</td>\n      <td>406</td>\n      <td>1</td>\n      <td>0</td>\n      <td>0</td>\n      <td>0</td>\n      <td>1</td>\n      <td>0</td>\n      <td>0</td>\n      <td>1.0</td>\n      <td>0.013977</td>\n      <td>0.90309</td>\n      <td>0</td>\n      <td>0</td>\n      <td>0</td>\n      <td>0</td>\n      <td>0</td>\n      <td>1</td>\n      <td>0</td>\n    </tr>\n    <tr>\n      <th>31391</th>\n      <td>Mr. Justin Forsyth</td>\n      <td>9709.1</td>\n      <td>26.0</td>\n      <td>2.484300</td>\n      <td>2.267172</td>\n      <td>2.425697</td>\n      <td>2.232996</td>\n      <td>1.995635</td>\n      <td>0.770852</td>\n      <td>1.20412</td>\n      <td>0</td>\n      <td>0.0</td>\n      <td>1</td>\n      <td>19</td>\n      <td>0.0</td>\n      <td>1</td>\n      <td>12.176652</td>\n      <td>65</td>\n      <td>435</td>\n      <td>0</td>\n      <td>0</td>\n      <td>0</td>\n      <td>1</td>\n      <td>0</td>\n      <td>0</td>\n      <td>1</td>\n      <td>1.0</td>\n      <td>0.027992</td>\n      <td>0.00000</td>\n      <td>0</td>\n      <td>0</td>\n      <td>0</td>\n      <td>0</td>\n      <td>0</td>\n      <td>0</td>\n      <td>1</td>\n    </tr>\n    <tr>\n      <th>27335</th>\n      <td>Mr. Alan Mathis</td>\n      <td>7984.8</td>\n      <td>72.0</td>\n      <td>2.152288</td>\n      <td>0.477121</td>\n      <td>1.648360</td>\n      <td>0.000000</td>\n      <td>1.431364</td>\n      <td>0.716003</td>\n      <td>1.20412</td>\n      <td>1</td>\n      <td>0.0</td>\n      <td>0</td>\n      <td>20</td>\n      <td>0.0</td>\n      <td>1</td>\n      <td>6.425137</td>\n      <td>39</td>\n      <td>690</td>\n      <td>1</td>\n      <td>0</td>\n      <td>0</td>\n      <td>0</td>\n      <td>1</td>\n      <td>0</td>\n      <td>0</td>\n      <td>1.0</td>\n      <td>0.009312</td>\n      <td>0.00000</td>\n      <td>2</td>\n      <td>1</td>\n      <td>0</td>\n      <td>1</td>\n      <td>0</td>\n      <td>0</td>\n      <td>0</td>\n    </tr>\n    <tr>\n      <th>23030</th>\n      <td>Miss Lily Gibson</td>\n      <td>9153.4</td>\n      <td>74.0</td>\n      <td>2.120574</td>\n      <td>1.875061</td>\n      <td>2.138303</td>\n      <td>2.004321</td>\n      <td>1.672098</td>\n      <td>0.602060</td>\n      <td>1.20412</td>\n      <td>0</td>\n      <td>0.0</td>\n      <td>1</td>\n      <td>19</td>\n      <td>0.0</td>\n      <td>0</td>\n      <td>10.412417</td>\n      <td>57</td>\n      <td>465</td>\n      <td>0</td>\n      <td>1</td>\n      <td>0</td>\n      <td>0</td>\n      <td>0</td>\n      <td>1</td>\n      <td>0</td>\n      <td>1.0</td>\n      <td>0.022392</td>\n      <td>0.00000</td>\n      <td>1</td>\n      <td>1</td>\n      <td>0</td>\n      <td>0</td>\n      <td>0</td>\n      <td>1</td>\n      <td>0</td>\n    </tr>\n    <tr>\n      <th>21251</th>\n      <td>Miss Kimberly Ellison</td>\n      <td>7298.2</td>\n      <td>20.0</td>\n      <td>2.336460</td>\n      <td>1.322219</td>\n      <td>2.187521</td>\n      <td>1.113943</td>\n      <td>1.113943</td>\n      <td>0.732394</td>\n      <td>1.20412</td>\n      <td>1</td>\n      <td>0.0</td>\n      <td>0</td>\n      <td>20</td>\n      <td>0.0</td>\n      <td>0</td>\n      <td>8.806480</td>\n      <td>53</td>\n      <td>926</td>\n      <td>1</td>\n      <td>0</td>\n      <td>0</td>\n      <td>0</td>\n      <td>1</td>\n      <td>0</td>\n      <td>0</td>\n      <td>1.0</td>\n      <td>0.009510</td>\n      <td>0.00000</td>\n      <td>1</td>\n      <td>1</td>\n      <td>0</td>\n      <td>0</td>\n      <td>0</td>\n      <td>1</td>\n      <td>0</td>\n    </tr>\n  </tbody>\n</table>\n</div>"
     },
     "execution_count": 768,
     "metadata": {},
     "output_type": "execute_result"
    }
   ],
   "source": [
    "df[(df['NumOfferPurchases'] > df[['NumAppPurchases','NumTakeAwayPurchases','NumStorePurchases']].sum(axis=1))]"
   ],
   "metadata": {
    "collapsed": false
   }
  },
  {
   "cell_type": "code",
   "execution_count": 769,
   "outputs": [],
   "source": [
    "# será esta a abordagem mais acertada, isto é, assumir que todas as compras deste cliente foram \"OfferPurchases\"?\n",
    "\n",
    "df.loc[(df['NumOfferPurchases'] > df[['NumAppPurchases','NumTakeAwayPurchases','NumStorePurchases']].sum(axis=1)),'NumOfferPurchases'] = df['NumAppPurchases'] + df['NumTakeAwayPurchases'] + df['NumStorePurchases']"
   ],
   "metadata": {
    "collapsed": false
   }
  },
  {
   "cell_type": "code",
   "execution_count": 770,
   "outputs": [
    {
     "data": {
      "text/plain": "Empty DataFrame\nColumns: [Name, Income, Recency, MntMeat&Fish, MntEntries, MntVegan&Vegetarian, MntDrinks, MntDesserts, MntAdditionalRequests, NumOfferPurchases, NumAppPurchases, NumTakeAwayPurchases, NumStorePurchases, NumAppVisitsMonth, Complain, Gender, MntTotal, Age, daysAsCardClient, Graduation, HighSchool, Master, PhD, Married, Single, Widow, NumPurchasesTotal, Mnt_pday_card, Response_Campaigns, Total_Kids, has_Kids, age_(17.943, 29.4], age_(29.4, 40.8], age_(40.8, 52.2], age_(52.2, 63.6], age_(63.6, 75.0]]\nIndex: []",
      "text/html": "<div>\n<style scoped>\n    .dataframe tbody tr th:only-of-type {\n        vertical-align: middle;\n    }\n\n    .dataframe tbody tr th {\n        vertical-align: top;\n    }\n\n    .dataframe thead th {\n        text-align: right;\n    }\n</style>\n<table border=\"1\" class=\"dataframe\">\n  <thead>\n    <tr style=\"text-align: right;\">\n      <th></th>\n      <th>Name</th>\n      <th>Income</th>\n      <th>Recency</th>\n      <th>MntMeat&amp;Fish</th>\n      <th>MntEntries</th>\n      <th>MntVegan&amp;Vegetarian</th>\n      <th>MntDrinks</th>\n      <th>MntDesserts</th>\n      <th>MntAdditionalRequests</th>\n      <th>NumOfferPurchases</th>\n      <th>NumAppPurchases</th>\n      <th>NumTakeAwayPurchases</th>\n      <th>NumStorePurchases</th>\n      <th>NumAppVisitsMonth</th>\n      <th>Complain</th>\n      <th>Gender</th>\n      <th>MntTotal</th>\n      <th>Age</th>\n      <th>daysAsCardClient</th>\n      <th>Graduation</th>\n      <th>HighSchool</th>\n      <th>Master</th>\n      <th>PhD</th>\n      <th>Married</th>\n      <th>Single</th>\n      <th>Widow</th>\n      <th>NumPurchasesTotal</th>\n      <th>Mnt_pday_card</th>\n      <th>Response_Campaigns</th>\n      <th>Total_Kids</th>\n      <th>has_Kids</th>\n      <th>age_(17.943, 29.4]</th>\n      <th>age_(29.4, 40.8]</th>\n      <th>age_(40.8, 52.2]</th>\n      <th>age_(52.2, 63.6]</th>\n      <th>age_(63.6, 75.0]</th>\n    </tr>\n    <tr>\n      <th>CustomerID</th>\n      <th></th>\n      <th></th>\n      <th></th>\n      <th></th>\n      <th></th>\n      <th></th>\n      <th></th>\n      <th></th>\n      <th></th>\n      <th></th>\n      <th></th>\n      <th></th>\n      <th></th>\n      <th></th>\n      <th></th>\n      <th></th>\n      <th></th>\n      <th></th>\n      <th></th>\n      <th></th>\n      <th></th>\n      <th></th>\n      <th></th>\n      <th></th>\n      <th></th>\n      <th></th>\n      <th></th>\n      <th></th>\n      <th></th>\n      <th></th>\n      <th></th>\n      <th></th>\n      <th></th>\n      <th></th>\n      <th></th>\n      <th></th>\n    </tr>\n  </thead>\n  <tbody>\n  </tbody>\n</table>\n</div>"
     },
     "execution_count": 770,
     "metadata": {},
     "output_type": "execute_result"
    }
   ],
   "source": [
    "df[(df['NumOfferPurchases'] > df[['NumAppPurchases','NumTakeAwayPurchases','NumStorePurchases']].sum(axis=1))] # confirmação do ajuste"
   ],
   "metadata": {
    "collapsed": false
   }
  },
  {
   "cell_type": "markdown",
   "source": [
    "## Create Ratios - Consumer Behaviour"
   ],
   "metadata": {
    "collapsed": false
   }
  },
  {
   "cell_type": "code",
   "execution_count": 771,
   "outputs": [],
   "source": [
    "df['Pct_Meat&Fish'] = df['MntMeat&Fish']/df['MntTotal']\n",
    "df['Pct_Desserts'] = df['MntDesserts']/df['MntTotal']\n",
    "df['Pct_Entries'] = df['MntEntries']/df['MntTotal']\n",
    "df['Pct_Drinks'] = df['MntDrinks']/df['MntTotal']\n",
    "df['Pct_Vegan&Vegetarian'] = df['MntVegan&Vegetarian']/df['MntTotal']\n",
    "df['Pct_AdditionalRequests'] = df['MntAdditionalRequests'] /df['MntTotal']"
   ],
   "metadata": {
    "collapsed": false
   }
  },
  {
   "cell_type": "markdown",
   "source": [
    "## Create Ratios - Channel"
   ],
   "metadata": {
    "collapsed": false
   }
  },
  {
   "cell_type": "code",
   "execution_count": 772,
   "outputs": [],
   "source": [
    "df['Pct_Store'] = df['NumStorePurchases']/df['NumPurchasesTotal']\n",
    "df['Pct_App'] = df['NumAppPurchases']/df['NumPurchasesTotal']\n",
    "df['Pct_TakeAway'] = df['NumTakeAwayPurchases']/df['NumPurchasesTotal']"
   ],
   "metadata": {
    "collapsed": false
   }
  },
  {
   "cell_type": "markdown",
   "source": [
    "## Data Review\n",
    "\n",
    "Ver a dataframe no seu estado final\n",
    "Drop: Id, name, birthyear, date_adherence, total_kids, mntTotal"
   ],
   "metadata": {
    "collapsed": false
   }
  },
  {
   "cell_type": "code",
   "execution_count": 773,
   "outputs": [
    {
     "data": {
      "text/plain": "                          Name    Income  Recency  MntMeat&Fish  MntEntries  \\\nCustomerID                                                                    \n14594          Miss Leah Lewis  113947.0     43.0      3.666612    3.529045   \n19070         Miss Grace Black  114297.0     74.0      3.850095    3.565966   \n29888       Mr. Gavin Morrison  115476.0     85.0      3.616055    2.580925   \n12221          Mr. Ryan Glover  101172.0     25.0      3.555215    0.000000   \n21107        Mr. Paul Anderson  123128.0     64.0      3.731669    3.051924   \n\n            MntVegan&Vegetarian  MntDrinks  MntDesserts  \\\nCustomerID                                                \n14594                  3.755951   3.350442     2.750508   \n19070                  3.882012   3.265054     3.086716   \n29888                  3.689398   3.561221     2.580925   \n12221                  3.248219   1.908485     2.257679   \n21107                  3.977541   2.817565     2.750508   \n\n            MntAdditionalRequests  NumOfferPurchases  NumAppPurchases  \\\nCustomerID                                                              \n14594                    2.190332           0.477121               10   \n19070                    1.672098           0.301030                5   \n29888                    1.462398           0.301030                5   \n12221                    1.176091           0.778151                8   \n21107                    1.875061           0.000000                4   \n\n            NumTakeAwayPurchases  NumStorePurchases  NumAppVisitsMonth  \\\nCustomerID                                                               \n14594                   0.903090                  7                  4   \n19070                   1.000000                 12                  2   \n29888                   0.778151                  7                  1   \n12221                   0.602060                  8                  5   \n21107                   0.903090                  8                  5   \n\n            Complain  Gender   MntTotal  Age  daysAsCardClient  Graduation  \\\nCustomerID                                                                   \n14594            0.0       0  19.242890   42               825           1   \n19070            0.0       0  19.321940   49               734           1   \n29888            0.0       1  17.490921   63               457           0   \n12221            0.0       1  12.145689   43               549           1   \n21107            0.0       1  18.204269   52               854           0   \n\n            HighSchool  Master  PhD  Married  Single  Widow  \\\nCustomerID                                                    \n14594                0       0    0        0       1      0   \n19070                0       0    0        1       0      0   \n29888                0       0    1        1       0      0   \n12221                0       0    0        1       0      0   \n21107                1       0    0        0       1      0   \n\n            NumPurchasesTotal  Mnt_pday_card  Response_Campaigns  Total_Kids  \\\nCustomerID                                                                     \n14594               17.903090       0.023325             0.30103           0   \n19070               18.000000       0.026324             0.00000           0   \n29888               12.778151       0.038273             0.00000           0   \n12221               16.602060       0.022123             0.00000           2   \n21107               12.903090       0.021316             0.60206           0   \n\n            has_Kids  age_(17.943, 29.4]  age_(29.4, 40.8]  age_(40.8, 52.2]  \\\nCustomerID                                                                     \n14594              0                   0                 0                 1   \n19070              0                   0                 0                 1   \n29888              0                   0                 0                 0   \n12221              1                   0                 0                 1   \n21107              0                   0                 0                 1   \n\n            age_(52.2, 63.6]  age_(63.6, 75.0]  Pct_Meat&Fish  Pct_Desserts  \\\nCustomerID                                                                    \n14594                      0                 0       0.190544      0.142936   \n19070                      0                 0       0.199260      0.159752   \n29888                      1                 0       0.206739      0.147558   \n12221                      0                 0       0.292714      0.185883   \n21107                      0                 0       0.204989      0.151091   \n\n            Pct_Entries  Pct_Drinks  Pct_Vegan&Vegetarian  \\\nCustomerID                                                  \n14594          0.183395    0.174113              0.195186   \n19070          0.184555    0.168982              0.200912   \n29888          0.147558    0.203604              0.210932   \n12221          0.000000    0.157133              0.267438   \n21107          0.167649    0.154775              0.218495   \n\n            Pct_AdditionalRequests  Pct_Store   Pct_App  Pct_TakeAway  \nCustomerID                                                             \n14594                     0.113826   0.390994  0.558563      0.050443  \n19070                     0.086539   0.666667  0.277778      0.055556  \n29888                     0.083609   0.547810  0.391293      0.060897  \n12221                     0.096832   0.481868  0.481868      0.036264  \n21107                     0.103001   0.620007  0.310003      0.069990  ",
      "text/html": "<div>\n<style scoped>\n    .dataframe tbody tr th:only-of-type {\n        vertical-align: middle;\n    }\n\n    .dataframe tbody tr th {\n        vertical-align: top;\n    }\n\n    .dataframe thead th {\n        text-align: right;\n    }\n</style>\n<table border=\"1\" class=\"dataframe\">\n  <thead>\n    <tr style=\"text-align: right;\">\n      <th></th>\n      <th>Name</th>\n      <th>Income</th>\n      <th>Recency</th>\n      <th>MntMeat&amp;Fish</th>\n      <th>MntEntries</th>\n      <th>MntVegan&amp;Vegetarian</th>\n      <th>MntDrinks</th>\n      <th>MntDesserts</th>\n      <th>MntAdditionalRequests</th>\n      <th>NumOfferPurchases</th>\n      <th>NumAppPurchases</th>\n      <th>NumTakeAwayPurchases</th>\n      <th>NumStorePurchases</th>\n      <th>NumAppVisitsMonth</th>\n      <th>Complain</th>\n      <th>Gender</th>\n      <th>MntTotal</th>\n      <th>Age</th>\n      <th>daysAsCardClient</th>\n      <th>Graduation</th>\n      <th>HighSchool</th>\n      <th>Master</th>\n      <th>PhD</th>\n      <th>Married</th>\n      <th>Single</th>\n      <th>Widow</th>\n      <th>NumPurchasesTotal</th>\n      <th>Mnt_pday_card</th>\n      <th>Response_Campaigns</th>\n      <th>Total_Kids</th>\n      <th>has_Kids</th>\n      <th>age_(17.943, 29.4]</th>\n      <th>age_(29.4, 40.8]</th>\n      <th>age_(40.8, 52.2]</th>\n      <th>age_(52.2, 63.6]</th>\n      <th>age_(63.6, 75.0]</th>\n      <th>Pct_Meat&amp;Fish</th>\n      <th>Pct_Desserts</th>\n      <th>Pct_Entries</th>\n      <th>Pct_Drinks</th>\n      <th>Pct_Vegan&amp;Vegetarian</th>\n      <th>Pct_AdditionalRequests</th>\n      <th>Pct_Store</th>\n      <th>Pct_App</th>\n      <th>Pct_TakeAway</th>\n    </tr>\n    <tr>\n      <th>CustomerID</th>\n      <th></th>\n      <th></th>\n      <th></th>\n      <th></th>\n      <th></th>\n      <th></th>\n      <th></th>\n      <th></th>\n      <th></th>\n      <th></th>\n      <th></th>\n      <th></th>\n      <th></th>\n      <th></th>\n      <th></th>\n      <th></th>\n      <th></th>\n      <th></th>\n      <th></th>\n      <th></th>\n      <th></th>\n      <th></th>\n      <th></th>\n      <th></th>\n      <th></th>\n      <th></th>\n      <th></th>\n      <th></th>\n      <th></th>\n      <th></th>\n      <th></th>\n      <th></th>\n      <th></th>\n      <th></th>\n      <th></th>\n      <th></th>\n      <th></th>\n      <th></th>\n      <th></th>\n      <th></th>\n      <th></th>\n      <th></th>\n      <th></th>\n      <th></th>\n      <th></th>\n    </tr>\n  </thead>\n  <tbody>\n    <tr>\n      <th>14594</th>\n      <td>Miss Leah Lewis</td>\n      <td>113947.0</td>\n      <td>43.0</td>\n      <td>3.666612</td>\n      <td>3.529045</td>\n      <td>3.755951</td>\n      <td>3.350442</td>\n      <td>2.750508</td>\n      <td>2.190332</td>\n      <td>0.477121</td>\n      <td>10</td>\n      <td>0.903090</td>\n      <td>7</td>\n      <td>4</td>\n      <td>0.0</td>\n      <td>0</td>\n      <td>19.242890</td>\n      <td>42</td>\n      <td>825</td>\n      <td>1</td>\n      <td>0</td>\n      <td>0</td>\n      <td>0</td>\n      <td>0</td>\n      <td>1</td>\n      <td>0</td>\n      <td>17.903090</td>\n      <td>0.023325</td>\n      <td>0.30103</td>\n      <td>0</td>\n      <td>0</td>\n      <td>0</td>\n      <td>0</td>\n      <td>1</td>\n      <td>0</td>\n      <td>0</td>\n      <td>0.190544</td>\n      <td>0.142936</td>\n      <td>0.183395</td>\n      <td>0.174113</td>\n      <td>0.195186</td>\n      <td>0.113826</td>\n      <td>0.390994</td>\n      <td>0.558563</td>\n      <td>0.050443</td>\n    </tr>\n    <tr>\n      <th>19070</th>\n      <td>Miss Grace Black</td>\n      <td>114297.0</td>\n      <td>74.0</td>\n      <td>3.850095</td>\n      <td>3.565966</td>\n      <td>3.882012</td>\n      <td>3.265054</td>\n      <td>3.086716</td>\n      <td>1.672098</td>\n      <td>0.301030</td>\n      <td>5</td>\n      <td>1.000000</td>\n      <td>12</td>\n      <td>2</td>\n      <td>0.0</td>\n      <td>0</td>\n      <td>19.321940</td>\n      <td>49</td>\n      <td>734</td>\n      <td>1</td>\n      <td>0</td>\n      <td>0</td>\n      <td>0</td>\n      <td>1</td>\n      <td>0</td>\n      <td>0</td>\n      <td>18.000000</td>\n      <td>0.026324</td>\n      <td>0.00000</td>\n      <td>0</td>\n      <td>0</td>\n      <td>0</td>\n      <td>0</td>\n      <td>1</td>\n      <td>0</td>\n      <td>0</td>\n      <td>0.199260</td>\n      <td>0.159752</td>\n      <td>0.184555</td>\n      <td>0.168982</td>\n      <td>0.200912</td>\n      <td>0.086539</td>\n      <td>0.666667</td>\n      <td>0.277778</td>\n      <td>0.055556</td>\n    </tr>\n    <tr>\n      <th>29888</th>\n      <td>Mr. Gavin Morrison</td>\n      <td>115476.0</td>\n      <td>85.0</td>\n      <td>3.616055</td>\n      <td>2.580925</td>\n      <td>3.689398</td>\n      <td>3.561221</td>\n      <td>2.580925</td>\n      <td>1.462398</td>\n      <td>0.301030</td>\n      <td>5</td>\n      <td>0.778151</td>\n      <td>7</td>\n      <td>1</td>\n      <td>0.0</td>\n      <td>1</td>\n      <td>17.490921</td>\n      <td>63</td>\n      <td>457</td>\n      <td>0</td>\n      <td>0</td>\n      <td>0</td>\n      <td>1</td>\n      <td>1</td>\n      <td>0</td>\n      <td>0</td>\n      <td>12.778151</td>\n      <td>0.038273</td>\n      <td>0.00000</td>\n      <td>0</td>\n      <td>0</td>\n      <td>0</td>\n      <td>0</td>\n      <td>0</td>\n      <td>1</td>\n      <td>0</td>\n      <td>0.206739</td>\n      <td>0.147558</td>\n      <td>0.147558</td>\n      <td>0.203604</td>\n      <td>0.210932</td>\n      <td>0.083609</td>\n      <td>0.547810</td>\n      <td>0.391293</td>\n      <td>0.060897</td>\n    </tr>\n    <tr>\n      <th>12221</th>\n      <td>Mr. Ryan Glover</td>\n      <td>101172.0</td>\n      <td>25.0</td>\n      <td>3.555215</td>\n      <td>0.000000</td>\n      <td>3.248219</td>\n      <td>1.908485</td>\n      <td>2.257679</td>\n      <td>1.176091</td>\n      <td>0.778151</td>\n      <td>8</td>\n      <td>0.602060</td>\n      <td>8</td>\n      <td>5</td>\n      <td>0.0</td>\n      <td>1</td>\n      <td>12.145689</td>\n      <td>43</td>\n      <td>549</td>\n      <td>1</td>\n      <td>0</td>\n      <td>0</td>\n      <td>0</td>\n      <td>1</td>\n      <td>0</td>\n      <td>0</td>\n      <td>16.602060</td>\n      <td>0.022123</td>\n      <td>0.00000</td>\n      <td>2</td>\n      <td>1</td>\n      <td>0</td>\n      <td>0</td>\n      <td>1</td>\n      <td>0</td>\n      <td>0</td>\n      <td>0.292714</td>\n      <td>0.185883</td>\n      <td>0.000000</td>\n      <td>0.157133</td>\n      <td>0.267438</td>\n      <td>0.096832</td>\n      <td>0.481868</td>\n      <td>0.481868</td>\n      <td>0.036264</td>\n    </tr>\n    <tr>\n      <th>21107</th>\n      <td>Mr. Paul Anderson</td>\n      <td>123128.0</td>\n      <td>64.0</td>\n      <td>3.731669</td>\n      <td>3.051924</td>\n      <td>3.977541</td>\n      <td>2.817565</td>\n      <td>2.750508</td>\n      <td>1.875061</td>\n      <td>0.000000</td>\n      <td>4</td>\n      <td>0.903090</td>\n      <td>8</td>\n      <td>5</td>\n      <td>0.0</td>\n      <td>1</td>\n      <td>18.204269</td>\n      <td>52</td>\n      <td>854</td>\n      <td>0</td>\n      <td>1</td>\n      <td>0</td>\n      <td>0</td>\n      <td>0</td>\n      <td>1</td>\n      <td>0</td>\n      <td>12.903090</td>\n      <td>0.021316</td>\n      <td>0.60206</td>\n      <td>0</td>\n      <td>0</td>\n      <td>0</td>\n      <td>0</td>\n      <td>1</td>\n      <td>0</td>\n      <td>0</td>\n      <td>0.204989</td>\n      <td>0.151091</td>\n      <td>0.167649</td>\n      <td>0.154775</td>\n      <td>0.218495</td>\n      <td>0.103001</td>\n      <td>0.620007</td>\n      <td>0.310003</td>\n      <td>0.069990</td>\n    </tr>\n  </tbody>\n</table>\n</div>"
     },
     "execution_count": 773,
     "metadata": {},
     "output_type": "execute_result"
    }
   ],
   "source": [
    "df.head()"
   ],
   "metadata": {
    "collapsed": false
   }
  },
  {
   "cell_type": "code",
   "execution_count": 774,
   "outputs": [
    {
     "data": {
      "text/plain": "              Income      Recency  MntMeat&Fish   MntEntries  \\\ncount    6864.000000  6864.000000   6864.000000  6864.000000   \nmean    76348.175481    49.194299      3.031434     2.036176   \nstd     30807.629225    28.848090      0.823830     1.070974   \nmin      2493.800000     0.000000      0.000000     0.000000   \n25%     51619.000000    24.000000      2.416641     1.612784   \n50%     76634.500000    49.000000      3.274389     2.257679   \n75%    101132.750000    74.000000      3.708506     2.845718   \nmax    153703.000000    99.000000      4.175541     3.599992   \n\n       MntVegan&Vegetarian    MntDrinks  MntDesserts  MntAdditionalRequests  \\\ncount          6864.000000  6864.000000  6864.000000            6864.000000   \nmean              2.977142     2.035448     2.033173               1.361027   \nstd               0.700176     1.078061     1.075143               0.545547   \nmin               0.000000     0.000000     0.000000               0.000000   \n25%               2.382017     1.612784     1.612784               1.000000   \n50%               3.045714     2.257679     2.257679               1.414973   \n75%               3.560026     2.849096     2.845718               1.770852   \nmax               4.160198     3.599992     3.599992               2.397940   \n\n       NumOfferPurchases  NumAppPurchases  NumTakeAwayPurchases  \\\ncount        6864.000000      6864.000000           6864.000000   \nmean            0.471989         6.113491              0.601979   \nstd             0.206030         2.665657              0.245311   \nmin             0.000000         0.000000              0.000000   \n25%             0.301030         4.000000              0.301030   \n50%             0.477121         6.000000              0.602060   \n75%             0.602060         8.000000              0.778151   \nmax             1.230449        13.000000              1.397940   \n\n       NumStorePurchases  NumAppVisitsMonth     Complain       Gender  \\\ncount        6864.000000        6864.000000  6864.000000  6864.000000   \nmean            5.882284           5.312500     0.003026     0.732809   \nstd             3.242874           2.594918     0.030032     0.442525   \nmin             0.000000           0.000000     0.000000     0.000000   \n25%             3.000000           3.000000     0.000000     0.000000   \n50%             5.000000           6.000000     0.000000     1.000000   \n75%             8.000000           7.000000     0.000000     1.000000   \nmax            13.000000          20.000000     0.301030     1.000000   \n\n          MntTotal          Age  daysAsCardClient   Graduation   HighSchool  \\\ncount  6864.000000  6864.000000       6864.000000  6864.000000  6864.000000   \nmean     13.474401    46.535839        635.633596     0.502622     0.094988   \nstd       4.181070    11.990678        202.866194     0.500030     0.293220   \nmin       2.859739    18.000000        289.000000     0.000000     0.000000   \n25%      10.332331    38.000000        460.000000     0.000000     0.000000   \n50%      13.852261    46.000000        630.000000     1.000000     0.000000   \n75%      17.257999    56.000000        811.000000     1.000000     0.000000   \nmax      20.776802    75.000000        988.000000     1.000000     1.000000   \n\n            Master          PhD      Married       Single        Widow  \\\ncount  6864.000000  6864.000000  6864.000000  6864.000000  6864.000000   \nmean      0.163316     0.213578     0.653992     0.220280     0.034382   \nstd       0.369681     0.409862     0.475730     0.414465     0.182222   \nmin       0.000000     0.000000     0.000000     0.000000     0.000000   \n25%       0.000000     0.000000     0.000000     0.000000     0.000000   \n50%       0.000000     0.000000     1.000000     0.000000     0.000000   \n75%       0.000000     0.000000     1.000000     0.000000     0.000000   \nmax       1.000000     1.000000     1.000000     1.000000     1.000000   \n\n       NumPurchasesTotal  Mnt_pday_card  Response_Campaigns   Total_Kids  \\\ncount        6864.000000    6864.000000         6864.000000  6864.000000   \nmean           12.597754       0.023402            0.094554     0.931672   \nstd             5.362121       0.010774            0.204486     0.751990   \nmin             1.000000       0.003095            0.000000     0.000000   \n25%             7.477121       0.015959            0.000000     0.000000   \n50%            12.477121       0.021043            0.000000     1.000000   \n75%            16.778151       0.028612            0.000000     1.000000   \nmax            27.000000       0.066131            1.204120     4.000000   \n\n          has_Kids  age_(17.943, 29.4]  age_(29.4, 40.8]  age_(40.8, 52.2]  \\\ncount  6864.000000         6864.000000       6864.000000       6864.000000   \nmean      0.704545            0.082168          0.262092          0.320221   \nstd       0.456280            0.274640          0.439805          0.466596   \nmin       0.000000            0.000000          0.000000          0.000000   \n25%       0.000000            0.000000          0.000000          0.000000   \n50%       1.000000            0.000000          0.000000          0.000000   \n75%       1.000000            0.000000          1.000000          1.000000   \nmax       1.000000            1.000000          1.000000          1.000000   \n\n       age_(52.2, 63.6]  age_(63.6, 75.0]  Pct_Meat&Fish  Pct_Desserts  \\\ncount       6864.000000       6864.000000    6864.000000   6864.000000   \nmean           0.243153          0.092366       0.238974      0.142055   \nstd            0.429018          0.289563       0.082903      0.068421   \nmin            0.000000          0.000000       0.000000      0.000000   \n25%            0.000000          0.000000       0.195090      0.137593   \n50%            0.000000          0.000000       0.217822      0.163243   \n75%            0.000000          0.000000       0.258500      0.180690   \nmax            1.000000          1.000000       0.789470      0.369365   \n\n       Pct_Entries   Pct_Drinks  Pct_Vegan&Vegetarian  Pct_AdditionalRequests  \\\ncount  6864.000000  6864.000000           6864.000000             6864.000000   \nmean      0.142573     0.142275              0.232246                0.101877   \nstd       0.068490     0.068825              0.053059                0.034196   \nmin       0.000000     0.000000              0.000000                0.000000   \n25%       0.138594     0.137914              0.200752                0.082849   \n50%       0.163003     0.163594              0.215828                0.101902   \n75%       0.180928     0.181571              0.245842                0.120609   \nmax       0.346884     0.437088              0.534292                0.256050   \n\n         Pct_Store      Pct_App  Pct_TakeAway  \ncount  6864.000000  6864.000000   6864.000000  \nmean      0.451960     0.496923      0.051117  \nstd       0.103715     0.101630      0.027365  \nmin       0.000000     0.000000      0.000000  \n25%       0.377285     0.431559      0.038588  \n50%       0.446716     0.503808      0.047775  \n75%       0.519399     0.565928      0.056787  \nmax       1.000000     1.000000      1.000000  ",
      "text/html": "<div>\n<style scoped>\n    .dataframe tbody tr th:only-of-type {\n        vertical-align: middle;\n    }\n\n    .dataframe tbody tr th {\n        vertical-align: top;\n    }\n\n    .dataframe thead th {\n        text-align: right;\n    }\n</style>\n<table border=\"1\" class=\"dataframe\">\n  <thead>\n    <tr style=\"text-align: right;\">\n      <th></th>\n      <th>Income</th>\n      <th>Recency</th>\n      <th>MntMeat&amp;Fish</th>\n      <th>MntEntries</th>\n      <th>MntVegan&amp;Vegetarian</th>\n      <th>MntDrinks</th>\n      <th>MntDesserts</th>\n      <th>MntAdditionalRequests</th>\n      <th>NumOfferPurchases</th>\n      <th>NumAppPurchases</th>\n      <th>NumTakeAwayPurchases</th>\n      <th>NumStorePurchases</th>\n      <th>NumAppVisitsMonth</th>\n      <th>Complain</th>\n      <th>Gender</th>\n      <th>MntTotal</th>\n      <th>Age</th>\n      <th>daysAsCardClient</th>\n      <th>Graduation</th>\n      <th>HighSchool</th>\n      <th>Master</th>\n      <th>PhD</th>\n      <th>Married</th>\n      <th>Single</th>\n      <th>Widow</th>\n      <th>NumPurchasesTotal</th>\n      <th>Mnt_pday_card</th>\n      <th>Response_Campaigns</th>\n      <th>Total_Kids</th>\n      <th>has_Kids</th>\n      <th>age_(17.943, 29.4]</th>\n      <th>age_(29.4, 40.8]</th>\n      <th>age_(40.8, 52.2]</th>\n      <th>age_(52.2, 63.6]</th>\n      <th>age_(63.6, 75.0]</th>\n      <th>Pct_Meat&amp;Fish</th>\n      <th>Pct_Desserts</th>\n      <th>Pct_Entries</th>\n      <th>Pct_Drinks</th>\n      <th>Pct_Vegan&amp;Vegetarian</th>\n      <th>Pct_AdditionalRequests</th>\n      <th>Pct_Store</th>\n      <th>Pct_App</th>\n      <th>Pct_TakeAway</th>\n    </tr>\n  </thead>\n  <tbody>\n    <tr>\n      <th>count</th>\n      <td>6864.000000</td>\n      <td>6864.000000</td>\n      <td>6864.000000</td>\n      <td>6864.000000</td>\n      <td>6864.000000</td>\n      <td>6864.000000</td>\n      <td>6864.000000</td>\n      <td>6864.000000</td>\n      <td>6864.000000</td>\n      <td>6864.000000</td>\n      <td>6864.000000</td>\n      <td>6864.000000</td>\n      <td>6864.000000</td>\n      <td>6864.000000</td>\n      <td>6864.000000</td>\n      <td>6864.000000</td>\n      <td>6864.000000</td>\n      <td>6864.000000</td>\n      <td>6864.000000</td>\n      <td>6864.000000</td>\n      <td>6864.000000</td>\n      <td>6864.000000</td>\n      <td>6864.000000</td>\n      <td>6864.000000</td>\n      <td>6864.000000</td>\n      <td>6864.000000</td>\n      <td>6864.000000</td>\n      <td>6864.000000</td>\n      <td>6864.000000</td>\n      <td>6864.000000</td>\n      <td>6864.000000</td>\n      <td>6864.000000</td>\n      <td>6864.000000</td>\n      <td>6864.000000</td>\n      <td>6864.000000</td>\n      <td>6864.000000</td>\n      <td>6864.000000</td>\n      <td>6864.000000</td>\n      <td>6864.000000</td>\n      <td>6864.000000</td>\n      <td>6864.000000</td>\n      <td>6864.000000</td>\n      <td>6864.000000</td>\n      <td>6864.000000</td>\n    </tr>\n    <tr>\n      <th>mean</th>\n      <td>76348.175481</td>\n      <td>49.194299</td>\n      <td>3.031434</td>\n      <td>2.036176</td>\n      <td>2.977142</td>\n      <td>2.035448</td>\n      <td>2.033173</td>\n      <td>1.361027</td>\n      <td>0.471989</td>\n      <td>6.113491</td>\n      <td>0.601979</td>\n      <td>5.882284</td>\n      <td>5.312500</td>\n      <td>0.003026</td>\n      <td>0.732809</td>\n      <td>13.474401</td>\n      <td>46.535839</td>\n      <td>635.633596</td>\n      <td>0.502622</td>\n      <td>0.094988</td>\n      <td>0.163316</td>\n      <td>0.213578</td>\n      <td>0.653992</td>\n      <td>0.220280</td>\n      <td>0.034382</td>\n      <td>12.597754</td>\n      <td>0.023402</td>\n      <td>0.094554</td>\n      <td>0.931672</td>\n      <td>0.704545</td>\n      <td>0.082168</td>\n      <td>0.262092</td>\n      <td>0.320221</td>\n      <td>0.243153</td>\n      <td>0.092366</td>\n      <td>0.238974</td>\n      <td>0.142055</td>\n      <td>0.142573</td>\n      <td>0.142275</td>\n      <td>0.232246</td>\n      <td>0.101877</td>\n      <td>0.451960</td>\n      <td>0.496923</td>\n      <td>0.051117</td>\n    </tr>\n    <tr>\n      <th>std</th>\n      <td>30807.629225</td>\n      <td>28.848090</td>\n      <td>0.823830</td>\n      <td>1.070974</td>\n      <td>0.700176</td>\n      <td>1.078061</td>\n      <td>1.075143</td>\n      <td>0.545547</td>\n      <td>0.206030</td>\n      <td>2.665657</td>\n      <td>0.245311</td>\n      <td>3.242874</td>\n      <td>2.594918</td>\n      <td>0.030032</td>\n      <td>0.442525</td>\n      <td>4.181070</td>\n      <td>11.990678</td>\n      <td>202.866194</td>\n      <td>0.500030</td>\n      <td>0.293220</td>\n      <td>0.369681</td>\n      <td>0.409862</td>\n      <td>0.475730</td>\n      <td>0.414465</td>\n      <td>0.182222</td>\n      <td>5.362121</td>\n      <td>0.010774</td>\n      <td>0.204486</td>\n      <td>0.751990</td>\n      <td>0.456280</td>\n      <td>0.274640</td>\n      <td>0.439805</td>\n      <td>0.466596</td>\n      <td>0.429018</td>\n      <td>0.289563</td>\n      <td>0.082903</td>\n      <td>0.068421</td>\n      <td>0.068490</td>\n      <td>0.068825</td>\n      <td>0.053059</td>\n      <td>0.034196</td>\n      <td>0.103715</td>\n      <td>0.101630</td>\n      <td>0.027365</td>\n    </tr>\n    <tr>\n      <th>min</th>\n      <td>2493.800000</td>\n      <td>0.000000</td>\n      <td>0.000000</td>\n      <td>0.000000</td>\n      <td>0.000000</td>\n      <td>0.000000</td>\n      <td>0.000000</td>\n      <td>0.000000</td>\n      <td>0.000000</td>\n      <td>0.000000</td>\n      <td>0.000000</td>\n      <td>0.000000</td>\n      <td>0.000000</td>\n      <td>0.000000</td>\n      <td>0.000000</td>\n      <td>2.859739</td>\n      <td>18.000000</td>\n      <td>289.000000</td>\n      <td>0.000000</td>\n      <td>0.000000</td>\n      <td>0.000000</td>\n      <td>0.000000</td>\n      <td>0.000000</td>\n      <td>0.000000</td>\n      <td>0.000000</td>\n      <td>1.000000</td>\n      <td>0.003095</td>\n      <td>0.000000</td>\n      <td>0.000000</td>\n      <td>0.000000</td>\n      <td>0.000000</td>\n      <td>0.000000</td>\n      <td>0.000000</td>\n      <td>0.000000</td>\n      <td>0.000000</td>\n      <td>0.000000</td>\n      <td>0.000000</td>\n      <td>0.000000</td>\n      <td>0.000000</td>\n      <td>0.000000</td>\n      <td>0.000000</td>\n      <td>0.000000</td>\n      <td>0.000000</td>\n      <td>0.000000</td>\n    </tr>\n    <tr>\n      <th>25%</th>\n      <td>51619.000000</td>\n      <td>24.000000</td>\n      <td>2.416641</td>\n      <td>1.612784</td>\n      <td>2.382017</td>\n      <td>1.612784</td>\n      <td>1.612784</td>\n      <td>1.000000</td>\n      <td>0.301030</td>\n      <td>4.000000</td>\n      <td>0.301030</td>\n      <td>3.000000</td>\n      <td>3.000000</td>\n      <td>0.000000</td>\n      <td>0.000000</td>\n      <td>10.332331</td>\n      <td>38.000000</td>\n      <td>460.000000</td>\n      <td>0.000000</td>\n      <td>0.000000</td>\n      <td>0.000000</td>\n      <td>0.000000</td>\n      <td>0.000000</td>\n      <td>0.000000</td>\n      <td>0.000000</td>\n      <td>7.477121</td>\n      <td>0.015959</td>\n      <td>0.000000</td>\n      <td>0.000000</td>\n      <td>0.000000</td>\n      <td>0.000000</td>\n      <td>0.000000</td>\n      <td>0.000000</td>\n      <td>0.000000</td>\n      <td>0.000000</td>\n      <td>0.195090</td>\n      <td>0.137593</td>\n      <td>0.138594</td>\n      <td>0.137914</td>\n      <td>0.200752</td>\n      <td>0.082849</td>\n      <td>0.377285</td>\n      <td>0.431559</td>\n      <td>0.038588</td>\n    </tr>\n    <tr>\n      <th>50%</th>\n      <td>76634.500000</td>\n      <td>49.000000</td>\n      <td>3.274389</td>\n      <td>2.257679</td>\n      <td>3.045714</td>\n      <td>2.257679</td>\n      <td>2.257679</td>\n      <td>1.414973</td>\n      <td>0.477121</td>\n      <td>6.000000</td>\n      <td>0.602060</td>\n      <td>5.000000</td>\n      <td>6.000000</td>\n      <td>0.000000</td>\n      <td>1.000000</td>\n      <td>13.852261</td>\n      <td>46.000000</td>\n      <td>630.000000</td>\n      <td>1.000000</td>\n      <td>0.000000</td>\n      <td>0.000000</td>\n      <td>0.000000</td>\n      <td>1.000000</td>\n      <td>0.000000</td>\n      <td>0.000000</td>\n      <td>12.477121</td>\n      <td>0.021043</td>\n      <td>0.000000</td>\n      <td>1.000000</td>\n      <td>1.000000</td>\n      <td>0.000000</td>\n      <td>0.000000</td>\n      <td>0.000000</td>\n      <td>0.000000</td>\n      <td>0.000000</td>\n      <td>0.217822</td>\n      <td>0.163243</td>\n      <td>0.163003</td>\n      <td>0.163594</td>\n      <td>0.215828</td>\n      <td>0.101902</td>\n      <td>0.446716</td>\n      <td>0.503808</td>\n      <td>0.047775</td>\n    </tr>\n    <tr>\n      <th>75%</th>\n      <td>101132.750000</td>\n      <td>74.000000</td>\n      <td>3.708506</td>\n      <td>2.845718</td>\n      <td>3.560026</td>\n      <td>2.849096</td>\n      <td>2.845718</td>\n      <td>1.770852</td>\n      <td>0.602060</td>\n      <td>8.000000</td>\n      <td>0.778151</td>\n      <td>8.000000</td>\n      <td>7.000000</td>\n      <td>0.000000</td>\n      <td>1.000000</td>\n      <td>17.257999</td>\n      <td>56.000000</td>\n      <td>811.000000</td>\n      <td>1.000000</td>\n      <td>0.000000</td>\n      <td>0.000000</td>\n      <td>0.000000</td>\n      <td>1.000000</td>\n      <td>0.000000</td>\n      <td>0.000000</td>\n      <td>16.778151</td>\n      <td>0.028612</td>\n      <td>0.000000</td>\n      <td>1.000000</td>\n      <td>1.000000</td>\n      <td>0.000000</td>\n      <td>1.000000</td>\n      <td>1.000000</td>\n      <td>0.000000</td>\n      <td>0.000000</td>\n      <td>0.258500</td>\n      <td>0.180690</td>\n      <td>0.180928</td>\n      <td>0.181571</td>\n      <td>0.245842</td>\n      <td>0.120609</td>\n      <td>0.519399</td>\n      <td>0.565928</td>\n      <td>0.056787</td>\n    </tr>\n    <tr>\n      <th>max</th>\n      <td>153703.000000</td>\n      <td>99.000000</td>\n      <td>4.175541</td>\n      <td>3.599992</td>\n      <td>4.160198</td>\n      <td>3.599992</td>\n      <td>3.599992</td>\n      <td>2.397940</td>\n      <td>1.230449</td>\n      <td>13.000000</td>\n      <td>1.397940</td>\n      <td>13.000000</td>\n      <td>20.000000</td>\n      <td>0.301030</td>\n      <td>1.000000</td>\n      <td>20.776802</td>\n      <td>75.000000</td>\n      <td>988.000000</td>\n      <td>1.000000</td>\n      <td>1.000000</td>\n      <td>1.000000</td>\n      <td>1.000000</td>\n      <td>1.000000</td>\n      <td>1.000000</td>\n      <td>1.000000</td>\n      <td>27.000000</td>\n      <td>0.066131</td>\n      <td>1.204120</td>\n      <td>4.000000</td>\n      <td>1.000000</td>\n      <td>1.000000</td>\n      <td>1.000000</td>\n      <td>1.000000</td>\n      <td>1.000000</td>\n      <td>1.000000</td>\n      <td>0.789470</td>\n      <td>0.369365</td>\n      <td>0.346884</td>\n      <td>0.437088</td>\n      <td>0.534292</td>\n      <td>0.256050</td>\n      <td>1.000000</td>\n      <td>1.000000</td>\n      <td>1.000000</td>\n    </tr>\n  </tbody>\n</table>\n</div>"
     },
     "execution_count": 774,
     "metadata": {},
     "output_type": "execute_result"
    }
   ],
   "source": [
    "df.describe()"
   ],
   "metadata": {
    "collapsed": false
   }
  },
  {
   "cell_type": "code",
   "execution_count": 775,
   "outputs": [],
   "source": [
    "df_train= df.copy()\n",
    "df_train.drop(['Name'], axis = 1, inplace = True)"
   ],
   "metadata": {
    "collapsed": false
   }
  },
  {
   "cell_type": "code",
   "execution_count": 776,
   "outputs": [
    {
     "data": {
      "text/plain": "Income                    0\nRecency                   0\nMntMeat&Fish              0\nMntEntries                0\nMntVegan&Vegetarian       0\nMntDrinks                 0\nMntDesserts               0\nMntAdditionalRequests     0\nNumOfferPurchases         0\nNumAppPurchases           0\nNumTakeAwayPurchases      0\nNumStorePurchases         0\nNumAppVisitsMonth         0\nComplain                  0\nGender                    0\nMntTotal                  0\nAge                       0\ndaysAsCardClient          0\nGraduation                0\nHighSchool                0\nMaster                    0\nPhD                       0\nMarried                   0\nSingle                    0\nWidow                     0\nNumPurchasesTotal         0\nMnt_pday_card             0\nResponse_Campaigns        0\nTotal_Kids                0\nhas_Kids                  0\nage_(17.943, 29.4]        0\nage_(29.4, 40.8]          0\nage_(40.8, 52.2]          0\nage_(52.2, 63.6]          0\nage_(63.6, 75.0]          0\nPct_Meat&Fish             0\nPct_Desserts              0\nPct_Entries               0\nPct_Drinks                0\nPct_Vegan&Vegetarian      0\nPct_AdditionalRequests    0\nPct_Store                 0\nPct_App                   0\nPct_TakeAway              0\ndtype: int64"
     },
     "execution_count": 776,
     "metadata": {},
     "output_type": "execute_result"
    }
   ],
   "source": [
    "df_train.isna().sum()"
   ],
   "metadata": {
    "collapsed": false
   }
  },
  {
   "cell_type": "markdown",
   "source": [
    "# Feature Selection"
   ],
   "metadata": {
    "collapsed": false
   }
  },
  {
   "cell_type": "markdown",
   "source": [
    "As the problem is not a classification problem we will need to adapt our data so it can be used in classifiers. We will use Random Forest Classifiers as tools for feature selection, using MntTotal as the target variable, as our goal is to devise a marketing campaign that aims to increase sales"
   ],
   "metadata": {
    "collapsed": false
   }
  },
  {
   "cell_type": "code",
   "execution_count": 777,
   "outputs": [],
   "source": [
    "import pandas as pd\n",
    "from sklearn.ensemble import RandomForestRegressor\n",
    "from sklearn.feature_selection import SelectFromModel\n",
    "from sklearn.model_selection import train_test_split\n",
    "from sklearn.metrics import mean_squared_error"
   ],
   "metadata": {
    "collapsed": false
   }
  },
  {
   "cell_type": "code",
   "execution_count": 778,
   "outputs": [],
   "source": [
    "x= df_train.drop(['MntTotal', 'Mnt_pday_card', 'MntAdditionalRequests', 'MntDesserts', 'MntDrinks', 'MntEntries', 'MntMeat&Fish', 'MntVegan&Vegetarian'] , axis= 1)\n",
    "y= df_train['MntTotal']\n",
    "x_train, x_test, y_train, y_test = train_test_split( x, y, test_size=0.2, random_state=1)\n",
    "\n",
    "y_train = np.array(y_train).reshape(-1, 1)\n",
    "y_test = np.array(y_test).reshape(-1, 1)"
   ],
   "metadata": {
    "collapsed": false
   }
  },
  {
   "cell_type": "code",
   "execution_count": 779,
   "outputs": [],
   "source": [
    "scalerx = MinMaxScaler()\n",
    "scalery = MinMaxScaler()\n",
    "\n",
    "scalerx = scalerx.fit(x_train)\n",
    "scalery = scalery.fit(y_train)\n",
    "\n",
    "x_train = pd.DataFrame(scalerx.transform(x_train), columns= x.columns)\n",
    "x_test = pd.DataFrame(scalerx.transform(x_test), columns= x.columns)\n",
    "\n",
    "y_train = pd.DataFrame(scalery.transform(y_train))\n",
    "y_test = pd.DataFrame(scalery.transform(y_test))\n",
    "#df_train.describe()"
   ],
   "metadata": {
    "collapsed": false
   }
  },
  {
   "cell_type": "code",
   "execution_count": 780,
   "outputs": [
    {
     "name": "stderr",
     "output_type": "stream",
     "text": [
      "/var/folders/gt/lg95g0n95mqdr3vk5d1k062h0000gn/T/ipykernel_51760/2527319989.py:2: DataConversionWarning: A column-vector y was passed when a 1d array was expected. Please change the shape of y to (n_samples,), for example using ravel().\n",
      "  RFR.fit(x_train, y_train)\n"
     ]
    },
    {
     "data": {
      "text/plain": "RandomForestRegressor(max_depth=5)"
     },
     "execution_count": 780,
     "metadata": {},
     "output_type": "execute_result"
    }
   ],
   "source": [
    "RFR = RandomForestRegressor(n_estimators=100, max_depth=5)\n",
    "RFR.fit(x_train, y_train)"
   ],
   "metadata": {
    "collapsed": false
   }
  },
  {
   "cell_type": "code",
   "execution_count": 781,
   "outputs": [
    {
     "data": {
      "text/plain": "Income                    0.025891\nRecency                   0.000000\nNumOfferPurchases         0.000060\nNumAppPurchases           0.000559\nNumTakeAwayPurchases      0.017523\nNumStorePurchases         0.000366\nNumAppVisitsMonth         0.000275\nComplain                  0.000000\nGender                    0.000000\nAge                       0.000000\ndaysAsCardClient          0.000006\nGraduation                0.000000\nHighSchool                0.000000\nMaster                    0.000000\nPhD                       0.000000\nMarried                   0.000004\nSingle                    0.000000\nWidow                     0.000000\nNumPurchasesTotal         0.607650\nResponse_Campaigns        0.000008\nTotal_Kids                0.000030\nhas_Kids                  0.000062\nage_(17.943, 29.4]        0.000000\nage_(29.4, 40.8]          0.000000\nage_(40.8, 52.2]          0.000000\nage_(52.2, 63.6]          0.000004\nage_(63.6, 75.0]          0.000000\nPct_Meat&Fish             0.236076\nPct_Desserts              0.000220\nPct_Entries               0.001114\nPct_Drinks                0.000042\nPct_Vegan&Vegetarian      0.108625\nPct_AdditionalRequests    0.000027\nPct_Store                 0.000000\nPct_App                   0.000106\nPct_TakeAway              0.001354\ndtype: float64"
     },
     "execution_count": 781,
     "metadata": {},
     "output_type": "execute_result"
    }
   ],
   "source": [
    "importances = pd.Series(RFR.feature_importances_, index= x_train.columns)\n",
    "importances"
   ],
   "metadata": {
    "collapsed": false
   }
  },
  {
   "cell_type": "code",
   "execution_count": 782,
   "outputs": [
    {
     "name": "stdout",
     "output_type": "stream",
     "text": [
      "                Income\n",
      "     NumOfferPurchases\n",
      "       NumAppPurchases\n",
      "  NumTakeAwayPurchases\n",
      "     NumStorePurchases\n",
      "     NumAppVisitsMonth\n",
      "     NumPurchasesTotal\n",
      "    Response_Campaigns\n",
      "            Total_Kids\n",
      "              has_Kids\n",
      "         Pct_Meat&Fish\n",
      "          Pct_Desserts\n",
      "           Pct_Entries\n",
      "            Pct_Drinks\n",
      "  Pct_Vegan&Vegetarian\n",
      "Pct_AdditionalRequests\n",
      "               Pct_App\n",
      "          Pct_TakeAway\n"
     ]
    }
   ],
   "source": [
    "threshold = importances.median()\n",
    "selected_features = x_train.reset_index(drop=True).loc[:, importances >= threshold]\n",
    "print(selected_features.columns.to_series().reset_index(drop=True).to_string(index=False))"
   ],
   "metadata": {
    "collapsed": false
   }
  },
  {
   "cell_type": "code",
   "execution_count": 783,
   "outputs": [
    {
     "name": "stderr",
     "output_type": "stream",
     "text": [
      "/var/folders/gt/lg95g0n95mqdr3vk5d1k062h0000gn/T/ipykernel_51760/2501353201.py:2: DataConversionWarning: A column-vector y was passed when a 1d array was expected. Please change the shape of y to (n_samples,), for example using ravel().\n",
      "  new_RFR.fit(selected_features, y_train)\n"
     ]
    },
    {
     "data": {
      "text/plain": "RandomForestRegressor(max_depth=5, random_state=1)"
     },
     "execution_count": 783,
     "metadata": {},
     "output_type": "execute_result"
    }
   ],
   "source": [
    "new_RFR = RandomForestRegressor(n_estimators=100, max_depth=5, random_state=1)\n",
    "new_RFR.fit(selected_features, y_train)"
   ],
   "metadata": {
    "collapsed": false
   }
  },
  {
   "cell_type": "code",
   "execution_count": 784,
   "outputs": [
    {
     "name": "stdout",
     "output_type": "stream",
     "text": [
      "MSE:  0.0027082576949718786\n"
     ]
    }
   ],
   "source": [
    "x_test= x_test[selected_features.columns]\n",
    "y_pred = new_RFR.predict(x_test)\n",
    "mse = mean_squared_error(y_test, y_pred)\n",
    "print(\"MSE: \", mse)"
   ],
   "metadata": {
    "collapsed": false
   }
  },
  {
   "cell_type": "markdown",
   "source": [
    "## Data scaling\n",
    "min max: income, recency, mnt..., purchases ..., age, daysasClient, mnt per ..."
   ],
   "metadata": {
    "collapsed": false
   }
  },
  {
   "cell_type": "code",
   "execution_count": 785,
   "outputs": [],
   "source": [
    "#df_train.drop(['Age','Mnt_pday_card','has_Kids','Pct_Meat&Fish','Pct_Desserts','Pct_Entries','Pct_Drinks','Pct_Vegan&Vegetarian','Pct_AdditionalRequests','Pct_Store','Pct_App','Pct_TakeAway'], axis=1, inplace=True)"
   ],
   "metadata": {
    "collapsed": false
   }
  },
  {
   "cell_type": "code",
   "execution_count": 786,
   "outputs": [],
   "source": [
    "scaler = StandardScaler()\n",
    "df_train = pd.DataFrame(scaler.fit_transform(df_train))\n",
    "#df_train.describe()"
   ],
   "metadata": {
    "collapsed": false
   }
  },
  {
   "cell_type": "markdown",
   "source": [
    "## PCA\n"
   ],
   "metadata": {
    "collapsed": false
   }
  },
  {
   "cell_type": "markdown",
   "source": [],
   "metadata": {
    "collapsed": false
   }
  },
  {
   "cell_type": "code",
   "execution_count": 787,
   "outputs": [
    {
     "data": {
      "text/plain": "<Figure size 640x480 with 1 Axes>",
      "image/png": "[encoded data removed]"
     },
     "metadata": {},
     "output_type": "display_data"
    }
   ],
   "source": [
    "from sklearn.decomposition import PCA\n",
    "pca = PCA()\n",
    "df_train2= df_train.copy()\n",
    "pca.fit(df_train2)\n",
    "var= pca.explained_variance_ratio_\n",
    "var1=np.cumsum(np.round(pca.explained_variance_ratio_, decimals=4)*100)\n",
    "\n",
    "plt.title(\"PCA Variance against num of Componmnets\")\n",
    "plt.ylabel(\"Variance %\")\n",
    "plt.xlabel(\"Number of componments\")\n",
    "l = plt.axhline(80, color=\"red\")\n",
    "\n",
    "plt.plot(var1)\n",
    "plt.grid()"
   ],
   "metadata": {
    "collapsed": false
   }
  },
  {
   "cell_type": "code",
   "execution_count": 788,
   "outputs": [
    {
     "data": {
      "text/plain": "array([[-4.02474086, -0.20546243,  1.71665305, ..., -0.21669042,\n         1.99706709,  0.54254997],\n       [-5.03407774,  0.05213891, -1.81220596, ...,  1.00939016,\n         1.88045791,  0.80059626],\n       [-3.52041009,  0.71983551, -2.58461887, ..., -0.30787989,\n        -0.55019334,  0.05001776],\n       ...,\n       [ 5.58649589,  4.50672773, -2.47766645, ...,  1.23800313,\n        -1.06510398,  0.09689124],\n       [ 2.0377749 , -3.33642613,  0.16715821, ...,  1.38555431,\n         0.12116729, -1.22692656],\n       [-5.38084046,  0.9144199 , -0.85684181, ...,  2.33396691,\n        -0.14236543,  0.68222131]])"
     },
     "execution_count": 788,
     "metadata": {},
     "output_type": "execute_result"
    }
   ],
   "source": [
    "pca = PCA(n_components=10)\n",
    "pca_train=pca.fit_transform(df_train2)\n",
    "pca_train"
   ],
   "metadata": {
    "collapsed": false
   }
  },
  {
   "cell_type": "code",
   "execution_count": 789,
   "outputs": [
    {
     "data": {
      "text/plain": "            0         1         2         3         4         5         6   \\\n0     1.220528 -0.214737  0.771062  1.394038  1.112386  1.219865  0.667248   \n1     1.231889  0.859936  0.993797  1.428514  1.292441  1.140654  0.979980   \n2     1.270162  1.241271  0.709690  0.508685  1.017327  1.415396  0.509506   \n3     0.805827 -0.838741  0.635834 -1.901377  0.387184 -0.117779  0.208829   \n4     1.518560  0.513267  0.850037  0.948503  1.428887  0.725538  0.667248   \n...        ...       ...       ...       ...       ...       ...       ...   \n6859  0.734282  0.582601  1.125529  0.355277  1.145747  0.353616 -1.891210   \n6860  1.091654 -1.428077  0.895004  0.908445  1.645790  1.432722 -1.891210   \n6861 -0.659274 -0.665406 -0.362039 -1.901377 -1.204932 -1.888202 -1.891210   \n6862 -1.021937 -1.428077 -1.363182  0.043523 -0.932490  0.043913 -0.026837   \n6863  1.559170  1.067937  1.008481  0.551094  0.359243  1.428460  1.154549   \n\n            7         8         9         10        11        12       13  \\\n0     1.520245  0.024914  1.458099  1.227552  0.344693 -0.505833 -0.10077   \n1     0.570241 -0.829836 -0.417748  1.622630  1.886648 -1.276627 -0.10077   \n2     0.185829 -0.829836 -0.417748  0.718208  0.344693 -1.662023 -0.10077   \n3    -0.339016  1.486117  0.707761  0.000329  0.653084 -0.120436 -0.10077   \n4     0.942305 -2.291039 -0.792917  1.227552  0.653084 -0.120436 -0.10077   \n...        ...       ...       ...       ...       ...       ...      ...   \n6859  0.461509 -0.829836 -0.042578  0.991134  1.578257 -1.276627 -0.10077   \n6860  1.060466 -0.829836 -0.417748  1.227552  0.344693 -1.276627 -0.10077   \n6861 -1.068503  0.024914 -1.168087 -1.226895 -0.580479  0.264960 -0.10077   \n6862 -0.193865 -0.829836 -1.168087 -1.226895 -0.888870  1.035754 -0.10077   \n6863  1.854943 -0.829836 -0.042578  2.087149  1.578257 -1.276627 -0.10077   \n\n            14        15        16        17        18        19        20  \\\n0    -1.656091  1.379768 -0.378308  0.933523  0.994769 -0.323972 -0.441808   \n1    -1.656091  1.398676  0.205521  0.484919  0.994769 -0.323972 -0.441808   \n2     0.603831  0.960714  1.373180 -0.880613 -1.005259 -0.323972 -0.441808   \n3     0.603831 -0.317815 -0.294904 -0.427079  0.994769 -0.323972 -0.441808   \n4     0.603831  1.131340  0.455734  1.076484 -1.005259  3.086682 -0.441808   \n...        ...       ...       ...       ...       ...       ...       ...   \n6859  0.603831  0.169726 -1.462563 -0.708073 -1.005259 -0.323972 -0.441808   \n6860  0.603831  0.706128 -0.711925  1.520159  0.994769 -0.323972 -0.441808   \n6861  0.603831 -1.872746  0.789351 -0.742581 -1.005259 -0.323972 -0.441808   \n6862 -1.656091 -0.434482 -1.045542  1.219446  0.994769 -0.323972 -0.441808   \n6863 -1.656091  1.307270  1.373180  0.805350  0.994769 -0.323972 -0.441808   \n\n            21        22        23        24        25        26        27  \\\n0    -0.521135 -1.374811  1.881404 -0.188697  0.989482 -0.007173  1.009806   \n1    -0.521135  0.727373 -0.531518 -0.188697  1.007556  0.271242 -0.462434   \n2     1.918887  0.727373 -0.531518 -0.188697  0.033645  1.380388 -0.462434   \n3    -0.521135  0.727373 -0.531518 -0.188697  0.746831 -0.118691 -0.462434   \n4    -0.521135 -1.374811  1.881404 -0.188697  0.056947 -0.193582  2.482046   \n...        ...       ...       ...       ...       ...       ...       ...   \n6859  1.918887 -1.374811 -0.531518 -0.188697  0.978666  0.503767 -0.462434   \n6860 -0.521135 -1.374811 -0.531518 -0.188697  0.056947 -0.557023 -0.462434   \n6861  1.918887  0.727373 -0.531518 -0.188697 -0.987876 -1.091869 -0.462434   \n6862 -0.521135 -1.374811  1.881404 -0.188697 -1.174383 -0.946724 -0.462434   \n6863 -0.521135 -1.374811  1.881404 -0.188697  1.028808  0.028067  2.482046   \n\n            28        29        30        31        32        33        34  \\\n0    -1.239032 -1.544220 -0.299205 -0.595972  1.456997 -0.566807 -0.319007   \n1    -1.239032 -1.544220 -0.299205 -0.595972  1.456997 -0.566807 -0.319007   \n2    -1.239032 -1.544220 -0.299205 -0.595972 -0.686343  1.764268 -0.319007   \n3     1.420770  0.647576 -0.299205 -0.595972  1.456997 -0.566807 -0.319007   \n4    -1.239032 -1.544220 -0.299205 -0.595972  1.456997 -0.566807 -0.319007   \n...        ...       ...       ...       ...       ...       ...       ...   \n6859 -1.239032 -1.544220  3.342187 -0.595972 -0.686343 -0.566807 -0.319007   \n6860 -1.239032 -1.544220 -0.299205  1.677931 -0.686343 -0.566807 -0.319007   \n6861  0.090869  0.647576 -0.299205 -0.595972 -0.686343  1.764268 -0.319007   \n6862  0.090869  0.647576 -0.299205  1.677931 -0.686343 -0.566807 -0.319007   \n6863 -1.239032 -1.544220 -0.299205 -0.595972 -0.686343  1.764268 -0.319007   \n\n            35        36        37        38        39        40        41  \\\n0    -0.584221  0.012875  0.596074  0.462630 -0.698511  0.349448 -0.587863   \n1    -0.479073  0.258658  0.613020  0.388065 -0.590591 -0.448562  2.070305   \n2    -0.388856  0.080427  0.072793  0.891150 -0.401729 -0.534246  0.924233   \n3     0.648272  0.640604 -2.081815  0.215891  0.663315 -0.147534  0.288387   \n4    -0.409970  0.132073  0.366155  0.181632 -0.259183  0.032887  1.620386   \n...        ...       ...       ...       ...       ...       ...       ...   \n6859  0.483925 -2.076345  0.406008  0.408356  0.644674  0.345911  1.585762   \n6860 -0.115156 -2.076345  0.592947  1.099370  0.360754  0.473644  0.873086   \n6861  2.958062 -2.076345 -2.081815 -2.067354  2.746470  1.052073  0.924791   \n6862 -0.907956  0.436625  0.526912  0.528672 -0.619592  0.169586  0.232892   \n6863 -0.422869  0.450604 -0.057018  0.675633 -1.164386  0.684648  1.497545   \n\n            42        43  \n0     0.606561 -0.024640  \n1    -2.156462  0.162196  \n2    -1.039434  0.357407  \n3    -0.148144 -0.542832  \n4    -1.839352  0.689729  \n...        ...       ...  \n6859 -1.581303 -0.137415  \n6860 -1.076717  0.689729  \n6861 -0.846484 -0.361307  \n6862 -0.204778 -0.122164  \n6863 -1.630409  0.379314  \n\n[6864 rows x 44 columns]",
      "text/html": "<div>\n<style scoped>\n    .dataframe tbody tr th:only-of-type {\n        vertical-align: middle;\n    }\n\n    .dataframe tbody tr th {\n        vertical-align: top;\n    }\n\n    .dataframe thead th {\n        text-align: right;\n    }\n</style>\n<table border=\"1\" class=\"dataframe\">\n  <thead>\n    <tr style=\"text-align: right;\">\n      <th></th>\n      <th>0</th>\n      <th>1</th>\n      <th>2</th>\n      <th>3</th>\n      <th>4</th>\n      <th>5</th>\n      <th>6</th>\n      <th>7</th>\n      <th>8</th>\n      <th>9</th>\n      <th>10</th>\n      <th>11</th>\n      <th>12</th>\n      <th>13</th>\n      <th>14</th>\n      <th>15</th>\n      <th>16</th>\n      <th>17</th>\n      <th>18</th>\n      <th>19</th>\n      <th>20</th>\n      <th>21</th>\n      <th>22</th>\n      <th>23</th>\n      <th>24</th>\n      <th>25</th>\n      <th>26</th>\n      <th>27</th>\n      <th>28</th>\n      <th>29</th>\n      <th>30</th>\n      <th>31</th>\n      <th>32</th>\n      <th>33</th>\n      <th>34</th>\n      <th>35</th>\n      <th>36</th>\n      <th>37</th>\n      <th>38</th>\n      <th>39</th>\n      <th>40</th>\n      <th>41</th>\n      <th>42</th>\n      <th>43</th>\n    </tr>\n  </thead>\n  <tbody>\n    <tr>\n      <th>0</th>\n      <td>1.220528</td>\n      <td>-0.214737</td>\n      <td>0.771062</td>\n      <td>1.394038</td>\n      <td>1.112386</td>\n      <td>1.219865</td>\n      <td>0.667248</td>\n      <td>1.520245</td>\n      <td>0.024914</td>\n      <td>1.458099</td>\n      <td>1.227552</td>\n      <td>0.344693</td>\n      <td>-0.505833</td>\n      <td>-0.10077</td>\n      <td>-1.656091</td>\n      <td>1.379768</td>\n      <td>-0.378308</td>\n      <td>0.933523</td>\n      <td>0.994769</td>\n      <td>-0.323972</td>\n      <td>-0.441808</td>\n      <td>-0.521135</td>\n      <td>-1.374811</td>\n      <td>1.881404</td>\n      <td>-0.188697</td>\n      <td>0.989482</td>\n      <td>-0.007173</td>\n      <td>1.009806</td>\n      <td>-1.239032</td>\n      <td>-1.544220</td>\n      <td>-0.299205</td>\n      <td>-0.595972</td>\n      <td>1.456997</td>\n      <td>-0.566807</td>\n      <td>-0.319007</td>\n      <td>-0.584221</td>\n      <td>0.012875</td>\n      <td>0.596074</td>\n      <td>0.462630</td>\n      <td>-0.698511</td>\n      <td>0.349448</td>\n      <td>-0.587863</td>\n      <td>0.606561</td>\n      <td>-0.024640</td>\n    </tr>\n    <tr>\n      <th>1</th>\n      <td>1.231889</td>\n      <td>0.859936</td>\n      <td>0.993797</td>\n      <td>1.428514</td>\n      <td>1.292441</td>\n      <td>1.140654</td>\n      <td>0.979980</td>\n      <td>0.570241</td>\n      <td>-0.829836</td>\n      <td>-0.417748</td>\n      <td>1.622630</td>\n      <td>1.886648</td>\n      <td>-1.276627</td>\n      <td>-0.10077</td>\n      <td>-1.656091</td>\n      <td>1.398676</td>\n      <td>0.205521</td>\n      <td>0.484919</td>\n      <td>0.994769</td>\n      <td>-0.323972</td>\n      <td>-0.441808</td>\n      <td>-0.521135</td>\n      <td>0.727373</td>\n      <td>-0.531518</td>\n      <td>-0.188697</td>\n      <td>1.007556</td>\n      <td>0.271242</td>\n      <td>-0.462434</td>\n      <td>-1.239032</td>\n      <td>-1.544220</td>\n      <td>-0.299205</td>\n      <td>-0.595972</td>\n      <td>1.456997</td>\n      <td>-0.566807</td>\n      <td>-0.319007</td>\n      <td>-0.479073</td>\n      <td>0.258658</td>\n      <td>0.613020</td>\n      <td>0.388065</td>\n      <td>-0.590591</td>\n      <td>-0.448562</td>\n      <td>2.070305</td>\n      <td>-2.156462</td>\n      <td>0.162196</td>\n    </tr>\n    <tr>\n      <th>2</th>\n      <td>1.270162</td>\n      <td>1.241271</td>\n      <td>0.709690</td>\n      <td>0.508685</td>\n      <td>1.017327</td>\n      <td>1.415396</td>\n      <td>0.509506</td>\n      <td>0.185829</td>\n      <td>-0.829836</td>\n      <td>-0.417748</td>\n      <td>0.718208</td>\n      <td>0.344693</td>\n      <td>-1.662023</td>\n      <td>-0.10077</td>\n      <td>0.603831</td>\n      <td>0.960714</td>\n      <td>1.373180</td>\n      <td>-0.880613</td>\n      <td>-1.005259</td>\n      <td>-0.323972</td>\n      <td>-0.441808</td>\n      <td>1.918887</td>\n      <td>0.727373</td>\n      <td>-0.531518</td>\n      <td>-0.188697</td>\n      <td>0.033645</td>\n      <td>1.380388</td>\n      <td>-0.462434</td>\n      <td>-1.239032</td>\n      <td>-1.544220</td>\n      <td>-0.299205</td>\n      <td>-0.595972</td>\n      <td>-0.686343</td>\n      <td>1.764268</td>\n      <td>-0.319007</td>\n      <td>-0.388856</td>\n      <td>0.080427</td>\n      <td>0.072793</td>\n      <td>0.891150</td>\n      <td>-0.401729</td>\n      <td>-0.534246</td>\n      <td>0.924233</td>\n      <td>-1.039434</td>\n      <td>0.357407</td>\n    </tr>\n    <tr>\n      <th>3</th>\n      <td>0.805827</td>\n      <td>-0.838741</td>\n      <td>0.635834</td>\n      <td>-1.901377</td>\n      <td>0.387184</td>\n      <td>-0.117779</td>\n      <td>0.208829</td>\n      <td>-0.339016</td>\n      <td>1.486117</td>\n      <td>0.707761</td>\n      <td>0.000329</td>\n      <td>0.653084</td>\n      <td>-0.120436</td>\n      <td>-0.10077</td>\n      <td>0.603831</td>\n      <td>-0.317815</td>\n      <td>-0.294904</td>\n      <td>-0.427079</td>\n      <td>0.994769</td>\n      <td>-0.323972</td>\n      <td>-0.441808</td>\n      <td>-0.521135</td>\n      <td>0.727373</td>\n      <td>-0.531518</td>\n      <td>-0.188697</td>\n      <td>0.746831</td>\n      <td>-0.118691</td>\n      <td>-0.462434</td>\n      <td>1.420770</td>\n      <td>0.647576</td>\n      <td>-0.299205</td>\n      <td>-0.595972</td>\n      <td>1.456997</td>\n      <td>-0.566807</td>\n      <td>-0.319007</td>\n      <td>0.648272</td>\n      <td>0.640604</td>\n      <td>-2.081815</td>\n      <td>0.215891</td>\n      <td>0.663315</td>\n      <td>-0.147534</td>\n      <td>0.288387</td>\n      <td>-0.148144</td>\n      <td>-0.542832</td>\n    </tr>\n    <tr>\n      <th>4</th>\n      <td>1.518560</td>\n      <td>0.513267</td>\n      <td>0.850037</td>\n      <td>0.948503</td>\n      <td>1.428887</td>\n      <td>0.725538</td>\n      <td>0.667248</td>\n      <td>0.942305</td>\n      <td>-2.291039</td>\n      <td>-0.792917</td>\n      <td>1.227552</td>\n      <td>0.653084</td>\n      <td>-0.120436</td>\n      <td>-0.10077</td>\n      <td>0.603831</td>\n      <td>1.131340</td>\n      <td>0.455734</td>\n      <td>1.076484</td>\n      <td>-1.005259</td>\n      <td>3.086682</td>\n      <td>-0.441808</td>\n      <td>-0.521135</td>\n      <td>-1.374811</td>\n      <td>1.881404</td>\n      <td>-0.188697</td>\n      <td>0.056947</td>\n      <td>-0.193582</td>\n      <td>2.482046</td>\n      <td>-1.239032</td>\n      <td>-1.544220</td>\n      <td>-0.299205</td>\n      <td>-0.595972</td>\n      <td>1.456997</td>\n      <td>-0.566807</td>\n      <td>-0.319007</td>\n      <td>-0.409970</td>\n      <td>0.132073</td>\n      <td>0.366155</td>\n      <td>0.181632</td>\n      <td>-0.259183</td>\n      <td>0.032887</td>\n      <td>1.620386</td>\n      <td>-1.839352</td>\n      <td>0.689729</td>\n    </tr>\n    <tr>\n      <th>...</th>\n      <td>...</td>\n      <td>...</td>\n      <td>...</td>\n      <td>...</td>\n      <td>...</td>\n      <td>...</td>\n      <td>...</td>\n      <td>...</td>\n      <td>...</td>\n      <td>...</td>\n      <td>...</td>\n      <td>...</td>\n      <td>...</td>\n      <td>...</td>\n      <td>...</td>\n      <td>...</td>\n      <td>...</td>\n      <td>...</td>\n      <td>...</td>\n      <td>...</td>\n      <td>...</td>\n      <td>...</td>\n      <td>...</td>\n      <td>...</td>\n      <td>...</td>\n      <td>...</td>\n      <td>...</td>\n      <td>...</td>\n      <td>...</td>\n      <td>...</td>\n      <td>...</td>\n      <td>...</td>\n      <td>...</td>\n      <td>...</td>\n      <td>...</td>\n      <td>...</td>\n      <td>...</td>\n      <td>...</td>\n      <td>...</td>\n      <td>...</td>\n      <td>...</td>\n      <td>...</td>\n      <td>...</td>\n      <td>...</td>\n    </tr>\n    <tr>\n      <th>6859</th>\n      <td>0.734282</td>\n      <td>0.582601</td>\n      <td>1.125529</td>\n      <td>0.355277</td>\n      <td>1.145747</td>\n      <td>0.353616</td>\n      <td>-1.891210</td>\n      <td>0.461509</td>\n      <td>-0.829836</td>\n      <td>-0.042578</td>\n      <td>0.991134</td>\n      <td>1.578257</td>\n      <td>-1.276627</td>\n      <td>-0.10077</td>\n      <td>0.603831</td>\n      <td>0.169726</td>\n      <td>-1.462563</td>\n      <td>-0.708073</td>\n      <td>-1.005259</td>\n      <td>-0.323972</td>\n      <td>-0.441808</td>\n      <td>1.918887</td>\n      <td>-1.374811</td>\n      <td>-0.531518</td>\n      <td>-0.188697</td>\n      <td>0.978666</td>\n      <td>0.503767</td>\n      <td>-0.462434</td>\n      <td>-1.239032</td>\n      <td>-1.544220</td>\n      <td>3.342187</td>\n      <td>-0.595972</td>\n      <td>-0.686343</td>\n      <td>-0.566807</td>\n      <td>-0.319007</td>\n      <td>0.483925</td>\n      <td>-2.076345</td>\n      <td>0.406008</td>\n      <td>0.408356</td>\n      <td>0.644674</td>\n      <td>0.345911</td>\n      <td>1.585762</td>\n      <td>-1.581303</td>\n      <td>-0.137415</td>\n    </tr>\n    <tr>\n      <th>6860</th>\n      <td>1.091654</td>\n      <td>-1.428077</td>\n      <td>0.895004</td>\n      <td>0.908445</td>\n      <td>1.645790</td>\n      <td>1.432722</td>\n      <td>-1.891210</td>\n      <td>1.060466</td>\n      <td>-0.829836</td>\n      <td>-0.417748</td>\n      <td>1.227552</td>\n      <td>0.344693</td>\n      <td>-1.276627</td>\n      <td>-0.10077</td>\n      <td>0.603831</td>\n      <td>0.706128</td>\n      <td>-0.711925</td>\n      <td>1.520159</td>\n      <td>0.994769</td>\n      <td>-0.323972</td>\n      <td>-0.441808</td>\n      <td>-0.521135</td>\n      <td>-1.374811</td>\n      <td>-0.531518</td>\n      <td>-0.188697</td>\n      <td>0.056947</td>\n      <td>-0.557023</td>\n      <td>-0.462434</td>\n      <td>-1.239032</td>\n      <td>-1.544220</td>\n      <td>-0.299205</td>\n      <td>1.677931</td>\n      <td>-0.686343</td>\n      <td>-0.566807</td>\n      <td>-0.319007</td>\n      <td>-0.115156</td>\n      <td>-2.076345</td>\n      <td>0.592947</td>\n      <td>1.099370</td>\n      <td>0.360754</td>\n      <td>0.473644</td>\n      <td>0.873086</td>\n      <td>-1.076717</td>\n      <td>0.689729</td>\n    </tr>\n    <tr>\n      <th>6861</th>\n      <td>-0.659274</td>\n      <td>-0.665406</td>\n      <td>-0.362039</td>\n      <td>-1.901377</td>\n      <td>-1.204932</td>\n      <td>-1.888202</td>\n      <td>-1.891210</td>\n      <td>-1.068503</td>\n      <td>0.024914</td>\n      <td>-1.168087</td>\n      <td>-1.226895</td>\n      <td>-0.580479</td>\n      <td>0.264960</td>\n      <td>-0.10077</td>\n      <td>0.603831</td>\n      <td>-1.872746</td>\n      <td>0.789351</td>\n      <td>-0.742581</td>\n      <td>-1.005259</td>\n      <td>-0.323972</td>\n      <td>-0.441808</td>\n      <td>1.918887</td>\n      <td>0.727373</td>\n      <td>-0.531518</td>\n      <td>-0.188697</td>\n      <td>-0.987876</td>\n      <td>-1.091869</td>\n      <td>-0.462434</td>\n      <td>0.090869</td>\n      <td>0.647576</td>\n      <td>-0.299205</td>\n      <td>-0.595972</td>\n      <td>-0.686343</td>\n      <td>1.764268</td>\n      <td>-0.319007</td>\n      <td>2.958062</td>\n      <td>-2.076345</td>\n      <td>-2.081815</td>\n      <td>-2.067354</td>\n      <td>2.746470</td>\n      <td>1.052073</td>\n      <td>0.924791</td>\n      <td>-0.846484</td>\n      <td>-0.361307</td>\n    </tr>\n    <tr>\n      <th>6862</th>\n      <td>-1.021937</td>\n      <td>-1.428077</td>\n      <td>-1.363182</td>\n      <td>0.043523</td>\n      <td>-0.932490</td>\n      <td>0.043913</td>\n      <td>-0.026837</td>\n      <td>-0.193865</td>\n      <td>-0.829836</td>\n      <td>-1.168087</td>\n      <td>-1.226895</td>\n      <td>-0.888870</td>\n      <td>1.035754</td>\n      <td>-0.10077</td>\n      <td>-1.656091</td>\n      <td>-0.434482</td>\n      <td>-1.045542</td>\n      <td>1.219446</td>\n      <td>0.994769</td>\n      <td>-0.323972</td>\n      <td>-0.441808</td>\n      <td>-0.521135</td>\n      <td>-1.374811</td>\n      <td>1.881404</td>\n      <td>-0.188697</td>\n      <td>-1.174383</td>\n      <td>-0.946724</td>\n      <td>-0.462434</td>\n      <td>0.090869</td>\n      <td>0.647576</td>\n      <td>-0.299205</td>\n      <td>1.677931</td>\n      <td>-0.686343</td>\n      <td>-0.566807</td>\n      <td>-0.319007</td>\n      <td>-0.907956</td>\n      <td>0.436625</td>\n      <td>0.526912</td>\n      <td>0.528672</td>\n      <td>-0.619592</td>\n      <td>0.169586</td>\n      <td>0.232892</td>\n      <td>-0.204778</td>\n      <td>-0.122164</td>\n    </tr>\n    <tr>\n      <th>6863</th>\n      <td>1.559170</td>\n      <td>1.067937</td>\n      <td>1.008481</td>\n      <td>0.551094</td>\n      <td>0.359243</td>\n      <td>1.428460</td>\n      <td>1.154549</td>\n      <td>1.854943</td>\n      <td>-0.829836</td>\n      <td>-0.042578</td>\n      <td>2.087149</td>\n      <td>1.578257</td>\n      <td>-1.276627</td>\n      <td>-0.10077</td>\n      <td>-1.656091</td>\n      <td>1.307270</td>\n      <td>1.373180</td>\n      <td>0.805350</td>\n      <td>0.994769</td>\n      <td>-0.323972</td>\n      <td>-0.441808</td>\n      <td>-0.521135</td>\n      <td>-1.374811</td>\n      <td>1.881404</td>\n      <td>-0.188697</td>\n      <td>1.028808</td>\n      <td>0.028067</td>\n      <td>2.482046</td>\n      <td>-1.239032</td>\n      <td>-1.544220</td>\n      <td>-0.299205</td>\n      <td>-0.595972</td>\n      <td>-0.686343</td>\n      <td>1.764268</td>\n      <td>-0.319007</td>\n      <td>-0.422869</td>\n      <td>0.450604</td>\n      <td>-0.057018</td>\n      <td>0.675633</td>\n      <td>-1.164386</td>\n      <td>0.684648</td>\n      <td>1.497545</td>\n      <td>-1.630409</td>\n      <td>0.379314</td>\n    </tr>\n  </tbody>\n</table>\n<p>6864 rows × 44 columns</p>\n</div>"
     },
     "execution_count": 789,
     "metadata": {},
     "output_type": "execute_result"
    }
   ],
   "source": [
    "df_train"
   ],
   "metadata": {
    "collapsed": false
   }
  },
  {
   "cell_type": "markdown",
   "source": [
    "y7 variaveis explicam ~80% da variancia"
   ],
   "metadata": {
    "collapsed": false
   }
  },
  {
   "cell_type": "markdown",
   "source": [
    "## Loading Scores for each PC"
   ],
   "metadata": {
    "collapsed": false
   }
  },
  {
   "cell_type": "markdown",
   "source": [
    "##  Correlação entre PC's e as variáveis originais"
   ],
   "metadata": {
    "collapsed": false
   }
  },
  {
   "cell_type": "markdown",
   "source": [
    "## Model Train"
   ],
   "metadata": {
    "collapsed": false
   }
  },
  {
   "cell_type": "markdown",
   "source": [
    "### 4.1. K-Means"
   ],
   "metadata": {
    "collapsed": false
   }
  },
  {
   "cell_type": "code",
   "execution_count": 790,
   "outputs": [],
   "source": [
    "from sklearn.cluster import KMeans\n",
    "ks = range(1,11)\n",
    "inertias = []\n",
    "\n",
    "\n",
    "for k in ks:\n",
    "    model = KMeans(n_clusters = k).fit(pca_train)\n",
    "    inertias.append(model.inertia_)"
   ],
   "metadata": {
    "collapsed": false
   }
  },
  {
   "cell_type": "code",
   "execution_count": 791,
   "outputs": [
    {
     "data": {
      "text/plain": "<Figure size 640x480 with 1 Axes>",
      "image/png": "[encoded data removed]"
     },
     "metadata": {},
     "output_type": "display_data"
    }
   ],
   "source": [
    "# Plot ks (x-axis) vs inertias (y-axis) using plt.plot(). \n",
    "plt.plot(ks, inertias)\n",
    "\n",
    "# define the label for the x axis as 'number of clusters' using matplotlib.pyplot.xlabel\n",
    "plt.xlabel('number of clusters')\n",
    "# define the label for the y axis as 'inertia' using matplotlib.pyplot.ylabel\n",
    "plt.ylabel('inertia')\n",
    "# define the ticks on the x axis using the values of ks\n",
    "plt.xticks(ks)\n",
    "# call plt.show()\n",
    "plt.show()"
   ],
   "metadata": {
    "collapsed": false
   }
  },
  {
   "cell_type": "code",
   "execution_count": 803,
   "outputs": [],
   "source": [
    "\n",
    "kmeans= KMeans(n_clusters = 4, max_iter =10000, random_state= 1)\n",
    "kmeans.fit(pca_train)\n",
    "pca_train_label = kmeans.labels_\n",
    "pca_train_label = pd.DataFrame(pca_train_label)"
   ],
   "metadata": {
    "collapsed": false
   }
  },
  {
   "cell_type": "code",
   "execution_count": 804,
   "outputs": [
    {
     "data": {
      "text/plain": "              Income  Recency  MntMeat&Fish  MntEntries  MntVegan&Vegetarian  \\\nCustomerID                                                                     \n14594       113947.0     43.0      3.666612    3.529045             3.755951   \n19070       114297.0     74.0      3.850095    3.565966             3.882012   \n29888       115476.0     85.0      3.616055    2.580925             3.689398   \n12221       101172.0     25.0      3.555215    0.000000             3.248219   \n21107       123128.0     64.0      3.731669    3.051924             3.977541   \n...              ...      ...           ...         ...                  ...   \n30686        98968.0     66.0      3.958612    2.416641             3.779308   \n17210       109977.0      8.0      3.768712    3.009026             4.129400   \n29186        56039.0     30.0      2.733197    0.000000             2.133539   \n23312        44867.0      8.0      1.908485    2.082785             2.324282   \n15581       124379.0     80.0      3.862191    2.626340             3.228657   \n\n            MntDrinks  MntDesserts  MntAdditionalRequests  NumOfferPurchases  \\\nCustomerID                                                                     \n14594        3.350442     2.750508               2.190332           0.477121   \n19070        3.265054     3.086716               1.672098           0.301030   \n29888        3.561221     2.580925               1.462398           0.301030   \n12221        1.908485     2.257679               1.176091           0.778151   \n21107        2.817565     2.750508               1.875061           0.000000   \n...               ...          ...                    ...                ...   \n30686        2.416641     0.000000               1.612784           0.301030   \n17210        3.579898     0.000000               1.939519           0.301030   \n29186        0.000000     0.000000               0.778151           0.477121   \n23312        2.082785     2.004321               1.255273           0.301030   \n15581        3.575303     3.274389               2.372912           0.301030   \n\n            NumAppPurchases  NumTakeAwayPurchases  NumStorePurchases  \\\nCustomerID                                                             \n14594                    10              0.903090                  7   \n19070                     5              1.000000                 12   \n29888                     5              0.778151                  7   \n12221                     8              0.602060                  8   \n21107                     4              0.903090                  8   \n...                     ...                   ...                ...   \n30686                     6              0.845098                 11   \n17210                     5              0.903090                  7   \n29186                     3              0.301030                  4   \n23312                     3              0.301030                  3   \n15581                     6              1.113943                 11   \n\n            NumAppVisitsMonth  Complain  Gender   MntTotal  Age  \\\nCustomerID                                                        \n14594                       4       0.0       0  19.242890   42   \n19070                       2       0.0       0  19.321940   49   \n29888                       1       0.0       1  17.490921   63   \n12221                       5       0.0       1  12.145689   43   \n21107                       5       0.0       1  18.204269   52   \n...                       ...       ...     ...        ...  ...   \n30686                       2       0.0       1  14.183984   29   \n17210                       2       0.0       1  16.426555   38   \n29186                       6       0.0       1   5.644887   56   \n23312                       8       0.0       0  11.657932   34   \n15581                       2       0.0       0  18.939792   63   \n\n            daysAsCardClient  Graduation  HighSchool  Master  PhD  Married  \\\nCustomerID                                                                   \n14594                    825           1           0       0    0        0   \n19070                    734           1           0       0    0        1   \n29888                    457           0           0       0    1        1   \n12221                    549           1           0       0    0        1   \n21107                    854           0           1       0    0        0   \n...                      ...         ...         ...     ...  ...      ...   \n30686                    492           0           0       0    1        0   \n17210                    944           1           0       0    0        0   \n29186                    485           0           0       0    1        1   \n23312                    883           1           0       0    0        0   \n15581                    799           1           0       0    0        0   \n\n            Single  Widow  NumPurchasesTotal  Mnt_pday_card  \\\nCustomerID                                                    \n14594            1      0          17.903090       0.023325   \n19070            0      0          18.000000       0.026324   \n29888            0      0          12.778151       0.038273   \n12221            0      0          16.602060       0.022123   \n21107            1      0          12.903090       0.021316   \n...            ...    ...                ...            ...   \n30686            0      0          17.845098       0.028829   \n17210            0      0          12.903090       0.017401   \n29186            0      0           7.301030       0.011639   \n23312            1      0           6.301030       0.013203   \n15581            1      0          18.113943       0.023704   \n\n            Response_Campaigns  Total_Kids  has_Kids  age_(17.943, 29.4]  \\\nCustomerID                                                                 \n14594                  0.30103           0         0                   0   \n19070                  0.00000           0         0                   0   \n29888                  0.00000           0         0                   0   \n12221                  0.00000           2         1                   0   \n21107                  0.60206           0         0                   0   \n...                        ...         ...       ...                 ...   \n30686                  0.00000           0         0                   1   \n17210                  0.00000           0         0                   0   \n29186                  0.00000           1         1                   0   \n23312                  0.00000           1         1                   0   \n15581                  0.60206           0         0                   0   \n\n            age_(29.4, 40.8]  age_(40.8, 52.2]  age_(52.2, 63.6]  \\\nCustomerID                                                         \n14594                      0                 1                 0   \n19070                      0                 1                 0   \n29888                      0                 0                 1   \n12221                      0                 1                 0   \n21107                      0                 1                 0   \n...                      ...               ...               ...   \n30686                      0                 0                 0   \n17210                      1                 0                 0   \n29186                      0                 0                 1   \n23312                      1                 0                 0   \n15581                      0                 0                 1   \n\n            age_(63.6, 75.0]  Pct_Meat&Fish  Pct_Desserts  Pct_Entries  \\\nCustomerID                                                               \n14594                      0       0.190544      0.142936     0.183395   \n19070                      0       0.199260      0.159752     0.184555   \n29888                      0       0.206739      0.147558     0.147558   \n12221                      0       0.292714      0.185883     0.000000   \n21107                      0       0.204989      0.151091     0.167649   \n...                      ...            ...           ...          ...   \n30686                      0       0.279090      0.000000     0.170378   \n17210                      0       0.229428      0.000000     0.183181   \n29186                      0       0.484190      0.000000     0.000000   \n23312                      0       0.163707      0.171928     0.178658   \n15581                      0       0.203919      0.172884     0.138668   \n\n            Pct_Drinks  Pct_Vegan&Vegetarian  Pct_AdditionalRequests  \\\nCustomerID                                                             \n14594         0.174113              0.195186                0.113826   \n19070         0.168982              0.200912                0.086539   \n29888         0.203604              0.210932                0.083609   \n12221         0.157133              0.267438                0.096832   \n21107         0.154775              0.218495                0.103001   \n...                ...                   ...                     ...   \n30686         0.170378              0.266449                0.113705   \n17210         0.217934              0.251386                0.118072   \n29186         0.000000              0.377960                0.137851   \n23312         0.178658              0.199373                0.107675   \n15581         0.188772              0.170470                0.125287   \n\n            Pct_Store   Pct_App  Pct_TakeAway  Cluster  \nCustomerID                                              \n14594        0.390994  0.558563      0.050443        0  \n19070        0.666667  0.277778      0.055556        0  \n29888        0.547810  0.391293      0.060897        0  \n12221        0.481868  0.481868      0.036264        2  \n21107        0.620007  0.310003      0.069990        0  \n...               ...       ...           ...      ...  \n30686        0.616416  0.336227      0.047357        0  \n17210        0.542506  0.387504      0.069990        0  \n29186        0.547868  0.410901      0.041231        3  \n23312        0.476113  0.476113      0.047775        1  \n15581        0.607267  0.331237      0.061496        0  \n\n[6864 rows x 45 columns]",
      "text/html": "<div>\n<style scoped>\n    .dataframe tbody tr th:only-of-type {\n        vertical-align: middle;\n    }\n\n    .dataframe tbody tr th {\n        vertical-align: top;\n    }\n\n    .dataframe thead th {\n        text-align: right;\n    }\n</style>\n<table border=\"1\" class=\"dataframe\">\n  <thead>\n    <tr style=\"text-align: right;\">\n      <th></th>\n      <th>Income</th>\n      <th>Recency</th>\n      <th>MntMeat&amp;Fish</th>\n      <th>MntEntries</th>\n      <th>MntVegan&amp;Vegetarian</th>\n      <th>MntDrinks</th>\n      <th>MntDesserts</th>\n      <th>MntAdditionalRequests</th>\n      <th>NumOfferPurchases</th>\n      <th>NumAppPurchases</th>\n      <th>NumTakeAwayPurchases</th>\n      <th>NumStorePurchases</th>\n      <th>NumAppVisitsMonth</th>\n      <th>Complain</th>\n      <th>Gender</th>\n      <th>MntTotal</th>\n      <th>Age</th>\n      <th>daysAsCardClient</th>\n      <th>Graduation</th>\n      <th>HighSchool</th>\n      <th>Master</th>\n      <th>PhD</th>\n      <th>Married</th>\n      <th>Single</th>\n      <th>Widow</th>\n      <th>NumPurchasesTotal</th>\n      <th>Mnt_pday_card</th>\n      <th>Response_Campaigns</th>\n      <th>Total_Kids</th>\n      <th>has_Kids</th>\n      <th>age_(17.943, 29.4]</th>\n      <th>age_(29.4, 40.8]</th>\n      <th>age_(40.8, 52.2]</th>\n      <th>age_(52.2, 63.6]</th>\n      <th>age_(63.6, 75.0]</th>\n      <th>Pct_Meat&amp;Fish</th>\n      <th>Pct_Desserts</th>\n      <th>Pct_Entries</th>\n      <th>Pct_Drinks</th>\n      <th>Pct_Vegan&amp;Vegetarian</th>\n      <th>Pct_AdditionalRequests</th>\n      <th>Pct_Store</th>\n      <th>Pct_App</th>\n      <th>Pct_TakeAway</th>\n      <th>Cluster</th>\n    </tr>\n    <tr>\n      <th>CustomerID</th>\n      <th></th>\n      <th></th>\n      <th></th>\n      <th></th>\n      <th></th>\n      <th></th>\n      <th></th>\n      <th></th>\n      <th></th>\n      <th></th>\n      <th></th>\n      <th></th>\n      <th></th>\n      <th></th>\n      <th></th>\n      <th></th>\n      <th></th>\n      <th></th>\n      <th></th>\n      <th></th>\n      <th></th>\n      <th></th>\n      <th></th>\n      <th></th>\n      <th></th>\n      <th></th>\n      <th></th>\n      <th></th>\n      <th></th>\n      <th></th>\n      <th></th>\n      <th></th>\n      <th></th>\n      <th></th>\n      <th></th>\n      <th></th>\n      <th></th>\n      <th></th>\n      <th></th>\n      <th></th>\n      <th></th>\n      <th></th>\n      <th></th>\n      <th></th>\n      <th></th>\n    </tr>\n  </thead>\n  <tbody>\n    <tr>\n      <th>14594</th>\n      <td>113947.0</td>\n      <td>43.0</td>\n      <td>3.666612</td>\n      <td>3.529045</td>\n      <td>3.755951</td>\n      <td>3.350442</td>\n      <td>2.750508</td>\n      <td>2.190332</td>\n      <td>0.477121</td>\n      <td>10</td>\n      <td>0.903090</td>\n      <td>7</td>\n      <td>4</td>\n      <td>0.0</td>\n      <td>0</td>\n      <td>19.242890</td>\n      <td>42</td>\n      <td>825</td>\n      <td>1</td>\n      <td>0</td>\n      <td>0</td>\n      <td>0</td>\n      <td>0</td>\n      <td>1</td>\n      <td>0</td>\n      <td>17.903090</td>\n      <td>0.023325</td>\n      <td>0.30103</td>\n      <td>0</td>\n      <td>0</td>\n      <td>0</td>\n      <td>0</td>\n      <td>1</td>\n      <td>0</td>\n      <td>0</td>\n      <td>0.190544</td>\n      <td>0.142936</td>\n      <td>0.183395</td>\n      <td>0.174113</td>\n      <td>0.195186</td>\n      <td>0.113826</td>\n      <td>0.390994</td>\n      <td>0.558563</td>\n      <td>0.050443</td>\n      <td>0</td>\n    </tr>\n    <tr>\n      <th>19070</th>\n      <td>114297.0</td>\n      <td>74.0</td>\n      <td>3.850095</td>\n      <td>3.565966</td>\n      <td>3.882012</td>\n      <td>3.265054</td>\n      <td>3.086716</td>\n      <td>1.672098</td>\n      <td>0.301030</td>\n      <td>5</td>\n      <td>1.000000</td>\n      <td>12</td>\n      <td>2</td>\n      <td>0.0</td>\n      <td>0</td>\n      <td>19.321940</td>\n      <td>49</td>\n      <td>734</td>\n      <td>1</td>\n      <td>0</td>\n      <td>0</td>\n      <td>0</td>\n      <td>1</td>\n      <td>0</td>\n      <td>0</td>\n      <td>18.000000</td>\n      <td>0.026324</td>\n      <td>0.00000</td>\n      <td>0</td>\n      <td>0</td>\n      <td>0</td>\n      <td>0</td>\n      <td>1</td>\n      <td>0</td>\n      <td>0</td>\n      <td>0.199260</td>\n      <td>0.159752</td>\n      <td>0.184555</td>\n      <td>0.168982</td>\n      <td>0.200912</td>\n      <td>0.086539</td>\n      <td>0.666667</td>\n      <td>0.277778</td>\n      <td>0.055556</td>\n      <td>0</td>\n    </tr>\n    <tr>\n      <th>29888</th>\n      <td>115476.0</td>\n      <td>85.0</td>\n      <td>3.616055</td>\n      <td>2.580925</td>\n      <td>3.689398</td>\n      <td>3.561221</td>\n      <td>2.580925</td>\n      <td>1.462398</td>\n      <td>0.301030</td>\n      <td>5</td>\n      <td>0.778151</td>\n      <td>7</td>\n      <td>1</td>\n      <td>0.0</td>\n      <td>1</td>\n      <td>17.490921</td>\n      <td>63</td>\n      <td>457</td>\n      <td>0</td>\n      <td>0</td>\n      <td>0</td>\n      <td>1</td>\n      <td>1</td>\n      <td>0</td>\n      <td>0</td>\n      <td>12.778151</td>\n      <td>0.038273</td>\n      <td>0.00000</td>\n      <td>0</td>\n      <td>0</td>\n      <td>0</td>\n      <td>0</td>\n      <td>0</td>\n      <td>1</td>\n      <td>0</td>\n      <td>0.206739</td>\n      <td>0.147558</td>\n      <td>0.147558</td>\n      <td>0.203604</td>\n      <td>0.210932</td>\n      <td>0.083609</td>\n      <td>0.547810</td>\n      <td>0.391293</td>\n      <td>0.060897</td>\n      <td>0</td>\n    </tr>\n    <tr>\n      <th>12221</th>\n      <td>101172.0</td>\n      <td>25.0</td>\n      <td>3.555215</td>\n      <td>0.000000</td>\n      <td>3.248219</td>\n      <td>1.908485</td>\n      <td>2.257679</td>\n      <td>1.176091</td>\n      <td>0.778151</td>\n      <td>8</td>\n      <td>0.602060</td>\n      <td>8</td>\n      <td>5</td>\n      <td>0.0</td>\n      <td>1</td>\n      <td>12.145689</td>\n      <td>43</td>\n      <td>549</td>\n      <td>1</td>\n      <td>0</td>\n      <td>0</td>\n      <td>0</td>\n      <td>1</td>\n      <td>0</td>\n      <td>0</td>\n      <td>16.602060</td>\n      <td>0.022123</td>\n      <td>0.00000</td>\n      <td>2</td>\n      <td>1</td>\n      <td>0</td>\n      <td>0</td>\n      <td>1</td>\n      <td>0</td>\n      <td>0</td>\n      <td>0.292714</td>\n      <td>0.185883</td>\n      <td>0.000000</td>\n      <td>0.157133</td>\n      <td>0.267438</td>\n      <td>0.096832</td>\n      <td>0.481868</td>\n      <td>0.481868</td>\n      <td>0.036264</td>\n      <td>2</td>\n    </tr>\n    <tr>\n      <th>21107</th>\n      <td>123128.0</td>\n      <td>64.0</td>\n      <td>3.731669</td>\n      <td>3.051924</td>\n      <td>3.977541</td>\n      <td>2.817565</td>\n      <td>2.750508</td>\n      <td>1.875061</td>\n      <td>0.000000</td>\n      <td>4</td>\n      <td>0.903090</td>\n      <td>8</td>\n      <td>5</td>\n      <td>0.0</td>\n      <td>1</td>\n      <td>18.204269</td>\n      <td>52</td>\n      <td>854</td>\n      <td>0</td>\n      <td>1</td>\n      <td>0</td>\n      <td>0</td>\n      <td>0</td>\n      <td>1</td>\n      <td>0</td>\n      <td>12.903090</td>\n      <td>0.021316</td>\n      <td>0.60206</td>\n      <td>0</td>\n      <td>0</td>\n      <td>0</td>\n      <td>0</td>\n      <td>1</td>\n      <td>0</td>\n      <td>0</td>\n      <td>0.204989</td>\n      <td>0.151091</td>\n      <td>0.167649</td>\n      <td>0.154775</td>\n      <td>0.218495</td>\n      <td>0.103001</td>\n      <td>0.620007</td>\n      <td>0.310003</td>\n      <td>0.069990</td>\n      <td>0</td>\n    </tr>\n    <tr>\n      <th>...</th>\n      <td>...</td>\n      <td>...</td>\n      <td>...</td>\n      <td>...</td>\n      <td>...</td>\n      <td>...</td>\n      <td>...</td>\n      <td>...</td>\n      <td>...</td>\n      <td>...</td>\n      <td>...</td>\n      <td>...</td>\n      <td>...</td>\n      <td>...</td>\n      <td>...</td>\n      <td>...</td>\n      <td>...</td>\n      <td>...</td>\n      <td>...</td>\n      <td>...</td>\n      <td>...</td>\n      <td>...</td>\n      <td>...</td>\n      <td>...</td>\n      <td>...</td>\n      <td>...</td>\n      <td>...</td>\n      <td>...</td>\n      <td>...</td>\n      <td>...</td>\n      <td>...</td>\n      <td>...</td>\n      <td>...</td>\n      <td>...</td>\n      <td>...</td>\n      <td>...</td>\n      <td>...</td>\n      <td>...</td>\n      <td>...</td>\n      <td>...</td>\n      <td>...</td>\n      <td>...</td>\n      <td>...</td>\n      <td>...</td>\n      <td>...</td>\n    </tr>\n    <tr>\n      <th>30686</th>\n      <td>98968.0</td>\n      <td>66.0</td>\n      <td>3.958612</td>\n      <td>2.416641</td>\n      <td>3.779308</td>\n      <td>2.416641</td>\n      <td>0.000000</td>\n      <td>1.612784</td>\n      <td>0.301030</td>\n      <td>6</td>\n      <td>0.845098</td>\n      <td>11</td>\n      <td>2</td>\n      <td>0.0</td>\n      <td>1</td>\n      <td>14.183984</td>\n      <td>29</td>\n      <td>492</td>\n      <td>0</td>\n      <td>0</td>\n      <td>0</td>\n      <td>1</td>\n      <td>0</td>\n      <td>0</td>\n      <td>0</td>\n      <td>17.845098</td>\n      <td>0.028829</td>\n      <td>0.00000</td>\n      <td>0</td>\n      <td>0</td>\n      <td>1</td>\n      <td>0</td>\n      <td>0</td>\n      <td>0</td>\n      <td>0</td>\n      <td>0.279090</td>\n      <td>0.000000</td>\n      <td>0.170378</td>\n      <td>0.170378</td>\n      <td>0.266449</td>\n      <td>0.113705</td>\n      <td>0.616416</td>\n      <td>0.336227</td>\n      <td>0.047357</td>\n      <td>0</td>\n    </tr>\n    <tr>\n      <th>17210</th>\n      <td>109977.0</td>\n      <td>8.0</td>\n      <td>3.768712</td>\n      <td>3.009026</td>\n      <td>4.129400</td>\n      <td>3.579898</td>\n      <td>0.000000</td>\n      <td>1.939519</td>\n      <td>0.301030</td>\n      <td>5</td>\n      <td>0.903090</td>\n      <td>7</td>\n      <td>2</td>\n      <td>0.0</td>\n      <td>1</td>\n      <td>16.426555</td>\n      <td>38</td>\n      <td>944</td>\n      <td>1</td>\n      <td>0</td>\n      <td>0</td>\n      <td>0</td>\n      <td>0</td>\n      <td>0</td>\n      <td>0</td>\n      <td>12.903090</td>\n      <td>0.017401</td>\n      <td>0.00000</td>\n      <td>0</td>\n      <td>0</td>\n      <td>0</td>\n      <td>1</td>\n      <td>0</td>\n      <td>0</td>\n      <td>0</td>\n      <td>0.229428</td>\n      <td>0.000000</td>\n      <td>0.183181</td>\n      <td>0.217934</td>\n      <td>0.251386</td>\n      <td>0.118072</td>\n      <td>0.542506</td>\n      <td>0.387504</td>\n      <td>0.069990</td>\n      <td>0</td>\n    </tr>\n    <tr>\n      <th>29186</th>\n      <td>56039.0</td>\n      <td>30.0</td>\n      <td>2.733197</td>\n      <td>0.000000</td>\n      <td>2.133539</td>\n      <td>0.000000</td>\n      <td>0.000000</td>\n      <td>0.778151</td>\n      <td>0.477121</td>\n      <td>3</td>\n      <td>0.301030</td>\n      <td>4</td>\n      <td>6</td>\n      <td>0.0</td>\n      <td>1</td>\n      <td>5.644887</td>\n      <td>56</td>\n      <td>485</td>\n      <td>0</td>\n      <td>0</td>\n      <td>0</td>\n      <td>1</td>\n      <td>1</td>\n      <td>0</td>\n      <td>0</td>\n      <td>7.301030</td>\n      <td>0.011639</td>\n      <td>0.00000</td>\n      <td>1</td>\n      <td>1</td>\n      <td>0</td>\n      <td>0</td>\n      <td>0</td>\n      <td>1</td>\n      <td>0</td>\n      <td>0.484190</td>\n      <td>0.000000</td>\n      <td>0.000000</td>\n      <td>0.000000</td>\n      <td>0.377960</td>\n      <td>0.137851</td>\n      <td>0.547868</td>\n      <td>0.410901</td>\n      <td>0.041231</td>\n      <td>3</td>\n    </tr>\n    <tr>\n      <th>23312</th>\n      <td>44867.0</td>\n      <td>8.0</td>\n      <td>1.908485</td>\n      <td>2.082785</td>\n      <td>2.324282</td>\n      <td>2.082785</td>\n      <td>2.004321</td>\n      <td>1.255273</td>\n      <td>0.301030</td>\n      <td>3</td>\n      <td>0.301030</td>\n      <td>3</td>\n      <td>8</td>\n      <td>0.0</td>\n      <td>0</td>\n      <td>11.657932</td>\n      <td>34</td>\n      <td>883</td>\n      <td>1</td>\n      <td>0</td>\n      <td>0</td>\n      <td>0</td>\n      <td>0</td>\n      <td>1</td>\n      <td>0</td>\n      <td>6.301030</td>\n      <td>0.013203</td>\n      <td>0.00000</td>\n      <td>1</td>\n      <td>1</td>\n      <td>0</td>\n      <td>1</td>\n      <td>0</td>\n      <td>0</td>\n      <td>0</td>\n      <td>0.163707</td>\n      <td>0.171928</td>\n      <td>0.178658</td>\n      <td>0.178658</td>\n      <td>0.199373</td>\n      <td>0.107675</td>\n      <td>0.476113</td>\n      <td>0.476113</td>\n      <td>0.047775</td>\n      <td>1</td>\n    </tr>\n    <tr>\n      <th>15581</th>\n      <td>124379.0</td>\n      <td>80.0</td>\n      <td>3.862191</td>\n      <td>2.626340</td>\n      <td>3.228657</td>\n      <td>3.575303</td>\n      <td>3.274389</td>\n      <td>2.372912</td>\n      <td>0.301030</td>\n      <td>6</td>\n      <td>1.113943</td>\n      <td>11</td>\n      <td>2</td>\n      <td>0.0</td>\n      <td>0</td>\n      <td>18.939792</td>\n      <td>63</td>\n      <td>799</td>\n      <td>1</td>\n      <td>0</td>\n      <td>0</td>\n      <td>0</td>\n      <td>0</td>\n      <td>1</td>\n      <td>0</td>\n      <td>18.113943</td>\n      <td>0.023704</td>\n      <td>0.60206</td>\n      <td>0</td>\n      <td>0</td>\n      <td>0</td>\n      <td>0</td>\n      <td>0</td>\n      <td>1</td>\n      <td>0</td>\n      <td>0.203919</td>\n      <td>0.172884</td>\n      <td>0.138668</td>\n      <td>0.188772</td>\n      <td>0.170470</td>\n      <td>0.125287</td>\n      <td>0.607267</td>\n      <td>0.331237</td>\n      <td>0.061496</td>\n      <td>0</td>\n    </tr>\n  </tbody>\n</table>\n<p>6864 rows × 45 columns</p>\n</div>"
     },
     "execution_count": 804,
     "metadata": {},
     "output_type": "execute_result"
    }
   ],
   "source": [
    "df.reset_index(inplace=True)\n",
    "pca_train_label.reset_index(inplace=True)\n",
    "df_final=pd.concat([df,pca_train_label],axis=1)\n",
    "df_final.set_index('CustomerID',inplace=True)\n",
    "df_final.drop(['index'],axis=1,inplace=True)\n",
    "df_final= df_final.rename(columns={0:'Cluster'})\n",
    "df_final.drop(['Name'],axis=1,inplace=True)\n",
    "df_final"
   ],
   "metadata": {
    "collapsed": false
   }
  },
  {
   "cell_type": "markdown",
   "source": [
    "Cluster 0 - Higher Income and Mnt Total. No/Low kids. Higher % in Drinks,Desserts and Entries. Higher % in Store Purchases. High campaign response\n",
    "Cluster 1 - 2nd Highest Income. Singles, generally w/kids.\n",
    "Cluster 2 - Lowest Income, Generally married w/kids, Highest % Meat&Fish and Veg, Higher % in App Purchases, Low MntTotal and Num Purchases"
   ],
   "metadata": {
    "collapsed": false
   }
  },
  {
   "cell_type": "code",
   "execution_count": 805,
   "outputs": [
    {
     "data": {
      "text/plain": "Cluster                             0             1             2  \\\nIncome                  110212.126689  45802.720698  85405.363812   \nRecency                     50.228497     48.774681     49.151434   \nMntMeat&Fish                 3.689196      2.140546      3.525125   \nMntEntries                   2.885047      1.735058      2.327044   \nMntVegan&Vegetarian          3.735409      2.344336      3.281430   \nMntDrinks                    2.874706      1.710568      2.358360   \nMntDesserts                  2.856593      1.709322      2.361256   \nMntAdditionalRequests        1.665361      1.025157      1.650609   \nNumOfferPurchases            0.303864      0.458630      0.627965   \nNumAppPurchases              6.686374      3.977972      8.411224   \nNumTakeAwayPurchases         0.869370      0.380928      0.677709   \nNumStorePurchases            8.676239      3.082607      7.284470   \nNumAppVisitsMonth            2.534910      6.645250      5.806967   \nComplain                     0.002542      0.002901      0.003641   \nGender                       0.724662      0.730610      0.739719   \nMntTotal                    17.706313     10.664987     15.503825   \nAge                         47.607545     42.128958     49.035801   \ndaysAsCardClient           613.278153    610.377696    699.475085   \nGraduation                   0.507883      0.558054      0.528786   \nHighSchool                   0.083333      0.145939      0.082729   \nMaster                       0.172297      0.121615      0.172230   \nPhD                          0.236486      0.097751      0.212385   \nMarried                      0.639640      0.659018      0.657958   \nSingle                       0.221284      0.246902      0.199806   \nWidow                        0.043356      0.018357      0.041122   \nNumPurchasesTotal           16.231983      7.441506     16.373403   \nMnt_pday_card                0.032296      0.019415      0.024293   \nResponse_Campaigns           0.203738      0.024729      0.081411   \nTotal_Kids                   0.105293      1.156494      1.179003   \nhas_Kids                     0.104167      0.870583      0.937107   \nage_(17.943, 29.4]           0.141329      0.119780      0.018868   \nage_(29.4, 40.8]             0.216779      0.380450      0.207547   \nage_(40.8, 52.2]             0.233671      0.305645      0.375423   \nage_(52.2, 63.6]             0.226914      0.159247      0.327044   \nage_(63.6, 75.0]             0.181306      0.034878      0.071118   \nPct_Meat&Fish                0.209933      0.202270      0.231490   \nPct_Desserts                 0.160367      0.158561      0.150001   \nPct_Entries                  0.162280      0.161861      0.147318   \nPct_Drinks                   0.161529      0.159355      0.149848   \nPct_Vegan&Vegetarian         0.212165      0.222973      0.214036   \nPct_AdditionalRequests       0.093727      0.094981      0.107306   \nPct_Store                    0.526998      0.414699      0.439421   \nPct_App                      0.416761      0.530766      0.517477   \nPct_TakeAway                 0.056241      0.054535      0.043103   \n\nCluster                            3  \nIncome                  61734.114133  \nRecency                    48.204052  \nMntMeat&Fish                2.737611  \nMntEntries                  0.310901  \nMntVegan&Vegetarian         2.268397  \nMntDrinks                   0.313278  \nMntDesserts                 0.329054  \nMntAdditionalRequests       0.877414  \nNumOfferPurchases           0.478279  \nNumAppPurchases             4.790974  \nNumTakeAwayPurchases        0.424133  \nNumStorePurchases           3.792162  \nNumAppVisitsMonth           6.508314  \nComplain                    0.002860  \nGender                      0.738717  \nMntTotal                    6.836655  \nAge                        49.542755  \ndaysAsCardClient          591.423990  \nGraduation                  0.283848  \nHighSchool                  0.017815  \nMaster                      0.230404  \nPhD                         0.467933  \nMarried                     0.661520  \nSingle                      0.199525  \nWidow                       0.040380  \nNumPurchasesTotal           9.007269  \nMnt_pday_card               0.012775  \nResponse_Campaigns          0.077224  \nTotal_Kids                  1.485748  \nhas_Kids                    0.970309  \nage_(17.943, 29.4]          0.015439  \nage_(29.4, 40.8]            0.185273  \nage_(40.8, 52.2]            0.404988  \nage_(52.2, 63.6]            0.288599  \nage_(63.6, 75.0]            0.105701  \nPct_Meat&Fish               0.413588  \nPct_Desserts                0.041215  \nPct_Entries                 0.039442  \nPct_Drinks                  0.038872  \nPct_Vegan&Vegetarian        0.343301  \nPct_AdditionalRequests      0.123582  \nPct_Store                   0.420893  \nPct_App                     0.527963  \nPct_TakeAway                0.051144  ",
      "text/html": "<div>\n<style scoped>\n    .dataframe tbody tr th:only-of-type {\n        vertical-align: middle;\n    }\n\n    .dataframe tbody tr th {\n        vertical-align: top;\n    }\n\n    .dataframe thead th {\n        text-align: right;\n    }\n</style>\n<table border=\"1\" class=\"dataframe\">\n  <thead>\n    <tr style=\"text-align: right;\">\n      <th>Cluster</th>\n      <th>0</th>\n      <th>1</th>\n      <th>2</th>\n      <th>3</th>\n    </tr>\n  </thead>\n  <tbody>\n    <tr>\n      <th>Income</th>\n      <td>110212.126689</td>\n      <td>45802.720698</td>\n      <td>85405.363812</td>\n      <td>61734.114133</td>\n    </tr>\n    <tr>\n      <th>Recency</th>\n      <td>50.228497</td>\n      <td>48.774681</td>\n      <td>49.151434</td>\n      <td>48.204052</td>\n    </tr>\n    <tr>\n      <th>MntMeat&amp;Fish</th>\n      <td>3.689196</td>\n      <td>2.140546</td>\n      <td>3.525125</td>\n      <td>2.737611</td>\n    </tr>\n    <tr>\n      <th>MntEntries</th>\n      <td>2.885047</td>\n      <td>1.735058</td>\n      <td>2.327044</td>\n      <td>0.310901</td>\n    </tr>\n    <tr>\n      <th>MntVegan&amp;Vegetarian</th>\n      <td>3.735409</td>\n      <td>2.344336</td>\n      <td>3.281430</td>\n      <td>2.268397</td>\n    </tr>\n    <tr>\n      <th>MntDrinks</th>\n      <td>2.874706</td>\n      <td>1.710568</td>\n      <td>2.358360</td>\n      <td>0.313278</td>\n    </tr>\n    <tr>\n      <th>MntDesserts</th>\n      <td>2.856593</td>\n      <td>1.709322</td>\n      <td>2.361256</td>\n      <td>0.329054</td>\n    </tr>\n    <tr>\n      <th>MntAdditionalRequests</th>\n      <td>1.665361</td>\n      <td>1.025157</td>\n      <td>1.650609</td>\n      <td>0.877414</td>\n    </tr>\n    <tr>\n      <th>NumOfferPurchases</th>\n      <td>0.303864</td>\n      <td>0.458630</td>\n      <td>0.627965</td>\n      <td>0.478279</td>\n    </tr>\n    <tr>\n      <th>NumAppPurchases</th>\n      <td>6.686374</td>\n      <td>3.977972</td>\n      <td>8.411224</td>\n      <td>4.790974</td>\n    </tr>\n    <tr>\n      <th>NumTakeAwayPurchases</th>\n      <td>0.869370</td>\n      <td>0.380928</td>\n      <td>0.677709</td>\n      <td>0.424133</td>\n    </tr>\n    <tr>\n      <th>NumStorePurchases</th>\n      <td>8.676239</td>\n      <td>3.082607</td>\n      <td>7.284470</td>\n      <td>3.792162</td>\n    </tr>\n    <tr>\n      <th>NumAppVisitsMonth</th>\n      <td>2.534910</td>\n      <td>6.645250</td>\n      <td>5.806967</td>\n      <td>6.508314</td>\n    </tr>\n    <tr>\n      <th>Complain</th>\n      <td>0.002542</td>\n      <td>0.002901</td>\n      <td>0.003641</td>\n      <td>0.002860</td>\n    </tr>\n    <tr>\n      <th>Gender</th>\n      <td>0.724662</td>\n      <td>0.730610</td>\n      <td>0.739719</td>\n      <td>0.738717</td>\n    </tr>\n    <tr>\n      <th>MntTotal</th>\n      <td>17.706313</td>\n      <td>10.664987</td>\n      <td>15.503825</td>\n      <td>6.836655</td>\n    </tr>\n    <tr>\n      <th>Age</th>\n      <td>47.607545</td>\n      <td>42.128958</td>\n      <td>49.035801</td>\n      <td>49.542755</td>\n    </tr>\n    <tr>\n      <th>daysAsCardClient</th>\n      <td>613.278153</td>\n      <td>610.377696</td>\n      <td>699.475085</td>\n      <td>591.423990</td>\n    </tr>\n    <tr>\n      <th>Graduation</th>\n      <td>0.507883</td>\n      <td>0.558054</td>\n      <td>0.528786</td>\n      <td>0.283848</td>\n    </tr>\n    <tr>\n      <th>HighSchool</th>\n      <td>0.083333</td>\n      <td>0.145939</td>\n      <td>0.082729</td>\n      <td>0.017815</td>\n    </tr>\n    <tr>\n      <th>Master</th>\n      <td>0.172297</td>\n      <td>0.121615</td>\n      <td>0.172230</td>\n      <td>0.230404</td>\n    </tr>\n    <tr>\n      <th>PhD</th>\n      <td>0.236486</td>\n      <td>0.097751</td>\n      <td>0.212385</td>\n      <td>0.467933</td>\n    </tr>\n    <tr>\n      <th>Married</th>\n      <td>0.639640</td>\n      <td>0.659018</td>\n      <td>0.657958</td>\n      <td>0.661520</td>\n    </tr>\n    <tr>\n      <th>Single</th>\n      <td>0.221284</td>\n      <td>0.246902</td>\n      <td>0.199806</td>\n      <td>0.199525</td>\n    </tr>\n    <tr>\n      <th>Widow</th>\n      <td>0.043356</td>\n      <td>0.018357</td>\n      <td>0.041122</td>\n      <td>0.040380</td>\n    </tr>\n    <tr>\n      <th>NumPurchasesTotal</th>\n      <td>16.231983</td>\n      <td>7.441506</td>\n      <td>16.373403</td>\n      <td>9.007269</td>\n    </tr>\n    <tr>\n      <th>Mnt_pday_card</th>\n      <td>0.032296</td>\n      <td>0.019415</td>\n      <td>0.024293</td>\n      <td>0.012775</td>\n    </tr>\n    <tr>\n      <th>Response_Campaigns</th>\n      <td>0.203738</td>\n      <td>0.024729</td>\n      <td>0.081411</td>\n      <td>0.077224</td>\n    </tr>\n    <tr>\n      <th>Total_Kids</th>\n      <td>0.105293</td>\n      <td>1.156494</td>\n      <td>1.179003</td>\n      <td>1.485748</td>\n    </tr>\n    <tr>\n      <th>has_Kids</th>\n      <td>0.104167</td>\n      <td>0.870583</td>\n      <td>0.937107</td>\n      <td>0.970309</td>\n    </tr>\n    <tr>\n      <th>age_(17.943, 29.4]</th>\n      <td>0.141329</td>\n      <td>0.119780</td>\n      <td>0.018868</td>\n      <td>0.015439</td>\n    </tr>\n    <tr>\n      <th>age_(29.4, 40.8]</th>\n      <td>0.216779</td>\n      <td>0.380450</td>\n      <td>0.207547</td>\n      <td>0.185273</td>\n    </tr>\n    <tr>\n      <th>age_(40.8, 52.2]</th>\n      <td>0.233671</td>\n      <td>0.305645</td>\n      <td>0.375423</td>\n      <td>0.404988</td>\n    </tr>\n    <tr>\n      <th>age_(52.2, 63.6]</th>\n      <td>0.226914</td>\n      <td>0.159247</td>\n      <td>0.327044</td>\n      <td>0.288599</td>\n    </tr>\n    <tr>\n      <th>age_(63.6, 75.0]</th>\n      <td>0.181306</td>\n      <td>0.034878</td>\n      <td>0.071118</td>\n      <td>0.105701</td>\n    </tr>\n    <tr>\n      <th>Pct_Meat&amp;Fish</th>\n      <td>0.209933</td>\n      <td>0.202270</td>\n      <td>0.231490</td>\n      <td>0.413588</td>\n    </tr>\n    <tr>\n      <th>Pct_Desserts</th>\n      <td>0.160367</td>\n      <td>0.158561</td>\n      <td>0.150001</td>\n      <td>0.041215</td>\n    </tr>\n    <tr>\n      <th>Pct_Entries</th>\n      <td>0.162280</td>\n      <td>0.161861</td>\n      <td>0.147318</td>\n      <td>0.039442</td>\n    </tr>\n    <tr>\n      <th>Pct_Drinks</th>\n      <td>0.161529</td>\n      <td>0.159355</td>\n      <td>0.149848</td>\n      <td>0.038872</td>\n    </tr>\n    <tr>\n      <th>Pct_Vegan&amp;Vegetarian</th>\n      <td>0.212165</td>\n      <td>0.222973</td>\n      <td>0.214036</td>\n      <td>0.343301</td>\n    </tr>\n    <tr>\n      <th>Pct_AdditionalRequests</th>\n      <td>0.093727</td>\n      <td>0.094981</td>\n      <td>0.107306</td>\n      <td>0.123582</td>\n    </tr>\n    <tr>\n      <th>Pct_Store</th>\n      <td>0.526998</td>\n      <td>0.414699</td>\n      <td>0.439421</td>\n      <td>0.420893</td>\n    </tr>\n    <tr>\n      <th>Pct_App</th>\n      <td>0.416761</td>\n      <td>0.530766</td>\n      <td>0.517477</td>\n      <td>0.527963</td>\n    </tr>\n    <tr>\n      <th>Pct_TakeAway</th>\n      <td>0.056241</td>\n      <td>0.054535</td>\n      <td>0.043103</td>\n      <td>0.051144</td>\n    </tr>\n  </tbody>\n</table>\n</div>"
     },
     "execution_count": 805,
     "metadata": {},
     "output_type": "execute_result"
    }
   ],
   "source": [
    "df_final.groupby('Cluster').mean().transpose()"
   ],
   "metadata": {
    "collapsed": false
   }
  },
  {
   "cell_type": "code",
   "execution_count": 806,
   "outputs": [
    {
     "data": {
      "text/plain": "         Income  Recency  MntMeat&Fish  MntEntries  MntVegan&Vegetarian  \\\nCluster                                                                   \n0          1776     1776          1776        1776                 1776   \n1          2179     2179          2179        2179                 2179   \n2          2067     2067          2067        2067                 2067   \n3           842      842           842         842                  842   \n\n         MntDrinks  MntDesserts  MntAdditionalRequests  NumOfferPurchases  \\\nCluster                                                                     \n0             1776         1776                   1776               1776   \n1             2179         2179                   2179               2179   \n2             2067         2067                   2067               2067   \n3              842          842                    842                842   \n\n         NumAppPurchases  NumTakeAwayPurchases  NumStorePurchases  \\\nCluster                                                             \n0                   1776                  1776               1776   \n1                   2179                  2179               2179   \n2                   2067                  2067               2067   \n3                    842                   842                842   \n\n         NumAppVisitsMonth  Complain  Gender  MntTotal   Age  \\\nCluster                                                        \n0                     1776      1776    1776      1776  1776   \n1                     2179      2179    2179      2179  2179   \n2                     2067      2067    2067      2067  2067   \n3                      842       842     842       842   842   \n\n         daysAsCardClient  Graduation  HighSchool  Master   PhD  Married  \\\nCluster                                                                    \n0                    1776        1776        1776    1776  1776     1776   \n1                    2179        2179        2179    2179  2179     2179   \n2                    2067        2067        2067    2067  2067     2067   \n3                     842         842         842     842   842      842   \n\n         Single  Widow  NumPurchasesTotal  Mnt_pday_card  Response_Campaigns  \\\nCluster                                                                        \n0          1776   1776               1776           1776                1776   \n1          2179   2179               2179           2179                2179   \n2          2067   2067               2067           2067                2067   \n3           842    842                842            842                 842   \n\n         Total_Kids  has_Kids  age_(17.943, 29.4]  age_(29.4, 40.8]  \\\nCluster                                                               \n0              1776      1776                1776              1776   \n1              2179      2179                2179              2179   \n2              2067      2067                2067              2067   \n3               842       842                 842               842   \n\n         age_(40.8, 52.2]  age_(52.2, 63.6]  age_(63.6, 75.0]  Pct_Meat&Fish  \\\nCluster                                                                        \n0                    1776              1776              1776           1776   \n1                    2179              2179              2179           2179   \n2                    2067              2067              2067           2067   \n3                     842               842               842            842   \n\n         Pct_Desserts  Pct_Entries  Pct_Drinks  Pct_Vegan&Vegetarian  \\\nCluster                                                                \n0                1776         1776        1776                  1776   \n1                2179         2179        2179                  2179   \n2                2067         2067        2067                  2067   \n3                 842          842         842                   842   \n\n         Pct_AdditionalRequests  Pct_Store  Pct_App  Pct_TakeAway  \nCluster                                                            \n0                          1776       1776     1776          1776  \n1                          2179       2179     2179          2179  \n2                          2067       2067     2067          2067  \n3                           842        842      842           842  ",
      "text/html": "<div>\n<style scoped>\n    .dataframe tbody tr th:only-of-type {\n        vertical-align: middle;\n    }\n\n    .dataframe tbody tr th {\n        vertical-align: top;\n    }\n\n    .dataframe thead th {\n        text-align: right;\n    }\n</style>\n<table border=\"1\" class=\"dataframe\">\n  <thead>\n    <tr style=\"text-align: right;\">\n      <th></th>\n      <th>Income</th>\n      <th>Recency</th>\n      <th>MntMeat&amp;Fish</th>\n      <th>MntEntries</th>\n      <th>MntVegan&amp;Vegetarian</th>\n      <th>MntDrinks</th>\n      <th>MntDesserts</th>\n      <th>MntAdditionalRequests</th>\n      <th>NumOfferPurchases</th>\n      <th>NumAppPurchases</th>\n      <th>NumTakeAwayPurchases</th>\n      <th>NumStorePurchases</th>\n      <th>NumAppVisitsMonth</th>\n      <th>Complain</th>\n      <th>Gender</th>\n      <th>MntTotal</th>\n      <th>Age</th>\n      <th>daysAsCardClient</th>\n      <th>Graduation</th>\n      <th>HighSchool</th>\n      <th>Master</th>\n      <th>PhD</th>\n      <th>Married</th>\n      <th>Single</th>\n      <th>Widow</th>\n      <th>NumPurchasesTotal</th>\n      <th>Mnt_pday_card</th>\n      <th>Response_Campaigns</th>\n      <th>Total_Kids</th>\n      <th>has_Kids</th>\n      <th>age_(17.943, 29.4]</th>\n      <th>age_(29.4, 40.8]</th>\n      <th>age_(40.8, 52.2]</th>\n      <th>age_(52.2, 63.6]</th>\n      <th>age_(63.6, 75.0]</th>\n      <th>Pct_Meat&amp;Fish</th>\n      <th>Pct_Desserts</th>\n      <th>Pct_Entries</th>\n      <th>Pct_Drinks</th>\n      <th>Pct_Vegan&amp;Vegetarian</th>\n      <th>Pct_AdditionalRequests</th>\n      <th>Pct_Store</th>\n      <th>Pct_App</th>\n      <th>Pct_TakeAway</th>\n    </tr>\n    <tr>\n      <th>Cluster</th>\n      <th></th>\n      <th></th>\n      <th></th>\n      <th></th>\n      <th></th>\n      <th></th>\n      <th></th>\n      <th></th>\n      <th></th>\n      <th></th>\n      <th></th>\n      <th></th>\n      <th></th>\n      <th></th>\n      <th></th>\n      <th></th>\n      <th></th>\n      <th></th>\n      <th></th>\n      <th></th>\n      <th></th>\n      <th></th>\n      <th></th>\n      <th></th>\n      <th></th>\n      <th></th>\n      <th></th>\n      <th></th>\n      <th></th>\n      <th></th>\n      <th></th>\n      <th></th>\n      <th></th>\n      <th></th>\n      <th></th>\n      <th></th>\n      <th></th>\n      <th></th>\n      <th></th>\n      <th></th>\n      <th></th>\n      <th></th>\n      <th></th>\n      <th></th>\n    </tr>\n  </thead>\n  <tbody>\n    <tr>\n      <th>0</th>\n      <td>1776</td>\n      <td>1776</td>\n      <td>1776</td>\n      <td>1776</td>\n      <td>1776</td>\n      <td>1776</td>\n      <td>1776</td>\n      <td>1776</td>\n      <td>1776</td>\n      <td>1776</td>\n      <td>1776</td>\n      <td>1776</td>\n      <td>1776</td>\n      <td>1776</td>\n      <td>1776</td>\n      <td>1776</td>\n      <td>1776</td>\n      <td>1776</td>\n      <td>1776</td>\n      <td>1776</td>\n      <td>1776</td>\n      <td>1776</td>\n      <td>1776</td>\n      <td>1776</td>\n      <td>1776</td>\n      <td>1776</td>\n      <td>1776</td>\n      <td>1776</td>\n      <td>1776</td>\n      <td>1776</td>\n      <td>1776</td>\n      <td>1776</td>\n      <td>1776</td>\n      <td>1776</td>\n      <td>1776</td>\n      <td>1776</td>\n      <td>1776</td>\n      <td>1776</td>\n      <td>1776</td>\n      <td>1776</td>\n      <td>1776</td>\n      <td>1776</td>\n      <td>1776</td>\n      <td>1776</td>\n    </tr>\n    <tr>\n      <th>1</th>\n      <td>2179</td>\n      <td>2179</td>\n      <td>2179</td>\n      <td>2179</td>\n      <td>2179</td>\n      <td>2179</td>\n      <td>2179</td>\n      <td>2179</td>\n      <td>2179</td>\n      <td>2179</td>\n      <td>2179</td>\n      <td>2179</td>\n      <td>2179</td>\n      <td>2179</td>\n      <td>2179</td>\n      <td>2179</td>\n      <td>2179</td>\n      <td>2179</td>\n      <td>2179</td>\n      <td>2179</td>\n      <td>2179</td>\n      <td>2179</td>\n      <td>2179</td>\n      <td>2179</td>\n      <td>2179</td>\n      <td>2179</td>\n      <td>2179</td>\n      <td>2179</td>\n      <td>2179</td>\n      <td>2179</td>\n      <td>2179</td>\n      <td>2179</td>\n      <td>2179</td>\n      <td>2179</td>\n      <td>2179</td>\n      <td>2179</td>\n      <td>2179</td>\n      <td>2179</td>\n      <td>2179</td>\n      <td>2179</td>\n      <td>2179</td>\n      <td>2179</td>\n      <td>2179</td>\n      <td>2179</td>\n    </tr>\n    <tr>\n      <th>2</th>\n      <td>2067</td>\n      <td>2067</td>\n      <td>2067</td>\n      <td>2067</td>\n      <td>2067</td>\n      <td>2067</td>\n      <td>2067</td>\n      <td>2067</td>\n      <td>2067</td>\n      <td>2067</td>\n      <td>2067</td>\n      <td>2067</td>\n      <td>2067</td>\n      <td>2067</td>\n      <td>2067</td>\n      <td>2067</td>\n      <td>2067</td>\n      <td>2067</td>\n      <td>2067</td>\n      <td>2067</td>\n      <td>2067</td>\n      <td>2067</td>\n      <td>2067</td>\n      <td>2067</td>\n      <td>2067</td>\n      <td>2067</td>\n      <td>2067</td>\n      <td>2067</td>\n      <td>2067</td>\n      <td>2067</td>\n      <td>2067</td>\n      <td>2067</td>\n      <td>2067</td>\n      <td>2067</td>\n      <td>2067</td>\n      <td>2067</td>\n      <td>2067</td>\n      <td>2067</td>\n      <td>2067</td>\n      <td>2067</td>\n      <td>2067</td>\n      <td>2067</td>\n      <td>2067</td>\n      <td>2067</td>\n    </tr>\n    <tr>\n      <th>3</th>\n      <td>842</td>\n      <td>842</td>\n      <td>842</td>\n      <td>842</td>\n      <td>842</td>\n      <td>842</td>\n      <td>842</td>\n      <td>842</td>\n      <td>842</td>\n      <td>842</td>\n      <td>842</td>\n      <td>842</td>\n      <td>842</td>\n      <td>842</td>\n      <td>842</td>\n      <td>842</td>\n      <td>842</td>\n      <td>842</td>\n      <td>842</td>\n      <td>842</td>\n      <td>842</td>\n      <td>842</td>\n      <td>842</td>\n      <td>842</td>\n      <td>842</td>\n      <td>842</td>\n      <td>842</td>\n      <td>842</td>\n      <td>842</td>\n      <td>842</td>\n      <td>842</td>\n      <td>842</td>\n      <td>842</td>\n      <td>842</td>\n      <td>842</td>\n      <td>842</td>\n      <td>842</td>\n      <td>842</td>\n      <td>842</td>\n      <td>842</td>\n      <td>842</td>\n      <td>842</td>\n      <td>842</td>\n      <td>842</td>\n    </tr>\n  </tbody>\n</table>\n</div>"
     },
     "execution_count": 806,
     "metadata": {},
     "output_type": "execute_result"
    }
   ],
   "source": [
    "df_final.groupby('Cluster').count()"
   ],
   "metadata": {
    "collapsed": false
   }
  },
  {
   "cell_type": "markdown",
   "source": [
    "Measuring distances between clusters"
   ],
   "metadata": {
    "collapsed": false
   }
  },
  {
   "cell_type": "code",
   "execution_count": 796,
   "outputs": [],
   "source": [
    "#dists_k3 = euclidean_distances(model_k3.cluster_centers_)\n",
    "#dists_k3"
   ],
   "metadata": {
    "collapsed": false
   }
  },
  {
   "cell_type": "markdown",
   "source": [
    "### Visualization"
   ],
   "metadata": {
    "collapsed": false
   }
  },
  {
   "cell_type": "code",
   "execution_count": 807,
   "outputs": [],
   "source": [
    "cluster0 = df_final[df_final.Cluster == 0]\n",
    "cluster1 = df_final[df_final.Cluster == 1]\n",
    "cluster2 = df_final[df_final.Cluster == 2]\n",
    "cluster3 = df_final[df_final.Cluster == 3]"
   ],
   "metadata": {
    "collapsed": false
   }
  },
  {
   "cell_type": "code",
   "execution_count": 808,
   "outputs": [
    {
     "data": {
      "text/plain": "<AxesSubplot:xlabel='Income', ylabel='Single'>"
     },
     "execution_count": 808,
     "metadata": {},
     "output_type": "execute_result"
    },
    {
     "data": {
      "text/plain": "<Figure size 640x480 with 1 Axes>",
      "image/png": "[encoded data removed]"
     },
     "metadata": {},
     "output_type": "display_data"
    }
   ],
   "source": [
    "sns.scatterplot(data=df_final, x='Income', y='Single',hue='Cluster')"
   ],
   "metadata": {
    "collapsed": false
   }
  },
  {
   "cell_type": "code",
   "execution_count": 809,
   "outputs": [
    {
     "data": {
      "text/plain": "<function matplotlib.pyplot.legend(*args, **kwargs)>"
     },
     "execution_count": 809,
     "metadata": {},
     "output_type": "execute_result"
    },
    {
     "data": {
      "text/plain": "<Figure size 640x480 with 1 Axes>",
      "image/png": "[encoded data removed]"
     },
     "metadata": {},
     "output_type": "display_data"
    }
   ],
   "source": [
    "sns.histplot(cluster0['Income'],color='red',label='Cluster 0', bins = 20)\n",
    "sns.histplot(cluster1['Income'],color='yellow',label='Cluster 1', bins = 20)\n",
    "sns.histplot(cluster2['Income'],color='green',label='Cluster 2', bins = 20)\n",
    "plt.legend"
   ],
   "metadata": {
    "collapsed": false
   }
  },
  {
   "cell_type": "code",
   "execution_count": 810,
   "outputs": [
    {
     "data": {
      "text/plain": "<AxesSubplot:xlabel='Cluster', ylabel='Pct_Store'>"
     },
     "execution_count": 810,
     "metadata": {},
     "output_type": "execute_result"
    },
    {
     "data": {
      "text/plain": "<Figure size 640x480 with 1 Axes>",
      "image/png": "[encoded data removed]"
     },
     "metadata": {},
     "output_type": "display_data"
    }
   ],
   "source": [
    "sns.barplot(x=\"Cluster\", y=\"Pct_Store\",data=df_final, ci=None)"
   ],
   "metadata": {
    "collapsed": false
   }
  },
  {
   "cell_type": "code",
   "execution_count": 811,
   "outputs": [
    {
     "data": {
      "text/plain": "<AxesSubplot:xlabel='Cluster', ylabel='Pct_Meat&Fish'>"
     },
     "execution_count": 811,
     "metadata": {},
     "output_type": "execute_result"
    },
    {
     "data": {
      "text/plain": "<Figure size 640x480 with 1 Axes>",
      "image/png": "[encoded data removed]"
     },
     "metadata": {},
     "output_type": "display_data"
    }
   ],
   "source": [
    "sns.barplot(x=\"Cluster\", y=\"Pct_Meat&Fish\", data=df_final)"
   ],
   "metadata": {
    "collapsed": false
   }
  },
  {
   "cell_type": "code",
   "execution_count": 802,
   "outputs": [],
   "source": [
    "# variavel modelo visao customer behaviour: NumOfferPurchases', 'NumAppPurchases',\n",
    "       # 'NumTakeAwayPurchases', 'NumStorePurchases', 'NumAppVisitsMonth',\n",
    "       # 'Complain', 'Gender', 'Income', 'Age', 'Graduation', 'HighSchool', 'Master', 'PhD', 'Married', 'Single',\n",
    "       # 'Widow'"
   ],
   "metadata": {
    "collapsed": false
   }
  }
 ],
 "metadata": {
  "kernelspec": {
   "display_name": "Python 3 (ipykernel)",
   "language": "python",
   "name": "python3"
  },
  "language_info": {
   "codemirror_mode": {
    "name": "ipython",
    "version": 3
   },
   "file_extension": ".py",
   "mimetype": "text/x-python",
   "name": "python",
   "nbconvert_exporter": "python",
   "pygments_lexer": "ipython3",
   "version": "3.9.13"
  }
 },
 "nbformat": 4,
 "nbformat_minor": 5
}
