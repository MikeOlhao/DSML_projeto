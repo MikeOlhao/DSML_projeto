{
 "cells": [
  {
   "cell_type": "markdown",
   "id": "7bc87212",
   "metadata": {},
   "source": [
    "### Table of Contents"
   ]
  },
  {
   "cell_type": "markdown",
   "id": "db4075ae",
   "metadata": {},
   "source": [
    "# 1. Import Data"
   ]
  },
  {
   "cell_type": "markdown",
   "id": "24debbce",
   "metadata": {},
   "source": [
    "## 1.1 Import the needed libraries"
   ]
  },
  {
   "cell_type": "code",
   "execution_count": 1,
   "outputs": [],
   "source": [
    "import pandas as pd\n",
    "import numpy as np\n",
    "import matplotlib.pyplot as plt\n",
    "import seaborn as sns\n",
    "from datetime import date\n",
    "from scipy.stats import zscore\n",
    "from sklearn.cluster import KMeans, DBSCAN, SpectralClustering\n",
    "from sklearn.preprocessing import MinMaxScaler\n",
    "from sklearn.impute import KNNImputer\n",
    "from sklearn.decomposition import PCA\n",
    "from sklearn.ensemble import RandomForestRegressor\n",
    "from sklearn.model_selection import train_test_split\n",
    "from sklearn.metrics import mean_squared_error\n",
    "from scipy.spatial.distance import cdist\n",
    "%matplotlib inline\n",
    "pd.set_option('display.max_columns', None)"
   ],
   "metadata": {
    "collapsed": false
   }
  },
  {
   "cell_type": "markdown",
   "source": [
    "## 1.2 Import a integrate data"
   ],
   "metadata": {
    "collapsed": false
   }
  },
  {
   "cell_type": "code",
   "execution_count": 2,
   "outputs": [],
   "source": [
    "df_crm = pd.read_csv('crm.csv')\n",
    "df_mkt = pd.read_csv('mkt.csv')\n",
    "df_sales = pd.read_excel('sales.xlsx')"
   ],
   "metadata": {
    "collapsed": false
   }
  },
  {
   "cell_type": "code",
   "execution_count": 3,
   "outputs": [],
   "source": [
    "df = pd.merge(pd.merge(df_crm,df_sales,on='CustomerID',how=\"inner\"),df_mkt,on=\"CustomerID\",how=\"inner\")"
   ],
   "metadata": {
    "collapsed": false
   }
  },
  {
   "cell_type": "markdown",
   "source": [
    "## 1.3 Set Index\n"
   ],
   "metadata": {
    "collapsed": false
   }
  },
  {
   "cell_type": "code",
   "execution_count": 4,
   "outputs": [],
   "source": [
    "df.set_index('CustomerID',inplace = True)"
   ],
   "metadata": {
    "collapsed": false
   }
  },
  {
   "cell_type": "markdown",
   "source": [
    "## 1.4 Check and removing duplicates"
   ],
   "metadata": {
    "collapsed": false
   }
  },
  {
   "cell_type": "code",
   "execution_count": 5,
   "outputs": [
    {
     "data": {
      "text/plain": "                                Name  Birthyear   Education Marital_Status  \\\nCustomerID                                                                   \n32924               Mrs. Wanda Terry       1986  Graduation       Divorced   \n8276               Mrs. Mary Jackson       1968  HighSchool        Married   \n32966               Mr. Steven Baker       1961  HighSchool        Married   \n5627              Mr. Jonathan Clark       1988  Graduation        Married   \n29357              Mr. Eric Springer       1972         PhD        Married   \n26891                  Mr. Sam Peake       1992  Graduation        Married   \n21269              Mr. Nathan Glover       1971  Graduation        Married   \n32777                  Mr. Joe James       1967      Master        Married   \n26285           Mr. Oliver Sanderson       1986       Basic       Together   \n5540              Mr. Justin MacLeod       1995  Graduation       Together   \n17069             Miss Zoe Underwood       1977  Graduation       Together   \n12320         Mr. Christian Morrison       1985      Master        Married   \n24260                Mr. Dan Langdon       1993  Graduation         Single   \n6470                Miss Diane White       1980  Graduation         Single   \n10265                 Mr. Max Martin       1988  HighSchool       Together   \n21767                 Mrs. Jan Sharp       1977      Master        Married   \n15905              Mr. Charles James       1957         PhD       Together   \n28688             Mr. Anthony Gibson       1976  Graduation       Together   \n28739          Mr. Stephen Henderson       1970  Graduation        Married   \n25052                Mr. Piers Nolan       1977      Master       Divorced   \n7586                Mr. Jason Powell       1985      Master        Married   \n32495             Miss Wanda Wallace       1962  Graduation       Together   \n19295              Mr. Justin Martin       1998  Graduation       Together   \n14942              Mr. Stewart North       1978         PhD       Together   \n20747               Mr. Luke Lambert       1988         PhD        Married   \n12035              Mrs. Heather Hart       1985  Graduation        Married   \n8447               Mrs. Grace Davies       1967  Graduation        Married   \n25685                Mr. Austin Knox       1955         PhD          Widow   \n28625                Mr. Frank Piper       1969       Basic        Married   \n28844                  Mr. Neil Dowd       1981  Graduation        Married   \n30464       Miss Gabrielle Churchill       1960  Graduation       Together   \n\n              Income  Kid_Younger6  Children_6to18       Date_Adherence  \\\nCustomerID                                                                \n32924        41264.0             1               1  2020-10-03 00:00:00   \n8276        118238.0             0               0  2020-10-13 00:00:00   \n32966        84974.0             0               1  2022-02-17 00:00:00   \n5627         40975.0             1               0  2022-04-28 00:00:00   \n29357        77778.0             0               1  2022-04-19 00:00:00   \n26891        74147.0             1               0  2022-03-21 00:00:00   \n21269        91241.0             0               1  2022-03-28 00:00:00   \n32777       101251.0             0               1  2021-12-30 00:00:00   \n26285        22345.0             1               0  2021-03-21 00:00:00   \n5540         44247.0             1               0  2021-03-08 00:00:00   \n17069        75226.0             1               1  2020-11-24 00:00:00   \n12320        39747.0             1               0  2021-04-06 00:00:00   \n24260       116645.0             0               0  2021-05-18 00:00:00   \n6470        127255.0             0               0  2021-06-17 00:00:00   \n10265        27838.0             1               0  2021-10-08 00:00:00   \n21767        54507.0             1               1  2020-10-27 00:00:00   \n15905        95655.0             0               0  2020-09-04 00:00:00   \n28688        77992.0             0               1  2020-12-29 00:00:00   \n28739        81721.0             0               1  2021-07-21 00:00:00   \n25052        57770.0             1               0  2021-07-23 00:00:00   \n7586         98465.0             0               1  2021-04-25 00:00:00   \n32495         8305.4             0               1  2022-03-21 00:00:00   \n19295       120028.0             0               0  2022-05-13 00:00:00   \n14942       135654.0             0               0  2021-05-02 00:00:00   \n20747        97456.0             0               0  2020-08-14 00:00:00   \n12035       127587.0             1               0  2021-09-30 00:00:00   \n8447        116080.0             1               1  2022-04-24 00:00:00   \n25685        60675.0             1               1  2020-11-19 00:00:00   \n28625        30685.0             2               1  2021-12-25 00:00:00   \n28844        93031.0             0               1  2022-06-29 00:00:00   \n30464        99213.0             0               1  2021-05-02 00:00:00   \n\n            Recency  MntMeat&Fish  MntEntries  MntVegan&Vegetarian  MntDrinks  \\\nCustomerID                                                                      \n32924          61.0          70.0          20                165.0       40.0   \n8276           42.0        5940.0        1002               9465.0     1100.0   \n32966          56.0        2610.0         840               2160.0      840.0   \n5627           31.0         130.0           0                120.0       20.0   \n29357          92.0        1240.0          60                315.0       20.0   \n26891          13.0         610.0         320                915.0       20.0   \n21269          18.0        1780.0         220               2370.0      540.0   \n32777          26.0        7350.0        2780               4170.0      500.0   \n26285          54.0          50.0         180                285.0      240.0   \n5540           51.0        1540.0         400                990.0        0.0   \n17069          32.0        1320.0         280                390.0      180.0   \n12320          64.0         120.0           0                195.0       20.0   \n24260          64.0        3330.0           0              12225.0     1980.0   \n6470           75.0        5760.0        2220              13950.0     2960.0   \n10265           7.0         170.0          60                105.0      280.0   \n21767          94.0         280.0          40                135.0       20.0   \n15905           3.0        8900.0        1260               4380.0        0.0   \n28688          43.0        5940.0         120                570.0      120.0   \n28739          78.0        2140.0        1700               2085.0     1160.0   \n25052          12.0         700.0          60               1275.0      240.0   \n7586           39.0        3780.0         200               2205.0      100.0   \n32495          30.0         479.0          10                123.0       10.0   \n19295          15.0        9370.0        1060               3000.0      800.0   \n14942          71.0        9790.0         880              14025.0      440.0   \n20747          63.0        2540.0        1420               6705.0     2020.0   \n12035          73.0        6300.0        3200               3945.0      220.0   \n8447           33.0        2450.0         320               3345.0      320.0   \n25685          15.0        5020.0           0                645.0        0.0   \n28625          35.0          60.0         120                120.0      180.0   \n28844          43.0        6050.0         140               1275.0      140.0   \n30464           9.0        2120.0         980               2700.0     1200.0   \n\n            MntDesserts  MntAdditionalRequests  NumOfferPurchases  \\\nCustomerID                                                          \n32924               0.0                    7.0                  2   \n8276             1100.0                   32.0                  1   \n32966             960.0                  133.0                  3   \n5627               20.0                    5.0                  1   \n29357              20.0                   33.0                  1   \n26891             240.0                   78.0                  2   \n21269             380.0                   59.0                  1   \n32777            1760.0                   66.0                  2   \n26285             280.0                   39.0                  3   \n5540              240.0                   27.0                  7   \n17069             100.0                   28.0                  5   \n12320               0.0                   10.0                  1   \n24260             832.0                   29.0                  1   \n6470             1860.0                   74.0                  1   \n10265              20.0                   42.0                  2   \n21767              20.0                    8.0                  2   \n15905             500.0                   12.0                  4   \n28688             120.0                   25.0                  4   \n28739             740.0                   16.0                  4   \n25052             180.0                   95.0                  3   \n7586              100.0                   38.0                  3   \n32495              34.0                   17.1                  0   \n19295            2140.0                  200.0                  0   \n14942             488.0                   22.0                  1   \n20747            2840.0                   20.0                  1   \n12035            1600.0                   45.0                  1   \n8447              860.0                   16.0                  2   \n25685               0.0                   27.0                  9   \n28625             180.0                   18.0                  3   \n28844             140.0                    7.0                  1   \n30464             980.0                   32.0                  2   \n\n            NumAppPurchases  NumTakeAwayPurchases  NumStorePurchases  \\\nCustomerID                                                             \n32924                     3                     1                  3   \n8276                      6                     7                  8   \n32966                     6                     5                  9   \n5627                      3                     1                  4   \n29357                     5                     2                  4   \n26891                     6                     3                  2   \n21269                     8                     3                  6   \n32777                     8                     8                  6   \n26285                     5                     2                  2   \n5540                      8                     2                  4   \n17069                     7                     2                  3   \n12320                     3                     1                  3   \n24260                     6                    11                 11   \n6470                      5                     3                 13   \n10265                     4                     3                  2   \n21767                     4                     1                  3   \n15905                    10                     5                  7   \n28688                     9                     3                 10   \n28739                     7                     3                 10   \n25052                     6                     3                  3   \n7586                      9                     3                  8   \n32495                     1                     1                  0   \n19295                     6                     4                 13   \n14942                     9                     6                 12   \n20747                     5                     5                  8   \n12035                     6                     6                  8   \n8447                     10                     2                  8   \n25685                    10                     3                  7   \n28625                     4                     2                  3   \n28844                    10                     3                 10   \n30464                     5                     5                 10   \n\n            NumAppVisitsMonth  Complain  Response_Cmp1  Response_Cmp2  \\\nCustomerID                                                              \n32924                       7         0              0              0   \n8276                        2         0              0              0   \n32966                       3         0              0              0   \n5627                        3         0              0              0   \n29357                       6         0              0              1   \n26891                       6         0              1              0   \n21269                       5         0              0              0   \n32777                       3         0              1              0   \n26285                       9         0              1              0   \n5540                        9         0              0              0   \n17069                       8         0              0              0   \n12320                       7         0              0              0   \n24260                       2         0              0              0   \n6470                        1         0              0              0   \n10265                       4         0              1              0   \n21767                       7         0              0              0   \n15905                       6         0              0              0   \n28688                       7         0              0              0   \n28739                       5         0              0              0   \n25052                       7         0              0              0   \n7586                        6         0              0              0   \n32495                      20         0              1              0   \n19295                       1         0              0              0   \n14942                       3         0              0              1   \n20747                       1         0              0              0   \n12035                       5         0              0              1   \n8447                        6         0              0              0   \n25685                       9         0              0              0   \n28625                       6         0              0              0   \n28844                       4         0              0              1   \n30464                       2         0              0              0   \n\n            Response_Cmp3  Response_Cmp4  Response_Cmp5  \nCustomerID                                               \n32924                   0              0              0  \n8276                    0              0              0  \n32966                   0              0              0  \n5627                    0              0              0  \n29357                   0              0              0  \n26891                   0              0              0  \n21269                   0              0              0  \n32777                   0              0              0  \n26285                   0              0              0  \n5540                    0              0              0  \n17069                   0              0              0  \n12320                   0              0              0  \n24260                   0              0              0  \n6470                    0              0              0  \n10265                   0              0              0  \n21767                   0              0              0  \n15905                   0              0              0  \n28688                   0              0              0  \n28739                   0              0              0  \n25052                   0              0              0  \n7586                    0              0              0  \n32495                   0              0              0  \n19295                   1              0              0  \n14942                   1              1              0  \n20747                   0              0              0  \n12035                   0              1              0  \n8447                    0              0              0  \n25685                   0              0              0  \n28625                   0              0              0  \n28844                   0              0              0  \n30464                   0              0              0  ",
      "text/html": "<div>\n<style scoped>\n    .dataframe tbody tr th:only-of-type {\n        vertical-align: middle;\n    }\n\n    .dataframe tbody tr th {\n        vertical-align: top;\n    }\n\n    .dataframe thead th {\n        text-align: right;\n    }\n</style>\n<table border=\"1\" class=\"dataframe\">\n  <thead>\n    <tr style=\"text-align: right;\">\n      <th></th>\n      <th>Name</th>\n      <th>Birthyear</th>\n      <th>Education</th>\n      <th>Marital_Status</th>\n      <th>Income</th>\n      <th>Kid_Younger6</th>\n      <th>Children_6to18</th>\n      <th>Date_Adherence</th>\n      <th>Recency</th>\n      <th>MntMeat&amp;Fish</th>\n      <th>MntEntries</th>\n      <th>MntVegan&amp;Vegetarian</th>\n      <th>MntDrinks</th>\n      <th>MntDesserts</th>\n      <th>MntAdditionalRequests</th>\n      <th>NumOfferPurchases</th>\n      <th>NumAppPurchases</th>\n      <th>NumTakeAwayPurchases</th>\n      <th>NumStorePurchases</th>\n      <th>NumAppVisitsMonth</th>\n      <th>Complain</th>\n      <th>Response_Cmp1</th>\n      <th>Response_Cmp2</th>\n      <th>Response_Cmp3</th>\n      <th>Response_Cmp4</th>\n      <th>Response_Cmp5</th>\n    </tr>\n    <tr>\n      <th>CustomerID</th>\n      <th></th>\n      <th></th>\n      <th></th>\n      <th></th>\n      <th></th>\n      <th></th>\n      <th></th>\n      <th></th>\n      <th></th>\n      <th></th>\n      <th></th>\n      <th></th>\n      <th></th>\n      <th></th>\n      <th></th>\n      <th></th>\n      <th></th>\n      <th></th>\n      <th></th>\n      <th></th>\n      <th></th>\n      <th></th>\n      <th></th>\n      <th></th>\n      <th></th>\n      <th></th>\n    </tr>\n  </thead>\n  <tbody>\n    <tr>\n      <th>32924</th>\n      <td>Mrs. Wanda Terry</td>\n      <td>1986</td>\n      <td>Graduation</td>\n      <td>Divorced</td>\n      <td>41264.0</td>\n      <td>1</td>\n      <td>1</td>\n      <td>2020-10-03 00:00:00</td>\n      <td>61.0</td>\n      <td>70.0</td>\n      <td>20</td>\n      <td>165.0</td>\n      <td>40.0</td>\n      <td>0.0</td>\n      <td>7.0</td>\n      <td>2</td>\n      <td>3</td>\n      <td>1</td>\n      <td>3</td>\n      <td>7</td>\n      <td>0</td>\n      <td>0</td>\n      <td>0</td>\n      <td>0</td>\n      <td>0</td>\n      <td>0</td>\n    </tr>\n    <tr>\n      <th>8276</th>\n      <td>Mrs. Mary Jackson</td>\n      <td>1968</td>\n      <td>HighSchool</td>\n      <td>Married</td>\n      <td>118238.0</td>\n      <td>0</td>\n      <td>0</td>\n      <td>2020-10-13 00:00:00</td>\n      <td>42.0</td>\n      <td>5940.0</td>\n      <td>1002</td>\n      <td>9465.0</td>\n      <td>1100.0</td>\n      <td>1100.0</td>\n      <td>32.0</td>\n      <td>1</td>\n      <td>6</td>\n      <td>7</td>\n      <td>8</td>\n      <td>2</td>\n      <td>0</td>\n      <td>0</td>\n      <td>0</td>\n      <td>0</td>\n      <td>0</td>\n      <td>0</td>\n    </tr>\n    <tr>\n      <th>32966</th>\n      <td>Mr. Steven Baker</td>\n      <td>1961</td>\n      <td>HighSchool</td>\n      <td>Married</td>\n      <td>84974.0</td>\n      <td>0</td>\n      <td>1</td>\n      <td>2022-02-17 00:00:00</td>\n      <td>56.0</td>\n      <td>2610.0</td>\n      <td>840</td>\n      <td>2160.0</td>\n      <td>840.0</td>\n      <td>960.0</td>\n      <td>133.0</td>\n      <td>3</td>\n      <td>6</td>\n      <td>5</td>\n      <td>9</td>\n      <td>3</td>\n      <td>0</td>\n      <td>0</td>\n      <td>0</td>\n      <td>0</td>\n      <td>0</td>\n      <td>0</td>\n    </tr>\n    <tr>\n      <th>5627</th>\n      <td>Mr. Jonathan Clark</td>\n      <td>1988</td>\n      <td>Graduation</td>\n      <td>Married</td>\n      <td>40975.0</td>\n      <td>1</td>\n      <td>0</td>\n      <td>2022-04-28 00:00:00</td>\n      <td>31.0</td>\n      <td>130.0</td>\n      <td>0</td>\n      <td>120.0</td>\n      <td>20.0</td>\n      <td>20.0</td>\n      <td>5.0</td>\n      <td>1</td>\n      <td>3</td>\n      <td>1</td>\n      <td>4</td>\n      <td>3</td>\n      <td>0</td>\n      <td>0</td>\n      <td>0</td>\n      <td>0</td>\n      <td>0</td>\n      <td>0</td>\n    </tr>\n    <tr>\n      <th>29357</th>\n      <td>Mr. Eric Springer</td>\n      <td>1972</td>\n      <td>PhD</td>\n      <td>Married</td>\n      <td>77778.0</td>\n      <td>0</td>\n      <td>1</td>\n      <td>2022-04-19 00:00:00</td>\n      <td>92.0</td>\n      <td>1240.0</td>\n      <td>60</td>\n      <td>315.0</td>\n      <td>20.0</td>\n      <td>20.0</td>\n      <td>33.0</td>\n      <td>1</td>\n      <td>5</td>\n      <td>2</td>\n      <td>4</td>\n      <td>6</td>\n      <td>0</td>\n      <td>0</td>\n      <td>1</td>\n      <td>0</td>\n      <td>0</td>\n      <td>0</td>\n    </tr>\n    <tr>\n      <th>26891</th>\n      <td>Mr. Sam Peake</td>\n      <td>1992</td>\n      <td>Graduation</td>\n      <td>Married</td>\n      <td>74147.0</td>\n      <td>1</td>\n      <td>0</td>\n      <td>2022-03-21 00:00:00</td>\n      <td>13.0</td>\n      <td>610.0</td>\n      <td>320</td>\n      <td>915.0</td>\n      <td>20.0</td>\n      <td>240.0</td>\n      <td>78.0</td>\n      <td>2</td>\n      <td>6</td>\n      <td>3</td>\n      <td>2</td>\n      <td>6</td>\n      <td>0</td>\n      <td>1</td>\n      <td>0</td>\n      <td>0</td>\n      <td>0</td>\n      <td>0</td>\n    </tr>\n    <tr>\n      <th>21269</th>\n      <td>Mr. Nathan Glover</td>\n      <td>1971</td>\n      <td>Graduation</td>\n      <td>Married</td>\n      <td>91241.0</td>\n      <td>0</td>\n      <td>1</td>\n      <td>2022-03-28 00:00:00</td>\n      <td>18.0</td>\n      <td>1780.0</td>\n      <td>220</td>\n      <td>2370.0</td>\n      <td>540.0</td>\n      <td>380.0</td>\n      <td>59.0</td>\n      <td>1</td>\n      <td>8</td>\n      <td>3</td>\n      <td>6</td>\n      <td>5</td>\n      <td>0</td>\n      <td>0</td>\n      <td>0</td>\n      <td>0</td>\n      <td>0</td>\n      <td>0</td>\n    </tr>\n    <tr>\n      <th>32777</th>\n      <td>Mr. Joe James</td>\n      <td>1967</td>\n      <td>Master</td>\n      <td>Married</td>\n      <td>101251.0</td>\n      <td>0</td>\n      <td>1</td>\n      <td>2021-12-30 00:00:00</td>\n      <td>26.0</td>\n      <td>7350.0</td>\n      <td>2780</td>\n      <td>4170.0</td>\n      <td>500.0</td>\n      <td>1760.0</td>\n      <td>66.0</td>\n      <td>2</td>\n      <td>8</td>\n      <td>8</td>\n      <td>6</td>\n      <td>3</td>\n      <td>0</td>\n      <td>1</td>\n      <td>0</td>\n      <td>0</td>\n      <td>0</td>\n      <td>0</td>\n    </tr>\n    <tr>\n      <th>26285</th>\n      <td>Mr. Oliver Sanderson</td>\n      <td>1986</td>\n      <td>Basic</td>\n      <td>Together</td>\n      <td>22345.0</td>\n      <td>1</td>\n      <td>0</td>\n      <td>2021-03-21 00:00:00</td>\n      <td>54.0</td>\n      <td>50.0</td>\n      <td>180</td>\n      <td>285.0</td>\n      <td>240.0</td>\n      <td>280.0</td>\n      <td>39.0</td>\n      <td>3</td>\n      <td>5</td>\n      <td>2</td>\n      <td>2</td>\n      <td>9</td>\n      <td>0</td>\n      <td>1</td>\n      <td>0</td>\n      <td>0</td>\n      <td>0</td>\n      <td>0</td>\n    </tr>\n    <tr>\n      <th>5540</th>\n      <td>Mr. Justin MacLeod</td>\n      <td>1995</td>\n      <td>Graduation</td>\n      <td>Together</td>\n      <td>44247.0</td>\n      <td>1</td>\n      <td>0</td>\n      <td>2021-03-08 00:00:00</td>\n      <td>51.0</td>\n      <td>1540.0</td>\n      <td>400</td>\n      <td>990.0</td>\n      <td>0.0</td>\n      <td>240.0</td>\n      <td>27.0</td>\n      <td>7</td>\n      <td>8</td>\n      <td>2</td>\n      <td>4</td>\n      <td>9</td>\n      <td>0</td>\n      <td>0</td>\n      <td>0</td>\n      <td>0</td>\n      <td>0</td>\n      <td>0</td>\n    </tr>\n    <tr>\n      <th>17069</th>\n      <td>Miss Zoe Underwood</td>\n      <td>1977</td>\n      <td>Graduation</td>\n      <td>Together</td>\n      <td>75226.0</td>\n      <td>1</td>\n      <td>1</td>\n      <td>2020-11-24 00:00:00</td>\n      <td>32.0</td>\n      <td>1320.0</td>\n      <td>280</td>\n      <td>390.0</td>\n      <td>180.0</td>\n      <td>100.0</td>\n      <td>28.0</td>\n      <td>5</td>\n      <td>7</td>\n      <td>2</td>\n      <td>3</td>\n      <td>8</td>\n      <td>0</td>\n      <td>0</td>\n      <td>0</td>\n      <td>0</td>\n      <td>0</td>\n      <td>0</td>\n    </tr>\n    <tr>\n      <th>12320</th>\n      <td>Mr. Christian Morrison</td>\n      <td>1985</td>\n      <td>Master</td>\n      <td>Married</td>\n      <td>39747.0</td>\n      <td>1</td>\n      <td>0</td>\n      <td>2021-04-06 00:00:00</td>\n      <td>64.0</td>\n      <td>120.0</td>\n      <td>0</td>\n      <td>195.0</td>\n      <td>20.0</td>\n      <td>0.0</td>\n      <td>10.0</td>\n      <td>1</td>\n      <td>3</td>\n      <td>1</td>\n      <td>3</td>\n      <td>7</td>\n      <td>0</td>\n      <td>0</td>\n      <td>0</td>\n      <td>0</td>\n      <td>0</td>\n      <td>0</td>\n    </tr>\n    <tr>\n      <th>24260</th>\n      <td>Mr. Dan Langdon</td>\n      <td>1993</td>\n      <td>Graduation</td>\n      <td>Single</td>\n      <td>116645.0</td>\n      <td>0</td>\n      <td>0</td>\n      <td>2021-05-18 00:00:00</td>\n      <td>64.0</td>\n      <td>3330.0</td>\n      <td>0</td>\n      <td>12225.0</td>\n      <td>1980.0</td>\n      <td>832.0</td>\n      <td>29.0</td>\n      <td>1</td>\n      <td>6</td>\n      <td>11</td>\n      <td>11</td>\n      <td>2</td>\n      <td>0</td>\n      <td>0</td>\n      <td>0</td>\n      <td>0</td>\n      <td>0</td>\n      <td>0</td>\n    </tr>\n    <tr>\n      <th>6470</th>\n      <td>Miss Diane White</td>\n      <td>1980</td>\n      <td>Graduation</td>\n      <td>Single</td>\n      <td>127255.0</td>\n      <td>0</td>\n      <td>0</td>\n      <td>2021-06-17 00:00:00</td>\n      <td>75.0</td>\n      <td>5760.0</td>\n      <td>2220</td>\n      <td>13950.0</td>\n      <td>2960.0</td>\n      <td>1860.0</td>\n      <td>74.0</td>\n      <td>1</td>\n      <td>5</td>\n      <td>3</td>\n      <td>13</td>\n      <td>1</td>\n      <td>0</td>\n      <td>0</td>\n      <td>0</td>\n      <td>0</td>\n      <td>0</td>\n      <td>0</td>\n    </tr>\n    <tr>\n      <th>10265</th>\n      <td>Mr. Max Martin</td>\n      <td>1988</td>\n      <td>HighSchool</td>\n      <td>Together</td>\n      <td>27838.0</td>\n      <td>1</td>\n      <td>0</td>\n      <td>2021-10-08 00:00:00</td>\n      <td>7.0</td>\n      <td>170.0</td>\n      <td>60</td>\n      <td>105.0</td>\n      <td>280.0</td>\n      <td>20.0</td>\n      <td>42.0</td>\n      <td>2</td>\n      <td>4</td>\n      <td>3</td>\n      <td>2</td>\n      <td>4</td>\n      <td>0</td>\n      <td>1</td>\n      <td>0</td>\n      <td>0</td>\n      <td>0</td>\n      <td>0</td>\n    </tr>\n    <tr>\n      <th>21767</th>\n      <td>Mrs. Jan Sharp</td>\n      <td>1977</td>\n      <td>Master</td>\n      <td>Married</td>\n      <td>54507.0</td>\n      <td>1</td>\n      <td>1</td>\n      <td>2020-10-27 00:00:00</td>\n      <td>94.0</td>\n      <td>280.0</td>\n      <td>40</td>\n      <td>135.0</td>\n      <td>20.0</td>\n      <td>20.0</td>\n      <td>8.0</td>\n      <td>2</td>\n      <td>4</td>\n      <td>1</td>\n      <td>3</td>\n      <td>7</td>\n      <td>0</td>\n      <td>0</td>\n      <td>0</td>\n      <td>0</td>\n      <td>0</td>\n      <td>0</td>\n    </tr>\n    <tr>\n      <th>15905</th>\n      <td>Mr. Charles James</td>\n      <td>1957</td>\n      <td>PhD</td>\n      <td>Together</td>\n      <td>95655.0</td>\n      <td>0</td>\n      <td>0</td>\n      <td>2020-09-04 00:00:00</td>\n      <td>3.0</td>\n      <td>8900.0</td>\n      <td>1260</td>\n      <td>4380.0</td>\n      <td>0.0</td>\n      <td>500.0</td>\n      <td>12.0</td>\n      <td>4</td>\n      <td>10</td>\n      <td>5</td>\n      <td>7</td>\n      <td>6</td>\n      <td>0</td>\n      <td>0</td>\n      <td>0</td>\n      <td>0</td>\n      <td>0</td>\n      <td>0</td>\n    </tr>\n    <tr>\n      <th>28688</th>\n      <td>Mr. Anthony Gibson</td>\n      <td>1976</td>\n      <td>Graduation</td>\n      <td>Together</td>\n      <td>77992.0</td>\n      <td>0</td>\n      <td>1</td>\n      <td>2020-12-29 00:00:00</td>\n      <td>43.0</td>\n      <td>5940.0</td>\n      <td>120</td>\n      <td>570.0</td>\n      <td>120.0</td>\n      <td>120.0</td>\n      <td>25.0</td>\n      <td>4</td>\n      <td>9</td>\n      <td>3</td>\n      <td>10</td>\n      <td>7</td>\n      <td>0</td>\n      <td>0</td>\n      <td>0</td>\n      <td>0</td>\n      <td>0</td>\n      <td>0</td>\n    </tr>\n    <tr>\n      <th>28739</th>\n      <td>Mr. Stephen Henderson</td>\n      <td>1970</td>\n      <td>Graduation</td>\n      <td>Married</td>\n      <td>81721.0</td>\n      <td>0</td>\n      <td>1</td>\n      <td>2021-07-21 00:00:00</td>\n      <td>78.0</td>\n      <td>2140.0</td>\n      <td>1700</td>\n      <td>2085.0</td>\n      <td>1160.0</td>\n      <td>740.0</td>\n      <td>16.0</td>\n      <td>4</td>\n      <td>7</td>\n      <td>3</td>\n      <td>10</td>\n      <td>5</td>\n      <td>0</td>\n      <td>0</td>\n      <td>0</td>\n      <td>0</td>\n      <td>0</td>\n      <td>0</td>\n    </tr>\n    <tr>\n      <th>25052</th>\n      <td>Mr. Piers Nolan</td>\n      <td>1977</td>\n      <td>Master</td>\n      <td>Divorced</td>\n      <td>57770.0</td>\n      <td>1</td>\n      <td>0</td>\n      <td>2021-07-23 00:00:00</td>\n      <td>12.0</td>\n      <td>700.0</td>\n      <td>60</td>\n      <td>1275.0</td>\n      <td>240.0</td>\n      <td>180.0</td>\n      <td>95.0</td>\n      <td>3</td>\n      <td>6</td>\n      <td>3</td>\n      <td>3</td>\n      <td>7</td>\n      <td>0</td>\n      <td>0</td>\n      <td>0</td>\n      <td>0</td>\n      <td>0</td>\n      <td>0</td>\n    </tr>\n    <tr>\n      <th>7586</th>\n      <td>Mr. Jason Powell</td>\n      <td>1985</td>\n      <td>Master</td>\n      <td>Married</td>\n      <td>98465.0</td>\n      <td>0</td>\n      <td>1</td>\n      <td>2021-04-25 00:00:00</td>\n      <td>39.0</td>\n      <td>3780.0</td>\n      <td>200</td>\n      <td>2205.0</td>\n      <td>100.0</td>\n      <td>100.0</td>\n      <td>38.0</td>\n      <td>3</td>\n      <td>9</td>\n      <td>3</td>\n      <td>8</td>\n      <td>6</td>\n      <td>0</td>\n      <td>0</td>\n      <td>0</td>\n      <td>0</td>\n      <td>0</td>\n      <td>0</td>\n    </tr>\n    <tr>\n      <th>32495</th>\n      <td>Miss Wanda Wallace</td>\n      <td>1962</td>\n      <td>Graduation</td>\n      <td>Together</td>\n      <td>8305.4</td>\n      <td>0</td>\n      <td>1</td>\n      <td>2022-03-21 00:00:00</td>\n      <td>30.0</td>\n      <td>479.0</td>\n      <td>10</td>\n      <td>123.0</td>\n      <td>10.0</td>\n      <td>34.0</td>\n      <td>17.1</td>\n      <td>0</td>\n      <td>1</td>\n      <td>1</td>\n      <td>0</td>\n      <td>20</td>\n      <td>0</td>\n      <td>1</td>\n      <td>0</td>\n      <td>0</td>\n      <td>0</td>\n      <td>0</td>\n    </tr>\n    <tr>\n      <th>19295</th>\n      <td>Mr. Justin Martin</td>\n      <td>1998</td>\n      <td>Graduation</td>\n      <td>Together</td>\n      <td>120028.0</td>\n      <td>0</td>\n      <td>0</td>\n      <td>2022-05-13 00:00:00</td>\n      <td>15.0</td>\n      <td>9370.0</td>\n      <td>1060</td>\n      <td>3000.0</td>\n      <td>800.0</td>\n      <td>2140.0</td>\n      <td>200.0</td>\n      <td>0</td>\n      <td>6</td>\n      <td>4</td>\n      <td>13</td>\n      <td>1</td>\n      <td>0</td>\n      <td>0</td>\n      <td>0</td>\n      <td>1</td>\n      <td>0</td>\n      <td>0</td>\n    </tr>\n    <tr>\n      <th>14942</th>\n      <td>Mr. Stewart North</td>\n      <td>1978</td>\n      <td>PhD</td>\n      <td>Together</td>\n      <td>135654.0</td>\n      <td>0</td>\n      <td>0</td>\n      <td>2021-05-02 00:00:00</td>\n      <td>71.0</td>\n      <td>9790.0</td>\n      <td>880</td>\n      <td>14025.0</td>\n      <td>440.0</td>\n      <td>488.0</td>\n      <td>22.0</td>\n      <td>1</td>\n      <td>9</td>\n      <td>6</td>\n      <td>12</td>\n      <td>3</td>\n      <td>0</td>\n      <td>0</td>\n      <td>1</td>\n      <td>1</td>\n      <td>1</td>\n      <td>0</td>\n    </tr>\n    <tr>\n      <th>20747</th>\n      <td>Mr. Luke Lambert</td>\n      <td>1988</td>\n      <td>PhD</td>\n      <td>Married</td>\n      <td>97456.0</td>\n      <td>0</td>\n      <td>0</td>\n      <td>2020-08-14 00:00:00</td>\n      <td>63.0</td>\n      <td>2540.0</td>\n      <td>1420</td>\n      <td>6705.0</td>\n      <td>2020.0</td>\n      <td>2840.0</td>\n      <td>20.0</td>\n      <td>1</td>\n      <td>5</td>\n      <td>5</td>\n      <td>8</td>\n      <td>1</td>\n      <td>0</td>\n      <td>0</td>\n      <td>0</td>\n      <td>0</td>\n      <td>0</td>\n      <td>0</td>\n    </tr>\n    <tr>\n      <th>12035</th>\n      <td>Mrs. Heather Hart</td>\n      <td>1985</td>\n      <td>Graduation</td>\n      <td>Married</td>\n      <td>127587.0</td>\n      <td>1</td>\n      <td>0</td>\n      <td>2021-09-30 00:00:00</td>\n      <td>73.0</td>\n      <td>6300.0</td>\n      <td>3200</td>\n      <td>3945.0</td>\n      <td>220.0</td>\n      <td>1600.0</td>\n      <td>45.0</td>\n      <td>1</td>\n      <td>6</td>\n      <td>6</td>\n      <td>8</td>\n      <td>5</td>\n      <td>0</td>\n      <td>0</td>\n      <td>1</td>\n      <td>0</td>\n      <td>1</td>\n      <td>0</td>\n    </tr>\n    <tr>\n      <th>8447</th>\n      <td>Mrs. Grace Davies</td>\n      <td>1967</td>\n      <td>Graduation</td>\n      <td>Married</td>\n      <td>116080.0</td>\n      <td>1</td>\n      <td>1</td>\n      <td>2022-04-24 00:00:00</td>\n      <td>33.0</td>\n      <td>2450.0</td>\n      <td>320</td>\n      <td>3345.0</td>\n      <td>320.0</td>\n      <td>860.0</td>\n      <td>16.0</td>\n      <td>2</td>\n      <td>10</td>\n      <td>2</td>\n      <td>8</td>\n      <td>6</td>\n      <td>0</td>\n      <td>0</td>\n      <td>0</td>\n      <td>0</td>\n      <td>0</td>\n      <td>0</td>\n    </tr>\n    <tr>\n      <th>25685</th>\n      <td>Mr. Austin Knox</td>\n      <td>1955</td>\n      <td>PhD</td>\n      <td>Widow</td>\n      <td>60675.0</td>\n      <td>1</td>\n      <td>1</td>\n      <td>2020-11-19 00:00:00</td>\n      <td>15.0</td>\n      <td>5020.0</td>\n      <td>0</td>\n      <td>645.0</td>\n      <td>0.0</td>\n      <td>0.0</td>\n      <td>27.0</td>\n      <td>9</td>\n      <td>10</td>\n      <td>3</td>\n      <td>7</td>\n      <td>9</td>\n      <td>0</td>\n      <td>0</td>\n      <td>0</td>\n      <td>0</td>\n      <td>0</td>\n      <td>0</td>\n    </tr>\n    <tr>\n      <th>28625</th>\n      <td>Mr. Frank Piper</td>\n      <td>1969</td>\n      <td>Basic</td>\n      <td>Married</td>\n      <td>30685.0</td>\n      <td>2</td>\n      <td>1</td>\n      <td>2021-12-25 00:00:00</td>\n      <td>35.0</td>\n      <td>60.0</td>\n      <td>120</td>\n      <td>120.0</td>\n      <td>180.0</td>\n      <td>180.0</td>\n      <td>18.0</td>\n      <td>3</td>\n      <td>4</td>\n      <td>2</td>\n      <td>3</td>\n      <td>6</td>\n      <td>0</td>\n      <td>0</td>\n      <td>0</td>\n      <td>0</td>\n      <td>0</td>\n      <td>0</td>\n    </tr>\n    <tr>\n      <th>28844</th>\n      <td>Mr. Neil Dowd</td>\n      <td>1981</td>\n      <td>Graduation</td>\n      <td>Married</td>\n      <td>93031.0</td>\n      <td>0</td>\n      <td>1</td>\n      <td>2022-06-29 00:00:00</td>\n      <td>43.0</td>\n      <td>6050.0</td>\n      <td>140</td>\n      <td>1275.0</td>\n      <td>140.0</td>\n      <td>140.0</td>\n      <td>7.0</td>\n      <td>1</td>\n      <td>10</td>\n      <td>3</td>\n      <td>10</td>\n      <td>4</td>\n      <td>0</td>\n      <td>0</td>\n      <td>1</td>\n      <td>0</td>\n      <td>0</td>\n      <td>0</td>\n    </tr>\n    <tr>\n      <th>30464</th>\n      <td>Miss Gabrielle Churchill</td>\n      <td>1960</td>\n      <td>Graduation</td>\n      <td>Together</td>\n      <td>99213.0</td>\n      <td>0</td>\n      <td>1</td>\n      <td>2021-05-02 00:00:00</td>\n      <td>9.0</td>\n      <td>2120.0</td>\n      <td>980</td>\n      <td>2700.0</td>\n      <td>1200.0</td>\n      <td>980.0</td>\n      <td>32.0</td>\n      <td>2</td>\n      <td>5</td>\n      <td>5</td>\n      <td>10</td>\n      <td>2</td>\n      <td>0</td>\n      <td>0</td>\n      <td>0</td>\n      <td>0</td>\n      <td>0</td>\n      <td>0</td>\n    </tr>\n  </tbody>\n</table>\n</div>"
     },
     "execution_count": 5,
     "metadata": {},
     "output_type": "execute_result"
    }
   ],
   "source": [
    "df[df.duplicated()] # checking duplicates"
   ],
   "metadata": {
    "collapsed": false
   }
  },
  {
   "cell_type": "code",
   "execution_count": 6,
   "outputs": [],
   "source": [
    "df = df[~df.duplicated()] # drop duplicates rows"
   ],
   "metadata": {
    "collapsed": false
   }
  },
  {
   "cell_type": "markdown",
   "source": [
    "# 2. Explore Data"
   ],
   "metadata": {
    "collapsed": false
   }
  },
  {
   "cell_type": "markdown",
   "source": [
    "## 2.0 Data profiling\n",
    "\n",
    "Se não quiserem instalar a biblioteca não corram esta secção. Caso contrário o comando para instalar é pip install ydata-profiling. No final **apagar esta secção**"
   ],
   "metadata": {
    "collapsed": false
   }
  },
  {
   "cell_type": "code",
   "execution_count": 7,
   "outputs": [],
   "source": [
    "#from ydata_profiling import ProfileReport\n",
    "#profile= ProfileReport (df, title= \"DSML_Project\")"
   ],
   "metadata": {
    "collapsed": false
   }
  },
  {
   "cell_type": "code",
   "execution_count": 8,
   "outputs": [],
   "source": [
    "#profile.to_file('DSML_profile.html')"
   ],
   "metadata": {
    "collapsed": false
   }
  },
  {
   "cell_type": "markdown",
   "source": [
    "## 2.1 Basic Exploration"
   ],
   "metadata": {
    "collapsed": false
   }
  },
  {
   "cell_type": "markdown",
   "source": [
    "Q: _To check the number of columns and rows_ we used `shape` _attribute_"
   ],
   "metadata": {
    "collapsed": false
   }
  },
  {
   "cell_type": "code",
   "execution_count": 9,
   "outputs": [
    {
     "data": {
      "text/plain": "(7000, 26)"
     },
     "execution_count": 9,
     "metadata": {},
     "output_type": "execute_result"
    }
   ],
   "source": [
    "df.shape"
   ],
   "metadata": {
    "collapsed": false
   }
  },
  {
   "cell_type": "markdown",
   "source": [
    "> A: _The dataset has **7000 rows** and **26 columns**_"
   ],
   "metadata": {
    "collapsed": false
   }
  },
  {
   "cell_type": "markdown",
   "source": [
    "__*Q*__: Check the name of the features of the dataset we used `columns` _attribute_"
   ],
   "metadata": {
    "collapsed": false
   }
  },
  {
   "cell_type": "code",
   "execution_count": 10,
   "outputs": [
    {
     "data": {
      "text/plain": "Index(['Name', 'Birthyear', 'Education', 'Marital_Status', 'Income',\n       'Kid_Younger6', 'Children_6to18', 'Date_Adherence', 'Recency',\n       'MntMeat&Fish', 'MntEntries', 'MntVegan&Vegetarian', 'MntDrinks',\n       'MntDesserts', 'MntAdditionalRequests', 'NumOfferPurchases',\n       'NumAppPurchases', 'NumTakeAwayPurchases', 'NumStorePurchases',\n       'NumAppVisitsMonth', 'Complain', 'Response_Cmp1', 'Response_Cmp2',\n       'Response_Cmp3', 'Response_Cmp4', 'Response_Cmp5'],\n      dtype='object')"
     },
     "execution_count": 10,
     "metadata": {},
     "output_type": "execute_result"
    }
   ],
   "source": [
    "df.columns"
   ],
   "metadata": {
    "collapsed": false
   }
  },
  {
   "cell_type": "markdown",
   "source": [
    "> A: The dataset has the following columns/features names: <br>\n",
    "        >Index. CustomerID\n",
    "        >1. 'Name' <br>\n",
    "        >2. 'Birthyear'<br>\n",
    "        >3. 'Education'<br>\n",
    "        >4. 'Marital_Status'<br>\n",
    "        >5. 'Income'<br>\n",
    "        >6. 'Kid_Younger6'<br>\n",
    "        >7. 'Children_6to18'<br>\n",
    "        >8. 'Date_Adherence'<br>\n",
    "        >9. 'Recency'<br>\n",
    "        >10. 'MntMeat&Fish'<br>\n",
    "        >11. 'MntEntries'<br>\n",
    "        >12. 'MntVegan&Vegetarian'<br>\n",
    "        >13. 'MntDrinks'<br>\n",
    "        >14. 'MntDesserts'<br>\n",
    "        >15. 'MntAdditionalRequests'<br>\n",
    "        >16. 'NumOfferPurchases'<br>\n",
    "        >17. 'NumAppPurchases'<br>\n",
    "        >18. 'NumTakeAwayPurchases'<br>\n",
    "        >19. 'NumStorePurchases'<br>\n",
    "        >20. 'NumAppVisitsMonth'<br>\n",
    "        >21. 'Complain'<br>\n",
    "        >22. 'Response_Cmp1'<br>\n",
    "        >23. 'Response_Cmp2'<br>\n",
    "        >24. 'Response_Cmp3'<br>\n",
    "        >25. 'Response_Cmp4'<br>\n",
    "        >26. 'Response_Cmp5'<br>"
   ],
   "metadata": {
    "collapsed": false
   }
  },
  {
   "cell_type": "markdown",
   "source": [
    "Q: First glance of the dataset using `head` and `tail` methods to check the first and last 5 rows."
   ],
   "metadata": {
    "collapsed": false
   }
  },
  {
   "cell_type": "code",
   "execution_count": 11,
   "outputs": [
    {
     "data": {
      "text/plain": "                          Name  Birthyear   Education Marital_Status  \\\nCustomerID                                                             \n14594          Miss Leah Lewis       1981  Graduation         Single   \n19070         Miss Grace Black       1974  Graduation       Together   \n29888       Mr. Gavin Morrison       1960         PhD       Together   \n\n              Income  Kid_Younger6  Children_6to18       Date_Adherence  \\\nCustomerID                                                                \n14594       113947.0             0               0  2021-01-09 00:00:00   \n19070       114297.0             0               0  2021-04-10 00:00:00   \n29888       115476.0             0               0  2022-01-12 00:00:00   \n\n            Recency  MntMeat&Fish  MntEntries  MntVegan&Vegetarian  MntDrinks  \\\nCustomerID                                                                      \n14594          43.0        4640.0        3380               5700.0     2240.0   \n19070          74.0        7080.0        3680               7620.0     1840.0   \n29888          85.0        4130.0         380               4890.0     3640.0   \n\n            MntDesserts  MntAdditionalRequests  NumOfferPurchases  \\\nCustomerID                                                          \n14594             562.0                  154.0                  2   \n19070            1220.0                   46.0                  1   \n29888             380.0                   28.0                  1   \n\n            NumAppPurchases  NumTakeAwayPurchases  NumStorePurchases  \\\nCustomerID                                                             \n14594                    10                     7                  7   \n19070                     5                     9                 12   \n29888                     5                     5                  7   \n\n            NumAppVisitsMonth  Complain  Response_Cmp1  Response_Cmp2  \\\nCustomerID                                                              \n14594                       4         0              0              1   \n19070                       2         0              0              0   \n29888                       1         0              0              0   \n\n            Response_Cmp3  Response_Cmp4  Response_Cmp5  \nCustomerID                                               \n14594                   0              0              0  \n19070                   0              0              0  \n29888                   0              0              0  ",
      "text/html": "<div>\n<style scoped>\n    .dataframe tbody tr th:only-of-type {\n        vertical-align: middle;\n    }\n\n    .dataframe tbody tr th {\n        vertical-align: top;\n    }\n\n    .dataframe thead th {\n        text-align: right;\n    }\n</style>\n<table border=\"1\" class=\"dataframe\">\n  <thead>\n    <tr style=\"text-align: right;\">\n      <th></th>\n      <th>Name</th>\n      <th>Birthyear</th>\n      <th>Education</th>\n      <th>Marital_Status</th>\n      <th>Income</th>\n      <th>Kid_Younger6</th>\n      <th>Children_6to18</th>\n      <th>Date_Adherence</th>\n      <th>Recency</th>\n      <th>MntMeat&amp;Fish</th>\n      <th>MntEntries</th>\n      <th>MntVegan&amp;Vegetarian</th>\n      <th>MntDrinks</th>\n      <th>MntDesserts</th>\n      <th>MntAdditionalRequests</th>\n      <th>NumOfferPurchases</th>\n      <th>NumAppPurchases</th>\n      <th>NumTakeAwayPurchases</th>\n      <th>NumStorePurchases</th>\n      <th>NumAppVisitsMonth</th>\n      <th>Complain</th>\n      <th>Response_Cmp1</th>\n      <th>Response_Cmp2</th>\n      <th>Response_Cmp3</th>\n      <th>Response_Cmp4</th>\n      <th>Response_Cmp5</th>\n    </tr>\n    <tr>\n      <th>CustomerID</th>\n      <th></th>\n      <th></th>\n      <th></th>\n      <th></th>\n      <th></th>\n      <th></th>\n      <th></th>\n      <th></th>\n      <th></th>\n      <th></th>\n      <th></th>\n      <th></th>\n      <th></th>\n      <th></th>\n      <th></th>\n      <th></th>\n      <th></th>\n      <th></th>\n      <th></th>\n      <th></th>\n      <th></th>\n      <th></th>\n      <th></th>\n      <th></th>\n      <th></th>\n      <th></th>\n    </tr>\n  </thead>\n  <tbody>\n    <tr>\n      <th>14594</th>\n      <td>Miss Leah Lewis</td>\n      <td>1981</td>\n      <td>Graduation</td>\n      <td>Single</td>\n      <td>113947.0</td>\n      <td>0</td>\n      <td>0</td>\n      <td>2021-01-09 00:00:00</td>\n      <td>43.0</td>\n      <td>4640.0</td>\n      <td>3380</td>\n      <td>5700.0</td>\n      <td>2240.0</td>\n      <td>562.0</td>\n      <td>154.0</td>\n      <td>2</td>\n      <td>10</td>\n      <td>7</td>\n      <td>7</td>\n      <td>4</td>\n      <td>0</td>\n      <td>0</td>\n      <td>1</td>\n      <td>0</td>\n      <td>0</td>\n      <td>0</td>\n    </tr>\n    <tr>\n      <th>19070</th>\n      <td>Miss Grace Black</td>\n      <td>1974</td>\n      <td>Graduation</td>\n      <td>Together</td>\n      <td>114297.0</td>\n      <td>0</td>\n      <td>0</td>\n      <td>2021-04-10 00:00:00</td>\n      <td>74.0</td>\n      <td>7080.0</td>\n      <td>3680</td>\n      <td>7620.0</td>\n      <td>1840.0</td>\n      <td>1220.0</td>\n      <td>46.0</td>\n      <td>1</td>\n      <td>5</td>\n      <td>9</td>\n      <td>12</td>\n      <td>2</td>\n      <td>0</td>\n      <td>0</td>\n      <td>0</td>\n      <td>0</td>\n      <td>0</td>\n      <td>0</td>\n    </tr>\n    <tr>\n      <th>29888</th>\n      <td>Mr. Gavin Morrison</td>\n      <td>1960</td>\n      <td>PhD</td>\n      <td>Together</td>\n      <td>115476.0</td>\n      <td>0</td>\n      <td>0</td>\n      <td>2022-01-12 00:00:00</td>\n      <td>85.0</td>\n      <td>4130.0</td>\n      <td>380</td>\n      <td>4890.0</td>\n      <td>3640.0</td>\n      <td>380.0</td>\n      <td>28.0</td>\n      <td>1</td>\n      <td>5</td>\n      <td>5</td>\n      <td>7</td>\n      <td>1</td>\n      <td>0</td>\n      <td>0</td>\n      <td>0</td>\n      <td>0</td>\n      <td>0</td>\n      <td>0</td>\n    </tr>\n  </tbody>\n</table>\n</div>"
     },
     "execution_count": 11,
     "metadata": {},
     "output_type": "execute_result"
    }
   ],
   "source": [
    "df.head(3)"
   ],
   "metadata": {
    "collapsed": false
   }
  },
  {
   "cell_type": "code",
   "execution_count": 12,
   "outputs": [
    {
     "data": {
      "text/plain": "                            Name  Birthyear   Education Marital_Status  \\\nCustomerID                                                               \n29186       Mr. Thomas Churchill       1967         PhD       Together   \n23312         Miss Angela Murray       1989  Graduation         Single   \n15581          Miss Diana Taylor       1960  Graduation         Single   \n\n              Income  Kid_Younger6  Children_6to18       Date_Adherence  \\\nCustomerID                                                                \n29186        56039.0             0               1  2021-12-15 00:00:00   \n23312        44867.0             1               0  2020-11-12 00:00:00   \n15581       124379.0             0               0  2021-02-04 00:00:00   \n\n            Recency  MntMeat&Fish  MntEntries  MntVegan&Vegetarian  MntDrinks  \\\nCustomerID                                                                      \n29186          30.0         540.0           0                135.0        0.0   \n23312           8.0          80.0         120                210.0      120.0   \n15581          80.0        7280.0         422               1692.0     3760.0   \n\n            MntDesserts  MntAdditionalRequests  NumOfferPurchases  \\\nCustomerID                                                          \n29186               0.0                    5.0                  2   \n23312             100.0                   17.0                  1   \n15581            1880.0                  235.0                  1   \n\n            NumAppPurchases  NumTakeAwayPurchases  NumStorePurchases  \\\nCustomerID                                                             \n29186                     3                     1                  4   \n23312                     3                     1                  3   \n15581                     6                    12                 11   \n\n            NumAppVisitsMonth  Complain  Response_Cmp1  Response_Cmp2  \\\nCustomerID                                                              \n29186                       6         0              0              0   \n23312                       8         0              0              0   \n15581                       2         0              0              0   \n\n            Response_Cmp3  Response_Cmp4  Response_Cmp5  \nCustomerID                                               \n29186                   0              0              0  \n23312                   0              0              0  \n15581                   1              1              0  ",
      "text/html": "<div>\n<style scoped>\n    .dataframe tbody tr th:only-of-type {\n        vertical-align: middle;\n    }\n\n    .dataframe tbody tr th {\n        vertical-align: top;\n    }\n\n    .dataframe thead th {\n        text-align: right;\n    }\n</style>\n<table border=\"1\" class=\"dataframe\">\n  <thead>\n    <tr style=\"text-align: right;\">\n      <th></th>\n      <th>Name</th>\n      <th>Birthyear</th>\n      <th>Education</th>\n      <th>Marital_Status</th>\n      <th>Income</th>\n      <th>Kid_Younger6</th>\n      <th>Children_6to18</th>\n      <th>Date_Adherence</th>\n      <th>Recency</th>\n      <th>MntMeat&amp;Fish</th>\n      <th>MntEntries</th>\n      <th>MntVegan&amp;Vegetarian</th>\n      <th>MntDrinks</th>\n      <th>MntDesserts</th>\n      <th>MntAdditionalRequests</th>\n      <th>NumOfferPurchases</th>\n      <th>NumAppPurchases</th>\n      <th>NumTakeAwayPurchases</th>\n      <th>NumStorePurchases</th>\n      <th>NumAppVisitsMonth</th>\n      <th>Complain</th>\n      <th>Response_Cmp1</th>\n      <th>Response_Cmp2</th>\n      <th>Response_Cmp3</th>\n      <th>Response_Cmp4</th>\n      <th>Response_Cmp5</th>\n    </tr>\n    <tr>\n      <th>CustomerID</th>\n      <th></th>\n      <th></th>\n      <th></th>\n      <th></th>\n      <th></th>\n      <th></th>\n      <th></th>\n      <th></th>\n      <th></th>\n      <th></th>\n      <th></th>\n      <th></th>\n      <th></th>\n      <th></th>\n      <th></th>\n      <th></th>\n      <th></th>\n      <th></th>\n      <th></th>\n      <th></th>\n      <th></th>\n      <th></th>\n      <th></th>\n      <th></th>\n      <th></th>\n      <th></th>\n    </tr>\n  </thead>\n  <tbody>\n    <tr>\n      <th>29186</th>\n      <td>Mr. Thomas Churchill</td>\n      <td>1967</td>\n      <td>PhD</td>\n      <td>Together</td>\n      <td>56039.0</td>\n      <td>0</td>\n      <td>1</td>\n      <td>2021-12-15 00:00:00</td>\n      <td>30.0</td>\n      <td>540.0</td>\n      <td>0</td>\n      <td>135.0</td>\n      <td>0.0</td>\n      <td>0.0</td>\n      <td>5.0</td>\n      <td>2</td>\n      <td>3</td>\n      <td>1</td>\n      <td>4</td>\n      <td>6</td>\n      <td>0</td>\n      <td>0</td>\n      <td>0</td>\n      <td>0</td>\n      <td>0</td>\n      <td>0</td>\n    </tr>\n    <tr>\n      <th>23312</th>\n      <td>Miss Angela Murray</td>\n      <td>1989</td>\n      <td>Graduation</td>\n      <td>Single</td>\n      <td>44867.0</td>\n      <td>1</td>\n      <td>0</td>\n      <td>2020-11-12 00:00:00</td>\n      <td>8.0</td>\n      <td>80.0</td>\n      <td>120</td>\n      <td>210.0</td>\n      <td>120.0</td>\n      <td>100.0</td>\n      <td>17.0</td>\n      <td>1</td>\n      <td>3</td>\n      <td>1</td>\n      <td>3</td>\n      <td>8</td>\n      <td>0</td>\n      <td>0</td>\n      <td>0</td>\n      <td>0</td>\n      <td>0</td>\n      <td>0</td>\n    </tr>\n    <tr>\n      <th>15581</th>\n      <td>Miss Diana Taylor</td>\n      <td>1960</td>\n      <td>Graduation</td>\n      <td>Single</td>\n      <td>124379.0</td>\n      <td>0</td>\n      <td>0</td>\n      <td>2021-02-04 00:00:00</td>\n      <td>80.0</td>\n      <td>7280.0</td>\n      <td>422</td>\n      <td>1692.0</td>\n      <td>3760.0</td>\n      <td>1880.0</td>\n      <td>235.0</td>\n      <td>1</td>\n      <td>6</td>\n      <td>12</td>\n      <td>11</td>\n      <td>2</td>\n      <td>0</td>\n      <td>0</td>\n      <td>0</td>\n      <td>1</td>\n      <td>1</td>\n      <td>0</td>\n    </tr>\n  </tbody>\n</table>\n</div>"
     },
     "execution_count": 12,
     "metadata": {},
     "output_type": "execute_result"
    }
   ],
   "source": [
    "df.tail(3)"
   ],
   "metadata": {
    "collapsed": false
   }
  },
  {
   "cell_type": "markdown",
   "source": [
    "Q: To check the basic information of the dataset we've used the `info` method"
   ],
   "metadata": {
    "collapsed": false
   }
  },
  {
   "cell_type": "code",
   "execution_count": 13,
   "outputs": [
    {
     "name": "stdout",
     "output_type": "stream",
     "text": [
      "<class 'pandas.core.frame.DataFrame'>\n",
      "Int64Index: 7000 entries, 14594 to 15581\n",
      "Data columns (total 26 columns):\n",
      " #   Column                 Non-Null Count  Dtype  \n",
      "---  ------                 --------------  -----  \n",
      " 0   Name                   7000 non-null   object \n",
      " 1   Birthyear              7000 non-null   int64  \n",
      " 2   Education              6986 non-null   object \n",
      " 3   Marital_Status         7000 non-null   object \n",
      " 4   Income                 7000 non-null   float64\n",
      " 5   Kid_Younger6           7000 non-null   int64  \n",
      " 6   Children_6to18         7000 non-null   int64  \n",
      " 7   Date_Adherence         7000 non-null   object \n",
      " 8   Recency                6977 non-null   float64\n",
      " 9   MntMeat&Fish           7000 non-null   float64\n",
      " 10  MntEntries             7000 non-null   int64  \n",
      " 11  MntVegan&Vegetarian    7000 non-null   float64\n",
      " 12  MntDrinks              6972 non-null   float64\n",
      " 13  MntDesserts            7000 non-null   float64\n",
      " 14  MntAdditionalRequests  7000 non-null   float64\n",
      " 15  NumOfferPurchases      7000 non-null   int64  \n",
      " 16  NumAppPurchases        7000 non-null   int64  \n",
      " 17  NumTakeAwayPurchases   7000 non-null   int64  \n",
      " 18  NumStorePurchases      7000 non-null   int64  \n",
      " 19  NumAppVisitsMonth      7000 non-null   int64  \n",
      " 20  Complain               7000 non-null   int64  \n",
      " 21  Response_Cmp1          7000 non-null   int64  \n",
      " 22  Response_Cmp2          7000 non-null   int64  \n",
      " 23  Response_Cmp3          7000 non-null   int64  \n",
      " 24  Response_Cmp4          7000 non-null   int64  \n",
      " 25  Response_Cmp5          7000 non-null   int64  \n",
      "dtypes: float64(7), int64(15), object(4)\n",
      "memory usage: 1.4+ MB\n"
     ]
    }
   ],
   "source": [
    "df.info()"
   ],
   "metadata": {
    "collapsed": false
   }
  },
  {
   "cell_type": "markdown",
   "source": [
    ">A: We can observe the data type of the dataset and the how many of features per data type  `dtypes: float64 - (7), int64 - (15), object - (4)`, the memory usage of `1.4+MB`, and the non-null values present per columns. <br>\n",
    "> Using only `info` method we understand that `'Education', 'Recency', 'MntDrinks'` have __14, 23, 28 null values__ that require some action."
   ],
   "metadata": {
    "collapsed": false
   }
  },
  {
   "cell_type": "markdown",
   "source": [
    "# 2.2 Statistical Exploration"
   ],
   "metadata": {
    "collapsed": false
   }
  },
  {
   "cell_type": "markdown",
   "source": [
    "## 2.2.1 Numerical Variables"
   ],
   "metadata": {
    "collapsed": false
   }
  },
  {
   "cell_type": "code",
   "execution_count": 14,
   "outputs": [
    {
     "data": {
      "text/plain": "         Birthyear         Income  Kid_Younger6  Children_6to18      Recency  \\\ncount  7000.000000    7000.000000   7000.000000     7000.000000  6977.000000   \nmean   1976.451429   77988.962407      0.440571        0.490571    49.235058   \nstd      11.996270   35409.810253      0.543477        0.542174    28.922688   \nmin    1948.000000    2493.800000      0.000000        0.000000     0.000000   \n25%    1967.000000   51586.250000      0.000000        0.000000    24.000000   \n50%    1977.000000   77190.000000      0.000000        0.000000    49.000000   \n75%    1985.000000  102016.250000      1.000000        1.000000    74.000000   \nmax    2005.000000  237639.725000      2.000000        2.000000    99.000000   \n\n       MntMeat&Fish   MntEntries  MntVegan&Vegetarian    MntDrinks  \\\ncount   7000.000000  7000.000000          7000.000000  6972.000000   \nmean    3079.523800   534.749429          2785.050786   545.657544   \nstd     3370.377166   787.846684          3908.718244   805.149088   \nmin        0.000000     0.000000             0.000000     0.000000   \n25%      250.000000    40.000000           240.000000    40.000000   \n50%     1820.000000   180.000000          1110.000000   180.000000   \n75%     5070.000000   680.000000          3795.000000   700.000000   \nmax    14980.000000  3980.000000         25974.000000  3980.000000   \n\n       MntDesserts  MntAdditionalRequests  NumOfferPurchases  NumAppPurchases  \\\ncount  7000.000000            7000.000000        7000.000000      7000.000000   \nmean    540.656029              42.556186           2.448429         6.015714   \nstd     802.221866              49.650747           2.306968         2.745537   \nmin       0.000000               0.000000           0.000000         0.000000   \n25%      40.000000               9.000000           1.000000         4.000000   \n50%     180.000000              24.000000           2.000000         6.000000   \n75%     680.000000              57.000000           3.000000         8.000000   \nmax    3980.000000             249.000000          16.000000        13.000000   \n\n       NumTakeAwayPurchases  NumStorePurchases  NumAppVisitsMonth  \\\ncount           7000.000000        7000.000000        7000.000000   \nmean               3.834571           5.790571           5.278286   \nstd                3.331142           3.295708           2.748596   \nmin                0.000000           0.000000           0.000000   \n25%                1.000000           3.000000           3.000000   \n50%                3.000000           5.000000           5.000000   \n75%                5.000000           8.000000           7.000000   \nmax               24.000000          13.000000          20.000000   \n\n          Complain  Response_Cmp1  Response_Cmp2  Response_Cmp3  \\\ncount  7000.000000    7000.000000    7000.000000    7000.000000   \nmean      0.010286       0.079143       0.073286       0.083000   \nstd       0.100903       0.269981       0.260624       0.275902   \nmin       0.000000       0.000000       0.000000       0.000000   \n25%       0.000000       0.000000       0.000000       0.000000   \n50%       0.000000       0.000000       0.000000       0.000000   \n75%       0.000000       0.000000       0.000000       0.000000   \nmax       1.000000       1.000000       1.000000       1.000000   \n\n       Response_Cmp4  Response_Cmp5  \ncount    7000.000000    7000.000000  \nmean        0.065857       0.014286  \nstd         0.248050       0.118675  \nmin         0.000000       0.000000  \n25%         0.000000       0.000000  \n50%         0.000000       0.000000  \n75%         0.000000       0.000000  \nmax         1.000000       1.000000  ",
      "text/html": "<div>\n<style scoped>\n    .dataframe tbody tr th:only-of-type {\n        vertical-align: middle;\n    }\n\n    .dataframe tbody tr th {\n        vertical-align: top;\n    }\n\n    .dataframe thead th {\n        text-align: right;\n    }\n</style>\n<table border=\"1\" class=\"dataframe\">\n  <thead>\n    <tr style=\"text-align: right;\">\n      <th></th>\n      <th>Birthyear</th>\n      <th>Income</th>\n      <th>Kid_Younger6</th>\n      <th>Children_6to18</th>\n      <th>Recency</th>\n      <th>MntMeat&amp;Fish</th>\n      <th>MntEntries</th>\n      <th>MntVegan&amp;Vegetarian</th>\n      <th>MntDrinks</th>\n      <th>MntDesserts</th>\n      <th>MntAdditionalRequests</th>\n      <th>NumOfferPurchases</th>\n      <th>NumAppPurchases</th>\n      <th>NumTakeAwayPurchases</th>\n      <th>NumStorePurchases</th>\n      <th>NumAppVisitsMonth</th>\n      <th>Complain</th>\n      <th>Response_Cmp1</th>\n      <th>Response_Cmp2</th>\n      <th>Response_Cmp3</th>\n      <th>Response_Cmp4</th>\n      <th>Response_Cmp5</th>\n    </tr>\n  </thead>\n  <tbody>\n    <tr>\n      <th>count</th>\n      <td>7000.000000</td>\n      <td>7000.000000</td>\n      <td>7000.000000</td>\n      <td>7000.000000</td>\n      <td>6977.000000</td>\n      <td>7000.000000</td>\n      <td>7000.000000</td>\n      <td>7000.000000</td>\n      <td>6972.000000</td>\n      <td>7000.000000</td>\n      <td>7000.000000</td>\n      <td>7000.000000</td>\n      <td>7000.000000</td>\n      <td>7000.000000</td>\n      <td>7000.000000</td>\n      <td>7000.000000</td>\n      <td>7000.000000</td>\n      <td>7000.000000</td>\n      <td>7000.000000</td>\n      <td>7000.000000</td>\n      <td>7000.000000</td>\n      <td>7000.000000</td>\n    </tr>\n    <tr>\n      <th>mean</th>\n      <td>1976.451429</td>\n      <td>77988.962407</td>\n      <td>0.440571</td>\n      <td>0.490571</td>\n      <td>49.235058</td>\n      <td>3079.523800</td>\n      <td>534.749429</td>\n      <td>2785.050786</td>\n      <td>545.657544</td>\n      <td>540.656029</td>\n      <td>42.556186</td>\n      <td>2.448429</td>\n      <td>6.015714</td>\n      <td>3.834571</td>\n      <td>5.790571</td>\n      <td>5.278286</td>\n      <td>0.010286</td>\n      <td>0.079143</td>\n      <td>0.073286</td>\n      <td>0.083000</td>\n      <td>0.065857</td>\n      <td>0.014286</td>\n    </tr>\n    <tr>\n      <th>std</th>\n      <td>11.996270</td>\n      <td>35409.810253</td>\n      <td>0.543477</td>\n      <td>0.542174</td>\n      <td>28.922688</td>\n      <td>3370.377166</td>\n      <td>787.846684</td>\n      <td>3908.718244</td>\n      <td>805.149088</td>\n      <td>802.221866</td>\n      <td>49.650747</td>\n      <td>2.306968</td>\n      <td>2.745537</td>\n      <td>3.331142</td>\n      <td>3.295708</td>\n      <td>2.748596</td>\n      <td>0.100903</td>\n      <td>0.269981</td>\n      <td>0.260624</td>\n      <td>0.275902</td>\n      <td>0.248050</td>\n      <td>0.118675</td>\n    </tr>\n    <tr>\n      <th>min</th>\n      <td>1948.000000</td>\n      <td>2493.800000</td>\n      <td>0.000000</td>\n      <td>0.000000</td>\n      <td>0.000000</td>\n      <td>0.000000</td>\n      <td>0.000000</td>\n      <td>0.000000</td>\n      <td>0.000000</td>\n      <td>0.000000</td>\n      <td>0.000000</td>\n      <td>0.000000</td>\n      <td>0.000000</td>\n      <td>0.000000</td>\n      <td>0.000000</td>\n      <td>0.000000</td>\n      <td>0.000000</td>\n      <td>0.000000</td>\n      <td>0.000000</td>\n      <td>0.000000</td>\n      <td>0.000000</td>\n      <td>0.000000</td>\n    </tr>\n    <tr>\n      <th>25%</th>\n      <td>1967.000000</td>\n      <td>51586.250000</td>\n      <td>0.000000</td>\n      <td>0.000000</td>\n      <td>24.000000</td>\n      <td>250.000000</td>\n      <td>40.000000</td>\n      <td>240.000000</td>\n      <td>40.000000</td>\n      <td>40.000000</td>\n      <td>9.000000</td>\n      <td>1.000000</td>\n      <td>4.000000</td>\n      <td>1.000000</td>\n      <td>3.000000</td>\n      <td>3.000000</td>\n      <td>0.000000</td>\n      <td>0.000000</td>\n      <td>0.000000</td>\n      <td>0.000000</td>\n      <td>0.000000</td>\n      <td>0.000000</td>\n    </tr>\n    <tr>\n      <th>50%</th>\n      <td>1977.000000</td>\n      <td>77190.000000</td>\n      <td>0.000000</td>\n      <td>0.000000</td>\n      <td>49.000000</td>\n      <td>1820.000000</td>\n      <td>180.000000</td>\n      <td>1110.000000</td>\n      <td>180.000000</td>\n      <td>180.000000</td>\n      <td>24.000000</td>\n      <td>2.000000</td>\n      <td>6.000000</td>\n      <td>3.000000</td>\n      <td>5.000000</td>\n      <td>5.000000</td>\n      <td>0.000000</td>\n      <td>0.000000</td>\n      <td>0.000000</td>\n      <td>0.000000</td>\n      <td>0.000000</td>\n      <td>0.000000</td>\n    </tr>\n    <tr>\n      <th>75%</th>\n      <td>1985.000000</td>\n      <td>102016.250000</td>\n      <td>1.000000</td>\n      <td>1.000000</td>\n      <td>74.000000</td>\n      <td>5070.000000</td>\n      <td>680.000000</td>\n      <td>3795.000000</td>\n      <td>700.000000</td>\n      <td>680.000000</td>\n      <td>57.000000</td>\n      <td>3.000000</td>\n      <td>8.000000</td>\n      <td>5.000000</td>\n      <td>8.000000</td>\n      <td>7.000000</td>\n      <td>0.000000</td>\n      <td>0.000000</td>\n      <td>0.000000</td>\n      <td>0.000000</td>\n      <td>0.000000</td>\n      <td>0.000000</td>\n    </tr>\n    <tr>\n      <th>max</th>\n      <td>2005.000000</td>\n      <td>237639.725000</td>\n      <td>2.000000</td>\n      <td>2.000000</td>\n      <td>99.000000</td>\n      <td>14980.000000</td>\n      <td>3980.000000</td>\n      <td>25974.000000</td>\n      <td>3980.000000</td>\n      <td>3980.000000</td>\n      <td>249.000000</td>\n      <td>16.000000</td>\n      <td>13.000000</td>\n      <td>24.000000</td>\n      <td>13.000000</td>\n      <td>20.000000</td>\n      <td>1.000000</td>\n      <td>1.000000</td>\n      <td>1.000000</td>\n      <td>1.000000</td>\n      <td>1.000000</td>\n      <td>1.000000</td>\n    </tr>\n  </tbody>\n</table>\n</div>"
     },
     "execution_count": 14,
     "metadata": {},
     "output_type": "execute_result"
    }
   ],
   "source": [
    "df.describe()"
   ],
   "metadata": {
    "collapsed": false
   }
  },
  {
   "cell_type": "markdown",
   "source": [
    "> _The describe return we can get a first glance and make some conclusion:_\n",
    "\n",
    ">__Birthyear__ - could originate an Age column for readability purposes<br>\n",
    "__Income__ - Min and Max are very far from each other and far from the mean value which could indicate outliers<br>\n",
    "__Recency__ - 6977 valid values, hence we should look in deep and decide on how to minimize that effect of missing values<br>\n",
    "__MntMeat&Fish__ - Min and Max are distant from each other and have high standard deviation which could effect some future conclusion<br>\n",
    "__MntEntries__ - Again has high standard deviation that we should analyze, Min and Max far apart, similar to MntMeat&Fish<br>\n",
    "__MntVegan&Vegetarian__ - Similar to the previous two Mnt columns<br>\n",
    "__MntDrinks, MntDesserts__ - Seems to be very similar between them<br>\n",
    "__MntAdditionalRequests__ - The max value standard deviation seems high and also the max value very far apart from the mean<br>\n",
    "__NumOfferPurchases, NumTakeAwayPurchases, NumAppVisitsMonth__  - Have a max value to distante from the mean that could be true but we need to take into account<br>\n",
    "__NumAppPurchases, SumStorePurchases__ - Seems does not have strange summary statistcs<br>\n",
    "__Kid_Younger6, Children_6to18__ - 75% of clients have at least one child"
   ],
   "metadata": {
    "collapsed": false
   }
  },
  {
   "cell_type": "markdown",
   "source": [
    "**Q**: Skewness of each variable "
   ],
   "metadata": {
    "collapsed": false
   }
  },
  {
   "cell_type": "code",
   "execution_count": 15,
   "outputs": [
    {
     "name": "stderr",
     "output_type": "stream",
     "text": [
      "/var/folders/gt/lg95g0n95mqdr3vk5d1k062h0000gn/T/ipykernel_46506/547062910.py:1: FutureWarning: Dropping of nuisance columns in DataFrame reductions (with 'numeric_only=None') is deprecated; in a future version this will raise TypeError.  Select only valid columns before calling the reduction.\n",
      "  df.skew()\n"
     ]
    },
    {
     "data": {
      "text/plain": "Birthyear               -0.092478\nIncome                   0.844721\nKid_Younger6             0.693587\nChildren_6to18           0.451693\nRecency                  0.017676\nMntMeat&Fish             1.148862\nMntEntries               2.087220\nMntVegan&Vegetarian      2.486897\nMntDrinks                2.046308\nMntDesserts              2.057811\nMntAdditionalRequests    1.826522\nNumOfferPurchases        2.860514\nNumAppPurchases          0.525873\nNumTakeAwayPurchases     2.254158\nNumStorePurchases        0.623254\nNumAppVisitsMonth        1.005192\nComplain                 9.709429\nResponse_Cmp1            3.118572\nResponse_Cmp2            3.275500\nResponse_Cmp3            3.023677\nResponse_Cmp4            3.501448\nResponse_Cmp5            8.187993\ndtype: float64"
     },
     "execution_count": 15,
     "metadata": {},
     "output_type": "execute_result"
    }
   ],
   "source": [
    "df.skew()"
   ],
   "metadata": {
    "collapsed": false
   }
  },
  {
   "cell_type": "markdown",
   "source": [
    "Concerning the variables' skewness, we can conclude the following:\n",
    "- `Moderate skewness (between |0.5| and |1.0|)`: Birthyear, Income, Kid_Younger6, Children_6to18, Recency, NumAppPurchases, NumStorePurchases, NumAppVisitsMonth\n",
    "- `High skewness (higher than |1.0|)`: MntMeat&Fish, MntEntries, MntVegan&Vegetarian, MntDrinks, MntDesserts, MntAdditionalRequests, NumOfferPurchases, NumTakeAwayPurchases, Complain, Response_Cmp1, Response_Cmp2, Response_Cmp3, Response_Cmp4, Response_Cmp5"
   ],
   "metadata": {
    "collapsed": false
   }
  },
  {
   "cell_type": "code",
   "execution_count": 16,
   "outputs": [
    {
     "name": "stderr",
     "output_type": "stream",
     "text": [
      "/var/folders/gt/lg95g0n95mqdr3vk5d1k062h0000gn/T/ipykernel_46506/3952544226.py:1: FutureWarning: Dropping of nuisance columns in DataFrame reductions (with 'numeric_only=None') is deprecated; in a future version this will raise TypeError.  Select only valid columns before calling the reduction.\n",
      "  df.kurt()\n"
     ]
    },
    {
     "data": {
      "text/plain": "Birthyear                -0.857341\nIncome                    2.649035\nKid_Younger6             -0.651127\nChildren_6to18           -0.973333\nRecency                  -1.197978\nMntMeat&Fish              0.532098\nMntEntries                4.096167\nMntVegan&Vegetarian       8.431538\nMntDrinks                 3.839256\nMntDesserts               3.813464\nMntAdditionalRequests     3.084190\nNumOfferPurchases        10.997946\nNumAppPurchases          -0.222899\nNumTakeAwayPurchases      8.582138\nNumStorePurchases        -0.694327\nNumAppVisitsMonth         4.992870\nComplain                 92.299387\nResponse_Cmp1             7.727700\nResponse_Cmp2             8.731398\nResponse_Cmp3             7.144665\nResponse_Cmp4            10.263068\nResponse_Cmp5            65.061813\ndtype: float64"
     },
     "execution_count": 16,
     "metadata": {},
     "output_type": "execute_result"
    }
   ],
   "source": [
    "df.kurt()"
   ],
   "metadata": {
    "collapsed": false
   }
  },
  {
   "cell_type": "markdown",
   "source": [
    "Features with kurtosis higher than 3 could indicate presence of outliers, hence we should have special considerantion with the following features:\n",
    ">MntEntries, MntVegan&Vegetarian, MntDrinks, MntDesserts, NumOfferPurchases, NumAppVisitsMonth\n",
    "\n",
    "Note: Binomial Variables Complain, and Response_Cmp1 the kurtosis we will not consider as outliers"
   ],
   "metadata": {
    "collapsed": false
   }
  },
  {
   "cell_type": "markdown",
   "source": [
    "## 2.2.2 Categorical Values"
   ],
   "metadata": {
    "collapsed": false
   }
  },
  {
   "cell_type": "code",
   "execution_count": 17,
   "outputs": [
    {
     "data": {
      "text/plain": "                     Name   Education Marital_Status       Date_Adherence\ncount                7000        6986           7000                 7000\nunique               6241           9             10                  701\ntop     Mr. Stewart Grant  Graduation        Married  2020-09-19 00:00:00\nfreq                    3        3497           2830                   23",
      "text/html": "<div>\n<style scoped>\n    .dataframe tbody tr th:only-of-type {\n        vertical-align: middle;\n    }\n\n    .dataframe tbody tr th {\n        vertical-align: top;\n    }\n\n    .dataframe thead th {\n        text-align: right;\n    }\n</style>\n<table border=\"1\" class=\"dataframe\">\n  <thead>\n    <tr style=\"text-align: right;\">\n      <th></th>\n      <th>Name</th>\n      <th>Education</th>\n      <th>Marital_Status</th>\n      <th>Date_Adherence</th>\n    </tr>\n  </thead>\n  <tbody>\n    <tr>\n      <th>count</th>\n      <td>7000</td>\n      <td>6986</td>\n      <td>7000</td>\n      <td>7000</td>\n    </tr>\n    <tr>\n      <th>unique</th>\n      <td>6241</td>\n      <td>9</td>\n      <td>10</td>\n      <td>701</td>\n    </tr>\n    <tr>\n      <th>top</th>\n      <td>Mr. Stewart Grant</td>\n      <td>Graduation</td>\n      <td>Married</td>\n      <td>2020-09-19 00:00:00</td>\n    </tr>\n    <tr>\n      <th>freq</th>\n      <td>3</td>\n      <td>3497</td>\n      <td>2830</td>\n      <td>23</td>\n    </tr>\n  </tbody>\n</table>\n</div>"
     },
     "execution_count": 17,
     "metadata": {},
     "output_type": "execute_result"
    }
   ],
   "source": [
    "df.describe(include = object)"
   ],
   "metadata": {
    "collapsed": false
   }
  },
  {
   "cell_type": "markdown",
   "source": [
    "> We can conclude that the education as **14 missing** values"
   ],
   "metadata": {
    "collapsed": false
   }
  },
  {
   "cell_type": "markdown",
   "source": [
    "#### Level/Possible values of Categorical Features"
   ],
   "metadata": {
    "collapsed": false
   }
  },
  {
   "cell_type": "markdown",
   "source": [
    "### `Name` prefix unique values and count"
   ],
   "metadata": {
    "collapsed": false
   }
  },
  {
   "cell_type": "code",
   "execution_count": 18,
   "outputs": [
    {
     "data": {
      "text/plain": "Mr.     5133\nMiss    1469\nMrs.     398\nName: 0, dtype: int64"
     },
     "execution_count": 18,
     "metadata": {},
     "output_type": "execute_result"
    }
   ],
   "source": [
    "df['Name'].str.partition(\" \")[0].value_counts()"
   ],
   "metadata": {
    "collapsed": false
   }
  },
  {
   "cell_type": "markdown",
   "source": [
    "With the prefix we can generate a `gender` feature to further explore the dataset. We will deal with that in the data transformation capther"
   ],
   "metadata": {
    "collapsed": false
   }
  },
  {
   "cell_type": "markdown",
   "source": [
    "#### **`Gender`** feature creation"
   ],
   "metadata": {
    "collapsed": false
   }
  },
  {
   "cell_type": "code",
   "execution_count": 19,
   "outputs": [],
   "source": [
    "df[\"Gender\"] = df['Name'].str.partition(\" \")[0]\n",
    "df = df.replace({\"Gender\":{\"Mr.\": 1,\"Miss\": 0,\"Mrs.\": 0}})"
   ],
   "metadata": {
    "collapsed": false
   }
  },
  {
   "cell_type": "markdown",
   "source": [
    "### `Education` unique values and count"
   ],
   "metadata": {
    "collapsed": false
   }
  },
  {
   "cell_type": "code",
   "execution_count": 20,
   "outputs": [
    {
     "data": {
      "text/plain": "Graduation    3497\nPhD           1494\nMaster        1135\nHighSchool     663\nBasic          179\nmaster           7\ngraduation       7\nphd              2\nhighschool       2\nName: Education, dtype: int64"
     },
     "execution_count": 20,
     "metadata": {},
     "output_type": "execute_result"
    }
   ],
   "source": [
    "df[\"Education\"].value_counts()"
   ],
   "metadata": {
    "collapsed": false
   }
  },
  {
   "cell_type": "markdown",
   "source": [
    "We have some issues that will need trasformatioin:<br>\n",
    "- Graduation, Master, HighSchool are written in different ways<br>\n",
    "- `Basic` and `HighSchool` need different levels?"
   ],
   "metadata": {
    "collapsed": false
   }
  },
  {
   "cell_type": "markdown",
   "source": [
    "#### Education standardization"
   ],
   "metadata": {
    "collapsed": false
   }
  },
  {
   "cell_type": "code",
   "execution_count": 21,
   "outputs": [],
   "source": [
    "df = df.replace({\"Education\":{\"master\":\"Master\", \"graduation\":\"Graduation\", \"phd\":\"PhD\",\"highschool\":\"HighSchool\"}})"
   ],
   "metadata": {
    "collapsed": false
   }
  },
  {
   "cell_type": "markdown",
   "source": [
    "### `Marital_Status` unique values and count"
   ],
   "metadata": {
    "collapsed": false
   }
  },
  {
   "cell_type": "code",
   "execution_count": 22,
   "outputs": [
    {
     "data": {
      "text/plain": "Married     2830\nTogether    1683\nSingle      1525\nDivorced     637\nWidow        243\nmarried       36\ntogether      23\nsingle        13\ndivorced       8\nwidow          2\nName: Marital_Status, dtype: int64"
     },
     "execution_count": 22,
     "metadata": {},
     "output_type": "execute_result"
    }
   ],
   "source": [
    "df[\"Marital_Status\"].value_counts()"
   ],
   "metadata": {
    "collapsed": false
   }
  },
  {
   "cell_type": "markdown",
   "source": [
    "Similarly to previous feature we also have some issues that need transformation:<br>\n",
    "- Married, Together, Single, Divorced and Widow are written with lower and capital letters\n",
    "- We could also consider that Married and Together are similar and joined them in the same level<br>"
   ],
   "metadata": {
    "collapsed": false
   }
  },
  {
   "cell_type": "markdown",
   "source": [
    "#### Marital_Status standardization"
   ],
   "metadata": {
    "collapsed": false
   }
  },
  {
   "cell_type": "code",
   "execution_count": 23,
   "outputs": [
    {
     "data": {
      "text/plain": "Married     4572\nSingle      1538\nDivorced     645\nWidow        245\nName: Marital_Status, dtype: int64"
     },
     "execution_count": 23,
     "metadata": {},
     "output_type": "execute_result"
    }
   ],
   "source": [
    "df = df.replace({\"Marital_Status\":{\"married\":\"Married\", \"together\":\"Married\", \"single\":\"Single\",\"widow\":\"Widow\",\"divorced\":\"Divorced\",\"Together\":\"Married\"}})\n",
    "df[\"Marital_Status\"].value_counts()"
   ],
   "metadata": {
    "collapsed": false
   }
  },
  {
   "cell_type": "markdown",
   "source": [
    "`Date_Adherence` unqiue values and count"
   ],
   "metadata": {
    "collapsed": false
   }
  },
  {
   "cell_type": "code",
   "execution_count": 24,
   "outputs": [
    {
     "data": {
      "text/plain": "2020-09-19    23\n2021-08-22    20\n2021-07-30    20\n2022-05-23    20\n2021-08-21    19\n              ..\n2021-03-09     3\n2020-09-18     2\n2020-07-30     2\n2020-08-29     2\n2021-03-22     2\nName: Date_Adherence, Length: 701, dtype: int64"
     },
     "execution_count": 24,
     "metadata": {},
     "output_type": "execute_result"
    }
   ],
   "source": [
    "df[\"Date_Adherence\"].value_counts()"
   ],
   "metadata": {
    "collapsed": false
   }
  },
  {
   "cell_type": "markdown",
   "source": [
    "`Date_Adherence` is a date and will need transformation to a date format for further exploration"
   ],
   "metadata": {
    "collapsed": false
   }
  },
  {
   "cell_type": "markdown",
   "source": [
    "## 2.3 Visual Exploration"
   ],
   "metadata": {
    "collapsed": false
   }
  },
  {
   "cell_type": "markdown",
   "source": [
    "### 2.3.1 Numerical Variables"
   ],
   "metadata": {
    "collapsed": false
   }
  },
  {
   "cell_type": "markdown",
   "source": [
    "## 2.4. In-Depth Exploration"
   ],
   "metadata": {
    "collapsed": false
   }
  },
  {
   "cell_type": "code",
   "execution_count": 24,
   "outputs": [],
   "source": [],
   "metadata": {
    "collapsed": false
   }
  },
  {
   "cell_type": "markdown",
   "source": [
    "# 3. Preprocess Data"
   ],
   "metadata": {
    "collapsed": false
   }
  },
  {
   "cell_type": "markdown",
   "source": [
    "## 3.1. Data Cleaning"
   ],
   "metadata": {
    "collapsed": false
   }
  },
  {
   "cell_type": "markdown",
   "source": [
    "### 3.1.1. Outliers"
   ],
   "metadata": {
    "collapsed": false
   }
  },
  {
   "cell_type": "markdown",
   "source": [],
   "metadata": {
    "collapsed": false
   }
  },
  {
   "cell_type": "code",
   "execution_count": 25,
   "outputs": [],
   "source": [
    "#fig, (ax1, ax2) = plt.subplots(1, 2, figsize = (10, 5))\n",
    "#ax1.boxplot(df['MntVegan&Vegetarian'])\n",
    "#ax2.boxplot(df['Income'])"
   ],
   "metadata": {
    "collapsed": false
   }
  },
  {
   "cell_type": "code",
   "execution_count": 26,
   "outputs": [],
   "source": [
    "df.drop(df[abs(zscore(df['MntVegan&Vegetarian'])) > 3].index, inplace=True) #TODO verificar condiçoes de filtraçao de outliers, meter depois das incoherencies\n",
    "df.drop(df[abs(zscore(df['Income'])) > 3].index, inplace=True)"
   ],
   "metadata": {
    "collapsed": false
   }
  },
  {
   "cell_type": "code",
   "execution_count": 27,
   "outputs": [],
   "source": [
    "#fig, (ax1, ax2) = plt.subplots(1, 2, figsize = (10, 5))\n",
    "#ax1.boxplot(df['MntVegan&Vegetarian'])\n",
    "#ax2.boxplot(df['Income'])"
   ],
   "metadata": {
    "collapsed": false
   }
  },
  {
   "cell_type": "markdown",
   "source": [
    "## 3.1.2 Skewness Correction"
   ],
   "metadata": {
    "collapsed": false
   }
  },
  {
   "cell_type": "code",
   "execution_count": 28,
   "outputs": [],
   "source": [
    "# df['MntMeat&Fish'] = df['MntMeat&Fish'].apply(lambda x: np.log10(x+1))\n",
    "# df['MntVegan&Vegetarian'] = df['MntVegan&Vegetarian'].apply(lambda x: np.log10(x+1))\n",
    "# df['MntEntries'] = df['MntEntries'].apply(lambda x: np.log10(x+1))\n",
    "# df['MntDrinks'] = df['MntDrinks'].apply(lambda x: np.log10(x+1)) #TODO Ver se o sklearn nao tem funçao para fazer isto. ver sklearn.preprocessing, meter depois de outliers/incoherencies\n",
    "# df['MntDesserts'] = df['MntDesserts'].apply(lambda x: np.log10(x+1))\n",
    "# df['MntAdditionalRequests'] = df['MntAdditionalRequests'].apply(lambda x: np.log10(x+1))\n",
    "# df['NumOfferPurchases'] = df['NumOfferPurchases'].apply(lambda x: np.log10(x+1))\n",
    "# df['NumTakeAwayPurchases'] = df['NumTakeAwayPurchases'].apply(lambda x: np.log10(x+1))\n",
    "# df['Complain'] = df['Complain'].apply(lambda x: np.log10(x+1))\n",
    "# df['Response_Cmp1'] = df['Response_Cmp1'].apply(lambda x: np.log10(x+1))\n",
    "# df['Response_Cmp2'] = df['Response_Cmp2'].apply(lambda x: np.log10(x+1))\n",
    "# df['Response_Cmp3'] = df['Response_Cmp3'].apply(lambda x: np.log10(x+1))\n",
    "# df['Response_Cmp4'] = df['Response_Cmp4'].apply(lambda x: np.log10(x+1))\n",
    "# df['Response_Cmp5'] = df['Response_Cmp5'].apply(lambda x: np.log10(x+1))"
   ],
   "metadata": {
    "collapsed": false
   }
  },
  {
   "cell_type": "markdown",
   "metadata": {
    "collapsed": false
   },
   "source": [
    "### 3.1.2. Missing Values"
   ]
  },
  {
   "cell_type": "code",
   "execution_count": 29,
   "metadata": {
    "collapsed": false
   },
   "outputs": [
    {
     "data": {
      "text/plain": "True"
     },
     "execution_count": 29,
     "metadata": {},
     "output_type": "execute_result"
    }
   ],
   "source": [
    "Response_is_null = df[\"Response_Cmp1\"].isna().sum() + df[\"Response_Cmp2\"].isna().sum() + df[\"Response_Cmp3\"].isna().sum() + df[\"Response_Cmp4\"].isna().sum()\n",
    "Response_is_null == 0"
   ]
  },
  {
   "cell_type": "code",
   "execution_count": 30,
   "metadata": {
    "collapsed": false
   },
   "outputs": [
    {
     "name": "stdout",
     "output_type": "stream",
     "text": [
      "<class 'pandas.core.frame.DataFrame'>\n",
      "Int64Index: 6884 entries, 14594 to 15581\n",
      "Data columns (total 27 columns):\n",
      " #   Column                 Non-Null Count  Dtype  \n",
      "---  ------                 --------------  -----  \n",
      " 0   Name                   6884 non-null   object \n",
      " 1   Birthyear              6884 non-null   int64  \n",
      " 2   Education              6870 non-null   object \n",
      " 3   Marital_Status         6884 non-null   object \n",
      " 4   Income                 6884 non-null   float64\n",
      " 5   Kid_Younger6           6884 non-null   int64  \n",
      " 6   Children_6to18         6884 non-null   int64  \n",
      " 7   Date_Adherence         6884 non-null   object \n",
      " 8   Recency                6861 non-null   float64\n",
      " 9   MntMeat&Fish           6884 non-null   float64\n",
      " 10  MntEntries             6884 non-null   int64  \n",
      " 11  MntVegan&Vegetarian    6884 non-null   float64\n",
      " 12  MntDrinks              6856 non-null   float64\n",
      " 13  MntDesserts            6884 non-null   float64\n",
      " 14  MntAdditionalRequests  6884 non-null   float64\n",
      " 15  NumOfferPurchases      6884 non-null   int64  \n",
      " 16  NumAppPurchases        6884 non-null   int64  \n",
      " 17  NumTakeAwayPurchases   6884 non-null   int64  \n",
      " 18  NumStorePurchases      6884 non-null   int64  \n",
      " 19  NumAppVisitsMonth      6884 non-null   int64  \n",
      " 20  Complain               6884 non-null   int64  \n",
      " 21  Response_Cmp1          6884 non-null   int64  \n",
      " 22  Response_Cmp2          6884 non-null   int64  \n",
      " 23  Response_Cmp3          6884 non-null   int64  \n",
      " 24  Response_Cmp4          6884 non-null   int64  \n",
      " 25  Response_Cmp5          6884 non-null   int64  \n",
      " 26  Gender                 6884 non-null   int64  \n",
      "dtypes: float64(7), int64(16), object(4)\n",
      "memory usage: 1.5+ MB\n"
     ]
    }
   ],
   "source": [
    "df.info()"
   ]
  },
  {
   "cell_type": "code",
   "execution_count": 31,
   "metadata": {
    "collapsed": false
   },
   "outputs": [
    {
     "data": {
      "text/plain": "Name                      0\nBirthyear                 0\nEducation                14\nMarital_Status            0\nIncome                    0\nKid_Younger6              0\nChildren_6to18            0\nDate_Adherence            0\nRecency                  23\nMntMeat&Fish              0\nMntEntries                0\nMntVegan&Vegetarian       0\nMntDrinks                28\nMntDesserts               0\nMntAdditionalRequests     0\nNumOfferPurchases         0\nNumAppPurchases           0\nNumTakeAwayPurchases      0\nNumStorePurchases         0\nNumAppVisitsMonth         0\nComplain                  0\nResponse_Cmp1             0\nResponse_Cmp2             0\nResponse_Cmp3             0\nResponse_Cmp4             0\nResponse_Cmp5             0\nGender                    0\ndtype: int64"
     },
     "execution_count": 31,
     "metadata": {},
     "output_type": "execute_result"
    }
   ],
   "source": [
    "df.isna().sum()"
   ]
  },
  {
   "cell_type": "markdown",
   "metadata": {
    "collapsed": false
   },
   "source": [
    "- **`Education`**, **`Recency`**, **`MntDrinks`** and **`MntTotal`** (due to dependancy of `MntDrinks`) have missing values"
   ]
  },
  {
   "cell_type": "markdown",
   "metadata": {
    "collapsed": false
   },
   "source": [
    "#### Filling the missing values"
   ]
  },
  {
   "cell_type": "markdown",
   "metadata": {
    "collapsed": false
   },
   "source": [
    "Fill `Education` with the mode"
   ]
  },
  {
   "cell_type": "code",
   "execution_count": 32,
   "metadata": {
    "collapsed": false
   },
   "outputs": [],
   "source": [
    "df[\"Education\"].fillna(df[\"Education\"].mode()[0], inplace = True)"
   ]
  },
  {
   "cell_type": "markdown",
   "metadata": {
    "collapsed": false
   },
   "source": [
    "Fill `Recency` with the median value"
   ]
  },
  {
   "cell_type": "code",
   "execution_count": 33,
   "metadata": {
    "collapsed": false
   },
   "outputs": [],
   "source": [
    "df[\"Recency\"].fillna(df[\"Recency\"].mean(), inplace = True)"
   ]
  },
  {
   "cell_type": "code",
   "execution_count": 34,
   "outputs": [],
   "source": [
    "df_mnt = df[[ 'MntMeat&Fish', 'MntEntries', 'MntVegan&Vegetarian', 'MntDrinks',\n",
    "       'MntDesserts', 'MntAdditionalRequests']]\n",
    "\n",
    "imputer = KNNImputer(n_neighbors=3)\n",
    "array_impute = imputer.fit_transform(df_mnt)\n",
    "df_mnt = pd.DataFrame(array_impute, columns = df_mnt.columns)"
   ],
   "metadata": {
    "collapsed": false
   }
  },
  {
   "cell_type": "code",
   "execution_count": 35,
   "metadata": {
    "collapsed": false
   },
   "outputs": [],
   "source": [
    "df[\"MntDrinks\"] = df_mnt[\"MntDrinks\"].values"
   ]
  },
  {
   "cell_type": "code",
   "execution_count": 36,
   "metadata": {
    "collapsed": false
   },
   "outputs": [
    {
     "data": {
      "text/plain": "Name                     0\nBirthyear                0\nEducation                0\nMarital_Status           0\nIncome                   0\nKid_Younger6             0\nChildren_6to18           0\nDate_Adherence           0\nRecency                  0\nMntMeat&Fish             0\nMntEntries               0\nMntVegan&Vegetarian      0\nMntDrinks                0\nMntDesserts              0\nMntAdditionalRequests    0\nNumOfferPurchases        0\nNumAppPurchases          0\nNumTakeAwayPurchases     0\nNumStorePurchases        0\nNumAppVisitsMonth        0\nComplain                 0\nResponse_Cmp1            0\nResponse_Cmp2            0\nResponse_Cmp3            0\nResponse_Cmp4            0\nResponse_Cmp5            0\nGender                   0\ndtype: int64"
     },
     "execution_count": 36,
     "metadata": {},
     "output_type": "execute_result"
    }
   ],
   "source": [
    "df.isna().sum()"
   ]
  },
  {
   "cell_type": "markdown",
   "metadata": {
    "collapsed": false
   },
   "source": [
    "## 3.2. Data Transformation"
   ]
  },
  {
   "cell_type": "markdown",
   "metadata": {
    "collapsed": false
   },
   "source": [
    "### 3.2.1. Create new Variables"
   ]
  },
  {
   "cell_type": "markdown",
   "metadata": {
    "collapsed": false
   },
   "source": [
    "### Utils"
   ]
  },
  {
   "cell_type": "markdown",
   "metadata": {
    "collapsed": false
   },
   "source": [
    "#### Creating Age variable from the Birthyear"
   ]
  },
  {
   "cell_type": "code",
   "execution_count": 37,
   "metadata": {
    "collapsed": false
   },
   "outputs": [],
   "source": [
    "df['Age'] = df.Birthyear.apply(lambda x: date.today().year-x)"
   ]
  },
  {
   "cell_type": "code",
   "execution_count": 38,
   "outputs": [],
   "source": [
    "df.drop('Birthyear', axis= 1, inplace = True)"
   ],
   "metadata": {
    "collapsed": false
   }
  },
  {
   "cell_type": "markdown",
   "source": [
    "#### Creating card adherence age variable from the Date adherence"
   ],
   "metadata": {
    "collapsed": false
   }
  },
  {
   "cell_type": "code",
   "execution_count": 39,
   "metadata": {
    "collapsed": false
   },
   "outputs": [],
   "source": [
    "from datetime import datetime\n",
    "df = df.replace({\"Date_Adherence\":{\"2/29/2022\": datetime.strptime(\"2022-03-01\", '%Y-%m-%d')}}) #2022 is not a leap year, therefore 29/02/2022 is not a possible day"
   ]
  },
  {
   "cell_type": "code",
   "execution_count": 40,
   "metadata": {
    "collapsed": false
   },
   "outputs": [],
   "source": [
    "df['daysAsCardClient'] = df['Date_Adherence'].apply(lambda x: (date.today() - x.date()).days)"
   ]
  },
  {
   "cell_type": "code",
   "execution_count": 41,
   "outputs": [],
   "source": [
    "df.drop('Date_Adherence', axis= 1, inplace = True)"
   ],
   "metadata": {
    "collapsed": false
   }
  },
  {
   "cell_type": "markdown",
   "source": [
    "#### Fill Education"
   ],
   "metadata": {
    "collapsed": false
   }
  },
  {
   "cell_type": "code",
   "execution_count": 42,
   "outputs": [],
   "source": [
    "edu_encode = pd.get_dummies(df.Education, drop_first= True) #TODO ver se nao ha formas melhores para tratar desta categoria\n",
    "df = pd.concat([df, edu_encode], axis = 1)"
   ],
   "metadata": {
    "collapsed": false
   }
  },
  {
   "cell_type": "code",
   "execution_count": 43,
   "metadata": {
    "collapsed": false
   },
   "outputs": [],
   "source": [
    "df.drop('Education', axis = 1, inplace = True)"
   ]
  },
  {
   "cell_type": "markdown",
   "source": [
    "#### Fill Maritial Status"
   ],
   "metadata": {
    "collapsed": false
   }
  },
  {
   "cell_type": "code",
   "execution_count": 44,
   "outputs": [],
   "source": [
    "marital_encode = pd.get_dummies(df.Marital_Status, drop_first= True)\n",
    "df = pd.concat([df, marital_encode], axis = 1)"
   ],
   "metadata": {
    "collapsed": false
   }
  },
  {
   "cell_type": "code",
   "execution_count": 45,
   "metadata": {
    "collapsed": false
   },
   "outputs": [],
   "source": [
    "df.drop('Marital_Status', axis= 1, inplace = True)"
   ]
  },
  {
   "cell_type": "markdown",
   "source": [
    "#### Create MntTotal"
   ],
   "metadata": {
    "collapsed": false
   }
  },
  {
   "cell_type": "code",
   "execution_count": 46,
   "outputs": [
    {
     "data": {
      "text/plain": "CustomerID\n14594    16676.0\n19070    21486.0\n29888    13448.0\n12221     5634.0\n21107    17303.0\n          ...   \n30686    15665.0\n17210    24246.0\n29186      680.0\n23312      647.0\n15581    15269.0\nName: MntTotal, Length: 6884, dtype: float64"
     },
     "execution_count": 46,
     "metadata": {},
     "output_type": "execute_result"
    }
   ],
   "source": [
    "df[\"MntTotal\"] = df['MntMeat&Fish'] + df['MntEntries'] + df['MntVegan&Vegetarian'] + df['MntDrinks'] + df['MntDesserts'] + df['MntAdditionalRequests']\n",
    "df[\"MntTotal\"]\n",
    "# em falta Mnt Add Requests"
   ],
   "metadata": {
    "collapsed": false
   }
  },
  {
   "cell_type": "markdown",
   "source": [
    "#### Create Mnt Pday Card"
   ],
   "metadata": {
    "collapsed": false
   }
  },
  {
   "cell_type": "code",
   "execution_count": 47,
   "metadata": {
    "collapsed": false
   },
   "outputs": [],
   "source": [
    "df['Mnt_pday_card']= df.MntTotal/df.daysAsCardClient"
   ]
  },
  {
   "cell_type": "markdown",
   "source": [
    "#### Create Response Campaigns"
   ],
   "metadata": {
    "collapsed": false
   }
  },
  {
   "cell_type": "code",
   "execution_count": 48,
   "outputs": [],
   "source": [
    "df['Response_Campaigns'] = df['Response_Cmp1'] + df['Response_Cmp2'] + df['Response_Cmp3'] + df['Response_Cmp4'] + df[\n",
    "       'Response_Cmp5']"
   ],
   "metadata": {
    "collapsed": false
   }
  },
  {
   "cell_type": "markdown",
   "source": [
    "#### Create Total Kids"
   ],
   "metadata": {
    "collapsed": false
   }
  },
  {
   "cell_type": "code",
   "execution_count": 49,
   "outputs": [],
   "source": [
    "df[\"Total_Kids\"] = df[\"Kid_Younger6\"] + df[\"Children_6to18\"]"
   ],
   "metadata": {
    "collapsed": false
   }
  },
  {
   "cell_type": "markdown",
   "source": [
    "#### Create Has Kids"
   ],
   "metadata": {
    "collapsed": false
   }
  },
  {
   "cell_type": "code",
   "execution_count": 50,
   "outputs": [
    {
     "data": {
      "text/plain": "CustomerID\n14594    0\n19070    0\n29888    0\n12221    1\n21107    0\n        ..\n30686    0\n17210    0\n29186    1\n23312    1\n15581    0\nName: has_Kids, Length: 6884, dtype: int64"
     },
     "execution_count": 50,
     "metadata": {},
     "output_type": "execute_result"
    }
   ],
   "source": [
    "df[\"has_Kids\"] = df[\"Total_Kids\"].apply(lambda x: 0 if x == 0 else 1)\n",
    "df[\"has_Kids\"]"
   ],
   "metadata": {
    "collapsed": false
   }
  },
  {
   "cell_type": "markdown",
   "source": [
    "#### Create age_bins"
   ],
   "metadata": {
    "collapsed": false
   }
  },
  {
   "cell_type": "code",
   "execution_count": 51,
   "outputs": [],
   "source": [
    "df[\"age_bins\"] = pd.cut(df[\"Age\"], bins = 5)\n",
    "age_bin = pd.get_dummies(df['age_bins'],prefix='age')\n",
    "df = pd.concat([df,age_bin], axis=1)\n",
    "df.drop(['age_bins'],axis=1, inplace=True)"
   ],
   "metadata": {
    "collapsed": false
   }
  },
  {
   "cell_type": "code",
   "execution_count": 52,
   "outputs": [
    {
     "data": {
      "text/plain": "                            Name    Income  Kid_Younger6  Children_6to18  \\\nCustomerID                                                                 \n14594            Miss Leah Lewis  113947.0             0               0   \n19070           Miss Grace Black  114297.0             0               0   \n29888         Mr. Gavin Morrison  115476.0             0               0   \n12221            Mr. Ryan Glover  101172.0             1               1   \n21107          Mr. Paul Anderson  123128.0             0               0   \n...                          ...       ...           ...             ...   \n30686            Mr. John Hughes   98968.0             0               0   \n17210        Mr. Brandon Simpson  109977.0             0               0   \n29186       Mr. Thomas Churchill   56039.0             0               1   \n23312         Miss Angela Murray   44867.0             1               0   \n15581          Miss Diana Taylor  124379.0             0               0   \n\n            Recency  MntMeat&Fish  MntEntries  MntVegan&Vegetarian  MntDrinks  \\\nCustomerID                                                                      \n14594          43.0        4640.0        3380               5700.0     2240.0   \n19070          74.0        7080.0        3680               7620.0     1840.0   \n29888          85.0        4130.0         380               4890.0     3640.0   \n12221          25.0        3590.0           0               1770.0       80.0   \n21107          64.0        5390.0        1126               9495.0      656.0   \n...             ...           ...         ...                  ...        ...   \n30686          66.0        9090.0         260               6015.0      260.0   \n17210           8.0        5870.0        1020              13470.0     3800.0   \n29186          30.0         540.0           0                135.0        0.0   \n23312           8.0          80.0         120                210.0      120.0   \n15581          80.0        7280.0         422               1692.0     3760.0   \n\n            MntDesserts  MntAdditionalRequests  NumOfferPurchases  \\\nCustomerID                                                          \n14594             562.0                  154.0                  2   \n19070            1220.0                   46.0                  1   \n29888             380.0                   28.0                  1   \n12221             180.0                   14.0                  5   \n21107             562.0                   74.0                  0   \n...                 ...                    ...                ...   \n30686               0.0                   40.0                  1   \n17210               0.0                   86.0                  1   \n29186               0.0                    5.0                  2   \n23312             100.0                   17.0                  1   \n15581            1880.0                  235.0                  1   \n\n            NumAppPurchases  NumTakeAwayPurchases  NumStorePurchases  \\\nCustomerID                                                             \n14594                    10                     7                  7   \n19070                     5                     9                 12   \n29888                     5                     5                  7   \n12221                     8                     3                  8   \n21107                     4                     7                  8   \n...                     ...                   ...                ...   \n30686                     6                     6                 11   \n17210                     5                     7                  7   \n29186                     3                     1                  4   \n23312                     3                     1                  3   \n15581                     6                    12                 11   \n\n            NumAppVisitsMonth  Complain  Response_Cmp1  Response_Cmp2  \\\nCustomerID                                                              \n14594                       4         0              0              1   \n19070                       2         0              0              0   \n29888                       1         0              0              0   \n12221                       5         0              0              0   \n21107                       5         0              1              0   \n...                       ...       ...            ...            ...   \n30686                       2         0              0              0   \n17210                       2         0              0              0   \n29186                       6         0              0              0   \n23312                       8         0              0              0   \n15581                       2         0              0              0   \n\n            Response_Cmp3  Response_Cmp4  Response_Cmp5  Gender  Age  \\\nCustomerID                                                             \n14594                   0              0              0       0   42   \n19070                   0              0              0       0   49   \n29888                   0              0              0       1   63   \n12221                   0              0              0       1   43   \n21107                   1              0              0       1   52   \n...                   ...            ...            ...     ...  ...   \n30686                   0              0              0       1   29   \n17210                   0              0              0       1   38   \n29186                   0              0              0       1   56   \n23312                   0              0              0       0   34   \n15581                   1              1              0       0   63   \n\n            daysAsCardClient  Graduation  HighSchool  Master  PhD  Married  \\\nCustomerID                                                                   \n14594                    824           1           0       0    0        0   \n19070                    733           1           0       0    0        1   \n29888                    456           0           0       0    1        1   \n12221                    548           1           0       0    0        1   \n21107                    853           0           1       0    0        0   \n...                      ...         ...         ...     ...  ...      ...   \n30686                    491           0           0       0    1        0   \n17210                    943           1           0       0    0        0   \n29186                    484           0           0       0    1        1   \n23312                    882           1           0       0    0        0   \n15581                    798           1           0       0    0        0   \n\n            Single  Widow  MntTotal  Mnt_pday_card  Response_Campaigns  \\\nCustomerID                                                               \n14594            1      0   16676.0      20.237864                   1   \n19070            0      0   21486.0      29.312415                   0   \n29888            0      0   13448.0      29.491228                   0   \n12221            0      0    5634.0      10.281022                   0   \n21107            1      0   17303.0      20.284877                   2   \n...            ...    ...       ...            ...                 ...   \n30686            0      0   15665.0      31.904277                   0   \n17210            0      0   24246.0      25.711559                   0   \n29186            0      0     680.0       1.404959                   0   \n23312            1      0     647.0       0.733560                   0   \n15581            1      0   15269.0      19.134085                   2   \n\n            Total_Kids  has_Kids  age_(17.943, 29.4]  age_(29.4, 40.8]  \\\nCustomerID                                                               \n14594                0         0                   0                 0   \n19070                0         0                   0                 0   \n29888                0         0                   0                 0   \n12221                2         1                   0                 0   \n21107                0         0                   0                 0   \n...                ...       ...                 ...               ...   \n30686                0         0                   1                 0   \n17210                0         0                   0                 1   \n29186                1         1                   0                 0   \n23312                1         1                   0                 1   \n15581                0         0                   0                 0   \n\n            age_(40.8, 52.2]  age_(52.2, 63.6]  age_(63.6, 75.0]  \nCustomerID                                                        \n14594                      1                 0                 0  \n19070                      1                 0                 0  \n29888                      0                 1                 0  \n12221                      1                 0                 0  \n21107                      1                 0                 0  \n...                      ...               ...               ...  \n30686                      0                 0                 0  \n17210                      0                 0                 0  \n29186                      0                 1                 0  \n23312                      0                 0                 0  \n15581                      0                 1                 0  \n\n[6884 rows x 42 columns]",
      "text/html": "<div>\n<style scoped>\n    .dataframe tbody tr th:only-of-type {\n        vertical-align: middle;\n    }\n\n    .dataframe tbody tr th {\n        vertical-align: top;\n    }\n\n    .dataframe thead th {\n        text-align: right;\n    }\n</style>\n<table border=\"1\" class=\"dataframe\">\n  <thead>\n    <tr style=\"text-align: right;\">\n      <th></th>\n      <th>Name</th>\n      <th>Income</th>\n      <th>Kid_Younger6</th>\n      <th>Children_6to18</th>\n      <th>Recency</th>\n      <th>MntMeat&amp;Fish</th>\n      <th>MntEntries</th>\n      <th>MntVegan&amp;Vegetarian</th>\n      <th>MntDrinks</th>\n      <th>MntDesserts</th>\n      <th>MntAdditionalRequests</th>\n      <th>NumOfferPurchases</th>\n      <th>NumAppPurchases</th>\n      <th>NumTakeAwayPurchases</th>\n      <th>NumStorePurchases</th>\n      <th>NumAppVisitsMonth</th>\n      <th>Complain</th>\n      <th>Response_Cmp1</th>\n      <th>Response_Cmp2</th>\n      <th>Response_Cmp3</th>\n      <th>Response_Cmp4</th>\n      <th>Response_Cmp5</th>\n      <th>Gender</th>\n      <th>Age</th>\n      <th>daysAsCardClient</th>\n      <th>Graduation</th>\n      <th>HighSchool</th>\n      <th>Master</th>\n      <th>PhD</th>\n      <th>Married</th>\n      <th>Single</th>\n      <th>Widow</th>\n      <th>MntTotal</th>\n      <th>Mnt_pday_card</th>\n      <th>Response_Campaigns</th>\n      <th>Total_Kids</th>\n      <th>has_Kids</th>\n      <th>age_(17.943, 29.4]</th>\n      <th>age_(29.4, 40.8]</th>\n      <th>age_(40.8, 52.2]</th>\n      <th>age_(52.2, 63.6]</th>\n      <th>age_(63.6, 75.0]</th>\n    </tr>\n    <tr>\n      <th>CustomerID</th>\n      <th></th>\n      <th></th>\n      <th></th>\n      <th></th>\n      <th></th>\n      <th></th>\n      <th></th>\n      <th></th>\n      <th></th>\n      <th></th>\n      <th></th>\n      <th></th>\n      <th></th>\n      <th></th>\n      <th></th>\n      <th></th>\n      <th></th>\n      <th></th>\n      <th></th>\n      <th></th>\n      <th></th>\n      <th></th>\n      <th></th>\n      <th></th>\n      <th></th>\n      <th></th>\n      <th></th>\n      <th></th>\n      <th></th>\n      <th></th>\n      <th></th>\n      <th></th>\n      <th></th>\n      <th></th>\n      <th></th>\n      <th></th>\n      <th></th>\n      <th></th>\n      <th></th>\n      <th></th>\n      <th></th>\n      <th></th>\n    </tr>\n  </thead>\n  <tbody>\n    <tr>\n      <th>14594</th>\n      <td>Miss Leah Lewis</td>\n      <td>113947.0</td>\n      <td>0</td>\n      <td>0</td>\n      <td>43.0</td>\n      <td>4640.0</td>\n      <td>3380</td>\n      <td>5700.0</td>\n      <td>2240.0</td>\n      <td>562.0</td>\n      <td>154.0</td>\n      <td>2</td>\n      <td>10</td>\n      <td>7</td>\n      <td>7</td>\n      <td>4</td>\n      <td>0</td>\n      <td>0</td>\n      <td>1</td>\n      <td>0</td>\n      <td>0</td>\n      <td>0</td>\n      <td>0</td>\n      <td>42</td>\n      <td>824</td>\n      <td>1</td>\n      <td>0</td>\n      <td>0</td>\n      <td>0</td>\n      <td>0</td>\n      <td>1</td>\n      <td>0</td>\n      <td>16676.0</td>\n      <td>20.237864</td>\n      <td>1</td>\n      <td>0</td>\n      <td>0</td>\n      <td>0</td>\n      <td>0</td>\n      <td>1</td>\n      <td>0</td>\n      <td>0</td>\n    </tr>\n    <tr>\n      <th>19070</th>\n      <td>Miss Grace Black</td>\n      <td>114297.0</td>\n      <td>0</td>\n      <td>0</td>\n      <td>74.0</td>\n      <td>7080.0</td>\n      <td>3680</td>\n      <td>7620.0</td>\n      <td>1840.0</td>\n      <td>1220.0</td>\n      <td>46.0</td>\n      <td>1</td>\n      <td>5</td>\n      <td>9</td>\n      <td>12</td>\n      <td>2</td>\n      <td>0</td>\n      <td>0</td>\n      <td>0</td>\n      <td>0</td>\n      <td>0</td>\n      <td>0</td>\n      <td>0</td>\n      <td>49</td>\n      <td>733</td>\n      <td>1</td>\n      <td>0</td>\n      <td>0</td>\n      <td>0</td>\n      <td>1</td>\n      <td>0</td>\n      <td>0</td>\n      <td>21486.0</td>\n      <td>29.312415</td>\n      <td>0</td>\n      <td>0</td>\n      <td>0</td>\n      <td>0</td>\n      <td>0</td>\n      <td>1</td>\n      <td>0</td>\n      <td>0</td>\n    </tr>\n    <tr>\n      <th>29888</th>\n      <td>Mr. Gavin Morrison</td>\n      <td>115476.0</td>\n      <td>0</td>\n      <td>0</td>\n      <td>85.0</td>\n      <td>4130.0</td>\n      <td>380</td>\n      <td>4890.0</td>\n      <td>3640.0</td>\n      <td>380.0</td>\n      <td>28.0</td>\n      <td>1</td>\n      <td>5</td>\n      <td>5</td>\n      <td>7</td>\n      <td>1</td>\n      <td>0</td>\n      <td>0</td>\n      <td>0</td>\n      <td>0</td>\n      <td>0</td>\n      <td>0</td>\n      <td>1</td>\n      <td>63</td>\n      <td>456</td>\n      <td>0</td>\n      <td>0</td>\n      <td>0</td>\n      <td>1</td>\n      <td>1</td>\n      <td>0</td>\n      <td>0</td>\n      <td>13448.0</td>\n      <td>29.491228</td>\n      <td>0</td>\n      <td>0</td>\n      <td>0</td>\n      <td>0</td>\n      <td>0</td>\n      <td>0</td>\n      <td>1</td>\n      <td>0</td>\n    </tr>\n    <tr>\n      <th>12221</th>\n      <td>Mr. Ryan Glover</td>\n      <td>101172.0</td>\n      <td>1</td>\n      <td>1</td>\n      <td>25.0</td>\n      <td>3590.0</td>\n      <td>0</td>\n      <td>1770.0</td>\n      <td>80.0</td>\n      <td>180.0</td>\n      <td>14.0</td>\n      <td>5</td>\n      <td>8</td>\n      <td>3</td>\n      <td>8</td>\n      <td>5</td>\n      <td>0</td>\n      <td>0</td>\n      <td>0</td>\n      <td>0</td>\n      <td>0</td>\n      <td>0</td>\n      <td>1</td>\n      <td>43</td>\n      <td>548</td>\n      <td>1</td>\n      <td>0</td>\n      <td>0</td>\n      <td>0</td>\n      <td>1</td>\n      <td>0</td>\n      <td>0</td>\n      <td>5634.0</td>\n      <td>10.281022</td>\n      <td>0</td>\n      <td>2</td>\n      <td>1</td>\n      <td>0</td>\n      <td>0</td>\n      <td>1</td>\n      <td>0</td>\n      <td>0</td>\n    </tr>\n    <tr>\n      <th>21107</th>\n      <td>Mr. Paul Anderson</td>\n      <td>123128.0</td>\n      <td>0</td>\n      <td>0</td>\n      <td>64.0</td>\n      <td>5390.0</td>\n      <td>1126</td>\n      <td>9495.0</td>\n      <td>656.0</td>\n      <td>562.0</td>\n      <td>74.0</td>\n      <td>0</td>\n      <td>4</td>\n      <td>7</td>\n      <td>8</td>\n      <td>5</td>\n      <td>0</td>\n      <td>1</td>\n      <td>0</td>\n      <td>1</td>\n      <td>0</td>\n      <td>0</td>\n      <td>1</td>\n      <td>52</td>\n      <td>853</td>\n      <td>0</td>\n      <td>1</td>\n      <td>0</td>\n      <td>0</td>\n      <td>0</td>\n      <td>1</td>\n      <td>0</td>\n      <td>17303.0</td>\n      <td>20.284877</td>\n      <td>2</td>\n      <td>0</td>\n      <td>0</td>\n      <td>0</td>\n      <td>0</td>\n      <td>1</td>\n      <td>0</td>\n      <td>0</td>\n    </tr>\n    <tr>\n      <th>...</th>\n      <td>...</td>\n      <td>...</td>\n      <td>...</td>\n      <td>...</td>\n      <td>...</td>\n      <td>...</td>\n      <td>...</td>\n      <td>...</td>\n      <td>...</td>\n      <td>...</td>\n      <td>...</td>\n      <td>...</td>\n      <td>...</td>\n      <td>...</td>\n      <td>...</td>\n      <td>...</td>\n      <td>...</td>\n      <td>...</td>\n      <td>...</td>\n      <td>...</td>\n      <td>...</td>\n      <td>...</td>\n      <td>...</td>\n      <td>...</td>\n      <td>...</td>\n      <td>...</td>\n      <td>...</td>\n      <td>...</td>\n      <td>...</td>\n      <td>...</td>\n      <td>...</td>\n      <td>...</td>\n      <td>...</td>\n      <td>...</td>\n      <td>...</td>\n      <td>...</td>\n      <td>...</td>\n      <td>...</td>\n      <td>...</td>\n      <td>...</td>\n      <td>...</td>\n      <td>...</td>\n    </tr>\n    <tr>\n      <th>30686</th>\n      <td>Mr. John Hughes</td>\n      <td>98968.0</td>\n      <td>0</td>\n      <td>0</td>\n      <td>66.0</td>\n      <td>9090.0</td>\n      <td>260</td>\n      <td>6015.0</td>\n      <td>260.0</td>\n      <td>0.0</td>\n      <td>40.0</td>\n      <td>1</td>\n      <td>6</td>\n      <td>6</td>\n      <td>11</td>\n      <td>2</td>\n      <td>0</td>\n      <td>0</td>\n      <td>0</td>\n      <td>0</td>\n      <td>0</td>\n      <td>0</td>\n      <td>1</td>\n      <td>29</td>\n      <td>491</td>\n      <td>0</td>\n      <td>0</td>\n      <td>0</td>\n      <td>1</td>\n      <td>0</td>\n      <td>0</td>\n      <td>0</td>\n      <td>15665.0</td>\n      <td>31.904277</td>\n      <td>0</td>\n      <td>0</td>\n      <td>0</td>\n      <td>1</td>\n      <td>0</td>\n      <td>0</td>\n      <td>0</td>\n      <td>0</td>\n    </tr>\n    <tr>\n      <th>17210</th>\n      <td>Mr. Brandon Simpson</td>\n      <td>109977.0</td>\n      <td>0</td>\n      <td>0</td>\n      <td>8.0</td>\n      <td>5870.0</td>\n      <td>1020</td>\n      <td>13470.0</td>\n      <td>3800.0</td>\n      <td>0.0</td>\n      <td>86.0</td>\n      <td>1</td>\n      <td>5</td>\n      <td>7</td>\n      <td>7</td>\n      <td>2</td>\n      <td>0</td>\n      <td>0</td>\n      <td>0</td>\n      <td>0</td>\n      <td>0</td>\n      <td>0</td>\n      <td>1</td>\n      <td>38</td>\n      <td>943</td>\n      <td>1</td>\n      <td>0</td>\n      <td>0</td>\n      <td>0</td>\n      <td>0</td>\n      <td>0</td>\n      <td>0</td>\n      <td>24246.0</td>\n      <td>25.711559</td>\n      <td>0</td>\n      <td>0</td>\n      <td>0</td>\n      <td>0</td>\n      <td>1</td>\n      <td>0</td>\n      <td>0</td>\n      <td>0</td>\n    </tr>\n    <tr>\n      <th>29186</th>\n      <td>Mr. Thomas Churchill</td>\n      <td>56039.0</td>\n      <td>0</td>\n      <td>1</td>\n      <td>30.0</td>\n      <td>540.0</td>\n      <td>0</td>\n      <td>135.0</td>\n      <td>0.0</td>\n      <td>0.0</td>\n      <td>5.0</td>\n      <td>2</td>\n      <td>3</td>\n      <td>1</td>\n      <td>4</td>\n      <td>6</td>\n      <td>0</td>\n      <td>0</td>\n      <td>0</td>\n      <td>0</td>\n      <td>0</td>\n      <td>0</td>\n      <td>1</td>\n      <td>56</td>\n      <td>484</td>\n      <td>0</td>\n      <td>0</td>\n      <td>0</td>\n      <td>1</td>\n      <td>1</td>\n      <td>0</td>\n      <td>0</td>\n      <td>680.0</td>\n      <td>1.404959</td>\n      <td>0</td>\n      <td>1</td>\n      <td>1</td>\n      <td>0</td>\n      <td>0</td>\n      <td>0</td>\n      <td>1</td>\n      <td>0</td>\n    </tr>\n    <tr>\n      <th>23312</th>\n      <td>Miss Angela Murray</td>\n      <td>44867.0</td>\n      <td>1</td>\n      <td>0</td>\n      <td>8.0</td>\n      <td>80.0</td>\n      <td>120</td>\n      <td>210.0</td>\n      <td>120.0</td>\n      <td>100.0</td>\n      <td>17.0</td>\n      <td>1</td>\n      <td>3</td>\n      <td>1</td>\n      <td>3</td>\n      <td>8</td>\n      <td>0</td>\n      <td>0</td>\n      <td>0</td>\n      <td>0</td>\n      <td>0</td>\n      <td>0</td>\n      <td>0</td>\n      <td>34</td>\n      <td>882</td>\n      <td>1</td>\n      <td>0</td>\n      <td>0</td>\n      <td>0</td>\n      <td>0</td>\n      <td>1</td>\n      <td>0</td>\n      <td>647.0</td>\n      <td>0.733560</td>\n      <td>0</td>\n      <td>1</td>\n      <td>1</td>\n      <td>0</td>\n      <td>1</td>\n      <td>0</td>\n      <td>0</td>\n      <td>0</td>\n    </tr>\n    <tr>\n      <th>15581</th>\n      <td>Miss Diana Taylor</td>\n      <td>124379.0</td>\n      <td>0</td>\n      <td>0</td>\n      <td>80.0</td>\n      <td>7280.0</td>\n      <td>422</td>\n      <td>1692.0</td>\n      <td>3760.0</td>\n      <td>1880.0</td>\n      <td>235.0</td>\n      <td>1</td>\n      <td>6</td>\n      <td>12</td>\n      <td>11</td>\n      <td>2</td>\n      <td>0</td>\n      <td>0</td>\n      <td>0</td>\n      <td>1</td>\n      <td>1</td>\n      <td>0</td>\n      <td>0</td>\n      <td>63</td>\n      <td>798</td>\n      <td>1</td>\n      <td>0</td>\n      <td>0</td>\n      <td>0</td>\n      <td>0</td>\n      <td>1</td>\n      <td>0</td>\n      <td>15269.0</td>\n      <td>19.134085</td>\n      <td>2</td>\n      <td>0</td>\n      <td>0</td>\n      <td>0</td>\n      <td>0</td>\n      <td>0</td>\n      <td>1</td>\n      <td>0</td>\n    </tr>\n  </tbody>\n</table>\n<p>6884 rows × 42 columns</p>\n</div>"
     },
     "execution_count": 52,
     "metadata": {},
     "output_type": "execute_result"
    }
   ],
   "source": [
    "df"
   ],
   "metadata": {
    "collapsed": false
   }
  },
  {
   "cell_type": "markdown",
   "source": [
    "## Incoherencies\n"
   ],
   "metadata": {
    "collapsed": false
   }
  },
  {
   "cell_type": "markdown",
   "source": [
    "Verificar que todos os clientes que têm valores gastos têm compras registadas"
   ],
   "metadata": {
    "collapsed": false
   }
  },
  {
   "cell_type": "code",
   "execution_count": 53,
   "outputs": [
    {
     "data": {
      "text/plain": "                               Name   Income  Kid_Younger6  Children_6to18  \\\nCustomerID                                                                   \n6185              Mr. Matt Clarkson   4609.6             2               0   \n5318             Mr. Liam MacDonald   3005.4             0               0   \n25079             Mr. Harry Dickens   5048.0             0               1   \n23297              Mr. Harry Newman   3909.6             1               1   \n34565          Miss Jasmine Russell   7644.8             1               1   \n5108          Mr. Sebastian Abraham  10724.2             0               0   \n18872             Miss Rachel Young   3550.0             1               0   \n13388                Mr. Eric Berry   4554.8             1               0   \n14084       Mr. Christopher MacLeod   5281.3             1               0   \n5366                 Mr. Boris Reid   6065.1             1               1   \n31409           Mr. Christian Allan   3746.5             1               0   \n30521          Miss Stephanie Terry   3623.7             0               0   \n28061                Mr. Adam Black   3133.7             1               0   \n10547             Mr. Thomas Slater   3478.0             0               0   \n26696           Mr. Charles Pullman   5171.2             0               0   \n15911          Miss Pippa Underwood   4472.2             1               0   \n12800           Mr. Sebastian Paige   7175.5             2               2   \n17996               Mr. Paul Peters   7507.0             0               1   \n7127                Mr. Joe Chapman   6324.3             1               0   \n22133               Mr. Evan Bailey   7326.0             1               0   \n\n            Recency  MntMeat&Fish  MntEntries  MntVegan&Vegetarian  MntDrinks  \\\nCustomerID                                                                      \n6185           32.0          19.0          10                 73.5       10.0   \n5318           16.0           5.0           8                  7.5        6.0   \n25079          64.0          13.0           4                  4.5        0.0   \n23297          29.0          12.0           0                  4.5        0.0   \n34565          15.0          36.0           2                 91.5       62.0   \n5108           93.0         286.0         246                382.5      138.0   \n18872           4.0          34.0           0                 21.0        4.0   \n13388          99.0           5.0          20                 19.5        4.0   \n14084          17.0          11.0          10                 36.0        6.0   \n5366           75.0          39.0           2                 16.5        0.0   \n31409          35.0          32.0           2                 96.0       24.0   \n30521          94.0          64.0          26                 49.5       44.0   \n28061          36.0          31.0           2                 10.5        0.0   \n10547          57.0           9.0          14                 33.0       12.0   \n26696          89.0           5.0           0                 16.5       20.0   \n15911          23.0           4.0           6                  4.5        6.0   \n12800          53.0          92.0           0                 84.0        2.0   \n17996          97.0          51.0           0                  1.5        0.0   \n7127           85.0          42.0          10                102.0       70.0   \n22133          30.0          39.0          18                 37.5       24.0   \n\n            MntDesserts  MntAdditionalRequests  NumOfferPurchases  \\\nCustomerID                                                          \n6185               28.0                    3.2                 15   \n5318                4.0                    1.0                  0   \n25079               2.0                    0.0                 15   \n23297               0.0                    0.3                 15   \n34565              38.0                   13.2                 15   \n5108               76.0                    2.3                  0   \n18872               2.0                    0.2                  0   \n13388              16.0                    1.6                 15   \n14084              10.0                    0.4                  0   \n5366                4.0                    1.2                 15   \n31409              24.0                    8.5                 15   \n30521              36.0                   11.3                 15   \n28061               2.0                    2.3                  0   \n10547              10.0                    0.9                  0   \n26696              16.0                    1.9                 15   \n15911              14.0                    0.4                  0   \n12800               2.0                    1.0                 15   \n17996               0.0                    0.3                 15   \n7127               66.0                    3.8                 15   \n22133              66.0                    1.0                  0   \n\n            NumAppPurchases  NumTakeAwayPurchases  NumStorePurchases  \\\nCustomerID                                                             \n6185                      0                     0                  0   \n5318                      0                     0                  0   \n25079                     0                     0                  0   \n23297                     0                     0                  0   \n34565                     0                     0                  0   \n5108                      0                     0                  0   \n18872                     0                     0                  0   \n13388                     0                     0                  0   \n14084                     0                     0                  0   \n5366                      0                     0                  0   \n31409                     0                     0                  0   \n30521                     0                     0                  0   \n28061                     0                     0                  0   \n10547                     0                     0                  0   \n26696                     0                     0                  0   \n15911                     0                     0                  0   \n12800                     0                     0                  0   \n17996                     0                     0                  0   \n7127                      0                     0                  0   \n22133                     0                     0                  0   \n\n            NumAppVisitsMonth  Complain  Response_Cmp1  Response_Cmp2  \\\nCustomerID                                                              \n6185                       20         0              0              0   \n5318                       20         0              0              0   \n25079                      20         0              0              0   \n23297                      20         0              0              0   \n34565                      19         0              1              0   \n5108                       19         0              0              0   \n18872                      20         0              0              0   \n13388                      20         0              0              0   \n14084                      19         0              0              0   \n5366                       19         0              0              0   \n31409                      20         0              0              0   \n30521                      20         0              1              0   \n28061                      20         0              1              0   \n10547                      20         0              0              0   \n26696                      20         0              0              0   \n15911                      20         0              0              0   \n12800                      20         0              0              0   \n17996                      19         0              0              1   \n7127                       20         0              0              0   \n22133                      20         1              0              0   \n\n            Response_Cmp3  Response_Cmp4  Response_Cmp5  Gender  Age  \\\nCustomerID                                                             \n6185                    0              0              0       1   32   \n5318                    0              0              0       1   55   \n25079                   0              0              0       1   64   \n23297                   0              0              0       1   43   \n34565                   0              0              0       0   61   \n5108                    0              0              0       1   33   \n18872                   0              0              0       0   40   \n13388                   0              0              0       1   39   \n14084                   0              0              0       1   29   \n5366                    0              0              0       1   48   \n31409                   0              0              0       1   38   \n30521                   0              0              0       0   68   \n28061                   0              0              0       1   44   \n10547                   0              0              0       1   50   \n26696                   0              0              0       1   63   \n15911                   0              0              0       0   35   \n12800                   0              0              0       1   50   \n17996                   0              0              0       1   64   \n7127                    0              0              0       1   37   \n22133                   0              0              0       1   27   \n\n            daysAsCardClient  Graduation  HighSchool  Master  PhD  Married  \\\nCustomerID                                                                   \n6185                     825           0           0       1    0        1   \n5318                     807           0           1       0    0        1   \n25079                    944           0           0       0    1        1   \n23297                    846           1           0       0    0        1   \n34565                    654           0           1       0    0        0   \n5108                     402           0           0       0    1        1   \n18872                    650           0           0       0    1        0   \n13388                    810           0           1       0    0        1   \n14084                    356           1           0       0    0        0   \n5366                     345           0           0       0    1        0   \n31409                    946           1           0       0    0        0   \n30521                    493           1           0       0    0        1   \n28061                    698           1           0       0    0        0   \n10547                    370           1           0       0    0        1   \n26696                    288           1           0       0    0        0   \n15911                    651           1           0       0    0        0   \n12800                    849           0           0       0    1        1   \n17996                    294           0           0       0    1        1   \n7127                     448           0           1       0    0        0   \n22133                    748           0           1       0    0        1   \n\n            Single  Widow  MntTotal  Mnt_pday_card  Response_Campaigns  \\\nCustomerID                                                               \n6185             0      0     143.7       0.174182                   0   \n5318             0      0      31.5       0.039033                   0   \n25079            0      0      23.5       0.024894                   0   \n23297            0      0      16.8       0.019858                   0   \n34565            1      0     242.7       0.371101                   1   \n5108             0      0    1130.8       2.812935                   0   \n18872            1      0      61.2       0.094154                   0   \n13388            0      0      66.1       0.081605                   0   \n14084            1      0      73.4       0.206180                   0   \n5366             1      0      62.7       0.181739                   0   \n31409            0      0     186.5       0.197146                   0   \n30521            0      0     230.8       0.468154                   1   \n28061            0      0      47.8       0.068481                   1   \n10547            0      0      78.9       0.213243                   0   \n26696            0      0      59.4       0.206250                   0   \n15911            1      0      34.9       0.053610                   0   \n12800            0      0     181.0       0.213192                   0   \n17996            0      0      52.8       0.179592                   1   \n7127             0      0     293.8       0.655804                   0   \n22133            0      0     185.5       0.247995                   0   \n\n            Total_Kids  has_Kids  age_(17.943, 29.4]  age_(29.4, 40.8]  \\\nCustomerID                                                               \n6185                 2         1                   0                 1   \n5318                 0         0                   0                 0   \n25079                1         1                   0                 0   \n23297                2         1                   0                 0   \n34565                2         1                   0                 0   \n5108                 0         0                   0                 1   \n18872                1         1                   0                 1   \n13388                1         1                   0                 1   \n14084                1         1                   1                 0   \n5366                 2         1                   0                 0   \n31409                1         1                   0                 1   \n30521                0         0                   0                 0   \n28061                1         1                   0                 0   \n10547                0         0                   0                 0   \n26696                0         0                   0                 0   \n15911                1         1                   0                 1   \n12800                4         1                   0                 0   \n17996                1         1                   0                 0   \n7127                 1         1                   0                 1   \n22133                1         1                   1                 0   \n\n            age_(40.8, 52.2]  age_(52.2, 63.6]  age_(63.6, 75.0]  \nCustomerID                                                        \n6185                       0                 0                 0  \n5318                       0                 1                 0  \n25079                      0                 0                 1  \n23297                      1                 0                 0  \n34565                      0                 1                 0  \n5108                       0                 0                 0  \n18872                      0                 0                 0  \n13388                      0                 0                 0  \n14084                      0                 0                 0  \n5366                       1                 0                 0  \n31409                      0                 0                 0  \n30521                      0                 0                 1  \n28061                      1                 0                 0  \n10547                      1                 0                 0  \n26696                      0                 1                 0  \n15911                      0                 0                 0  \n12800                      1                 0                 0  \n17996                      0                 0                 1  \n7127                       0                 0                 0  \n22133                      0                 0                 0  ",
      "text/html": "<div>\n<style scoped>\n    .dataframe tbody tr th:only-of-type {\n        vertical-align: middle;\n    }\n\n    .dataframe tbody tr th {\n        vertical-align: top;\n    }\n\n    .dataframe thead th {\n        text-align: right;\n    }\n</style>\n<table border=\"1\" class=\"dataframe\">\n  <thead>\n    <tr style=\"text-align: right;\">\n      <th></th>\n      <th>Name</th>\n      <th>Income</th>\n      <th>Kid_Younger6</th>\n      <th>Children_6to18</th>\n      <th>Recency</th>\n      <th>MntMeat&amp;Fish</th>\n      <th>MntEntries</th>\n      <th>MntVegan&amp;Vegetarian</th>\n      <th>MntDrinks</th>\n      <th>MntDesserts</th>\n      <th>MntAdditionalRequests</th>\n      <th>NumOfferPurchases</th>\n      <th>NumAppPurchases</th>\n      <th>NumTakeAwayPurchases</th>\n      <th>NumStorePurchases</th>\n      <th>NumAppVisitsMonth</th>\n      <th>Complain</th>\n      <th>Response_Cmp1</th>\n      <th>Response_Cmp2</th>\n      <th>Response_Cmp3</th>\n      <th>Response_Cmp4</th>\n      <th>Response_Cmp5</th>\n      <th>Gender</th>\n      <th>Age</th>\n      <th>daysAsCardClient</th>\n      <th>Graduation</th>\n      <th>HighSchool</th>\n      <th>Master</th>\n      <th>PhD</th>\n      <th>Married</th>\n      <th>Single</th>\n      <th>Widow</th>\n      <th>MntTotal</th>\n      <th>Mnt_pday_card</th>\n      <th>Response_Campaigns</th>\n      <th>Total_Kids</th>\n      <th>has_Kids</th>\n      <th>age_(17.943, 29.4]</th>\n      <th>age_(29.4, 40.8]</th>\n      <th>age_(40.8, 52.2]</th>\n      <th>age_(52.2, 63.6]</th>\n      <th>age_(63.6, 75.0]</th>\n    </tr>\n    <tr>\n      <th>CustomerID</th>\n      <th></th>\n      <th></th>\n      <th></th>\n      <th></th>\n      <th></th>\n      <th></th>\n      <th></th>\n      <th></th>\n      <th></th>\n      <th></th>\n      <th></th>\n      <th></th>\n      <th></th>\n      <th></th>\n      <th></th>\n      <th></th>\n      <th></th>\n      <th></th>\n      <th></th>\n      <th></th>\n      <th></th>\n      <th></th>\n      <th></th>\n      <th></th>\n      <th></th>\n      <th></th>\n      <th></th>\n      <th></th>\n      <th></th>\n      <th></th>\n      <th></th>\n      <th></th>\n      <th></th>\n      <th></th>\n      <th></th>\n      <th></th>\n      <th></th>\n      <th></th>\n      <th></th>\n      <th></th>\n      <th></th>\n      <th></th>\n    </tr>\n  </thead>\n  <tbody>\n    <tr>\n      <th>6185</th>\n      <td>Mr. Matt Clarkson</td>\n      <td>4609.6</td>\n      <td>2</td>\n      <td>0</td>\n      <td>32.0</td>\n      <td>19.0</td>\n      <td>10</td>\n      <td>73.5</td>\n      <td>10.0</td>\n      <td>28.0</td>\n      <td>3.2</td>\n      <td>15</td>\n      <td>0</td>\n      <td>0</td>\n      <td>0</td>\n      <td>20</td>\n      <td>0</td>\n      <td>0</td>\n      <td>0</td>\n      <td>0</td>\n      <td>0</td>\n      <td>0</td>\n      <td>1</td>\n      <td>32</td>\n      <td>825</td>\n      <td>0</td>\n      <td>0</td>\n      <td>1</td>\n      <td>0</td>\n      <td>1</td>\n      <td>0</td>\n      <td>0</td>\n      <td>143.7</td>\n      <td>0.174182</td>\n      <td>0</td>\n      <td>2</td>\n      <td>1</td>\n      <td>0</td>\n      <td>1</td>\n      <td>0</td>\n      <td>0</td>\n      <td>0</td>\n    </tr>\n    <tr>\n      <th>5318</th>\n      <td>Mr. Liam MacDonald</td>\n      <td>3005.4</td>\n      <td>0</td>\n      <td>0</td>\n      <td>16.0</td>\n      <td>5.0</td>\n      <td>8</td>\n      <td>7.5</td>\n      <td>6.0</td>\n      <td>4.0</td>\n      <td>1.0</td>\n      <td>0</td>\n      <td>0</td>\n      <td>0</td>\n      <td>0</td>\n      <td>20</td>\n      <td>0</td>\n      <td>0</td>\n      <td>0</td>\n      <td>0</td>\n      <td>0</td>\n      <td>0</td>\n      <td>1</td>\n      <td>55</td>\n      <td>807</td>\n      <td>0</td>\n      <td>1</td>\n      <td>0</td>\n      <td>0</td>\n      <td>1</td>\n      <td>0</td>\n      <td>0</td>\n      <td>31.5</td>\n      <td>0.039033</td>\n      <td>0</td>\n      <td>0</td>\n      <td>0</td>\n      <td>0</td>\n      <td>0</td>\n      <td>0</td>\n      <td>1</td>\n      <td>0</td>\n    </tr>\n    <tr>\n      <th>25079</th>\n      <td>Mr. Harry Dickens</td>\n      <td>5048.0</td>\n      <td>0</td>\n      <td>1</td>\n      <td>64.0</td>\n      <td>13.0</td>\n      <td>4</td>\n      <td>4.5</td>\n      <td>0.0</td>\n      <td>2.0</td>\n      <td>0.0</td>\n      <td>15</td>\n      <td>0</td>\n      <td>0</td>\n      <td>0</td>\n      <td>20</td>\n      <td>0</td>\n      <td>0</td>\n      <td>0</td>\n      <td>0</td>\n      <td>0</td>\n      <td>0</td>\n      <td>1</td>\n      <td>64</td>\n      <td>944</td>\n      <td>0</td>\n      <td>0</td>\n      <td>0</td>\n      <td>1</td>\n      <td>1</td>\n      <td>0</td>\n      <td>0</td>\n      <td>23.5</td>\n      <td>0.024894</td>\n      <td>0</td>\n      <td>1</td>\n      <td>1</td>\n      <td>0</td>\n      <td>0</td>\n      <td>0</td>\n      <td>0</td>\n      <td>1</td>\n    </tr>\n    <tr>\n      <th>23297</th>\n      <td>Mr. Harry Newman</td>\n      <td>3909.6</td>\n      <td>1</td>\n      <td>1</td>\n      <td>29.0</td>\n      <td>12.0</td>\n      <td>0</td>\n      <td>4.5</td>\n      <td>0.0</td>\n      <td>0.0</td>\n      <td>0.3</td>\n      <td>15</td>\n      <td>0</td>\n      <td>0</td>\n      <td>0</td>\n      <td>20</td>\n      <td>0</td>\n      <td>0</td>\n      <td>0</td>\n      <td>0</td>\n      <td>0</td>\n      <td>0</td>\n      <td>1</td>\n      <td>43</td>\n      <td>846</td>\n      <td>1</td>\n      <td>0</td>\n      <td>0</td>\n      <td>0</td>\n      <td>1</td>\n      <td>0</td>\n      <td>0</td>\n      <td>16.8</td>\n      <td>0.019858</td>\n      <td>0</td>\n      <td>2</td>\n      <td>1</td>\n      <td>0</td>\n      <td>0</td>\n      <td>1</td>\n      <td>0</td>\n      <td>0</td>\n    </tr>\n    <tr>\n      <th>34565</th>\n      <td>Miss Jasmine Russell</td>\n      <td>7644.8</td>\n      <td>1</td>\n      <td>1</td>\n      <td>15.0</td>\n      <td>36.0</td>\n      <td>2</td>\n      <td>91.5</td>\n      <td>62.0</td>\n      <td>38.0</td>\n      <td>13.2</td>\n      <td>15</td>\n      <td>0</td>\n      <td>0</td>\n      <td>0</td>\n      <td>19</td>\n      <td>0</td>\n      <td>1</td>\n      <td>0</td>\n      <td>0</td>\n      <td>0</td>\n      <td>0</td>\n      <td>0</td>\n      <td>61</td>\n      <td>654</td>\n      <td>0</td>\n      <td>1</td>\n      <td>0</td>\n      <td>0</td>\n      <td>0</td>\n      <td>1</td>\n      <td>0</td>\n      <td>242.7</td>\n      <td>0.371101</td>\n      <td>1</td>\n      <td>2</td>\n      <td>1</td>\n      <td>0</td>\n      <td>0</td>\n      <td>0</td>\n      <td>1</td>\n      <td>0</td>\n    </tr>\n    <tr>\n      <th>5108</th>\n      <td>Mr. Sebastian Abraham</td>\n      <td>10724.2</td>\n      <td>0</td>\n      <td>0</td>\n      <td>93.0</td>\n      <td>286.0</td>\n      <td>246</td>\n      <td>382.5</td>\n      <td>138.0</td>\n      <td>76.0</td>\n      <td>2.3</td>\n      <td>0</td>\n      <td>0</td>\n      <td>0</td>\n      <td>0</td>\n      <td>19</td>\n      <td>0</td>\n      <td>0</td>\n      <td>0</td>\n      <td>0</td>\n      <td>0</td>\n      <td>0</td>\n      <td>1</td>\n      <td>33</td>\n      <td>402</td>\n      <td>0</td>\n      <td>0</td>\n      <td>0</td>\n      <td>1</td>\n      <td>1</td>\n      <td>0</td>\n      <td>0</td>\n      <td>1130.8</td>\n      <td>2.812935</td>\n      <td>0</td>\n      <td>0</td>\n      <td>0</td>\n      <td>0</td>\n      <td>1</td>\n      <td>0</td>\n      <td>0</td>\n      <td>0</td>\n    </tr>\n    <tr>\n      <th>18872</th>\n      <td>Miss Rachel Young</td>\n      <td>3550.0</td>\n      <td>1</td>\n      <td>0</td>\n      <td>4.0</td>\n      <td>34.0</td>\n      <td>0</td>\n      <td>21.0</td>\n      <td>4.0</td>\n      <td>2.0</td>\n      <td>0.2</td>\n      <td>0</td>\n      <td>0</td>\n      <td>0</td>\n      <td>0</td>\n      <td>20</td>\n      <td>0</td>\n      <td>0</td>\n      <td>0</td>\n      <td>0</td>\n      <td>0</td>\n      <td>0</td>\n      <td>0</td>\n      <td>40</td>\n      <td>650</td>\n      <td>0</td>\n      <td>0</td>\n      <td>0</td>\n      <td>1</td>\n      <td>0</td>\n      <td>1</td>\n      <td>0</td>\n      <td>61.2</td>\n      <td>0.094154</td>\n      <td>0</td>\n      <td>1</td>\n      <td>1</td>\n      <td>0</td>\n      <td>1</td>\n      <td>0</td>\n      <td>0</td>\n      <td>0</td>\n    </tr>\n    <tr>\n      <th>13388</th>\n      <td>Mr. Eric Berry</td>\n      <td>4554.8</td>\n      <td>1</td>\n      <td>0</td>\n      <td>99.0</td>\n      <td>5.0</td>\n      <td>20</td>\n      <td>19.5</td>\n      <td>4.0</td>\n      <td>16.0</td>\n      <td>1.6</td>\n      <td>15</td>\n      <td>0</td>\n      <td>0</td>\n      <td>0</td>\n      <td>20</td>\n      <td>0</td>\n      <td>0</td>\n      <td>0</td>\n      <td>0</td>\n      <td>0</td>\n      <td>0</td>\n      <td>1</td>\n      <td>39</td>\n      <td>810</td>\n      <td>0</td>\n      <td>1</td>\n      <td>0</td>\n      <td>0</td>\n      <td>1</td>\n      <td>0</td>\n      <td>0</td>\n      <td>66.1</td>\n      <td>0.081605</td>\n      <td>0</td>\n      <td>1</td>\n      <td>1</td>\n      <td>0</td>\n      <td>1</td>\n      <td>0</td>\n      <td>0</td>\n      <td>0</td>\n    </tr>\n    <tr>\n      <th>14084</th>\n      <td>Mr. Christopher MacLeod</td>\n      <td>5281.3</td>\n      <td>1</td>\n      <td>0</td>\n      <td>17.0</td>\n      <td>11.0</td>\n      <td>10</td>\n      <td>36.0</td>\n      <td>6.0</td>\n      <td>10.0</td>\n      <td>0.4</td>\n      <td>0</td>\n      <td>0</td>\n      <td>0</td>\n      <td>0</td>\n      <td>19</td>\n      <td>0</td>\n      <td>0</td>\n      <td>0</td>\n      <td>0</td>\n      <td>0</td>\n      <td>0</td>\n      <td>1</td>\n      <td>29</td>\n      <td>356</td>\n      <td>1</td>\n      <td>0</td>\n      <td>0</td>\n      <td>0</td>\n      <td>0</td>\n      <td>1</td>\n      <td>0</td>\n      <td>73.4</td>\n      <td>0.206180</td>\n      <td>0</td>\n      <td>1</td>\n      <td>1</td>\n      <td>1</td>\n      <td>0</td>\n      <td>0</td>\n      <td>0</td>\n      <td>0</td>\n    </tr>\n    <tr>\n      <th>5366</th>\n      <td>Mr. Boris Reid</td>\n      <td>6065.1</td>\n      <td>1</td>\n      <td>1</td>\n      <td>75.0</td>\n      <td>39.0</td>\n      <td>2</td>\n      <td>16.5</td>\n      <td>0.0</td>\n      <td>4.0</td>\n      <td>1.2</td>\n      <td>15</td>\n      <td>0</td>\n      <td>0</td>\n      <td>0</td>\n      <td>19</td>\n      <td>0</td>\n      <td>0</td>\n      <td>0</td>\n      <td>0</td>\n      <td>0</td>\n      <td>0</td>\n      <td>1</td>\n      <td>48</td>\n      <td>345</td>\n      <td>0</td>\n      <td>0</td>\n      <td>0</td>\n      <td>1</td>\n      <td>0</td>\n      <td>1</td>\n      <td>0</td>\n      <td>62.7</td>\n      <td>0.181739</td>\n      <td>0</td>\n      <td>2</td>\n      <td>1</td>\n      <td>0</td>\n      <td>0</td>\n      <td>1</td>\n      <td>0</td>\n      <td>0</td>\n    </tr>\n    <tr>\n      <th>31409</th>\n      <td>Mr. Christian Allan</td>\n      <td>3746.5</td>\n      <td>1</td>\n      <td>0</td>\n      <td>35.0</td>\n      <td>32.0</td>\n      <td>2</td>\n      <td>96.0</td>\n      <td>24.0</td>\n      <td>24.0</td>\n      <td>8.5</td>\n      <td>15</td>\n      <td>0</td>\n      <td>0</td>\n      <td>0</td>\n      <td>20</td>\n      <td>0</td>\n      <td>0</td>\n      <td>0</td>\n      <td>0</td>\n      <td>0</td>\n      <td>0</td>\n      <td>1</td>\n      <td>38</td>\n      <td>946</td>\n      <td>1</td>\n      <td>0</td>\n      <td>0</td>\n      <td>0</td>\n      <td>0</td>\n      <td>0</td>\n      <td>0</td>\n      <td>186.5</td>\n      <td>0.197146</td>\n      <td>0</td>\n      <td>1</td>\n      <td>1</td>\n      <td>0</td>\n      <td>1</td>\n      <td>0</td>\n      <td>0</td>\n      <td>0</td>\n    </tr>\n    <tr>\n      <th>30521</th>\n      <td>Miss Stephanie Terry</td>\n      <td>3623.7</td>\n      <td>0</td>\n      <td>0</td>\n      <td>94.0</td>\n      <td>64.0</td>\n      <td>26</td>\n      <td>49.5</td>\n      <td>44.0</td>\n      <td>36.0</td>\n      <td>11.3</td>\n      <td>15</td>\n      <td>0</td>\n      <td>0</td>\n      <td>0</td>\n      <td>20</td>\n      <td>0</td>\n      <td>1</td>\n      <td>0</td>\n      <td>0</td>\n      <td>0</td>\n      <td>0</td>\n      <td>0</td>\n      <td>68</td>\n      <td>493</td>\n      <td>1</td>\n      <td>0</td>\n      <td>0</td>\n      <td>0</td>\n      <td>1</td>\n      <td>0</td>\n      <td>0</td>\n      <td>230.8</td>\n      <td>0.468154</td>\n      <td>1</td>\n      <td>0</td>\n      <td>0</td>\n      <td>0</td>\n      <td>0</td>\n      <td>0</td>\n      <td>0</td>\n      <td>1</td>\n    </tr>\n    <tr>\n      <th>28061</th>\n      <td>Mr. Adam Black</td>\n      <td>3133.7</td>\n      <td>1</td>\n      <td>0</td>\n      <td>36.0</td>\n      <td>31.0</td>\n      <td>2</td>\n      <td>10.5</td>\n      <td>0.0</td>\n      <td>2.0</td>\n      <td>2.3</td>\n      <td>0</td>\n      <td>0</td>\n      <td>0</td>\n      <td>0</td>\n      <td>20</td>\n      <td>0</td>\n      <td>1</td>\n      <td>0</td>\n      <td>0</td>\n      <td>0</td>\n      <td>0</td>\n      <td>1</td>\n      <td>44</td>\n      <td>698</td>\n      <td>1</td>\n      <td>0</td>\n      <td>0</td>\n      <td>0</td>\n      <td>0</td>\n      <td>0</td>\n      <td>0</td>\n      <td>47.8</td>\n      <td>0.068481</td>\n      <td>1</td>\n      <td>1</td>\n      <td>1</td>\n      <td>0</td>\n      <td>0</td>\n      <td>1</td>\n      <td>0</td>\n      <td>0</td>\n    </tr>\n    <tr>\n      <th>10547</th>\n      <td>Mr. Thomas Slater</td>\n      <td>3478.0</td>\n      <td>0</td>\n      <td>0</td>\n      <td>57.0</td>\n      <td>9.0</td>\n      <td>14</td>\n      <td>33.0</td>\n      <td>12.0</td>\n      <td>10.0</td>\n      <td>0.9</td>\n      <td>0</td>\n      <td>0</td>\n      <td>0</td>\n      <td>0</td>\n      <td>20</td>\n      <td>0</td>\n      <td>0</td>\n      <td>0</td>\n      <td>0</td>\n      <td>0</td>\n      <td>0</td>\n      <td>1</td>\n      <td>50</td>\n      <td>370</td>\n      <td>1</td>\n      <td>0</td>\n      <td>0</td>\n      <td>0</td>\n      <td>1</td>\n      <td>0</td>\n      <td>0</td>\n      <td>78.9</td>\n      <td>0.213243</td>\n      <td>0</td>\n      <td>0</td>\n      <td>0</td>\n      <td>0</td>\n      <td>0</td>\n      <td>1</td>\n      <td>0</td>\n      <td>0</td>\n    </tr>\n    <tr>\n      <th>26696</th>\n      <td>Mr. Charles Pullman</td>\n      <td>5171.2</td>\n      <td>0</td>\n      <td>0</td>\n      <td>89.0</td>\n      <td>5.0</td>\n      <td>0</td>\n      <td>16.5</td>\n      <td>20.0</td>\n      <td>16.0</td>\n      <td>1.9</td>\n      <td>15</td>\n      <td>0</td>\n      <td>0</td>\n      <td>0</td>\n      <td>20</td>\n      <td>0</td>\n      <td>0</td>\n      <td>0</td>\n      <td>0</td>\n      <td>0</td>\n      <td>0</td>\n      <td>1</td>\n      <td>63</td>\n      <td>288</td>\n      <td>1</td>\n      <td>0</td>\n      <td>0</td>\n      <td>0</td>\n      <td>0</td>\n      <td>0</td>\n      <td>0</td>\n      <td>59.4</td>\n      <td>0.206250</td>\n      <td>0</td>\n      <td>0</td>\n      <td>0</td>\n      <td>0</td>\n      <td>0</td>\n      <td>0</td>\n      <td>1</td>\n      <td>0</td>\n    </tr>\n    <tr>\n      <th>15911</th>\n      <td>Miss Pippa Underwood</td>\n      <td>4472.2</td>\n      <td>1</td>\n      <td>0</td>\n      <td>23.0</td>\n      <td>4.0</td>\n      <td>6</td>\n      <td>4.5</td>\n      <td>6.0</td>\n      <td>14.0</td>\n      <td>0.4</td>\n      <td>0</td>\n      <td>0</td>\n      <td>0</td>\n      <td>0</td>\n      <td>20</td>\n      <td>0</td>\n      <td>0</td>\n      <td>0</td>\n      <td>0</td>\n      <td>0</td>\n      <td>0</td>\n      <td>0</td>\n      <td>35</td>\n      <td>651</td>\n      <td>1</td>\n      <td>0</td>\n      <td>0</td>\n      <td>0</td>\n      <td>0</td>\n      <td>1</td>\n      <td>0</td>\n      <td>34.9</td>\n      <td>0.053610</td>\n      <td>0</td>\n      <td>1</td>\n      <td>1</td>\n      <td>0</td>\n      <td>1</td>\n      <td>0</td>\n      <td>0</td>\n      <td>0</td>\n    </tr>\n    <tr>\n      <th>12800</th>\n      <td>Mr. Sebastian Paige</td>\n      <td>7175.5</td>\n      <td>2</td>\n      <td>2</td>\n      <td>53.0</td>\n      <td>92.0</td>\n      <td>0</td>\n      <td>84.0</td>\n      <td>2.0</td>\n      <td>2.0</td>\n      <td>1.0</td>\n      <td>15</td>\n      <td>0</td>\n      <td>0</td>\n      <td>0</td>\n      <td>20</td>\n      <td>0</td>\n      <td>0</td>\n      <td>0</td>\n      <td>0</td>\n      <td>0</td>\n      <td>0</td>\n      <td>1</td>\n      <td>50</td>\n      <td>849</td>\n      <td>0</td>\n      <td>0</td>\n      <td>0</td>\n      <td>1</td>\n      <td>1</td>\n      <td>0</td>\n      <td>0</td>\n      <td>181.0</td>\n      <td>0.213192</td>\n      <td>0</td>\n      <td>4</td>\n      <td>1</td>\n      <td>0</td>\n      <td>0</td>\n      <td>1</td>\n      <td>0</td>\n      <td>0</td>\n    </tr>\n    <tr>\n      <th>17996</th>\n      <td>Mr. Paul Peters</td>\n      <td>7507.0</td>\n      <td>0</td>\n      <td>1</td>\n      <td>97.0</td>\n      <td>51.0</td>\n      <td>0</td>\n      <td>1.5</td>\n      <td>0.0</td>\n      <td>0.0</td>\n      <td>0.3</td>\n      <td>15</td>\n      <td>0</td>\n      <td>0</td>\n      <td>0</td>\n      <td>19</td>\n      <td>0</td>\n      <td>0</td>\n      <td>1</td>\n      <td>0</td>\n      <td>0</td>\n      <td>0</td>\n      <td>1</td>\n      <td>64</td>\n      <td>294</td>\n      <td>0</td>\n      <td>0</td>\n      <td>0</td>\n      <td>1</td>\n      <td>1</td>\n      <td>0</td>\n      <td>0</td>\n      <td>52.8</td>\n      <td>0.179592</td>\n      <td>1</td>\n      <td>1</td>\n      <td>1</td>\n      <td>0</td>\n      <td>0</td>\n      <td>0</td>\n      <td>0</td>\n      <td>1</td>\n    </tr>\n    <tr>\n      <th>7127</th>\n      <td>Mr. Joe Chapman</td>\n      <td>6324.3</td>\n      <td>1</td>\n      <td>0</td>\n      <td>85.0</td>\n      <td>42.0</td>\n      <td>10</td>\n      <td>102.0</td>\n      <td>70.0</td>\n      <td>66.0</td>\n      <td>3.8</td>\n      <td>15</td>\n      <td>0</td>\n      <td>0</td>\n      <td>0</td>\n      <td>20</td>\n      <td>0</td>\n      <td>0</td>\n      <td>0</td>\n      <td>0</td>\n      <td>0</td>\n      <td>0</td>\n      <td>1</td>\n      <td>37</td>\n      <td>448</td>\n      <td>0</td>\n      <td>1</td>\n      <td>0</td>\n      <td>0</td>\n      <td>0</td>\n      <td>0</td>\n      <td>0</td>\n      <td>293.8</td>\n      <td>0.655804</td>\n      <td>0</td>\n      <td>1</td>\n      <td>1</td>\n      <td>0</td>\n      <td>1</td>\n      <td>0</td>\n      <td>0</td>\n      <td>0</td>\n    </tr>\n    <tr>\n      <th>22133</th>\n      <td>Mr. Evan Bailey</td>\n      <td>7326.0</td>\n      <td>1</td>\n      <td>0</td>\n      <td>30.0</td>\n      <td>39.0</td>\n      <td>18</td>\n      <td>37.5</td>\n      <td>24.0</td>\n      <td>66.0</td>\n      <td>1.0</td>\n      <td>0</td>\n      <td>0</td>\n      <td>0</td>\n      <td>0</td>\n      <td>20</td>\n      <td>1</td>\n      <td>0</td>\n      <td>0</td>\n      <td>0</td>\n      <td>0</td>\n      <td>0</td>\n      <td>1</td>\n      <td>27</td>\n      <td>748</td>\n      <td>0</td>\n      <td>1</td>\n      <td>0</td>\n      <td>0</td>\n      <td>1</td>\n      <td>0</td>\n      <td>0</td>\n      <td>185.5</td>\n      <td>0.247995</td>\n      <td>0</td>\n      <td>1</td>\n      <td>1</td>\n      <td>1</td>\n      <td>0</td>\n      <td>0</td>\n      <td>0</td>\n      <td>0</td>\n    </tr>\n  </tbody>\n</table>\n</div>"
     },
     "execution_count": 53,
     "metadata": {},
     "output_type": "execute_result"
    }
   ],
   "source": [
    "df[(df[['MntMeat&Fish', 'MntEntries',\n",
    "        'MntVegan&Vegetarian', 'MntDrinks', 'MntDesserts',\n",
    "        'MntAdditionalRequests']].sum(axis = 1) > 0) & (df[['NumAppPurchases', 'NumTakeAwayPurchases', 'NumStorePurchases']].sum(axis = 1) <= 0)]"
   ],
   "metadata": {
    "collapsed": false
   }
  },
  {
   "cell_type": "markdown",
   "source": [
    "Alterar as linhas que não têm compras registadas e valor gasto para que o valor gasto seja 0"
   ],
   "metadata": {
    "collapsed": false
   }
  },
  {
   "cell_type": "code",
   "execution_count": 54,
   "outputs": [],
   "source": [
    "# como justificar a atribuição de [0,0,0,0,0,0] às variaveis de monetary?\n",
    "\n",
    "df.loc[(df[['MntMeat&Fish', 'MntEntries',\n",
    "            'MntVegan&Vegetarian', 'MntDrinks', 'MntDesserts',\n",
    "            'MntAdditionalRequests']].sum(axis = 1) > 0) & (df[['NumAppPurchases', 'NumTakeAwayPurchases', 'NumStorePurchases']].sum(axis = 1) <= 0),['MntMeat&Fish','MntEntries','MntVegan&Vegetarian', 'MntDrinks', 'MntDesserts','MntAdditionalRequests']] = [0,0,0,0,0,0] #TODO dar drop das linhas que não têm a condição acima"
   ],
   "metadata": {
    "collapsed": false
   }
  },
  {
   "cell_type": "code",
   "execution_count": 55,
   "outputs": [
    {
     "data": {
      "text/plain": "Empty DataFrame\nColumns: [Name, Income, Kid_Younger6, Children_6to18, Recency, MntMeat&Fish, MntEntries, MntVegan&Vegetarian, MntDrinks, MntDesserts, MntAdditionalRequests, NumOfferPurchases, NumAppPurchases, NumTakeAwayPurchases, NumStorePurchases, NumAppVisitsMonth, Complain, Response_Cmp1, Response_Cmp2, Response_Cmp3, Response_Cmp4, Response_Cmp5, Gender, Age, daysAsCardClient, Graduation, HighSchool, Master, PhD, Married, Single, Widow, MntTotal, Mnt_pday_card, Response_Campaigns, Total_Kids, has_Kids, age_(17.943, 29.4], age_(29.4, 40.8], age_(40.8, 52.2], age_(52.2, 63.6], age_(63.6, 75.0]]\nIndex: []",
      "text/html": "<div>\n<style scoped>\n    .dataframe tbody tr th:only-of-type {\n        vertical-align: middle;\n    }\n\n    .dataframe tbody tr th {\n        vertical-align: top;\n    }\n\n    .dataframe thead th {\n        text-align: right;\n    }\n</style>\n<table border=\"1\" class=\"dataframe\">\n  <thead>\n    <tr style=\"text-align: right;\">\n      <th></th>\n      <th>Name</th>\n      <th>Income</th>\n      <th>Kid_Younger6</th>\n      <th>Children_6to18</th>\n      <th>Recency</th>\n      <th>MntMeat&amp;Fish</th>\n      <th>MntEntries</th>\n      <th>MntVegan&amp;Vegetarian</th>\n      <th>MntDrinks</th>\n      <th>MntDesserts</th>\n      <th>MntAdditionalRequests</th>\n      <th>NumOfferPurchases</th>\n      <th>NumAppPurchases</th>\n      <th>NumTakeAwayPurchases</th>\n      <th>NumStorePurchases</th>\n      <th>NumAppVisitsMonth</th>\n      <th>Complain</th>\n      <th>Response_Cmp1</th>\n      <th>Response_Cmp2</th>\n      <th>Response_Cmp3</th>\n      <th>Response_Cmp4</th>\n      <th>Response_Cmp5</th>\n      <th>Gender</th>\n      <th>Age</th>\n      <th>daysAsCardClient</th>\n      <th>Graduation</th>\n      <th>HighSchool</th>\n      <th>Master</th>\n      <th>PhD</th>\n      <th>Married</th>\n      <th>Single</th>\n      <th>Widow</th>\n      <th>MntTotal</th>\n      <th>Mnt_pday_card</th>\n      <th>Response_Campaigns</th>\n      <th>Total_Kids</th>\n      <th>has_Kids</th>\n      <th>age_(17.943, 29.4]</th>\n      <th>age_(29.4, 40.8]</th>\n      <th>age_(40.8, 52.2]</th>\n      <th>age_(52.2, 63.6]</th>\n      <th>age_(63.6, 75.0]</th>\n    </tr>\n    <tr>\n      <th>CustomerID</th>\n      <th></th>\n      <th></th>\n      <th></th>\n      <th></th>\n      <th></th>\n      <th></th>\n      <th></th>\n      <th></th>\n      <th></th>\n      <th></th>\n      <th></th>\n      <th></th>\n      <th></th>\n      <th></th>\n      <th></th>\n      <th></th>\n      <th></th>\n      <th></th>\n      <th></th>\n      <th></th>\n      <th></th>\n      <th></th>\n      <th></th>\n      <th></th>\n      <th></th>\n      <th></th>\n      <th></th>\n      <th></th>\n      <th></th>\n      <th></th>\n      <th></th>\n      <th></th>\n      <th></th>\n      <th></th>\n      <th></th>\n      <th></th>\n      <th></th>\n      <th></th>\n      <th></th>\n      <th></th>\n      <th></th>\n      <th></th>\n    </tr>\n  </thead>\n  <tbody>\n  </tbody>\n</table>\n</div>"
     },
     "execution_count": 55,
     "metadata": {},
     "output_type": "execute_result"
    }
   ],
   "source": [
    "df[(df[['MntMeat&Fish', 'MntEntries',\n",
    "        'MntVegan&Vegetarian', 'MntDrinks', 'MntDesserts',\n",
    "        'MntAdditionalRequests']].sum(axis = 1) > 0) & (df[['NumAppPurchases', 'NumTakeAwayPurchases', 'NumStorePurchases']].sum(axis = 1) <= 0)] # confirmação do ajuste"
   ],
   "metadata": {
    "collapsed": false
   }
  },
  {
   "cell_type": "markdown",
   "source": [
    "Ver se não há mais compras com ofertas do que compras totais"
   ],
   "metadata": {
    "collapsed": false
   }
  },
  {
   "cell_type": "code",
   "execution_count": 56,
   "outputs": [
    {
     "data": {
      "text/plain": "                             Name   Income  Kid_Younger6  Children_6to18  \\\nCustomerID                                                                 \n6185            Mr. Matt Clarkson   4609.6             2               0   \n7733           Mr. Jonathan Peake  10214.7             0               1   \n11753          Mr. Andrew Thomson  12680.0             0               0   \n7679             Miss Carol Clark  11211.9             1               0   \n20819           Mr. Colin Forsyth   7875.9             0               2   \n12011             Mr. Keith Mills   8503.6             0               0   \n31391          Mr. Justin Forsyth   9709.1             0               0   \n26018          Mr. Alan Sanderson   9539.3             1               1   \n33314         Mr. Michael Parsons  10468.8             0               1   \n25079           Mr. Harry Dickens   5048.0             0               1   \n23297            Mr. Harry Newman   3909.6             1               1   \n34565        Miss Jasmine Russell   7644.8             1               1   \n33191               Mr. Phil Kerr  11628.4             0               0   \n34802            Miss Ava Randall  11552.4             1               1   \n33236       Mr. Stewart Henderson   6535.7             0               1   \n23306          Mr. Michael Glover  10582.4             0               0   \n13388              Mr. Eric Berry   4554.8             1               0   \n28973         Miss Sonia Hemmings   9599.2             0               1   \n16043          Miss Wendy Coleman  13985.1             1               1   \n5366               Mr. Boris Reid   6065.1             1               1   \n31409         Mr. Christian Allan   3746.5             1               0   \n27335             Mr. Alan Mathis   7984.8             1               1   \n30521        Miss Stephanie Terry   3623.7             0               0   \n11162           Mr. Leonard Nolan  11451.7             0               0   \n23030            Miss Lily Gibson   9153.4             0               1   \n13748             Mr. David Paige   9432.2             0               1   \n25838           Mrs. Rebecca Gray   6577.2             0               0   \n7448            Mr. Jake Mitchell  14060.7             0               0   \n26696         Mr. Charles Pullman   5171.2             0               0   \n12800         Mr. Sebastian Paige   7175.5             2               2   \n17996             Mr. Paul Peters   7507.0             0               1   \n21251       Miss Kimberly Ellison   7298.2             0               1   \n7127              Mr. Joe Chapman   6324.3             1               0   \n\n            Recency  MntMeat&Fish  MntEntries  MntVegan&Vegetarian  MntDrinks  \\\nCustomerID                                                                      \n6185           32.0           0.0           0                  0.0        0.0   \n7733           53.0         991.0          72                217.5       24.0   \n11753          67.0         450.0          60               1126.5      266.0   \n7679            2.0         739.0         214                463.5      214.0   \n20819          94.0         263.0          10                349.5      106.0   \n12011          70.0        1046.0           0                 31.5        0.0   \n31391          26.0         304.0         184                265.5      170.0   \n26018          40.0         118.0          36                121.5       62.0   \n33314          10.0         851.0         170                237.0      194.0   \n25079          64.0           0.0           0                  0.0        0.0   \n23297          29.0           0.0           0                  0.0        0.0   \n34565          15.0           0.0           0                  0.0        0.0   \n33191          71.0         126.0         368                672.0      276.0   \n34802          17.0        1042.0           0                594.0       28.0   \n33236          26.0         388.0           8                 51.0        8.0   \n23306          87.0        1327.0         228                994.5      228.0   \n13388          99.0           0.0           0                  0.0        0.0   \n28973          97.0         512.0          26                147.0       12.0   \n16043          87.0         646.0          20                477.0       40.0   \n5366           75.0           0.0           0                  0.0        0.0   \n31409          35.0           0.0           0                  0.0        0.0   \n27335          72.0         141.0           2                 43.5        0.0   \n30521          94.0           0.0           0                  0.0        0.0   \n11162          68.0         516.0         398                823.5      166.0   \n23030          74.0         131.0          74                136.5      100.0   \n13748          99.0        1152.0           0                528.0       96.0   \n25838          21.0         466.0          66                286.5      198.0   \n7448           71.0         594.0         236               1246.5       47.4   \n26696          89.0           0.0           0                  0.0        0.0   \n12800          53.0           0.0           0                  0.0        0.0   \n17996          97.0           0.0           0                  0.0        0.0   \n21251          20.0         216.0          20                153.0       12.0   \n7127           85.0           0.0           0                  0.0        0.0   \n\n            MntDesserts  MntAdditionalRequests  NumOfferPurchases  \\\nCustomerID                                                          \n6185                0.0                    0.0                 15   \n7733               72.0                    1.2                 15   \n11753              32.0                    4.4                 15   \n7679              160.0                    3.5                 15   \n20819              82.0                    8.3                 15   \n12011               0.0                   12.9                 15   \n31391              98.0                    4.9                 15   \n26018              30.0                    3.6                 15   \n33314              72.0                    6.0                 15   \n25079               0.0                    0.0                 15   \n23297               0.0                    0.0                 15   \n34565               0.0                    0.0                 15   \n33191              50.6                    3.5                 15   \n34802              28.0                   13.2                 16   \n33236               0.0                    0.4                 15   \n23306             182.0                    2.2                 15   \n13388               0.0                    0.0                 15   \n28973              52.0                   12.4                 15   \n16043              82.0                    6.1                 15   \n5366                0.0                    0.0                 15   \n31409               0.0                    0.0                 15   \n27335              26.0                    4.2                 15   \n30521               0.0                    0.0                 15   \n11162              63.2                    4.9                 15   \n23030              46.0                    3.0                 15   \n13748              96.0                    1.6                 15   \n25838              66.0                    7.4                 15   \n7448              396.0                    7.9                 15   \n26696               0.0                    0.0                 15   \n12800               0.0                    0.0                 15   \n17996               0.0                    0.0                 15   \n21251              12.0                    4.4                 15   \n7127                0.0                    0.0                 15   \n\n            NumAppPurchases  NumTakeAwayPurchases  NumStorePurchases  \\\nCustomerID                                                             \n6185                      0                     0                  0   \n7733                      1                     1                  0   \n11753                     1                     1                  0   \n7679                      0                     1                  1   \n20819                     1                     1                  1   \n12011                     0                     0                  1   \n31391                     0                     0                  1   \n26018                     1                     0                  1   \n33314                     1                     1                  1   \n25079                     0                     0                  0   \n23297                     0                     0                  0   \n34565                     0                     0                  0   \n33191                     1                     1                  1   \n34802                     1                     1                  0   \n33236                     1                     0                  1   \n23306                     1                     1                  1   \n13388                     0                     0                  0   \n28973                     1                     0                  1   \n16043                     1                     0                  1   \n5366                      0                     0                  0   \n31409                     0                     0                  0   \n27335                     1                     0                  0   \n30521                     0                     0                  0   \n11162                     1                     1                  0   \n23030                     0                     0                  1   \n13748                     1                     1                  1   \n25838                     1                     0                  1   \n7448                      0                     1                  1   \n26696                     0                     0                  0   \n12800                     0                     0                  0   \n17996                     0                     0                  0   \n21251                     1                     0                  0   \n7127                      0                     0                  0   \n\n            NumAppVisitsMonth  Complain  Response_Cmp1  Response_Cmp2  \\\nCustomerID                                                              \n6185                       20         0              0              0   \n7733                       20         0              0              0   \n11753                      19         0              1              0   \n7679                       20         0              0              0   \n20819                      20         0              0              0   \n12011                      20         0              0              1   \n31391                      19         0              0              0   \n26018                      19         0              0              0   \n33314                      20         0              0              1   \n25079                      20         0              0              0   \n23297                      20         0              0              0   \n34565                      19         0              1              0   \n33191                      19         0              0              0   \n34802                      20         0              1              0   \n33236                      20         0              0              0   \n23306                      20         0              0              1   \n13388                      20         0              0              0   \n28973                      20         0              0              0   \n16043                      19         0              0              0   \n5366                       19         0              0              0   \n31409                      20         0              0              0   \n27335                      20         0              0              0   \n30521                      20         0              1              0   \n11162                      19         0              0              0   \n23030                      19         0              0              0   \n13748                      20         0              0              0   \n25838                      20         0              0              0   \n7448                       19         0              0              0   \n26696                      20         0              0              0   \n12800                      20         0              0              0   \n17996                      19         0              0              1   \n21251                      20         0              0              0   \n7127                       20         0              0              0   \n\n            Response_Cmp3  Response_Cmp4  Response_Cmp5  Gender  Age  \\\nCustomerID                                                             \n6185                    0              0              0       1   32   \n7733                    0              0              0       1   40   \n11753                   1              0              0       1   68   \n7679                    0              0              0       0   27   \n20819                   0              0              0       1   48   \n12011                   1              0              1       1   56   \n31391                   0              0              0       1   65   \n26018                   0              0              0       1   47   \n33314                   0              0              0       1   41   \n25079                   0              0              0       1   64   \n23297                   0              0              0       1   43   \n34565                   0              0              0       0   61   \n33191                   0              0              0       1   47   \n34802                   0              0              0       0   42   \n33236                   0              0              0       1   45   \n23306                   1              1              0       1   29   \n13388                   0              0              0       1   39   \n28973                   0              0              0       0   54   \n16043                   1              0              0       0   54   \n5366                    0              0              0       1   48   \n31409                   0              0              0       1   38   \n27335                   0              0              0       1   39   \n30521                   0              0              0       0   68   \n11162                   0              0              0       1   55   \n23030                   0              0              0       0   57   \n13748                   0              1              0       1   46   \n25838                   0              0              0       0   43   \n7448                    1              0              0       1   21   \n26696                   0              0              0       1   63   \n12800                   0              0              0       1   50   \n17996                   0              0              0       1   64   \n21251                   0              0              0       0   53   \n7127                    0              0              0       1   37   \n\n            daysAsCardClient  Graduation  HighSchool  Master  PhD  Married  \\\nCustomerID                                                                   \n6185                     825           0           0       1    0        1   \n7733                     631           0           0       1    0        1   \n11753                    795           1           0       0    0        1   \n7679                     926           1           0       0    0        1   \n20819                    968           1           0       0    0        1   \n12011                    405           1           0       0    0        1   \n31391                    434           0           0       0    1        0   \n26018                    313           1           0       0    0        0   \n33314                    878           0           0       1    0        1   \n25079                    944           0           0       0    1        1   \n23297                    846           1           0       0    0        1   \n34565                    654           0           1       0    0        0   \n33191                    370           0           1       0    0        1   \n34802                    976           0           0       0    1        1   \n33236                    795           0           0       0    1        1   \n23306                    938           0           1       0    0        1   \n13388                    810           0           1       0    0        1   \n28973                    700           1           0       0    0        1   \n16043                    602           0           0       0    1        0   \n5366                     345           0           0       0    1        0   \n31409                    946           1           0       0    0        0   \n27335                    689           1           0       0    0        1   \n30521                    493           1           0       0    0        1   \n11162                    659           1           0       0    0        1   \n23030                    464           0           1       0    0        0   \n13748                    747           0           0       0    1        1   \n25838                    950           1           0       0    0        1   \n7448                     390           0           1       0    0        1   \n26696                    288           1           0       0    0        0   \n12800                    849           0           0       0    1        1   \n17996                    294           0           0       0    1        1   \n21251                    925           1           0       0    0        1   \n7127                     448           0           1       0    0        0   \n\n            Single  Widow  MntTotal  Mnt_pday_card  Response_Campaigns  \\\nCustomerID                                                               \n6185             0      0     143.7       0.174182                   0   \n7733             0      0    1377.7       2.183360                   0   \n11753            0      0    1938.9       2.438868                   2   \n7679             0      0    1794.0       1.937365                   0   \n20819            0      0     818.8       0.845868                   0   \n12011            0      0    1090.4       2.692346                   3   \n31391            0      1    1026.4       2.364977                   0   \n26018            1      0     371.1       1.185623                   0   \n33314            0      0    1530.0       1.742597                   1   \n25079            0      0      23.5       0.024894                   0   \n23297            0      0      16.8       0.019858                   0   \n34565            1      0     242.7       0.371101                   1   \n33191            0      0    1496.1       4.043514                   0   \n34802            0      0    1705.2       1.747131                   1   \n33236            0      0     455.4       0.572830                   0   \n23306            0      0    2961.7       3.157463                   3   \n13388            0      0      66.1       0.081605                   0   \n28973            0      0     761.4       1.087714                   0   \n16043            1      0    1271.1       2.111462                   1   \n5366             1      0      62.7       0.181739                   0   \n31409            0      0     186.5       0.197146                   0   \n27335            0      0     216.7       0.314514                   0   \n30521            0      0     230.8       0.468154                   1   \n11162            0      0    1971.6       2.991806                   0   \n23030            1      0     490.5       1.057112                   0   \n13748            0      0    1873.6       2.508166                   1   \n25838            0      0    1089.9       1.147263                   0   \n7448             0      0    2527.8       6.481538                   1   \n26696            0      0      59.4       0.206250                   0   \n12800            0      0     181.0       0.213192                   0   \n17996            0      0      52.8       0.179592                   1   \n21251            0      0     417.4       0.451243                   0   \n7127             0      0     293.8       0.655804                   0   \n\n            Total_Kids  has_Kids  age_(17.943, 29.4]  age_(29.4, 40.8]  \\\nCustomerID                                                               \n6185                 2         1                   0                 1   \n7733                 1         1                   0                 1   \n11753                0         0                   0                 0   \n7679                 1         1                   1                 0   \n20819                2         1                   0                 0   \n12011                0         0                   0                 0   \n31391                0         0                   0                 0   \n26018                2         1                   0                 0   \n33314                1         1                   0                 0   \n25079                1         1                   0                 0   \n23297                2         1                   0                 0   \n34565                2         1                   0                 0   \n33191                0         0                   0                 0   \n34802                2         1                   0                 0   \n33236                1         1                   0                 0   \n23306                0         0                   1                 0   \n13388                1         1                   0                 1   \n28973                1         1                   0                 0   \n16043                2         1                   0                 0   \n5366                 2         1                   0                 0   \n31409                1         1                   0                 1   \n27335                2         1                   0                 1   \n30521                0         0                   0                 0   \n11162                0         0                   0                 0   \n23030                1         1                   0                 0   \n13748                1         1                   0                 0   \n25838                0         0                   0                 0   \n7448                 0         0                   1                 0   \n26696                0         0                   0                 0   \n12800                4         1                   0                 0   \n17996                1         1                   0                 0   \n21251                1         1                   0                 0   \n7127                 1         1                   0                 1   \n\n            age_(40.8, 52.2]  age_(52.2, 63.6]  age_(63.6, 75.0]  \nCustomerID                                                        \n6185                       0                 0                 0  \n7733                       0                 0                 0  \n11753                      0                 0                 1  \n7679                       0                 0                 0  \n20819                      1                 0                 0  \n12011                      0                 1                 0  \n31391                      0                 0                 1  \n26018                      1                 0                 0  \n33314                      1                 0                 0  \n25079                      0                 0                 1  \n23297                      1                 0                 0  \n34565                      0                 1                 0  \n33191                      1                 0                 0  \n34802                      1                 0                 0  \n33236                      1                 0                 0  \n23306                      0                 0                 0  \n13388                      0                 0                 0  \n28973                      0                 1                 0  \n16043                      0                 1                 0  \n5366                       1                 0                 0  \n31409                      0                 0                 0  \n27335                      0                 0                 0  \n30521                      0                 0                 1  \n11162                      0                 1                 0  \n23030                      0                 1                 0  \n13748                      1                 0                 0  \n25838                      1                 0                 0  \n7448                       0                 0                 0  \n26696                      0                 1                 0  \n12800                      1                 0                 0  \n17996                      0                 0                 1  \n21251                      0                 1                 0  \n7127                       0                 0                 0  ",
      "text/html": "<div>\n<style scoped>\n    .dataframe tbody tr th:only-of-type {\n        vertical-align: middle;\n    }\n\n    .dataframe tbody tr th {\n        vertical-align: top;\n    }\n\n    .dataframe thead th {\n        text-align: right;\n    }\n</style>\n<table border=\"1\" class=\"dataframe\">\n  <thead>\n    <tr style=\"text-align: right;\">\n      <th></th>\n      <th>Name</th>\n      <th>Income</th>\n      <th>Kid_Younger6</th>\n      <th>Children_6to18</th>\n      <th>Recency</th>\n      <th>MntMeat&amp;Fish</th>\n      <th>MntEntries</th>\n      <th>MntVegan&amp;Vegetarian</th>\n      <th>MntDrinks</th>\n      <th>MntDesserts</th>\n      <th>MntAdditionalRequests</th>\n      <th>NumOfferPurchases</th>\n      <th>NumAppPurchases</th>\n      <th>NumTakeAwayPurchases</th>\n      <th>NumStorePurchases</th>\n      <th>NumAppVisitsMonth</th>\n      <th>Complain</th>\n      <th>Response_Cmp1</th>\n      <th>Response_Cmp2</th>\n      <th>Response_Cmp3</th>\n      <th>Response_Cmp4</th>\n      <th>Response_Cmp5</th>\n      <th>Gender</th>\n      <th>Age</th>\n      <th>daysAsCardClient</th>\n      <th>Graduation</th>\n      <th>HighSchool</th>\n      <th>Master</th>\n      <th>PhD</th>\n      <th>Married</th>\n      <th>Single</th>\n      <th>Widow</th>\n      <th>MntTotal</th>\n      <th>Mnt_pday_card</th>\n      <th>Response_Campaigns</th>\n      <th>Total_Kids</th>\n      <th>has_Kids</th>\n      <th>age_(17.943, 29.4]</th>\n      <th>age_(29.4, 40.8]</th>\n      <th>age_(40.8, 52.2]</th>\n      <th>age_(52.2, 63.6]</th>\n      <th>age_(63.6, 75.0]</th>\n    </tr>\n    <tr>\n      <th>CustomerID</th>\n      <th></th>\n      <th></th>\n      <th></th>\n      <th></th>\n      <th></th>\n      <th></th>\n      <th></th>\n      <th></th>\n      <th></th>\n      <th></th>\n      <th></th>\n      <th></th>\n      <th></th>\n      <th></th>\n      <th></th>\n      <th></th>\n      <th></th>\n      <th></th>\n      <th></th>\n      <th></th>\n      <th></th>\n      <th></th>\n      <th></th>\n      <th></th>\n      <th></th>\n      <th></th>\n      <th></th>\n      <th></th>\n      <th></th>\n      <th></th>\n      <th></th>\n      <th></th>\n      <th></th>\n      <th></th>\n      <th></th>\n      <th></th>\n      <th></th>\n      <th></th>\n      <th></th>\n      <th></th>\n      <th></th>\n      <th></th>\n    </tr>\n  </thead>\n  <tbody>\n    <tr>\n      <th>6185</th>\n      <td>Mr. Matt Clarkson</td>\n      <td>4609.6</td>\n      <td>2</td>\n      <td>0</td>\n      <td>32.0</td>\n      <td>0.0</td>\n      <td>0</td>\n      <td>0.0</td>\n      <td>0.0</td>\n      <td>0.0</td>\n      <td>0.0</td>\n      <td>15</td>\n      <td>0</td>\n      <td>0</td>\n      <td>0</td>\n      <td>20</td>\n      <td>0</td>\n      <td>0</td>\n      <td>0</td>\n      <td>0</td>\n      <td>0</td>\n      <td>0</td>\n      <td>1</td>\n      <td>32</td>\n      <td>825</td>\n      <td>0</td>\n      <td>0</td>\n      <td>1</td>\n      <td>0</td>\n      <td>1</td>\n      <td>0</td>\n      <td>0</td>\n      <td>143.7</td>\n      <td>0.174182</td>\n      <td>0</td>\n      <td>2</td>\n      <td>1</td>\n      <td>0</td>\n      <td>1</td>\n      <td>0</td>\n      <td>0</td>\n      <td>0</td>\n    </tr>\n    <tr>\n      <th>7733</th>\n      <td>Mr. Jonathan Peake</td>\n      <td>10214.7</td>\n      <td>0</td>\n      <td>1</td>\n      <td>53.0</td>\n      <td>991.0</td>\n      <td>72</td>\n      <td>217.5</td>\n      <td>24.0</td>\n      <td>72.0</td>\n      <td>1.2</td>\n      <td>15</td>\n      <td>1</td>\n      <td>1</td>\n      <td>0</td>\n      <td>20</td>\n      <td>0</td>\n      <td>0</td>\n      <td>0</td>\n      <td>0</td>\n      <td>0</td>\n      <td>0</td>\n      <td>1</td>\n      <td>40</td>\n      <td>631</td>\n      <td>0</td>\n      <td>0</td>\n      <td>1</td>\n      <td>0</td>\n      <td>1</td>\n      <td>0</td>\n      <td>0</td>\n      <td>1377.7</td>\n      <td>2.183360</td>\n      <td>0</td>\n      <td>1</td>\n      <td>1</td>\n      <td>0</td>\n      <td>1</td>\n      <td>0</td>\n      <td>0</td>\n      <td>0</td>\n    </tr>\n    <tr>\n      <th>11753</th>\n      <td>Mr. Andrew Thomson</td>\n      <td>12680.0</td>\n      <td>0</td>\n      <td>0</td>\n      <td>67.0</td>\n      <td>450.0</td>\n      <td>60</td>\n      <td>1126.5</td>\n      <td>266.0</td>\n      <td>32.0</td>\n      <td>4.4</td>\n      <td>15</td>\n      <td>1</td>\n      <td>1</td>\n      <td>0</td>\n      <td>19</td>\n      <td>0</td>\n      <td>1</td>\n      <td>0</td>\n      <td>1</td>\n      <td>0</td>\n      <td>0</td>\n      <td>1</td>\n      <td>68</td>\n      <td>795</td>\n      <td>1</td>\n      <td>0</td>\n      <td>0</td>\n      <td>0</td>\n      <td>1</td>\n      <td>0</td>\n      <td>0</td>\n      <td>1938.9</td>\n      <td>2.438868</td>\n      <td>2</td>\n      <td>0</td>\n      <td>0</td>\n      <td>0</td>\n      <td>0</td>\n      <td>0</td>\n      <td>0</td>\n      <td>1</td>\n    </tr>\n    <tr>\n      <th>7679</th>\n      <td>Miss Carol Clark</td>\n      <td>11211.9</td>\n      <td>1</td>\n      <td>0</td>\n      <td>2.0</td>\n      <td>739.0</td>\n      <td>214</td>\n      <td>463.5</td>\n      <td>214.0</td>\n      <td>160.0</td>\n      <td>3.5</td>\n      <td>15</td>\n      <td>0</td>\n      <td>1</td>\n      <td>1</td>\n      <td>20</td>\n      <td>0</td>\n      <td>0</td>\n      <td>0</td>\n      <td>0</td>\n      <td>0</td>\n      <td>0</td>\n      <td>0</td>\n      <td>27</td>\n      <td>926</td>\n      <td>1</td>\n      <td>0</td>\n      <td>0</td>\n      <td>0</td>\n      <td>1</td>\n      <td>0</td>\n      <td>0</td>\n      <td>1794.0</td>\n      <td>1.937365</td>\n      <td>0</td>\n      <td>1</td>\n      <td>1</td>\n      <td>1</td>\n      <td>0</td>\n      <td>0</td>\n      <td>0</td>\n      <td>0</td>\n    </tr>\n    <tr>\n      <th>20819</th>\n      <td>Mr. Colin Forsyth</td>\n      <td>7875.9</td>\n      <td>0</td>\n      <td>2</td>\n      <td>94.0</td>\n      <td>263.0</td>\n      <td>10</td>\n      <td>349.5</td>\n      <td>106.0</td>\n      <td>82.0</td>\n      <td>8.3</td>\n      <td>15</td>\n      <td>1</td>\n      <td>1</td>\n      <td>1</td>\n      <td>20</td>\n      <td>0</td>\n      <td>0</td>\n      <td>0</td>\n      <td>0</td>\n      <td>0</td>\n      <td>0</td>\n      <td>1</td>\n      <td>48</td>\n      <td>968</td>\n      <td>1</td>\n      <td>0</td>\n      <td>0</td>\n      <td>0</td>\n      <td>1</td>\n      <td>0</td>\n      <td>0</td>\n      <td>818.8</td>\n      <td>0.845868</td>\n      <td>0</td>\n      <td>2</td>\n      <td>1</td>\n      <td>0</td>\n      <td>0</td>\n      <td>1</td>\n      <td>0</td>\n      <td>0</td>\n    </tr>\n    <tr>\n      <th>12011</th>\n      <td>Mr. Keith Mills</td>\n      <td>8503.6</td>\n      <td>0</td>\n      <td>0</td>\n      <td>70.0</td>\n      <td>1046.0</td>\n      <td>0</td>\n      <td>31.5</td>\n      <td>0.0</td>\n      <td>0.0</td>\n      <td>12.9</td>\n      <td>15</td>\n      <td>0</td>\n      <td>0</td>\n      <td>1</td>\n      <td>20</td>\n      <td>0</td>\n      <td>0</td>\n      <td>1</td>\n      <td>1</td>\n      <td>0</td>\n      <td>1</td>\n      <td>1</td>\n      <td>56</td>\n      <td>405</td>\n      <td>1</td>\n      <td>0</td>\n      <td>0</td>\n      <td>0</td>\n      <td>1</td>\n      <td>0</td>\n      <td>0</td>\n      <td>1090.4</td>\n      <td>2.692346</td>\n      <td>3</td>\n      <td>0</td>\n      <td>0</td>\n      <td>0</td>\n      <td>0</td>\n      <td>0</td>\n      <td>1</td>\n      <td>0</td>\n    </tr>\n    <tr>\n      <th>31391</th>\n      <td>Mr. Justin Forsyth</td>\n      <td>9709.1</td>\n      <td>0</td>\n      <td>0</td>\n      <td>26.0</td>\n      <td>304.0</td>\n      <td>184</td>\n      <td>265.5</td>\n      <td>170.0</td>\n      <td>98.0</td>\n      <td>4.9</td>\n      <td>15</td>\n      <td>0</td>\n      <td>0</td>\n      <td>1</td>\n      <td>19</td>\n      <td>0</td>\n      <td>0</td>\n      <td>0</td>\n      <td>0</td>\n      <td>0</td>\n      <td>0</td>\n      <td>1</td>\n      <td>65</td>\n      <td>434</td>\n      <td>0</td>\n      <td>0</td>\n      <td>0</td>\n      <td>1</td>\n      <td>0</td>\n      <td>0</td>\n      <td>1</td>\n      <td>1026.4</td>\n      <td>2.364977</td>\n      <td>0</td>\n      <td>0</td>\n      <td>0</td>\n      <td>0</td>\n      <td>0</td>\n      <td>0</td>\n      <td>0</td>\n      <td>1</td>\n    </tr>\n    <tr>\n      <th>26018</th>\n      <td>Mr. Alan Sanderson</td>\n      <td>9539.3</td>\n      <td>1</td>\n      <td>1</td>\n      <td>40.0</td>\n      <td>118.0</td>\n      <td>36</td>\n      <td>121.5</td>\n      <td>62.0</td>\n      <td>30.0</td>\n      <td>3.6</td>\n      <td>15</td>\n      <td>1</td>\n      <td>0</td>\n      <td>1</td>\n      <td>19</td>\n      <td>0</td>\n      <td>0</td>\n      <td>0</td>\n      <td>0</td>\n      <td>0</td>\n      <td>0</td>\n      <td>1</td>\n      <td>47</td>\n      <td>313</td>\n      <td>1</td>\n      <td>0</td>\n      <td>0</td>\n      <td>0</td>\n      <td>0</td>\n      <td>1</td>\n      <td>0</td>\n      <td>371.1</td>\n      <td>1.185623</td>\n      <td>0</td>\n      <td>2</td>\n      <td>1</td>\n      <td>0</td>\n      <td>0</td>\n      <td>1</td>\n      <td>0</td>\n      <td>0</td>\n    </tr>\n    <tr>\n      <th>33314</th>\n      <td>Mr. Michael Parsons</td>\n      <td>10468.8</td>\n      <td>0</td>\n      <td>1</td>\n      <td>10.0</td>\n      <td>851.0</td>\n      <td>170</td>\n      <td>237.0</td>\n      <td>194.0</td>\n      <td>72.0</td>\n      <td>6.0</td>\n      <td>15</td>\n      <td>1</td>\n      <td>1</td>\n      <td>1</td>\n      <td>20</td>\n      <td>0</td>\n      <td>0</td>\n      <td>1</td>\n      <td>0</td>\n      <td>0</td>\n      <td>0</td>\n      <td>1</td>\n      <td>41</td>\n      <td>878</td>\n      <td>0</td>\n      <td>0</td>\n      <td>1</td>\n      <td>0</td>\n      <td>1</td>\n      <td>0</td>\n      <td>0</td>\n      <td>1530.0</td>\n      <td>1.742597</td>\n      <td>1</td>\n      <td>1</td>\n      <td>1</td>\n      <td>0</td>\n      <td>0</td>\n      <td>1</td>\n      <td>0</td>\n      <td>0</td>\n    </tr>\n    <tr>\n      <th>25079</th>\n      <td>Mr. Harry Dickens</td>\n      <td>5048.0</td>\n      <td>0</td>\n      <td>1</td>\n      <td>64.0</td>\n      <td>0.0</td>\n      <td>0</td>\n      <td>0.0</td>\n      <td>0.0</td>\n      <td>0.0</td>\n      <td>0.0</td>\n      <td>15</td>\n      <td>0</td>\n      <td>0</td>\n      <td>0</td>\n      <td>20</td>\n      <td>0</td>\n      <td>0</td>\n      <td>0</td>\n      <td>0</td>\n      <td>0</td>\n      <td>0</td>\n      <td>1</td>\n      <td>64</td>\n      <td>944</td>\n      <td>0</td>\n      <td>0</td>\n      <td>0</td>\n      <td>1</td>\n      <td>1</td>\n      <td>0</td>\n      <td>0</td>\n      <td>23.5</td>\n      <td>0.024894</td>\n      <td>0</td>\n      <td>1</td>\n      <td>1</td>\n      <td>0</td>\n      <td>0</td>\n      <td>0</td>\n      <td>0</td>\n      <td>1</td>\n    </tr>\n    <tr>\n      <th>23297</th>\n      <td>Mr. Harry Newman</td>\n      <td>3909.6</td>\n      <td>1</td>\n      <td>1</td>\n      <td>29.0</td>\n      <td>0.0</td>\n      <td>0</td>\n      <td>0.0</td>\n      <td>0.0</td>\n      <td>0.0</td>\n      <td>0.0</td>\n      <td>15</td>\n      <td>0</td>\n      <td>0</td>\n      <td>0</td>\n      <td>20</td>\n      <td>0</td>\n      <td>0</td>\n      <td>0</td>\n      <td>0</td>\n      <td>0</td>\n      <td>0</td>\n      <td>1</td>\n      <td>43</td>\n      <td>846</td>\n      <td>1</td>\n      <td>0</td>\n      <td>0</td>\n      <td>0</td>\n      <td>1</td>\n      <td>0</td>\n      <td>0</td>\n      <td>16.8</td>\n      <td>0.019858</td>\n      <td>0</td>\n      <td>2</td>\n      <td>1</td>\n      <td>0</td>\n      <td>0</td>\n      <td>1</td>\n      <td>0</td>\n      <td>0</td>\n    </tr>\n    <tr>\n      <th>34565</th>\n      <td>Miss Jasmine Russell</td>\n      <td>7644.8</td>\n      <td>1</td>\n      <td>1</td>\n      <td>15.0</td>\n      <td>0.0</td>\n      <td>0</td>\n      <td>0.0</td>\n      <td>0.0</td>\n      <td>0.0</td>\n      <td>0.0</td>\n      <td>15</td>\n      <td>0</td>\n      <td>0</td>\n      <td>0</td>\n      <td>19</td>\n      <td>0</td>\n      <td>1</td>\n      <td>0</td>\n      <td>0</td>\n      <td>0</td>\n      <td>0</td>\n      <td>0</td>\n      <td>61</td>\n      <td>654</td>\n      <td>0</td>\n      <td>1</td>\n      <td>0</td>\n      <td>0</td>\n      <td>0</td>\n      <td>1</td>\n      <td>0</td>\n      <td>242.7</td>\n      <td>0.371101</td>\n      <td>1</td>\n      <td>2</td>\n      <td>1</td>\n      <td>0</td>\n      <td>0</td>\n      <td>0</td>\n      <td>1</td>\n      <td>0</td>\n    </tr>\n    <tr>\n      <th>33191</th>\n      <td>Mr. Phil Kerr</td>\n      <td>11628.4</td>\n      <td>0</td>\n      <td>0</td>\n      <td>71.0</td>\n      <td>126.0</td>\n      <td>368</td>\n      <td>672.0</td>\n      <td>276.0</td>\n      <td>50.6</td>\n      <td>3.5</td>\n      <td>15</td>\n      <td>1</td>\n      <td>1</td>\n      <td>1</td>\n      <td>19</td>\n      <td>0</td>\n      <td>0</td>\n      <td>0</td>\n      <td>0</td>\n      <td>0</td>\n      <td>0</td>\n      <td>1</td>\n      <td>47</td>\n      <td>370</td>\n      <td>0</td>\n      <td>1</td>\n      <td>0</td>\n      <td>0</td>\n      <td>1</td>\n      <td>0</td>\n      <td>0</td>\n      <td>1496.1</td>\n      <td>4.043514</td>\n      <td>0</td>\n      <td>0</td>\n      <td>0</td>\n      <td>0</td>\n      <td>0</td>\n      <td>1</td>\n      <td>0</td>\n      <td>0</td>\n    </tr>\n    <tr>\n      <th>34802</th>\n      <td>Miss Ava Randall</td>\n      <td>11552.4</td>\n      <td>1</td>\n      <td>1</td>\n      <td>17.0</td>\n      <td>1042.0</td>\n      <td>0</td>\n      <td>594.0</td>\n      <td>28.0</td>\n      <td>28.0</td>\n      <td>13.2</td>\n      <td>16</td>\n      <td>1</td>\n      <td>1</td>\n      <td>0</td>\n      <td>20</td>\n      <td>0</td>\n      <td>1</td>\n      <td>0</td>\n      <td>0</td>\n      <td>0</td>\n      <td>0</td>\n      <td>0</td>\n      <td>42</td>\n      <td>976</td>\n      <td>0</td>\n      <td>0</td>\n      <td>0</td>\n      <td>1</td>\n      <td>1</td>\n      <td>0</td>\n      <td>0</td>\n      <td>1705.2</td>\n      <td>1.747131</td>\n      <td>1</td>\n      <td>2</td>\n      <td>1</td>\n      <td>0</td>\n      <td>0</td>\n      <td>1</td>\n      <td>0</td>\n      <td>0</td>\n    </tr>\n    <tr>\n      <th>33236</th>\n      <td>Mr. Stewart Henderson</td>\n      <td>6535.7</td>\n      <td>0</td>\n      <td>1</td>\n      <td>26.0</td>\n      <td>388.0</td>\n      <td>8</td>\n      <td>51.0</td>\n      <td>8.0</td>\n      <td>0.0</td>\n      <td>0.4</td>\n      <td>15</td>\n      <td>1</td>\n      <td>0</td>\n      <td>1</td>\n      <td>20</td>\n      <td>0</td>\n      <td>0</td>\n      <td>0</td>\n      <td>0</td>\n      <td>0</td>\n      <td>0</td>\n      <td>1</td>\n      <td>45</td>\n      <td>795</td>\n      <td>0</td>\n      <td>0</td>\n      <td>0</td>\n      <td>1</td>\n      <td>1</td>\n      <td>0</td>\n      <td>0</td>\n      <td>455.4</td>\n      <td>0.572830</td>\n      <td>0</td>\n      <td>1</td>\n      <td>1</td>\n      <td>0</td>\n      <td>0</td>\n      <td>1</td>\n      <td>0</td>\n      <td>0</td>\n    </tr>\n    <tr>\n      <th>23306</th>\n      <td>Mr. Michael Glover</td>\n      <td>10582.4</td>\n      <td>0</td>\n      <td>0</td>\n      <td>87.0</td>\n      <td>1327.0</td>\n      <td>228</td>\n      <td>994.5</td>\n      <td>228.0</td>\n      <td>182.0</td>\n      <td>2.2</td>\n      <td>15</td>\n      <td>1</td>\n      <td>1</td>\n      <td>1</td>\n      <td>20</td>\n      <td>0</td>\n      <td>0</td>\n      <td>1</td>\n      <td>1</td>\n      <td>1</td>\n      <td>0</td>\n      <td>1</td>\n      <td>29</td>\n      <td>938</td>\n      <td>0</td>\n      <td>1</td>\n      <td>0</td>\n      <td>0</td>\n      <td>1</td>\n      <td>0</td>\n      <td>0</td>\n      <td>2961.7</td>\n      <td>3.157463</td>\n      <td>3</td>\n      <td>0</td>\n      <td>0</td>\n      <td>1</td>\n      <td>0</td>\n      <td>0</td>\n      <td>0</td>\n      <td>0</td>\n    </tr>\n    <tr>\n      <th>13388</th>\n      <td>Mr. Eric Berry</td>\n      <td>4554.8</td>\n      <td>1</td>\n      <td>0</td>\n      <td>99.0</td>\n      <td>0.0</td>\n      <td>0</td>\n      <td>0.0</td>\n      <td>0.0</td>\n      <td>0.0</td>\n      <td>0.0</td>\n      <td>15</td>\n      <td>0</td>\n      <td>0</td>\n      <td>0</td>\n      <td>20</td>\n      <td>0</td>\n      <td>0</td>\n      <td>0</td>\n      <td>0</td>\n      <td>0</td>\n      <td>0</td>\n      <td>1</td>\n      <td>39</td>\n      <td>810</td>\n      <td>0</td>\n      <td>1</td>\n      <td>0</td>\n      <td>0</td>\n      <td>1</td>\n      <td>0</td>\n      <td>0</td>\n      <td>66.1</td>\n      <td>0.081605</td>\n      <td>0</td>\n      <td>1</td>\n      <td>1</td>\n      <td>0</td>\n      <td>1</td>\n      <td>0</td>\n      <td>0</td>\n      <td>0</td>\n    </tr>\n    <tr>\n      <th>28973</th>\n      <td>Miss Sonia Hemmings</td>\n      <td>9599.2</td>\n      <td>0</td>\n      <td>1</td>\n      <td>97.0</td>\n      <td>512.0</td>\n      <td>26</td>\n      <td>147.0</td>\n      <td>12.0</td>\n      <td>52.0</td>\n      <td>12.4</td>\n      <td>15</td>\n      <td>1</td>\n      <td>0</td>\n      <td>1</td>\n      <td>20</td>\n      <td>0</td>\n      <td>0</td>\n      <td>0</td>\n      <td>0</td>\n      <td>0</td>\n      <td>0</td>\n      <td>0</td>\n      <td>54</td>\n      <td>700</td>\n      <td>1</td>\n      <td>0</td>\n      <td>0</td>\n      <td>0</td>\n      <td>1</td>\n      <td>0</td>\n      <td>0</td>\n      <td>761.4</td>\n      <td>1.087714</td>\n      <td>0</td>\n      <td>1</td>\n      <td>1</td>\n      <td>0</td>\n      <td>0</td>\n      <td>0</td>\n      <td>1</td>\n      <td>0</td>\n    </tr>\n    <tr>\n      <th>16043</th>\n      <td>Miss Wendy Coleman</td>\n      <td>13985.1</td>\n      <td>1</td>\n      <td>1</td>\n      <td>87.0</td>\n      <td>646.0</td>\n      <td>20</td>\n      <td>477.0</td>\n      <td>40.0</td>\n      <td>82.0</td>\n      <td>6.1</td>\n      <td>15</td>\n      <td>1</td>\n      <td>0</td>\n      <td>1</td>\n      <td>19</td>\n      <td>0</td>\n      <td>0</td>\n      <td>0</td>\n      <td>1</td>\n      <td>0</td>\n      <td>0</td>\n      <td>0</td>\n      <td>54</td>\n      <td>602</td>\n      <td>0</td>\n      <td>0</td>\n      <td>0</td>\n      <td>1</td>\n      <td>0</td>\n      <td>1</td>\n      <td>0</td>\n      <td>1271.1</td>\n      <td>2.111462</td>\n      <td>1</td>\n      <td>2</td>\n      <td>1</td>\n      <td>0</td>\n      <td>0</td>\n      <td>0</td>\n      <td>1</td>\n      <td>0</td>\n    </tr>\n    <tr>\n      <th>5366</th>\n      <td>Mr. Boris Reid</td>\n      <td>6065.1</td>\n      <td>1</td>\n      <td>1</td>\n      <td>75.0</td>\n      <td>0.0</td>\n      <td>0</td>\n      <td>0.0</td>\n      <td>0.0</td>\n      <td>0.0</td>\n      <td>0.0</td>\n      <td>15</td>\n      <td>0</td>\n      <td>0</td>\n      <td>0</td>\n      <td>19</td>\n      <td>0</td>\n      <td>0</td>\n      <td>0</td>\n      <td>0</td>\n      <td>0</td>\n      <td>0</td>\n      <td>1</td>\n      <td>48</td>\n      <td>345</td>\n      <td>0</td>\n      <td>0</td>\n      <td>0</td>\n      <td>1</td>\n      <td>0</td>\n      <td>1</td>\n      <td>0</td>\n      <td>62.7</td>\n      <td>0.181739</td>\n      <td>0</td>\n      <td>2</td>\n      <td>1</td>\n      <td>0</td>\n      <td>0</td>\n      <td>1</td>\n      <td>0</td>\n      <td>0</td>\n    </tr>\n    <tr>\n      <th>31409</th>\n      <td>Mr. Christian Allan</td>\n      <td>3746.5</td>\n      <td>1</td>\n      <td>0</td>\n      <td>35.0</td>\n      <td>0.0</td>\n      <td>0</td>\n      <td>0.0</td>\n      <td>0.0</td>\n      <td>0.0</td>\n      <td>0.0</td>\n      <td>15</td>\n      <td>0</td>\n      <td>0</td>\n      <td>0</td>\n      <td>20</td>\n      <td>0</td>\n      <td>0</td>\n      <td>0</td>\n      <td>0</td>\n      <td>0</td>\n      <td>0</td>\n      <td>1</td>\n      <td>38</td>\n      <td>946</td>\n      <td>1</td>\n      <td>0</td>\n      <td>0</td>\n      <td>0</td>\n      <td>0</td>\n      <td>0</td>\n      <td>0</td>\n      <td>186.5</td>\n      <td>0.197146</td>\n      <td>0</td>\n      <td>1</td>\n      <td>1</td>\n      <td>0</td>\n      <td>1</td>\n      <td>0</td>\n      <td>0</td>\n      <td>0</td>\n    </tr>\n    <tr>\n      <th>27335</th>\n      <td>Mr. Alan Mathis</td>\n      <td>7984.8</td>\n      <td>1</td>\n      <td>1</td>\n      <td>72.0</td>\n      <td>141.0</td>\n      <td>2</td>\n      <td>43.5</td>\n      <td>0.0</td>\n      <td>26.0</td>\n      <td>4.2</td>\n      <td>15</td>\n      <td>1</td>\n      <td>0</td>\n      <td>0</td>\n      <td>20</td>\n      <td>0</td>\n      <td>0</td>\n      <td>0</td>\n      <td>0</td>\n      <td>0</td>\n      <td>0</td>\n      <td>1</td>\n      <td>39</td>\n      <td>689</td>\n      <td>1</td>\n      <td>0</td>\n      <td>0</td>\n      <td>0</td>\n      <td>1</td>\n      <td>0</td>\n      <td>0</td>\n      <td>216.7</td>\n      <td>0.314514</td>\n      <td>0</td>\n      <td>2</td>\n      <td>1</td>\n      <td>0</td>\n      <td>1</td>\n      <td>0</td>\n      <td>0</td>\n      <td>0</td>\n    </tr>\n    <tr>\n      <th>30521</th>\n      <td>Miss Stephanie Terry</td>\n      <td>3623.7</td>\n      <td>0</td>\n      <td>0</td>\n      <td>94.0</td>\n      <td>0.0</td>\n      <td>0</td>\n      <td>0.0</td>\n      <td>0.0</td>\n      <td>0.0</td>\n      <td>0.0</td>\n      <td>15</td>\n      <td>0</td>\n      <td>0</td>\n      <td>0</td>\n      <td>20</td>\n      <td>0</td>\n      <td>1</td>\n      <td>0</td>\n      <td>0</td>\n      <td>0</td>\n      <td>0</td>\n      <td>0</td>\n      <td>68</td>\n      <td>493</td>\n      <td>1</td>\n      <td>0</td>\n      <td>0</td>\n      <td>0</td>\n      <td>1</td>\n      <td>0</td>\n      <td>0</td>\n      <td>230.8</td>\n      <td>0.468154</td>\n      <td>1</td>\n      <td>0</td>\n      <td>0</td>\n      <td>0</td>\n      <td>0</td>\n      <td>0</td>\n      <td>0</td>\n      <td>1</td>\n    </tr>\n    <tr>\n      <th>11162</th>\n      <td>Mr. Leonard Nolan</td>\n      <td>11451.7</td>\n      <td>0</td>\n      <td>0</td>\n      <td>68.0</td>\n      <td>516.0</td>\n      <td>398</td>\n      <td>823.5</td>\n      <td>166.0</td>\n      <td>63.2</td>\n      <td>4.9</td>\n      <td>15</td>\n      <td>1</td>\n      <td>1</td>\n      <td>0</td>\n      <td>19</td>\n      <td>0</td>\n      <td>0</td>\n      <td>0</td>\n      <td>0</td>\n      <td>0</td>\n      <td>0</td>\n      <td>1</td>\n      <td>55</td>\n      <td>659</td>\n      <td>1</td>\n      <td>0</td>\n      <td>0</td>\n      <td>0</td>\n      <td>1</td>\n      <td>0</td>\n      <td>0</td>\n      <td>1971.6</td>\n      <td>2.991806</td>\n      <td>0</td>\n      <td>0</td>\n      <td>0</td>\n      <td>0</td>\n      <td>0</td>\n      <td>0</td>\n      <td>1</td>\n      <td>0</td>\n    </tr>\n    <tr>\n      <th>23030</th>\n      <td>Miss Lily Gibson</td>\n      <td>9153.4</td>\n      <td>0</td>\n      <td>1</td>\n      <td>74.0</td>\n      <td>131.0</td>\n      <td>74</td>\n      <td>136.5</td>\n      <td>100.0</td>\n      <td>46.0</td>\n      <td>3.0</td>\n      <td>15</td>\n      <td>0</td>\n      <td>0</td>\n      <td>1</td>\n      <td>19</td>\n      <td>0</td>\n      <td>0</td>\n      <td>0</td>\n      <td>0</td>\n      <td>0</td>\n      <td>0</td>\n      <td>0</td>\n      <td>57</td>\n      <td>464</td>\n      <td>0</td>\n      <td>1</td>\n      <td>0</td>\n      <td>0</td>\n      <td>0</td>\n      <td>1</td>\n      <td>0</td>\n      <td>490.5</td>\n      <td>1.057112</td>\n      <td>0</td>\n      <td>1</td>\n      <td>1</td>\n      <td>0</td>\n      <td>0</td>\n      <td>0</td>\n      <td>1</td>\n      <td>0</td>\n    </tr>\n    <tr>\n      <th>13748</th>\n      <td>Mr. David Paige</td>\n      <td>9432.2</td>\n      <td>0</td>\n      <td>1</td>\n      <td>99.0</td>\n      <td>1152.0</td>\n      <td>0</td>\n      <td>528.0</td>\n      <td>96.0</td>\n      <td>96.0</td>\n      <td>1.6</td>\n      <td>15</td>\n      <td>1</td>\n      <td>1</td>\n      <td>1</td>\n      <td>20</td>\n      <td>0</td>\n      <td>0</td>\n      <td>0</td>\n      <td>0</td>\n      <td>1</td>\n      <td>0</td>\n      <td>1</td>\n      <td>46</td>\n      <td>747</td>\n      <td>0</td>\n      <td>0</td>\n      <td>0</td>\n      <td>1</td>\n      <td>1</td>\n      <td>0</td>\n      <td>0</td>\n      <td>1873.6</td>\n      <td>2.508166</td>\n      <td>1</td>\n      <td>1</td>\n      <td>1</td>\n      <td>0</td>\n      <td>0</td>\n      <td>1</td>\n      <td>0</td>\n      <td>0</td>\n    </tr>\n    <tr>\n      <th>25838</th>\n      <td>Mrs. Rebecca Gray</td>\n      <td>6577.2</td>\n      <td>0</td>\n      <td>0</td>\n      <td>21.0</td>\n      <td>466.0</td>\n      <td>66</td>\n      <td>286.5</td>\n      <td>198.0</td>\n      <td>66.0</td>\n      <td>7.4</td>\n      <td>15</td>\n      <td>1</td>\n      <td>0</td>\n      <td>1</td>\n      <td>20</td>\n      <td>0</td>\n      <td>0</td>\n      <td>0</td>\n      <td>0</td>\n      <td>0</td>\n      <td>0</td>\n      <td>0</td>\n      <td>43</td>\n      <td>950</td>\n      <td>1</td>\n      <td>0</td>\n      <td>0</td>\n      <td>0</td>\n      <td>1</td>\n      <td>0</td>\n      <td>0</td>\n      <td>1089.9</td>\n      <td>1.147263</td>\n      <td>0</td>\n      <td>0</td>\n      <td>0</td>\n      <td>0</td>\n      <td>0</td>\n      <td>1</td>\n      <td>0</td>\n      <td>0</td>\n    </tr>\n    <tr>\n      <th>7448</th>\n      <td>Mr. Jake Mitchell</td>\n      <td>14060.7</td>\n      <td>0</td>\n      <td>0</td>\n      <td>71.0</td>\n      <td>594.0</td>\n      <td>236</td>\n      <td>1246.5</td>\n      <td>47.4</td>\n      <td>396.0</td>\n      <td>7.9</td>\n      <td>15</td>\n      <td>0</td>\n      <td>1</td>\n      <td>1</td>\n      <td>19</td>\n      <td>0</td>\n      <td>0</td>\n      <td>0</td>\n      <td>1</td>\n      <td>0</td>\n      <td>0</td>\n      <td>1</td>\n      <td>21</td>\n      <td>390</td>\n      <td>0</td>\n      <td>1</td>\n      <td>0</td>\n      <td>0</td>\n      <td>1</td>\n      <td>0</td>\n      <td>0</td>\n      <td>2527.8</td>\n      <td>6.481538</td>\n      <td>1</td>\n      <td>0</td>\n      <td>0</td>\n      <td>1</td>\n      <td>0</td>\n      <td>0</td>\n      <td>0</td>\n      <td>0</td>\n    </tr>\n    <tr>\n      <th>26696</th>\n      <td>Mr. Charles Pullman</td>\n      <td>5171.2</td>\n      <td>0</td>\n      <td>0</td>\n      <td>89.0</td>\n      <td>0.0</td>\n      <td>0</td>\n      <td>0.0</td>\n      <td>0.0</td>\n      <td>0.0</td>\n      <td>0.0</td>\n      <td>15</td>\n      <td>0</td>\n      <td>0</td>\n      <td>0</td>\n      <td>20</td>\n      <td>0</td>\n      <td>0</td>\n      <td>0</td>\n      <td>0</td>\n      <td>0</td>\n      <td>0</td>\n      <td>1</td>\n      <td>63</td>\n      <td>288</td>\n      <td>1</td>\n      <td>0</td>\n      <td>0</td>\n      <td>0</td>\n      <td>0</td>\n      <td>0</td>\n      <td>0</td>\n      <td>59.4</td>\n      <td>0.206250</td>\n      <td>0</td>\n      <td>0</td>\n      <td>0</td>\n      <td>0</td>\n      <td>0</td>\n      <td>0</td>\n      <td>1</td>\n      <td>0</td>\n    </tr>\n    <tr>\n      <th>12800</th>\n      <td>Mr. Sebastian Paige</td>\n      <td>7175.5</td>\n      <td>2</td>\n      <td>2</td>\n      <td>53.0</td>\n      <td>0.0</td>\n      <td>0</td>\n      <td>0.0</td>\n      <td>0.0</td>\n      <td>0.0</td>\n      <td>0.0</td>\n      <td>15</td>\n      <td>0</td>\n      <td>0</td>\n      <td>0</td>\n      <td>20</td>\n      <td>0</td>\n      <td>0</td>\n      <td>0</td>\n      <td>0</td>\n      <td>0</td>\n      <td>0</td>\n      <td>1</td>\n      <td>50</td>\n      <td>849</td>\n      <td>0</td>\n      <td>0</td>\n      <td>0</td>\n      <td>1</td>\n      <td>1</td>\n      <td>0</td>\n      <td>0</td>\n      <td>181.0</td>\n      <td>0.213192</td>\n      <td>0</td>\n      <td>4</td>\n      <td>1</td>\n      <td>0</td>\n      <td>0</td>\n      <td>1</td>\n      <td>0</td>\n      <td>0</td>\n    </tr>\n    <tr>\n      <th>17996</th>\n      <td>Mr. Paul Peters</td>\n      <td>7507.0</td>\n      <td>0</td>\n      <td>1</td>\n      <td>97.0</td>\n      <td>0.0</td>\n      <td>0</td>\n      <td>0.0</td>\n      <td>0.0</td>\n      <td>0.0</td>\n      <td>0.0</td>\n      <td>15</td>\n      <td>0</td>\n      <td>0</td>\n      <td>0</td>\n      <td>19</td>\n      <td>0</td>\n      <td>0</td>\n      <td>1</td>\n      <td>0</td>\n      <td>0</td>\n      <td>0</td>\n      <td>1</td>\n      <td>64</td>\n      <td>294</td>\n      <td>0</td>\n      <td>0</td>\n      <td>0</td>\n      <td>1</td>\n      <td>1</td>\n      <td>0</td>\n      <td>0</td>\n      <td>52.8</td>\n      <td>0.179592</td>\n      <td>1</td>\n      <td>1</td>\n      <td>1</td>\n      <td>0</td>\n      <td>0</td>\n      <td>0</td>\n      <td>0</td>\n      <td>1</td>\n    </tr>\n    <tr>\n      <th>21251</th>\n      <td>Miss Kimberly Ellison</td>\n      <td>7298.2</td>\n      <td>0</td>\n      <td>1</td>\n      <td>20.0</td>\n      <td>216.0</td>\n      <td>20</td>\n      <td>153.0</td>\n      <td>12.0</td>\n      <td>12.0</td>\n      <td>4.4</td>\n      <td>15</td>\n      <td>1</td>\n      <td>0</td>\n      <td>0</td>\n      <td>20</td>\n      <td>0</td>\n      <td>0</td>\n      <td>0</td>\n      <td>0</td>\n      <td>0</td>\n      <td>0</td>\n      <td>0</td>\n      <td>53</td>\n      <td>925</td>\n      <td>1</td>\n      <td>0</td>\n      <td>0</td>\n      <td>0</td>\n      <td>1</td>\n      <td>0</td>\n      <td>0</td>\n      <td>417.4</td>\n      <td>0.451243</td>\n      <td>0</td>\n      <td>1</td>\n      <td>1</td>\n      <td>0</td>\n      <td>0</td>\n      <td>0</td>\n      <td>1</td>\n      <td>0</td>\n    </tr>\n    <tr>\n      <th>7127</th>\n      <td>Mr. Joe Chapman</td>\n      <td>6324.3</td>\n      <td>1</td>\n      <td>0</td>\n      <td>85.0</td>\n      <td>0.0</td>\n      <td>0</td>\n      <td>0.0</td>\n      <td>0.0</td>\n      <td>0.0</td>\n      <td>0.0</td>\n      <td>15</td>\n      <td>0</td>\n      <td>0</td>\n      <td>0</td>\n      <td>20</td>\n      <td>0</td>\n      <td>0</td>\n      <td>0</td>\n      <td>0</td>\n      <td>0</td>\n      <td>0</td>\n      <td>1</td>\n      <td>37</td>\n      <td>448</td>\n      <td>0</td>\n      <td>1</td>\n      <td>0</td>\n      <td>0</td>\n      <td>0</td>\n      <td>0</td>\n      <td>0</td>\n      <td>293.8</td>\n      <td>0.655804</td>\n      <td>0</td>\n      <td>1</td>\n      <td>1</td>\n      <td>0</td>\n      <td>1</td>\n      <td>0</td>\n      <td>0</td>\n      <td>0</td>\n    </tr>\n  </tbody>\n</table>\n</div>"
     },
     "execution_count": 56,
     "metadata": {},
     "output_type": "execute_result"
    }
   ],
   "source": [
    "df[(df['NumOfferPurchases'] > df[['NumAppPurchases','NumTakeAwayPurchases','NumStorePurchases']].sum(axis=1))]"
   ],
   "metadata": {
    "collapsed": false
   }
  },
  {
   "cell_type": "code",
   "execution_count": 57,
   "outputs": [],
   "source": [
    "# será esta a abordagem mais acertada, isto é, assumir que todas as compras deste cliente foram \"OfferPurchases\"?\n",
    "\n",
    "df.loc[(df['NumOfferPurchases'] > df[['NumAppPurchases','NumTakeAwayPurchases','NumStorePurchases']].sum(axis=1)),'NumOfferPurchases'] = df['NumAppPurchases'] + df['NumTakeAwayPurchases'] + df['NumStorePurchases']"
   ],
   "metadata": {
    "collapsed": false
   }
  },
  {
   "cell_type": "code",
   "execution_count": 58,
   "outputs": [
    {
     "data": {
      "text/plain": "Empty DataFrame\nColumns: [Name, Income, Kid_Younger6, Children_6to18, Recency, MntMeat&Fish, MntEntries, MntVegan&Vegetarian, MntDrinks, MntDesserts, MntAdditionalRequests, NumOfferPurchases, NumAppPurchases, NumTakeAwayPurchases, NumStorePurchases, NumAppVisitsMonth, Complain, Response_Cmp1, Response_Cmp2, Response_Cmp3, Response_Cmp4, Response_Cmp5, Gender, Age, daysAsCardClient, Graduation, HighSchool, Master, PhD, Married, Single, Widow, MntTotal, Mnt_pday_card, Response_Campaigns, Total_Kids, has_Kids, age_(17.943, 29.4], age_(29.4, 40.8], age_(40.8, 52.2], age_(52.2, 63.6], age_(63.6, 75.0]]\nIndex: []",
      "text/html": "<div>\n<style scoped>\n    .dataframe tbody tr th:only-of-type {\n        vertical-align: middle;\n    }\n\n    .dataframe tbody tr th {\n        vertical-align: top;\n    }\n\n    .dataframe thead th {\n        text-align: right;\n    }\n</style>\n<table border=\"1\" class=\"dataframe\">\n  <thead>\n    <tr style=\"text-align: right;\">\n      <th></th>\n      <th>Name</th>\n      <th>Income</th>\n      <th>Kid_Younger6</th>\n      <th>Children_6to18</th>\n      <th>Recency</th>\n      <th>MntMeat&amp;Fish</th>\n      <th>MntEntries</th>\n      <th>MntVegan&amp;Vegetarian</th>\n      <th>MntDrinks</th>\n      <th>MntDesserts</th>\n      <th>MntAdditionalRequests</th>\n      <th>NumOfferPurchases</th>\n      <th>NumAppPurchases</th>\n      <th>NumTakeAwayPurchases</th>\n      <th>NumStorePurchases</th>\n      <th>NumAppVisitsMonth</th>\n      <th>Complain</th>\n      <th>Response_Cmp1</th>\n      <th>Response_Cmp2</th>\n      <th>Response_Cmp3</th>\n      <th>Response_Cmp4</th>\n      <th>Response_Cmp5</th>\n      <th>Gender</th>\n      <th>Age</th>\n      <th>daysAsCardClient</th>\n      <th>Graduation</th>\n      <th>HighSchool</th>\n      <th>Master</th>\n      <th>PhD</th>\n      <th>Married</th>\n      <th>Single</th>\n      <th>Widow</th>\n      <th>MntTotal</th>\n      <th>Mnt_pday_card</th>\n      <th>Response_Campaigns</th>\n      <th>Total_Kids</th>\n      <th>has_Kids</th>\n      <th>age_(17.943, 29.4]</th>\n      <th>age_(29.4, 40.8]</th>\n      <th>age_(40.8, 52.2]</th>\n      <th>age_(52.2, 63.6]</th>\n      <th>age_(63.6, 75.0]</th>\n    </tr>\n    <tr>\n      <th>CustomerID</th>\n      <th></th>\n      <th></th>\n      <th></th>\n      <th></th>\n      <th></th>\n      <th></th>\n      <th></th>\n      <th></th>\n      <th></th>\n      <th></th>\n      <th></th>\n      <th></th>\n      <th></th>\n      <th></th>\n      <th></th>\n      <th></th>\n      <th></th>\n      <th></th>\n      <th></th>\n      <th></th>\n      <th></th>\n      <th></th>\n      <th></th>\n      <th></th>\n      <th></th>\n      <th></th>\n      <th></th>\n      <th></th>\n      <th></th>\n      <th></th>\n      <th></th>\n      <th></th>\n      <th></th>\n      <th></th>\n      <th></th>\n      <th></th>\n      <th></th>\n      <th></th>\n      <th></th>\n      <th></th>\n      <th></th>\n      <th></th>\n    </tr>\n  </thead>\n  <tbody>\n  </tbody>\n</table>\n</div>"
     },
     "execution_count": 58,
     "metadata": {},
     "output_type": "execute_result"
    }
   ],
   "source": [
    "df[(df['NumOfferPurchases'] > df[['NumAppPurchases','NumTakeAwayPurchases','NumStorePurchases']].sum(axis=1))] # confirmação do ajuste"
   ],
   "metadata": {
    "collapsed": false
   }
  },
  {
   "cell_type": "markdown",
   "metadata": {
    "collapsed": false
   },
   "source": [
    "## Data Review\n",
    "\n",
    "Ver a dataframe no seu estado final\n",
    "Drop: Id, name, birthyear, date_adherence, total_kids, mntTotal"
   ]
  },
  {
   "cell_type": "code",
   "execution_count": 59,
   "metadata": {
    "collapsed": false
   },
   "outputs": [
    {
     "data": {
      "text/plain": "                          Name    Income  Kid_Younger6  Children_6to18  \\\nCustomerID                                                               \n14594          Miss Leah Lewis  113947.0             0               0   \n19070         Miss Grace Black  114297.0             0               0   \n29888       Mr. Gavin Morrison  115476.0             0               0   \n12221          Mr. Ryan Glover  101172.0             1               1   \n21107        Mr. Paul Anderson  123128.0             0               0   \n\n            Recency  MntMeat&Fish  MntEntries  MntVegan&Vegetarian  MntDrinks  \\\nCustomerID                                                                      \n14594          43.0        4640.0        3380               5700.0     2240.0   \n19070          74.0        7080.0        3680               7620.0     1840.0   \n29888          85.0        4130.0         380               4890.0     3640.0   \n12221          25.0        3590.0           0               1770.0       80.0   \n21107          64.0        5390.0        1126               9495.0      656.0   \n\n            MntDesserts  MntAdditionalRequests  NumOfferPurchases  \\\nCustomerID                                                          \n14594             562.0                  154.0                  2   \n19070            1220.0                   46.0                  1   \n29888             380.0                   28.0                  1   \n12221             180.0                   14.0                  5   \n21107             562.0                   74.0                  0   \n\n            NumAppPurchases  NumTakeAwayPurchases  NumStorePurchases  \\\nCustomerID                                                             \n14594                    10                     7                  7   \n19070                     5                     9                 12   \n29888                     5                     5                  7   \n12221                     8                     3                  8   \n21107                     4                     7                  8   \n\n            NumAppVisitsMonth  Complain  Response_Cmp1  Response_Cmp2  \\\nCustomerID                                                              \n14594                       4         0              0              1   \n19070                       2         0              0              0   \n29888                       1         0              0              0   \n12221                       5         0              0              0   \n21107                       5         0              1              0   \n\n            Response_Cmp3  Response_Cmp4  Response_Cmp5  Gender  Age  \\\nCustomerID                                                             \n14594                   0              0              0       0   42   \n19070                   0              0              0       0   49   \n29888                   0              0              0       1   63   \n12221                   0              0              0       1   43   \n21107                   1              0              0       1   52   \n\n            daysAsCardClient  Graduation  HighSchool  Master  PhD  Married  \\\nCustomerID                                                                   \n14594                    824           1           0       0    0        0   \n19070                    733           1           0       0    0        1   \n29888                    456           0           0       0    1        1   \n12221                    548           1           0       0    0        1   \n21107                    853           0           1       0    0        0   \n\n            Single  Widow  MntTotal  Mnt_pday_card  Response_Campaigns  \\\nCustomerID                                                               \n14594            1      0   16676.0      20.237864                   1   \n19070            0      0   21486.0      29.312415                   0   \n29888            0      0   13448.0      29.491228                   0   \n12221            0      0    5634.0      10.281022                   0   \n21107            1      0   17303.0      20.284877                   2   \n\n            Total_Kids  has_Kids  age_(17.943, 29.4]  age_(29.4, 40.8]  \\\nCustomerID                                                               \n14594                0         0                   0                 0   \n19070                0         0                   0                 0   \n29888                0         0                   0                 0   \n12221                2         1                   0                 0   \n21107                0         0                   0                 0   \n\n            age_(40.8, 52.2]  age_(52.2, 63.6]  age_(63.6, 75.0]  \nCustomerID                                                        \n14594                      1                 0                 0  \n19070                      1                 0                 0  \n29888                      0                 1                 0  \n12221                      1                 0                 0  \n21107                      1                 0                 0  ",
      "text/html": "<div>\n<style scoped>\n    .dataframe tbody tr th:only-of-type {\n        vertical-align: middle;\n    }\n\n    .dataframe tbody tr th {\n        vertical-align: top;\n    }\n\n    .dataframe thead th {\n        text-align: right;\n    }\n</style>\n<table border=\"1\" class=\"dataframe\">\n  <thead>\n    <tr style=\"text-align: right;\">\n      <th></th>\n      <th>Name</th>\n      <th>Income</th>\n      <th>Kid_Younger6</th>\n      <th>Children_6to18</th>\n      <th>Recency</th>\n      <th>MntMeat&amp;Fish</th>\n      <th>MntEntries</th>\n      <th>MntVegan&amp;Vegetarian</th>\n      <th>MntDrinks</th>\n      <th>MntDesserts</th>\n      <th>MntAdditionalRequests</th>\n      <th>NumOfferPurchases</th>\n      <th>NumAppPurchases</th>\n      <th>NumTakeAwayPurchases</th>\n      <th>NumStorePurchases</th>\n      <th>NumAppVisitsMonth</th>\n      <th>Complain</th>\n      <th>Response_Cmp1</th>\n      <th>Response_Cmp2</th>\n      <th>Response_Cmp3</th>\n      <th>Response_Cmp4</th>\n      <th>Response_Cmp5</th>\n      <th>Gender</th>\n      <th>Age</th>\n      <th>daysAsCardClient</th>\n      <th>Graduation</th>\n      <th>HighSchool</th>\n      <th>Master</th>\n      <th>PhD</th>\n      <th>Married</th>\n      <th>Single</th>\n      <th>Widow</th>\n      <th>MntTotal</th>\n      <th>Mnt_pday_card</th>\n      <th>Response_Campaigns</th>\n      <th>Total_Kids</th>\n      <th>has_Kids</th>\n      <th>age_(17.943, 29.4]</th>\n      <th>age_(29.4, 40.8]</th>\n      <th>age_(40.8, 52.2]</th>\n      <th>age_(52.2, 63.6]</th>\n      <th>age_(63.6, 75.0]</th>\n    </tr>\n    <tr>\n      <th>CustomerID</th>\n      <th></th>\n      <th></th>\n      <th></th>\n      <th></th>\n      <th></th>\n      <th></th>\n      <th></th>\n      <th></th>\n      <th></th>\n      <th></th>\n      <th></th>\n      <th></th>\n      <th></th>\n      <th></th>\n      <th></th>\n      <th></th>\n      <th></th>\n      <th></th>\n      <th></th>\n      <th></th>\n      <th></th>\n      <th></th>\n      <th></th>\n      <th></th>\n      <th></th>\n      <th></th>\n      <th></th>\n      <th></th>\n      <th></th>\n      <th></th>\n      <th></th>\n      <th></th>\n      <th></th>\n      <th></th>\n      <th></th>\n      <th></th>\n      <th></th>\n      <th></th>\n      <th></th>\n      <th></th>\n      <th></th>\n      <th></th>\n    </tr>\n  </thead>\n  <tbody>\n    <tr>\n      <th>14594</th>\n      <td>Miss Leah Lewis</td>\n      <td>113947.0</td>\n      <td>0</td>\n      <td>0</td>\n      <td>43.0</td>\n      <td>4640.0</td>\n      <td>3380</td>\n      <td>5700.0</td>\n      <td>2240.0</td>\n      <td>562.0</td>\n      <td>154.0</td>\n      <td>2</td>\n      <td>10</td>\n      <td>7</td>\n      <td>7</td>\n      <td>4</td>\n      <td>0</td>\n      <td>0</td>\n      <td>1</td>\n      <td>0</td>\n      <td>0</td>\n      <td>0</td>\n      <td>0</td>\n      <td>42</td>\n      <td>824</td>\n      <td>1</td>\n      <td>0</td>\n      <td>0</td>\n      <td>0</td>\n      <td>0</td>\n      <td>1</td>\n      <td>0</td>\n      <td>16676.0</td>\n      <td>20.237864</td>\n      <td>1</td>\n      <td>0</td>\n      <td>0</td>\n      <td>0</td>\n      <td>0</td>\n      <td>1</td>\n      <td>0</td>\n      <td>0</td>\n    </tr>\n    <tr>\n      <th>19070</th>\n      <td>Miss Grace Black</td>\n      <td>114297.0</td>\n      <td>0</td>\n      <td>0</td>\n      <td>74.0</td>\n      <td>7080.0</td>\n      <td>3680</td>\n      <td>7620.0</td>\n      <td>1840.0</td>\n      <td>1220.0</td>\n      <td>46.0</td>\n      <td>1</td>\n      <td>5</td>\n      <td>9</td>\n      <td>12</td>\n      <td>2</td>\n      <td>0</td>\n      <td>0</td>\n      <td>0</td>\n      <td>0</td>\n      <td>0</td>\n      <td>0</td>\n      <td>0</td>\n      <td>49</td>\n      <td>733</td>\n      <td>1</td>\n      <td>0</td>\n      <td>0</td>\n      <td>0</td>\n      <td>1</td>\n      <td>0</td>\n      <td>0</td>\n      <td>21486.0</td>\n      <td>29.312415</td>\n      <td>0</td>\n      <td>0</td>\n      <td>0</td>\n      <td>0</td>\n      <td>0</td>\n      <td>1</td>\n      <td>0</td>\n      <td>0</td>\n    </tr>\n    <tr>\n      <th>29888</th>\n      <td>Mr. Gavin Morrison</td>\n      <td>115476.0</td>\n      <td>0</td>\n      <td>0</td>\n      <td>85.0</td>\n      <td>4130.0</td>\n      <td>380</td>\n      <td>4890.0</td>\n      <td>3640.0</td>\n      <td>380.0</td>\n      <td>28.0</td>\n      <td>1</td>\n      <td>5</td>\n      <td>5</td>\n      <td>7</td>\n      <td>1</td>\n      <td>0</td>\n      <td>0</td>\n      <td>0</td>\n      <td>0</td>\n      <td>0</td>\n      <td>0</td>\n      <td>1</td>\n      <td>63</td>\n      <td>456</td>\n      <td>0</td>\n      <td>0</td>\n      <td>0</td>\n      <td>1</td>\n      <td>1</td>\n      <td>0</td>\n      <td>0</td>\n      <td>13448.0</td>\n      <td>29.491228</td>\n      <td>0</td>\n      <td>0</td>\n      <td>0</td>\n      <td>0</td>\n      <td>0</td>\n      <td>0</td>\n      <td>1</td>\n      <td>0</td>\n    </tr>\n    <tr>\n      <th>12221</th>\n      <td>Mr. Ryan Glover</td>\n      <td>101172.0</td>\n      <td>1</td>\n      <td>1</td>\n      <td>25.0</td>\n      <td>3590.0</td>\n      <td>0</td>\n      <td>1770.0</td>\n      <td>80.0</td>\n      <td>180.0</td>\n      <td>14.0</td>\n      <td>5</td>\n      <td>8</td>\n      <td>3</td>\n      <td>8</td>\n      <td>5</td>\n      <td>0</td>\n      <td>0</td>\n      <td>0</td>\n      <td>0</td>\n      <td>0</td>\n      <td>0</td>\n      <td>1</td>\n      <td>43</td>\n      <td>548</td>\n      <td>1</td>\n      <td>0</td>\n      <td>0</td>\n      <td>0</td>\n      <td>1</td>\n      <td>0</td>\n      <td>0</td>\n      <td>5634.0</td>\n      <td>10.281022</td>\n      <td>0</td>\n      <td>2</td>\n      <td>1</td>\n      <td>0</td>\n      <td>0</td>\n      <td>1</td>\n      <td>0</td>\n      <td>0</td>\n    </tr>\n    <tr>\n      <th>21107</th>\n      <td>Mr. Paul Anderson</td>\n      <td>123128.0</td>\n      <td>0</td>\n      <td>0</td>\n      <td>64.0</td>\n      <td>5390.0</td>\n      <td>1126</td>\n      <td>9495.0</td>\n      <td>656.0</td>\n      <td>562.0</td>\n      <td>74.0</td>\n      <td>0</td>\n      <td>4</td>\n      <td>7</td>\n      <td>8</td>\n      <td>5</td>\n      <td>0</td>\n      <td>1</td>\n      <td>0</td>\n      <td>1</td>\n      <td>0</td>\n      <td>0</td>\n      <td>1</td>\n      <td>52</td>\n      <td>853</td>\n      <td>0</td>\n      <td>1</td>\n      <td>0</td>\n      <td>0</td>\n      <td>0</td>\n      <td>1</td>\n      <td>0</td>\n      <td>17303.0</td>\n      <td>20.284877</td>\n      <td>2</td>\n      <td>0</td>\n      <td>0</td>\n      <td>0</td>\n      <td>0</td>\n      <td>1</td>\n      <td>0</td>\n      <td>0</td>\n    </tr>\n  </tbody>\n</table>\n</div>"
     },
     "execution_count": 59,
     "metadata": {},
     "output_type": "execute_result"
    }
   ],
   "source": [
    "df.head()"
   ]
  },
  {
   "cell_type": "code",
   "execution_count": 60,
   "metadata": {
    "collapsed": false
   },
   "outputs": [
    {
     "data": {
      "text/plain": "              Income  Kid_Younger6  Children_6to18      Recency  MntMeat&Fish  \\\ncount    6884.000000   6884.000000     6884.000000  6884.000000   6884.000000   \nmean    76141.811069      0.441313        0.490848    49.202886   3110.563437   \nstd     30999.688896      0.543247        0.542328    28.856545   3371.367451   \nmin      2493.800000      0.000000        0.000000     0.000000      0.000000   \n25%     51266.500000      0.000000        0.000000    24.000000    260.000000   \n50%     76546.500000      0.000000        0.000000    49.000000   1870.000000   \n75%    101052.750000      1.000000        1.000000    74.000000   5100.000000   \nmax    153703.000000      2.000000        2.000000    99.000000  14980.000000   \n\n        MntEntries  MntVegan&Vegetarian    MntDrinks  MntDesserts  \\\ncount  6884.000000          6884.000000  6884.000000  6884.000000   \nmean    540.479663          2573.389381   551.753641   546.353021   \nstd     790.541603          3273.462733   807.214478   804.653979   \nmin       0.000000             0.000000     0.000000     0.000000   \n25%      40.000000           240.000000    40.000000    40.000000   \n50%     180.000000          1095.000000   180.000000   180.000000   \n75%     690.500000          3618.750000   700.000000   681.000000   \nmax    3980.000000         14460.000000  3980.000000  3980.000000   \n\n       MntAdditionalRequests  NumOfferPurchases  NumAppPurchases  \\\ncount            6884.000000        6884.000000      6884.000000   \nmean               43.049274           2.318420         6.095729   \nstd                49.734220           1.872518         2.682044   \nmin                 0.000000           0.000000         0.000000   \n25%                 9.000000           1.000000         4.000000   \n50%                24.000000           2.000000         6.000000   \n75%                58.000000           3.000000         8.000000   \nmax               249.000000          15.000000        13.000000   \n\n       NumTakeAwayPurchases  NumStorePurchases  NumAppVisitsMonth  \\\ncount           6884.000000        6884.000000        6884.000000   \nmean               3.702499           5.865195           5.354445   \nstd                2.869041           3.253601           2.705270   \nmin                0.000000           0.000000           0.000000   \n25%                1.000000           3.000000           3.000000   \n50%                3.000000           5.000000           6.000000   \n75%                5.000000           8.000000           7.000000   \nmax               24.000000          13.000000          20.000000   \n\n          Complain  Response_Cmp1  Response_Cmp2  Response_Cmp3  \\\ncount  6884.000000    6884.000000    6884.000000    6884.000000   \nmean      0.010169       0.079460       0.073213       0.081929   \nstd       0.100332       0.270474       0.260505       0.274277   \nmin       0.000000       0.000000       0.000000       0.000000   \n25%       0.000000       0.000000       0.000000       0.000000   \n50%       0.000000       0.000000       0.000000       0.000000   \n75%       0.000000       0.000000       0.000000       0.000000   \nmax       1.000000       1.000000       1.000000       1.000000   \n\n       Response_Cmp4  Response_Cmp5       Gender          Age  \\\ncount    6884.000000    6884.000000  6884.000000  6884.000000   \nmean        0.065224       0.013945     0.733004    46.534282   \nstd         0.246938       0.117273     0.442422    11.992327   \nmin         0.000000       0.000000     0.000000    18.000000   \n25%         0.000000       0.000000     0.000000    38.000000   \n50%         0.000000       0.000000     1.000000    46.000000   \n75%         0.000000       0.000000     1.000000    56.000000   \nmax         1.000000       1.000000     1.000000    75.000000   \n\n       daysAsCardClient   Graduation   HighSchool       Master          PhD  \\\ncount       6884.000000  6884.000000  6884.000000  6884.000000  6884.000000   \nmean         634.594567     0.502324     0.095439     0.162987     0.213829   \nstd          202.920394     0.500031     0.293841     0.369380     0.410037   \nmin          288.000000     0.000000     0.000000     0.000000     0.000000   \n25%          459.000000     0.000000     0.000000     0.000000     0.000000   \n50%          629.000000     1.000000     0.000000     0.000000     0.000000   \n75%          810.000000     1.000000     0.000000     0.000000     0.000000   \nmax          987.000000     1.000000     1.000000     1.000000     1.000000   \n\n           Married       Single        Widow      MntTotal  Mnt_pday_card  \\\ncount  6884.000000  6884.000000  6884.000000   6884.000000    6884.000000   \nmean      0.653690     0.220366     0.034282   7366.053816      12.386455   \nstd       0.475828     0.414524     0.181967   7451.914626      13.592448   \nmin       0.000000     0.000000     0.000000     16.800000       0.019858   \n25%       0.000000     0.000000     0.000000    811.750000       1.471686   \n50%       1.000000     0.000000     0.000000   4565.000000       7.320190   \n75%       1.000000     0.000000     0.000000  12564.250000      19.560465   \nmax       1.000000     1.000000     1.000000  33256.000000      90.508532   \n\n       Response_Campaigns   Total_Kids     has_Kids  age_(17.943, 29.4]  \\\ncount         6884.000000  6884.000000  6884.000000         6884.000000   \nmean             0.313771     0.932162     0.704678            0.082220   \nstd              0.678669     0.752672     0.456221            0.274719   \nmin              0.000000     0.000000     0.000000            0.000000   \n25%              0.000000     0.000000     0.000000            0.000000   \n50%              0.000000     1.000000     1.000000            0.000000   \n75%              0.000000     1.000000     1.000000            0.000000   \nmax              4.000000     4.000000     1.000000            1.000000   \n\n       age_(29.4, 40.8]  age_(40.8, 52.2]  age_(52.2, 63.6]  age_(63.6, 75.0]  \ncount       6884.000000       6884.000000       6884.000000       6884.000000  \nmean           0.262347          0.320017          0.242882          0.092533  \nstd            0.439942          0.466517          0.428856          0.289799  \nmin            0.000000          0.000000          0.000000          0.000000  \n25%            0.000000          0.000000          0.000000          0.000000  \n50%            0.000000          0.000000          0.000000          0.000000  \n75%            1.000000          1.000000          0.000000          0.000000  \nmax            1.000000          1.000000          1.000000          1.000000  ",
      "text/html": "<div>\n<style scoped>\n    .dataframe tbody tr th:only-of-type {\n        vertical-align: middle;\n    }\n\n    .dataframe tbody tr th {\n        vertical-align: top;\n    }\n\n    .dataframe thead th {\n        text-align: right;\n    }\n</style>\n<table border=\"1\" class=\"dataframe\">\n  <thead>\n    <tr style=\"text-align: right;\">\n      <th></th>\n      <th>Income</th>\n      <th>Kid_Younger6</th>\n      <th>Children_6to18</th>\n      <th>Recency</th>\n      <th>MntMeat&amp;Fish</th>\n      <th>MntEntries</th>\n      <th>MntVegan&amp;Vegetarian</th>\n      <th>MntDrinks</th>\n      <th>MntDesserts</th>\n      <th>MntAdditionalRequests</th>\n      <th>NumOfferPurchases</th>\n      <th>NumAppPurchases</th>\n      <th>NumTakeAwayPurchases</th>\n      <th>NumStorePurchases</th>\n      <th>NumAppVisitsMonth</th>\n      <th>Complain</th>\n      <th>Response_Cmp1</th>\n      <th>Response_Cmp2</th>\n      <th>Response_Cmp3</th>\n      <th>Response_Cmp4</th>\n      <th>Response_Cmp5</th>\n      <th>Gender</th>\n      <th>Age</th>\n      <th>daysAsCardClient</th>\n      <th>Graduation</th>\n      <th>HighSchool</th>\n      <th>Master</th>\n      <th>PhD</th>\n      <th>Married</th>\n      <th>Single</th>\n      <th>Widow</th>\n      <th>MntTotal</th>\n      <th>Mnt_pday_card</th>\n      <th>Response_Campaigns</th>\n      <th>Total_Kids</th>\n      <th>has_Kids</th>\n      <th>age_(17.943, 29.4]</th>\n      <th>age_(29.4, 40.8]</th>\n      <th>age_(40.8, 52.2]</th>\n      <th>age_(52.2, 63.6]</th>\n      <th>age_(63.6, 75.0]</th>\n    </tr>\n  </thead>\n  <tbody>\n    <tr>\n      <th>count</th>\n      <td>6884.000000</td>\n      <td>6884.000000</td>\n      <td>6884.000000</td>\n      <td>6884.000000</td>\n      <td>6884.000000</td>\n      <td>6884.000000</td>\n      <td>6884.000000</td>\n      <td>6884.000000</td>\n      <td>6884.000000</td>\n      <td>6884.000000</td>\n      <td>6884.000000</td>\n      <td>6884.000000</td>\n      <td>6884.000000</td>\n      <td>6884.000000</td>\n      <td>6884.000000</td>\n      <td>6884.000000</td>\n      <td>6884.000000</td>\n      <td>6884.000000</td>\n      <td>6884.000000</td>\n      <td>6884.000000</td>\n      <td>6884.000000</td>\n      <td>6884.000000</td>\n      <td>6884.000000</td>\n      <td>6884.000000</td>\n      <td>6884.000000</td>\n      <td>6884.000000</td>\n      <td>6884.000000</td>\n      <td>6884.000000</td>\n      <td>6884.000000</td>\n      <td>6884.000000</td>\n      <td>6884.000000</td>\n      <td>6884.000000</td>\n      <td>6884.000000</td>\n      <td>6884.000000</td>\n      <td>6884.000000</td>\n      <td>6884.000000</td>\n      <td>6884.000000</td>\n      <td>6884.000000</td>\n      <td>6884.000000</td>\n      <td>6884.000000</td>\n      <td>6884.000000</td>\n    </tr>\n    <tr>\n      <th>mean</th>\n      <td>76141.811069</td>\n      <td>0.441313</td>\n      <td>0.490848</td>\n      <td>49.202886</td>\n      <td>3110.563437</td>\n      <td>540.479663</td>\n      <td>2573.389381</td>\n      <td>551.753641</td>\n      <td>546.353021</td>\n      <td>43.049274</td>\n      <td>2.318420</td>\n      <td>6.095729</td>\n      <td>3.702499</td>\n      <td>5.865195</td>\n      <td>5.354445</td>\n      <td>0.010169</td>\n      <td>0.079460</td>\n      <td>0.073213</td>\n      <td>0.081929</td>\n      <td>0.065224</td>\n      <td>0.013945</td>\n      <td>0.733004</td>\n      <td>46.534282</td>\n      <td>634.594567</td>\n      <td>0.502324</td>\n      <td>0.095439</td>\n      <td>0.162987</td>\n      <td>0.213829</td>\n      <td>0.653690</td>\n      <td>0.220366</td>\n      <td>0.034282</td>\n      <td>7366.053816</td>\n      <td>12.386455</td>\n      <td>0.313771</td>\n      <td>0.932162</td>\n      <td>0.704678</td>\n      <td>0.082220</td>\n      <td>0.262347</td>\n      <td>0.320017</td>\n      <td>0.242882</td>\n      <td>0.092533</td>\n    </tr>\n    <tr>\n      <th>std</th>\n      <td>30999.688896</td>\n      <td>0.543247</td>\n      <td>0.542328</td>\n      <td>28.856545</td>\n      <td>3371.367451</td>\n      <td>790.541603</td>\n      <td>3273.462733</td>\n      <td>807.214478</td>\n      <td>804.653979</td>\n      <td>49.734220</td>\n      <td>1.872518</td>\n      <td>2.682044</td>\n      <td>2.869041</td>\n      <td>3.253601</td>\n      <td>2.705270</td>\n      <td>0.100332</td>\n      <td>0.270474</td>\n      <td>0.260505</td>\n      <td>0.274277</td>\n      <td>0.246938</td>\n      <td>0.117273</td>\n      <td>0.442422</td>\n      <td>11.992327</td>\n      <td>202.920394</td>\n      <td>0.500031</td>\n      <td>0.293841</td>\n      <td>0.369380</td>\n      <td>0.410037</td>\n      <td>0.475828</td>\n      <td>0.414524</td>\n      <td>0.181967</td>\n      <td>7451.914626</td>\n      <td>13.592448</td>\n      <td>0.678669</td>\n      <td>0.752672</td>\n      <td>0.456221</td>\n      <td>0.274719</td>\n      <td>0.439942</td>\n      <td>0.466517</td>\n      <td>0.428856</td>\n      <td>0.289799</td>\n    </tr>\n    <tr>\n      <th>min</th>\n      <td>2493.800000</td>\n      <td>0.000000</td>\n      <td>0.000000</td>\n      <td>0.000000</td>\n      <td>0.000000</td>\n      <td>0.000000</td>\n      <td>0.000000</td>\n      <td>0.000000</td>\n      <td>0.000000</td>\n      <td>0.000000</td>\n      <td>0.000000</td>\n      <td>0.000000</td>\n      <td>0.000000</td>\n      <td>0.000000</td>\n      <td>0.000000</td>\n      <td>0.000000</td>\n      <td>0.000000</td>\n      <td>0.000000</td>\n      <td>0.000000</td>\n      <td>0.000000</td>\n      <td>0.000000</td>\n      <td>0.000000</td>\n      <td>18.000000</td>\n      <td>288.000000</td>\n      <td>0.000000</td>\n      <td>0.000000</td>\n      <td>0.000000</td>\n      <td>0.000000</td>\n      <td>0.000000</td>\n      <td>0.000000</td>\n      <td>0.000000</td>\n      <td>16.800000</td>\n      <td>0.019858</td>\n      <td>0.000000</td>\n      <td>0.000000</td>\n      <td>0.000000</td>\n      <td>0.000000</td>\n      <td>0.000000</td>\n      <td>0.000000</td>\n      <td>0.000000</td>\n      <td>0.000000</td>\n    </tr>\n    <tr>\n      <th>25%</th>\n      <td>51266.500000</td>\n      <td>0.000000</td>\n      <td>0.000000</td>\n      <td>24.000000</td>\n      <td>260.000000</td>\n      <td>40.000000</td>\n      <td>240.000000</td>\n      <td>40.000000</td>\n      <td>40.000000</td>\n      <td>9.000000</td>\n      <td>1.000000</td>\n      <td>4.000000</td>\n      <td>1.000000</td>\n      <td>3.000000</td>\n      <td>3.000000</td>\n      <td>0.000000</td>\n      <td>0.000000</td>\n      <td>0.000000</td>\n      <td>0.000000</td>\n      <td>0.000000</td>\n      <td>0.000000</td>\n      <td>0.000000</td>\n      <td>38.000000</td>\n      <td>459.000000</td>\n      <td>0.000000</td>\n      <td>0.000000</td>\n      <td>0.000000</td>\n      <td>0.000000</td>\n      <td>0.000000</td>\n      <td>0.000000</td>\n      <td>0.000000</td>\n      <td>811.750000</td>\n      <td>1.471686</td>\n      <td>0.000000</td>\n      <td>0.000000</td>\n      <td>0.000000</td>\n      <td>0.000000</td>\n      <td>0.000000</td>\n      <td>0.000000</td>\n      <td>0.000000</td>\n      <td>0.000000</td>\n    </tr>\n    <tr>\n      <th>50%</th>\n      <td>76546.500000</td>\n      <td>0.000000</td>\n      <td>0.000000</td>\n      <td>49.000000</td>\n      <td>1870.000000</td>\n      <td>180.000000</td>\n      <td>1095.000000</td>\n      <td>180.000000</td>\n      <td>180.000000</td>\n      <td>24.000000</td>\n      <td>2.000000</td>\n      <td>6.000000</td>\n      <td>3.000000</td>\n      <td>5.000000</td>\n      <td>6.000000</td>\n      <td>0.000000</td>\n      <td>0.000000</td>\n      <td>0.000000</td>\n      <td>0.000000</td>\n      <td>0.000000</td>\n      <td>0.000000</td>\n      <td>1.000000</td>\n      <td>46.000000</td>\n      <td>629.000000</td>\n      <td>1.000000</td>\n      <td>0.000000</td>\n      <td>0.000000</td>\n      <td>0.000000</td>\n      <td>1.000000</td>\n      <td>0.000000</td>\n      <td>0.000000</td>\n      <td>4565.000000</td>\n      <td>7.320190</td>\n      <td>0.000000</td>\n      <td>1.000000</td>\n      <td>1.000000</td>\n      <td>0.000000</td>\n      <td>0.000000</td>\n      <td>0.000000</td>\n      <td>0.000000</td>\n      <td>0.000000</td>\n    </tr>\n    <tr>\n      <th>75%</th>\n      <td>101052.750000</td>\n      <td>1.000000</td>\n      <td>1.000000</td>\n      <td>74.000000</td>\n      <td>5100.000000</td>\n      <td>690.500000</td>\n      <td>3618.750000</td>\n      <td>700.000000</td>\n      <td>681.000000</td>\n      <td>58.000000</td>\n      <td>3.000000</td>\n      <td>8.000000</td>\n      <td>5.000000</td>\n      <td>8.000000</td>\n      <td>7.000000</td>\n      <td>0.000000</td>\n      <td>0.000000</td>\n      <td>0.000000</td>\n      <td>0.000000</td>\n      <td>0.000000</td>\n      <td>0.000000</td>\n      <td>1.000000</td>\n      <td>56.000000</td>\n      <td>810.000000</td>\n      <td>1.000000</td>\n      <td>0.000000</td>\n      <td>0.000000</td>\n      <td>0.000000</td>\n      <td>1.000000</td>\n      <td>0.000000</td>\n      <td>0.000000</td>\n      <td>12564.250000</td>\n      <td>19.560465</td>\n      <td>0.000000</td>\n      <td>1.000000</td>\n      <td>1.000000</td>\n      <td>0.000000</td>\n      <td>1.000000</td>\n      <td>1.000000</td>\n      <td>0.000000</td>\n      <td>0.000000</td>\n    </tr>\n    <tr>\n      <th>max</th>\n      <td>153703.000000</td>\n      <td>2.000000</td>\n      <td>2.000000</td>\n      <td>99.000000</td>\n      <td>14980.000000</td>\n      <td>3980.000000</td>\n      <td>14460.000000</td>\n      <td>3980.000000</td>\n      <td>3980.000000</td>\n      <td>249.000000</td>\n      <td>15.000000</td>\n      <td>13.000000</td>\n      <td>24.000000</td>\n      <td>13.000000</td>\n      <td>20.000000</td>\n      <td>1.000000</td>\n      <td>1.000000</td>\n      <td>1.000000</td>\n      <td>1.000000</td>\n      <td>1.000000</td>\n      <td>1.000000</td>\n      <td>1.000000</td>\n      <td>75.000000</td>\n      <td>987.000000</td>\n      <td>1.000000</td>\n      <td>1.000000</td>\n      <td>1.000000</td>\n      <td>1.000000</td>\n      <td>1.000000</td>\n      <td>1.000000</td>\n      <td>1.000000</td>\n      <td>33256.000000</td>\n      <td>90.508532</td>\n      <td>4.000000</td>\n      <td>4.000000</td>\n      <td>1.000000</td>\n      <td>1.000000</td>\n      <td>1.000000</td>\n      <td>1.000000</td>\n      <td>1.000000</td>\n      <td>1.000000</td>\n    </tr>\n  </tbody>\n</table>\n</div>"
     },
     "execution_count": 60,
     "metadata": {},
     "output_type": "execute_result"
    }
   ],
   "source": [
    "df.describe()"
   ]
  },
  {
   "cell_type": "markdown",
   "source": [
    "Utilizar df como base para treinos/clustering"
   ],
   "metadata": {
    "collapsed": false
   }
  },
  {
   "cell_type": "code",
   "execution_count": 61,
   "metadata": {
    "collapsed": false
   },
   "outputs": [],
   "source": [
    "df.drop(['Name'], axis = 1, inplace = True)"
   ]
  },
  {
   "cell_type": "code",
   "execution_count": 62,
   "outputs": [
    {
     "data": {
      "text/plain": "Index(['Income', 'Kid_Younger6', 'Children_6to18', 'Recency', 'MntMeat&Fish',\n       'MntEntries', 'MntVegan&Vegetarian', 'MntDrinks', 'MntDesserts',\n       'MntAdditionalRequests', 'NumOfferPurchases', 'NumAppPurchases',\n       'NumTakeAwayPurchases', 'NumStorePurchases', 'NumAppVisitsMonth',\n       'Complain', 'Response_Cmp1', 'Response_Cmp2', 'Response_Cmp3',\n       'Response_Cmp4', 'Response_Cmp5', 'Gender', 'Age', 'daysAsCardClient',\n       'Graduation', 'HighSchool', 'Master', 'PhD', 'Married', 'Single',\n       'Widow', 'MntTotal', 'Mnt_pday_card', 'Response_Campaigns',\n       'Total_Kids', 'has_Kids', 'age_(17.943, 29.4]', 'age_(29.4, 40.8]',\n       'age_(40.8, 52.2]', 'age_(52.2, 63.6]', 'age_(63.6, 75.0]'],\n      dtype='object')"
     },
     "execution_count": 62,
     "metadata": {},
     "output_type": "execute_result"
    }
   ],
   "source": [
    "df.columns"
   ],
   "metadata": {
    "collapsed": false
   }
  },
  {
   "cell_type": "markdown",
   "source": [
    "# Feature Selection"
   ],
   "metadata": {
    "collapsed": false
   }
  },
  {
   "cell_type": "markdown",
   "source": [
    "As the problem is not a classification problem we will need to adapt our data so it can be used in classifiers. We will use Random Forest Classifiers as tools for feature selection, using MntTotal as the target variable, as our goal is to devise a marketing campaign that aims to increase sales"
   ],
   "metadata": {
    "collapsed": false
   }
  },
  {
   "cell_type": "markdown",
   "source": [
    "## Redução de Dimensões e Scaling\n",
    "Pipeline para passar da df para uma df que se possa utilizar nos modelos de clustering.\n",
    "1: Selecionar as colunas a partir da dataframe df. Criar uma copia com as colunas desejadas utilizando a função df_select\n",
    "2: Aplicar a função scaling_dfs que aplica scaling à dataframe obtida no passo anterior e retorna uma df scaled\n",
    "3: Escolher o método de redução de dimensoes a aplicar: PCA ou Feature selection com RandomForest\n",
    "3.1.1 PCA: Utilizar a função PCA_graph_df para ver quantos principal components serão necessários para a variancia desejada\n",
    "3.1.2 PCA: Utilizar a função create_PCA_df para aplicar PCA com o numero de componentes desejado à dataframe obtida em 2, obtendo uma df com o numero de colunas igual ao numero de principal components\n",
    "3.2.1 Feature Selection com RandomForest: Utilizar a função RFR_feature_select para obter os nomes das colunas consideradas importantes e o MSE (para ver se a abordagem é viável). Atenção que a df utilizada para fazer feature selection deverá ser uma com as colunas desejadas mas **SEM SCALING**, para que não haja bleeding de informação.\n",
    "3.2.2 Feature Selection com RandomForest: Utilizar a função selected_features_df para obter uma df sem scaling com apenas as colunas obtidas no passo anterior mais a coluna da target variable. **Aplicar o passo 2 apenas agora**\n",
    "\n"
   ],
   "metadata": {
    "collapsed": false
   }
  },
  {
   "cell_type": "code",
   "execution_count": 63,
   "outputs": [],
   "source": [
    "def df_select(column_names: list, df: pd.DataFrame):\n",
    "    df_train = df[column_names].copy()\n",
    "    return df_train"
   ],
   "metadata": {
    "collapsed": false
   }
  },
  {
   "cell_type": "code",
   "execution_count": 64,
   "outputs": [],
   "source": [
    "def scaling_dfs(df):\n",
    "    scaler = MinMaxScaler()\n",
    "    df_total_scaled = pd.DataFrame(scaler.fit_transform(df))\n",
    "    return df_total_scaled"
   ],
   "metadata": {
    "collapsed": false
   }
  },
  {
   "cell_type": "code",
   "execution_count": 65,
   "outputs": [],
   "source": [
    "def PCA_graph_df(df_scaled: pd.DataFrame, exp_variance: int):\n",
    "    pca = PCA()\n",
    "    pca.fit(df_scaled)\n",
    "    var1=np.cumsum(np.round(pca.explained_variance_ratio_, decimals=4)*100)\n",
    "\n",
    "    plt.title(\"PCA Variance against num of Componmnets\")\n",
    "    plt.ylabel(\"Variance %\")\n",
    "    plt.xlabel(\"Number of componments\")\n",
    "    l = plt.axhline(exp_variance, color=\"red\")\n",
    "\n",
    "    plt.plot(var1)\n",
    "    plt.grid()"
   ],
   "metadata": {
    "collapsed": false
   }
  },
  {
   "cell_type": "code",
   "execution_count": 66,
   "outputs": [],
   "source": [
    "def create_PCA_df(n_components: int, df_scaled: pd.DataFrame):\n",
    "    pca = PCA(n_components= n_components)\n",
    "    pca_train=pca.fit_transform(df_scaled)\n",
    "    return pca_train"
   ],
   "metadata": {
    "collapsed": false
   }
  },
  {
   "cell_type": "code",
   "execution_count": 67,
   "outputs": [],
   "source": [
    "def RFR_feature_select(df: pd.DataFrame, target_var: str):\n",
    "\n",
    "    x = df.drop([target_var], axis= 1).copy()\n",
    "    y = df[target_var].copy()\n",
    "\n",
    "    x_train, x_test, y_train, y_test = train_test_split( x, y, test_size=0.2, random_state=1)\n",
    "\n",
    "    y_train = np.array(y_train).reshape(-1, 1)\n",
    "    y_test = np.array(y_test).reshape(-1, 1)\n",
    "\n",
    "    scalerx = MinMaxScaler()\n",
    "    scalery = MinMaxScaler()\n",
    "\n",
    "    scalerx = scalerx.fit(x_train)\n",
    "    scalery = scalery.fit(y_train)\n",
    "\n",
    "    x_train = pd.DataFrame(scalerx.transform(x_train), columns= x.columns)\n",
    "    x_test = pd.DataFrame(scalerx.transform(x_test), columns= x.columns)\n",
    "\n",
    "    y_train = pd.DataFrame(scalery.transform(y_train))\n",
    "    y_test = pd.DataFrame(scalery.transform(y_test))\n",
    "\n",
    "    RFR = RandomForestRegressor(random_state= 1)\n",
    "    RFR.fit(x_train, y_train)\n",
    "\n",
    "    importances = pd.Series(RFR.feature_importances_, index= x_train.columns)\n",
    "    threshold = importances.median()\n",
    "    selected_features = x_train.reset_index(drop=True).loc[:, importances >= threshold]\n",
    "\n",
    "    new_RFR = RandomForestRegressor(random_state=1)\n",
    "    new_RFR.fit(selected_features, y_train)\n",
    "\n",
    "    x_test= x_test[selected_features.columns]\n",
    "    y_pred = new_RFR.predict(x_test)\n",
    "    mse = mean_squared_error(y_test, y_pred)\n",
    "\n",
    "    return list(selected_features.columns), mse"
   ],
   "metadata": {
    "collapsed": false
   }
  },
  {
   "cell_type": "code",
   "execution_count": 68,
   "outputs": [],
   "source": [
    "def selected_features_df(selected_columns: list, target_variable: str, df: pd.DataFrame):\n",
    "    selected_columns = selected_columns.append(target_variable)\n",
    "    selected_df = df[selected_columns].copy()\n",
    "    return selected_df"
   ],
   "metadata": {
    "collapsed": false
   }
  },
  {
   "cell_type": "markdown",
   "source": [
    "## Exemplo\n",
    "\n",
    "Neste exemplo serão utilizadas as colunas que vimos na quarta com o método PCA e o modelo kmeans"
   ],
   "metadata": {
    "collapsed": false
   }
  },
  {
   "cell_type": "code",
   "execution_count": 69,
   "outputs": [
    {
     "data": {
      "text/plain": "<Figure size 640x480 with 1 Axes>",
      "image/png": "[encoded data removed]"
     },
     "metadata": {},
     "output_type": "display_data"
    }
   ],
   "source": [
    "kmeans_columns = ['Income', 'Recency', 'NumOfferPurchases', 'NumAppPurchases',\n",
    "       'NumTakeAwayPurchases', 'NumStorePurchases', 'NumAppVisitsMonth',\n",
    "       'Complain', 'Gender', 'daysAsCardClient',\n",
    "       'Graduation', 'HighSchool', 'Master', 'PhD', 'Married', 'Single',\n",
    "       'Widow', 'MntTotal', 'Response_Campaigns',\n",
    "       'Total_Kids', 'age_(17.943, 29.4]', 'age_(29.4, 40.8]',\n",
    "       'age_(40.8, 52.2]', 'age_(52.2, 63.6]', 'age_(63.6, 75.0]']\n",
    "kmeans_df = df_select(column_names= kmeans_columns, df= df) #Step 1\n",
    "kmeans_df_scaled = scaling_dfs(kmeans_df) #Step 2\n",
    "PCA_graph_df(df_scaled= kmeans_df_scaled, exp_variance= 80) #Step 3.1.1"
   ],
   "metadata": {
    "collapsed": false
   }
  },
  {
   "cell_type": "code",
   "execution_count": 70,
   "outputs": [],
   "source": [
    "kmeans_pca_df= create_PCA_df(n_components= 7, df_scaled= kmeans_df_scaled) #Step 3.1.2"
   ],
   "metadata": {
    "collapsed": false
   }
  },
  {
   "cell_type": "markdown",
   "source": [
    "## Treino de modelos e avaliação\n",
    "Pipeline para passar de uma dataframe com dimensoes reduzidas para modelos de clustering e as suas métricas **Só funciona para modelos semelhantes a kmeans** #TODO fazer para modelos com outra estrutura\n",
    "\n",
    "1: Criação do modelo. Utilizar os modelos do sklearn.cluster para obter um objeto **model** que se possa utilizar nas funções\n",
    "2: Escolha do número de clusters utilizando uma das funções ..._nclusters\n",
    "2.1 Elbow Method: Queremos selecionar o número de clusters que corresponde ao ponto da curva em que a derivada começa a ter declives menores\n",
    "2.2 Total Sum of Squares Method: Queremos selecionar o número de clusters que maximiza o between_ss e minimza o within_ss"
   ],
   "metadata": {
    "collapsed": false
   }
  },
  {
   "cell_type": "code",
   "execution_count": 80,
   "outputs": [],
   "source": [
    "def elbow_nclusters(model_type, dimensioned_df: pd.DataFrame, cluster_range: int):\n",
    "    ks = range(1,cluster_range)\n",
    "    inertias = []\n",
    "\n",
    "\n",
    "    for k in ks:\n",
    "        model = model_type(n_clusters = k).fit(dimensioned_df)\n",
    "        inertias.append(model.inertia_)\n",
    "    # Plot ks (x-axis) vs inertias (y-axis) using plt.plot().\n",
    "    plt.plot(ks, inertias)\n",
    "\n",
    "    # define the label for the x axis as 'number of clusters' using matplotlib.pyplot.xlabel\n",
    "    plt.xlabel('number of clusters')\n",
    "    # define the label for the y axis as 'inertia' using matplotlib.pyplot.ylabel\n",
    "    plt.ylabel('inertia')\n",
    "    # define the ticks on the x axis using the values of ks\n",
    "    plt.xticks(ks)\n",
    "    # call plt.show()\n",
    "    plt.show()"
   ],
   "metadata": {
    "collapsed": false
   }
  },
  {
   "cell_type": "code",
   "execution_count": 72,
   "outputs": [],
   "source": [
    "def sumsquares_nclusters(model_type,  dimensioned_df: pd.DataFrame, cluster_range: int):\n",
    "    within_ss = []\n",
    "    between_ss = []\n",
    "    model_list = []\n",
    "    n_cluster = range(1,cluster_range)\n",
    "\n",
    "    ssc = pd.DataFrame({\"model\": n_cluster})\n",
    "    ssc_melted = pd.melt(ssc, id_vars=[\"model\"], var_name=\"measurement\", value_name=\"value\")\n",
    "\n",
    "    for k in n_cluster:\n",
    "        model = model_type(n_clusters=k)\n",
    "        model.fit(dimensioned_df)\n",
    "        within_ss.append(model.inertia_)\n",
    "        between_ss.append(sum(np.min(\n",
    "            cdist(dimensioned_df, model.cluster_centers_, 'euclidean'), axis=1)) / dimensioned_df.shape[0])\n",
    "        model_list.append(model)\n",
    "\n",
    "        ssc.loc[ssc[\"model\"] == k, \"within_ss\"] = within_ss[-1]\n",
    "        ssc.loc[ssc[\"model\"] == k, \"between_ss\"] = between_ss[-1]\n",
    "\n",
    "    ssc_melted = pd.melt(ssc, id_vars=[\"model\"], var_name=\"measurement\", value_name=\"value\")\n",
    "\n",
    "    plt.figure(figsize=(8, 6))\n",
    "    sns.barplot(x=\"model\", y=np.log10(ssc_melted[\"value\"]),\n",
    "                hue=\"measurement\", data=ssc_melted)\n",
    "    plt.title(\"Cluster Model Comparison\")\n",
    "    plt.xlabel(\"Number of Clusters\")\n",
    "    plt.ylabel(\"Log10 Total Sum of Squares\")\n",
    "    plt.show()"
   ],
   "metadata": {
    "collapsed": false
   }
  },
  {
   "cell_type": "markdown",
   "source": [
    "## 4. Models"
   ],
   "metadata": {
    "collapsed": false
   }
  },
  {
   "cell_type": "markdown",
   "source": [
    "## Model Train\n",
    "\n",
    "Modelos utilizados: kmeans\n",
    "Modelos propostos: DBScan, Kmodes"
   ],
   "metadata": {
    "collapsed": false
   }
  },
  {
   "cell_type": "code",
   "execution_count": 81,
   "outputs": [],
   "source": [
    "kmeans= KMeans(n_clusters = 3, max_iter =10000, random_state= 1)\n",
    "kmeans.fit(kmeans_pca_df)\n",
    "pca_train_label = kmeans.labels_\n",
    "pca_train_label = pd.DataFrame(pca_train_label)"
   ],
   "metadata": {
    "collapsed": false
   }
  },
  {
   "cell_type": "code",
   "execution_count": 82,
   "outputs": [],
   "source": [
    "df['cluster'] = kmeans.predict(kmeans_pca_df)"
   ],
   "metadata": {
    "collapsed": false
   }
  },
  {
   "cell_type": "markdown",
   "source": [
    "# variavel modelo visao monetary:\n",
    " Mnt_pday_card, has_Kids, Income, age_bins, 'Graduation', 'HighSchool', 'Master', 'PhD', 'Gender'"
   ],
   "metadata": {
    "collapsed": false
   }
  },
  {
   "cell_type": "markdown",
   "source": [
    "### Measuring distances between clusters\n",
    "\n",
    "#TODO Experimentar com 3 clusters para ver se as distancias aumentam/diminuem para fundamentar a escolha do numero de clusters"
   ],
   "metadata": {
    "collapsed": false
   }
  },
  {
   "cell_type": "code",
   "execution_count": 83,
   "outputs": [
    {
     "data": {
      "text/plain": "array([[0.        , 1.15751442, 1.40923517],\n       [1.15751442, 0.        , 1.44033248],\n       [1.40923517, 1.44033248, 0.        ]])"
     },
     "execution_count": 83,
     "metadata": {},
     "output_type": "execute_result"
    }
   ],
   "source": [
    "from sklearn.metrics.pairwise import euclidean_distances\n",
    "\n",
    "dists = euclidean_distances(kmeans.cluster_centers_)\n",
    "dists"
   ],
   "metadata": {
    "collapsed": false
   }
  },
  {
   "cell_type": "markdown",
   "source": [
    "### Visualization"
   ],
   "metadata": {
    "collapsed": false
   }
  },
  {
   "cell_type": "code",
   "execution_count": 84,
   "outputs": [],
   "source": [
    "cluster0 = df[df.cluster == 0]\n",
    "cluster1 = df[df.cluster == 1]\n",
    "cluster2 = df[df.cluster == 2]\n"
   ],
   "metadata": {
    "collapsed": false
   }
  },
  {
   "cell_type": "code",
   "execution_count": 85,
   "outputs": [
    {
     "data": {
      "text/plain": "<matplotlib.legend.Legend at 0x7fb618bfe670>"
     },
     "execution_count": 85,
     "metadata": {},
     "output_type": "execute_result"
    },
    {
     "data": {
      "text/plain": "<Figure size 640x480 with 1 Axes>",
      "image/png": "[encoded data removed]"
     },
     "metadata": {},
     "output_type": "display_data"
    }
   ],
   "source": [
    "sns.histplot(cluster0['Income'],color='red',label='Cluster 0', bins = 20)\n",
    "sns.histplot(cluster1['Income'],color='yellow',label='Cluster 1', bins = 20)\n",
    "sns.histplot(cluster2['Income'],color='green',label='Cluster 2', bins = 20)\n",
    "plt.legend()"
   ],
   "metadata": {
    "collapsed": false
   }
  },
  {
   "cell_type": "markdown",
   "source": [
    "# variavel modelo visao customer behaviour: NumOfferPurchases', 'NumAppPurchases',\n",
    "       'NumTakeAwayPurchases', 'NumStorePurchases', 'NumAppVisitsMonth',\n",
    "       'Complain', 'Gender', 'Income', 'Age', 'Graduation', 'HighSchool', 'Master', 'PhD', 'Married', 'Single',\n",
    "       'Widow'"
   ],
   "metadata": {
    "collapsed": false
   }
  },
  {
   "cell_type": "code",
   "execution_count": 77,
   "outputs": [],
   "source": [],
   "metadata": {
    "collapsed": false
   }
  }
 ],
 "metadata": {
  "kernelspec": {
   "display_name": "Python 3 (ipykernel)",
   "language": "python",
   "name": "python3"
  },
  "language_info": {
   "codemirror_mode": {
    "name": "ipython",
    "version": 3
   },
   "file_extension": ".py",
   "mimetype": "text/x-python",
   "name": "python",
   "nbconvert_exporter": "python",
   "pygments_lexer": "ipython3",
   "version": "3.9.13"
  }
 },
 "nbformat": 4,
 "nbformat_minor": 5
}
