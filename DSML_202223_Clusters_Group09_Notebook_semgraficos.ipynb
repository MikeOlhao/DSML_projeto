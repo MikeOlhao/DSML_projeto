{
 "cells": [
  {
   "cell_type": "markdown",
   "id": "7bc87212",
   "metadata": {},
   "source": [
    "### Table of Contents"
   ]
  },
  {
   "cell_type": "markdown",
   "id": "db4075ae",
   "metadata": {},
   "source": [
    "# 1. Import Data"
   ]
  },
  {
   "cell_type": "markdown",
   "id": "24debbce",
   "metadata": {},
   "source": [
    "## 1.1 Import the needed libraries"
   ]
  },
  {
   "cell_type": "code",
   "execution_count": 2,
   "id": "40e3108e",
   "metadata": {},
   "outputs": [],
   "source": [
    "import pandas as pd\n",
    "import numpy as np\n",
    "import matplotlib.pyplot as plt\n",
    "import seaborn as sns\n",
    "import sklearn as sk\n",
    "from datetime import date\n",
    "from scipy.stats import zscore\n",
    "\n",
    "%matplotlib inline\n",
    "pd.set_option('display.max_columns', None)\n",
    "\n",
    "from sklearn.preprocessing import MinMaxScaler\n",
    "from sklearn.impute import KNNImputer"
   ]
  },
  {
   "cell_type": "markdown",
   "id": "bc474e5f",
   "metadata": {},
   "source": [
    "## 1.2 Import a integrate data"
   ]
  },
  {
   "cell_type": "code",
   "execution_count": 3,
   "id": "4acdbaaa",
   "metadata": {},
   "outputs": [],
   "source": [
    "df_crm = pd.read_csv('crm.csv')\n",
    "df_mkt = pd.read_csv('mkt.csv')\n",
    "df_sales = pd.read_excel('sales.xlsx')"
   ]
  },
  {
   "cell_type": "code",
   "execution_count": 4,
   "id": "c71a4e04",
   "metadata": {},
   "outputs": [],
   "source": [
    "df = pd.merge(pd.merge(df_crm,df_sales,on='CustomerID',how=\"inner\"),df_mkt,on=\"CustomerID\",how=\"inner\")"
   ]
  },
  {
   "cell_type": "markdown",
   "id": "3659ba1c",
   "metadata": {},
   "source": [
    "## 1.3 Set Index\n"
   ]
  },
  {
   "cell_type": "code",
   "execution_count": 5,
   "id": "133e3a1f",
   "metadata": {},
   "outputs": [],
   "source": [
    "df.set_index('CustomerID',inplace = True)"
   ]
  },
  {
   "cell_type": "markdown",
   "id": "7c1102a1",
   "metadata": {},
   "source": [
    "## 1.4 Check and removing duplicates"
   ]
  },
  {
   "cell_type": "code",
   "execution_count": 6,
   "id": "e0d3e069",
   "metadata": {},
   "outputs": [
    {
     "data": {
      "text/html": [
       "<div>\n",
       "<style scoped>\n",
       "    .dataframe tbody tr th:only-of-type {\n",
       "        vertical-align: middle;\n",
       "    }\n",
       "\n",
       "    .dataframe tbody tr th {\n",
       "        vertical-align: top;\n",
       "    }\n",
       "\n",
       "    .dataframe thead th {\n",
       "        text-align: right;\n",
       "    }\n",
       "</style>\n",
       "<table border=\"1\" class=\"dataframe\">\n",
       "  <thead>\n",
       "    <tr style=\"text-align: right;\">\n",
       "      <th></th>\n",
       "      <th>Name</th>\n",
       "      <th>Birthyear</th>\n",
       "      <th>Education</th>\n",
       "      <th>Marital_Status</th>\n",
       "      <th>Income</th>\n",
       "      <th>Kid_Younger6</th>\n",
       "      <th>Children_6to18</th>\n",
       "      <th>Date_Adherence</th>\n",
       "      <th>Recency</th>\n",
       "      <th>MntMeat&amp;Fish</th>\n",
       "      <th>MntEntries</th>\n",
       "      <th>MntVegan&amp;Vegetarian</th>\n",
       "      <th>MntDrinks</th>\n",
       "      <th>MntDesserts</th>\n",
       "      <th>MntAdditionalRequests</th>\n",
       "      <th>NumOfferPurchases</th>\n",
       "      <th>NumAppPurchases</th>\n",
       "      <th>NumTakeAwayPurchases</th>\n",
       "      <th>NumStorePurchases</th>\n",
       "      <th>NumAppVisitsMonth</th>\n",
       "      <th>Complain</th>\n",
       "      <th>Response_Cmp1</th>\n",
       "      <th>Response_Cmp2</th>\n",
       "      <th>Response_Cmp3</th>\n",
       "      <th>Response_Cmp4</th>\n",
       "      <th>Response_Cmp5</th>\n",
       "    </tr>\n",
       "    <tr>\n",
       "      <th>CustomerID</th>\n",
       "      <th></th>\n",
       "      <th></th>\n",
       "      <th></th>\n",
       "      <th></th>\n",
       "      <th></th>\n",
       "      <th></th>\n",
       "      <th></th>\n",
       "      <th></th>\n",
       "      <th></th>\n",
       "      <th></th>\n",
       "      <th></th>\n",
       "      <th></th>\n",
       "      <th></th>\n",
       "      <th></th>\n",
       "      <th></th>\n",
       "      <th></th>\n",
       "      <th></th>\n",
       "      <th></th>\n",
       "      <th></th>\n",
       "      <th></th>\n",
       "      <th></th>\n",
       "      <th></th>\n",
       "      <th></th>\n",
       "      <th></th>\n",
       "      <th></th>\n",
       "      <th></th>\n",
       "    </tr>\n",
       "  </thead>\n",
       "  <tbody>\n",
       "    <tr>\n",
       "      <th>32924</th>\n",
       "      <td>Mrs. Wanda Terry</td>\n",
       "      <td>1986</td>\n",
       "      <td>Graduation</td>\n",
       "      <td>Divorced</td>\n",
       "      <td>41264.0</td>\n",
       "      <td>1</td>\n",
       "      <td>1</td>\n",
       "      <td>2020-10-03 00:00:00</td>\n",
       "      <td>61.0</td>\n",
       "      <td>70.0</td>\n",
       "      <td>20</td>\n",
       "      <td>165.0</td>\n",
       "      <td>40.0</td>\n",
       "      <td>0.0</td>\n",
       "      <td>7.0</td>\n",
       "      <td>2</td>\n",
       "      <td>3</td>\n",
       "      <td>1</td>\n",
       "      <td>3</td>\n",
       "      <td>7</td>\n",
       "      <td>0</td>\n",
       "      <td>0</td>\n",
       "      <td>0</td>\n",
       "      <td>0</td>\n",
       "      <td>0</td>\n",
       "      <td>0</td>\n",
       "    </tr>\n",
       "    <tr>\n",
       "      <th>8276</th>\n",
       "      <td>Mrs. Mary Jackson</td>\n",
       "      <td>1968</td>\n",
       "      <td>HighSchool</td>\n",
       "      <td>Married</td>\n",
       "      <td>118238.0</td>\n",
       "      <td>0</td>\n",
       "      <td>0</td>\n",
       "      <td>2020-10-13 00:00:00</td>\n",
       "      <td>42.0</td>\n",
       "      <td>5940.0</td>\n",
       "      <td>1002</td>\n",
       "      <td>9465.0</td>\n",
       "      <td>1100.0</td>\n",
       "      <td>1100.0</td>\n",
       "      <td>32.0</td>\n",
       "      <td>1</td>\n",
       "      <td>6</td>\n",
       "      <td>7</td>\n",
       "      <td>8</td>\n",
       "      <td>2</td>\n",
       "      <td>0</td>\n",
       "      <td>0</td>\n",
       "      <td>0</td>\n",
       "      <td>0</td>\n",
       "      <td>0</td>\n",
       "      <td>0</td>\n",
       "    </tr>\n",
       "    <tr>\n",
       "      <th>32966</th>\n",
       "      <td>Mr. Steven Baker</td>\n",
       "      <td>1961</td>\n",
       "      <td>HighSchool</td>\n",
       "      <td>Married</td>\n",
       "      <td>84974.0</td>\n",
       "      <td>0</td>\n",
       "      <td>1</td>\n",
       "      <td>2022-02-17 00:00:00</td>\n",
       "      <td>56.0</td>\n",
       "      <td>2610.0</td>\n",
       "      <td>840</td>\n",
       "      <td>2160.0</td>\n",
       "      <td>840.0</td>\n",
       "      <td>960.0</td>\n",
       "      <td>133.0</td>\n",
       "      <td>3</td>\n",
       "      <td>6</td>\n",
       "      <td>5</td>\n",
       "      <td>9</td>\n",
       "      <td>3</td>\n",
       "      <td>0</td>\n",
       "      <td>0</td>\n",
       "      <td>0</td>\n",
       "      <td>0</td>\n",
       "      <td>0</td>\n",
       "      <td>0</td>\n",
       "    </tr>\n",
       "    <tr>\n",
       "      <th>5627</th>\n",
       "      <td>Mr. Jonathan Clark</td>\n",
       "      <td>1988</td>\n",
       "      <td>Graduation</td>\n",
       "      <td>Married</td>\n",
       "      <td>40975.0</td>\n",
       "      <td>1</td>\n",
       "      <td>0</td>\n",
       "      <td>2022-04-28 00:00:00</td>\n",
       "      <td>31.0</td>\n",
       "      <td>130.0</td>\n",
       "      <td>0</td>\n",
       "      <td>120.0</td>\n",
       "      <td>20.0</td>\n",
       "      <td>20.0</td>\n",
       "      <td>5.0</td>\n",
       "      <td>1</td>\n",
       "      <td>3</td>\n",
       "      <td>1</td>\n",
       "      <td>4</td>\n",
       "      <td>3</td>\n",
       "      <td>0</td>\n",
       "      <td>0</td>\n",
       "      <td>0</td>\n",
       "      <td>0</td>\n",
       "      <td>0</td>\n",
       "      <td>0</td>\n",
       "    </tr>\n",
       "    <tr>\n",
       "      <th>29357</th>\n",
       "      <td>Mr. Eric Springer</td>\n",
       "      <td>1972</td>\n",
       "      <td>PhD</td>\n",
       "      <td>Married</td>\n",
       "      <td>77778.0</td>\n",
       "      <td>0</td>\n",
       "      <td>1</td>\n",
       "      <td>2022-04-19 00:00:00</td>\n",
       "      <td>92.0</td>\n",
       "      <td>1240.0</td>\n",
       "      <td>60</td>\n",
       "      <td>315.0</td>\n",
       "      <td>20.0</td>\n",
       "      <td>20.0</td>\n",
       "      <td>33.0</td>\n",
       "      <td>1</td>\n",
       "      <td>5</td>\n",
       "      <td>2</td>\n",
       "      <td>4</td>\n",
       "      <td>6</td>\n",
       "      <td>0</td>\n",
       "      <td>0</td>\n",
       "      <td>1</td>\n",
       "      <td>0</td>\n",
       "      <td>0</td>\n",
       "      <td>0</td>\n",
       "    </tr>\n",
       "    <tr>\n",
       "      <th>26891</th>\n",
       "      <td>Mr. Sam Peake</td>\n",
       "      <td>1992</td>\n",
       "      <td>Graduation</td>\n",
       "      <td>Married</td>\n",
       "      <td>74147.0</td>\n",
       "      <td>1</td>\n",
       "      <td>0</td>\n",
       "      <td>2022-03-21 00:00:00</td>\n",
       "      <td>13.0</td>\n",
       "      <td>610.0</td>\n",
       "      <td>320</td>\n",
       "      <td>915.0</td>\n",
       "      <td>20.0</td>\n",
       "      <td>240.0</td>\n",
       "      <td>78.0</td>\n",
       "      <td>2</td>\n",
       "      <td>6</td>\n",
       "      <td>3</td>\n",
       "      <td>2</td>\n",
       "      <td>6</td>\n",
       "      <td>0</td>\n",
       "      <td>1</td>\n",
       "      <td>0</td>\n",
       "      <td>0</td>\n",
       "      <td>0</td>\n",
       "      <td>0</td>\n",
       "    </tr>\n",
       "    <tr>\n",
       "      <th>21269</th>\n",
       "      <td>Mr. Nathan Glover</td>\n",
       "      <td>1971</td>\n",
       "      <td>Graduation</td>\n",
       "      <td>Married</td>\n",
       "      <td>91241.0</td>\n",
       "      <td>0</td>\n",
       "      <td>1</td>\n",
       "      <td>2022-03-28 00:00:00</td>\n",
       "      <td>18.0</td>\n",
       "      <td>1780.0</td>\n",
       "      <td>220</td>\n",
       "      <td>2370.0</td>\n",
       "      <td>540.0</td>\n",
       "      <td>380.0</td>\n",
       "      <td>59.0</td>\n",
       "      <td>1</td>\n",
       "      <td>8</td>\n",
       "      <td>3</td>\n",
       "      <td>6</td>\n",
       "      <td>5</td>\n",
       "      <td>0</td>\n",
       "      <td>0</td>\n",
       "      <td>0</td>\n",
       "      <td>0</td>\n",
       "      <td>0</td>\n",
       "      <td>0</td>\n",
       "    </tr>\n",
       "    <tr>\n",
       "      <th>32777</th>\n",
       "      <td>Mr. Joe James</td>\n",
       "      <td>1967</td>\n",
       "      <td>Master</td>\n",
       "      <td>Married</td>\n",
       "      <td>101251.0</td>\n",
       "      <td>0</td>\n",
       "      <td>1</td>\n",
       "      <td>2021-12-30 00:00:00</td>\n",
       "      <td>26.0</td>\n",
       "      <td>7350.0</td>\n",
       "      <td>2780</td>\n",
       "      <td>4170.0</td>\n",
       "      <td>500.0</td>\n",
       "      <td>1760.0</td>\n",
       "      <td>66.0</td>\n",
       "      <td>2</td>\n",
       "      <td>8</td>\n",
       "      <td>8</td>\n",
       "      <td>6</td>\n",
       "      <td>3</td>\n",
       "      <td>0</td>\n",
       "      <td>1</td>\n",
       "      <td>0</td>\n",
       "      <td>0</td>\n",
       "      <td>0</td>\n",
       "      <td>0</td>\n",
       "    </tr>\n",
       "    <tr>\n",
       "      <th>26285</th>\n",
       "      <td>Mr. Oliver Sanderson</td>\n",
       "      <td>1986</td>\n",
       "      <td>Basic</td>\n",
       "      <td>Together</td>\n",
       "      <td>22345.0</td>\n",
       "      <td>1</td>\n",
       "      <td>0</td>\n",
       "      <td>2021-03-21 00:00:00</td>\n",
       "      <td>54.0</td>\n",
       "      <td>50.0</td>\n",
       "      <td>180</td>\n",
       "      <td>285.0</td>\n",
       "      <td>240.0</td>\n",
       "      <td>280.0</td>\n",
       "      <td>39.0</td>\n",
       "      <td>3</td>\n",
       "      <td>5</td>\n",
       "      <td>2</td>\n",
       "      <td>2</td>\n",
       "      <td>9</td>\n",
       "      <td>0</td>\n",
       "      <td>1</td>\n",
       "      <td>0</td>\n",
       "      <td>0</td>\n",
       "      <td>0</td>\n",
       "      <td>0</td>\n",
       "    </tr>\n",
       "    <tr>\n",
       "      <th>5540</th>\n",
       "      <td>Mr. Justin MacLeod</td>\n",
       "      <td>1995</td>\n",
       "      <td>Graduation</td>\n",
       "      <td>Together</td>\n",
       "      <td>44247.0</td>\n",
       "      <td>1</td>\n",
       "      <td>0</td>\n",
       "      <td>2021-03-08 00:00:00</td>\n",
       "      <td>51.0</td>\n",
       "      <td>1540.0</td>\n",
       "      <td>400</td>\n",
       "      <td>990.0</td>\n",
       "      <td>0.0</td>\n",
       "      <td>240.0</td>\n",
       "      <td>27.0</td>\n",
       "      <td>7</td>\n",
       "      <td>8</td>\n",
       "      <td>2</td>\n",
       "      <td>4</td>\n",
       "      <td>9</td>\n",
       "      <td>0</td>\n",
       "      <td>0</td>\n",
       "      <td>0</td>\n",
       "      <td>0</td>\n",
       "      <td>0</td>\n",
       "      <td>0</td>\n",
       "    </tr>\n",
       "    <tr>\n",
       "      <th>17069</th>\n",
       "      <td>Miss Zoe Underwood</td>\n",
       "      <td>1977</td>\n",
       "      <td>Graduation</td>\n",
       "      <td>Together</td>\n",
       "      <td>75226.0</td>\n",
       "      <td>1</td>\n",
       "      <td>1</td>\n",
       "      <td>2020-11-24 00:00:00</td>\n",
       "      <td>32.0</td>\n",
       "      <td>1320.0</td>\n",
       "      <td>280</td>\n",
       "      <td>390.0</td>\n",
       "      <td>180.0</td>\n",
       "      <td>100.0</td>\n",
       "      <td>28.0</td>\n",
       "      <td>5</td>\n",
       "      <td>7</td>\n",
       "      <td>2</td>\n",
       "      <td>3</td>\n",
       "      <td>8</td>\n",
       "      <td>0</td>\n",
       "      <td>0</td>\n",
       "      <td>0</td>\n",
       "      <td>0</td>\n",
       "      <td>0</td>\n",
       "      <td>0</td>\n",
       "    </tr>\n",
       "    <tr>\n",
       "      <th>12320</th>\n",
       "      <td>Mr. Christian Morrison</td>\n",
       "      <td>1985</td>\n",
       "      <td>Master</td>\n",
       "      <td>Married</td>\n",
       "      <td>39747.0</td>\n",
       "      <td>1</td>\n",
       "      <td>0</td>\n",
       "      <td>2021-04-06 00:00:00</td>\n",
       "      <td>64.0</td>\n",
       "      <td>120.0</td>\n",
       "      <td>0</td>\n",
       "      <td>195.0</td>\n",
       "      <td>20.0</td>\n",
       "      <td>0.0</td>\n",
       "      <td>10.0</td>\n",
       "      <td>1</td>\n",
       "      <td>3</td>\n",
       "      <td>1</td>\n",
       "      <td>3</td>\n",
       "      <td>7</td>\n",
       "      <td>0</td>\n",
       "      <td>0</td>\n",
       "      <td>0</td>\n",
       "      <td>0</td>\n",
       "      <td>0</td>\n",
       "      <td>0</td>\n",
       "    </tr>\n",
       "    <tr>\n",
       "      <th>24260</th>\n",
       "      <td>Mr. Dan Langdon</td>\n",
       "      <td>1993</td>\n",
       "      <td>Graduation</td>\n",
       "      <td>Single</td>\n",
       "      <td>116645.0</td>\n",
       "      <td>0</td>\n",
       "      <td>0</td>\n",
       "      <td>2021-05-18 00:00:00</td>\n",
       "      <td>64.0</td>\n",
       "      <td>3330.0</td>\n",
       "      <td>0</td>\n",
       "      <td>12225.0</td>\n",
       "      <td>1980.0</td>\n",
       "      <td>832.0</td>\n",
       "      <td>29.0</td>\n",
       "      <td>1</td>\n",
       "      <td>6</td>\n",
       "      <td>11</td>\n",
       "      <td>11</td>\n",
       "      <td>2</td>\n",
       "      <td>0</td>\n",
       "      <td>0</td>\n",
       "      <td>0</td>\n",
       "      <td>0</td>\n",
       "      <td>0</td>\n",
       "      <td>0</td>\n",
       "    </tr>\n",
       "    <tr>\n",
       "      <th>6470</th>\n",
       "      <td>Miss Diane White</td>\n",
       "      <td>1980</td>\n",
       "      <td>Graduation</td>\n",
       "      <td>Single</td>\n",
       "      <td>127255.0</td>\n",
       "      <td>0</td>\n",
       "      <td>0</td>\n",
       "      <td>2021-06-17 00:00:00</td>\n",
       "      <td>75.0</td>\n",
       "      <td>5760.0</td>\n",
       "      <td>2220</td>\n",
       "      <td>13950.0</td>\n",
       "      <td>2960.0</td>\n",
       "      <td>1860.0</td>\n",
       "      <td>74.0</td>\n",
       "      <td>1</td>\n",
       "      <td>5</td>\n",
       "      <td>3</td>\n",
       "      <td>13</td>\n",
       "      <td>1</td>\n",
       "      <td>0</td>\n",
       "      <td>0</td>\n",
       "      <td>0</td>\n",
       "      <td>0</td>\n",
       "      <td>0</td>\n",
       "      <td>0</td>\n",
       "    </tr>\n",
       "    <tr>\n",
       "      <th>10265</th>\n",
       "      <td>Mr. Max Martin</td>\n",
       "      <td>1988</td>\n",
       "      <td>HighSchool</td>\n",
       "      <td>Together</td>\n",
       "      <td>27838.0</td>\n",
       "      <td>1</td>\n",
       "      <td>0</td>\n",
       "      <td>2021-10-08 00:00:00</td>\n",
       "      <td>7.0</td>\n",
       "      <td>170.0</td>\n",
       "      <td>60</td>\n",
       "      <td>105.0</td>\n",
       "      <td>280.0</td>\n",
       "      <td>20.0</td>\n",
       "      <td>42.0</td>\n",
       "      <td>2</td>\n",
       "      <td>4</td>\n",
       "      <td>3</td>\n",
       "      <td>2</td>\n",
       "      <td>4</td>\n",
       "      <td>0</td>\n",
       "      <td>1</td>\n",
       "      <td>0</td>\n",
       "      <td>0</td>\n",
       "      <td>0</td>\n",
       "      <td>0</td>\n",
       "    </tr>\n",
       "    <tr>\n",
       "      <th>21767</th>\n",
       "      <td>Mrs. Jan Sharp</td>\n",
       "      <td>1977</td>\n",
       "      <td>Master</td>\n",
       "      <td>Married</td>\n",
       "      <td>54507.0</td>\n",
       "      <td>1</td>\n",
       "      <td>1</td>\n",
       "      <td>2020-10-27 00:00:00</td>\n",
       "      <td>94.0</td>\n",
       "      <td>280.0</td>\n",
       "      <td>40</td>\n",
       "      <td>135.0</td>\n",
       "      <td>20.0</td>\n",
       "      <td>20.0</td>\n",
       "      <td>8.0</td>\n",
       "      <td>2</td>\n",
       "      <td>4</td>\n",
       "      <td>1</td>\n",
       "      <td>3</td>\n",
       "      <td>7</td>\n",
       "      <td>0</td>\n",
       "      <td>0</td>\n",
       "      <td>0</td>\n",
       "      <td>0</td>\n",
       "      <td>0</td>\n",
       "      <td>0</td>\n",
       "    </tr>\n",
       "    <tr>\n",
       "      <th>15905</th>\n",
       "      <td>Mr. Charles James</td>\n",
       "      <td>1957</td>\n",
       "      <td>PhD</td>\n",
       "      <td>Together</td>\n",
       "      <td>95655.0</td>\n",
       "      <td>0</td>\n",
       "      <td>0</td>\n",
       "      <td>2020-09-04 00:00:00</td>\n",
       "      <td>3.0</td>\n",
       "      <td>8900.0</td>\n",
       "      <td>1260</td>\n",
       "      <td>4380.0</td>\n",
       "      <td>0.0</td>\n",
       "      <td>500.0</td>\n",
       "      <td>12.0</td>\n",
       "      <td>4</td>\n",
       "      <td>10</td>\n",
       "      <td>5</td>\n",
       "      <td>7</td>\n",
       "      <td>6</td>\n",
       "      <td>0</td>\n",
       "      <td>0</td>\n",
       "      <td>0</td>\n",
       "      <td>0</td>\n",
       "      <td>0</td>\n",
       "      <td>0</td>\n",
       "    </tr>\n",
       "    <tr>\n",
       "      <th>28688</th>\n",
       "      <td>Mr. Anthony Gibson</td>\n",
       "      <td>1976</td>\n",
       "      <td>Graduation</td>\n",
       "      <td>Together</td>\n",
       "      <td>77992.0</td>\n",
       "      <td>0</td>\n",
       "      <td>1</td>\n",
       "      <td>2020-12-29 00:00:00</td>\n",
       "      <td>43.0</td>\n",
       "      <td>5940.0</td>\n",
       "      <td>120</td>\n",
       "      <td>570.0</td>\n",
       "      <td>120.0</td>\n",
       "      <td>120.0</td>\n",
       "      <td>25.0</td>\n",
       "      <td>4</td>\n",
       "      <td>9</td>\n",
       "      <td>3</td>\n",
       "      <td>10</td>\n",
       "      <td>7</td>\n",
       "      <td>0</td>\n",
       "      <td>0</td>\n",
       "      <td>0</td>\n",
       "      <td>0</td>\n",
       "      <td>0</td>\n",
       "      <td>0</td>\n",
       "    </tr>\n",
       "    <tr>\n",
       "      <th>28739</th>\n",
       "      <td>Mr. Stephen Henderson</td>\n",
       "      <td>1970</td>\n",
       "      <td>Graduation</td>\n",
       "      <td>Married</td>\n",
       "      <td>81721.0</td>\n",
       "      <td>0</td>\n",
       "      <td>1</td>\n",
       "      <td>2021-07-21 00:00:00</td>\n",
       "      <td>78.0</td>\n",
       "      <td>2140.0</td>\n",
       "      <td>1700</td>\n",
       "      <td>2085.0</td>\n",
       "      <td>1160.0</td>\n",
       "      <td>740.0</td>\n",
       "      <td>16.0</td>\n",
       "      <td>4</td>\n",
       "      <td>7</td>\n",
       "      <td>3</td>\n",
       "      <td>10</td>\n",
       "      <td>5</td>\n",
       "      <td>0</td>\n",
       "      <td>0</td>\n",
       "      <td>0</td>\n",
       "      <td>0</td>\n",
       "      <td>0</td>\n",
       "      <td>0</td>\n",
       "    </tr>\n",
       "    <tr>\n",
       "      <th>25052</th>\n",
       "      <td>Mr. Piers Nolan</td>\n",
       "      <td>1977</td>\n",
       "      <td>Master</td>\n",
       "      <td>Divorced</td>\n",
       "      <td>57770.0</td>\n",
       "      <td>1</td>\n",
       "      <td>0</td>\n",
       "      <td>2021-07-23 00:00:00</td>\n",
       "      <td>12.0</td>\n",
       "      <td>700.0</td>\n",
       "      <td>60</td>\n",
       "      <td>1275.0</td>\n",
       "      <td>240.0</td>\n",
       "      <td>180.0</td>\n",
       "      <td>95.0</td>\n",
       "      <td>3</td>\n",
       "      <td>6</td>\n",
       "      <td>3</td>\n",
       "      <td>3</td>\n",
       "      <td>7</td>\n",
       "      <td>0</td>\n",
       "      <td>0</td>\n",
       "      <td>0</td>\n",
       "      <td>0</td>\n",
       "      <td>0</td>\n",
       "      <td>0</td>\n",
       "    </tr>\n",
       "    <tr>\n",
       "      <th>7586</th>\n",
       "      <td>Mr. Jason Powell</td>\n",
       "      <td>1985</td>\n",
       "      <td>Master</td>\n",
       "      <td>Married</td>\n",
       "      <td>98465.0</td>\n",
       "      <td>0</td>\n",
       "      <td>1</td>\n",
       "      <td>2021-04-25 00:00:00</td>\n",
       "      <td>39.0</td>\n",
       "      <td>3780.0</td>\n",
       "      <td>200</td>\n",
       "      <td>2205.0</td>\n",
       "      <td>100.0</td>\n",
       "      <td>100.0</td>\n",
       "      <td>38.0</td>\n",
       "      <td>3</td>\n",
       "      <td>9</td>\n",
       "      <td>3</td>\n",
       "      <td>8</td>\n",
       "      <td>6</td>\n",
       "      <td>0</td>\n",
       "      <td>0</td>\n",
       "      <td>0</td>\n",
       "      <td>0</td>\n",
       "      <td>0</td>\n",
       "      <td>0</td>\n",
       "    </tr>\n",
       "    <tr>\n",
       "      <th>32495</th>\n",
       "      <td>Miss Wanda Wallace</td>\n",
       "      <td>1962</td>\n",
       "      <td>Graduation</td>\n",
       "      <td>Together</td>\n",
       "      <td>8305.4</td>\n",
       "      <td>0</td>\n",
       "      <td>1</td>\n",
       "      <td>2022-03-21 00:00:00</td>\n",
       "      <td>30.0</td>\n",
       "      <td>479.0</td>\n",
       "      <td>10</td>\n",
       "      <td>123.0</td>\n",
       "      <td>10.0</td>\n",
       "      <td>34.0</td>\n",
       "      <td>17.1</td>\n",
       "      <td>0</td>\n",
       "      <td>1</td>\n",
       "      <td>1</td>\n",
       "      <td>0</td>\n",
       "      <td>20</td>\n",
       "      <td>0</td>\n",
       "      <td>1</td>\n",
       "      <td>0</td>\n",
       "      <td>0</td>\n",
       "      <td>0</td>\n",
       "      <td>0</td>\n",
       "    </tr>\n",
       "    <tr>\n",
       "      <th>19295</th>\n",
       "      <td>Mr. Justin Martin</td>\n",
       "      <td>1998</td>\n",
       "      <td>Graduation</td>\n",
       "      <td>Together</td>\n",
       "      <td>120028.0</td>\n",
       "      <td>0</td>\n",
       "      <td>0</td>\n",
       "      <td>2022-05-13 00:00:00</td>\n",
       "      <td>15.0</td>\n",
       "      <td>9370.0</td>\n",
       "      <td>1060</td>\n",
       "      <td>3000.0</td>\n",
       "      <td>800.0</td>\n",
       "      <td>2140.0</td>\n",
       "      <td>200.0</td>\n",
       "      <td>0</td>\n",
       "      <td>6</td>\n",
       "      <td>4</td>\n",
       "      <td>13</td>\n",
       "      <td>1</td>\n",
       "      <td>0</td>\n",
       "      <td>0</td>\n",
       "      <td>0</td>\n",
       "      <td>1</td>\n",
       "      <td>0</td>\n",
       "      <td>0</td>\n",
       "    </tr>\n",
       "    <tr>\n",
       "      <th>14942</th>\n",
       "      <td>Mr. Stewart North</td>\n",
       "      <td>1978</td>\n",
       "      <td>PhD</td>\n",
       "      <td>Together</td>\n",
       "      <td>135654.0</td>\n",
       "      <td>0</td>\n",
       "      <td>0</td>\n",
       "      <td>2021-05-02 00:00:00</td>\n",
       "      <td>71.0</td>\n",
       "      <td>9790.0</td>\n",
       "      <td>880</td>\n",
       "      <td>14025.0</td>\n",
       "      <td>440.0</td>\n",
       "      <td>488.0</td>\n",
       "      <td>22.0</td>\n",
       "      <td>1</td>\n",
       "      <td>9</td>\n",
       "      <td>6</td>\n",
       "      <td>12</td>\n",
       "      <td>3</td>\n",
       "      <td>0</td>\n",
       "      <td>0</td>\n",
       "      <td>1</td>\n",
       "      <td>1</td>\n",
       "      <td>1</td>\n",
       "      <td>0</td>\n",
       "    </tr>\n",
       "    <tr>\n",
       "      <th>20747</th>\n",
       "      <td>Mr. Luke Lambert</td>\n",
       "      <td>1988</td>\n",
       "      <td>PhD</td>\n",
       "      <td>Married</td>\n",
       "      <td>97456.0</td>\n",
       "      <td>0</td>\n",
       "      <td>0</td>\n",
       "      <td>2020-08-14 00:00:00</td>\n",
       "      <td>63.0</td>\n",
       "      <td>2540.0</td>\n",
       "      <td>1420</td>\n",
       "      <td>6705.0</td>\n",
       "      <td>2020.0</td>\n",
       "      <td>2840.0</td>\n",
       "      <td>20.0</td>\n",
       "      <td>1</td>\n",
       "      <td>5</td>\n",
       "      <td>5</td>\n",
       "      <td>8</td>\n",
       "      <td>1</td>\n",
       "      <td>0</td>\n",
       "      <td>0</td>\n",
       "      <td>0</td>\n",
       "      <td>0</td>\n",
       "      <td>0</td>\n",
       "      <td>0</td>\n",
       "    </tr>\n",
       "    <tr>\n",
       "      <th>12035</th>\n",
       "      <td>Mrs. Heather Hart</td>\n",
       "      <td>1985</td>\n",
       "      <td>Graduation</td>\n",
       "      <td>Married</td>\n",
       "      <td>127587.0</td>\n",
       "      <td>1</td>\n",
       "      <td>0</td>\n",
       "      <td>2021-09-30 00:00:00</td>\n",
       "      <td>73.0</td>\n",
       "      <td>6300.0</td>\n",
       "      <td>3200</td>\n",
       "      <td>3945.0</td>\n",
       "      <td>220.0</td>\n",
       "      <td>1600.0</td>\n",
       "      <td>45.0</td>\n",
       "      <td>1</td>\n",
       "      <td>6</td>\n",
       "      <td>6</td>\n",
       "      <td>8</td>\n",
       "      <td>5</td>\n",
       "      <td>0</td>\n",
       "      <td>0</td>\n",
       "      <td>1</td>\n",
       "      <td>0</td>\n",
       "      <td>1</td>\n",
       "      <td>0</td>\n",
       "    </tr>\n",
       "    <tr>\n",
       "      <th>8447</th>\n",
       "      <td>Mrs. Grace Davies</td>\n",
       "      <td>1967</td>\n",
       "      <td>Graduation</td>\n",
       "      <td>Married</td>\n",
       "      <td>116080.0</td>\n",
       "      <td>1</td>\n",
       "      <td>1</td>\n",
       "      <td>2022-04-24 00:00:00</td>\n",
       "      <td>33.0</td>\n",
       "      <td>2450.0</td>\n",
       "      <td>320</td>\n",
       "      <td>3345.0</td>\n",
       "      <td>320.0</td>\n",
       "      <td>860.0</td>\n",
       "      <td>16.0</td>\n",
       "      <td>2</td>\n",
       "      <td>10</td>\n",
       "      <td>2</td>\n",
       "      <td>8</td>\n",
       "      <td>6</td>\n",
       "      <td>0</td>\n",
       "      <td>0</td>\n",
       "      <td>0</td>\n",
       "      <td>0</td>\n",
       "      <td>0</td>\n",
       "      <td>0</td>\n",
       "    </tr>\n",
       "    <tr>\n",
       "      <th>25685</th>\n",
       "      <td>Mr. Austin Knox</td>\n",
       "      <td>1955</td>\n",
       "      <td>PhD</td>\n",
       "      <td>Widow</td>\n",
       "      <td>60675.0</td>\n",
       "      <td>1</td>\n",
       "      <td>1</td>\n",
       "      <td>2020-11-19 00:00:00</td>\n",
       "      <td>15.0</td>\n",
       "      <td>5020.0</td>\n",
       "      <td>0</td>\n",
       "      <td>645.0</td>\n",
       "      <td>0.0</td>\n",
       "      <td>0.0</td>\n",
       "      <td>27.0</td>\n",
       "      <td>9</td>\n",
       "      <td>10</td>\n",
       "      <td>3</td>\n",
       "      <td>7</td>\n",
       "      <td>9</td>\n",
       "      <td>0</td>\n",
       "      <td>0</td>\n",
       "      <td>0</td>\n",
       "      <td>0</td>\n",
       "      <td>0</td>\n",
       "      <td>0</td>\n",
       "    </tr>\n",
       "    <tr>\n",
       "      <th>28625</th>\n",
       "      <td>Mr. Frank Piper</td>\n",
       "      <td>1969</td>\n",
       "      <td>Basic</td>\n",
       "      <td>Married</td>\n",
       "      <td>30685.0</td>\n",
       "      <td>2</td>\n",
       "      <td>1</td>\n",
       "      <td>2021-12-25 00:00:00</td>\n",
       "      <td>35.0</td>\n",
       "      <td>60.0</td>\n",
       "      <td>120</td>\n",
       "      <td>120.0</td>\n",
       "      <td>180.0</td>\n",
       "      <td>180.0</td>\n",
       "      <td>18.0</td>\n",
       "      <td>3</td>\n",
       "      <td>4</td>\n",
       "      <td>2</td>\n",
       "      <td>3</td>\n",
       "      <td>6</td>\n",
       "      <td>0</td>\n",
       "      <td>0</td>\n",
       "      <td>0</td>\n",
       "      <td>0</td>\n",
       "      <td>0</td>\n",
       "      <td>0</td>\n",
       "    </tr>\n",
       "    <tr>\n",
       "      <th>28844</th>\n",
       "      <td>Mr. Neil Dowd</td>\n",
       "      <td>1981</td>\n",
       "      <td>Graduation</td>\n",
       "      <td>Married</td>\n",
       "      <td>93031.0</td>\n",
       "      <td>0</td>\n",
       "      <td>1</td>\n",
       "      <td>2022-06-29 00:00:00</td>\n",
       "      <td>43.0</td>\n",
       "      <td>6050.0</td>\n",
       "      <td>140</td>\n",
       "      <td>1275.0</td>\n",
       "      <td>140.0</td>\n",
       "      <td>140.0</td>\n",
       "      <td>7.0</td>\n",
       "      <td>1</td>\n",
       "      <td>10</td>\n",
       "      <td>3</td>\n",
       "      <td>10</td>\n",
       "      <td>4</td>\n",
       "      <td>0</td>\n",
       "      <td>0</td>\n",
       "      <td>1</td>\n",
       "      <td>0</td>\n",
       "      <td>0</td>\n",
       "      <td>0</td>\n",
       "    </tr>\n",
       "    <tr>\n",
       "      <th>30464</th>\n",
       "      <td>Miss Gabrielle Churchill</td>\n",
       "      <td>1960</td>\n",
       "      <td>Graduation</td>\n",
       "      <td>Together</td>\n",
       "      <td>99213.0</td>\n",
       "      <td>0</td>\n",
       "      <td>1</td>\n",
       "      <td>2021-05-02 00:00:00</td>\n",
       "      <td>9.0</td>\n",
       "      <td>2120.0</td>\n",
       "      <td>980</td>\n",
       "      <td>2700.0</td>\n",
       "      <td>1200.0</td>\n",
       "      <td>980.0</td>\n",
       "      <td>32.0</td>\n",
       "      <td>2</td>\n",
       "      <td>5</td>\n",
       "      <td>5</td>\n",
       "      <td>10</td>\n",
       "      <td>2</td>\n",
       "      <td>0</td>\n",
       "      <td>0</td>\n",
       "      <td>0</td>\n",
       "      <td>0</td>\n",
       "      <td>0</td>\n",
       "      <td>0</td>\n",
       "    </tr>\n",
       "  </tbody>\n",
       "</table>\n",
       "</div>"
      ],
      "text/plain": [
       "                                Name  Birthyear   Education Marital_Status  \\\n",
       "CustomerID                                                                   \n",
       "32924               Mrs. Wanda Terry       1986  Graduation       Divorced   \n",
       "8276               Mrs. Mary Jackson       1968  HighSchool        Married   \n",
       "32966               Mr. Steven Baker       1961  HighSchool        Married   \n",
       "5627              Mr. Jonathan Clark       1988  Graduation        Married   \n",
       "29357              Mr. Eric Springer       1972         PhD        Married   \n",
       "26891                  Mr. Sam Peake       1992  Graduation        Married   \n",
       "21269              Mr. Nathan Glover       1971  Graduation        Married   \n",
       "32777                  Mr. Joe James       1967      Master        Married   \n",
       "26285           Mr. Oliver Sanderson       1986       Basic       Together   \n",
       "5540              Mr. Justin MacLeod       1995  Graduation       Together   \n",
       "17069             Miss Zoe Underwood       1977  Graduation       Together   \n",
       "12320         Mr. Christian Morrison       1985      Master        Married   \n",
       "24260                Mr. Dan Langdon       1993  Graduation         Single   \n",
       "6470                Miss Diane White       1980  Graduation         Single   \n",
       "10265                 Mr. Max Martin       1988  HighSchool       Together   \n",
       "21767                 Mrs. Jan Sharp       1977      Master        Married   \n",
       "15905              Mr. Charles James       1957         PhD       Together   \n",
       "28688             Mr. Anthony Gibson       1976  Graduation       Together   \n",
       "28739          Mr. Stephen Henderson       1970  Graduation        Married   \n",
       "25052                Mr. Piers Nolan       1977      Master       Divorced   \n",
       "7586                Mr. Jason Powell       1985      Master        Married   \n",
       "32495             Miss Wanda Wallace       1962  Graduation       Together   \n",
       "19295              Mr. Justin Martin       1998  Graduation       Together   \n",
       "14942              Mr. Stewart North       1978         PhD       Together   \n",
       "20747               Mr. Luke Lambert       1988         PhD        Married   \n",
       "12035              Mrs. Heather Hart       1985  Graduation        Married   \n",
       "8447               Mrs. Grace Davies       1967  Graduation        Married   \n",
       "25685                Mr. Austin Knox       1955         PhD          Widow   \n",
       "28625                Mr. Frank Piper       1969       Basic        Married   \n",
       "28844                  Mr. Neil Dowd       1981  Graduation        Married   \n",
       "30464       Miss Gabrielle Churchill       1960  Graduation       Together   \n",
       "\n",
       "              Income  Kid_Younger6  Children_6to18       Date_Adherence  \\\n",
       "CustomerID                                                                \n",
       "32924        41264.0             1               1  2020-10-03 00:00:00   \n",
       "8276        118238.0             0               0  2020-10-13 00:00:00   \n",
       "32966        84974.0             0               1  2022-02-17 00:00:00   \n",
       "5627         40975.0             1               0  2022-04-28 00:00:00   \n",
       "29357        77778.0             0               1  2022-04-19 00:00:00   \n",
       "26891        74147.0             1               0  2022-03-21 00:00:00   \n",
       "21269        91241.0             0               1  2022-03-28 00:00:00   \n",
       "32777       101251.0             0               1  2021-12-30 00:00:00   \n",
       "26285        22345.0             1               0  2021-03-21 00:00:00   \n",
       "5540         44247.0             1               0  2021-03-08 00:00:00   \n",
       "17069        75226.0             1               1  2020-11-24 00:00:00   \n",
       "12320        39747.0             1               0  2021-04-06 00:00:00   \n",
       "24260       116645.0             0               0  2021-05-18 00:00:00   \n",
       "6470        127255.0             0               0  2021-06-17 00:00:00   \n",
       "10265        27838.0             1               0  2021-10-08 00:00:00   \n",
       "21767        54507.0             1               1  2020-10-27 00:00:00   \n",
       "15905        95655.0             0               0  2020-09-04 00:00:00   \n",
       "28688        77992.0             0               1  2020-12-29 00:00:00   \n",
       "28739        81721.0             0               1  2021-07-21 00:00:00   \n",
       "25052        57770.0             1               0  2021-07-23 00:00:00   \n",
       "7586         98465.0             0               1  2021-04-25 00:00:00   \n",
       "32495         8305.4             0               1  2022-03-21 00:00:00   \n",
       "19295       120028.0             0               0  2022-05-13 00:00:00   \n",
       "14942       135654.0             0               0  2021-05-02 00:00:00   \n",
       "20747        97456.0             0               0  2020-08-14 00:00:00   \n",
       "12035       127587.0             1               0  2021-09-30 00:00:00   \n",
       "8447        116080.0             1               1  2022-04-24 00:00:00   \n",
       "25685        60675.0             1               1  2020-11-19 00:00:00   \n",
       "28625        30685.0             2               1  2021-12-25 00:00:00   \n",
       "28844        93031.0             0               1  2022-06-29 00:00:00   \n",
       "30464        99213.0             0               1  2021-05-02 00:00:00   \n",
       "\n",
       "            Recency  MntMeat&Fish  MntEntries  MntVegan&Vegetarian  MntDrinks  \\\n",
       "CustomerID                                                                      \n",
       "32924          61.0          70.0          20                165.0       40.0   \n",
       "8276           42.0        5940.0        1002               9465.0     1100.0   \n",
       "32966          56.0        2610.0         840               2160.0      840.0   \n",
       "5627           31.0         130.0           0                120.0       20.0   \n",
       "29357          92.0        1240.0          60                315.0       20.0   \n",
       "26891          13.0         610.0         320                915.0       20.0   \n",
       "21269          18.0        1780.0         220               2370.0      540.0   \n",
       "32777          26.0        7350.0        2780               4170.0      500.0   \n",
       "26285          54.0          50.0         180                285.0      240.0   \n",
       "5540           51.0        1540.0         400                990.0        0.0   \n",
       "17069          32.0        1320.0         280                390.0      180.0   \n",
       "12320          64.0         120.0           0                195.0       20.0   \n",
       "24260          64.0        3330.0           0              12225.0     1980.0   \n",
       "6470           75.0        5760.0        2220              13950.0     2960.0   \n",
       "10265           7.0         170.0          60                105.0      280.0   \n",
       "21767          94.0         280.0          40                135.0       20.0   \n",
       "15905           3.0        8900.0        1260               4380.0        0.0   \n",
       "28688          43.0        5940.0         120                570.0      120.0   \n",
       "28739          78.0        2140.0        1700               2085.0     1160.0   \n",
       "25052          12.0         700.0          60               1275.0      240.0   \n",
       "7586           39.0        3780.0         200               2205.0      100.0   \n",
       "32495          30.0         479.0          10                123.0       10.0   \n",
       "19295          15.0        9370.0        1060               3000.0      800.0   \n",
       "14942          71.0        9790.0         880              14025.0      440.0   \n",
       "20747          63.0        2540.0        1420               6705.0     2020.0   \n",
       "12035          73.0        6300.0        3200               3945.0      220.0   \n",
       "8447           33.0        2450.0         320               3345.0      320.0   \n",
       "25685          15.0        5020.0           0                645.0        0.0   \n",
       "28625          35.0          60.0         120                120.0      180.0   \n",
       "28844          43.0        6050.0         140               1275.0      140.0   \n",
       "30464           9.0        2120.0         980               2700.0     1200.0   \n",
       "\n",
       "            MntDesserts  MntAdditionalRequests  NumOfferPurchases  \\\n",
       "CustomerID                                                          \n",
       "32924               0.0                    7.0                  2   \n",
       "8276             1100.0                   32.0                  1   \n",
       "32966             960.0                  133.0                  3   \n",
       "5627               20.0                    5.0                  1   \n",
       "29357              20.0                   33.0                  1   \n",
       "26891             240.0                   78.0                  2   \n",
       "21269             380.0                   59.0                  1   \n",
       "32777            1760.0                   66.0                  2   \n",
       "26285             280.0                   39.0                  3   \n",
       "5540              240.0                   27.0                  7   \n",
       "17069             100.0                   28.0                  5   \n",
       "12320               0.0                   10.0                  1   \n",
       "24260             832.0                   29.0                  1   \n",
       "6470             1860.0                   74.0                  1   \n",
       "10265              20.0                   42.0                  2   \n",
       "21767              20.0                    8.0                  2   \n",
       "15905             500.0                   12.0                  4   \n",
       "28688             120.0                   25.0                  4   \n",
       "28739             740.0                   16.0                  4   \n",
       "25052             180.0                   95.0                  3   \n",
       "7586              100.0                   38.0                  3   \n",
       "32495              34.0                   17.1                  0   \n",
       "19295            2140.0                  200.0                  0   \n",
       "14942             488.0                   22.0                  1   \n",
       "20747            2840.0                   20.0                  1   \n",
       "12035            1600.0                   45.0                  1   \n",
       "8447              860.0                   16.0                  2   \n",
       "25685               0.0                   27.0                  9   \n",
       "28625             180.0                   18.0                  3   \n",
       "28844             140.0                    7.0                  1   \n",
       "30464             980.0                   32.0                  2   \n",
       "\n",
       "            NumAppPurchases  NumTakeAwayPurchases  NumStorePurchases  \\\n",
       "CustomerID                                                             \n",
       "32924                     3                     1                  3   \n",
       "8276                      6                     7                  8   \n",
       "32966                     6                     5                  9   \n",
       "5627                      3                     1                  4   \n",
       "29357                     5                     2                  4   \n",
       "26891                     6                     3                  2   \n",
       "21269                     8                     3                  6   \n",
       "32777                     8                     8                  6   \n",
       "26285                     5                     2                  2   \n",
       "5540                      8                     2                  4   \n",
       "17069                     7                     2                  3   \n",
       "12320                     3                     1                  3   \n",
       "24260                     6                    11                 11   \n",
       "6470                      5                     3                 13   \n",
       "10265                     4                     3                  2   \n",
       "21767                     4                     1                  3   \n",
       "15905                    10                     5                  7   \n",
       "28688                     9                     3                 10   \n",
       "28739                     7                     3                 10   \n",
       "25052                     6                     3                  3   \n",
       "7586                      9                     3                  8   \n",
       "32495                     1                     1                  0   \n",
       "19295                     6                     4                 13   \n",
       "14942                     9                     6                 12   \n",
       "20747                     5                     5                  8   \n",
       "12035                     6                     6                  8   \n",
       "8447                     10                     2                  8   \n",
       "25685                    10                     3                  7   \n",
       "28625                     4                     2                  3   \n",
       "28844                    10                     3                 10   \n",
       "30464                     5                     5                 10   \n",
       "\n",
       "            NumAppVisitsMonth  Complain  Response_Cmp1  Response_Cmp2  \\\n",
       "CustomerID                                                              \n",
       "32924                       7         0              0              0   \n",
       "8276                        2         0              0              0   \n",
       "32966                       3         0              0              0   \n",
       "5627                        3         0              0              0   \n",
       "29357                       6         0              0              1   \n",
       "26891                       6         0              1              0   \n",
       "21269                       5         0              0              0   \n",
       "32777                       3         0              1              0   \n",
       "26285                       9         0              1              0   \n",
       "5540                        9         0              0              0   \n",
       "17069                       8         0              0              0   \n",
       "12320                       7         0              0              0   \n",
       "24260                       2         0              0              0   \n",
       "6470                        1         0              0              0   \n",
       "10265                       4         0              1              0   \n",
       "21767                       7         0              0              0   \n",
       "15905                       6         0              0              0   \n",
       "28688                       7         0              0              0   \n",
       "28739                       5         0              0              0   \n",
       "25052                       7         0              0              0   \n",
       "7586                        6         0              0              0   \n",
       "32495                      20         0              1              0   \n",
       "19295                       1         0              0              0   \n",
       "14942                       3         0              0              1   \n",
       "20747                       1         0              0              0   \n",
       "12035                       5         0              0              1   \n",
       "8447                        6         0              0              0   \n",
       "25685                       9         0              0              0   \n",
       "28625                       6         0              0              0   \n",
       "28844                       4         0              0              1   \n",
       "30464                       2         0              0              0   \n",
       "\n",
       "            Response_Cmp3  Response_Cmp4  Response_Cmp5  \n",
       "CustomerID                                               \n",
       "32924                   0              0              0  \n",
       "8276                    0              0              0  \n",
       "32966                   0              0              0  \n",
       "5627                    0              0              0  \n",
       "29357                   0              0              0  \n",
       "26891                   0              0              0  \n",
       "21269                   0              0              0  \n",
       "32777                   0              0              0  \n",
       "26285                   0              0              0  \n",
       "5540                    0              0              0  \n",
       "17069                   0              0              0  \n",
       "12320                   0              0              0  \n",
       "24260                   0              0              0  \n",
       "6470                    0              0              0  \n",
       "10265                   0              0              0  \n",
       "21767                   0              0              0  \n",
       "15905                   0              0              0  \n",
       "28688                   0              0              0  \n",
       "28739                   0              0              0  \n",
       "25052                   0              0              0  \n",
       "7586                    0              0              0  \n",
       "32495                   0              0              0  \n",
       "19295                   1              0              0  \n",
       "14942                   1              1              0  \n",
       "20747                   0              0              0  \n",
       "12035                   0              1              0  \n",
       "8447                    0              0              0  \n",
       "25685                   0              0              0  \n",
       "28625                   0              0              0  \n",
       "28844                   0              0              0  \n",
       "30464                   0              0              0  "
      ]
     },
     "execution_count": 6,
     "metadata": {},
     "output_type": "execute_result"
    }
   ],
   "source": [
    "df[df.duplicated()] # checking duplicates"
   ]
  },
  {
   "cell_type": "code",
   "execution_count": 7,
   "id": "b97cf554",
   "metadata": {},
   "outputs": [],
   "source": [
    "df = df[~df.duplicated()] # drop duplicates rows"
   ]
  },
  {
   "cell_type": "markdown",
   "id": "7708f19d",
   "metadata": {},
   "source": [
    "# 2. Explore Data"
   ]
  },
  {
   "cell_type": "markdown",
   "metadata": {
    "collapsed": false
   },
   "source": [
    "## 2.0 Data profiling\n",
    "\n",
    "Se não quiserem instalar a biblioteca não corram esta secção. Caso contrário o comando para instalar é pip install ydata-profiling. No final **apagar esta secção**"
   ]
  },
  {
   "cell_type": "code",
   "execution_count": 8,
   "metadata": {
    "collapsed": false
   },
   "outputs": [],
   "source": [
    "#from ydata_profiling import ProfileReport\n",
    "#profile= ProfileReport (df, title= \"DSML_Project\")"
   ]
  },
  {
   "cell_type": "code",
   "execution_count": 9,
   "metadata": {
    "collapsed": false
   },
   "outputs": [],
   "source": [
    "#profile.to_file('DSML_profile.html')"
   ]
  },
  {
   "cell_type": "markdown",
   "id": "47f0cea9",
   "metadata": {},
   "source": [
    "## 2.1 Basic Exploration"
   ]
  },
  {
   "cell_type": "markdown",
   "id": "7a938300",
   "metadata": {},
   "source": [
    "Q: _To check the number of columns and rows_ we used `shape` _attribute_"
   ]
  },
  {
   "cell_type": "code",
   "execution_count": 10,
   "id": "6ee99fa7",
   "metadata": {},
   "outputs": [
    {
     "data": {
      "text/plain": [
       "(7000, 26)"
      ]
     },
     "execution_count": 10,
     "metadata": {},
     "output_type": "execute_result"
    }
   ],
   "source": [
    "df.shape"
   ]
  },
  {
   "cell_type": "markdown",
   "id": "c353f14d",
   "metadata": {},
   "source": [
    "> A: _The dataset has **7000 rows** and **26 columns**_"
   ]
  },
  {
   "cell_type": "markdown",
   "id": "2b265b69",
   "metadata": {},
   "source": [
    "__*Q*__: Check the name of the features of the dataset we used `columns` _attribute_"
   ]
  },
  {
   "cell_type": "code",
   "execution_count": 11,
   "id": "df65ab3c",
   "metadata": {},
   "outputs": [
    {
     "data": {
      "text/plain": [
       "Index(['Name', 'Birthyear', 'Education', 'Marital_Status', 'Income',\n",
       "       'Kid_Younger6', 'Children_6to18', 'Date_Adherence', 'Recency',\n",
       "       'MntMeat&Fish', 'MntEntries', 'MntVegan&Vegetarian', 'MntDrinks',\n",
       "       'MntDesserts', 'MntAdditionalRequests', 'NumOfferPurchases',\n",
       "       'NumAppPurchases', 'NumTakeAwayPurchases', 'NumStorePurchases',\n",
       "       'NumAppVisitsMonth', 'Complain', 'Response_Cmp1', 'Response_Cmp2',\n",
       "       'Response_Cmp3', 'Response_Cmp4', 'Response_Cmp5'],\n",
       "      dtype='object')"
      ]
     },
     "execution_count": 11,
     "metadata": {},
     "output_type": "execute_result"
    }
   ],
   "source": [
    "df.columns"
   ]
  },
  {
   "cell_type": "markdown",
   "id": "b0613146",
   "metadata": {},
   "source": [
    "> A: The dataset has the following columns/features names: <br>\n",
    "        >Index. CustomerID\n",
    "        >1. 'Name' <br>\n",
    "        >2. 'Birthyear'<br>\n",
    "        >3. 'Education'<br>\n",
    "        >4. 'Marital_Status'<br>\n",
    "        >5. 'Income'<br>\n",
    "        >6. 'Kid_Younger6'<br>\n",
    "        >7. 'Children_6to18'<br>\n",
    "        >8. 'Date_Adherence'<br>\n",
    "        >9. 'Recency'<br>\n",
    "        >10. 'MntMeat&Fish'<br>\n",
    "        >11. 'MntEntries'<br>\n",
    "        >12. 'MntVegan&Vegetarian'<br>\n",
    "        >13. 'MntDrinks'<br>\n",
    "        >14. 'MntDesserts'<br>\n",
    "        >15. 'MntAdditionalRequests'<br>\n",
    "        >16. 'NumOfferPurchases'<br>\n",
    "        >17. 'NumAppPurchases'<br>\n",
    "        >18. 'NumTakeAwayPurchases'<br>\n",
    "        >19. 'NumStorePurchases'<br>\n",
    "        >20. 'NumAppVisitsMonth'<br>\n",
    "        >21. 'Complain'<br>\n",
    "        >22. 'Response_Cmp1'<br>\n",
    "        >23. 'Response_Cmp2'<br>\n",
    "        >24. 'Response_Cmp3'<br>\n",
    "        >25. 'Response_Cmp4'<br>\n",
    "        >26. 'Response_Cmp5'<br>"
   ]
  },
  {
   "cell_type": "markdown",
   "id": "29734ade",
   "metadata": {},
   "source": [
    "Q: First glance of the dataset using `head` and `tail` methods to check the first and last 5 rows."
   ]
  },
  {
   "cell_type": "code",
   "execution_count": 12,
   "id": "3ccf8a80",
   "metadata": {},
   "outputs": [
    {
     "data": {
      "text/html": [
       "<div>\n",
       "<style scoped>\n",
       "    .dataframe tbody tr th:only-of-type {\n",
       "        vertical-align: middle;\n",
       "    }\n",
       "\n",
       "    .dataframe tbody tr th {\n",
       "        vertical-align: top;\n",
       "    }\n",
       "\n",
       "    .dataframe thead th {\n",
       "        text-align: right;\n",
       "    }\n",
       "</style>\n",
       "<table border=\"1\" class=\"dataframe\">\n",
       "  <thead>\n",
       "    <tr style=\"text-align: right;\">\n",
       "      <th></th>\n",
       "      <th>Name</th>\n",
       "      <th>Birthyear</th>\n",
       "      <th>Education</th>\n",
       "      <th>Marital_Status</th>\n",
       "      <th>Income</th>\n",
       "      <th>Kid_Younger6</th>\n",
       "      <th>Children_6to18</th>\n",
       "      <th>Date_Adherence</th>\n",
       "      <th>Recency</th>\n",
       "      <th>MntMeat&amp;Fish</th>\n",
       "      <th>MntEntries</th>\n",
       "      <th>MntVegan&amp;Vegetarian</th>\n",
       "      <th>MntDrinks</th>\n",
       "      <th>MntDesserts</th>\n",
       "      <th>MntAdditionalRequests</th>\n",
       "      <th>NumOfferPurchases</th>\n",
       "      <th>NumAppPurchases</th>\n",
       "      <th>NumTakeAwayPurchases</th>\n",
       "      <th>NumStorePurchases</th>\n",
       "      <th>NumAppVisitsMonth</th>\n",
       "      <th>Complain</th>\n",
       "      <th>Response_Cmp1</th>\n",
       "      <th>Response_Cmp2</th>\n",
       "      <th>Response_Cmp3</th>\n",
       "      <th>Response_Cmp4</th>\n",
       "      <th>Response_Cmp5</th>\n",
       "    </tr>\n",
       "    <tr>\n",
       "      <th>CustomerID</th>\n",
       "      <th></th>\n",
       "      <th></th>\n",
       "      <th></th>\n",
       "      <th></th>\n",
       "      <th></th>\n",
       "      <th></th>\n",
       "      <th></th>\n",
       "      <th></th>\n",
       "      <th></th>\n",
       "      <th></th>\n",
       "      <th></th>\n",
       "      <th></th>\n",
       "      <th></th>\n",
       "      <th></th>\n",
       "      <th></th>\n",
       "      <th></th>\n",
       "      <th></th>\n",
       "      <th></th>\n",
       "      <th></th>\n",
       "      <th></th>\n",
       "      <th></th>\n",
       "      <th></th>\n",
       "      <th></th>\n",
       "      <th></th>\n",
       "      <th></th>\n",
       "      <th></th>\n",
       "    </tr>\n",
       "  </thead>\n",
       "  <tbody>\n",
       "    <tr>\n",
       "      <th>14594</th>\n",
       "      <td>Miss Leah Lewis</td>\n",
       "      <td>1981</td>\n",
       "      <td>Graduation</td>\n",
       "      <td>Single</td>\n",
       "      <td>113947.0</td>\n",
       "      <td>0</td>\n",
       "      <td>0</td>\n",
       "      <td>2021-01-09 00:00:00</td>\n",
       "      <td>43.0</td>\n",
       "      <td>4640.0</td>\n",
       "      <td>3380</td>\n",
       "      <td>5700.0</td>\n",
       "      <td>2240.0</td>\n",
       "      <td>562.0</td>\n",
       "      <td>154.0</td>\n",
       "      <td>2</td>\n",
       "      <td>10</td>\n",
       "      <td>7</td>\n",
       "      <td>7</td>\n",
       "      <td>4</td>\n",
       "      <td>0</td>\n",
       "      <td>0</td>\n",
       "      <td>1</td>\n",
       "      <td>0</td>\n",
       "      <td>0</td>\n",
       "      <td>0</td>\n",
       "    </tr>\n",
       "    <tr>\n",
       "      <th>19070</th>\n",
       "      <td>Miss Grace Black</td>\n",
       "      <td>1974</td>\n",
       "      <td>Graduation</td>\n",
       "      <td>Together</td>\n",
       "      <td>114297.0</td>\n",
       "      <td>0</td>\n",
       "      <td>0</td>\n",
       "      <td>2021-04-10 00:00:00</td>\n",
       "      <td>74.0</td>\n",
       "      <td>7080.0</td>\n",
       "      <td>3680</td>\n",
       "      <td>7620.0</td>\n",
       "      <td>1840.0</td>\n",
       "      <td>1220.0</td>\n",
       "      <td>46.0</td>\n",
       "      <td>1</td>\n",
       "      <td>5</td>\n",
       "      <td>9</td>\n",
       "      <td>12</td>\n",
       "      <td>2</td>\n",
       "      <td>0</td>\n",
       "      <td>0</td>\n",
       "      <td>0</td>\n",
       "      <td>0</td>\n",
       "      <td>0</td>\n",
       "      <td>0</td>\n",
       "    </tr>\n",
       "    <tr>\n",
       "      <th>29888</th>\n",
       "      <td>Mr. Gavin Morrison</td>\n",
       "      <td>1960</td>\n",
       "      <td>PhD</td>\n",
       "      <td>Together</td>\n",
       "      <td>115476.0</td>\n",
       "      <td>0</td>\n",
       "      <td>0</td>\n",
       "      <td>2022-01-12 00:00:00</td>\n",
       "      <td>85.0</td>\n",
       "      <td>4130.0</td>\n",
       "      <td>380</td>\n",
       "      <td>4890.0</td>\n",
       "      <td>3640.0</td>\n",
       "      <td>380.0</td>\n",
       "      <td>28.0</td>\n",
       "      <td>1</td>\n",
       "      <td>5</td>\n",
       "      <td>5</td>\n",
       "      <td>7</td>\n",
       "      <td>1</td>\n",
       "      <td>0</td>\n",
       "      <td>0</td>\n",
       "      <td>0</td>\n",
       "      <td>0</td>\n",
       "      <td>0</td>\n",
       "      <td>0</td>\n",
       "    </tr>\n",
       "  </tbody>\n",
       "</table>\n",
       "</div>"
      ],
      "text/plain": [
       "                          Name  Birthyear   Education Marital_Status  \\\n",
       "CustomerID                                                             \n",
       "14594          Miss Leah Lewis       1981  Graduation         Single   \n",
       "19070         Miss Grace Black       1974  Graduation       Together   \n",
       "29888       Mr. Gavin Morrison       1960         PhD       Together   \n",
       "\n",
       "              Income  Kid_Younger6  Children_6to18       Date_Adherence  \\\n",
       "CustomerID                                                                \n",
       "14594       113947.0             0               0  2021-01-09 00:00:00   \n",
       "19070       114297.0             0               0  2021-04-10 00:00:00   \n",
       "29888       115476.0             0               0  2022-01-12 00:00:00   \n",
       "\n",
       "            Recency  MntMeat&Fish  MntEntries  MntVegan&Vegetarian  MntDrinks  \\\n",
       "CustomerID                                                                      \n",
       "14594          43.0        4640.0        3380               5700.0     2240.0   \n",
       "19070          74.0        7080.0        3680               7620.0     1840.0   \n",
       "29888          85.0        4130.0         380               4890.0     3640.0   \n",
       "\n",
       "            MntDesserts  MntAdditionalRequests  NumOfferPurchases  \\\n",
       "CustomerID                                                          \n",
       "14594             562.0                  154.0                  2   \n",
       "19070            1220.0                   46.0                  1   \n",
       "29888             380.0                   28.0                  1   \n",
       "\n",
       "            NumAppPurchases  NumTakeAwayPurchases  NumStorePurchases  \\\n",
       "CustomerID                                                             \n",
       "14594                    10                     7                  7   \n",
       "19070                     5                     9                 12   \n",
       "29888                     5                     5                  7   \n",
       "\n",
       "            NumAppVisitsMonth  Complain  Response_Cmp1  Response_Cmp2  \\\n",
       "CustomerID                                                              \n",
       "14594                       4         0              0              1   \n",
       "19070                       2         0              0              0   \n",
       "29888                       1         0              0              0   \n",
       "\n",
       "            Response_Cmp3  Response_Cmp4  Response_Cmp5  \n",
       "CustomerID                                               \n",
       "14594                   0              0              0  \n",
       "19070                   0              0              0  \n",
       "29888                   0              0              0  "
      ]
     },
     "execution_count": 12,
     "metadata": {},
     "output_type": "execute_result"
    }
   ],
   "source": [
    "df.head(3)"
   ]
  },
  {
   "cell_type": "code",
   "execution_count": 13,
   "id": "bf42f408",
   "metadata": {},
   "outputs": [
    {
     "data": {
      "text/html": [
       "<div>\n",
       "<style scoped>\n",
       "    .dataframe tbody tr th:only-of-type {\n",
       "        vertical-align: middle;\n",
       "    }\n",
       "\n",
       "    .dataframe tbody tr th {\n",
       "        vertical-align: top;\n",
       "    }\n",
       "\n",
       "    .dataframe thead th {\n",
       "        text-align: right;\n",
       "    }\n",
       "</style>\n",
       "<table border=\"1\" class=\"dataframe\">\n",
       "  <thead>\n",
       "    <tr style=\"text-align: right;\">\n",
       "      <th></th>\n",
       "      <th>Name</th>\n",
       "      <th>Birthyear</th>\n",
       "      <th>Education</th>\n",
       "      <th>Marital_Status</th>\n",
       "      <th>Income</th>\n",
       "      <th>Kid_Younger6</th>\n",
       "      <th>Children_6to18</th>\n",
       "      <th>Date_Adherence</th>\n",
       "      <th>Recency</th>\n",
       "      <th>MntMeat&amp;Fish</th>\n",
       "      <th>MntEntries</th>\n",
       "      <th>MntVegan&amp;Vegetarian</th>\n",
       "      <th>MntDrinks</th>\n",
       "      <th>MntDesserts</th>\n",
       "      <th>MntAdditionalRequests</th>\n",
       "      <th>NumOfferPurchases</th>\n",
       "      <th>NumAppPurchases</th>\n",
       "      <th>NumTakeAwayPurchases</th>\n",
       "      <th>NumStorePurchases</th>\n",
       "      <th>NumAppVisitsMonth</th>\n",
       "      <th>Complain</th>\n",
       "      <th>Response_Cmp1</th>\n",
       "      <th>Response_Cmp2</th>\n",
       "      <th>Response_Cmp3</th>\n",
       "      <th>Response_Cmp4</th>\n",
       "      <th>Response_Cmp5</th>\n",
       "    </tr>\n",
       "    <tr>\n",
       "      <th>CustomerID</th>\n",
       "      <th></th>\n",
       "      <th></th>\n",
       "      <th></th>\n",
       "      <th></th>\n",
       "      <th></th>\n",
       "      <th></th>\n",
       "      <th></th>\n",
       "      <th></th>\n",
       "      <th></th>\n",
       "      <th></th>\n",
       "      <th></th>\n",
       "      <th></th>\n",
       "      <th></th>\n",
       "      <th></th>\n",
       "      <th></th>\n",
       "      <th></th>\n",
       "      <th></th>\n",
       "      <th></th>\n",
       "      <th></th>\n",
       "      <th></th>\n",
       "      <th></th>\n",
       "      <th></th>\n",
       "      <th></th>\n",
       "      <th></th>\n",
       "      <th></th>\n",
       "      <th></th>\n",
       "    </tr>\n",
       "  </thead>\n",
       "  <tbody>\n",
       "    <tr>\n",
       "      <th>29186</th>\n",
       "      <td>Mr. Thomas Churchill</td>\n",
       "      <td>1967</td>\n",
       "      <td>PhD</td>\n",
       "      <td>Together</td>\n",
       "      <td>56039.0</td>\n",
       "      <td>0</td>\n",
       "      <td>1</td>\n",
       "      <td>2021-12-15 00:00:00</td>\n",
       "      <td>30.0</td>\n",
       "      <td>540.0</td>\n",
       "      <td>0</td>\n",
       "      <td>135.0</td>\n",
       "      <td>0.0</td>\n",
       "      <td>0.0</td>\n",
       "      <td>5.0</td>\n",
       "      <td>2</td>\n",
       "      <td>3</td>\n",
       "      <td>1</td>\n",
       "      <td>4</td>\n",
       "      <td>6</td>\n",
       "      <td>0</td>\n",
       "      <td>0</td>\n",
       "      <td>0</td>\n",
       "      <td>0</td>\n",
       "      <td>0</td>\n",
       "      <td>0</td>\n",
       "    </tr>\n",
       "    <tr>\n",
       "      <th>23312</th>\n",
       "      <td>Miss Angela Murray</td>\n",
       "      <td>1989</td>\n",
       "      <td>Graduation</td>\n",
       "      <td>Single</td>\n",
       "      <td>44867.0</td>\n",
       "      <td>1</td>\n",
       "      <td>0</td>\n",
       "      <td>2020-11-12 00:00:00</td>\n",
       "      <td>8.0</td>\n",
       "      <td>80.0</td>\n",
       "      <td>120</td>\n",
       "      <td>210.0</td>\n",
       "      <td>120.0</td>\n",
       "      <td>100.0</td>\n",
       "      <td>17.0</td>\n",
       "      <td>1</td>\n",
       "      <td>3</td>\n",
       "      <td>1</td>\n",
       "      <td>3</td>\n",
       "      <td>8</td>\n",
       "      <td>0</td>\n",
       "      <td>0</td>\n",
       "      <td>0</td>\n",
       "      <td>0</td>\n",
       "      <td>0</td>\n",
       "      <td>0</td>\n",
       "    </tr>\n",
       "    <tr>\n",
       "      <th>15581</th>\n",
       "      <td>Miss Diana Taylor</td>\n",
       "      <td>1960</td>\n",
       "      <td>Graduation</td>\n",
       "      <td>Single</td>\n",
       "      <td>124379.0</td>\n",
       "      <td>0</td>\n",
       "      <td>0</td>\n",
       "      <td>2021-02-04 00:00:00</td>\n",
       "      <td>80.0</td>\n",
       "      <td>7280.0</td>\n",
       "      <td>422</td>\n",
       "      <td>1692.0</td>\n",
       "      <td>3760.0</td>\n",
       "      <td>1880.0</td>\n",
       "      <td>235.0</td>\n",
       "      <td>1</td>\n",
       "      <td>6</td>\n",
       "      <td>12</td>\n",
       "      <td>11</td>\n",
       "      <td>2</td>\n",
       "      <td>0</td>\n",
       "      <td>0</td>\n",
       "      <td>0</td>\n",
       "      <td>1</td>\n",
       "      <td>1</td>\n",
       "      <td>0</td>\n",
       "    </tr>\n",
       "  </tbody>\n",
       "</table>\n",
       "</div>"
      ],
      "text/plain": [
       "                            Name  Birthyear   Education Marital_Status  \\\n",
       "CustomerID                                                               \n",
       "29186       Mr. Thomas Churchill       1967         PhD       Together   \n",
       "23312         Miss Angela Murray       1989  Graduation         Single   \n",
       "15581          Miss Diana Taylor       1960  Graduation         Single   \n",
       "\n",
       "              Income  Kid_Younger6  Children_6to18       Date_Adherence  \\\n",
       "CustomerID                                                                \n",
       "29186        56039.0             0               1  2021-12-15 00:00:00   \n",
       "23312        44867.0             1               0  2020-11-12 00:00:00   \n",
       "15581       124379.0             0               0  2021-02-04 00:00:00   \n",
       "\n",
       "            Recency  MntMeat&Fish  MntEntries  MntVegan&Vegetarian  MntDrinks  \\\n",
       "CustomerID                                                                      \n",
       "29186          30.0         540.0           0                135.0        0.0   \n",
       "23312           8.0          80.0         120                210.0      120.0   \n",
       "15581          80.0        7280.0         422               1692.0     3760.0   \n",
       "\n",
       "            MntDesserts  MntAdditionalRequests  NumOfferPurchases  \\\n",
       "CustomerID                                                          \n",
       "29186               0.0                    5.0                  2   \n",
       "23312             100.0                   17.0                  1   \n",
       "15581            1880.0                  235.0                  1   \n",
       "\n",
       "            NumAppPurchases  NumTakeAwayPurchases  NumStorePurchases  \\\n",
       "CustomerID                                                             \n",
       "29186                     3                     1                  4   \n",
       "23312                     3                     1                  3   \n",
       "15581                     6                    12                 11   \n",
       "\n",
       "            NumAppVisitsMonth  Complain  Response_Cmp1  Response_Cmp2  \\\n",
       "CustomerID                                                              \n",
       "29186                       6         0              0              0   \n",
       "23312                       8         0              0              0   \n",
       "15581                       2         0              0              0   \n",
       "\n",
       "            Response_Cmp3  Response_Cmp4  Response_Cmp5  \n",
       "CustomerID                                               \n",
       "29186                   0              0              0  \n",
       "23312                   0              0              0  \n",
       "15581                   1              1              0  "
      ]
     },
     "execution_count": 13,
     "metadata": {},
     "output_type": "execute_result"
    }
   ],
   "source": [
    "df.tail(3)"
   ]
  },
  {
   "cell_type": "markdown",
   "id": "ced4cb06",
   "metadata": {},
   "source": [
    "Q: To check the basic information of the dataset we've used the `info` method"
   ]
  },
  {
   "cell_type": "code",
   "execution_count": 14,
   "id": "cedc7804",
   "metadata": {},
   "outputs": [
    {
     "name": "stdout",
     "output_type": "stream",
     "text": [
      "<class 'pandas.core.frame.DataFrame'>\n",
      "Int64Index: 7000 entries, 14594 to 15581\n",
      "Data columns (total 26 columns):\n",
      " #   Column                 Non-Null Count  Dtype  \n",
      "---  ------                 --------------  -----  \n",
      " 0   Name                   7000 non-null   object \n",
      " 1   Birthyear              7000 non-null   int64  \n",
      " 2   Education              6986 non-null   object \n",
      " 3   Marital_Status         7000 non-null   object \n",
      " 4   Income                 7000 non-null   float64\n",
      " 5   Kid_Younger6           7000 non-null   int64  \n",
      " 6   Children_6to18         7000 non-null   int64  \n",
      " 7   Date_Adherence         7000 non-null   object \n",
      " 8   Recency                6977 non-null   float64\n",
      " 9   MntMeat&Fish           7000 non-null   float64\n",
      " 10  MntEntries             7000 non-null   int64  \n",
      " 11  MntVegan&Vegetarian    7000 non-null   float64\n",
      " 12  MntDrinks              6972 non-null   float64\n",
      " 13  MntDesserts            7000 non-null   float64\n",
      " 14  MntAdditionalRequests  7000 non-null   float64\n",
      " 15  NumOfferPurchases      7000 non-null   int64  \n",
      " 16  NumAppPurchases        7000 non-null   int64  \n",
      " 17  NumTakeAwayPurchases   7000 non-null   int64  \n",
      " 18  NumStorePurchases      7000 non-null   int64  \n",
      " 19  NumAppVisitsMonth      7000 non-null   int64  \n",
      " 20  Complain               7000 non-null   int64  \n",
      " 21  Response_Cmp1          7000 non-null   int64  \n",
      " 22  Response_Cmp2          7000 non-null   int64  \n",
      " 23  Response_Cmp3          7000 non-null   int64  \n",
      " 24  Response_Cmp4          7000 non-null   int64  \n",
      " 25  Response_Cmp5          7000 non-null   int64  \n",
      "dtypes: float64(7), int64(15), object(4)\n",
      "memory usage: 1.4+ MB\n"
     ]
    }
   ],
   "source": [
    "df.info()"
   ]
  },
  {
   "cell_type": "markdown",
   "id": "6794da09",
   "metadata": {},
   "source": [
    ">A: We can observe the data type of the dataset and the how many of features per data type  `dtypes: float64 - (7), int64 - (15), object - (4)`, the memory usage of `1.4+MB`, and the non-null values present per columns. <br>\n",
    "> Using only `info` method we understand that `'Education', 'Recency', 'MntDrinks'` have __14, 23, 28 null values__ that require some action."
   ]
  },
  {
   "cell_type": "markdown",
   "id": "87889183",
   "metadata": {},
   "source": [
    "# 2.2 Statistical Exploration"
   ]
  },
  {
   "cell_type": "markdown",
   "id": "849f7658",
   "metadata": {},
   "source": [
    "## 2.2.1 Numerical Variables"
   ]
  },
  {
   "cell_type": "code",
   "execution_count": 15,
   "id": "121f1c74",
   "metadata": {},
   "outputs": [
    {
     "data": {
      "text/html": [
       "<div>\n",
       "<style scoped>\n",
       "    .dataframe tbody tr th:only-of-type {\n",
       "        vertical-align: middle;\n",
       "    }\n",
       "\n",
       "    .dataframe tbody tr th {\n",
       "        vertical-align: top;\n",
       "    }\n",
       "\n",
       "    .dataframe thead th {\n",
       "        text-align: right;\n",
       "    }\n",
       "</style>\n",
       "<table border=\"1\" class=\"dataframe\">\n",
       "  <thead>\n",
       "    <tr style=\"text-align: right;\">\n",
       "      <th></th>\n",
       "      <th>Birthyear</th>\n",
       "      <th>Income</th>\n",
       "      <th>Kid_Younger6</th>\n",
       "      <th>Children_6to18</th>\n",
       "      <th>Recency</th>\n",
       "      <th>MntMeat&amp;Fish</th>\n",
       "      <th>MntEntries</th>\n",
       "      <th>MntVegan&amp;Vegetarian</th>\n",
       "      <th>MntDrinks</th>\n",
       "      <th>MntDesserts</th>\n",
       "      <th>MntAdditionalRequests</th>\n",
       "      <th>NumOfferPurchases</th>\n",
       "      <th>NumAppPurchases</th>\n",
       "      <th>NumTakeAwayPurchases</th>\n",
       "      <th>NumStorePurchases</th>\n",
       "      <th>NumAppVisitsMonth</th>\n",
       "      <th>Complain</th>\n",
       "      <th>Response_Cmp1</th>\n",
       "      <th>Response_Cmp2</th>\n",
       "      <th>Response_Cmp3</th>\n",
       "      <th>Response_Cmp4</th>\n",
       "      <th>Response_Cmp5</th>\n",
       "    </tr>\n",
       "  </thead>\n",
       "  <tbody>\n",
       "    <tr>\n",
       "      <th>count</th>\n",
       "      <td>7000.000000</td>\n",
       "      <td>7000.000000</td>\n",
       "      <td>7000.000000</td>\n",
       "      <td>7000.000000</td>\n",
       "      <td>6977.000000</td>\n",
       "      <td>7000.000000</td>\n",
       "      <td>7000.000000</td>\n",
       "      <td>7000.000000</td>\n",
       "      <td>6972.000000</td>\n",
       "      <td>7000.000000</td>\n",
       "      <td>7000.000000</td>\n",
       "      <td>7000.000000</td>\n",
       "      <td>7000.000000</td>\n",
       "      <td>7000.000000</td>\n",
       "      <td>7000.000000</td>\n",
       "      <td>7000.000000</td>\n",
       "      <td>7000.000000</td>\n",
       "      <td>7000.000000</td>\n",
       "      <td>7000.000000</td>\n",
       "      <td>7000.000000</td>\n",
       "      <td>7000.000000</td>\n",
       "      <td>7000.000000</td>\n",
       "    </tr>\n",
       "    <tr>\n",
       "      <th>mean</th>\n",
       "      <td>1976.451429</td>\n",
       "      <td>77988.962407</td>\n",
       "      <td>0.440571</td>\n",
       "      <td>0.490571</td>\n",
       "      <td>49.235058</td>\n",
       "      <td>3079.523800</td>\n",
       "      <td>534.749429</td>\n",
       "      <td>2785.050786</td>\n",
       "      <td>545.657544</td>\n",
       "      <td>540.656029</td>\n",
       "      <td>42.556186</td>\n",
       "      <td>2.448429</td>\n",
       "      <td>6.015714</td>\n",
       "      <td>3.834571</td>\n",
       "      <td>5.790571</td>\n",
       "      <td>5.278286</td>\n",
       "      <td>0.010286</td>\n",
       "      <td>0.079143</td>\n",
       "      <td>0.073286</td>\n",
       "      <td>0.083000</td>\n",
       "      <td>0.065857</td>\n",
       "      <td>0.014286</td>\n",
       "    </tr>\n",
       "    <tr>\n",
       "      <th>std</th>\n",
       "      <td>11.996270</td>\n",
       "      <td>35409.810253</td>\n",
       "      <td>0.543477</td>\n",
       "      <td>0.542174</td>\n",
       "      <td>28.922688</td>\n",
       "      <td>3370.377166</td>\n",
       "      <td>787.846684</td>\n",
       "      <td>3908.718244</td>\n",
       "      <td>805.149088</td>\n",
       "      <td>802.221866</td>\n",
       "      <td>49.650747</td>\n",
       "      <td>2.306968</td>\n",
       "      <td>2.745537</td>\n",
       "      <td>3.331142</td>\n",
       "      <td>3.295708</td>\n",
       "      <td>2.748596</td>\n",
       "      <td>0.100903</td>\n",
       "      <td>0.269981</td>\n",
       "      <td>0.260624</td>\n",
       "      <td>0.275902</td>\n",
       "      <td>0.248050</td>\n",
       "      <td>0.118675</td>\n",
       "    </tr>\n",
       "    <tr>\n",
       "      <th>min</th>\n",
       "      <td>1948.000000</td>\n",
       "      <td>2493.800000</td>\n",
       "      <td>0.000000</td>\n",
       "      <td>0.000000</td>\n",
       "      <td>0.000000</td>\n",
       "      <td>0.000000</td>\n",
       "      <td>0.000000</td>\n",
       "      <td>0.000000</td>\n",
       "      <td>0.000000</td>\n",
       "      <td>0.000000</td>\n",
       "      <td>0.000000</td>\n",
       "      <td>0.000000</td>\n",
       "      <td>0.000000</td>\n",
       "      <td>0.000000</td>\n",
       "      <td>0.000000</td>\n",
       "      <td>0.000000</td>\n",
       "      <td>0.000000</td>\n",
       "      <td>0.000000</td>\n",
       "      <td>0.000000</td>\n",
       "      <td>0.000000</td>\n",
       "      <td>0.000000</td>\n",
       "      <td>0.000000</td>\n",
       "    </tr>\n",
       "    <tr>\n",
       "      <th>25%</th>\n",
       "      <td>1967.000000</td>\n",
       "      <td>51586.250000</td>\n",
       "      <td>0.000000</td>\n",
       "      <td>0.000000</td>\n",
       "      <td>24.000000</td>\n",
       "      <td>250.000000</td>\n",
       "      <td>40.000000</td>\n",
       "      <td>240.000000</td>\n",
       "      <td>40.000000</td>\n",
       "      <td>40.000000</td>\n",
       "      <td>9.000000</td>\n",
       "      <td>1.000000</td>\n",
       "      <td>4.000000</td>\n",
       "      <td>1.000000</td>\n",
       "      <td>3.000000</td>\n",
       "      <td>3.000000</td>\n",
       "      <td>0.000000</td>\n",
       "      <td>0.000000</td>\n",
       "      <td>0.000000</td>\n",
       "      <td>0.000000</td>\n",
       "      <td>0.000000</td>\n",
       "      <td>0.000000</td>\n",
       "    </tr>\n",
       "    <tr>\n",
       "      <th>50%</th>\n",
       "      <td>1977.000000</td>\n",
       "      <td>77190.000000</td>\n",
       "      <td>0.000000</td>\n",
       "      <td>0.000000</td>\n",
       "      <td>49.000000</td>\n",
       "      <td>1820.000000</td>\n",
       "      <td>180.000000</td>\n",
       "      <td>1110.000000</td>\n",
       "      <td>180.000000</td>\n",
       "      <td>180.000000</td>\n",
       "      <td>24.000000</td>\n",
       "      <td>2.000000</td>\n",
       "      <td>6.000000</td>\n",
       "      <td>3.000000</td>\n",
       "      <td>5.000000</td>\n",
       "      <td>5.000000</td>\n",
       "      <td>0.000000</td>\n",
       "      <td>0.000000</td>\n",
       "      <td>0.000000</td>\n",
       "      <td>0.000000</td>\n",
       "      <td>0.000000</td>\n",
       "      <td>0.000000</td>\n",
       "    </tr>\n",
       "    <tr>\n",
       "      <th>75%</th>\n",
       "      <td>1985.000000</td>\n",
       "      <td>102016.250000</td>\n",
       "      <td>1.000000</td>\n",
       "      <td>1.000000</td>\n",
       "      <td>74.000000</td>\n",
       "      <td>5070.000000</td>\n",
       "      <td>680.000000</td>\n",
       "      <td>3795.000000</td>\n",
       "      <td>700.000000</td>\n",
       "      <td>680.000000</td>\n",
       "      <td>57.000000</td>\n",
       "      <td>3.000000</td>\n",
       "      <td>8.000000</td>\n",
       "      <td>5.000000</td>\n",
       "      <td>8.000000</td>\n",
       "      <td>7.000000</td>\n",
       "      <td>0.000000</td>\n",
       "      <td>0.000000</td>\n",
       "      <td>0.000000</td>\n",
       "      <td>0.000000</td>\n",
       "      <td>0.000000</td>\n",
       "      <td>0.000000</td>\n",
       "    </tr>\n",
       "    <tr>\n",
       "      <th>max</th>\n",
       "      <td>2005.000000</td>\n",
       "      <td>237639.725000</td>\n",
       "      <td>2.000000</td>\n",
       "      <td>2.000000</td>\n",
       "      <td>99.000000</td>\n",
       "      <td>14980.000000</td>\n",
       "      <td>3980.000000</td>\n",
       "      <td>25974.000000</td>\n",
       "      <td>3980.000000</td>\n",
       "      <td>3980.000000</td>\n",
       "      <td>249.000000</td>\n",
       "      <td>16.000000</td>\n",
       "      <td>13.000000</td>\n",
       "      <td>24.000000</td>\n",
       "      <td>13.000000</td>\n",
       "      <td>20.000000</td>\n",
       "      <td>1.000000</td>\n",
       "      <td>1.000000</td>\n",
       "      <td>1.000000</td>\n",
       "      <td>1.000000</td>\n",
       "      <td>1.000000</td>\n",
       "      <td>1.000000</td>\n",
       "    </tr>\n",
       "  </tbody>\n",
       "</table>\n",
       "</div>"
      ],
      "text/plain": [
       "         Birthyear         Income  Kid_Younger6  Children_6to18      Recency  \\\n",
       "count  7000.000000    7000.000000   7000.000000     7000.000000  6977.000000   \n",
       "mean   1976.451429   77988.962407      0.440571        0.490571    49.235058   \n",
       "std      11.996270   35409.810253      0.543477        0.542174    28.922688   \n",
       "min    1948.000000    2493.800000      0.000000        0.000000     0.000000   \n",
       "25%    1967.000000   51586.250000      0.000000        0.000000    24.000000   \n",
       "50%    1977.000000   77190.000000      0.000000        0.000000    49.000000   \n",
       "75%    1985.000000  102016.250000      1.000000        1.000000    74.000000   \n",
       "max    2005.000000  237639.725000      2.000000        2.000000    99.000000   \n",
       "\n",
       "       MntMeat&Fish   MntEntries  MntVegan&Vegetarian    MntDrinks  \\\n",
       "count   7000.000000  7000.000000          7000.000000  6972.000000   \n",
       "mean    3079.523800   534.749429          2785.050786   545.657544   \n",
       "std     3370.377166   787.846684          3908.718244   805.149088   \n",
       "min        0.000000     0.000000             0.000000     0.000000   \n",
       "25%      250.000000    40.000000           240.000000    40.000000   \n",
       "50%     1820.000000   180.000000          1110.000000   180.000000   \n",
       "75%     5070.000000   680.000000          3795.000000   700.000000   \n",
       "max    14980.000000  3980.000000         25974.000000  3980.000000   \n",
       "\n",
       "       MntDesserts  MntAdditionalRequests  NumOfferPurchases  NumAppPurchases  \\\n",
       "count  7000.000000            7000.000000        7000.000000      7000.000000   \n",
       "mean    540.656029              42.556186           2.448429         6.015714   \n",
       "std     802.221866              49.650747           2.306968         2.745537   \n",
       "min       0.000000               0.000000           0.000000         0.000000   \n",
       "25%      40.000000               9.000000           1.000000         4.000000   \n",
       "50%     180.000000              24.000000           2.000000         6.000000   \n",
       "75%     680.000000              57.000000           3.000000         8.000000   \n",
       "max    3980.000000             249.000000          16.000000        13.000000   \n",
       "\n",
       "       NumTakeAwayPurchases  NumStorePurchases  NumAppVisitsMonth  \\\n",
       "count           7000.000000        7000.000000        7000.000000   \n",
       "mean               3.834571           5.790571           5.278286   \n",
       "std                3.331142           3.295708           2.748596   \n",
       "min                0.000000           0.000000           0.000000   \n",
       "25%                1.000000           3.000000           3.000000   \n",
       "50%                3.000000           5.000000           5.000000   \n",
       "75%                5.000000           8.000000           7.000000   \n",
       "max               24.000000          13.000000          20.000000   \n",
       "\n",
       "          Complain  Response_Cmp1  Response_Cmp2  Response_Cmp3  \\\n",
       "count  7000.000000    7000.000000    7000.000000    7000.000000   \n",
       "mean      0.010286       0.079143       0.073286       0.083000   \n",
       "std       0.100903       0.269981       0.260624       0.275902   \n",
       "min       0.000000       0.000000       0.000000       0.000000   \n",
       "25%       0.000000       0.000000       0.000000       0.000000   \n",
       "50%       0.000000       0.000000       0.000000       0.000000   \n",
       "75%       0.000000       0.000000       0.000000       0.000000   \n",
       "max       1.000000       1.000000       1.000000       1.000000   \n",
       "\n",
       "       Response_Cmp4  Response_Cmp5  \n",
       "count    7000.000000    7000.000000  \n",
       "mean        0.065857       0.014286  \n",
       "std         0.248050       0.118675  \n",
       "min         0.000000       0.000000  \n",
       "25%         0.000000       0.000000  \n",
       "50%         0.000000       0.000000  \n",
       "75%         0.000000       0.000000  \n",
       "max         1.000000       1.000000  "
      ]
     },
     "execution_count": 15,
     "metadata": {},
     "output_type": "execute_result"
    }
   ],
   "source": [
    "df.describe()"
   ]
  },
  {
   "cell_type": "markdown",
   "metadata": {
    "collapsed": false
   },
   "source": [
    "> _The describe return we can get a first glance and make some conclusion:_\n",
    "\n",
    ">__Birthyear__ - could originate an Age column for readability purposes<br>\n",
    "__Income__ - Min and Max are very far from each other and far from the mean value which could indicate outliers<br>\n",
    "__Recency__ - 6977 valid values, hence we should look in deep and decide on how to minimize that effect of missing values<br>\n",
    "__MntMeat&Fish__ - Min and Max are distant from each other and have high standard deviation which could effect some future conclusion<br>\n",
    "__MntEntries__ - Again has high standard deviation that we should analyze, Min and Max far apart, similar to MntMeat&Fish<br>\n",
    "__MntVegan&Vegetarian__ - Similar to the previous two Mnt columns<br>\n",
    "__MntDrinks, MntDesserts__ - Seems to be very similar between them<br>\n",
    "__MntAdditionalRequests__ - The max value standard deviation seems high and also the max value very far apart from the mean<br>\n",
    "__NumOfferPurchases, NumTakeAwayPurchases, NumAppVisitsMonth__  - Have a max value to distante from the mean that could be true but we need to take into account<br>\n",
    "__NumAppPurchases, SumStorePurchases__ - Seems does not have strange summary statistcs<br>\n",
    "__Kid_Younger6, Children_6to18__ - 75% of clients have at least one child"
   ]
  },
  {
   "cell_type": "markdown",
   "metadata": {
    "collapsed": false
   },
   "source": [
    "**Q**: Skewness of each variable "
   ]
  },
  {
   "cell_type": "code",
   "execution_count": 16,
   "metadata": {
    "collapsed": false
   },
   "outputs": [
    {
     "name": "stderr",
     "output_type": "stream",
     "text": [
      "/var/folders/gt/lg95g0n95mqdr3vk5d1k062h0000gn/T/ipykernel_32975/547062910.py:1: FutureWarning: Dropping of nuisance columns in DataFrame reductions (with 'numeric_only=None') is deprecated; in a future version this will raise TypeError.  Select only valid columns before calling the reduction.\n",
      "  df.skew()\n"
     ]
    },
    {
     "data": {
      "text/plain": [
       "Birthyear               -0.092478\n",
       "Income                   0.844721\n",
       "Kid_Younger6             0.693587\n",
       "Children_6to18           0.451693\n",
       "Recency                  0.017676\n",
       "MntMeat&Fish             1.148862\n",
       "MntEntries               2.087220\n",
       "MntVegan&Vegetarian      2.486897\n",
       "MntDrinks                2.046308\n",
       "MntDesserts              2.057811\n",
       "MntAdditionalRequests    1.826522\n",
       "NumOfferPurchases        2.860514\n",
       "NumAppPurchases          0.525873\n",
       "NumTakeAwayPurchases     2.254158\n",
       "NumStorePurchases        0.623254\n",
       "NumAppVisitsMonth        1.005192\n",
       "Complain                 9.709429\n",
       "Response_Cmp1            3.118572\n",
       "Response_Cmp2            3.275500\n",
       "Response_Cmp3            3.023677\n",
       "Response_Cmp4            3.501448\n",
       "Response_Cmp5            8.187993\n",
       "dtype: float64"
      ]
     },
     "execution_count": 16,
     "metadata": {},
     "output_type": "execute_result"
    }
   ],
   "source": [
    "df.skew()"
   ]
  },
  {
   "cell_type": "markdown",
   "metadata": {
    "collapsed": false
   },
   "source": [
    "Concerning the variables' skewness, we can conclude the following:\n",
    "- `Moderate skewness (between |0.5| and |1.0|)`: Birthyear, Income, Kid_Younger6, Children_6to18, Recency, NumAppPurchases, NumStorePurchases, NumAppVisitsMonth\n",
    "- `High skewness (higher than |1.0|)`: MntMeat&Fish, MntEntries, MntVegan&Vegetarian, MntDrinks, MntDesserts, MntAdditionalRequests, NumOfferPurchases, NumTakeAwayPurchases, Complain, Response_Cmp1, Response_Cmp2, Response_Cmp3, Response_Cmp4, Response_Cmp5"
   ]
  },
  {
   "cell_type": "code",
   "execution_count": null,
   "metadata": {
    "collapsed": false
   },
   "outputs": [],
   "source": [
    "df.kurt()"
   ]
  },
  {
   "cell_type": "markdown",
   "metadata": {
    "collapsed": false
   },
   "source": [
    "Features with kurtosis higher than 3 could indicate presence of outliers, hence we should have special considerantion with the following features:\n",
    ">MntEntries, MntVegan&Vegetarian, MntDrinks, MntDesserts, NumOfferPurchases, NumAppVisitsMonth\n",
    "\n",
    "Note: Binomial Variables Complain, and Response_Cmp1 the kurtosis we will not consider as outliers"
   ]
  },
  {
   "cell_type": "markdown",
   "metadata": {
    "collapsed": false
   },
   "source": [
    "## 2.2.2 Categorical Values"
   ]
  },
  {
   "cell_type": "code",
   "execution_count": null,
   "metadata": {
    "collapsed": false
   },
   "outputs": [],
   "source": [
    "df.describe(include = object)"
   ]
  },
  {
   "cell_type": "markdown",
   "metadata": {
    "collapsed": false
   },
   "source": [
    "> We can conclude that the education as **14 missing** values"
   ]
  },
  {
   "cell_type": "markdown",
   "metadata": {
    "collapsed": false
   },
   "source": [
    "#### Level/Possible values of Categorical Features"
   ]
  },
  {
   "cell_type": "markdown",
   "metadata": {
    "collapsed": false
   },
   "source": [
    "### `Name` prefix unique values and count"
   ]
  },
  {
   "cell_type": "code",
   "execution_count": null,
   "metadata": {
    "collapsed": false
   },
   "outputs": [],
   "source": [
    "df['Name'].str.partition(\" \")[0].value_counts()"
   ]
  },
  {
   "cell_type": "markdown",
   "metadata": {
    "collapsed": false
   },
   "source": [
    "With the prefix we can generate a `gender` feature to further explore the dataset. We will deal with that in the data transformation capther"
   ]
  },
  {
   "cell_type": "markdown",
   "metadata": {
    "collapsed": false
   },
   "source": [
    "#### **`Gender`** feature creation"
   ]
  },
  {
   "cell_type": "code",
   "execution_count": null,
   "metadata": {
    "collapsed": false
   },
   "outputs": [],
   "source": [
    "df[\"Gender\"] = df['Name'].str.partition(\" \")[0]\n",
    "df = df.replace({\"Gender\":{\"Mr.\": 1,\"Miss\": 0,\"Mrs.\": 0}})"
   ]
  },
  {
   "cell_type": "markdown",
   "metadata": {
    "collapsed": false
   },
   "source": [
    "### `Education` unique values and count"
   ]
  },
  {
   "cell_type": "code",
   "execution_count": null,
   "metadata": {
    "collapsed": false
   },
   "outputs": [],
   "source": [
    "df[\"Education\"].value_counts()"
   ]
  },
  {
   "cell_type": "markdown",
   "metadata": {
    "collapsed": false
   },
   "source": [
    "We have some issues that will need trasformatioin:<br>\n",
    "- Graduation, Master, HighSchool are written in different ways<br>\n",
    "- `Basic` and `HighSchool` need different levels?"
   ]
  },
  {
   "cell_type": "markdown",
   "metadata": {
    "collapsed": false
   },
   "source": [
    "#### Education standardization"
   ]
  },
  {
   "cell_type": "code",
   "execution_count": null,
   "metadata": {
    "collapsed": false
   },
   "outputs": [],
   "source": [
    "df = df.replace({\"Education\":{\"master\":\"Master\", \"graduation\":\"Graduation\", \"phd\":\"PhD\",\"highschool\":\"HighSchool\"}})"
   ]
  },
  {
   "cell_type": "markdown",
   "metadata": {
    "collapsed": false
   },
   "source": [
    "### `Marital_Status` unique values and count"
   ]
  },
  {
   "cell_type": "code",
   "execution_count": null,
   "metadata": {
    "collapsed": false
   },
   "outputs": [],
   "source": [
    "df[\"Marital_Status\"].value_counts()"
   ]
  },
  {
   "cell_type": "markdown",
   "metadata": {
    "collapsed": false
   },
   "source": [
    "Similarly to previous feature we also have some issues that need transformation:<br>\n",
    "- Married, Together, Single, Divorced and Widow are written with lower and capital letters\n",
    "- We could also consider that Married and Together are similar and joined them in the same level<br>"
   ]
  },
  {
   "cell_type": "markdown",
   "metadata": {
    "collapsed": false
   },
   "source": [
    "#### Marital_Status standardization"
   ]
  },
  {
   "cell_type": "code",
   "execution_count": null,
   "metadata": {
    "collapsed": false
   },
   "outputs": [],
   "source": [
    "df = df.replace({\"Marital_Status\":{\"married\":\"Married\", \"together\":\"Married\", \"single\":\"Single\",\"widow\":\"Widow\",\"divorced\":\"Divorced\",\"Together\":\"Married\"}})\n",
    "df[\"Marital_Status\"].value_counts()"
   ]
  },
  {
   "cell_type": "markdown",
   "metadata": {
    "collapsed": false
   },
   "source": [
    "`Date_Adherence` unqiue values and count"
   ]
  },
  {
   "cell_type": "code",
   "execution_count": null,
   "metadata": {
    "collapsed": false
   },
   "outputs": [],
   "source": [
    "df[\"Date_Adherence\"].value_counts()"
   ]
  },
  {
   "cell_type": "markdown",
   "metadata": {
    "collapsed": false
   },
   "source": [
    "`Date_Adherence` is a date and will need transformation to a date format for further exploration"
   ]
  },
  {
   "cell_type": "markdown",
   "metadata": {
    "collapsed": false
   },
   "source": [
    "## 2.3 Visual Exploration"
   ]
  },
  {
   "cell_type": "markdown",
   "metadata": {
    "collapsed": false
   },
   "source": [
    "### 2.3.1 Numerical Variables"
   ]
  },
  {
   "cell_type": "markdown",
   "metadata": {
    "collapsed": false
   },
   "source": [
    "## 2.4. In-Depth Exploration"
   ]
  },
  {
   "cell_type": "code",
   "execution_count": null,
   "metadata": {
    "collapsed": false
   },
   "outputs": [],
   "source": []
  },
  {
   "cell_type": "markdown",
   "metadata": {
    "collapsed": false
   },
   "source": [
    "# 3. Preprocess Data"
   ]
  },
  {
   "cell_type": "markdown",
   "metadata": {
    "collapsed": false
   },
   "source": [
    "## 3.1. Data Cleaning"
   ]
  },
  {
   "cell_type": "markdown",
   "metadata": {
    "collapsed": false
   },
   "source": [
    "### 3.1.1. Outliers"
   ]
  },
  {
   "cell_type": "markdown",
   "metadata": {
    "collapsed": false
   },
   "source": []
  },
  {
   "cell_type": "code",
   "execution_count": null,
   "metadata": {
    "collapsed": false
   },
   "outputs": [],
   "source": [
    "#fig, (ax1, ax2) = plt.subplots(1, 2, figsize = (10, 5))\n",
    "#ax1.boxplot(df['MntVegan&Vegetarian'])\n",
    "#ax2.boxplot(df['Income'])"
   ]
  },
  {
   "cell_type": "code",
   "execution_count": null,
   "metadata": {
    "collapsed": false
   },
   "outputs": [],
   "source": [
    "df.drop(df[abs(zscore(df['MntVegan&Vegetarian'])) > 3].index, inplace=True)\n",
    "df.drop(df[abs(zscore(df['Income'])) > 3].index, inplace=True)"
   ]
  },
  {
   "cell_type": "code",
   "execution_count": null,
   "metadata": {
    "collapsed": false
   },
   "outputs": [],
   "source": [
    "#fig, (ax1, ax2) = plt.subplots(1, 2, figsize = (10, 5))\n",
    "#ax1.boxplot(df['MntVegan&Vegetarian'])\n",
    "#ax2.boxplot(df['Income'])"
   ]
  },
  {
   "cell_type": "markdown",
   "metadata": {
    "collapsed": false
   },
   "source": [
    "## 3.1.2 Skewness Correction"
   ]
  },
  {
   "cell_type": "code",
   "execution_count": 17,
   "metadata": {
    "collapsed": false
   },
   "outputs": [],
   "source": [
    "df['MntMeat&Fish'] = df['MntMeat&Fish'].apply(np.log10)\n",
    "df['MntVegan&Vegetarian'] = df['MntVegan&Vegetarian'].apply(np.log10)\n",
    "df['MntEntries'] = df['MntEntries'].apply(np.log10)\n",
    "df['MntDrinks'] = df['MntDrinks'].apply(np.log10)\n",
    "df['MntDesserts'] = df['MntDesserts'].apply(np.log10)\n",
    "df['MntAdditionalRequests'] = df['MntAdditionalRequests'].apply(np.log10)\n",
    "df['NumOfferPurchases'] = df['NumOfferPurchases'].apply(np.log10)\n",
    "df['NumTakeAwayPurchases'] = df['NumTakeAwayPurchases'].apply(np.log10)\n",
    "df['Complain'] = df['Complain'].apply(np.log10)\n",
    "df['Response_Cmp1'] = df['Response_Cmp1'].apply(np.log10)\n",
    "df['Response_Cmp2'] = df['Response_Cmp2'].apply(np.log10)\n",
    "df['Response_Cmp3'] = df['Response_Cmp3'].apply(np.log10)\n",
    "df['Response_Cmp4'] = df['Response_Cmp4'].apply(np.log10)\n",
    "df['Response_Cmp5'] = df['Response_Cmp5'].apply(np.log10)"
   ]
  },
  {
   "cell_type": "markdown",
   "metadata": {
    "collapsed": false
   },
   "source": [
    "### 3.1.2. Missing Values"
   ]
  },
  {
   "cell_type": "code",
   "execution_count": null,
   "metadata": {
    "collapsed": false
   },
   "outputs": [],
   "source": [
    "Response_is_null = df[\"Response_Cmp1\"].isna().sum() + df[\"Response_Cmp2\"].isna().sum() + df[\"Response_Cmp3\"].isna().sum() + df[\"Response_Cmp4\"].isna().sum()\n",
    "Response_is_null == 0"
   ]
  },
  {
   "cell_type": "code",
   "execution_count": null,
   "metadata": {
    "collapsed": false
   },
   "outputs": [],
   "source": [
    "df.info()"
   ]
  },
  {
   "cell_type": "code",
   "execution_count": null,
   "metadata": {
    "collapsed": false
   },
   "outputs": [],
   "source": [
    "df.isna().sum()"
   ]
  },
  {
   "cell_type": "markdown",
   "metadata": {
    "collapsed": false
   },
   "source": [
    "- **`Education`**, **`Recency`**, **`MntDrinks`** and **`MntTotal`** (due to dependancy of `MntDrinks`) have missing values"
   ]
  },
  {
   "cell_type": "markdown",
   "metadata": {
    "collapsed": false
   },
   "source": [
    "#### Filling the missing values"
   ]
  },
  {
   "cell_type": "markdown",
   "metadata": {
    "collapsed": false
   },
   "source": [
    "Fill `Education` with the mode"
   ]
  },
  {
   "cell_type": "code",
   "execution_count": null,
   "metadata": {
    "collapsed": false
   },
   "outputs": [],
   "source": [
    "df[\"Education\"].fillna(df[\"Education\"].mode()[0], inplace = True)"
   ]
  },
  {
   "cell_type": "markdown",
   "metadata": {
    "collapsed": false
   },
   "source": [
    "Fill `Recency` with the median value"
   ]
  },
  {
   "cell_type": "code",
   "execution_count": null,
   "metadata": {
    "collapsed": false
   },
   "outputs": [],
   "source": [
    "df[\"Recency\"].fillna(df[\"Recency\"].mean(), inplace = True)"
   ]
  },
  {
   "cell_type": "code",
   "execution_count": null,
   "metadata": {
    "collapsed": false
   },
   "outputs": [],
   "source": [
    "df_mnt = df[[ 'MntMeat&Fish', 'MntEntries', 'MntVegan&Vegetarian', 'MntDrinks',\n",
    "       'MntDesserts', 'MntAdditionalRequests']]\n",
    "\n",
    "imputer = KNNImputer(n_neighbors=3)\n",
    "array_impute = imputer.fit_transform(df_mnt)\n",
    "df_mnt = pd.DataFrame(array_impute, columns = df_mnt.columns)"
   ]
  },
  {
   "cell_type": "code",
   "execution_count": null,
   "metadata": {
    "collapsed": false
   },
   "outputs": [],
   "source": [
    "df[\"MntDrinks\"] = df_mnt[\"MntDrinks\"].values"
   ]
  },
  {
   "cell_type": "code",
   "execution_count": null,
   "metadata": {
    "collapsed": false
   },
   "outputs": [],
   "source": [
    "df[\"MntTotal\"] = df['MntMeat&Fish'] + df['MntEntries'] + df['MntVegan&Vegetarian'] + df['MntDrinks'] + df['MntDesserts']"
   ]
  },
  {
   "cell_type": "code",
   "execution_count": null,
   "metadata": {
    "collapsed": false
   },
   "outputs": [],
   "source": [
    "df.isna().sum()"
   ]
  },
  {
   "cell_type": "markdown",
   "metadata": {
    "collapsed": false
   },
   "source": [
    "## 3.2. Data Transformation"
   ]
  },
  {
   "cell_type": "markdown",
   "metadata": {
    "collapsed": false
   },
   "source": [
    "### 3.2.1. Create new Variables"
   ]
  },
  {
   "cell_type": "markdown",
   "metadata": {
    "collapsed": false
   },
   "source": [
    "### Utils"
   ]
  },
  {
   "cell_type": "markdown",
   "metadata": {
    "collapsed": false
   },
   "source": [
    "#### Creating Age variable from the Birthyear"
   ]
  },
  {
   "cell_type": "code",
   "execution_count": null,
   "metadata": {
    "collapsed": false
   },
   "outputs": [],
   "source": [
    "df['Age'] = df.Birthyear.apply(lambda x: date.today().year-x)"
   ]
  },
  {
   "cell_type": "code",
   "execution_count": null,
   "metadata": {
    "collapsed": false
   },
   "outputs": [],
   "source": [
    "df.drop('Age', axis= 1, inplace = True)"
   ]
  },
  {
   "cell_type": "markdown",
   "id": "a796c176",
   "metadata": {},
   "source": []
  },
  {
   "cell_type": "code",
   "execution_count": null,
   "metadata": {
    "collapsed": false
   },
   "outputs": [],
   "source": [
    "#### Creating card adherence age variable from the Date adherence"
   ]
  },
  {
   "cell_type": "code",
   "execution_count": null,
   "metadata": {
    "collapsed": false
   },
   "outputs": [],
   "source": [
    "from datetime import datetime\n",
    "df = df.replace({\"Date_Adherence\":{\"2/29/2022\": datetime.strptime(\"2022-03-01\", '%Y-%m-%d')}}) #2022 is not a leap year, therefore 29/02/2022 is not a possible day"
   ]
  },
  {
   "cell_type": "code",
   "execution_count": null,
   "metadata": {
    "collapsed": false
   },
   "outputs": [],
   "source": [
    "df['daysAsCardClient'] = df['Date_Adherence'].apply(lambda x: (date.today() - x.date()).days)"
   ]
  },
  {
   "cell_type": "code",
   "execution_count": null,
   "metadata": {
    "collapsed": false
   },
   "outputs": [],
   "source": [
    "df.drop('Date_Adherence', axis= 1, inplace = True)"
   ]
  },
  {
   "cell_type": "markdown",
   "metadata": {
    "collapsed": false
   },
   "source": [
    "#### Fill Education"
   ]
  },
  {
   "cell_type": "code",
   "execution_count": null,
   "metadata": {
    "collapsed": false
   },
   "outputs": [],
   "source": [
    "edu_encode = pd.get_dummies(df.Education, drop_first= True)\n",
    "df = pd.concat([df, edu_encode], axis = 1)"
   ]
  },
  {
   "cell_type": "code",
   "execution_count": null,
   "metadata": {
    "collapsed": false
   },
   "outputs": [],
   "source": [
    "df.drop('Education', axis = 1, inplace = True)"
   ]
  },
  {
   "cell_type": "markdown",
   "metadata": {
    "collapsed": false
   },
   "source": [
    "#### Fill Maritial Status"
   ]
  },
  {
   "cell_type": "code",
   "execution_count": null,
   "metadata": {
    "collapsed": false
   },
   "outputs": [],
   "source": [
    "marital_encode = pd.get_dummies(df.Marital_Status, drop_first= True)\n",
    "df = pd.concat([df, marital_encode], axis = 1)"
   ]
  },
  {
   "cell_type": "code",
   "execution_count": null,
   "metadata": {
    "collapsed": false
   },
   "outputs": [],
   "source": [
    "df.drop('Marital_Status', axis= 1, inplace = True)"
   ]
  },
  {
   "cell_type": "markdown",
   "metadata": {
    "collapsed": false
   },
   "source": [
    "#### Create MntTotal"
   ]
  },
  {
   "cell_type": "code",
   "execution_count": null,
   "metadata": {
    "collapsed": false
   },
   "outputs": [],
   "source": [
    "df[\"MntTotal\"] = df['MntMeat&Fish'] + df['MntEntries'] + df['MntVegan&Vegetarian'] + df['MntDrinks'] + df['MntDesserts'] + df['MntAdditionalRequests']\n",
    "df[\"MntTotal\"]\n",
    "# em falta Mnt Add Requests"
   ]
  },
  {
   "cell_type": "markdown",
   "metadata": {
    "collapsed": false
   },
   "source": [
    "#### Create Mnt Pday Card"
   ]
  },
  {
   "cell_type": "code",
   "execution_count": null,
   "metadata": {
    "collapsed": false
   },
   "outputs": [],
   "source": [
    "df['Mnt_pday_card']= df.MntTotal/df.daysAsCardClient"
   ]
  },
  {
   "cell_type": "markdown",
   "metadata": {
    "collapsed": false
   },
   "source": [
    "#### Create Response Campaigns"
   ]
  },
  {
   "cell_type": "code",
   "execution_count": null,
   "metadata": {
    "collapsed": false
   },
   "outputs": [],
   "source": [
    "df['Response_Campaigns'] = df['Response_Cmp1'] + df['Response_Cmp2'] + df['Response_Cmp3'] + df['Response_Cmp4'] + df[\n",
    "       'Response_Cmp5']"
   ]
  },
  {
   "cell_type": "code",
   "execution_count": null,
   "metadata": {
    "collapsed": false
   },
   "outputs": [],
   "source": [
    "df.drop(['Response_Cmp1', 'Response_Cmp2', 'Response_Cmp3', 'Response_Cmp4', 'Response_Cmp5'], axis=1, inplace=True)"
   ]
  },
  {
   "cell_type": "markdown",
   "metadata": {
    "collapsed": false
   },
   "source": [
    "#### Create Total Kids"
   ]
  },
  {
   "cell_type": "code",
   "execution_count": null,
   "metadata": {
    "collapsed": false
   },
   "outputs": [],
   "source": [
    "df[\"Total_Kids\"] = df[\"Kid_Younger6\"] + df[\"Children_6to18\"]"
   ]
  },
  {
   "cell_type": "markdown",
   "metadata": {
    "collapsed": false
   },
   "source": [
    "#### Create Has Kids"
   ]
  },
  {
   "cell_type": "code",
   "execution_count": null,
   "metadata": {
    "collapsed": false
   },
   "outputs": [],
   "source": [
    "df[\"has_Kids\"] = df[\"Total_Kids\"].apply(lambda x: 0 if x == 0 else 1)\n",
    "df[\"has_Kids\"]"
   ]
  },
  {
   "cell_type": "code",
   "execution_count": null,
   "metadata": {
    "collapsed": false
   },
   "outputs": [],
   "source": [
    "df.drop(['Kid_Younger6', 'Children_6to18'], axis = 1, inplace = True)"
   ]
  },
  {
   "cell_type": "markdown",
   "metadata": {
    "collapsed": false
   },
   "source": [
    "## Incoherencies\n"
   ]
  },
  {
   "cell_type": "code",
   "execution_count": null,
   "metadata": {
    "collapsed": false
   },
   "outputs": [],
   "source": [
    "df[(df[['MntMeat&Fish', 'MntEntries',\n",
    "        'MntVegan&Vegetarian', 'MntDrinks', 'MntDesserts',\n",
    "        'MntAdditionalRequests']].sum(axis = 1) > 0) & (df[['NumAppPurchases', 'NumTakeAwayPurchases', 'NumStorePurchases']].sum(axis = 1) <= 0)]"
   ]
  },
  {
   "cell_type": "code",
   "execution_count": null,
   "metadata": {
    "collapsed": false
   },
   "outputs": [],
   "source": [
    "# como justificar a atribuição de [0,0,0,0,0,0] às variaveis de monetary?\n",
    "\n",
    "df.loc[(df[['MntMeat&Fish', 'MntEntries',\n",
    "            'MntVegan&Vegetarian', 'MntDrinks', 'MntDesserts',\n",
    "            'MntAdditionalRequests']].sum(axis = 1) > 0) & (df[['NumAppPurchases', 'NumTakeAwayPurchases', 'NumStorePurchases']].sum(axis = 1) <= 0),['MntMeat&Fish','MntEntries','MntVegan&Vegetarian', 'MntDrinks', 'MntDesserts','MntAdditionalRequests']] = [0,0,0,0,0,0]"
   ]
  },
  {
   "cell_type": "code",
   "execution_count": null,
   "metadata": {
    "collapsed": false
   },
   "outputs": [],
   "source": [
    "df[(df[['MntMeat&Fish', 'MntEntries',\n",
    "        'MntVegan&Vegetarian', 'MntDrinks', 'MntDesserts',\n",
    "        'MntAdditionalRequests']].sum(axis = 1) > 0) & (df[['NumAppPurchases', 'NumTakeAwayPurchases', 'NumStorePurchases']].sum(axis = 1) <= 0)] # confirmação do ajuste"
   ]
  },
  {
   "cell_type": "code",
   "execution_count": null,
   "metadata": {
    "collapsed": false
   },
   "outputs": [],
   "source": [
    "df[(df['NumOfferPurchases'] > df[['NumAppPurchases','NumTakeAwayPurchases','NumStorePurchases']].sum(axis=1))]"
   ]
  },
  {
   "cell_type": "code",
   "execution_count": null,
   "metadata": {
    "collapsed": false
   },
   "outputs": [],
   "source": [
    "# será esta a abordagem mais acertada, isto é, assumir que todas as compras deste cliente foram \"OfferPurchases\"?\n",
    "\n",
    "df.loc[(df['NumOfferPurchases'] > df[['NumAppPurchases','NumTakeAwayPurchases','NumStorePurchases']].sum(axis=1)),'NumOfferPurchases'] = df['NumAppPurchases'] + df['NumTakeAwayPurchases'] + df['NumStorePurchases']"
   ]
  },
  {
   "cell_type": "code",
   "execution_count": null,
   "metadata": {
    "collapsed": false
   },
   "outputs": [],
   "source": [
    "df[(df['NumOfferPurchases'] > df[['NumAppPurchases','NumTakeAwayPurchases','NumStorePurchases']].sum(axis=1))] # confirmação do ajuste"
   ]
  },
  {
   "cell_type": "markdown",
   "metadata": {
    "collapsed": false
   },
   "source": [
    "## Data Review\n",
    "\n",
    "Ver a dataframe no seu estado final\n",
    "Drop: Id, name, birthyear, date_adherence, total_kids, mntTotal"
   ]
  },
  {
   "cell_type": "code",
   "execution_count": null,
   "metadata": {
    "collapsed": false
   },
   "outputs": [],
   "source": [
    "df.head()"
   ]
  },
  {
   "cell_type": "code",
   "execution_count": null,
   "metadata": {
    "collapsed": false
   },
   "outputs": [],
   "source": [
    "df.describe()"
   ]
  },
  {
   "cell_type": "code",
   "execution_count": null,
   "metadata": {
    "collapsed": false
   },
   "outputs": [],
   "source": [
    "df_train= df.copy()\n",
    "df_train.drop(['Name'], axis = 1, inplace = True)"
   ]
  },
  {
   "cell_type": "code",
   "execution_count": null,
   "metadata": {
    "collapsed": false
   },
   "outputs": [],
   "source": [
    "df_train.isna().sum()"
   ]
  },
  {
   "cell_type": "markdown",
   "metadata": {
    "collapsed": false
   },
   "source": [
    "## Data scaling\n",
    "min max: income, recency, mnt..., purchases ..., age, daysasClient, mnt per ..."
   ]
  },
  {
   "cell_type": "code",
   "execution_count": null,
   "metadata": {
    "collapsed": false
   },
   "outputs": [],
   "source": [
    "scaler = MinMaxScaler()\n",
    "df_train = pd.DataFrame(scaler.fit_transform(df_train))\n",
    "#df_train.describe()"
   ]
  },
  {
   "cell_type": "markdown",
   "metadata": {
    "collapsed": false
   },
   "source": [
    "## PCA\n"
   ]
  },
  {
   "cell_type": "markdown",
   "metadata": {
    "collapsed": false
   },
   "source": [
    "A implementação do pca acima pareceu me estranha. deixo aqui outra e quando reunirmos vemos"
   ]
  },
  {
   "cell_type": "code",
   "execution_count": null,
   "metadata": {
    "collapsed": false
   },
   "outputs": [],
   "source": [
    "from sklearn.decomposition import PCA\n",
    "pca = PCA()\n",
    "df_train2= df_train.copy()\n",
    "pca.fit(df_train2)\n",
    "var= pca.explained_variance_ratio_\n",
    "var1=np.cumsum(np.round(pca.explained_variance_ratio_, decimals=4)*100)\n",
    "\n",
    "plt.title(\"PCA Variance against num of Componmnets\")\n",
    "plt.ylabel(\"Variance %\")\n",
    "plt.xlabel(\"Number of componments\")\n",
    "l = plt.axhline(80, color=\"red\")\n",
    "\n",
    "plt.plot(var1)\n",
    "plt.grid()"
   ]
  },
  {
   "cell_type": "code",
   "execution_count": null,
   "metadata": {
    "collapsed": false
   },
   "outputs": [],
   "source": [
    "pca = PCA(n_components=7)\n",
    "pca_train=pca.fit_transform(df_train2)\n",
    "pca_train"
   ]
  },
  {
   "cell_type": "code",
   "execution_count": null,
   "metadata": {
    "collapsed": false
   },
   "outputs": [],
   "source": [
    "df_train"
   ]
  },
  {
   "cell_type": "markdown",
   "metadata": {
    "collapsed": false
   },
   "source": [
    "7 variaveis explicam ~80% da variancia"
   ]
  },
  {
   "cell_type": "markdown",
   "metadata": {
    "collapsed": false
   },
   "source": [
    "## Loading Scores for each PC"
   ]
  },
  {
   "cell_type": "markdown",
   "metadata": {
    "collapsed": false
   },
   "source": [
    "##  Correlação entre PC's e as variáveis originais"
   ]
  },
  {
   "cell_type": "markdown",
   "metadata": {
    "collapsed": false
   },
   "source": [
    "## Model Train"
   ]
  },
  {
   "cell_type": "code",
   "execution_count": null,
   "metadata": {
    "collapsed": false
   },
   "outputs": [],
   "source": [
    "from sklearn.cluster import KMeans\n",
    "\n",
    "kmeans= KMeans(n_clusters = 100, max_iter =10000, random_state= 1)\n",
    "kmeans.fit(pca_train)\n",
    "pca_train_label = kmeans.labels_"
   ]
  },
  {
   "cell_type": "code",
   "execution_count": null,
   "metadata": {
    "collapsed": false
   },
   "outputs": [],
   "source": [
    "kmeans2= KMeans(n_clusters = 100, max_iter = 10000, random_state = 1)\n",
    "kmeans2.fit(df_train)\n",
    "df_train_label = kmeans.labels_"
   ]
  },
  {
   "cell_type": "code",
   "execution_count": null,
   "metadata": {
    "collapsed": false
   },
   "outputs": [],
   "source": [
    "dfTF= pd.DataFrame()\n",
    "dfTF['Compare'] = pca_train_label== df_train_label\n",
    "#pd.DataFrame(dfTF.groupby('Compare'))\n",
    "dfTF.groupby(['Compare']).size().reset_index(name='counts') #TODO perguntar sobre pca e nao pca dar modelos iguais\n"
   ]
  },
  {
   "cell_type": "markdown",
   "id": "cd1fb8d0",
   "metadata": {},
   "source": [
    "### 3.2.2. Misclassifications"
   ]
  },
  {
   "cell_type": "markdown",
   "id": "a70497b0",
   "metadata": {},
   "source": [
    "### 3.2.4. Binning"
   ]
  },
  {
   "cell_type": "markdown",
   "id": "167e07f7",
   "metadata": {},
   "source": [
    "### 3.2.5. Reclassification"
   ]
  },
  {
   "cell_type": "markdown",
   "id": "7385de6b",
   "metadata": {},
   "source": [
    "### 3.2.6. Power Transform"
   ]
  },
  {
   "cell_type": "markdown",
   "id": "91126155",
   "metadata": {},
   "source": [
    "## 3.3. Data Reduction"
   ]
  },
  {
   "cell_type": "markdown",
   "id": "0a1bb4a3",
   "metadata": {},
   "source": [
    "### 3.3.1. Multicollinearity - Check correlation"
   ]
  },
  {
   "cell_type": "markdown",
   "id": "478dd700",
   "metadata": {},
   "source": [
    "### 3.3.2. Unary Variables"
   ]
  },
  {
   "cell_type": "markdown",
   "id": "c2eb07fe",
   "metadata": {},
   "source": [
    "### 3.3.3. Variables with a high percentage of missing values"
   ]
  },
  {
   "cell_type": "markdown",
   "id": "d20c2381",
   "metadata": {},
   "source": [
    "## 3.2. Back to Data Transformation"
   ]
  },
  {
   "cell_type": "markdown",
   "id": "f8c221ce",
   "metadata": {},
   "source": [
    "### 3.2.7. Apply ordinal encoding and create Dummy variables"
   ]
  },
  {
   "cell_type": "markdown",
   "id": "ee645019",
   "metadata": {},
   "source": [
    "### 3.2.8. Scaling"
   ]
  }
 ],
 "metadata": {
  "kernelspec": {
   "display_name": "Python 3 (ipykernel)",
   "language": "python",
   "name": "python3"
  },
  "language_info": {
   "codemirror_mode": {
    "name": "ipython",
    "version": 3
   },
   "file_extension": ".py",
   "mimetype": "text/x-python",
   "name": "python",
   "nbconvert_exporter": "python",
   "pygments_lexer": "ipython3",
   "version": "3.9.13"
  }
 },
 "nbformat": 4,
 "nbformat_minor": 5
}
