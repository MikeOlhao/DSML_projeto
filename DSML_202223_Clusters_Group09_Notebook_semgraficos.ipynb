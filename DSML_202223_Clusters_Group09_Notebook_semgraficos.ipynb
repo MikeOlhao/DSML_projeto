{
 "cells": [
  {
   "cell_type": "markdown",
   "id": "7bc87212",
   "metadata": {},
   "source": [
    "### Table of Contents"
   ]
  },
  {
   "cell_type": "markdown",
   "id": "db4075ae",
   "metadata": {},
   "source": [
    "# 1. Import Data"
   ]
  },
  {
   "cell_type": "markdown",
   "id": "24debbce",
   "metadata": {},
   "source": [
    "## 1.1 Import the needed libraries"
   ]
  },
  {
   "cell_type": "code",
   "execution_count": 452,
   "outputs": [],
   "source": [
    "import pandas as pd\n",
    "import numpy as np\n",
    "import matplotlib.pyplot as plt\n",
    "import seaborn as sns\n",
    "import sklearn as sk\n",
    "from datetime import date\n",
    "from scipy.stats import zscore\n",
    "%matplotlib inline\n",
    "pd.set_option('display.max_columns', None)\n",
    "\n",
    "from sklearn.preprocessing import MinMaxScaler\n",
    "from sklearn.impute import KNNImputer"
   ],
   "metadata": {
    "collapsed": false
   }
  },
  {
   "cell_type": "markdown",
   "source": [
    "## 1.2 Import a integrate data"
   ],
   "metadata": {
    "collapsed": false
   }
  },
  {
   "cell_type": "code",
   "execution_count": 453,
   "outputs": [],
   "source": [
    "df_crm = pd.read_csv('crm.csv')\n",
    "df_mkt = pd.read_csv('mkt.csv')\n",
    "df_sales = pd.read_excel('sales.xlsx')"
   ],
   "metadata": {
    "collapsed": false
   }
  },
  {
   "cell_type": "code",
   "execution_count": 454,
   "outputs": [],
   "source": [
    "df = pd.merge(pd.merge(df_crm,df_sales,on='CustomerID',how=\"inner\"),df_mkt,on=\"CustomerID\",how=\"inner\")"
   ],
   "metadata": {
    "collapsed": false
   }
  },
  {
   "cell_type": "markdown",
   "source": [
    "## 1.3 Set Index\n"
   ],
   "metadata": {
    "collapsed": false
   }
  },
  {
   "cell_type": "code",
   "execution_count": 455,
   "outputs": [],
   "source": [
    "df.set_index('CustomerID',inplace = True)"
   ],
   "metadata": {
    "collapsed": false
   }
  },
  {
   "cell_type": "markdown",
   "source": [
    "## 1.4 Check and removing duplicates"
   ],
   "metadata": {
    "collapsed": false
   }
  },
  {
   "cell_type": "code",
   "execution_count": 456,
   "outputs": [
    {
     "data": {
      "text/plain": "                                Name  Birthyear   Education Marital_Status  \\\nCustomerID                                                                   \n32924               Mrs. Wanda Terry       1986  Graduation       Divorced   \n8276               Mrs. Mary Jackson       1968  HighSchool        Married   \n32966               Mr. Steven Baker       1961  HighSchool        Married   \n5627              Mr. Jonathan Clark       1988  Graduation        Married   \n29357              Mr. Eric Springer       1972         PhD        Married   \n26891                  Mr. Sam Peake       1992  Graduation        Married   \n21269              Mr. Nathan Glover       1971  Graduation        Married   \n32777                  Mr. Joe James       1967      Master        Married   \n26285           Mr. Oliver Sanderson       1986       Basic       Together   \n5540              Mr. Justin MacLeod       1995  Graduation       Together   \n17069             Miss Zoe Underwood       1977  Graduation       Together   \n12320         Mr. Christian Morrison       1985      Master        Married   \n24260                Mr. Dan Langdon       1993  Graduation         Single   \n6470                Miss Diane White       1980  Graduation         Single   \n10265                 Mr. Max Martin       1988  HighSchool       Together   \n21767                 Mrs. Jan Sharp       1977      Master        Married   \n15905              Mr. Charles James       1957         PhD       Together   \n28688             Mr. Anthony Gibson       1976  Graduation       Together   \n28739          Mr. Stephen Henderson       1970  Graduation        Married   \n25052                Mr. Piers Nolan       1977      Master       Divorced   \n7586                Mr. Jason Powell       1985      Master        Married   \n32495             Miss Wanda Wallace       1962  Graduation       Together   \n19295              Mr. Justin Martin       1998  Graduation       Together   \n14942              Mr. Stewart North       1978         PhD       Together   \n20747               Mr. Luke Lambert       1988         PhD        Married   \n12035              Mrs. Heather Hart       1985  Graduation        Married   \n8447               Mrs. Grace Davies       1967  Graduation        Married   \n25685                Mr. Austin Knox       1955         PhD          Widow   \n28625                Mr. Frank Piper       1969       Basic        Married   \n28844                  Mr. Neil Dowd       1981  Graduation        Married   \n30464       Miss Gabrielle Churchill       1960  Graduation       Together   \n\n              Income  Kid_Younger6  Children_6to18       Date_Adherence  \\\nCustomerID                                                                \n32924        41264.0             1               1  2020-10-03 00:00:00   \n8276        118238.0             0               0  2020-10-13 00:00:00   \n32966        84974.0             0               1  2022-02-17 00:00:00   \n5627         40975.0             1               0  2022-04-28 00:00:00   \n29357        77778.0             0               1  2022-04-19 00:00:00   \n26891        74147.0             1               0  2022-03-21 00:00:00   \n21269        91241.0             0               1  2022-03-28 00:00:00   \n32777       101251.0             0               1  2021-12-30 00:00:00   \n26285        22345.0             1               0  2021-03-21 00:00:00   \n5540         44247.0             1               0  2021-03-08 00:00:00   \n17069        75226.0             1               1  2020-11-24 00:00:00   \n12320        39747.0             1               0  2021-04-06 00:00:00   \n24260       116645.0             0               0  2021-05-18 00:00:00   \n6470        127255.0             0               0  2021-06-17 00:00:00   \n10265        27838.0             1               0  2021-10-08 00:00:00   \n21767        54507.0             1               1  2020-10-27 00:00:00   \n15905        95655.0             0               0  2020-09-04 00:00:00   \n28688        77992.0             0               1  2020-12-29 00:00:00   \n28739        81721.0             0               1  2021-07-21 00:00:00   \n25052        57770.0             1               0  2021-07-23 00:00:00   \n7586         98465.0             0               1  2021-04-25 00:00:00   \n32495         8305.4             0               1  2022-03-21 00:00:00   \n19295       120028.0             0               0  2022-05-13 00:00:00   \n14942       135654.0             0               0  2021-05-02 00:00:00   \n20747        97456.0             0               0  2020-08-14 00:00:00   \n12035       127587.0             1               0  2021-09-30 00:00:00   \n8447        116080.0             1               1  2022-04-24 00:00:00   \n25685        60675.0             1               1  2020-11-19 00:00:00   \n28625        30685.0             2               1  2021-12-25 00:00:00   \n28844        93031.0             0               1  2022-06-29 00:00:00   \n30464        99213.0             0               1  2021-05-02 00:00:00   \n\n            Recency  MntMeat&Fish  MntEntries  MntVegan&Vegetarian  MntDrinks  \\\nCustomerID                                                                      \n32924          61.0          70.0          20                165.0       40.0   \n8276           42.0        5940.0        1002               9465.0     1100.0   \n32966          56.0        2610.0         840               2160.0      840.0   \n5627           31.0         130.0           0                120.0       20.0   \n29357          92.0        1240.0          60                315.0       20.0   \n26891          13.0         610.0         320                915.0       20.0   \n21269          18.0        1780.0         220               2370.0      540.0   \n32777          26.0        7350.0        2780               4170.0      500.0   \n26285          54.0          50.0         180                285.0      240.0   \n5540           51.0        1540.0         400                990.0        0.0   \n17069          32.0        1320.0         280                390.0      180.0   \n12320          64.0         120.0           0                195.0       20.0   \n24260          64.0        3330.0           0              12225.0     1980.0   \n6470           75.0        5760.0        2220              13950.0     2960.0   \n10265           7.0         170.0          60                105.0      280.0   \n21767          94.0         280.0          40                135.0       20.0   \n15905           3.0        8900.0        1260               4380.0        0.0   \n28688          43.0        5940.0         120                570.0      120.0   \n28739          78.0        2140.0        1700               2085.0     1160.0   \n25052          12.0         700.0          60               1275.0      240.0   \n7586           39.0        3780.0         200               2205.0      100.0   \n32495          30.0         479.0          10                123.0       10.0   \n19295          15.0        9370.0        1060               3000.0      800.0   \n14942          71.0        9790.0         880              14025.0      440.0   \n20747          63.0        2540.0        1420               6705.0     2020.0   \n12035          73.0        6300.0        3200               3945.0      220.0   \n8447           33.0        2450.0         320               3345.0      320.0   \n25685          15.0        5020.0           0                645.0        0.0   \n28625          35.0          60.0         120                120.0      180.0   \n28844          43.0        6050.0         140               1275.0      140.0   \n30464           9.0        2120.0         980               2700.0     1200.0   \n\n            MntDesserts  MntAdditionalRequests  NumOfferPurchases  \\\nCustomerID                                                          \n32924               0.0                    7.0                  2   \n8276             1100.0                   32.0                  1   \n32966             960.0                  133.0                  3   \n5627               20.0                    5.0                  1   \n29357              20.0                   33.0                  1   \n26891             240.0                   78.0                  2   \n21269             380.0                   59.0                  1   \n32777            1760.0                   66.0                  2   \n26285             280.0                   39.0                  3   \n5540              240.0                   27.0                  7   \n17069             100.0                   28.0                  5   \n12320               0.0                   10.0                  1   \n24260             832.0                   29.0                  1   \n6470             1860.0                   74.0                  1   \n10265              20.0                   42.0                  2   \n21767              20.0                    8.0                  2   \n15905             500.0                   12.0                  4   \n28688             120.0                   25.0                  4   \n28739             740.0                   16.0                  4   \n25052             180.0                   95.0                  3   \n7586              100.0                   38.0                  3   \n32495              34.0                   17.1                  0   \n19295            2140.0                  200.0                  0   \n14942             488.0                   22.0                  1   \n20747            2840.0                   20.0                  1   \n12035            1600.0                   45.0                  1   \n8447              860.0                   16.0                  2   \n25685               0.0                   27.0                  9   \n28625             180.0                   18.0                  3   \n28844             140.0                    7.0                  1   \n30464             980.0                   32.0                  2   \n\n            NumAppPurchases  NumTakeAwayPurchases  NumStorePurchases  \\\nCustomerID                                                             \n32924                     3                     1                  3   \n8276                      6                     7                  8   \n32966                     6                     5                  9   \n5627                      3                     1                  4   \n29357                     5                     2                  4   \n26891                     6                     3                  2   \n21269                     8                     3                  6   \n32777                     8                     8                  6   \n26285                     5                     2                  2   \n5540                      8                     2                  4   \n17069                     7                     2                  3   \n12320                     3                     1                  3   \n24260                     6                    11                 11   \n6470                      5                     3                 13   \n10265                     4                     3                  2   \n21767                     4                     1                  3   \n15905                    10                     5                  7   \n28688                     9                     3                 10   \n28739                     7                     3                 10   \n25052                     6                     3                  3   \n7586                      9                     3                  8   \n32495                     1                     1                  0   \n19295                     6                     4                 13   \n14942                     9                     6                 12   \n20747                     5                     5                  8   \n12035                     6                     6                  8   \n8447                     10                     2                  8   \n25685                    10                     3                  7   \n28625                     4                     2                  3   \n28844                    10                     3                 10   \n30464                     5                     5                 10   \n\n            NumAppVisitsMonth  Complain  Response_Cmp1  Response_Cmp2  \\\nCustomerID                                                              \n32924                       7         0              0              0   \n8276                        2         0              0              0   \n32966                       3         0              0              0   \n5627                        3         0              0              0   \n29357                       6         0              0              1   \n26891                       6         0              1              0   \n21269                       5         0              0              0   \n32777                       3         0              1              0   \n26285                       9         0              1              0   \n5540                        9         0              0              0   \n17069                       8         0              0              0   \n12320                       7         0              0              0   \n24260                       2         0              0              0   \n6470                        1         0              0              0   \n10265                       4         0              1              0   \n21767                       7         0              0              0   \n15905                       6         0              0              0   \n28688                       7         0              0              0   \n28739                       5         0              0              0   \n25052                       7         0              0              0   \n7586                        6         0              0              0   \n32495                      20         0              1              0   \n19295                       1         0              0              0   \n14942                       3         0              0              1   \n20747                       1         0              0              0   \n12035                       5         0              0              1   \n8447                        6         0              0              0   \n25685                       9         0              0              0   \n28625                       6         0              0              0   \n28844                       4         0              0              1   \n30464                       2         0              0              0   \n\n            Response_Cmp3  Response_Cmp4  Response_Cmp5  \nCustomerID                                               \n32924                   0              0              0  \n8276                    0              0              0  \n32966                   0              0              0  \n5627                    0              0              0  \n29357                   0              0              0  \n26891                   0              0              0  \n21269                   0              0              0  \n32777                   0              0              0  \n26285                   0              0              0  \n5540                    0              0              0  \n17069                   0              0              0  \n12320                   0              0              0  \n24260                   0              0              0  \n6470                    0              0              0  \n10265                   0              0              0  \n21767                   0              0              0  \n15905                   0              0              0  \n28688                   0              0              0  \n28739                   0              0              0  \n25052                   0              0              0  \n7586                    0              0              0  \n32495                   0              0              0  \n19295                   1              0              0  \n14942                   1              1              0  \n20747                   0              0              0  \n12035                   0              1              0  \n8447                    0              0              0  \n25685                   0              0              0  \n28625                   0              0              0  \n28844                   0              0              0  \n30464                   0              0              0  ",
      "text/html": "<div>\n<style scoped>\n    .dataframe tbody tr th:only-of-type {\n        vertical-align: middle;\n    }\n\n    .dataframe tbody tr th {\n        vertical-align: top;\n    }\n\n    .dataframe thead th {\n        text-align: right;\n    }\n</style>\n<table border=\"1\" class=\"dataframe\">\n  <thead>\n    <tr style=\"text-align: right;\">\n      <th></th>\n      <th>Name</th>\n      <th>Birthyear</th>\n      <th>Education</th>\n      <th>Marital_Status</th>\n      <th>Income</th>\n      <th>Kid_Younger6</th>\n      <th>Children_6to18</th>\n      <th>Date_Adherence</th>\n      <th>Recency</th>\n      <th>MntMeat&amp;Fish</th>\n      <th>MntEntries</th>\n      <th>MntVegan&amp;Vegetarian</th>\n      <th>MntDrinks</th>\n      <th>MntDesserts</th>\n      <th>MntAdditionalRequests</th>\n      <th>NumOfferPurchases</th>\n      <th>NumAppPurchases</th>\n      <th>NumTakeAwayPurchases</th>\n      <th>NumStorePurchases</th>\n      <th>NumAppVisitsMonth</th>\n      <th>Complain</th>\n      <th>Response_Cmp1</th>\n      <th>Response_Cmp2</th>\n      <th>Response_Cmp3</th>\n      <th>Response_Cmp4</th>\n      <th>Response_Cmp5</th>\n    </tr>\n    <tr>\n      <th>CustomerID</th>\n      <th></th>\n      <th></th>\n      <th></th>\n      <th></th>\n      <th></th>\n      <th></th>\n      <th></th>\n      <th></th>\n      <th></th>\n      <th></th>\n      <th></th>\n      <th></th>\n      <th></th>\n      <th></th>\n      <th></th>\n      <th></th>\n      <th></th>\n      <th></th>\n      <th></th>\n      <th></th>\n      <th></th>\n      <th></th>\n      <th></th>\n      <th></th>\n      <th></th>\n      <th></th>\n    </tr>\n  </thead>\n  <tbody>\n    <tr>\n      <th>32924</th>\n      <td>Mrs. Wanda Terry</td>\n      <td>1986</td>\n      <td>Graduation</td>\n      <td>Divorced</td>\n      <td>41264.0</td>\n      <td>1</td>\n      <td>1</td>\n      <td>2020-10-03 00:00:00</td>\n      <td>61.0</td>\n      <td>70.0</td>\n      <td>20</td>\n      <td>165.0</td>\n      <td>40.0</td>\n      <td>0.0</td>\n      <td>7.0</td>\n      <td>2</td>\n      <td>3</td>\n      <td>1</td>\n      <td>3</td>\n      <td>7</td>\n      <td>0</td>\n      <td>0</td>\n      <td>0</td>\n      <td>0</td>\n      <td>0</td>\n      <td>0</td>\n    </tr>\n    <tr>\n      <th>8276</th>\n      <td>Mrs. Mary Jackson</td>\n      <td>1968</td>\n      <td>HighSchool</td>\n      <td>Married</td>\n      <td>118238.0</td>\n      <td>0</td>\n      <td>0</td>\n      <td>2020-10-13 00:00:00</td>\n      <td>42.0</td>\n      <td>5940.0</td>\n      <td>1002</td>\n      <td>9465.0</td>\n      <td>1100.0</td>\n      <td>1100.0</td>\n      <td>32.0</td>\n      <td>1</td>\n      <td>6</td>\n      <td>7</td>\n      <td>8</td>\n      <td>2</td>\n      <td>0</td>\n      <td>0</td>\n      <td>0</td>\n      <td>0</td>\n      <td>0</td>\n      <td>0</td>\n    </tr>\n    <tr>\n      <th>32966</th>\n      <td>Mr. Steven Baker</td>\n      <td>1961</td>\n      <td>HighSchool</td>\n      <td>Married</td>\n      <td>84974.0</td>\n      <td>0</td>\n      <td>1</td>\n      <td>2022-02-17 00:00:00</td>\n      <td>56.0</td>\n      <td>2610.0</td>\n      <td>840</td>\n      <td>2160.0</td>\n      <td>840.0</td>\n      <td>960.0</td>\n      <td>133.0</td>\n      <td>3</td>\n      <td>6</td>\n      <td>5</td>\n      <td>9</td>\n      <td>3</td>\n      <td>0</td>\n      <td>0</td>\n      <td>0</td>\n      <td>0</td>\n      <td>0</td>\n      <td>0</td>\n    </tr>\n    <tr>\n      <th>5627</th>\n      <td>Mr. Jonathan Clark</td>\n      <td>1988</td>\n      <td>Graduation</td>\n      <td>Married</td>\n      <td>40975.0</td>\n      <td>1</td>\n      <td>0</td>\n      <td>2022-04-28 00:00:00</td>\n      <td>31.0</td>\n      <td>130.0</td>\n      <td>0</td>\n      <td>120.0</td>\n      <td>20.0</td>\n      <td>20.0</td>\n      <td>5.0</td>\n      <td>1</td>\n      <td>3</td>\n      <td>1</td>\n      <td>4</td>\n      <td>3</td>\n      <td>0</td>\n      <td>0</td>\n      <td>0</td>\n      <td>0</td>\n      <td>0</td>\n      <td>0</td>\n    </tr>\n    <tr>\n      <th>29357</th>\n      <td>Mr. Eric Springer</td>\n      <td>1972</td>\n      <td>PhD</td>\n      <td>Married</td>\n      <td>77778.0</td>\n      <td>0</td>\n      <td>1</td>\n      <td>2022-04-19 00:00:00</td>\n      <td>92.0</td>\n      <td>1240.0</td>\n      <td>60</td>\n      <td>315.0</td>\n      <td>20.0</td>\n      <td>20.0</td>\n      <td>33.0</td>\n      <td>1</td>\n      <td>5</td>\n      <td>2</td>\n      <td>4</td>\n      <td>6</td>\n      <td>0</td>\n      <td>0</td>\n      <td>1</td>\n      <td>0</td>\n      <td>0</td>\n      <td>0</td>\n    </tr>\n    <tr>\n      <th>26891</th>\n      <td>Mr. Sam Peake</td>\n      <td>1992</td>\n      <td>Graduation</td>\n      <td>Married</td>\n      <td>74147.0</td>\n      <td>1</td>\n      <td>0</td>\n      <td>2022-03-21 00:00:00</td>\n      <td>13.0</td>\n      <td>610.0</td>\n      <td>320</td>\n      <td>915.0</td>\n      <td>20.0</td>\n      <td>240.0</td>\n      <td>78.0</td>\n      <td>2</td>\n      <td>6</td>\n      <td>3</td>\n      <td>2</td>\n      <td>6</td>\n      <td>0</td>\n      <td>1</td>\n      <td>0</td>\n      <td>0</td>\n      <td>0</td>\n      <td>0</td>\n    </tr>\n    <tr>\n      <th>21269</th>\n      <td>Mr. Nathan Glover</td>\n      <td>1971</td>\n      <td>Graduation</td>\n      <td>Married</td>\n      <td>91241.0</td>\n      <td>0</td>\n      <td>1</td>\n      <td>2022-03-28 00:00:00</td>\n      <td>18.0</td>\n      <td>1780.0</td>\n      <td>220</td>\n      <td>2370.0</td>\n      <td>540.0</td>\n      <td>380.0</td>\n      <td>59.0</td>\n      <td>1</td>\n      <td>8</td>\n      <td>3</td>\n      <td>6</td>\n      <td>5</td>\n      <td>0</td>\n      <td>0</td>\n      <td>0</td>\n      <td>0</td>\n      <td>0</td>\n      <td>0</td>\n    </tr>\n    <tr>\n      <th>32777</th>\n      <td>Mr. Joe James</td>\n      <td>1967</td>\n      <td>Master</td>\n      <td>Married</td>\n      <td>101251.0</td>\n      <td>0</td>\n      <td>1</td>\n      <td>2021-12-30 00:00:00</td>\n      <td>26.0</td>\n      <td>7350.0</td>\n      <td>2780</td>\n      <td>4170.0</td>\n      <td>500.0</td>\n      <td>1760.0</td>\n      <td>66.0</td>\n      <td>2</td>\n      <td>8</td>\n      <td>8</td>\n      <td>6</td>\n      <td>3</td>\n      <td>0</td>\n      <td>1</td>\n      <td>0</td>\n      <td>0</td>\n      <td>0</td>\n      <td>0</td>\n    </tr>\n    <tr>\n      <th>26285</th>\n      <td>Mr. Oliver Sanderson</td>\n      <td>1986</td>\n      <td>Basic</td>\n      <td>Together</td>\n      <td>22345.0</td>\n      <td>1</td>\n      <td>0</td>\n      <td>2021-03-21 00:00:00</td>\n      <td>54.0</td>\n      <td>50.0</td>\n      <td>180</td>\n      <td>285.0</td>\n      <td>240.0</td>\n      <td>280.0</td>\n      <td>39.0</td>\n      <td>3</td>\n      <td>5</td>\n      <td>2</td>\n      <td>2</td>\n      <td>9</td>\n      <td>0</td>\n      <td>1</td>\n      <td>0</td>\n      <td>0</td>\n      <td>0</td>\n      <td>0</td>\n    </tr>\n    <tr>\n      <th>5540</th>\n      <td>Mr. Justin MacLeod</td>\n      <td>1995</td>\n      <td>Graduation</td>\n      <td>Together</td>\n      <td>44247.0</td>\n      <td>1</td>\n      <td>0</td>\n      <td>2021-03-08 00:00:00</td>\n      <td>51.0</td>\n      <td>1540.0</td>\n      <td>400</td>\n      <td>990.0</td>\n      <td>0.0</td>\n      <td>240.0</td>\n      <td>27.0</td>\n      <td>7</td>\n      <td>8</td>\n      <td>2</td>\n      <td>4</td>\n      <td>9</td>\n      <td>0</td>\n      <td>0</td>\n      <td>0</td>\n      <td>0</td>\n      <td>0</td>\n      <td>0</td>\n    </tr>\n    <tr>\n      <th>17069</th>\n      <td>Miss Zoe Underwood</td>\n      <td>1977</td>\n      <td>Graduation</td>\n      <td>Together</td>\n      <td>75226.0</td>\n      <td>1</td>\n      <td>1</td>\n      <td>2020-11-24 00:00:00</td>\n      <td>32.0</td>\n      <td>1320.0</td>\n      <td>280</td>\n      <td>390.0</td>\n      <td>180.0</td>\n      <td>100.0</td>\n      <td>28.0</td>\n      <td>5</td>\n      <td>7</td>\n      <td>2</td>\n      <td>3</td>\n      <td>8</td>\n      <td>0</td>\n      <td>0</td>\n      <td>0</td>\n      <td>0</td>\n      <td>0</td>\n      <td>0</td>\n    </tr>\n    <tr>\n      <th>12320</th>\n      <td>Mr. Christian Morrison</td>\n      <td>1985</td>\n      <td>Master</td>\n      <td>Married</td>\n      <td>39747.0</td>\n      <td>1</td>\n      <td>0</td>\n      <td>2021-04-06 00:00:00</td>\n      <td>64.0</td>\n      <td>120.0</td>\n      <td>0</td>\n      <td>195.0</td>\n      <td>20.0</td>\n      <td>0.0</td>\n      <td>10.0</td>\n      <td>1</td>\n      <td>3</td>\n      <td>1</td>\n      <td>3</td>\n      <td>7</td>\n      <td>0</td>\n      <td>0</td>\n      <td>0</td>\n      <td>0</td>\n      <td>0</td>\n      <td>0</td>\n    </tr>\n    <tr>\n      <th>24260</th>\n      <td>Mr. Dan Langdon</td>\n      <td>1993</td>\n      <td>Graduation</td>\n      <td>Single</td>\n      <td>116645.0</td>\n      <td>0</td>\n      <td>0</td>\n      <td>2021-05-18 00:00:00</td>\n      <td>64.0</td>\n      <td>3330.0</td>\n      <td>0</td>\n      <td>12225.0</td>\n      <td>1980.0</td>\n      <td>832.0</td>\n      <td>29.0</td>\n      <td>1</td>\n      <td>6</td>\n      <td>11</td>\n      <td>11</td>\n      <td>2</td>\n      <td>0</td>\n      <td>0</td>\n      <td>0</td>\n      <td>0</td>\n      <td>0</td>\n      <td>0</td>\n    </tr>\n    <tr>\n      <th>6470</th>\n      <td>Miss Diane White</td>\n      <td>1980</td>\n      <td>Graduation</td>\n      <td>Single</td>\n      <td>127255.0</td>\n      <td>0</td>\n      <td>0</td>\n      <td>2021-06-17 00:00:00</td>\n      <td>75.0</td>\n      <td>5760.0</td>\n      <td>2220</td>\n      <td>13950.0</td>\n      <td>2960.0</td>\n      <td>1860.0</td>\n      <td>74.0</td>\n      <td>1</td>\n      <td>5</td>\n      <td>3</td>\n      <td>13</td>\n      <td>1</td>\n      <td>0</td>\n      <td>0</td>\n      <td>0</td>\n      <td>0</td>\n      <td>0</td>\n      <td>0</td>\n    </tr>\n    <tr>\n      <th>10265</th>\n      <td>Mr. Max Martin</td>\n      <td>1988</td>\n      <td>HighSchool</td>\n      <td>Together</td>\n      <td>27838.0</td>\n      <td>1</td>\n      <td>0</td>\n      <td>2021-10-08 00:00:00</td>\n      <td>7.0</td>\n      <td>170.0</td>\n      <td>60</td>\n      <td>105.0</td>\n      <td>280.0</td>\n      <td>20.0</td>\n      <td>42.0</td>\n      <td>2</td>\n      <td>4</td>\n      <td>3</td>\n      <td>2</td>\n      <td>4</td>\n      <td>0</td>\n      <td>1</td>\n      <td>0</td>\n      <td>0</td>\n      <td>0</td>\n      <td>0</td>\n    </tr>\n    <tr>\n      <th>21767</th>\n      <td>Mrs. Jan Sharp</td>\n      <td>1977</td>\n      <td>Master</td>\n      <td>Married</td>\n      <td>54507.0</td>\n      <td>1</td>\n      <td>1</td>\n      <td>2020-10-27 00:00:00</td>\n      <td>94.0</td>\n      <td>280.0</td>\n      <td>40</td>\n      <td>135.0</td>\n      <td>20.0</td>\n      <td>20.0</td>\n      <td>8.0</td>\n      <td>2</td>\n      <td>4</td>\n      <td>1</td>\n      <td>3</td>\n      <td>7</td>\n      <td>0</td>\n      <td>0</td>\n      <td>0</td>\n      <td>0</td>\n      <td>0</td>\n      <td>0</td>\n    </tr>\n    <tr>\n      <th>15905</th>\n      <td>Mr. Charles James</td>\n      <td>1957</td>\n      <td>PhD</td>\n      <td>Together</td>\n      <td>95655.0</td>\n      <td>0</td>\n      <td>0</td>\n      <td>2020-09-04 00:00:00</td>\n      <td>3.0</td>\n      <td>8900.0</td>\n      <td>1260</td>\n      <td>4380.0</td>\n      <td>0.0</td>\n      <td>500.0</td>\n      <td>12.0</td>\n      <td>4</td>\n      <td>10</td>\n      <td>5</td>\n      <td>7</td>\n      <td>6</td>\n      <td>0</td>\n      <td>0</td>\n      <td>0</td>\n      <td>0</td>\n      <td>0</td>\n      <td>0</td>\n    </tr>\n    <tr>\n      <th>28688</th>\n      <td>Mr. Anthony Gibson</td>\n      <td>1976</td>\n      <td>Graduation</td>\n      <td>Together</td>\n      <td>77992.0</td>\n      <td>0</td>\n      <td>1</td>\n      <td>2020-12-29 00:00:00</td>\n      <td>43.0</td>\n      <td>5940.0</td>\n      <td>120</td>\n      <td>570.0</td>\n      <td>120.0</td>\n      <td>120.0</td>\n      <td>25.0</td>\n      <td>4</td>\n      <td>9</td>\n      <td>3</td>\n      <td>10</td>\n      <td>7</td>\n      <td>0</td>\n      <td>0</td>\n      <td>0</td>\n      <td>0</td>\n      <td>0</td>\n      <td>0</td>\n    </tr>\n    <tr>\n      <th>28739</th>\n      <td>Mr. Stephen Henderson</td>\n      <td>1970</td>\n      <td>Graduation</td>\n      <td>Married</td>\n      <td>81721.0</td>\n      <td>0</td>\n      <td>1</td>\n      <td>2021-07-21 00:00:00</td>\n      <td>78.0</td>\n      <td>2140.0</td>\n      <td>1700</td>\n      <td>2085.0</td>\n      <td>1160.0</td>\n      <td>740.0</td>\n      <td>16.0</td>\n      <td>4</td>\n      <td>7</td>\n      <td>3</td>\n      <td>10</td>\n      <td>5</td>\n      <td>0</td>\n      <td>0</td>\n      <td>0</td>\n      <td>0</td>\n      <td>0</td>\n      <td>0</td>\n    </tr>\n    <tr>\n      <th>25052</th>\n      <td>Mr. Piers Nolan</td>\n      <td>1977</td>\n      <td>Master</td>\n      <td>Divorced</td>\n      <td>57770.0</td>\n      <td>1</td>\n      <td>0</td>\n      <td>2021-07-23 00:00:00</td>\n      <td>12.0</td>\n      <td>700.0</td>\n      <td>60</td>\n      <td>1275.0</td>\n      <td>240.0</td>\n      <td>180.0</td>\n      <td>95.0</td>\n      <td>3</td>\n      <td>6</td>\n      <td>3</td>\n      <td>3</td>\n      <td>7</td>\n      <td>0</td>\n      <td>0</td>\n      <td>0</td>\n      <td>0</td>\n      <td>0</td>\n      <td>0</td>\n    </tr>\n    <tr>\n      <th>7586</th>\n      <td>Mr. Jason Powell</td>\n      <td>1985</td>\n      <td>Master</td>\n      <td>Married</td>\n      <td>98465.0</td>\n      <td>0</td>\n      <td>1</td>\n      <td>2021-04-25 00:00:00</td>\n      <td>39.0</td>\n      <td>3780.0</td>\n      <td>200</td>\n      <td>2205.0</td>\n      <td>100.0</td>\n      <td>100.0</td>\n      <td>38.0</td>\n      <td>3</td>\n      <td>9</td>\n      <td>3</td>\n      <td>8</td>\n      <td>6</td>\n      <td>0</td>\n      <td>0</td>\n      <td>0</td>\n      <td>0</td>\n      <td>0</td>\n      <td>0</td>\n    </tr>\n    <tr>\n      <th>32495</th>\n      <td>Miss Wanda Wallace</td>\n      <td>1962</td>\n      <td>Graduation</td>\n      <td>Together</td>\n      <td>8305.4</td>\n      <td>0</td>\n      <td>1</td>\n      <td>2022-03-21 00:00:00</td>\n      <td>30.0</td>\n      <td>479.0</td>\n      <td>10</td>\n      <td>123.0</td>\n      <td>10.0</td>\n      <td>34.0</td>\n      <td>17.1</td>\n      <td>0</td>\n      <td>1</td>\n      <td>1</td>\n      <td>0</td>\n      <td>20</td>\n      <td>0</td>\n      <td>1</td>\n      <td>0</td>\n      <td>0</td>\n      <td>0</td>\n      <td>0</td>\n    </tr>\n    <tr>\n      <th>19295</th>\n      <td>Mr. Justin Martin</td>\n      <td>1998</td>\n      <td>Graduation</td>\n      <td>Together</td>\n      <td>120028.0</td>\n      <td>0</td>\n      <td>0</td>\n      <td>2022-05-13 00:00:00</td>\n      <td>15.0</td>\n      <td>9370.0</td>\n      <td>1060</td>\n      <td>3000.0</td>\n      <td>800.0</td>\n      <td>2140.0</td>\n      <td>200.0</td>\n      <td>0</td>\n      <td>6</td>\n      <td>4</td>\n      <td>13</td>\n      <td>1</td>\n      <td>0</td>\n      <td>0</td>\n      <td>0</td>\n      <td>1</td>\n      <td>0</td>\n      <td>0</td>\n    </tr>\n    <tr>\n      <th>14942</th>\n      <td>Mr. Stewart North</td>\n      <td>1978</td>\n      <td>PhD</td>\n      <td>Together</td>\n      <td>135654.0</td>\n      <td>0</td>\n      <td>0</td>\n      <td>2021-05-02 00:00:00</td>\n      <td>71.0</td>\n      <td>9790.0</td>\n      <td>880</td>\n      <td>14025.0</td>\n      <td>440.0</td>\n      <td>488.0</td>\n      <td>22.0</td>\n      <td>1</td>\n      <td>9</td>\n      <td>6</td>\n      <td>12</td>\n      <td>3</td>\n      <td>0</td>\n      <td>0</td>\n      <td>1</td>\n      <td>1</td>\n      <td>1</td>\n      <td>0</td>\n    </tr>\n    <tr>\n      <th>20747</th>\n      <td>Mr. Luke Lambert</td>\n      <td>1988</td>\n      <td>PhD</td>\n      <td>Married</td>\n      <td>97456.0</td>\n      <td>0</td>\n      <td>0</td>\n      <td>2020-08-14 00:00:00</td>\n      <td>63.0</td>\n      <td>2540.0</td>\n      <td>1420</td>\n      <td>6705.0</td>\n      <td>2020.0</td>\n      <td>2840.0</td>\n      <td>20.0</td>\n      <td>1</td>\n      <td>5</td>\n      <td>5</td>\n      <td>8</td>\n      <td>1</td>\n      <td>0</td>\n      <td>0</td>\n      <td>0</td>\n      <td>0</td>\n      <td>0</td>\n      <td>0</td>\n    </tr>\n    <tr>\n      <th>12035</th>\n      <td>Mrs. Heather Hart</td>\n      <td>1985</td>\n      <td>Graduation</td>\n      <td>Married</td>\n      <td>127587.0</td>\n      <td>1</td>\n      <td>0</td>\n      <td>2021-09-30 00:00:00</td>\n      <td>73.0</td>\n      <td>6300.0</td>\n      <td>3200</td>\n      <td>3945.0</td>\n      <td>220.0</td>\n      <td>1600.0</td>\n      <td>45.0</td>\n      <td>1</td>\n      <td>6</td>\n      <td>6</td>\n      <td>8</td>\n      <td>5</td>\n      <td>0</td>\n      <td>0</td>\n      <td>1</td>\n      <td>0</td>\n      <td>1</td>\n      <td>0</td>\n    </tr>\n    <tr>\n      <th>8447</th>\n      <td>Mrs. Grace Davies</td>\n      <td>1967</td>\n      <td>Graduation</td>\n      <td>Married</td>\n      <td>116080.0</td>\n      <td>1</td>\n      <td>1</td>\n      <td>2022-04-24 00:00:00</td>\n      <td>33.0</td>\n      <td>2450.0</td>\n      <td>320</td>\n      <td>3345.0</td>\n      <td>320.0</td>\n      <td>860.0</td>\n      <td>16.0</td>\n      <td>2</td>\n      <td>10</td>\n      <td>2</td>\n      <td>8</td>\n      <td>6</td>\n      <td>0</td>\n      <td>0</td>\n      <td>0</td>\n      <td>0</td>\n      <td>0</td>\n      <td>0</td>\n    </tr>\n    <tr>\n      <th>25685</th>\n      <td>Mr. Austin Knox</td>\n      <td>1955</td>\n      <td>PhD</td>\n      <td>Widow</td>\n      <td>60675.0</td>\n      <td>1</td>\n      <td>1</td>\n      <td>2020-11-19 00:00:00</td>\n      <td>15.0</td>\n      <td>5020.0</td>\n      <td>0</td>\n      <td>645.0</td>\n      <td>0.0</td>\n      <td>0.0</td>\n      <td>27.0</td>\n      <td>9</td>\n      <td>10</td>\n      <td>3</td>\n      <td>7</td>\n      <td>9</td>\n      <td>0</td>\n      <td>0</td>\n      <td>0</td>\n      <td>0</td>\n      <td>0</td>\n      <td>0</td>\n    </tr>\n    <tr>\n      <th>28625</th>\n      <td>Mr. Frank Piper</td>\n      <td>1969</td>\n      <td>Basic</td>\n      <td>Married</td>\n      <td>30685.0</td>\n      <td>2</td>\n      <td>1</td>\n      <td>2021-12-25 00:00:00</td>\n      <td>35.0</td>\n      <td>60.0</td>\n      <td>120</td>\n      <td>120.0</td>\n      <td>180.0</td>\n      <td>180.0</td>\n      <td>18.0</td>\n      <td>3</td>\n      <td>4</td>\n      <td>2</td>\n      <td>3</td>\n      <td>6</td>\n      <td>0</td>\n      <td>0</td>\n      <td>0</td>\n      <td>0</td>\n      <td>0</td>\n      <td>0</td>\n    </tr>\n    <tr>\n      <th>28844</th>\n      <td>Mr. Neil Dowd</td>\n      <td>1981</td>\n      <td>Graduation</td>\n      <td>Married</td>\n      <td>93031.0</td>\n      <td>0</td>\n      <td>1</td>\n      <td>2022-06-29 00:00:00</td>\n      <td>43.0</td>\n      <td>6050.0</td>\n      <td>140</td>\n      <td>1275.0</td>\n      <td>140.0</td>\n      <td>140.0</td>\n      <td>7.0</td>\n      <td>1</td>\n      <td>10</td>\n      <td>3</td>\n      <td>10</td>\n      <td>4</td>\n      <td>0</td>\n      <td>0</td>\n      <td>1</td>\n      <td>0</td>\n      <td>0</td>\n      <td>0</td>\n    </tr>\n    <tr>\n      <th>30464</th>\n      <td>Miss Gabrielle Churchill</td>\n      <td>1960</td>\n      <td>Graduation</td>\n      <td>Together</td>\n      <td>99213.0</td>\n      <td>0</td>\n      <td>1</td>\n      <td>2021-05-02 00:00:00</td>\n      <td>9.0</td>\n      <td>2120.0</td>\n      <td>980</td>\n      <td>2700.0</td>\n      <td>1200.0</td>\n      <td>980.0</td>\n      <td>32.0</td>\n      <td>2</td>\n      <td>5</td>\n      <td>5</td>\n      <td>10</td>\n      <td>2</td>\n      <td>0</td>\n      <td>0</td>\n      <td>0</td>\n      <td>0</td>\n      <td>0</td>\n      <td>0</td>\n    </tr>\n  </tbody>\n</table>\n</div>"
     },
     "execution_count": 456,
     "metadata": {},
     "output_type": "execute_result"
    }
   ],
   "source": [
    "df[df.duplicated()] # checking duplicates"
   ],
   "metadata": {
    "collapsed": false
   }
  },
  {
   "cell_type": "code",
   "execution_count": 457,
   "outputs": [],
   "source": [
    "df = df[~df.duplicated()] # drop duplicates rows"
   ],
   "metadata": {
    "collapsed": false
   }
  },
  {
   "cell_type": "markdown",
   "source": [
    "# 2. Explore Data"
   ],
   "metadata": {
    "collapsed": false
   }
  },
  {
   "cell_type": "markdown",
   "source": [
    "## 2.0 Data profiling\n",
    "\n",
    "Se não quiserem instalar a biblioteca não corram esta secção. Caso contrário o comando para instalar é pip install ydata-profiling. No final **apagar esta secção**"
   ],
   "metadata": {
    "collapsed": false
   }
  },
  {
   "cell_type": "code",
   "execution_count": 458,
   "outputs": [],
   "source": [
    "#from ydata_profiling import ProfileReport\n",
    "#profile= ProfileReport (df, title= \"DSML_Project\")"
   ],
   "metadata": {
    "collapsed": false
   }
  },
  {
   "cell_type": "code",
   "execution_count": 459,
   "outputs": [],
   "source": [
    "#profile.to_file('DSML_profile.html')"
   ],
   "metadata": {
    "collapsed": false
   }
  },
  {
   "cell_type": "markdown",
   "source": [
    "## 2.1 Basic Exploration"
   ],
   "metadata": {
    "collapsed": false
   }
  },
  {
   "cell_type": "markdown",
   "source": [
    "Q: _To check the number of columns and rows_ we used `shape` _attribute_"
   ],
   "metadata": {
    "collapsed": false
   }
  },
  {
   "cell_type": "code",
   "execution_count": 460,
   "outputs": [
    {
     "data": {
      "text/plain": "(7000, 26)"
     },
     "execution_count": 460,
     "metadata": {},
     "output_type": "execute_result"
    }
   ],
   "source": [
    "df.shape"
   ],
   "metadata": {
    "collapsed": false
   }
  },
  {
   "cell_type": "markdown",
   "source": [
    "> A: _The dataset has **7000 rows** and **26 columns**_"
   ],
   "metadata": {
    "collapsed": false
   }
  },
  {
   "cell_type": "markdown",
   "source": [
    "__*Q*__: Check the name of the features of the dataset we used `columns` _attribute_"
   ],
   "metadata": {
    "collapsed": false
   }
  },
  {
   "cell_type": "code",
   "execution_count": 461,
   "outputs": [
    {
     "data": {
      "text/plain": "Index(['Name', 'Birthyear', 'Education', 'Marital_Status', 'Income',\n       'Kid_Younger6', 'Children_6to18', 'Date_Adherence', 'Recency',\n       'MntMeat&Fish', 'MntEntries', 'MntVegan&Vegetarian', 'MntDrinks',\n       'MntDesserts', 'MntAdditionalRequests', 'NumOfferPurchases',\n       'NumAppPurchases', 'NumTakeAwayPurchases', 'NumStorePurchases',\n       'NumAppVisitsMonth', 'Complain', 'Response_Cmp1', 'Response_Cmp2',\n       'Response_Cmp3', 'Response_Cmp4', 'Response_Cmp5'],\n      dtype='object')"
     },
     "execution_count": 461,
     "metadata": {},
     "output_type": "execute_result"
    }
   ],
   "source": [
    "df.columns"
   ],
   "metadata": {
    "collapsed": false
   }
  },
  {
   "cell_type": "markdown",
   "source": [
    "> A: The dataset has the following columns/features names: <br>\n",
    "        >Index. CustomerID\n",
    "        >1. 'Name' <br>\n",
    "        >2. 'Birthyear'<br>\n",
    "        >3. 'Education'<br>\n",
    "        >4. 'Marital_Status'<br>\n",
    "        >5. 'Income'<br>\n",
    "        >6. 'Kid_Younger6'<br>\n",
    "        >7. 'Children_6to18'<br>\n",
    "        >8. 'Date_Adherence'<br>\n",
    "        >9. 'Recency'<br>\n",
    "        >10. 'MntMeat&Fish'<br>\n",
    "        >11. 'MntEntries'<br>\n",
    "        >12. 'MntVegan&Vegetarian'<br>\n",
    "        >13. 'MntDrinks'<br>\n",
    "        >14. 'MntDesserts'<br>\n",
    "        >15. 'MntAdditionalRequests'<br>\n",
    "        >16. 'NumOfferPurchases'<br>\n",
    "        >17. 'NumAppPurchases'<br>\n",
    "        >18. 'NumTakeAwayPurchases'<br>\n",
    "        >19. 'NumStorePurchases'<br>\n",
    "        >20. 'NumAppVisitsMonth'<br>\n",
    "        >21. 'Complain'<br>\n",
    "        >22. 'Response_Cmp1'<br>\n",
    "        >23. 'Response_Cmp2'<br>\n",
    "        >24. 'Response_Cmp3'<br>\n",
    "        >25. 'Response_Cmp4'<br>\n",
    "        >26. 'Response_Cmp5'<br>"
   ],
   "metadata": {
    "collapsed": false
   }
  },
  {
   "cell_type": "markdown",
   "source": [
    "Q: First glance of the dataset using `head` and `tail` methods to check the first and last 5 rows."
   ],
   "metadata": {
    "collapsed": false
   }
  },
  {
   "cell_type": "code",
   "execution_count": 462,
   "outputs": [
    {
     "data": {
      "text/plain": "                          Name  Birthyear   Education Marital_Status  \\\nCustomerID                                                             \n14594          Miss Leah Lewis       1981  Graduation         Single   \n19070         Miss Grace Black       1974  Graduation       Together   \n29888       Mr. Gavin Morrison       1960         PhD       Together   \n\n              Income  Kid_Younger6  Children_6to18       Date_Adherence  \\\nCustomerID                                                                \n14594       113947.0             0               0  2021-01-09 00:00:00   \n19070       114297.0             0               0  2021-04-10 00:00:00   \n29888       115476.0             0               0  2022-01-12 00:00:00   \n\n            Recency  MntMeat&Fish  MntEntries  MntVegan&Vegetarian  MntDrinks  \\\nCustomerID                                                                      \n14594          43.0        4640.0        3380               5700.0     2240.0   \n19070          74.0        7080.0        3680               7620.0     1840.0   \n29888          85.0        4130.0         380               4890.0     3640.0   \n\n            MntDesserts  MntAdditionalRequests  NumOfferPurchases  \\\nCustomerID                                                          \n14594             562.0                  154.0                  2   \n19070            1220.0                   46.0                  1   \n29888             380.0                   28.0                  1   \n\n            NumAppPurchases  NumTakeAwayPurchases  NumStorePurchases  \\\nCustomerID                                                             \n14594                    10                     7                  7   \n19070                     5                     9                 12   \n29888                     5                     5                  7   \n\n            NumAppVisitsMonth  Complain  Response_Cmp1  Response_Cmp2  \\\nCustomerID                                                              \n14594                       4         0              0              1   \n19070                       2         0              0              0   \n29888                       1         0              0              0   \n\n            Response_Cmp3  Response_Cmp4  Response_Cmp5  \nCustomerID                                               \n14594                   0              0              0  \n19070                   0              0              0  \n29888                   0              0              0  ",
      "text/html": "<div>\n<style scoped>\n    .dataframe tbody tr th:only-of-type {\n        vertical-align: middle;\n    }\n\n    .dataframe tbody tr th {\n        vertical-align: top;\n    }\n\n    .dataframe thead th {\n        text-align: right;\n    }\n</style>\n<table border=\"1\" class=\"dataframe\">\n  <thead>\n    <tr style=\"text-align: right;\">\n      <th></th>\n      <th>Name</th>\n      <th>Birthyear</th>\n      <th>Education</th>\n      <th>Marital_Status</th>\n      <th>Income</th>\n      <th>Kid_Younger6</th>\n      <th>Children_6to18</th>\n      <th>Date_Adherence</th>\n      <th>Recency</th>\n      <th>MntMeat&amp;Fish</th>\n      <th>MntEntries</th>\n      <th>MntVegan&amp;Vegetarian</th>\n      <th>MntDrinks</th>\n      <th>MntDesserts</th>\n      <th>MntAdditionalRequests</th>\n      <th>NumOfferPurchases</th>\n      <th>NumAppPurchases</th>\n      <th>NumTakeAwayPurchases</th>\n      <th>NumStorePurchases</th>\n      <th>NumAppVisitsMonth</th>\n      <th>Complain</th>\n      <th>Response_Cmp1</th>\n      <th>Response_Cmp2</th>\n      <th>Response_Cmp3</th>\n      <th>Response_Cmp4</th>\n      <th>Response_Cmp5</th>\n    </tr>\n    <tr>\n      <th>CustomerID</th>\n      <th></th>\n      <th></th>\n      <th></th>\n      <th></th>\n      <th></th>\n      <th></th>\n      <th></th>\n      <th></th>\n      <th></th>\n      <th></th>\n      <th></th>\n      <th></th>\n      <th></th>\n      <th></th>\n      <th></th>\n      <th></th>\n      <th></th>\n      <th></th>\n      <th></th>\n      <th></th>\n      <th></th>\n      <th></th>\n      <th></th>\n      <th></th>\n      <th></th>\n      <th></th>\n    </tr>\n  </thead>\n  <tbody>\n    <tr>\n      <th>14594</th>\n      <td>Miss Leah Lewis</td>\n      <td>1981</td>\n      <td>Graduation</td>\n      <td>Single</td>\n      <td>113947.0</td>\n      <td>0</td>\n      <td>0</td>\n      <td>2021-01-09 00:00:00</td>\n      <td>43.0</td>\n      <td>4640.0</td>\n      <td>3380</td>\n      <td>5700.0</td>\n      <td>2240.0</td>\n      <td>562.0</td>\n      <td>154.0</td>\n      <td>2</td>\n      <td>10</td>\n      <td>7</td>\n      <td>7</td>\n      <td>4</td>\n      <td>0</td>\n      <td>0</td>\n      <td>1</td>\n      <td>0</td>\n      <td>0</td>\n      <td>0</td>\n    </tr>\n    <tr>\n      <th>19070</th>\n      <td>Miss Grace Black</td>\n      <td>1974</td>\n      <td>Graduation</td>\n      <td>Together</td>\n      <td>114297.0</td>\n      <td>0</td>\n      <td>0</td>\n      <td>2021-04-10 00:00:00</td>\n      <td>74.0</td>\n      <td>7080.0</td>\n      <td>3680</td>\n      <td>7620.0</td>\n      <td>1840.0</td>\n      <td>1220.0</td>\n      <td>46.0</td>\n      <td>1</td>\n      <td>5</td>\n      <td>9</td>\n      <td>12</td>\n      <td>2</td>\n      <td>0</td>\n      <td>0</td>\n      <td>0</td>\n      <td>0</td>\n      <td>0</td>\n      <td>0</td>\n    </tr>\n    <tr>\n      <th>29888</th>\n      <td>Mr. Gavin Morrison</td>\n      <td>1960</td>\n      <td>PhD</td>\n      <td>Together</td>\n      <td>115476.0</td>\n      <td>0</td>\n      <td>0</td>\n      <td>2022-01-12 00:00:00</td>\n      <td>85.0</td>\n      <td>4130.0</td>\n      <td>380</td>\n      <td>4890.0</td>\n      <td>3640.0</td>\n      <td>380.0</td>\n      <td>28.0</td>\n      <td>1</td>\n      <td>5</td>\n      <td>5</td>\n      <td>7</td>\n      <td>1</td>\n      <td>0</td>\n      <td>0</td>\n      <td>0</td>\n      <td>0</td>\n      <td>0</td>\n      <td>0</td>\n    </tr>\n  </tbody>\n</table>\n</div>"
     },
     "execution_count": 462,
     "metadata": {},
     "output_type": "execute_result"
    }
   ],
   "source": [
    "df.head(3)"
   ],
   "metadata": {
    "collapsed": false
   }
  },
  {
   "cell_type": "code",
   "execution_count": 463,
   "outputs": [
    {
     "data": {
      "text/plain": "                            Name  Birthyear   Education Marital_Status  \\\nCustomerID                                                               \n29186       Mr. Thomas Churchill       1967         PhD       Together   \n23312         Miss Angela Murray       1989  Graduation         Single   \n15581          Miss Diana Taylor       1960  Graduation         Single   \n\n              Income  Kid_Younger6  Children_6to18       Date_Adherence  \\\nCustomerID                                                                \n29186        56039.0             0               1  2021-12-15 00:00:00   \n23312        44867.0             1               0  2020-11-12 00:00:00   \n15581       124379.0             0               0  2021-02-04 00:00:00   \n\n            Recency  MntMeat&Fish  MntEntries  MntVegan&Vegetarian  MntDrinks  \\\nCustomerID                                                                      \n29186          30.0         540.0           0                135.0        0.0   \n23312           8.0          80.0         120                210.0      120.0   \n15581          80.0        7280.0         422               1692.0     3760.0   \n\n            MntDesserts  MntAdditionalRequests  NumOfferPurchases  \\\nCustomerID                                                          \n29186               0.0                    5.0                  2   \n23312             100.0                   17.0                  1   \n15581            1880.0                  235.0                  1   \n\n            NumAppPurchases  NumTakeAwayPurchases  NumStorePurchases  \\\nCustomerID                                                             \n29186                     3                     1                  4   \n23312                     3                     1                  3   \n15581                     6                    12                 11   \n\n            NumAppVisitsMonth  Complain  Response_Cmp1  Response_Cmp2  \\\nCustomerID                                                              \n29186                       6         0              0              0   \n23312                       8         0              0              0   \n15581                       2         0              0              0   \n\n            Response_Cmp3  Response_Cmp4  Response_Cmp5  \nCustomerID                                               \n29186                   0              0              0  \n23312                   0              0              0  \n15581                   1              1              0  ",
      "text/html": "<div>\n<style scoped>\n    .dataframe tbody tr th:only-of-type {\n        vertical-align: middle;\n    }\n\n    .dataframe tbody tr th {\n        vertical-align: top;\n    }\n\n    .dataframe thead th {\n        text-align: right;\n    }\n</style>\n<table border=\"1\" class=\"dataframe\">\n  <thead>\n    <tr style=\"text-align: right;\">\n      <th></th>\n      <th>Name</th>\n      <th>Birthyear</th>\n      <th>Education</th>\n      <th>Marital_Status</th>\n      <th>Income</th>\n      <th>Kid_Younger6</th>\n      <th>Children_6to18</th>\n      <th>Date_Adherence</th>\n      <th>Recency</th>\n      <th>MntMeat&amp;Fish</th>\n      <th>MntEntries</th>\n      <th>MntVegan&amp;Vegetarian</th>\n      <th>MntDrinks</th>\n      <th>MntDesserts</th>\n      <th>MntAdditionalRequests</th>\n      <th>NumOfferPurchases</th>\n      <th>NumAppPurchases</th>\n      <th>NumTakeAwayPurchases</th>\n      <th>NumStorePurchases</th>\n      <th>NumAppVisitsMonth</th>\n      <th>Complain</th>\n      <th>Response_Cmp1</th>\n      <th>Response_Cmp2</th>\n      <th>Response_Cmp3</th>\n      <th>Response_Cmp4</th>\n      <th>Response_Cmp5</th>\n    </tr>\n    <tr>\n      <th>CustomerID</th>\n      <th></th>\n      <th></th>\n      <th></th>\n      <th></th>\n      <th></th>\n      <th></th>\n      <th></th>\n      <th></th>\n      <th></th>\n      <th></th>\n      <th></th>\n      <th></th>\n      <th></th>\n      <th></th>\n      <th></th>\n      <th></th>\n      <th></th>\n      <th></th>\n      <th></th>\n      <th></th>\n      <th></th>\n      <th></th>\n      <th></th>\n      <th></th>\n      <th></th>\n      <th></th>\n    </tr>\n  </thead>\n  <tbody>\n    <tr>\n      <th>29186</th>\n      <td>Mr. Thomas Churchill</td>\n      <td>1967</td>\n      <td>PhD</td>\n      <td>Together</td>\n      <td>56039.0</td>\n      <td>0</td>\n      <td>1</td>\n      <td>2021-12-15 00:00:00</td>\n      <td>30.0</td>\n      <td>540.0</td>\n      <td>0</td>\n      <td>135.0</td>\n      <td>0.0</td>\n      <td>0.0</td>\n      <td>5.0</td>\n      <td>2</td>\n      <td>3</td>\n      <td>1</td>\n      <td>4</td>\n      <td>6</td>\n      <td>0</td>\n      <td>0</td>\n      <td>0</td>\n      <td>0</td>\n      <td>0</td>\n      <td>0</td>\n    </tr>\n    <tr>\n      <th>23312</th>\n      <td>Miss Angela Murray</td>\n      <td>1989</td>\n      <td>Graduation</td>\n      <td>Single</td>\n      <td>44867.0</td>\n      <td>1</td>\n      <td>0</td>\n      <td>2020-11-12 00:00:00</td>\n      <td>8.0</td>\n      <td>80.0</td>\n      <td>120</td>\n      <td>210.0</td>\n      <td>120.0</td>\n      <td>100.0</td>\n      <td>17.0</td>\n      <td>1</td>\n      <td>3</td>\n      <td>1</td>\n      <td>3</td>\n      <td>8</td>\n      <td>0</td>\n      <td>0</td>\n      <td>0</td>\n      <td>0</td>\n      <td>0</td>\n      <td>0</td>\n    </tr>\n    <tr>\n      <th>15581</th>\n      <td>Miss Diana Taylor</td>\n      <td>1960</td>\n      <td>Graduation</td>\n      <td>Single</td>\n      <td>124379.0</td>\n      <td>0</td>\n      <td>0</td>\n      <td>2021-02-04 00:00:00</td>\n      <td>80.0</td>\n      <td>7280.0</td>\n      <td>422</td>\n      <td>1692.0</td>\n      <td>3760.0</td>\n      <td>1880.0</td>\n      <td>235.0</td>\n      <td>1</td>\n      <td>6</td>\n      <td>12</td>\n      <td>11</td>\n      <td>2</td>\n      <td>0</td>\n      <td>0</td>\n      <td>0</td>\n      <td>1</td>\n      <td>1</td>\n      <td>0</td>\n    </tr>\n  </tbody>\n</table>\n</div>"
     },
     "execution_count": 463,
     "metadata": {},
     "output_type": "execute_result"
    }
   ],
   "source": [
    "df.tail(3)"
   ],
   "metadata": {
    "collapsed": false
   }
  },
  {
   "cell_type": "markdown",
   "source": [
    "Q: To check the basic information of the dataset we've used the `info` method"
   ],
   "metadata": {
    "collapsed": false
   }
  },
  {
   "cell_type": "code",
   "execution_count": 464,
   "outputs": [
    {
     "name": "stdout",
     "output_type": "stream",
     "text": [
      "<class 'pandas.core.frame.DataFrame'>\n",
      "Int64Index: 7000 entries, 14594 to 15581\n",
      "Data columns (total 26 columns):\n",
      " #   Column                 Non-Null Count  Dtype  \n",
      "---  ------                 --------------  -----  \n",
      " 0   Name                   7000 non-null   object \n",
      " 1   Birthyear              7000 non-null   int64  \n",
      " 2   Education              6986 non-null   object \n",
      " 3   Marital_Status         7000 non-null   object \n",
      " 4   Income                 7000 non-null   float64\n",
      " 5   Kid_Younger6           7000 non-null   int64  \n",
      " 6   Children_6to18         7000 non-null   int64  \n",
      " 7   Date_Adherence         7000 non-null   object \n",
      " 8   Recency                6977 non-null   float64\n",
      " 9   MntMeat&Fish           7000 non-null   float64\n",
      " 10  MntEntries             7000 non-null   int64  \n",
      " 11  MntVegan&Vegetarian    7000 non-null   float64\n",
      " 12  MntDrinks              6972 non-null   float64\n",
      " 13  MntDesserts            7000 non-null   float64\n",
      " 14  MntAdditionalRequests  7000 non-null   float64\n",
      " 15  NumOfferPurchases      7000 non-null   int64  \n",
      " 16  NumAppPurchases        7000 non-null   int64  \n",
      " 17  NumTakeAwayPurchases   7000 non-null   int64  \n",
      " 18  NumStorePurchases      7000 non-null   int64  \n",
      " 19  NumAppVisitsMonth      7000 non-null   int64  \n",
      " 20  Complain               7000 non-null   int64  \n",
      " 21  Response_Cmp1          7000 non-null   int64  \n",
      " 22  Response_Cmp2          7000 non-null   int64  \n",
      " 23  Response_Cmp3          7000 non-null   int64  \n",
      " 24  Response_Cmp4          7000 non-null   int64  \n",
      " 25  Response_Cmp5          7000 non-null   int64  \n",
      "dtypes: float64(7), int64(15), object(4)\n",
      "memory usage: 1.4+ MB\n"
     ]
    }
   ],
   "source": [
    "df.info()"
   ],
   "metadata": {
    "collapsed": false
   }
  },
  {
   "cell_type": "markdown",
   "source": [
    ">A: We can observe the data type of the dataset and the how many of features per data type  `dtypes: float64 - (7), int64 - (15), object - (4)`, the memory usage of `1.4+MB`, and the non-null values present per columns. <br>\n",
    "> Using only `info` method we understand that `'Education', 'Recency', 'MntDrinks'` have __14, 23, 28 null values__ that require some action."
   ],
   "metadata": {
    "collapsed": false
   }
  },
  {
   "cell_type": "markdown",
   "source": [
    "# 2.2 Statistical Exploration"
   ],
   "metadata": {
    "collapsed": false
   }
  },
  {
   "cell_type": "markdown",
   "source": [
    "## 2.2.1 Numerical Variables"
   ],
   "metadata": {
    "collapsed": false
   }
  },
  {
   "cell_type": "code",
   "execution_count": 465,
   "outputs": [
    {
     "data": {
      "text/plain": "         Birthyear         Income  Kid_Younger6  Children_6to18      Recency  \\\ncount  7000.000000    7000.000000   7000.000000     7000.000000  6977.000000   \nmean   1976.451429   77988.962407      0.440571        0.490571    49.235058   \nstd      11.996270   35409.810253      0.543477        0.542174    28.922688   \nmin    1948.000000    2493.800000      0.000000        0.000000     0.000000   \n25%    1967.000000   51586.250000      0.000000        0.000000    24.000000   \n50%    1977.000000   77190.000000      0.000000        0.000000    49.000000   \n75%    1985.000000  102016.250000      1.000000        1.000000    74.000000   \nmax    2005.000000  237639.725000      2.000000        2.000000    99.000000   \n\n       MntMeat&Fish   MntEntries  MntVegan&Vegetarian    MntDrinks  \\\ncount   7000.000000  7000.000000          7000.000000  6972.000000   \nmean    3079.523800   534.749429          2785.050786   545.657544   \nstd     3370.377166   787.846684          3908.718244   805.149088   \nmin        0.000000     0.000000             0.000000     0.000000   \n25%      250.000000    40.000000           240.000000    40.000000   \n50%     1820.000000   180.000000          1110.000000   180.000000   \n75%     5070.000000   680.000000          3795.000000   700.000000   \nmax    14980.000000  3980.000000         25974.000000  3980.000000   \n\n       MntDesserts  MntAdditionalRequests  NumOfferPurchases  NumAppPurchases  \\\ncount  7000.000000            7000.000000        7000.000000      7000.000000   \nmean    540.656029              42.556186           2.448429         6.015714   \nstd     802.221866              49.650747           2.306968         2.745537   \nmin       0.000000               0.000000           0.000000         0.000000   \n25%      40.000000               9.000000           1.000000         4.000000   \n50%     180.000000              24.000000           2.000000         6.000000   \n75%     680.000000              57.000000           3.000000         8.000000   \nmax    3980.000000             249.000000          16.000000        13.000000   \n\n       NumTakeAwayPurchases  NumStorePurchases  NumAppVisitsMonth  \\\ncount           7000.000000        7000.000000        7000.000000   \nmean               3.834571           5.790571           5.278286   \nstd                3.331142           3.295708           2.748596   \nmin                0.000000           0.000000           0.000000   \n25%                1.000000           3.000000           3.000000   \n50%                3.000000           5.000000           5.000000   \n75%                5.000000           8.000000           7.000000   \nmax               24.000000          13.000000          20.000000   \n\n          Complain  Response_Cmp1  Response_Cmp2  Response_Cmp3  \\\ncount  7000.000000    7000.000000    7000.000000    7000.000000   \nmean      0.010286       0.079143       0.073286       0.083000   \nstd       0.100903       0.269981       0.260624       0.275902   \nmin       0.000000       0.000000       0.000000       0.000000   \n25%       0.000000       0.000000       0.000000       0.000000   \n50%       0.000000       0.000000       0.000000       0.000000   \n75%       0.000000       0.000000       0.000000       0.000000   \nmax       1.000000       1.000000       1.000000       1.000000   \n\n       Response_Cmp4  Response_Cmp5  \ncount    7000.000000    7000.000000  \nmean        0.065857       0.014286  \nstd         0.248050       0.118675  \nmin         0.000000       0.000000  \n25%         0.000000       0.000000  \n50%         0.000000       0.000000  \n75%         0.000000       0.000000  \nmax         1.000000       1.000000  ",
      "text/html": "<div>\n<style scoped>\n    .dataframe tbody tr th:only-of-type {\n        vertical-align: middle;\n    }\n\n    .dataframe tbody tr th {\n        vertical-align: top;\n    }\n\n    .dataframe thead th {\n        text-align: right;\n    }\n</style>\n<table border=\"1\" class=\"dataframe\">\n  <thead>\n    <tr style=\"text-align: right;\">\n      <th></th>\n      <th>Birthyear</th>\n      <th>Income</th>\n      <th>Kid_Younger6</th>\n      <th>Children_6to18</th>\n      <th>Recency</th>\n      <th>MntMeat&amp;Fish</th>\n      <th>MntEntries</th>\n      <th>MntVegan&amp;Vegetarian</th>\n      <th>MntDrinks</th>\n      <th>MntDesserts</th>\n      <th>MntAdditionalRequests</th>\n      <th>NumOfferPurchases</th>\n      <th>NumAppPurchases</th>\n      <th>NumTakeAwayPurchases</th>\n      <th>NumStorePurchases</th>\n      <th>NumAppVisitsMonth</th>\n      <th>Complain</th>\n      <th>Response_Cmp1</th>\n      <th>Response_Cmp2</th>\n      <th>Response_Cmp3</th>\n      <th>Response_Cmp4</th>\n      <th>Response_Cmp5</th>\n    </tr>\n  </thead>\n  <tbody>\n    <tr>\n      <th>count</th>\n      <td>7000.000000</td>\n      <td>7000.000000</td>\n      <td>7000.000000</td>\n      <td>7000.000000</td>\n      <td>6977.000000</td>\n      <td>7000.000000</td>\n      <td>7000.000000</td>\n      <td>7000.000000</td>\n      <td>6972.000000</td>\n      <td>7000.000000</td>\n      <td>7000.000000</td>\n      <td>7000.000000</td>\n      <td>7000.000000</td>\n      <td>7000.000000</td>\n      <td>7000.000000</td>\n      <td>7000.000000</td>\n      <td>7000.000000</td>\n      <td>7000.000000</td>\n      <td>7000.000000</td>\n      <td>7000.000000</td>\n      <td>7000.000000</td>\n      <td>7000.000000</td>\n    </tr>\n    <tr>\n      <th>mean</th>\n      <td>1976.451429</td>\n      <td>77988.962407</td>\n      <td>0.440571</td>\n      <td>0.490571</td>\n      <td>49.235058</td>\n      <td>3079.523800</td>\n      <td>534.749429</td>\n      <td>2785.050786</td>\n      <td>545.657544</td>\n      <td>540.656029</td>\n      <td>42.556186</td>\n      <td>2.448429</td>\n      <td>6.015714</td>\n      <td>3.834571</td>\n      <td>5.790571</td>\n      <td>5.278286</td>\n      <td>0.010286</td>\n      <td>0.079143</td>\n      <td>0.073286</td>\n      <td>0.083000</td>\n      <td>0.065857</td>\n      <td>0.014286</td>\n    </tr>\n    <tr>\n      <th>std</th>\n      <td>11.996270</td>\n      <td>35409.810253</td>\n      <td>0.543477</td>\n      <td>0.542174</td>\n      <td>28.922688</td>\n      <td>3370.377166</td>\n      <td>787.846684</td>\n      <td>3908.718244</td>\n      <td>805.149088</td>\n      <td>802.221866</td>\n      <td>49.650747</td>\n      <td>2.306968</td>\n      <td>2.745537</td>\n      <td>3.331142</td>\n      <td>3.295708</td>\n      <td>2.748596</td>\n      <td>0.100903</td>\n      <td>0.269981</td>\n      <td>0.260624</td>\n      <td>0.275902</td>\n      <td>0.248050</td>\n      <td>0.118675</td>\n    </tr>\n    <tr>\n      <th>min</th>\n      <td>1948.000000</td>\n      <td>2493.800000</td>\n      <td>0.000000</td>\n      <td>0.000000</td>\n      <td>0.000000</td>\n      <td>0.000000</td>\n      <td>0.000000</td>\n      <td>0.000000</td>\n      <td>0.000000</td>\n      <td>0.000000</td>\n      <td>0.000000</td>\n      <td>0.000000</td>\n      <td>0.000000</td>\n      <td>0.000000</td>\n      <td>0.000000</td>\n      <td>0.000000</td>\n      <td>0.000000</td>\n      <td>0.000000</td>\n      <td>0.000000</td>\n      <td>0.000000</td>\n      <td>0.000000</td>\n      <td>0.000000</td>\n    </tr>\n    <tr>\n      <th>25%</th>\n      <td>1967.000000</td>\n      <td>51586.250000</td>\n      <td>0.000000</td>\n      <td>0.000000</td>\n      <td>24.000000</td>\n      <td>250.000000</td>\n      <td>40.000000</td>\n      <td>240.000000</td>\n      <td>40.000000</td>\n      <td>40.000000</td>\n      <td>9.000000</td>\n      <td>1.000000</td>\n      <td>4.000000</td>\n      <td>1.000000</td>\n      <td>3.000000</td>\n      <td>3.000000</td>\n      <td>0.000000</td>\n      <td>0.000000</td>\n      <td>0.000000</td>\n      <td>0.000000</td>\n      <td>0.000000</td>\n      <td>0.000000</td>\n    </tr>\n    <tr>\n      <th>50%</th>\n      <td>1977.000000</td>\n      <td>77190.000000</td>\n      <td>0.000000</td>\n      <td>0.000000</td>\n      <td>49.000000</td>\n      <td>1820.000000</td>\n      <td>180.000000</td>\n      <td>1110.000000</td>\n      <td>180.000000</td>\n      <td>180.000000</td>\n      <td>24.000000</td>\n      <td>2.000000</td>\n      <td>6.000000</td>\n      <td>3.000000</td>\n      <td>5.000000</td>\n      <td>5.000000</td>\n      <td>0.000000</td>\n      <td>0.000000</td>\n      <td>0.000000</td>\n      <td>0.000000</td>\n      <td>0.000000</td>\n      <td>0.000000</td>\n    </tr>\n    <tr>\n      <th>75%</th>\n      <td>1985.000000</td>\n      <td>102016.250000</td>\n      <td>1.000000</td>\n      <td>1.000000</td>\n      <td>74.000000</td>\n      <td>5070.000000</td>\n      <td>680.000000</td>\n      <td>3795.000000</td>\n      <td>700.000000</td>\n      <td>680.000000</td>\n      <td>57.000000</td>\n      <td>3.000000</td>\n      <td>8.000000</td>\n      <td>5.000000</td>\n      <td>8.000000</td>\n      <td>7.000000</td>\n      <td>0.000000</td>\n      <td>0.000000</td>\n      <td>0.000000</td>\n      <td>0.000000</td>\n      <td>0.000000</td>\n      <td>0.000000</td>\n    </tr>\n    <tr>\n      <th>max</th>\n      <td>2005.000000</td>\n      <td>237639.725000</td>\n      <td>2.000000</td>\n      <td>2.000000</td>\n      <td>99.000000</td>\n      <td>14980.000000</td>\n      <td>3980.000000</td>\n      <td>25974.000000</td>\n      <td>3980.000000</td>\n      <td>3980.000000</td>\n      <td>249.000000</td>\n      <td>16.000000</td>\n      <td>13.000000</td>\n      <td>24.000000</td>\n      <td>13.000000</td>\n      <td>20.000000</td>\n      <td>1.000000</td>\n      <td>1.000000</td>\n      <td>1.000000</td>\n      <td>1.000000</td>\n      <td>1.000000</td>\n      <td>1.000000</td>\n    </tr>\n  </tbody>\n</table>\n</div>"
     },
     "execution_count": 465,
     "metadata": {},
     "output_type": "execute_result"
    }
   ],
   "source": [
    "df.describe()"
   ],
   "metadata": {
    "collapsed": false
   }
  },
  {
   "cell_type": "markdown",
   "source": [
    "> _The describe return we can get a first glance and make some conclusion:_\n",
    "\n",
    ">__Birthyear__ - could originate an Age column for readability purposes<br>\n",
    "__Income__ - Min and Max are very far from each other and far from the mean value which could indicate outliers<br>\n",
    "__Recency__ - 6977 valid values, hence we should look in deep and decide on how to minimize that effect of missing values<br>\n",
    "__MntMeat&Fish__ - Min and Max are distant from each other and have high standard deviation which could effect some future conclusion<br>\n",
    "__MntEntries__ - Again has high standard deviation that we should analyze, Min and Max far apart, similar to MntMeat&Fish<br>\n",
    "__MntVegan&Vegetarian__ - Similar to the previous two Mnt columns<br>\n",
    "__MntDrinks, MntDesserts__ - Seems to be very similar between them<br>\n",
    "__MntAdditionalRequests__ - The max value standard deviation seems high and also the max value very far apart from the mean<br>\n",
    "__NumOfferPurchases, NumTakeAwayPurchases, NumAppVisitsMonth__  - Have a max value to distante from the mean that could be true but we need to take into account<br>\n",
    "__NumAppPurchases, SumStorePurchases__ - Seems does not have strange summary statistcs<br>\n",
    "__Kid_Younger6, Children_6to18__ - 75% of clients have at least one child"
   ],
   "metadata": {
    "collapsed": false
   }
  },
  {
   "cell_type": "markdown",
   "source": [
    "**Q**: Skewness of each variable "
   ],
   "metadata": {
    "collapsed": false
   }
  },
  {
   "cell_type": "code",
   "execution_count": 466,
   "outputs": [
    {
     "name": "stderr",
     "output_type": "stream",
     "text": [
      "/var/folders/gt/lg95g0n95mqdr3vk5d1k062h0000gn/T/ipykernel_46506/547062910.py:1: FutureWarning: Dropping of nuisance columns in DataFrame reductions (with 'numeric_only=None') is deprecated; in a future version this will raise TypeError.  Select only valid columns before calling the reduction.\n",
      "  df.skew()\n"
     ]
    },
    {
     "data": {
      "text/plain": "Birthyear               -0.092478\nIncome                   0.844721\nKid_Younger6             0.693587\nChildren_6to18           0.451693\nRecency                  0.017676\nMntMeat&Fish             1.148862\nMntEntries               2.087220\nMntVegan&Vegetarian      2.486897\nMntDrinks                2.046308\nMntDesserts              2.057811\nMntAdditionalRequests    1.826522\nNumOfferPurchases        2.860514\nNumAppPurchases          0.525873\nNumTakeAwayPurchases     2.254158\nNumStorePurchases        0.623254\nNumAppVisitsMonth        1.005192\nComplain                 9.709429\nResponse_Cmp1            3.118572\nResponse_Cmp2            3.275500\nResponse_Cmp3            3.023677\nResponse_Cmp4            3.501448\nResponse_Cmp5            8.187993\ndtype: float64"
     },
     "execution_count": 466,
     "metadata": {},
     "output_type": "execute_result"
    }
   ],
   "source": [
    "df.skew()"
   ],
   "metadata": {
    "collapsed": false
   }
  },
  {
   "cell_type": "markdown",
   "source": [
    "Concerning the variables' skewness, we can conclude the following:\n",
    "- `Moderate skewness (between |0.5| and |1.0|)`: Birthyear, Income, Kid_Younger6, Children_6to18, Recency, NumAppPurchases, NumStorePurchases, NumAppVisitsMonth\n",
    "- `High skewness (higher than |1.0|)`: MntMeat&Fish, MntEntries, MntVegan&Vegetarian, MntDrinks, MntDesserts, MntAdditionalRequests, NumOfferPurchases, NumTakeAwayPurchases, Complain, Response_Cmp1, Response_Cmp2, Response_Cmp3, Response_Cmp4, Response_Cmp5"
   ],
   "metadata": {
    "collapsed": false
   }
  },
  {
   "cell_type": "code",
   "execution_count": 467,
   "outputs": [
    {
     "name": "stderr",
     "output_type": "stream",
     "text": [
      "/var/folders/gt/lg95g0n95mqdr3vk5d1k062h0000gn/T/ipykernel_46506/3952544226.py:1: FutureWarning: Dropping of nuisance columns in DataFrame reductions (with 'numeric_only=None') is deprecated; in a future version this will raise TypeError.  Select only valid columns before calling the reduction.\n",
      "  df.kurt()\n"
     ]
    },
    {
     "data": {
      "text/plain": "Birthyear                -0.857341\nIncome                    2.649035\nKid_Younger6             -0.651127\nChildren_6to18           -0.973333\nRecency                  -1.197978\nMntMeat&Fish              0.532098\nMntEntries                4.096167\nMntVegan&Vegetarian       8.431538\nMntDrinks                 3.839256\nMntDesserts               3.813464\nMntAdditionalRequests     3.084190\nNumOfferPurchases        10.997946\nNumAppPurchases          -0.222899\nNumTakeAwayPurchases      8.582138\nNumStorePurchases        -0.694327\nNumAppVisitsMonth         4.992870\nComplain                 92.299387\nResponse_Cmp1             7.727700\nResponse_Cmp2             8.731398\nResponse_Cmp3             7.144665\nResponse_Cmp4            10.263068\nResponse_Cmp5            65.061813\ndtype: float64"
     },
     "execution_count": 467,
     "metadata": {},
     "output_type": "execute_result"
    }
   ],
   "source": [
    "df.kurt()"
   ],
   "metadata": {
    "collapsed": false
   }
  },
  {
   "cell_type": "markdown",
   "source": [
    "Features with kurtosis higher than 3 could indicate presence of outliers, hence we should have special considerantion with the following features:\n",
    ">MntEntries, MntVegan&Vegetarian, MntDrinks, MntDesserts, NumOfferPurchases, NumAppVisitsMonth\n",
    "\n",
    "Note: Binomial Variables Complain, and Response_Cmp1 the kurtosis we will not consider as outliers"
   ],
   "metadata": {
    "collapsed": false
   }
  },
  {
   "cell_type": "markdown",
   "source": [
    "## 2.2.2 Categorical Values"
   ],
   "metadata": {
    "collapsed": false
   }
  },
  {
   "cell_type": "code",
   "execution_count": 468,
   "outputs": [
    {
     "data": {
      "text/plain": "                     Name   Education Marital_Status       Date_Adherence\ncount                7000        6986           7000                 7000\nunique               6241           9             10                  701\ntop     Mr. Stewart Grant  Graduation        Married  2020-09-19 00:00:00\nfreq                    3        3497           2830                   23",
      "text/html": "<div>\n<style scoped>\n    .dataframe tbody tr th:only-of-type {\n        vertical-align: middle;\n    }\n\n    .dataframe tbody tr th {\n        vertical-align: top;\n    }\n\n    .dataframe thead th {\n        text-align: right;\n    }\n</style>\n<table border=\"1\" class=\"dataframe\">\n  <thead>\n    <tr style=\"text-align: right;\">\n      <th></th>\n      <th>Name</th>\n      <th>Education</th>\n      <th>Marital_Status</th>\n      <th>Date_Adherence</th>\n    </tr>\n  </thead>\n  <tbody>\n    <tr>\n      <th>count</th>\n      <td>7000</td>\n      <td>6986</td>\n      <td>7000</td>\n      <td>7000</td>\n    </tr>\n    <tr>\n      <th>unique</th>\n      <td>6241</td>\n      <td>9</td>\n      <td>10</td>\n      <td>701</td>\n    </tr>\n    <tr>\n      <th>top</th>\n      <td>Mr. Stewart Grant</td>\n      <td>Graduation</td>\n      <td>Married</td>\n      <td>2020-09-19 00:00:00</td>\n    </tr>\n    <tr>\n      <th>freq</th>\n      <td>3</td>\n      <td>3497</td>\n      <td>2830</td>\n      <td>23</td>\n    </tr>\n  </tbody>\n</table>\n</div>"
     },
     "execution_count": 468,
     "metadata": {},
     "output_type": "execute_result"
    }
   ],
   "source": [
    "df.describe(include = object)"
   ],
   "metadata": {
    "collapsed": false
   }
  },
  {
   "cell_type": "markdown",
   "source": [
    "> We can conclude that the education as **14 missing** values"
   ],
   "metadata": {
    "collapsed": false
   }
  },
  {
   "cell_type": "markdown",
   "source": [
    "#### Level/Possible values of Categorical Features"
   ],
   "metadata": {
    "collapsed": false
   }
  },
  {
   "cell_type": "markdown",
   "source": [
    "### `Name` prefix unique values and count"
   ],
   "metadata": {
    "collapsed": false
   }
  },
  {
   "cell_type": "code",
   "execution_count": 469,
   "outputs": [
    {
     "data": {
      "text/plain": "Mr.     5133\nMiss    1469\nMrs.     398\nName: 0, dtype: int64"
     },
     "execution_count": 469,
     "metadata": {},
     "output_type": "execute_result"
    }
   ],
   "source": [
    "df['Name'].str.partition(\" \")[0].value_counts()"
   ],
   "metadata": {
    "collapsed": false
   }
  },
  {
   "cell_type": "markdown",
   "source": [
    "With the prefix we can generate a `gender` feature to further explore the dataset. We will deal with that in the data transformation capther"
   ],
   "metadata": {
    "collapsed": false
   }
  },
  {
   "cell_type": "markdown",
   "source": [
    "#### **`Gender`** feature creation"
   ],
   "metadata": {
    "collapsed": false
   }
  },
  {
   "cell_type": "code",
   "execution_count": 470,
   "outputs": [],
   "source": [
    "df[\"Gender\"] = df['Name'].str.partition(\" \")[0]\n",
    "df = df.replace({\"Gender\":{\"Mr.\": 1,\"Miss\": 0,\"Mrs.\": 0}})"
   ],
   "metadata": {
    "collapsed": false
   }
  },
  {
   "cell_type": "markdown",
   "source": [
    "### `Education` unique values and count"
   ],
   "metadata": {
    "collapsed": false
   }
  },
  {
   "cell_type": "code",
   "execution_count": 471,
   "outputs": [
    {
     "data": {
      "text/plain": "Graduation    3497\nPhD           1494\nMaster        1135\nHighSchool     663\nBasic          179\nmaster           7\ngraduation       7\nphd              2\nhighschool       2\nName: Education, dtype: int64"
     },
     "execution_count": 471,
     "metadata": {},
     "output_type": "execute_result"
    }
   ],
   "source": [
    "df[\"Education\"].value_counts()"
   ],
   "metadata": {
    "collapsed": false
   }
  },
  {
   "cell_type": "markdown",
   "source": [
    "We have some issues that will need trasformatioin:<br>\n",
    "- Graduation, Master, HighSchool are written in different ways<br>\n",
    "- `Basic` and `HighSchool` need different levels?"
   ],
   "metadata": {
    "collapsed": false
   }
  },
  {
   "cell_type": "markdown",
   "source": [
    "#### Education standardization"
   ],
   "metadata": {
    "collapsed": false
   }
  },
  {
   "cell_type": "code",
   "execution_count": 472,
   "outputs": [],
   "source": [
    "df = df.replace({\"Education\":{\"master\":\"Master\", \"graduation\":\"Graduation\", \"phd\":\"PhD\",\"highschool\":\"HighSchool\"}})"
   ],
   "metadata": {
    "collapsed": false
   }
  },
  {
   "cell_type": "markdown",
   "source": [
    "### `Marital_Status` unique values and count"
   ],
   "metadata": {
    "collapsed": false
   }
  },
  {
   "cell_type": "code",
   "execution_count": 473,
   "outputs": [
    {
     "data": {
      "text/plain": "Married     2830\nTogether    1683\nSingle      1525\nDivorced     637\nWidow        243\nmarried       36\ntogether      23\nsingle        13\ndivorced       8\nwidow          2\nName: Marital_Status, dtype: int64"
     },
     "execution_count": 473,
     "metadata": {},
     "output_type": "execute_result"
    }
   ],
   "source": [
    "df[\"Marital_Status\"].value_counts()"
   ],
   "metadata": {
    "collapsed": false
   }
  },
  {
   "cell_type": "markdown",
   "source": [
    "Similarly to previous feature we also have some issues that need transformation:<br>\n",
    "- Married, Together, Single, Divorced and Widow are written with lower and capital letters\n",
    "- We could also consider that Married and Together are similar and joined them in the same level<br>"
   ],
   "metadata": {
    "collapsed": false
   }
  },
  {
   "cell_type": "markdown",
   "source": [
    "#### Marital_Status standardization"
   ],
   "metadata": {
    "collapsed": false
   }
  },
  {
   "cell_type": "code",
   "execution_count": 474,
   "outputs": [
    {
     "data": {
      "text/plain": "Married     4572\nSingle      1538\nDivorced     645\nWidow        245\nName: Marital_Status, dtype: int64"
     },
     "execution_count": 474,
     "metadata": {},
     "output_type": "execute_result"
    }
   ],
   "source": [
    "df = df.replace({\"Marital_Status\":{\"married\":\"Married\", \"together\":\"Married\", \"single\":\"Single\",\"widow\":\"Widow\",\"divorced\":\"Divorced\",\"Together\":\"Married\"}})\n",
    "df[\"Marital_Status\"].value_counts()"
   ],
   "metadata": {
    "collapsed": false
   }
  },
  {
   "cell_type": "markdown",
   "source": [
    "`Date_Adherence` unqiue values and count"
   ],
   "metadata": {
    "collapsed": false
   }
  },
  {
   "cell_type": "code",
   "execution_count": 475,
   "outputs": [
    {
     "data": {
      "text/plain": "2020-09-19    23\n2021-08-22    20\n2021-07-30    20\n2022-05-23    20\n2021-08-21    19\n              ..\n2021-03-09     3\n2020-09-18     2\n2020-07-30     2\n2020-08-29     2\n2021-03-22     2\nName: Date_Adherence, Length: 701, dtype: int64"
     },
     "execution_count": 475,
     "metadata": {},
     "output_type": "execute_result"
    }
   ],
   "source": [
    "df[\"Date_Adherence\"].value_counts()"
   ],
   "metadata": {
    "collapsed": false
   }
  },
  {
   "cell_type": "markdown",
   "source": [
    "`Date_Adherence` is a date and will need transformation to a date format for further exploration"
   ],
   "metadata": {
    "collapsed": false
   }
  },
  {
   "cell_type": "markdown",
   "source": [
    "## 2.3 Visual Exploration"
   ],
   "metadata": {
    "collapsed": false
   }
  },
  {
   "cell_type": "markdown",
   "source": [
    "### 2.3.1 Numerical Variables"
   ],
   "metadata": {
    "collapsed": false
   }
  },
  {
   "cell_type": "markdown",
   "source": [
    "## 2.4. In-Depth Exploration"
   ],
   "metadata": {
    "collapsed": false
   }
  },
  {
   "cell_type": "code",
   "execution_count": 475,
   "outputs": [],
   "source": [],
   "metadata": {
    "collapsed": false
   }
  },
  {
   "cell_type": "markdown",
   "source": [
    "# 3. Preprocess Data"
   ],
   "metadata": {
    "collapsed": false
   }
  },
  {
   "cell_type": "markdown",
   "source": [
    "## 3.1. Data Cleaning"
   ],
   "metadata": {
    "collapsed": false
   }
  },
  {
   "cell_type": "markdown",
   "source": [
    "### 3.1.1. Outliers"
   ],
   "metadata": {
    "collapsed": false
   }
  },
  {
   "cell_type": "markdown",
   "source": [],
   "metadata": {
    "collapsed": false
   }
  },
  {
   "cell_type": "code",
   "execution_count": 476,
   "outputs": [],
   "source": [
    "#fig, (ax1, ax2) = plt.subplots(1, 2, figsize = (10, 5))\n",
    "#ax1.boxplot(df['MntVegan&Vegetarian'])\n",
    "#ax2.boxplot(df['Income'])"
   ],
   "metadata": {
    "collapsed": false
   }
  },
  {
   "cell_type": "code",
   "execution_count": 477,
   "outputs": [],
   "source": [
    "df.drop(df[abs(zscore(df['MntVegan&Vegetarian'])) > 3].index, inplace=True)\n",
    "df.drop(df[abs(zscore(df['Income'])) > 3].index, inplace=True)"
   ],
   "metadata": {
    "collapsed": false
   }
  },
  {
   "cell_type": "code",
   "execution_count": 478,
   "outputs": [],
   "source": [
    "#fig, (ax1, ax2) = plt.subplots(1, 2, figsize = (10, 5))\n",
    "#ax1.boxplot(df['MntVegan&Vegetarian'])\n",
    "#ax2.boxplot(df['Income'])"
   ],
   "metadata": {
    "collapsed": false
   }
  },
  {
   "cell_type": "markdown",
   "source": [
    "## 3.1.2 Skewness Correction"
   ],
   "metadata": {
    "collapsed": false
   }
  },
  {
   "cell_type": "code",
   "execution_count": 479,
   "outputs": [],
   "source": [
    "df['MntMeat&Fish'] = df['MntMeat&Fish'].apply(lambda x: np.log10(x+1))\n",
    "df['MntVegan&Vegetarian'] = df['MntVegan&Vegetarian'].apply(lambda x: np.log10(x+1))\n",
    "df['MntEntries'] = df['MntEntries'].apply(lambda x: np.log10(x+1))\n",
    "df['MntDrinks'] = df['MntDrinks'].apply(lambda x: np.log10(x+1))\n",
    "df['MntDesserts'] = df['MntDesserts'].apply(lambda x: np.log10(x+1))\n",
    "df['MntAdditionalRequests'] = df['MntAdditionalRequests'].apply(lambda x: np.log10(x+1))\n",
    "df['NumOfferPurchases'] = df['NumOfferPurchases'].apply(lambda x: np.log10(x+1))\n",
    "df['NumTakeAwayPurchases'] = df['NumTakeAwayPurchases'].apply(lambda x: np.log10(x+1))\n",
    "df['Complain'] = df['Complain'].apply(lambda x: np.log10(x+1))\n",
    "df['Response_Cmp1'] = df['Response_Cmp1'].apply(lambda x: np.log10(x+1))\n",
    "df['Response_Cmp2'] = df['Response_Cmp2'].apply(lambda x: np.log10(x+1))\n",
    "df['Response_Cmp3'] = df['Response_Cmp3'].apply(lambda x: np.log10(x+1))\n",
    "df['Response_Cmp4'] = df['Response_Cmp4'].apply(lambda x: np.log10(x+1))\n",
    "df['Response_Cmp5'] = df['Response_Cmp5'].apply(lambda x: np.log10(x+1))"
   ],
   "metadata": {
    "collapsed": false
   }
  },
  {
   "cell_type": "markdown",
   "source": [
    "### 3.1.2. Missing Values"
   ],
   "metadata": {
    "collapsed": false
   }
  },
  {
   "cell_type": "code",
   "execution_count": 480,
   "outputs": [
    {
     "data": {
      "text/plain": "True"
     },
     "execution_count": 480,
     "metadata": {},
     "output_type": "execute_result"
    }
   ],
   "source": [
    "Response_is_null = df[\"Response_Cmp1\"].isna().sum() + df[\"Response_Cmp2\"].isna().sum() + df[\"Response_Cmp3\"].isna().sum() + df[\"Response_Cmp4\"].isna().sum()\n",
    "Response_is_null == 0"
   ],
   "metadata": {
    "collapsed": false
   }
  },
  {
   "cell_type": "code",
   "execution_count": 481,
   "outputs": [
    {
     "name": "stdout",
     "output_type": "stream",
     "text": [
      "<class 'pandas.core.frame.DataFrame'>\n",
      "Int64Index: 6884 entries, 14594 to 15581\n",
      "Data columns (total 27 columns):\n",
      " #   Column                 Non-Null Count  Dtype  \n",
      "---  ------                 --------------  -----  \n",
      " 0   Name                   6884 non-null   object \n",
      " 1   Birthyear              6884 non-null   int64  \n",
      " 2   Education              6870 non-null   object \n",
      " 3   Marital_Status         6884 non-null   object \n",
      " 4   Income                 6884 non-null   float64\n",
      " 5   Kid_Younger6           6884 non-null   int64  \n",
      " 6   Children_6to18         6884 non-null   int64  \n",
      " 7   Date_Adherence         6884 non-null   object \n",
      " 8   Recency                6861 non-null   float64\n",
      " 9   MntMeat&Fish           6884 non-null   float64\n",
      " 10  MntEntries             6884 non-null   float64\n",
      " 11  MntVegan&Vegetarian    6884 non-null   float64\n",
      " 12  MntDrinks              6856 non-null   float64\n",
      " 13  MntDesserts            6884 non-null   float64\n",
      " 14  MntAdditionalRequests  6884 non-null   float64\n",
      " 15  NumOfferPurchases      6884 non-null   float64\n",
      " 16  NumAppPurchases        6884 non-null   int64  \n",
      " 17  NumTakeAwayPurchases   6884 non-null   float64\n",
      " 18  NumStorePurchases      6884 non-null   int64  \n",
      " 19  NumAppVisitsMonth      6884 non-null   int64  \n",
      " 20  Complain               6884 non-null   float64\n",
      " 21  Response_Cmp1          6884 non-null   float64\n",
      " 22  Response_Cmp2          6884 non-null   float64\n",
      " 23  Response_Cmp3          6884 non-null   float64\n",
      " 24  Response_Cmp4          6884 non-null   float64\n",
      " 25  Response_Cmp5          6884 non-null   float64\n",
      " 26  Gender                 6884 non-null   int64  \n",
      "dtypes: float64(16), int64(7), object(4)\n",
      "memory usage: 1.5+ MB\n"
     ]
    }
   ],
   "source": [
    "df.info()"
   ],
   "metadata": {
    "collapsed": false
   }
  },
  {
   "cell_type": "code",
   "execution_count": 482,
   "outputs": [
    {
     "data": {
      "text/plain": "Name                      0\nBirthyear                 0\nEducation                14\nMarital_Status            0\nIncome                    0\nKid_Younger6              0\nChildren_6to18            0\nDate_Adherence            0\nRecency                  23\nMntMeat&Fish              0\nMntEntries                0\nMntVegan&Vegetarian       0\nMntDrinks                28\nMntDesserts               0\nMntAdditionalRequests     0\nNumOfferPurchases         0\nNumAppPurchases           0\nNumTakeAwayPurchases      0\nNumStorePurchases         0\nNumAppVisitsMonth         0\nComplain                  0\nResponse_Cmp1             0\nResponse_Cmp2             0\nResponse_Cmp3             0\nResponse_Cmp4             0\nResponse_Cmp5             0\nGender                    0\ndtype: int64"
     },
     "execution_count": 482,
     "metadata": {},
     "output_type": "execute_result"
    }
   ],
   "source": [
    "df.isna().sum()"
   ],
   "metadata": {
    "collapsed": false
   }
  },
  {
   "cell_type": "markdown",
   "source": [
    "- **`Education`**, **`Recency`**, **`MntDrinks`** and **`MntTotal`** (due to dependancy of `MntDrinks`) have missing values"
   ],
   "metadata": {
    "collapsed": false
   }
  },
  {
   "cell_type": "markdown",
   "source": [
    "#### Filling the missing values"
   ],
   "metadata": {
    "collapsed": false
   }
  },
  {
   "cell_type": "markdown",
   "source": [
    "Fill `Education` with the mode"
   ],
   "metadata": {
    "collapsed": false
   }
  },
  {
   "cell_type": "code",
   "execution_count": 483,
   "outputs": [],
   "source": [
    "df[\"Education\"].fillna(df[\"Education\"].mode()[0], inplace = True)"
   ],
   "metadata": {
    "collapsed": false
   }
  },
  {
   "cell_type": "markdown",
   "source": [
    "Fill `Recency` with the median value"
   ],
   "metadata": {
    "collapsed": false
   }
  },
  {
   "cell_type": "code",
   "execution_count": 484,
   "outputs": [],
   "source": [
    "df[\"Recency\"].fillna(df[\"Recency\"].mean(), inplace = True)"
   ],
   "metadata": {
    "collapsed": false
   }
  },
  {
   "cell_type": "code",
   "execution_count": 485,
   "outputs": [],
   "source": [
    "#df.drop(columns = \"MntTotal\", inplace = True)"
   ],
   "metadata": {
    "collapsed": false
   }
  },
  {
   "cell_type": "code",
   "execution_count": 486,
   "outputs": [],
   "source": [
    "df_mnt = df[[ 'MntMeat&Fish', 'MntEntries', 'MntVegan&Vegetarian', 'MntDrinks',\n",
    "       'MntDesserts', 'MntAdditionalRequests']]\n",
    "\n",
    "imputer = KNNImputer(n_neighbors=3)\n",
    "array_impute = imputer.fit_transform(df_mnt)\n",
    "df_mnt = pd.DataFrame(array_impute, columns = df_mnt.columns)"
   ],
   "metadata": {
    "collapsed": false
   }
  },
  {
   "cell_type": "code",
   "execution_count": 487,
   "outputs": [],
   "source": [
    "df[\"MntDrinks\"] = df_mnt[\"MntDrinks\"].values"
   ],
   "metadata": {
    "collapsed": false
   }
  },
  {
   "cell_type": "code",
   "execution_count": 488,
   "outputs": [],
   "source": [
    "df[\"MntTotal\"] = df['MntMeat&Fish'] + df['MntEntries'] + df['MntVegan&Vegetarian'] + df['MntDrinks'] + df['MntDesserts']"
   ],
   "metadata": {
    "collapsed": false
   }
  },
  {
   "cell_type": "code",
   "execution_count": 489,
   "outputs": [
    {
     "data": {
      "text/plain": "Name                     0\nBirthyear                0\nEducation                0\nMarital_Status           0\nIncome                   0\nKid_Younger6             0\nChildren_6to18           0\nDate_Adherence           0\nRecency                  0\nMntMeat&Fish             0\nMntEntries               0\nMntVegan&Vegetarian      0\nMntDrinks                0\nMntDesserts              0\nMntAdditionalRequests    0\nNumOfferPurchases        0\nNumAppPurchases          0\nNumTakeAwayPurchases     0\nNumStorePurchases        0\nNumAppVisitsMonth        0\nComplain                 0\nResponse_Cmp1            0\nResponse_Cmp2            0\nResponse_Cmp3            0\nResponse_Cmp4            0\nResponse_Cmp5            0\nGender                   0\nMntTotal                 0\ndtype: int64"
     },
     "execution_count": 489,
     "metadata": {},
     "output_type": "execute_result"
    }
   ],
   "source": [
    "df.isna().sum()"
   ],
   "metadata": {
    "collapsed": false
   }
  },
  {
   "cell_type": "markdown",
   "source": [
    "## 3.2. Data Transformation"
   ],
   "metadata": {
    "collapsed": false
   }
  },
  {
   "cell_type": "markdown",
   "source": [
    "### 3.2.1. Create new Variables"
   ],
   "metadata": {
    "collapsed": false
   }
  },
  {
   "cell_type": "markdown",
   "source": [
    "### Utils"
   ],
   "metadata": {
    "collapsed": false
   }
  },
  {
   "cell_type": "markdown",
   "source": [
    "#### Creating Age variable from the Birthyear"
   ],
   "metadata": {
    "collapsed": false
   }
  },
  {
   "cell_type": "code",
   "execution_count": 490,
   "outputs": [],
   "source": [
    "df['Age'] = df.Birthyear.apply(lambda x: date.today().year-x)"
   ],
   "metadata": {
    "collapsed": false
   }
  },
  {
   "cell_type": "code",
   "execution_count": 491,
   "outputs": [],
   "source": [
    "df.drop('Birthyear', axis= 1, inplace = True)"
   ],
   "metadata": {
    "collapsed": false
   }
  },
  {
   "cell_type": "markdown",
   "source": [
    "#### Creating card adherence age variable from the Date adherence"
   ],
   "metadata": {
    "collapsed": false
   }
  },
  {
   "cell_type": "code",
   "execution_count": 492,
   "outputs": [],
   "source": [
    "from datetime import datetime\n",
    "df = df.replace({\"Date_Adherence\":{\"2/29/2022\": datetime.strptime(\"2022-03-01\", '%Y-%m-%d')}}) #2022 is not a leap year, therefore 29/02/2022 is not a possible day"
   ],
   "metadata": {
    "collapsed": false
   }
  },
  {
   "cell_type": "code",
   "execution_count": 493,
   "outputs": [],
   "source": [
    "df['daysAsCardClient'] = df['Date_Adherence'].apply(lambda x: (date.today() - x.date()).days)"
   ],
   "metadata": {
    "collapsed": false
   }
  },
  {
   "cell_type": "code",
   "execution_count": 494,
   "outputs": [],
   "source": [
    "df.drop('Date_Adherence', axis= 1, inplace = True)"
   ],
   "metadata": {
    "collapsed": false
   }
  },
  {
   "cell_type": "markdown",
   "source": [
    "#### Fill Education"
   ],
   "metadata": {
    "collapsed": false
   }
  },
  {
   "cell_type": "code",
   "execution_count": 495,
   "outputs": [],
   "source": [
    "edu_encode = pd.get_dummies(df.Education, drop_first= True)\n",
    "df = pd.concat([df, edu_encode], axis = 1)"
   ],
   "metadata": {
    "collapsed": false
   }
  },
  {
   "cell_type": "code",
   "execution_count": 496,
   "outputs": [],
   "source": [
    "df.drop('Education', axis = 1, inplace = True)"
   ],
   "metadata": {
    "collapsed": false
   }
  },
  {
   "cell_type": "markdown",
   "source": [
    "#### Fill Maritial Status"
   ],
   "metadata": {
    "collapsed": false
   }
  },
  {
   "cell_type": "code",
   "execution_count": 497,
   "outputs": [],
   "source": [
    "marital_encode = pd.get_dummies(df.Marital_Status, drop_first= True)\n",
    "df = pd.concat([df, marital_encode], axis = 1)"
   ],
   "metadata": {
    "collapsed": false
   }
  },
  {
   "cell_type": "code",
   "execution_count": 498,
   "outputs": [],
   "source": [
    "df.drop('Marital_Status', axis= 1, inplace = True)"
   ],
   "metadata": {
    "collapsed": false
   }
  },
  {
   "cell_type": "markdown",
   "source": [
    "#### Create MntTotal"
   ],
   "metadata": {
    "collapsed": false
   }
  },
  {
   "cell_type": "code",
   "execution_count": 499,
   "outputs": [
    {
     "data": {
      "text/plain": "CustomerID\n14594    19.242890\n19070    19.321940\n29888    17.490921\n12221    12.145689\n21107    18.204269\n           ...    \n30686    14.183984\n17210    16.426555\n29186     5.644887\n23312    11.657932\n15581    18.939792\nName: MntTotal, Length: 6884, dtype: float64"
     },
     "execution_count": 499,
     "metadata": {},
     "output_type": "execute_result"
    }
   ],
   "source": [
    "df[\"MntTotal\"] = df['MntMeat&Fish'] + df['MntEntries'] + df['MntVegan&Vegetarian'] + df['MntDrinks'] + df['MntDesserts'] + df['MntAdditionalRequests']\n",
    "df[\"MntTotal\"]\n",
    "# em falta Mnt Add Requests"
   ],
   "metadata": {
    "collapsed": false
   }
  },
  {
   "cell_type": "markdown",
   "source": [
    "#### Create Mnt Pday Card"
   ],
   "metadata": {
    "collapsed": false
   }
  },
  {
   "cell_type": "code",
   "execution_count": 500,
   "outputs": [],
   "source": [
    "df['Mnt_pday_card']= df.MntTotal/df.daysAsCardClient"
   ],
   "metadata": {
    "collapsed": false
   }
  },
  {
   "cell_type": "markdown",
   "source": [
    "#### Create Response Campaigns"
   ],
   "metadata": {
    "collapsed": false
   }
  },
  {
   "cell_type": "code",
   "execution_count": 501,
   "outputs": [],
   "source": [
    "df['Response_Campaigns'] = df['Response_Cmp1'] + df['Response_Cmp2'] + df['Response_Cmp3'] + df['Response_Cmp4'] + df[\n",
    "       'Response_Cmp5']"
   ],
   "metadata": {
    "collapsed": false
   }
  },
  {
   "cell_type": "code",
   "execution_count": 502,
   "outputs": [],
   "source": [
    "# queremos dar drop nos Response, tudo certo ok? pq?\n",
    "df.drop(['Response_Cmp1', 'Response_Cmp2', 'Response_Cmp3', 'Response_Cmp4', 'Response_Cmp5'], axis=1, inplace=True)"
   ],
   "metadata": {
    "collapsed": false
   }
  },
  {
   "cell_type": "markdown",
   "source": [
    "#### Create Total Kids"
   ],
   "metadata": {
    "collapsed": false
   }
  },
  {
   "cell_type": "code",
   "execution_count": 503,
   "outputs": [],
   "source": [
    "df[\"Total_Kids\"] = df[\"Kid_Younger6\"] + df[\"Children_6to18\"]"
   ],
   "metadata": {
    "collapsed": false
   }
  },
  {
   "cell_type": "markdown",
   "source": [
    "#### Create Has Kids"
   ],
   "metadata": {
    "collapsed": false
   }
  },
  {
   "cell_type": "code",
   "execution_count": 504,
   "outputs": [
    {
     "data": {
      "text/plain": "CustomerID\n14594    0\n19070    0\n29888    0\n12221    1\n21107    0\n        ..\n30686    0\n17210    0\n29186    1\n23312    1\n15581    0\nName: has_Kids, Length: 6884, dtype: int64"
     },
     "execution_count": 504,
     "metadata": {},
     "output_type": "execute_result"
    }
   ],
   "source": [
    "df[\"has_Kids\"] = df[\"Total_Kids\"].apply(lambda x: 0 if x == 0 else 1)\n",
    "df[\"has_Kids\"]"
   ],
   "metadata": {
    "collapsed": false
   }
  },
  {
   "cell_type": "code",
   "execution_count": 505,
   "outputs": [],
   "source": [
    "# demos drop pq?\n",
    "df.drop(['Kid_Younger6', 'Children_6to18'], axis = 1, inplace = True)"
   ],
   "metadata": {
    "collapsed": false
   }
  },
  {
   "cell_type": "markdown",
   "source": [
    "#### Create age_bins"
   ],
   "metadata": {
    "collapsed": false
   }
  },
  {
   "cell_type": "code",
   "execution_count": 506,
   "outputs": [],
   "source": [
    "df[\"age_bins\"] = pd.cut(df[\"Age\"], bins = 5)\n",
    "age_bin = pd.get_dummies(df['age_bins'],prefix='age')\n",
    "df = pd.concat([df,age_bin], axis=1)\n",
    "df.drop(['age_bins'],axis=1, inplace=True)"
   ],
   "metadata": {
    "collapsed": false
   }
  },
  {
   "cell_type": "code",
   "execution_count": 507,
   "outputs": [
    {
     "data": {
      "text/plain": "                            Name    Income  Recency  MntMeat&Fish  MntEntries  \\\nCustomerID                                                                      \n14594            Miss Leah Lewis  113947.0     43.0      3.666612    3.529045   \n19070           Miss Grace Black  114297.0     74.0      3.850095    3.565966   \n29888         Mr. Gavin Morrison  115476.0     85.0      3.616055    2.580925   \n12221            Mr. Ryan Glover  101172.0     25.0      3.555215    0.000000   \n21107          Mr. Paul Anderson  123128.0     64.0      3.731669    3.051924   \n...                          ...       ...      ...           ...         ...   \n30686            Mr. John Hughes   98968.0     66.0      3.958612    2.416641   \n17210        Mr. Brandon Simpson  109977.0      8.0      3.768712    3.009026   \n29186       Mr. Thomas Churchill   56039.0     30.0      2.733197    0.000000   \n23312         Miss Angela Murray   44867.0      8.0      1.908485    2.082785   \n15581          Miss Diana Taylor  124379.0     80.0      3.862191    2.626340   \n\n            MntVegan&Vegetarian  MntDrinks  MntDesserts  \\\nCustomerID                                                \n14594                  3.755951   3.350442     2.750508   \n19070                  3.882012   3.265054     3.086716   \n29888                  3.689398   3.561221     2.580925   \n12221                  3.248219   1.908485     2.257679   \n21107                  3.977541   2.817565     2.750508   \n...                         ...        ...          ...   \n30686                  3.779308   2.416641     0.000000   \n17210                  4.129400   3.579898     0.000000   \n29186                  2.133539   0.000000     0.000000   \n23312                  2.324282   2.082785     2.004321   \n15581                  3.228657   3.575303     3.274389   \n\n            MntAdditionalRequests  NumOfferPurchases  NumAppPurchases  \\\nCustomerID                                                              \n14594                    2.190332           0.477121               10   \n19070                    1.672098           0.301030                5   \n29888                    1.462398           0.301030                5   \n12221                    1.176091           0.778151                8   \n21107                    1.875061           0.000000                4   \n...                           ...                ...              ...   \n30686                    1.612784           0.301030                6   \n17210                    1.939519           0.301030                5   \n29186                    0.778151           0.477121                3   \n23312                    1.255273           0.301030                3   \n15581                    2.372912           0.301030                6   \n\n            NumTakeAwayPurchases  NumStorePurchases  NumAppVisitsMonth  \\\nCustomerID                                                               \n14594                   0.903090                  7                  4   \n19070                   1.000000                 12                  2   \n29888                   0.778151                  7                  1   \n12221                   0.602060                  8                  5   \n21107                   0.903090                  8                  5   \n...                          ...                ...                ...   \n30686                   0.845098                 11                  2   \n17210                   0.903090                  7                  2   \n29186                   0.301030                  4                  6   \n23312                   0.301030                  3                  8   \n15581                   1.113943                 11                  2   \n\n            Complain  Gender   MntTotal  Age  daysAsCardClient  Graduation  \\\nCustomerID                                                                   \n14594            0.0       0  19.242890   42               824           1   \n19070            0.0       0  19.321940   49               733           1   \n29888            0.0       1  17.490921   63               456           0   \n12221            0.0       1  12.145689   43               548           1   \n21107            0.0       1  18.204269   52               853           0   \n...              ...     ...        ...  ...               ...         ...   \n30686            0.0       1  14.183984   29               491           0   \n17210            0.0       1  16.426555   38               943           1   \n29186            0.0       1   5.644887   56               484           0   \n23312            0.0       0  11.657932   34               882           1   \n15581            0.0       0  18.939792   63               798           1   \n\n            HighSchool  Master  PhD  Married  Single  Widow  Mnt_pday_card  \\\nCustomerID                                                                   \n14594                0       0    0        0       1      0       0.023353   \n19070                0       0    0        1       0      0       0.026360   \n29888                0       0    1        1       0      0       0.038357   \n12221                0       0    0        1       0      0       0.022164   \n21107                1       0    0        0       1      0       0.021341   \n...                ...     ...  ...      ...     ...    ...            ...   \n30686                0       0    1        0       0      0       0.028888   \n17210                0       0    0        0       0      0       0.017419   \n29186                0       0    1        1       0      0       0.011663   \n23312                0       0    0        0       1      0       0.013218   \n15581                0       0    0        0       1      0       0.023734   \n\n            Response_Campaigns  Total_Kids  has_Kids  age_(17.943, 29.4]  \\\nCustomerID                                                                 \n14594                  0.30103           0         0                   0   \n19070                  0.00000           0         0                   0   \n29888                  0.00000           0         0                   0   \n12221                  0.00000           2         1                   0   \n21107                  0.60206           0         0                   0   \n...                        ...         ...       ...                 ...   \n30686                  0.00000           0         0                   1   \n17210                  0.00000           0         0                   0   \n29186                  0.00000           1         1                   0   \n23312                  0.00000           1         1                   0   \n15581                  0.60206           0         0                   0   \n\n            age_(29.4, 40.8]  age_(40.8, 52.2]  age_(52.2, 63.6]  \\\nCustomerID                                                         \n14594                      0                 1                 0   \n19070                      0                 1                 0   \n29888                      0                 0                 1   \n12221                      0                 1                 0   \n21107                      0                 1                 0   \n...                      ...               ...               ...   \n30686                      0                 0                 0   \n17210                      1                 0                 0   \n29186                      0                 0                 1   \n23312                      1                 0                 0   \n15581                      0                 0                 1   \n\n            age_(63.6, 75.0]  \nCustomerID                    \n14594                      0  \n19070                      0  \n29888                      0  \n12221                      0  \n21107                      0  \n...                      ...  \n30686                      0  \n17210                      0  \n29186                      0  \n23312                      0  \n15581                      0  \n\n[6884 rows x 35 columns]",
      "text/html": "<div>\n<style scoped>\n    .dataframe tbody tr th:only-of-type {\n        vertical-align: middle;\n    }\n\n    .dataframe tbody tr th {\n        vertical-align: top;\n    }\n\n    .dataframe thead th {\n        text-align: right;\n    }\n</style>\n<table border=\"1\" class=\"dataframe\">\n  <thead>\n    <tr style=\"text-align: right;\">\n      <th></th>\n      <th>Name</th>\n      <th>Income</th>\n      <th>Recency</th>\n      <th>MntMeat&amp;Fish</th>\n      <th>MntEntries</th>\n      <th>MntVegan&amp;Vegetarian</th>\n      <th>MntDrinks</th>\n      <th>MntDesserts</th>\n      <th>MntAdditionalRequests</th>\n      <th>NumOfferPurchases</th>\n      <th>NumAppPurchases</th>\n      <th>NumTakeAwayPurchases</th>\n      <th>NumStorePurchases</th>\n      <th>NumAppVisitsMonth</th>\n      <th>Complain</th>\n      <th>Gender</th>\n      <th>MntTotal</th>\n      <th>Age</th>\n      <th>daysAsCardClient</th>\n      <th>Graduation</th>\n      <th>HighSchool</th>\n      <th>Master</th>\n      <th>PhD</th>\n      <th>Married</th>\n      <th>Single</th>\n      <th>Widow</th>\n      <th>Mnt_pday_card</th>\n      <th>Response_Campaigns</th>\n      <th>Total_Kids</th>\n      <th>has_Kids</th>\n      <th>age_(17.943, 29.4]</th>\n      <th>age_(29.4, 40.8]</th>\n      <th>age_(40.8, 52.2]</th>\n      <th>age_(52.2, 63.6]</th>\n      <th>age_(63.6, 75.0]</th>\n    </tr>\n    <tr>\n      <th>CustomerID</th>\n      <th></th>\n      <th></th>\n      <th></th>\n      <th></th>\n      <th></th>\n      <th></th>\n      <th></th>\n      <th></th>\n      <th></th>\n      <th></th>\n      <th></th>\n      <th></th>\n      <th></th>\n      <th></th>\n      <th></th>\n      <th></th>\n      <th></th>\n      <th></th>\n      <th></th>\n      <th></th>\n      <th></th>\n      <th></th>\n      <th></th>\n      <th></th>\n      <th></th>\n      <th></th>\n      <th></th>\n      <th></th>\n      <th></th>\n      <th></th>\n      <th></th>\n      <th></th>\n      <th></th>\n      <th></th>\n      <th></th>\n    </tr>\n  </thead>\n  <tbody>\n    <tr>\n      <th>14594</th>\n      <td>Miss Leah Lewis</td>\n      <td>113947.0</td>\n      <td>43.0</td>\n      <td>3.666612</td>\n      <td>3.529045</td>\n      <td>3.755951</td>\n      <td>3.350442</td>\n      <td>2.750508</td>\n      <td>2.190332</td>\n      <td>0.477121</td>\n      <td>10</td>\n      <td>0.903090</td>\n      <td>7</td>\n      <td>4</td>\n      <td>0.0</td>\n      <td>0</td>\n      <td>19.242890</td>\n      <td>42</td>\n      <td>824</td>\n      <td>1</td>\n      <td>0</td>\n      <td>0</td>\n      <td>0</td>\n      <td>0</td>\n      <td>1</td>\n      <td>0</td>\n      <td>0.023353</td>\n      <td>0.30103</td>\n      <td>0</td>\n      <td>0</td>\n      <td>0</td>\n      <td>0</td>\n      <td>1</td>\n      <td>0</td>\n      <td>0</td>\n    </tr>\n    <tr>\n      <th>19070</th>\n      <td>Miss Grace Black</td>\n      <td>114297.0</td>\n      <td>74.0</td>\n      <td>3.850095</td>\n      <td>3.565966</td>\n      <td>3.882012</td>\n      <td>3.265054</td>\n      <td>3.086716</td>\n      <td>1.672098</td>\n      <td>0.301030</td>\n      <td>5</td>\n      <td>1.000000</td>\n      <td>12</td>\n      <td>2</td>\n      <td>0.0</td>\n      <td>0</td>\n      <td>19.321940</td>\n      <td>49</td>\n      <td>733</td>\n      <td>1</td>\n      <td>0</td>\n      <td>0</td>\n      <td>0</td>\n      <td>1</td>\n      <td>0</td>\n      <td>0</td>\n      <td>0.026360</td>\n      <td>0.00000</td>\n      <td>0</td>\n      <td>0</td>\n      <td>0</td>\n      <td>0</td>\n      <td>1</td>\n      <td>0</td>\n      <td>0</td>\n    </tr>\n    <tr>\n      <th>29888</th>\n      <td>Mr. Gavin Morrison</td>\n      <td>115476.0</td>\n      <td>85.0</td>\n      <td>3.616055</td>\n      <td>2.580925</td>\n      <td>3.689398</td>\n      <td>3.561221</td>\n      <td>2.580925</td>\n      <td>1.462398</td>\n      <td>0.301030</td>\n      <td>5</td>\n      <td>0.778151</td>\n      <td>7</td>\n      <td>1</td>\n      <td>0.0</td>\n      <td>1</td>\n      <td>17.490921</td>\n      <td>63</td>\n      <td>456</td>\n      <td>0</td>\n      <td>0</td>\n      <td>0</td>\n      <td>1</td>\n      <td>1</td>\n      <td>0</td>\n      <td>0</td>\n      <td>0.038357</td>\n      <td>0.00000</td>\n      <td>0</td>\n      <td>0</td>\n      <td>0</td>\n      <td>0</td>\n      <td>0</td>\n      <td>1</td>\n      <td>0</td>\n    </tr>\n    <tr>\n      <th>12221</th>\n      <td>Mr. Ryan Glover</td>\n      <td>101172.0</td>\n      <td>25.0</td>\n      <td>3.555215</td>\n      <td>0.000000</td>\n      <td>3.248219</td>\n      <td>1.908485</td>\n      <td>2.257679</td>\n      <td>1.176091</td>\n      <td>0.778151</td>\n      <td>8</td>\n      <td>0.602060</td>\n      <td>8</td>\n      <td>5</td>\n      <td>0.0</td>\n      <td>1</td>\n      <td>12.145689</td>\n      <td>43</td>\n      <td>548</td>\n      <td>1</td>\n      <td>0</td>\n      <td>0</td>\n      <td>0</td>\n      <td>1</td>\n      <td>0</td>\n      <td>0</td>\n      <td>0.022164</td>\n      <td>0.00000</td>\n      <td>2</td>\n      <td>1</td>\n      <td>0</td>\n      <td>0</td>\n      <td>1</td>\n      <td>0</td>\n      <td>0</td>\n    </tr>\n    <tr>\n      <th>21107</th>\n      <td>Mr. Paul Anderson</td>\n      <td>123128.0</td>\n      <td>64.0</td>\n      <td>3.731669</td>\n      <td>3.051924</td>\n      <td>3.977541</td>\n      <td>2.817565</td>\n      <td>2.750508</td>\n      <td>1.875061</td>\n      <td>0.000000</td>\n      <td>4</td>\n      <td>0.903090</td>\n      <td>8</td>\n      <td>5</td>\n      <td>0.0</td>\n      <td>1</td>\n      <td>18.204269</td>\n      <td>52</td>\n      <td>853</td>\n      <td>0</td>\n      <td>1</td>\n      <td>0</td>\n      <td>0</td>\n      <td>0</td>\n      <td>1</td>\n      <td>0</td>\n      <td>0.021341</td>\n      <td>0.60206</td>\n      <td>0</td>\n      <td>0</td>\n      <td>0</td>\n      <td>0</td>\n      <td>1</td>\n      <td>0</td>\n      <td>0</td>\n    </tr>\n    <tr>\n      <th>...</th>\n      <td>...</td>\n      <td>...</td>\n      <td>...</td>\n      <td>...</td>\n      <td>...</td>\n      <td>...</td>\n      <td>...</td>\n      <td>...</td>\n      <td>...</td>\n      <td>...</td>\n      <td>...</td>\n      <td>...</td>\n      <td>...</td>\n      <td>...</td>\n      <td>...</td>\n      <td>...</td>\n      <td>...</td>\n      <td>...</td>\n      <td>...</td>\n      <td>...</td>\n      <td>...</td>\n      <td>...</td>\n      <td>...</td>\n      <td>...</td>\n      <td>...</td>\n      <td>...</td>\n      <td>...</td>\n      <td>...</td>\n      <td>...</td>\n      <td>...</td>\n      <td>...</td>\n      <td>...</td>\n      <td>...</td>\n      <td>...</td>\n      <td>...</td>\n    </tr>\n    <tr>\n      <th>30686</th>\n      <td>Mr. John Hughes</td>\n      <td>98968.0</td>\n      <td>66.0</td>\n      <td>3.958612</td>\n      <td>2.416641</td>\n      <td>3.779308</td>\n      <td>2.416641</td>\n      <td>0.000000</td>\n      <td>1.612784</td>\n      <td>0.301030</td>\n      <td>6</td>\n      <td>0.845098</td>\n      <td>11</td>\n      <td>2</td>\n      <td>0.0</td>\n      <td>1</td>\n      <td>14.183984</td>\n      <td>29</td>\n      <td>491</td>\n      <td>0</td>\n      <td>0</td>\n      <td>0</td>\n      <td>1</td>\n      <td>0</td>\n      <td>0</td>\n      <td>0</td>\n      <td>0.028888</td>\n      <td>0.00000</td>\n      <td>0</td>\n      <td>0</td>\n      <td>1</td>\n      <td>0</td>\n      <td>0</td>\n      <td>0</td>\n      <td>0</td>\n    </tr>\n    <tr>\n      <th>17210</th>\n      <td>Mr. Brandon Simpson</td>\n      <td>109977.0</td>\n      <td>8.0</td>\n      <td>3.768712</td>\n      <td>3.009026</td>\n      <td>4.129400</td>\n      <td>3.579898</td>\n      <td>0.000000</td>\n      <td>1.939519</td>\n      <td>0.301030</td>\n      <td>5</td>\n      <td>0.903090</td>\n      <td>7</td>\n      <td>2</td>\n      <td>0.0</td>\n      <td>1</td>\n      <td>16.426555</td>\n      <td>38</td>\n      <td>943</td>\n      <td>1</td>\n      <td>0</td>\n      <td>0</td>\n      <td>0</td>\n      <td>0</td>\n      <td>0</td>\n      <td>0</td>\n      <td>0.017419</td>\n      <td>0.00000</td>\n      <td>0</td>\n      <td>0</td>\n      <td>0</td>\n      <td>1</td>\n      <td>0</td>\n      <td>0</td>\n      <td>0</td>\n    </tr>\n    <tr>\n      <th>29186</th>\n      <td>Mr. Thomas Churchill</td>\n      <td>56039.0</td>\n      <td>30.0</td>\n      <td>2.733197</td>\n      <td>0.000000</td>\n      <td>2.133539</td>\n      <td>0.000000</td>\n      <td>0.000000</td>\n      <td>0.778151</td>\n      <td>0.477121</td>\n      <td>3</td>\n      <td>0.301030</td>\n      <td>4</td>\n      <td>6</td>\n      <td>0.0</td>\n      <td>1</td>\n      <td>5.644887</td>\n      <td>56</td>\n      <td>484</td>\n      <td>0</td>\n      <td>0</td>\n      <td>0</td>\n      <td>1</td>\n      <td>1</td>\n      <td>0</td>\n      <td>0</td>\n      <td>0.011663</td>\n      <td>0.00000</td>\n      <td>1</td>\n      <td>1</td>\n      <td>0</td>\n      <td>0</td>\n      <td>0</td>\n      <td>1</td>\n      <td>0</td>\n    </tr>\n    <tr>\n      <th>23312</th>\n      <td>Miss Angela Murray</td>\n      <td>44867.0</td>\n      <td>8.0</td>\n      <td>1.908485</td>\n      <td>2.082785</td>\n      <td>2.324282</td>\n      <td>2.082785</td>\n      <td>2.004321</td>\n      <td>1.255273</td>\n      <td>0.301030</td>\n      <td>3</td>\n      <td>0.301030</td>\n      <td>3</td>\n      <td>8</td>\n      <td>0.0</td>\n      <td>0</td>\n      <td>11.657932</td>\n      <td>34</td>\n      <td>882</td>\n      <td>1</td>\n      <td>0</td>\n      <td>0</td>\n      <td>0</td>\n      <td>0</td>\n      <td>1</td>\n      <td>0</td>\n      <td>0.013218</td>\n      <td>0.00000</td>\n      <td>1</td>\n      <td>1</td>\n      <td>0</td>\n      <td>1</td>\n      <td>0</td>\n      <td>0</td>\n      <td>0</td>\n    </tr>\n    <tr>\n      <th>15581</th>\n      <td>Miss Diana Taylor</td>\n      <td>124379.0</td>\n      <td>80.0</td>\n      <td>3.862191</td>\n      <td>2.626340</td>\n      <td>3.228657</td>\n      <td>3.575303</td>\n      <td>3.274389</td>\n      <td>2.372912</td>\n      <td>0.301030</td>\n      <td>6</td>\n      <td>1.113943</td>\n      <td>11</td>\n      <td>2</td>\n      <td>0.0</td>\n      <td>0</td>\n      <td>18.939792</td>\n      <td>63</td>\n      <td>798</td>\n      <td>1</td>\n      <td>0</td>\n      <td>0</td>\n      <td>0</td>\n      <td>0</td>\n      <td>1</td>\n      <td>0</td>\n      <td>0.023734</td>\n      <td>0.60206</td>\n      <td>0</td>\n      <td>0</td>\n      <td>0</td>\n      <td>0</td>\n      <td>0</td>\n      <td>1</td>\n      <td>0</td>\n    </tr>\n  </tbody>\n</table>\n<p>6884 rows × 35 columns</p>\n</div>"
     },
     "execution_count": 507,
     "metadata": {},
     "output_type": "execute_result"
    }
   ],
   "source": [
    "df"
   ],
   "metadata": {
    "collapsed": false
   }
  },
  {
   "cell_type": "markdown",
   "source": [
    "## Incoherencies\n"
   ],
   "metadata": {
    "collapsed": false
   }
  },
  {
   "cell_type": "code",
   "execution_count": 508,
   "outputs": [
    {
     "data": {
      "text/plain": "                               Name   Income  Recency  MntMeat&Fish  \\\nCustomerID                                                            \n6185              Mr. Matt Clarkson   4609.6     32.0      1.301030   \n5318             Mr. Liam MacDonald   3005.4     16.0      0.778151   \n25079             Mr. Harry Dickens   5048.0     64.0      1.146128   \n23297              Mr. Harry Newman   3909.6     29.0      1.113943   \n34565          Miss Jasmine Russell   7644.8     15.0      1.568202   \n5108          Mr. Sebastian Abraham  10724.2     93.0      2.457882   \n18872             Miss Rachel Young   3550.0      4.0      1.544068   \n13388                Mr. Eric Berry   4554.8     99.0      0.778151   \n14084       Mr. Christopher MacLeod   5281.3     17.0      1.079181   \n5366                 Mr. Boris Reid   6065.1     75.0      1.602060   \n31409           Mr. Christian Allan   3746.5     35.0      1.518514   \n30521          Miss Stephanie Terry   3623.7     94.0      1.812913   \n28061                Mr. Adam Black   3133.7     36.0      1.505150   \n10547             Mr. Thomas Slater   3478.0     57.0      1.000000   \n26696           Mr. Charles Pullman   5171.2     89.0      0.778151   \n15911          Miss Pippa Underwood   4472.2     23.0      0.698970   \n12800           Mr. Sebastian Paige   7175.5     53.0      1.968483   \n17996               Mr. Paul Peters   7507.0     97.0      1.716003   \n7127                Mr. Joe Chapman   6324.3     85.0      1.633468   \n22133               Mr. Evan Bailey   7326.0     30.0      1.602060   \n\n            MntEntries  MntVegan&Vegetarian  MntDrinks  MntDesserts  \\\nCustomerID                                                            \n6185          1.041393             1.872156   1.041393     1.462398   \n5318          0.954243             0.929419   0.845098     0.698970   \n25079         0.698970             0.740363   0.000000     0.477121   \n23297         0.000000             0.740363   0.000000     0.000000   \n34565         0.477121             1.966142   1.799341     1.591065   \n5108          2.392697             2.583765   2.143015     1.886491   \n18872         0.000000             1.342423   0.698970     0.477121   \n13388         1.322219             1.311754   0.698970     1.230449   \n14084         1.041393             1.568202   0.845098     1.041393   \n5366          0.477121             1.243038   0.000000     0.698970   \n31409         0.477121             1.986772   1.397940     1.397940   \n30521         1.431364             1.703291   1.653213     1.568202   \n28061         0.477121             1.060698   0.000000     0.477121   \n10547         1.176091             1.531479   1.113943     1.041393   \n26696         0.000000             1.243038   1.322219     1.230449   \n15911         0.845098             0.740363   0.845098     1.176091   \n12800         0.000000             1.929419   0.477121     0.477121   \n17996         0.000000             0.397940   0.000000     0.000000   \n7127          1.041393             2.012837   1.851258     1.826075   \n22133         1.278754             1.585461   1.397940     1.826075   \n\n            MntAdditionalRequests  NumOfferPurchases  NumAppPurchases  \\\nCustomerID                                                              \n6185                     0.623249            1.20412                0   \n5318                     0.301030            0.00000                0   \n25079                    0.000000            1.20412                0   \n23297                    0.113943            1.20412                0   \n34565                    1.152288            1.20412                0   \n5108                     0.518514            0.00000                0   \n18872                    0.079181            0.00000                0   \n13388                    0.414973            1.20412                0   \n14084                    0.146128            0.00000                0   \n5366                     0.342423            1.20412                0   \n31409                    0.977724            1.20412                0   \n30521                    1.089905            1.20412                0   \n28061                    0.518514            0.00000                0   \n10547                    0.278754            0.00000                0   \n26696                    0.462398            1.20412                0   \n15911                    0.146128            0.00000                0   \n12800                    0.301030            1.20412                0   \n17996                    0.113943            1.20412                0   \n7127                     0.681241            1.20412                0   \n22133                    0.301030            0.00000                0   \n\n            NumTakeAwayPurchases  NumStorePurchases  NumAppVisitsMonth  \\\nCustomerID                                                               \n6185                         0.0                  0                 20   \n5318                         0.0                  0                 20   \n25079                        0.0                  0                 20   \n23297                        0.0                  0                 20   \n34565                        0.0                  0                 19   \n5108                         0.0                  0                 19   \n18872                        0.0                  0                 20   \n13388                        0.0                  0                 20   \n14084                        0.0                  0                 19   \n5366                         0.0                  0                 19   \n31409                        0.0                  0                 20   \n30521                        0.0                  0                 20   \n28061                        0.0                  0                 20   \n10547                        0.0                  0                 20   \n26696                        0.0                  0                 20   \n15911                        0.0                  0                 20   \n12800                        0.0                  0                 20   \n17996                        0.0                  0                 19   \n7127                         0.0                  0                 20   \n22133                        0.0                  0                 20   \n\n            Complain  Gender   MntTotal  Age  daysAsCardClient  Graduation  \\\nCustomerID                                                                   \n6185         0.00000       1   7.341619   32               825           0   \n5318         0.00000       1   4.506911   55               807           0   \n25079        0.00000       1   3.062582   64               944           0   \n23297        0.00000       1   1.968249   43               846           1   \n34565        0.00000       0   8.554158   61               654           0   \n5108         0.00000       1  11.982364   33               402           0   \n18872        0.00000       0   4.141763   40               650           0   \n13388        0.00000       1   5.756517   39               810           0   \n14084        0.00000       1   5.721394   29               356           1   \n5366         0.00000       1   4.363612   48               345           0   \n31409        0.00000       1   7.756011   38               946           1   \n30521        0.00000       0   9.258888   68               493           1   \n28061        0.00000       1   4.038604   44               698           1   \n10547        0.00000       1   6.141660   50               370           1   \n26696        0.00000       1   5.036256   63               288           1   \n15911        0.00000       0   4.451748   35               651           1   \n12800        0.00000       1   5.153174   50               849           0   \n17996        0.00000       1   2.227887   64               294           0   \n7127         0.00000       1   9.046273   37               448           0   \n22133        0.30103       1   7.991319   27               748           0   \n\n            HighSchool  Master  PhD  Married  Single  Widow  Mnt_pday_card  \\\nCustomerID                                                                   \n6185                 0       1    0        1       0      0       0.008899   \n5318                 1       0    0        1       0      0       0.005585   \n25079                0       0    1        1       0      0       0.003244   \n23297                0       0    0        1       0      0       0.002327   \n34565                1       0    0        0       1      0       0.013080   \n5108                 0       0    1        1       0      0       0.029807   \n18872                0       0    1        0       1      0       0.006372   \n13388                1       0    0        1       0      0       0.007107   \n14084                0       0    0        0       1      0       0.016071   \n5366                 0       0    1        0       1      0       0.012648   \n31409                0       0    0        0       0      0       0.008199   \n30521                0       0    0        1       0      0       0.018781   \n28061                0       0    0        0       0      0       0.005786   \n10547                0       0    0        1       0      0       0.016599   \n26696                0       0    0        0       0      0       0.017487   \n15911                0       0    0        0       1      0       0.006838   \n12800                0       0    1        1       0      0       0.006070   \n17996                0       0    1        1       0      0       0.007578   \n7127                 1       0    0        0       0      0       0.020193   \n22133                1       0    0        1       0      0       0.010684   \n\n            Response_Campaigns  Total_Kids  has_Kids  age_(17.943, 29.4]  \\\nCustomerID                                                                 \n6185                   0.00000           2         1                   0   \n5318                   0.00000           0         0                   0   \n25079                  0.00000           1         1                   0   \n23297                  0.00000           2         1                   0   \n34565                  0.30103           2         1                   0   \n5108                   0.00000           0         0                   0   \n18872                  0.00000           1         1                   0   \n13388                  0.00000           1         1                   0   \n14084                  0.00000           1         1                   1   \n5366                   0.00000           2         1                   0   \n31409                  0.00000           1         1                   0   \n30521                  0.30103           0         0                   0   \n28061                  0.30103           1         1                   0   \n10547                  0.00000           0         0                   0   \n26696                  0.00000           0         0                   0   \n15911                  0.00000           1         1                   0   \n12800                  0.00000           4         1                   0   \n17996                  0.30103           1         1                   0   \n7127                   0.00000           1         1                   0   \n22133                  0.00000           1         1                   1   \n\n            age_(29.4, 40.8]  age_(40.8, 52.2]  age_(52.2, 63.6]  \\\nCustomerID                                                         \n6185                       1                 0                 0   \n5318                       0                 0                 1   \n25079                      0                 0                 0   \n23297                      0                 1                 0   \n34565                      0                 0                 1   \n5108                       1                 0                 0   \n18872                      1                 0                 0   \n13388                      1                 0                 0   \n14084                      0                 0                 0   \n5366                       0                 1                 0   \n31409                      1                 0                 0   \n30521                      0                 0                 0   \n28061                      0                 1                 0   \n10547                      0                 1                 0   \n26696                      0                 0                 1   \n15911                      1                 0                 0   \n12800                      0                 1                 0   \n17996                      0                 0                 0   \n7127                       1                 0                 0   \n22133                      0                 0                 0   \n\n            age_(63.6, 75.0]  \nCustomerID                    \n6185                       0  \n5318                       0  \n25079                      1  \n23297                      0  \n34565                      0  \n5108                       0  \n18872                      0  \n13388                      0  \n14084                      0  \n5366                       0  \n31409                      0  \n30521                      1  \n28061                      0  \n10547                      0  \n26696                      0  \n15911                      0  \n12800                      0  \n17996                      1  \n7127                       0  \n22133                      0  ",
      "text/html": "<div>\n<style scoped>\n    .dataframe tbody tr th:only-of-type {\n        vertical-align: middle;\n    }\n\n    .dataframe tbody tr th {\n        vertical-align: top;\n    }\n\n    .dataframe thead th {\n        text-align: right;\n    }\n</style>\n<table border=\"1\" class=\"dataframe\">\n  <thead>\n    <tr style=\"text-align: right;\">\n      <th></th>\n      <th>Name</th>\n      <th>Income</th>\n      <th>Recency</th>\n      <th>MntMeat&amp;Fish</th>\n      <th>MntEntries</th>\n      <th>MntVegan&amp;Vegetarian</th>\n      <th>MntDrinks</th>\n      <th>MntDesserts</th>\n      <th>MntAdditionalRequests</th>\n      <th>NumOfferPurchases</th>\n      <th>NumAppPurchases</th>\n      <th>NumTakeAwayPurchases</th>\n      <th>NumStorePurchases</th>\n      <th>NumAppVisitsMonth</th>\n      <th>Complain</th>\n      <th>Gender</th>\n      <th>MntTotal</th>\n      <th>Age</th>\n      <th>daysAsCardClient</th>\n      <th>Graduation</th>\n      <th>HighSchool</th>\n      <th>Master</th>\n      <th>PhD</th>\n      <th>Married</th>\n      <th>Single</th>\n      <th>Widow</th>\n      <th>Mnt_pday_card</th>\n      <th>Response_Campaigns</th>\n      <th>Total_Kids</th>\n      <th>has_Kids</th>\n      <th>age_(17.943, 29.4]</th>\n      <th>age_(29.4, 40.8]</th>\n      <th>age_(40.8, 52.2]</th>\n      <th>age_(52.2, 63.6]</th>\n      <th>age_(63.6, 75.0]</th>\n    </tr>\n    <tr>\n      <th>CustomerID</th>\n      <th></th>\n      <th></th>\n      <th></th>\n      <th></th>\n      <th></th>\n      <th></th>\n      <th></th>\n      <th></th>\n      <th></th>\n      <th></th>\n      <th></th>\n      <th></th>\n      <th></th>\n      <th></th>\n      <th></th>\n      <th></th>\n      <th></th>\n      <th></th>\n      <th></th>\n      <th></th>\n      <th></th>\n      <th></th>\n      <th></th>\n      <th></th>\n      <th></th>\n      <th></th>\n      <th></th>\n      <th></th>\n      <th></th>\n      <th></th>\n      <th></th>\n      <th></th>\n      <th></th>\n      <th></th>\n      <th></th>\n    </tr>\n  </thead>\n  <tbody>\n    <tr>\n      <th>6185</th>\n      <td>Mr. Matt Clarkson</td>\n      <td>4609.6</td>\n      <td>32.0</td>\n      <td>1.301030</td>\n      <td>1.041393</td>\n      <td>1.872156</td>\n      <td>1.041393</td>\n      <td>1.462398</td>\n      <td>0.623249</td>\n      <td>1.20412</td>\n      <td>0</td>\n      <td>0.0</td>\n      <td>0</td>\n      <td>20</td>\n      <td>0.00000</td>\n      <td>1</td>\n      <td>7.341619</td>\n      <td>32</td>\n      <td>825</td>\n      <td>0</td>\n      <td>0</td>\n      <td>1</td>\n      <td>0</td>\n      <td>1</td>\n      <td>0</td>\n      <td>0</td>\n      <td>0.008899</td>\n      <td>0.00000</td>\n      <td>2</td>\n      <td>1</td>\n      <td>0</td>\n      <td>1</td>\n      <td>0</td>\n      <td>0</td>\n      <td>0</td>\n    </tr>\n    <tr>\n      <th>5318</th>\n      <td>Mr. Liam MacDonald</td>\n      <td>3005.4</td>\n      <td>16.0</td>\n      <td>0.778151</td>\n      <td>0.954243</td>\n      <td>0.929419</td>\n      <td>0.845098</td>\n      <td>0.698970</td>\n      <td>0.301030</td>\n      <td>0.00000</td>\n      <td>0</td>\n      <td>0.0</td>\n      <td>0</td>\n      <td>20</td>\n      <td>0.00000</td>\n      <td>1</td>\n      <td>4.506911</td>\n      <td>55</td>\n      <td>807</td>\n      <td>0</td>\n      <td>1</td>\n      <td>0</td>\n      <td>0</td>\n      <td>1</td>\n      <td>0</td>\n      <td>0</td>\n      <td>0.005585</td>\n      <td>0.00000</td>\n      <td>0</td>\n      <td>0</td>\n      <td>0</td>\n      <td>0</td>\n      <td>0</td>\n      <td>1</td>\n      <td>0</td>\n    </tr>\n    <tr>\n      <th>25079</th>\n      <td>Mr. Harry Dickens</td>\n      <td>5048.0</td>\n      <td>64.0</td>\n      <td>1.146128</td>\n      <td>0.698970</td>\n      <td>0.740363</td>\n      <td>0.000000</td>\n      <td>0.477121</td>\n      <td>0.000000</td>\n      <td>1.20412</td>\n      <td>0</td>\n      <td>0.0</td>\n      <td>0</td>\n      <td>20</td>\n      <td>0.00000</td>\n      <td>1</td>\n      <td>3.062582</td>\n      <td>64</td>\n      <td>944</td>\n      <td>0</td>\n      <td>0</td>\n      <td>0</td>\n      <td>1</td>\n      <td>1</td>\n      <td>0</td>\n      <td>0</td>\n      <td>0.003244</td>\n      <td>0.00000</td>\n      <td>1</td>\n      <td>1</td>\n      <td>0</td>\n      <td>0</td>\n      <td>0</td>\n      <td>0</td>\n      <td>1</td>\n    </tr>\n    <tr>\n      <th>23297</th>\n      <td>Mr. Harry Newman</td>\n      <td>3909.6</td>\n      <td>29.0</td>\n      <td>1.113943</td>\n      <td>0.000000</td>\n      <td>0.740363</td>\n      <td>0.000000</td>\n      <td>0.000000</td>\n      <td>0.113943</td>\n      <td>1.20412</td>\n      <td>0</td>\n      <td>0.0</td>\n      <td>0</td>\n      <td>20</td>\n      <td>0.00000</td>\n      <td>1</td>\n      <td>1.968249</td>\n      <td>43</td>\n      <td>846</td>\n      <td>1</td>\n      <td>0</td>\n      <td>0</td>\n      <td>0</td>\n      <td>1</td>\n      <td>0</td>\n      <td>0</td>\n      <td>0.002327</td>\n      <td>0.00000</td>\n      <td>2</td>\n      <td>1</td>\n      <td>0</td>\n      <td>0</td>\n      <td>1</td>\n      <td>0</td>\n      <td>0</td>\n    </tr>\n    <tr>\n      <th>34565</th>\n      <td>Miss Jasmine Russell</td>\n      <td>7644.8</td>\n      <td>15.0</td>\n      <td>1.568202</td>\n      <td>0.477121</td>\n      <td>1.966142</td>\n      <td>1.799341</td>\n      <td>1.591065</td>\n      <td>1.152288</td>\n      <td>1.20412</td>\n      <td>0</td>\n      <td>0.0</td>\n      <td>0</td>\n      <td>19</td>\n      <td>0.00000</td>\n      <td>0</td>\n      <td>8.554158</td>\n      <td>61</td>\n      <td>654</td>\n      <td>0</td>\n      <td>1</td>\n      <td>0</td>\n      <td>0</td>\n      <td>0</td>\n      <td>1</td>\n      <td>0</td>\n      <td>0.013080</td>\n      <td>0.30103</td>\n      <td>2</td>\n      <td>1</td>\n      <td>0</td>\n      <td>0</td>\n      <td>0</td>\n      <td>1</td>\n      <td>0</td>\n    </tr>\n    <tr>\n      <th>5108</th>\n      <td>Mr. Sebastian Abraham</td>\n      <td>10724.2</td>\n      <td>93.0</td>\n      <td>2.457882</td>\n      <td>2.392697</td>\n      <td>2.583765</td>\n      <td>2.143015</td>\n      <td>1.886491</td>\n      <td>0.518514</td>\n      <td>0.00000</td>\n      <td>0</td>\n      <td>0.0</td>\n      <td>0</td>\n      <td>19</td>\n      <td>0.00000</td>\n      <td>1</td>\n      <td>11.982364</td>\n      <td>33</td>\n      <td>402</td>\n      <td>0</td>\n      <td>0</td>\n      <td>0</td>\n      <td>1</td>\n      <td>1</td>\n      <td>0</td>\n      <td>0</td>\n      <td>0.029807</td>\n      <td>0.00000</td>\n      <td>0</td>\n      <td>0</td>\n      <td>0</td>\n      <td>1</td>\n      <td>0</td>\n      <td>0</td>\n      <td>0</td>\n    </tr>\n    <tr>\n      <th>18872</th>\n      <td>Miss Rachel Young</td>\n      <td>3550.0</td>\n      <td>4.0</td>\n      <td>1.544068</td>\n      <td>0.000000</td>\n      <td>1.342423</td>\n      <td>0.698970</td>\n      <td>0.477121</td>\n      <td>0.079181</td>\n      <td>0.00000</td>\n      <td>0</td>\n      <td>0.0</td>\n      <td>0</td>\n      <td>20</td>\n      <td>0.00000</td>\n      <td>0</td>\n      <td>4.141763</td>\n      <td>40</td>\n      <td>650</td>\n      <td>0</td>\n      <td>0</td>\n      <td>0</td>\n      <td>1</td>\n      <td>0</td>\n      <td>1</td>\n      <td>0</td>\n      <td>0.006372</td>\n      <td>0.00000</td>\n      <td>1</td>\n      <td>1</td>\n      <td>0</td>\n      <td>1</td>\n      <td>0</td>\n      <td>0</td>\n      <td>0</td>\n    </tr>\n    <tr>\n      <th>13388</th>\n      <td>Mr. Eric Berry</td>\n      <td>4554.8</td>\n      <td>99.0</td>\n      <td>0.778151</td>\n      <td>1.322219</td>\n      <td>1.311754</td>\n      <td>0.698970</td>\n      <td>1.230449</td>\n      <td>0.414973</td>\n      <td>1.20412</td>\n      <td>0</td>\n      <td>0.0</td>\n      <td>0</td>\n      <td>20</td>\n      <td>0.00000</td>\n      <td>1</td>\n      <td>5.756517</td>\n      <td>39</td>\n      <td>810</td>\n      <td>0</td>\n      <td>1</td>\n      <td>0</td>\n      <td>0</td>\n      <td>1</td>\n      <td>0</td>\n      <td>0</td>\n      <td>0.007107</td>\n      <td>0.00000</td>\n      <td>1</td>\n      <td>1</td>\n      <td>0</td>\n      <td>1</td>\n      <td>0</td>\n      <td>0</td>\n      <td>0</td>\n    </tr>\n    <tr>\n      <th>14084</th>\n      <td>Mr. Christopher MacLeod</td>\n      <td>5281.3</td>\n      <td>17.0</td>\n      <td>1.079181</td>\n      <td>1.041393</td>\n      <td>1.568202</td>\n      <td>0.845098</td>\n      <td>1.041393</td>\n      <td>0.146128</td>\n      <td>0.00000</td>\n      <td>0</td>\n      <td>0.0</td>\n      <td>0</td>\n      <td>19</td>\n      <td>0.00000</td>\n      <td>1</td>\n      <td>5.721394</td>\n      <td>29</td>\n      <td>356</td>\n      <td>1</td>\n      <td>0</td>\n      <td>0</td>\n      <td>0</td>\n      <td>0</td>\n      <td>1</td>\n      <td>0</td>\n      <td>0.016071</td>\n      <td>0.00000</td>\n      <td>1</td>\n      <td>1</td>\n      <td>1</td>\n      <td>0</td>\n      <td>0</td>\n      <td>0</td>\n      <td>0</td>\n    </tr>\n    <tr>\n      <th>5366</th>\n      <td>Mr. Boris Reid</td>\n      <td>6065.1</td>\n      <td>75.0</td>\n      <td>1.602060</td>\n      <td>0.477121</td>\n      <td>1.243038</td>\n      <td>0.000000</td>\n      <td>0.698970</td>\n      <td>0.342423</td>\n      <td>1.20412</td>\n      <td>0</td>\n      <td>0.0</td>\n      <td>0</td>\n      <td>19</td>\n      <td>0.00000</td>\n      <td>1</td>\n      <td>4.363612</td>\n      <td>48</td>\n      <td>345</td>\n      <td>0</td>\n      <td>0</td>\n      <td>0</td>\n      <td>1</td>\n      <td>0</td>\n      <td>1</td>\n      <td>0</td>\n      <td>0.012648</td>\n      <td>0.00000</td>\n      <td>2</td>\n      <td>1</td>\n      <td>0</td>\n      <td>0</td>\n      <td>1</td>\n      <td>0</td>\n      <td>0</td>\n    </tr>\n    <tr>\n      <th>31409</th>\n      <td>Mr. Christian Allan</td>\n      <td>3746.5</td>\n      <td>35.0</td>\n      <td>1.518514</td>\n      <td>0.477121</td>\n      <td>1.986772</td>\n      <td>1.397940</td>\n      <td>1.397940</td>\n      <td>0.977724</td>\n      <td>1.20412</td>\n      <td>0</td>\n      <td>0.0</td>\n      <td>0</td>\n      <td>20</td>\n      <td>0.00000</td>\n      <td>1</td>\n      <td>7.756011</td>\n      <td>38</td>\n      <td>946</td>\n      <td>1</td>\n      <td>0</td>\n      <td>0</td>\n      <td>0</td>\n      <td>0</td>\n      <td>0</td>\n      <td>0</td>\n      <td>0.008199</td>\n      <td>0.00000</td>\n      <td>1</td>\n      <td>1</td>\n      <td>0</td>\n      <td>1</td>\n      <td>0</td>\n      <td>0</td>\n      <td>0</td>\n    </tr>\n    <tr>\n      <th>30521</th>\n      <td>Miss Stephanie Terry</td>\n      <td>3623.7</td>\n      <td>94.0</td>\n      <td>1.812913</td>\n      <td>1.431364</td>\n      <td>1.703291</td>\n      <td>1.653213</td>\n      <td>1.568202</td>\n      <td>1.089905</td>\n      <td>1.20412</td>\n      <td>0</td>\n      <td>0.0</td>\n      <td>0</td>\n      <td>20</td>\n      <td>0.00000</td>\n      <td>0</td>\n      <td>9.258888</td>\n      <td>68</td>\n      <td>493</td>\n      <td>1</td>\n      <td>0</td>\n      <td>0</td>\n      <td>0</td>\n      <td>1</td>\n      <td>0</td>\n      <td>0</td>\n      <td>0.018781</td>\n      <td>0.30103</td>\n      <td>0</td>\n      <td>0</td>\n      <td>0</td>\n      <td>0</td>\n      <td>0</td>\n      <td>0</td>\n      <td>1</td>\n    </tr>\n    <tr>\n      <th>28061</th>\n      <td>Mr. Adam Black</td>\n      <td>3133.7</td>\n      <td>36.0</td>\n      <td>1.505150</td>\n      <td>0.477121</td>\n      <td>1.060698</td>\n      <td>0.000000</td>\n      <td>0.477121</td>\n      <td>0.518514</td>\n      <td>0.00000</td>\n      <td>0</td>\n      <td>0.0</td>\n      <td>0</td>\n      <td>20</td>\n      <td>0.00000</td>\n      <td>1</td>\n      <td>4.038604</td>\n      <td>44</td>\n      <td>698</td>\n      <td>1</td>\n      <td>0</td>\n      <td>0</td>\n      <td>0</td>\n      <td>0</td>\n      <td>0</td>\n      <td>0</td>\n      <td>0.005786</td>\n      <td>0.30103</td>\n      <td>1</td>\n      <td>1</td>\n      <td>0</td>\n      <td>0</td>\n      <td>1</td>\n      <td>0</td>\n      <td>0</td>\n    </tr>\n    <tr>\n      <th>10547</th>\n      <td>Mr. Thomas Slater</td>\n      <td>3478.0</td>\n      <td>57.0</td>\n      <td>1.000000</td>\n      <td>1.176091</td>\n      <td>1.531479</td>\n      <td>1.113943</td>\n      <td>1.041393</td>\n      <td>0.278754</td>\n      <td>0.00000</td>\n      <td>0</td>\n      <td>0.0</td>\n      <td>0</td>\n      <td>20</td>\n      <td>0.00000</td>\n      <td>1</td>\n      <td>6.141660</td>\n      <td>50</td>\n      <td>370</td>\n      <td>1</td>\n      <td>0</td>\n      <td>0</td>\n      <td>0</td>\n      <td>1</td>\n      <td>0</td>\n      <td>0</td>\n      <td>0.016599</td>\n      <td>0.00000</td>\n      <td>0</td>\n      <td>0</td>\n      <td>0</td>\n      <td>0</td>\n      <td>1</td>\n      <td>0</td>\n      <td>0</td>\n    </tr>\n    <tr>\n      <th>26696</th>\n      <td>Mr. Charles Pullman</td>\n      <td>5171.2</td>\n      <td>89.0</td>\n      <td>0.778151</td>\n      <td>0.000000</td>\n      <td>1.243038</td>\n      <td>1.322219</td>\n      <td>1.230449</td>\n      <td>0.462398</td>\n      <td>1.20412</td>\n      <td>0</td>\n      <td>0.0</td>\n      <td>0</td>\n      <td>20</td>\n      <td>0.00000</td>\n      <td>1</td>\n      <td>5.036256</td>\n      <td>63</td>\n      <td>288</td>\n      <td>1</td>\n      <td>0</td>\n      <td>0</td>\n      <td>0</td>\n      <td>0</td>\n      <td>0</td>\n      <td>0</td>\n      <td>0.017487</td>\n      <td>0.00000</td>\n      <td>0</td>\n      <td>0</td>\n      <td>0</td>\n      <td>0</td>\n      <td>0</td>\n      <td>1</td>\n      <td>0</td>\n    </tr>\n    <tr>\n      <th>15911</th>\n      <td>Miss Pippa Underwood</td>\n      <td>4472.2</td>\n      <td>23.0</td>\n      <td>0.698970</td>\n      <td>0.845098</td>\n      <td>0.740363</td>\n      <td>0.845098</td>\n      <td>1.176091</td>\n      <td>0.146128</td>\n      <td>0.00000</td>\n      <td>0</td>\n      <td>0.0</td>\n      <td>0</td>\n      <td>20</td>\n      <td>0.00000</td>\n      <td>0</td>\n      <td>4.451748</td>\n      <td>35</td>\n      <td>651</td>\n      <td>1</td>\n      <td>0</td>\n      <td>0</td>\n      <td>0</td>\n      <td>0</td>\n      <td>1</td>\n      <td>0</td>\n      <td>0.006838</td>\n      <td>0.00000</td>\n      <td>1</td>\n      <td>1</td>\n      <td>0</td>\n      <td>1</td>\n      <td>0</td>\n      <td>0</td>\n      <td>0</td>\n    </tr>\n    <tr>\n      <th>12800</th>\n      <td>Mr. Sebastian Paige</td>\n      <td>7175.5</td>\n      <td>53.0</td>\n      <td>1.968483</td>\n      <td>0.000000</td>\n      <td>1.929419</td>\n      <td>0.477121</td>\n      <td>0.477121</td>\n      <td>0.301030</td>\n      <td>1.20412</td>\n      <td>0</td>\n      <td>0.0</td>\n      <td>0</td>\n      <td>20</td>\n      <td>0.00000</td>\n      <td>1</td>\n      <td>5.153174</td>\n      <td>50</td>\n      <td>849</td>\n      <td>0</td>\n      <td>0</td>\n      <td>0</td>\n      <td>1</td>\n      <td>1</td>\n      <td>0</td>\n      <td>0</td>\n      <td>0.006070</td>\n      <td>0.00000</td>\n      <td>4</td>\n      <td>1</td>\n      <td>0</td>\n      <td>0</td>\n      <td>1</td>\n      <td>0</td>\n      <td>0</td>\n    </tr>\n    <tr>\n      <th>17996</th>\n      <td>Mr. Paul Peters</td>\n      <td>7507.0</td>\n      <td>97.0</td>\n      <td>1.716003</td>\n      <td>0.000000</td>\n      <td>0.397940</td>\n      <td>0.000000</td>\n      <td>0.000000</td>\n      <td>0.113943</td>\n      <td>1.20412</td>\n      <td>0</td>\n      <td>0.0</td>\n      <td>0</td>\n      <td>19</td>\n      <td>0.00000</td>\n      <td>1</td>\n      <td>2.227887</td>\n      <td>64</td>\n      <td>294</td>\n      <td>0</td>\n      <td>0</td>\n      <td>0</td>\n      <td>1</td>\n      <td>1</td>\n      <td>0</td>\n      <td>0</td>\n      <td>0.007578</td>\n      <td>0.30103</td>\n      <td>1</td>\n      <td>1</td>\n      <td>0</td>\n      <td>0</td>\n      <td>0</td>\n      <td>0</td>\n      <td>1</td>\n    </tr>\n    <tr>\n      <th>7127</th>\n      <td>Mr. Joe Chapman</td>\n      <td>6324.3</td>\n      <td>85.0</td>\n      <td>1.633468</td>\n      <td>1.041393</td>\n      <td>2.012837</td>\n      <td>1.851258</td>\n      <td>1.826075</td>\n      <td>0.681241</td>\n      <td>1.20412</td>\n      <td>0</td>\n      <td>0.0</td>\n      <td>0</td>\n      <td>20</td>\n      <td>0.00000</td>\n      <td>1</td>\n      <td>9.046273</td>\n      <td>37</td>\n      <td>448</td>\n      <td>0</td>\n      <td>1</td>\n      <td>0</td>\n      <td>0</td>\n      <td>0</td>\n      <td>0</td>\n      <td>0</td>\n      <td>0.020193</td>\n      <td>0.00000</td>\n      <td>1</td>\n      <td>1</td>\n      <td>0</td>\n      <td>1</td>\n      <td>0</td>\n      <td>0</td>\n      <td>0</td>\n    </tr>\n    <tr>\n      <th>22133</th>\n      <td>Mr. Evan Bailey</td>\n      <td>7326.0</td>\n      <td>30.0</td>\n      <td>1.602060</td>\n      <td>1.278754</td>\n      <td>1.585461</td>\n      <td>1.397940</td>\n      <td>1.826075</td>\n      <td>0.301030</td>\n      <td>0.00000</td>\n      <td>0</td>\n      <td>0.0</td>\n      <td>0</td>\n      <td>20</td>\n      <td>0.30103</td>\n      <td>1</td>\n      <td>7.991319</td>\n      <td>27</td>\n      <td>748</td>\n      <td>0</td>\n      <td>1</td>\n      <td>0</td>\n      <td>0</td>\n      <td>1</td>\n      <td>0</td>\n      <td>0</td>\n      <td>0.010684</td>\n      <td>0.00000</td>\n      <td>1</td>\n      <td>1</td>\n      <td>1</td>\n      <td>0</td>\n      <td>0</td>\n      <td>0</td>\n      <td>0</td>\n    </tr>\n  </tbody>\n</table>\n</div>"
     },
     "execution_count": 508,
     "metadata": {},
     "output_type": "execute_result"
    }
   ],
   "source": [
    "df[(df[['MntMeat&Fish', 'MntEntries',\n",
    "        'MntVegan&Vegetarian', 'MntDrinks', 'MntDesserts',\n",
    "        'MntAdditionalRequests']].sum(axis = 1) > 0) & (df[['NumAppPurchases', 'NumTakeAwayPurchases', 'NumStorePurchases']].sum(axis = 1) <= 0)]"
   ],
   "metadata": {
    "collapsed": false
   }
  },
  {
   "cell_type": "code",
   "execution_count": 509,
   "outputs": [],
   "source": [
    "# como justificar a atribuição de [0,0,0,0,0,0] às variaveis de monetary?\n",
    "\n",
    "df.loc[(df[['MntMeat&Fish', 'MntEntries',\n",
    "            'MntVegan&Vegetarian', 'MntDrinks', 'MntDesserts',\n",
    "            'MntAdditionalRequests']].sum(axis = 1) > 0) & (df[['NumAppPurchases', 'NumTakeAwayPurchases', 'NumStorePurchases']].sum(axis = 1) <= 0),['MntMeat&Fish','MntEntries','MntVegan&Vegetarian', 'MntDrinks', 'MntDesserts','MntAdditionalRequests']] = [0,0,0,0,0,0]"
   ],
   "metadata": {
    "collapsed": false
   }
  },
  {
   "cell_type": "code",
   "execution_count": 510,
   "outputs": [
    {
     "data": {
      "text/plain": "Empty DataFrame\nColumns: [Name, Income, Recency, MntMeat&Fish, MntEntries, MntVegan&Vegetarian, MntDrinks, MntDesserts, MntAdditionalRequests, NumOfferPurchases, NumAppPurchases, NumTakeAwayPurchases, NumStorePurchases, NumAppVisitsMonth, Complain, Gender, MntTotal, Age, daysAsCardClient, Graduation, HighSchool, Master, PhD, Married, Single, Widow, Mnt_pday_card, Response_Campaigns, Total_Kids, has_Kids, age_(17.943, 29.4], age_(29.4, 40.8], age_(40.8, 52.2], age_(52.2, 63.6], age_(63.6, 75.0]]\nIndex: []",
      "text/html": "<div>\n<style scoped>\n    .dataframe tbody tr th:only-of-type {\n        vertical-align: middle;\n    }\n\n    .dataframe tbody tr th {\n        vertical-align: top;\n    }\n\n    .dataframe thead th {\n        text-align: right;\n    }\n</style>\n<table border=\"1\" class=\"dataframe\">\n  <thead>\n    <tr style=\"text-align: right;\">\n      <th></th>\n      <th>Name</th>\n      <th>Income</th>\n      <th>Recency</th>\n      <th>MntMeat&amp;Fish</th>\n      <th>MntEntries</th>\n      <th>MntVegan&amp;Vegetarian</th>\n      <th>MntDrinks</th>\n      <th>MntDesserts</th>\n      <th>MntAdditionalRequests</th>\n      <th>NumOfferPurchases</th>\n      <th>NumAppPurchases</th>\n      <th>NumTakeAwayPurchases</th>\n      <th>NumStorePurchases</th>\n      <th>NumAppVisitsMonth</th>\n      <th>Complain</th>\n      <th>Gender</th>\n      <th>MntTotal</th>\n      <th>Age</th>\n      <th>daysAsCardClient</th>\n      <th>Graduation</th>\n      <th>HighSchool</th>\n      <th>Master</th>\n      <th>PhD</th>\n      <th>Married</th>\n      <th>Single</th>\n      <th>Widow</th>\n      <th>Mnt_pday_card</th>\n      <th>Response_Campaigns</th>\n      <th>Total_Kids</th>\n      <th>has_Kids</th>\n      <th>age_(17.943, 29.4]</th>\n      <th>age_(29.4, 40.8]</th>\n      <th>age_(40.8, 52.2]</th>\n      <th>age_(52.2, 63.6]</th>\n      <th>age_(63.6, 75.0]</th>\n    </tr>\n    <tr>\n      <th>CustomerID</th>\n      <th></th>\n      <th></th>\n      <th></th>\n      <th></th>\n      <th></th>\n      <th></th>\n      <th></th>\n      <th></th>\n      <th></th>\n      <th></th>\n      <th></th>\n      <th></th>\n      <th></th>\n      <th></th>\n      <th></th>\n      <th></th>\n      <th></th>\n      <th></th>\n      <th></th>\n      <th></th>\n      <th></th>\n      <th></th>\n      <th></th>\n      <th></th>\n      <th></th>\n      <th></th>\n      <th></th>\n      <th></th>\n      <th></th>\n      <th></th>\n      <th></th>\n      <th></th>\n      <th></th>\n      <th></th>\n      <th></th>\n    </tr>\n  </thead>\n  <tbody>\n  </tbody>\n</table>\n</div>"
     },
     "execution_count": 510,
     "metadata": {},
     "output_type": "execute_result"
    }
   ],
   "source": [
    "df[(df[['MntMeat&Fish', 'MntEntries',\n",
    "        'MntVegan&Vegetarian', 'MntDrinks', 'MntDesserts',\n",
    "        'MntAdditionalRequests']].sum(axis = 1) > 0) & (df[['NumAppPurchases', 'NumTakeAwayPurchases', 'NumStorePurchases']].sum(axis = 1) <= 0)] # confirmação do ajuste"
   ],
   "metadata": {
    "collapsed": false
   }
  },
  {
   "cell_type": "code",
   "execution_count": 511,
   "outputs": [
    {
     "data": {
      "text/plain": "                             Name  Income  Recency  MntMeat&Fish  MntEntries  \\\nCustomerID                                                                     \n6185            Mr. Matt Clarkson  4609.6     32.0      0.000000    0.000000   \n12011             Mr. Keith Mills  8503.6     70.0      3.019947    0.000000   \n31391          Mr. Justin Forsyth  9709.1     26.0      2.484300    2.267172   \n25079           Mr. Harry Dickens  5048.0     64.0      0.000000    0.000000   \n23297            Mr. Harry Newman  3909.6     29.0      0.000000    0.000000   \n34565        Miss Jasmine Russell  7644.8     15.0      0.000000    0.000000   \n13388              Mr. Eric Berry  4554.8     99.0      0.000000    0.000000   \n5366               Mr. Boris Reid  6065.1     75.0      0.000000    0.000000   \n31409         Mr. Christian Allan  3746.5     35.0      0.000000    0.000000   \n27335             Mr. Alan Mathis  7984.8     72.0      2.152288    0.477121   \n30521        Miss Stephanie Terry  3623.7     94.0      0.000000    0.000000   \n23030            Miss Lily Gibson  9153.4     74.0      2.120574    1.875061   \n26696         Mr. Charles Pullman  5171.2     89.0      0.000000    0.000000   \n12800         Mr. Sebastian Paige  7175.5     53.0      0.000000    0.000000   \n17996             Mr. Paul Peters  7507.0     97.0      0.000000    0.000000   \n21251       Miss Kimberly Ellison  7298.2     20.0      2.336460    1.322219   \n7127              Mr. Joe Chapman  6324.3     85.0      0.000000    0.000000   \n\n            MntVegan&Vegetarian  MntDrinks  MntDesserts  \\\nCustomerID                                                \n6185                   0.000000   0.000000     0.000000   \n12011                  1.511883   0.000000     0.000000   \n31391                  2.425697   2.232996     1.995635   \n25079                  0.000000   0.000000     0.000000   \n23297                  0.000000   0.000000     0.000000   \n34565                  0.000000   0.000000     0.000000   \n13388                  0.000000   0.000000     0.000000   \n5366                   0.000000   0.000000     0.000000   \n31409                  0.000000   0.000000     0.000000   \n27335                  1.648360   0.000000     1.431364   \n30521                  0.000000   0.000000     0.000000   \n23030                  2.138303   2.004321     1.672098   \n26696                  0.000000   0.000000     0.000000   \n12800                  0.000000   0.000000     0.000000   \n17996                  0.000000   0.000000     0.000000   \n21251                  2.187521   1.113943     1.113943   \n7127                   0.000000   0.000000     0.000000   \n\n            MntAdditionalRequests  NumOfferPurchases  NumAppPurchases  \\\nCustomerID                                                              \n6185                     0.000000            1.20412                0   \n12011                    1.143015            1.20412                0   \n31391                    0.770852            1.20412                0   \n25079                    0.000000            1.20412                0   \n23297                    0.000000            1.20412                0   \n34565                    0.000000            1.20412                0   \n13388                    0.000000            1.20412                0   \n5366                     0.000000            1.20412                0   \n31409                    0.000000            1.20412                0   \n27335                    0.716003            1.20412                1   \n30521                    0.000000            1.20412                0   \n23030                    0.602060            1.20412                0   \n26696                    0.000000            1.20412                0   \n12800                    0.000000            1.20412                0   \n17996                    0.000000            1.20412                0   \n21251                    0.732394            1.20412                1   \n7127                     0.000000            1.20412                0   \n\n            NumTakeAwayPurchases  NumStorePurchases  NumAppVisitsMonth  \\\nCustomerID                                                               \n6185                         0.0                  0                 20   \n12011                        0.0                  1                 20   \n31391                        0.0                  1                 19   \n25079                        0.0                  0                 20   \n23297                        0.0                  0                 20   \n34565                        0.0                  0                 19   \n13388                        0.0                  0                 20   \n5366                         0.0                  0                 19   \n31409                        0.0                  0                 20   \n27335                        0.0                  0                 20   \n30521                        0.0                  0                 20   \n23030                        0.0                  1                 19   \n26696                        0.0                  0                 20   \n12800                        0.0                  0                 20   \n17996                        0.0                  0                 19   \n21251                        0.0                  0                 20   \n7127                         0.0                  0                 20   \n\n            Complain  Gender   MntTotal  Age  daysAsCardClient  Graduation  \\\nCustomerID                                                                   \n6185             0.0       1   7.341619   32               825           0   \n12011            0.0       1   5.674845   56               405           1   \n31391            0.0       1  12.176652   65               434           0   \n25079            0.0       1   3.062582   64               944           0   \n23297            0.0       1   1.968249   43               846           1   \n34565            0.0       0   8.554158   61               654           0   \n13388            0.0       1   5.756517   39               810           0   \n5366             0.0       1   4.363612   48               345           0   \n31409            0.0       1   7.756011   38               946           1   \n27335            0.0       1   6.425137   39               689           1   \n30521            0.0       0   9.258888   68               493           1   \n23030            0.0       0  10.412417   57               464           0   \n26696            0.0       1   5.036256   63               288           1   \n12800            0.0       1   5.153174   50               849           0   \n17996            0.0       1   2.227887   64               294           0   \n21251            0.0       0   8.806480   53               925           1   \n7127             0.0       1   9.046273   37               448           0   \n\n            HighSchool  Master  PhD  Married  Single  Widow  Mnt_pday_card  \\\nCustomerID                                                                   \n6185                 0       1    0        1       0      0       0.008899   \n12011                0       0    0        1       0      0       0.014012   \n31391                0       0    1        0       0      1       0.028057   \n25079                0       0    1        1       0      0       0.003244   \n23297                0       0    0        1       0      0       0.002327   \n34565                1       0    0        0       1      0       0.013080   \n13388                1       0    0        1       0      0       0.007107   \n5366                 0       0    1        0       1      0       0.012648   \n31409                0       0    0        0       0      0       0.008199   \n27335                0       0    0        1       0      0       0.009325   \n30521                0       0    0        1       0      0       0.018781   \n23030                1       0    0        0       1      0       0.022441   \n26696                0       0    0        0       0      0       0.017487   \n12800                0       0    1        1       0      0       0.006070   \n17996                0       0    1        1       0      0       0.007578   \n21251                0       0    0        1       0      0       0.009521   \n7127                 1       0    0        0       0      0       0.020193   \n\n            Response_Campaigns  Total_Kids  has_Kids  age_(17.943, 29.4]  \\\nCustomerID                                                                 \n6185                   0.00000           2         1                   0   \n12011                  0.90309           0         0                   0   \n31391                  0.00000           0         0                   0   \n25079                  0.00000           1         1                   0   \n23297                  0.00000           2         1                   0   \n34565                  0.30103           2         1                   0   \n13388                  0.00000           1         1                   0   \n5366                   0.00000           2         1                   0   \n31409                  0.00000           1         1                   0   \n27335                  0.00000           2         1                   0   \n30521                  0.30103           0         0                   0   \n23030                  0.00000           1         1                   0   \n26696                  0.00000           0         0                   0   \n12800                  0.00000           4         1                   0   \n17996                  0.30103           1         1                   0   \n21251                  0.00000           1         1                   0   \n7127                   0.00000           1         1                   0   \n\n            age_(29.4, 40.8]  age_(40.8, 52.2]  age_(52.2, 63.6]  \\\nCustomerID                                                         \n6185                       1                 0                 0   \n12011                      0                 0                 1   \n31391                      0                 0                 0   \n25079                      0                 0                 0   \n23297                      0                 1                 0   \n34565                      0                 0                 1   \n13388                      1                 0                 0   \n5366                       0                 1                 0   \n31409                      1                 0                 0   \n27335                      1                 0                 0   \n30521                      0                 0                 0   \n23030                      0                 0                 1   \n26696                      0                 0                 1   \n12800                      0                 1                 0   \n17996                      0                 0                 0   \n21251                      0                 0                 1   \n7127                       1                 0                 0   \n\n            age_(63.6, 75.0]  \nCustomerID                    \n6185                       0  \n12011                      0  \n31391                      1  \n25079                      1  \n23297                      0  \n34565                      0  \n13388                      0  \n5366                       0  \n31409                      0  \n27335                      0  \n30521                      1  \n23030                      0  \n26696                      0  \n12800                      0  \n17996                      1  \n21251                      0  \n7127                       0  ",
      "text/html": "<div>\n<style scoped>\n    .dataframe tbody tr th:only-of-type {\n        vertical-align: middle;\n    }\n\n    .dataframe tbody tr th {\n        vertical-align: top;\n    }\n\n    .dataframe thead th {\n        text-align: right;\n    }\n</style>\n<table border=\"1\" class=\"dataframe\">\n  <thead>\n    <tr style=\"text-align: right;\">\n      <th></th>\n      <th>Name</th>\n      <th>Income</th>\n      <th>Recency</th>\n      <th>MntMeat&amp;Fish</th>\n      <th>MntEntries</th>\n      <th>MntVegan&amp;Vegetarian</th>\n      <th>MntDrinks</th>\n      <th>MntDesserts</th>\n      <th>MntAdditionalRequests</th>\n      <th>NumOfferPurchases</th>\n      <th>NumAppPurchases</th>\n      <th>NumTakeAwayPurchases</th>\n      <th>NumStorePurchases</th>\n      <th>NumAppVisitsMonth</th>\n      <th>Complain</th>\n      <th>Gender</th>\n      <th>MntTotal</th>\n      <th>Age</th>\n      <th>daysAsCardClient</th>\n      <th>Graduation</th>\n      <th>HighSchool</th>\n      <th>Master</th>\n      <th>PhD</th>\n      <th>Married</th>\n      <th>Single</th>\n      <th>Widow</th>\n      <th>Mnt_pday_card</th>\n      <th>Response_Campaigns</th>\n      <th>Total_Kids</th>\n      <th>has_Kids</th>\n      <th>age_(17.943, 29.4]</th>\n      <th>age_(29.4, 40.8]</th>\n      <th>age_(40.8, 52.2]</th>\n      <th>age_(52.2, 63.6]</th>\n      <th>age_(63.6, 75.0]</th>\n    </tr>\n    <tr>\n      <th>CustomerID</th>\n      <th></th>\n      <th></th>\n      <th></th>\n      <th></th>\n      <th></th>\n      <th></th>\n      <th></th>\n      <th></th>\n      <th></th>\n      <th></th>\n      <th></th>\n      <th></th>\n      <th></th>\n      <th></th>\n      <th></th>\n      <th></th>\n      <th></th>\n      <th></th>\n      <th></th>\n      <th></th>\n      <th></th>\n      <th></th>\n      <th></th>\n      <th></th>\n      <th></th>\n      <th></th>\n      <th></th>\n      <th></th>\n      <th></th>\n      <th></th>\n      <th></th>\n      <th></th>\n      <th></th>\n      <th></th>\n      <th></th>\n    </tr>\n  </thead>\n  <tbody>\n    <tr>\n      <th>6185</th>\n      <td>Mr. Matt Clarkson</td>\n      <td>4609.6</td>\n      <td>32.0</td>\n      <td>0.000000</td>\n      <td>0.000000</td>\n      <td>0.000000</td>\n      <td>0.000000</td>\n      <td>0.000000</td>\n      <td>0.000000</td>\n      <td>1.20412</td>\n      <td>0</td>\n      <td>0.0</td>\n      <td>0</td>\n      <td>20</td>\n      <td>0.0</td>\n      <td>1</td>\n      <td>7.341619</td>\n      <td>32</td>\n      <td>825</td>\n      <td>0</td>\n      <td>0</td>\n      <td>1</td>\n      <td>0</td>\n      <td>1</td>\n      <td>0</td>\n      <td>0</td>\n      <td>0.008899</td>\n      <td>0.00000</td>\n      <td>2</td>\n      <td>1</td>\n      <td>0</td>\n      <td>1</td>\n      <td>0</td>\n      <td>0</td>\n      <td>0</td>\n    </tr>\n    <tr>\n      <th>12011</th>\n      <td>Mr. Keith Mills</td>\n      <td>8503.6</td>\n      <td>70.0</td>\n      <td>3.019947</td>\n      <td>0.000000</td>\n      <td>1.511883</td>\n      <td>0.000000</td>\n      <td>0.000000</td>\n      <td>1.143015</td>\n      <td>1.20412</td>\n      <td>0</td>\n      <td>0.0</td>\n      <td>1</td>\n      <td>20</td>\n      <td>0.0</td>\n      <td>1</td>\n      <td>5.674845</td>\n      <td>56</td>\n      <td>405</td>\n      <td>1</td>\n      <td>0</td>\n      <td>0</td>\n      <td>0</td>\n      <td>1</td>\n      <td>0</td>\n      <td>0</td>\n      <td>0.014012</td>\n      <td>0.90309</td>\n      <td>0</td>\n      <td>0</td>\n      <td>0</td>\n      <td>0</td>\n      <td>0</td>\n      <td>1</td>\n      <td>0</td>\n    </tr>\n    <tr>\n      <th>31391</th>\n      <td>Mr. Justin Forsyth</td>\n      <td>9709.1</td>\n      <td>26.0</td>\n      <td>2.484300</td>\n      <td>2.267172</td>\n      <td>2.425697</td>\n      <td>2.232996</td>\n      <td>1.995635</td>\n      <td>0.770852</td>\n      <td>1.20412</td>\n      <td>0</td>\n      <td>0.0</td>\n      <td>1</td>\n      <td>19</td>\n      <td>0.0</td>\n      <td>1</td>\n      <td>12.176652</td>\n      <td>65</td>\n      <td>434</td>\n      <td>0</td>\n      <td>0</td>\n      <td>0</td>\n      <td>1</td>\n      <td>0</td>\n      <td>0</td>\n      <td>1</td>\n      <td>0.028057</td>\n      <td>0.00000</td>\n      <td>0</td>\n      <td>0</td>\n      <td>0</td>\n      <td>0</td>\n      <td>0</td>\n      <td>0</td>\n      <td>1</td>\n    </tr>\n    <tr>\n      <th>25079</th>\n      <td>Mr. Harry Dickens</td>\n      <td>5048.0</td>\n      <td>64.0</td>\n      <td>0.000000</td>\n      <td>0.000000</td>\n      <td>0.000000</td>\n      <td>0.000000</td>\n      <td>0.000000</td>\n      <td>0.000000</td>\n      <td>1.20412</td>\n      <td>0</td>\n      <td>0.0</td>\n      <td>0</td>\n      <td>20</td>\n      <td>0.0</td>\n      <td>1</td>\n      <td>3.062582</td>\n      <td>64</td>\n      <td>944</td>\n      <td>0</td>\n      <td>0</td>\n      <td>0</td>\n      <td>1</td>\n      <td>1</td>\n      <td>0</td>\n      <td>0</td>\n      <td>0.003244</td>\n      <td>0.00000</td>\n      <td>1</td>\n      <td>1</td>\n      <td>0</td>\n      <td>0</td>\n      <td>0</td>\n      <td>0</td>\n      <td>1</td>\n    </tr>\n    <tr>\n      <th>23297</th>\n      <td>Mr. Harry Newman</td>\n      <td>3909.6</td>\n      <td>29.0</td>\n      <td>0.000000</td>\n      <td>0.000000</td>\n      <td>0.000000</td>\n      <td>0.000000</td>\n      <td>0.000000</td>\n      <td>0.000000</td>\n      <td>1.20412</td>\n      <td>0</td>\n      <td>0.0</td>\n      <td>0</td>\n      <td>20</td>\n      <td>0.0</td>\n      <td>1</td>\n      <td>1.968249</td>\n      <td>43</td>\n      <td>846</td>\n      <td>1</td>\n      <td>0</td>\n      <td>0</td>\n      <td>0</td>\n      <td>1</td>\n      <td>0</td>\n      <td>0</td>\n      <td>0.002327</td>\n      <td>0.00000</td>\n      <td>2</td>\n      <td>1</td>\n      <td>0</td>\n      <td>0</td>\n      <td>1</td>\n      <td>0</td>\n      <td>0</td>\n    </tr>\n    <tr>\n      <th>34565</th>\n      <td>Miss Jasmine Russell</td>\n      <td>7644.8</td>\n      <td>15.0</td>\n      <td>0.000000</td>\n      <td>0.000000</td>\n      <td>0.000000</td>\n      <td>0.000000</td>\n      <td>0.000000</td>\n      <td>0.000000</td>\n      <td>1.20412</td>\n      <td>0</td>\n      <td>0.0</td>\n      <td>0</td>\n      <td>19</td>\n      <td>0.0</td>\n      <td>0</td>\n      <td>8.554158</td>\n      <td>61</td>\n      <td>654</td>\n      <td>0</td>\n      <td>1</td>\n      <td>0</td>\n      <td>0</td>\n      <td>0</td>\n      <td>1</td>\n      <td>0</td>\n      <td>0.013080</td>\n      <td>0.30103</td>\n      <td>2</td>\n      <td>1</td>\n      <td>0</td>\n      <td>0</td>\n      <td>0</td>\n      <td>1</td>\n      <td>0</td>\n    </tr>\n    <tr>\n      <th>13388</th>\n      <td>Mr. Eric Berry</td>\n      <td>4554.8</td>\n      <td>99.0</td>\n      <td>0.000000</td>\n      <td>0.000000</td>\n      <td>0.000000</td>\n      <td>0.000000</td>\n      <td>0.000000</td>\n      <td>0.000000</td>\n      <td>1.20412</td>\n      <td>0</td>\n      <td>0.0</td>\n      <td>0</td>\n      <td>20</td>\n      <td>0.0</td>\n      <td>1</td>\n      <td>5.756517</td>\n      <td>39</td>\n      <td>810</td>\n      <td>0</td>\n      <td>1</td>\n      <td>0</td>\n      <td>0</td>\n      <td>1</td>\n      <td>0</td>\n      <td>0</td>\n      <td>0.007107</td>\n      <td>0.00000</td>\n      <td>1</td>\n      <td>1</td>\n      <td>0</td>\n      <td>1</td>\n      <td>0</td>\n      <td>0</td>\n      <td>0</td>\n    </tr>\n    <tr>\n      <th>5366</th>\n      <td>Mr. Boris Reid</td>\n      <td>6065.1</td>\n      <td>75.0</td>\n      <td>0.000000</td>\n      <td>0.000000</td>\n      <td>0.000000</td>\n      <td>0.000000</td>\n      <td>0.000000</td>\n      <td>0.000000</td>\n      <td>1.20412</td>\n      <td>0</td>\n      <td>0.0</td>\n      <td>0</td>\n      <td>19</td>\n      <td>0.0</td>\n      <td>1</td>\n      <td>4.363612</td>\n      <td>48</td>\n      <td>345</td>\n      <td>0</td>\n      <td>0</td>\n      <td>0</td>\n      <td>1</td>\n      <td>0</td>\n      <td>1</td>\n      <td>0</td>\n      <td>0.012648</td>\n      <td>0.00000</td>\n      <td>2</td>\n      <td>1</td>\n      <td>0</td>\n      <td>0</td>\n      <td>1</td>\n      <td>0</td>\n      <td>0</td>\n    </tr>\n    <tr>\n      <th>31409</th>\n      <td>Mr. Christian Allan</td>\n      <td>3746.5</td>\n      <td>35.0</td>\n      <td>0.000000</td>\n      <td>0.000000</td>\n      <td>0.000000</td>\n      <td>0.000000</td>\n      <td>0.000000</td>\n      <td>0.000000</td>\n      <td>1.20412</td>\n      <td>0</td>\n      <td>0.0</td>\n      <td>0</td>\n      <td>20</td>\n      <td>0.0</td>\n      <td>1</td>\n      <td>7.756011</td>\n      <td>38</td>\n      <td>946</td>\n      <td>1</td>\n      <td>0</td>\n      <td>0</td>\n      <td>0</td>\n      <td>0</td>\n      <td>0</td>\n      <td>0</td>\n      <td>0.008199</td>\n      <td>0.00000</td>\n      <td>1</td>\n      <td>1</td>\n      <td>0</td>\n      <td>1</td>\n      <td>0</td>\n      <td>0</td>\n      <td>0</td>\n    </tr>\n    <tr>\n      <th>27335</th>\n      <td>Mr. Alan Mathis</td>\n      <td>7984.8</td>\n      <td>72.0</td>\n      <td>2.152288</td>\n      <td>0.477121</td>\n      <td>1.648360</td>\n      <td>0.000000</td>\n      <td>1.431364</td>\n      <td>0.716003</td>\n      <td>1.20412</td>\n      <td>1</td>\n      <td>0.0</td>\n      <td>0</td>\n      <td>20</td>\n      <td>0.0</td>\n      <td>1</td>\n      <td>6.425137</td>\n      <td>39</td>\n      <td>689</td>\n      <td>1</td>\n      <td>0</td>\n      <td>0</td>\n      <td>0</td>\n      <td>1</td>\n      <td>0</td>\n      <td>0</td>\n      <td>0.009325</td>\n      <td>0.00000</td>\n      <td>2</td>\n      <td>1</td>\n      <td>0</td>\n      <td>1</td>\n      <td>0</td>\n      <td>0</td>\n      <td>0</td>\n    </tr>\n    <tr>\n      <th>30521</th>\n      <td>Miss Stephanie Terry</td>\n      <td>3623.7</td>\n      <td>94.0</td>\n      <td>0.000000</td>\n      <td>0.000000</td>\n      <td>0.000000</td>\n      <td>0.000000</td>\n      <td>0.000000</td>\n      <td>0.000000</td>\n      <td>1.20412</td>\n      <td>0</td>\n      <td>0.0</td>\n      <td>0</td>\n      <td>20</td>\n      <td>0.0</td>\n      <td>0</td>\n      <td>9.258888</td>\n      <td>68</td>\n      <td>493</td>\n      <td>1</td>\n      <td>0</td>\n      <td>0</td>\n      <td>0</td>\n      <td>1</td>\n      <td>0</td>\n      <td>0</td>\n      <td>0.018781</td>\n      <td>0.30103</td>\n      <td>0</td>\n      <td>0</td>\n      <td>0</td>\n      <td>0</td>\n      <td>0</td>\n      <td>0</td>\n      <td>1</td>\n    </tr>\n    <tr>\n      <th>23030</th>\n      <td>Miss Lily Gibson</td>\n      <td>9153.4</td>\n      <td>74.0</td>\n      <td>2.120574</td>\n      <td>1.875061</td>\n      <td>2.138303</td>\n      <td>2.004321</td>\n      <td>1.672098</td>\n      <td>0.602060</td>\n      <td>1.20412</td>\n      <td>0</td>\n      <td>0.0</td>\n      <td>1</td>\n      <td>19</td>\n      <td>0.0</td>\n      <td>0</td>\n      <td>10.412417</td>\n      <td>57</td>\n      <td>464</td>\n      <td>0</td>\n      <td>1</td>\n      <td>0</td>\n      <td>0</td>\n      <td>0</td>\n      <td>1</td>\n      <td>0</td>\n      <td>0.022441</td>\n      <td>0.00000</td>\n      <td>1</td>\n      <td>1</td>\n      <td>0</td>\n      <td>0</td>\n      <td>0</td>\n      <td>1</td>\n      <td>0</td>\n    </tr>\n    <tr>\n      <th>26696</th>\n      <td>Mr. Charles Pullman</td>\n      <td>5171.2</td>\n      <td>89.0</td>\n      <td>0.000000</td>\n      <td>0.000000</td>\n      <td>0.000000</td>\n      <td>0.000000</td>\n      <td>0.000000</td>\n      <td>0.000000</td>\n      <td>1.20412</td>\n      <td>0</td>\n      <td>0.0</td>\n      <td>0</td>\n      <td>20</td>\n      <td>0.0</td>\n      <td>1</td>\n      <td>5.036256</td>\n      <td>63</td>\n      <td>288</td>\n      <td>1</td>\n      <td>0</td>\n      <td>0</td>\n      <td>0</td>\n      <td>0</td>\n      <td>0</td>\n      <td>0</td>\n      <td>0.017487</td>\n      <td>0.00000</td>\n      <td>0</td>\n      <td>0</td>\n      <td>0</td>\n      <td>0</td>\n      <td>0</td>\n      <td>1</td>\n      <td>0</td>\n    </tr>\n    <tr>\n      <th>12800</th>\n      <td>Mr. Sebastian Paige</td>\n      <td>7175.5</td>\n      <td>53.0</td>\n      <td>0.000000</td>\n      <td>0.000000</td>\n      <td>0.000000</td>\n      <td>0.000000</td>\n      <td>0.000000</td>\n      <td>0.000000</td>\n      <td>1.20412</td>\n      <td>0</td>\n      <td>0.0</td>\n      <td>0</td>\n      <td>20</td>\n      <td>0.0</td>\n      <td>1</td>\n      <td>5.153174</td>\n      <td>50</td>\n      <td>849</td>\n      <td>0</td>\n      <td>0</td>\n      <td>0</td>\n      <td>1</td>\n      <td>1</td>\n      <td>0</td>\n      <td>0</td>\n      <td>0.006070</td>\n      <td>0.00000</td>\n      <td>4</td>\n      <td>1</td>\n      <td>0</td>\n      <td>0</td>\n      <td>1</td>\n      <td>0</td>\n      <td>0</td>\n    </tr>\n    <tr>\n      <th>17996</th>\n      <td>Mr. Paul Peters</td>\n      <td>7507.0</td>\n      <td>97.0</td>\n      <td>0.000000</td>\n      <td>0.000000</td>\n      <td>0.000000</td>\n      <td>0.000000</td>\n      <td>0.000000</td>\n      <td>0.000000</td>\n      <td>1.20412</td>\n      <td>0</td>\n      <td>0.0</td>\n      <td>0</td>\n      <td>19</td>\n      <td>0.0</td>\n      <td>1</td>\n      <td>2.227887</td>\n      <td>64</td>\n      <td>294</td>\n      <td>0</td>\n      <td>0</td>\n      <td>0</td>\n      <td>1</td>\n      <td>1</td>\n      <td>0</td>\n      <td>0</td>\n      <td>0.007578</td>\n      <td>0.30103</td>\n      <td>1</td>\n      <td>1</td>\n      <td>0</td>\n      <td>0</td>\n      <td>0</td>\n      <td>0</td>\n      <td>1</td>\n    </tr>\n    <tr>\n      <th>21251</th>\n      <td>Miss Kimberly Ellison</td>\n      <td>7298.2</td>\n      <td>20.0</td>\n      <td>2.336460</td>\n      <td>1.322219</td>\n      <td>2.187521</td>\n      <td>1.113943</td>\n      <td>1.113943</td>\n      <td>0.732394</td>\n      <td>1.20412</td>\n      <td>1</td>\n      <td>0.0</td>\n      <td>0</td>\n      <td>20</td>\n      <td>0.0</td>\n      <td>0</td>\n      <td>8.806480</td>\n      <td>53</td>\n      <td>925</td>\n      <td>1</td>\n      <td>0</td>\n      <td>0</td>\n      <td>0</td>\n      <td>1</td>\n      <td>0</td>\n      <td>0</td>\n      <td>0.009521</td>\n      <td>0.00000</td>\n      <td>1</td>\n      <td>1</td>\n      <td>0</td>\n      <td>0</td>\n      <td>0</td>\n      <td>1</td>\n      <td>0</td>\n    </tr>\n    <tr>\n      <th>7127</th>\n      <td>Mr. Joe Chapman</td>\n      <td>6324.3</td>\n      <td>85.0</td>\n      <td>0.000000</td>\n      <td>0.000000</td>\n      <td>0.000000</td>\n      <td>0.000000</td>\n      <td>0.000000</td>\n      <td>0.000000</td>\n      <td>1.20412</td>\n      <td>0</td>\n      <td>0.0</td>\n      <td>0</td>\n      <td>20</td>\n      <td>0.0</td>\n      <td>1</td>\n      <td>9.046273</td>\n      <td>37</td>\n      <td>448</td>\n      <td>0</td>\n      <td>1</td>\n      <td>0</td>\n      <td>0</td>\n      <td>0</td>\n      <td>0</td>\n      <td>0</td>\n      <td>0.020193</td>\n      <td>0.00000</td>\n      <td>1</td>\n      <td>1</td>\n      <td>0</td>\n      <td>1</td>\n      <td>0</td>\n      <td>0</td>\n      <td>0</td>\n    </tr>\n  </tbody>\n</table>\n</div>"
     },
     "execution_count": 511,
     "metadata": {},
     "output_type": "execute_result"
    }
   ],
   "source": [
    "df[(df['NumOfferPurchases'] > df[['NumAppPurchases','NumTakeAwayPurchases','NumStorePurchases']].sum(axis=1))]"
   ],
   "metadata": {
    "collapsed": false
   }
  },
  {
   "cell_type": "code",
   "execution_count": 512,
   "outputs": [],
   "source": [
    "# será esta a abordagem mais acertada, isto é, assumir que todas as compras deste cliente foram \"OfferPurchases\"?\n",
    "\n",
    "df.loc[(df['NumOfferPurchases'] > df[['NumAppPurchases','NumTakeAwayPurchases','NumStorePurchases']].sum(axis=1)),'NumOfferPurchases'] = df['NumAppPurchases'] + df['NumTakeAwayPurchases'] + df['NumStorePurchases']"
   ],
   "metadata": {
    "collapsed": false
   }
  },
  {
   "cell_type": "code",
   "execution_count": 513,
   "outputs": [
    {
     "data": {
      "text/plain": "Empty DataFrame\nColumns: [Name, Income, Recency, MntMeat&Fish, MntEntries, MntVegan&Vegetarian, MntDrinks, MntDesserts, MntAdditionalRequests, NumOfferPurchases, NumAppPurchases, NumTakeAwayPurchases, NumStorePurchases, NumAppVisitsMonth, Complain, Gender, MntTotal, Age, daysAsCardClient, Graduation, HighSchool, Master, PhD, Married, Single, Widow, Mnt_pday_card, Response_Campaigns, Total_Kids, has_Kids, age_(17.943, 29.4], age_(29.4, 40.8], age_(40.8, 52.2], age_(52.2, 63.6], age_(63.6, 75.0]]\nIndex: []",
      "text/html": "<div>\n<style scoped>\n    .dataframe tbody tr th:only-of-type {\n        vertical-align: middle;\n    }\n\n    .dataframe tbody tr th {\n        vertical-align: top;\n    }\n\n    .dataframe thead th {\n        text-align: right;\n    }\n</style>\n<table border=\"1\" class=\"dataframe\">\n  <thead>\n    <tr style=\"text-align: right;\">\n      <th></th>\n      <th>Name</th>\n      <th>Income</th>\n      <th>Recency</th>\n      <th>MntMeat&amp;Fish</th>\n      <th>MntEntries</th>\n      <th>MntVegan&amp;Vegetarian</th>\n      <th>MntDrinks</th>\n      <th>MntDesserts</th>\n      <th>MntAdditionalRequests</th>\n      <th>NumOfferPurchases</th>\n      <th>NumAppPurchases</th>\n      <th>NumTakeAwayPurchases</th>\n      <th>NumStorePurchases</th>\n      <th>NumAppVisitsMonth</th>\n      <th>Complain</th>\n      <th>Gender</th>\n      <th>MntTotal</th>\n      <th>Age</th>\n      <th>daysAsCardClient</th>\n      <th>Graduation</th>\n      <th>HighSchool</th>\n      <th>Master</th>\n      <th>PhD</th>\n      <th>Married</th>\n      <th>Single</th>\n      <th>Widow</th>\n      <th>Mnt_pday_card</th>\n      <th>Response_Campaigns</th>\n      <th>Total_Kids</th>\n      <th>has_Kids</th>\n      <th>age_(17.943, 29.4]</th>\n      <th>age_(29.4, 40.8]</th>\n      <th>age_(40.8, 52.2]</th>\n      <th>age_(52.2, 63.6]</th>\n      <th>age_(63.6, 75.0]</th>\n    </tr>\n    <tr>\n      <th>CustomerID</th>\n      <th></th>\n      <th></th>\n      <th></th>\n      <th></th>\n      <th></th>\n      <th></th>\n      <th></th>\n      <th></th>\n      <th></th>\n      <th></th>\n      <th></th>\n      <th></th>\n      <th></th>\n      <th></th>\n      <th></th>\n      <th></th>\n      <th></th>\n      <th></th>\n      <th></th>\n      <th></th>\n      <th></th>\n      <th></th>\n      <th></th>\n      <th></th>\n      <th></th>\n      <th></th>\n      <th></th>\n      <th></th>\n      <th></th>\n      <th></th>\n      <th></th>\n      <th></th>\n      <th></th>\n      <th></th>\n      <th></th>\n    </tr>\n  </thead>\n  <tbody>\n  </tbody>\n</table>\n</div>"
     },
     "execution_count": 513,
     "metadata": {},
     "output_type": "execute_result"
    }
   ],
   "source": [
    "df[(df['NumOfferPurchases'] > df[['NumAppPurchases','NumTakeAwayPurchases','NumStorePurchases']].sum(axis=1))] # confirmação do ajuste"
   ],
   "metadata": {
    "collapsed": false
   }
  },
  {
   "cell_type": "markdown",
   "source": [
    "## Data Review\n",
    "\n",
    "Ver a dataframe no seu estado final\n",
    "Drop: Id, name, birthyear, date_adherence, total_kids, mntTotal"
   ],
   "metadata": {
    "collapsed": false
   }
  },
  {
   "cell_type": "code",
   "execution_count": 514,
   "outputs": [
    {
     "data": {
      "text/plain": "                          Name    Income  Recency  MntMeat&Fish  MntEntries  \\\nCustomerID                                                                    \n14594          Miss Leah Lewis  113947.0     43.0      3.666612    3.529045   \n19070         Miss Grace Black  114297.0     74.0      3.850095    3.565966   \n29888       Mr. Gavin Morrison  115476.0     85.0      3.616055    2.580925   \n12221          Mr. Ryan Glover  101172.0     25.0      3.555215    0.000000   \n21107        Mr. Paul Anderson  123128.0     64.0      3.731669    3.051924   \n\n            MntVegan&Vegetarian  MntDrinks  MntDesserts  \\\nCustomerID                                                \n14594                  3.755951   3.350442     2.750508   \n19070                  3.882012   3.265054     3.086716   \n29888                  3.689398   3.561221     2.580925   \n12221                  3.248219   1.908485     2.257679   \n21107                  3.977541   2.817565     2.750508   \n\n            MntAdditionalRequests  NumOfferPurchases  NumAppPurchases  \\\nCustomerID                                                              \n14594                    2.190332           0.477121               10   \n19070                    1.672098           0.301030                5   \n29888                    1.462398           0.301030                5   \n12221                    1.176091           0.778151                8   \n21107                    1.875061           0.000000                4   \n\n            NumTakeAwayPurchases  NumStorePurchases  NumAppVisitsMonth  \\\nCustomerID                                                               \n14594                   0.903090                  7                  4   \n19070                   1.000000                 12                  2   \n29888                   0.778151                  7                  1   \n12221                   0.602060                  8                  5   \n21107                   0.903090                  8                  5   \n\n            Complain  Gender   MntTotal  Age  daysAsCardClient  Graduation  \\\nCustomerID                                                                   \n14594            0.0       0  19.242890   42               824           1   \n19070            0.0       0  19.321940   49               733           1   \n29888            0.0       1  17.490921   63               456           0   \n12221            0.0       1  12.145689   43               548           1   \n21107            0.0       1  18.204269   52               853           0   \n\n            HighSchool  Master  PhD  Married  Single  Widow  Mnt_pday_card  \\\nCustomerID                                                                   \n14594                0       0    0        0       1      0       0.023353   \n19070                0       0    0        1       0      0       0.026360   \n29888                0       0    1        1       0      0       0.038357   \n12221                0       0    0        1       0      0       0.022164   \n21107                1       0    0        0       1      0       0.021341   \n\n            Response_Campaigns  Total_Kids  has_Kids  age_(17.943, 29.4]  \\\nCustomerID                                                                 \n14594                  0.30103           0         0                   0   \n19070                  0.00000           0         0                   0   \n29888                  0.00000           0         0                   0   \n12221                  0.00000           2         1                   0   \n21107                  0.60206           0         0                   0   \n\n            age_(29.4, 40.8]  age_(40.8, 52.2]  age_(52.2, 63.6]  \\\nCustomerID                                                         \n14594                      0                 1                 0   \n19070                      0                 1                 0   \n29888                      0                 0                 1   \n12221                      0                 1                 0   \n21107                      0                 1                 0   \n\n            age_(63.6, 75.0]  \nCustomerID                    \n14594                      0  \n19070                      0  \n29888                      0  \n12221                      0  \n21107                      0  ",
      "text/html": "<div>\n<style scoped>\n    .dataframe tbody tr th:only-of-type {\n        vertical-align: middle;\n    }\n\n    .dataframe tbody tr th {\n        vertical-align: top;\n    }\n\n    .dataframe thead th {\n        text-align: right;\n    }\n</style>\n<table border=\"1\" class=\"dataframe\">\n  <thead>\n    <tr style=\"text-align: right;\">\n      <th></th>\n      <th>Name</th>\n      <th>Income</th>\n      <th>Recency</th>\n      <th>MntMeat&amp;Fish</th>\n      <th>MntEntries</th>\n      <th>MntVegan&amp;Vegetarian</th>\n      <th>MntDrinks</th>\n      <th>MntDesserts</th>\n      <th>MntAdditionalRequests</th>\n      <th>NumOfferPurchases</th>\n      <th>NumAppPurchases</th>\n      <th>NumTakeAwayPurchases</th>\n      <th>NumStorePurchases</th>\n      <th>NumAppVisitsMonth</th>\n      <th>Complain</th>\n      <th>Gender</th>\n      <th>MntTotal</th>\n      <th>Age</th>\n      <th>daysAsCardClient</th>\n      <th>Graduation</th>\n      <th>HighSchool</th>\n      <th>Master</th>\n      <th>PhD</th>\n      <th>Married</th>\n      <th>Single</th>\n      <th>Widow</th>\n      <th>Mnt_pday_card</th>\n      <th>Response_Campaigns</th>\n      <th>Total_Kids</th>\n      <th>has_Kids</th>\n      <th>age_(17.943, 29.4]</th>\n      <th>age_(29.4, 40.8]</th>\n      <th>age_(40.8, 52.2]</th>\n      <th>age_(52.2, 63.6]</th>\n      <th>age_(63.6, 75.0]</th>\n    </tr>\n    <tr>\n      <th>CustomerID</th>\n      <th></th>\n      <th></th>\n      <th></th>\n      <th></th>\n      <th></th>\n      <th></th>\n      <th></th>\n      <th></th>\n      <th></th>\n      <th></th>\n      <th></th>\n      <th></th>\n      <th></th>\n      <th></th>\n      <th></th>\n      <th></th>\n      <th></th>\n      <th></th>\n      <th></th>\n      <th></th>\n      <th></th>\n      <th></th>\n      <th></th>\n      <th></th>\n      <th></th>\n      <th></th>\n      <th></th>\n      <th></th>\n      <th></th>\n      <th></th>\n      <th></th>\n      <th></th>\n      <th></th>\n      <th></th>\n      <th></th>\n    </tr>\n  </thead>\n  <tbody>\n    <tr>\n      <th>14594</th>\n      <td>Miss Leah Lewis</td>\n      <td>113947.0</td>\n      <td>43.0</td>\n      <td>3.666612</td>\n      <td>3.529045</td>\n      <td>3.755951</td>\n      <td>3.350442</td>\n      <td>2.750508</td>\n      <td>2.190332</td>\n      <td>0.477121</td>\n      <td>10</td>\n      <td>0.903090</td>\n      <td>7</td>\n      <td>4</td>\n      <td>0.0</td>\n      <td>0</td>\n      <td>19.242890</td>\n      <td>42</td>\n      <td>824</td>\n      <td>1</td>\n      <td>0</td>\n      <td>0</td>\n      <td>0</td>\n      <td>0</td>\n      <td>1</td>\n      <td>0</td>\n      <td>0.023353</td>\n      <td>0.30103</td>\n      <td>0</td>\n      <td>0</td>\n      <td>0</td>\n      <td>0</td>\n      <td>1</td>\n      <td>0</td>\n      <td>0</td>\n    </tr>\n    <tr>\n      <th>19070</th>\n      <td>Miss Grace Black</td>\n      <td>114297.0</td>\n      <td>74.0</td>\n      <td>3.850095</td>\n      <td>3.565966</td>\n      <td>3.882012</td>\n      <td>3.265054</td>\n      <td>3.086716</td>\n      <td>1.672098</td>\n      <td>0.301030</td>\n      <td>5</td>\n      <td>1.000000</td>\n      <td>12</td>\n      <td>2</td>\n      <td>0.0</td>\n      <td>0</td>\n      <td>19.321940</td>\n      <td>49</td>\n      <td>733</td>\n      <td>1</td>\n      <td>0</td>\n      <td>0</td>\n      <td>0</td>\n      <td>1</td>\n      <td>0</td>\n      <td>0</td>\n      <td>0.026360</td>\n      <td>0.00000</td>\n      <td>0</td>\n      <td>0</td>\n      <td>0</td>\n      <td>0</td>\n      <td>1</td>\n      <td>0</td>\n      <td>0</td>\n    </tr>\n    <tr>\n      <th>29888</th>\n      <td>Mr. Gavin Morrison</td>\n      <td>115476.0</td>\n      <td>85.0</td>\n      <td>3.616055</td>\n      <td>2.580925</td>\n      <td>3.689398</td>\n      <td>3.561221</td>\n      <td>2.580925</td>\n      <td>1.462398</td>\n      <td>0.301030</td>\n      <td>5</td>\n      <td>0.778151</td>\n      <td>7</td>\n      <td>1</td>\n      <td>0.0</td>\n      <td>1</td>\n      <td>17.490921</td>\n      <td>63</td>\n      <td>456</td>\n      <td>0</td>\n      <td>0</td>\n      <td>0</td>\n      <td>1</td>\n      <td>1</td>\n      <td>0</td>\n      <td>0</td>\n      <td>0.038357</td>\n      <td>0.00000</td>\n      <td>0</td>\n      <td>0</td>\n      <td>0</td>\n      <td>0</td>\n      <td>0</td>\n      <td>1</td>\n      <td>0</td>\n    </tr>\n    <tr>\n      <th>12221</th>\n      <td>Mr. Ryan Glover</td>\n      <td>101172.0</td>\n      <td>25.0</td>\n      <td>3.555215</td>\n      <td>0.000000</td>\n      <td>3.248219</td>\n      <td>1.908485</td>\n      <td>2.257679</td>\n      <td>1.176091</td>\n      <td>0.778151</td>\n      <td>8</td>\n      <td>0.602060</td>\n      <td>8</td>\n      <td>5</td>\n      <td>0.0</td>\n      <td>1</td>\n      <td>12.145689</td>\n      <td>43</td>\n      <td>548</td>\n      <td>1</td>\n      <td>0</td>\n      <td>0</td>\n      <td>0</td>\n      <td>1</td>\n      <td>0</td>\n      <td>0</td>\n      <td>0.022164</td>\n      <td>0.00000</td>\n      <td>2</td>\n      <td>1</td>\n      <td>0</td>\n      <td>0</td>\n      <td>1</td>\n      <td>0</td>\n      <td>0</td>\n    </tr>\n    <tr>\n      <th>21107</th>\n      <td>Mr. Paul Anderson</td>\n      <td>123128.0</td>\n      <td>64.0</td>\n      <td>3.731669</td>\n      <td>3.051924</td>\n      <td>3.977541</td>\n      <td>2.817565</td>\n      <td>2.750508</td>\n      <td>1.875061</td>\n      <td>0.000000</td>\n      <td>4</td>\n      <td>0.903090</td>\n      <td>8</td>\n      <td>5</td>\n      <td>0.0</td>\n      <td>1</td>\n      <td>18.204269</td>\n      <td>52</td>\n      <td>853</td>\n      <td>0</td>\n      <td>1</td>\n      <td>0</td>\n      <td>0</td>\n      <td>0</td>\n      <td>1</td>\n      <td>0</td>\n      <td>0.021341</td>\n      <td>0.60206</td>\n      <td>0</td>\n      <td>0</td>\n      <td>0</td>\n      <td>0</td>\n      <td>1</td>\n      <td>0</td>\n      <td>0</td>\n    </tr>\n  </tbody>\n</table>\n</div>"
     },
     "execution_count": 514,
     "metadata": {},
     "output_type": "execute_result"
    }
   ],
   "source": [
    "df.head()"
   ],
   "metadata": {
    "collapsed": false
   }
  },
  {
   "cell_type": "code",
   "execution_count": 515,
   "outputs": [
    {
     "data": {
      "text/plain": "              Income      Recency  MntMeat&Fish   MntEntries  \\\ncount    6884.000000  6884.000000   6884.000000  6884.000000   \nmean    76141.811069    49.202886      3.022627     2.030261   \nstd     30999.688896    28.856545      0.838659     1.075018   \nmin      2493.800000     0.000000      0.000000     0.000000   \n25%     51266.500000    24.000000      2.416641     1.612784   \n50%     76546.500000    49.000000      3.272074     2.257679   \n75%    101052.750000    74.000000      3.707655     2.839792   \nmax    153703.000000    99.000000      4.175541     3.599992   \n\n       MntVegan&Vegetarian    MntDrinks  MntDesserts  MntAdditionalRequests  \\\ncount          6884.000000  6884.000000  6884.000000            6884.000000   \nmean              2.968492     2.029535     2.027266               1.357073   \nstd               0.717287     1.082055     1.079144               0.549658   \nmin               0.000000     0.000000     0.000000               0.000000   \n25%               2.382017     1.612784     1.612784               1.000000   \n50%               3.039811     2.257679     2.257679               1.397940   \n75%               3.558678     2.845718     2.833783               1.770852   \nmax               4.160198     3.599992     3.599992               2.397940   \n\n       NumOfferPurchases  NumAppPurchases  NumTakeAwayPurchases  \\\ncount        6884.000000      6884.000000           6884.000000   \nmean            0.470617         6.095729              0.600230   \nstd             0.207293         2.682044              0.247088   \nmin             0.000000         0.000000              0.000000   \n25%             0.301030         4.000000              0.301030   \n50%             0.477121         6.000000              0.602060   \n75%             0.602060         8.000000              0.778151   \nmax             1.230449        13.000000              1.397940   \n\n       NumStorePurchases  NumAppVisitsMonth     Complain       Gender  \\\ncount        6884.000000        6884.000000  6884.000000  6884.000000   \nmean            5.865195           5.354445     0.003061     0.733004   \nstd             3.253601           2.705270     0.030203     0.442422   \nmin             0.000000           0.000000     0.000000     0.000000   \n25%             3.000000           3.000000     0.000000     0.000000   \n50%             5.000000           6.000000     0.000000     1.000000   \n75%             8.000000           7.000000     0.000000     1.000000   \nmax            13.000000          20.000000     0.301030     1.000000   \n\n          MntTotal          Age  daysAsCardClient   Graduation   HighSchool  \\\ncount  6884.000000  6884.000000       6884.000000  6884.000000  6884.000000   \nmean     13.452468    46.534282        634.594567     0.502324     0.095439   \nstd       4.196910    11.992327        202.920394     0.500031     0.293841   \nmin       1.968249    18.000000        288.000000     0.000000     0.000000   \n25%      10.308203    38.000000        459.000000     0.000000     0.000000   \n50%      13.812267    46.000000        629.000000     1.000000     0.000000   \n75%      17.253992    56.000000        810.000000     1.000000     0.000000   \nmax      20.776802    75.000000        987.000000     1.000000     1.000000   \n\n            Master          PhD      Married       Single        Widow  \\\ncount  6884.000000  6884.000000  6884.000000  6884.000000  6884.000000   \nmean      0.162987     0.213829     0.653690     0.220366     0.034282   \nstd       0.369380     0.410037     0.475828     0.414524     0.181967   \nmin       0.000000     0.000000     0.000000     0.000000     0.000000   \n25%       0.000000     0.000000     0.000000     0.000000     0.000000   \n50%       0.000000     0.000000     1.000000     0.000000     0.000000   \n75%       0.000000     0.000000     1.000000     0.000000     0.000000   \nmax       1.000000     1.000000     1.000000     1.000000     1.000000   \n\n       Mnt_pday_card  Response_Campaigns   Total_Kids     has_Kids  \\\ncount    6884.000000         6884.000000  6884.000000  6884.000000   \nmean        0.023412            0.094455     0.932162     0.704678   \nstd         0.010820            0.204300     0.752672     0.456221   \nmin         0.002327            0.000000     0.000000     0.000000   \n25%         0.015954            0.000000     0.000000     0.000000   \n50%         0.021053            0.000000     1.000000     1.000000   \n75%         0.028670            0.000000     1.000000     1.000000   \nmax         0.066356            1.204120     4.000000     1.000000   \n\n       age_(17.943, 29.4]  age_(29.4, 40.8]  age_(40.8, 52.2]  \\\ncount         6884.000000       6884.000000       6884.000000   \nmean             0.082220          0.262347          0.320017   \nstd              0.274719          0.439942          0.466517   \nmin              0.000000          0.000000          0.000000   \n25%              0.000000          0.000000          0.000000   \n50%              0.000000          0.000000          0.000000   \n75%              0.000000          1.000000          1.000000   \nmax              1.000000          1.000000          1.000000   \n\n       age_(52.2, 63.6]  age_(63.6, 75.0]  \ncount       6884.000000       6884.000000  \nmean           0.242882          0.092533  \nstd            0.428856          0.289799  \nmin            0.000000          0.000000  \n25%            0.000000          0.000000  \n50%            0.000000          0.000000  \n75%            0.000000          0.000000  \nmax            1.000000          1.000000  ",
      "text/html": "<div>\n<style scoped>\n    .dataframe tbody tr th:only-of-type {\n        vertical-align: middle;\n    }\n\n    .dataframe tbody tr th {\n        vertical-align: top;\n    }\n\n    .dataframe thead th {\n        text-align: right;\n    }\n</style>\n<table border=\"1\" class=\"dataframe\">\n  <thead>\n    <tr style=\"text-align: right;\">\n      <th></th>\n      <th>Income</th>\n      <th>Recency</th>\n      <th>MntMeat&amp;Fish</th>\n      <th>MntEntries</th>\n      <th>MntVegan&amp;Vegetarian</th>\n      <th>MntDrinks</th>\n      <th>MntDesserts</th>\n      <th>MntAdditionalRequests</th>\n      <th>NumOfferPurchases</th>\n      <th>NumAppPurchases</th>\n      <th>NumTakeAwayPurchases</th>\n      <th>NumStorePurchases</th>\n      <th>NumAppVisitsMonth</th>\n      <th>Complain</th>\n      <th>Gender</th>\n      <th>MntTotal</th>\n      <th>Age</th>\n      <th>daysAsCardClient</th>\n      <th>Graduation</th>\n      <th>HighSchool</th>\n      <th>Master</th>\n      <th>PhD</th>\n      <th>Married</th>\n      <th>Single</th>\n      <th>Widow</th>\n      <th>Mnt_pday_card</th>\n      <th>Response_Campaigns</th>\n      <th>Total_Kids</th>\n      <th>has_Kids</th>\n      <th>age_(17.943, 29.4]</th>\n      <th>age_(29.4, 40.8]</th>\n      <th>age_(40.8, 52.2]</th>\n      <th>age_(52.2, 63.6]</th>\n      <th>age_(63.6, 75.0]</th>\n    </tr>\n  </thead>\n  <tbody>\n    <tr>\n      <th>count</th>\n      <td>6884.000000</td>\n      <td>6884.000000</td>\n      <td>6884.000000</td>\n      <td>6884.000000</td>\n      <td>6884.000000</td>\n      <td>6884.000000</td>\n      <td>6884.000000</td>\n      <td>6884.000000</td>\n      <td>6884.000000</td>\n      <td>6884.000000</td>\n      <td>6884.000000</td>\n      <td>6884.000000</td>\n      <td>6884.000000</td>\n      <td>6884.000000</td>\n      <td>6884.000000</td>\n      <td>6884.000000</td>\n      <td>6884.000000</td>\n      <td>6884.000000</td>\n      <td>6884.000000</td>\n      <td>6884.000000</td>\n      <td>6884.000000</td>\n      <td>6884.000000</td>\n      <td>6884.000000</td>\n      <td>6884.000000</td>\n      <td>6884.000000</td>\n      <td>6884.000000</td>\n      <td>6884.000000</td>\n      <td>6884.000000</td>\n      <td>6884.000000</td>\n      <td>6884.000000</td>\n      <td>6884.000000</td>\n      <td>6884.000000</td>\n      <td>6884.000000</td>\n      <td>6884.000000</td>\n    </tr>\n    <tr>\n      <th>mean</th>\n      <td>76141.811069</td>\n      <td>49.202886</td>\n      <td>3.022627</td>\n      <td>2.030261</td>\n      <td>2.968492</td>\n      <td>2.029535</td>\n      <td>2.027266</td>\n      <td>1.357073</td>\n      <td>0.470617</td>\n      <td>6.095729</td>\n      <td>0.600230</td>\n      <td>5.865195</td>\n      <td>5.354445</td>\n      <td>0.003061</td>\n      <td>0.733004</td>\n      <td>13.452468</td>\n      <td>46.534282</td>\n      <td>634.594567</td>\n      <td>0.502324</td>\n      <td>0.095439</td>\n      <td>0.162987</td>\n      <td>0.213829</td>\n      <td>0.653690</td>\n      <td>0.220366</td>\n      <td>0.034282</td>\n      <td>0.023412</td>\n      <td>0.094455</td>\n      <td>0.932162</td>\n      <td>0.704678</td>\n      <td>0.082220</td>\n      <td>0.262347</td>\n      <td>0.320017</td>\n      <td>0.242882</td>\n      <td>0.092533</td>\n    </tr>\n    <tr>\n      <th>std</th>\n      <td>30999.688896</td>\n      <td>28.856545</td>\n      <td>0.838659</td>\n      <td>1.075018</td>\n      <td>0.717287</td>\n      <td>1.082055</td>\n      <td>1.079144</td>\n      <td>0.549658</td>\n      <td>0.207293</td>\n      <td>2.682044</td>\n      <td>0.247088</td>\n      <td>3.253601</td>\n      <td>2.705270</td>\n      <td>0.030203</td>\n      <td>0.442422</td>\n      <td>4.196910</td>\n      <td>11.992327</td>\n      <td>202.920394</td>\n      <td>0.500031</td>\n      <td>0.293841</td>\n      <td>0.369380</td>\n      <td>0.410037</td>\n      <td>0.475828</td>\n      <td>0.414524</td>\n      <td>0.181967</td>\n      <td>0.010820</td>\n      <td>0.204300</td>\n      <td>0.752672</td>\n      <td>0.456221</td>\n      <td>0.274719</td>\n      <td>0.439942</td>\n      <td>0.466517</td>\n      <td>0.428856</td>\n      <td>0.289799</td>\n    </tr>\n    <tr>\n      <th>min</th>\n      <td>2493.800000</td>\n      <td>0.000000</td>\n      <td>0.000000</td>\n      <td>0.000000</td>\n      <td>0.000000</td>\n      <td>0.000000</td>\n      <td>0.000000</td>\n      <td>0.000000</td>\n      <td>0.000000</td>\n      <td>0.000000</td>\n      <td>0.000000</td>\n      <td>0.000000</td>\n      <td>0.000000</td>\n      <td>0.000000</td>\n      <td>0.000000</td>\n      <td>1.968249</td>\n      <td>18.000000</td>\n      <td>288.000000</td>\n      <td>0.000000</td>\n      <td>0.000000</td>\n      <td>0.000000</td>\n      <td>0.000000</td>\n      <td>0.000000</td>\n      <td>0.000000</td>\n      <td>0.000000</td>\n      <td>0.002327</td>\n      <td>0.000000</td>\n      <td>0.000000</td>\n      <td>0.000000</td>\n      <td>0.000000</td>\n      <td>0.000000</td>\n      <td>0.000000</td>\n      <td>0.000000</td>\n      <td>0.000000</td>\n    </tr>\n    <tr>\n      <th>25%</th>\n      <td>51266.500000</td>\n      <td>24.000000</td>\n      <td>2.416641</td>\n      <td>1.612784</td>\n      <td>2.382017</td>\n      <td>1.612784</td>\n      <td>1.612784</td>\n      <td>1.000000</td>\n      <td>0.301030</td>\n      <td>4.000000</td>\n      <td>0.301030</td>\n      <td>3.000000</td>\n      <td>3.000000</td>\n      <td>0.000000</td>\n      <td>0.000000</td>\n      <td>10.308203</td>\n      <td>38.000000</td>\n      <td>459.000000</td>\n      <td>0.000000</td>\n      <td>0.000000</td>\n      <td>0.000000</td>\n      <td>0.000000</td>\n      <td>0.000000</td>\n      <td>0.000000</td>\n      <td>0.000000</td>\n      <td>0.015954</td>\n      <td>0.000000</td>\n      <td>0.000000</td>\n      <td>0.000000</td>\n      <td>0.000000</td>\n      <td>0.000000</td>\n      <td>0.000000</td>\n      <td>0.000000</td>\n      <td>0.000000</td>\n    </tr>\n    <tr>\n      <th>50%</th>\n      <td>76546.500000</td>\n      <td>49.000000</td>\n      <td>3.272074</td>\n      <td>2.257679</td>\n      <td>3.039811</td>\n      <td>2.257679</td>\n      <td>2.257679</td>\n      <td>1.397940</td>\n      <td>0.477121</td>\n      <td>6.000000</td>\n      <td>0.602060</td>\n      <td>5.000000</td>\n      <td>6.000000</td>\n      <td>0.000000</td>\n      <td>1.000000</td>\n      <td>13.812267</td>\n      <td>46.000000</td>\n      <td>629.000000</td>\n      <td>1.000000</td>\n      <td>0.000000</td>\n      <td>0.000000</td>\n      <td>0.000000</td>\n      <td>1.000000</td>\n      <td>0.000000</td>\n      <td>0.000000</td>\n      <td>0.021053</td>\n      <td>0.000000</td>\n      <td>1.000000</td>\n      <td>1.000000</td>\n      <td>0.000000</td>\n      <td>0.000000</td>\n      <td>0.000000</td>\n      <td>0.000000</td>\n      <td>0.000000</td>\n    </tr>\n    <tr>\n      <th>75%</th>\n      <td>101052.750000</td>\n      <td>74.000000</td>\n      <td>3.707655</td>\n      <td>2.839792</td>\n      <td>3.558678</td>\n      <td>2.845718</td>\n      <td>2.833783</td>\n      <td>1.770852</td>\n      <td>0.602060</td>\n      <td>8.000000</td>\n      <td>0.778151</td>\n      <td>8.000000</td>\n      <td>7.000000</td>\n      <td>0.000000</td>\n      <td>1.000000</td>\n      <td>17.253992</td>\n      <td>56.000000</td>\n      <td>810.000000</td>\n      <td>1.000000</td>\n      <td>0.000000</td>\n      <td>0.000000</td>\n      <td>0.000000</td>\n      <td>1.000000</td>\n      <td>0.000000</td>\n      <td>0.000000</td>\n      <td>0.028670</td>\n      <td>0.000000</td>\n      <td>1.000000</td>\n      <td>1.000000</td>\n      <td>0.000000</td>\n      <td>1.000000</td>\n      <td>1.000000</td>\n      <td>0.000000</td>\n      <td>0.000000</td>\n    </tr>\n    <tr>\n      <th>max</th>\n      <td>153703.000000</td>\n      <td>99.000000</td>\n      <td>4.175541</td>\n      <td>3.599992</td>\n      <td>4.160198</td>\n      <td>3.599992</td>\n      <td>3.599992</td>\n      <td>2.397940</td>\n      <td>1.230449</td>\n      <td>13.000000</td>\n      <td>1.397940</td>\n      <td>13.000000</td>\n      <td>20.000000</td>\n      <td>0.301030</td>\n      <td>1.000000</td>\n      <td>20.776802</td>\n      <td>75.000000</td>\n      <td>987.000000</td>\n      <td>1.000000</td>\n      <td>1.000000</td>\n      <td>1.000000</td>\n      <td>1.000000</td>\n      <td>1.000000</td>\n      <td>1.000000</td>\n      <td>1.000000</td>\n      <td>0.066356</td>\n      <td>1.204120</td>\n      <td>4.000000</td>\n      <td>1.000000</td>\n      <td>1.000000</td>\n      <td>1.000000</td>\n      <td>1.000000</td>\n      <td>1.000000</td>\n      <td>1.000000</td>\n    </tr>\n  </tbody>\n</table>\n</div>"
     },
     "execution_count": 515,
     "metadata": {},
     "output_type": "execute_result"
    }
   ],
   "source": [
    "df.describe()"
   ],
   "metadata": {
    "collapsed": false
   }
  },
  {
   "cell_type": "code",
   "execution_count": 516,
   "outputs": [],
   "source": [
    "df_train= df.copy()\n",
    "df_train.drop(['Name'], axis = 1, inplace = True)"
   ],
   "metadata": {
    "collapsed": false
   }
  },
  {
   "cell_type": "code",
   "execution_count": 517,
   "outputs": [
    {
     "data": {
      "text/plain": "Income                   0\nRecency                  0\nMntMeat&Fish             0\nMntEntries               0\nMntVegan&Vegetarian      0\nMntDrinks                0\nMntDesserts              0\nMntAdditionalRequests    0\nNumOfferPurchases        0\nNumAppPurchases          0\nNumTakeAwayPurchases     0\nNumStorePurchases        0\nNumAppVisitsMonth        0\nComplain                 0\nGender                   0\nMntTotal                 0\nAge                      0\ndaysAsCardClient         0\nGraduation               0\nHighSchool               0\nMaster                   0\nPhD                      0\nMarried                  0\nSingle                   0\nWidow                    0\nMnt_pday_card            0\nResponse_Campaigns       0\nTotal_Kids               0\nhas_Kids                 0\nage_(17.943, 29.4]       0\nage_(29.4, 40.8]         0\nage_(40.8, 52.2]         0\nage_(52.2, 63.6]         0\nage_(63.6, 75.0]         0\ndtype: int64"
     },
     "execution_count": 517,
     "metadata": {},
     "output_type": "execute_result"
    }
   ],
   "source": [
    "df_train.isna().sum()"
   ],
   "metadata": {
    "collapsed": false
   }
  },
  {
   "cell_type": "markdown",
   "source": [
    "# Feature Selection"
   ],
   "metadata": {
    "collapsed": false
   }
  },
  {
   "cell_type": "markdown",
   "source": [
    "As the problem is not a classification problem we will need to adapt our data so it can be used in classifiers. We will use Random Forest Classifiers as tools for feature selection, using MntTotal as the target variable, as our goal is to devise a marketing campaign that aims to increase sales"
   ],
   "metadata": {
    "collapsed": false
   }
  },
  {
   "cell_type": "code",
   "execution_count": 518,
   "outputs": [],
   "source": [
    "import pandas as pd\n",
    "from sklearn.ensemble import RandomForestRegressor\n",
    "from sklearn.feature_selection import SelectFromModel\n",
    "from sklearn.model_selection import train_test_split\n",
    "from sklearn.metrics import mean_squared_error"
   ],
   "metadata": {
    "collapsed": false
   }
  },
  {
   "cell_type": "code",
   "execution_count": 519,
   "outputs": [],
   "source": [
    "x= df_train.drop(['MntTotal', 'Mnt_pday_card', 'MntAdditionalRequests', 'MntDesserts', 'MntDrinks', 'MntEntries', 'MntMeat&Fish', 'MntVegan&Vegetarian'] , axis= 1)\n",
    "y= df_train['MntTotal']\n",
    "x_train, x_test, y_train, y_test = train_test_split( x, y, test_size=0.2, random_state=1)\n",
    "\n",
    "y_train = np.array(y_train).reshape(-1, 1)\n",
    "y_test = np.array(y_test).reshape(-1, 1)"
   ],
   "metadata": {
    "collapsed": false
   }
  },
  {
   "cell_type": "code",
   "execution_count": 520,
   "outputs": [],
   "source": [
    "scalerx = MinMaxScaler()\n",
    "scalery = MinMaxScaler()\n",
    "\n",
    "scalerx = scalerx.fit(x_train)\n",
    "scalery = scalery.fit(y_train)\n",
    "\n",
    "x_train = pd.DataFrame(scalerx.transform(x_train), columns= x.columns)\n",
    "x_test = pd.DataFrame(scalerx.transform(x_test), columns= x.columns)\n",
    "\n",
    "y_train = pd.DataFrame(scalery.transform(y_train))\n",
    "y_test = pd.DataFrame(scalery.transform(y_test))\n",
    "#df_train.describe()"
   ],
   "metadata": {
    "collapsed": false
   }
  },
  {
   "cell_type": "code",
   "execution_count": 521,
   "outputs": [
    {
     "name": "stderr",
     "output_type": "stream",
     "text": [
      "/var/folders/gt/lg95g0n95mqdr3vk5d1k062h0000gn/T/ipykernel_46506/2527319989.py:2: DataConversionWarning: A column-vector y was passed when a 1d array was expected. Please change the shape of y to (n_samples,), for example using ravel().\n",
      "  RFR.fit(x_train, y_train)\n"
     ]
    },
    {
     "data": {
      "text/plain": "RandomForestRegressor(max_depth=5)"
     },
     "execution_count": 521,
     "metadata": {},
     "output_type": "execute_result"
    }
   ],
   "source": [
    "RFR = RandomForestRegressor(n_estimators=100, max_depth=5)\n",
    "RFR.fit(x_train, y_train)"
   ],
   "metadata": {
    "collapsed": false
   }
  },
  {
   "cell_type": "code",
   "execution_count": 522,
   "outputs": [
    {
     "data": {
      "text/plain": "Income                  0.079703\nRecency                 0.000622\nNumOfferPurchases       0.001947\nNumAppPurchases         0.109404\nNumTakeAwayPurchases    0.697884\nNumStorePurchases       0.048111\nNumAppVisitsMonth       0.003824\nComplain                0.000000\nGender                  0.000018\nAge                     0.000893\ndaysAsCardClient        0.002746\nGraduation              0.001356\nHighSchool              0.000567\nMaster                  0.002029\nPhD                     0.033423\nMarried                 0.000044\nSingle                  0.000026\nWidow                   0.000000\nResponse_Campaigns      0.004265\nTotal_Kids              0.007117\nhas_Kids                0.005859\nage_(17.943, 29.4]      0.000002\nage_(29.4, 40.8]        0.000017\nage_(40.8, 52.2]        0.000046\nage_(52.2, 63.6]        0.000077\nage_(63.6, 75.0]        0.000020\ndtype: float64"
     },
     "execution_count": 522,
     "metadata": {},
     "output_type": "execute_result"
    }
   ],
   "source": [
    "importances = pd.Series(RFR.feature_importances_, index= x_train.columns)\n",
    "importances"
   ],
   "metadata": {
    "collapsed": false
   }
  },
  {
   "cell_type": "code",
   "execution_count": 523,
   "outputs": [
    {
     "name": "stdout",
     "output_type": "stream",
     "text": [
      "              Income\n",
      "   NumOfferPurchases\n",
      "     NumAppPurchases\n",
      "NumTakeAwayPurchases\n",
      "   NumStorePurchases\n",
      "   NumAppVisitsMonth\n",
      "    daysAsCardClient\n",
      "          Graduation\n",
      "              Master\n",
      "                 PhD\n",
      "  Response_Campaigns\n",
      "          Total_Kids\n",
      "            has_Kids\n"
     ]
    }
   ],
   "source": [
    "threshold = importances.median()\n",
    "selected_features = x_train.reset_index(drop=True).loc[:, importances >= threshold]\n",
    "print(selected_features.columns.to_series().reset_index(drop=True).to_string(index=False))"
   ],
   "metadata": {
    "collapsed": false
   }
  },
  {
   "cell_type": "code",
   "execution_count": 524,
   "outputs": [
    {
     "name": "stderr",
     "output_type": "stream",
     "text": [
      "/var/folders/gt/lg95g0n95mqdr3vk5d1k062h0000gn/T/ipykernel_46506/2501353201.py:2: DataConversionWarning: A column-vector y was passed when a 1d array was expected. Please change the shape of y to (n_samples,), for example using ravel().\n",
      "  new_RFR.fit(selected_features, y_train)\n"
     ]
    },
    {
     "data": {
      "text/plain": "RandomForestRegressor(max_depth=5, random_state=1)"
     },
     "execution_count": 524,
     "metadata": {},
     "output_type": "execute_result"
    }
   ],
   "source": [
    "new_RFR = RandomForestRegressor(n_estimators=100, max_depth=5, random_state=1)\n",
    "new_RFR.fit(selected_features, y_train)"
   ],
   "metadata": {
    "collapsed": false
   }
  },
  {
   "cell_type": "code",
   "execution_count": 525,
   "outputs": [
    {
     "name": "stdout",
     "output_type": "stream",
     "text": [
      "MSE:  0.010806495766217304\n"
     ]
    }
   ],
   "source": [
    "x_test= x_test[selected_features.columns]\n",
    "y_pred = new_RFR.predict(x_test)\n",
    "mse = mean_squared_error(y_test, y_pred)\n",
    "print(\"MSE: \", mse)"
   ],
   "metadata": {
    "collapsed": false
   }
  },
  {
   "cell_type": "markdown",
   "source": [
    "## Data scaling\n",
    "min max: income, recency, mnt..., purchases ..., age, daysasClient, mnt per ..."
   ],
   "metadata": {
    "collapsed": false
   }
  },
  {
   "cell_type": "code",
   "execution_count": 526,
   "outputs": [],
   "source": [
    "scaler = MinMaxScaler()\n",
    "df_train = pd.DataFrame(scaler.fit_transform(df_train))\n",
    "#df_train.describe()"
   ],
   "metadata": {
    "collapsed": false
   }
  },
  {
   "cell_type": "markdown",
   "source": [
    "## PCA\n"
   ],
   "metadata": {
    "collapsed": false
   }
  },
  {
   "cell_type": "markdown",
   "source": [],
   "metadata": {
    "collapsed": false
   }
  },
  {
   "cell_type": "code",
   "execution_count": 527,
   "outputs": [
    {
     "data": {
      "text/plain": "<Figure size 640x480 with 1 Axes>",
      "image/png": "[encoded data removed]"
     },
     "metadata": {},
     "output_type": "display_data"
    }
   ],
   "source": [
    "from sklearn.decomposition import PCA\n",
    "pca = PCA()\n",
    "df_train2= df_train.copy()\n",
    "pca.fit(df_train2)\n",
    "var= pca.explained_variance_ratio_\n",
    "var1=np.cumsum(np.round(pca.explained_variance_ratio_, decimals=4)*100)\n",
    "\n",
    "plt.title(\"PCA Variance against num of Componmnets\")\n",
    "plt.ylabel(\"Variance %\")\n",
    "plt.xlabel(\"Number of componments\")\n",
    "l = plt.axhline(80, color=\"red\")\n",
    "\n",
    "plt.plot(var1)\n",
    "plt.grid()"
   ],
   "metadata": {
    "collapsed": false
   }
  },
  {
   "cell_type": "code",
   "execution_count": 528,
   "outputs": [
    {
     "data": {
      "text/plain": "array([[-1.11065902,  1.08313699,  0.32875139, ..., -0.03677608,\n        -0.05495658, -0.07852344],\n       [-1.14909578, -0.04261329, -0.43220876, ...,  0.06727138,\n        -0.04999347, -0.18527303],\n       [-0.85403744, -0.95978057,  0.53291567, ...,  0.08169793,\n         0.21906948, -0.51623342],\n       ...,\n       [ 1.10107362, -0.83441218,  0.40104902, ...,  0.09672617,\n         0.06324693, -0.30573896],\n       [ 0.38865942,  1.51640261, -0.00677513, ..., -0.22459477,\n        -0.11981853,  0.11591221],\n       [-1.40042982,  0.98696701,  0.46092638, ...,  0.02245025,\n        -0.0424466 , -0.19623754]])"
     },
     "execution_count": 528,
     "metadata": {},
     "output_type": "execute_result"
    }
   ],
   "source": [
    "pca = PCA(n_components=10)\n",
    "pca_train=pca.fit_transform(df_train2)\n",
    "pca_train"
   ],
   "metadata": {
    "collapsed": false
   }
  },
  {
   "cell_type": "code",
   "execution_count": 529,
   "outputs": [
    {
     "data": {
      "text/plain": "            0         1         2         3         4         5         6   \\\n0     0.737079  0.434343  0.878117  0.980292  0.902830  0.930680  0.764032   \n1     0.739394  0.747475  0.922059  0.990548  0.933131  0.906961  0.857423   \n2     0.747191  0.858586  0.866009  0.716925  0.886832  0.989230  0.716925   \n3     0.652594  0.252525  0.851438  0.000000  0.780785  0.530136  0.627134   \n4     0.797797  0.646465  0.893697  0.847758  0.956094  0.782659  0.764032   \n...        ...       ...       ...       ...       ...       ...       ...   \n6879  0.638018  0.666667  0.948048  0.671290  0.908444  0.671290  0.000000   \n6880  0.710824  0.080808  0.902569  0.835842  0.992597  0.994418  0.000000   \n6881  0.354113  0.303030  0.654573  0.000000  0.512845  0.000000  0.000000   \n6882  0.280229  0.080808  0.457063  0.578553  0.558695  0.578553  0.556757   \n6883  0.806070  0.808081  0.924956  0.729541  0.776082  0.993142  0.909554   \n\n            7         8         9         10        11    12   13   14  \\\n0     0.913422  0.387762  0.769231  0.646015  0.538462  0.20  0.0  0.0   \n1     0.697306  0.244651  0.384615  0.715338  0.923077  0.10  0.0  0.0   \n2     0.609856  0.244651  0.384615  0.556641  0.538462  0.05  0.0  1.0   \n3     0.490459  0.632412  0.615385  0.430677  0.615385  0.25  0.0  1.0   \n4     0.781947  0.000000  0.307692  0.646015  0.615385  0.25  0.0  1.0   \n...        ...       ...       ...       ...       ...   ...  ...  ...   \n6879  0.672571  0.244651  0.461538  0.604531  0.846154  0.10  0.0  1.0   \n6880  0.808827  0.244651  0.384615  0.646015  0.538462  0.10  0.0  1.0   \n6881  0.324508  0.387762  0.230769  0.215338  0.307692  0.30  0.0  1.0   \n6882  0.523480  0.244651  0.230769  0.215338  0.230769  0.40  0.0  0.0   \n6883  0.989563  0.244651  0.461538  0.796846  0.846154  0.10  0.0  0.0   \n\n            15        16        17   18   19   20   21   22   23   24  \\\n0     0.918446  0.421053  0.766810  1.0  0.0  0.0  0.0  0.0  1.0  0.0   \n1     0.922649  0.543860  0.636624  1.0  0.0  0.0  0.0  1.0  0.0  0.0   \n2     0.825299  0.789474  0.240343  0.0  0.0  0.0  1.0  1.0  0.0  0.0   \n3     0.541107  0.438596  0.371960  1.0  0.0  0.0  0.0  1.0  0.0  0.0   \n4     0.863225  0.596491  0.808298  0.0  1.0  0.0  0.0  0.0  1.0  0.0   \n...        ...       ...       ...  ...  ...  ...  ...  ...  ...  ...   \n6879  0.649478  0.192982  0.290415  0.0  0.0  0.0  1.0  0.0  0.0  0.0   \n6880  0.768709  0.350877  0.937053  1.0  0.0  0.0  0.0  0.0  0.0  0.0   \n6881  0.195477  0.666667  0.280401  0.0  0.0  0.0  1.0  1.0  0.0  0.0   \n6882  0.515174  0.280702  0.849785  1.0  0.0  0.0  0.0  0.0  1.0  0.0   \n6883  0.902331  0.789474  0.729614  1.0  0.0  0.0  0.0  0.0  1.0  0.0   \n\n            25    26    27   28   29   30   31   32   33  \n0     0.328386  0.25  0.00  0.0  0.0  0.0  1.0  0.0  0.0  \n1     0.375350  0.00  0.00  0.0  0.0  0.0  1.0  0.0  0.0  \n2     0.562719  0.00  0.00  0.0  0.0  0.0  0.0  1.0  0.0  \n3     0.309811  0.00  0.50  1.0  0.0  0.0  1.0  0.0  0.0  \n4     0.296970  0.50  0.00  0.0  0.0  0.0  1.0  0.0  0.0  \n...        ...   ...   ...  ...  ...  ...  ...  ...  ...  \n6879  0.414830  0.00  0.00  0.0  1.0  0.0  0.0  0.0  0.0  \n6880  0.235718  0.00  0.00  0.0  0.0  1.0  0.0  0.0  0.0  \n6881  0.145814  0.00  0.25  1.0  0.0  0.0  0.0  1.0  0.0  \n6882  0.170094  0.00  0.25  1.0  0.0  1.0  0.0  0.0  0.0  \n6883  0.334338  0.50  0.00  0.0  0.0  0.0  0.0  1.0  0.0  \n\n[6884 rows x 34 columns]",
      "text/html": "<div>\n<style scoped>\n    .dataframe tbody tr th:only-of-type {\n        vertical-align: middle;\n    }\n\n    .dataframe tbody tr th {\n        vertical-align: top;\n    }\n\n    .dataframe thead th {\n        text-align: right;\n    }\n</style>\n<table border=\"1\" class=\"dataframe\">\n  <thead>\n    <tr style=\"text-align: right;\">\n      <th></th>\n      <th>0</th>\n      <th>1</th>\n      <th>2</th>\n      <th>3</th>\n      <th>4</th>\n      <th>5</th>\n      <th>6</th>\n      <th>7</th>\n      <th>8</th>\n      <th>9</th>\n      <th>10</th>\n      <th>11</th>\n      <th>12</th>\n      <th>13</th>\n      <th>14</th>\n      <th>15</th>\n      <th>16</th>\n      <th>17</th>\n      <th>18</th>\n      <th>19</th>\n      <th>20</th>\n      <th>21</th>\n      <th>22</th>\n      <th>23</th>\n      <th>24</th>\n      <th>25</th>\n      <th>26</th>\n      <th>27</th>\n      <th>28</th>\n      <th>29</th>\n      <th>30</th>\n      <th>31</th>\n      <th>32</th>\n      <th>33</th>\n    </tr>\n  </thead>\n  <tbody>\n    <tr>\n      <th>0</th>\n      <td>0.737079</td>\n      <td>0.434343</td>\n      <td>0.878117</td>\n      <td>0.980292</td>\n      <td>0.902830</td>\n      <td>0.930680</td>\n      <td>0.764032</td>\n      <td>0.913422</td>\n      <td>0.387762</td>\n      <td>0.769231</td>\n      <td>0.646015</td>\n      <td>0.538462</td>\n      <td>0.20</td>\n      <td>0.0</td>\n      <td>0.0</td>\n      <td>0.918446</td>\n      <td>0.421053</td>\n      <td>0.766810</td>\n      <td>1.0</td>\n      <td>0.0</td>\n      <td>0.0</td>\n      <td>0.0</td>\n      <td>0.0</td>\n      <td>1.0</td>\n      <td>0.0</td>\n      <td>0.328386</td>\n      <td>0.25</td>\n      <td>0.00</td>\n      <td>0.0</td>\n      <td>0.0</td>\n      <td>0.0</td>\n      <td>1.0</td>\n      <td>0.0</td>\n      <td>0.0</td>\n    </tr>\n    <tr>\n      <th>1</th>\n      <td>0.739394</td>\n      <td>0.747475</td>\n      <td>0.922059</td>\n      <td>0.990548</td>\n      <td>0.933131</td>\n      <td>0.906961</td>\n      <td>0.857423</td>\n      <td>0.697306</td>\n      <td>0.244651</td>\n      <td>0.384615</td>\n      <td>0.715338</td>\n      <td>0.923077</td>\n      <td>0.10</td>\n      <td>0.0</td>\n      <td>0.0</td>\n      <td>0.922649</td>\n      <td>0.543860</td>\n      <td>0.636624</td>\n      <td>1.0</td>\n      <td>0.0</td>\n      <td>0.0</td>\n      <td>0.0</td>\n      <td>1.0</td>\n      <td>0.0</td>\n      <td>0.0</td>\n      <td>0.375350</td>\n      <td>0.00</td>\n      <td>0.00</td>\n      <td>0.0</td>\n      <td>0.0</td>\n      <td>0.0</td>\n      <td>1.0</td>\n      <td>0.0</td>\n      <td>0.0</td>\n    </tr>\n    <tr>\n      <th>2</th>\n      <td>0.747191</td>\n      <td>0.858586</td>\n      <td>0.866009</td>\n      <td>0.716925</td>\n      <td>0.886832</td>\n      <td>0.989230</td>\n      <td>0.716925</td>\n      <td>0.609856</td>\n      <td>0.244651</td>\n      <td>0.384615</td>\n      <td>0.556641</td>\n      <td>0.538462</td>\n      <td>0.05</td>\n      <td>0.0</td>\n      <td>1.0</td>\n      <td>0.825299</td>\n      <td>0.789474</td>\n      <td>0.240343</td>\n      <td>0.0</td>\n      <td>0.0</td>\n      <td>0.0</td>\n      <td>1.0</td>\n      <td>1.0</td>\n      <td>0.0</td>\n      <td>0.0</td>\n      <td>0.562719</td>\n      <td>0.00</td>\n      <td>0.00</td>\n      <td>0.0</td>\n      <td>0.0</td>\n      <td>0.0</td>\n      <td>0.0</td>\n      <td>1.0</td>\n      <td>0.0</td>\n    </tr>\n    <tr>\n      <th>3</th>\n      <td>0.652594</td>\n      <td>0.252525</td>\n      <td>0.851438</td>\n      <td>0.000000</td>\n      <td>0.780785</td>\n      <td>0.530136</td>\n      <td>0.627134</td>\n      <td>0.490459</td>\n      <td>0.632412</td>\n      <td>0.615385</td>\n      <td>0.430677</td>\n      <td>0.615385</td>\n      <td>0.25</td>\n      <td>0.0</td>\n      <td>1.0</td>\n      <td>0.541107</td>\n      <td>0.438596</td>\n      <td>0.371960</td>\n      <td>1.0</td>\n      <td>0.0</td>\n      <td>0.0</td>\n      <td>0.0</td>\n      <td>1.0</td>\n      <td>0.0</td>\n      <td>0.0</td>\n      <td>0.309811</td>\n      <td>0.00</td>\n      <td>0.50</td>\n      <td>1.0</td>\n      <td>0.0</td>\n      <td>0.0</td>\n      <td>1.0</td>\n      <td>0.0</td>\n      <td>0.0</td>\n    </tr>\n    <tr>\n      <th>4</th>\n      <td>0.797797</td>\n      <td>0.646465</td>\n      <td>0.893697</td>\n      <td>0.847758</td>\n      <td>0.956094</td>\n      <td>0.782659</td>\n      <td>0.764032</td>\n      <td>0.781947</td>\n      <td>0.000000</td>\n      <td>0.307692</td>\n      <td>0.646015</td>\n      <td>0.615385</td>\n      <td>0.25</td>\n      <td>0.0</td>\n      <td>1.0</td>\n      <td>0.863225</td>\n      <td>0.596491</td>\n      <td>0.808298</td>\n      <td>0.0</td>\n      <td>1.0</td>\n      <td>0.0</td>\n      <td>0.0</td>\n      <td>0.0</td>\n      <td>1.0</td>\n      <td>0.0</td>\n      <td>0.296970</td>\n      <td>0.50</td>\n      <td>0.00</td>\n      <td>0.0</td>\n      <td>0.0</td>\n      <td>0.0</td>\n      <td>1.0</td>\n      <td>0.0</td>\n      <td>0.0</td>\n    </tr>\n    <tr>\n      <th>...</th>\n      <td>...</td>\n      <td>...</td>\n      <td>...</td>\n      <td>...</td>\n      <td>...</td>\n      <td>...</td>\n      <td>...</td>\n      <td>...</td>\n      <td>...</td>\n      <td>...</td>\n      <td>...</td>\n      <td>...</td>\n      <td>...</td>\n      <td>...</td>\n      <td>...</td>\n      <td>...</td>\n      <td>...</td>\n      <td>...</td>\n      <td>...</td>\n      <td>...</td>\n      <td>...</td>\n      <td>...</td>\n      <td>...</td>\n      <td>...</td>\n      <td>...</td>\n      <td>...</td>\n      <td>...</td>\n      <td>...</td>\n      <td>...</td>\n      <td>...</td>\n      <td>...</td>\n      <td>...</td>\n      <td>...</td>\n      <td>...</td>\n    </tr>\n    <tr>\n      <th>6879</th>\n      <td>0.638018</td>\n      <td>0.666667</td>\n      <td>0.948048</td>\n      <td>0.671290</td>\n      <td>0.908444</td>\n      <td>0.671290</td>\n      <td>0.000000</td>\n      <td>0.672571</td>\n      <td>0.244651</td>\n      <td>0.461538</td>\n      <td>0.604531</td>\n      <td>0.846154</td>\n      <td>0.10</td>\n      <td>0.0</td>\n      <td>1.0</td>\n      <td>0.649478</td>\n      <td>0.192982</td>\n      <td>0.290415</td>\n      <td>0.0</td>\n      <td>0.0</td>\n      <td>0.0</td>\n      <td>1.0</td>\n      <td>0.0</td>\n      <td>0.0</td>\n      <td>0.0</td>\n      <td>0.414830</td>\n      <td>0.00</td>\n      <td>0.00</td>\n      <td>0.0</td>\n      <td>1.0</td>\n      <td>0.0</td>\n      <td>0.0</td>\n      <td>0.0</td>\n      <td>0.0</td>\n    </tr>\n    <tr>\n      <th>6880</th>\n      <td>0.710824</td>\n      <td>0.080808</td>\n      <td>0.902569</td>\n      <td>0.835842</td>\n      <td>0.992597</td>\n      <td>0.994418</td>\n      <td>0.000000</td>\n      <td>0.808827</td>\n      <td>0.244651</td>\n      <td>0.384615</td>\n      <td>0.646015</td>\n      <td>0.538462</td>\n      <td>0.10</td>\n      <td>0.0</td>\n      <td>1.0</td>\n      <td>0.768709</td>\n      <td>0.350877</td>\n      <td>0.937053</td>\n      <td>1.0</td>\n      <td>0.0</td>\n      <td>0.0</td>\n      <td>0.0</td>\n      <td>0.0</td>\n      <td>0.0</td>\n      <td>0.0</td>\n      <td>0.235718</td>\n      <td>0.00</td>\n      <td>0.00</td>\n      <td>0.0</td>\n      <td>0.0</td>\n      <td>1.0</td>\n      <td>0.0</td>\n      <td>0.0</td>\n      <td>0.0</td>\n    </tr>\n    <tr>\n      <th>6881</th>\n      <td>0.354113</td>\n      <td>0.303030</td>\n      <td>0.654573</td>\n      <td>0.000000</td>\n      <td>0.512845</td>\n      <td>0.000000</td>\n      <td>0.000000</td>\n      <td>0.324508</td>\n      <td>0.387762</td>\n      <td>0.230769</td>\n      <td>0.215338</td>\n      <td>0.307692</td>\n      <td>0.30</td>\n      <td>0.0</td>\n      <td>1.0</td>\n      <td>0.195477</td>\n      <td>0.666667</td>\n      <td>0.280401</td>\n      <td>0.0</td>\n      <td>0.0</td>\n      <td>0.0</td>\n      <td>1.0</td>\n      <td>1.0</td>\n      <td>0.0</td>\n      <td>0.0</td>\n      <td>0.145814</td>\n      <td>0.00</td>\n      <td>0.25</td>\n      <td>1.0</td>\n      <td>0.0</td>\n      <td>0.0</td>\n      <td>0.0</td>\n      <td>1.0</td>\n      <td>0.0</td>\n    </tr>\n    <tr>\n      <th>6882</th>\n      <td>0.280229</td>\n      <td>0.080808</td>\n      <td>0.457063</td>\n      <td>0.578553</td>\n      <td>0.558695</td>\n      <td>0.578553</td>\n      <td>0.556757</td>\n      <td>0.523480</td>\n      <td>0.244651</td>\n      <td>0.230769</td>\n      <td>0.215338</td>\n      <td>0.230769</td>\n      <td>0.40</td>\n      <td>0.0</td>\n      <td>0.0</td>\n      <td>0.515174</td>\n      <td>0.280702</td>\n      <td>0.849785</td>\n      <td>1.0</td>\n      <td>0.0</td>\n      <td>0.0</td>\n      <td>0.0</td>\n      <td>0.0</td>\n      <td>1.0</td>\n      <td>0.0</td>\n      <td>0.170094</td>\n      <td>0.00</td>\n      <td>0.25</td>\n      <td>1.0</td>\n      <td>0.0</td>\n      <td>1.0</td>\n      <td>0.0</td>\n      <td>0.0</td>\n      <td>0.0</td>\n    </tr>\n    <tr>\n      <th>6883</th>\n      <td>0.806070</td>\n      <td>0.808081</td>\n      <td>0.924956</td>\n      <td>0.729541</td>\n      <td>0.776082</td>\n      <td>0.993142</td>\n      <td>0.909554</td>\n      <td>0.989563</td>\n      <td>0.244651</td>\n      <td>0.461538</td>\n      <td>0.796846</td>\n      <td>0.846154</td>\n      <td>0.10</td>\n      <td>0.0</td>\n      <td>0.0</td>\n      <td>0.902331</td>\n      <td>0.789474</td>\n      <td>0.729614</td>\n      <td>1.0</td>\n      <td>0.0</td>\n      <td>0.0</td>\n      <td>0.0</td>\n      <td>0.0</td>\n      <td>1.0</td>\n      <td>0.0</td>\n      <td>0.334338</td>\n      <td>0.50</td>\n      <td>0.00</td>\n      <td>0.0</td>\n      <td>0.0</td>\n      <td>0.0</td>\n      <td>0.0</td>\n      <td>1.0</td>\n      <td>0.0</td>\n    </tr>\n  </tbody>\n</table>\n<p>6884 rows × 34 columns</p>\n</div>"
     },
     "execution_count": 529,
     "metadata": {},
     "output_type": "execute_result"
    }
   ],
   "source": [
    "df_train"
   ],
   "metadata": {
    "collapsed": false
   }
  },
  {
   "cell_type": "markdown",
   "source": [
    "7 variaveis explicam ~80% da variancia"
   ],
   "metadata": {
    "collapsed": false
   }
  },
  {
   "cell_type": "markdown",
   "source": [
    "## Loading Scores for each PC"
   ],
   "metadata": {
    "collapsed": false
   }
  },
  {
   "cell_type": "markdown",
   "source": [
    "##  Correlação entre PC's e as variáveis originais"
   ],
   "metadata": {
    "collapsed": false
   }
  },
  {
   "cell_type": "markdown",
   "source": [
    "## Model Train"
   ],
   "metadata": {
    "collapsed": false
   }
  },
  {
   "cell_type": "markdown",
   "source": [
    "### 4.1. K-Means"
   ],
   "metadata": {
    "collapsed": false
   }
  },
  {
   "cell_type": "code",
   "execution_count": 530,
   "outputs": [],
   "source": [
    "ks = range(1,11)\n",
    "inertias = []\n",
    "\n",
    "\n",
    "for k in ks:\n",
    "    model = KMeans(n_clusters = k).fit(pca_train)\n",
    "    inertias.append(model.inertia_)"
   ],
   "metadata": {
    "collapsed": false
   }
  },
  {
   "cell_type": "code",
   "execution_count": 531,
   "outputs": [
    {
     "data": {
      "text/plain": "<Figure size 640x480 with 1 Axes>",
      "image/png": "[encoded data removed]"
     },
     "metadata": {},
     "output_type": "display_data"
    }
   ],
   "source": [
    "# Plot ks (x-axis) vs inertias (y-axis) using plt.plot(). \n",
    "plt.plot(ks, inertias)\n",
    "\n",
    "# define the label for the x axis as 'number of clusters' using matplotlib.pyplot.xlabel\n",
    "plt.xlabel('number of clusters')\n",
    "# define the label for the y axis as 'inertia' using matplotlib.pyplot.ylabel\n",
    "plt.ylabel('inertia')\n",
    "# define the ticks on the x axis using the values of ks\n",
    "plt.xticks(ks)\n",
    "# call plt.show()\n",
    "plt.show()"
   ],
   "metadata": {
    "collapsed": false
   }
  },
  {
   "cell_type": "code",
   "execution_count": 532,
   "outputs": [],
   "source": [
    "from sklearn.cluster import KMeans\n",
    "\n",
    "kmeans= KMeans(n_clusters = 4, max_iter =10000, random_state= 1)\n",
    "kmeans.fit(pca_train)\n",
    "pca_train_label = kmeans.labels_\n",
    "pca_train_label = pd.DataFrame(pca_train_label)"
   ],
   "metadata": {
    "collapsed": false
   }
  },
  {
   "cell_type": "code",
   "execution_count": 533,
   "outputs": [
    {
     "data": {
      "text/plain": "              Income  Recency  MntMeat&Fish  MntEntries  MntVegan&Vegetarian  \\\nCustomerID                                                                     \n14594       113947.0     43.0      3.666612    3.529045             3.755951   \n19070       114297.0     74.0      3.850095    3.565966             3.882012   \n29888       115476.0     85.0      3.616055    2.580925             3.689398   \n12221       101172.0     25.0      3.555215    0.000000             3.248219   \n21107       123128.0     64.0      3.731669    3.051924             3.977541   \n...              ...      ...           ...         ...                  ...   \n30686        98968.0     66.0      3.958612    2.416641             3.779308   \n17210       109977.0      8.0      3.768712    3.009026             4.129400   \n29186        56039.0     30.0      2.733197    0.000000             2.133539   \n23312        44867.0      8.0      1.908485    2.082785             2.324282   \n15581       124379.0     80.0      3.862191    2.626340             3.228657   \n\n            MntDrinks  MntDesserts  MntAdditionalRequests  NumOfferPurchases  \\\nCustomerID                                                                     \n14594        3.350442     2.750508               2.190332           0.477121   \n19070        3.265054     3.086716               1.672098           0.301030   \n29888        3.561221     2.580925               1.462398           0.301030   \n12221        1.908485     2.257679               1.176091           0.778151   \n21107        2.817565     2.750508               1.875061           0.000000   \n...               ...          ...                    ...                ...   \n30686        2.416641     0.000000               1.612784           0.301030   \n17210        3.579898     0.000000               1.939519           0.301030   \n29186        0.000000     0.000000               0.778151           0.477121   \n23312        2.082785     2.004321               1.255273           0.301030   \n15581        3.575303     3.274389               2.372912           0.301030   \n\n            NumAppPurchases  NumTakeAwayPurchases  NumStorePurchases  \\\nCustomerID                                                             \n14594                    10              0.903090                  7   \n19070                     5              1.000000                 12   \n29888                     5              0.778151                  7   \n12221                     8              0.602060                  8   \n21107                     4              0.903090                  8   \n...                     ...                   ...                ...   \n30686                     6              0.845098                 11   \n17210                     5              0.903090                  7   \n29186                     3              0.301030                  4   \n23312                     3              0.301030                  3   \n15581                     6              1.113943                 11   \n\n            NumAppVisitsMonth  Complain  Gender   MntTotal  Age  \\\nCustomerID                                                        \n14594                       4       0.0       0  19.242890   42   \n19070                       2       0.0       0  19.321940   49   \n29888                       1       0.0       1  17.490921   63   \n12221                       5       0.0       1  12.145689   43   \n21107                       5       0.0       1  18.204269   52   \n...                       ...       ...     ...        ...  ...   \n30686                       2       0.0       1  14.183984   29   \n17210                       2       0.0       1  16.426555   38   \n29186                       6       0.0       1   5.644887   56   \n23312                       8       0.0       0  11.657932   34   \n15581                       2       0.0       0  18.939792   63   \n\n            daysAsCardClient  Graduation  HighSchool  Master  PhD  Married  \\\nCustomerID                                                                   \n14594                    824           1           0       0    0        0   \n19070                    733           1           0       0    0        1   \n29888                    456           0           0       0    1        1   \n12221                    548           1           0       0    0        1   \n21107                    853           0           1       0    0        0   \n...                      ...         ...         ...     ...  ...      ...   \n30686                    491           0           0       0    1        0   \n17210                    943           1           0       0    0        0   \n29186                    484           0           0       0    1        1   \n23312                    882           1           0       0    0        0   \n15581                    798           1           0       0    0        0   \n\n            Single  Widow  Mnt_pday_card  Response_Campaigns  Total_Kids  \\\nCustomerID                                                                 \n14594            1      0       0.023353             0.30103           0   \n19070            0      0       0.026360             0.00000           0   \n29888            0      0       0.038357             0.00000           0   \n12221            0      0       0.022164             0.00000           2   \n21107            1      0       0.021341             0.60206           0   \n...            ...    ...            ...                 ...         ...   \n30686            0      0       0.028888             0.00000           0   \n17210            0      0       0.017419             0.00000           0   \n29186            0      0       0.011663             0.00000           1   \n23312            1      0       0.013218             0.00000           1   \n15581            1      0       0.023734             0.60206           0   \n\n            has_Kids  age_(17.943, 29.4]  age_(29.4, 40.8]  age_(40.8, 52.2]  \\\nCustomerID                                                                     \n14594              0                   0                 0                 1   \n19070              0                   0                 0                 1   \n29888              0                   0                 0                 0   \n12221              1                   0                 0                 1   \n21107              0                   0                 0                 1   \n...              ...                 ...               ...               ...   \n30686              0                   1                 0                 0   \n17210              0                   0                 1                 0   \n29186              1                   0                 0                 0   \n23312              1                   0                 1                 0   \n15581              0                   0                 0                 0   \n\n            age_(52.2, 63.6]  age_(63.6, 75.0]  Cluster  \nCustomerID                                               \n14594                      0                 0        3  \n19070                      0                 0        3  \n29888                      1                 0        3  \n12221                      0                 0        0  \n21107                      0                 0        3  \n...                      ...               ...      ...  \n30686                      0                 0        3  \n17210                      0                 0        3  \n29186                      1                 0        2  \n23312                      0                 0        1  \n15581                      1                 0        3  \n\n[6884 rows x 35 columns]",
      "text/html": "<div>\n<style scoped>\n    .dataframe tbody tr th:only-of-type {\n        vertical-align: middle;\n    }\n\n    .dataframe tbody tr th {\n        vertical-align: top;\n    }\n\n    .dataframe thead th {\n        text-align: right;\n    }\n</style>\n<table border=\"1\" class=\"dataframe\">\n  <thead>\n    <tr style=\"text-align: right;\">\n      <th></th>\n      <th>Income</th>\n      <th>Recency</th>\n      <th>MntMeat&amp;Fish</th>\n      <th>MntEntries</th>\n      <th>MntVegan&amp;Vegetarian</th>\n      <th>MntDrinks</th>\n      <th>MntDesserts</th>\n      <th>MntAdditionalRequests</th>\n      <th>NumOfferPurchases</th>\n      <th>NumAppPurchases</th>\n      <th>NumTakeAwayPurchases</th>\n      <th>NumStorePurchases</th>\n      <th>NumAppVisitsMonth</th>\n      <th>Complain</th>\n      <th>Gender</th>\n      <th>MntTotal</th>\n      <th>Age</th>\n      <th>daysAsCardClient</th>\n      <th>Graduation</th>\n      <th>HighSchool</th>\n      <th>Master</th>\n      <th>PhD</th>\n      <th>Married</th>\n      <th>Single</th>\n      <th>Widow</th>\n      <th>Mnt_pday_card</th>\n      <th>Response_Campaigns</th>\n      <th>Total_Kids</th>\n      <th>has_Kids</th>\n      <th>age_(17.943, 29.4]</th>\n      <th>age_(29.4, 40.8]</th>\n      <th>age_(40.8, 52.2]</th>\n      <th>age_(52.2, 63.6]</th>\n      <th>age_(63.6, 75.0]</th>\n      <th>Cluster</th>\n    </tr>\n    <tr>\n      <th>CustomerID</th>\n      <th></th>\n      <th></th>\n      <th></th>\n      <th></th>\n      <th></th>\n      <th></th>\n      <th></th>\n      <th></th>\n      <th></th>\n      <th></th>\n      <th></th>\n      <th></th>\n      <th></th>\n      <th></th>\n      <th></th>\n      <th></th>\n      <th></th>\n      <th></th>\n      <th></th>\n      <th></th>\n      <th></th>\n      <th></th>\n      <th></th>\n      <th></th>\n      <th></th>\n      <th></th>\n      <th></th>\n      <th></th>\n      <th></th>\n      <th></th>\n      <th></th>\n      <th></th>\n      <th></th>\n      <th></th>\n      <th></th>\n    </tr>\n  </thead>\n  <tbody>\n    <tr>\n      <th>14594</th>\n      <td>113947.0</td>\n      <td>43.0</td>\n      <td>3.666612</td>\n      <td>3.529045</td>\n      <td>3.755951</td>\n      <td>3.350442</td>\n      <td>2.750508</td>\n      <td>2.190332</td>\n      <td>0.477121</td>\n      <td>10</td>\n      <td>0.903090</td>\n      <td>7</td>\n      <td>4</td>\n      <td>0.0</td>\n      <td>0</td>\n      <td>19.242890</td>\n      <td>42</td>\n      <td>824</td>\n      <td>1</td>\n      <td>0</td>\n      <td>0</td>\n      <td>0</td>\n      <td>0</td>\n      <td>1</td>\n      <td>0</td>\n      <td>0.023353</td>\n      <td>0.30103</td>\n      <td>0</td>\n      <td>0</td>\n      <td>0</td>\n      <td>0</td>\n      <td>1</td>\n      <td>0</td>\n      <td>0</td>\n      <td>3</td>\n    </tr>\n    <tr>\n      <th>19070</th>\n      <td>114297.0</td>\n      <td>74.0</td>\n      <td>3.850095</td>\n      <td>3.565966</td>\n      <td>3.882012</td>\n      <td>3.265054</td>\n      <td>3.086716</td>\n      <td>1.672098</td>\n      <td>0.301030</td>\n      <td>5</td>\n      <td>1.000000</td>\n      <td>12</td>\n      <td>2</td>\n      <td>0.0</td>\n      <td>0</td>\n      <td>19.321940</td>\n      <td>49</td>\n      <td>733</td>\n      <td>1</td>\n      <td>0</td>\n      <td>0</td>\n      <td>0</td>\n      <td>1</td>\n      <td>0</td>\n      <td>0</td>\n      <td>0.026360</td>\n      <td>0.00000</td>\n      <td>0</td>\n      <td>0</td>\n      <td>0</td>\n      <td>0</td>\n      <td>1</td>\n      <td>0</td>\n      <td>0</td>\n      <td>3</td>\n    </tr>\n    <tr>\n      <th>29888</th>\n      <td>115476.0</td>\n      <td>85.0</td>\n      <td>3.616055</td>\n      <td>2.580925</td>\n      <td>3.689398</td>\n      <td>3.561221</td>\n      <td>2.580925</td>\n      <td>1.462398</td>\n      <td>0.301030</td>\n      <td>5</td>\n      <td>0.778151</td>\n      <td>7</td>\n      <td>1</td>\n      <td>0.0</td>\n      <td>1</td>\n      <td>17.490921</td>\n      <td>63</td>\n      <td>456</td>\n      <td>0</td>\n      <td>0</td>\n      <td>0</td>\n      <td>1</td>\n      <td>1</td>\n      <td>0</td>\n      <td>0</td>\n      <td>0.038357</td>\n      <td>0.00000</td>\n      <td>0</td>\n      <td>0</td>\n      <td>0</td>\n      <td>0</td>\n      <td>0</td>\n      <td>1</td>\n      <td>0</td>\n      <td>3</td>\n    </tr>\n    <tr>\n      <th>12221</th>\n      <td>101172.0</td>\n      <td>25.0</td>\n      <td>3.555215</td>\n      <td>0.000000</td>\n      <td>3.248219</td>\n      <td>1.908485</td>\n      <td>2.257679</td>\n      <td>1.176091</td>\n      <td>0.778151</td>\n      <td>8</td>\n      <td>0.602060</td>\n      <td>8</td>\n      <td>5</td>\n      <td>0.0</td>\n      <td>1</td>\n      <td>12.145689</td>\n      <td>43</td>\n      <td>548</td>\n      <td>1</td>\n      <td>0</td>\n      <td>0</td>\n      <td>0</td>\n      <td>1</td>\n      <td>0</td>\n      <td>0</td>\n      <td>0.022164</td>\n      <td>0.00000</td>\n      <td>2</td>\n      <td>1</td>\n      <td>0</td>\n      <td>0</td>\n      <td>1</td>\n      <td>0</td>\n      <td>0</td>\n      <td>0</td>\n    </tr>\n    <tr>\n      <th>21107</th>\n      <td>123128.0</td>\n      <td>64.0</td>\n      <td>3.731669</td>\n      <td>3.051924</td>\n      <td>3.977541</td>\n      <td>2.817565</td>\n      <td>2.750508</td>\n      <td>1.875061</td>\n      <td>0.000000</td>\n      <td>4</td>\n      <td>0.903090</td>\n      <td>8</td>\n      <td>5</td>\n      <td>0.0</td>\n      <td>1</td>\n      <td>18.204269</td>\n      <td>52</td>\n      <td>853</td>\n      <td>0</td>\n      <td>1</td>\n      <td>0</td>\n      <td>0</td>\n      <td>0</td>\n      <td>1</td>\n      <td>0</td>\n      <td>0.021341</td>\n      <td>0.60206</td>\n      <td>0</td>\n      <td>0</td>\n      <td>0</td>\n      <td>0</td>\n      <td>1</td>\n      <td>0</td>\n      <td>0</td>\n      <td>3</td>\n    </tr>\n    <tr>\n      <th>...</th>\n      <td>...</td>\n      <td>...</td>\n      <td>...</td>\n      <td>...</td>\n      <td>...</td>\n      <td>...</td>\n      <td>...</td>\n      <td>...</td>\n      <td>...</td>\n      <td>...</td>\n      <td>...</td>\n      <td>...</td>\n      <td>...</td>\n      <td>...</td>\n      <td>...</td>\n      <td>...</td>\n      <td>...</td>\n      <td>...</td>\n      <td>...</td>\n      <td>...</td>\n      <td>...</td>\n      <td>...</td>\n      <td>...</td>\n      <td>...</td>\n      <td>...</td>\n      <td>...</td>\n      <td>...</td>\n      <td>...</td>\n      <td>...</td>\n      <td>...</td>\n      <td>...</td>\n      <td>...</td>\n      <td>...</td>\n      <td>...</td>\n      <td>...</td>\n    </tr>\n    <tr>\n      <th>30686</th>\n      <td>98968.0</td>\n      <td>66.0</td>\n      <td>3.958612</td>\n      <td>2.416641</td>\n      <td>3.779308</td>\n      <td>2.416641</td>\n      <td>0.000000</td>\n      <td>1.612784</td>\n      <td>0.301030</td>\n      <td>6</td>\n      <td>0.845098</td>\n      <td>11</td>\n      <td>2</td>\n      <td>0.0</td>\n      <td>1</td>\n      <td>14.183984</td>\n      <td>29</td>\n      <td>491</td>\n      <td>0</td>\n      <td>0</td>\n      <td>0</td>\n      <td>1</td>\n      <td>0</td>\n      <td>0</td>\n      <td>0</td>\n      <td>0.028888</td>\n      <td>0.00000</td>\n      <td>0</td>\n      <td>0</td>\n      <td>1</td>\n      <td>0</td>\n      <td>0</td>\n      <td>0</td>\n      <td>0</td>\n      <td>3</td>\n    </tr>\n    <tr>\n      <th>17210</th>\n      <td>109977.0</td>\n      <td>8.0</td>\n      <td>3.768712</td>\n      <td>3.009026</td>\n      <td>4.129400</td>\n      <td>3.579898</td>\n      <td>0.000000</td>\n      <td>1.939519</td>\n      <td>0.301030</td>\n      <td>5</td>\n      <td>0.903090</td>\n      <td>7</td>\n      <td>2</td>\n      <td>0.0</td>\n      <td>1</td>\n      <td>16.426555</td>\n      <td>38</td>\n      <td>943</td>\n      <td>1</td>\n      <td>0</td>\n      <td>0</td>\n      <td>0</td>\n      <td>0</td>\n      <td>0</td>\n      <td>0</td>\n      <td>0.017419</td>\n      <td>0.00000</td>\n      <td>0</td>\n      <td>0</td>\n      <td>0</td>\n      <td>1</td>\n      <td>0</td>\n      <td>0</td>\n      <td>0</td>\n      <td>3</td>\n    </tr>\n    <tr>\n      <th>29186</th>\n      <td>56039.0</td>\n      <td>30.0</td>\n      <td>2.733197</td>\n      <td>0.000000</td>\n      <td>2.133539</td>\n      <td>0.000000</td>\n      <td>0.000000</td>\n      <td>0.778151</td>\n      <td>0.477121</td>\n      <td>3</td>\n      <td>0.301030</td>\n      <td>4</td>\n      <td>6</td>\n      <td>0.0</td>\n      <td>1</td>\n      <td>5.644887</td>\n      <td>56</td>\n      <td>484</td>\n      <td>0</td>\n      <td>0</td>\n      <td>0</td>\n      <td>1</td>\n      <td>1</td>\n      <td>0</td>\n      <td>0</td>\n      <td>0.011663</td>\n      <td>0.00000</td>\n      <td>1</td>\n      <td>1</td>\n      <td>0</td>\n      <td>0</td>\n      <td>0</td>\n      <td>1</td>\n      <td>0</td>\n      <td>2</td>\n    </tr>\n    <tr>\n      <th>23312</th>\n      <td>44867.0</td>\n      <td>8.0</td>\n      <td>1.908485</td>\n      <td>2.082785</td>\n      <td>2.324282</td>\n      <td>2.082785</td>\n      <td>2.004321</td>\n      <td>1.255273</td>\n      <td>0.301030</td>\n      <td>3</td>\n      <td>0.301030</td>\n      <td>3</td>\n      <td>8</td>\n      <td>0.0</td>\n      <td>0</td>\n      <td>11.657932</td>\n      <td>34</td>\n      <td>882</td>\n      <td>1</td>\n      <td>0</td>\n      <td>0</td>\n      <td>0</td>\n      <td>0</td>\n      <td>1</td>\n      <td>0</td>\n      <td>0.013218</td>\n      <td>0.00000</td>\n      <td>1</td>\n      <td>1</td>\n      <td>0</td>\n      <td>1</td>\n      <td>0</td>\n      <td>0</td>\n      <td>0</td>\n      <td>1</td>\n    </tr>\n    <tr>\n      <th>15581</th>\n      <td>124379.0</td>\n      <td>80.0</td>\n      <td>3.862191</td>\n      <td>2.626340</td>\n      <td>3.228657</td>\n      <td>3.575303</td>\n      <td>3.274389</td>\n      <td>2.372912</td>\n      <td>0.301030</td>\n      <td>6</td>\n      <td>1.113943</td>\n      <td>11</td>\n      <td>2</td>\n      <td>0.0</td>\n      <td>0</td>\n      <td>18.939792</td>\n      <td>63</td>\n      <td>798</td>\n      <td>1</td>\n      <td>0</td>\n      <td>0</td>\n      <td>0</td>\n      <td>0</td>\n      <td>1</td>\n      <td>0</td>\n      <td>0.023734</td>\n      <td>0.60206</td>\n      <td>0</td>\n      <td>0</td>\n      <td>0</td>\n      <td>0</td>\n      <td>0</td>\n      <td>1</td>\n      <td>0</td>\n      <td>3</td>\n    </tr>\n  </tbody>\n</table>\n<p>6884 rows × 35 columns</p>\n</div>"
     },
     "execution_count": 533,
     "metadata": {},
     "output_type": "execute_result"
    }
   ],
   "source": [
    "df.reset_index(inplace=True)\n",
    "pca_train_label.reset_index(inplace=True)\n",
    "df_final=pd.concat([df,pca_train_label],axis=1)\n",
    "df_final.set_index('CustomerID',inplace=True)\n",
    "df_final.drop(['index'],axis=1,inplace=True)\n",
    "df_final= df_final.rename(columns={0:'Cluster'})\n",
    "df_final.drop(['Name'],axis=1,inplace=True)\n",
    "df_final"
   ],
   "metadata": {
    "collapsed": false
   }
  },
  {
   "cell_type": "code",
   "execution_count": 534,
   "outputs": [
    {
     "data": {
      "text/plain": "Cluster                           0             1             2              3\nIncome                 67639.631302  55702.361201  74420.970207  105761.633555\nRecency                   48.663728     48.937653     49.554930      49.695958\nMntMeat&Fish               2.890680      2.473191      3.087752       3.626749\nMntEntries                 1.730204      1.807173      1.687669       2.838331\nMntVegan&Vegetarian        2.738082      2.591538      2.820539       3.687968\nMntDrinks                  1.716348      1.797254      1.714064       2.836356\nMntDesserts                1.687447      1.814351      1.723487       2.832135\nMntAdditionalRequests      1.250551      1.204156      1.302981       1.656931\nNumOfferPurchases          0.543421      0.489435      0.553605       0.308590\nNumAppPurchases            6.008864      5.227483      6.307642       6.835275\nNumTakeAwayPurchases       0.524510      0.461397      0.557920       0.845634\nNumStorePurchases          5.136842      4.249423      5.789508       8.211314\nNumAppVisitsMonth          6.178393      6.618938      5.838083       2.900721\nComplain                   0.002835      0.004171      0.002730       0.002504\nGender                     0.741828      0.729215      0.738990       0.722684\nMntTotal                  12.025315     11.730071     12.351639      17.478471\nAge                       45.804986     34.653002     59.141192      47.881864\ndaysAsCardClient         638.269252    630.210739    637.303756     632.806988\nGraduation                 0.505263      0.525982      0.461788       0.511370\nHighSchool                 0.077008      0.146074      0.074482       0.083195\nMaster                     0.170637      0.135681      0.178756       0.168053\nPhD                        0.234349      0.121247      0.274611       0.230172\nMarried                    0.650970      0.666859      0.650907       0.646145\nSingle                     0.209418      0.265589      0.176813       0.225180\nWidow                      0.025485      0.004619      0.070596       0.040488\nMnt_pday_card              0.020626      0.020413      0.021338       0.030859\nResponse_Campaigns         0.062041      0.046406      0.069019       0.194843\nTotal_Kids                 1.311911      1.096998      1.356865       0.029950\nhas_Kids                   0.959003      0.939376      0.937176       0.025513\nage_(17.943, 29.4]         0.000000      0.158199      0.000648       0.161398\nage_(29.4, 40.8]           0.000000      0.840647      0.000000       0.194121\nage_(40.8, 52.2]           1.000000      0.000000      0.000000       0.220743\nage_(52.2, 63.6]           0.000000      0.000000      0.843264       0.205214\nage_(63.6, 75.0]           0.000000      0.001155      0.156088       0.218525",
      "text/html": "<div>\n<style scoped>\n    .dataframe tbody tr th:only-of-type {\n        vertical-align: middle;\n    }\n\n    .dataframe tbody tr th {\n        vertical-align: top;\n    }\n\n    .dataframe thead th {\n        text-align: right;\n    }\n</style>\n<table border=\"1\" class=\"dataframe\">\n  <thead>\n    <tr style=\"text-align: right;\">\n      <th>Cluster</th>\n      <th>0</th>\n      <th>1</th>\n      <th>2</th>\n      <th>3</th>\n    </tr>\n  </thead>\n  <tbody>\n    <tr>\n      <th>Income</th>\n      <td>67639.631302</td>\n      <td>55702.361201</td>\n      <td>74420.970207</td>\n      <td>105761.633555</td>\n    </tr>\n    <tr>\n      <th>Recency</th>\n      <td>48.663728</td>\n      <td>48.937653</td>\n      <td>49.554930</td>\n      <td>49.695958</td>\n    </tr>\n    <tr>\n      <th>MntMeat&amp;Fish</th>\n      <td>2.890680</td>\n      <td>2.473191</td>\n      <td>3.087752</td>\n      <td>3.626749</td>\n    </tr>\n    <tr>\n      <th>MntEntries</th>\n      <td>1.730204</td>\n      <td>1.807173</td>\n      <td>1.687669</td>\n      <td>2.838331</td>\n    </tr>\n    <tr>\n      <th>MntVegan&amp;Vegetarian</th>\n      <td>2.738082</td>\n      <td>2.591538</td>\n      <td>2.820539</td>\n      <td>3.687968</td>\n    </tr>\n    <tr>\n      <th>MntDrinks</th>\n      <td>1.716348</td>\n      <td>1.797254</td>\n      <td>1.714064</td>\n      <td>2.836356</td>\n    </tr>\n    <tr>\n      <th>MntDesserts</th>\n      <td>1.687447</td>\n      <td>1.814351</td>\n      <td>1.723487</td>\n      <td>2.832135</td>\n    </tr>\n    <tr>\n      <th>MntAdditionalRequests</th>\n      <td>1.250551</td>\n      <td>1.204156</td>\n      <td>1.302981</td>\n      <td>1.656931</td>\n    </tr>\n    <tr>\n      <th>NumOfferPurchases</th>\n      <td>0.543421</td>\n      <td>0.489435</td>\n      <td>0.553605</td>\n      <td>0.308590</td>\n    </tr>\n    <tr>\n      <th>NumAppPurchases</th>\n      <td>6.008864</td>\n      <td>5.227483</td>\n      <td>6.307642</td>\n      <td>6.835275</td>\n    </tr>\n    <tr>\n      <th>NumTakeAwayPurchases</th>\n      <td>0.524510</td>\n      <td>0.461397</td>\n      <td>0.557920</td>\n      <td>0.845634</td>\n    </tr>\n    <tr>\n      <th>NumStorePurchases</th>\n      <td>5.136842</td>\n      <td>4.249423</td>\n      <td>5.789508</td>\n      <td>8.211314</td>\n    </tr>\n    <tr>\n      <th>NumAppVisitsMonth</th>\n      <td>6.178393</td>\n      <td>6.618938</td>\n      <td>5.838083</td>\n      <td>2.900721</td>\n    </tr>\n    <tr>\n      <th>Complain</th>\n      <td>0.002835</td>\n      <td>0.004171</td>\n      <td>0.002730</td>\n      <td>0.002504</td>\n    </tr>\n    <tr>\n      <th>Gender</th>\n      <td>0.741828</td>\n      <td>0.729215</td>\n      <td>0.738990</td>\n      <td>0.722684</td>\n    </tr>\n    <tr>\n      <th>MntTotal</th>\n      <td>12.025315</td>\n      <td>11.730071</td>\n      <td>12.351639</td>\n      <td>17.478471</td>\n    </tr>\n    <tr>\n      <th>Age</th>\n      <td>45.804986</td>\n      <td>34.653002</td>\n      <td>59.141192</td>\n      <td>47.881864</td>\n    </tr>\n    <tr>\n      <th>daysAsCardClient</th>\n      <td>638.269252</td>\n      <td>630.210739</td>\n      <td>637.303756</td>\n      <td>632.806988</td>\n    </tr>\n    <tr>\n      <th>Graduation</th>\n      <td>0.505263</td>\n      <td>0.525982</td>\n      <td>0.461788</td>\n      <td>0.511370</td>\n    </tr>\n    <tr>\n      <th>HighSchool</th>\n      <td>0.077008</td>\n      <td>0.146074</td>\n      <td>0.074482</td>\n      <td>0.083195</td>\n    </tr>\n    <tr>\n      <th>Master</th>\n      <td>0.170637</td>\n      <td>0.135681</td>\n      <td>0.178756</td>\n      <td>0.168053</td>\n    </tr>\n    <tr>\n      <th>PhD</th>\n      <td>0.234349</td>\n      <td>0.121247</td>\n      <td>0.274611</td>\n      <td>0.230172</td>\n    </tr>\n    <tr>\n      <th>Married</th>\n      <td>0.650970</td>\n      <td>0.666859</td>\n      <td>0.650907</td>\n      <td>0.646145</td>\n    </tr>\n    <tr>\n      <th>Single</th>\n      <td>0.209418</td>\n      <td>0.265589</td>\n      <td>0.176813</td>\n      <td>0.225180</td>\n    </tr>\n    <tr>\n      <th>Widow</th>\n      <td>0.025485</td>\n      <td>0.004619</td>\n      <td>0.070596</td>\n      <td>0.040488</td>\n    </tr>\n    <tr>\n      <th>Mnt_pday_card</th>\n      <td>0.020626</td>\n      <td>0.020413</td>\n      <td>0.021338</td>\n      <td>0.030859</td>\n    </tr>\n    <tr>\n      <th>Response_Campaigns</th>\n      <td>0.062041</td>\n      <td>0.046406</td>\n      <td>0.069019</td>\n      <td>0.194843</td>\n    </tr>\n    <tr>\n      <th>Total_Kids</th>\n      <td>1.311911</td>\n      <td>1.096998</td>\n      <td>1.356865</td>\n      <td>0.029950</td>\n    </tr>\n    <tr>\n      <th>has_Kids</th>\n      <td>0.959003</td>\n      <td>0.939376</td>\n      <td>0.937176</td>\n      <td>0.025513</td>\n    </tr>\n    <tr>\n      <th>age_(17.943, 29.4]</th>\n      <td>0.000000</td>\n      <td>0.158199</td>\n      <td>0.000648</td>\n      <td>0.161398</td>\n    </tr>\n    <tr>\n      <th>age_(29.4, 40.8]</th>\n      <td>0.000000</td>\n      <td>0.840647</td>\n      <td>0.000000</td>\n      <td>0.194121</td>\n    </tr>\n    <tr>\n      <th>age_(40.8, 52.2]</th>\n      <td>1.000000</td>\n      <td>0.000000</td>\n      <td>0.000000</td>\n      <td>0.220743</td>\n    </tr>\n    <tr>\n      <th>age_(52.2, 63.6]</th>\n      <td>0.000000</td>\n      <td>0.000000</td>\n      <td>0.843264</td>\n      <td>0.205214</td>\n    </tr>\n    <tr>\n      <th>age_(63.6, 75.0]</th>\n      <td>0.000000</td>\n      <td>0.001155</td>\n      <td>0.156088</td>\n      <td>0.218525</td>\n    </tr>\n  </tbody>\n</table>\n</div>"
     },
     "execution_count": 534,
     "metadata": {},
     "output_type": "execute_result"
    }
   ],
   "source": [
    "df_final.groupby('Cluster').mean().transpose()"
   ],
   "metadata": {
    "collapsed": false
   }
  },
  {
   "cell_type": "code",
   "execution_count": 541,
   "outputs": [
    {
     "data": {
      "text/plain": "         Income  Recency  MntMeat&Fish  MntEntries  MntVegan&Vegetarian  \\\nCluster                                                                   \n0          1805     1805          1805        1805                 1805   \n1          1732     1732          1732        1732                 1732   \n2          1544     1544          1544        1544                 1544   \n3          1803     1803          1803        1803                 1803   \n\n         MntDrinks  MntDesserts  MntAdditionalRequests  NumOfferPurchases  \\\nCluster                                                                     \n0             1805         1805                   1805               1805   \n1             1732         1732                   1732               1732   \n2             1544         1544                   1544               1544   \n3             1803         1803                   1803               1803   \n\n         NumAppPurchases  NumTakeAwayPurchases  NumStorePurchases  \\\nCluster                                                             \n0                   1805                  1805               1805   \n1                   1732                  1732               1732   \n2                   1544                  1544               1544   \n3                   1803                  1803               1803   \n\n         NumAppVisitsMonth  Complain  Gender  MntTotal   Age  \\\nCluster                                                        \n0                     1805      1805    1805      1805  1805   \n1                     1732      1732    1732      1732  1732   \n2                     1544      1544    1544      1544  1544   \n3                     1803      1803    1803      1803  1803   \n\n         daysAsCardClient  Graduation  HighSchool  Master   PhD  Married  \\\nCluster                                                                    \n0                    1805        1805        1805    1805  1805     1805   \n1                    1732        1732        1732    1732  1732     1732   \n2                    1544        1544        1544    1544  1544     1544   \n3                    1803        1803        1803    1803  1803     1803   \n\n         Single  Widow  Mnt_pday_card  Response_Campaigns  Total_Kids  \\\nCluster                                                                 \n0          1805   1805           1805                1805        1805   \n1          1732   1732           1732                1732        1732   \n2          1544   1544           1544                1544        1544   \n3          1803   1803           1803                1803        1803   \n\n         has_Kids  age_(17.943, 29.4]  age_(29.4, 40.8]  age_(40.8, 52.2]  \\\nCluster                                                                     \n0            1805                1805              1805              1805   \n1            1732                1732              1732              1732   \n2            1544                1544              1544              1544   \n3            1803                1803              1803              1803   \n\n         age_(52.2, 63.6]  age_(63.6, 75.0]  \nCluster                                      \n0                    1805              1805  \n1                    1732              1732  \n2                    1544              1544  \n3                    1803              1803  ",
      "text/html": "<div>\n<style scoped>\n    .dataframe tbody tr th:only-of-type {\n        vertical-align: middle;\n    }\n\n    .dataframe tbody tr th {\n        vertical-align: top;\n    }\n\n    .dataframe thead th {\n        text-align: right;\n    }\n</style>\n<table border=\"1\" class=\"dataframe\">\n  <thead>\n    <tr style=\"text-align: right;\">\n      <th></th>\n      <th>Income</th>\n      <th>Recency</th>\n      <th>MntMeat&amp;Fish</th>\n      <th>MntEntries</th>\n      <th>MntVegan&amp;Vegetarian</th>\n      <th>MntDrinks</th>\n      <th>MntDesserts</th>\n      <th>MntAdditionalRequests</th>\n      <th>NumOfferPurchases</th>\n      <th>NumAppPurchases</th>\n      <th>NumTakeAwayPurchases</th>\n      <th>NumStorePurchases</th>\n      <th>NumAppVisitsMonth</th>\n      <th>Complain</th>\n      <th>Gender</th>\n      <th>MntTotal</th>\n      <th>Age</th>\n      <th>daysAsCardClient</th>\n      <th>Graduation</th>\n      <th>HighSchool</th>\n      <th>Master</th>\n      <th>PhD</th>\n      <th>Married</th>\n      <th>Single</th>\n      <th>Widow</th>\n      <th>Mnt_pday_card</th>\n      <th>Response_Campaigns</th>\n      <th>Total_Kids</th>\n      <th>has_Kids</th>\n      <th>age_(17.943, 29.4]</th>\n      <th>age_(29.4, 40.8]</th>\n      <th>age_(40.8, 52.2]</th>\n      <th>age_(52.2, 63.6]</th>\n      <th>age_(63.6, 75.0]</th>\n    </tr>\n    <tr>\n      <th>Cluster</th>\n      <th></th>\n      <th></th>\n      <th></th>\n      <th></th>\n      <th></th>\n      <th></th>\n      <th></th>\n      <th></th>\n      <th></th>\n      <th></th>\n      <th></th>\n      <th></th>\n      <th></th>\n      <th></th>\n      <th></th>\n      <th></th>\n      <th></th>\n      <th></th>\n      <th></th>\n      <th></th>\n      <th></th>\n      <th></th>\n      <th></th>\n      <th></th>\n      <th></th>\n      <th></th>\n      <th></th>\n      <th></th>\n      <th></th>\n      <th></th>\n      <th></th>\n      <th></th>\n      <th></th>\n      <th></th>\n    </tr>\n  </thead>\n  <tbody>\n    <tr>\n      <th>0</th>\n      <td>1805</td>\n      <td>1805</td>\n      <td>1805</td>\n      <td>1805</td>\n      <td>1805</td>\n      <td>1805</td>\n      <td>1805</td>\n      <td>1805</td>\n      <td>1805</td>\n      <td>1805</td>\n      <td>1805</td>\n      <td>1805</td>\n      <td>1805</td>\n      <td>1805</td>\n      <td>1805</td>\n      <td>1805</td>\n      <td>1805</td>\n      <td>1805</td>\n      <td>1805</td>\n      <td>1805</td>\n      <td>1805</td>\n      <td>1805</td>\n      <td>1805</td>\n      <td>1805</td>\n      <td>1805</td>\n      <td>1805</td>\n      <td>1805</td>\n      <td>1805</td>\n      <td>1805</td>\n      <td>1805</td>\n      <td>1805</td>\n      <td>1805</td>\n      <td>1805</td>\n      <td>1805</td>\n    </tr>\n    <tr>\n      <th>1</th>\n      <td>1732</td>\n      <td>1732</td>\n      <td>1732</td>\n      <td>1732</td>\n      <td>1732</td>\n      <td>1732</td>\n      <td>1732</td>\n      <td>1732</td>\n      <td>1732</td>\n      <td>1732</td>\n      <td>1732</td>\n      <td>1732</td>\n      <td>1732</td>\n      <td>1732</td>\n      <td>1732</td>\n      <td>1732</td>\n      <td>1732</td>\n      <td>1732</td>\n      <td>1732</td>\n      <td>1732</td>\n      <td>1732</td>\n      <td>1732</td>\n      <td>1732</td>\n      <td>1732</td>\n      <td>1732</td>\n      <td>1732</td>\n      <td>1732</td>\n      <td>1732</td>\n      <td>1732</td>\n      <td>1732</td>\n      <td>1732</td>\n      <td>1732</td>\n      <td>1732</td>\n      <td>1732</td>\n    </tr>\n    <tr>\n      <th>2</th>\n      <td>1544</td>\n      <td>1544</td>\n      <td>1544</td>\n      <td>1544</td>\n      <td>1544</td>\n      <td>1544</td>\n      <td>1544</td>\n      <td>1544</td>\n      <td>1544</td>\n      <td>1544</td>\n      <td>1544</td>\n      <td>1544</td>\n      <td>1544</td>\n      <td>1544</td>\n      <td>1544</td>\n      <td>1544</td>\n      <td>1544</td>\n      <td>1544</td>\n      <td>1544</td>\n      <td>1544</td>\n      <td>1544</td>\n      <td>1544</td>\n      <td>1544</td>\n      <td>1544</td>\n      <td>1544</td>\n      <td>1544</td>\n      <td>1544</td>\n      <td>1544</td>\n      <td>1544</td>\n      <td>1544</td>\n      <td>1544</td>\n      <td>1544</td>\n      <td>1544</td>\n      <td>1544</td>\n    </tr>\n    <tr>\n      <th>3</th>\n      <td>1803</td>\n      <td>1803</td>\n      <td>1803</td>\n      <td>1803</td>\n      <td>1803</td>\n      <td>1803</td>\n      <td>1803</td>\n      <td>1803</td>\n      <td>1803</td>\n      <td>1803</td>\n      <td>1803</td>\n      <td>1803</td>\n      <td>1803</td>\n      <td>1803</td>\n      <td>1803</td>\n      <td>1803</td>\n      <td>1803</td>\n      <td>1803</td>\n      <td>1803</td>\n      <td>1803</td>\n      <td>1803</td>\n      <td>1803</td>\n      <td>1803</td>\n      <td>1803</td>\n      <td>1803</td>\n      <td>1803</td>\n      <td>1803</td>\n      <td>1803</td>\n      <td>1803</td>\n      <td>1803</td>\n      <td>1803</td>\n      <td>1803</td>\n      <td>1803</td>\n      <td>1803</td>\n    </tr>\n  </tbody>\n</table>\n</div>"
     },
     "execution_count": 541,
     "metadata": {},
     "output_type": "execute_result"
    }
   ],
   "source": [
    "df_final.groupby('Cluster').count()"
   ],
   "metadata": {
    "collapsed": false
   }
  },
  {
   "cell_type": "markdown",
   "source": [
    "Measuring distances between clusters"
   ],
   "metadata": {
    "collapsed": false
   }
  },
  {
   "cell_type": "code",
   "execution_count": 536,
   "outputs": [],
   "source": [
    "#dists_k3 = euclidean_distances(model_k3.cluster_centers_)\n",
    "#dists_k3"
   ],
   "metadata": {
    "collapsed": false
   }
  },
  {
   "cell_type": "markdown",
   "source": [
    "### Visualization"
   ],
   "metadata": {
    "collapsed": false
   }
  },
  {
   "cell_type": "code",
   "execution_count": 537,
   "outputs": [],
   "source": [
    "cluster0 = df_final[df_final.Cluster == 0]\n",
    "cluster1 = df_final[df_final.Cluster == 1]\n",
    "cluster2 = df_final[df_final.Cluster == 2]\n",
    "cluster3 = df_final[df_final.Cluster == 3]"
   ],
   "metadata": {
    "collapsed": false
   }
  },
  {
   "cell_type": "code",
   "execution_count": 538,
   "outputs": [
    {
     "data": {
      "text/plain": "<matplotlib.legend.Legend at 0x7fb5d879e0a0>"
     },
     "execution_count": 538,
     "metadata": {},
     "output_type": "execute_result"
    },
    {
     "data": {
      "text/plain": "<Figure size 640x480 with 1 Axes>",
      "image/png": "[encoded data removed]"
     },
     "metadata": {},
     "output_type": "display_data"
    }
   ],
   "source": [
    "sns.histplot(cluster0['Age'],color='red',label='Cluster 0', bins = 20)\n",
    "sns.histplot(cluster1['Age'],color='yellow',label='Cluster 1', bins = 20)\n",
    "sns.histplot(cluster2['Age'],color='green',label='Cluster 2', bins = 20)\n",
    "sns.histplot(cluster3['Age'],color='blue',label='Cluster 3', bins = 20)\n",
    "plt.legend()"
   ],
   "metadata": {
    "collapsed": false
   }
  },
  {
   "cell_type": "code",
   "execution_count": 539,
   "outputs": [
    {
     "data": {
      "text/plain": "<matplotlib.legend.Legend at 0x7fb5d8863730>"
     },
     "execution_count": 539,
     "metadata": {},
     "output_type": "execute_result"
    },
    {
     "data": {
      "text/plain": "<Figure size 640x480 with 1 Axes>",
      "image/png": "[encoded data removed]"
     },
     "metadata": {},
     "output_type": "display_data"
    }
   ],
   "source": [
    "sns.histplot(cluster0['Income'],color='red',label='Cluster 0', bins = 20)\n",
    "sns.histplot(cluster1['Income'],color='yellow',label='Cluster 1', bins = 20)\n",
    "sns.histplot(cluster2['Income'],color='green',label='Cluster 2', bins = 20)\n",
    "sns.histplot(cluster3['Income'],color='blue',label='Cluster 3', bins = 20)\n",
    "plt.legend()"
   ],
   "metadata": {
    "collapsed": false
   }
  },
  {
   "cell_type": "code",
   "execution_count": 540,
   "outputs": [],
   "source": [
    "# variavel modelo visao customer behaviour: NumOfferPurchases', 'NumAppPurchases',\n",
    "       # 'NumTakeAwayPurchases', 'NumStorePurchases', 'NumAppVisitsMonth',\n",
    "       # 'Complain', 'Gender', 'Income', 'Age', 'Graduation', 'HighSchool', 'Master', 'PhD', 'Married', 'Single',\n",
    "       # 'Widow'"
   ],
   "metadata": {
    "collapsed": false
   }
  }
 ],
 "metadata": {
  "kernelspec": {
   "display_name": "Python 3 (ipykernel)",
   "language": "python",
   "name": "python3"
  },
  "language_info": {
   "codemirror_mode": {
    "name": "ipython",
    "version": 3
   },
   "file_extension": ".py",
   "mimetype": "text/x-python",
   "name": "python",
   "nbconvert_exporter": "python",
   "pygments_lexer": "ipython3",
   "version": "3.9.13"
  }
 },
 "nbformat": 4,
 "nbformat_minor": 5
}
