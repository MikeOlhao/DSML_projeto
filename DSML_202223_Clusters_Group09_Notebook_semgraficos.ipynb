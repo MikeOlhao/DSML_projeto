{
 "cells": [
  {
   "cell_type": "markdown",
   "id": "7bc87212",
   "metadata": {},
   "source": [
    "### Table of Contents"
   ]
  },
  {
   "cell_type": "markdown",
   "id": "db4075ae",
   "metadata": {},
   "source": [
    "# 1. Import Data"
   ]
  },
  {
   "cell_type": "markdown",
   "id": "24debbce",
   "metadata": {},
   "source": [
    "## 1.1 Import the needed libraries"
   ]
  },
  {
   "cell_type": "code",
   "execution_count": 1,
   "id": "40e3108e",
   "metadata": {},
   "outputs": [],
   "source": [
    "import pandas as pd\n",
    "import numpy as np\n",
    "import matplotlib.pyplot as plt\n",
    "import seaborn as sns\n",
    "import sklearn as sk\n",
    "from datetime import date\n",
    "\n",
    "%matplotlib inline\n",
    "pd.set_option('display.max_columns', None)\n",
    "\n",
    "from sklearn.preprocessing import MinMaxScaler\n",
    "from sklearn.impute import KNNImputer"
   ]
  },
  {
   "cell_type": "markdown",
   "id": "bc474e5f",
   "metadata": {},
   "source": [
    "## 1.2 Import a integrate data"
   ]
  },
  {
   "cell_type": "code",
   "execution_count": 2,
   "id": "4acdbaaa",
   "metadata": {},
   "outputs": [],
   "source": [
    "df_crm = pd.read_csv('crm.csv')\n",
    "df_mkt = pd.read_csv('mkt.csv')\n",
    "df_sales = pd.read_excel('sales.xlsx')"
   ]
  },
  {
   "cell_type": "code",
   "execution_count": 3,
   "id": "c71a4e04",
   "metadata": {},
   "outputs": [],
   "source": [
    "df = pd.merge(pd.merge(df_crm,df_sales,on='CustomerID',how=\"inner\"),df_mkt,on=\"CustomerID\",how=\"inner\")"
   ]
  },
  {
   "cell_type": "markdown",
   "id": "3659ba1c",
   "metadata": {},
   "source": [
    "## 1.3 Set Index\n"
   ]
  },
  {
   "cell_type": "code",
   "execution_count": 4,
   "id": "133e3a1f",
   "metadata": {},
   "outputs": [],
   "source": [
    "df.set_index('CustomerID',inplace = True)"
   ]
  },
  {
   "cell_type": "markdown",
   "id": "7c1102a1",
   "metadata": {},
   "source": [
    "## 1.4 Check and removing duplicates"
   ]
  },
  {
   "cell_type": "code",
   "execution_count": 5,
   "id": "e0d3e069",
   "metadata": {},
   "outputs": [
    {
     "data": {
      "text/plain": "                                Name  Birthyear   Education Marital_Status  \\\nCustomerID                                                                   \n32924               Mrs. Wanda Terry       1986  Graduation       Divorced   \n8276               Mrs. Mary Jackson       1968  HighSchool        Married   \n32966               Mr. Steven Baker       1961  HighSchool        Married   \n5627              Mr. Jonathan Clark       1988  Graduation        Married   \n29357              Mr. Eric Springer       1972         PhD        Married   \n26891                  Mr. Sam Peake       1992  Graduation        Married   \n21269              Mr. Nathan Glover       1971  Graduation        Married   \n32777                  Mr. Joe James       1967      Master        Married   \n26285           Mr. Oliver Sanderson       1986       Basic       Together   \n5540              Mr. Justin MacLeod       1995  Graduation       Together   \n17069             Miss Zoe Underwood       1977  Graduation       Together   \n12320         Mr. Christian Morrison       1985      Master        Married   \n24260                Mr. Dan Langdon       1993  Graduation         Single   \n6470                Miss Diane White       1980  Graduation         Single   \n10265                 Mr. Max Martin       1988  HighSchool       Together   \n21767                 Mrs. Jan Sharp       1977      Master        Married   \n15905              Mr. Charles James       1957         PhD       Together   \n28688             Mr. Anthony Gibson       1976  Graduation       Together   \n28739          Mr. Stephen Henderson       1970  Graduation        Married   \n25052                Mr. Piers Nolan       1977      Master       Divorced   \n7586                Mr. Jason Powell       1985      Master        Married   \n32495             Miss Wanda Wallace       1962  Graduation       Together   \n19295              Mr. Justin Martin       1998  Graduation       Together   \n14942              Mr. Stewart North       1978         PhD       Together   \n20747               Mr. Luke Lambert       1988         PhD        Married   \n12035              Mrs. Heather Hart       1985  Graduation        Married   \n8447               Mrs. Grace Davies       1967  Graduation        Married   \n25685                Mr. Austin Knox       1955         PhD          Widow   \n28625                Mr. Frank Piper       1969       Basic        Married   \n28844                  Mr. Neil Dowd       1981  Graduation        Married   \n30464       Miss Gabrielle Churchill       1960  Graduation       Together   \n\n              Income  Kid_Younger6  Children_6to18       Date_Adherence  \\\nCustomerID                                                                \n32924        41264.0             1               1  2020-10-03 00:00:00   \n8276        118238.0             0               0  2020-10-13 00:00:00   \n32966        84974.0             0               1  2022-02-17 00:00:00   \n5627         40975.0             1               0  2022-04-28 00:00:00   \n29357        77778.0             0               1  2022-04-19 00:00:00   \n26891        74147.0             1               0  2022-03-21 00:00:00   \n21269        91241.0             0               1  2022-03-28 00:00:00   \n32777       101251.0             0               1  2021-12-30 00:00:00   \n26285        22345.0             1               0  2021-03-21 00:00:00   \n5540         44247.0             1               0  2021-03-08 00:00:00   \n17069        75226.0             1               1  2020-11-24 00:00:00   \n12320        39747.0             1               0  2021-04-06 00:00:00   \n24260       116645.0             0               0  2021-05-18 00:00:00   \n6470        127255.0             0               0  2021-06-17 00:00:00   \n10265        27838.0             1               0  2021-10-08 00:00:00   \n21767        54507.0             1               1  2020-10-27 00:00:00   \n15905        95655.0             0               0  2020-09-04 00:00:00   \n28688        77992.0             0               1  2020-12-29 00:00:00   \n28739        81721.0             0               1  2021-07-21 00:00:00   \n25052        57770.0             1               0  2021-07-23 00:00:00   \n7586         98465.0             0               1  2021-04-25 00:00:00   \n32495         8305.4             0               1  2022-03-21 00:00:00   \n19295       120028.0             0               0  2022-05-13 00:00:00   \n14942       135654.0             0               0  2021-05-02 00:00:00   \n20747        97456.0             0               0  2020-08-14 00:00:00   \n12035       127587.0             1               0  2021-09-30 00:00:00   \n8447        116080.0             1               1  2022-04-24 00:00:00   \n25685        60675.0             1               1  2020-11-19 00:00:00   \n28625        30685.0             2               1  2021-12-25 00:00:00   \n28844        93031.0             0               1  2022-06-29 00:00:00   \n30464        99213.0             0               1  2021-05-02 00:00:00   \n\n            Recency  MntMeat&Fish  MntEntries  MntVegan&Vegetarian  MntDrinks  \\\nCustomerID                                                                      \n32924          61.0          70.0          20                165.0       40.0   \n8276           42.0        5940.0        1002               9465.0     1100.0   \n32966          56.0        2610.0         840               2160.0      840.0   \n5627           31.0         130.0           0                120.0       20.0   \n29357          92.0        1240.0          60                315.0       20.0   \n26891          13.0         610.0         320                915.0       20.0   \n21269          18.0        1780.0         220               2370.0      540.0   \n32777          26.0        7350.0        2780               4170.0      500.0   \n26285          54.0          50.0         180                285.0      240.0   \n5540           51.0        1540.0         400                990.0        0.0   \n17069          32.0        1320.0         280                390.0      180.0   \n12320          64.0         120.0           0                195.0       20.0   \n24260          64.0        3330.0           0              12225.0     1980.0   \n6470           75.0        5760.0        2220              13950.0     2960.0   \n10265           7.0         170.0          60                105.0      280.0   \n21767          94.0         280.0          40                135.0       20.0   \n15905           3.0        8900.0        1260               4380.0        0.0   \n28688          43.0        5940.0         120                570.0      120.0   \n28739          78.0        2140.0        1700               2085.0     1160.0   \n25052          12.0         700.0          60               1275.0      240.0   \n7586           39.0        3780.0         200               2205.0      100.0   \n32495          30.0         479.0          10                123.0       10.0   \n19295          15.0        9370.0        1060               3000.0      800.0   \n14942          71.0        9790.0         880              14025.0      440.0   \n20747          63.0        2540.0        1420               6705.0     2020.0   \n12035          73.0        6300.0        3200               3945.0      220.0   \n8447           33.0        2450.0         320               3345.0      320.0   \n25685          15.0        5020.0           0                645.0        0.0   \n28625          35.0          60.0         120                120.0      180.0   \n28844          43.0        6050.0         140               1275.0      140.0   \n30464           9.0        2120.0         980               2700.0     1200.0   \n\n            MntDesserts  MntAdditionalRequests  NumOfferPurchases  \\\nCustomerID                                                          \n32924               0.0                    7.0                  2   \n8276             1100.0                   32.0                  1   \n32966             960.0                  133.0                  3   \n5627               20.0                    5.0                  1   \n29357              20.0                   33.0                  1   \n26891             240.0                   78.0                  2   \n21269             380.0                   59.0                  1   \n32777            1760.0                   66.0                  2   \n26285             280.0                   39.0                  3   \n5540              240.0                   27.0                  7   \n17069             100.0                   28.0                  5   \n12320               0.0                   10.0                  1   \n24260             832.0                   29.0                  1   \n6470             1860.0                   74.0                  1   \n10265              20.0                   42.0                  2   \n21767              20.0                    8.0                  2   \n15905             500.0                   12.0                  4   \n28688             120.0                   25.0                  4   \n28739             740.0                   16.0                  4   \n25052             180.0                   95.0                  3   \n7586              100.0                   38.0                  3   \n32495              34.0                   17.1                  0   \n19295            2140.0                  200.0                  0   \n14942             488.0                   22.0                  1   \n20747            2840.0                   20.0                  1   \n12035            1600.0                   45.0                  1   \n8447              860.0                   16.0                  2   \n25685               0.0                   27.0                  9   \n28625             180.0                   18.0                  3   \n28844             140.0                    7.0                  1   \n30464             980.0                   32.0                  2   \n\n            NumAppPurchases  NumTakeAwayPurchases  NumStorePurchases  \\\nCustomerID                                                             \n32924                     3                     1                  3   \n8276                      6                     7                  8   \n32966                     6                     5                  9   \n5627                      3                     1                  4   \n29357                     5                     2                  4   \n26891                     6                     3                  2   \n21269                     8                     3                  6   \n32777                     8                     8                  6   \n26285                     5                     2                  2   \n5540                      8                     2                  4   \n17069                     7                     2                  3   \n12320                     3                     1                  3   \n24260                     6                    11                 11   \n6470                      5                     3                 13   \n10265                     4                     3                  2   \n21767                     4                     1                  3   \n15905                    10                     5                  7   \n28688                     9                     3                 10   \n28739                     7                     3                 10   \n25052                     6                     3                  3   \n7586                      9                     3                  8   \n32495                     1                     1                  0   \n19295                     6                     4                 13   \n14942                     9                     6                 12   \n20747                     5                     5                  8   \n12035                     6                     6                  8   \n8447                     10                     2                  8   \n25685                    10                     3                  7   \n28625                     4                     2                  3   \n28844                    10                     3                 10   \n30464                     5                     5                 10   \n\n            NumAppVisitsMonth  Complain  Response_Cmp1  Response_Cmp2  \\\nCustomerID                                                              \n32924                       7         0              0              0   \n8276                        2         0              0              0   \n32966                       3         0              0              0   \n5627                        3         0              0              0   \n29357                       6         0              0              1   \n26891                       6         0              1              0   \n21269                       5         0              0              0   \n32777                       3         0              1              0   \n26285                       9         0              1              0   \n5540                        9         0              0              0   \n17069                       8         0              0              0   \n12320                       7         0              0              0   \n24260                       2         0              0              0   \n6470                        1         0              0              0   \n10265                       4         0              1              0   \n21767                       7         0              0              0   \n15905                       6         0              0              0   \n28688                       7         0              0              0   \n28739                       5         0              0              0   \n25052                       7         0              0              0   \n7586                        6         0              0              0   \n32495                      20         0              1              0   \n19295                       1         0              0              0   \n14942                       3         0              0              1   \n20747                       1         0              0              0   \n12035                       5         0              0              1   \n8447                        6         0              0              0   \n25685                       9         0              0              0   \n28625                       6         0              0              0   \n28844                       4         0              0              1   \n30464                       2         0              0              0   \n\n            Response_Cmp3  Response_Cmp4  Response_Cmp5  \nCustomerID                                               \n32924                   0              0              0  \n8276                    0              0              0  \n32966                   0              0              0  \n5627                    0              0              0  \n29357                   0              0              0  \n26891                   0              0              0  \n21269                   0              0              0  \n32777                   0              0              0  \n26285                   0              0              0  \n5540                    0              0              0  \n17069                   0              0              0  \n12320                   0              0              0  \n24260                   0              0              0  \n6470                    0              0              0  \n10265                   0              0              0  \n21767                   0              0              0  \n15905                   0              0              0  \n28688                   0              0              0  \n28739                   0              0              0  \n25052                   0              0              0  \n7586                    0              0              0  \n32495                   0              0              0  \n19295                   1              0              0  \n14942                   1              1              0  \n20747                   0              0              0  \n12035                   0              1              0  \n8447                    0              0              0  \n25685                   0              0              0  \n28625                   0              0              0  \n28844                   0              0              0  \n30464                   0              0              0  ",
      "text/html": "<div>\n<style scoped>\n    .dataframe tbody tr th:only-of-type {\n        vertical-align: middle;\n    }\n\n    .dataframe tbody tr th {\n        vertical-align: top;\n    }\n\n    .dataframe thead th {\n        text-align: right;\n    }\n</style>\n<table border=\"1\" class=\"dataframe\">\n  <thead>\n    <tr style=\"text-align: right;\">\n      <th></th>\n      <th>Name</th>\n      <th>Birthyear</th>\n      <th>Education</th>\n      <th>Marital_Status</th>\n      <th>Income</th>\n      <th>Kid_Younger6</th>\n      <th>Children_6to18</th>\n      <th>Date_Adherence</th>\n      <th>Recency</th>\n      <th>MntMeat&amp;Fish</th>\n      <th>MntEntries</th>\n      <th>MntVegan&amp;Vegetarian</th>\n      <th>MntDrinks</th>\n      <th>MntDesserts</th>\n      <th>MntAdditionalRequests</th>\n      <th>NumOfferPurchases</th>\n      <th>NumAppPurchases</th>\n      <th>NumTakeAwayPurchases</th>\n      <th>NumStorePurchases</th>\n      <th>NumAppVisitsMonth</th>\n      <th>Complain</th>\n      <th>Response_Cmp1</th>\n      <th>Response_Cmp2</th>\n      <th>Response_Cmp3</th>\n      <th>Response_Cmp4</th>\n      <th>Response_Cmp5</th>\n    </tr>\n    <tr>\n      <th>CustomerID</th>\n      <th></th>\n      <th></th>\n      <th></th>\n      <th></th>\n      <th></th>\n      <th></th>\n      <th></th>\n      <th></th>\n      <th></th>\n      <th></th>\n      <th></th>\n      <th></th>\n      <th></th>\n      <th></th>\n      <th></th>\n      <th></th>\n      <th></th>\n      <th></th>\n      <th></th>\n      <th></th>\n      <th></th>\n      <th></th>\n      <th></th>\n      <th></th>\n      <th></th>\n      <th></th>\n    </tr>\n  </thead>\n  <tbody>\n    <tr>\n      <th>32924</th>\n      <td>Mrs. Wanda Terry</td>\n      <td>1986</td>\n      <td>Graduation</td>\n      <td>Divorced</td>\n      <td>41264.0</td>\n      <td>1</td>\n      <td>1</td>\n      <td>2020-10-03 00:00:00</td>\n      <td>61.0</td>\n      <td>70.0</td>\n      <td>20</td>\n      <td>165.0</td>\n      <td>40.0</td>\n      <td>0.0</td>\n      <td>7.0</td>\n      <td>2</td>\n      <td>3</td>\n      <td>1</td>\n      <td>3</td>\n      <td>7</td>\n      <td>0</td>\n      <td>0</td>\n      <td>0</td>\n      <td>0</td>\n      <td>0</td>\n      <td>0</td>\n    </tr>\n    <tr>\n      <th>8276</th>\n      <td>Mrs. Mary Jackson</td>\n      <td>1968</td>\n      <td>HighSchool</td>\n      <td>Married</td>\n      <td>118238.0</td>\n      <td>0</td>\n      <td>0</td>\n      <td>2020-10-13 00:00:00</td>\n      <td>42.0</td>\n      <td>5940.0</td>\n      <td>1002</td>\n      <td>9465.0</td>\n      <td>1100.0</td>\n      <td>1100.0</td>\n      <td>32.0</td>\n      <td>1</td>\n      <td>6</td>\n      <td>7</td>\n      <td>8</td>\n      <td>2</td>\n      <td>0</td>\n      <td>0</td>\n      <td>0</td>\n      <td>0</td>\n      <td>0</td>\n      <td>0</td>\n    </tr>\n    <tr>\n      <th>32966</th>\n      <td>Mr. Steven Baker</td>\n      <td>1961</td>\n      <td>HighSchool</td>\n      <td>Married</td>\n      <td>84974.0</td>\n      <td>0</td>\n      <td>1</td>\n      <td>2022-02-17 00:00:00</td>\n      <td>56.0</td>\n      <td>2610.0</td>\n      <td>840</td>\n      <td>2160.0</td>\n      <td>840.0</td>\n      <td>960.0</td>\n      <td>133.0</td>\n      <td>3</td>\n      <td>6</td>\n      <td>5</td>\n      <td>9</td>\n      <td>3</td>\n      <td>0</td>\n      <td>0</td>\n      <td>0</td>\n      <td>0</td>\n      <td>0</td>\n      <td>0</td>\n    </tr>\n    <tr>\n      <th>5627</th>\n      <td>Mr. Jonathan Clark</td>\n      <td>1988</td>\n      <td>Graduation</td>\n      <td>Married</td>\n      <td>40975.0</td>\n      <td>1</td>\n      <td>0</td>\n      <td>2022-04-28 00:00:00</td>\n      <td>31.0</td>\n      <td>130.0</td>\n      <td>0</td>\n      <td>120.0</td>\n      <td>20.0</td>\n      <td>20.0</td>\n      <td>5.0</td>\n      <td>1</td>\n      <td>3</td>\n      <td>1</td>\n      <td>4</td>\n      <td>3</td>\n      <td>0</td>\n      <td>0</td>\n      <td>0</td>\n      <td>0</td>\n      <td>0</td>\n      <td>0</td>\n    </tr>\n    <tr>\n      <th>29357</th>\n      <td>Mr. Eric Springer</td>\n      <td>1972</td>\n      <td>PhD</td>\n      <td>Married</td>\n      <td>77778.0</td>\n      <td>0</td>\n      <td>1</td>\n      <td>2022-04-19 00:00:00</td>\n      <td>92.0</td>\n      <td>1240.0</td>\n      <td>60</td>\n      <td>315.0</td>\n      <td>20.0</td>\n      <td>20.0</td>\n      <td>33.0</td>\n      <td>1</td>\n      <td>5</td>\n      <td>2</td>\n      <td>4</td>\n      <td>6</td>\n      <td>0</td>\n      <td>0</td>\n      <td>1</td>\n      <td>0</td>\n      <td>0</td>\n      <td>0</td>\n    </tr>\n    <tr>\n      <th>26891</th>\n      <td>Mr. Sam Peake</td>\n      <td>1992</td>\n      <td>Graduation</td>\n      <td>Married</td>\n      <td>74147.0</td>\n      <td>1</td>\n      <td>0</td>\n      <td>2022-03-21 00:00:00</td>\n      <td>13.0</td>\n      <td>610.0</td>\n      <td>320</td>\n      <td>915.0</td>\n      <td>20.0</td>\n      <td>240.0</td>\n      <td>78.0</td>\n      <td>2</td>\n      <td>6</td>\n      <td>3</td>\n      <td>2</td>\n      <td>6</td>\n      <td>0</td>\n      <td>1</td>\n      <td>0</td>\n      <td>0</td>\n      <td>0</td>\n      <td>0</td>\n    </tr>\n    <tr>\n      <th>21269</th>\n      <td>Mr. Nathan Glover</td>\n      <td>1971</td>\n      <td>Graduation</td>\n      <td>Married</td>\n      <td>91241.0</td>\n      <td>0</td>\n      <td>1</td>\n      <td>2022-03-28 00:00:00</td>\n      <td>18.0</td>\n      <td>1780.0</td>\n      <td>220</td>\n      <td>2370.0</td>\n      <td>540.0</td>\n      <td>380.0</td>\n      <td>59.0</td>\n      <td>1</td>\n      <td>8</td>\n      <td>3</td>\n      <td>6</td>\n      <td>5</td>\n      <td>0</td>\n      <td>0</td>\n      <td>0</td>\n      <td>0</td>\n      <td>0</td>\n      <td>0</td>\n    </tr>\n    <tr>\n      <th>32777</th>\n      <td>Mr. Joe James</td>\n      <td>1967</td>\n      <td>Master</td>\n      <td>Married</td>\n      <td>101251.0</td>\n      <td>0</td>\n      <td>1</td>\n      <td>2021-12-30 00:00:00</td>\n      <td>26.0</td>\n      <td>7350.0</td>\n      <td>2780</td>\n      <td>4170.0</td>\n      <td>500.0</td>\n      <td>1760.0</td>\n      <td>66.0</td>\n      <td>2</td>\n      <td>8</td>\n      <td>8</td>\n      <td>6</td>\n      <td>3</td>\n      <td>0</td>\n      <td>1</td>\n      <td>0</td>\n      <td>0</td>\n      <td>0</td>\n      <td>0</td>\n    </tr>\n    <tr>\n      <th>26285</th>\n      <td>Mr. Oliver Sanderson</td>\n      <td>1986</td>\n      <td>Basic</td>\n      <td>Together</td>\n      <td>22345.0</td>\n      <td>1</td>\n      <td>0</td>\n      <td>2021-03-21 00:00:00</td>\n      <td>54.0</td>\n      <td>50.0</td>\n      <td>180</td>\n      <td>285.0</td>\n      <td>240.0</td>\n      <td>280.0</td>\n      <td>39.0</td>\n      <td>3</td>\n      <td>5</td>\n      <td>2</td>\n      <td>2</td>\n      <td>9</td>\n      <td>0</td>\n      <td>1</td>\n      <td>0</td>\n      <td>0</td>\n      <td>0</td>\n      <td>0</td>\n    </tr>\n    <tr>\n      <th>5540</th>\n      <td>Mr. Justin MacLeod</td>\n      <td>1995</td>\n      <td>Graduation</td>\n      <td>Together</td>\n      <td>44247.0</td>\n      <td>1</td>\n      <td>0</td>\n      <td>2021-03-08 00:00:00</td>\n      <td>51.0</td>\n      <td>1540.0</td>\n      <td>400</td>\n      <td>990.0</td>\n      <td>0.0</td>\n      <td>240.0</td>\n      <td>27.0</td>\n      <td>7</td>\n      <td>8</td>\n      <td>2</td>\n      <td>4</td>\n      <td>9</td>\n      <td>0</td>\n      <td>0</td>\n      <td>0</td>\n      <td>0</td>\n      <td>0</td>\n      <td>0</td>\n    </tr>\n    <tr>\n      <th>17069</th>\n      <td>Miss Zoe Underwood</td>\n      <td>1977</td>\n      <td>Graduation</td>\n      <td>Together</td>\n      <td>75226.0</td>\n      <td>1</td>\n      <td>1</td>\n      <td>2020-11-24 00:00:00</td>\n      <td>32.0</td>\n      <td>1320.0</td>\n      <td>280</td>\n      <td>390.0</td>\n      <td>180.0</td>\n      <td>100.0</td>\n      <td>28.0</td>\n      <td>5</td>\n      <td>7</td>\n      <td>2</td>\n      <td>3</td>\n      <td>8</td>\n      <td>0</td>\n      <td>0</td>\n      <td>0</td>\n      <td>0</td>\n      <td>0</td>\n      <td>0</td>\n    </tr>\n    <tr>\n      <th>12320</th>\n      <td>Mr. Christian Morrison</td>\n      <td>1985</td>\n      <td>Master</td>\n      <td>Married</td>\n      <td>39747.0</td>\n      <td>1</td>\n      <td>0</td>\n      <td>2021-04-06 00:00:00</td>\n      <td>64.0</td>\n      <td>120.0</td>\n      <td>0</td>\n      <td>195.0</td>\n      <td>20.0</td>\n      <td>0.0</td>\n      <td>10.0</td>\n      <td>1</td>\n      <td>3</td>\n      <td>1</td>\n      <td>3</td>\n      <td>7</td>\n      <td>0</td>\n      <td>0</td>\n      <td>0</td>\n      <td>0</td>\n      <td>0</td>\n      <td>0</td>\n    </tr>\n    <tr>\n      <th>24260</th>\n      <td>Mr. Dan Langdon</td>\n      <td>1993</td>\n      <td>Graduation</td>\n      <td>Single</td>\n      <td>116645.0</td>\n      <td>0</td>\n      <td>0</td>\n      <td>2021-05-18 00:00:00</td>\n      <td>64.0</td>\n      <td>3330.0</td>\n      <td>0</td>\n      <td>12225.0</td>\n      <td>1980.0</td>\n      <td>832.0</td>\n      <td>29.0</td>\n      <td>1</td>\n      <td>6</td>\n      <td>11</td>\n      <td>11</td>\n      <td>2</td>\n      <td>0</td>\n      <td>0</td>\n      <td>0</td>\n      <td>0</td>\n      <td>0</td>\n      <td>0</td>\n    </tr>\n    <tr>\n      <th>6470</th>\n      <td>Miss Diane White</td>\n      <td>1980</td>\n      <td>Graduation</td>\n      <td>Single</td>\n      <td>127255.0</td>\n      <td>0</td>\n      <td>0</td>\n      <td>2021-06-17 00:00:00</td>\n      <td>75.0</td>\n      <td>5760.0</td>\n      <td>2220</td>\n      <td>13950.0</td>\n      <td>2960.0</td>\n      <td>1860.0</td>\n      <td>74.0</td>\n      <td>1</td>\n      <td>5</td>\n      <td>3</td>\n      <td>13</td>\n      <td>1</td>\n      <td>0</td>\n      <td>0</td>\n      <td>0</td>\n      <td>0</td>\n      <td>0</td>\n      <td>0</td>\n    </tr>\n    <tr>\n      <th>10265</th>\n      <td>Mr. Max Martin</td>\n      <td>1988</td>\n      <td>HighSchool</td>\n      <td>Together</td>\n      <td>27838.0</td>\n      <td>1</td>\n      <td>0</td>\n      <td>2021-10-08 00:00:00</td>\n      <td>7.0</td>\n      <td>170.0</td>\n      <td>60</td>\n      <td>105.0</td>\n      <td>280.0</td>\n      <td>20.0</td>\n      <td>42.0</td>\n      <td>2</td>\n      <td>4</td>\n      <td>3</td>\n      <td>2</td>\n      <td>4</td>\n      <td>0</td>\n      <td>1</td>\n      <td>0</td>\n      <td>0</td>\n      <td>0</td>\n      <td>0</td>\n    </tr>\n    <tr>\n      <th>21767</th>\n      <td>Mrs. Jan Sharp</td>\n      <td>1977</td>\n      <td>Master</td>\n      <td>Married</td>\n      <td>54507.0</td>\n      <td>1</td>\n      <td>1</td>\n      <td>2020-10-27 00:00:00</td>\n      <td>94.0</td>\n      <td>280.0</td>\n      <td>40</td>\n      <td>135.0</td>\n      <td>20.0</td>\n      <td>20.0</td>\n      <td>8.0</td>\n      <td>2</td>\n      <td>4</td>\n      <td>1</td>\n      <td>3</td>\n      <td>7</td>\n      <td>0</td>\n      <td>0</td>\n      <td>0</td>\n      <td>0</td>\n      <td>0</td>\n      <td>0</td>\n    </tr>\n    <tr>\n      <th>15905</th>\n      <td>Mr. Charles James</td>\n      <td>1957</td>\n      <td>PhD</td>\n      <td>Together</td>\n      <td>95655.0</td>\n      <td>0</td>\n      <td>0</td>\n      <td>2020-09-04 00:00:00</td>\n      <td>3.0</td>\n      <td>8900.0</td>\n      <td>1260</td>\n      <td>4380.0</td>\n      <td>0.0</td>\n      <td>500.0</td>\n      <td>12.0</td>\n      <td>4</td>\n      <td>10</td>\n      <td>5</td>\n      <td>7</td>\n      <td>6</td>\n      <td>0</td>\n      <td>0</td>\n      <td>0</td>\n      <td>0</td>\n      <td>0</td>\n      <td>0</td>\n    </tr>\n    <tr>\n      <th>28688</th>\n      <td>Mr. Anthony Gibson</td>\n      <td>1976</td>\n      <td>Graduation</td>\n      <td>Together</td>\n      <td>77992.0</td>\n      <td>0</td>\n      <td>1</td>\n      <td>2020-12-29 00:00:00</td>\n      <td>43.0</td>\n      <td>5940.0</td>\n      <td>120</td>\n      <td>570.0</td>\n      <td>120.0</td>\n      <td>120.0</td>\n      <td>25.0</td>\n      <td>4</td>\n      <td>9</td>\n      <td>3</td>\n      <td>10</td>\n      <td>7</td>\n      <td>0</td>\n      <td>0</td>\n      <td>0</td>\n      <td>0</td>\n      <td>0</td>\n      <td>0</td>\n    </tr>\n    <tr>\n      <th>28739</th>\n      <td>Mr. Stephen Henderson</td>\n      <td>1970</td>\n      <td>Graduation</td>\n      <td>Married</td>\n      <td>81721.0</td>\n      <td>0</td>\n      <td>1</td>\n      <td>2021-07-21 00:00:00</td>\n      <td>78.0</td>\n      <td>2140.0</td>\n      <td>1700</td>\n      <td>2085.0</td>\n      <td>1160.0</td>\n      <td>740.0</td>\n      <td>16.0</td>\n      <td>4</td>\n      <td>7</td>\n      <td>3</td>\n      <td>10</td>\n      <td>5</td>\n      <td>0</td>\n      <td>0</td>\n      <td>0</td>\n      <td>0</td>\n      <td>0</td>\n      <td>0</td>\n    </tr>\n    <tr>\n      <th>25052</th>\n      <td>Mr. Piers Nolan</td>\n      <td>1977</td>\n      <td>Master</td>\n      <td>Divorced</td>\n      <td>57770.0</td>\n      <td>1</td>\n      <td>0</td>\n      <td>2021-07-23 00:00:00</td>\n      <td>12.0</td>\n      <td>700.0</td>\n      <td>60</td>\n      <td>1275.0</td>\n      <td>240.0</td>\n      <td>180.0</td>\n      <td>95.0</td>\n      <td>3</td>\n      <td>6</td>\n      <td>3</td>\n      <td>3</td>\n      <td>7</td>\n      <td>0</td>\n      <td>0</td>\n      <td>0</td>\n      <td>0</td>\n      <td>0</td>\n      <td>0</td>\n    </tr>\n    <tr>\n      <th>7586</th>\n      <td>Mr. Jason Powell</td>\n      <td>1985</td>\n      <td>Master</td>\n      <td>Married</td>\n      <td>98465.0</td>\n      <td>0</td>\n      <td>1</td>\n      <td>2021-04-25 00:00:00</td>\n      <td>39.0</td>\n      <td>3780.0</td>\n      <td>200</td>\n      <td>2205.0</td>\n      <td>100.0</td>\n      <td>100.0</td>\n      <td>38.0</td>\n      <td>3</td>\n      <td>9</td>\n      <td>3</td>\n      <td>8</td>\n      <td>6</td>\n      <td>0</td>\n      <td>0</td>\n      <td>0</td>\n      <td>0</td>\n      <td>0</td>\n      <td>0</td>\n    </tr>\n    <tr>\n      <th>32495</th>\n      <td>Miss Wanda Wallace</td>\n      <td>1962</td>\n      <td>Graduation</td>\n      <td>Together</td>\n      <td>8305.4</td>\n      <td>0</td>\n      <td>1</td>\n      <td>2022-03-21 00:00:00</td>\n      <td>30.0</td>\n      <td>479.0</td>\n      <td>10</td>\n      <td>123.0</td>\n      <td>10.0</td>\n      <td>34.0</td>\n      <td>17.1</td>\n      <td>0</td>\n      <td>1</td>\n      <td>1</td>\n      <td>0</td>\n      <td>20</td>\n      <td>0</td>\n      <td>1</td>\n      <td>0</td>\n      <td>0</td>\n      <td>0</td>\n      <td>0</td>\n    </tr>\n    <tr>\n      <th>19295</th>\n      <td>Mr. Justin Martin</td>\n      <td>1998</td>\n      <td>Graduation</td>\n      <td>Together</td>\n      <td>120028.0</td>\n      <td>0</td>\n      <td>0</td>\n      <td>2022-05-13 00:00:00</td>\n      <td>15.0</td>\n      <td>9370.0</td>\n      <td>1060</td>\n      <td>3000.0</td>\n      <td>800.0</td>\n      <td>2140.0</td>\n      <td>200.0</td>\n      <td>0</td>\n      <td>6</td>\n      <td>4</td>\n      <td>13</td>\n      <td>1</td>\n      <td>0</td>\n      <td>0</td>\n      <td>0</td>\n      <td>1</td>\n      <td>0</td>\n      <td>0</td>\n    </tr>\n    <tr>\n      <th>14942</th>\n      <td>Mr. Stewart North</td>\n      <td>1978</td>\n      <td>PhD</td>\n      <td>Together</td>\n      <td>135654.0</td>\n      <td>0</td>\n      <td>0</td>\n      <td>2021-05-02 00:00:00</td>\n      <td>71.0</td>\n      <td>9790.0</td>\n      <td>880</td>\n      <td>14025.0</td>\n      <td>440.0</td>\n      <td>488.0</td>\n      <td>22.0</td>\n      <td>1</td>\n      <td>9</td>\n      <td>6</td>\n      <td>12</td>\n      <td>3</td>\n      <td>0</td>\n      <td>0</td>\n      <td>1</td>\n      <td>1</td>\n      <td>1</td>\n      <td>0</td>\n    </tr>\n    <tr>\n      <th>20747</th>\n      <td>Mr. Luke Lambert</td>\n      <td>1988</td>\n      <td>PhD</td>\n      <td>Married</td>\n      <td>97456.0</td>\n      <td>0</td>\n      <td>0</td>\n      <td>2020-08-14 00:00:00</td>\n      <td>63.0</td>\n      <td>2540.0</td>\n      <td>1420</td>\n      <td>6705.0</td>\n      <td>2020.0</td>\n      <td>2840.0</td>\n      <td>20.0</td>\n      <td>1</td>\n      <td>5</td>\n      <td>5</td>\n      <td>8</td>\n      <td>1</td>\n      <td>0</td>\n      <td>0</td>\n      <td>0</td>\n      <td>0</td>\n      <td>0</td>\n      <td>0</td>\n    </tr>\n    <tr>\n      <th>12035</th>\n      <td>Mrs. Heather Hart</td>\n      <td>1985</td>\n      <td>Graduation</td>\n      <td>Married</td>\n      <td>127587.0</td>\n      <td>1</td>\n      <td>0</td>\n      <td>2021-09-30 00:00:00</td>\n      <td>73.0</td>\n      <td>6300.0</td>\n      <td>3200</td>\n      <td>3945.0</td>\n      <td>220.0</td>\n      <td>1600.0</td>\n      <td>45.0</td>\n      <td>1</td>\n      <td>6</td>\n      <td>6</td>\n      <td>8</td>\n      <td>5</td>\n      <td>0</td>\n      <td>0</td>\n      <td>1</td>\n      <td>0</td>\n      <td>1</td>\n      <td>0</td>\n    </tr>\n    <tr>\n      <th>8447</th>\n      <td>Mrs. Grace Davies</td>\n      <td>1967</td>\n      <td>Graduation</td>\n      <td>Married</td>\n      <td>116080.0</td>\n      <td>1</td>\n      <td>1</td>\n      <td>2022-04-24 00:00:00</td>\n      <td>33.0</td>\n      <td>2450.0</td>\n      <td>320</td>\n      <td>3345.0</td>\n      <td>320.0</td>\n      <td>860.0</td>\n      <td>16.0</td>\n      <td>2</td>\n      <td>10</td>\n      <td>2</td>\n      <td>8</td>\n      <td>6</td>\n      <td>0</td>\n      <td>0</td>\n      <td>0</td>\n      <td>0</td>\n      <td>0</td>\n      <td>0</td>\n    </tr>\n    <tr>\n      <th>25685</th>\n      <td>Mr. Austin Knox</td>\n      <td>1955</td>\n      <td>PhD</td>\n      <td>Widow</td>\n      <td>60675.0</td>\n      <td>1</td>\n      <td>1</td>\n      <td>2020-11-19 00:00:00</td>\n      <td>15.0</td>\n      <td>5020.0</td>\n      <td>0</td>\n      <td>645.0</td>\n      <td>0.0</td>\n      <td>0.0</td>\n      <td>27.0</td>\n      <td>9</td>\n      <td>10</td>\n      <td>3</td>\n      <td>7</td>\n      <td>9</td>\n      <td>0</td>\n      <td>0</td>\n      <td>0</td>\n      <td>0</td>\n      <td>0</td>\n      <td>0</td>\n    </tr>\n    <tr>\n      <th>28625</th>\n      <td>Mr. Frank Piper</td>\n      <td>1969</td>\n      <td>Basic</td>\n      <td>Married</td>\n      <td>30685.0</td>\n      <td>2</td>\n      <td>1</td>\n      <td>2021-12-25 00:00:00</td>\n      <td>35.0</td>\n      <td>60.0</td>\n      <td>120</td>\n      <td>120.0</td>\n      <td>180.0</td>\n      <td>180.0</td>\n      <td>18.0</td>\n      <td>3</td>\n      <td>4</td>\n      <td>2</td>\n      <td>3</td>\n      <td>6</td>\n      <td>0</td>\n      <td>0</td>\n      <td>0</td>\n      <td>0</td>\n      <td>0</td>\n      <td>0</td>\n    </tr>\n    <tr>\n      <th>28844</th>\n      <td>Mr. Neil Dowd</td>\n      <td>1981</td>\n      <td>Graduation</td>\n      <td>Married</td>\n      <td>93031.0</td>\n      <td>0</td>\n      <td>1</td>\n      <td>2022-06-29 00:00:00</td>\n      <td>43.0</td>\n      <td>6050.0</td>\n      <td>140</td>\n      <td>1275.0</td>\n      <td>140.0</td>\n      <td>140.0</td>\n      <td>7.0</td>\n      <td>1</td>\n      <td>10</td>\n      <td>3</td>\n      <td>10</td>\n      <td>4</td>\n      <td>0</td>\n      <td>0</td>\n      <td>1</td>\n      <td>0</td>\n      <td>0</td>\n      <td>0</td>\n    </tr>\n    <tr>\n      <th>30464</th>\n      <td>Miss Gabrielle Churchill</td>\n      <td>1960</td>\n      <td>Graduation</td>\n      <td>Together</td>\n      <td>99213.0</td>\n      <td>0</td>\n      <td>1</td>\n      <td>2021-05-02 00:00:00</td>\n      <td>9.0</td>\n      <td>2120.0</td>\n      <td>980</td>\n      <td>2700.0</td>\n      <td>1200.0</td>\n      <td>980.0</td>\n      <td>32.0</td>\n      <td>2</td>\n      <td>5</td>\n      <td>5</td>\n      <td>10</td>\n      <td>2</td>\n      <td>0</td>\n      <td>0</td>\n      <td>0</td>\n      <td>0</td>\n      <td>0</td>\n      <td>0</td>\n    </tr>\n  </tbody>\n</table>\n</div>"
     },
     "execution_count": 5,
     "metadata": {},
     "output_type": "execute_result"
    }
   ],
   "source": [
    "df[df.duplicated()] # checking duplicates"
   ]
  },
  {
   "cell_type": "code",
   "execution_count": 6,
   "id": "b97cf554",
   "metadata": {},
   "outputs": [],
   "source": [
    "df = df[~df.duplicated()] # drop duplicates rows"
   ]
  },
  {
   "cell_type": "markdown",
   "id": "7708f19d",
   "metadata": {},
   "source": [
    "# 2. Explore Data"
   ]
  },
  {
   "cell_type": "markdown",
   "metadata": {
    "collapsed": false
   },
   "source": [
    "## 2.0 Data profiling\n",
    "\n",
    "Se não quiserem instalar a biblioteca não corram esta secção. Caso contrário o comando para instalar é pip install ydata-profiling. No final **apagar esta secção**"
   ]
  },
  {
   "cell_type": "code",
   "execution_count": 7,
   "metadata": {
    "collapsed": false
   },
   "outputs": [],
   "source": [
    "#from ydata_profiling import ProfileReport\n",
    "#profile= ProfileReport (df, title= \"DSML_Project\")"
   ]
  },
  {
   "cell_type": "code",
   "execution_count": 8,
   "metadata": {
    "collapsed": false
   },
   "outputs": [],
   "source": [
    "#profile.to_file('DSML_profile.html')"
   ]
  },
  {
   "cell_type": "markdown",
   "id": "47f0cea9",
   "metadata": {},
   "source": [
    "## 2.1 Basic Exploration"
   ]
  },
  {
   "cell_type": "markdown",
   "id": "7a938300",
   "metadata": {},
   "source": [
    "Q: _To check the number of columns and rows_ we used `shape` _attribute_"
   ]
  },
  {
   "cell_type": "code",
   "execution_count": 9,
   "id": "6ee99fa7",
   "metadata": {},
   "outputs": [
    {
     "data": {
      "text/plain": "(7000, 26)"
     },
     "execution_count": 9,
     "metadata": {},
     "output_type": "execute_result"
    }
   ],
   "source": [
    "df.shape"
   ]
  },
  {
   "cell_type": "markdown",
   "id": "c353f14d",
   "metadata": {},
   "source": [
    "> A: _The dataset has **7000 rows** and **26 columns**_"
   ]
  },
  {
   "cell_type": "markdown",
   "id": "2b265b69",
   "metadata": {},
   "source": [
    "__*Q*__: Check the name of the features of the dataset we used `columns` _attribute_"
   ]
  },
  {
   "cell_type": "code",
   "execution_count": 10,
   "id": "df65ab3c",
   "metadata": {},
   "outputs": [
    {
     "data": {
      "text/plain": "Index(['Name', 'Birthyear', 'Education', 'Marital_Status', 'Income',\n       'Kid_Younger6', 'Children_6to18', 'Date_Adherence', 'Recency',\n       'MntMeat&Fish', 'MntEntries', 'MntVegan&Vegetarian', 'MntDrinks',\n       'MntDesserts', 'MntAdditionalRequests', 'NumOfferPurchases',\n       'NumAppPurchases', 'NumTakeAwayPurchases', 'NumStorePurchases',\n       'NumAppVisitsMonth', 'Complain', 'Response_Cmp1', 'Response_Cmp2',\n       'Response_Cmp3', 'Response_Cmp4', 'Response_Cmp5'],\n      dtype='object')"
     },
     "execution_count": 10,
     "metadata": {},
     "output_type": "execute_result"
    }
   ],
   "source": [
    "df.columns"
   ]
  },
  {
   "cell_type": "markdown",
   "id": "b0613146",
   "metadata": {},
   "source": [
    "> A: The dataset has the following columns/features names: <br>\n",
    "        >Index. CustomerID\n",
    "        >1. 'Name' <br>\n",
    "        >2. 'Birthyear'<br>\n",
    "        >3. 'Education'<br>\n",
    "        >4. 'Marital_Status'<br>\n",
    "        >5. 'Income'<br>\n",
    "        >6. 'Kid_Younger6'<br>\n",
    "        >7. 'Children_6to18'<br>\n",
    "        >8. 'Date_Adherence'<br>\n",
    "        >9. 'Recency'<br>\n",
    "        >10. 'MntMeat&Fish'<br>\n",
    "        >11. 'MntEntries'<br>\n",
    "        >12. 'MntVegan&Vegetarian'<br>\n",
    "        >13. 'MntDrinks'<br>\n",
    "        >14. 'MntDesserts'<br>\n",
    "        >15. 'MntAdditionalRequests'<br>\n",
    "        >16. 'NumOfferPurchases'<br>\n",
    "        >17. 'NumAppPurchases'<br>\n",
    "        >18. 'NumTakeAwayPurchases'<br>\n",
    "        >19. 'NumStorePurchases'<br>\n",
    "        >20. 'NumAppVisitsMonth'<br>\n",
    "        >21. 'Complain'<br>\n",
    "        >22. 'Response_Cmp1'<br>\n",
    "        >23. 'Response_Cmp2'<br>\n",
    "        >24. 'Response_Cmp3'<br>\n",
    "        >25. 'Response_Cmp4'<br>\n",
    "        >26. 'Response_Cmp5'<br>"
   ]
  },
  {
   "cell_type": "markdown",
   "id": "29734ade",
   "metadata": {},
   "source": [
    "Q: First glance of the dataset using `head` and `tail` methods to check the first and last 5 rows."
   ]
  },
  {
   "cell_type": "code",
   "execution_count": 11,
   "id": "3ccf8a80",
   "metadata": {},
   "outputs": [
    {
     "data": {
      "text/plain": "                          Name  Birthyear   Education Marital_Status  \\\nCustomerID                                                             \n14594          Miss Leah Lewis       1981  Graduation         Single   \n19070         Miss Grace Black       1974  Graduation       Together   \n29888       Mr. Gavin Morrison       1960         PhD       Together   \n\n              Income  Kid_Younger6  Children_6to18       Date_Adherence  \\\nCustomerID                                                                \n14594       113947.0             0               0  2021-01-09 00:00:00   \n19070       114297.0             0               0  2021-04-10 00:00:00   \n29888       115476.0             0               0  2022-01-12 00:00:00   \n\n            Recency  MntMeat&Fish  MntEntries  MntVegan&Vegetarian  MntDrinks  \\\nCustomerID                                                                      \n14594          43.0        4640.0        3380               5700.0     2240.0   \n19070          74.0        7080.0        3680               7620.0     1840.0   \n29888          85.0        4130.0         380               4890.0     3640.0   \n\n            MntDesserts  MntAdditionalRequests  NumOfferPurchases  \\\nCustomerID                                                          \n14594             562.0                  154.0                  2   \n19070            1220.0                   46.0                  1   \n29888             380.0                   28.0                  1   \n\n            NumAppPurchases  NumTakeAwayPurchases  NumStorePurchases  \\\nCustomerID                                                             \n14594                    10                     7                  7   \n19070                     5                     9                 12   \n29888                     5                     5                  7   \n\n            NumAppVisitsMonth  Complain  Response_Cmp1  Response_Cmp2  \\\nCustomerID                                                              \n14594                       4         0              0              1   \n19070                       2         0              0              0   \n29888                       1         0              0              0   \n\n            Response_Cmp3  Response_Cmp4  Response_Cmp5  \nCustomerID                                               \n14594                   0              0              0  \n19070                   0              0              0  \n29888                   0              0              0  ",
      "text/html": "<div>\n<style scoped>\n    .dataframe tbody tr th:only-of-type {\n        vertical-align: middle;\n    }\n\n    .dataframe tbody tr th {\n        vertical-align: top;\n    }\n\n    .dataframe thead th {\n        text-align: right;\n    }\n</style>\n<table border=\"1\" class=\"dataframe\">\n  <thead>\n    <tr style=\"text-align: right;\">\n      <th></th>\n      <th>Name</th>\n      <th>Birthyear</th>\n      <th>Education</th>\n      <th>Marital_Status</th>\n      <th>Income</th>\n      <th>Kid_Younger6</th>\n      <th>Children_6to18</th>\n      <th>Date_Adherence</th>\n      <th>Recency</th>\n      <th>MntMeat&amp;Fish</th>\n      <th>MntEntries</th>\n      <th>MntVegan&amp;Vegetarian</th>\n      <th>MntDrinks</th>\n      <th>MntDesserts</th>\n      <th>MntAdditionalRequests</th>\n      <th>NumOfferPurchases</th>\n      <th>NumAppPurchases</th>\n      <th>NumTakeAwayPurchases</th>\n      <th>NumStorePurchases</th>\n      <th>NumAppVisitsMonth</th>\n      <th>Complain</th>\n      <th>Response_Cmp1</th>\n      <th>Response_Cmp2</th>\n      <th>Response_Cmp3</th>\n      <th>Response_Cmp4</th>\n      <th>Response_Cmp5</th>\n    </tr>\n    <tr>\n      <th>CustomerID</th>\n      <th></th>\n      <th></th>\n      <th></th>\n      <th></th>\n      <th></th>\n      <th></th>\n      <th></th>\n      <th></th>\n      <th></th>\n      <th></th>\n      <th></th>\n      <th></th>\n      <th></th>\n      <th></th>\n      <th></th>\n      <th></th>\n      <th></th>\n      <th></th>\n      <th></th>\n      <th></th>\n      <th></th>\n      <th></th>\n      <th></th>\n      <th></th>\n      <th></th>\n      <th></th>\n    </tr>\n  </thead>\n  <tbody>\n    <tr>\n      <th>14594</th>\n      <td>Miss Leah Lewis</td>\n      <td>1981</td>\n      <td>Graduation</td>\n      <td>Single</td>\n      <td>113947.0</td>\n      <td>0</td>\n      <td>0</td>\n      <td>2021-01-09 00:00:00</td>\n      <td>43.0</td>\n      <td>4640.0</td>\n      <td>3380</td>\n      <td>5700.0</td>\n      <td>2240.0</td>\n      <td>562.0</td>\n      <td>154.0</td>\n      <td>2</td>\n      <td>10</td>\n      <td>7</td>\n      <td>7</td>\n      <td>4</td>\n      <td>0</td>\n      <td>0</td>\n      <td>1</td>\n      <td>0</td>\n      <td>0</td>\n      <td>0</td>\n    </tr>\n    <tr>\n      <th>19070</th>\n      <td>Miss Grace Black</td>\n      <td>1974</td>\n      <td>Graduation</td>\n      <td>Together</td>\n      <td>114297.0</td>\n      <td>0</td>\n      <td>0</td>\n      <td>2021-04-10 00:00:00</td>\n      <td>74.0</td>\n      <td>7080.0</td>\n      <td>3680</td>\n      <td>7620.0</td>\n      <td>1840.0</td>\n      <td>1220.0</td>\n      <td>46.0</td>\n      <td>1</td>\n      <td>5</td>\n      <td>9</td>\n      <td>12</td>\n      <td>2</td>\n      <td>0</td>\n      <td>0</td>\n      <td>0</td>\n      <td>0</td>\n      <td>0</td>\n      <td>0</td>\n    </tr>\n    <tr>\n      <th>29888</th>\n      <td>Mr. Gavin Morrison</td>\n      <td>1960</td>\n      <td>PhD</td>\n      <td>Together</td>\n      <td>115476.0</td>\n      <td>0</td>\n      <td>0</td>\n      <td>2022-01-12 00:00:00</td>\n      <td>85.0</td>\n      <td>4130.0</td>\n      <td>380</td>\n      <td>4890.0</td>\n      <td>3640.0</td>\n      <td>380.0</td>\n      <td>28.0</td>\n      <td>1</td>\n      <td>5</td>\n      <td>5</td>\n      <td>7</td>\n      <td>1</td>\n      <td>0</td>\n      <td>0</td>\n      <td>0</td>\n      <td>0</td>\n      <td>0</td>\n      <td>0</td>\n    </tr>\n  </tbody>\n</table>\n</div>"
     },
     "execution_count": 11,
     "metadata": {},
     "output_type": "execute_result"
    }
   ],
   "source": [
    "df.head(3)"
   ]
  },
  {
   "cell_type": "code",
   "execution_count": 12,
   "id": "bf42f408",
   "metadata": {},
   "outputs": [
    {
     "data": {
      "text/plain": "                            Name  Birthyear   Education Marital_Status  \\\nCustomerID                                                               \n29186       Mr. Thomas Churchill       1967         PhD       Together   \n23312         Miss Angela Murray       1989  Graduation         Single   \n15581          Miss Diana Taylor       1960  Graduation         Single   \n\n              Income  Kid_Younger6  Children_6to18       Date_Adherence  \\\nCustomerID                                                                \n29186        56039.0             0               1  2021-12-15 00:00:00   \n23312        44867.0             1               0  2020-11-12 00:00:00   \n15581       124379.0             0               0  2021-02-04 00:00:00   \n\n            Recency  MntMeat&Fish  MntEntries  MntVegan&Vegetarian  MntDrinks  \\\nCustomerID                                                                      \n29186          30.0         540.0           0                135.0        0.0   \n23312           8.0          80.0         120                210.0      120.0   \n15581          80.0        7280.0         422               1692.0     3760.0   \n\n            MntDesserts  MntAdditionalRequests  NumOfferPurchases  \\\nCustomerID                                                          \n29186               0.0                    5.0                  2   \n23312             100.0                   17.0                  1   \n15581            1880.0                  235.0                  1   \n\n            NumAppPurchases  NumTakeAwayPurchases  NumStorePurchases  \\\nCustomerID                                                             \n29186                     3                     1                  4   \n23312                     3                     1                  3   \n15581                     6                    12                 11   \n\n            NumAppVisitsMonth  Complain  Response_Cmp1  Response_Cmp2  \\\nCustomerID                                                              \n29186                       6         0              0              0   \n23312                       8         0              0              0   \n15581                       2         0              0              0   \n\n            Response_Cmp3  Response_Cmp4  Response_Cmp5  \nCustomerID                                               \n29186                   0              0              0  \n23312                   0              0              0  \n15581                   1              1              0  ",
      "text/html": "<div>\n<style scoped>\n    .dataframe tbody tr th:only-of-type {\n        vertical-align: middle;\n    }\n\n    .dataframe tbody tr th {\n        vertical-align: top;\n    }\n\n    .dataframe thead th {\n        text-align: right;\n    }\n</style>\n<table border=\"1\" class=\"dataframe\">\n  <thead>\n    <tr style=\"text-align: right;\">\n      <th></th>\n      <th>Name</th>\n      <th>Birthyear</th>\n      <th>Education</th>\n      <th>Marital_Status</th>\n      <th>Income</th>\n      <th>Kid_Younger6</th>\n      <th>Children_6to18</th>\n      <th>Date_Adherence</th>\n      <th>Recency</th>\n      <th>MntMeat&amp;Fish</th>\n      <th>MntEntries</th>\n      <th>MntVegan&amp;Vegetarian</th>\n      <th>MntDrinks</th>\n      <th>MntDesserts</th>\n      <th>MntAdditionalRequests</th>\n      <th>NumOfferPurchases</th>\n      <th>NumAppPurchases</th>\n      <th>NumTakeAwayPurchases</th>\n      <th>NumStorePurchases</th>\n      <th>NumAppVisitsMonth</th>\n      <th>Complain</th>\n      <th>Response_Cmp1</th>\n      <th>Response_Cmp2</th>\n      <th>Response_Cmp3</th>\n      <th>Response_Cmp4</th>\n      <th>Response_Cmp5</th>\n    </tr>\n    <tr>\n      <th>CustomerID</th>\n      <th></th>\n      <th></th>\n      <th></th>\n      <th></th>\n      <th></th>\n      <th></th>\n      <th></th>\n      <th></th>\n      <th></th>\n      <th></th>\n      <th></th>\n      <th></th>\n      <th></th>\n      <th></th>\n      <th></th>\n      <th></th>\n      <th></th>\n      <th></th>\n      <th></th>\n      <th></th>\n      <th></th>\n      <th></th>\n      <th></th>\n      <th></th>\n      <th></th>\n      <th></th>\n    </tr>\n  </thead>\n  <tbody>\n    <tr>\n      <th>29186</th>\n      <td>Mr. Thomas Churchill</td>\n      <td>1967</td>\n      <td>PhD</td>\n      <td>Together</td>\n      <td>56039.0</td>\n      <td>0</td>\n      <td>1</td>\n      <td>2021-12-15 00:00:00</td>\n      <td>30.0</td>\n      <td>540.0</td>\n      <td>0</td>\n      <td>135.0</td>\n      <td>0.0</td>\n      <td>0.0</td>\n      <td>5.0</td>\n      <td>2</td>\n      <td>3</td>\n      <td>1</td>\n      <td>4</td>\n      <td>6</td>\n      <td>0</td>\n      <td>0</td>\n      <td>0</td>\n      <td>0</td>\n      <td>0</td>\n      <td>0</td>\n    </tr>\n    <tr>\n      <th>23312</th>\n      <td>Miss Angela Murray</td>\n      <td>1989</td>\n      <td>Graduation</td>\n      <td>Single</td>\n      <td>44867.0</td>\n      <td>1</td>\n      <td>0</td>\n      <td>2020-11-12 00:00:00</td>\n      <td>8.0</td>\n      <td>80.0</td>\n      <td>120</td>\n      <td>210.0</td>\n      <td>120.0</td>\n      <td>100.0</td>\n      <td>17.0</td>\n      <td>1</td>\n      <td>3</td>\n      <td>1</td>\n      <td>3</td>\n      <td>8</td>\n      <td>0</td>\n      <td>0</td>\n      <td>0</td>\n      <td>0</td>\n      <td>0</td>\n      <td>0</td>\n    </tr>\n    <tr>\n      <th>15581</th>\n      <td>Miss Diana Taylor</td>\n      <td>1960</td>\n      <td>Graduation</td>\n      <td>Single</td>\n      <td>124379.0</td>\n      <td>0</td>\n      <td>0</td>\n      <td>2021-02-04 00:00:00</td>\n      <td>80.0</td>\n      <td>7280.0</td>\n      <td>422</td>\n      <td>1692.0</td>\n      <td>3760.0</td>\n      <td>1880.0</td>\n      <td>235.0</td>\n      <td>1</td>\n      <td>6</td>\n      <td>12</td>\n      <td>11</td>\n      <td>2</td>\n      <td>0</td>\n      <td>0</td>\n      <td>0</td>\n      <td>1</td>\n      <td>1</td>\n      <td>0</td>\n    </tr>\n  </tbody>\n</table>\n</div>"
     },
     "execution_count": 12,
     "metadata": {},
     "output_type": "execute_result"
    }
   ],
   "source": [
    "df.tail(3)"
   ]
  },
  {
   "cell_type": "markdown",
   "id": "ced4cb06",
   "metadata": {},
   "source": [
    "Q: To check the basic information of the dataset we've used the `info` method"
   ]
  },
  {
   "cell_type": "code",
   "execution_count": 13,
   "id": "cedc7804",
   "metadata": {},
   "outputs": [
    {
     "name": "stdout",
     "output_type": "stream",
     "text": [
      "<class 'pandas.core.frame.DataFrame'>\n",
      "Int64Index: 7000 entries, 14594 to 15581\n",
      "Data columns (total 26 columns):\n",
      " #   Column                 Non-Null Count  Dtype  \n",
      "---  ------                 --------------  -----  \n",
      " 0   Name                   7000 non-null   object \n",
      " 1   Birthyear              7000 non-null   int64  \n",
      " 2   Education              6986 non-null   object \n",
      " 3   Marital_Status         7000 non-null   object \n",
      " 4   Income                 7000 non-null   float64\n",
      " 5   Kid_Younger6           7000 non-null   int64  \n",
      " 6   Children_6to18         7000 non-null   int64  \n",
      " 7   Date_Adherence         7000 non-null   object \n",
      " 8   Recency                6977 non-null   float64\n",
      " 9   MntMeat&Fish           7000 non-null   float64\n",
      " 10  MntEntries             7000 non-null   int64  \n",
      " 11  MntVegan&Vegetarian    7000 non-null   float64\n",
      " 12  MntDrinks              6972 non-null   float64\n",
      " 13  MntDesserts            7000 non-null   float64\n",
      " 14  MntAdditionalRequests  7000 non-null   float64\n",
      " 15  NumOfferPurchases      7000 non-null   int64  \n",
      " 16  NumAppPurchases        7000 non-null   int64  \n",
      " 17  NumTakeAwayPurchases   7000 non-null   int64  \n",
      " 18  NumStorePurchases      7000 non-null   int64  \n",
      " 19  NumAppVisitsMonth      7000 non-null   int64  \n",
      " 20  Complain               7000 non-null   int64  \n",
      " 21  Response_Cmp1          7000 non-null   int64  \n",
      " 22  Response_Cmp2          7000 non-null   int64  \n",
      " 23  Response_Cmp3          7000 non-null   int64  \n",
      " 24  Response_Cmp4          7000 non-null   int64  \n",
      " 25  Response_Cmp5          7000 non-null   int64  \n",
      "dtypes: float64(7), int64(15), object(4)\n",
      "memory usage: 1.4+ MB\n"
     ]
    }
   ],
   "source": [
    "df.info()"
   ]
  },
  {
   "cell_type": "markdown",
   "id": "6794da09",
   "metadata": {},
   "source": [
    ">A: We can observe the data type of the dataset and the how many of features per data type  `dtypes: float64 - (7), int64 - (15), object - (4)`, the memory usage of `1.4+MB`, and the non-null values present per columns. <br>\n",
    "> Using only `info` method we understand that `'Education', 'Recency', 'MntDrinks'` have __14, 23, 28 null values__ that require some action."
   ]
  },
  {
   "cell_type": "markdown",
   "id": "87889183",
   "metadata": {},
   "source": [
    "# 2.2 Statistical Exploration"
   ]
  },
  {
   "cell_type": "markdown",
   "id": "849f7658",
   "metadata": {},
   "source": [
    "## 2.2.1 Numerical Variables"
   ]
  },
  {
   "cell_type": "code",
   "execution_count": 14,
   "id": "121f1c74",
   "metadata": {},
   "outputs": [
    {
     "data": {
      "text/plain": "         Birthyear         Income  Kid_Younger6  Children_6to18      Recency  \\\ncount  7000.000000    7000.000000   7000.000000     7000.000000  6977.000000   \nmean   1976.451429   77988.962407      0.440571        0.490571    49.235058   \nstd      11.996270   35409.810253      0.543477        0.542174    28.922688   \nmin    1948.000000    2493.800000      0.000000        0.000000     0.000000   \n25%    1967.000000   51586.250000      0.000000        0.000000    24.000000   \n50%    1977.000000   77190.000000      0.000000        0.000000    49.000000   \n75%    1985.000000  102016.250000      1.000000        1.000000    74.000000   \nmax    2005.000000  237639.725000      2.000000        2.000000    99.000000   \n\n       MntMeat&Fish   MntEntries  MntVegan&Vegetarian    MntDrinks  \\\ncount   7000.000000  7000.000000          7000.000000  6972.000000   \nmean    3079.523800   534.749429          2785.050786   545.657544   \nstd     3370.377166   787.846684          3908.718244   805.149088   \nmin        0.000000     0.000000             0.000000     0.000000   \n25%      250.000000    40.000000           240.000000    40.000000   \n50%     1820.000000   180.000000          1110.000000   180.000000   \n75%     5070.000000   680.000000          3795.000000   700.000000   \nmax    14980.000000  3980.000000         25974.000000  3980.000000   \n\n       MntDesserts  MntAdditionalRequests  NumOfferPurchases  NumAppPurchases  \\\ncount  7000.000000            7000.000000        7000.000000      7000.000000   \nmean    540.656029              42.556186           2.448429         6.015714   \nstd     802.221866              49.650747           2.306968         2.745537   \nmin       0.000000               0.000000           0.000000         0.000000   \n25%      40.000000               9.000000           1.000000         4.000000   \n50%     180.000000              24.000000           2.000000         6.000000   \n75%     680.000000              57.000000           3.000000         8.000000   \nmax    3980.000000             249.000000          16.000000        13.000000   \n\n       NumTakeAwayPurchases  NumStorePurchases  NumAppVisitsMonth  \\\ncount           7000.000000        7000.000000        7000.000000   \nmean               3.834571           5.790571           5.278286   \nstd                3.331142           3.295708           2.748596   \nmin                0.000000           0.000000           0.000000   \n25%                1.000000           3.000000           3.000000   \n50%                3.000000           5.000000           5.000000   \n75%                5.000000           8.000000           7.000000   \nmax               24.000000          13.000000          20.000000   \n\n          Complain  Response_Cmp1  Response_Cmp2  Response_Cmp3  \\\ncount  7000.000000    7000.000000    7000.000000    7000.000000   \nmean      0.010286       0.079143       0.073286       0.083000   \nstd       0.100903       0.269981       0.260624       0.275902   \nmin       0.000000       0.000000       0.000000       0.000000   \n25%       0.000000       0.000000       0.000000       0.000000   \n50%       0.000000       0.000000       0.000000       0.000000   \n75%       0.000000       0.000000       0.000000       0.000000   \nmax       1.000000       1.000000       1.000000       1.000000   \n\n       Response_Cmp4  Response_Cmp5  \ncount    7000.000000    7000.000000  \nmean        0.065857       0.014286  \nstd         0.248050       0.118675  \nmin         0.000000       0.000000  \n25%         0.000000       0.000000  \n50%         0.000000       0.000000  \n75%         0.000000       0.000000  \nmax         1.000000       1.000000  ",
      "text/html": "<div>\n<style scoped>\n    .dataframe tbody tr th:only-of-type {\n        vertical-align: middle;\n    }\n\n    .dataframe tbody tr th {\n        vertical-align: top;\n    }\n\n    .dataframe thead th {\n        text-align: right;\n    }\n</style>\n<table border=\"1\" class=\"dataframe\">\n  <thead>\n    <tr style=\"text-align: right;\">\n      <th></th>\n      <th>Birthyear</th>\n      <th>Income</th>\n      <th>Kid_Younger6</th>\n      <th>Children_6to18</th>\n      <th>Recency</th>\n      <th>MntMeat&amp;Fish</th>\n      <th>MntEntries</th>\n      <th>MntVegan&amp;Vegetarian</th>\n      <th>MntDrinks</th>\n      <th>MntDesserts</th>\n      <th>MntAdditionalRequests</th>\n      <th>NumOfferPurchases</th>\n      <th>NumAppPurchases</th>\n      <th>NumTakeAwayPurchases</th>\n      <th>NumStorePurchases</th>\n      <th>NumAppVisitsMonth</th>\n      <th>Complain</th>\n      <th>Response_Cmp1</th>\n      <th>Response_Cmp2</th>\n      <th>Response_Cmp3</th>\n      <th>Response_Cmp4</th>\n      <th>Response_Cmp5</th>\n    </tr>\n  </thead>\n  <tbody>\n    <tr>\n      <th>count</th>\n      <td>7000.000000</td>\n      <td>7000.000000</td>\n      <td>7000.000000</td>\n      <td>7000.000000</td>\n      <td>6977.000000</td>\n      <td>7000.000000</td>\n      <td>7000.000000</td>\n      <td>7000.000000</td>\n      <td>6972.000000</td>\n      <td>7000.000000</td>\n      <td>7000.000000</td>\n      <td>7000.000000</td>\n      <td>7000.000000</td>\n      <td>7000.000000</td>\n      <td>7000.000000</td>\n      <td>7000.000000</td>\n      <td>7000.000000</td>\n      <td>7000.000000</td>\n      <td>7000.000000</td>\n      <td>7000.000000</td>\n      <td>7000.000000</td>\n      <td>7000.000000</td>\n    </tr>\n    <tr>\n      <th>mean</th>\n      <td>1976.451429</td>\n      <td>77988.962407</td>\n      <td>0.440571</td>\n      <td>0.490571</td>\n      <td>49.235058</td>\n      <td>3079.523800</td>\n      <td>534.749429</td>\n      <td>2785.050786</td>\n      <td>545.657544</td>\n      <td>540.656029</td>\n      <td>42.556186</td>\n      <td>2.448429</td>\n      <td>6.015714</td>\n      <td>3.834571</td>\n      <td>5.790571</td>\n      <td>5.278286</td>\n      <td>0.010286</td>\n      <td>0.079143</td>\n      <td>0.073286</td>\n      <td>0.083000</td>\n      <td>0.065857</td>\n      <td>0.014286</td>\n    </tr>\n    <tr>\n      <th>std</th>\n      <td>11.996270</td>\n      <td>35409.810253</td>\n      <td>0.543477</td>\n      <td>0.542174</td>\n      <td>28.922688</td>\n      <td>3370.377166</td>\n      <td>787.846684</td>\n      <td>3908.718244</td>\n      <td>805.149088</td>\n      <td>802.221866</td>\n      <td>49.650747</td>\n      <td>2.306968</td>\n      <td>2.745537</td>\n      <td>3.331142</td>\n      <td>3.295708</td>\n      <td>2.748596</td>\n      <td>0.100903</td>\n      <td>0.269981</td>\n      <td>0.260624</td>\n      <td>0.275902</td>\n      <td>0.248050</td>\n      <td>0.118675</td>\n    </tr>\n    <tr>\n      <th>min</th>\n      <td>1948.000000</td>\n      <td>2493.800000</td>\n      <td>0.000000</td>\n      <td>0.000000</td>\n      <td>0.000000</td>\n      <td>0.000000</td>\n      <td>0.000000</td>\n      <td>0.000000</td>\n      <td>0.000000</td>\n      <td>0.000000</td>\n      <td>0.000000</td>\n      <td>0.000000</td>\n      <td>0.000000</td>\n      <td>0.000000</td>\n      <td>0.000000</td>\n      <td>0.000000</td>\n      <td>0.000000</td>\n      <td>0.000000</td>\n      <td>0.000000</td>\n      <td>0.000000</td>\n      <td>0.000000</td>\n      <td>0.000000</td>\n    </tr>\n    <tr>\n      <th>25%</th>\n      <td>1967.000000</td>\n      <td>51586.250000</td>\n      <td>0.000000</td>\n      <td>0.000000</td>\n      <td>24.000000</td>\n      <td>250.000000</td>\n      <td>40.000000</td>\n      <td>240.000000</td>\n      <td>40.000000</td>\n      <td>40.000000</td>\n      <td>9.000000</td>\n      <td>1.000000</td>\n      <td>4.000000</td>\n      <td>1.000000</td>\n      <td>3.000000</td>\n      <td>3.000000</td>\n      <td>0.000000</td>\n      <td>0.000000</td>\n      <td>0.000000</td>\n      <td>0.000000</td>\n      <td>0.000000</td>\n      <td>0.000000</td>\n    </tr>\n    <tr>\n      <th>50%</th>\n      <td>1977.000000</td>\n      <td>77190.000000</td>\n      <td>0.000000</td>\n      <td>0.000000</td>\n      <td>49.000000</td>\n      <td>1820.000000</td>\n      <td>180.000000</td>\n      <td>1110.000000</td>\n      <td>180.000000</td>\n      <td>180.000000</td>\n      <td>24.000000</td>\n      <td>2.000000</td>\n      <td>6.000000</td>\n      <td>3.000000</td>\n      <td>5.000000</td>\n      <td>5.000000</td>\n      <td>0.000000</td>\n      <td>0.000000</td>\n      <td>0.000000</td>\n      <td>0.000000</td>\n      <td>0.000000</td>\n      <td>0.000000</td>\n    </tr>\n    <tr>\n      <th>75%</th>\n      <td>1985.000000</td>\n      <td>102016.250000</td>\n      <td>1.000000</td>\n      <td>1.000000</td>\n      <td>74.000000</td>\n      <td>5070.000000</td>\n      <td>680.000000</td>\n      <td>3795.000000</td>\n      <td>700.000000</td>\n      <td>680.000000</td>\n      <td>57.000000</td>\n      <td>3.000000</td>\n      <td>8.000000</td>\n      <td>5.000000</td>\n      <td>8.000000</td>\n      <td>7.000000</td>\n      <td>0.000000</td>\n      <td>0.000000</td>\n      <td>0.000000</td>\n      <td>0.000000</td>\n      <td>0.000000</td>\n      <td>0.000000</td>\n    </tr>\n    <tr>\n      <th>max</th>\n      <td>2005.000000</td>\n      <td>237639.725000</td>\n      <td>2.000000</td>\n      <td>2.000000</td>\n      <td>99.000000</td>\n      <td>14980.000000</td>\n      <td>3980.000000</td>\n      <td>25974.000000</td>\n      <td>3980.000000</td>\n      <td>3980.000000</td>\n      <td>249.000000</td>\n      <td>16.000000</td>\n      <td>13.000000</td>\n      <td>24.000000</td>\n      <td>13.000000</td>\n      <td>20.000000</td>\n      <td>1.000000</td>\n      <td>1.000000</td>\n      <td>1.000000</td>\n      <td>1.000000</td>\n      <td>1.000000</td>\n      <td>1.000000</td>\n    </tr>\n  </tbody>\n</table>\n</div>"
     },
     "execution_count": 14,
     "metadata": {},
     "output_type": "execute_result"
    }
   ],
   "source": [
    "df.describe()"
   ]
  },
  {
   "cell_type": "markdown",
   "metadata": {
    "collapsed": false
   },
   "source": [
    "> _The describe return we can get a first glance and make some conclusion:_\n",
    "\n",
    ">__Birthyear__ - could originate an Age column for readability purposes<br>\n",
    "__Income__ - Min and Max are very far from each other and far from the mean value which could indicate outliers<br>\n",
    "__Recency__ - 6977 valid values, hence we should look in deep and decide on how to minimize that effect of missing values<br>\n",
    "__MntMeat&Fish__ - Min and Max are distant from each other and have high standard deviation which could effect some future conclusion<br>\n",
    "__MntEntries__ - Again has high standard deviation that we should analyze, Min and Max far apart, similar to MntMeat&Fish<br>\n",
    "__MntVegan&Vegetarian__ - Similar to the previous two Mnt columns<br>\n",
    "__MntDrinks, MntDesserts__ - Seems to be very similar between them<br>\n",
    "__MntAdditionalRequests__ - The max value standard deviation seems high and also the max value very far apart from the mean<br>\n",
    "__NumOfferPurchases, NumTakeAwayPurchases, NumAppVisitsMonth__  - Have a max value to distante from the mean that could be true but we need to take into account<br>\n",
    "__NumAppPurchases, SumStorePurchases__ - Seems does not have strange summary statistcs<br>\n",
    "__Kid_Younger6, Children_6to18__ - 75% of clients have at least one child"
   ]
  },
  {
   "cell_type": "markdown",
   "metadata": {
    "collapsed": false
   },
   "source": [
    "**Q**: Skewness of each variable "
   ]
  },
  {
   "cell_type": "code",
   "execution_count": 15,
   "metadata": {
    "collapsed": false
   },
   "outputs": [
    {
     "name": "stderr",
     "output_type": "stream",
     "text": [
      "C:\\Users\\guisi\\AppData\\Local\\Temp\\ipykernel_22920\\547062910.py:1: FutureWarning: The default value of numeric_only in DataFrame.skew is deprecated. In a future version, it will default to False. In addition, specifying 'numeric_only=None' is deprecated. Select only valid columns or specify the value of numeric_only to silence this warning.\n",
      "  df.skew()\n"
     ]
    },
    {
     "data": {
      "text/plain": "Birthyear               -0.092478\nIncome                   0.844721\nKid_Younger6             0.693587\nChildren_6to18           0.451693\nRecency                  0.017676\nMntMeat&Fish             1.148862\nMntEntries               2.087220\nMntVegan&Vegetarian      2.486897\nMntDrinks                2.046308\nMntDesserts              2.057811\nMntAdditionalRequests    1.826522\nNumOfferPurchases        2.860514\nNumAppPurchases          0.525873\nNumTakeAwayPurchases     2.254158\nNumStorePurchases        0.623254\nNumAppVisitsMonth        1.005192\nComplain                 9.709429\nResponse_Cmp1            3.118572\nResponse_Cmp2            3.275500\nResponse_Cmp3            3.023677\nResponse_Cmp4            3.501448\nResponse_Cmp5            8.187993\ndtype: float64"
     },
     "execution_count": 15,
     "metadata": {},
     "output_type": "execute_result"
    }
   ],
   "source": [
    "df.skew()"
   ]
  },
  {
   "cell_type": "markdown",
   "metadata": {
    "collapsed": false
   },
   "source": [
    "Concerning the variables' skewness, we can conclude the following:\n",
    "- `Moderate skewness (between |0.5| and |1.0|)`: Birthyear, Income, Kid_Younger6, Children_6to18, Recency, NumAppPurchases, NumStorePurchases, NumAppVisitsMonth\n",
    "- `High skewness (higher than |1.0|)`: MntMeat&Fish, MntEntries, MntVegan&Vegetarian, MntDrinks, MntDesserts, MntAdditionalRequests, NumOfferPurchases, NumTakeAwayPurchases, Complain, Response_Cmp1, Response_Cmp2, Response_Cmp3, Response_Cmp4, Response_Cmp5"
   ]
  },
  {
   "cell_type": "code",
   "execution_count": 16,
   "metadata": {
    "collapsed": false
   },
   "outputs": [
    {
     "name": "stderr",
     "output_type": "stream",
     "text": [
      "C:\\Users\\guisi\\AppData\\Local\\Temp\\ipykernel_22920\\3952544226.py:1: FutureWarning: The default value of numeric_only in DataFrame.kurt is deprecated. In a future version, it will default to False. In addition, specifying 'numeric_only=None' is deprecated. Select only valid columns or specify the value of numeric_only to silence this warning.\n",
      "  df.kurt()\n"
     ]
    },
    {
     "data": {
      "text/plain": "Birthyear                -0.857341\nIncome                    2.649035\nKid_Younger6             -0.651127\nChildren_6to18           -0.973333\nRecency                  -1.197978\nMntMeat&Fish              0.532098\nMntEntries                4.096167\nMntVegan&Vegetarian       8.431538\nMntDrinks                 3.839256\nMntDesserts               3.813464\nMntAdditionalRequests     3.084190\nNumOfferPurchases        10.997946\nNumAppPurchases          -0.222899\nNumTakeAwayPurchases      8.582138\nNumStorePurchases        -0.694327\nNumAppVisitsMonth         4.992870\nComplain                 92.299387\nResponse_Cmp1             7.727700\nResponse_Cmp2             8.731398\nResponse_Cmp3             7.144665\nResponse_Cmp4            10.263068\nResponse_Cmp5            65.061813\ndtype: float64"
     },
     "execution_count": 16,
     "metadata": {},
     "output_type": "execute_result"
    }
   ],
   "source": [
    "df.kurt()"
   ]
  },
  {
   "cell_type": "markdown",
   "metadata": {
    "collapsed": false
   },
   "source": [
    "Features with kurtosis higher than 3 could indicate presence of outliers, hence we should have special considerantion with the following features:\n",
    ">MntEntries, MntVegan&Vegetarian, MntDrinks, MntDesserts, NumOfferPurchases, NumAppVisitsMonth\n",
    "\n",
    "Note: Binomial Variables Complain, and Response_Cmp1 the kurtosis we will not consider as outliers"
   ]
  },
  {
   "cell_type": "markdown",
   "metadata": {
    "collapsed": false
   },
   "source": [
    "## 2.2.2 Categorical Values"
   ]
  },
  {
   "cell_type": "code",
   "execution_count": 17,
   "metadata": {
    "collapsed": false
   },
   "outputs": [
    {
     "data": {
      "text/plain": "                     Name   Education Marital_Status       Date_Adherence\ncount                7000        6986           7000                 7000\nunique               6241           9             10                  701\ntop     Mr. Stewart Grant  Graduation        Married  2020-09-19 00:00:00\nfreq                    3        3497           2830                   23",
      "text/html": "<div>\n<style scoped>\n    .dataframe tbody tr th:only-of-type {\n        vertical-align: middle;\n    }\n\n    .dataframe tbody tr th {\n        vertical-align: top;\n    }\n\n    .dataframe thead th {\n        text-align: right;\n    }\n</style>\n<table border=\"1\" class=\"dataframe\">\n  <thead>\n    <tr style=\"text-align: right;\">\n      <th></th>\n      <th>Name</th>\n      <th>Education</th>\n      <th>Marital_Status</th>\n      <th>Date_Adherence</th>\n    </tr>\n  </thead>\n  <tbody>\n    <tr>\n      <th>count</th>\n      <td>7000</td>\n      <td>6986</td>\n      <td>7000</td>\n      <td>7000</td>\n    </tr>\n    <tr>\n      <th>unique</th>\n      <td>6241</td>\n      <td>9</td>\n      <td>10</td>\n      <td>701</td>\n    </tr>\n    <tr>\n      <th>top</th>\n      <td>Mr. Stewart Grant</td>\n      <td>Graduation</td>\n      <td>Married</td>\n      <td>2020-09-19 00:00:00</td>\n    </tr>\n    <tr>\n      <th>freq</th>\n      <td>3</td>\n      <td>3497</td>\n      <td>2830</td>\n      <td>23</td>\n    </tr>\n  </tbody>\n</table>\n</div>"
     },
     "execution_count": 17,
     "metadata": {},
     "output_type": "execute_result"
    }
   ],
   "source": [
    "df.describe(include = object)"
   ]
  },
  {
   "cell_type": "markdown",
   "metadata": {
    "collapsed": false
   },
   "source": [
    "> We can conclude that the education as **14 missing** values"
   ]
  },
  {
   "cell_type": "markdown",
   "metadata": {
    "collapsed": false
   },
   "source": [
    "#### Level/Possible values of Categorical Features"
   ]
  },
  {
   "cell_type": "markdown",
   "metadata": {
    "collapsed": false
   },
   "source": [
    "### `Name` prefix unique values and count"
   ]
  },
  {
   "cell_type": "code",
   "execution_count": 18,
   "metadata": {
    "collapsed": false
   },
   "outputs": [
    {
     "data": {
      "text/plain": "Mr.     5133\nMiss    1469\nMrs.     398\nName: 0, dtype: int64"
     },
     "execution_count": 18,
     "metadata": {},
     "output_type": "execute_result"
    }
   ],
   "source": [
    "df['Name'].str.partition(\" \")[0].value_counts()"
   ]
  },
  {
   "cell_type": "markdown",
   "metadata": {
    "collapsed": false
   },
   "source": [
    "With the prefix we can generate a `gender` feature to further explore the dataset. We will deal with that in the data transformation capther"
   ]
  },
  {
   "cell_type": "markdown",
   "metadata": {
    "collapsed": false
   },
   "source": [
    "#### **`Gender`** feature creation"
   ]
  },
  {
   "cell_type": "code",
   "execution_count": 19,
   "metadata": {
    "collapsed": false
   },
   "outputs": [],
   "source": [
    "df[\"Gender\"] = df['Name'].str.partition(\" \")[0]\n",
    "df = df.replace({\"Gender\":{\"Mr.\": 1,\"Miss\": 0,\"Mrs.\": 0}})"
   ]
  },
  {
   "cell_type": "markdown",
   "metadata": {
    "collapsed": false
   },
   "source": [
    "### `Education` unique values and count"
   ]
  },
  {
   "cell_type": "code",
   "execution_count": 20,
   "metadata": {
    "collapsed": false
   },
   "outputs": [
    {
     "data": {
      "text/plain": "Graduation    3497\nPhD           1494\nMaster        1135\nHighSchool     663\nBasic          179\nmaster           7\ngraduation       7\nphd              2\nhighschool       2\nName: Education, dtype: int64"
     },
     "execution_count": 20,
     "metadata": {},
     "output_type": "execute_result"
    }
   ],
   "source": [
    "df[\"Education\"].value_counts()"
   ]
  },
  {
   "cell_type": "markdown",
   "metadata": {
    "collapsed": false
   },
   "source": [
    "We have some issues that will need trasformatioin:<br>\n",
    "- Graduation, Master, HighSchool are written in different ways<br>\n",
    "- `Basic` and `HighSchool` need different levels?"
   ]
  },
  {
   "cell_type": "markdown",
   "metadata": {
    "collapsed": false
   },
   "source": [
    "#### Education standardization"
   ]
  },
  {
   "cell_type": "code",
   "execution_count": 21,
   "metadata": {
    "collapsed": false
   },
   "outputs": [],
   "source": [
    "df = df.replace({\"Education\":{\"master\":\"Master\", \"graduation\":\"Graduation\", \"phd\":\"PhD\",\"highschool\":\"HighSchool\"}})"
   ]
  },
  {
   "cell_type": "markdown",
   "metadata": {
    "collapsed": false
   },
   "source": [
    "### `Marital_Status` unique values and count"
   ]
  },
  {
   "cell_type": "code",
   "execution_count": 22,
   "metadata": {
    "collapsed": false
   },
   "outputs": [
    {
     "data": {
      "text/plain": "Married     2830\nTogether    1683\nSingle      1525\nDivorced     637\nWidow        243\nmarried       36\ntogether      23\nsingle        13\ndivorced       8\nwidow          2\nName: Marital_Status, dtype: int64"
     },
     "execution_count": 22,
     "metadata": {},
     "output_type": "execute_result"
    }
   ],
   "source": [
    "df[\"Marital_Status\"].value_counts()"
   ]
  },
  {
   "cell_type": "markdown",
   "metadata": {
    "collapsed": false
   },
   "source": [
    "Similarly to previous feature we also have some issues that need transformation:<br>\n",
    "- Married, Together, Single, Divorced and Widow are written with lower and capital letters\n",
    "- We could also consider that Married and Together are similar and joined them in the same level<br>"
   ]
  },
  {
   "cell_type": "markdown",
   "metadata": {
    "collapsed": false
   },
   "source": [
    "#### Marital_Status standardization"
   ]
  },
  {
   "cell_type": "code",
   "execution_count": 23,
   "metadata": {
    "collapsed": false
   },
   "outputs": [
    {
     "data": {
      "text/plain": "Married     4572\nSingle      1538\nDivorced     645\nWidow        245\nName: Marital_Status, dtype: int64"
     },
     "execution_count": 23,
     "metadata": {},
     "output_type": "execute_result"
    }
   ],
   "source": [
    "df = df.replace({\"Marital_Status\":{\"married\":\"Married\", \"together\":\"Married\", \"single\":\"Single\",\"widow\":\"Widow\",\"divorced\":\"Divorced\",\"Together\":\"Married\"}})\n",
    "df[\"Marital_Status\"].value_counts()"
   ]
  },
  {
   "cell_type": "markdown",
   "metadata": {
    "collapsed": false
   },
   "source": [
    "`Date_Adherence` unqiue values and count"
   ]
  },
  {
   "cell_type": "code",
   "execution_count": 24,
   "metadata": {
    "collapsed": false
   },
   "outputs": [
    {
     "data": {
      "text/plain": "2020-09-19    23\n2021-08-22    20\n2021-07-30    20\n2022-05-23    20\n2021-08-21    19\n              ..\n2021-03-09     3\n2020-09-18     2\n2020-07-30     2\n2020-08-29     2\n2021-03-22     2\nName: Date_Adherence, Length: 701, dtype: int64"
     },
     "execution_count": 24,
     "metadata": {},
     "output_type": "execute_result"
    }
   ],
   "source": [
    "df[\"Date_Adherence\"].value_counts()"
   ]
  },
  {
   "cell_type": "markdown",
   "metadata": {
    "collapsed": false
   },
   "source": [
    "`Date_Adherence` is a date and will need transformation to a date format for further exploration"
   ]
  },
  {
   "cell_type": "markdown",
   "metadata": {
    "collapsed": false
   },
   "source": [
    "## 2.3 Visual Exploration"
   ]
  },
  {
   "cell_type": "markdown",
   "metadata": {
    "collapsed": false
   },
   "source": [
    "### 2.3.1 Numerical Variables"
   ]
  },
  {
   "cell_type": "markdown",
   "metadata": {
    "collapsed": false
   },
   "source": [
    "## 2.4. In-Depth Exploration"
   ]
  },
  {
   "cell_type": "code",
   "execution_count": 24,
   "metadata": {
    "collapsed": false
   },
   "outputs": [],
   "source": []
  },
  {
   "cell_type": "markdown",
   "metadata": {
    "collapsed": false
   },
   "source": [
    "# 3. Preprocess Data"
   ]
  },
  {
   "cell_type": "markdown",
   "metadata": {
    "collapsed": false
   },
   "source": [
    "## 3.1. Data Cleaning"
   ]
  },
  {
   "cell_type": "markdown",
   "metadata": {
    "collapsed": false
   },
   "source": [
    "### 3.1.1. Outliers"
   ]
  },
  {
   "cell_type": "markdown",
   "metadata": {
    "collapsed": false
   },
   "source": [
    "- boxplot?"
   ]
  },
  {
   "cell_type": "markdown",
   "metadata": {
    "collapsed": false
   },
   "source": [
    "### 3.1.2. Missing Values"
   ]
  },
  {
   "cell_type": "code",
   "execution_count": 25,
   "metadata": {
    "collapsed": false
   },
   "outputs": [
    {
     "data": {
      "text/plain": "0"
     },
     "execution_count": 25,
     "metadata": {},
     "output_type": "execute_result"
    }
   ],
   "source": [
    "df[\"Response_Cmp1\"].isna().sum()"
   ]
  },
  {
   "cell_type": "code",
   "execution_count": 26,
   "metadata": {
    "collapsed": false
   },
   "outputs": [
    {
     "data": {
      "text/plain": "0"
     },
     "execution_count": 26,
     "metadata": {},
     "output_type": "execute_result"
    }
   ],
   "source": [
    "df[\"Response_Cmp2\"].isna().sum()"
   ]
  },
  {
   "cell_type": "code",
   "execution_count": 27,
   "metadata": {
    "collapsed": false
   },
   "outputs": [
    {
     "data": {
      "text/plain": "0"
     },
     "execution_count": 27,
     "metadata": {},
     "output_type": "execute_result"
    }
   ],
   "source": [
    "df[\"Response_Cmp3\"].isna().sum()"
   ]
  },
  {
   "cell_type": "code",
   "execution_count": 28,
   "metadata": {
    "collapsed": false
   },
   "outputs": [
    {
     "data": {
      "text/plain": "0"
     },
     "execution_count": 28,
     "metadata": {},
     "output_type": "execute_result"
    }
   ],
   "source": [
    "df[\"Response_Cmp4\"].isna().sum()\n"
   ]
  },
  {
   "cell_type": "code",
   "execution_count": 29,
   "metadata": {
    "collapsed": false
   },
   "outputs": [
    {
     "name": "stdout",
     "output_type": "stream",
     "text": [
      "<class 'pandas.core.frame.DataFrame'>\n",
      "Int64Index: 7000 entries, 14594 to 15581\n",
      "Data columns (total 27 columns):\n",
      " #   Column                 Non-Null Count  Dtype  \n",
      "---  ------                 --------------  -----  \n",
      " 0   Name                   7000 non-null   object \n",
      " 1   Birthyear              7000 non-null   int64  \n",
      " 2   Education              6986 non-null   object \n",
      " 3   Marital_Status         7000 non-null   object \n",
      " 4   Income                 7000 non-null   float64\n",
      " 5   Kid_Younger6           7000 non-null   int64  \n",
      " 6   Children_6to18         7000 non-null   int64  \n",
      " 7   Date_Adherence         7000 non-null   object \n",
      " 8   Recency                6977 non-null   float64\n",
      " 9   MntMeat&Fish           7000 non-null   float64\n",
      " 10  MntEntries             7000 non-null   int64  \n",
      " 11  MntVegan&Vegetarian    7000 non-null   float64\n",
      " 12  MntDrinks              6972 non-null   float64\n",
      " 13  MntDesserts            7000 non-null   float64\n",
      " 14  MntAdditionalRequests  7000 non-null   float64\n",
      " 15  NumOfferPurchases      7000 non-null   int64  \n",
      " 16  NumAppPurchases        7000 non-null   int64  \n",
      " 17  NumTakeAwayPurchases   7000 non-null   int64  \n",
      " 18  NumStorePurchases      7000 non-null   int64  \n",
      " 19  NumAppVisitsMonth      7000 non-null   int64  \n",
      " 20  Complain               7000 non-null   int64  \n",
      " 21  Response_Cmp1          7000 non-null   int64  \n",
      " 22  Response_Cmp2          7000 non-null   int64  \n",
      " 23  Response_Cmp3          7000 non-null   int64  \n",
      " 24  Response_Cmp4          7000 non-null   int64  \n",
      " 25  Response_Cmp5          7000 non-null   int64  \n",
      " 26  Gender                 7000 non-null   int64  \n",
      "dtypes: float64(7), int64(16), object(4)\n",
      "memory usage: 1.5+ MB\n"
     ]
    }
   ],
   "source": [
    "df.info()"
   ]
  },
  {
   "cell_type": "code",
   "execution_count": 30,
   "metadata": {
    "collapsed": false
   },
   "outputs": [
    {
     "data": {
      "text/plain": "Name                      0\nBirthyear                 0\nEducation                14\nMarital_Status            0\nIncome                    0\nKid_Younger6              0\nChildren_6to18            0\nDate_Adherence            0\nRecency                  23\nMntMeat&Fish              0\nMntEntries                0\nMntVegan&Vegetarian       0\nMntDrinks                28\nMntDesserts               0\nMntAdditionalRequests     0\nNumOfferPurchases         0\nNumAppPurchases           0\nNumTakeAwayPurchases      0\nNumStorePurchases         0\nNumAppVisitsMonth         0\nComplain                  0\nResponse_Cmp1             0\nResponse_Cmp2             0\nResponse_Cmp3             0\nResponse_Cmp4             0\nResponse_Cmp5             0\nGender                    0\ndtype: int64"
     },
     "execution_count": 30,
     "metadata": {},
     "output_type": "execute_result"
    }
   ],
   "source": [
    "df.isna().sum()"
   ]
  },
  {
   "cell_type": "markdown",
   "metadata": {
    "collapsed": false
   },
   "source": [
    "- **`Education`**, **`Recency`**, **`MntDrinks`** and **`MntTotal`** (due to dependancy of `MntDrinks`) have missing values"
   ]
  },
  {
   "cell_type": "markdown",
   "metadata": {
    "collapsed": false
   },
   "source": [
    "#### Filling the missing values"
   ]
  },
  {
   "cell_type": "markdown",
   "metadata": {
    "collapsed": false
   },
   "source": []
  },
  {
   "cell_type": "markdown",
   "metadata": {
    "collapsed": false
   },
   "source": [
    "Fill `Education` with the mode"
   ]
  },
  {
   "cell_type": "code",
   "execution_count": 31,
   "metadata": {
    "collapsed": false
   },
   "outputs": [],
   "source": [
    "df[\"Education\"].fillna(df[\"Education\"].mode()[0], inplace = True)"
   ]
  },
  {
   "cell_type": "markdown",
   "metadata": {
    "collapsed": false
   },
   "source": [
    "Fill `Recency` with the median value"
   ]
  },
  {
   "cell_type": "code",
   "execution_count": 32,
   "metadata": {
    "collapsed": false
   },
   "outputs": [],
   "source": [
    "df[\"Recency\"].fillna(df[\"Recency\"].mean(), inplace = True)"
   ]
  },
  {
   "cell_type": "code",
   "execution_count": 34,
   "metadata": {
    "collapsed": false
   },
   "outputs": [],
   "source": [
    "#df.drop(columns = \"MntTotal\", inplace = True)"
   ]
  },
  {
   "cell_type": "code",
   "execution_count": 35,
   "metadata": {
    "collapsed": false
   },
   "outputs": [],
   "source": [
    "df_mnt = df[[ 'MntMeat&Fish', 'MntEntries', 'MntVegan&Vegetarian', 'MntDrinks',\n",
    "       'MntDesserts', 'MntAdditionalRequests']]\n",
    "\n",
    "imputer = KNNImputer(n_neighbors=3)\n",
    "array_impute = imputer.fit_transform(df_mnt)\n",
    "df_mnt = pd.DataFrame(array_impute, columns = df_mnt.columns)"
   ]
  },
  {
   "cell_type": "code",
   "execution_count": 36,
   "metadata": {
    "collapsed": false
   },
   "outputs": [],
   "source": [
    "df[\"MntDrinks\"] = df_mnt[\"MntDrinks\"].values"
   ]
  },
  {
   "cell_type": "code",
   "execution_count": 37,
   "metadata": {
    "collapsed": false
   },
   "outputs": [],
   "source": [
    "df[\"MntTotal\"] = df['MntMeat&Fish'] + df['MntEntries'] + df['MntVegan&Vegetarian'] + df['MntDrinks'] + df['MntDesserts']"
   ]
  },
  {
   "cell_type": "code",
   "execution_count": 38,
   "metadata": {
    "collapsed": false
   },
   "outputs": [
    {
     "data": {
      "text/plain": "Name                     0\nBirthyear                0\nEducation                0\nMarital_Status           0\nIncome                   0\nKid_Younger6             0\nChildren_6to18           0\nDate_Adherence           0\nRecency                  0\nMntMeat&Fish             0\nMntEntries               0\nMntVegan&Vegetarian      0\nMntDrinks                0\nMntDesserts              0\nMntAdditionalRequests    0\nNumOfferPurchases        0\nNumAppPurchases          0\nNumTakeAwayPurchases     0\nNumStorePurchases        0\nNumAppVisitsMonth        0\nComplain                 0\nResponse_Cmp1            0\nResponse_Cmp2            0\nResponse_Cmp3            0\nResponse_Cmp4            0\nResponse_Cmp5            0\nGender                   0\nMntTotal                 0\ndtype: int64"
     },
     "execution_count": 38,
     "metadata": {},
     "output_type": "execute_result"
    }
   ],
   "source": [
    "df.isna().sum()"
   ]
  },
  {
   "cell_type": "markdown",
   "metadata": {
    "collapsed": false
   },
   "source": [
    "## 3.2. Data Transformation"
   ]
  },
  {
   "cell_type": "markdown",
   "metadata": {
    "collapsed": false
   },
   "source": [
    "### 3.2.1. Create new Variables"
   ]
  },
  {
   "cell_type": "markdown",
   "metadata": {
    "collapsed": false
   },
   "source": [
    "### Utils"
   ]
  },
  {
   "cell_type": "markdown",
   "metadata": {
    "collapsed": false
   },
   "source": [
    "#### Creating Age variable from the Birthyear"
   ]
  },
  {
   "cell_type": "code",
   "execution_count": 39,
   "metadata": {
    "collapsed": false
   },
   "outputs": [],
   "source": [
    "df['Age'] = df.Birthyear.apply(lambda x: date.today().year-x)"
   ]
  },
  {
   "cell_type": "markdown",
   "id": "a796c176",
   "metadata": {},
   "source": []
  },
  {
   "cell_type": "code",
   "execution_count": 40,
   "metadata": {
    "collapsed": false
   },
   "outputs": [],
   "source": [
    "#### Creating card adherence age variable from the Date adherence"
   ]
  },
  {
   "cell_type": "code",
   "execution_count": 41,
   "metadata": {
    "collapsed": false
   },
   "outputs": [],
   "source": [
    "from datetime import datetime\n",
    "df = df.replace({\"Date_Adherence\":{\"2/29/2022\": datetime.strptime(\"2022-03-01\", '%Y-%m-%d')}}) #2022 is not a leap year, therefore 29/02/2022 is not a possible day"
   ]
  },
  {
   "cell_type": "code",
   "execution_count": 42,
   "metadata": {
    "collapsed": false
   },
   "outputs": [],
   "source": [
    "df['daysAsCardClient'] = df['Date_Adherence'].apply(lambda x: (date.today() - x.date()).days)"
   ]
  },
  {
   "cell_type": "code",
   "execution_count": 43,
   "metadata": {
    "collapsed": false
   },
   "outputs": [],
   "source": [
    "edu_encode = pd.get_dummies(df.Education, drop_first= True)\n",
    "df = pd.concat([df, edu_encode], axis = 1)\n",
    "df.drop('Education', axis = 1, inplace = True)"
   ]
  },
  {
   "cell_type": "code",
   "execution_count": 44,
   "metadata": {
    "collapsed": false
   },
   "outputs": [],
   "source": [
    "marital_encode = pd.get_dummies(df.Marital_Status, drop_first= True)\n",
    "df = pd.concat([df, marital_encode], axis = 1)\n",
    "df.drop('Marital_Status', axis= 1, inplace = True)"
   ]
  },
  {
   "cell_type": "code",
   "execution_count": 45,
   "outputs": [
    {
     "data": {
      "text/plain": "CustomerID\n14594    16676.0\n19070    21486.0\n29888    13448.0\n12221     5634.0\n21107    17303.0\n          ...   \n30686    15665.0\n17210    24246.0\n29186      680.0\n23312      647.0\n15581    15269.0\nName: MntTotal, Length: 7000, dtype: float64"
     },
     "execution_count": 45,
     "metadata": {},
     "output_type": "execute_result"
    }
   ],
   "source": [
    "df[\"MntTotal\"] = df['MntMeat&Fish'] + df['MntEntries'] + df['MntVegan&Vegetarian'] + df['MntDrinks'] + df['MntDesserts'] + df['MntAdditionalRequests']\n",
    "df[\"MntTotal\"]\n",
    "# em falta Mnt Add Requests"
   ],
   "metadata": {
    "collapsed": false
   }
  },
  {
   "cell_type": "code",
   "execution_count": 46,
   "metadata": {
    "collapsed": false
   },
   "outputs": [],
   "source": [
    "df['Mnt_pday_card']= df.MntTotal/df.daysAsCardClient"
   ]
  },
  {
   "cell_type": "code",
   "execution_count": 47,
   "outputs": [],
   "source": [
    "df['Response_Campaigns'] = df['Response_Cmp1'] + df['Response_Cmp2'] + df['Response_Cmp3'] + df['Response_Cmp4'] + df[\n",
    "       'Response_Cmp5']"
   ],
   "metadata": {
    "collapsed": false
   }
  },
  {
   "cell_type": "markdown",
   "metadata": {
    "collapsed": false
   },
   "source": [
    "## Data Review\n",
    "\n",
    "Ver a dataframe no seu estado final\n",
    "Drop: Id, name, birthyear, date_adherence, total_kids, mntTotal"
   ]
  },
  {
   "cell_type": "code",
   "execution_count": 48,
   "metadata": {
    "collapsed": false
   },
   "outputs": [
    {
     "data": {
      "text/plain": "                          Name  Birthyear    Income  Kid_Younger6  \\\nCustomerID                                                          \n14594          Miss Leah Lewis       1981  113947.0             0   \n19070         Miss Grace Black       1974  114297.0             0   \n29888       Mr. Gavin Morrison       1960  115476.0             0   \n12221          Mr. Ryan Glover       1980  101172.0             1   \n21107        Mr. Paul Anderson       1971  123128.0             0   \n\n            Children_6to18 Date_Adherence  Recency  MntMeat&Fish  MntEntries  \\\nCustomerID                                                                     \n14594                    0     2021-01-09     43.0        4640.0        3380   \n19070                    0     2021-04-10     74.0        7080.0        3680   \n29888                    0     2022-01-12     85.0        4130.0         380   \n12221                    1     2021-10-12     25.0        3590.0           0   \n21107                    0     2020-12-11     64.0        5390.0        1126   \n\n            MntVegan&Vegetarian  MntDrinks  MntDesserts  \\\nCustomerID                                                \n14594                    5700.0     2240.0        562.0   \n19070                    7620.0     1840.0       1220.0   \n29888                    4890.0     3640.0        380.0   \n12221                    1770.0       80.0        180.0   \n21107                    9495.0      656.0        562.0   \n\n            MntAdditionalRequests  NumOfferPurchases  NumAppPurchases  \\\nCustomerID                                                              \n14594                       154.0                  2               10   \n19070                        46.0                  1                5   \n29888                        28.0                  1                5   \n12221                        14.0                  5                8   \n21107                        74.0                  0                4   \n\n            NumTakeAwayPurchases  NumStorePurchases  NumAppVisitsMonth  \\\nCustomerID                                                               \n14594                          7                  7                  4   \n19070                          9                 12                  2   \n29888                          5                  7                  1   \n12221                          3                  8                  5   \n21107                          7                  8                  5   \n\n            Complain  Response_Cmp1  Response_Cmp2  Response_Cmp3  \\\nCustomerID                                                          \n14594              0              0              1              0   \n19070              0              0              0              0   \n29888              0              0              0              0   \n12221              0              0              0              0   \n21107              0              1              0              1   \n\n            Response_Cmp4  Response_Cmp5  Gender  MntTotal  Age  \\\nCustomerID                                                        \n14594                   0              0       0   16676.0   42   \n19070                   0              0       0   21486.0   49   \n29888                   0              0       1   13448.0   63   \n12221                   0              0       1    5634.0   43   \n21107                   0              0       1   17303.0   52   \n\n            daysAsCardClient  Graduation  HighSchool  Master  PhD  Married  \\\nCustomerID                                                                   \n14594                    821           1           0       0    0        0   \n19070                    730           1           0       0    0        1   \n29888                    453           0           0       0    1        1   \n12221                    545           1           0       0    0        1   \n21107                    850           0           1       0    0        0   \n\n            Single  Widow  Mnt_pday_card  Response_Campaigns  \nCustomerID                                                    \n14594            1      0      20.311815                   1  \n19070            0      0      29.432877                   0  \n29888            0      0      29.686534                   0  \n12221            0      0      10.337615                   0  \n21107            1      0      20.356471                   2  ",
      "text/html": "<div>\n<style scoped>\n    .dataframe tbody tr th:only-of-type {\n        vertical-align: middle;\n    }\n\n    .dataframe tbody tr th {\n        vertical-align: top;\n    }\n\n    .dataframe thead th {\n        text-align: right;\n    }\n</style>\n<table border=\"1\" class=\"dataframe\">\n  <thead>\n    <tr style=\"text-align: right;\">\n      <th></th>\n      <th>Name</th>\n      <th>Birthyear</th>\n      <th>Income</th>\n      <th>Kid_Younger6</th>\n      <th>Children_6to18</th>\n      <th>Date_Adherence</th>\n      <th>Recency</th>\n      <th>MntMeat&amp;Fish</th>\n      <th>MntEntries</th>\n      <th>MntVegan&amp;Vegetarian</th>\n      <th>MntDrinks</th>\n      <th>MntDesserts</th>\n      <th>MntAdditionalRequests</th>\n      <th>NumOfferPurchases</th>\n      <th>NumAppPurchases</th>\n      <th>NumTakeAwayPurchases</th>\n      <th>NumStorePurchases</th>\n      <th>NumAppVisitsMonth</th>\n      <th>Complain</th>\n      <th>Response_Cmp1</th>\n      <th>Response_Cmp2</th>\n      <th>Response_Cmp3</th>\n      <th>Response_Cmp4</th>\n      <th>Response_Cmp5</th>\n      <th>Gender</th>\n      <th>MntTotal</th>\n      <th>Age</th>\n      <th>daysAsCardClient</th>\n      <th>Graduation</th>\n      <th>HighSchool</th>\n      <th>Master</th>\n      <th>PhD</th>\n      <th>Married</th>\n      <th>Single</th>\n      <th>Widow</th>\n      <th>Mnt_pday_card</th>\n      <th>Response_Campaigns</th>\n    </tr>\n    <tr>\n      <th>CustomerID</th>\n      <th></th>\n      <th></th>\n      <th></th>\n      <th></th>\n      <th></th>\n      <th></th>\n      <th></th>\n      <th></th>\n      <th></th>\n      <th></th>\n      <th></th>\n      <th></th>\n      <th></th>\n      <th></th>\n      <th></th>\n      <th></th>\n      <th></th>\n      <th></th>\n      <th></th>\n      <th></th>\n      <th></th>\n      <th></th>\n      <th></th>\n      <th></th>\n      <th></th>\n      <th></th>\n      <th></th>\n      <th></th>\n      <th></th>\n      <th></th>\n      <th></th>\n      <th></th>\n      <th></th>\n      <th></th>\n      <th></th>\n      <th></th>\n      <th></th>\n    </tr>\n  </thead>\n  <tbody>\n    <tr>\n      <th>14594</th>\n      <td>Miss Leah Lewis</td>\n      <td>1981</td>\n      <td>113947.0</td>\n      <td>0</td>\n      <td>0</td>\n      <td>2021-01-09</td>\n      <td>43.0</td>\n      <td>4640.0</td>\n      <td>3380</td>\n      <td>5700.0</td>\n      <td>2240.0</td>\n      <td>562.0</td>\n      <td>154.0</td>\n      <td>2</td>\n      <td>10</td>\n      <td>7</td>\n      <td>7</td>\n      <td>4</td>\n      <td>0</td>\n      <td>0</td>\n      <td>1</td>\n      <td>0</td>\n      <td>0</td>\n      <td>0</td>\n      <td>0</td>\n      <td>16676.0</td>\n      <td>42</td>\n      <td>821</td>\n      <td>1</td>\n      <td>0</td>\n      <td>0</td>\n      <td>0</td>\n      <td>0</td>\n      <td>1</td>\n      <td>0</td>\n      <td>20.311815</td>\n      <td>1</td>\n    </tr>\n    <tr>\n      <th>19070</th>\n      <td>Miss Grace Black</td>\n      <td>1974</td>\n      <td>114297.0</td>\n      <td>0</td>\n      <td>0</td>\n      <td>2021-04-10</td>\n      <td>74.0</td>\n      <td>7080.0</td>\n      <td>3680</td>\n      <td>7620.0</td>\n      <td>1840.0</td>\n      <td>1220.0</td>\n      <td>46.0</td>\n      <td>1</td>\n      <td>5</td>\n      <td>9</td>\n      <td>12</td>\n      <td>2</td>\n      <td>0</td>\n      <td>0</td>\n      <td>0</td>\n      <td>0</td>\n      <td>0</td>\n      <td>0</td>\n      <td>0</td>\n      <td>21486.0</td>\n      <td>49</td>\n      <td>730</td>\n      <td>1</td>\n      <td>0</td>\n      <td>0</td>\n      <td>0</td>\n      <td>1</td>\n      <td>0</td>\n      <td>0</td>\n      <td>29.432877</td>\n      <td>0</td>\n    </tr>\n    <tr>\n      <th>29888</th>\n      <td>Mr. Gavin Morrison</td>\n      <td>1960</td>\n      <td>115476.0</td>\n      <td>0</td>\n      <td>0</td>\n      <td>2022-01-12</td>\n      <td>85.0</td>\n      <td>4130.0</td>\n      <td>380</td>\n      <td>4890.0</td>\n      <td>3640.0</td>\n      <td>380.0</td>\n      <td>28.0</td>\n      <td>1</td>\n      <td>5</td>\n      <td>5</td>\n      <td>7</td>\n      <td>1</td>\n      <td>0</td>\n      <td>0</td>\n      <td>0</td>\n      <td>0</td>\n      <td>0</td>\n      <td>0</td>\n      <td>1</td>\n      <td>13448.0</td>\n      <td>63</td>\n      <td>453</td>\n      <td>0</td>\n      <td>0</td>\n      <td>0</td>\n      <td>1</td>\n      <td>1</td>\n      <td>0</td>\n      <td>0</td>\n      <td>29.686534</td>\n      <td>0</td>\n    </tr>\n    <tr>\n      <th>12221</th>\n      <td>Mr. Ryan Glover</td>\n      <td>1980</td>\n      <td>101172.0</td>\n      <td>1</td>\n      <td>1</td>\n      <td>2021-10-12</td>\n      <td>25.0</td>\n      <td>3590.0</td>\n      <td>0</td>\n      <td>1770.0</td>\n      <td>80.0</td>\n      <td>180.0</td>\n      <td>14.0</td>\n      <td>5</td>\n      <td>8</td>\n      <td>3</td>\n      <td>8</td>\n      <td>5</td>\n      <td>0</td>\n      <td>0</td>\n      <td>0</td>\n      <td>0</td>\n      <td>0</td>\n      <td>0</td>\n      <td>1</td>\n      <td>5634.0</td>\n      <td>43</td>\n      <td>545</td>\n      <td>1</td>\n      <td>0</td>\n      <td>0</td>\n      <td>0</td>\n      <td>1</td>\n      <td>0</td>\n      <td>0</td>\n      <td>10.337615</td>\n      <td>0</td>\n    </tr>\n    <tr>\n      <th>21107</th>\n      <td>Mr. Paul Anderson</td>\n      <td>1971</td>\n      <td>123128.0</td>\n      <td>0</td>\n      <td>0</td>\n      <td>2020-12-11</td>\n      <td>64.0</td>\n      <td>5390.0</td>\n      <td>1126</td>\n      <td>9495.0</td>\n      <td>656.0</td>\n      <td>562.0</td>\n      <td>74.0</td>\n      <td>0</td>\n      <td>4</td>\n      <td>7</td>\n      <td>8</td>\n      <td>5</td>\n      <td>0</td>\n      <td>1</td>\n      <td>0</td>\n      <td>1</td>\n      <td>0</td>\n      <td>0</td>\n      <td>1</td>\n      <td>17303.0</td>\n      <td>52</td>\n      <td>850</td>\n      <td>0</td>\n      <td>1</td>\n      <td>0</td>\n      <td>0</td>\n      <td>0</td>\n      <td>1</td>\n      <td>0</td>\n      <td>20.356471</td>\n      <td>2</td>\n    </tr>\n  </tbody>\n</table>\n</div>"
     },
     "execution_count": 48,
     "metadata": {},
     "output_type": "execute_result"
    }
   ],
   "source": [
    "df.head()"
   ]
  },
  {
   "cell_type": "code",
   "execution_count": 49,
   "metadata": {
    "collapsed": false
   },
   "outputs": [
    {
     "data": {
      "text/plain": "         Birthyear         Income  Kid_Younger6  Children_6to18      Recency  \\\ncount  7000.000000    7000.000000   7000.000000     7000.000000  7000.000000   \nmean   1976.451429   77988.962407      0.440571        0.490571    49.235058   \nstd      11.996270   35409.810253      0.543477        0.542174    28.875126   \nmin    1948.000000    2493.800000      0.000000        0.000000     0.000000   \n25%    1967.000000   51586.250000      0.000000        0.000000    24.000000   \n50%    1977.000000   77190.000000      0.000000        0.000000    49.000000   \n75%    1985.000000  102016.250000      1.000000        1.000000    74.000000   \nmax    2005.000000  237639.725000      2.000000        2.000000    99.000000   \n\n       MntMeat&Fish   MntEntries  MntVegan&Vegetarian    MntDrinks  \\\ncount   7000.000000  7000.000000          7000.000000  7000.000000   \nmean    3079.523800   534.749429          2785.050786   546.463867   \nstd     3370.377166   787.846684          3908.718244   805.423098   \nmin        0.000000     0.000000             0.000000     0.000000   \n25%      250.000000    40.000000           240.000000    40.000000   \n50%     1820.000000   180.000000          1110.000000   180.000000   \n75%     5070.000000   680.000000          3795.000000   700.000000   \nmax    14980.000000  3980.000000         25974.000000  3980.000000   \n\n       MntDesserts  MntAdditionalRequests  NumOfferPurchases  NumAppPurchases  \\\ncount  7000.000000            7000.000000        7000.000000      7000.000000   \nmean    540.656029              42.556186           2.448429         6.015714   \nstd     802.221866              49.650747           2.306968         2.745537   \nmin       0.000000               0.000000           0.000000         0.000000   \n25%      40.000000               9.000000           1.000000         4.000000   \n50%     180.000000              24.000000           2.000000         6.000000   \n75%     680.000000              57.000000           3.000000         8.000000   \nmax    3980.000000             249.000000          16.000000        13.000000   \n\n       NumTakeAwayPurchases  NumStorePurchases  NumAppVisitsMonth  \\\ncount           7000.000000        7000.000000        7000.000000   \nmean               3.834571           5.790571           5.278286   \nstd                3.331142           3.295708           2.748596   \nmin                0.000000           0.000000           0.000000   \n25%                1.000000           3.000000           3.000000   \n50%                3.000000           5.000000           5.000000   \n75%                5.000000           8.000000           7.000000   \nmax               24.000000          13.000000          20.000000   \n\n          Complain  Response_Cmp1  Response_Cmp2  Response_Cmp3  \\\ncount  7000.000000    7000.000000    7000.000000    7000.000000   \nmean      0.010286       0.079143       0.073286       0.083000   \nstd       0.100903       0.269981       0.260624       0.275902   \nmin       0.000000       0.000000       0.000000       0.000000   \n25%       0.000000       0.000000       0.000000       0.000000   \n50%       0.000000       0.000000       0.000000       0.000000   \n75%       0.000000       0.000000       0.000000       0.000000   \nmax       1.000000       1.000000       1.000000       1.000000   \n\n       Response_Cmp4  Response_Cmp5       Gender      MntTotal          Age  \\\ncount    7000.000000    7000.000000  7000.000000   7000.000000  7000.000000   \nmean        0.065857       0.014286     0.733286   7529.000095    46.548571   \nstd         0.248050       0.118675     0.442273   7649.219409    11.996270   \nmin         0.000000       0.000000     0.000000     16.800000    18.000000   \n25%         0.000000       0.000000     0.000000    812.750000    38.000000   \n50%         0.000000       0.000000     1.000000   4652.500000    46.000000   \n75%         0.000000       0.000000     1.000000  12764.750000    56.000000   \nmax         1.000000       1.000000     1.000000  33256.000000    75.000000   \n\n       daysAsCardClient   Graduation   HighSchool       Master          PhD  \\\ncount       7000.000000  7000.000000  7000.000000  7000.000000  7000.000000   \nmean         632.302714     0.502571     0.095000     0.163143     0.213714   \nstd          202.826692     0.500029     0.293236     0.369522     0.409957   \nmin          285.000000     0.000000     0.000000     0.000000     0.000000   \n25%          457.000000     0.000000     0.000000     0.000000     0.000000   \n50%          626.500000     1.000000     0.000000     0.000000     0.000000   \n75%          808.000000     1.000000     0.000000     0.000000     0.000000   \nmax          984.000000     1.000000     1.000000     1.000000     1.000000   \n\n           Married       Single        Widow  Mnt_pday_card  \\\ncount  7000.000000  7000.000000  7000.000000    7000.000000   \nmean      0.653143     0.219714     0.035000      12.723414   \nstd       0.476004     0.414083     0.183793      14.030254   \nmin       0.000000     0.000000     0.000000       0.019929   \n25%       0.000000     0.000000     0.000000       1.480386   \n50%       1.000000     0.000000     0.000000       7.431310   \n75%       1.000000     0.000000     0.000000      20.172449   \nmax       1.000000     1.000000     1.000000      91.444828   \n\n       Response_Campaigns  \ncount         7000.000000  \nmean             0.315571  \nstd              0.682262  \nmin              0.000000  \n25%              0.000000  \n50%              0.000000  \n75%              0.000000  \nmax              4.000000  ",
      "text/html": "<div>\n<style scoped>\n    .dataframe tbody tr th:only-of-type {\n        vertical-align: middle;\n    }\n\n    .dataframe tbody tr th {\n        vertical-align: top;\n    }\n\n    .dataframe thead th {\n        text-align: right;\n    }\n</style>\n<table border=\"1\" class=\"dataframe\">\n  <thead>\n    <tr style=\"text-align: right;\">\n      <th></th>\n      <th>Birthyear</th>\n      <th>Income</th>\n      <th>Kid_Younger6</th>\n      <th>Children_6to18</th>\n      <th>Recency</th>\n      <th>MntMeat&amp;Fish</th>\n      <th>MntEntries</th>\n      <th>MntVegan&amp;Vegetarian</th>\n      <th>MntDrinks</th>\n      <th>MntDesserts</th>\n      <th>MntAdditionalRequests</th>\n      <th>NumOfferPurchases</th>\n      <th>NumAppPurchases</th>\n      <th>NumTakeAwayPurchases</th>\n      <th>NumStorePurchases</th>\n      <th>NumAppVisitsMonth</th>\n      <th>Complain</th>\n      <th>Response_Cmp1</th>\n      <th>Response_Cmp2</th>\n      <th>Response_Cmp3</th>\n      <th>Response_Cmp4</th>\n      <th>Response_Cmp5</th>\n      <th>Gender</th>\n      <th>MntTotal</th>\n      <th>Age</th>\n      <th>daysAsCardClient</th>\n      <th>Graduation</th>\n      <th>HighSchool</th>\n      <th>Master</th>\n      <th>PhD</th>\n      <th>Married</th>\n      <th>Single</th>\n      <th>Widow</th>\n      <th>Mnt_pday_card</th>\n      <th>Response_Campaigns</th>\n    </tr>\n  </thead>\n  <tbody>\n    <tr>\n      <th>count</th>\n      <td>7000.000000</td>\n      <td>7000.000000</td>\n      <td>7000.000000</td>\n      <td>7000.000000</td>\n      <td>7000.000000</td>\n      <td>7000.000000</td>\n      <td>7000.000000</td>\n      <td>7000.000000</td>\n      <td>7000.000000</td>\n      <td>7000.000000</td>\n      <td>7000.000000</td>\n      <td>7000.000000</td>\n      <td>7000.000000</td>\n      <td>7000.000000</td>\n      <td>7000.000000</td>\n      <td>7000.000000</td>\n      <td>7000.000000</td>\n      <td>7000.000000</td>\n      <td>7000.000000</td>\n      <td>7000.000000</td>\n      <td>7000.000000</td>\n      <td>7000.000000</td>\n      <td>7000.000000</td>\n      <td>7000.000000</td>\n      <td>7000.000000</td>\n      <td>7000.000000</td>\n      <td>7000.000000</td>\n      <td>7000.000000</td>\n      <td>7000.000000</td>\n      <td>7000.000000</td>\n      <td>7000.000000</td>\n      <td>7000.000000</td>\n      <td>7000.000000</td>\n      <td>7000.000000</td>\n      <td>7000.000000</td>\n    </tr>\n    <tr>\n      <th>mean</th>\n      <td>1976.451429</td>\n      <td>77988.962407</td>\n      <td>0.440571</td>\n      <td>0.490571</td>\n      <td>49.235058</td>\n      <td>3079.523800</td>\n      <td>534.749429</td>\n      <td>2785.050786</td>\n      <td>546.463867</td>\n      <td>540.656029</td>\n      <td>42.556186</td>\n      <td>2.448429</td>\n      <td>6.015714</td>\n      <td>3.834571</td>\n      <td>5.790571</td>\n      <td>5.278286</td>\n      <td>0.010286</td>\n      <td>0.079143</td>\n      <td>0.073286</td>\n      <td>0.083000</td>\n      <td>0.065857</td>\n      <td>0.014286</td>\n      <td>0.733286</td>\n      <td>7529.000095</td>\n      <td>46.548571</td>\n      <td>632.302714</td>\n      <td>0.502571</td>\n      <td>0.095000</td>\n      <td>0.163143</td>\n      <td>0.213714</td>\n      <td>0.653143</td>\n      <td>0.219714</td>\n      <td>0.035000</td>\n      <td>12.723414</td>\n      <td>0.315571</td>\n    </tr>\n    <tr>\n      <th>std</th>\n      <td>11.996270</td>\n      <td>35409.810253</td>\n      <td>0.543477</td>\n      <td>0.542174</td>\n      <td>28.875126</td>\n      <td>3370.377166</td>\n      <td>787.846684</td>\n      <td>3908.718244</td>\n      <td>805.423098</td>\n      <td>802.221866</td>\n      <td>49.650747</td>\n      <td>2.306968</td>\n      <td>2.745537</td>\n      <td>3.331142</td>\n      <td>3.295708</td>\n      <td>2.748596</td>\n      <td>0.100903</td>\n      <td>0.269981</td>\n      <td>0.260624</td>\n      <td>0.275902</td>\n      <td>0.248050</td>\n      <td>0.118675</td>\n      <td>0.442273</td>\n      <td>7649.219409</td>\n      <td>11.996270</td>\n      <td>202.826692</td>\n      <td>0.500029</td>\n      <td>0.293236</td>\n      <td>0.369522</td>\n      <td>0.409957</td>\n      <td>0.476004</td>\n      <td>0.414083</td>\n      <td>0.183793</td>\n      <td>14.030254</td>\n      <td>0.682262</td>\n    </tr>\n    <tr>\n      <th>min</th>\n      <td>1948.000000</td>\n      <td>2493.800000</td>\n      <td>0.000000</td>\n      <td>0.000000</td>\n      <td>0.000000</td>\n      <td>0.000000</td>\n      <td>0.000000</td>\n      <td>0.000000</td>\n      <td>0.000000</td>\n      <td>0.000000</td>\n      <td>0.000000</td>\n      <td>0.000000</td>\n      <td>0.000000</td>\n      <td>0.000000</td>\n      <td>0.000000</td>\n      <td>0.000000</td>\n      <td>0.000000</td>\n      <td>0.000000</td>\n      <td>0.000000</td>\n      <td>0.000000</td>\n      <td>0.000000</td>\n      <td>0.000000</td>\n      <td>0.000000</td>\n      <td>16.800000</td>\n      <td>18.000000</td>\n      <td>285.000000</td>\n      <td>0.000000</td>\n      <td>0.000000</td>\n      <td>0.000000</td>\n      <td>0.000000</td>\n      <td>0.000000</td>\n      <td>0.000000</td>\n      <td>0.000000</td>\n      <td>0.019929</td>\n      <td>0.000000</td>\n    </tr>\n    <tr>\n      <th>25%</th>\n      <td>1967.000000</td>\n      <td>51586.250000</td>\n      <td>0.000000</td>\n      <td>0.000000</td>\n      <td>24.000000</td>\n      <td>250.000000</td>\n      <td>40.000000</td>\n      <td>240.000000</td>\n      <td>40.000000</td>\n      <td>40.000000</td>\n      <td>9.000000</td>\n      <td>1.000000</td>\n      <td>4.000000</td>\n      <td>1.000000</td>\n      <td>3.000000</td>\n      <td>3.000000</td>\n      <td>0.000000</td>\n      <td>0.000000</td>\n      <td>0.000000</td>\n      <td>0.000000</td>\n      <td>0.000000</td>\n      <td>0.000000</td>\n      <td>0.000000</td>\n      <td>812.750000</td>\n      <td>38.000000</td>\n      <td>457.000000</td>\n      <td>0.000000</td>\n      <td>0.000000</td>\n      <td>0.000000</td>\n      <td>0.000000</td>\n      <td>0.000000</td>\n      <td>0.000000</td>\n      <td>0.000000</td>\n      <td>1.480386</td>\n      <td>0.000000</td>\n    </tr>\n    <tr>\n      <th>50%</th>\n      <td>1977.000000</td>\n      <td>77190.000000</td>\n      <td>0.000000</td>\n      <td>0.000000</td>\n      <td>49.000000</td>\n      <td>1820.000000</td>\n      <td>180.000000</td>\n      <td>1110.000000</td>\n      <td>180.000000</td>\n      <td>180.000000</td>\n      <td>24.000000</td>\n      <td>2.000000</td>\n      <td>6.000000</td>\n      <td>3.000000</td>\n      <td>5.000000</td>\n      <td>5.000000</td>\n      <td>0.000000</td>\n      <td>0.000000</td>\n      <td>0.000000</td>\n      <td>0.000000</td>\n      <td>0.000000</td>\n      <td>0.000000</td>\n      <td>1.000000</td>\n      <td>4652.500000</td>\n      <td>46.000000</td>\n      <td>626.500000</td>\n      <td>1.000000</td>\n      <td>0.000000</td>\n      <td>0.000000</td>\n      <td>0.000000</td>\n      <td>1.000000</td>\n      <td>0.000000</td>\n      <td>0.000000</td>\n      <td>7.431310</td>\n      <td>0.000000</td>\n    </tr>\n    <tr>\n      <th>75%</th>\n      <td>1985.000000</td>\n      <td>102016.250000</td>\n      <td>1.000000</td>\n      <td>1.000000</td>\n      <td>74.000000</td>\n      <td>5070.000000</td>\n      <td>680.000000</td>\n      <td>3795.000000</td>\n      <td>700.000000</td>\n      <td>680.000000</td>\n      <td>57.000000</td>\n      <td>3.000000</td>\n      <td>8.000000</td>\n      <td>5.000000</td>\n      <td>8.000000</td>\n      <td>7.000000</td>\n      <td>0.000000</td>\n      <td>0.000000</td>\n      <td>0.000000</td>\n      <td>0.000000</td>\n      <td>0.000000</td>\n      <td>0.000000</td>\n      <td>1.000000</td>\n      <td>12764.750000</td>\n      <td>56.000000</td>\n      <td>808.000000</td>\n      <td>1.000000</td>\n      <td>0.000000</td>\n      <td>0.000000</td>\n      <td>0.000000</td>\n      <td>1.000000</td>\n      <td>0.000000</td>\n      <td>0.000000</td>\n      <td>20.172449</td>\n      <td>0.000000</td>\n    </tr>\n    <tr>\n      <th>max</th>\n      <td>2005.000000</td>\n      <td>237639.725000</td>\n      <td>2.000000</td>\n      <td>2.000000</td>\n      <td>99.000000</td>\n      <td>14980.000000</td>\n      <td>3980.000000</td>\n      <td>25974.000000</td>\n      <td>3980.000000</td>\n      <td>3980.000000</td>\n      <td>249.000000</td>\n      <td>16.000000</td>\n      <td>13.000000</td>\n      <td>24.000000</td>\n      <td>13.000000</td>\n      <td>20.000000</td>\n      <td>1.000000</td>\n      <td>1.000000</td>\n      <td>1.000000</td>\n      <td>1.000000</td>\n      <td>1.000000</td>\n      <td>1.000000</td>\n      <td>1.000000</td>\n      <td>33256.000000</td>\n      <td>75.000000</td>\n      <td>984.000000</td>\n      <td>1.000000</td>\n      <td>1.000000</td>\n      <td>1.000000</td>\n      <td>1.000000</td>\n      <td>1.000000</td>\n      <td>1.000000</td>\n      <td>1.000000</td>\n      <td>91.444828</td>\n      <td>4.000000</td>\n    </tr>\n  </tbody>\n</table>\n</div>"
     },
     "execution_count": 49,
     "metadata": {},
     "output_type": "execute_result"
    }
   ],
   "source": [
    "df.describe()"
   ]
  },
  {
   "cell_type": "code",
   "execution_count": 50,
   "metadata": {
    "collapsed": false
   },
   "outputs": [],
   "source": [
    "df_train= df.copy()\n",
    "df_train.drop(['Name', 'Birthyear', 'Date_Adherence', 'Response_Cmp1', 'Response_Cmp2', 'Response_Cmp3', 'Response_Cmp4', 'Response_Cmp5',\n",
    "               'Kid_Younger6', 'Children_6to18'], axis = 1, inplace = True)"
   ]
  },
  {
   "cell_type": "code",
   "execution_count": 51,
   "metadata": {
    "collapsed": false
   },
   "outputs": [
    {
     "data": {
      "text/plain": "Income                   0\nRecency                  0\nMntMeat&Fish             0\nMntEntries               0\nMntVegan&Vegetarian      0\nMntDrinks                0\nMntDesserts              0\nMntAdditionalRequests    0\nNumOfferPurchases        0\nNumAppPurchases          0\nNumTakeAwayPurchases     0\nNumStorePurchases        0\nNumAppVisitsMonth        0\nComplain                 0\nGender                   0\nMntTotal                 0\nAge                      0\ndaysAsCardClient         0\nGraduation               0\nHighSchool               0\nMaster                   0\nPhD                      0\nMarried                  0\nSingle                   0\nWidow                    0\nMnt_pday_card            0\nResponse_Campaigns       0\ndtype: int64"
     },
     "execution_count": 51,
     "metadata": {},
     "output_type": "execute_result"
    }
   ],
   "source": [
    "df_train.isna().sum()"
   ]
  },
  {
   "cell_type": "markdown",
   "metadata": {
    "collapsed": false
   },
   "source": [
    "## Data scaling\n",
    "min max: income, recency, mnt..., purchases ..., age, daysasClient, mnt per ..."
   ]
  },
  {
   "cell_type": "code",
   "execution_count": 52,
   "metadata": {
    "collapsed": false
   },
   "outputs": [],
   "source": [
    "scaler = MinMaxScaler()\n",
    "df_train = pd.DataFrame(scaler.fit_transform(df_train))\n",
    "#df_train.describe()"
   ]
  },
  {
   "cell_type": "markdown",
   "metadata": {
    "collapsed": false
   },
   "source": [
    "## PCA\n"
   ]
  },
  {
   "cell_type": "markdown",
   "source": [
    "A implementação do pca acima pareceu me estranha. deixo aqui outra e quando reunirmos vemos"
   ],
   "metadata": {
    "collapsed": false
   }
  },
  {
   "cell_type": "code",
   "execution_count": 53,
   "outputs": [
    {
     "data": {
      "text/plain": "<Figure size 640x480 with 1 Axes>",
      "image/png": "[encoded data removed]"
     },
     "metadata": {},
     "output_type": "display_data"
    }
   ],
   "source": [
    "from sklearn.decomposition import PCA\n",
    "pca = PCA()\n",
    "df_train2= df_train.copy()\n",
    "pca.fit(df_train2)\n",
    "var= pca.explained_variance_ratio_\n",
    "var1=np.cumsum(np.round(pca.explained_variance_ratio_, decimals=4)*100)\n",
    "\n",
    "plt.title(\"PCA Variance against num of Componmnets\")\n",
    "plt.ylabel(\"Variance %\")\n",
    "plt.xlabel(\"Number of componments\")\n",
    "l = plt.axhline(80, color=\"red\")\n",
    "\n",
    "plt.plot(var1)\n",
    "plt.grid()"
   ],
   "metadata": {
    "collapsed": false
   }
  },
  {
   "cell_type": "code",
   "execution_count": 54,
   "outputs": [
    {
     "data": {
      "text/plain": "array([[ 1.29821797, -0.08811703,  0.83152346, ...,  0.16757776,\n         0.08423775, -0.24300699],\n       [ 0.04936092, -0.65966806,  0.95247136, ...,  0.2469978 ,\n         0.05141531,  0.01350605],\n       [-0.74204213,  0.44664549,  0.46276508, ..., -0.56579672,\n        -0.06592356,  0.35676608],\n       ...,\n       [-0.72844361,  0.49108543, -0.4718801 , ..., -0.62626761,\n        -0.14957769,  0.20244692],\n       [ 1.31019329, -0.00872515, -0.49957815, ...,  0.078213  ,\n        -0.0486007 , -0.33804818],\n       [ 1.27294672, -0.08476642,  1.07839189, ...,  0.16925869,\n         0.05128437, -0.20263827]])"
     },
     "execution_count": 54,
     "metadata": {},
     "output_type": "execute_result"
    }
   ],
   "source": [
    "pca = PCA(n_components=7)\n",
    "pca_train=pca.fit_transform(df_train2)\n",
    "pca_train"
   ],
   "metadata": {
    "collapsed": false
   }
  },
  {
   "cell_type": "code",
   "execution_count": 55,
   "outputs": [
    {
     "data": {
      "text/plain": "            0         1         2         3         4         5         6   \\\n0     0.473975  0.434343  0.309746  0.849246  0.219450  0.562814  0.141206   \n1     0.475463  0.747475  0.472630  0.924623  0.293370  0.462312  0.306533   \n2     0.480477  0.858586  0.275701  0.095477  0.188265  0.914573  0.095477   \n3     0.419647  0.252525  0.239653  0.000000  0.068145  0.020101  0.045226   \n4     0.513018  0.646465  0.359813  0.282915  0.365558  0.164824  0.141206   \n...        ...       ...       ...       ...       ...       ...       ...   \n6995  0.410274  0.666667  0.606809  0.065327  0.231578  0.065327  0.000000   \n6996  0.457091  0.080808  0.391856  0.256281  0.518596  0.954774  0.000000   \n6997  0.227711  0.303030  0.036048  0.000000  0.005198  0.000000  0.000000   \n6998  0.180200  0.080808  0.005340  0.030151  0.008085  0.030151  0.025126   \n6999  0.518339  0.808081  0.485981  0.106030  0.065142  0.944724  0.472362   \n\n            7       8         9         10        11    12   13   14  \\\n0     0.618474  0.1250  0.769231  0.291667  0.538462  0.20  0.0  0.0   \n1     0.184739  0.0625  0.384615  0.375000  0.923077  0.10  0.0  0.0   \n2     0.112450  0.0625  0.384615  0.208333  0.538462  0.05  0.0  1.0   \n3     0.056225  0.3125  0.615385  0.125000  0.615385  0.25  0.0  1.0   \n4     0.297189  0.0000  0.307692  0.291667  0.615385  0.25  0.0  1.0   \n...        ...     ...       ...       ...       ...   ...  ...  ...   \n6995  0.160643  0.0625  0.461538  0.250000  0.846154  0.10  0.0  1.0   \n6996  0.345382  0.0625  0.384615  0.291667  0.538462  0.10  0.0  1.0   \n6997  0.020080  0.1250  0.230769  0.041667  0.307692  0.30  0.0  1.0   \n6998  0.068273  0.0625  0.230769  0.041667  0.230769  0.40  0.0  0.0   \n6999  0.943775  0.0625  0.461538  0.500000  0.846154  0.10  0.0  0.0   \n\n            15        16        17   18   19   20   21   22   23   24  \\\n0     0.501191  0.421053  0.766810  1.0  0.0  0.0  0.0  0.0  1.0  0.0   \n1     0.645900  0.543860  0.636624  1.0  0.0  0.0  0.0  1.0  0.0  0.0   \n2     0.404077  0.789474  0.240343  0.0  0.0  0.0  1.0  1.0  0.0  0.0   \n3     0.168993  0.438596  0.371960  1.0  0.0  0.0  0.0  1.0  0.0  0.0   \n4     0.520055  0.596491  0.808298  0.0  1.0  0.0  0.0  0.0  1.0  0.0   \n...        ...       ...       ...  ...  ...  ...  ...  ...  ...  ...   \n6995  0.470775  0.192982  0.290415  0.0  0.0  0.0  1.0  0.0  0.0  0.0   \n6996  0.728935  0.350877  0.937053  1.0  0.0  0.0  0.0  0.0  0.0  0.0   \n6997  0.019952  0.666667  0.280401  0.0  0.0  0.0  1.0  1.0  0.0  0.0   \n6998  0.018960  0.280702  0.849785  1.0  0.0  0.0  0.0  0.0  1.0  0.0   \n6999  0.458862  0.789474  0.729614  1.0  0.0  0.0  0.0  0.0  1.0  0.0   \n\n            25    26  \n0     0.221951  0.25  \n1     0.321717  0.00  \n2     0.324492  0.00  \n3     0.112854  0.00  \n4     0.222440  0.50  \n...        ...   ...  \n6995  0.350894  0.00  \n6996  0.281911  0.00  \n6997  0.015245  0.00  \n6998  0.007833  0.00  \n6999  0.209859  0.50  \n\n[7000 rows x 27 columns]",
      "text/html": "<div>\n<style scoped>\n    .dataframe tbody tr th:only-of-type {\n        vertical-align: middle;\n    }\n\n    .dataframe tbody tr th {\n        vertical-align: top;\n    }\n\n    .dataframe thead th {\n        text-align: right;\n    }\n</style>\n<table border=\"1\" class=\"dataframe\">\n  <thead>\n    <tr style=\"text-align: right;\">\n      <th></th>\n      <th>0</th>\n      <th>1</th>\n      <th>2</th>\n      <th>3</th>\n      <th>4</th>\n      <th>5</th>\n      <th>6</th>\n      <th>7</th>\n      <th>8</th>\n      <th>9</th>\n      <th>10</th>\n      <th>11</th>\n      <th>12</th>\n      <th>13</th>\n      <th>14</th>\n      <th>15</th>\n      <th>16</th>\n      <th>17</th>\n      <th>18</th>\n      <th>19</th>\n      <th>20</th>\n      <th>21</th>\n      <th>22</th>\n      <th>23</th>\n      <th>24</th>\n      <th>25</th>\n      <th>26</th>\n    </tr>\n  </thead>\n  <tbody>\n    <tr>\n      <th>0</th>\n      <td>0.473975</td>\n      <td>0.434343</td>\n      <td>0.309746</td>\n      <td>0.849246</td>\n      <td>0.219450</td>\n      <td>0.562814</td>\n      <td>0.141206</td>\n      <td>0.618474</td>\n      <td>0.1250</td>\n      <td>0.769231</td>\n      <td>0.291667</td>\n      <td>0.538462</td>\n      <td>0.20</td>\n      <td>0.0</td>\n      <td>0.0</td>\n      <td>0.501191</td>\n      <td>0.421053</td>\n      <td>0.766810</td>\n      <td>1.0</td>\n      <td>0.0</td>\n      <td>0.0</td>\n      <td>0.0</td>\n      <td>0.0</td>\n      <td>1.0</td>\n      <td>0.0</td>\n      <td>0.221951</td>\n      <td>0.25</td>\n    </tr>\n    <tr>\n      <th>1</th>\n      <td>0.475463</td>\n      <td>0.747475</td>\n      <td>0.472630</td>\n      <td>0.924623</td>\n      <td>0.293370</td>\n      <td>0.462312</td>\n      <td>0.306533</td>\n      <td>0.184739</td>\n      <td>0.0625</td>\n      <td>0.384615</td>\n      <td>0.375000</td>\n      <td>0.923077</td>\n      <td>0.10</td>\n      <td>0.0</td>\n      <td>0.0</td>\n      <td>0.645900</td>\n      <td>0.543860</td>\n      <td>0.636624</td>\n      <td>1.0</td>\n      <td>0.0</td>\n      <td>0.0</td>\n      <td>0.0</td>\n      <td>1.0</td>\n      <td>0.0</td>\n      <td>0.0</td>\n      <td>0.321717</td>\n      <td>0.00</td>\n    </tr>\n    <tr>\n      <th>2</th>\n      <td>0.480477</td>\n      <td>0.858586</td>\n      <td>0.275701</td>\n      <td>0.095477</td>\n      <td>0.188265</td>\n      <td>0.914573</td>\n      <td>0.095477</td>\n      <td>0.112450</td>\n      <td>0.0625</td>\n      <td>0.384615</td>\n      <td>0.208333</td>\n      <td>0.538462</td>\n      <td>0.05</td>\n      <td>0.0</td>\n      <td>1.0</td>\n      <td>0.404077</td>\n      <td>0.789474</td>\n      <td>0.240343</td>\n      <td>0.0</td>\n      <td>0.0</td>\n      <td>0.0</td>\n      <td>1.0</td>\n      <td>1.0</td>\n      <td>0.0</td>\n      <td>0.0</td>\n      <td>0.324492</td>\n      <td>0.00</td>\n    </tr>\n    <tr>\n      <th>3</th>\n      <td>0.419647</td>\n      <td>0.252525</td>\n      <td>0.239653</td>\n      <td>0.000000</td>\n      <td>0.068145</td>\n      <td>0.020101</td>\n      <td>0.045226</td>\n      <td>0.056225</td>\n      <td>0.3125</td>\n      <td>0.615385</td>\n      <td>0.125000</td>\n      <td>0.615385</td>\n      <td>0.25</td>\n      <td>0.0</td>\n      <td>1.0</td>\n      <td>0.168993</td>\n      <td>0.438596</td>\n      <td>0.371960</td>\n      <td>1.0</td>\n      <td>0.0</td>\n      <td>0.0</td>\n      <td>0.0</td>\n      <td>1.0</td>\n      <td>0.0</td>\n      <td>0.0</td>\n      <td>0.112854</td>\n      <td>0.00</td>\n    </tr>\n    <tr>\n      <th>4</th>\n      <td>0.513018</td>\n      <td>0.646465</td>\n      <td>0.359813</td>\n      <td>0.282915</td>\n      <td>0.365558</td>\n      <td>0.164824</td>\n      <td>0.141206</td>\n      <td>0.297189</td>\n      <td>0.0000</td>\n      <td>0.307692</td>\n      <td>0.291667</td>\n      <td>0.615385</td>\n      <td>0.25</td>\n      <td>0.0</td>\n      <td>1.0</td>\n      <td>0.520055</td>\n      <td>0.596491</td>\n      <td>0.808298</td>\n      <td>0.0</td>\n      <td>1.0</td>\n      <td>0.0</td>\n      <td>0.0</td>\n      <td>0.0</td>\n      <td>1.0</td>\n      <td>0.0</td>\n      <td>0.222440</td>\n      <td>0.50</td>\n    </tr>\n    <tr>\n      <th>...</th>\n      <td>...</td>\n      <td>...</td>\n      <td>...</td>\n      <td>...</td>\n      <td>...</td>\n      <td>...</td>\n      <td>...</td>\n      <td>...</td>\n      <td>...</td>\n      <td>...</td>\n      <td>...</td>\n      <td>...</td>\n      <td>...</td>\n      <td>...</td>\n      <td>...</td>\n      <td>...</td>\n      <td>...</td>\n      <td>...</td>\n      <td>...</td>\n      <td>...</td>\n      <td>...</td>\n      <td>...</td>\n      <td>...</td>\n      <td>...</td>\n      <td>...</td>\n      <td>...</td>\n      <td>...</td>\n    </tr>\n    <tr>\n      <th>6995</th>\n      <td>0.410274</td>\n      <td>0.666667</td>\n      <td>0.606809</td>\n      <td>0.065327</td>\n      <td>0.231578</td>\n      <td>0.065327</td>\n      <td>0.000000</td>\n      <td>0.160643</td>\n      <td>0.0625</td>\n      <td>0.461538</td>\n      <td>0.250000</td>\n      <td>0.846154</td>\n      <td>0.10</td>\n      <td>0.0</td>\n      <td>1.0</td>\n      <td>0.470775</td>\n      <td>0.192982</td>\n      <td>0.290415</td>\n      <td>0.0</td>\n      <td>0.0</td>\n      <td>0.0</td>\n      <td>1.0</td>\n      <td>0.0</td>\n      <td>0.0</td>\n      <td>0.0</td>\n      <td>0.350894</td>\n      <td>0.00</td>\n    </tr>\n    <tr>\n      <th>6996</th>\n      <td>0.457091</td>\n      <td>0.080808</td>\n      <td>0.391856</td>\n      <td>0.256281</td>\n      <td>0.518596</td>\n      <td>0.954774</td>\n      <td>0.000000</td>\n      <td>0.345382</td>\n      <td>0.0625</td>\n      <td>0.384615</td>\n      <td>0.291667</td>\n      <td>0.538462</td>\n      <td>0.10</td>\n      <td>0.0</td>\n      <td>1.0</td>\n      <td>0.728935</td>\n      <td>0.350877</td>\n      <td>0.937053</td>\n      <td>1.0</td>\n      <td>0.0</td>\n      <td>0.0</td>\n      <td>0.0</td>\n      <td>0.0</td>\n      <td>0.0</td>\n      <td>0.0</td>\n      <td>0.281911</td>\n      <td>0.00</td>\n    </tr>\n    <tr>\n      <th>6997</th>\n      <td>0.227711</td>\n      <td>0.303030</td>\n      <td>0.036048</td>\n      <td>0.000000</td>\n      <td>0.005198</td>\n      <td>0.000000</td>\n      <td>0.000000</td>\n      <td>0.020080</td>\n      <td>0.1250</td>\n      <td>0.230769</td>\n      <td>0.041667</td>\n      <td>0.307692</td>\n      <td>0.30</td>\n      <td>0.0</td>\n      <td>1.0</td>\n      <td>0.019952</td>\n      <td>0.666667</td>\n      <td>0.280401</td>\n      <td>0.0</td>\n      <td>0.0</td>\n      <td>0.0</td>\n      <td>1.0</td>\n      <td>1.0</td>\n      <td>0.0</td>\n      <td>0.0</td>\n      <td>0.015245</td>\n      <td>0.00</td>\n    </tr>\n    <tr>\n      <th>6998</th>\n      <td>0.180200</td>\n      <td>0.080808</td>\n      <td>0.005340</td>\n      <td>0.030151</td>\n      <td>0.008085</td>\n      <td>0.030151</td>\n      <td>0.025126</td>\n      <td>0.068273</td>\n      <td>0.0625</td>\n      <td>0.230769</td>\n      <td>0.041667</td>\n      <td>0.230769</td>\n      <td>0.40</td>\n      <td>0.0</td>\n      <td>0.0</td>\n      <td>0.018960</td>\n      <td>0.280702</td>\n      <td>0.849785</td>\n      <td>1.0</td>\n      <td>0.0</td>\n      <td>0.0</td>\n      <td>0.0</td>\n      <td>0.0</td>\n      <td>1.0</td>\n      <td>0.0</td>\n      <td>0.007833</td>\n      <td>0.00</td>\n    </tr>\n    <tr>\n      <th>6999</th>\n      <td>0.518339</td>\n      <td>0.808081</td>\n      <td>0.485981</td>\n      <td>0.106030</td>\n      <td>0.065142</td>\n      <td>0.944724</td>\n      <td>0.472362</td>\n      <td>0.943775</td>\n      <td>0.0625</td>\n      <td>0.461538</td>\n      <td>0.500000</td>\n      <td>0.846154</td>\n      <td>0.10</td>\n      <td>0.0</td>\n      <td>0.0</td>\n      <td>0.458862</td>\n      <td>0.789474</td>\n      <td>0.729614</td>\n      <td>1.0</td>\n      <td>0.0</td>\n      <td>0.0</td>\n      <td>0.0</td>\n      <td>0.0</td>\n      <td>1.0</td>\n      <td>0.0</td>\n      <td>0.209859</td>\n      <td>0.50</td>\n    </tr>\n  </tbody>\n</table>\n<p>7000 rows × 27 columns</p>\n</div>"
     },
     "execution_count": 55,
     "metadata": {},
     "output_type": "execute_result"
    }
   ],
   "source": [
    "df_train"
   ],
   "metadata": {
    "collapsed": false
   }
  },
  {
   "cell_type": "markdown",
   "source": [
    "7 variaveis explicam ~80% da variancia"
   ],
   "metadata": {
    "collapsed": false
   }
  },
  {
   "cell_type": "markdown",
   "metadata": {
    "collapsed": false
   },
   "source": [
    "## Loading Scores for each PC"
   ]
  },
  {
   "cell_type": "markdown",
   "metadata": {
    "collapsed": false
   },
   "source": [
    "##  Correlação entre PC's e as variáveis originais"
   ]
  },
  {
   "cell_type": "markdown",
   "metadata": {
    "collapsed": false
   },
   "source": [
    "## Model Train"
   ]
  },
  {
   "cell_type": "code",
   "execution_count": 60,
   "metadata": {
    "collapsed": false
   },
   "outputs": [
    {
     "name": "stderr",
     "output_type": "stream",
     "text": [
      "A:\\FCUL\\Pós-Graduação\\DSML\\DSML_venv\\lib\\site-packages\\sklearn\\cluster\\_kmeans.py:870: FutureWarning: The default value of `n_init` will change from 10 to 'auto' in 1.4. Set the value of `n_init` explicitly to suppress the warning\n",
      "  warnings.warn(\n"
     ]
    }
   ],
   "source": [
    "from sklearn.cluster import KMeans\n",
    "\n",
    "kmeans= KMeans(n_clusters = 7, max_iter =10000, random_state= 1)\n",
    "kmeans.fit(pca_train)\n",
    "pca_train_label = kmeans.labels_"
   ]
  },
  {
   "cell_type": "code",
   "execution_count": 61,
   "outputs": [
    {
     "name": "stderr",
     "output_type": "stream",
     "text": [
      "A:\\FCUL\\Pós-Graduação\\DSML\\DSML_venv\\lib\\site-packages\\sklearn\\cluster\\_kmeans.py:870: FutureWarning: The default value of `n_init` will change from 10 to 'auto' in 1.4. Set the value of `n_init` explicitly to suppress the warning\n",
      "  warnings.warn(\n"
     ]
    }
   ],
   "source": [
    "kmeans2= KMeans(n_clusters = 7, max_iter = 10000, random_state = 1)\n",
    "kmeans2.fit(df_train)\n",
    "df_train_label = kmeans2.labels_"
   ],
   "metadata": {
    "collapsed": false
   }
  },
  {
   "cell_type": "code",
   "execution_count": 62,
   "outputs": [
    {
     "data": {
      "text/plain": "   Compare  counts\n0    False    6932\n1     True      68",
      "text/html": "<div>\n<style scoped>\n    .dataframe tbody tr th:only-of-type {\n        vertical-align: middle;\n    }\n\n    .dataframe tbody tr th {\n        vertical-align: top;\n    }\n\n    .dataframe thead th {\n        text-align: right;\n    }\n</style>\n<table border=\"1\" class=\"dataframe\">\n  <thead>\n    <tr style=\"text-align: right;\">\n      <th></th>\n      <th>Compare</th>\n      <th>counts</th>\n    </tr>\n  </thead>\n  <tbody>\n    <tr>\n      <th>0</th>\n      <td>False</td>\n      <td>6932</td>\n    </tr>\n    <tr>\n      <th>1</th>\n      <td>True</td>\n      <td>68</td>\n    </tr>\n  </tbody>\n</table>\n</div>"
     },
     "execution_count": 62,
     "metadata": {},
     "output_type": "execute_result"
    }
   ],
   "source": [
    "dfTF= pd.DataFrame()\n",
    "dfTF['Compare'] = pca_train_label== df_train_label\n",
    "#pd.DataFrame(dfTF.groupby('Compare'))\n",
    "dfTF.groupby(['Compare']).size().reset_index(name='counts') #TODO perguntar sobre pca e nao pca dar modelos iguais"
   ],
   "metadata": {
    "collapsed": false
   }
  },
  {
   "cell_type": "markdown",
   "id": "cd1fb8d0",
   "metadata": {},
   "source": [
    "### 3.2.2. Misclassifications"
   ]
  },
  {
   "cell_type": "markdown",
   "id": "bf325433",
   "metadata": {},
   "source": [
    "### 3.2.3. Incoherencies"
   ]
  },
  {
   "cell_type": "markdown",
   "id": "e043eb36",
   "metadata": {},
   "source": [
    "> 3.2.3.1 Clients that spent money but never had a registered Purchase"
   ]
  },
  {
   "cell_type": "code",
   "execution_count": 59,
   "id": "dbde3154",
   "metadata": {},
   "outputs": [
    {
     "data": {
      "text/plain": "(26, 37)"
     },
     "execution_count": 59,
     "metadata": {},
     "output_type": "execute_result"
    }
   ],
   "source": [
    "df[(df[['MntMeat&Fish', 'MntEntries',\n",
    "       'MntVegan&Vegetarian', 'MntDrinks', 'MntDesserts',\n",
    "       'MntAdditionalRequests']].sum(axis = 1) >= 0) & (df[['NumOfferPurchases', 'NumAppPurchases',\n",
    "       'NumTakeAwayPurchases', 'NumStorePurchases']].sum(axis = 1) <= 0)].shape"
   ]
  },
  {
   "cell_type": "markdown",
   "id": "a70497b0",
   "metadata": {},
   "source": [
    "### 3.2.4. Binning"
   ]
  },
  {
   "cell_type": "markdown",
   "id": "167e07f7",
   "metadata": {},
   "source": [
    "### 3.2.5. Reclassification"
   ]
  },
  {
   "cell_type": "markdown",
   "id": "7385de6b",
   "metadata": {},
   "source": [
    "### 3.2.6. Power Transform"
   ]
  },
  {
   "cell_type": "markdown",
   "id": "91126155",
   "metadata": {},
   "source": [
    "## 3.3. Data Reduction"
   ]
  },
  {
   "cell_type": "markdown",
   "id": "0a1bb4a3",
   "metadata": {},
   "source": [
    "### 3.3.1. Multicollinearity - Check correlation"
   ]
  },
  {
   "cell_type": "markdown",
   "id": "478dd700",
   "metadata": {},
   "source": [
    "### 3.3.2. Unary Variables"
   ]
  },
  {
   "cell_type": "markdown",
   "id": "c2eb07fe",
   "metadata": {},
   "source": [
    "### 3.3.3. Variables with a high percentage of missing values"
   ]
  },
  {
   "cell_type": "markdown",
   "id": "d20c2381",
   "metadata": {},
   "source": [
    "## 3.2. Back to Data Transformation"
   ]
  },
  {
   "cell_type": "markdown",
   "id": "f8c221ce",
   "metadata": {},
   "source": [
    "### 3.2.7. Apply ordinal encoding and create Dummy variables"
   ]
  },
  {
   "cell_type": "markdown",
   "id": "ee645019",
   "metadata": {},
   "source": [
    "### 3.2.8. Scaling"
   ]
  }
 ],
 "metadata": {
  "kernelspec": {
   "display_name": "Python 3 (ipykernel)",
   "language": "python",
   "name": "python3"
  },
  "language_info": {
   "codemirror_mode": {
    "name": "ipython",
    "version": 3
   },
   "file_extension": ".py",
   "mimetype": "text/x-python",
   "name": "python",
   "nbconvert_exporter": "python",
   "pygments_lexer": "ipython3",
   "version": "3.9.13"
  }
 },
 "nbformat": 4,
 "nbformat_minor": 5
}
