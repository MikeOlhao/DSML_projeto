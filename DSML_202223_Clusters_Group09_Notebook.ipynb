{
 "cells": [
  {
   "cell_type": "markdown",
   "id": "7bc87212",
   "metadata": {},
   "source": [
    "### Table of Contents"
   ]
  },
  {
   "cell_type": "markdown",
   "id": "db4075ae",
   "metadata": {},
   "source": [
    "# 1. Import Data"
   ]
  },
  {
   "cell_type": "markdown",
   "id": "24debbce",
   "metadata": {},
   "source": [
    "## 1.1 Import the needed libraries"
   ]
  },
  {
   "cell_type": "code",
   "execution_count": null,
   "id": "40e3108e",
   "metadata": {},
   "outputs": [],
   "source": [
    "import pandas as pd\n",
    "import numpy as np\n",
    "import matplotlib.pyplot as plt\n",
    "import seaborn as sns\n",
    "import sklearn as sk\n",
    "from datetime import date\n",
    "\n",
    "%matplotlib inline\n",
    "pd.set_option('display.max_columns', None)\n",
    "\n",
    "from sklearn.preprocessing import MinMaxScaler\n",
    "from sklearn.impute import KNNImputer"
   ]
  },
  {
   "cell_type": "markdown",
   "id": "bc474e5f",
   "metadata": {},
   "source": [
    "## 1.2 Import a integrate data"
   ]
  },
  {
   "cell_type": "code",
   "execution_count": null,
   "id": "4acdbaaa",
   "metadata": {},
   "outputs": [],
   "source": [
    "df_crm = pd.read_csv('crm.csv')\n",
    "df_mkt = pd.read_csv('mkt.csv')\n",
    "df_sales = pd.read_excel('sales.xlsx')"
   ]
  },
  {
   "cell_type": "code",
   "execution_count": null,
   "id": "c71a4e04",
   "metadata": {},
   "outputs": [],
   "source": [
    "df = pd.merge(pd.merge(df_crm,df_sales,on='CustomerID',how=\"inner\"),df_mkt,on=\"CustomerID\",how=\"inner\")"
   ]
  },
  {
   "cell_type": "markdown",
   "id": "3659ba1c",
   "metadata": {},
   "source": [
    "## 1.3 Set Index\n"
   ]
  },
  {
   "cell_type": "code",
   "execution_count": null,
   "id": "133e3a1f",
   "metadata": {},
   "outputs": [],
   "source": [
    "df.set_index('CustomerID',inplace = True)"
   ]
  },
  {
   "cell_type": "markdown",
   "id": "7c1102a1",
   "metadata": {},
   "source": [
    "## 1.4 Check and removing duplicates"
   ]
  },
  {
   "cell_type": "code",
   "execution_count": null,
   "id": "e0d3e069",
   "metadata": {},
   "outputs": [],
   "source": [
    "df[df.duplicated()] # checking duplicates"
   ]
  },
  {
   "cell_type": "code",
   "execution_count": null,
   "id": "b97cf554",
   "metadata": {},
   "outputs": [],
   "source": [
    "df = df[~df.duplicated()] # drop duplicates rows"
   ]
  },
  {
   "cell_type": "markdown",
   "id": "7708f19d",
   "metadata": {},
   "source": [
    "# 2. Explore Data"
   ]
  },
  {
   "cell_type": "markdown",
   "source": [
    "## 2.0 Data profiling\n",
    "\n",
    "Se não quiserem instalar a biblioteca não corram esta secção. Caso contrário o comando para instalar é pip install ydata-profiling. No final **apagar esta secção**"
   ],
   "metadata": {
    "collapsed": false
   }
  },
  {
   "cell_type": "code",
   "execution_count": null,
   "outputs": [],
   "source": [
    "#from ydata_profiling import ProfileReport\n",
    "#profile= ProfileReport (df, title= \"DSML_Project\")"
   ],
   "metadata": {
    "collapsed": false
   }
  },
  {
   "cell_type": "code",
   "execution_count": null,
   "outputs": [],
   "source": [
    "#profile.to_file('DSML_profile.html')"
   ],
   "metadata": {
    "collapsed": false
   }
  },
  {
   "cell_type": "markdown",
   "id": "47f0cea9",
   "metadata": {},
   "source": [
    "## 2.1 Basic Exploration"
   ]
  },
  {
   "cell_type": "markdown",
   "id": "7a938300",
   "metadata": {},
   "source": [
    "Q: _To check the number of columns and rows_ we used `shape` _attribute_"
   ]
  },
  {
   "cell_type": "code",
   "execution_count": null,
   "id": "6ee99fa7",
   "metadata": {},
   "outputs": [],
   "source": [
    "df.shape"
   ]
  },
  {
   "cell_type": "markdown",
   "id": "c353f14d",
   "metadata": {},
   "source": [
    "> A: _The dataset has **7000 rows** and **26 columns**_"
   ]
  },
  {
   "cell_type": "markdown",
   "id": "2b265b69",
   "metadata": {},
   "source": [
    "__*Q*__: Check the name of the features of the dataset we used `columns` _attribute_"
   ]
  },
  {
   "cell_type": "code",
   "execution_count": null,
   "id": "df65ab3c",
   "metadata": {},
   "outputs": [],
   "source": [
    "df.columns"
   ]
  },
  {
   "cell_type": "markdown",
   "id": "b0613146",
   "metadata": {},
   "source": [
    "> A: The dataset has the following columns/features names: <br>\n",
    "        >Index. CustomerID\n",
    "        >1. 'Name' <br>\n",
    "        >2. 'Birthyear'<br>\n",
    "        >3. 'Education'<br>\n",
    "        >4. 'Marital_Status'<br>\n",
    "        >5. 'Income'<br>\n",
    "        >6. 'Kid_Younger6'<br>\n",
    "        >7. 'Children_6to18'<br>\n",
    "        >8. 'Date_Adherence'<br>\n",
    "        >9. 'Recency'<br>\n",
    "        >10. 'MntMeat&Fish'<br>\n",
    "        >11. 'MntEntries'<br>\n",
    "        >12. 'MntVegan&Vegetarian'<br>\n",
    "        >13. 'MntDrinks'<br>\n",
    "        >14. 'MntDesserts'<br>\n",
    "        >15. 'MntAdditionalRequests'<br>\n",
    "        >16. 'NumOfferPurchases'<br>\n",
    "        >17. 'NumAppPurchases'<br>\n",
    "        >18. 'NumTakeAwayPurchases'<br>\n",
    "        >19. 'NumStorePurchases'<br>\n",
    "        >20. 'NumAppVisitsMonth'<br>\n",
    "        >21. 'Complain'<br>\n",
    "        >22. 'Response_Cmp1'<br>\n",
    "        >23. 'Response_Cmp2'<br>\n",
    "        >24. 'Response_Cmp3'<br>\n",
    "        >25. 'Response_Cmp4'<br>\n",
    "        >26. 'Response_Cmp5'<br>"
   ]
  },
  {
   "cell_type": "markdown",
   "id": "29734ade",
   "metadata": {},
   "source": [
    "Q: First glance of the dataset using `head` and `tail` methods to check the first and last 5 rows."
   ]
  },
  {
   "cell_type": "code",
   "execution_count": null,
   "id": "3ccf8a80",
   "metadata": {},
   "outputs": [],
   "source": [
    "df.head(3)"
   ]
  },
  {
   "cell_type": "code",
   "execution_count": null,
   "id": "bf42f408",
   "metadata": {},
   "outputs": [],
   "source": [
    "df.tail(3)"
   ]
  },
  {
   "cell_type": "markdown",
   "id": "ced4cb06",
   "metadata": {},
   "source": [
    "Q: To check the basic information of the dataset we've used the `info` method"
   ]
  },
  {
   "cell_type": "code",
   "execution_count": null,
   "id": "cedc7804",
   "metadata": {},
   "outputs": [],
   "source": [
    "df.info()"
   ]
  },
  {
   "cell_type": "markdown",
   "id": "6794da09",
   "metadata": {},
   "source": [
    ">A: We can observe the data type of the dataset and the how many of features per data type  `dtypes: float64 - (7), int64 - (15), object - (4)`, the memory usage of `1.4+MB`, and the non-null values present per columns. <br>\n",
    "> Using only `info` method we understand that `'Education', 'Recency', 'MntDrinks'` have __14, 23, 28 null values__ that require some action."
   ]
  },
  {
   "cell_type": "markdown",
   "id": "87889183",
   "metadata": {},
   "source": [
    "# 2.2 Statistical Exploration"
   ]
  },
  {
   "cell_type": "markdown",
   "id": "849f7658",
   "metadata": {},
   "source": [
    "## 2.2.1 Numerical Variables"
   ]
  },
  {
   "cell_type": "code",
   "execution_count": null,
   "id": "121f1c74",
   "metadata": {},
   "outputs": [],
   "source": [
    "df.describe()"
   ]
  },
  {
   "cell_type": "markdown",
   "source": [
    "> _The describe return we can get a first glance and make some conclusion:_\n",
    "\n",
    ">__Birthyear__ - could originate an Age column for readability purposes<br>\n",
    "__Income__ - Min and Max are very far from each other and far from the mean value which could indicate outliers<br>\n",
    "__Recency__ - 6977 valid values, hence we should look in deep and decide on how to minimize that effect of missing values<br>\n",
    "__MntMeat&Fish__ - Min and Max are distant from each other and have high standard deviation which could effect some future conclusion<br>\n",
    "__MntEntries__ - Again has high standard deviation that we should analyze, Min and Max far apart, similar to MntMeat&Fish<br>\n",
    "__MntVegan&Vegetarian__ - Similar to the previous two Mnt columns<br>\n",
    "__MntDrinks, MntDesserts__ - Seems to be very similar between them<br>\n",
    "__MntAdditionalRequests__ - The max value standard deviation seems high and also the max value very far apart from the mean<br>\n",
    "__NumOfferPurchases, NumTakeAwayPurchases, NumAppVisitsMonth__  - Have a max value to distante from the mean that could be true but we need to take into account<br>\n",
    "__NumAppPurchases, SumStorePurchases__ - Seems does not have strange summary statistcs<br>\n",
    "__Kid_Younger6, Children_6to18__ - 75% of clients have at least one child"
   ],
   "metadata": {
    "collapsed": false
   }
  },
  {
   "cell_type": "markdown",
   "source": [
    "**Q**: Skewness of each variable "
   ],
   "metadata": {
    "collapsed": false
   }
  },
  {
   "cell_type": "code",
   "execution_count": null,
   "outputs": [],
   "source": [
    "df.skew()"
   ],
   "metadata": {
    "collapsed": false
   }
  },
  {
   "cell_type": "markdown",
   "source": [
    "Concerning the variables' skewness, we can conclude the following:\n",
    "- `Moderate skewness (between |0.5| and |1.0|)`: Birthyear, Income, Kid_Younger6, Children_6to18, Recency, NumAppPurchases, NumStorePurchases, NumAppVisitsMonth\n",
    "- `High skewness (higher than |1.0|)`: MntMeat&Fish, MntEntries, MntVegan&Vegetarian, MntDrinks, MntDesserts, MntAdditionalRequests, NumOfferPurchases, NumTakeAwayPurchases, Complain, Response_Cmp1, Response_Cmp2, Response_Cmp3, Response_Cmp4, Response_Cmp5"
   ],
   "metadata": {
    "collapsed": false
   }
  },
  {
   "cell_type": "code",
   "execution_count": null,
   "outputs": [],
   "source": [
    "df.kurt()"
   ],
   "metadata": {
    "collapsed": false
   }
  },
  {
   "cell_type": "code",
   "execution_count": null,
   "outputs": [],
   "source": [],
   "metadata": {
    "collapsed": false
   }
  },
  {
   "cell_type": "markdown",
   "source": [
    "Features with kurtosis higher than 3 could indicate presence of outliers, hence we should have special considerantion with the following features:\n",
    ">MntEntries, MntVegan&Vegetarian, MntDrinks, MntDesserts, NumOfferPurchases, NumAppVisitsMonth\n",
    "\n",
    "Note: Binomial Variables Complain, and Response_Cmp1 the kurtosis we will not consider as outliers"
   ],
   "metadata": {
    "collapsed": false
   }
  },
  {
   "cell_type": "markdown",
   "source": [
    "## 2.2.2 Categorical Values"
   ],
   "metadata": {
    "collapsed": false
   }
  },
  {
   "cell_type": "code",
   "execution_count": null,
   "outputs": [],
   "source": [
    "df.describe(include = object)"
   ],
   "metadata": {
    "collapsed": false
   }
  },
  {
   "cell_type": "markdown",
   "source": [
    "> We can conclude that the education as **14 missing** values"
   ],
   "metadata": {
    "collapsed": false
   }
  },
  {
   "cell_type": "markdown",
   "source": [
    "#### Level/Possible values of Categorical Features"
   ],
   "metadata": {
    "collapsed": false
   }
  },
  {
   "cell_type": "markdown",
   "source": [
    "### `Name` prefix unique values and count"
   ],
   "metadata": {
    "collapsed": false
   }
  },
  {
   "cell_type": "code",
   "execution_count": null,
   "outputs": [],
   "source": [
    "df['Name'].str.partition(\" \")[0].value_counts()"
   ],
   "metadata": {
    "collapsed": false
   }
  },
  {
   "cell_type": "markdown",
   "source": [
    "With the prefix we can generate a `gender` feature to further explore the dataset. We will deal with that in the data transformation capther"
   ],
   "metadata": {
    "collapsed": false
   }
  },
  {
   "cell_type": "markdown",
   "source": [
    "#### **`Gender`** feature creation"
   ],
   "metadata": {
    "collapsed": false
   }
  },
  {
   "cell_type": "code",
   "execution_count": null,
   "outputs": [],
   "source": [
    "df[\"Gender\"] = df['Name'].str.partition(\" \")[0]\n",
    "df = df.replace({\"Gender\":{\"Mr.\": 1,\"Miss\": 0,\"Mrs.\": 0}})"
   ],
   "metadata": {
    "collapsed": false
   }
  },
  {
   "cell_type": "markdown",
   "source": [
    "### `Education` unique values and count"
   ],
   "metadata": {
    "collapsed": false
   }
  },
  {
   "cell_type": "code",
   "execution_count": null,
   "outputs": [],
   "source": [
    "df[\"Education\"].value_counts()"
   ],
   "metadata": {
    "collapsed": false
   }
  },
  {
   "cell_type": "markdown",
   "source": [
    "We have some issues that will need trasformatioin:<br>\n",
    "- Graduation, Master, HighSchool are written in different ways<br>\n",
    "- `Basic` and `HighSchool` need different levels?"
   ],
   "metadata": {
    "collapsed": false
   }
  },
  {
   "cell_type": "markdown",
   "source": [
    "#### Education standardization"
   ],
   "metadata": {
    "collapsed": false
   }
  },
  {
   "cell_type": "code",
   "execution_count": null,
   "outputs": [],
   "source": [
    "df = df.replace({\"Education\":{\"master\":\"Master\", \"graduation\":\"Graduation\", \"phd\":\"PhD\",\"highschool\":\"HighSchool\"}})"
   ],
   "metadata": {
    "collapsed": false
   }
  },
  {
   "cell_type": "markdown",
   "source": [
    "### `Marital_Status` unique values and count"
   ],
   "metadata": {
    "collapsed": false
   }
  },
  {
   "cell_type": "code",
   "execution_count": null,
   "outputs": [],
   "source": [
    "df[\"Marital_Status\"].value_counts()"
   ],
   "metadata": {
    "collapsed": false
   }
  },
  {
   "cell_type": "markdown",
   "source": [
    "Similarly to previous feature we also have some issues that need transformation:<br>\n",
    "- Married, Together, Single, Divorced and Widow are written with lower and capital letters\n",
    "- We could also consider that Married and Together are similar and joined them in the same level<br>"
   ],
   "metadata": {
    "collapsed": false
   }
  },
  {
   "cell_type": "markdown",
   "source": [
    "#### Marital_Status standardization"
   ],
   "metadata": {
    "collapsed": false
   }
  },
  {
   "cell_type": "code",
   "execution_count": null,
   "outputs": [],
   "source": [
    "df = df.replace({\"Marital_Status\":{\"married\":\"Married\", \"together\":\"Married\", \"single\":\"Single\",\"widow\":\"Widow\",\"divorced\":\"Divorced\",\"Together\":\"Married\"}})\n",
    "df[\"Marital_Status\"].value_counts()"
   ],
   "metadata": {
    "collapsed": false
   }
  },
  {
   "cell_type": "markdown",
   "source": [
    "`Date_Adherence` unqiue values and count"
   ],
   "metadata": {
    "collapsed": false
   }
  },
  {
   "cell_type": "code",
   "execution_count": null,
   "outputs": [],
   "source": [
    "df[\"Date_Adherence\"].value_counts()"
   ],
   "metadata": {
    "collapsed": false
   }
  },
  {
   "cell_type": "markdown",
   "source": [
    "`Date_Adherence` is a date and will need transformation to a date format for further exploration"
   ],
   "metadata": {
    "collapsed": false
   }
  },
  {
   "cell_type": "markdown",
   "source": [
    "## 2.3 Visual Exploration"
   ],
   "metadata": {
    "collapsed": false
   }
  },
  {
   "cell_type": "markdown",
   "source": [
    "### 2.3.1 Numerical Variables"
   ],
   "metadata": {
    "collapsed": false
   }
  },
  {
   "cell_type": "code",
   "execution_count": null,
   "outputs": [],
   "source": [
    "df_corr = df.corr(method = 'spearman')\n",
    "figure = plt.figure(figsize=(16,10))\n",
    "sns.heatmap(df_corr, annot=True, fmt = '.1g', mask = np.triu(df_corr))"
   ],
   "metadata": {
    "collapsed": false
   }
  },
  {
   "cell_type": "code",
   "execution_count": null,
   "outputs": [],
   "source": [
    "fig, (ax1, ax2) = plt.subplots(1,2, figsize = (10,6))\n",
    "sns.histplot(ax = ax1, data = df, x = 'Birthyear', color=\"c\", bins= 5)\n",
    "sns.histplot(ax = ax2, data = df, x = 'Birthyear', color=\"c\")"
   ],
   "metadata": {
    "collapsed": false
   }
  },
  {
   "cell_type": "markdown",
   "source": [
    "- Birthyear at glance using 5 bins seems to follow a normally distribution shape, althought zooming in we can observe some heavy drops that we should explore further"
   ],
   "metadata": {
    "collapsed": false
   }
  },
  {
   "cell_type": "code",
   "execution_count": null,
   "outputs": [],
   "source": [
    "fig, (ax1, ax2, ax3) = plt.subplots(nrows = 1, ncols = 3, figsize=(10,6), sharex = True, sharey= True)\n",
    "sns.countplot(ax = ax1, data = df, x = 'Kid_Younger6', color=\"y\", alpha = 0.8)\n",
    "sns.countplot(ax = ax2, data = df, x = 'Children_6to18', color=\"m\", alpha = 0.5)\n",
    "sns.countplot(ax = ax3, x = df[\"Kid_Younger6\"]+df[\"Children_6to18\"])\n",
    "plt.xlabel(\"Total number of kids\")"
   ],
   "metadata": {
    "collapsed": false
   }
  },
  {
   "cell_type": "markdown",
   "source": [
    "- Here we can see that the clients majority one child, having either one `Kid_Younger6` or one `Children_6to18` years of age"
   ],
   "metadata": {
    "collapsed": false
   }
  },
  {
   "cell_type": "code",
   "execution_count": null,
   "outputs": [],
   "source": [
    "sns.histplot(data = df['Recency'], color=\"k\", alpha=0.3)"
   ],
   "metadata": {
    "collapsed": false
   }
  },
  {
   "cell_type": "code",
   "execution_count": null,
   "outputs": [],
   "source": [
    "sns.histplot(data = df['Income'], color=\"g\", alpha=0.3)"
   ],
   "metadata": {
    "collapsed": false
   }
  },
  {
   "cell_type": "markdown",
   "source": [
    "- `Income` suggest normal distribution with possible some outliers around 220k of monetary units"
   ],
   "metadata": {
    "collapsed": false
   }
  },
  {
   "cell_type": "markdown",
   "source": [
    "#### Income vs Gender"
   ],
   "metadata": {
    "collapsed": false
   }
  },
  {
   "cell_type": "code",
   "execution_count": null,
   "outputs": [],
   "source": [
    "sns.stripplot(data = df, x = \"Income\", y = \"Gender\")"
   ],
   "metadata": {
    "collapsed": false
   }
  },
  {
   "cell_type": "code",
   "execution_count": null,
   "outputs": [],
   "source": [
    "fig, ((ax1, ax2),(ax3,ax4),(ax5,ax6)) = plt.subplots(3,2, figsize = (20,16))\n",
    "sns.histplot(ax = ax1, data = df, x = 'MntMeat&Fish', color=\"g\")\n",
    "sns.histplot(ax = ax2, data = df, x = 'MntVegan&Vegetarian', color=\"b\")\n",
    "sns.histplot(ax = ax3, data = df, x = 'MntEntries', color=\"r\")\n",
    "sns.histplot(ax = ax4, data = df, x = 'MntDrinks', color=\"y\")\n",
    "sns.histplot(ax = ax5, data = df, x = 'MntDesserts', color=\"w\")\n",
    "sns.histplot(ax = ax6, data = df, x = 'MntAdditionalRequests', color=\"m\")"
   ],
   "metadata": {
    "collapsed": false
   }
  },
  {
   "cell_type": "markdown",
   "source": [
    "- `MntMeat&Fish` and `MntVegan&Vegatarian` are the categories where customers spend the most\n",
    "- `MntVegan&Vegetarian` seems to have **outliers** above the 15000 price units\n",
    "- All the `Mnt%` variables have a heavy concentration of values on the lower values of monetary units axis"
   ],
   "metadata": {
    "collapsed": false
   }
  },
  {
   "cell_type": "markdown",
   "source": [
    "#### Total Monetary Spend feature creation and display"
   ],
   "metadata": {
    "collapsed": false
   }
  },
  {
   "cell_type": "code",
   "execution_count": null,
   "outputs": [],
   "source": [
    "df[\"MntTotal\"] = df['MntMeat&Fish'] + df['MntEntries'] + df['MntVegan&Vegetarian'] + df['MntDrinks'] + df['MntDesserts'] + df['MntAdditionalRequests']\n",
    "df[\"MntTotal\"]\n",
    "# em falta Mnt Add Requests"
   ],
   "metadata": {
    "collapsed": false
   }
  },
  {
   "cell_type": "code",
   "execution_count": null,
   "outputs": [],
   "source": [
    "sns.histplot(data = df, x = 'MntTotal', color=\"g\")"
   ],
   "metadata": {
    "collapsed": false
   }
  },
  {
   "cell_type": "code",
   "execution_count": null,
   "outputs": [],
   "source": [
    "def scatterplot_list(data: pd.DataFrame, x: list, y: list, hue: str, marker_size: int = 50, figsize: tuple = (10, 6), rug: bool = False, ax: plt.Axes = None):\n",
    "    if ax is None:\n",
    "        num_subplots = len(y) * len(x)\n",
    "        if num_subplots == 1:\n",
    "            fig, axs = plt.subplots(1, 1, figsize=figsize)\n",
    "            axs = [axs]\n",
    "        else:\n",
    "            num_rows = (num_subplots + 1) // 2\n",
    "            num_cols = 2 if num_subplots > 1 else 1\n",
    "            fig, axs = plt.subplots(num_rows, num_cols, figsize=(figsize[0]*num_cols, figsize[1]*num_rows))\n",
    "            axs = axs.ravel()\n",
    "    else:\n",
    "        axs = ax\n",
    "\n",
    "    for i, x_var in enumerate(x):\n",
    "        for j, y_var in enumerate(y):\n",
    "            idx = j * len(x) + i\n",
    "            sns.scatterplot(data=data, x=x_var, y=y_var, hue=hue, s=marker_size, ax=axs[idx], palette='Dark2', label=hue)\n",
    "            axs[idx].set_xlabel(x_var)\n",
    "            axs[idx].set_ylabel(y_var)\n",
    "            axs[idx].legend(loc='upper right')\n",
    "            if rug:\n",
    "                sns.rugplot(data=data, x=x_var, y=y_var, hue=hue, ax=axs[idx], alpha=0.5)\n",
    "\n",
    "    plt.tight_layout()\n",
    "    plt.show()"
   ],
   "metadata": {
    "collapsed": false
   }
  },
  {
   "cell_type": "markdown",
   "source": [
    "#### Scatter plot Monetary vs Income vs Gender"
   ],
   "metadata": {
    "collapsed": false
   }
  },
  {
   "cell_type": "code",
   "execution_count": null,
   "outputs": [],
   "source": [
    "scatterplot_list(data= df, x= ['Income'], y= ['MntTotal'], hue= 'Gender')"
   ],
   "metadata": {
    "collapsed": false
   }
  },
  {
   "cell_type": "code",
   "execution_count": null,
   "outputs": [],
   "source": [
    "fig, ((ax1, ax2), (ax3, ax4), (ax5, ax6)) = plt.subplots(3,2, figsize = (20,16))\n",
    "sns.scatterplot(ax = ax1, data = df, x = \"Income\", y = \"MntMeat&Fish\", hue = \"Gender\")\n",
    "sns.scatterplot(ax = ax2, data = df, x = \"Income\", y = \"MntVegan&Vegetarian\", hue = \"Gender\")\n",
    "sns.scatterplot(ax = ax3, data = df, x = \"Income\", y = \"MntEntries\", hue = \"Gender\")\n",
    "sns.scatterplot(ax = ax4, data = df, x = \"Income\", y = \"MntDrinks\", hue = \"Gender\")\n",
    "sns.scatterplot(ax = ax5, data = df, x = \"Income\", y = \"MntDesserts\", hue = \"Gender\")\n",
    "sns.scatterplot(ax = ax6, data = df, x = \"Income\", y = \"MntAdditionalRequests\", hue = \"Gender\")"
   ],
   "metadata": {
    "collapsed": false
   }
  },
  {
   "cell_type": "markdown",
   "source": [
    "#### Scatter plot the Monetery vs Income vs \"Total of Kids\""
   ],
   "metadata": {
    "collapsed": false
   }
  },
  {
   "cell_type": "code",
   "execution_count": 95,
   "outputs": [],
   "source": [
    "df[\"Total_Kids\"] = df[\"Kid_Younger6\"] + df[\"Children_6to18\"]"
   ],
   "metadata": {
    "collapsed": false
   }
  },
  {
   "cell_type": "code",
   "execution_count": null,
   "outputs": [],
   "source": [
    "fig, ((ax1, ax2), (ax3, ax4), (ax5, ax6)) = plt.subplots(3,2, figsize = (20,16))\n",
    "sns.scatterplot(ax = ax1, data = df, x = \"Income\", y = \"MntMeat&Fish\", hue = \"Total_Kids\")\n",
    "sns.scatterplot(ax = ax2, data = df, x = \"Income\", y = \"MntVegan&Vegetarian\", hue = \"Total_Kids\")\n",
    "sns.scatterplot(ax = ax3, data = df, x = \"Income\", y = \"MntEntries\", hue = \"Total_Kids\")\n",
    "sns.scatterplot(ax = ax4, data = df, x = \"Income\", y = \"MntDrinks\", hue = \"Total_Kids\")\n",
    "sns.scatterplot(ax = ax5, data = df, x = \"Income\", y = \"MntDesserts\", hue = \"Total_Kids\")\n",
    "sns.scatterplot(ax = ax6, data = df, x = \"Income\", y = \"MntAdditionalRequests\", hue = \"Total_Kids\")"
   ],
   "metadata": {
    "collapsed": false
   }
  },
  {
   "cell_type": "markdown",
   "source": [
    "- Here we conclude that customer with less kid spend more money in general accross all subcategories\n",
    "- In the `MntVegan&Vegetarian`subcategory the higher spenders are clearly the one's with no children"
   ],
   "metadata": {
    "collapsed": false
   }
  },
  {
   "cell_type": "markdown",
   "source": [
    "#### Scatter plot the Monetery vs Income vs \"Kid_Younger6\""
   ],
   "metadata": {
    "collapsed": false
   }
  },
  {
   "cell_type": "code",
   "execution_count": null,
   "outputs": [],
   "source": [
    "fig, ((ax1, ax2), (ax3, ax4), (ax5, ax6)) = plt.subplots(3,2, figsize = (20,16))\n",
    "sns.scatterplot(ax = ax1, data = df, x = \"Income\", y = \"MntMeat&Fish\", hue = \"Kid_Younger6\")\n",
    "sns.scatterplot(ax = ax2, data = df, x = \"Income\", y = \"MntVegan&Vegetarian\", hue = \"Kid_Younger6\")\n",
    "sns.scatterplot(ax = ax3, data = df, x = \"Income\", y = \"MntEntries\", hue = \"Kid_Younger6\")\n",
    "sns.scatterplot(ax = ax4, data = df, x = \"Income\", y = \"MntDrinks\", hue = \"Kid_Younger6\")\n",
    "sns.scatterplot(ax = ax5, data = df, x = \"Income\", y = \"MntDesserts\", hue = \"Kid_Younger6\")\n",
    "sns.scatterplot(ax = ax6, data = df, x = \"Income\", y = \"MntAdditionalRequests\", hue = \"Kid_Younger6\")"
   ],
   "metadata": {
    "collapsed": false
   }
  },
  {
   "cell_type": "markdown",
   "source": [
    "- Here it's possible to conclude that the subgroup with kids under 6 years spend little money on both `Meat&Fish`and  `Vegan&Vegetarian` that could relate on the fact that younger kids have their own food"
   ],
   "metadata": {
    "collapsed": false
   }
  },
  {
   "cell_type": "markdown",
   "source": [
    "#### Scatter plot the Monetery vs Income vs \"Children_6to18\""
   ],
   "metadata": {
    "collapsed": false
   }
  },
  {
   "cell_type": "code",
   "execution_count": null,
   "outputs": [],
   "source": [
    "fig, ((ax1, ax2), (ax3, ax4), (ax5, ax6)) = plt.subplots(3,2, figsize = (20,16))\n",
    "sns.scatterplot(ax = ax1, data = df, x = \"Income\", y = \"MntMeat&Fish\", hue = \"Children_6to18\")\n",
    "sns.scatterplot(ax = ax2, data = df, x = \"Income\", y = \"MntVegan&Vegetarian\", hue = \"Children_6to18\")\n",
    "sns.scatterplot(ax = ax3, data = df, x = \"Income\", y = \"MntEntries\", hue = \"Children_6to18\")\n",
    "sns.scatterplot(ax = ax4, data = df, x = \"Income\", y = \"MntDrinks\", hue = \"Children_6to18\")\n",
    "sns.scatterplot(ax = ax5, data = df, x = \"Income\", y = \"MntDesserts\", hue = \"Children_6to18\")\n",
    "sns.scatterplot(ax = ax6, data = df, x = \"Income\", y = \"MntAdditionalRequests\", hue = \"Children_6to18\")"
   ],
   "metadata": {
    "collapsed": false
   }
  },
  {
   "cell_type": "markdown",
   "source": [
    "#### Kids boolean variable creation"
   ],
   "metadata": {
    "collapsed": false
   }
  },
  {
   "cell_type": "code",
   "execution_count": 96,
   "outputs": [
    {
     "data": {
      "text/plain": "CustomerID\n14594    0\n19070    0\n29888    0\n12221    1\n21107    0\n        ..\n30686    0\n17210    0\n29186    1\n23312    1\n15581    0\nName: has_Kids, Length: 7000, dtype: int64"
     },
     "execution_count": 96,
     "metadata": {},
     "output_type": "execute_result"
    }
   ],
   "source": [
    "df[\"has_Kids\"] = df[\"Total_Kids\"].apply(lambda x: 0 if x == 0 else 1)\n",
    "df[\"has_Kids\"]"
   ],
   "metadata": {
    "collapsed": false
   }
  },
  {
   "cell_type": "markdown",
   "source": [
    "#### Income vs Total Monetary vs Kids (Y/N)"
   ],
   "metadata": {
    "collapsed": false
   }
  },
  {
   "cell_type": "code",
   "execution_count": null,
   "outputs": [],
   "source": [
    "sns.scatterplot(data = df, x = \"Income\", y = \"MntTotal\", hue = \"has_Kids\")"
   ],
   "metadata": {
    "collapsed": false
   }
  },
  {
   "cell_type": "markdown",
   "source": [
    "- From this scatterplot we can see that in general costumer without has_Kids spend more money than the one's who have\n",
    "\n",
    "Now let's try to understand in the behavior in the monetary subclasses"
   ],
   "metadata": {
    "collapsed": false
   }
  },
  {
   "cell_type": "code",
   "execution_count": null,
   "outputs": [],
   "source": [
    "fig, ((ax1, ax2), (ax3, ax4), (ax5, ax6)) = plt.subplots(3,2, figsize = (20,16))\n",
    "sns.scatterplot(ax = ax1, data = df, x = \"Income\", y = \"MntMeat&Fish\", hue = \"has_Kids\")\n",
    "sns.scatterplot(ax = ax2, data = df, x = \"Income\", y = \"MntVegan&Vegetarian\", hue = \"has_Kids\")\n",
    "sns.scatterplot(ax = ax3, data = df, x = \"Income\", y = \"MntEntries\", hue = \"has_Kids\")\n",
    "sns.scatterplot(ax = ax4, data = df, x = \"Income\", y = \"MntDrinks\", hue = \"has_Kids\")\n",
    "sns.scatterplot(ax = ax5, data = df, x = \"Income\", y = \"MntDesserts\", hue = \"has_Kids\")\n",
    "sns.scatterplot(ax = ax6, data = df, x = \"Income\", y = \"MntAdditionalRequests\", hue = \"has_Kids\")"
   ],
   "metadata": {
    "collapsed": false
   }
  },
  {
   "cell_type": "markdown",
   "source": [
    "#### Monetary vs Income vs Education"
   ],
   "metadata": {
    "collapsed": false
   }
  },
  {
   "cell_type": "code",
   "execution_count": null,
   "outputs": [],
   "source": [
    "sns.scatterplot(data = df, hue = \"Education\", x = \"MntTotal\", y = \"Income\")\n",
    "sns.rugplot(data = df, hue = \"Education\", x = \"MntTotal\", y = \"Income\")"
   ],
   "metadata": {
    "collapsed": false
   }
  },
  {
   "cell_type": "code",
   "execution_count": null,
   "outputs": [],
   "source": [
    "fig, ((ax1, ax2), (ax3, ax4), (ax5, ax6)) = plt.subplots(3,2, figsize = (20,16))\n",
    "sns.scatterplot(ax = ax1, data = df, hue = \"Education\", x = \"MntMeat&Fish\", y = \"Income\")\n",
    "sns.rugplot(ax = ax1, data = df, hue = \"Education\", x = \"MntMeat&Fish\", y = \"Income\")\n",
    "sns.scatterplot(ax = ax2, data = df, hue = \"Education\", x = \"MntVegan&Vegetarian\", y = \"Income\")\n",
    "sns.rugplot(ax = ax2, data = df, hue = \"Education\", x = \"MntVegan&Vegetarian\", y = \"Income\")\n",
    "sns.scatterplot(ax = ax3, data = df, hue = \"Education\", x = \"MntEntries\", y = \"Income\")\n",
    "sns.rugplot(ax = ax3, data = df, hue = \"Education\", x = \"MntEntries\", y = \"Income\")\n",
    "sns.scatterplot(ax = ax4, data = df, hue = \"Education\", x = \"MntDrinks\", y = \"Income\")\n",
    "sns.rugplot(ax = ax4, data = df, hue = \"Education\", x = \"MntDrinks\", y = \"Income\")\n",
    "sns.scatterplot(ax= ax5, data = df, hue = \"Education\", x = \"MntDesserts\", y = \"Income\")\n",
    "sns.rugplot(ax = ax5, data = df, hue = \"Education\", x = \"MntDesserts\", y = \"Income\")\n",
    "sns.scatterplot(ax = ax6, data = df, hue = \"Education\", x = \"MntAdditionalRequests\", y = \"Income\")\n",
    "sns.rugplot(ax = ax6, data = df, hue = \"Education\", x = \"MntAdditionalRequests\", y = \"Income\")"
   ],
   "metadata": {
    "collapsed": false
   }
  },
  {
   "cell_type": "markdown",
   "source": [
    "#### Monetary vs Education"
   ],
   "metadata": {
    "collapsed": false
   }
  },
  {
   "cell_type": "code",
   "execution_count": null,
   "outputs": [],
   "source": [
    "fig, ((ax1, ax2), (ax3, ax4), (ax5, ax6)) = plt.subplots(3,2, figsize = (20,16))\n",
    "sns.stripplot(ax = ax1, data = df, y = \"Education\",  order = [\"Basic\", \"HighSchool\", \"Graduation\",\"Master\",\"PhD\"],  x = \"MntMeat&Fish\")\n",
    "sns.stripplot(ax = ax2, data = df, y = \"Education\",  order = [\"Basic\", \"HighSchool\", \"Graduation\",\"Master\",\"PhD\"],  x = \"MntVegan&Vegetarian\")\n",
    "sns.stripplot(ax = ax3, data = df, y = \"Education\",  order = [\"Basic\", \"HighSchool\", \"Graduation\",\"Master\",\"PhD\"],  x = \"MntEntries\")\n",
    "sns.stripplot(ax = ax4, data = df, y = \"Education\",  order = [\"Basic\", \"HighSchool\", \"Graduation\",\"Master\",\"PhD\"],  x = \"MntDrinks\")\n",
    "sns.stripplot(ax = ax5, data = df, y = \"Education\",  order = [\"Basic\", \"HighSchool\", \"Graduation\",\"Master\",\"PhD\"],  x = \"MntDesserts\")\n",
    "sns.stripplot(ax = ax6, data = df, y = \"Education\",  order = [\"Basic\", \"HighSchool\", \"Graduation\",\"Master\",\"PhD\"],  x = \"MntAdditionalRequests\")"
   ],
   "metadata": {
    "collapsed": false
   }
  },
  {
   "cell_type": "markdown",
   "source": [
    "#### Marital_Status vs Monetary vs has_Kids"
   ],
   "metadata": {
    "collapsed": false
   }
  },
  {
   "cell_type": "code",
   "execution_count": null,
   "outputs": [],
   "source": [
    "fig, ((ax1, ax2), (ax3, ax4), (ax5, ax6)) = plt.subplots(3,2, figsize = (20,16))\n",
    "sns.scatterplot(ax = ax1, data = df, y = \"Marital_Status\", x = \"MntMeat&Fish\", hue = \"has_Kids\")\n",
    "sns.scatterplot(ax = ax2, data = df, y = \"Marital_Status\", x = \"MntVegan&Vegetarian\", hue = \"has_Kids\")\n",
    "sns.scatterplot(ax = ax3, data = df, y = \"Marital_Status\", x = \"MntEntries\", hue = \"has_Kids\")\n",
    "sns.scatterplot(ax = ax4, data = df, y = \"Marital_Status\", x = \"MntDrinks\", hue = \"has_Kids\")\n",
    "sns.scatterplot(ax = ax5, data = df, y = \"Marital_Status\", x = \"MntDesserts\", hue = \"has_Kids\")\n",
    "sns.scatterplot(ax = ax6, data = df, y = \"Marital_Status\", x = \"MntAdditionalRequests\", hue = \"has_Kids\")"
   ],
   "metadata": {
    "collapsed": false
   }
  },
  {
   "cell_type": "markdown",
   "source": [
    "> No valuable information besides the perception that every `Marital_Status` have has_Kids"
   ],
   "metadata": {
    "collapsed": false
   }
  },
  {
   "cell_type": "markdown",
   "source": [
    "#### Monetary vs Number of Purchases"
   ],
   "metadata": {
    "collapsed": false
   }
  },
  {
   "cell_type": "code",
   "execution_count": null,
   "outputs": [],
   "source": [
    "fig, ((ax1, ax2), (ax3, ax4), (ax5,ax6)) = plt.subplots(3,2, figsize = (20,16))\n",
    "sns.scatterplot(ax = ax1, data = df, y = \"NumOfferPurchases\", x = \"MntTotal\", hue = \"has_Kids\")\n",
    "sns.scatterplot(ax = ax2, data = df, y = \"NumAppPurchases\", x = \"MntTotal\", hue = \"has_Kids\")\n",
    "sns.scatterplot(ax = ax3, data = df, y = \"NumTakeAwayPurchases\", x = \"MntTotal\", hue = \"has_Kids\")\n",
    "sns.scatterplot(ax = ax4, data = df, y = \"NumStorePurchases\", x = \"MntTotal\", hue = \"has_Kids\")\n",
    "sns.scatterplot(ax = ax5, data = df, y = \"NumAppVisitsMonth\", x = \"MntTotal\", hue = \"has_Kids\")\n",
    "sns.scatterplot(ax = ax6, data = df, y = \"Complain\", x = \"MntTotal\", hue = \"has_Kids\")"
   ],
   "metadata": {
    "collapsed": false
   }
  },
  {
   "cell_type": "markdown",
   "source": [
    "> **Info** Mnt Total\n",
    "- NumberOfferPurchases: The customer who most use **Offers** have has_Kids, and that the majority of money spend is without offers\n",
    "- NumAppPurchases: Customer who used **Food Apps** less than 4 times spend much less money than the rest, and the costumers without has_Kids tend to spend more\n",
    "- NumTakeAway - Customer who ordered **take-away** less than 4 times spend much less money than the rest, and the customer without has_Kids spend more money than the one's with has_Kids.\n",
    "- NumStorePurchases - Again, Customer who went the **store** less than 4 times spend much less money than the rest, and customer without has_Kids tend to spend more\n",
    "- NumAppVisitsMonth - The customers who have has_Kids visit the restautant in **Food delivery apps** more often (monthly) than the one's without, nevetheless the one's without has_Kids tend to spend more (Here you could try to understand the _**value per visit**_ to try to boost the usage of the app from nohas_Kids customer)"
   ],
   "metadata": {
    "collapsed": false
   }
  },
  {
   "cell_type": "code",
   "execution_count": null,
   "outputs": [],
   "source": [
    "fig, ((ax1, ax2), (ax3, ax4), (ax5, ax6)) = plt.subplots(3,2, figsize = (20,16))\n",
    "sns.scatterplot(ax = ax1, data = df, y = \"NumOfferPurchases\", x = \"MntMeat&Fish\", hue = \"has_Kids\")\n",
    "sns.scatterplot(ax = ax2, data = df, y = \"NumAppPurchases\", x = \"MntMeat&Fish\", hue = \"has_Kids\")\n",
    "sns.scatterplot(ax = ax3, data = df, y = \"NumTakeAwayPurchases\", x = \"MntMeat&Fish\", hue = \"has_Kids\")\n",
    "sns.scatterplot(ax = ax4, data = df, y = \"NumStorePurchases\", x = \"MntMeat&Fish\", hue = \"has_Kids\")\n",
    "sns.scatterplot(ax = ax5, data = df, y = \"NumAppVisitsMonth\", x = \"MntMeat&Fish\", hue = \"has_Kids\")\n",
    "sns.scatterplot(ax = ax6, data = df, y = \"Complain\", x = \"MntMeat&Fish\", hue = \"has_Kids\")"
   ],
   "metadata": {
    "collapsed": false
   }
  },
  {
   "cell_type": "markdown",
   "source": [
    "> **Info** Meat&Fish\n",
    "- NumberOfferPurchases: The customer who most use **Offers** have has_Kids, and that the majority of money spend is without offers\n",
    "- NumAppPurchases: Customer who used **Food Apps** less than 4 times spend much less money than the rest and the customer without has_Kids tend to spend more\n",
    "- NumTakeAway - Customer who ordered **take-away** less than 4 times spend much less money than the rest, and the customer without has_Kids spend order more take-away more often\n",
    "- NumStorePurchases - Again, Customer who went the **store** less than 4 times spend much less money than the rest\n",
    "- NumAppVisitsMonth - The customers who have has_Kids visit the restautant in **Food delivery apps** more often (monthly) than the one's without, nevetheless the one's without has_Kids tend to spend more (Here you could try to understand the _**value per visit**_ to try to boost the usage of the app from no has_Kids customer)"
   ],
   "metadata": {
    "collapsed": false
   }
  },
  {
   "cell_type": "code",
   "execution_count": null,
   "outputs": [],
   "source": [
    "fig, ((ax1, ax2), (ax3, ax4), (ax5, ax6)) = plt.subplots(3,2, figsize = (20,16))\n",
    "sns.scatterplot(ax = ax1, data = df, y = \"NumOfferPurchases\", x = \"MntVegan&Vegetarian\", hue = \"has_Kids\")\n",
    "sns.scatterplot(ax = ax2, data = df, y = \"NumAppPurchases\", x = \"MntVegan&Vegetarian\", hue = \"has_Kids\")\n",
    "sns.scatterplot(ax = ax3, data = df, y = \"NumTakeAwayPurchases\", x = \"MntVegan&Vegetarian\", hue = \"has_Kids\")\n",
    "sns.scatterplot(ax = ax4, data = df, y = \"NumStorePurchases\", x = \"MntVegan&Vegetarian\", hue = \"has_Kids\")\n",
    "sns.scatterplot(ax = ax5, data = df, y = \"NumAppVisitsMonth\", x = \"MntVegan&Vegetarian\", hue = \"has_Kids\")\n",
    "sns.scatterplot(ax = ax6, data = df, y = \"Complain\", x = \"MntVegan&Vegetarian\", hue = \"has_Kids\")"
   ],
   "metadata": {
    "collapsed": false
   }
  },
  {
   "cell_type": "markdown",
   "source": [
    "> **Info** Mnt&Vegetarian\n",
    "- NumberOfferPurchases: The customer who most use **Offers** have has_Kids, and that the majority of money spend is without offers\n",
    "- NumAppPurchases: Customer who used **Food Apps** less than 4 times spend much less money than the rest, customers without has_Kids tend to spend more\n",
    "- NumTakeAway - Customer who ordered **take-away** less than 4 times spend much less money than the rest, and the customer without has_Kids spend more money than the one's with has_Kids.\n",
    "- NumStorePurchases - Again, Customer who went the **store** less than 4 times spend much less money than the rest, and customer without has_Kids tend to spend more\n",
    "- NumAppVisitsMonth - The customers whome have has_Kids visit the restautant in **Food delivery apps** more often (monthly) than the one's without, nevetheless the one's without has_Kids tend to spend more (Here you could try to understand the _**value per visit**_ to try to try to boost the usage of the app from nohas_Kids customer)"
   ],
   "metadata": {
    "collapsed": false
   }
  },
  {
   "cell_type": "code",
   "execution_count": null,
   "outputs": [],
   "source": [
    "fig, ((ax1, ax2), (ax3, ax4), (ax5, ax6)) = plt.subplots(3,2, figsize = (20,16))\n",
    "sns.scatterplot(ax = ax1, data = df, y = \"NumOfferPurchases\", x = \"MntEntries\", hue = \"has_Kids\")\n",
    "sns.scatterplot(ax = ax2, data = df, y = \"NumAppPurchases\", x = \"MntEntries\", hue = \"has_Kids\")\n",
    "sns.scatterplot(ax = ax3, data = df, y = \"NumTakeAwayPurchases\", x = \"MntEntries\", hue = \"has_Kids\")\n",
    "sns.scatterplot(ax = ax4, data = df, y = \"NumStorePurchases\", x = \"MntEntries\", hue = \"has_Kids\")\n",
    "sns.scatterplot(ax = ax5, data = df, y = \"NumAppVisitsMonth\", x = \"MntEntries\", hue = \"has_Kids\")\n",
    "sns.scatterplot(ax = ax6, data = df, y = \"Complain\", x = \"MntEntries\", hue = \"has_Kids\")"
   ],
   "metadata": {
    "collapsed": false
   }
  },
  {
   "cell_type": "markdown",
   "source": [
    "> **Info** MntEntries\n",
    "- NumberOfferPurchases: The customer who most use **Offers** have has_Kids, and that the majority of money spend is without offers\n",
    "- NumAppPurchases: Customer who used **Food Apps** less than 4 times spend much less money than the rest\n",
    "- NumTakeAway - Customer who ordered **take-away** less than 3 times spend much less money than the rest, and the customer without has_Kids spend more money than the one's with has_Kids.\n",
    "- NumStorePurchases - Customer who went the **store** less than 4 times spend much less money than the rest\n",
    "- NumAppVisitsMonth - The customers whome have has_Kids visit the restautant in **Food delivery apps** more often (monthly) than the one's without, nevetheless the one's without has_Kids tend to spend more (Here you could try to understand the _**value per visit**_ to try to try to boost the usage of the app from nohas_Kids customer)"
   ],
   "metadata": {
    "collapsed": false
   }
  },
  {
   "cell_type": "code",
   "execution_count": null,
   "outputs": [],
   "source": [
    "fig, ((ax1, ax2), (ax3, ax4), (ax5, ax6)) = plt.subplots(3,2, figsize = (20,16))\n",
    "sns.scatterplot(ax = ax1, data = df, y = \"NumOfferPurchases\", x = \"MntDrinks\", hue = \"has_Kids\")\n",
    "sns.scatterplot(ax = ax2, data = df, y = \"NumAppPurchases\", x = \"MntDrinks\", hue = \"has_Kids\")\n",
    "sns.scatterplot(ax = ax3, data = df, y = \"NumTakeAwayPurchases\", x = \"MntDrinks\", hue = \"has_Kids\")\n",
    "sns.scatterplot(ax = ax4, data = df, y = \"NumStorePurchases\", x = \"MntDrinks\", hue = \"has_Kids\")\n",
    "sns.scatterplot(ax = ax5, data = df, y = \"NumAppVisitsMonth\", x = \"MntDrinks\", hue = \"has_Kids\")\n",
    "sns.scatterplot(ax = ax6, data = df, y = \"Complain\", x = \"MntDrinks\", hue = \"has_Kids\")"
   ],
   "metadata": {
    "collapsed": false
   }
  },
  {
   "cell_type": "markdown",
   "source": [
    "**Info** MntDrinks\n",
    "- NumberOfferPurchases: The customer who most use Offers have has_Kids, and that the majority of money spend is without offers\n",
    "- NumAppPurchases: Customer who used Food Apps less than 4 times spend much less money than the rest\n",
    "- NumTakeAway - Customer who ordered take-away less than 3 times spend much less money than the rest, and the customer without has_Kids spend more money and order more often than the one’s with has_Kids.\n",
    "- NumStorePurchases - Customer who went the store less than 4 times spend much less money than the rest\n",
    "- NumAppVisitsMonth - The customers whome have has_Kids visit the restautant in Food delivery apps more often (monthly) than the one’s without, nevetheless the one’s without has_Kids tend to spend more (Here you could try to understand the value per visit to try to try to boost the usage of the app from nohas_Kids customer)"
   ],
   "metadata": {
    "collapsed": false
   }
  },
  {
   "cell_type": "code",
   "execution_count": null,
   "outputs": [],
   "source": [
    "fig, ((ax1, ax2), (ax3, ax4), (ax5, ax6)) = plt.subplots(3,2, figsize = (20,16))\n",
    "sns.scatterplot(ax = ax1, data = df, y = \"NumOfferPurchases\", x = \"MntDesserts\", hue = \"has_Kids\")\n",
    "sns.scatterplot(ax = ax2, data = df, y = \"NumAppPurchases\", x = \"MntDesserts\", hue = \"has_Kids\")\n",
    "sns.scatterplot(ax = ax3, data = df, y = \"NumTakeAwayPurchases\", x = \"MntDesserts\", hue = \"has_Kids\")\n",
    "sns.scatterplot(ax = ax4, data = df, y = \"NumStorePurchases\", x = \"MntDesserts\", hue = \"has_Kids\")\n",
    "sns.scatterplot(ax = ax5, data = df, y = \"NumAppVisitsMonth\", x = \"MntDesserts\", hue = \"has_Kids\")\n",
    "sns.scatterplot(ax = ax6, data = df, y = \"Complain\", x = \"MntDesserts\", hue = \"has_Kids\")"
   ],
   "metadata": {
    "collapsed": false
   }
  },
  {
   "cell_type": "markdown",
   "source": [
    "**Info** MntDesserts\n",
    "- NumberOfferPurchases: The customer who most use Offers have has_Kids, and that the majority of money spend is without offers\n",
    "- NumAppPurchases: Customer who used Food Apps less than 4 times spend much less money than the rest\n",
    "- NumTakeAway - Customer who ordered take-away less than 3 times spend much less money than the rest, and the customer without has_Kids spend more money and order more often than the one’s with has_Kids.\n",
    "- NumStorePurchases - Customer who went the store less than 4 times spend much less money than the rest\n",
    "- NumAppVisitsMonth - The customers whome have has_Kids visit the restautant in Food delivery apps more often (monthly) than the one’s without, nevetheless the one’s without has_Kids tend to spend more (Here you could try to understand the value per visit to try to try to boost the usage of the app from nohas_Kids customer)"
   ],
   "metadata": {
    "collapsed": false
   }
  },
  {
   "cell_type": "code",
   "execution_count": null,
   "outputs": [],
   "source": [
    "fig, ((ax1, ax2), (ax3, ax4), (ax5, ax6)) = plt.subplots(3,2, figsize = (20,16))\n",
    "sns.scatterplot(ax = ax1, data = df, y = \"NumOfferPurchases\", x = \"MntAdditionalRequests\", hue = \"has_Kids\")\n",
    "sns.scatterplot(ax = ax2, data = df, y = \"NumAppPurchases\", x = \"MntAdditionalRequests\", hue = \"has_Kids\")\n",
    "sns.scatterplot(ax = ax3, data = df, y = \"NumTakeAwayPurchases\", x = \"MntAdditionalRequests\", hue = \"has_Kids\")\n",
    "sns.scatterplot(ax = ax4, data = df, y = \"NumStorePurchases\", x = \"MntAdditionalRequests\", hue = \"has_Kids\")\n",
    "sns.scatterplot(ax = ax5, data = df, y = \"NumAppVisitsMonth\", x = \"MntAdditionalRequests\", hue = \"has_Kids\")\n",
    "sns.scatterplot(ax = ax6, data = df, y = \"Complain\", x = \"MntAdditionalRequests\", hue = \"has_Kids\")"
   ],
   "metadata": {
    "collapsed": false
   }
  },
  {
   "cell_type": "markdown",
   "source": [
    "**Info** MntAdditionaalRequests\n",
    "- NumberOfferPurchases: The customer who most use Offers have has_Kids, and that the majority of money spend is without offers\n",
    "- NumAppPurchases: Customer who used Food Apps less than 4 times spend much less money than the rest, and customers with has_Kids do it more often\n",
    "- NumTakeAway - Customer who ordered take-away less than 3 times spend much less money than the rest, and the customer without has_Kids spend more money and order more often than the one’s with has_Kids.\n",
    "- NumStorePurchases - Customer who went the store less than 4 times spend much less money than the rest\n",
    "- NumAppVisitsMonth - The customers whome have has_Kids visit the restautant in Food delivery apps more often (monthly) than the one’s without (Here you could try to understand the value per visit to try to try to boost the usage of the app from nohas_Kids customer)"
   ],
   "metadata": {
    "collapsed": false
   }
  },
  {
   "cell_type": "markdown",
   "source": [
    "### Number of Purchases visualization"
   ],
   "metadata": {
    "collapsed": false
   }
  },
  {
   "cell_type": "code",
   "execution_count": null,
   "outputs": [],
   "source": [
    "fig, ((ax1, ax2),(ax3,ax4),(ax5,ax6)) = plt.subplots(3,2, figsize = (20,16))\n",
    "sns.histplot(ax = ax1, data = df, x = 'NumOfferPurchases', color=\"g\")\n",
    "sns.histplot(ax = ax2, data = df, x = 'NumAppPurchases', color=\"b\")\n",
    "sns.histplot(ax = ax3, data = df, x = 'NumTakeAwayPurchases', color=\"r\")\n",
    "sns.histplot(ax = ax4, data = df, x = 'NumStorePurchases', color=\"y\")\n",
    "sns.histplot(ax = ax5, data = df, x = 'NumAppVisitsMonth', color=\"k\")\n",
    "sns.countplot(ax = ax6, data = df, x = 'Complain', color=\"c\")"
   ],
   "metadata": {
    "collapsed": false
   }
  },
  {
   "cell_type": "code",
   "execution_count": null,
   "outputs": [],
   "source": [
    "fig, ((ax1, ax2), (ax3, ax4), (ax5, ax6)) = plt.subplots(3,2, figsize = (20,16))\n",
    "sns.scatterplot(ax = ax1, data = df, y = \"NumOfferPurchases\", x = \"Income\", hue = \"Gender\")\n",
    "sns.scatterplot(ax = ax2, data = df, y = \"NumAppPurchases\", x = \"Income\", hue = \"Gender\")\n",
    "sns.scatterplot(ax = ax3, data = df, y = \"NumTakeAwayPurchases\", x = \"Income\", hue = \"Gender\")\n",
    "sns.scatterplot(ax = ax4, data = df, y = \"NumStorePurchases\", x = \"Income\", hue = \"Gender\")\n",
    "sns.scatterplot(ax = ax5, data = df, y = \"NumAppVisitsMonth\", x = \"Income\", hue = \"Gender\")\n",
    "sns.scatterplot(ax = ax6, data = df, y = \"Complain\", x = \"Income\", hue = \"Gender\")"
   ],
   "metadata": {
    "collapsed": false
   }
  },
  {
   "cell_type": "code",
   "execution_count": null,
   "outputs": [],
   "source": [
    "fig, ((ax1, ax2), (ax3, ax4), (ax5, ax6)) = plt.subplots(3,2, figsize = (20,16))\n",
    "sns.stripplot(ax = ax1, data = df, x = \"NumOfferPurchases\", y = \"Marital_Status\", hue = \"Gender\")\n",
    "sns.stripplot(ax = ax2, data = df, x = \"NumAppPurchases\", y = \"Marital_Status\", hue = \"Gender\")\n",
    "sns.stripplot(ax = ax3, data = df, x = \"NumTakeAwayPurchases\", y = \"Marital_Status\", hue = \"Gender\")\n",
    "sns.stripplot(ax = ax4, data = df, x = \"NumStorePurchases\", y = \"Marital_Status\", hue = \"Gender\")\n",
    "sns.stripplot(ax = ax5, data = df, x = \"NumAppVisitsMonth\", y = \"Marital_Status\", hue = \"Gender\")\n",
    "sns.stripplot(ax = ax6, data = df, x = \"Complain\", y = \"Marital_Status\", hue = \"Gender\")"
   ],
   "metadata": {
    "collapsed": false
   }
  },
  {
   "cell_type": "markdown",
   "source": [
    "#### "
   ],
   "metadata": {
    "collapsed": false
   }
  },
  {
   "cell_type": "code",
   "execution_count": null,
   "outputs": [],
   "source": [
    "df_long = pd.melt(df[['Response_Cmp1', 'Response_Cmp2','Response_Cmp3', 'Response_Cmp4', 'Response_Cmp5']])"
   ],
   "metadata": {
    "collapsed": false
   }
  },
  {
   "cell_type": "code",
   "execution_count": null,
   "outputs": [],
   "source": [
    "sns.countplot(data = df_long, y = 'variable', hue='value')"
   ],
   "metadata": {
    "collapsed": false
   }
  },
  {
   "cell_type": "code",
   "execution_count": null,
   "outputs": [],
   "source": [
    "df.head()"
   ],
   "metadata": {
    "collapsed": false
   }
  },
  {
   "cell_type": "code",
   "execution_count": null,
   "outputs": [],
   "source": [
    "# sns.stripplot(data = df, y = \"has_Kids\", x = \"MntTotal\", hue = \"Response_Cmp1\")"
   ],
   "metadata": {
    "collapsed": false
   }
  },
  {
   "cell_type": "code",
   "execution_count": null,
   "outputs": [],
   "source": [],
   "metadata": {
    "collapsed": false
   }
  },
  {
   "cell_type": "markdown",
   "source": [
    "### 2.3.2 Categorical Variables"
   ],
   "metadata": {
    "collapsed": false
   }
  },
  {
   "cell_type": "code",
   "execution_count": null,
   "outputs": [],
   "source": [
    "df.describe(include = \"object\")"
   ],
   "metadata": {
    "collapsed": false
   }
  },
  {
   "cell_type": "code",
   "execution_count": null,
   "outputs": [],
   "source": [
    "sns.countplot(data = df, x = 'Education', order = [\"Basic\",\"HighSchool\", \"Graduation\",\"Master\",\"PhD\"])"
   ],
   "metadata": {
    "collapsed": false
   }
  },
  {
   "cell_type": "markdown",
   "source": [
    "**Question** should we join basic and highschool into undergrate level?"
   ],
   "metadata": {
    "collapsed": false
   }
  },
  {
   "cell_type": "code",
   "execution_count": null,
   "outputs": [],
   "source": [
    "sns.countplot(data = df, x = 'Marital_Status')"
   ],
   "metadata": {
    "collapsed": false
   }
  },
  {
   "cell_type": "markdown",
   "source": [
    "**Question** should we reduce Together and Married into one level?"
   ],
   "metadata": {
    "collapsed": false
   }
  },
  {
   "cell_type": "code",
   "execution_count": null,
   "outputs": [],
   "source": [
    "sns.countplot(data = df, x = 'Gender')"
   ],
   "metadata": {
    "collapsed": false
   }
  },
  {
   "cell_type": "code",
   "execution_count": null,
   "outputs": [],
   "source": [
    "sns.stripplot(data = df, y = \"Education\",x = \"Income\")"
   ],
   "metadata": {
    "collapsed": false
   }
  },
  {
   "cell_type": "code",
   "execution_count": null,
   "outputs": [],
   "source": [
    "sns.stripplot(data = df, y = \"Gender\",x = \"Income\")"
   ],
   "metadata": {
    "collapsed": false
   }
  },
  {
   "cell_type": "code",
   "execution_count": null,
   "outputs": [],
   "source": [
    "sns.stripplot(data = df, y = \"Gender\",x = \"MntTotal\")"
   ],
   "metadata": {
    "collapsed": false
   }
  },
  {
   "cell_type": "code",
   "execution_count": null,
   "outputs": [],
   "source": [],
   "metadata": {
    "collapsed": false
   }
  },
  {
   "cell_type": "markdown",
   "source": [
    "## 2.4. In-Depth Exploration"
   ],
   "metadata": {
    "collapsed": false
   }
  },
  {
   "cell_type": "code",
   "execution_count": null,
   "outputs": [],
   "source": [],
   "metadata": {
    "collapsed": false
   }
  },
  {
   "cell_type": "markdown",
   "source": [
    "# 3. Preprocess Data"
   ],
   "metadata": {
    "collapsed": false
   }
  },
  {
   "cell_type": "markdown",
   "source": [
    "## 3.1. Data Cleaning"
   ],
   "metadata": {
    "collapsed": false
   }
  },
  {
   "cell_type": "markdown",
   "source": [
    "### 3.1.1. Outliers"
   ],
   "metadata": {
    "collapsed": false
   }
  },
  {
   "cell_type": "markdown",
   "source": [
    "- boxplot?"
   ],
   "metadata": {
    "collapsed": false
   }
  },
  {
   "cell_type": "markdown",
   "source": [
    "### 3.1.2. Missing Values"
   ],
   "metadata": {
    "collapsed": false
   }
  },
  {
   "cell_type": "code",
   "execution_count": null,
   "outputs": [],
   "source": [
    "df[\"Response_Cmp1\"].isna().sum()"
   ],
   "metadata": {
    "collapsed": false
   }
  },
  {
   "cell_type": "code",
   "execution_count": null,
   "outputs": [],
   "source": [
    "df[\"Response_Cmp2\"].isna().sum()"
   ],
   "metadata": {
    "collapsed": false
   }
  },
  {
   "cell_type": "code",
   "execution_count": null,
   "outputs": [],
   "source": [
    "df[\"Response_Cmp3\"].isna().sum()"
   ],
   "metadata": {
    "collapsed": false
   }
  },
  {
   "cell_type": "code",
   "execution_count": null,
   "outputs": [],
   "source": [
    "df[\"Response_Cmp4\"].isna().sum()\n"
   ],
   "metadata": {
    "collapsed": false
   }
  },
  {
   "cell_type": "code",
   "execution_count": null,
   "outputs": [],
   "source": [
    "df.info()"
   ],
   "metadata": {
    "collapsed": false
   }
  },
  {
   "cell_type": "code",
   "execution_count": null,
   "outputs": [],
   "source": [
    "df.isna().sum()"
   ],
   "metadata": {
    "collapsed": false
   }
  },
  {
   "cell_type": "markdown",
   "source": [
    "- **`Education`**, **`Recency`**, **`MntDrinks`** and **`MntTotal`** (due to dependancy of `MntDrinks`) have missing values"
   ],
   "metadata": {
    "collapsed": false
   }
  },
  {
   "cell_type": "markdown",
   "source": [
    "#### Filling the missing values"
   ],
   "metadata": {
    "collapsed": false
   }
  },
  {
   "cell_type": "markdown",
   "source": [],
   "metadata": {
    "collapsed": false
   }
  },
  {
   "cell_type": "markdown",
   "source": [
    "Fill `Education` with the mode"
   ],
   "metadata": {
    "collapsed": false
   }
  },
  {
   "cell_type": "code",
   "execution_count": null,
   "outputs": [],
   "source": [
    "df[\"Education\"].fillna(df[\"Education\"].mode()[0], inplace = True)"
   ],
   "metadata": {
    "collapsed": false
   }
  },
  {
   "cell_type": "markdown",
   "source": [
    "Fill `Recency` with the median value"
   ],
   "metadata": {
    "collapsed": false
   }
  },
  {
   "cell_type": "code",
   "execution_count": null,
   "outputs": [],
   "source": [
    "df[\"Recency\"].fillna(df[\"Recency\"].mean(), inplace = True)"
   ],
   "metadata": {
    "collapsed": false
   }
  },
  {
   "cell_type": "code",
   "execution_count": null,
   "outputs": [],
   "source": [
    "df_mnt = df[[ 'MntMeat&Fish', 'MntEntries', 'MntVegan&Vegetarian', 'MntDrinks',\n",
    "       'MntDesserts', 'MntAdditionalRequests']]\n",
    "\n",
    "imputer = KNNImputer(n_neighbors=3)\n",
    "array_impute = imputer.fit_transform(df_mnt)\n",
    "df_mnt = pd.DataFrame(array_impute, columns = df_mnt.columns)"
   ],
   "metadata": {
    "collapsed": false
   }
  },
  {
   "cell_type": "code",
   "execution_count": null,
   "outputs": [],
   "source": [
    "df[\"MntDrinks\"] = df_mnt[\"MntDrinks\"].values"
   ],
   "metadata": {
    "collapsed": false
   }
  },
  {
   "cell_type": "code",
   "execution_count": 89,
   "outputs": [],
   "source": [
    "df[\"MntTotal\"] = df['MntMeat&Fish'] + df['MntEntries'] + df['MntVegan&Vegetarian'] + df['MntDrinks'] + df['MntDesserts']+df['MntAdditionalRequests']"
   ],
   "metadata": {
    "collapsed": false
   }
  },
  {
   "cell_type": "code",
   "execution_count": 90,
   "outputs": [
    {
     "data": {
      "text/plain": "Name                     0\nBirthyear                0\nIncome                   0\nKid_Younger6             0\nChildren_6to18           0\nDate_Adherence           0\nRecency                  0\nMntMeat&Fish             0\nMntEntries               0\nMntVegan&Vegetarian      0\nMntDrinks                0\nMntDesserts              0\nMntAdditionalRequests    0\nNumOfferPurchases        0\nNumAppPurchases          0\nNumTakeAwayPurchases     0\nNumStorePurchases        0\nNumAppVisitsMonth        0\nComplain                 0\nResponse_Cmp1            0\nResponse_Cmp2            0\nResponse_Cmp3            0\nResponse_Cmp4            0\nResponse_Cmp5            0\nGender                   0\nMntTotal                 0\nAge                      0\ndaysAsCardClient         0\nGraduation               0\nHighSchool               0\nMaster                   0\nPhD                      0\nMarried                  0\nSingle                   0\nWidow                    0\nMnt_pday_card            0\nAbv_Avg_Mnt              0\ndtype: int64"
     },
     "execution_count": 90,
     "metadata": {},
     "output_type": "execute_result"
    }
   ],
   "source": [
    "df.isna().sum()"
   ],
   "metadata": {
    "collapsed": false
   }
  },
  {
   "cell_type": "markdown",
   "source": [
    "## 3.2. Data Transformation"
   ],
   "metadata": {
    "collapsed": false
   }
  },
  {
   "cell_type": "markdown",
   "source": [
    "### 3.2.1. Create new Variables"
   ],
   "metadata": {
    "collapsed": false
   }
  },
  {
   "cell_type": "markdown",
   "source": [
    "### Utils"
   ],
   "metadata": {
    "collapsed": false
   }
  },
  {
   "cell_type": "markdown",
   "source": [
    "#### Creating Age variable from the Birthyear"
   ],
   "metadata": {
    "collapsed": false
   }
  },
  {
   "cell_type": "code",
   "execution_count": null,
   "outputs": [],
   "source": [
    "df['Age'] = df.Birthyear.apply(lambda x: date.today().year-x)"
   ],
   "metadata": {
    "collapsed": false
   }
  },
  {
   "cell_type": "markdown",
   "id": "a796c176",
   "metadata": {},
   "source": []
  },
  {
   "cell_type": "code",
   "execution_count": null,
   "outputs": [],
   "source": [
    "#### Creating card adherence age variable from the Date adherence"
   ],
   "metadata": {
    "collapsed": false
   }
  },
  {
   "cell_type": "code",
   "execution_count": null,
   "outputs": [],
   "source": [
    "from datetime import datetime\n",
    "df = df.replace({\"Date_Adherence\":{\"2/29/2022\": datetime.strptime(\"2022-03-01\", '%Y-%m-%d')}}) #2022 is not a leap year, therefore 29/02/2022 is not a possible day"
   ],
   "metadata": {
    "collapsed": false
   }
  },
  {
   "cell_type": "code",
   "execution_count": null,
   "outputs": [],
   "source": [
    "df['daysAsCardClient'] = df['Date_Adherence'].apply(lambda x: (date.today() - x.date()).days)"
   ],
   "metadata": {
    "collapsed": false
   }
  },
  {
   "cell_type": "code",
   "execution_count": null,
   "outputs": [],
   "source": [
    "edu_encode = pd.get_dummies(df.Education, drop_first= True)\n",
    "df = pd.concat([df, edu_encode], axis = 1)\n",
    "df.drop('Education', axis = 1, inplace = True)"
   ],
   "metadata": {
    "collapsed": false
   }
  },
  {
   "cell_type": "code",
   "execution_count": null,
   "outputs": [],
   "source": [
    "marital_encode = pd.get_dummies(df.Marital_Status, drop_first= True)\n",
    "df = pd.concat([df, marital_encode], axis = 1)\n",
    "df.drop('Marital_Status', axis= 1, inplace = True)"
   ],
   "metadata": {
    "collapsed": false
   }
  },
  {
   "cell_type": "code",
   "execution_count": null,
   "outputs": [],
   "source": [
    "df['Mnt_pday_card']= df.MntTotal/df.daysAsCardClient"
   ],
   "metadata": {
    "collapsed": false
   }
  },
  {
   "cell_type": "code",
   "execution_count": null,
   "outputs": [],
   "source": [
    "import statistics\n",
    "df[\"Abv_Avg_Mnt\"] = df[\"MntTotal\"].apply(lambda x: 0 if x <= statistics.mean(df[\"MntTotal\"])  else 1)\n",
    "df[\"Abv_Avg_Mnt\"]"
   ],
   "metadata": {
    "collapsed": false
   }
  },
  {
   "cell_type": "code",
   "execution_count": 98,
   "outputs": [],
   "source": [
    "df['Num_Tot_Purchases'] = df['NumStorePurchases'] + df['NumTakeAwayPurchases'] + df['NumAppPurchases']"
   ],
   "metadata": {
    "collapsed": false
   }
  },
  {
   "cell_type": "code",
   "execution_count": 99,
   "outputs": [],
   "source": [
    "df['Avg_Mnt_Purchase'] = df['MntTotal'] / df['Num_Tot_Purchases']"
   ],
   "metadata": {
    "collapsed": false
   }
  },
  {
   "cell_type": "code",
   "execution_count": 107,
   "outputs": [],
   "source": [
    "df['Pct_Mnt_Meat&Fish'] = (df['MntMeat&Fish']/ df['MntTotal'])*100"
   ],
   "metadata": {
    "collapsed": false
   }
  },
  {
   "cell_type": "code",
   "execution_count": 108,
   "outputs": [],
   "source": [
    "df['Pct_Mnt_Entries'] = (df['MntEntries']/df['MntTotal'])*100"
   ],
   "metadata": {
    "collapsed": false
   }
  },
  {
   "cell_type": "code",
   "execution_count": 109,
   "outputs": [],
   "source": [
    "df['Pct_Mnt_Veg'] = (df['MntVegan&Vegetarian']/df['MntTotal'])*100"
   ],
   "metadata": {
    "collapsed": false
   }
  },
  {
   "cell_type": "code",
   "execution_count": 110,
   "outputs": [],
   "source": [
    "df['Pct_Mnt_Drinks'] = (df['MntDrinks']/df['MntTotal'])*100"
   ],
   "metadata": {
    "collapsed": false
   }
  },
  {
   "cell_type": "code",
   "execution_count": 111,
   "outputs": [],
   "source": [
    "df['Pct_Mnt_Desserts'] = (df['MntDesserts']/df['MntTotal'])*100"
   ],
   "metadata": {
    "collapsed": false
   }
  },
  {
   "cell_type": "code",
   "execution_count": 113,
   "outputs": [],
   "source": [
    "df['Pct_Add_Req'] = (df['MntAdditionalRequests']/df['MntTotal'])*100"
   ],
   "metadata": {
    "collapsed": false
   }
  },
  {
   "cell_type": "code",
   "execution_count": 115,
   "outputs": [],
   "source": [
    "df['Pct_App'] = (df['NumAppPurchases']/df['Num_Tot_Purchases'])*100"
   ],
   "metadata": {
    "collapsed": false
   }
  },
  {
   "cell_type": "code",
   "execution_count": 116,
   "outputs": [],
   "source": [
    "df['Pct_Store'] = (df['NumStorePurchases']/df['Num_Tot_Purchases'])*100"
   ],
   "metadata": {
    "collapsed": false
   }
  },
  {
   "cell_type": "code",
   "execution_count": 117,
   "outputs": [],
   "source": [
    "df['Pct_TakeAway'] = (df['NumTakeAwayPurchases']/df['Num_Tot_Purchases'])*100"
   ],
   "metadata": {
    "collapsed": false
   }
  },
  {
   "cell_type": "code",
   "execution_count": 118,
   "outputs": [
    {
     "data": {
      "text/plain": "                            Name  Birthyear    Income  Kid_Younger6  \\\nCustomerID                                                            \n14594            Miss Leah Lewis       1981  113947.0             0   \n19070           Miss Grace Black       1974  114297.0             0   \n29888         Mr. Gavin Morrison       1960  115476.0             0   \n12221            Mr. Ryan Glover       1980  101172.0             1   \n21107          Mr. Paul Anderson       1971  123128.0             0   \n...                          ...        ...       ...           ...   \n30686            Mr. John Hughes       1994   98968.0             0   \n17210        Mr. Brandon Simpson       1985  109977.0             0   \n29186       Mr. Thomas Churchill       1967   56039.0             0   \n23312         Miss Angela Murray       1989   44867.0             1   \n15581          Miss Diana Taylor       1960  124379.0             0   \n\n            Children_6to18 Date_Adherence  Recency  MntMeat&Fish  MntEntries  \\\nCustomerID                                                                     \n14594                    0     2021-01-09     43.0        4640.0        3380   \n19070                    0     2021-04-10     74.0        7080.0        3680   \n29888                    0     2022-01-12     85.0        4130.0         380   \n12221                    1     2021-10-12     25.0        3590.0           0   \n21107                    0     2020-12-11     64.0        5390.0        1126   \n...                    ...            ...      ...           ...         ...   \n30686                    0     2021-12-08     66.0        9090.0         260   \n17210                    0     2020-09-12      8.0        5870.0        1020   \n29186                    1     2021-12-15     30.0         540.0           0   \n23312                    0     2020-11-12      8.0          80.0         120   \n15581                    0     2021-02-04     80.0        7280.0         422   \n\n            MntVegan&Vegetarian  MntDrinks  MntDesserts  \\\nCustomerID                                                \n14594                    5700.0     2240.0        562.0   \n19070                    7620.0     1840.0       1220.0   \n29888                    4890.0     3640.0        380.0   \n12221                    1770.0       80.0        180.0   \n21107                    9495.0      656.0        562.0   \n...                         ...        ...          ...   \n30686                    6015.0      260.0          0.0   \n17210                   13470.0     3800.0          0.0   \n29186                     135.0        0.0          0.0   \n23312                     210.0      120.0        100.0   \n15581                    1692.0     3760.0       1880.0   \n\n            MntAdditionalRequests  NumOfferPurchases  NumAppPurchases  \\\nCustomerID                                                              \n14594                       154.0                  2               10   \n19070                        46.0                  1                5   \n29888                        28.0                  1                5   \n12221                        14.0                  5                8   \n21107                        74.0                  0                4   \n...                           ...                ...              ...   \n30686                        40.0                  1                6   \n17210                        86.0                  1                5   \n29186                         5.0                  2                3   \n23312                        17.0                  1                3   \n15581                       235.0                  1                6   \n\n            NumTakeAwayPurchases  NumStorePurchases  NumAppVisitsMonth  \\\nCustomerID                                                               \n14594                          7                  7                  4   \n19070                          9                 12                  2   \n29888                          5                  7                  1   \n12221                          3                  8                  5   \n21107                          7                  8                  5   \n...                          ...                ...                ...   \n30686                          6                 11                  2   \n17210                          7                  7                  2   \n29186                          1                  4                  6   \n23312                          1                  3                  8   \n15581                         12                 11                  2   \n\n            Complain  Response_Cmp1  Response_Cmp2  Response_Cmp3  \\\nCustomerID                                                          \n14594              0              0              1              0   \n19070              0              0              0              0   \n29888              0              0              0              0   \n12221              0              0              0              0   \n21107              0              1              0              1   \n...              ...            ...            ...            ...   \n30686              0              0              0              0   \n17210              0              0              0              0   \n29186              0              0              0              0   \n23312              0              0              0              0   \n15581              0              0              0              1   \n\n            Response_Cmp4  Response_Cmp5  Gender  MntTotal  Age  \\\nCustomerID                                                        \n14594                   0              0       0   16676.0   42   \n19070                   0              0       0   21486.0   49   \n29888                   0              0       1   13448.0   63   \n12221                   0              0       1    5634.0   43   \n21107                   0              0       1   17303.0   52   \n...                   ...            ...     ...       ...  ...   \n30686                   0              0       1   15665.0   29   \n17210                   0              0       1   24246.0   38   \n29186                   0              0       1     680.0   56   \n23312                   0              0       0     647.0   34   \n15581                   1              0       0   15269.0   63   \n\n            daysAsCardClient  Graduation  HighSchool  Master  PhD  Married  \\\nCustomerID                                                                   \n14594                    818           1           0       0    0        0   \n19070                    727           1           0       0    0        1   \n29888                    450           0           0       0    1        1   \n12221                    542           1           0       0    0        1   \n21107                    847           0           1       0    0        0   \n...                      ...         ...         ...     ...  ...      ...   \n30686                    485           0           0       0    1        0   \n17210                    937           1           0       0    0        0   \n29186                    478           0           0       0    1        1   \n23312                    876           1           0       0    0        0   \n15581                    792           1           0       0    0        0   \n\n            Single  Widow  Mnt_pday_card  Abv_Avg_Mnt  Num_Tot_Purchases  \\\nCustomerID                                                                 \n14594            1      0      20.198044            1                 24   \n19070            0      0      29.491059            1                 26   \n29888            0      0      29.822222            1                 17   \n12221            0      0      10.369004            0                 19   \n21107            1      0      20.341204            1                 19   \n...            ...    ...            ...          ...                ...   \n30686            0      0      32.216495            1                 23   \n17210            0      0      25.784418            1                 19   \n29186            0      0       1.412134            0                  8   \n23312            1      0       0.719178            0                  7   \n15581            1      0      18.982323            1                 29   \n\n            Avg_Mnt_Purchase  Total_Kids  has_Kids  Pct_Mnt_Meat&Fish  \\\nCustomerID                                                              \n14594             694.833333           0         0          27.824418   \n19070             826.384615           0         0          32.951689   \n29888             791.058824           0         0          30.710886   \n12221             296.526316           2         1          63.720270   \n21107             910.684211           0         0          31.150668   \n...                      ...         ...       ...                ...   \n30686             681.086957           0         0          58.027450   \n17210            1276.105263           0         0          24.210179   \n29186              85.000000           1         1          79.411765   \n23312              92.428571           1         1          12.364760   \n15581             526.517241           0         0          47.678302   \n\n            Pct_Mnt_Entries  Pct_Mnt_Veg  Pct_Mnt_Drinks  Pct_Mnt_Desserts  \\\nCustomerID                                                                   \n14594             20.268650    34.180859       13.432478          3.370113   \n19070             17.127432    35.464954        8.563716          5.678116   \n29888              2.825699    36.362284       27.067222          2.825699   \n12221              0.000000    31.416400        1.419950          3.194888   \n21107              6.507542    54.874877        3.791250          3.247992   \n...                     ...          ...             ...               ...   \n30686              1.659751    38.397702        1.659751          0.000000   \n17210              4.206879    55.555556       15.672688          0.000000   \n29186              0.000000    19.852941        0.000000          0.000000   \n23312             18.547141    32.457496       18.547141         15.455951   \n15581              2.763770    11.081276       24.625057         12.312529   \n\n            Pct_Add_Req    Pct_App  Pct_Store  Pct_TakeAway  \nCustomerID                                                   \n14594          0.923483  41.666667  29.166667     29.166667  \n19070          0.214093  19.230769  46.153846     34.615385  \n29888          0.208209  29.411765  41.176471     29.411765  \n12221          0.248491  42.105263  42.105263     15.789474  \n21107          0.427672  21.052632  42.105263     36.842105  \n...                 ...        ...        ...           ...  \n30686          0.255346  26.086957  47.826087     26.086957  \n17210          0.354698  26.315789  36.842105     36.842105  \n29186          0.735294  37.500000  50.000000     12.500000  \n23312          2.627512  42.857143  42.857143     14.285714  \n15581          1.539066  20.689655  37.931034     41.379310  \n\n[7000 rows x 50 columns]",
      "text/html": "<div>\n<style scoped>\n    .dataframe tbody tr th:only-of-type {\n        vertical-align: middle;\n    }\n\n    .dataframe tbody tr th {\n        vertical-align: top;\n    }\n\n    .dataframe thead th {\n        text-align: right;\n    }\n</style>\n<table border=\"1\" class=\"dataframe\">\n  <thead>\n    <tr style=\"text-align: right;\">\n      <th></th>\n      <th>Name</th>\n      <th>Birthyear</th>\n      <th>Income</th>\n      <th>Kid_Younger6</th>\n      <th>Children_6to18</th>\n      <th>Date_Adherence</th>\n      <th>Recency</th>\n      <th>MntMeat&amp;Fish</th>\n      <th>MntEntries</th>\n      <th>MntVegan&amp;Vegetarian</th>\n      <th>MntDrinks</th>\n      <th>MntDesserts</th>\n      <th>MntAdditionalRequests</th>\n      <th>NumOfferPurchases</th>\n      <th>NumAppPurchases</th>\n      <th>NumTakeAwayPurchases</th>\n      <th>NumStorePurchases</th>\n      <th>NumAppVisitsMonth</th>\n      <th>Complain</th>\n      <th>Response_Cmp1</th>\n      <th>Response_Cmp2</th>\n      <th>Response_Cmp3</th>\n      <th>Response_Cmp4</th>\n      <th>Response_Cmp5</th>\n      <th>Gender</th>\n      <th>MntTotal</th>\n      <th>Age</th>\n      <th>daysAsCardClient</th>\n      <th>Graduation</th>\n      <th>HighSchool</th>\n      <th>Master</th>\n      <th>PhD</th>\n      <th>Married</th>\n      <th>Single</th>\n      <th>Widow</th>\n      <th>Mnt_pday_card</th>\n      <th>Abv_Avg_Mnt</th>\n      <th>Num_Tot_Purchases</th>\n      <th>Avg_Mnt_Purchase</th>\n      <th>Total_Kids</th>\n      <th>has_Kids</th>\n      <th>Pct_Mnt_Meat&amp;Fish</th>\n      <th>Pct_Mnt_Entries</th>\n      <th>Pct_Mnt_Veg</th>\n      <th>Pct_Mnt_Drinks</th>\n      <th>Pct_Mnt_Desserts</th>\n      <th>Pct_Add_Req</th>\n      <th>Pct_App</th>\n      <th>Pct_Store</th>\n      <th>Pct_TakeAway</th>\n    </tr>\n    <tr>\n      <th>CustomerID</th>\n      <th></th>\n      <th></th>\n      <th></th>\n      <th></th>\n      <th></th>\n      <th></th>\n      <th></th>\n      <th></th>\n      <th></th>\n      <th></th>\n      <th></th>\n      <th></th>\n      <th></th>\n      <th></th>\n      <th></th>\n      <th></th>\n      <th></th>\n      <th></th>\n      <th></th>\n      <th></th>\n      <th></th>\n      <th></th>\n      <th></th>\n      <th></th>\n      <th></th>\n      <th></th>\n      <th></th>\n      <th></th>\n      <th></th>\n      <th></th>\n      <th></th>\n      <th></th>\n      <th></th>\n      <th></th>\n      <th></th>\n      <th></th>\n      <th></th>\n      <th></th>\n      <th></th>\n      <th></th>\n      <th></th>\n      <th></th>\n      <th></th>\n      <th></th>\n      <th></th>\n      <th></th>\n      <th></th>\n      <th></th>\n      <th></th>\n      <th></th>\n    </tr>\n  </thead>\n  <tbody>\n    <tr>\n      <th>14594</th>\n      <td>Miss Leah Lewis</td>\n      <td>1981</td>\n      <td>113947.0</td>\n      <td>0</td>\n      <td>0</td>\n      <td>2021-01-09</td>\n      <td>43.0</td>\n      <td>4640.0</td>\n      <td>3380</td>\n      <td>5700.0</td>\n      <td>2240.0</td>\n      <td>562.0</td>\n      <td>154.0</td>\n      <td>2</td>\n      <td>10</td>\n      <td>7</td>\n      <td>7</td>\n      <td>4</td>\n      <td>0</td>\n      <td>0</td>\n      <td>1</td>\n      <td>0</td>\n      <td>0</td>\n      <td>0</td>\n      <td>0</td>\n      <td>16676.0</td>\n      <td>42</td>\n      <td>818</td>\n      <td>1</td>\n      <td>0</td>\n      <td>0</td>\n      <td>0</td>\n      <td>0</td>\n      <td>1</td>\n      <td>0</td>\n      <td>20.198044</td>\n      <td>1</td>\n      <td>24</td>\n      <td>694.833333</td>\n      <td>0</td>\n      <td>0</td>\n      <td>27.824418</td>\n      <td>20.268650</td>\n      <td>34.180859</td>\n      <td>13.432478</td>\n      <td>3.370113</td>\n      <td>0.923483</td>\n      <td>41.666667</td>\n      <td>29.166667</td>\n      <td>29.166667</td>\n    </tr>\n    <tr>\n      <th>19070</th>\n      <td>Miss Grace Black</td>\n      <td>1974</td>\n      <td>114297.0</td>\n      <td>0</td>\n      <td>0</td>\n      <td>2021-04-10</td>\n      <td>74.0</td>\n      <td>7080.0</td>\n      <td>3680</td>\n      <td>7620.0</td>\n      <td>1840.0</td>\n      <td>1220.0</td>\n      <td>46.0</td>\n      <td>1</td>\n      <td>5</td>\n      <td>9</td>\n      <td>12</td>\n      <td>2</td>\n      <td>0</td>\n      <td>0</td>\n      <td>0</td>\n      <td>0</td>\n      <td>0</td>\n      <td>0</td>\n      <td>0</td>\n      <td>21486.0</td>\n      <td>49</td>\n      <td>727</td>\n      <td>1</td>\n      <td>0</td>\n      <td>0</td>\n      <td>0</td>\n      <td>1</td>\n      <td>0</td>\n      <td>0</td>\n      <td>29.491059</td>\n      <td>1</td>\n      <td>26</td>\n      <td>826.384615</td>\n      <td>0</td>\n      <td>0</td>\n      <td>32.951689</td>\n      <td>17.127432</td>\n      <td>35.464954</td>\n      <td>8.563716</td>\n      <td>5.678116</td>\n      <td>0.214093</td>\n      <td>19.230769</td>\n      <td>46.153846</td>\n      <td>34.615385</td>\n    </tr>\n    <tr>\n      <th>29888</th>\n      <td>Mr. Gavin Morrison</td>\n      <td>1960</td>\n      <td>115476.0</td>\n      <td>0</td>\n      <td>0</td>\n      <td>2022-01-12</td>\n      <td>85.0</td>\n      <td>4130.0</td>\n      <td>380</td>\n      <td>4890.0</td>\n      <td>3640.0</td>\n      <td>380.0</td>\n      <td>28.0</td>\n      <td>1</td>\n      <td>5</td>\n      <td>5</td>\n      <td>7</td>\n      <td>1</td>\n      <td>0</td>\n      <td>0</td>\n      <td>0</td>\n      <td>0</td>\n      <td>0</td>\n      <td>0</td>\n      <td>1</td>\n      <td>13448.0</td>\n      <td>63</td>\n      <td>450</td>\n      <td>0</td>\n      <td>0</td>\n      <td>0</td>\n      <td>1</td>\n      <td>1</td>\n      <td>0</td>\n      <td>0</td>\n      <td>29.822222</td>\n      <td>1</td>\n      <td>17</td>\n      <td>791.058824</td>\n      <td>0</td>\n      <td>0</td>\n      <td>30.710886</td>\n      <td>2.825699</td>\n      <td>36.362284</td>\n      <td>27.067222</td>\n      <td>2.825699</td>\n      <td>0.208209</td>\n      <td>29.411765</td>\n      <td>41.176471</td>\n      <td>29.411765</td>\n    </tr>\n    <tr>\n      <th>12221</th>\n      <td>Mr. Ryan Glover</td>\n      <td>1980</td>\n      <td>101172.0</td>\n      <td>1</td>\n      <td>1</td>\n      <td>2021-10-12</td>\n      <td>25.0</td>\n      <td>3590.0</td>\n      <td>0</td>\n      <td>1770.0</td>\n      <td>80.0</td>\n      <td>180.0</td>\n      <td>14.0</td>\n      <td>5</td>\n      <td>8</td>\n      <td>3</td>\n      <td>8</td>\n      <td>5</td>\n      <td>0</td>\n      <td>0</td>\n      <td>0</td>\n      <td>0</td>\n      <td>0</td>\n      <td>0</td>\n      <td>1</td>\n      <td>5634.0</td>\n      <td>43</td>\n      <td>542</td>\n      <td>1</td>\n      <td>0</td>\n      <td>0</td>\n      <td>0</td>\n      <td>1</td>\n      <td>0</td>\n      <td>0</td>\n      <td>10.369004</td>\n      <td>0</td>\n      <td>19</td>\n      <td>296.526316</td>\n      <td>2</td>\n      <td>1</td>\n      <td>63.720270</td>\n      <td>0.000000</td>\n      <td>31.416400</td>\n      <td>1.419950</td>\n      <td>3.194888</td>\n      <td>0.248491</td>\n      <td>42.105263</td>\n      <td>42.105263</td>\n      <td>15.789474</td>\n    </tr>\n    <tr>\n      <th>21107</th>\n      <td>Mr. Paul Anderson</td>\n      <td>1971</td>\n      <td>123128.0</td>\n      <td>0</td>\n      <td>0</td>\n      <td>2020-12-11</td>\n      <td>64.0</td>\n      <td>5390.0</td>\n      <td>1126</td>\n      <td>9495.0</td>\n      <td>656.0</td>\n      <td>562.0</td>\n      <td>74.0</td>\n      <td>0</td>\n      <td>4</td>\n      <td>7</td>\n      <td>8</td>\n      <td>5</td>\n      <td>0</td>\n      <td>1</td>\n      <td>0</td>\n      <td>1</td>\n      <td>0</td>\n      <td>0</td>\n      <td>1</td>\n      <td>17303.0</td>\n      <td>52</td>\n      <td>847</td>\n      <td>0</td>\n      <td>1</td>\n      <td>0</td>\n      <td>0</td>\n      <td>0</td>\n      <td>1</td>\n      <td>0</td>\n      <td>20.341204</td>\n      <td>1</td>\n      <td>19</td>\n      <td>910.684211</td>\n      <td>0</td>\n      <td>0</td>\n      <td>31.150668</td>\n      <td>6.507542</td>\n      <td>54.874877</td>\n      <td>3.791250</td>\n      <td>3.247992</td>\n      <td>0.427672</td>\n      <td>21.052632</td>\n      <td>42.105263</td>\n      <td>36.842105</td>\n    </tr>\n    <tr>\n      <th>...</th>\n      <td>...</td>\n      <td>...</td>\n      <td>...</td>\n      <td>...</td>\n      <td>...</td>\n      <td>...</td>\n      <td>...</td>\n      <td>...</td>\n      <td>...</td>\n      <td>...</td>\n      <td>...</td>\n      <td>...</td>\n      <td>...</td>\n      <td>...</td>\n      <td>...</td>\n      <td>...</td>\n      <td>...</td>\n      <td>...</td>\n      <td>...</td>\n      <td>...</td>\n      <td>...</td>\n      <td>...</td>\n      <td>...</td>\n      <td>...</td>\n      <td>...</td>\n      <td>...</td>\n      <td>...</td>\n      <td>...</td>\n      <td>...</td>\n      <td>...</td>\n      <td>...</td>\n      <td>...</td>\n      <td>...</td>\n      <td>...</td>\n      <td>...</td>\n      <td>...</td>\n      <td>...</td>\n      <td>...</td>\n      <td>...</td>\n      <td>...</td>\n      <td>...</td>\n      <td>...</td>\n      <td>...</td>\n      <td>...</td>\n      <td>...</td>\n      <td>...</td>\n      <td>...</td>\n      <td>...</td>\n      <td>...</td>\n      <td>...</td>\n    </tr>\n    <tr>\n      <th>30686</th>\n      <td>Mr. John Hughes</td>\n      <td>1994</td>\n      <td>98968.0</td>\n      <td>0</td>\n      <td>0</td>\n      <td>2021-12-08</td>\n      <td>66.0</td>\n      <td>9090.0</td>\n      <td>260</td>\n      <td>6015.0</td>\n      <td>260.0</td>\n      <td>0.0</td>\n      <td>40.0</td>\n      <td>1</td>\n      <td>6</td>\n      <td>6</td>\n      <td>11</td>\n      <td>2</td>\n      <td>0</td>\n      <td>0</td>\n      <td>0</td>\n      <td>0</td>\n      <td>0</td>\n      <td>0</td>\n      <td>1</td>\n      <td>15665.0</td>\n      <td>29</td>\n      <td>485</td>\n      <td>0</td>\n      <td>0</td>\n      <td>0</td>\n      <td>1</td>\n      <td>0</td>\n      <td>0</td>\n      <td>0</td>\n      <td>32.216495</td>\n      <td>1</td>\n      <td>23</td>\n      <td>681.086957</td>\n      <td>0</td>\n      <td>0</td>\n      <td>58.027450</td>\n      <td>1.659751</td>\n      <td>38.397702</td>\n      <td>1.659751</td>\n      <td>0.000000</td>\n      <td>0.255346</td>\n      <td>26.086957</td>\n      <td>47.826087</td>\n      <td>26.086957</td>\n    </tr>\n    <tr>\n      <th>17210</th>\n      <td>Mr. Brandon Simpson</td>\n      <td>1985</td>\n      <td>109977.0</td>\n      <td>0</td>\n      <td>0</td>\n      <td>2020-09-12</td>\n      <td>8.0</td>\n      <td>5870.0</td>\n      <td>1020</td>\n      <td>13470.0</td>\n      <td>3800.0</td>\n      <td>0.0</td>\n      <td>86.0</td>\n      <td>1</td>\n      <td>5</td>\n      <td>7</td>\n      <td>7</td>\n      <td>2</td>\n      <td>0</td>\n      <td>0</td>\n      <td>0</td>\n      <td>0</td>\n      <td>0</td>\n      <td>0</td>\n      <td>1</td>\n      <td>24246.0</td>\n      <td>38</td>\n      <td>937</td>\n      <td>1</td>\n      <td>0</td>\n      <td>0</td>\n      <td>0</td>\n      <td>0</td>\n      <td>0</td>\n      <td>0</td>\n      <td>25.784418</td>\n      <td>1</td>\n      <td>19</td>\n      <td>1276.105263</td>\n      <td>0</td>\n      <td>0</td>\n      <td>24.210179</td>\n      <td>4.206879</td>\n      <td>55.555556</td>\n      <td>15.672688</td>\n      <td>0.000000</td>\n      <td>0.354698</td>\n      <td>26.315789</td>\n      <td>36.842105</td>\n      <td>36.842105</td>\n    </tr>\n    <tr>\n      <th>29186</th>\n      <td>Mr. Thomas Churchill</td>\n      <td>1967</td>\n      <td>56039.0</td>\n      <td>0</td>\n      <td>1</td>\n      <td>2021-12-15</td>\n      <td>30.0</td>\n      <td>540.0</td>\n      <td>0</td>\n      <td>135.0</td>\n      <td>0.0</td>\n      <td>0.0</td>\n      <td>5.0</td>\n      <td>2</td>\n      <td>3</td>\n      <td>1</td>\n      <td>4</td>\n      <td>6</td>\n      <td>0</td>\n      <td>0</td>\n      <td>0</td>\n      <td>0</td>\n      <td>0</td>\n      <td>0</td>\n      <td>1</td>\n      <td>680.0</td>\n      <td>56</td>\n      <td>478</td>\n      <td>0</td>\n      <td>0</td>\n      <td>0</td>\n      <td>1</td>\n      <td>1</td>\n      <td>0</td>\n      <td>0</td>\n      <td>1.412134</td>\n      <td>0</td>\n      <td>8</td>\n      <td>85.000000</td>\n      <td>1</td>\n      <td>1</td>\n      <td>79.411765</td>\n      <td>0.000000</td>\n      <td>19.852941</td>\n      <td>0.000000</td>\n      <td>0.000000</td>\n      <td>0.735294</td>\n      <td>37.500000</td>\n      <td>50.000000</td>\n      <td>12.500000</td>\n    </tr>\n    <tr>\n      <th>23312</th>\n      <td>Miss Angela Murray</td>\n      <td>1989</td>\n      <td>44867.0</td>\n      <td>1</td>\n      <td>0</td>\n      <td>2020-11-12</td>\n      <td>8.0</td>\n      <td>80.0</td>\n      <td>120</td>\n      <td>210.0</td>\n      <td>120.0</td>\n      <td>100.0</td>\n      <td>17.0</td>\n      <td>1</td>\n      <td>3</td>\n      <td>1</td>\n      <td>3</td>\n      <td>8</td>\n      <td>0</td>\n      <td>0</td>\n      <td>0</td>\n      <td>0</td>\n      <td>0</td>\n      <td>0</td>\n      <td>0</td>\n      <td>647.0</td>\n      <td>34</td>\n      <td>876</td>\n      <td>1</td>\n      <td>0</td>\n      <td>0</td>\n      <td>0</td>\n      <td>0</td>\n      <td>1</td>\n      <td>0</td>\n      <td>0.719178</td>\n      <td>0</td>\n      <td>7</td>\n      <td>92.428571</td>\n      <td>1</td>\n      <td>1</td>\n      <td>12.364760</td>\n      <td>18.547141</td>\n      <td>32.457496</td>\n      <td>18.547141</td>\n      <td>15.455951</td>\n      <td>2.627512</td>\n      <td>42.857143</td>\n      <td>42.857143</td>\n      <td>14.285714</td>\n    </tr>\n    <tr>\n      <th>15581</th>\n      <td>Miss Diana Taylor</td>\n      <td>1960</td>\n      <td>124379.0</td>\n      <td>0</td>\n      <td>0</td>\n      <td>2021-02-04</td>\n      <td>80.0</td>\n      <td>7280.0</td>\n      <td>422</td>\n      <td>1692.0</td>\n      <td>3760.0</td>\n      <td>1880.0</td>\n      <td>235.0</td>\n      <td>1</td>\n      <td>6</td>\n      <td>12</td>\n      <td>11</td>\n      <td>2</td>\n      <td>0</td>\n      <td>0</td>\n      <td>0</td>\n      <td>1</td>\n      <td>1</td>\n      <td>0</td>\n      <td>0</td>\n      <td>15269.0</td>\n      <td>63</td>\n      <td>792</td>\n      <td>1</td>\n      <td>0</td>\n      <td>0</td>\n      <td>0</td>\n      <td>0</td>\n      <td>1</td>\n      <td>0</td>\n      <td>18.982323</td>\n      <td>1</td>\n      <td>29</td>\n      <td>526.517241</td>\n      <td>0</td>\n      <td>0</td>\n      <td>47.678302</td>\n      <td>2.763770</td>\n      <td>11.081276</td>\n      <td>24.625057</td>\n      <td>12.312529</td>\n      <td>1.539066</td>\n      <td>20.689655</td>\n      <td>37.931034</td>\n      <td>41.379310</td>\n    </tr>\n  </tbody>\n</table>\n<p>7000 rows × 50 columns</p>\n</div>"
     },
     "execution_count": 118,
     "metadata": {},
     "output_type": "execute_result"
    }
   ],
   "source": [
    "df"
   ],
   "metadata": {
    "collapsed": false
   }
  },
  {
   "cell_type": "markdown",
   "source": [
    "## Data Review\n",
    "\n",
    "Ver a dataframe no seu estado final\n",
    "Drop: Id, name, birthyear, date_adherence, total_kids, mntTotal"
   ],
   "metadata": {
    "collapsed": false
   }
  },
  {
   "cell_type": "code",
   "execution_count": null,
   "outputs": [],
   "source": [
    "df.head()"
   ],
   "metadata": {
    "collapsed": false
   }
  },
  {
   "cell_type": "code",
   "execution_count": null,
   "outputs": [],
   "source": [
    "df.describe()"
   ],
   "metadata": {
    "collapsed": false
   }
  },
  {
   "cell_type": "code",
   "execution_count": null,
   "outputs": [],
   "source": [],
   "metadata": {
    "collapsed": false
   }
  },
  {
   "cell_type": "code",
   "execution_count": null,
   "outputs": [],
   "source": [
    "df_train= df.copy()\n",
    "df_train.drop(['Name', 'Birthyear', 'Date_Adherence'], axis = 1, inplace = True)"
   ],
   "metadata": {
    "collapsed": false
   }
  },
  {
   "cell_type": "code",
   "execution_count": null,
   "outputs": [],
   "source": [
    "df_train"
   ],
   "metadata": {
    "collapsed": false
   }
  },
  {
   "cell_type": "markdown",
   "source": [
    "## Data scaling\n",
    "min max: income, recency, mnt..., purchases ..., age, daysasClient, mnt per ..."
   ],
   "metadata": {
    "collapsed": false
   }
  },
  {
   "cell_type": "code",
   "execution_count": null,
   "outputs": [],
   "source": [
    "#scaler = MinMaxScaler()\n",
    "#df_train = pd.DataFrame(scaler.fit_transform(df_train))\n",
    "#df_train.describe()"
   ],
   "metadata": {
    "collapsed": false
   }
  },
  {
   "cell_type": "markdown",
   "source": [
    "## PCA\n"
   ],
   "metadata": {
    "collapsed": false
   }
  },
  {
   "cell_type": "code",
   "execution_count": null,
   "outputs": [],
   "source": [
    "from sklearn.decomposition import PCA\n",
    "from sklearn import preprocessing\n",
    "df_train2 = df_train.copy()\n",
    "scaled_df_train2 = preprocessing.scale(df_train2)\n",
    "pca = PCA(n_components=8)\n",
    "pca.fit(scaled_df_train2)\n",
    "pca_data = pca.transform(scaled_df_train2)\n",
    "per_var = np.round(pca.explained_variance_ratio_*100, decimals=1)\n",
    "labels = ['PC' + str(x) for x in range(1, len(per_var) +1)]\n",
    "plt.plot(per_var,'ro-')\n",
    "plt.ylabel('Percentage of Explained Variance')\n",
    "plt.xlabel('Principal Component')\n",
    "plt.title('Scree Plot')\n",
    "plt.figure(figsize=(10,10))\n",
    "plt.show()\n",
    "pca_df = pd.DataFrame(pca_data, columns=labels)\n",
    "pca_df\n"
   ],
   "metadata": {
    "collapsed": false
   }
  },
  {
   "cell_type": "code",
   "execution_count": null,
   "outputs": [],
   "source": [
    "pca.explained_variance_ratio_.cumsum() # 16PC's explicam 81% da variância"
   ],
   "metadata": {
    "collapsed": false
   }
  },
  {
   "cell_type": "markdown",
   "source": [
    "## Loading Scores for each PC"
   ],
   "metadata": {
    "collapsed": false
   }
  },
  {
   "cell_type": "code",
   "execution_count": null,
   "outputs": [],
   "source": [
    "loading_scores = pd.Series(pca.components_[1], index=df_train2.columns)\n",
    "sorted_loading_scores= loading_scores.abs().sort_values(ascending=False)\n",
    "top_8 = sorted_loading_scores.index.values\n",
    "print(loading_scores[top_8])"
   ],
   "metadata": {
    "collapsed": false
   }
  },
  {
   "cell_type": "code",
   "execution_count": null,
   "outputs": [],
   "source": [
    "plt.figure(figsize=(10,8))\n",
    "plt.scatter(pca_data[:,0],pca_data[:,1],c=df_train['Abv_Avg_Mnt'])\n"
   ],
   "metadata": {
    "collapsed": false
   }
  },
  {
   "cell_type": "markdown",
   "source": [
    "##  Correlação entre PC's e as variáveis originais"
   ],
   "metadata": {
    "collapsed": false
   }
  },
  {
   "cell_type": "code",
   "execution_count": null,
   "outputs": [],
   "source": [
    "df_comp = pd.DataFrame(pca.components_,columns=df_train2.columns)\n",
    "plt.figure(figsize=(10,10))\n",
    "sns.heatmap(df_comp,cmap='plasma')"
   ],
   "metadata": {
    "collapsed": false
   }
  },
  {
   "cell_type": "markdown",
   "source": [
    "## Model Train"
   ],
   "metadata": {
    "collapsed": false
   }
  },
  {
   "cell_type": "code",
   "execution_count": null,
   "outputs": [],
   "source": [
    "from sklearn.cluster import KMeans\n",
    "\n",
    "kmeans= KMeans(n_clusters = 6, max_iter =100, random_state= 1)\n",
    "kmeans.fit(df_train)\n",
    "kmeans.labels_"
   ],
   "metadata": {
    "collapsed": false
   }
  },
  {
   "cell_type": "code",
   "execution_count": null,
   "outputs": [],
   "source": [],
   "metadata": {
    "collapsed": false
   }
  },
  {
   "cell_type": "markdown",
   "id": "cd1fb8d0",
   "metadata": {},
   "source": [
    "### 3.2.2. Misclassifications"
   ]
  },
  {
   "cell_type": "markdown",
   "id": "bf325433",
   "metadata": {},
   "source": [
    "### 3.2.3. Incoherencies"
   ]
  },
  {
   "cell_type": "code",
   "execution_count": null,
   "id": "cebd13f4",
   "metadata": {},
   "outputs": [],
   "source": [
    "df[(df[['MntMeat&Fish', 'MntEntries',\n",
    "        'MntVegan&Vegetarian', 'MntDrinks', 'MntDesserts',\n",
    "        'MntAdditionalRequests']].sum(axis = 1) >= 0) & (df[['NumOfferPurchases', 'NumAppPurchases', 'NumTakeAwayPurchases', 'NumStorePurchases']].sum(axis = 1) <= 0)]"
   ]
  },
  {
   "cell_type": "code",
   "execution_count": null,
   "outputs": [],
   "source": [
    "df[(df[['NumAppPurchases']].sum(axis = 1) >= 0) & (df[['NumAppVisitsMonth']].sum(axis = 1) <= 0)]"
   ],
   "metadata": {
    "collapsed": false
   }
  },
  {
   "cell_type": "code",
   "execution_count": null,
   "outputs": [],
   "source": [
    "df[(df.Age < (df.daysAsCardClient/365))]"
   ],
   "metadata": {
    "collapsed": false
   }
  },
  {
   "cell_type": "code",
   "execution_count": null,
   "outputs": [],
   "source": [
    "df[(df.daysAsCardClient < df.Recency)]"
   ],
   "metadata": {
    "collapsed": false
   }
  },
  {
   "cell_type": "code",
   "execution_count": null,
   "outputs": [],
   "source": [
    "df[(df['NumOfferPurchases'] > df[['NumAppPurchases','NumTakeAwayPurchases','NumStorePurchases']].sum(axis=1))]"
   ],
   "metadata": {
    "collapsed": false
   }
  },
  {
   "cell_type": "markdown",
   "source": [],
   "metadata": {
    "collapsed": false
   }
  },
  {
   "cell_type": "markdown",
   "source": [],
   "metadata": {
    "collapsed": false
   }
  },
  {
   "cell_type": "markdown",
   "id": "a70497b0",
   "metadata": {},
   "source": [
    "### 3.2.4. Binning"
   ]
  },
  {
   "cell_type": "markdown",
   "id": "167e07f7",
   "metadata": {},
   "source": [
    "### 3.2.5. Reclassification"
   ]
  },
  {
   "cell_type": "markdown",
   "id": "7385de6b",
   "metadata": {},
   "source": [
    "### 3.2.6. Power Transform"
   ]
  },
  {
   "cell_type": "markdown",
   "id": "91126155",
   "metadata": {},
   "source": [
    "## 3.3. Data Reduction"
   ]
  },
  {
   "cell_type": "markdown",
   "id": "0a1bb4a3",
   "metadata": {},
   "source": [
    "### 3.3.1. Multicollinearity - Check correlation"
   ]
  },
  {
   "cell_type": "markdown",
   "id": "478dd700",
   "metadata": {},
   "source": [
    "### 3.3.2. Unary Variables"
   ]
  },
  {
   "cell_type": "markdown",
   "id": "c2eb07fe",
   "metadata": {},
   "source": [
    "### 3.3.3. Variables with a high percentage of missing values"
   ]
  },
  {
   "cell_type": "markdown",
   "id": "d20c2381",
   "metadata": {},
   "source": [
    "## 3.2. Back to Data Transformation"
   ]
  },
  {
   "cell_type": "markdown",
   "id": "f8c221ce",
   "metadata": {},
   "source": [
    "### 3.2.7. Apply ordinal encoding and create Dummy variables"
   ]
  },
  {
   "cell_type": "markdown",
   "id": "ee645019",
   "metadata": {},
   "source": [
    "### 3.2.8. Scaling"
   ]
  }
 ],
 "metadata": {
  "kernelspec": {
   "display_name": "Python 3 (ipykernel)",
   "language": "python",
   "name": "python3"
  },
  "language_info": {
   "codemirror_mode": {
    "name": "ipython",
    "version": 3
   },
   "file_extension": ".py",
   "mimetype": "text/x-python",
   "name": "python",
   "nbconvert_exporter": "python",
   "pygments_lexer": "ipython3",
   "version": "3.9.13"
  }
 },
 "nbformat": 4,
 "nbformat_minor": 5
}
