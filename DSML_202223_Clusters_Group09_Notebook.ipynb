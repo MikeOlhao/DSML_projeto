{
 "cells": [
  {
   "cell_type": "markdown",
   "id": "7bc87212",
   "metadata": {},
   "source": [
    "### Table of Contents"
   ]
  },
  {
   "cell_type": "markdown",
   "id": "db4075ae",
   "metadata": {},
   "source": [
    "# 1. Import Data"
   ]
  },
  {
   "cell_type": "markdown",
   "id": "24debbce",
   "metadata": {},
   "source": [
    "## 1.1 Import the needed libraries"
   ]
  },
  {
   "cell_type": "code",
   "execution_count": 1,
   "id": "40e3108e",
   "metadata": {},
   "outputs": [],
   "source": [
    "import pandas as pd\n",
    "import numpy as np\n",
    "import matplotlib.pyplot as plt\n",
    "import seaborn as sns\n",
    "import sklearn as sk\n",
    "from datetime import date\n",
    "\n",
    "%matplotlib inline\n",
    "pd.set_option('display.max_columns', None)\n",
    "\n",
    "from sklearn.preprocessing import MinMaxScaler\n",
    "from sklearn.impute import KNNImputer"
   ]
  },
  {
   "cell_type": "markdown",
   "id": "bc474e5f",
   "metadata": {},
   "source": [
    "## 1.2 Import a integrate data"
   ]
  },
  {
   "cell_type": "code",
   "execution_count": 2,
   "id": "4acdbaaa",
   "metadata": {},
   "outputs": [],
   "source": [
    "df_crm = pd.read_csv('crm.csv')\n",
    "df_mkt = pd.read_csv('mkt.csv')\n",
    "df_sales = pd.read_excel('sales.xlsx')"
   ]
  },
  {
   "cell_type": "code",
   "execution_count": 3,
   "id": "c71a4e04",
   "metadata": {},
   "outputs": [],
   "source": [
    "df = pd.merge(pd.merge(df_crm,df_sales,on='CustomerID',how=\"inner\"),df_mkt,on=\"CustomerID\",how=\"inner\")"
   ]
  },
  {
   "cell_type": "markdown",
   "id": "3659ba1c",
   "metadata": {},
   "source": [
    "## 1.3 Set Index\n"
   ]
  },
  {
   "cell_type": "code",
   "execution_count": 4,
   "id": "133e3a1f",
   "metadata": {},
   "outputs": [],
   "source": [
    "df.set_index('CustomerID',inplace = True)"
   ]
  },
  {
   "cell_type": "markdown",
   "id": "7c1102a1",
   "metadata": {},
   "source": [
    "## 1.4 Check and removing duplicates"
   ]
  },
  {
   "cell_type": "code",
   "execution_count": 5,
   "id": "e0d3e069",
   "metadata": {},
   "outputs": [
    {
     "data": {
      "text/html": [
       "<div>\n",
       "<style scoped>\n",
       "    .dataframe tbody tr th:only-of-type {\n",
       "        vertical-align: middle;\n",
       "    }\n",
       "\n",
       "    .dataframe tbody tr th {\n",
       "        vertical-align: top;\n",
       "    }\n",
       "\n",
       "    .dataframe thead th {\n",
       "        text-align: right;\n",
       "    }\n",
       "</style>\n",
       "<table border=\"1\" class=\"dataframe\">\n",
       "  <thead>\n",
       "    <tr style=\"text-align: right;\">\n",
       "      <th></th>\n",
       "      <th>Name</th>\n",
       "      <th>Birthyear</th>\n",
       "      <th>Education</th>\n",
       "      <th>Marital_Status</th>\n",
       "      <th>Income</th>\n",
       "      <th>Kid_Younger6</th>\n",
       "      <th>Children_6to18</th>\n",
       "      <th>Date_Adherence</th>\n",
       "      <th>Recency</th>\n",
       "      <th>MntMeat&amp;Fish</th>\n",
       "      <th>MntEntries</th>\n",
       "      <th>MntVegan&amp;Vegetarian</th>\n",
       "      <th>MntDrinks</th>\n",
       "      <th>MntDesserts</th>\n",
       "      <th>MntAdditionalRequests</th>\n",
       "      <th>NumOfferPurchases</th>\n",
       "      <th>NumAppPurchases</th>\n",
       "      <th>NumTakeAwayPurchases</th>\n",
       "      <th>NumStorePurchases</th>\n",
       "      <th>NumAppVisitsMonth</th>\n",
       "      <th>Complain</th>\n",
       "      <th>Response_Cmp1</th>\n",
       "      <th>Response_Cmp2</th>\n",
       "      <th>Response_Cmp3</th>\n",
       "      <th>Response_Cmp4</th>\n",
       "      <th>Response_Cmp5</th>\n",
       "    </tr>\n",
       "    <tr>\n",
       "      <th>CustomerID</th>\n",
       "      <th></th>\n",
       "      <th></th>\n",
       "      <th></th>\n",
       "      <th></th>\n",
       "      <th></th>\n",
       "      <th></th>\n",
       "      <th></th>\n",
       "      <th></th>\n",
       "      <th></th>\n",
       "      <th></th>\n",
       "      <th></th>\n",
       "      <th></th>\n",
       "      <th></th>\n",
       "      <th></th>\n",
       "      <th></th>\n",
       "      <th></th>\n",
       "      <th></th>\n",
       "      <th></th>\n",
       "      <th></th>\n",
       "      <th></th>\n",
       "      <th></th>\n",
       "      <th></th>\n",
       "      <th></th>\n",
       "      <th></th>\n",
       "      <th></th>\n",
       "      <th></th>\n",
       "    </tr>\n",
       "  </thead>\n",
       "  <tbody>\n",
       "    <tr>\n",
       "      <th>32924</th>\n",
       "      <td>Mrs. Wanda Terry</td>\n",
       "      <td>1986</td>\n",
       "      <td>Graduation</td>\n",
       "      <td>Divorced</td>\n",
       "      <td>41264.0</td>\n",
       "      <td>1</td>\n",
       "      <td>1</td>\n",
       "      <td>2020-10-03 00:00:00</td>\n",
       "      <td>61.0</td>\n",
       "      <td>70.0</td>\n",
       "      <td>20</td>\n",
       "      <td>165.0</td>\n",
       "      <td>40.0</td>\n",
       "      <td>0.0</td>\n",
       "      <td>7.0</td>\n",
       "      <td>2</td>\n",
       "      <td>3</td>\n",
       "      <td>1</td>\n",
       "      <td>3</td>\n",
       "      <td>7</td>\n",
       "      <td>0</td>\n",
       "      <td>0</td>\n",
       "      <td>0</td>\n",
       "      <td>0</td>\n",
       "      <td>0</td>\n",
       "      <td>0</td>\n",
       "    </tr>\n",
       "    <tr>\n",
       "      <th>8276</th>\n",
       "      <td>Mrs. Mary Jackson</td>\n",
       "      <td>1968</td>\n",
       "      <td>HighSchool</td>\n",
       "      <td>Married</td>\n",
       "      <td>118238.0</td>\n",
       "      <td>0</td>\n",
       "      <td>0</td>\n",
       "      <td>2020-10-13 00:00:00</td>\n",
       "      <td>42.0</td>\n",
       "      <td>5940.0</td>\n",
       "      <td>1002</td>\n",
       "      <td>9465.0</td>\n",
       "      <td>1100.0</td>\n",
       "      <td>1100.0</td>\n",
       "      <td>32.0</td>\n",
       "      <td>1</td>\n",
       "      <td>6</td>\n",
       "      <td>7</td>\n",
       "      <td>8</td>\n",
       "      <td>2</td>\n",
       "      <td>0</td>\n",
       "      <td>0</td>\n",
       "      <td>0</td>\n",
       "      <td>0</td>\n",
       "      <td>0</td>\n",
       "      <td>0</td>\n",
       "    </tr>\n",
       "    <tr>\n",
       "      <th>32966</th>\n",
       "      <td>Mr. Steven Baker</td>\n",
       "      <td>1961</td>\n",
       "      <td>HighSchool</td>\n",
       "      <td>Married</td>\n",
       "      <td>84974.0</td>\n",
       "      <td>0</td>\n",
       "      <td>1</td>\n",
       "      <td>2022-02-17 00:00:00</td>\n",
       "      <td>56.0</td>\n",
       "      <td>2610.0</td>\n",
       "      <td>840</td>\n",
       "      <td>2160.0</td>\n",
       "      <td>840.0</td>\n",
       "      <td>960.0</td>\n",
       "      <td>133.0</td>\n",
       "      <td>3</td>\n",
       "      <td>6</td>\n",
       "      <td>5</td>\n",
       "      <td>9</td>\n",
       "      <td>3</td>\n",
       "      <td>0</td>\n",
       "      <td>0</td>\n",
       "      <td>0</td>\n",
       "      <td>0</td>\n",
       "      <td>0</td>\n",
       "      <td>0</td>\n",
       "    </tr>\n",
       "    <tr>\n",
       "      <th>5627</th>\n",
       "      <td>Mr. Jonathan Clark</td>\n",
       "      <td>1988</td>\n",
       "      <td>Graduation</td>\n",
       "      <td>Married</td>\n",
       "      <td>40975.0</td>\n",
       "      <td>1</td>\n",
       "      <td>0</td>\n",
       "      <td>2022-04-28 00:00:00</td>\n",
       "      <td>31.0</td>\n",
       "      <td>130.0</td>\n",
       "      <td>0</td>\n",
       "      <td>120.0</td>\n",
       "      <td>20.0</td>\n",
       "      <td>20.0</td>\n",
       "      <td>5.0</td>\n",
       "      <td>1</td>\n",
       "      <td>3</td>\n",
       "      <td>1</td>\n",
       "      <td>4</td>\n",
       "      <td>3</td>\n",
       "      <td>0</td>\n",
       "      <td>0</td>\n",
       "      <td>0</td>\n",
       "      <td>0</td>\n",
       "      <td>0</td>\n",
       "      <td>0</td>\n",
       "    </tr>\n",
       "    <tr>\n",
       "      <th>29357</th>\n",
       "      <td>Mr. Eric Springer</td>\n",
       "      <td>1972</td>\n",
       "      <td>PhD</td>\n",
       "      <td>Married</td>\n",
       "      <td>77778.0</td>\n",
       "      <td>0</td>\n",
       "      <td>1</td>\n",
       "      <td>2022-04-19 00:00:00</td>\n",
       "      <td>92.0</td>\n",
       "      <td>1240.0</td>\n",
       "      <td>60</td>\n",
       "      <td>315.0</td>\n",
       "      <td>20.0</td>\n",
       "      <td>20.0</td>\n",
       "      <td>33.0</td>\n",
       "      <td>1</td>\n",
       "      <td>5</td>\n",
       "      <td>2</td>\n",
       "      <td>4</td>\n",
       "      <td>6</td>\n",
       "      <td>0</td>\n",
       "      <td>0</td>\n",
       "      <td>1</td>\n",
       "      <td>0</td>\n",
       "      <td>0</td>\n",
       "      <td>0</td>\n",
       "    </tr>\n",
       "    <tr>\n",
       "      <th>26891</th>\n",
       "      <td>Mr. Sam Peake</td>\n",
       "      <td>1992</td>\n",
       "      <td>Graduation</td>\n",
       "      <td>Married</td>\n",
       "      <td>74147.0</td>\n",
       "      <td>1</td>\n",
       "      <td>0</td>\n",
       "      <td>2022-03-21 00:00:00</td>\n",
       "      <td>13.0</td>\n",
       "      <td>610.0</td>\n",
       "      <td>320</td>\n",
       "      <td>915.0</td>\n",
       "      <td>20.0</td>\n",
       "      <td>240.0</td>\n",
       "      <td>78.0</td>\n",
       "      <td>2</td>\n",
       "      <td>6</td>\n",
       "      <td>3</td>\n",
       "      <td>2</td>\n",
       "      <td>6</td>\n",
       "      <td>0</td>\n",
       "      <td>1</td>\n",
       "      <td>0</td>\n",
       "      <td>0</td>\n",
       "      <td>0</td>\n",
       "      <td>0</td>\n",
       "    </tr>\n",
       "    <tr>\n",
       "      <th>21269</th>\n",
       "      <td>Mr. Nathan Glover</td>\n",
       "      <td>1971</td>\n",
       "      <td>Graduation</td>\n",
       "      <td>Married</td>\n",
       "      <td>91241.0</td>\n",
       "      <td>0</td>\n",
       "      <td>1</td>\n",
       "      <td>2022-03-28 00:00:00</td>\n",
       "      <td>18.0</td>\n",
       "      <td>1780.0</td>\n",
       "      <td>220</td>\n",
       "      <td>2370.0</td>\n",
       "      <td>540.0</td>\n",
       "      <td>380.0</td>\n",
       "      <td>59.0</td>\n",
       "      <td>1</td>\n",
       "      <td>8</td>\n",
       "      <td>3</td>\n",
       "      <td>6</td>\n",
       "      <td>5</td>\n",
       "      <td>0</td>\n",
       "      <td>0</td>\n",
       "      <td>0</td>\n",
       "      <td>0</td>\n",
       "      <td>0</td>\n",
       "      <td>0</td>\n",
       "    </tr>\n",
       "    <tr>\n",
       "      <th>32777</th>\n",
       "      <td>Mr. Joe James</td>\n",
       "      <td>1967</td>\n",
       "      <td>Master</td>\n",
       "      <td>Married</td>\n",
       "      <td>101251.0</td>\n",
       "      <td>0</td>\n",
       "      <td>1</td>\n",
       "      <td>2021-12-30 00:00:00</td>\n",
       "      <td>26.0</td>\n",
       "      <td>7350.0</td>\n",
       "      <td>2780</td>\n",
       "      <td>4170.0</td>\n",
       "      <td>500.0</td>\n",
       "      <td>1760.0</td>\n",
       "      <td>66.0</td>\n",
       "      <td>2</td>\n",
       "      <td>8</td>\n",
       "      <td>8</td>\n",
       "      <td>6</td>\n",
       "      <td>3</td>\n",
       "      <td>0</td>\n",
       "      <td>1</td>\n",
       "      <td>0</td>\n",
       "      <td>0</td>\n",
       "      <td>0</td>\n",
       "      <td>0</td>\n",
       "    </tr>\n",
       "    <tr>\n",
       "      <th>26285</th>\n",
       "      <td>Mr. Oliver Sanderson</td>\n",
       "      <td>1986</td>\n",
       "      <td>Basic</td>\n",
       "      <td>Together</td>\n",
       "      <td>22345.0</td>\n",
       "      <td>1</td>\n",
       "      <td>0</td>\n",
       "      <td>2021-03-21 00:00:00</td>\n",
       "      <td>54.0</td>\n",
       "      <td>50.0</td>\n",
       "      <td>180</td>\n",
       "      <td>285.0</td>\n",
       "      <td>240.0</td>\n",
       "      <td>280.0</td>\n",
       "      <td>39.0</td>\n",
       "      <td>3</td>\n",
       "      <td>5</td>\n",
       "      <td>2</td>\n",
       "      <td>2</td>\n",
       "      <td>9</td>\n",
       "      <td>0</td>\n",
       "      <td>1</td>\n",
       "      <td>0</td>\n",
       "      <td>0</td>\n",
       "      <td>0</td>\n",
       "      <td>0</td>\n",
       "    </tr>\n",
       "    <tr>\n",
       "      <th>5540</th>\n",
       "      <td>Mr. Justin MacLeod</td>\n",
       "      <td>1995</td>\n",
       "      <td>Graduation</td>\n",
       "      <td>Together</td>\n",
       "      <td>44247.0</td>\n",
       "      <td>1</td>\n",
       "      <td>0</td>\n",
       "      <td>2021-03-08 00:00:00</td>\n",
       "      <td>51.0</td>\n",
       "      <td>1540.0</td>\n",
       "      <td>400</td>\n",
       "      <td>990.0</td>\n",
       "      <td>0.0</td>\n",
       "      <td>240.0</td>\n",
       "      <td>27.0</td>\n",
       "      <td>7</td>\n",
       "      <td>8</td>\n",
       "      <td>2</td>\n",
       "      <td>4</td>\n",
       "      <td>9</td>\n",
       "      <td>0</td>\n",
       "      <td>0</td>\n",
       "      <td>0</td>\n",
       "      <td>0</td>\n",
       "      <td>0</td>\n",
       "      <td>0</td>\n",
       "    </tr>\n",
       "    <tr>\n",
       "      <th>17069</th>\n",
       "      <td>Miss Zoe Underwood</td>\n",
       "      <td>1977</td>\n",
       "      <td>Graduation</td>\n",
       "      <td>Together</td>\n",
       "      <td>75226.0</td>\n",
       "      <td>1</td>\n",
       "      <td>1</td>\n",
       "      <td>2020-11-24 00:00:00</td>\n",
       "      <td>32.0</td>\n",
       "      <td>1320.0</td>\n",
       "      <td>280</td>\n",
       "      <td>390.0</td>\n",
       "      <td>180.0</td>\n",
       "      <td>100.0</td>\n",
       "      <td>28.0</td>\n",
       "      <td>5</td>\n",
       "      <td>7</td>\n",
       "      <td>2</td>\n",
       "      <td>3</td>\n",
       "      <td>8</td>\n",
       "      <td>0</td>\n",
       "      <td>0</td>\n",
       "      <td>0</td>\n",
       "      <td>0</td>\n",
       "      <td>0</td>\n",
       "      <td>0</td>\n",
       "    </tr>\n",
       "    <tr>\n",
       "      <th>12320</th>\n",
       "      <td>Mr. Christian Morrison</td>\n",
       "      <td>1985</td>\n",
       "      <td>Master</td>\n",
       "      <td>Married</td>\n",
       "      <td>39747.0</td>\n",
       "      <td>1</td>\n",
       "      <td>0</td>\n",
       "      <td>2021-04-06 00:00:00</td>\n",
       "      <td>64.0</td>\n",
       "      <td>120.0</td>\n",
       "      <td>0</td>\n",
       "      <td>195.0</td>\n",
       "      <td>20.0</td>\n",
       "      <td>0.0</td>\n",
       "      <td>10.0</td>\n",
       "      <td>1</td>\n",
       "      <td>3</td>\n",
       "      <td>1</td>\n",
       "      <td>3</td>\n",
       "      <td>7</td>\n",
       "      <td>0</td>\n",
       "      <td>0</td>\n",
       "      <td>0</td>\n",
       "      <td>0</td>\n",
       "      <td>0</td>\n",
       "      <td>0</td>\n",
       "    </tr>\n",
       "    <tr>\n",
       "      <th>24260</th>\n",
       "      <td>Mr. Dan Langdon</td>\n",
       "      <td>1993</td>\n",
       "      <td>Graduation</td>\n",
       "      <td>Single</td>\n",
       "      <td>116645.0</td>\n",
       "      <td>0</td>\n",
       "      <td>0</td>\n",
       "      <td>2021-05-18 00:00:00</td>\n",
       "      <td>64.0</td>\n",
       "      <td>3330.0</td>\n",
       "      <td>0</td>\n",
       "      <td>12225.0</td>\n",
       "      <td>1980.0</td>\n",
       "      <td>832.0</td>\n",
       "      <td>29.0</td>\n",
       "      <td>1</td>\n",
       "      <td>6</td>\n",
       "      <td>11</td>\n",
       "      <td>11</td>\n",
       "      <td>2</td>\n",
       "      <td>0</td>\n",
       "      <td>0</td>\n",
       "      <td>0</td>\n",
       "      <td>0</td>\n",
       "      <td>0</td>\n",
       "      <td>0</td>\n",
       "    </tr>\n",
       "    <tr>\n",
       "      <th>6470</th>\n",
       "      <td>Miss Diane White</td>\n",
       "      <td>1980</td>\n",
       "      <td>Graduation</td>\n",
       "      <td>Single</td>\n",
       "      <td>127255.0</td>\n",
       "      <td>0</td>\n",
       "      <td>0</td>\n",
       "      <td>2021-06-17 00:00:00</td>\n",
       "      <td>75.0</td>\n",
       "      <td>5760.0</td>\n",
       "      <td>2220</td>\n",
       "      <td>13950.0</td>\n",
       "      <td>2960.0</td>\n",
       "      <td>1860.0</td>\n",
       "      <td>74.0</td>\n",
       "      <td>1</td>\n",
       "      <td>5</td>\n",
       "      <td>3</td>\n",
       "      <td>13</td>\n",
       "      <td>1</td>\n",
       "      <td>0</td>\n",
       "      <td>0</td>\n",
       "      <td>0</td>\n",
       "      <td>0</td>\n",
       "      <td>0</td>\n",
       "      <td>0</td>\n",
       "    </tr>\n",
       "    <tr>\n",
       "      <th>10265</th>\n",
       "      <td>Mr. Max Martin</td>\n",
       "      <td>1988</td>\n",
       "      <td>HighSchool</td>\n",
       "      <td>Together</td>\n",
       "      <td>27838.0</td>\n",
       "      <td>1</td>\n",
       "      <td>0</td>\n",
       "      <td>2021-10-08 00:00:00</td>\n",
       "      <td>7.0</td>\n",
       "      <td>170.0</td>\n",
       "      <td>60</td>\n",
       "      <td>105.0</td>\n",
       "      <td>280.0</td>\n",
       "      <td>20.0</td>\n",
       "      <td>42.0</td>\n",
       "      <td>2</td>\n",
       "      <td>4</td>\n",
       "      <td>3</td>\n",
       "      <td>2</td>\n",
       "      <td>4</td>\n",
       "      <td>0</td>\n",
       "      <td>1</td>\n",
       "      <td>0</td>\n",
       "      <td>0</td>\n",
       "      <td>0</td>\n",
       "      <td>0</td>\n",
       "    </tr>\n",
       "    <tr>\n",
       "      <th>21767</th>\n",
       "      <td>Mrs. Jan Sharp</td>\n",
       "      <td>1977</td>\n",
       "      <td>Master</td>\n",
       "      <td>Married</td>\n",
       "      <td>54507.0</td>\n",
       "      <td>1</td>\n",
       "      <td>1</td>\n",
       "      <td>2020-10-27 00:00:00</td>\n",
       "      <td>94.0</td>\n",
       "      <td>280.0</td>\n",
       "      <td>40</td>\n",
       "      <td>135.0</td>\n",
       "      <td>20.0</td>\n",
       "      <td>20.0</td>\n",
       "      <td>8.0</td>\n",
       "      <td>2</td>\n",
       "      <td>4</td>\n",
       "      <td>1</td>\n",
       "      <td>3</td>\n",
       "      <td>7</td>\n",
       "      <td>0</td>\n",
       "      <td>0</td>\n",
       "      <td>0</td>\n",
       "      <td>0</td>\n",
       "      <td>0</td>\n",
       "      <td>0</td>\n",
       "    </tr>\n",
       "    <tr>\n",
       "      <th>15905</th>\n",
       "      <td>Mr. Charles James</td>\n",
       "      <td>1957</td>\n",
       "      <td>PhD</td>\n",
       "      <td>Together</td>\n",
       "      <td>95655.0</td>\n",
       "      <td>0</td>\n",
       "      <td>0</td>\n",
       "      <td>2020-09-04 00:00:00</td>\n",
       "      <td>3.0</td>\n",
       "      <td>8900.0</td>\n",
       "      <td>1260</td>\n",
       "      <td>4380.0</td>\n",
       "      <td>0.0</td>\n",
       "      <td>500.0</td>\n",
       "      <td>12.0</td>\n",
       "      <td>4</td>\n",
       "      <td>10</td>\n",
       "      <td>5</td>\n",
       "      <td>7</td>\n",
       "      <td>6</td>\n",
       "      <td>0</td>\n",
       "      <td>0</td>\n",
       "      <td>0</td>\n",
       "      <td>0</td>\n",
       "      <td>0</td>\n",
       "      <td>0</td>\n",
       "    </tr>\n",
       "    <tr>\n",
       "      <th>28688</th>\n",
       "      <td>Mr. Anthony Gibson</td>\n",
       "      <td>1976</td>\n",
       "      <td>Graduation</td>\n",
       "      <td>Together</td>\n",
       "      <td>77992.0</td>\n",
       "      <td>0</td>\n",
       "      <td>1</td>\n",
       "      <td>2020-12-29 00:00:00</td>\n",
       "      <td>43.0</td>\n",
       "      <td>5940.0</td>\n",
       "      <td>120</td>\n",
       "      <td>570.0</td>\n",
       "      <td>120.0</td>\n",
       "      <td>120.0</td>\n",
       "      <td>25.0</td>\n",
       "      <td>4</td>\n",
       "      <td>9</td>\n",
       "      <td>3</td>\n",
       "      <td>10</td>\n",
       "      <td>7</td>\n",
       "      <td>0</td>\n",
       "      <td>0</td>\n",
       "      <td>0</td>\n",
       "      <td>0</td>\n",
       "      <td>0</td>\n",
       "      <td>0</td>\n",
       "    </tr>\n",
       "    <tr>\n",
       "      <th>28739</th>\n",
       "      <td>Mr. Stephen Henderson</td>\n",
       "      <td>1970</td>\n",
       "      <td>Graduation</td>\n",
       "      <td>Married</td>\n",
       "      <td>81721.0</td>\n",
       "      <td>0</td>\n",
       "      <td>1</td>\n",
       "      <td>2021-07-21 00:00:00</td>\n",
       "      <td>78.0</td>\n",
       "      <td>2140.0</td>\n",
       "      <td>1700</td>\n",
       "      <td>2085.0</td>\n",
       "      <td>1160.0</td>\n",
       "      <td>740.0</td>\n",
       "      <td>16.0</td>\n",
       "      <td>4</td>\n",
       "      <td>7</td>\n",
       "      <td>3</td>\n",
       "      <td>10</td>\n",
       "      <td>5</td>\n",
       "      <td>0</td>\n",
       "      <td>0</td>\n",
       "      <td>0</td>\n",
       "      <td>0</td>\n",
       "      <td>0</td>\n",
       "      <td>0</td>\n",
       "    </tr>\n",
       "    <tr>\n",
       "      <th>25052</th>\n",
       "      <td>Mr. Piers Nolan</td>\n",
       "      <td>1977</td>\n",
       "      <td>Master</td>\n",
       "      <td>Divorced</td>\n",
       "      <td>57770.0</td>\n",
       "      <td>1</td>\n",
       "      <td>0</td>\n",
       "      <td>2021-07-23 00:00:00</td>\n",
       "      <td>12.0</td>\n",
       "      <td>700.0</td>\n",
       "      <td>60</td>\n",
       "      <td>1275.0</td>\n",
       "      <td>240.0</td>\n",
       "      <td>180.0</td>\n",
       "      <td>95.0</td>\n",
       "      <td>3</td>\n",
       "      <td>6</td>\n",
       "      <td>3</td>\n",
       "      <td>3</td>\n",
       "      <td>7</td>\n",
       "      <td>0</td>\n",
       "      <td>0</td>\n",
       "      <td>0</td>\n",
       "      <td>0</td>\n",
       "      <td>0</td>\n",
       "      <td>0</td>\n",
       "    </tr>\n",
       "    <tr>\n",
       "      <th>7586</th>\n",
       "      <td>Mr. Jason Powell</td>\n",
       "      <td>1985</td>\n",
       "      <td>Master</td>\n",
       "      <td>Married</td>\n",
       "      <td>98465.0</td>\n",
       "      <td>0</td>\n",
       "      <td>1</td>\n",
       "      <td>2021-04-25 00:00:00</td>\n",
       "      <td>39.0</td>\n",
       "      <td>3780.0</td>\n",
       "      <td>200</td>\n",
       "      <td>2205.0</td>\n",
       "      <td>100.0</td>\n",
       "      <td>100.0</td>\n",
       "      <td>38.0</td>\n",
       "      <td>3</td>\n",
       "      <td>9</td>\n",
       "      <td>3</td>\n",
       "      <td>8</td>\n",
       "      <td>6</td>\n",
       "      <td>0</td>\n",
       "      <td>0</td>\n",
       "      <td>0</td>\n",
       "      <td>0</td>\n",
       "      <td>0</td>\n",
       "      <td>0</td>\n",
       "    </tr>\n",
       "    <tr>\n",
       "      <th>32495</th>\n",
       "      <td>Miss Wanda Wallace</td>\n",
       "      <td>1962</td>\n",
       "      <td>Graduation</td>\n",
       "      <td>Together</td>\n",
       "      <td>8305.4</td>\n",
       "      <td>0</td>\n",
       "      <td>1</td>\n",
       "      <td>2022-03-21 00:00:00</td>\n",
       "      <td>30.0</td>\n",
       "      <td>479.0</td>\n",
       "      <td>10</td>\n",
       "      <td>123.0</td>\n",
       "      <td>10.0</td>\n",
       "      <td>34.0</td>\n",
       "      <td>17.1</td>\n",
       "      <td>0</td>\n",
       "      <td>1</td>\n",
       "      <td>1</td>\n",
       "      <td>0</td>\n",
       "      <td>20</td>\n",
       "      <td>0</td>\n",
       "      <td>1</td>\n",
       "      <td>0</td>\n",
       "      <td>0</td>\n",
       "      <td>0</td>\n",
       "      <td>0</td>\n",
       "    </tr>\n",
       "    <tr>\n",
       "      <th>19295</th>\n",
       "      <td>Mr. Justin Martin</td>\n",
       "      <td>1998</td>\n",
       "      <td>Graduation</td>\n",
       "      <td>Together</td>\n",
       "      <td>120028.0</td>\n",
       "      <td>0</td>\n",
       "      <td>0</td>\n",
       "      <td>2022-05-13 00:00:00</td>\n",
       "      <td>15.0</td>\n",
       "      <td>9370.0</td>\n",
       "      <td>1060</td>\n",
       "      <td>3000.0</td>\n",
       "      <td>800.0</td>\n",
       "      <td>2140.0</td>\n",
       "      <td>200.0</td>\n",
       "      <td>0</td>\n",
       "      <td>6</td>\n",
       "      <td>4</td>\n",
       "      <td>13</td>\n",
       "      <td>1</td>\n",
       "      <td>0</td>\n",
       "      <td>0</td>\n",
       "      <td>0</td>\n",
       "      <td>1</td>\n",
       "      <td>0</td>\n",
       "      <td>0</td>\n",
       "    </tr>\n",
       "    <tr>\n",
       "      <th>14942</th>\n",
       "      <td>Mr. Stewart North</td>\n",
       "      <td>1978</td>\n",
       "      <td>PhD</td>\n",
       "      <td>Together</td>\n",
       "      <td>135654.0</td>\n",
       "      <td>0</td>\n",
       "      <td>0</td>\n",
       "      <td>2021-05-02 00:00:00</td>\n",
       "      <td>71.0</td>\n",
       "      <td>9790.0</td>\n",
       "      <td>880</td>\n",
       "      <td>14025.0</td>\n",
       "      <td>440.0</td>\n",
       "      <td>488.0</td>\n",
       "      <td>22.0</td>\n",
       "      <td>1</td>\n",
       "      <td>9</td>\n",
       "      <td>6</td>\n",
       "      <td>12</td>\n",
       "      <td>3</td>\n",
       "      <td>0</td>\n",
       "      <td>0</td>\n",
       "      <td>1</td>\n",
       "      <td>1</td>\n",
       "      <td>1</td>\n",
       "      <td>0</td>\n",
       "    </tr>\n",
       "    <tr>\n",
       "      <th>20747</th>\n",
       "      <td>Mr. Luke Lambert</td>\n",
       "      <td>1988</td>\n",
       "      <td>PhD</td>\n",
       "      <td>Married</td>\n",
       "      <td>97456.0</td>\n",
       "      <td>0</td>\n",
       "      <td>0</td>\n",
       "      <td>2020-08-14 00:00:00</td>\n",
       "      <td>63.0</td>\n",
       "      <td>2540.0</td>\n",
       "      <td>1420</td>\n",
       "      <td>6705.0</td>\n",
       "      <td>2020.0</td>\n",
       "      <td>2840.0</td>\n",
       "      <td>20.0</td>\n",
       "      <td>1</td>\n",
       "      <td>5</td>\n",
       "      <td>5</td>\n",
       "      <td>8</td>\n",
       "      <td>1</td>\n",
       "      <td>0</td>\n",
       "      <td>0</td>\n",
       "      <td>0</td>\n",
       "      <td>0</td>\n",
       "      <td>0</td>\n",
       "      <td>0</td>\n",
       "    </tr>\n",
       "    <tr>\n",
       "      <th>12035</th>\n",
       "      <td>Mrs. Heather Hart</td>\n",
       "      <td>1985</td>\n",
       "      <td>Graduation</td>\n",
       "      <td>Married</td>\n",
       "      <td>127587.0</td>\n",
       "      <td>1</td>\n",
       "      <td>0</td>\n",
       "      <td>2021-09-30 00:00:00</td>\n",
       "      <td>73.0</td>\n",
       "      <td>6300.0</td>\n",
       "      <td>3200</td>\n",
       "      <td>3945.0</td>\n",
       "      <td>220.0</td>\n",
       "      <td>1600.0</td>\n",
       "      <td>45.0</td>\n",
       "      <td>1</td>\n",
       "      <td>6</td>\n",
       "      <td>6</td>\n",
       "      <td>8</td>\n",
       "      <td>5</td>\n",
       "      <td>0</td>\n",
       "      <td>0</td>\n",
       "      <td>1</td>\n",
       "      <td>0</td>\n",
       "      <td>1</td>\n",
       "      <td>0</td>\n",
       "    </tr>\n",
       "    <tr>\n",
       "      <th>8447</th>\n",
       "      <td>Mrs. Grace Davies</td>\n",
       "      <td>1967</td>\n",
       "      <td>Graduation</td>\n",
       "      <td>Married</td>\n",
       "      <td>116080.0</td>\n",
       "      <td>1</td>\n",
       "      <td>1</td>\n",
       "      <td>2022-04-24 00:00:00</td>\n",
       "      <td>33.0</td>\n",
       "      <td>2450.0</td>\n",
       "      <td>320</td>\n",
       "      <td>3345.0</td>\n",
       "      <td>320.0</td>\n",
       "      <td>860.0</td>\n",
       "      <td>16.0</td>\n",
       "      <td>2</td>\n",
       "      <td>10</td>\n",
       "      <td>2</td>\n",
       "      <td>8</td>\n",
       "      <td>6</td>\n",
       "      <td>0</td>\n",
       "      <td>0</td>\n",
       "      <td>0</td>\n",
       "      <td>0</td>\n",
       "      <td>0</td>\n",
       "      <td>0</td>\n",
       "    </tr>\n",
       "    <tr>\n",
       "      <th>25685</th>\n",
       "      <td>Mr. Austin Knox</td>\n",
       "      <td>1955</td>\n",
       "      <td>PhD</td>\n",
       "      <td>Widow</td>\n",
       "      <td>60675.0</td>\n",
       "      <td>1</td>\n",
       "      <td>1</td>\n",
       "      <td>2020-11-19 00:00:00</td>\n",
       "      <td>15.0</td>\n",
       "      <td>5020.0</td>\n",
       "      <td>0</td>\n",
       "      <td>645.0</td>\n",
       "      <td>0.0</td>\n",
       "      <td>0.0</td>\n",
       "      <td>27.0</td>\n",
       "      <td>9</td>\n",
       "      <td>10</td>\n",
       "      <td>3</td>\n",
       "      <td>7</td>\n",
       "      <td>9</td>\n",
       "      <td>0</td>\n",
       "      <td>0</td>\n",
       "      <td>0</td>\n",
       "      <td>0</td>\n",
       "      <td>0</td>\n",
       "      <td>0</td>\n",
       "    </tr>\n",
       "    <tr>\n",
       "      <th>28625</th>\n",
       "      <td>Mr. Frank Piper</td>\n",
       "      <td>1969</td>\n",
       "      <td>Basic</td>\n",
       "      <td>Married</td>\n",
       "      <td>30685.0</td>\n",
       "      <td>2</td>\n",
       "      <td>1</td>\n",
       "      <td>2021-12-25 00:00:00</td>\n",
       "      <td>35.0</td>\n",
       "      <td>60.0</td>\n",
       "      <td>120</td>\n",
       "      <td>120.0</td>\n",
       "      <td>180.0</td>\n",
       "      <td>180.0</td>\n",
       "      <td>18.0</td>\n",
       "      <td>3</td>\n",
       "      <td>4</td>\n",
       "      <td>2</td>\n",
       "      <td>3</td>\n",
       "      <td>6</td>\n",
       "      <td>0</td>\n",
       "      <td>0</td>\n",
       "      <td>0</td>\n",
       "      <td>0</td>\n",
       "      <td>0</td>\n",
       "      <td>0</td>\n",
       "    </tr>\n",
       "    <tr>\n",
       "      <th>28844</th>\n",
       "      <td>Mr. Neil Dowd</td>\n",
       "      <td>1981</td>\n",
       "      <td>Graduation</td>\n",
       "      <td>Married</td>\n",
       "      <td>93031.0</td>\n",
       "      <td>0</td>\n",
       "      <td>1</td>\n",
       "      <td>2022-06-29 00:00:00</td>\n",
       "      <td>43.0</td>\n",
       "      <td>6050.0</td>\n",
       "      <td>140</td>\n",
       "      <td>1275.0</td>\n",
       "      <td>140.0</td>\n",
       "      <td>140.0</td>\n",
       "      <td>7.0</td>\n",
       "      <td>1</td>\n",
       "      <td>10</td>\n",
       "      <td>3</td>\n",
       "      <td>10</td>\n",
       "      <td>4</td>\n",
       "      <td>0</td>\n",
       "      <td>0</td>\n",
       "      <td>1</td>\n",
       "      <td>0</td>\n",
       "      <td>0</td>\n",
       "      <td>0</td>\n",
       "    </tr>\n",
       "    <tr>\n",
       "      <th>30464</th>\n",
       "      <td>Miss Gabrielle Churchill</td>\n",
       "      <td>1960</td>\n",
       "      <td>Graduation</td>\n",
       "      <td>Together</td>\n",
       "      <td>99213.0</td>\n",
       "      <td>0</td>\n",
       "      <td>1</td>\n",
       "      <td>2021-05-02 00:00:00</td>\n",
       "      <td>9.0</td>\n",
       "      <td>2120.0</td>\n",
       "      <td>980</td>\n",
       "      <td>2700.0</td>\n",
       "      <td>1200.0</td>\n",
       "      <td>980.0</td>\n",
       "      <td>32.0</td>\n",
       "      <td>2</td>\n",
       "      <td>5</td>\n",
       "      <td>5</td>\n",
       "      <td>10</td>\n",
       "      <td>2</td>\n",
       "      <td>0</td>\n",
       "      <td>0</td>\n",
       "      <td>0</td>\n",
       "      <td>0</td>\n",
       "      <td>0</td>\n",
       "      <td>0</td>\n",
       "    </tr>\n",
       "  </tbody>\n",
       "</table>\n",
       "</div>"
      ],
      "text/plain": [
       "                                Name  Birthyear   Education Marital_Status  \\\n",
       "CustomerID                                                                   \n",
       "32924               Mrs. Wanda Terry       1986  Graduation       Divorced   \n",
       "8276               Mrs. Mary Jackson       1968  HighSchool        Married   \n",
       "32966               Mr. Steven Baker       1961  HighSchool        Married   \n",
       "5627              Mr. Jonathan Clark       1988  Graduation        Married   \n",
       "29357              Mr. Eric Springer       1972         PhD        Married   \n",
       "26891                  Mr. Sam Peake       1992  Graduation        Married   \n",
       "21269              Mr. Nathan Glover       1971  Graduation        Married   \n",
       "32777                  Mr. Joe James       1967      Master        Married   \n",
       "26285           Mr. Oliver Sanderson       1986       Basic       Together   \n",
       "5540              Mr. Justin MacLeod       1995  Graduation       Together   \n",
       "17069             Miss Zoe Underwood       1977  Graduation       Together   \n",
       "12320         Mr. Christian Morrison       1985      Master        Married   \n",
       "24260                Mr. Dan Langdon       1993  Graduation         Single   \n",
       "6470                Miss Diane White       1980  Graduation         Single   \n",
       "10265                 Mr. Max Martin       1988  HighSchool       Together   \n",
       "21767                 Mrs. Jan Sharp       1977      Master        Married   \n",
       "15905              Mr. Charles James       1957         PhD       Together   \n",
       "28688             Mr. Anthony Gibson       1976  Graduation       Together   \n",
       "28739          Mr. Stephen Henderson       1970  Graduation        Married   \n",
       "25052                Mr. Piers Nolan       1977      Master       Divorced   \n",
       "7586                Mr. Jason Powell       1985      Master        Married   \n",
       "32495             Miss Wanda Wallace       1962  Graduation       Together   \n",
       "19295              Mr. Justin Martin       1998  Graduation       Together   \n",
       "14942              Mr. Stewart North       1978         PhD       Together   \n",
       "20747               Mr. Luke Lambert       1988         PhD        Married   \n",
       "12035              Mrs. Heather Hart       1985  Graduation        Married   \n",
       "8447               Mrs. Grace Davies       1967  Graduation        Married   \n",
       "25685                Mr. Austin Knox       1955         PhD          Widow   \n",
       "28625                Mr. Frank Piper       1969       Basic        Married   \n",
       "28844                  Mr. Neil Dowd       1981  Graduation        Married   \n",
       "30464       Miss Gabrielle Churchill       1960  Graduation       Together   \n",
       "\n",
       "              Income  Kid_Younger6  Children_6to18       Date_Adherence  \\\n",
       "CustomerID                                                                \n",
       "32924        41264.0             1               1  2020-10-03 00:00:00   \n",
       "8276        118238.0             0               0  2020-10-13 00:00:00   \n",
       "32966        84974.0             0               1  2022-02-17 00:00:00   \n",
       "5627         40975.0             1               0  2022-04-28 00:00:00   \n",
       "29357        77778.0             0               1  2022-04-19 00:00:00   \n",
       "26891        74147.0             1               0  2022-03-21 00:00:00   \n",
       "21269        91241.0             0               1  2022-03-28 00:00:00   \n",
       "32777       101251.0             0               1  2021-12-30 00:00:00   \n",
       "26285        22345.0             1               0  2021-03-21 00:00:00   \n",
       "5540         44247.0             1               0  2021-03-08 00:00:00   \n",
       "17069        75226.0             1               1  2020-11-24 00:00:00   \n",
       "12320        39747.0             1               0  2021-04-06 00:00:00   \n",
       "24260       116645.0             0               0  2021-05-18 00:00:00   \n",
       "6470        127255.0             0               0  2021-06-17 00:00:00   \n",
       "10265        27838.0             1               0  2021-10-08 00:00:00   \n",
       "21767        54507.0             1               1  2020-10-27 00:00:00   \n",
       "15905        95655.0             0               0  2020-09-04 00:00:00   \n",
       "28688        77992.0             0               1  2020-12-29 00:00:00   \n",
       "28739        81721.0             0               1  2021-07-21 00:00:00   \n",
       "25052        57770.0             1               0  2021-07-23 00:00:00   \n",
       "7586         98465.0             0               1  2021-04-25 00:00:00   \n",
       "32495         8305.4             0               1  2022-03-21 00:00:00   \n",
       "19295       120028.0             0               0  2022-05-13 00:00:00   \n",
       "14942       135654.0             0               0  2021-05-02 00:00:00   \n",
       "20747        97456.0             0               0  2020-08-14 00:00:00   \n",
       "12035       127587.0             1               0  2021-09-30 00:00:00   \n",
       "8447        116080.0             1               1  2022-04-24 00:00:00   \n",
       "25685        60675.0             1               1  2020-11-19 00:00:00   \n",
       "28625        30685.0             2               1  2021-12-25 00:00:00   \n",
       "28844        93031.0             0               1  2022-06-29 00:00:00   \n",
       "30464        99213.0             0               1  2021-05-02 00:00:00   \n",
       "\n",
       "            Recency  MntMeat&Fish  MntEntries  MntVegan&Vegetarian  MntDrinks  \\\n",
       "CustomerID                                                                      \n",
       "32924          61.0          70.0          20                165.0       40.0   \n",
       "8276           42.0        5940.0        1002               9465.0     1100.0   \n",
       "32966          56.0        2610.0         840               2160.0      840.0   \n",
       "5627           31.0         130.0           0                120.0       20.0   \n",
       "29357          92.0        1240.0          60                315.0       20.0   \n",
       "26891          13.0         610.0         320                915.0       20.0   \n",
       "21269          18.0        1780.0         220               2370.0      540.0   \n",
       "32777          26.0        7350.0        2780               4170.0      500.0   \n",
       "26285          54.0          50.0         180                285.0      240.0   \n",
       "5540           51.0        1540.0         400                990.0        0.0   \n",
       "17069          32.0        1320.0         280                390.0      180.0   \n",
       "12320          64.0         120.0           0                195.0       20.0   \n",
       "24260          64.0        3330.0           0              12225.0     1980.0   \n",
       "6470           75.0        5760.0        2220              13950.0     2960.0   \n",
       "10265           7.0         170.0          60                105.0      280.0   \n",
       "21767          94.0         280.0          40                135.0       20.0   \n",
       "15905           3.0        8900.0        1260               4380.0        0.0   \n",
       "28688          43.0        5940.0         120                570.0      120.0   \n",
       "28739          78.0        2140.0        1700               2085.0     1160.0   \n",
       "25052          12.0         700.0          60               1275.0      240.0   \n",
       "7586           39.0        3780.0         200               2205.0      100.0   \n",
       "32495          30.0         479.0          10                123.0       10.0   \n",
       "19295          15.0        9370.0        1060               3000.0      800.0   \n",
       "14942          71.0        9790.0         880              14025.0      440.0   \n",
       "20747          63.0        2540.0        1420               6705.0     2020.0   \n",
       "12035          73.0        6300.0        3200               3945.0      220.0   \n",
       "8447           33.0        2450.0         320               3345.0      320.0   \n",
       "25685          15.0        5020.0           0                645.0        0.0   \n",
       "28625          35.0          60.0         120                120.0      180.0   \n",
       "28844          43.0        6050.0         140               1275.0      140.0   \n",
       "30464           9.0        2120.0         980               2700.0     1200.0   \n",
       "\n",
       "            MntDesserts  MntAdditionalRequests  NumOfferPurchases  \\\n",
       "CustomerID                                                          \n",
       "32924               0.0                    7.0                  2   \n",
       "8276             1100.0                   32.0                  1   \n",
       "32966             960.0                  133.0                  3   \n",
       "5627               20.0                    5.0                  1   \n",
       "29357              20.0                   33.0                  1   \n",
       "26891             240.0                   78.0                  2   \n",
       "21269             380.0                   59.0                  1   \n",
       "32777            1760.0                   66.0                  2   \n",
       "26285             280.0                   39.0                  3   \n",
       "5540              240.0                   27.0                  7   \n",
       "17069             100.0                   28.0                  5   \n",
       "12320               0.0                   10.0                  1   \n",
       "24260             832.0                   29.0                  1   \n",
       "6470             1860.0                   74.0                  1   \n",
       "10265              20.0                   42.0                  2   \n",
       "21767              20.0                    8.0                  2   \n",
       "15905             500.0                   12.0                  4   \n",
       "28688             120.0                   25.0                  4   \n",
       "28739             740.0                   16.0                  4   \n",
       "25052             180.0                   95.0                  3   \n",
       "7586              100.0                   38.0                  3   \n",
       "32495              34.0                   17.1                  0   \n",
       "19295            2140.0                  200.0                  0   \n",
       "14942             488.0                   22.0                  1   \n",
       "20747            2840.0                   20.0                  1   \n",
       "12035            1600.0                   45.0                  1   \n",
       "8447              860.0                   16.0                  2   \n",
       "25685               0.0                   27.0                  9   \n",
       "28625             180.0                   18.0                  3   \n",
       "28844             140.0                    7.0                  1   \n",
       "30464             980.0                   32.0                  2   \n",
       "\n",
       "            NumAppPurchases  NumTakeAwayPurchases  NumStorePurchases  \\\n",
       "CustomerID                                                             \n",
       "32924                     3                     1                  3   \n",
       "8276                      6                     7                  8   \n",
       "32966                     6                     5                  9   \n",
       "5627                      3                     1                  4   \n",
       "29357                     5                     2                  4   \n",
       "26891                     6                     3                  2   \n",
       "21269                     8                     3                  6   \n",
       "32777                     8                     8                  6   \n",
       "26285                     5                     2                  2   \n",
       "5540                      8                     2                  4   \n",
       "17069                     7                     2                  3   \n",
       "12320                     3                     1                  3   \n",
       "24260                     6                    11                 11   \n",
       "6470                      5                     3                 13   \n",
       "10265                     4                     3                  2   \n",
       "21767                     4                     1                  3   \n",
       "15905                    10                     5                  7   \n",
       "28688                     9                     3                 10   \n",
       "28739                     7                     3                 10   \n",
       "25052                     6                     3                  3   \n",
       "7586                      9                     3                  8   \n",
       "32495                     1                     1                  0   \n",
       "19295                     6                     4                 13   \n",
       "14942                     9                     6                 12   \n",
       "20747                     5                     5                  8   \n",
       "12035                     6                     6                  8   \n",
       "8447                     10                     2                  8   \n",
       "25685                    10                     3                  7   \n",
       "28625                     4                     2                  3   \n",
       "28844                    10                     3                 10   \n",
       "30464                     5                     5                 10   \n",
       "\n",
       "            NumAppVisitsMonth  Complain  Response_Cmp1  Response_Cmp2  \\\n",
       "CustomerID                                                              \n",
       "32924                       7         0              0              0   \n",
       "8276                        2         0              0              0   \n",
       "32966                       3         0              0              0   \n",
       "5627                        3         0              0              0   \n",
       "29357                       6         0              0              1   \n",
       "26891                       6         0              1              0   \n",
       "21269                       5         0              0              0   \n",
       "32777                       3         0              1              0   \n",
       "26285                       9         0              1              0   \n",
       "5540                        9         0              0              0   \n",
       "17069                       8         0              0              0   \n",
       "12320                       7         0              0              0   \n",
       "24260                       2         0              0              0   \n",
       "6470                        1         0              0              0   \n",
       "10265                       4         0              1              0   \n",
       "21767                       7         0              0              0   \n",
       "15905                       6         0              0              0   \n",
       "28688                       7         0              0              0   \n",
       "28739                       5         0              0              0   \n",
       "25052                       7         0              0              0   \n",
       "7586                        6         0              0              0   \n",
       "32495                      20         0              1              0   \n",
       "19295                       1         0              0              0   \n",
       "14942                       3         0              0              1   \n",
       "20747                       1         0              0              0   \n",
       "12035                       5         0              0              1   \n",
       "8447                        6         0              0              0   \n",
       "25685                       9         0              0              0   \n",
       "28625                       6         0              0              0   \n",
       "28844                       4         0              0              1   \n",
       "30464                       2         0              0              0   \n",
       "\n",
       "            Response_Cmp3  Response_Cmp4  Response_Cmp5  \n",
       "CustomerID                                               \n",
       "32924                   0              0              0  \n",
       "8276                    0              0              0  \n",
       "32966                   0              0              0  \n",
       "5627                    0              0              0  \n",
       "29357                   0              0              0  \n",
       "26891                   0              0              0  \n",
       "21269                   0              0              0  \n",
       "32777                   0              0              0  \n",
       "26285                   0              0              0  \n",
       "5540                    0              0              0  \n",
       "17069                   0              0              0  \n",
       "12320                   0              0              0  \n",
       "24260                   0              0              0  \n",
       "6470                    0              0              0  \n",
       "10265                   0              0              0  \n",
       "21767                   0              0              0  \n",
       "15905                   0              0              0  \n",
       "28688                   0              0              0  \n",
       "28739                   0              0              0  \n",
       "25052                   0              0              0  \n",
       "7586                    0              0              0  \n",
       "32495                   0              0              0  \n",
       "19295                   1              0              0  \n",
       "14942                   1              1              0  \n",
       "20747                   0              0              0  \n",
       "12035                   0              1              0  \n",
       "8447                    0              0              0  \n",
       "25685                   0              0              0  \n",
       "28625                   0              0              0  \n",
       "28844                   0              0              0  \n",
       "30464                   0              0              0  "
      ]
     },
     "execution_count": 5,
     "metadata": {},
     "output_type": "execute_result"
    }
   ],
   "source": [
    "df[df.duplicated()] # checking duplicates"
   ]
  },
  {
   "cell_type": "code",
   "execution_count": 6,
   "id": "b97cf554",
   "metadata": {},
   "outputs": [],
   "source": [
    "df = df[~df.duplicated()] # drop duplicates rows"
   ]
  },
  {
   "cell_type": "markdown",
   "id": "7708f19d",
   "metadata": {},
   "source": [
    "# 2. Explore Data"
   ]
  },
  {
   "cell_type": "markdown",
   "metadata": {
    "collapsed": false
   },
   "source": [
    "## 2.0 Data profiling\n",
    "\n",
    "Se não quiserem instalar a biblioteca não corram esta secção. Caso contrário o comando para instalar é pip install ydata-profiling. No final **apagar esta secção**"
   ]
  },
  {
   "cell_type": "code",
   "execution_count": 7,
   "metadata": {
    "collapsed": false
   },
   "outputs": [],
   "source": [
    "#from ydata_profiling import ProfileReport\n",
    "#profile= ProfileReport (df, title= \"DSML_Project\")"
   ]
  },
  {
   "cell_type": "code",
   "execution_count": 8,
   "metadata": {
    "collapsed": false
   },
   "outputs": [],
   "source": [
    "#profile.to_file('DSML_profile.html')"
   ]
  },
  {
   "cell_type": "markdown",
   "id": "47f0cea9",
   "metadata": {},
   "source": [
    "## 2.1 Basic Exploration"
   ]
  },
  {
   "cell_type": "markdown",
   "id": "7a938300",
   "metadata": {},
   "source": [
    "Q: _To check the number of columns and rows_ we used `shape` _attribute_"
   ]
  },
  {
   "cell_type": "code",
   "execution_count": 9,
   "id": "6ee99fa7",
   "metadata": {},
   "outputs": [
    {
     "data": {
      "text/plain": [
       "(7000, 26)"
      ]
     },
     "execution_count": 9,
     "metadata": {},
     "output_type": "execute_result"
    }
   ],
   "source": [
    "df.shape"
   ]
  },
  {
   "cell_type": "markdown",
   "id": "c353f14d",
   "metadata": {},
   "source": [
    "> A: _The dataset has **7000 rows** and **26 columns**_"
   ]
  },
  {
   "cell_type": "markdown",
   "id": "2b265b69",
   "metadata": {},
   "source": [
    "__*Q*__: Check the name of the features of the dataset we used `columns` _attribute_"
   ]
  },
  {
   "cell_type": "code",
   "execution_count": 10,
   "id": "df65ab3c",
   "metadata": {},
   "outputs": [
    {
     "data": {
      "text/plain": [
       "Index(['Name', 'Birthyear', 'Education', 'Marital_Status', 'Income',\n",
       "       'Kid_Younger6', 'Children_6to18', 'Date_Adherence', 'Recency',\n",
       "       'MntMeat&Fish', 'MntEntries', 'MntVegan&Vegetarian', 'MntDrinks',\n",
       "       'MntDesserts', 'MntAdditionalRequests', 'NumOfferPurchases',\n",
       "       'NumAppPurchases', 'NumTakeAwayPurchases', 'NumStorePurchases',\n",
       "       'NumAppVisitsMonth', 'Complain', 'Response_Cmp1', 'Response_Cmp2',\n",
       "       'Response_Cmp3', 'Response_Cmp4', 'Response_Cmp5'],\n",
       "      dtype='object')"
      ]
     },
     "execution_count": 10,
     "metadata": {},
     "output_type": "execute_result"
    }
   ],
   "source": [
    "df.columns"
   ]
  },
  {
   "cell_type": "markdown",
   "id": "b0613146",
   "metadata": {},
   "source": [
    "> A: The dataset has the following columns/features names: <br>\n",
    "        >Index. CustomerID\n",
    "        >1. 'Name' <br>\n",
    "        >2. 'Birthyear'<br>\n",
    "        >3. 'Education'<br>\n",
    "        >4. 'Marital_Status'<br>\n",
    "        >5. 'Income'<br>\n",
    "        >6. 'Kid_Younger6'<br>\n",
    "        >7. 'Children_6to18'<br>\n",
    "        >8. 'Date_Adherence'<br>\n",
    "        >9. 'Recency'<br>\n",
    "        >10. 'MntMeat&Fish'<br>\n",
    "        >11. 'MntEntries'<br>\n",
    "        >12. 'MntVegan&Vegetarian'<br>\n",
    "        >13. 'MntDrinks'<br>\n",
    "        >14. 'MntDesserts'<br>\n",
    "        >15. 'MntAdditionalRequests'<br>\n",
    "        >16. 'NumOfferPurchases'<br>\n",
    "        >17. 'NumAppPurchases'<br>\n",
    "        >18. 'NumTakeAwayPurchases'<br>\n",
    "        >19. 'NumStorePurchases'<br>\n",
    "        >20. 'NumAppVisitsMonth'<br>\n",
    "        >21. 'Complain'<br>\n",
    "        >22. 'Response_Cmp1'<br>\n",
    "        >23. 'Response_Cmp2'<br>\n",
    "        >24. 'Response_Cmp3'<br>\n",
    "        >25. 'Response_Cmp4'<br>\n",
    "        >26. 'Response_Cmp5'<br>"
   ]
  },
  {
   "cell_type": "markdown",
   "id": "29734ade",
   "metadata": {},
   "source": [
    "Q: First glance of the dataset using `head` and `tail` methods to check the first and last 5 rows."
   ]
  },
  {
   "cell_type": "code",
   "execution_count": 11,
   "id": "3ccf8a80",
   "metadata": {},
   "outputs": [
    {
     "data": {
      "text/html": [
       "<div>\n",
       "<style scoped>\n",
       "    .dataframe tbody tr th:only-of-type {\n",
       "        vertical-align: middle;\n",
       "    }\n",
       "\n",
       "    .dataframe tbody tr th {\n",
       "        vertical-align: top;\n",
       "    }\n",
       "\n",
       "    .dataframe thead th {\n",
       "        text-align: right;\n",
       "    }\n",
       "</style>\n",
       "<table border=\"1\" class=\"dataframe\">\n",
       "  <thead>\n",
       "    <tr style=\"text-align: right;\">\n",
       "      <th></th>\n",
       "      <th>Name</th>\n",
       "      <th>Birthyear</th>\n",
       "      <th>Education</th>\n",
       "      <th>Marital_Status</th>\n",
       "      <th>Income</th>\n",
       "      <th>Kid_Younger6</th>\n",
       "      <th>Children_6to18</th>\n",
       "      <th>Date_Adherence</th>\n",
       "      <th>Recency</th>\n",
       "      <th>MntMeat&amp;Fish</th>\n",
       "      <th>MntEntries</th>\n",
       "      <th>MntVegan&amp;Vegetarian</th>\n",
       "      <th>MntDrinks</th>\n",
       "      <th>MntDesserts</th>\n",
       "      <th>MntAdditionalRequests</th>\n",
       "      <th>NumOfferPurchases</th>\n",
       "      <th>NumAppPurchases</th>\n",
       "      <th>NumTakeAwayPurchases</th>\n",
       "      <th>NumStorePurchases</th>\n",
       "      <th>NumAppVisitsMonth</th>\n",
       "      <th>Complain</th>\n",
       "      <th>Response_Cmp1</th>\n",
       "      <th>Response_Cmp2</th>\n",
       "      <th>Response_Cmp3</th>\n",
       "      <th>Response_Cmp4</th>\n",
       "      <th>Response_Cmp5</th>\n",
       "    </tr>\n",
       "    <tr>\n",
       "      <th>CustomerID</th>\n",
       "      <th></th>\n",
       "      <th></th>\n",
       "      <th></th>\n",
       "      <th></th>\n",
       "      <th></th>\n",
       "      <th></th>\n",
       "      <th></th>\n",
       "      <th></th>\n",
       "      <th></th>\n",
       "      <th></th>\n",
       "      <th></th>\n",
       "      <th></th>\n",
       "      <th></th>\n",
       "      <th></th>\n",
       "      <th></th>\n",
       "      <th></th>\n",
       "      <th></th>\n",
       "      <th></th>\n",
       "      <th></th>\n",
       "      <th></th>\n",
       "      <th></th>\n",
       "      <th></th>\n",
       "      <th></th>\n",
       "      <th></th>\n",
       "      <th></th>\n",
       "      <th></th>\n",
       "    </tr>\n",
       "  </thead>\n",
       "  <tbody>\n",
       "    <tr>\n",
       "      <th>14594</th>\n",
       "      <td>Miss Leah Lewis</td>\n",
       "      <td>1981</td>\n",
       "      <td>Graduation</td>\n",
       "      <td>Single</td>\n",
       "      <td>113947.0</td>\n",
       "      <td>0</td>\n",
       "      <td>0</td>\n",
       "      <td>2021-01-09 00:00:00</td>\n",
       "      <td>43.0</td>\n",
       "      <td>4640.0</td>\n",
       "      <td>3380</td>\n",
       "      <td>5700.0</td>\n",
       "      <td>2240.0</td>\n",
       "      <td>562.0</td>\n",
       "      <td>154.0</td>\n",
       "      <td>2</td>\n",
       "      <td>10</td>\n",
       "      <td>7</td>\n",
       "      <td>7</td>\n",
       "      <td>4</td>\n",
       "      <td>0</td>\n",
       "      <td>0</td>\n",
       "      <td>1</td>\n",
       "      <td>0</td>\n",
       "      <td>0</td>\n",
       "      <td>0</td>\n",
       "    </tr>\n",
       "    <tr>\n",
       "      <th>19070</th>\n",
       "      <td>Miss Grace Black</td>\n",
       "      <td>1974</td>\n",
       "      <td>Graduation</td>\n",
       "      <td>Together</td>\n",
       "      <td>114297.0</td>\n",
       "      <td>0</td>\n",
       "      <td>0</td>\n",
       "      <td>2021-04-10 00:00:00</td>\n",
       "      <td>74.0</td>\n",
       "      <td>7080.0</td>\n",
       "      <td>3680</td>\n",
       "      <td>7620.0</td>\n",
       "      <td>1840.0</td>\n",
       "      <td>1220.0</td>\n",
       "      <td>46.0</td>\n",
       "      <td>1</td>\n",
       "      <td>5</td>\n",
       "      <td>9</td>\n",
       "      <td>12</td>\n",
       "      <td>2</td>\n",
       "      <td>0</td>\n",
       "      <td>0</td>\n",
       "      <td>0</td>\n",
       "      <td>0</td>\n",
       "      <td>0</td>\n",
       "      <td>0</td>\n",
       "    </tr>\n",
       "    <tr>\n",
       "      <th>29888</th>\n",
       "      <td>Mr. Gavin Morrison</td>\n",
       "      <td>1960</td>\n",
       "      <td>PhD</td>\n",
       "      <td>Together</td>\n",
       "      <td>115476.0</td>\n",
       "      <td>0</td>\n",
       "      <td>0</td>\n",
       "      <td>2022-01-12 00:00:00</td>\n",
       "      <td>85.0</td>\n",
       "      <td>4130.0</td>\n",
       "      <td>380</td>\n",
       "      <td>4890.0</td>\n",
       "      <td>3640.0</td>\n",
       "      <td>380.0</td>\n",
       "      <td>28.0</td>\n",
       "      <td>1</td>\n",
       "      <td>5</td>\n",
       "      <td>5</td>\n",
       "      <td>7</td>\n",
       "      <td>1</td>\n",
       "      <td>0</td>\n",
       "      <td>0</td>\n",
       "      <td>0</td>\n",
       "      <td>0</td>\n",
       "      <td>0</td>\n",
       "      <td>0</td>\n",
       "    </tr>\n",
       "  </tbody>\n",
       "</table>\n",
       "</div>"
      ],
      "text/plain": [
       "                          Name  Birthyear   Education Marital_Status  \\\n",
       "CustomerID                                                             \n",
       "14594          Miss Leah Lewis       1981  Graduation         Single   \n",
       "19070         Miss Grace Black       1974  Graduation       Together   \n",
       "29888       Mr. Gavin Morrison       1960         PhD       Together   \n",
       "\n",
       "              Income  Kid_Younger6  Children_6to18       Date_Adherence  \\\n",
       "CustomerID                                                                \n",
       "14594       113947.0             0               0  2021-01-09 00:00:00   \n",
       "19070       114297.0             0               0  2021-04-10 00:00:00   \n",
       "29888       115476.0             0               0  2022-01-12 00:00:00   \n",
       "\n",
       "            Recency  MntMeat&Fish  MntEntries  MntVegan&Vegetarian  MntDrinks  \\\n",
       "CustomerID                                                                      \n",
       "14594          43.0        4640.0        3380               5700.0     2240.0   \n",
       "19070          74.0        7080.0        3680               7620.0     1840.0   \n",
       "29888          85.0        4130.0         380               4890.0     3640.0   \n",
       "\n",
       "            MntDesserts  MntAdditionalRequests  NumOfferPurchases  \\\n",
       "CustomerID                                                          \n",
       "14594             562.0                  154.0                  2   \n",
       "19070            1220.0                   46.0                  1   \n",
       "29888             380.0                   28.0                  1   \n",
       "\n",
       "            NumAppPurchases  NumTakeAwayPurchases  NumStorePurchases  \\\n",
       "CustomerID                                                             \n",
       "14594                    10                     7                  7   \n",
       "19070                     5                     9                 12   \n",
       "29888                     5                     5                  7   \n",
       "\n",
       "            NumAppVisitsMonth  Complain  Response_Cmp1  Response_Cmp2  \\\n",
       "CustomerID                                                              \n",
       "14594                       4         0              0              1   \n",
       "19070                       2         0              0              0   \n",
       "29888                       1         0              0              0   \n",
       "\n",
       "            Response_Cmp3  Response_Cmp4  Response_Cmp5  \n",
       "CustomerID                                               \n",
       "14594                   0              0              0  \n",
       "19070                   0              0              0  \n",
       "29888                   0              0              0  "
      ]
     },
     "execution_count": 11,
     "metadata": {},
     "output_type": "execute_result"
    }
   ],
   "source": [
    "df.head(3)"
   ]
  },
  {
   "cell_type": "code",
   "execution_count": 12,
   "id": "bf42f408",
   "metadata": {},
   "outputs": [
    {
     "data": {
      "text/html": [
       "<div>\n",
       "<style scoped>\n",
       "    .dataframe tbody tr th:only-of-type {\n",
       "        vertical-align: middle;\n",
       "    }\n",
       "\n",
       "    .dataframe tbody tr th {\n",
       "        vertical-align: top;\n",
       "    }\n",
       "\n",
       "    .dataframe thead th {\n",
       "        text-align: right;\n",
       "    }\n",
       "</style>\n",
       "<table border=\"1\" class=\"dataframe\">\n",
       "  <thead>\n",
       "    <tr style=\"text-align: right;\">\n",
       "      <th></th>\n",
       "      <th>Name</th>\n",
       "      <th>Birthyear</th>\n",
       "      <th>Education</th>\n",
       "      <th>Marital_Status</th>\n",
       "      <th>Income</th>\n",
       "      <th>Kid_Younger6</th>\n",
       "      <th>Children_6to18</th>\n",
       "      <th>Date_Adherence</th>\n",
       "      <th>Recency</th>\n",
       "      <th>MntMeat&amp;Fish</th>\n",
       "      <th>MntEntries</th>\n",
       "      <th>MntVegan&amp;Vegetarian</th>\n",
       "      <th>MntDrinks</th>\n",
       "      <th>MntDesserts</th>\n",
       "      <th>MntAdditionalRequests</th>\n",
       "      <th>NumOfferPurchases</th>\n",
       "      <th>NumAppPurchases</th>\n",
       "      <th>NumTakeAwayPurchases</th>\n",
       "      <th>NumStorePurchases</th>\n",
       "      <th>NumAppVisitsMonth</th>\n",
       "      <th>Complain</th>\n",
       "      <th>Response_Cmp1</th>\n",
       "      <th>Response_Cmp2</th>\n",
       "      <th>Response_Cmp3</th>\n",
       "      <th>Response_Cmp4</th>\n",
       "      <th>Response_Cmp5</th>\n",
       "    </tr>\n",
       "    <tr>\n",
       "      <th>CustomerID</th>\n",
       "      <th></th>\n",
       "      <th></th>\n",
       "      <th></th>\n",
       "      <th></th>\n",
       "      <th></th>\n",
       "      <th></th>\n",
       "      <th></th>\n",
       "      <th></th>\n",
       "      <th></th>\n",
       "      <th></th>\n",
       "      <th></th>\n",
       "      <th></th>\n",
       "      <th></th>\n",
       "      <th></th>\n",
       "      <th></th>\n",
       "      <th></th>\n",
       "      <th></th>\n",
       "      <th></th>\n",
       "      <th></th>\n",
       "      <th></th>\n",
       "      <th></th>\n",
       "      <th></th>\n",
       "      <th></th>\n",
       "      <th></th>\n",
       "      <th></th>\n",
       "      <th></th>\n",
       "    </tr>\n",
       "  </thead>\n",
       "  <tbody>\n",
       "    <tr>\n",
       "      <th>29186</th>\n",
       "      <td>Mr. Thomas Churchill</td>\n",
       "      <td>1967</td>\n",
       "      <td>PhD</td>\n",
       "      <td>Together</td>\n",
       "      <td>56039.0</td>\n",
       "      <td>0</td>\n",
       "      <td>1</td>\n",
       "      <td>2021-12-15 00:00:00</td>\n",
       "      <td>30.0</td>\n",
       "      <td>540.0</td>\n",
       "      <td>0</td>\n",
       "      <td>135.0</td>\n",
       "      <td>0.0</td>\n",
       "      <td>0.0</td>\n",
       "      <td>5.0</td>\n",
       "      <td>2</td>\n",
       "      <td>3</td>\n",
       "      <td>1</td>\n",
       "      <td>4</td>\n",
       "      <td>6</td>\n",
       "      <td>0</td>\n",
       "      <td>0</td>\n",
       "      <td>0</td>\n",
       "      <td>0</td>\n",
       "      <td>0</td>\n",
       "      <td>0</td>\n",
       "    </tr>\n",
       "    <tr>\n",
       "      <th>23312</th>\n",
       "      <td>Miss Angela Murray</td>\n",
       "      <td>1989</td>\n",
       "      <td>Graduation</td>\n",
       "      <td>Single</td>\n",
       "      <td>44867.0</td>\n",
       "      <td>1</td>\n",
       "      <td>0</td>\n",
       "      <td>2020-11-12 00:00:00</td>\n",
       "      <td>8.0</td>\n",
       "      <td>80.0</td>\n",
       "      <td>120</td>\n",
       "      <td>210.0</td>\n",
       "      <td>120.0</td>\n",
       "      <td>100.0</td>\n",
       "      <td>17.0</td>\n",
       "      <td>1</td>\n",
       "      <td>3</td>\n",
       "      <td>1</td>\n",
       "      <td>3</td>\n",
       "      <td>8</td>\n",
       "      <td>0</td>\n",
       "      <td>0</td>\n",
       "      <td>0</td>\n",
       "      <td>0</td>\n",
       "      <td>0</td>\n",
       "      <td>0</td>\n",
       "    </tr>\n",
       "    <tr>\n",
       "      <th>15581</th>\n",
       "      <td>Miss Diana Taylor</td>\n",
       "      <td>1960</td>\n",
       "      <td>Graduation</td>\n",
       "      <td>Single</td>\n",
       "      <td>124379.0</td>\n",
       "      <td>0</td>\n",
       "      <td>0</td>\n",
       "      <td>2021-02-04 00:00:00</td>\n",
       "      <td>80.0</td>\n",
       "      <td>7280.0</td>\n",
       "      <td>422</td>\n",
       "      <td>1692.0</td>\n",
       "      <td>3760.0</td>\n",
       "      <td>1880.0</td>\n",
       "      <td>235.0</td>\n",
       "      <td>1</td>\n",
       "      <td>6</td>\n",
       "      <td>12</td>\n",
       "      <td>11</td>\n",
       "      <td>2</td>\n",
       "      <td>0</td>\n",
       "      <td>0</td>\n",
       "      <td>0</td>\n",
       "      <td>1</td>\n",
       "      <td>1</td>\n",
       "      <td>0</td>\n",
       "    </tr>\n",
       "  </tbody>\n",
       "</table>\n",
       "</div>"
      ],
      "text/plain": [
       "                            Name  Birthyear   Education Marital_Status  \\\n",
       "CustomerID                                                               \n",
       "29186       Mr. Thomas Churchill       1967         PhD       Together   \n",
       "23312         Miss Angela Murray       1989  Graduation         Single   \n",
       "15581          Miss Diana Taylor       1960  Graduation         Single   \n",
       "\n",
       "              Income  Kid_Younger6  Children_6to18       Date_Adherence  \\\n",
       "CustomerID                                                                \n",
       "29186        56039.0             0               1  2021-12-15 00:00:00   \n",
       "23312        44867.0             1               0  2020-11-12 00:00:00   \n",
       "15581       124379.0             0               0  2021-02-04 00:00:00   \n",
       "\n",
       "            Recency  MntMeat&Fish  MntEntries  MntVegan&Vegetarian  MntDrinks  \\\n",
       "CustomerID                                                                      \n",
       "29186          30.0         540.0           0                135.0        0.0   \n",
       "23312           8.0          80.0         120                210.0      120.0   \n",
       "15581          80.0        7280.0         422               1692.0     3760.0   \n",
       "\n",
       "            MntDesserts  MntAdditionalRequests  NumOfferPurchases  \\\n",
       "CustomerID                                                          \n",
       "29186               0.0                    5.0                  2   \n",
       "23312             100.0                   17.0                  1   \n",
       "15581            1880.0                  235.0                  1   \n",
       "\n",
       "            NumAppPurchases  NumTakeAwayPurchases  NumStorePurchases  \\\n",
       "CustomerID                                                             \n",
       "29186                     3                     1                  4   \n",
       "23312                     3                     1                  3   \n",
       "15581                     6                    12                 11   \n",
       "\n",
       "            NumAppVisitsMonth  Complain  Response_Cmp1  Response_Cmp2  \\\n",
       "CustomerID                                                              \n",
       "29186                       6         0              0              0   \n",
       "23312                       8         0              0              0   \n",
       "15581                       2         0              0              0   \n",
       "\n",
       "            Response_Cmp3  Response_Cmp4  Response_Cmp5  \n",
       "CustomerID                                               \n",
       "29186                   0              0              0  \n",
       "23312                   0              0              0  \n",
       "15581                   1              1              0  "
      ]
     },
     "execution_count": 12,
     "metadata": {},
     "output_type": "execute_result"
    }
   ],
   "source": [
    "df.tail(3)"
   ]
  },
  {
   "cell_type": "markdown",
   "id": "ced4cb06",
   "metadata": {},
   "source": [
    "Q: To check the basic information of the dataset we've used the `info` method"
   ]
  },
  {
   "cell_type": "code",
   "execution_count": 13,
   "id": "cedc7804",
   "metadata": {},
   "outputs": [
    {
     "name": "stdout",
     "output_type": "stream",
     "text": [
      "<class 'pandas.core.frame.DataFrame'>\n",
      "Int64Index: 7000 entries, 14594 to 15581\n",
      "Data columns (total 26 columns):\n",
      " #   Column                 Non-Null Count  Dtype  \n",
      "---  ------                 --------------  -----  \n",
      " 0   Name                   7000 non-null   object \n",
      " 1   Birthyear              7000 non-null   int64  \n",
      " 2   Education              6986 non-null   object \n",
      " 3   Marital_Status         7000 non-null   object \n",
      " 4   Income                 7000 non-null   float64\n",
      " 5   Kid_Younger6           7000 non-null   int64  \n",
      " 6   Children_6to18         7000 non-null   int64  \n",
      " 7   Date_Adherence         7000 non-null   object \n",
      " 8   Recency                6977 non-null   float64\n",
      " 9   MntMeat&Fish           7000 non-null   float64\n",
      " 10  MntEntries             7000 non-null   int64  \n",
      " 11  MntVegan&Vegetarian    7000 non-null   float64\n",
      " 12  MntDrinks              6972 non-null   float64\n",
      " 13  MntDesserts            7000 non-null   float64\n",
      " 14  MntAdditionalRequests  7000 non-null   float64\n",
      " 15  NumOfferPurchases      7000 non-null   int64  \n",
      " 16  NumAppPurchases        7000 non-null   int64  \n",
      " 17  NumTakeAwayPurchases   7000 non-null   int64  \n",
      " 18  NumStorePurchases      7000 non-null   int64  \n",
      " 19  NumAppVisitsMonth      7000 non-null   int64  \n",
      " 20  Complain               7000 non-null   int64  \n",
      " 21  Response_Cmp1          7000 non-null   int64  \n",
      " 22  Response_Cmp2          7000 non-null   int64  \n",
      " 23  Response_Cmp3          7000 non-null   int64  \n",
      " 24  Response_Cmp4          7000 non-null   int64  \n",
      " 25  Response_Cmp5          7000 non-null   int64  \n",
      "dtypes: float64(7), int64(15), object(4)\n",
      "memory usage: 1.4+ MB\n"
     ]
    }
   ],
   "source": [
    "df.info()"
   ]
  },
  {
   "cell_type": "markdown",
   "id": "6794da09",
   "metadata": {},
   "source": [
    ">A: We can observe the data type of the dataset and the how many of features per data type  `dtypes: float64 - (7), int64 - (15), object - (4)`, the memory usage of `1.4+MB`, and the non-null values present per columns. <br>\n",
    "> Using only `info` method we understand that `'Education', 'Recency', 'MntDrinks'` have __14, 23, 28 null values__ that require some action."
   ]
  },
  {
   "cell_type": "markdown",
   "id": "87889183",
   "metadata": {},
   "source": [
    "# 2.2 Statistical Exploration"
   ]
  },
  {
   "cell_type": "markdown",
   "id": "849f7658",
   "metadata": {},
   "source": [
    "## 2.2.1 Numerical Variables"
   ]
  },
  {
   "cell_type": "code",
   "execution_count": 14,
   "id": "121f1c74",
   "metadata": {},
   "outputs": [
    {
     "data": {
      "text/html": [
       "<div>\n",
       "<style scoped>\n",
       "    .dataframe tbody tr th:only-of-type {\n",
       "        vertical-align: middle;\n",
       "    }\n",
       "\n",
       "    .dataframe tbody tr th {\n",
       "        vertical-align: top;\n",
       "    }\n",
       "\n",
       "    .dataframe thead th {\n",
       "        text-align: right;\n",
       "    }\n",
       "</style>\n",
       "<table border=\"1\" class=\"dataframe\">\n",
       "  <thead>\n",
       "    <tr style=\"text-align: right;\">\n",
       "      <th></th>\n",
       "      <th>Birthyear</th>\n",
       "      <th>Income</th>\n",
       "      <th>Kid_Younger6</th>\n",
       "      <th>Children_6to18</th>\n",
       "      <th>Recency</th>\n",
       "      <th>MntMeat&amp;Fish</th>\n",
       "      <th>MntEntries</th>\n",
       "      <th>MntVegan&amp;Vegetarian</th>\n",
       "      <th>MntDrinks</th>\n",
       "      <th>MntDesserts</th>\n",
       "      <th>MntAdditionalRequests</th>\n",
       "      <th>NumOfferPurchases</th>\n",
       "      <th>NumAppPurchases</th>\n",
       "      <th>NumTakeAwayPurchases</th>\n",
       "      <th>NumStorePurchases</th>\n",
       "      <th>NumAppVisitsMonth</th>\n",
       "      <th>Complain</th>\n",
       "      <th>Response_Cmp1</th>\n",
       "      <th>Response_Cmp2</th>\n",
       "      <th>Response_Cmp3</th>\n",
       "      <th>Response_Cmp4</th>\n",
       "      <th>Response_Cmp5</th>\n",
       "    </tr>\n",
       "  </thead>\n",
       "  <tbody>\n",
       "    <tr>\n",
       "      <th>count</th>\n",
       "      <td>7000.000000</td>\n",
       "      <td>7000.000000</td>\n",
       "      <td>7000.000000</td>\n",
       "      <td>7000.000000</td>\n",
       "      <td>6977.000000</td>\n",
       "      <td>7000.000000</td>\n",
       "      <td>7000.000000</td>\n",
       "      <td>7000.000000</td>\n",
       "      <td>6972.000000</td>\n",
       "      <td>7000.000000</td>\n",
       "      <td>7000.000000</td>\n",
       "      <td>7000.000000</td>\n",
       "      <td>7000.000000</td>\n",
       "      <td>7000.000000</td>\n",
       "      <td>7000.000000</td>\n",
       "      <td>7000.000000</td>\n",
       "      <td>7000.000000</td>\n",
       "      <td>7000.000000</td>\n",
       "      <td>7000.000000</td>\n",
       "      <td>7000.000000</td>\n",
       "      <td>7000.000000</td>\n",
       "      <td>7000.000000</td>\n",
       "    </tr>\n",
       "    <tr>\n",
       "      <th>mean</th>\n",
       "      <td>1976.451429</td>\n",
       "      <td>77988.962407</td>\n",
       "      <td>0.440571</td>\n",
       "      <td>0.490571</td>\n",
       "      <td>49.235058</td>\n",
       "      <td>3079.523800</td>\n",
       "      <td>534.749429</td>\n",
       "      <td>2785.050786</td>\n",
       "      <td>545.657544</td>\n",
       "      <td>540.656029</td>\n",
       "      <td>42.556186</td>\n",
       "      <td>2.448429</td>\n",
       "      <td>6.015714</td>\n",
       "      <td>3.834571</td>\n",
       "      <td>5.790571</td>\n",
       "      <td>5.278286</td>\n",
       "      <td>0.010286</td>\n",
       "      <td>0.079143</td>\n",
       "      <td>0.073286</td>\n",
       "      <td>0.083000</td>\n",
       "      <td>0.065857</td>\n",
       "      <td>0.014286</td>\n",
       "    </tr>\n",
       "    <tr>\n",
       "      <th>std</th>\n",
       "      <td>11.996270</td>\n",
       "      <td>35409.810253</td>\n",
       "      <td>0.543477</td>\n",
       "      <td>0.542174</td>\n",
       "      <td>28.922688</td>\n",
       "      <td>3370.377166</td>\n",
       "      <td>787.846684</td>\n",
       "      <td>3908.718244</td>\n",
       "      <td>805.149088</td>\n",
       "      <td>802.221866</td>\n",
       "      <td>49.650747</td>\n",
       "      <td>2.306968</td>\n",
       "      <td>2.745537</td>\n",
       "      <td>3.331142</td>\n",
       "      <td>3.295708</td>\n",
       "      <td>2.748596</td>\n",
       "      <td>0.100903</td>\n",
       "      <td>0.269981</td>\n",
       "      <td>0.260624</td>\n",
       "      <td>0.275902</td>\n",
       "      <td>0.248050</td>\n",
       "      <td>0.118675</td>\n",
       "    </tr>\n",
       "    <tr>\n",
       "      <th>min</th>\n",
       "      <td>1948.000000</td>\n",
       "      <td>2493.800000</td>\n",
       "      <td>0.000000</td>\n",
       "      <td>0.000000</td>\n",
       "      <td>0.000000</td>\n",
       "      <td>0.000000</td>\n",
       "      <td>0.000000</td>\n",
       "      <td>0.000000</td>\n",
       "      <td>0.000000</td>\n",
       "      <td>0.000000</td>\n",
       "      <td>0.000000</td>\n",
       "      <td>0.000000</td>\n",
       "      <td>0.000000</td>\n",
       "      <td>0.000000</td>\n",
       "      <td>0.000000</td>\n",
       "      <td>0.000000</td>\n",
       "      <td>0.000000</td>\n",
       "      <td>0.000000</td>\n",
       "      <td>0.000000</td>\n",
       "      <td>0.000000</td>\n",
       "      <td>0.000000</td>\n",
       "      <td>0.000000</td>\n",
       "    </tr>\n",
       "    <tr>\n",
       "      <th>25%</th>\n",
       "      <td>1967.000000</td>\n",
       "      <td>51586.250000</td>\n",
       "      <td>0.000000</td>\n",
       "      <td>0.000000</td>\n",
       "      <td>24.000000</td>\n",
       "      <td>250.000000</td>\n",
       "      <td>40.000000</td>\n",
       "      <td>240.000000</td>\n",
       "      <td>40.000000</td>\n",
       "      <td>40.000000</td>\n",
       "      <td>9.000000</td>\n",
       "      <td>1.000000</td>\n",
       "      <td>4.000000</td>\n",
       "      <td>1.000000</td>\n",
       "      <td>3.000000</td>\n",
       "      <td>3.000000</td>\n",
       "      <td>0.000000</td>\n",
       "      <td>0.000000</td>\n",
       "      <td>0.000000</td>\n",
       "      <td>0.000000</td>\n",
       "      <td>0.000000</td>\n",
       "      <td>0.000000</td>\n",
       "    </tr>\n",
       "    <tr>\n",
       "      <th>50%</th>\n",
       "      <td>1977.000000</td>\n",
       "      <td>77190.000000</td>\n",
       "      <td>0.000000</td>\n",
       "      <td>0.000000</td>\n",
       "      <td>49.000000</td>\n",
       "      <td>1820.000000</td>\n",
       "      <td>180.000000</td>\n",
       "      <td>1110.000000</td>\n",
       "      <td>180.000000</td>\n",
       "      <td>180.000000</td>\n",
       "      <td>24.000000</td>\n",
       "      <td>2.000000</td>\n",
       "      <td>6.000000</td>\n",
       "      <td>3.000000</td>\n",
       "      <td>5.000000</td>\n",
       "      <td>5.000000</td>\n",
       "      <td>0.000000</td>\n",
       "      <td>0.000000</td>\n",
       "      <td>0.000000</td>\n",
       "      <td>0.000000</td>\n",
       "      <td>0.000000</td>\n",
       "      <td>0.000000</td>\n",
       "    </tr>\n",
       "    <tr>\n",
       "      <th>75%</th>\n",
       "      <td>1985.000000</td>\n",
       "      <td>102016.250000</td>\n",
       "      <td>1.000000</td>\n",
       "      <td>1.000000</td>\n",
       "      <td>74.000000</td>\n",
       "      <td>5070.000000</td>\n",
       "      <td>680.000000</td>\n",
       "      <td>3795.000000</td>\n",
       "      <td>700.000000</td>\n",
       "      <td>680.000000</td>\n",
       "      <td>57.000000</td>\n",
       "      <td>3.000000</td>\n",
       "      <td>8.000000</td>\n",
       "      <td>5.000000</td>\n",
       "      <td>8.000000</td>\n",
       "      <td>7.000000</td>\n",
       "      <td>0.000000</td>\n",
       "      <td>0.000000</td>\n",
       "      <td>0.000000</td>\n",
       "      <td>0.000000</td>\n",
       "      <td>0.000000</td>\n",
       "      <td>0.000000</td>\n",
       "    </tr>\n",
       "    <tr>\n",
       "      <th>max</th>\n",
       "      <td>2005.000000</td>\n",
       "      <td>237639.725000</td>\n",
       "      <td>2.000000</td>\n",
       "      <td>2.000000</td>\n",
       "      <td>99.000000</td>\n",
       "      <td>14980.000000</td>\n",
       "      <td>3980.000000</td>\n",
       "      <td>25974.000000</td>\n",
       "      <td>3980.000000</td>\n",
       "      <td>3980.000000</td>\n",
       "      <td>249.000000</td>\n",
       "      <td>16.000000</td>\n",
       "      <td>13.000000</td>\n",
       "      <td>24.000000</td>\n",
       "      <td>13.000000</td>\n",
       "      <td>20.000000</td>\n",
       "      <td>1.000000</td>\n",
       "      <td>1.000000</td>\n",
       "      <td>1.000000</td>\n",
       "      <td>1.000000</td>\n",
       "      <td>1.000000</td>\n",
       "      <td>1.000000</td>\n",
       "    </tr>\n",
       "  </tbody>\n",
       "</table>\n",
       "</div>"
      ],
      "text/plain": [
       "         Birthyear         Income  Kid_Younger6  Children_6to18      Recency  \\\n",
       "count  7000.000000    7000.000000   7000.000000     7000.000000  6977.000000   \n",
       "mean   1976.451429   77988.962407      0.440571        0.490571    49.235058   \n",
       "std      11.996270   35409.810253      0.543477        0.542174    28.922688   \n",
       "min    1948.000000    2493.800000      0.000000        0.000000     0.000000   \n",
       "25%    1967.000000   51586.250000      0.000000        0.000000    24.000000   \n",
       "50%    1977.000000   77190.000000      0.000000        0.000000    49.000000   \n",
       "75%    1985.000000  102016.250000      1.000000        1.000000    74.000000   \n",
       "max    2005.000000  237639.725000      2.000000        2.000000    99.000000   \n",
       "\n",
       "       MntMeat&Fish   MntEntries  MntVegan&Vegetarian    MntDrinks  \\\n",
       "count   7000.000000  7000.000000          7000.000000  6972.000000   \n",
       "mean    3079.523800   534.749429          2785.050786   545.657544   \n",
       "std     3370.377166   787.846684          3908.718244   805.149088   \n",
       "min        0.000000     0.000000             0.000000     0.000000   \n",
       "25%      250.000000    40.000000           240.000000    40.000000   \n",
       "50%     1820.000000   180.000000          1110.000000   180.000000   \n",
       "75%     5070.000000   680.000000          3795.000000   700.000000   \n",
       "max    14980.000000  3980.000000         25974.000000  3980.000000   \n",
       "\n",
       "       MntDesserts  MntAdditionalRequests  NumOfferPurchases  NumAppPurchases  \\\n",
       "count  7000.000000            7000.000000        7000.000000      7000.000000   \n",
       "mean    540.656029              42.556186           2.448429         6.015714   \n",
       "std     802.221866              49.650747           2.306968         2.745537   \n",
       "min       0.000000               0.000000           0.000000         0.000000   \n",
       "25%      40.000000               9.000000           1.000000         4.000000   \n",
       "50%     180.000000              24.000000           2.000000         6.000000   \n",
       "75%     680.000000              57.000000           3.000000         8.000000   \n",
       "max    3980.000000             249.000000          16.000000        13.000000   \n",
       "\n",
       "       NumTakeAwayPurchases  NumStorePurchases  NumAppVisitsMonth  \\\n",
       "count           7000.000000        7000.000000        7000.000000   \n",
       "mean               3.834571           5.790571           5.278286   \n",
       "std                3.331142           3.295708           2.748596   \n",
       "min                0.000000           0.000000           0.000000   \n",
       "25%                1.000000           3.000000           3.000000   \n",
       "50%                3.000000           5.000000           5.000000   \n",
       "75%                5.000000           8.000000           7.000000   \n",
       "max               24.000000          13.000000          20.000000   \n",
       "\n",
       "          Complain  Response_Cmp1  Response_Cmp2  Response_Cmp3  \\\n",
       "count  7000.000000    7000.000000    7000.000000    7000.000000   \n",
       "mean      0.010286       0.079143       0.073286       0.083000   \n",
       "std       0.100903       0.269981       0.260624       0.275902   \n",
       "min       0.000000       0.000000       0.000000       0.000000   \n",
       "25%       0.000000       0.000000       0.000000       0.000000   \n",
       "50%       0.000000       0.000000       0.000000       0.000000   \n",
       "75%       0.000000       0.000000       0.000000       0.000000   \n",
       "max       1.000000       1.000000       1.000000       1.000000   \n",
       "\n",
       "       Response_Cmp4  Response_Cmp5  \n",
       "count    7000.000000    7000.000000  \n",
       "mean        0.065857       0.014286  \n",
       "std         0.248050       0.118675  \n",
       "min         0.000000       0.000000  \n",
       "25%         0.000000       0.000000  \n",
       "50%         0.000000       0.000000  \n",
       "75%         0.000000       0.000000  \n",
       "max         1.000000       1.000000  "
      ]
     },
     "execution_count": 14,
     "metadata": {},
     "output_type": "execute_result"
    }
   ],
   "source": [
    "df.describe()"
   ]
  },
  {
   "cell_type": "markdown",
   "metadata": {
    "collapsed": false
   },
   "source": [
    "> _The describe return we can get a first glance and make some conclusion:_\n",
    "\n",
    ">__Birthyear__ - could originate an Age column for readability purposes<br>\n",
    "__Income__ - Min and Max are very far from each other and far from the mean value which could indicate outliers<br>\n",
    "__Recency__ - 6977 valid values, hence we should look in deep and decide on how to minimize that effect of missing values<br>\n",
    "__MntMeat&Fish__ - Min and Max are distant from each other and have high standard deviation which could effect some future conclusion<br>\n",
    "__MntEntries__ - Again has high standard deviation that we should analyze, Min and Max far apart, similar to MntMeat&Fish<br>\n",
    "__MntVegan&Vegetarian__ - Similar to the previous two Mnt columns<br>\n",
    "__MntDrinks, MntDesserts__ - Seems to be very similar between them<br>\n",
    "__MntAdditionalRequests__ - The max value standard deviation seems high and also the max value very far apart from the mean<br>\n",
    "__NumOfferPurchases, NumTakeAwayPurchases, NumAppVisitsMonth__  - Have a max value to distante from the mean that could be true but we need to take into account<br>\n",
    "__NumAppPurchases, SumStorePurchases__ - Seems does not have strange summary statistcs<br>\n",
    "__Kid_Younger6, Children_6to18__ - 75% of clients have at least one child"
   ]
  },
  {
   "cell_type": "markdown",
   "metadata": {
    "collapsed": false
   },
   "source": [
    "**Q**: Skewness of each variable "
   ]
  },
  {
   "cell_type": "code",
   "execution_count": 15,
   "metadata": {
    "collapsed": false
   },
   "outputs": [
    {
     "name": "stderr",
     "output_type": "stream",
     "text": [
      "C:\\Users\\Geral\\AppData\\Local\\Temp\\ipykernel_18964\\1665899112.py:1: FutureWarning: Dropping of nuisance columns in DataFrame reductions (with 'numeric_only=None') is deprecated; in a future version this will raise TypeError.  Select only valid columns before calling the reduction.\n",
      "  df.skew()\n"
     ]
    },
    {
     "data": {
      "text/plain": [
       "Birthyear               -0.092478\n",
       "Income                   0.844721\n",
       "Kid_Younger6             0.693587\n",
       "Children_6to18           0.451693\n",
       "Recency                  0.017676\n",
       "MntMeat&Fish             1.148862\n",
       "MntEntries               2.087220\n",
       "MntVegan&Vegetarian      2.486897\n",
       "MntDrinks                2.046308\n",
       "MntDesserts              2.057811\n",
       "MntAdditionalRequests    1.826522\n",
       "NumOfferPurchases        2.860514\n",
       "NumAppPurchases          0.525873\n",
       "NumTakeAwayPurchases     2.254158\n",
       "NumStorePurchases        0.623254\n",
       "NumAppVisitsMonth        1.005192\n",
       "Complain                 9.709429\n",
       "Response_Cmp1            3.118572\n",
       "Response_Cmp2            3.275500\n",
       "Response_Cmp3            3.023677\n",
       "Response_Cmp4            3.501448\n",
       "Response_Cmp5            8.187993\n",
       "dtype: float64"
      ]
     },
     "execution_count": 15,
     "metadata": {},
     "output_type": "execute_result"
    }
   ],
   "source": [
    "df.skew()"
   ]
  },
  {
   "cell_type": "markdown",
   "metadata": {
    "collapsed": false
   },
   "source": [
    "Concerning the variables' skewness, we can conclude the following:\n",
    "- `Moderate skewness (between |0.5| and |1.0|)`: Birthyear, Income, Kid_Younger6, Children_6to18, Recency, NumAppPurchases, NumStorePurchases, NumAppVisitsMonth\n",
    "- `High skewness (higher than |1.0|)`: MntMeat&Fish, MntEntries, MntVegan&Vegetarian, MntDrinks, MntDesserts, MntAdditionalRequests, NumOfferPurchases, NumTakeAwayPurchases, Complain, Response_Cmp1, Response_Cmp2, Response_Cmp3, Response_Cmp4, Response_Cmp5"
   ]
  },
  {
   "cell_type": "code",
   "execution_count": 16,
   "metadata": {
    "collapsed": false
   },
   "outputs": [
    {
     "name": "stderr",
     "output_type": "stream",
     "text": [
      "C:\\Users\\Geral\\AppData\\Local\\Temp\\ipykernel_18964\\1257127604.py:1: FutureWarning: Dropping of nuisance columns in DataFrame reductions (with 'numeric_only=None') is deprecated; in a future version this will raise TypeError.  Select only valid columns before calling the reduction.\n",
      "  df.kurt()\n"
     ]
    },
    {
     "data": {
      "text/plain": [
       "Birthyear                -0.857341\n",
       "Income                    2.649035\n",
       "Kid_Younger6             -0.651127\n",
       "Children_6to18           -0.973333\n",
       "Recency                  -1.197978\n",
       "MntMeat&Fish              0.532098\n",
       "MntEntries                4.096167\n",
       "MntVegan&Vegetarian       8.431538\n",
       "MntDrinks                 3.839256\n",
       "MntDesserts               3.813464\n",
       "MntAdditionalRequests     3.084190\n",
       "NumOfferPurchases        10.997946\n",
       "NumAppPurchases          -0.222899\n",
       "NumTakeAwayPurchases      8.582138\n",
       "NumStorePurchases        -0.694327\n",
       "NumAppVisitsMonth         4.992870\n",
       "Complain                 92.299387\n",
       "Response_Cmp1             7.727700\n",
       "Response_Cmp2             8.731398\n",
       "Response_Cmp3             7.144665\n",
       "Response_Cmp4            10.263068\n",
       "Response_Cmp5            65.061813\n",
       "dtype: float64"
      ]
     },
     "execution_count": 16,
     "metadata": {},
     "output_type": "execute_result"
    }
   ],
   "source": [
    "df.kurt()"
   ]
  },
  {
   "cell_type": "code",
   "execution_count": null,
   "metadata": {
    "collapsed": false
   },
   "outputs": [],
   "source": []
  },
  {
   "cell_type": "markdown",
   "metadata": {
    "collapsed": false
   },
   "source": [
    "Features with kurtosis higher than 3 could indicate presence of outliers, hence we should have special considerantion with the following features:\n",
    ">MntEntries, MntVegan&Vegetarian, MntDrinks, MntDesserts, NumOfferPurchases, NumAppVisitsMonth\n",
    "\n",
    "Note: Binomial Variables Complain, and Response_Cmp1 the kurtosis we will not consider as outliers"
   ]
  },
  {
   "cell_type": "markdown",
   "metadata": {
    "collapsed": false
   },
   "source": [
    "## 2.2.2 Categorical Values"
   ]
  },
  {
   "cell_type": "code",
   "execution_count": 17,
   "metadata": {
    "collapsed": false
   },
   "outputs": [
    {
     "data": {
      "text/html": [
       "<div>\n",
       "<style scoped>\n",
       "    .dataframe tbody tr th:only-of-type {\n",
       "        vertical-align: middle;\n",
       "    }\n",
       "\n",
       "    .dataframe tbody tr th {\n",
       "        vertical-align: top;\n",
       "    }\n",
       "\n",
       "    .dataframe thead th {\n",
       "        text-align: right;\n",
       "    }\n",
       "</style>\n",
       "<table border=\"1\" class=\"dataframe\">\n",
       "  <thead>\n",
       "    <tr style=\"text-align: right;\">\n",
       "      <th></th>\n",
       "      <th>Name</th>\n",
       "      <th>Education</th>\n",
       "      <th>Marital_Status</th>\n",
       "      <th>Date_Adherence</th>\n",
       "    </tr>\n",
       "  </thead>\n",
       "  <tbody>\n",
       "    <tr>\n",
       "      <th>count</th>\n",
       "      <td>7000</td>\n",
       "      <td>6986</td>\n",
       "      <td>7000</td>\n",
       "      <td>7000</td>\n",
       "    </tr>\n",
       "    <tr>\n",
       "      <th>unique</th>\n",
       "      <td>6241</td>\n",
       "      <td>9</td>\n",
       "      <td>10</td>\n",
       "      <td>701</td>\n",
       "    </tr>\n",
       "    <tr>\n",
       "      <th>top</th>\n",
       "      <td>Mr. Stewart Grant</td>\n",
       "      <td>Graduation</td>\n",
       "      <td>Married</td>\n",
       "      <td>2020-09-19 00:00:00</td>\n",
       "    </tr>\n",
       "    <tr>\n",
       "      <th>freq</th>\n",
       "      <td>3</td>\n",
       "      <td>3497</td>\n",
       "      <td>2830</td>\n",
       "      <td>23</td>\n",
       "    </tr>\n",
       "  </tbody>\n",
       "</table>\n",
       "</div>"
      ],
      "text/plain": [
       "                     Name   Education Marital_Status       Date_Adherence\n",
       "count                7000        6986           7000                 7000\n",
       "unique               6241           9             10                  701\n",
       "top     Mr. Stewart Grant  Graduation        Married  2020-09-19 00:00:00\n",
       "freq                    3        3497           2830                   23"
      ]
     },
     "execution_count": 17,
     "metadata": {},
     "output_type": "execute_result"
    }
   ],
   "source": [
    "df.describe(include = object)"
   ]
  },
  {
   "cell_type": "markdown",
   "metadata": {
    "collapsed": false
   },
   "source": [
    "> We can conclude that the education as **14 missing** values"
   ]
  },
  {
   "cell_type": "markdown",
   "metadata": {
    "collapsed": false
   },
   "source": [
    "#### Level/Possible values of Categorical Features"
   ]
  },
  {
   "cell_type": "markdown",
   "metadata": {
    "collapsed": false
   },
   "source": [
    "### `Name` prefix unique values and count"
   ]
  },
  {
   "cell_type": "code",
   "execution_count": 18,
   "metadata": {
    "collapsed": false
   },
   "outputs": [
    {
     "data": {
      "text/plain": [
       "Mr.     5133\n",
       "Miss    1469\n",
       "Mrs.     398\n",
       "Name: 0, dtype: int64"
      ]
     },
     "execution_count": 18,
     "metadata": {},
     "output_type": "execute_result"
    }
   ],
   "source": [
    "df['Name'].str.partition(\" \")[0].value_counts()"
   ]
  },
  {
   "cell_type": "markdown",
   "metadata": {
    "collapsed": false
   },
   "source": [
    "With the prefix we can generate a `gender` feature to further explore the dataset. We will deal with that in the data transformation capther"
   ]
  },
  {
   "cell_type": "markdown",
   "metadata": {
    "collapsed": false
   },
   "source": [
    "#### **`Gender`** feature creation"
   ]
  },
  {
   "cell_type": "code",
   "execution_count": 19,
   "metadata": {
    "collapsed": false
   },
   "outputs": [],
   "source": [
    "df[\"Gender\"] = df['Name'].str.partition(\" \")[0]\n",
    "df = df.replace({\"Gender\":{\"Mr.\": 1,\"Miss\": 0,\"Mrs.\": 0}})"
   ]
  },
  {
   "cell_type": "markdown",
   "metadata": {
    "collapsed": false
   },
   "source": [
    "### `Education` unique values and count"
   ]
  },
  {
   "cell_type": "code",
   "execution_count": 20,
   "metadata": {
    "collapsed": false
   },
   "outputs": [
    {
     "data": {
      "text/plain": [
       "Graduation    3497\n",
       "PhD           1494\n",
       "Master        1135\n",
       "HighSchool     663\n",
       "Basic          179\n",
       "master           7\n",
       "graduation       7\n",
       "phd              2\n",
       "highschool       2\n",
       "Name: Education, dtype: int64"
      ]
     },
     "execution_count": 20,
     "metadata": {},
     "output_type": "execute_result"
    }
   ],
   "source": [
    "df[\"Education\"].value_counts()"
   ]
  },
  {
   "cell_type": "markdown",
   "metadata": {
    "collapsed": false
   },
   "source": [
    "We have some issues that will need trasformatioin:<br>\n",
    "- Graduation, Master, HighSchool are written in different ways<br>\n",
    "- `Basic` and `HighSchool` need different levels?"
   ]
  },
  {
   "cell_type": "markdown",
   "metadata": {
    "collapsed": false
   },
   "source": [
    "#### Education standardization"
   ]
  },
  {
   "cell_type": "code",
   "execution_count": 21,
   "metadata": {
    "collapsed": false
   },
   "outputs": [],
   "source": [
    "df = df.replace({\"Education\":{\"master\":\"Master\", \"graduation\":\"Graduation\", \"phd\":\"PhD\",\"highschool\":\"HighSchool\"}})"
   ]
  },
  {
   "cell_type": "markdown",
   "metadata": {
    "collapsed": false
   },
   "source": [
    "### `Marital_Status` unique values and count"
   ]
  },
  {
   "cell_type": "code",
   "execution_count": 22,
   "metadata": {
    "collapsed": false
   },
   "outputs": [
    {
     "data": {
      "text/plain": [
       "Married     2830\n",
       "Together    1683\n",
       "Single      1525\n",
       "Divorced     637\n",
       "Widow        243\n",
       "married       36\n",
       "together      23\n",
       "single        13\n",
       "divorced       8\n",
       "widow          2\n",
       "Name: Marital_Status, dtype: int64"
      ]
     },
     "execution_count": 22,
     "metadata": {},
     "output_type": "execute_result"
    }
   ],
   "source": [
    "df[\"Marital_Status\"].value_counts()"
   ]
  },
  {
   "cell_type": "markdown",
   "metadata": {
    "collapsed": false
   },
   "source": [
    "Similarly to previous feature we also have some issues that need transformation:<br>\n",
    "- Married, Together, Single, Divorced and Widow are written with lower and capital letters\n",
    "- We could also consider that Married and Together are similar and joined them in the same level<br>"
   ]
  },
  {
   "cell_type": "markdown",
   "metadata": {
    "collapsed": false
   },
   "source": [
    "#### Marital_Status standardization"
   ]
  },
  {
   "cell_type": "code",
   "execution_count": 23,
   "metadata": {
    "collapsed": false
   },
   "outputs": [
    {
     "data": {
      "text/plain": [
       "Married     4572\n",
       "Single      1538\n",
       "Divorced     645\n",
       "Widow        245\n",
       "Name: Marital_Status, dtype: int64"
      ]
     },
     "execution_count": 23,
     "metadata": {},
     "output_type": "execute_result"
    }
   ],
   "source": [
    "df = df.replace({\"Marital_Status\":{\"married\":\"Married\", \"together\":\"Married\", \"single\":\"Single\",\"widow\":\"Widow\",\"divorced\":\"Divorced\",\"Together\":\"Married\"}})\n",
    "df[\"Marital_Status\"].value_counts()"
   ]
  },
  {
   "cell_type": "markdown",
   "metadata": {
    "collapsed": false
   },
   "source": [
    "`Date_Adherence` unqiue values and count"
   ]
  },
  {
   "cell_type": "code",
   "execution_count": 24,
   "metadata": {
    "collapsed": false
   },
   "outputs": [
    {
     "data": {
      "text/plain": [
       "2020-09-19    23\n",
       "2021-08-22    20\n",
       "2021-07-30    20\n",
       "2022-05-23    20\n",
       "2021-08-21    19\n",
       "              ..\n",
       "2021-03-09     3\n",
       "2020-09-18     2\n",
       "2020-07-30     2\n",
       "2020-08-29     2\n",
       "2021-03-22     2\n",
       "Name: Date_Adherence, Length: 701, dtype: int64"
      ]
     },
     "execution_count": 24,
     "metadata": {},
     "output_type": "execute_result"
    }
   ],
   "source": [
    "df[\"Date_Adherence\"].value_counts()"
   ]
  },
  {
   "cell_type": "markdown",
   "metadata": {
    "collapsed": false
   },
   "source": [
    "`Date_Adherence` is a date and will need transformation to a date format for further exploration"
   ]
  },
  {
   "cell_type": "markdown",
   "metadata": {
    "collapsed": false
   },
   "source": [
    "## 2.3 Visual Exploration"
   ]
  },
  {
   "cell_type": "markdown",
   "metadata": {
    "collapsed": false
   },
   "source": [
    "### 2.3.1 Numerical Variables"
   ]
  },
  {
   "cell_type": "code",
   "execution_count": 25,
   "metadata": {
    "collapsed": false
   },
   "outputs": [
    {
     "data": {
      "text/plain": [
       "<AxesSubplot:>"
      ]
     },
     "execution_count": 25,
     "metadata": {},
     "output_type": "execute_result"
    },
    {
     "data": {
      "image/png": "[encoded data removed]",
      "text/plain": [
       "<Figure size 1600x1000 with 2 Axes>"
      ]
     },
     "metadata": {},
     "output_type": "display_data"
    }
   ],
   "source": [
    "df_corr = df.corr(method = 'spearman')\n",
    "figure = plt.figure(figsize=(16,10))\n",
    "sns.heatmap(df_corr, annot=True, fmt = '.1g', mask = np.triu(df_corr))"
   ]
  },
  {
   "cell_type": "code",
   "execution_count": 26,
   "metadata": {
    "collapsed": false
   },
   "outputs": [
    {
     "data": {
      "text/plain": [
       "<AxesSubplot:xlabel='Birthyear', ylabel='Count'>"
      ]
     },
     "execution_count": 26,
     "metadata": {},
     "output_type": "execute_result"
    },
    {
     "data": {
      "image/png": "[encoded data removed]",
      "text/plain": [
       "<Figure size 1000x600 with 2 Axes>"
      ]
     },
     "metadata": {},
     "output_type": "display_data"
    }
   ],
   "source": [
    "fig, (ax1, ax2) = plt.subplots(1,2, figsize = (10,6))\n",
    "sns.histplot(ax = ax1, data = df, x = 'Birthyear', color=\"c\", bins= 5)\n",
    "sns.histplot(ax = ax2, data = df, x = 'Birthyear', color=\"c\")"
   ]
  },
  {
   "cell_type": "markdown",
   "metadata": {
    "collapsed": false
   },
   "source": [
    "- Birthyear at glance using 5 bins seems to follow a normally distribution shape, althought zooming in we can observe some heavy drops that we should explore further"
   ]
  },
  {
   "cell_type": "code",
   "execution_count": 27,
   "metadata": {
    "collapsed": false
   },
   "outputs": [
    {
     "data": {
      "text/plain": [
       "Text(0.5, 0, 'Total number of kids')"
      ]
     },
     "execution_count": 27,
     "metadata": {},
     "output_type": "execute_result"
    },
    {
     "data": {
      "image/png": "[encoded data removed]",
      "text/plain": [
       "<Figure size 1000x600 with 3 Axes>"
      ]
     },
     "metadata": {},
     "output_type": "display_data"
    }
   ],
   "source": [
    "fig, (ax1, ax2, ax3) = plt.subplots(nrows = 1, ncols = 3, figsize=(10,6), sharex = True, sharey= True)\n",
    "sns.countplot(ax = ax1, data = df, x = 'Kid_Younger6', color=\"y\", alpha = 0.8)\n",
    "sns.countplot(ax = ax2, data = df, x = 'Children_6to18', color=\"m\", alpha = 0.5)\n",
    "sns.countplot(ax = ax3, x = df[\"Kid_Younger6\"]+df[\"Children_6to18\"])\n",
    "plt.xlabel(\"Total number of kids\")"
   ]
  },
  {
   "cell_type": "markdown",
   "metadata": {
    "collapsed": false
   },
   "source": [
    "- Here we can see that the clients majority one child, having either one `Kid_Younger6` or one `Children_6to18` years of age"
   ]
  },
  {
   "cell_type": "code",
   "execution_count": 28,
   "metadata": {
    "collapsed": false
   },
   "outputs": [
    {
     "data": {
      "text/plain": [
       "<AxesSubplot:xlabel='Recency', ylabel='Count'>"
      ]
     },
     "execution_count": 28,
     "metadata": {},
     "output_type": "execute_result"
    },
    {
     "data": {
      "image/png": "[encoded data removed]",
      "text/plain": [
       "<Figure size 640x480 with 1 Axes>"
      ]
     },
     "metadata": {},
     "output_type": "display_data"
    }
   ],
   "source": [
    "sns.histplot(data = df['Recency'], color=\"k\", alpha=0.3)"
   ]
  },
  {
   "cell_type": "code",
   "execution_count": 29,
   "metadata": {
    "collapsed": false
   },
   "outputs": [
    {
     "data": {
      "text/plain": [
       "<AxesSubplot:xlabel='Income', ylabel='Count'>"
      ]
     },
     "execution_count": 29,
     "metadata": {},
     "output_type": "execute_result"
    },
    {
     "data": {
      "image/png": "[encoded data removed]",
      "text/plain": [
       "<Figure size 640x480 with 1 Axes>"
      ]
     },
     "metadata": {},
     "output_type": "display_data"
    }
   ],
   "source": [
    "sns.histplot(data = df['Income'], color=\"g\", alpha=0.3)"
   ]
  },
  {
   "cell_type": "markdown",
   "metadata": {
    "collapsed": false
   },
   "source": [
    "- `Income` suggest normal distribution with possible some outliers around 220k of monetary units"
   ]
  },
  {
   "cell_type": "markdown",
   "metadata": {
    "collapsed": false
   },
   "source": [
    "#### Income vs Gender"
   ]
  },
  {
   "cell_type": "code",
   "execution_count": 31,
   "metadata": {
    "collapsed": false
   },
   "outputs": [
    {
     "ename": "KeyboardInterrupt",
     "evalue": "",
     "output_type": "error",
     "traceback": [
      "\u001b[1;31m---------------------------------------------------------------------------\u001b[0m",
      "\u001b[1;31mKeyboardInterrupt\u001b[0m                         Traceback (most recent call last)",
      "\u001b[1;32m~\\AppData\\Local\\Temp\\ipykernel_18964\\3182983280.py\u001b[0m in \u001b[0;36m<module>\u001b[1;34m\u001b[0m\n\u001b[1;32m----> 1\u001b[1;33m \u001b[0msns\u001b[0m\u001b[1;33m.\u001b[0m\u001b[0mstripplot\u001b[0m\u001b[1;33m(\u001b[0m\u001b[0mdata\u001b[0m \u001b[1;33m=\u001b[0m \u001b[0mdf\u001b[0m\u001b[1;33m,\u001b[0m \u001b[0mx\u001b[0m \u001b[1;33m=\u001b[0m \u001b[1;34m\"Income\"\u001b[0m\u001b[1;33m,\u001b[0m \u001b[0my\u001b[0m \u001b[1;33m=\u001b[0m \u001b[1;34m\"Gender\"\u001b[0m\u001b[1;33m)\u001b[0m\u001b[1;33m\u001b[0m\u001b[1;33m\u001b[0m\u001b[0m\n\u001b[0m",
      "\u001b[1;32mc:\\ProgramData\\Anaconda3\\lib\\site-packages\\seaborn\\_decorators.py\u001b[0m in \u001b[0;36minner_f\u001b[1;34m(*args, **kwargs)\u001b[0m\n\u001b[0;32m     44\u001b[0m             )\n\u001b[0;32m     45\u001b[0m         \u001b[0mkwargs\u001b[0m\u001b[1;33m.\u001b[0m\u001b[0mupdate\u001b[0m\u001b[1;33m(\u001b[0m\u001b[1;33m{\u001b[0m\u001b[0mk\u001b[0m\u001b[1;33m:\u001b[0m \u001b[0marg\u001b[0m \u001b[1;32mfor\u001b[0m \u001b[0mk\u001b[0m\u001b[1;33m,\u001b[0m \u001b[0marg\u001b[0m \u001b[1;32min\u001b[0m \u001b[0mzip\u001b[0m\u001b[1;33m(\u001b[0m\u001b[0msig\u001b[0m\u001b[1;33m.\u001b[0m\u001b[0mparameters\u001b[0m\u001b[1;33m,\u001b[0m \u001b[0margs\u001b[0m\u001b[1;33m)\u001b[0m\u001b[1;33m}\u001b[0m\u001b[1;33m)\u001b[0m\u001b[1;33m\u001b[0m\u001b[1;33m\u001b[0m\u001b[0m\n\u001b[1;32m---> 46\u001b[1;33m         \u001b[1;32mreturn\u001b[0m \u001b[0mf\u001b[0m\u001b[1;33m(\u001b[0m\u001b[1;33m**\u001b[0m\u001b[0mkwargs\u001b[0m\u001b[1;33m)\u001b[0m\u001b[1;33m\u001b[0m\u001b[1;33m\u001b[0m\u001b[0m\n\u001b[0m\u001b[0;32m     47\u001b[0m     \u001b[1;32mreturn\u001b[0m \u001b[0minner_f\u001b[0m\u001b[1;33m\u001b[0m\u001b[1;33m\u001b[0m\u001b[0m\n\u001b[0;32m     48\u001b[0m \u001b[1;33m\u001b[0m\u001b[0m\n",
      "\u001b[1;32mc:\\ProgramData\\Anaconda3\\lib\\site-packages\\seaborn\\categorical.py\u001b[0m in \u001b[0;36mstripplot\u001b[1;34m(x, y, hue, data, order, hue_order, jitter, dodge, orient, color, palette, size, edgecolor, linewidth, ax, **kwargs)\u001b[0m\n\u001b[0;32m   2820\u001b[0m                        linewidth=linewidth))\n\u001b[0;32m   2821\u001b[0m \u001b[1;33m\u001b[0m\u001b[0m\n\u001b[1;32m-> 2822\u001b[1;33m     \u001b[0mplotter\u001b[0m\u001b[1;33m.\u001b[0m\u001b[0mplot\u001b[0m\u001b[1;33m(\u001b[0m\u001b[0max\u001b[0m\u001b[1;33m,\u001b[0m \u001b[0mkwargs\u001b[0m\u001b[1;33m)\u001b[0m\u001b[1;33m\u001b[0m\u001b[1;33m\u001b[0m\u001b[0m\n\u001b[0m\u001b[0;32m   2823\u001b[0m     \u001b[1;32mreturn\u001b[0m \u001b[0max\u001b[0m\u001b[1;33m\u001b[0m\u001b[1;33m\u001b[0m\u001b[0m\n\u001b[0;32m   2824\u001b[0m \u001b[1;33m\u001b[0m\u001b[0m\n",
      "\u001b[1;32mc:\\ProgramData\\Anaconda3\\lib\\site-packages\\seaborn\\categorical.py\u001b[0m in \u001b[0;36mplot\u001b[1;34m(self, ax, kws)\u001b[0m\n\u001b[0;32m   1158\u001b[0m     \u001b[1;32mdef\u001b[0m \u001b[0mplot\u001b[0m\u001b[1;33m(\u001b[0m\u001b[0mself\u001b[0m\u001b[1;33m,\u001b[0m \u001b[0max\u001b[0m\u001b[1;33m,\u001b[0m \u001b[0mkws\u001b[0m\u001b[1;33m)\u001b[0m\u001b[1;33m:\u001b[0m\u001b[1;33m\u001b[0m\u001b[1;33m\u001b[0m\u001b[0m\n\u001b[0;32m   1159\u001b[0m         \u001b[1;34m\"\"\"Make the plot.\"\"\"\u001b[0m\u001b[1;33m\u001b[0m\u001b[1;33m\u001b[0m\u001b[0m\n\u001b[1;32m-> 1160\u001b[1;33m         \u001b[0mself\u001b[0m\u001b[1;33m.\u001b[0m\u001b[0mdraw_stripplot\u001b[0m\u001b[1;33m(\u001b[0m\u001b[0max\u001b[0m\u001b[1;33m,\u001b[0m \u001b[0mkws\u001b[0m\u001b[1;33m)\u001b[0m\u001b[1;33m\u001b[0m\u001b[1;33m\u001b[0m\u001b[0m\n\u001b[0m\u001b[0;32m   1161\u001b[0m         \u001b[0mself\u001b[0m\u001b[1;33m.\u001b[0m\u001b[0madd_legend_data\u001b[0m\u001b[1;33m(\u001b[0m\u001b[0max\u001b[0m\u001b[1;33m)\u001b[0m\u001b[1;33m\u001b[0m\u001b[1;33m\u001b[0m\u001b[0m\n\u001b[0;32m   1162\u001b[0m         \u001b[0mself\u001b[0m\u001b[1;33m.\u001b[0m\u001b[0mannotate_axes\u001b[0m\u001b[1;33m(\u001b[0m\u001b[0max\u001b[0m\u001b[1;33m)\u001b[0m\u001b[1;33m\u001b[0m\u001b[1;33m\u001b[0m\u001b[0m\n",
      "\u001b[1;32mc:\\ProgramData\\Anaconda3\\lib\\site-packages\\seaborn\\categorical.py\u001b[0m in \u001b[0;36mdraw_stripplot\u001b[1;34m(self, ax, kws)\u001b[0m\n\u001b[0;32m   1127\u001b[0m \u001b[1;33m\u001b[0m\u001b[0m\n\u001b[0;32m   1128\u001b[0m                 \u001b[0mstrip_data\u001b[0m \u001b[1;33m=\u001b[0m \u001b[0mgroup_data\u001b[0m\u001b[1;33m[\u001b[0m\u001b[0mhue_mask\u001b[0m\u001b[1;33m]\u001b[0m\u001b[1;33m\u001b[0m\u001b[1;33m\u001b[0m\u001b[0m\n\u001b[1;32m-> 1129\u001b[1;33m                 \u001b[0mpoint_colors\u001b[0m \u001b[1;33m=\u001b[0m \u001b[0mnp\u001b[0m\u001b[1;33m.\u001b[0m\u001b[0masarray\u001b[0m\u001b[1;33m(\u001b[0m\u001b[0mself\u001b[0m\u001b[1;33m.\u001b[0m\u001b[0mpoint_colors\u001b[0m\u001b[1;33m[\u001b[0m\u001b[0mi\u001b[0m\u001b[1;33m]\u001b[0m\u001b[1;33m[\u001b[0m\u001b[0mhue_mask\u001b[0m\u001b[1;33m]\u001b[0m\u001b[1;33m)\u001b[0m\u001b[1;33m\u001b[0m\u001b[1;33m\u001b[0m\u001b[0m\n\u001b[0m\u001b[0;32m   1130\u001b[0m \u001b[1;33m\u001b[0m\u001b[0m\n\u001b[0;32m   1131\u001b[0m                 \u001b[1;31m# Plot the points in centered positions\u001b[0m\u001b[1;33m\u001b[0m\u001b[1;33m\u001b[0m\u001b[0m\n",
      "\u001b[1;32mc:\\ProgramData\\Anaconda3\\lib\\site-packages\\seaborn\\categorical.py\u001b[0m in \u001b[0;36mpoint_colors\u001b[1;34m(self)\u001b[0m\n\u001b[0;32m   1061\u001b[0m             \u001b[0mgroup_colors\u001b[0m \u001b[1;33m=\u001b[0m \u001b[0mnp\u001b[0m\u001b[1;33m.\u001b[0m\u001b[0mempty\u001b[0m\u001b[1;33m(\u001b[0m\u001b[0mgroup_data\u001b[0m\u001b[1;33m.\u001b[0m\u001b[0msize\u001b[0m\u001b[1;33m,\u001b[0m \u001b[0mint\u001b[0m\u001b[1;33m)\u001b[0m\u001b[1;33m\u001b[0m\u001b[1;33m\u001b[0m\u001b[0m\n\u001b[0;32m   1062\u001b[0m             \u001b[1;32mif\u001b[0m \u001b[0misinstance\u001b[0m\u001b[1;33m(\u001b[0m\u001b[0mgroup_data\u001b[0m\u001b[1;33m,\u001b[0m \u001b[0mpd\u001b[0m\u001b[1;33m.\u001b[0m\u001b[0mSeries\u001b[0m\u001b[1;33m)\u001b[0m\u001b[1;33m:\u001b[0m\u001b[1;33m\u001b[0m\u001b[1;33m\u001b[0m\u001b[0m\n\u001b[1;32m-> 1063\u001b[1;33m                 \u001b[0mgroup_colors\u001b[0m \u001b[1;33m=\u001b[0m \u001b[0mpd\u001b[0m\u001b[1;33m.\u001b[0m\u001b[0mSeries\u001b[0m\u001b[1;33m(\u001b[0m\u001b[0mgroup_colors\u001b[0m\u001b[1;33m,\u001b[0m \u001b[0mgroup_data\u001b[0m\u001b[1;33m.\u001b[0m\u001b[0mindex\u001b[0m\u001b[1;33m)\u001b[0m\u001b[1;33m\u001b[0m\u001b[1;33m\u001b[0m\u001b[0m\n\u001b[0m\u001b[0;32m   1064\u001b[0m \u001b[1;33m\u001b[0m\u001b[0m\n\u001b[0;32m   1065\u001b[0m             \u001b[1;32mif\u001b[0m \u001b[0mself\u001b[0m\u001b[1;33m.\u001b[0m\u001b[0mplot_hues\u001b[0m \u001b[1;32mis\u001b[0m \u001b[1;32mNone\u001b[0m\u001b[1;33m:\u001b[0m\u001b[1;33m\u001b[0m\u001b[1;33m\u001b[0m\u001b[0m\n",
      "\u001b[1;32mc:\\ProgramData\\Anaconda3\\lib\\site-packages\\pandas\\core\\series.py\u001b[0m in \u001b[0;36m__init__\u001b[1;34m(self, data, index, dtype, name, copy, fastpath)\u001b[0m\n\u001b[0;32m    458\u001b[0m \u001b[1;33m\u001b[0m\u001b[0m\n\u001b[0;32m    459\u001b[0m         \u001b[0mNDFrame\u001b[0m\u001b[1;33m.\u001b[0m\u001b[0m__init__\u001b[0m\u001b[1;33m(\u001b[0m\u001b[0mself\u001b[0m\u001b[1;33m,\u001b[0m \u001b[0mdata\u001b[0m\u001b[1;33m)\u001b[0m\u001b[1;33m\u001b[0m\u001b[1;33m\u001b[0m\u001b[0m\n\u001b[1;32m--> 460\u001b[1;33m         \u001b[0mself\u001b[0m\u001b[1;33m.\u001b[0m\u001b[0mname\u001b[0m \u001b[1;33m=\u001b[0m \u001b[0mname\u001b[0m\u001b[1;33m\u001b[0m\u001b[1;33m\u001b[0m\u001b[0m\n\u001b[0m\u001b[0;32m    461\u001b[0m         \u001b[0mself\u001b[0m\u001b[1;33m.\u001b[0m\u001b[0m_set_axis\u001b[0m\u001b[1;33m(\u001b[0m\u001b[1;36m0\u001b[0m\u001b[1;33m,\u001b[0m \u001b[0mindex\u001b[0m\u001b[1;33m,\u001b[0m \u001b[0mfastpath\u001b[0m\u001b[1;33m=\u001b[0m\u001b[1;32mTrue\u001b[0m\u001b[1;33m)\u001b[0m\u001b[1;33m\u001b[0m\u001b[1;33m\u001b[0m\u001b[0m\n\u001b[0;32m    462\u001b[0m \u001b[1;33m\u001b[0m\u001b[0m\n",
      "\u001b[1;32mc:\\ProgramData\\Anaconda3\\lib\\site-packages\\pandas\\core\\generic.py\u001b[0m in \u001b[0;36m__setattr__\u001b[1;34m(self, name, value)\u001b[0m\n\u001b[0;32m   5595\u001b[0m             \u001b[0mobject\u001b[0m\u001b[1;33m.\u001b[0m\u001b[0m__setattr__\u001b[0m\u001b[1;33m(\u001b[0m\u001b[0mself\u001b[0m\u001b[1;33m,\u001b[0m \u001b[0mname\u001b[0m\u001b[1;33m,\u001b[0m \u001b[0mvalue\u001b[0m\u001b[1;33m)\u001b[0m\u001b[1;33m\u001b[0m\u001b[1;33m\u001b[0m\u001b[0m\n\u001b[0;32m   5596\u001b[0m         \u001b[1;32melif\u001b[0m \u001b[0mname\u001b[0m \u001b[1;32min\u001b[0m \u001b[0mself\u001b[0m\u001b[1;33m.\u001b[0m\u001b[0m_metadata\u001b[0m\u001b[1;33m:\u001b[0m\u001b[1;33m\u001b[0m\u001b[1;33m\u001b[0m\u001b[0m\n\u001b[1;32m-> 5597\u001b[1;33m             \u001b[0mobject\u001b[0m\u001b[1;33m.\u001b[0m\u001b[0m__setattr__\u001b[0m\u001b[1;33m(\u001b[0m\u001b[0mself\u001b[0m\u001b[1;33m,\u001b[0m \u001b[0mname\u001b[0m\u001b[1;33m,\u001b[0m \u001b[0mvalue\u001b[0m\u001b[1;33m)\u001b[0m\u001b[1;33m\u001b[0m\u001b[1;33m\u001b[0m\u001b[0m\n\u001b[0m\u001b[0;32m   5598\u001b[0m         \u001b[1;32melse\u001b[0m\u001b[1;33m:\u001b[0m\u001b[1;33m\u001b[0m\u001b[1;33m\u001b[0m\u001b[0m\n\u001b[0;32m   5599\u001b[0m             \u001b[1;32mtry\u001b[0m\u001b[1;33m:\u001b[0m\u001b[1;33m\u001b[0m\u001b[1;33m\u001b[0m\u001b[0m\n",
      "\u001b[1;32mc:\\ProgramData\\Anaconda3\\lib\\site-packages\\pandas\\core\\series.py\u001b[0m in \u001b[0;36mname\u001b[1;34m(self, value)\u001b[0m\n\u001b[0;32m    640\u001b[0m     \u001b[1;33m@\u001b[0m\u001b[0mname\u001b[0m\u001b[1;33m.\u001b[0m\u001b[0msetter\u001b[0m\u001b[1;33m\u001b[0m\u001b[1;33m\u001b[0m\u001b[0m\n\u001b[0;32m    641\u001b[0m     \u001b[1;32mdef\u001b[0m \u001b[0mname\u001b[0m\u001b[1;33m(\u001b[0m\u001b[0mself\u001b[0m\u001b[1;33m,\u001b[0m \u001b[0mvalue\u001b[0m\u001b[1;33m:\u001b[0m \u001b[0mHashable\u001b[0m\u001b[1;33m)\u001b[0m \u001b[1;33m->\u001b[0m \u001b[1;32mNone\u001b[0m\u001b[1;33m:\u001b[0m\u001b[1;33m\u001b[0m\u001b[1;33m\u001b[0m\u001b[0m\n\u001b[1;32m--> 642\u001b[1;33m         \u001b[0mvalidate_all_hashable\u001b[0m\u001b[1;33m(\u001b[0m\u001b[0mvalue\u001b[0m\u001b[1;33m,\u001b[0m \u001b[0merror_name\u001b[0m\u001b[1;33m=\u001b[0m\u001b[1;34mf\"{type(self).__name__}.name\"\u001b[0m\u001b[1;33m)\u001b[0m\u001b[1;33m\u001b[0m\u001b[1;33m\u001b[0m\u001b[0m\n\u001b[0m\u001b[0;32m    643\u001b[0m         \u001b[0mobject\u001b[0m\u001b[1;33m.\u001b[0m\u001b[0m__setattr__\u001b[0m\u001b[1;33m(\u001b[0m\u001b[0mself\u001b[0m\u001b[1;33m,\u001b[0m \u001b[1;34m\"_name\"\u001b[0m\u001b[1;33m,\u001b[0m \u001b[0mvalue\u001b[0m\u001b[1;33m)\u001b[0m\u001b[1;33m\u001b[0m\u001b[1;33m\u001b[0m\u001b[0m\n\u001b[0;32m    644\u001b[0m \u001b[1;33m\u001b[0m\u001b[0m\n",
      "\u001b[1;31mKeyboardInterrupt\u001b[0m: "
     ]
    },
    {
     "data": {
      "image/png": "[encoded data removed]",
      "text/plain": [
       "<Figure size 640x480 with 1 Axes>"
      ]
     },
     "metadata": {},
     "output_type": "display_data"
    }
   ],
   "source": [
    "sns.stripplot(data = df, x = \"Income\", y = \"Gender\")"
   ]
  },
  {
   "cell_type": "code",
   "execution_count": 32,
   "metadata": {
    "collapsed": false
   },
   "outputs": [
    {
     "data": {
      "text/plain": [
       "<AxesSubplot:xlabel='MntAdditionalRequests', ylabel='Count'>"
      ]
     },
     "execution_count": 32,
     "metadata": {},
     "output_type": "execute_result"
    },
    {
     "data": {
      "image/png": "[encoded data removed]",
      "text/plain": [
       "<Figure size 2000x1600 with 6 Axes>"
      ]
     },
     "metadata": {},
     "output_type": "display_data"
    }
   ],
   "source": [
    "fig, ((ax1, ax2),(ax3,ax4),(ax5,ax6)) = plt.subplots(3,2, figsize = (20,16))\n",
    "sns.histplot(ax = ax1, data = df, x = 'MntMeat&Fish', color=\"g\")\n",
    "sns.histplot(ax = ax2, data = df, x = 'MntVegan&Vegetarian', color=\"b\")\n",
    "sns.histplot(ax = ax3, data = df, x = 'MntEntries', color=\"r\")\n",
    "sns.histplot(ax = ax4, data = df, x = 'MntDrinks', color=\"y\")\n",
    "sns.histplot(ax = ax5, data = df, x = 'MntDesserts', color=\"w\")\n",
    "sns.histplot(ax = ax6, data = df, x = 'MntAdditionalRequests', color=\"m\")"
   ]
  },
  {
   "cell_type": "markdown",
   "metadata": {
    "collapsed": false
   },
   "source": [
    "- `MntMeat&Fish` and `MntVegan&Vegatarian` are the categories where customers spend the most\n",
    "- `MntVegan&Vegetarian` seems to have **outliers** above the 15000 price units\n",
    "- All the `Mnt%` variables have a heavy concentration of values on the lower values of monetary units axis"
   ]
  },
  {
   "cell_type": "markdown",
   "metadata": {
    "collapsed": false
   },
   "source": [
    "#### Total Monetary Spend feature creation and display"
   ]
  },
  {
   "cell_type": "code",
   "execution_count": 33,
   "metadata": {
    "collapsed": false
   },
   "outputs": [
    {
     "data": {
      "text/plain": [
       "CustomerID\n",
       "14594    16676.0\n",
       "19070    21486.0\n",
       "29888    13448.0\n",
       "12221     5634.0\n",
       "21107    17303.0\n",
       "          ...   \n",
       "30686    15665.0\n",
       "17210    24246.0\n",
       "29186      680.0\n",
       "23312      647.0\n",
       "15581    15269.0\n",
       "Name: MntTotal, Length: 7000, dtype: float64"
      ]
     },
     "execution_count": 33,
     "metadata": {},
     "output_type": "execute_result"
    }
   ],
   "source": [
    "df[\"MntTotal\"] = df['MntMeat&Fish'] + df['MntEntries'] + df['MntVegan&Vegetarian'] + df['MntDrinks'] + df['MntDesserts'] + df[\"MntAdditionalRequests\"]\n",
    "df[\"MntTotal\"]\n",
    "# em falta Mnt Add Requests"
   ]
  },
  {
   "cell_type": "code",
   "execution_count": 34,
   "metadata": {
    "collapsed": false
   },
   "outputs": [
    {
     "data": {
      "text/plain": [
       "<AxesSubplot:xlabel='MntTotal', ylabel='Count'>"
      ]
     },
     "execution_count": 34,
     "metadata": {},
     "output_type": "execute_result"
    },
    {
     "data": {
      "image/png": "[encoded data removed]",
      "text/plain": [
       "<Figure size 640x480 with 1 Axes>"
      ]
     },
     "metadata": {},
     "output_type": "display_data"
    }
   ],
   "source": [
    "sns.histplot(data = df, x = 'MntTotal', color=\"g\")"
   ]
  },
  {
   "cell_type": "code",
   "execution_count": null,
   "metadata": {
    "collapsed": false
   },
   "outputs": [],
   "source": [
    "def scatterplot_list(data: pd.DataFrame, x: list, y: list, hue: str, marker_size: int = 50, figsize: tuple = (10, 6), rug: bool = False, ax: plt.Axes = None):\n",
    "    if ax is None:\n",
    "        num_subplots = len(y) * len(x)\n",
    "        if num_subplots == 1:\n",
    "            fig, axs = plt.subplots(1, 1, figsize=figsize)\n",
    "            axs = [axs]\n",
    "        else:\n",
    "            num_rows = (num_subplots + 1) // 2\n",
    "            num_cols = 2 if num_subplots > 1 else 1\n",
    "            fig, axs = plt.subplots(num_rows, num_cols, figsize=(figsize[0]*num_cols, figsize[1]*num_rows))\n",
    "            axs = axs.ravel()\n",
    "    else:\n",
    "        axs = ax\n",
    "\n",
    "    for i, x_var in enumerate(x):\n",
    "        for j, y_var in enumerate(y):\n",
    "            idx = j * len(x) + i\n",
    "            sns.scatterplot(data=data, x=x_var, y=y_var, hue=hue, s=marker_size, ax=axs[idx], palette='Dark2', label=hue)\n",
    "            axs[idx].set_xlabel(x_var)\n",
    "            axs[idx].set_ylabel(y_var)\n",
    "            axs[idx].legend(loc='upper right')\n",
    "            if rug:\n",
    "                sns.rugplot(data=data, x=x_var, y=y_var, hue=hue, ax=axs[idx], alpha=0.5)\n",
    "\n",
    "    plt.tight_layout()\n",
    "    plt.show()"
   ]
  },
  {
   "cell_type": "markdown",
   "metadata": {
    "collapsed": false
   },
   "source": [
    "#### Scatter plot Monetary vs Income vs Gender"
   ]
  },
  {
   "cell_type": "code",
   "execution_count": null,
   "metadata": {
    "collapsed": false
   },
   "outputs": [],
   "source": [
    "scatterplot_list(data= df, x= ['Income'], y= ['MntTotal'], hue= 'Gender')"
   ]
  },
  {
   "cell_type": "code",
   "execution_count": null,
   "metadata": {
    "collapsed": false
   },
   "outputs": [],
   "source": [
    "fig, ((ax1, ax2), (ax3, ax4), (ax5, ax6)) = plt.subplots(3,2, figsize = (20,16))\n",
    "sns.scatterplot(ax = ax1, data = df, x = \"Income\", y = \"MntMeat&Fish\", hue = \"Gender\")\n",
    "sns.scatterplot(ax = ax2, data = df, x = \"Income\", y = \"MntVegan&Vegetarian\", hue = \"Gender\")\n",
    "sns.scatterplot(ax = ax3, data = df, x = \"Income\", y = \"MntEntries\", hue = \"Gender\")\n",
    "sns.scatterplot(ax = ax4, data = df, x = \"Income\", y = \"MntDrinks\", hue = \"Gender\")\n",
    "sns.scatterplot(ax = ax5, data = df, x = \"Income\", y = \"MntDesserts\", hue = \"Gender\")\n",
    "sns.scatterplot(ax = ax6, data = df, x = \"Income\", y = \"MntAdditionalRequests\", hue = \"Gender\")"
   ]
  },
  {
   "cell_type": "markdown",
   "metadata": {
    "collapsed": false
   },
   "source": [
    "#### Scatter plot the Monetery vs Income vs \"Total of Kids\""
   ]
  },
  {
   "cell_type": "code",
   "execution_count": null,
   "metadata": {
    "collapsed": false
   },
   "outputs": [],
   "source": [
    "df[\"Total_Kids\"] = df[\"Kid_Younger6\"] + df[\"Children_6to18\"]"
   ]
  },
  {
   "cell_type": "code",
   "execution_count": null,
   "metadata": {
    "collapsed": false
   },
   "outputs": [],
   "source": [
    "fig, ((ax1, ax2), (ax3, ax4), (ax5, ax6)) = plt.subplots(3,2, figsize = (20,16))\n",
    "sns.scatterplot(ax = ax1, data = df, x = \"Income\", y = \"MntMeat&Fish\", hue = \"Total_Kids\")\n",
    "sns.scatterplot(ax = ax2, data = df, x = \"Income\", y = \"MntVegan&Vegetarian\", hue = \"Total_Kids\")\n",
    "sns.scatterplot(ax = ax3, data = df, x = \"Income\", y = \"MntEntries\", hue = \"Total_Kids\")\n",
    "sns.scatterplot(ax = ax4, data = df, x = \"Income\", y = \"MntDrinks\", hue = \"Total_Kids\")\n",
    "sns.scatterplot(ax = ax5, data = df, x = \"Income\", y = \"MntDesserts\", hue = \"Total_Kids\")\n",
    "sns.scatterplot(ax = ax6, data = df, x = \"Income\", y = \"MntAdditionalRequests\", hue = \"Total_Kids\")"
   ]
  },
  {
   "cell_type": "markdown",
   "metadata": {
    "collapsed": false
   },
   "source": [
    "- Here we conclude that customer with less kid spend more money in general accross all subcategories\n",
    "- In the `MntVegan&Vegetarian`subcategory the higher spenders are clearly the one's with no children"
   ]
  },
  {
   "cell_type": "markdown",
   "metadata": {
    "collapsed": false
   },
   "source": [
    "#### Scatter plot the Monetery vs Income vs \"Kid_Younger6\""
   ]
  },
  {
   "cell_type": "code",
   "execution_count": null,
   "metadata": {
    "collapsed": false
   },
   "outputs": [],
   "source": [
    "fig, ((ax1, ax2), (ax3, ax4), (ax5, ax6)) = plt.subplots(3,2, figsize = (20,16))\n",
    "sns.scatterplot(ax = ax1, data = df, x = \"Income\", y = \"MntMeat&Fish\", hue = \"Kid_Younger6\")\n",
    "sns.scatterplot(ax = ax2, data = df, x = \"Income\", y = \"MntVegan&Vegetarian\", hue = \"Kid_Younger6\")\n",
    "sns.scatterplot(ax = ax3, data = df, x = \"Income\", y = \"MntEntries\", hue = \"Kid_Younger6\")\n",
    "sns.scatterplot(ax = ax4, data = df, x = \"Income\", y = \"MntDrinks\", hue = \"Kid_Younger6\")\n",
    "sns.scatterplot(ax = ax5, data = df, x = \"Income\", y = \"MntDesserts\", hue = \"Kid_Younger6\")\n",
    "sns.scatterplot(ax = ax6, data = df, x = \"Income\", y = \"MntAdditionalRequests\", hue = \"Kid_Younger6\")"
   ]
  },
  {
   "cell_type": "markdown",
   "metadata": {
    "collapsed": false
   },
   "source": [
    "- Here it's possible to conclude that the subgroup with kids under 6 years spend little money on both `Meat&Fish`and  `Vegan&Vegetarian` that could relate on the fact that younger kids have their own food"
   ]
  },
  {
   "cell_type": "markdown",
   "metadata": {
    "collapsed": false
   },
   "source": [
    "#### Scatter plot the Monetery vs Income vs \"Children_6to18\""
   ]
  },
  {
   "cell_type": "code",
   "execution_count": null,
   "metadata": {
    "collapsed": false
   },
   "outputs": [],
   "source": [
    "fig, ((ax1, ax2), (ax3, ax4), (ax5, ax6)) = plt.subplots(3,2, figsize = (20,16))\n",
    "sns.scatterplot(ax = ax1, data = df, x = \"Income\", y = \"MntMeat&Fish\", hue = \"Children_6to18\")\n",
    "sns.scatterplot(ax = ax2, data = df, x = \"Income\", y = \"MntVegan&Vegetarian\", hue = \"Children_6to18\")\n",
    "sns.scatterplot(ax = ax3, data = df, x = \"Income\", y = \"MntEntries\", hue = \"Children_6to18\")\n",
    "sns.scatterplot(ax = ax4, data = df, x = \"Income\", y = \"MntDrinks\", hue = \"Children_6to18\")\n",
    "sns.scatterplot(ax = ax5, data = df, x = \"Income\", y = \"MntDesserts\", hue = \"Children_6to18\")\n",
    "sns.scatterplot(ax = ax6, data = df, x = \"Income\", y = \"MntAdditionalRequests\", hue = \"Children_6to18\")"
   ]
  },
  {
   "cell_type": "markdown",
   "metadata": {
    "collapsed": false
   },
   "source": [
    "#### Kids boolean variable creation"
   ]
  },
  {
   "cell_type": "code",
   "execution_count": null,
   "metadata": {
    "collapsed": false
   },
   "outputs": [],
   "source": [
    "df[\"has_Kids\"] = df[\"Total_Kids\"].apply(lambda x: 0 if x == 0 else 1)\n",
    "df[\"has_Kids\"]"
   ]
  },
  {
   "cell_type": "markdown",
   "metadata": {
    "collapsed": false
   },
   "source": [
    "#### Income vs Total Monetary vs Kids (Y/N)"
   ]
  },
  {
   "cell_type": "code",
   "execution_count": null,
   "metadata": {
    "collapsed": false
   },
   "outputs": [],
   "source": [
    "sns.scatterplot(data = df, x = \"Income\", y = \"MntTotal\", hue = \"has_Kids\")"
   ]
  },
  {
   "cell_type": "markdown",
   "metadata": {
    "collapsed": false
   },
   "source": [
    "- From this scatterplot we can see that in general costumer without has_Kids spend more money than the one's who have\n",
    "\n",
    "Now let's try to understand in the behavior in the monetary subclasses"
   ]
  },
  {
   "cell_type": "code",
   "execution_count": null,
   "metadata": {
    "collapsed": false
   },
   "outputs": [],
   "source": [
    "fig, ((ax1, ax2), (ax3, ax4), (ax5, ax6)) = plt.subplots(3,2, figsize = (20,16))\n",
    "sns.scatterplot(ax = ax1, data = df, x = \"Income\", y = \"MntMeat&Fish\", hue = \"has_Kids\")\n",
    "sns.scatterplot(ax = ax2, data = df, x = \"Income\", y = \"MntVegan&Vegetarian\", hue = \"has_Kids\")\n",
    "sns.scatterplot(ax = ax3, data = df, x = \"Income\", y = \"MntEntries\", hue = \"has_Kids\")\n",
    "sns.scatterplot(ax = ax4, data = df, x = \"Income\", y = \"MntDrinks\", hue = \"has_Kids\")\n",
    "sns.scatterplot(ax = ax5, data = df, x = \"Income\", y = \"MntDesserts\", hue = \"has_Kids\")\n",
    "sns.scatterplot(ax = ax6, data = df, x = \"Income\", y = \"MntAdditionalRequests\", hue = \"has_Kids\")"
   ]
  },
  {
   "cell_type": "markdown",
   "metadata": {
    "collapsed": false
   },
   "source": [
    "#### Monetary vs Income vs Education"
   ]
  },
  {
   "cell_type": "code",
   "execution_count": null,
   "metadata": {
    "collapsed": false
   },
   "outputs": [],
   "source": [
    "sns.scatterplot(data = df, hue = \"Education\", x = \"MntTotal\", y = \"Income\")\n",
    "sns.rugplot(data = df, hue = \"Education\", x = \"MntTotal\", y = \"Income\")"
   ]
  },
  {
   "cell_type": "code",
   "execution_count": null,
   "metadata": {
    "collapsed": false
   },
   "outputs": [],
   "source": [
    "fig, ((ax1, ax2), (ax3, ax4), (ax5, ax6)) = plt.subplots(3,2, figsize = (20,16))\n",
    "sns.scatterplot(ax = ax1, data = df, hue = \"Education\", x = \"MntMeat&Fish\", y = \"Income\")\n",
    "sns.rugplot(ax = ax1, data = df, hue = \"Education\", x = \"MntMeat&Fish\", y = \"Income\")\n",
    "sns.scatterplot(ax = ax2, data = df, hue = \"Education\", x = \"MntVegan&Vegetarian\", y = \"Income\")\n",
    "sns.rugplot(ax = ax2, data = df, hue = \"Education\", x = \"MntVegan&Vegetarian\", y = \"Income\")\n",
    "sns.scatterplot(ax = ax3, data = df, hue = \"Education\", x = \"MntEntries\", y = \"Income\")\n",
    "sns.rugplot(ax = ax3, data = df, hue = \"Education\", x = \"MntEntries\", y = \"Income\")\n",
    "sns.scatterplot(ax = ax4, data = df, hue = \"Education\", x = \"MntDrinks\", y = \"Income\")\n",
    "sns.rugplot(ax = ax4, data = df, hue = \"Education\", x = \"MntDrinks\", y = \"Income\")\n",
    "sns.scatterplot(ax= ax5, data = df, hue = \"Education\", x = \"MntDesserts\", y = \"Income\")\n",
    "sns.rugplot(ax = ax5, data = df, hue = \"Education\", x = \"MntDesserts\", y = \"Income\")\n",
    "sns.scatterplot(ax = ax6, data = df, hue = \"Education\", x = \"MntAdditionalRequests\", y = \"Income\")\n",
    "sns.rugplot(ax = ax6, data = df, hue = \"Education\", x = \"MntAdditionalRequests\", y = \"Income\")"
   ]
  },
  {
   "cell_type": "markdown",
   "metadata": {
    "collapsed": false
   },
   "source": [
    "#### Monetary vs Education"
   ]
  },
  {
   "cell_type": "code",
   "execution_count": null,
   "metadata": {
    "collapsed": false
   },
   "outputs": [],
   "source": [
    "fig, ((ax1, ax2), (ax3, ax4), (ax5, ax6)) = plt.subplots(3,2, figsize = (20,16))\n",
    "sns.stripplot(ax = ax1, data = df, y = \"Education\",  order = [\"Basic\", \"HighSchool\", \"Graduation\",\"Master\",\"PhD\"],  x = \"MntMeat&Fish\")\n",
    "sns.stripplot(ax = ax2, data = df, y = \"Education\",  order = [\"Basic\", \"HighSchool\", \"Graduation\",\"Master\",\"PhD\"],  x = \"MntVegan&Vegetarian\")\n",
    "sns.stripplot(ax = ax3, data = df, y = \"Education\",  order = [\"Basic\", \"HighSchool\", \"Graduation\",\"Master\",\"PhD\"],  x = \"MntEntries\")\n",
    "sns.stripplot(ax = ax4, data = df, y = \"Education\",  order = [\"Basic\", \"HighSchool\", \"Graduation\",\"Master\",\"PhD\"],  x = \"MntDrinks\")\n",
    "sns.stripplot(ax = ax5, data = df, y = \"Education\",  order = [\"Basic\", \"HighSchool\", \"Graduation\",\"Master\",\"PhD\"],  x = \"MntDesserts\")\n",
    "sns.stripplot(ax = ax6, data = df, y = \"Education\",  order = [\"Basic\", \"HighSchool\", \"Graduation\",\"Master\",\"PhD\"],  x = \"MntAdditionalRequests\")"
   ]
  },
  {
   "cell_type": "markdown",
   "metadata": {
    "collapsed": false
   },
   "source": [
    "#### Marital_Status vs Monetary vs has_Kids"
   ]
  },
  {
   "cell_type": "code",
   "execution_count": null,
   "metadata": {
    "collapsed": false
   },
   "outputs": [],
   "source": [
    "fig, ((ax1, ax2), (ax3, ax4), (ax5, ax6)) = plt.subplots(3,2, figsize = (20,16))\n",
    "sns.scatterplot(ax = ax1, data = df, y = \"Marital_Status\", x = \"MntMeat&Fish\", hue = \"has_Kids\")\n",
    "sns.scatterplot(ax = ax2, data = df, y = \"Marital_Status\", x = \"MntVegan&Vegetarian\", hue = \"has_Kids\")\n",
    "sns.scatterplot(ax = ax3, data = df, y = \"Marital_Status\", x = \"MntEntries\", hue = \"has_Kids\")\n",
    "sns.scatterplot(ax = ax4, data = df, y = \"Marital_Status\", x = \"MntDrinks\", hue = \"has_Kids\")\n",
    "sns.scatterplot(ax = ax5, data = df, y = \"Marital_Status\", x = \"MntDesserts\", hue = \"has_Kids\")\n",
    "sns.scatterplot(ax = ax6, data = df, y = \"Marital_Status\", x = \"MntAdditionalRequests\", hue = \"has_Kids\")"
   ]
  },
  {
   "cell_type": "markdown",
   "metadata": {
    "collapsed": false
   },
   "source": [
    "> No valuable information besides the perception that every `Marital_Status` have has_Kids"
   ]
  },
  {
   "cell_type": "markdown",
   "metadata": {
    "collapsed": false
   },
   "source": [
    "#### Monetary vs Number of Purchases"
   ]
  },
  {
   "cell_type": "code",
   "execution_count": null,
   "metadata": {
    "collapsed": false
   },
   "outputs": [],
   "source": [
    "fig, ((ax1, ax2), (ax3, ax4), (ax5,ax6)) = plt.subplots(3,2, figsize = (20,16))\n",
    "sns.scatterplot(ax = ax1, data = df, y = \"NumOfferPurchases\", x = \"MntTotal\", hue = \"has_Kids\")\n",
    "sns.scatterplot(ax = ax2, data = df, y = \"NumAppPurchases\", x = \"MntTotal\", hue = \"has_Kids\")\n",
    "sns.scatterplot(ax = ax3, data = df, y = \"NumTakeAwayPurchases\", x = \"MntTotal\", hue = \"has_Kids\")\n",
    "sns.scatterplot(ax = ax4, data = df, y = \"NumStorePurchases\", x = \"MntTotal\", hue = \"has_Kids\")\n",
    "sns.scatterplot(ax = ax5, data = df, y = \"NumAppVisitsMonth\", x = \"MntTotal\", hue = \"has_Kids\")\n",
    "sns.scatterplot(ax = ax6, data = df, y = \"Complain\", x = \"MntTotal\", hue = \"has_Kids\")"
   ]
  },
  {
   "cell_type": "markdown",
   "metadata": {
    "collapsed": false
   },
   "source": [
    "> **Info** Mnt Total\n",
    "- NumberOfferPurchases: The customer who most use **Offers** have has_Kids, and that the majority of money spend is without offers\n",
    "- NumAppPurchases: Customer who used **Food Apps** less than 4 times spend much less money than the rest, and the costumers without has_Kids tend to spend more\n",
    "- NumTakeAway - Customer who ordered **take-away** less than 4 times spend much less money than the rest, and the customer without has_Kids spend more money than the one's with has_Kids.\n",
    "- NumStorePurchases - Again, Customer who went the **store** less than 4 times spend much less money than the rest, and customer without has_Kids tend to spend more\n",
    "- NumAppVisitsMonth - The customers who have has_Kids visit the restautant in **Food delivery apps** more often (monthly) than the one's without, nevetheless the one's without has_Kids tend to spend more (Here you could try to understand the _**value per visit**_ to try to boost the usage of the app from nohas_Kids customer)"
   ]
  },
  {
   "cell_type": "code",
   "execution_count": null,
   "metadata": {
    "collapsed": false
   },
   "outputs": [],
   "source": [
    "fig, ((ax1, ax2), (ax3, ax4), (ax5, ax6)) = plt.subplots(3,2, figsize = (20,16))\n",
    "sns.scatterplot(ax = ax1, data = df, y = \"NumOfferPurchases\", x = \"MntMeat&Fish\", hue = \"has_Kids\")\n",
    "sns.scatterplot(ax = ax2, data = df, y = \"NumAppPurchases\", x = \"MntMeat&Fish\", hue = \"has_Kids\")\n",
    "sns.scatterplot(ax = ax3, data = df, y = \"NumTakeAwayPurchases\", x = \"MntMeat&Fish\", hue = \"has_Kids\")\n",
    "sns.scatterplot(ax = ax4, data = df, y = \"NumStorePurchases\", x = \"MntMeat&Fish\", hue = \"has_Kids\")\n",
    "sns.scatterplot(ax = ax5, data = df, y = \"NumAppVisitsMonth\", x = \"MntMeat&Fish\", hue = \"has_Kids\")\n",
    "sns.scatterplot(ax = ax6, data = df, y = \"Complain\", x = \"MntMeat&Fish\", hue = \"has_Kids\")"
   ]
  },
  {
   "cell_type": "markdown",
   "metadata": {
    "collapsed": false
   },
   "source": [
    "> **Info** Meat&Fish\n",
    "- NumberOfferPurchases: The customer who most use **Offers** have has_Kids, and that the majority of money spend is without offers\n",
    "- NumAppPurchases: Customer who used **Food Apps** less than 4 times spend much less money than the rest and the customer without has_Kids tend to spend more\n",
    "- NumTakeAway - Customer who ordered **take-away** less than 4 times spend much less money than the rest, and the customer without has_Kids spend order more take-away more often\n",
    "- NumStorePurchases - Again, Customer who went the **store** less than 4 times spend much less money than the rest\n",
    "- NumAppVisitsMonth - The customers who have has_Kids visit the restautant in **Food delivery apps** more often (monthly) than the one's without, nevetheless the one's without has_Kids tend to spend more (Here you could try to understand the _**value per visit**_ to try to boost the usage of the app from no has_Kids customer)"
   ]
  },
  {
   "cell_type": "code",
   "execution_count": null,
   "metadata": {
    "collapsed": false
   },
   "outputs": [],
   "source": [
    "fig, ((ax1, ax2), (ax3, ax4), (ax5, ax6)) = plt.subplots(3,2, figsize = (20,16))\n",
    "sns.scatterplot(ax = ax1, data = df, y = \"NumOfferPurchases\", x = \"MntVegan&Vegetarian\", hue = \"has_Kids\")\n",
    "sns.scatterplot(ax = ax2, data = df, y = \"NumAppPurchases\", x = \"MntVegan&Vegetarian\", hue = \"has_Kids\")\n",
    "sns.scatterplot(ax = ax3, data = df, y = \"NumTakeAwayPurchases\", x = \"MntVegan&Vegetarian\", hue = \"has_Kids\")\n",
    "sns.scatterplot(ax = ax4, data = df, y = \"NumStorePurchases\", x = \"MntVegan&Vegetarian\", hue = \"has_Kids\")\n",
    "sns.scatterplot(ax = ax5, data = df, y = \"NumAppVisitsMonth\", x = \"MntVegan&Vegetarian\", hue = \"has_Kids\")\n",
    "sns.scatterplot(ax = ax6, data = df, y = \"Complain\", x = \"MntVegan&Vegetarian\", hue = \"has_Kids\")"
   ]
  },
  {
   "cell_type": "markdown",
   "metadata": {
    "collapsed": false
   },
   "source": [
    "> **Info** Mnt&Vegetarian\n",
    "- NumberOfferPurchases: The customer who most use **Offers** have has_Kids, and that the majority of money spend is without offers\n",
    "- NumAppPurchases: Customer who used **Food Apps** less than 4 times spend much less money than the rest, customers without has_Kids tend to spend more\n",
    "- NumTakeAway - Customer who ordered **take-away** less than 4 times spend much less money than the rest, and the customer without has_Kids spend more money than the one's with has_Kids.\n",
    "- NumStorePurchases - Again, Customer who went the **store** less than 4 times spend much less money than the rest, and customer without has_Kids tend to spend more\n",
    "- NumAppVisitsMonth - The customers whome have has_Kids visit the restautant in **Food delivery apps** more often (monthly) than the one's without, nevetheless the one's without has_Kids tend to spend more (Here you could try to understand the _**value per visit**_ to try to try to boost the usage of the app from nohas_Kids customer)"
   ]
  },
  {
   "cell_type": "code",
   "execution_count": null,
   "metadata": {
    "collapsed": false
   },
   "outputs": [],
   "source": [
    "fig, ((ax1, ax2), (ax3, ax4), (ax5, ax6)) = plt.subplots(3,2, figsize = (20,16))\n",
    "sns.scatterplot(ax = ax1, data = df, y = \"NumOfferPurchases\", x = \"MntEntries\", hue = \"has_Kids\")\n",
    "sns.scatterplot(ax = ax2, data = df, y = \"NumAppPurchases\", x = \"MntEntries\", hue = \"has_Kids\")\n",
    "sns.scatterplot(ax = ax3, data = df, y = \"NumTakeAwayPurchases\", x = \"MntEntries\", hue = \"has_Kids\")\n",
    "sns.scatterplot(ax = ax4, data = df, y = \"NumStorePurchases\", x = \"MntEntries\", hue = \"has_Kids\")\n",
    "sns.scatterplot(ax = ax5, data = df, y = \"NumAppVisitsMonth\", x = \"MntEntries\", hue = \"has_Kids\")\n",
    "sns.scatterplot(ax = ax6, data = df, y = \"Complain\", x = \"MntEntries\", hue = \"has_Kids\")"
   ]
  },
  {
   "cell_type": "markdown",
   "metadata": {
    "collapsed": false
   },
   "source": [
    "> **Info** MntEntries\n",
    "- NumberOfferPurchases: The customer who most use **Offers** have has_Kids, and that the majority of money spend is without offers\n",
    "- NumAppPurchases: Customer who used **Food Apps** less than 4 times spend much less money than the rest\n",
    "- NumTakeAway - Customer who ordered **take-away** less than 3 times spend much less money than the rest, and the customer without has_Kids spend more money than the one's with has_Kids.\n",
    "- NumStorePurchases - Customer who went the **store** less than 4 times spend much less money than the rest\n",
    "- NumAppVisitsMonth - The customers whome have has_Kids visit the restautant in **Food delivery apps** more often (monthly) than the one's without, nevetheless the one's without has_Kids tend to spend more (Here you could try to understand the _**value per visit**_ to try to try to boost the usage of the app from nohas_Kids customer)"
   ]
  },
  {
   "cell_type": "code",
   "execution_count": null,
   "metadata": {
    "collapsed": false
   },
   "outputs": [],
   "source": [
    "fig, ((ax1, ax2), (ax3, ax4), (ax5, ax6)) = plt.subplots(3,2, figsize = (20,16))\n",
    "sns.scatterplot(ax = ax1, data = df, y = \"NumOfferPurchases\", x = \"MntDrinks\", hue = \"has_Kids\")\n",
    "sns.scatterplot(ax = ax2, data = df, y = \"NumAppPurchases\", x = \"MntDrinks\", hue = \"has_Kids\")\n",
    "sns.scatterplot(ax = ax3, data = df, y = \"NumTakeAwayPurchases\", x = \"MntDrinks\", hue = \"has_Kids\")\n",
    "sns.scatterplot(ax = ax4, data = df, y = \"NumStorePurchases\", x = \"MntDrinks\", hue = \"has_Kids\")\n",
    "sns.scatterplot(ax = ax5, data = df, y = \"NumAppVisitsMonth\", x = \"MntDrinks\", hue = \"has_Kids\")\n",
    "sns.scatterplot(ax = ax6, data = df, y = \"Complain\", x = \"MntDrinks\", hue = \"has_Kids\")"
   ]
  },
  {
   "cell_type": "markdown",
   "metadata": {
    "collapsed": false
   },
   "source": [
    "**Info** MntDrinks\n",
    "- NumberOfferPurchases: The customer who most use Offers have has_Kids, and that the majority of money spend is without offers\n",
    "- NumAppPurchases: Customer who used Food Apps less than 4 times spend much less money than the rest\n",
    "- NumTakeAway - Customer who ordered take-away less than 3 times spend much less money than the rest, and the customer without has_Kids spend more money and order more often than the one’s with has_Kids.\n",
    "- NumStorePurchases - Customer who went the store less than 4 times spend much less money than the rest\n",
    "- NumAppVisitsMonth - The customers whome have has_Kids visit the restautant in Food delivery apps more often (monthly) than the one’s without, nevetheless the one’s without has_Kids tend to spend more (Here you could try to understand the value per visit to try to try to boost the usage of the app from nohas_Kids customer)"
   ]
  },
  {
   "cell_type": "code",
   "execution_count": null,
   "metadata": {
    "collapsed": false
   },
   "outputs": [],
   "source": [
    "fig, ((ax1, ax2), (ax3, ax4), (ax5, ax6)) = plt.subplots(3,2, figsize = (20,16))\n",
    "sns.scatterplot(ax = ax1, data = df, y = \"NumOfferPurchases\", x = \"MntDesserts\", hue = \"has_Kids\")\n",
    "sns.scatterplot(ax = ax2, data = df, y = \"NumAppPurchases\", x = \"MntDesserts\", hue = \"has_Kids\")\n",
    "sns.scatterplot(ax = ax3, data = df, y = \"NumTakeAwayPurchases\", x = \"MntDesserts\", hue = \"has_Kids\")\n",
    "sns.scatterplot(ax = ax4, data = df, y = \"NumStorePurchases\", x = \"MntDesserts\", hue = \"has_Kids\")\n",
    "sns.scatterplot(ax = ax5, data = df, y = \"NumAppVisitsMonth\", x = \"MntDesserts\", hue = \"has_Kids\")\n",
    "sns.scatterplot(ax = ax6, data = df, y = \"Complain\", x = \"MntDesserts\", hue = \"has_Kids\")"
   ]
  },
  {
   "cell_type": "markdown",
   "metadata": {
    "collapsed": false
   },
   "source": [
    "**Info** MntDesserts\n",
    "- NumberOfferPurchases: The customer who most use Offers have has_Kids, and that the majority of money spend is without offers\n",
    "- NumAppPurchases: Customer who used Food Apps less than 4 times spend much less money than the rest\n",
    "- NumTakeAway - Customer who ordered take-away less than 3 times spend much less money than the rest, and the customer without has_Kids spend more money and order more often than the one’s with has_Kids.\n",
    "- NumStorePurchases - Customer who went the store less than 4 times spend much less money than the rest\n",
    "- NumAppVisitsMonth - The customers whome have has_Kids visit the restautant in Food delivery apps more often (monthly) than the one’s without, nevetheless the one’s without has_Kids tend to spend more (Here you could try to understand the value per visit to try to try to boost the usage of the app from nohas_Kids customer)"
   ]
  },
  {
   "cell_type": "code",
   "execution_count": null,
   "metadata": {
    "collapsed": false
   },
   "outputs": [],
   "source": [
    "fig, ((ax1, ax2), (ax3, ax4), (ax5, ax6)) = plt.subplots(3,2, figsize = (20,16))\n",
    "sns.scatterplot(ax = ax1, data = df, y = \"NumOfferPurchases\", x = \"MntAdditionalRequests\", hue = \"has_Kids\")\n",
    "sns.scatterplot(ax = ax2, data = df, y = \"NumAppPurchases\", x = \"MntAdditionalRequests\", hue = \"has_Kids\")\n",
    "sns.scatterplot(ax = ax3, data = df, y = \"NumTakeAwayPurchases\", x = \"MntAdditionalRequests\", hue = \"has_Kids\")\n",
    "sns.scatterplot(ax = ax4, data = df, y = \"NumStorePurchases\", x = \"MntAdditionalRequests\", hue = \"has_Kids\")\n",
    "sns.scatterplot(ax = ax5, data = df, y = \"NumAppVisitsMonth\", x = \"MntAdditionalRequests\", hue = \"has_Kids\")\n",
    "sns.scatterplot(ax = ax6, data = df, y = \"Complain\", x = \"MntAdditionalRequests\", hue = \"has_Kids\")"
   ]
  },
  {
   "cell_type": "markdown",
   "metadata": {
    "collapsed": false
   },
   "source": [
    "**Info** MntAdditionaalRequests\n",
    "- NumberOfferPurchases: The customer who most use Offers have has_Kids, and that the majority of money spend is without offers\n",
    "- NumAppPurchases: Customer who used Food Apps less than 4 times spend much less money than the rest, and customers with has_Kids do it more often\n",
    "- NumTakeAway - Customer who ordered take-away less than 3 times spend much less money than the rest, and the customer without has_Kids spend more money and order more often than the one’s with has_Kids.\n",
    "- NumStorePurchases - Customer who went the store less than 4 times spend much less money than the rest\n",
    "- NumAppVisitsMonth - The customers whome have has_Kids visit the restautant in Food delivery apps more often (monthly) than the one’s without (Here you could try to understand the value per visit to try to try to boost the usage of the app from nohas_Kids customer)"
   ]
  },
  {
   "cell_type": "markdown",
   "metadata": {
    "collapsed": false
   },
   "source": [
    "### Number of Purchases visualization"
   ]
  },
  {
   "cell_type": "code",
   "execution_count": null,
   "metadata": {
    "collapsed": false
   },
   "outputs": [],
   "source": [
    "fig, ((ax1, ax2),(ax3,ax4),(ax5,ax6)) = plt.subplots(3,2, figsize = (20,16))\n",
    "sns.histplot(ax = ax1, data = df, x = 'NumOfferPurchases', color=\"g\")\n",
    "sns.histplot(ax = ax2, data = df, x = 'NumAppPurchases', color=\"b\")\n",
    "sns.histplot(ax = ax3, data = df, x = 'NumTakeAwayPurchases', color=\"r\")\n",
    "sns.histplot(ax = ax4, data = df, x = 'NumStorePurchases', color=\"y\")\n",
    "sns.histplot(ax = ax5, data = df, x = 'NumAppVisitsMonth', color=\"k\")\n",
    "sns.countplot(ax = ax6, data = df, x = 'Complain', color=\"c\")"
   ]
  },
  {
   "cell_type": "code",
   "execution_count": null,
   "metadata": {
    "collapsed": false
   },
   "outputs": [],
   "source": [
    "fig, ((ax1, ax2), (ax3, ax4), (ax5, ax6)) = plt.subplots(3,2, figsize = (20,16))\n",
    "sns.scatterplot(ax = ax1, data = df, y = \"NumOfferPurchases\", x = \"Income\", hue = \"Gender\")\n",
    "sns.scatterplot(ax = ax2, data = df, y = \"NumAppPurchases\", x = \"Income\", hue = \"Gender\")\n",
    "sns.scatterplot(ax = ax3, data = df, y = \"NumTakeAwayPurchases\", x = \"Income\", hue = \"Gender\")\n",
    "sns.scatterplot(ax = ax4, data = df, y = \"NumStorePurchases\", x = \"Income\", hue = \"Gender\")\n",
    "sns.scatterplot(ax = ax5, data = df, y = \"NumAppVisitsMonth\", x = \"Income\", hue = \"Gender\")\n",
    "sns.scatterplot(ax = ax6, data = df, y = \"Complain\", x = \"Income\", hue = \"Gender\")"
   ]
  },
  {
   "cell_type": "code",
   "execution_count": null,
   "metadata": {
    "collapsed": false
   },
   "outputs": [],
   "source": [
    "fig, ((ax1, ax2), (ax3, ax4), (ax5, ax6)) = plt.subplots(3,2, figsize = (20,16))\n",
    "sns.stripplot(ax = ax1, data = df, x = \"NumOfferPurchases\", y = \"Marital_Status\", hue = \"Gender\")\n",
    "sns.stripplot(ax = ax2, data = df, x = \"NumAppPurchases\", y = \"Marital_Status\", hue = \"Gender\")\n",
    "sns.stripplot(ax = ax3, data = df, x = \"NumTakeAwayPurchases\", y = \"Marital_Status\", hue = \"Gender\")\n",
    "sns.stripplot(ax = ax4, data = df, x = \"NumStorePurchases\", y = \"Marital_Status\", hue = \"Gender\")\n",
    "sns.stripplot(ax = ax5, data = df, x = \"NumAppVisitsMonth\", y = \"Marital_Status\", hue = \"Gender\")\n",
    "sns.stripplot(ax = ax6, data = df, x = \"Complain\", y = \"Marital_Status\", hue = \"Gender\")"
   ]
  },
  {
   "cell_type": "markdown",
   "metadata": {
    "collapsed": false
   },
   "source": [
    "#### "
   ]
  },
  {
   "cell_type": "code",
   "execution_count": null,
   "metadata": {
    "collapsed": false
   },
   "outputs": [],
   "source": [
    "df_long = pd.melt(df[['Response_Cmp1', 'Response_Cmp2','Response_Cmp3', 'Response_Cmp4', 'Response_Cmp5']])"
   ]
  },
  {
   "cell_type": "code",
   "execution_count": null,
   "metadata": {
    "collapsed": false
   },
   "outputs": [],
   "source": [
    "sns.countplot(data = df_long, y = 'variable', hue='value')"
   ]
  },
  {
   "cell_type": "code",
   "execution_count": null,
   "metadata": {
    "collapsed": false
   },
   "outputs": [],
   "source": [
    "df.head()"
   ]
  },
  {
   "cell_type": "code",
   "execution_count": null,
   "metadata": {
    "collapsed": false
   },
   "outputs": [],
   "source": [
    "# sns.stripplot(data = df, y = \"has_Kids\", x = \"MntTotal\", hue = \"Response_Cmp1\")"
   ]
  },
  {
   "cell_type": "code",
   "execution_count": null,
   "metadata": {
    "collapsed": false
   },
   "outputs": [],
   "source": []
  },
  {
   "cell_type": "markdown",
   "metadata": {
    "collapsed": false
   },
   "source": [
    "### 2.3.2 Categorical Variables"
   ]
  },
  {
   "cell_type": "code",
   "execution_count": null,
   "metadata": {
    "collapsed": false
   },
   "outputs": [],
   "source": [
    "df.describe(include = \"object\")"
   ]
  },
  {
   "cell_type": "code",
   "execution_count": null,
   "metadata": {
    "collapsed": false
   },
   "outputs": [],
   "source": [
    "sns.countplot(data = df, x = 'Education', order = [\"Basic\",\"HighSchool\", \"Graduation\",\"Master\",\"PhD\"])"
   ]
  },
  {
   "cell_type": "markdown",
   "metadata": {
    "collapsed": false
   },
   "source": [
    "**Question** should we join basic and highschool into undergrate level?"
   ]
  },
  {
   "cell_type": "code",
   "execution_count": null,
   "metadata": {
    "collapsed": false
   },
   "outputs": [],
   "source": [
    "sns.countplot(data = df, x = 'Marital_Status')"
   ]
  },
  {
   "cell_type": "markdown",
   "metadata": {
    "collapsed": false
   },
   "source": [
    "**Question** should we reduce Together and Married into one level?"
   ]
  },
  {
   "cell_type": "code",
   "execution_count": null,
   "metadata": {
    "collapsed": false
   },
   "outputs": [],
   "source": [
    "sns.countplot(data = df, x = 'Gender')"
   ]
  },
  {
   "cell_type": "code",
   "execution_count": null,
   "metadata": {
    "collapsed": false
   },
   "outputs": [],
   "source": [
    "sns.stripplot(data = df, y = \"Education\",x = \"Income\")"
   ]
  },
  {
   "cell_type": "code",
   "execution_count": null,
   "metadata": {
    "collapsed": false
   },
   "outputs": [],
   "source": [
    "sns.stripplot(data = df, y = \"Gender\",x = \"Income\")"
   ]
  },
  {
   "cell_type": "code",
   "execution_count": null,
   "metadata": {
    "collapsed": false
   },
   "outputs": [],
   "source": [
    "sns.stripplot(data = df, y = \"Gender\",x = \"MntTotal\")"
   ]
  },
  {
   "cell_type": "code",
   "execution_count": null,
   "metadata": {
    "collapsed": false
   },
   "outputs": [],
   "source": []
  },
  {
   "cell_type": "markdown",
   "metadata": {
    "collapsed": false
   },
   "source": [
    "## 2.4. In-Depth Exploration"
   ]
  },
  {
   "cell_type": "code",
   "execution_count": null,
   "metadata": {
    "collapsed": false
   },
   "outputs": [],
   "source": []
  },
  {
   "cell_type": "markdown",
   "metadata": {
    "collapsed": false
   },
   "source": [
    "# 3. Preprocess Data"
   ]
  },
  {
   "cell_type": "markdown",
   "metadata": {
    "collapsed": false
   },
   "source": [
    "## 3.1. Data Cleaning"
   ]
  },
  {
   "cell_type": "markdown",
   "metadata": {
    "collapsed": false
   },
   "source": [
    "### 3.1.1. Outliers"
   ]
  },
  {
   "cell_type": "markdown",
   "metadata": {
    "collapsed": false
   },
   "source": [
    "- boxplot?"
   ]
  },
  {
   "cell_type": "markdown",
   "metadata": {
    "collapsed": false
   },
   "source": [
    "### 3.1.2. Missing Values"
   ]
  },
  {
   "cell_type": "code",
   "execution_count": null,
   "metadata": {
    "collapsed": false
   },
   "outputs": [],
   "source": [
    "df[\"Response_Cmp1\"].isna().sum()"
   ]
  },
  {
   "cell_type": "code",
   "execution_count": null,
   "metadata": {
    "collapsed": false
   },
   "outputs": [],
   "source": [
    "df[\"Response_Cmp2\"].isna().sum()"
   ]
  },
  {
   "cell_type": "code",
   "execution_count": null,
   "metadata": {
    "collapsed": false
   },
   "outputs": [],
   "source": [
    "df[\"Response_Cmp3\"].isna().sum()"
   ]
  },
  {
   "cell_type": "code",
   "execution_count": null,
   "metadata": {
    "collapsed": false
   },
   "outputs": [],
   "source": [
    "df[\"Response_Cmp4\"].isna().sum()\n"
   ]
  },
  {
   "cell_type": "code",
   "execution_count": null,
   "metadata": {
    "collapsed": false
   },
   "outputs": [],
   "source": [
    "df.info()"
   ]
  },
  {
   "cell_type": "code",
   "execution_count": null,
   "metadata": {
    "collapsed": false
   },
   "outputs": [],
   "source": [
    "df.isna().sum()"
   ]
  },
  {
   "cell_type": "markdown",
   "metadata": {
    "collapsed": false
   },
   "source": [
    "- **`Education`**, **`Recency`**, **`MntDrinks`** and **`MntTotal`** (due to dependancy of `MntDrinks`) have missing values"
   ]
  },
  {
   "cell_type": "markdown",
   "metadata": {
    "collapsed": false
   },
   "source": [
    "#### Filling the missing values"
   ]
  },
  {
   "cell_type": "markdown",
   "metadata": {
    "collapsed": false
   },
   "source": []
  },
  {
   "cell_type": "markdown",
   "metadata": {
    "collapsed": false
   },
   "source": [
    "Fill `Education` with the mode"
   ]
  },
  {
   "cell_type": "code",
   "execution_count": null,
   "metadata": {
    "collapsed": false
   },
   "outputs": [],
   "source": [
    "df[\"Education\"].fillna(df[\"Education\"].mode()[0], inplace = True)"
   ]
  },
  {
   "cell_type": "markdown",
   "metadata": {
    "collapsed": false
   },
   "source": [
    "Fill `Recency` with the median value"
   ]
  },
  {
   "cell_type": "code",
   "execution_count": null,
   "metadata": {
    "collapsed": false
   },
   "outputs": [],
   "source": [
    "df[\"Recency\"].fillna(df[\"Recency\"].mean(), inplace = True)"
   ]
  },
  {
   "cell_type": "code",
   "execution_count": null,
   "metadata": {
    "collapsed": false
   },
   "outputs": [],
   "source": [
    "df.drop(columns = \"MntTotal\", inplace = True)"
   ]
  },
  {
   "cell_type": "code",
   "execution_count": null,
   "metadata": {
    "collapsed": false
   },
   "outputs": [],
   "source": [
    "df_mnt = df[[ 'MntMeat&Fish', 'MntEntries', 'MntVegan&Vegetarian', 'MntDrinks',\n",
    "       'MntDesserts', 'MntAdditionalRequests']]\n",
    "\n",
    "imputer = KNNImputer(n_neighbors=3)\n",
    "array_impute = imputer.fit_transform(df_mnt)\n",
    "df_mnt = pd.DataFrame(array_impute, columns = df_mnt.columns)"
   ]
  },
  {
   "cell_type": "code",
   "execution_count": null,
   "metadata": {
    "collapsed": false
   },
   "outputs": [],
   "source": [
    "df[\"MntDrinks\"] = df_mnt[\"MntDrinks\"].values"
   ]
  },
  {
   "cell_type": "code",
   "execution_count": null,
   "metadata": {
    "collapsed": false
   },
   "outputs": [],
   "source": [
    "df[\"MntTotal\"] = df['MntMeat&Fish'] + df['MntEntries'] + df['MntVegan&Vegetarian'] + df['MntDrinks'] + df['MntDesserts']"
   ]
  },
  {
   "cell_type": "code",
   "execution_count": null,
   "metadata": {
    "collapsed": false
   },
   "outputs": [],
   "source": [
    "df.isna().sum()"
   ]
  },
  {
   "cell_type": "markdown",
   "metadata": {
    "collapsed": false
   },
   "source": [
    "## 3.2. Data Transformation"
   ]
  },
  {
   "cell_type": "markdown",
   "metadata": {
    "collapsed": false
   },
   "source": [
    "### 3.2.1. Create new Variables"
   ]
  },
  {
   "cell_type": "markdown",
   "metadata": {
    "collapsed": false
   },
   "source": [
    "### Utils"
   ]
  },
  {
   "cell_type": "markdown",
   "metadata": {
    "collapsed": false
   },
   "source": [
    "#### Creating Age variable from the Birthyear"
   ]
  },
  {
   "cell_type": "code",
   "execution_count": null,
   "metadata": {
    "collapsed": false
   },
   "outputs": [],
   "source": [
    "df['Age'] = df.Birthyear.apply(lambda x: date.today().year-x)"
   ]
  },
  {
   "cell_type": "markdown",
   "id": "a796c176",
   "metadata": {},
   "source": []
  },
  {
   "cell_type": "code",
   "execution_count": null,
   "metadata": {
    "collapsed": false
   },
   "outputs": [],
   "source": [
    "#### Creating card adherence age variable from the Date adherence"
   ]
  },
  {
   "cell_type": "code",
   "execution_count": null,
   "metadata": {
    "collapsed": false
   },
   "outputs": [],
   "source": [
    "from datetime import datetime\n",
    "df = df.replace({\"Date_Adherence\":{\"2/29/2022\": datetime.strptime(\"2022-03-01\", '%Y-%m-%d')}}) #2022 is not a leap year, therefore 29/02/2022 is not a possible day"
   ]
  },
  {
   "cell_type": "code",
   "execution_count": null,
   "metadata": {
    "collapsed": false
   },
   "outputs": [],
   "source": [
    "df['daysAsCardClient'] = df['Date_Adherence'].apply(lambda x: (date.today() - x.date()).days)"
   ]
  },
  {
   "cell_type": "code",
   "execution_count": null,
   "metadata": {
    "collapsed": false
   },
   "outputs": [],
   "source": [
    "edu_encode = pd.get_dummies(df.Education, drop_first= True)\n",
    "df = pd.concat([df, edu_encode], axis = 1)\n",
    "df.drop('Education', axis = 1, inplace = True)"
   ]
  },
  {
   "cell_type": "code",
   "execution_count": null,
   "metadata": {
    "collapsed": false
   },
   "outputs": [],
   "source": [
    "marital_encode = pd.get_dummies(df.Marital_Status, drop_first= True)\n",
    "df = pd.concat([df, marital_encode], axis = 1)\n",
    "df.drop('Marital_Status', axis= 1, inplace = True)"
   ]
  },
  {
   "cell_type": "code",
   "execution_count": null,
   "metadata": {
    "collapsed": false
   },
   "outputs": [],
   "source": [
    "df['Mnt_pday_card']= df.MntTotal/df.daysAsClient"
   ]
  },
  {
   "cell_type": "code",
   "execution_count": null,
   "metadata": {
    "collapsed": false
   },
   "outputs": [],
   "source": []
  },
  {
   "cell_type": "markdown",
   "metadata": {
    "collapsed": false
   },
   "source": [
    "## Data Review\n",
    "\n",
    "Ver a dataframe no seu estado final\n",
    "Drop: Id, name, birthyear, date_adherence, total_kids, mntTotal"
   ]
  },
  {
   "cell_type": "code",
   "execution_count": null,
   "metadata": {
    "collapsed": false
   },
   "outputs": [],
   "source": [
    "df.head()"
   ]
  },
  {
   "cell_type": "code",
   "execution_count": null,
   "metadata": {
    "collapsed": false
   },
   "outputs": [],
   "source": [
    "df.describe()"
   ]
  },
  {
   "cell_type": "code",
   "execution_count": null,
   "metadata": {
    "collapsed": false
   },
   "outputs": [],
   "source": []
  },
  {
   "cell_type": "code",
   "execution_count": null,
   "metadata": {
    "collapsed": false
   },
   "outputs": [],
   "source": [
    "df_train= df.copy()\n",
    "df_train.drop(['Name', 'Birthyear', 'Date_Adherence', 'Total_Kids', 'MntTotal'], axis = 1, inplace = True)"
   ]
  },
  {
   "cell_type": "code",
   "execution_count": null,
   "metadata": {
    "collapsed": false
   },
   "outputs": [],
   "source": [
    "df_train"
   ]
  },
  {
   "cell_type": "markdown",
   "metadata": {
    "collapsed": false
   },
   "source": [
    "## Data scaling\n",
    "min max: income, recency, mnt..., purchases ..., age, daysasClient, mnt per ..."
   ]
  },
  {
   "cell_type": "code",
   "execution_count": null,
   "metadata": {
    "collapsed": false
   },
   "outputs": [],
   "source": [
    "scaler = MinMaxScaler()\n",
    "df_train = pd.DataFrame(scaler.fit_transform(df_train))\n",
    "df_train.describe()"
   ]
  },
  {
   "cell_type": "markdown",
   "metadata": {
    "collapsed": false
   },
   "source": [
    "## PCA"
   ]
  },
  {
   "cell_type": "code",
   "execution_count": null,
   "metadata": {
    "collapsed": false
   },
   "outputs": [],
   "source": [
    "from sklearn.decomposition import PCA\n",
    "from sklearn import preprocessing\n",
    "df_train2 = df_train.copy()\n",
    "scaled_df_train2 = preprocessing.scale(df_train2)\n",
    "pca = PCA(n_components=8)\n",
    "pca.fit(scaled_df_train2)\n",
    "pca_data = pca.transform(scaled_df_train2)\n",
    "per_var = np.round(pca.explained_variance_ratio_*100, decimals=1)\n",
    "labels = ['PC' + str(x) for x in range(1, len(per_var) +1)]\n",
    "plt.bar(x=range(1,len(per_var)+1), height=per_var, tick_label=labels)\n",
    "plt.ylabel('Percentage of Explained Variance')\n",
    "plt.xlabel('Principal Component')\n",
    "plt.title('Scree Plot')\n",
    "plt.figure(figsize=(10,10))\n",
    "plt.show()\n",
    "pca_df = pd.DataFrame(pca_data, columns=labels)\n",
    "pca_df"
   ]
  },
  {
   "cell_type": "code",
   "execution_count": null,
   "metadata": {
    "collapsed": false
   },
   "outputs": [],
   "source": [
    "loading_scores = pd.Series(pca.components_[0], index=labels)\n",
    "sorted_loading_scores= loading_scores.abs().sort_values(ascending=False)\n",
    "top_8 = sorted_loading_scores.index.values\n",
    "print(loading_scores[top_8])\n"
   ]
  },
  {
   "cell_type": "markdown",
   "metadata": {
    "collapsed": false
   },
   "source": [
    "## Model Train"
   ]
  },
  {
   "cell_type": "code",
   "execution_count": null,
   "metadata": {
    "collapsed": false
   },
   "outputs": [],
   "source": [
    "from sklearn.cluster import KMeans\n",
    "\n",
    "kmeans= KMeans(n_clusters = 6, max_iter =100, random_state= 1)\n",
    "kmeans.fit(df_train)\n",
    "kmeans.labels_"
   ]
  },
  {
   "cell_type": "markdown",
   "id": "cd1fb8d0",
   "metadata": {},
   "source": [
    "### 3.2.2. Misclassifications"
   ]
  },
  {
   "cell_type": "markdown",
   "id": "bf325433",
   "metadata": {},
   "source": [
    "### 3.2.3. Incoherencies"
   ]
  },
  {
   "cell_type": "code",
   "execution_count": null,
   "id": "cebd13f4",
   "metadata": {},
   "outputs": [],
   "source": []
  },
  {
   "cell_type": "markdown",
   "id": "a70497b0",
   "metadata": {},
   "source": [
    "### 3.2.4. Binning"
   ]
  },
  {
   "cell_type": "markdown",
   "id": "167e07f7",
   "metadata": {},
   "source": [
    "### 3.2.5. Reclassification"
   ]
  },
  {
   "cell_type": "markdown",
   "id": "7385de6b",
   "metadata": {},
   "source": [
    "### 3.2.6. Power Transform"
   ]
  },
  {
   "cell_type": "markdown",
   "id": "91126155",
   "metadata": {},
   "source": [
    "## 3.3. Data Reduction"
   ]
  },
  {
   "cell_type": "markdown",
   "id": "0a1bb4a3",
   "metadata": {},
   "source": [
    "### 3.3.1. Multicollinearity - Check correlation"
   ]
  },
  {
   "cell_type": "markdown",
   "id": "478dd700",
   "metadata": {},
   "source": [
    "### 3.3.2. Unary Variables"
   ]
  },
  {
   "cell_type": "markdown",
   "id": "c2eb07fe",
   "metadata": {},
   "source": [
    "### 3.3.3. Variables with a high percentage of missing values"
   ]
  },
  {
   "cell_type": "markdown",
   "id": "d20c2381",
   "metadata": {},
   "source": [
    "## 3.2. Back to Data Transformation"
   ]
  },
  {
   "cell_type": "markdown",
   "id": "f8c221ce",
   "metadata": {},
   "source": [
    "### 3.2.7. Apply ordinal encoding and create Dummy variables"
   ]
  },
  {
   "cell_type": "markdown",
   "id": "ee645019",
   "metadata": {},
   "source": [
    "### 3.2.8. Scaling"
   ]
  }
 ],
 "metadata": {
  "kernelspec": {
   "display_name": "Python 3 (ipykernel)",
   "language": "python",
   "name": "python3"
  },
  "language_info": {
   "codemirror_mode": {
    "name": "ipython",
    "version": 3
   },
   "file_extension": ".py",
   "mimetype": "text/x-python",
   "name": "python",
   "nbconvert_exporter": "python",
   "pygments_lexer": "ipython3",
   "version": "3.9.13"
  }
 },
 "nbformat": 4,
 "nbformat_minor": 5
}
