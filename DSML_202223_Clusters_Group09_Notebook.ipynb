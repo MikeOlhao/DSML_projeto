{
 "cells": [
  {
   "cell_type": "markdown",
   "id": "7bc87212",
   "metadata": {},
   "source": [
    "### Table of Contents"
   ]
  },
  {
   "cell_type": "markdown",
   "id": "db4075ae",
   "metadata": {},
   "source": [
    "# 1. Import Data"
   ]
  },
  {
   "cell_type": "markdown",
   "id": "24debbce",
   "metadata": {},
   "source": [
    "## 1.1 Import the needed libraries"
   ]
  },
  {
   "cell_type": "code",
   "execution_count": null,
   "outputs": [],
   "source": [
    "import pandas as pd\n",
    "import numpy as np\n",
    "import matplotlib.pyplot as plt\n",
    "import seaborn as sns\n",
    "from datetime import date\n",
    "from scipy.stats import zscore\n",
    "\n",
    "from sklearn.preprocessing import MinMaxScaler\n",
    "from sklearn.impute import KNNImputer\n",
    "from sklearn.cluster import KMeans\n",
    "\n",
    "%matplotlib inline\n",
    "pd.set_option('display.max_columns', None)"
   ],
   "metadata": {
    "collapsed": false
   }
  },
  {
   "cell_type": "markdown",
   "id": "bc474e5f",
   "metadata": {},
   "source": [
    "## 1.2 Import a integrate data"
   ]
  },
  {
   "cell_type": "code",
   "execution_count": null,
   "id": "4acdbaaa",
   "metadata": {},
   "outputs": [],
   "source": [
    "df_crm = pd.read_csv('crm.csv')\n",
    "df_mkt = pd.read_csv('mkt.csv')\n",
    "df_sales = pd.read_excel('sales.xlsx')"
   ]
  },
  {
   "cell_type": "code",
   "execution_count": null,
   "id": "c71a4e04",
   "metadata": {},
   "outputs": [],
   "source": [
    "df = pd.merge(pd.merge(df_crm,df_sales,on='CustomerID',how=\"inner\"),df_mkt,on=\"CustomerID\",how=\"inner\")"
   ]
  },
  {
   "cell_type": "markdown",
   "id": "3659ba1c",
   "metadata": {},
   "source": [
    "## 1.3 Set Index\n"
   ]
  },
  {
   "cell_type": "code",
   "execution_count": null,
   "id": "133e3a1f",
   "metadata": {},
   "outputs": [],
   "source": [
    "df.set_index('CustomerID',inplace = True)"
   ]
  },
  {
   "cell_type": "markdown",
   "id": "7c1102a1",
   "metadata": {},
   "source": [
    "## 1.4 Check and removing duplicates"
   ]
  },
  {
   "cell_type": "code",
   "execution_count": null,
   "id": "e0d3e069",
   "metadata": {},
   "outputs": [],
   "source": [
    "df[df.duplicated()] # checking duplicates"
   ]
  },
  {
   "cell_type": "code",
   "execution_count": null,
   "id": "b97cf554",
   "metadata": {},
   "outputs": [],
   "source": [
    "df = df[~df.duplicated()] # drop duplicates rows"
   ]
  },
  {
   "cell_type": "markdown",
   "id": "7708f19d",
   "metadata": {},
   "source": [
    "# 2. Explore Data"
   ]
  },
  {
   "cell_type": "markdown",
   "metadata": {
    "collapsed": false
   },
   "source": [
    "## 2.0 Data profiling\n",
    "\n",
    "Se não quiserem instalar a biblioteca não corram esta secção. Caso contrário o comando para instalar é pip install ydata-profiling. No final **apagar esta secção**"
   ]
  },
  {
   "cell_type": "code",
   "execution_count": null,
   "metadata": {
    "collapsed": false
   },
   "outputs": [],
   "source": [
    "#from ydata_profiling import ProfileReport\n",
    "#profile= ProfileReport (df, title= \"DSML_Project\")"
   ]
  },
  {
   "cell_type": "code",
   "execution_count": null,
   "metadata": {
    "collapsed": false
   },
   "outputs": [],
   "source": [
    "#profile.to_file('DSML_profile.html')"
   ]
  },
  {
   "cell_type": "markdown",
   "id": "47f0cea9",
   "metadata": {},
   "source": [
    "## 2.1 Basic Exploration"
   ]
  },
  {
   "cell_type": "markdown",
   "id": "7a938300",
   "metadata": {},
   "source": [
    "Q: _To check the number of columns and rows_ we used `shape` _attribute_"
   ]
  },
  {
   "cell_type": "code",
   "execution_count": null,
   "id": "6ee99fa7",
   "metadata": {},
   "outputs": [],
   "source": [
    "df.shape"
   ]
  },
  {
   "cell_type": "markdown",
   "id": "c353f14d",
   "metadata": {},
   "source": [
    "> A: _The dataset has **7000 rows** and **26 columns**_"
   ]
  },
  {
   "cell_type": "markdown",
   "id": "2b265b69",
   "metadata": {},
   "source": [
    "__*Q*__: Check the name of the features of the dataset we used `columns` _attribute_"
   ]
  },
  {
   "cell_type": "code",
   "execution_count": null,
   "id": "df65ab3c",
   "metadata": {},
   "outputs": [],
   "source": [
    "df.columns"
   ]
  },
  {
   "cell_type": "markdown",
   "id": "b0613146",
   "metadata": {},
   "source": [
    "> A: The dataset has the following columns/features names: <br>\n",
    "        >Index. CustomerID\n",
    "        >1. 'Name' <br>\n",
    "        >2. 'Birthyear'<br>\n",
    "        >3. 'Education'<br>\n",
    "        >4. 'Marital_Status'<br>\n",
    "        >5. 'Income'<br>\n",
    "        >6. 'Kid_Younger6'<br>\n",
    "        >7. 'Children_6to18'<br>\n",
    "        >8. 'Date_Adherence'<br>\n",
    "        >9. 'Recency'<br>\n",
    "        >10. 'MntMeat&Fish'<br>\n",
    "        >11. 'MntEntries'<br>\n",
    "        >12. 'MntVegan&Vegetarian'<br>\n",
    "        >13. 'MntDrinks'<br>\n",
    "        >14. 'MntDesserts'<br>\n",
    "        >15. 'MntAdditionalRequests'<br>\n",
    "        >16. 'NumOfferPurchases'<br>\n",
    "        >17. 'NumAppPurchases'<br>\n",
    "        >18. 'NumTakeAwayPurchases'<br>\n",
    "        >19. 'NumStorePurchases'<br>\n",
    "        >20. 'NumAppVisitsMonth'<br>\n",
    "        >21. 'Complain'<br>\n",
    "        >22. 'Response_Cmp1'<br>\n",
    "        >23. 'Response_Cmp2'<br>\n",
    "        >24. 'Response_Cmp3'<br>\n",
    "        >25. 'Response_Cmp4'<br>\n",
    "        >26. 'Response_Cmp5'<br>"
   ]
  },
  {
   "cell_type": "markdown",
   "id": "29734ade",
   "metadata": {},
   "source": [
    "Q: First glance of the dataset using `head` and `tail` methods to check the first and last 5 rows."
   ]
  },
  {
   "cell_type": "code",
   "execution_count": null,
   "id": "3ccf8a80",
   "metadata": {},
   "outputs": [],
   "source": [
    "df.head(3)"
   ]
  },
  {
   "cell_type": "code",
   "execution_count": null,
   "id": "bf42f408",
   "metadata": {},
   "outputs": [],
   "source": [
    "df.tail(3)"
   ]
  },
  {
   "cell_type": "markdown",
   "id": "ced4cb06",
   "metadata": {},
   "source": [
    "Q: To check the basic information of the dataset we've used the `info` method"
   ]
  },
  {
   "cell_type": "code",
   "execution_count": null,
   "id": "cedc7804",
   "metadata": {},
   "outputs": [],
   "source": [
    "df.info()"
   ]
  },
  {
   "cell_type": "markdown",
   "id": "6794da09",
   "metadata": {},
   "source": [
    ">A: We can observe the data type of the dataset and the how many of features per data type  `dtypes: float64 - (7), int64 - (15), object - (4)`, the memory usage of `1.4+MB`, and the non-null values present per columns. <br>\n",
    "> Using only `info` method we understand that `'Education', 'Recency', 'MntDrinks'` have __14, 23, 28 null values__ that require some action."
   ]
  },
  {
   "cell_type": "markdown",
   "id": "87889183",
   "metadata": {},
   "source": [
    "# 2.2 Statistical Exploration"
   ]
  },
  {
   "cell_type": "markdown",
   "id": "849f7658",
   "metadata": {},
   "source": [
    "## 2.2.1 Numerical Variables"
   ]
  },
  {
   "cell_type": "code",
   "execution_count": null,
   "id": "121f1c74",
   "metadata": {},
   "outputs": [],
   "source": [
    "df.describe()"
   ]
  },
  {
   "cell_type": "markdown",
   "metadata": {
    "collapsed": false
   },
   "source": [
    "> _The describe return we can get a first glance and make some conclusion:_\n",
    "\n",
    ">__Birthyear__ - could originate an Age column for readability purposes<br>\n",
    "__Income__ - Min and Max are very far from each other and far from the mean value which could indicate outliers<br>\n",
    "__Recency__ - 6977 valid values, hence we should look in deep and decide on how to minimize that effect of missing values<br>\n",
    "__MntMeat&Fish__ - Min and Max are distant from each other and have high standard deviation which could effect some future conclusion<br>\n",
    "__MntEntries__ - Again has high standard deviation that we should analyze, Min and Max far apart, similar to MntMeat&Fish<br>\n",
    "__MntVegan&Vegetarian__ - Similar to the previous two Mnt columns<br>\n",
    "__MntDrinks, MntDesserts__ - Seems to be very similar between them<br>\n",
    "__MntAdditionalRequests__ - The max value standard deviation seems high and also the max value very far apart from the mean<br>\n",
    "__NumOfferPurchases, NumTakeAwayPurchases, NumAppVisitsMonth__  - Have a max value to distante from the mean that could be true but we need to take into account<br>\n",
    "__NumAppPurchases, SumStorePurchases__ - Seems does not have strange summary statistcs<br>\n",
    "__Kid_Younger6, Children_6to18__ - 75% of clients have at least one child"
   ]
  },
  {
   "cell_type": "markdown",
   "metadata": {
    "collapsed": false
   },
   "source": [
    "**Q**: Skewness of each variable "
   ]
  },
  {
   "cell_type": "code",
   "execution_count": null,
   "metadata": {
    "collapsed": false
   },
   "outputs": [],
   "source": [
    "df.skew()"
   ]
  },
  {
   "cell_type": "markdown",
   "metadata": {
    "collapsed": false
   },
   "source": [
    "Concerning the variables' skewness, we can conclude the following:\n",
    "- `Moderate skewness (between |0.5| and |1.0|)`: Birthyear, Income, Kid_Younger6, Children_6to18, Recency, NumAppPurchases, NumStorePurchases, NumAppVisitsMonth\n",
    "- `High skewness (higher than |1.0|)`: MntMeat&Fish, MntEntries, MntVegan&Vegetarian, MntDrinks, MntDesserts, MntAdditionalRequests, NumOfferPurchases, NumTakeAwayPurchases, Complain, Response_Cmp1, Response_Cmp2, Response_Cmp3, Response_Cmp4, Response_Cmp5"
   ]
  },
  {
   "cell_type": "code",
   "execution_count": null,
   "metadata": {
    "collapsed": false
   },
   "outputs": [],
   "source": [
    "df.kurt()"
   ]
  },
  {
   "cell_type": "markdown",
   "metadata": {
    "collapsed": false
   },
   "source": [
    "Features with kurtosis higher than 3 could indicate presence of outliers, hence we should have special considerantion with the following features:\n",
    ">MntEntries, MntVegan&Vegetarian, MntDrinks, MntDesserts, NumOfferPurchases, NumAppVisitsMonth\n",
    "\n",
    "Note: Binomial Variables Complain, and Response_Cmp1 the kurtosis we will not consider as outliers"
   ]
  },
  {
   "cell_type": "markdown",
   "metadata": {
    "collapsed": false
   },
   "source": [
    "## 2.2.2 Categorical Values"
   ]
  },
  {
   "cell_type": "code",
   "execution_count": null,
   "metadata": {
    "collapsed": false
   },
   "outputs": [],
   "source": [
    "df.describe(include = object)"
   ]
  },
  {
   "cell_type": "markdown",
   "metadata": {
    "collapsed": false
   },
   "source": [
    "> We can conclude that the education as **14 missing** values"
   ]
  },
  {
   "cell_type": "markdown",
   "metadata": {
    "collapsed": false
   },
   "source": [
    "#### Level/Possible values of Categorical Features"
   ]
  },
  {
   "cell_type": "markdown",
   "metadata": {
    "collapsed": false
   },
   "source": [
    "### `Name` prefix unique values and count"
   ]
  },
  {
   "cell_type": "code",
   "execution_count": null,
   "metadata": {
    "collapsed": false
   },
   "outputs": [],
   "source": [
    "df['Name'].str.partition(\" \")[0].value_counts()"
   ]
  },
  {
   "cell_type": "markdown",
   "metadata": {
    "collapsed": false
   },
   "source": [
    "With the prefix we can generate a `gender` feature to further explore the dataset. We will deal with that in the data transformation capther"
   ]
  },
  {
   "cell_type": "markdown",
   "metadata": {
    "collapsed": false
   },
   "source": [
    "#### **`Gender`** feature creation"
   ]
  },
  {
   "cell_type": "code",
   "execution_count": null,
   "metadata": {
    "collapsed": false
   },
   "outputs": [],
   "source": [
    "df[\"Gender\"] = df['Name'].str.partition(\" \")[0]\n",
    "df = df.replace({\"Gender\":{\"Mr.\": 1,\"Miss\": 0,\"Mrs.\": 0}})"
   ]
  },
  {
   "cell_type": "markdown",
   "metadata": {
    "collapsed": false
   },
   "source": [
    "### `Education` unique values and count"
   ]
  },
  {
   "cell_type": "code",
   "execution_count": null,
   "metadata": {
    "collapsed": false
   },
   "outputs": [],
   "source": [
    "df[\"Education\"].value_counts()"
   ]
  },
  {
   "cell_type": "markdown",
   "metadata": {
    "collapsed": false
   },
   "source": [
    "We have some issues that will need trasformatioin:<br>\n",
    "- Graduation, Master, HighSchool are written in different ways<br>\n",
    "- `Basic` and `HighSchool` need different levels?"
   ]
  },
  {
   "cell_type": "markdown",
   "metadata": {
    "collapsed": false
   },
   "source": [
    "#### Education standardization"
   ]
  },
  {
   "cell_type": "code",
   "execution_count": null,
   "metadata": {
    "collapsed": false
   },
   "outputs": [],
   "source": [
    "df = df.replace({\"Education\":{\"master\":\"Master\", \"graduation\":\"Graduation\", \"phd\":\"PhD\",\"highschool\":\"HighSchool\"}})"
   ]
  },
  {
   "cell_type": "markdown",
   "metadata": {
    "collapsed": false
   },
   "source": [
    "### `Marital_Status` unique values and count"
   ]
  },
  {
   "cell_type": "code",
   "execution_count": null,
   "metadata": {
    "collapsed": false
   },
   "outputs": [],
   "source": [
    "df[\"Marital_Status\"].value_counts()"
   ]
  },
  {
   "cell_type": "markdown",
   "metadata": {
    "collapsed": false
   },
   "source": [
    "Similarly to previous feature we also have some issues that need transformation:<br>\n",
    "- Married, Together, Single, Divorced and Widow are written with lower and capital letters\n",
    "- We could also consider that Married and Together are similar and joined them in the same level<br>"
   ]
  },
  {
   "cell_type": "markdown",
   "metadata": {
    "collapsed": false
   },
   "source": [
    "#### Marital_Status standardization"
   ]
  },
  {
   "cell_type": "code",
   "execution_count": null,
   "metadata": {
    "collapsed": false
   },
   "outputs": [],
   "source": [
    "df = df.replace({\"Marital_Status\":{\"married\":\"Married\", \"together\":\"Married\", \"single\":\"Single\",\"widow\":\"Widow\",\"divorced\":\"Divorced\",\"Together\":\"Married\"}})\n",
    "df[\"Marital_Status\"].value_counts()"
   ]
  },
  {
   "cell_type": "markdown",
   "metadata": {
    "collapsed": false
   },
   "source": [
    "`Date_Adherence` unqiue values and count"
   ]
  },
  {
   "cell_type": "code",
   "execution_count": null,
   "metadata": {
    "collapsed": false
   },
   "outputs": [],
   "source": [
    "df[\"Date_Adherence\"].value_counts()"
   ]
  },
  {
   "cell_type": "markdown",
   "metadata": {
    "collapsed": false
   },
   "source": [
    "`Date_Adherence` is a date and will need transformation to a date format for further exploration"
   ]
  },
  {
   "cell_type": "markdown",
   "metadata": {
    "collapsed": false
   },
   "source": [
    "## 2.3 Visual Exploration"
   ]
  },
  {
   "cell_type": "markdown",
   "metadata": {
    "collapsed": false
   },
   "source": [
    "### 2.3.1 Numerical Variables"
   ]
  },
  {
   "cell_type": "code",
   "execution_count": null,
   "metadata": {
    "collapsed": false
   },
   "outputs": [],
   "source": [
    "df_corr = df.corr(method = 'spearman')\n",
    "figure = plt.figure(figsize=(16,10))\n",
    "sns.heatmap(df_corr, annot=True, fmt = '.1g', mask = np.triu(df_corr))"
   ]
  },
  {
   "cell_type": "code",
   "execution_count": null,
   "metadata": {
    "collapsed": false
   },
   "outputs": [],
   "source": [
    "fig, (ax1, ax2) = plt.subplots(1,2, figsize = (10,6))\n",
    "sns.histplot(ax = ax1, data = df, x = 'Birthyear', color=\"c\", bins= 5)\n",
    "sns.histplot(ax = ax2, data = df, x = 'Birthyear', color=\"c\")"
   ]
  },
  {
   "cell_type": "markdown",
   "metadata": {
    "collapsed": false
   },
   "source": [
    "- Birthyear at glance using 5 bins seems to follow a normally distribution shape, althought zooming in we can observe some heavy drops that we should explore further"
   ]
  },
  {
   "cell_type": "code",
   "execution_count": null,
   "metadata": {
    "collapsed": false
   },
   "outputs": [],
   "source": [
    "fig, (ax1, ax2, ax3) = plt.subplots(nrows = 1, ncols = 3, figsize=(10,6), sharex = True, sharey= True)\n",
    "sns.countplot(ax = ax1, data = df, x = 'Kid_Younger6', color=\"y\", alpha = 0.8)\n",
    "sns.countplot(ax = ax2, data = df, x = 'Children_6to18', color=\"m\", alpha = 0.5)\n",
    "sns.countplot(ax = ax3, x = df[\"Kid_Younger6\"]+df[\"Children_6to18\"])\n",
    "plt.xlabel(\"Total number of kids\")"
   ]
  },
  {
   "cell_type": "markdown",
   "metadata": {
    "collapsed": false
   },
   "source": [
    "- Here we can see that the clients majority one child, having either one `Kid_Younger6` or one `Children_6to18` years of age"
   ]
  },
  {
   "cell_type": "code",
   "execution_count": null,
   "metadata": {
    "collapsed": false
   },
   "outputs": [],
   "source": [
    "sns.histplot(data = df['Recency'], color=\"k\", alpha=0.3)"
   ]
  },
  {
   "cell_type": "code",
   "execution_count": null,
   "metadata": {
    "collapsed": false
   },
   "outputs": [],
   "source": [
    "sns.histplot(data = df['Income'], color=\"g\", alpha=0.3)"
   ]
  },
  {
   "cell_type": "markdown",
   "metadata": {
    "collapsed": false
   },
   "source": [
    "- `Income` suggest normal distribution with possible some outliers around 220k of monetary units"
   ]
  },
  {
   "cell_type": "code",
   "execution_count": null,
   "outputs": [],
   "source": [
    "fig, (ax1, ax2) = plt.subplots(1, 2, figsize = (20, 16))\n",
    "ax1.boxplot(df['MntVegan&Vegetarian'])\n",
    "ax2.boxplot(df['Income'])"
   ],
   "metadata": {
    "collapsed": false
   }
  },
  {
   "cell_type": "code",
   "execution_count": null,
   "outputs": [],
   "source": [
    "df.drop(df[abs(zscore(df['MntVegan&Vegetarian'])) > 3].index, inplace=True)\n",
    "df.drop(df[abs(zscore(df['Income'])) > 3].index, inplace=True)"
   ],
   "metadata": {
    "collapsed": false
   }
  },
  {
   "cell_type": "code",
   "execution_count": null,
   "outputs": [],
   "source": [
    "fig, (ax1, ax2) = plt.subplots(1, 2, figsize = (20, 16))\n",
    "ax1.boxplot(df['MntVegan&Vegetarian'])\n",
    "ax2.boxplot(df['Income'])"
   ],
   "metadata": {
    "collapsed": false
   }
  },
  {
   "cell_type": "markdown",
   "metadata": {
    "collapsed": false
   },
   "source": [
    "#### Income vs Gender"
   ]
  },
  {
   "cell_type": "code",
   "execution_count": null,
   "outputs": [],
   "source": [
    "sns.stripplot(data = df, x = \"Income\", y = \"Gender\")"
   ],
   "metadata": {
    "collapsed": false
   }
  },
  {
   "cell_type": "code",
   "execution_count": null,
   "metadata": {
    "collapsed": false
   },
   "outputs": [],
   "source": [
    "fig, ((ax1, ax2),(ax3,ax4),(ax5,ax6)) = plt.subplots(3,2, figsize = (20,16))\n",
    "sns.histplot(ax = ax1, data = df, x = 'MntMeat&Fish', color=\"g\")\n",
    "sns.histplot(ax = ax2, data = df, x = 'MntVegan&Vegetarian', color=\"b\")\n",
    "sns.histplot(ax = ax3, data = df, x = 'MntEntries', color=\"r\")\n",
    "sns.histplot(ax = ax4, data = df, x = 'MntDrinks', color=\"y\")\n",
    "sns.histplot(ax = ax5, data = df, x = 'MntDesserts', color=\"w\")\n",
    "sns.histplot(ax = ax6, data = df, x = 'MntAdditionalRequests', color=\"m\")"
   ]
  },
  {
   "cell_type": "markdown",
   "metadata": {
    "collapsed": false
   },
   "source": [
    "- `MntMeat&Fish` and `MntVegan&Vegatarian` are the categories where customers spend the most\n",
    "- `MntVegan&Vegetarian` seems to have **outliers** above the 15000 price units\n",
    "- All the `Mnt%` variables have a heavy concentration of values on the lower values of monetary units axis"
   ]
  },
  {
   "cell_type": "markdown",
   "metadata": {
    "collapsed": false
   },
   "source": [
    "#### Total Monetary Spend feature creation and display"
   ]
  },
  {
   "cell_type": "code",
   "execution_count": null,
   "metadata": {
    "collapsed": false
   },
   "outputs": [],
   "source": [
    "df[\"MntTotal\"] = df['MntMeat&Fish'] + df['MntEntries'] + df['MntVegan&Vegetarian'] + df['MntDrinks'] + df['MntDesserts'] + df['MntAdditionalRequests']\n",
    "df[\"MntTotal\"]\n",
    "# em falta Mnt Add Requests"
   ]
  },
  {
   "cell_type": "code",
   "execution_count": null,
   "metadata": {
    "collapsed": false
   },
   "outputs": [],
   "source": [
    "sns.histplot(data = df, x = 'MntTotal', color=\"g\")"
   ]
  },
  {
   "cell_type": "code",
   "execution_count": null,
   "metadata": {
    "collapsed": false
   },
   "outputs": [],
   "source": [
    "def scatterplot_list(data: pd.DataFrame, x: list, y: list, hue: str, marker_size: int = 50, figsize: tuple = (10, 6), rug: bool = False, ax: plt.Axes = None):\n",
    "    if ax is None:\n",
    "        num_subplots = len(y) * len(x)\n",
    "        if num_subplots == 1:\n",
    "            fig, axs = plt.subplots(1, 1, figsize=figsize)\n",
    "            axs = [axs]\n",
    "        else:\n",
    "            num_rows = (num_subplots + 1) // 2\n",
    "            num_cols = 2 if num_subplots > 1 else 1\n",
    "            fig, axs = plt.subplots(num_rows, num_cols, figsize=(figsize[0]*num_cols, figsize[1]*num_rows))\n",
    "            axs = axs.ravel()\n",
    "    else:\n",
    "        axs = ax\n",
    "\n",
    "    for i, x_var in enumerate(x):\n",
    "        for j, y_var in enumerate(y):\n",
    "            idx = j * len(x) + i\n",
    "            sns.scatterplot(data=data, x=x_var, y=y_var, hue=hue, s=marker_size, ax=axs[idx], palette='Dark2', label=hue)\n",
    "            axs[idx].set_xlabel(x_var)\n",
    "            axs[idx].set_ylabel(y_var)\n",
    "            axs[idx].legend(loc='upper right')\n",
    "            if rug:\n",
    "                sns.rugplot(data=data, x=x_var, y=y_var, hue=hue, ax=axs[idx], alpha=0.5)\n",
    "\n",
    "    plt.tight_layout()\n",
    "    plt.show()"
   ]
  },
  {
   "cell_type": "markdown",
   "metadata": {
    "collapsed": false
   },
   "source": [
    "#### Scatter plot Monetary vs Income vs Gender"
   ]
  },
  {
   "cell_type": "code",
   "execution_count": null,
   "metadata": {
    "collapsed": false
   },
   "outputs": [],
   "source": [
    "scatterplot_list(data= df, x= ['Income'], y= ['MntTotal'], hue= 'Gender')"
   ]
  },
  {
   "cell_type": "code",
   "execution_count": null,
   "metadata": {
    "collapsed": false
   },
   "outputs": [],
   "source": [
    "fig, ((ax1, ax2), (ax3, ax4), (ax5, ax6)) = plt.subplots(3,2, figsize = (20,16))\n",
    "sns.scatterplot(ax = ax1, data = df, x = \"Income\", y = \"MntMeat&Fish\", hue = \"Gender\")\n",
    "sns.scatterplot(ax = ax2, data = df, x = \"Income\", y = \"MntVegan&Vegetarian\", hue = \"Gender\")\n",
    "sns.scatterplot(ax = ax3, data = df, x = \"Income\", y = \"MntEntries\", hue = \"Gender\")\n",
    "sns.scatterplot(ax = ax4, data = df, x = \"Income\", y = \"MntDrinks\", hue = \"Gender\")\n",
    "sns.scatterplot(ax = ax5, data = df, x = \"Income\", y = \"MntDesserts\", hue = \"Gender\")\n",
    "sns.scatterplot(ax = ax6, data = df, x = \"Income\", y = \"MntAdditionalRequests\", hue = \"Gender\")"
   ]
  },
  {
   "cell_type": "markdown",
   "metadata": {
    "collapsed": false
   },
   "source": [
    "#### Scatter plot the Monetery vs Income vs \"Total of Kids\""
   ]
  },
  {
   "cell_type": "code",
   "execution_count": null,
   "metadata": {
    "collapsed": false
   },
   "outputs": [],
   "source": [
    "df[\"Total_Kids\"] = df[\"Kid_Younger6\"] + df[\"Children_6to18\"]"
   ]
  },
  {
   "cell_type": "code",
   "execution_count": null,
   "metadata": {
    "collapsed": false
   },
   "outputs": [],
   "source": [
    "fig, ((ax1, ax2), (ax3, ax4), (ax5, ax6)) = plt.subplots(3,2, figsize = (20,16))\n",
    "sns.scatterplot(ax = ax1, data = df, x = \"Income\", y = \"MntMeat&Fish\", hue = \"Total_Kids\")\n",
    "sns.scatterplot(ax = ax2, data = df, x = \"Income\", y = \"MntVegan&Vegetarian\", hue = \"Total_Kids\")\n",
    "sns.scatterplot(ax = ax3, data = df, x = \"Income\", y = \"MntEntries\", hue = \"Total_Kids\")\n",
    "sns.scatterplot(ax = ax4, data = df, x = \"Income\", y = \"MntDrinks\", hue = \"Total_Kids\")\n",
    "sns.scatterplot(ax = ax5, data = df, x = \"Income\", y = \"MntDesserts\", hue = \"Total_Kids\")\n",
    "sns.scatterplot(ax = ax6, data = df, x = \"Income\", y = \"MntAdditionalRequests\", hue = \"Total_Kids\")"
   ]
  },
  {
   "cell_type": "markdown",
   "metadata": {
    "collapsed": false
   },
   "source": [
    "- Here we conclude that customer with less kid spend more money in general accross all subcategories\n",
    "- In the `MntVegan&Vegetarian`subcategory the higher spenders are clearly the one's with no children"
   ]
  },
  {
   "cell_type": "markdown",
   "metadata": {
    "collapsed": false
   },
   "source": [
    "#### Scatter plot the Monetery vs Income vs \"Kid_Younger6\""
   ]
  },
  {
   "cell_type": "code",
   "execution_count": null,
   "metadata": {
    "collapsed": false
   },
   "outputs": [],
   "source": [
    "fig, ((ax1, ax2), (ax3, ax4), (ax5, ax6)) = plt.subplots(3,2, figsize = (20,16))\n",
    "sns.scatterplot(ax = ax1, data = df, x = \"Income\", y = \"MntMeat&Fish\", hue = \"Kid_Younger6\")\n",
    "sns.scatterplot(ax = ax2, data = df, x = \"Income\", y = \"MntVegan&Vegetarian\", hue = \"Kid_Younger6\")\n",
    "sns.scatterplot(ax = ax3, data = df, x = \"Income\", y = \"MntEntries\", hue = \"Kid_Younger6\")\n",
    "sns.scatterplot(ax = ax4, data = df, x = \"Income\", y = \"MntDrinks\", hue = \"Kid_Younger6\")\n",
    "sns.scatterplot(ax = ax5, data = df, x = \"Income\", y = \"MntDesserts\", hue = \"Kid_Younger6\")\n",
    "sns.scatterplot(ax = ax6, data = df, x = \"Income\", y = \"MntAdditionalRequests\", hue = \"Kid_Younger6\")"
   ]
  },
  {
   "cell_type": "markdown",
   "metadata": {
    "collapsed": false
   },
   "source": [
    "- Here it's possible to conclude that the subgroup with kids under 6 years spend little money on both `Meat&Fish`and  `Vegan&Vegetarian` that could relate on the fact that younger kids have their own food"
   ]
  },
  {
   "cell_type": "markdown",
   "metadata": {
    "collapsed": false
   },
   "source": [
    "#### Scatter plot the Monetery vs Income vs \"Children_6to18\""
   ]
  },
  {
   "cell_type": "code",
   "execution_count": null,
   "metadata": {
    "collapsed": false
   },
   "outputs": [],
   "source": [
    "fig, ((ax1, ax2), (ax3, ax4), (ax5, ax6)) = plt.subplots(3,2, figsize = (20,16))\n",
    "sns.scatterplot(ax = ax1, data = df, x = \"Income\", y = \"MntMeat&Fish\", hue = \"Children_6to18\")\n",
    "sns.scatterplot(ax = ax2, data = df, x = \"Income\", y = \"MntVegan&Vegetarian\", hue = \"Children_6to18\")\n",
    "sns.scatterplot(ax = ax3, data = df, x = \"Income\", y = \"MntEntries\", hue = \"Children_6to18\")\n",
    "sns.scatterplot(ax = ax4, data = df, x = \"Income\", y = \"MntDrinks\", hue = \"Children_6to18\")\n",
    "sns.scatterplot(ax = ax5, data = df, x = \"Income\", y = \"MntDesserts\", hue = \"Children_6to18\")\n",
    "sns.scatterplot(ax = ax6, data = df, x = \"Income\", y = \"MntAdditionalRequests\", hue = \"Children_6to18\")"
   ]
  },
  {
   "cell_type": "markdown",
   "metadata": {
    "collapsed": false
   },
   "source": [
    "#### Kids boolean variable creation"
   ]
  },
  {
   "cell_type": "code",
   "execution_count": null,
   "metadata": {
    "collapsed": false
   },
   "outputs": [],
   "source": [
    "df[\"has_Kids\"] = df[\"Total_Kids\"].apply(lambda x: 0 if x == 0 else 1)\n",
    "df[\"has_Kids\"]"
   ]
  },
  {
   "cell_type": "markdown",
   "metadata": {
    "collapsed": false
   },
   "source": [
    "#### Income vs Total Monetary vs Kids (Y/N)"
   ]
  },
  {
   "cell_type": "code",
   "execution_count": null,
   "metadata": {
    "collapsed": false
   },
   "outputs": [],
   "source": [
    "sns.scatterplot(data = df, x = \"Income\", y = \"MntTotal\", hue = \"has_Kids\")"
   ]
  },
  {
   "cell_type": "markdown",
   "metadata": {
    "collapsed": false
   },
   "source": [
    "- From this scatterplot we can see that in general costumer without has_Kids spend more money than the one's who have\n",
    "\n",
    "Now let's try to understand in the behavior in the monetary subclasses"
   ]
  },
  {
   "cell_type": "code",
   "execution_count": null,
   "metadata": {
    "collapsed": false
   },
   "outputs": [],
   "source": [
    "fig, ((ax1, ax2), (ax3, ax4), (ax5, ax6)) = plt.subplots(3,2, figsize = (20,16))\n",
    "sns.scatterplot(ax = ax1, data = df, x = \"Income\", y = \"MntMeat&Fish\", hue = \"has_Kids\")\n",
    "sns.scatterplot(ax = ax2, data = df, x = \"Income\", y = \"MntVegan&Vegetarian\", hue = \"has_Kids\")\n",
    "sns.scatterplot(ax = ax3, data = df, x = \"Income\", y = \"MntEntries\", hue = \"has_Kids\")\n",
    "sns.scatterplot(ax = ax4, data = df, x = \"Income\", y = \"MntDrinks\", hue = \"has_Kids\")\n",
    "sns.scatterplot(ax = ax5, data = df, x = \"Income\", y = \"MntDesserts\", hue = \"has_Kids\")\n",
    "sns.scatterplot(ax = ax6, data = df, x = \"Income\", y = \"MntAdditionalRequests\", hue = \"has_Kids\")"
   ]
  },
  {
   "cell_type": "markdown",
   "metadata": {
    "collapsed": false
   },
   "source": [
    "#### Monetary vs Income vs Education"
   ]
  },
  {
   "cell_type": "code",
   "execution_count": null,
   "metadata": {
    "collapsed": false
   },
   "outputs": [],
   "source": [
    "sns.scatterplot(data = df, hue = \"Education\", x = \"MntTotal\", y = \"Income\")\n",
    "sns.rugplot(data = df, hue = \"Education\", x = \"MntTotal\", y = \"Income\")"
   ]
  },
  {
   "cell_type": "code",
   "execution_count": null,
   "metadata": {
    "collapsed": false
   },
   "outputs": [],
   "source": [
    "fig, ((ax1, ax2), (ax3, ax4), (ax5, ax6)) = plt.subplots(3,2, figsize = (20,16))\n",
    "sns.scatterplot(ax = ax1, data = df, hue = \"Education\", x = \"MntMeat&Fish\", y = \"Income\")\n",
    "sns.rugplot(ax = ax1, data = df, hue = \"Education\", x = \"MntMeat&Fish\", y = \"Income\")\n",
    "sns.scatterplot(ax = ax2, data = df, hue = \"Education\", x = \"MntVegan&Vegetarian\", y = \"Income\")\n",
    "sns.rugplot(ax = ax2, data = df, hue = \"Education\", x = \"MntVegan&Vegetarian\", y = \"Income\")\n",
    "sns.scatterplot(ax = ax3, data = df, hue = \"Education\", x = \"MntEntries\", y = \"Income\")\n",
    "sns.rugplot(ax = ax3, data = df, hue = \"Education\", x = \"MntEntries\", y = \"Income\")\n",
    "sns.scatterplot(ax = ax4, data = df, hue = \"Education\", x = \"MntDrinks\", y = \"Income\")\n",
    "sns.rugplot(ax = ax4, data = df, hue = \"Education\", x = \"MntDrinks\", y = \"Income\")\n",
    "sns.scatterplot(ax= ax5, data = df, hue = \"Education\", x = \"MntDesserts\", y = \"Income\")\n",
    "sns.rugplot(ax = ax5, data = df, hue = \"Education\", x = \"MntDesserts\", y = \"Income\")\n",
    "sns.scatterplot(ax = ax6, data = df, hue = \"Education\", x = \"MntAdditionalRequests\", y = \"Income\")\n",
    "sns.rugplot(ax = ax6, data = df, hue = \"Education\", x = \"MntAdditionalRequests\", y = \"Income\")"
   ]
  },
  {
   "cell_type": "markdown",
   "metadata": {
    "collapsed": false
   },
   "source": [
    "#### Monetary vs Education"
   ]
  },
  {
   "cell_type": "code",
   "execution_count": null,
   "metadata": {
    "collapsed": false
   },
   "outputs": [],
   "source": [
    "fig, ((ax1, ax2), (ax3, ax4), (ax5, ax6)) = plt.subplots(3,2, figsize = (20,16))\n",
    "sns.stripplot(ax = ax1, data = df, y = \"Education\",  order = [\"Basic\", \"HighSchool\", \"Graduation\",\"Master\",\"PhD\"],  x = \"MntMeat&Fish\")\n",
    "sns.stripplot(ax = ax2, data = df, y = \"Education\",  order = [\"Basic\", \"HighSchool\", \"Graduation\",\"Master\",\"PhD\"],  x = \"MntVegan&Vegetarian\")\n",
    "sns.stripplot(ax = ax3, data = df, y = \"Education\",  order = [\"Basic\", \"HighSchool\", \"Graduation\",\"Master\",\"PhD\"],  x = \"MntEntries\")\n",
    "sns.stripplot(ax = ax4, data = df, y = \"Education\",  order = [\"Basic\", \"HighSchool\", \"Graduation\",\"Master\",\"PhD\"],  x = \"MntDrinks\")\n",
    "sns.stripplot(ax = ax5, data = df, y = \"Education\",  order = [\"Basic\", \"HighSchool\", \"Graduation\",\"Master\",\"PhD\"],  x = \"MntDesserts\")\n",
    "sns.stripplot(ax = ax6, data = df, y = \"Education\",  order = [\"Basic\", \"HighSchool\", \"Graduation\",\"Master\",\"PhD\"],  x = \"MntAdditionalRequests\")"
   ]
  },
  {
   "cell_type": "markdown",
   "metadata": {
    "collapsed": false
   },
   "source": [
    "#### Marital_Status vs Monetary vs has_Kids"
   ]
  },
  {
   "cell_type": "code",
   "execution_count": null,
   "metadata": {
    "collapsed": false
   },
   "outputs": [],
   "source": [
    "fig, ((ax1, ax2), (ax3, ax4), (ax5, ax6)) = plt.subplots(3,2, figsize = (20,16))\n",
    "sns.scatterplot(ax = ax1, data = df, y = \"Marital_Status\", x = \"MntMeat&Fish\", hue = \"has_Kids\")\n",
    "sns.scatterplot(ax = ax2, data = df, y = \"Marital_Status\", x = \"MntVegan&Vegetarian\", hue = \"has_Kids\")\n",
    "sns.scatterplot(ax = ax3, data = df, y = \"Marital_Status\", x = \"MntEntries\", hue = \"has_Kids\")\n",
    "sns.scatterplot(ax = ax4, data = df, y = \"Marital_Status\", x = \"MntDrinks\", hue = \"has_Kids\")\n",
    "sns.scatterplot(ax = ax5, data = df, y = \"Marital_Status\", x = \"MntDesserts\", hue = \"has_Kids\")\n",
    "sns.scatterplot(ax = ax6, data = df, y = \"Marital_Status\", x = \"MntAdditionalRequests\", hue = \"has_Kids\")"
   ]
  },
  {
   "cell_type": "markdown",
   "metadata": {
    "collapsed": false
   },
   "source": [
    "> No valuable information besides the perception that every `Marital_Status` have has_Kids"
   ]
  },
  {
   "cell_type": "markdown",
   "metadata": {
    "collapsed": false
   },
   "source": [
    "#### Monetary vs Number of Purchases"
   ]
  },
  {
   "cell_type": "code",
   "execution_count": null,
   "metadata": {
    "collapsed": false
   },
   "outputs": [],
   "source": [
    "fig, ((ax1, ax2), (ax3, ax4), (ax5,ax6)) = plt.subplots(3,2, figsize = (20,16))\n",
    "sns.scatterplot(ax = ax1, data = df, y = \"NumOfferPurchases\", x = \"MntTotal\", hue = \"has_Kids\")\n",
    "sns.scatterplot(ax = ax2, data = df, y = \"NumAppPurchases\", x = \"MntTotal\", hue = \"has_Kids\")\n",
    "sns.scatterplot(ax = ax3, data = df, y = \"NumTakeAwayPurchases\", x = \"MntTotal\", hue = \"has_Kids\")\n",
    "sns.scatterplot(ax = ax4, data = df, y = \"NumStorePurchases\", x = \"MntTotal\", hue = \"has_Kids\")\n",
    "sns.scatterplot(ax = ax5, data = df, y = \"NumAppVisitsMonth\", x = \"MntTotal\", hue = \"has_Kids\")\n",
    "sns.scatterplot(ax = ax6, data = df, y = \"Complain\", x = \"MntTotal\", hue = \"has_Kids\")"
   ]
  },
  {
   "cell_type": "markdown",
   "metadata": {
    "collapsed": false
   },
   "source": [
    "> **Info** Mnt Total\n",
    "- NumberOfferPurchases: The customer who most use **Offers** have has_Kids, and that the majority of money spend is without offers\n",
    "- NumAppPurchases: Customer who used **Food Apps** less than 4 times spend much less money than the rest, and the costumers without has_Kids tend to spend more\n",
    "- NumTakeAway - Customer who ordered **take-away** less than 4 times spend much less money than the rest, and the customer without has_Kids spend more money than the one's with has_Kids.\n",
    "- NumStorePurchases - Again, Customer who went the **store** less than 4 times spend much less money than the rest, and customer without has_Kids tend to spend more\n",
    "- NumAppVisitsMonth - The customers who have has_Kids visit the restautant in **Food delivery apps** more often (monthly) than the one's without, nevetheless the one's without has_Kids tend to spend more (Here you could try to understand the _**value per visit**_ to try to boost the usage of the app from nohas_Kids customer)"
   ]
  },
  {
   "cell_type": "code",
   "execution_count": null,
   "metadata": {
    "collapsed": false
   },
   "outputs": [],
   "source": [
    "fig, ((ax1, ax2), (ax3, ax4), (ax5, ax6)) = plt.subplots(3,2, figsize = (20,16))\n",
    "sns.scatterplot(ax = ax1, data = df, y = \"NumOfferPurchases\", x = \"MntMeat&Fish\", hue = \"has_Kids\")\n",
    "sns.scatterplot(ax = ax2, data = df, y = \"NumAppPurchases\", x = \"MntMeat&Fish\", hue = \"has_Kids\")\n",
    "sns.scatterplot(ax = ax3, data = df, y = \"NumTakeAwayPurchases\", x = \"MntMeat&Fish\", hue = \"has_Kids\")\n",
    "sns.scatterplot(ax = ax4, data = df, y = \"NumStorePurchases\", x = \"MntMeat&Fish\", hue = \"has_Kids\")\n",
    "sns.scatterplot(ax = ax5, data = df, y = \"NumAppVisitsMonth\", x = \"MntMeat&Fish\", hue = \"has_Kids\")\n",
    "sns.scatterplot(ax = ax6, data = df, y = \"Complain\", x = \"MntMeat&Fish\", hue = \"has_Kids\")"
   ]
  },
  {
   "cell_type": "markdown",
   "metadata": {
    "collapsed": false
   },
   "source": [
    "> **Info** Meat&Fish\n",
    "- NumberOfferPurchases: The customer who most use **Offers** have has_Kids, and that the majority of money spend is without offers\n",
    "- NumAppPurchases: Customer who used **Food Apps** less than 4 times spend much less money than the rest and the customer without has_Kids tend to spend more\n",
    "- NumTakeAway - Customer who ordered **take-away** less than 4 times spend much less money than the rest, and the customer without has_Kids spend order more take-away more often\n",
    "- NumStorePurchases - Again, Customer who went the **store** less than 4 times spend much less money than the rest\n",
    "- NumAppVisitsMonth - The customers who have has_Kids visit the restautant in **Food delivery apps** more often (monthly) than the one's without, nevetheless the one's without has_Kids tend to spend more (Here you could try to understand the _**value per visit**_ to try to boost the usage of the app from no has_Kids customer)"
   ]
  },
  {
   "cell_type": "code",
   "execution_count": null,
   "metadata": {
    "collapsed": false
   },
   "outputs": [],
   "source": [
    "fig, ((ax1, ax2), (ax3, ax4), (ax5, ax6)) = plt.subplots(3,2, figsize = (20,16))\n",
    "sns.scatterplot(ax = ax1, data = df, y = \"NumOfferPurchases\", x = \"MntVegan&Vegetarian\", hue = \"has_Kids\")\n",
    "sns.scatterplot(ax = ax2, data = df, y = \"NumAppPurchases\", x = \"MntVegan&Vegetarian\", hue = \"has_Kids\")\n",
    "sns.scatterplot(ax = ax3, data = df, y = \"NumTakeAwayPurchases\", x = \"MntVegan&Vegetarian\", hue = \"has_Kids\")\n",
    "sns.scatterplot(ax = ax4, data = df, y = \"NumStorePurchases\", x = \"MntVegan&Vegetarian\", hue = \"has_Kids\")\n",
    "sns.scatterplot(ax = ax5, data = df, y = \"NumAppVisitsMonth\", x = \"MntVegan&Vegetarian\", hue = \"has_Kids\")\n",
    "sns.scatterplot(ax = ax6, data = df, y = \"Complain\", x = \"MntVegan&Vegetarian\", hue = \"has_Kids\")"
   ]
  },
  {
   "cell_type": "markdown",
   "metadata": {
    "collapsed": false
   },
   "source": [
    "> **Info** Mnt&Vegetarian\n",
    "- NumberOfferPurchases: The customer who most use **Offers** have has_Kids, and that the majority of money spend is without offers\n",
    "- NumAppPurchases: Customer who used **Food Apps** less than 4 times spend much less money than the rest, customers without has_Kids tend to spend more\n",
    "- NumTakeAway - Customer who ordered **take-away** less than 4 times spend much less money than the rest, and the customer without has_Kids spend more money than the one's with has_Kids.\n",
    "- NumStorePurchases - Again, Customer who went the **store** less than 4 times spend much less money than the rest, and customer without has_Kids tend to spend more\n",
    "- NumAppVisitsMonth - The customers whome have has_Kids visit the restautant in **Food delivery apps** more often (monthly) than the one's without, nevetheless the one's without has_Kids tend to spend more (Here you could try to understand the _**value per visit**_ to try to try to boost the usage of the app from nohas_Kids customer)"
   ]
  },
  {
   "cell_type": "code",
   "execution_count": null,
   "metadata": {
    "collapsed": false
   },
   "outputs": [],
   "source": [
    "fig, ((ax1, ax2), (ax3, ax4), (ax5, ax6)) = plt.subplots(3,2, figsize = (20,16))\n",
    "sns.scatterplot(ax = ax1, data = df, y = \"NumOfferPurchases\", x = \"MntEntries\", hue = \"has_Kids\")\n",
    "sns.scatterplot(ax = ax2, data = df, y = \"NumAppPurchases\", x = \"MntEntries\", hue = \"has_Kids\")\n",
    "sns.scatterplot(ax = ax3, data = df, y = \"NumTakeAwayPurchases\", x = \"MntEntries\", hue = \"has_Kids\")\n",
    "sns.scatterplot(ax = ax4, data = df, y = \"NumStorePurchases\", x = \"MntEntries\", hue = \"has_Kids\")\n",
    "sns.scatterplot(ax = ax5, data = df, y = \"NumAppVisitsMonth\", x = \"MntEntries\", hue = \"has_Kids\")\n",
    "sns.scatterplot(ax = ax6, data = df, y = \"Complain\", x = \"MntEntries\", hue = \"has_Kids\")"
   ]
  },
  {
   "cell_type": "markdown",
   "metadata": {
    "collapsed": false
   },
   "source": [
    "> **Info** MntEntries\n",
    "- NumberOfferPurchases: The customer who most use **Offers** have has_Kids, and that the majority of money spend is without offers\n",
    "- NumAppPurchases: Customer who used **Food Apps** less than 4 times spend much less money than the rest\n",
    "- NumTakeAway - Customer who ordered **take-away** less than 3 times spend much less money than the rest, and the customer without has_Kids spend more money than the one's with has_Kids.\n",
    "- NumStorePurchases - Customer who went the **store** less than 4 times spend much less money than the rest\n",
    "- NumAppVisitsMonth - The customers whome have has_Kids visit the restautant in **Food delivery apps** more often (monthly) than the one's without, nevetheless the one's without has_Kids tend to spend more (Here you could try to understand the _**value per visit**_ to try to try to boost the usage of the app from nohas_Kids customer)"
   ]
  },
  {
   "cell_type": "code",
   "execution_count": null,
   "metadata": {
    "collapsed": false
   },
   "outputs": [],
   "source": [
    "fig, ((ax1, ax2), (ax3, ax4), (ax5, ax6)) = plt.subplots(3,2, figsize = (20,16))\n",
    "sns.scatterplot(ax = ax1, data = df, y = \"NumOfferPurchases\", x = \"MntDrinks\", hue = \"has_Kids\")\n",
    "sns.scatterplot(ax = ax2, data = df, y = \"NumAppPurchases\", x = \"MntDrinks\", hue = \"has_Kids\")\n",
    "sns.scatterplot(ax = ax3, data = df, y = \"NumTakeAwayPurchases\", x = \"MntDrinks\", hue = \"has_Kids\")\n",
    "sns.scatterplot(ax = ax4, data = df, y = \"NumStorePurchases\", x = \"MntDrinks\", hue = \"has_Kids\")\n",
    "sns.scatterplot(ax = ax5, data = df, y = \"NumAppVisitsMonth\", x = \"MntDrinks\", hue = \"has_Kids\")\n",
    "sns.scatterplot(ax = ax6, data = df, y = \"Complain\", x = \"MntDrinks\", hue = \"has_Kids\")"
   ]
  },
  {
   "cell_type": "markdown",
   "metadata": {
    "collapsed": false
   },
   "source": [
    "**Info** MntDrinks\n",
    "- NumberOfferPurchases: The customer who most use Offers have has_Kids, and that the majority of money spend is without offers\n",
    "- NumAppPurchases: Customer who used Food Apps less than 4 times spend much less money than the rest\n",
    "- NumTakeAway - Customer who ordered take-away less than 3 times spend much less money than the rest, and the customer without has_Kids spend more money and order more often than the one’s with has_Kids.\n",
    "- NumStorePurchases - Customer who went the store less than 4 times spend much less money than the rest\n",
    "- NumAppVisitsMonth - The customers whome have has_Kids visit the restautant in Food delivery apps more often (monthly) than the one’s without, nevetheless the one’s without has_Kids tend to spend more (Here you could try to understand the value per visit to try to try to boost the usage of the app from nohas_Kids customer)"
   ]
  },
  {
   "cell_type": "code",
   "execution_count": null,
   "metadata": {
    "collapsed": false
   },
   "outputs": [],
   "source": [
    "fig, ((ax1, ax2), (ax3, ax4), (ax5, ax6)) = plt.subplots(3,2, figsize = (20,16))\n",
    "sns.scatterplot(ax = ax1, data = df, y = \"NumOfferPurchases\", x = \"MntDesserts\", hue = \"has_Kids\")\n",
    "sns.scatterplot(ax = ax2, data = df, y = \"NumAppPurchases\", x = \"MntDesserts\", hue = \"has_Kids\")\n",
    "sns.scatterplot(ax = ax3, data = df, y = \"NumTakeAwayPurchases\", x = \"MntDesserts\", hue = \"has_Kids\")\n",
    "sns.scatterplot(ax = ax4, data = df, y = \"NumStorePurchases\", x = \"MntDesserts\", hue = \"has_Kids\")\n",
    "sns.scatterplot(ax = ax5, data = df, y = \"NumAppVisitsMonth\", x = \"MntDesserts\", hue = \"has_Kids\")\n",
    "sns.scatterplot(ax = ax6, data = df, y = \"Complain\", x = \"MntDesserts\", hue = \"has_Kids\")"
   ]
  },
  {
   "cell_type": "markdown",
   "metadata": {
    "collapsed": false
   },
   "source": [
    "**Info** MntDesserts\n",
    "- NumberOfferPurchases: The customer who most use Offers have has_Kids, and that the majority of money spend is without offers\n",
    "- NumAppPurchases: Customer who used Food Apps less than 4 times spend much less money than the rest\n",
    "- NumTakeAway - Customer who ordered take-away less than 3 times spend much less money than the rest, and the customer without has_Kids spend more money and order more often than the one’s with has_Kids.\n",
    "- NumStorePurchases - Customer who went the store less than 4 times spend much less money than the rest\n",
    "- NumAppVisitsMonth - The customers whome have has_Kids visit the restautant in Food delivery apps more often (monthly) than the one’s without, nevetheless the one’s without has_Kids tend to spend more (Here you could try to understand the value per visit to try to try to boost the usage of the app from nohas_Kids customer)"
   ]
  },
  {
   "cell_type": "code",
   "execution_count": null,
   "metadata": {
    "collapsed": false
   },
   "outputs": [],
   "source": [
    "fig, ((ax1, ax2), (ax3, ax4), (ax5, ax6)) = plt.subplots(3,2, figsize = (20,16))\n",
    "sns.scatterplot(ax = ax1, data = df, y = \"NumOfferPurchases\", x = \"MntAdditionalRequests\", hue = \"has_Kids\")\n",
    "sns.scatterplot(ax = ax2, data = df, y = \"NumAppPurchases\", x = \"MntAdditionalRequests\", hue = \"has_Kids\")\n",
    "sns.scatterplot(ax = ax3, data = df, y = \"NumTakeAwayPurchases\", x = \"MntAdditionalRequests\", hue = \"has_Kids\")\n",
    "sns.scatterplot(ax = ax4, data = df, y = \"NumStorePurchases\", x = \"MntAdditionalRequests\", hue = \"has_Kids\")\n",
    "sns.scatterplot(ax = ax5, data = df, y = \"NumAppVisitsMonth\", x = \"MntAdditionalRequests\", hue = \"has_Kids\")\n",
    "sns.scatterplot(ax = ax6, data = df, y = \"Complain\", x = \"MntAdditionalRequests\", hue = \"has_Kids\")"
   ]
  },
  {
   "cell_type": "markdown",
   "metadata": {
    "collapsed": false
   },
   "source": [
    "**Info** MntAdditionaalRequests\n",
    "- NumberOfferPurchases: The customer who most use Offers have has_Kids, and that the majority of money spend is without offers\n",
    "- NumAppPurchases: Customer who used Food Apps less than 4 times spend much less money than the rest, and customers with has_Kids do it more often\n",
    "- NumTakeAway - Customer who ordered take-away less than 3 times spend much less money than the rest, and the customer without has_Kids spend more money and order more often than the one’s with has_Kids.\n",
    "- NumStorePurchases - Customer who went the store less than 4 times spend much less money than the rest\n",
    "- NumAppVisitsMonth - The customers whome have has_Kids visit the restautant in Food delivery apps more often (monthly) than the one’s without (Here you could try to understand the value per visit to try to try to boost the usage of the app from nohas_Kids customer)"
   ]
  },
  {
   "cell_type": "markdown",
   "metadata": {
    "collapsed": false
   },
   "source": [
    "### Number of Purchases visualization"
   ]
  },
  {
   "cell_type": "code",
   "execution_count": null,
   "metadata": {
    "collapsed": false
   },
   "outputs": [],
   "source": [
    "fig, ((ax1, ax2),(ax3,ax4),(ax5,ax6)) = plt.subplots(3,2, figsize = (20,16))\n",
    "sns.histplot(ax = ax1, data = df, x = 'NumOfferPurchases', color=\"g\")\n",
    "sns.histplot(ax = ax2, data = df, x = 'NumAppPurchases', color=\"b\")\n",
    "sns.histplot(ax = ax3, data = df, x = 'NumTakeAwayPurchases', color=\"r\")\n",
    "sns.histplot(ax = ax4, data = df, x = 'NumStorePurchases', color=\"y\")\n",
    "sns.histplot(ax = ax5, data = df, x = 'NumAppVisitsMonth', color=\"k\")\n",
    "sns.countplot(ax = ax6, data = df, x = 'Complain', color=\"c\")"
   ]
  },
  {
   "cell_type": "code",
   "execution_count": null,
   "metadata": {
    "collapsed": false
   },
   "outputs": [],
   "source": [
    "fig, ((ax1, ax2), (ax3, ax4), (ax5, ax6)) = plt.subplots(3,2, figsize = (20,16))\n",
    "sns.scatterplot(ax = ax1, data = df, y = \"NumOfferPurchases\", x = \"Income\", hue = \"Gender\")\n",
    "sns.scatterplot(ax = ax2, data = df, y = \"NumAppPurchases\", x = \"Income\", hue = \"Gender\")\n",
    "sns.scatterplot(ax = ax3, data = df, y = \"NumTakeAwayPurchases\", x = \"Income\", hue = \"Gender\")\n",
    "sns.scatterplot(ax = ax4, data = df, y = \"NumStorePurchases\", x = \"Income\", hue = \"Gender\")\n",
    "sns.scatterplot(ax = ax5, data = df, y = \"NumAppVisitsMonth\", x = \"Income\", hue = \"Gender\")\n",
    "sns.scatterplot(ax = ax6, data = df, y = \"Complain\", x = \"Income\", hue = \"Gender\")"
   ]
  },
  {
   "cell_type": "code",
   "execution_count": null,
   "metadata": {
    "collapsed": false
   },
   "outputs": [],
   "source": [
    "fig, ((ax1, ax2), (ax3, ax4), (ax5, ax6)) = plt.subplots(3,2, figsize = (20,16))\n",
    "sns.stripplot(ax = ax1, data = df, x = \"NumOfferPurchases\", y = \"Marital_Status\", hue = \"Gender\")\n",
    "sns.stripplot(ax = ax2, data = df, x = \"NumAppPurchases\", y = \"Marital_Status\", hue = \"Gender\")\n",
    "sns.stripplot(ax = ax3, data = df, x = \"NumTakeAwayPurchases\", y = \"Marital_Status\", hue = \"Gender\")\n",
    "sns.stripplot(ax = ax4, data = df, x = \"NumStorePurchases\", y = \"Marital_Status\", hue = \"Gender\")\n",
    "sns.stripplot(ax = ax5, data = df, x = \"NumAppVisitsMonth\", y = \"Marital_Status\", hue = \"Gender\")\n",
    "sns.stripplot(ax = ax6, data = df, x = \"Complain\", y = \"Marital_Status\", hue = \"Gender\")"
   ]
  },
  {
   "cell_type": "markdown",
   "metadata": {
    "collapsed": false
   },
   "source": [
    "#### "
   ]
  },
  {
   "cell_type": "code",
   "execution_count": null,
   "metadata": {
    "collapsed": false
   },
   "outputs": [],
   "source": [
    "df_long = pd.melt(df[['Response_Cmp1', 'Response_Cmp2','Response_Cmp3', 'Response_Cmp4', 'Response_Cmp5']])"
   ]
  },
  {
   "cell_type": "code",
   "execution_count": null,
   "metadata": {
    "collapsed": false
   },
   "outputs": [],
   "source": [
    "sns.countplot(data = df_long, y = 'variable', hue='value')"
   ]
  },
  {
   "cell_type": "code",
   "execution_count": null,
   "metadata": {
    "collapsed": false
   },
   "outputs": [],
   "source": [
    "df.head()"
   ]
  },
  {
   "cell_type": "code",
   "execution_count": null,
   "metadata": {
    "collapsed": false
   },
   "outputs": [],
   "source": [
    "# sns.stripplot(data = df, y = \"has_Kids\", x = \"MntTotal\", hue = \"Response_Cmp1\")"
   ]
  },
  {
   "cell_type": "markdown",
   "metadata": {
    "collapsed": false
   },
   "source": [
    "### 2.3.2 Categorical Variables"
   ]
  },
  {
   "cell_type": "code",
   "execution_count": null,
   "metadata": {
    "collapsed": false
   },
   "outputs": [],
   "source": [
    "df.describe(include = \"object\")"
   ]
  },
  {
   "cell_type": "code",
   "execution_count": null,
   "metadata": {
    "collapsed": false
   },
   "outputs": [],
   "source": [
    "sns.countplot(data = df, x = 'Education', order = [\"Basic\",\"HighSchool\", \"Graduation\",\"Master\",\"PhD\"])"
   ]
  },
  {
   "cell_type": "markdown",
   "metadata": {
    "collapsed": false
   },
   "source": [
    "**Question** should we join basic and highschool into undergrate level?"
   ]
  },
  {
   "cell_type": "code",
   "execution_count": null,
   "metadata": {
    "collapsed": false
   },
   "outputs": [],
   "source": [
    "sns.countplot(data = df, x = 'Marital_Status')"
   ]
  },
  {
   "cell_type": "markdown",
   "metadata": {
    "collapsed": false
   },
   "source": [
    "**Question** should we reduce Together and Married into one level?"
   ]
  },
  {
   "cell_type": "code",
   "execution_count": null,
   "metadata": {
    "collapsed": false
   },
   "outputs": [],
   "source": [
    "sns.countplot(data = df, x = 'Gender')"
   ]
  },
  {
   "cell_type": "code",
   "execution_count": null,
   "metadata": {
    "collapsed": false
   },
   "outputs": [],
   "source": [
    "sns.stripplot(data = df, y = \"Education\",x = \"Income\")"
   ]
  },
  {
   "cell_type": "code",
   "execution_count": null,
   "metadata": {
    "collapsed": false
   },
   "outputs": [],
   "source": [
    "sns.stripplot(data = df, y = \"Gender\",x = \"Income\")"
   ]
  },
  {
   "cell_type": "code",
   "execution_count": null,
   "metadata": {
    "collapsed": false
   },
   "outputs": [],
   "source": [
    "sns.stripplot(data = df, y = \"Gender\",x = \"MntTotal\")"
   ]
  },
  {
   "cell_type": "code",
   "execution_count": null,
   "metadata": {
    "collapsed": false
   },
   "outputs": [],
   "source": []
  },
  {
   "cell_type": "markdown",
   "metadata": {
    "collapsed": false
   },
   "source": [
    "## 2.4. In-Depth Exploration"
   ]
  },
  {
   "cell_type": "code",
   "execution_count": null,
   "metadata": {
    "collapsed": false
   },
   "outputs": [],
   "source": []
  },
  {
   "cell_type": "markdown",
   "metadata": {
    "collapsed": false
   },
   "source": [
    "# 3. Preprocess Data"
   ]
  },
  {
   "cell_type": "markdown",
   "metadata": {
    "collapsed": false
   },
   "source": [
    "## 3.1. Data Cleaning"
   ]
  },
  {
   "cell_type": "markdown",
   "metadata": {
    "collapsed": false
   },
   "source": [
    "### 3.1.1. Outliers"
   ]
  },
  {
   "cell_type": "markdown",
   "metadata": {
    "collapsed": false
   },
   "source": [
    "- boxplot?"
   ]
  },
  {
   "cell_type": "markdown",
   "metadata": {
    "collapsed": false
   },
   "source": [
    "### 3.1.2. Missing Values"
   ]
  },
  {
   "cell_type": "code",
   "execution_count": null,
   "metadata": {
    "collapsed": false
   },
   "outputs": [],
   "source": [
    "df[\"Response_Cmp1\"].isna().sum()"
   ]
  },
  {
   "cell_type": "code",
   "execution_count": null,
   "metadata": {
    "collapsed": false
   },
   "outputs": [],
   "source": [
    "df[\"Response_Cmp2\"].isna().sum()"
   ]
  },
  {
   "cell_type": "code",
   "execution_count": null,
   "metadata": {
    "collapsed": false
   },
   "outputs": [],
   "source": [
    "df[\"Response_Cmp3\"].isna().sum()"
   ]
  },
  {
   "cell_type": "code",
   "execution_count": null,
   "metadata": {
    "collapsed": false
   },
   "outputs": [],
   "source": [
    "df[\"Response_Cmp4\"].isna().sum()\n"
   ]
  },
  {
   "cell_type": "code",
   "execution_count": null,
   "metadata": {
    "collapsed": false
   },
   "outputs": [],
   "source": [
    "df.info()"
   ]
  },
  {
   "cell_type": "code",
   "execution_count": null,
   "metadata": {
    "collapsed": false
   },
   "outputs": [],
   "source": [
    "df.isna().sum()"
   ]
  },
  {
   "cell_type": "markdown",
   "metadata": {
    "collapsed": false
   },
   "source": [
    "- **`Education`**, **`Recency`**, **`MntDrinks`** and **`MntTotal`** (due to dependancy of `MntDrinks`) have missing values"
   ]
  },
  {
   "cell_type": "markdown",
   "metadata": {
    "collapsed": false
   },
   "source": [
    "#### Filling the missing values"
   ]
  },
  {
   "cell_type": "markdown",
   "metadata": {
    "collapsed": false
   },
   "source": []
  },
  {
   "cell_type": "markdown",
   "metadata": {
    "collapsed": false
   },
   "source": [
    "Fill `Education` with the mode"
   ]
  },
  {
   "cell_type": "code",
   "execution_count": null,
   "metadata": {
    "collapsed": false
   },
   "outputs": [],
   "source": [
    "df[\"Education\"].fillna(df[\"Education\"].mode()[0], inplace = True)"
   ]
  },
  {
   "cell_type": "markdown",
   "metadata": {
    "collapsed": false
   },
   "source": [
    "Fill `Recency` with the median value"
   ]
  },
  {
   "cell_type": "code",
   "execution_count": null,
   "metadata": {
    "collapsed": false
   },
   "outputs": [],
   "source": [
    "df[\"Recency\"].fillna(df[\"Recency\"].mean(), inplace = True)"
   ]
  },
  {
   "cell_type": "code",
   "execution_count": null,
   "metadata": {
    "collapsed": false
   },
   "outputs": [],
   "source": [
    "df.drop(columns = \"MntTotal\", inplace = True)"
   ]
  },
  {
   "cell_type": "code",
   "execution_count": null,
   "metadata": {
    "collapsed": false
   },
   "outputs": [],
   "source": [
    "df_mnt = df[[ 'MntMeat&Fish', 'MntEntries', 'MntVegan&Vegetarian', 'MntDrinks',\n",
    "       'MntDesserts', 'MntAdditionalRequests']]\n",
    "\n",
    "imputer = KNNImputer(n_neighbors=3)\n",
    "array_impute = imputer.fit_transform(df_mnt)\n",
    "df_mnt = pd.DataFrame(array_impute, columns = df_mnt.columns)"
   ]
  },
  {
   "cell_type": "code",
   "execution_count": null,
   "metadata": {
    "collapsed": false
   },
   "outputs": [],
   "source": [
    "df[\"MntDrinks\"] = df_mnt[\"MntDrinks\"].values"
   ]
  },
  {
   "cell_type": "code",
   "execution_count": null,
   "metadata": {
    "collapsed": false
   },
   "outputs": [],
   "source": [
    "df[\"MntTotal\"] = df['MntMeat&Fish'] + df['MntEntries'] + df['MntVegan&Vegetarian'] + df['MntDrinks'] + df['MntDesserts']"
   ]
  },
  {
   "cell_type": "code",
   "execution_count": null,
   "metadata": {
    "collapsed": false
   },
   "outputs": [],
   "source": [
    "df.isna().sum()"
   ]
  },
  {
   "cell_type": "markdown",
   "metadata": {
    "collapsed": false
   },
   "source": [
    "## 3.2. Data Transformation"
   ]
  },
  {
   "cell_type": "markdown",
   "metadata": {
    "collapsed": false
   },
   "source": [
    "### 3.2.1. Create new Variables"
   ]
  },
  {
   "cell_type": "markdown",
   "metadata": {
    "collapsed": false
   },
   "source": [
    "### Utils"
   ]
  },
  {
   "cell_type": "markdown",
   "metadata": {
    "collapsed": false
   },
   "source": [
    "#### Creating Age variable from the Birthyear"
   ]
  },
  {
   "cell_type": "code",
   "execution_count": null,
   "metadata": {
    "collapsed": false
   },
   "outputs": [],
   "source": [
    "df['Age'] = df.Birthyear.apply(lambda x: date.today().year-x)"
   ]
  },
  {
   "cell_type": "markdown",
   "id": "a796c176",
   "metadata": {},
   "source": []
  },
  {
   "cell_type": "code",
   "execution_count": null,
   "metadata": {
    "collapsed": false
   },
   "outputs": [],
   "source": [
    "#### Creating card adherence age variable from the Date adherence"
   ]
  },
  {
   "cell_type": "code",
   "execution_count": null,
   "metadata": {
    "collapsed": false
   },
   "outputs": [],
   "source": [
    "from datetime import datetime\n",
    "df = df.replace({\"Date_Adherence\":{\"2/29/2022\": datetime.strptime(\"2022-03-01\", '%Y-%m-%d')}}) #2022 is not a leap year, therefore 29/02/2022 is not a possible day"
   ]
  },
  {
   "cell_type": "code",
   "execution_count": null,
   "metadata": {
    "collapsed": false
   },
   "outputs": [],
   "source": [
    "df['daysAsCardClient'] = df['Date_Adherence'].apply(lambda x: (date.today() - x.date()).days)"
   ]
  },
  {
   "cell_type": "code",
   "execution_count": null,
   "metadata": {
    "collapsed": false
   },
   "outputs": [],
   "source": [
    "edu_encode = pd.get_dummies(df.Education, drop_first= True)\n",
    "df = pd.concat([df, edu_encode], axis = 1)\n",
    "df.drop('Education', axis = 1, inplace = True)"
   ]
  },
  {
   "cell_type": "code",
   "execution_count": null,
   "metadata": {
    "collapsed": false
   },
   "outputs": [],
   "source": [
    "marital_encode = pd.get_dummies(df.Marital_Status, drop_first= True)\n",
    "df = pd.concat([df, marital_encode], axis = 1)\n",
    "df.drop('Marital_Status', axis= 1, inplace = True)"
   ]
  },
  {
   "cell_type": "code",
   "execution_count": null,
   "metadata": {
    "collapsed": false
   },
   "outputs": [],
   "source": [
    "df['Mnt_pday_card']= df.MntTotal/df.daysAsCardClient"
   ]
  },
  {
   "cell_type": "code",
   "execution_count": null,
   "metadata": {
    "collapsed": false
   },
   "outputs": [],
   "source": [
    "import statistics\n",
    "df[\"Abv_Avg_Mnt\"] = df[\"MntTotal\"].apply(lambda x: 0 if x <= statistics.mean(df[\"MntTotal\"])  else 1)\n",
    "df[\"Abv_Avg_Mnt\"]"
   ]
  },
  {
   "cell_type": "code",
   "execution_count": null,
   "metadata": {
    "collapsed": false
   },
   "outputs": [],
   "source": [
    "df"
   ]
  },
  {
   "cell_type": "markdown",
   "metadata": {
    "collapsed": false
   },
   "source": [
    "## Data Review\n",
    "\n",
    "Ver a dataframe no seu estado final\n",
    "Drop: Id, name, birthyear, date_adherence, total_kids, mntTotal"
   ]
  },
  {
   "cell_type": "code",
   "execution_count": null,
   "metadata": {
    "collapsed": false
   },
   "outputs": [],
   "source": [
    "df.head()"
   ]
  },
  {
   "cell_type": "code",
   "execution_count": null,
   "metadata": {
    "collapsed": false
   },
   "outputs": [],
   "source": [
    "df.describe()"
   ]
  },
  {
   "cell_type": "code",
   "execution_count": null,
   "metadata": {
    "collapsed": false
   },
   "outputs": [],
   "source": []
  },
  {
   "cell_type": "code",
   "execution_count": null,
   "metadata": {
    "collapsed": false
   },
   "outputs": [],
   "source": [
    "df_train= df.copy()\n",
    "df_train.drop(['Name', 'Birthyear', 'Date_Adherence'], axis = 1, inplace = True)"
   ]
  },
  {
   "cell_type": "code",
   "execution_count": null,
   "metadata": {
    "collapsed": false
   },
   "outputs": [],
   "source": [
    "df_train"
   ]
  },
  {
   "cell_type": "markdown",
   "metadata": {
    "collapsed": false
   },
   "source": [
    "## Data scaling\n",
    "min max: income, recency, mnt..., purchases ..., age, daysasClient, mnt per ..."
   ]
  },
  {
   "cell_type": "code",
   "execution_count": null,
   "metadata": {
    "collapsed": false
   },
   "outputs": [],
   "source": [
    "scaler = MinMaxScaler()\n",
    "df_train = pd.DataFrame(scaler.fit_transform(df_train))\n",
    "#df_train.describe()"
   ]
  },
  {
   "cell_type": "markdown",
   "metadata": {
    "collapsed": false
   },
   "source": [
    "## PCA\n"
   ]
  },
  {
   "cell_type": "code",
   "execution_count": null,
   "metadata": {
    "collapsed": false
   },
   "outputs": [],
   "source": [
    "from sklearn.decomposition import PCA\n",
    "from sklearn import preprocessing\n",
    "df_train2 = df_train.copy()\n",
    "scaled_df_train2 = preprocessing.scale(df_train2)\n",
    "pca = PCA(n_components=8)\n",
    "pca.fit(scaled_df_train2)\n",
    "pca_data = pca.transform(scaled_df_train2)\n",
    "per_var = np.round(pca.explained_variance_ratio_*100, decimals=1)\n",
    "labels = ['PC' + str(x) for x in range(1, len(per_var) +1)]\n",
    "plt.plot(per_var,'ro-')\n",
    "plt.ylabel('Percentage of Explained Variance')\n",
    "plt.xlabel('Principal Component')\n",
    "plt.title('Scree Plot')\n",
    "plt.figure(figsize=(10,10))\n",
    "plt.show()\n",
    "pca_df = pd.DataFrame(pca_data, columns=labels)\n",
    "pca_df\n"
   ]
  },
  {
   "cell_type": "code",
   "execution_count": null,
   "metadata": {
    "collapsed": false
   },
   "outputs": [],
   "source": [
    "pca.explained_variance_ratio_.cumsum() # 16PC's explicam 81% da variância"
   ]
  },
  {
   "cell_type": "markdown",
   "source": [
    "A implementação do pca acima pareceu me estranha. deixo aqui outra e quando reunirmos vemos"
   ],
   "metadata": {
    "collapsed": false
   }
  },
  {
   "cell_type": "code",
   "execution_count": null,
   "outputs": [],
   "source": [
    "from sklearn.decomposition import PCA\n",
    "pca = PCA()\n",
    "pca.fit(df_train)\n",
    "var= pca.explained_variance_ratio_\n",
    "var1=np.cumsum(np.round(pca.explained_variance_ratio_, decimals=4)*100)\n",
    "\n",
    "plt.title(\"PCA Variance against num of Componmnets\")\n",
    "plt.ylabel(\"Variance %\")\n",
    "plt.xlabel(\"Number of componments\")\n",
    "l = plt.axhline(80, color=\"red\")\n",
    "\n",
    "plt.plot(var1)\n",
    "plt.grid()"
   ],
   "metadata": {
    "collapsed": false
   }
  },
  {
   "cell_type": "code",
   "execution_count": null,
   "outputs": [],
   "source": [
    "pca = PCA(n_components=10)\n",
    "pca_train=pca.fit_transform(df_train)\n",
    "pca_train"
   ],
   "metadata": {
    "collapsed": false
   }
  },
  {
   "cell_type": "markdown",
   "source": [
    "~17 variaveis explicam 94% da variancia"
   ],
   "metadata": {
    "collapsed": false
   }
  },
  {
   "cell_type": "markdown",
   "metadata": {
    "collapsed": false
   },
   "source": [
    "## Loading Scores for each PC"
   ]
  },
  {
   "cell_type": "code",
   "execution_count": null,
   "metadata": {
    "collapsed": false
   },
   "outputs": [],
   "source": [
    "loading_scores = pd.Series(pca.components_[1], index=df_train2.columns)\n",
    "sorted_loading_scores= loading_scores.abs().sort_values(ascending=False)\n",
    "top_8 = sorted_loading_scores.index.values\n",
    "print(loading_scores[top_8])"
   ]
  },
  {
   "cell_type": "code",
   "execution_count": null,
   "metadata": {
    "collapsed": false
   },
   "outputs": [],
   "source": [
    "plt.figure(figsize=(10,8))\n",
    "plt.scatter(pca_data[:,0],pca_data[:,1],c=df_train['Abv_Avg_Mnt'])\n"
   ]
  },
  {
   "cell_type": "markdown",
   "metadata": {
    "collapsed": false
   },
   "source": [
    "##  Correlação entre PC's e as variáveis originais"
   ]
  },
  {
   "cell_type": "code",
   "execution_count": null,
   "metadata": {
    "collapsed": false
   },
   "outputs": [],
   "source": [
    "df_comp = pd.DataFrame(pca.components_,columns=df_train2.columns)\n",
    "plt.figure(figsize=(10,10))\n",
    "sns.heatmap(df_comp,cmap='plasma')"
   ]
  },
  {
   "cell_type": "markdown",
   "metadata": {
    "collapsed": false
   },
   "source": [
    "## Model Train"
   ]
  },
  {
   "cell_type": "code",
   "execution_count": null,
   "metadata": {
    "collapsed": false
   },
   "outputs": [],
   "source": [
    "kmeans= KMeans(n_clusters = 6, max_iter =100, random_state= 1)\n",
    "kmeans.fit(pca_train)\n",
    "kmeans.labels_"
   ]
  },
  {
   "cell_type": "code",
   "execution_count": null,
   "outputs": [],
   "source": [
    "kmeans2= KMeans(n_clusters = 6, max_iter = 100, random_state = 1)\n",
    "kmeans2.fit(df_train)\n",
    "kmeans.labels_"
   ],
   "metadata": {
    "collapsed": false
   }
  },
  {
   "cell_type": "markdown",
   "id": "cd1fb8d0",
   "metadata": {},
   "source": [
    "### 3.2.2. Misclassifications"
   ]
  },
  {
   "cell_type": "markdown",
   "id": "bf325433",
   "metadata": {},
   "source": [
    "### 3.2.3. Incoherencies"
   ]
  },
  {
   "cell_type": "markdown",
   "id": "e043eb36",
   "metadata": {},
   "source": [
    "> 3.2.3.1 Clients that spent money but never had a registered Purchase"
   ]
  },
  {
   "cell_type": "code",
   "execution_count": null,
   "id": "dbde3154",
   "metadata": {},
   "outputs": [],
   "source": [
    "df[(df[['MntMeat&Fish', 'MntEntries',\n",
    "       'MntVegan&Vegetarian', 'MntDrinks', 'MntDesserts',\n",
    "       'MntAdditionalRequests']].sum(axis = 1) >= 0) & (df[['NumOfferPurchases', 'NumAppPurchases',\n",
    "       'NumTakeAwayPurchases', 'NumStorePurchases']].sum(axis = 1) <= 0)].shape"
   ]
  },
  {
   "cell_type": "markdown",
   "id": "a70497b0",
   "metadata": {},
   "source": [
    "### 3.2.4. Binning"
   ]
  },
  {
   "cell_type": "markdown",
   "id": "167e07f7",
   "metadata": {},
   "source": [
    "### 3.2.5. Reclassification"
   ]
  },
  {
   "cell_type": "markdown",
   "id": "7385de6b",
   "metadata": {},
   "source": [
    "### 3.2.6. Power Transform"
   ]
  },
  {
   "cell_type": "markdown",
   "id": "91126155",
   "metadata": {},
   "source": [
    "## 3.3. Data Reduction"
   ]
  },
  {
   "cell_type": "markdown",
   "id": "0a1bb4a3",
   "metadata": {},
   "source": [
    "### 3.3.1. Multicollinearity - Check correlation"
   ]
  },
  {
   "cell_type": "markdown",
   "id": "478dd700",
   "metadata": {},
   "source": [
    "### 3.3.2. Unary Variables"
   ]
  },
  {
   "cell_type": "markdown",
   "id": "c2eb07fe",
   "metadata": {},
   "source": [
    "### 3.3.3. Variables with a high percentage of missing values"
   ]
  },
  {
   "cell_type": "markdown",
   "id": "d20c2381",
   "metadata": {},
   "source": [
    "## 3.2. Back to Data Transformation"
   ]
  },
  {
   "cell_type": "markdown",
   "id": "f8c221ce",
   "metadata": {},
   "source": [
    "### 3.2.7. Apply ordinal encoding and create Dummy variables"
   ]
  },
  {
   "cell_type": "markdown",
   "id": "ee645019",
   "metadata": {},
   "source": [
    "### 3.2.8. Scaling"
   ]
  }
 ],
 "metadata": {
  "kernelspec": {
   "display_name": "Python 3 (ipykernel)",
   "language": "python",
   "name": "python3"
  },
  "language_info": {
   "codemirror_mode": {
    "name": "ipython",
    "version": 3
   },
   "file_extension": ".py",
   "mimetype": "text/x-python",
   "name": "python",
   "nbconvert_exporter": "python",
   "pygments_lexer": "ipython3",
   "version": "3.9.13"
  }
 },
 "nbformat": 4,
 "nbformat_minor": 5
}
