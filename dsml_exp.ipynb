{
 "cells": [
  {
   "cell_type": "markdown",
   "id": "54d10095",
   "metadata": {},
   "source": [
    "\n",
    "# Ideias\n",
    "\n",
    "Name: passar a coluna name para M/F. **done**\n",
    "Birthyear: bins das decadas?/idade?\n",
    "Education: one hot para a educação/ passar para low, medium high? ? passar minusculas para maiusculas / meter o nan como o valor mais comum? Preencher com k neighbors?\n",
    "Income: Ver se tem valores estranhos. Min max scaling ?\n",
    "Kid_younger6: Ver se tem valores estranhos (floats ou negativos ou nan) / preencher nan com 0?\n",
    "Children_6to18: Ver acima\n",
    "Response_cmp1-4: ver se nao tem nada estranho\n",
    "Date adherence: passar data de adesao para o tempo de adesao? datetime- date adherence\n",
    "Recency: ver se não tem valores estranhos (negativos, floats)\n",
    "Mnt???: ver acima, computar a soma de todos?\n",
    "Num???Purchases: ver acima\n",
    "NumAppVisits: ver se nao tem valores estranhos\n",
    "Complain: ver acima\n",
    "\n",
    "\n"
   ]
  },
  {
   "cell_type": "code",
   "execution_count": 1,
   "outputs": [],
   "source": [
    "import pandas as pd\n",
    "import matplotlib.pyplot as plt\n",
    "import seaborn as sns\n",
    "import re\n",
    "import numpy as np\n",
    "from sklearn.preprocessing import LabelBinarizer\n",
    "from category_encoders.count import CountEncoder"
   ],
   "metadata": {
    "collapsed": false
   }
  },
  {
   "cell_type": "code",
   "execution_count": 2,
   "outputs": [],
   "source": [
    "def model_metrics(y_true, y_pred, name, y_prob= (), prints= False, accuracy= False,\n",
    "                  precision= False, f1= False, hamming_loss= False,\n",
    "                  cohen_kappa= False, matthews_corr= False):\n",
    "    '''Description: This function calculates the evaluation metrics of a machine learning model given the true labels (y_true) and predicted labels (y_pred). The function allows the user to specify which evaluation metrics to calculate and whether to print the results or not. The function returns a list of evaluation metrics, including accuracy, precision, F1 score, Hamming loss, Cohen's kappa score, Matthews correlation coefficient, and the name of the model.\n",
    "\n",
    "    Parameters:\n",
    "        y_true: array-like, true labels of the data;\n",
    "        y_pred: array-like, predicted labels of the data;\n",
    "        name: str, name of the machine learning model;\n",
    "        y_prob: array-like, optional, default (), predicted probabilities of the data (only required for some evaluation metrics)\n",
    "        prints: bool, optional, default False, whether to print the evaluation metrics or not\n",
    "        accuracy: bool, optional, default False, whether to calculate accuracy or not\n",
    "        precision: bool, optional, default False, whether to calculate precision or not\n",
    "        f1: bool, optional, default False, whether to calculate F1 score or not\n",
    "        hamming_loss: bool, optional, default False, whether to calculate Hamming loss or not\n",
    "        cohen_kappa: bool, optional, default False, whether to calculate Cohen's kappa score or not\n",
    "        matthews_corr: bool, optional, default False, whether to calculate Matthews correlation coefficient or not\n",
    "    Returns: a list of evaluation metrics including accuracy, precision, F1 score, Hamming loss, Cohen's kappa score, Matthews correlation coefficient, and the name of the model.\n",
    "    '''\n",
    "    if accuracy:\n",
    "        acc= skm.accuracy_score(y_true, y_pred)\n",
    "    else:\n",
    "        acc= 0\n",
    "    if precision:\n",
    "        prec= skm.precision_score(y_true, y_pred, average= 'weighted')\n",
    "    else:\n",
    "        prec= 0\n",
    "    if f1:\n",
    "        f1score= skm.f1_score(y_true, y_pred, average= 'weighted')\n",
    "    else:\n",
    "        f1score= 0\n",
    "    if hamming_loss:\n",
    "        h_loss= skm.hamming_loss(y_true, y_pred)\n",
    "    else:\n",
    "        h_loss= 0\n",
    "    if cohen_kappa:\n",
    "        ckappa= skm.cohen_kappa_score(y_true, y_pred)\n",
    "    else:\n",
    "        ckappa= 0\n",
    "    if matthews_corr:\n",
    "        mcc= skm.matthews_corrcoef(y_true, y_pred)\n",
    "    else:\n",
    "        mcc= 0\n",
    "    if prints:\n",
    "        if accuracy:\n",
    "            print('The accuracy score is:', acc)\n",
    "        if precision:\n",
    "            print('The precision score is:', prec)\n",
    "        if f1:\n",
    "            print('The F1 score is:', f1score)\n",
    "        if hamming_loss:\n",
    "            print('The Hamming loss is:', h_loss)\n",
    "        if cohen_kappa:\n",
    "            print('Cohens kappa score is:', ckappa)\n",
    "        if matthews_corr:\n",
    "            print('Matthews Correlation Coefficient:', mcc)\n",
    "    return [acc, prec, f1score, h_loss, ckappa, mcc, name]"
   ],
   "metadata": {
    "collapsed": false
   }
  },
  {
   "cell_type": "code",
   "execution_count": 3,
   "outputs": [],
   "source": [
    "def var_plot(x, y, n_fig, plot_type):\n",
    "    pass\n"
   ],
   "metadata": {
    "collapsed": false
   }
  },
  {
   "cell_type": "code",
   "execution_count": 4,
   "outputs": [],
   "source": [
    "crm_df= pd.read_csv(r'crm.csv').sort_values(['CustomerID']).set_index(['CustomerID'])\n",
    "mkt_df= pd.read_csv(r'mkt.csv').sort_values(['CustomerID']).set_index(['CustomerID'])\n",
    "sales_df= pd.read_excel(r'sales.xlsx').sort_values(['CustomerID']).set_index(['CustomerID'])"
   ],
   "metadata": {
    "collapsed": false
   }
  },
  {
   "cell_type": "code",
   "execution_count": 5,
   "outputs": [
    {
     "data": {
      "text/plain": "                             Name  Birthyear   Education Marital_Status  \\\nCustomerID                                                                \n5078             Mr. Isaac Arnold       1969  Graduation       Together   \n5081           Mr. Austin Abraham       1964         PhD       Divorced   \n5084        Mrs. Bernadette Allan       1979      Master       Divorced   \n5087           Mrs. Kylie Russell       1969         PhD       Divorced   \n5090            Mr. Julian Arnold       1975      Master        Married   \n\n              Income  Kid_Younger6  Children_6to18  Response_Cmp1  \\\nCustomerID                                                          \n5078         99861.0             0               0              0   \n5081        124326.0             0               0              0   \n5084         31179.0             1               0              1   \n5087        102929.0             0               1              0   \n5090        101038.0             0               1              0   \n\n            Response_Cmp2  Response_Cmp3  ...  MntVegan&Vegetarian  MntDrinks  \\\nCustomerID                                ...                                   \n5078                    1              0  ...               9240.0     2800.0   \n5081                    0              0  ...               8760.0     1220.0   \n5084                    0              0  ...                150.0        0.0   \n5087                    0              0  ...               2520.0     1060.0   \n5090                    0              0  ...               4770.0      900.0   \n\n           MntDesserts  MntAdditionalRequests  NumOfferPurchases  \\\nCustomerID                                                         \n5078             840.0                   28.0                  1   \n5081             600.0                   30.0                  1   \n5084             200.0                   27.0                  3   \n5087             880.0                  133.0                  3   \n5090             900.0                  216.0                  1   \n\n            NumAppPurchases  NumTakeAwayPurchases  NumStorePurchases  \\\nCustomerID                                                             \n5078                      8                     6                 10   \n5081                      5                     3                  8   \n5084                      4                     3                  2   \n5087                      9                     4                 13   \n5090                     11                     8                 11   \n\n            NumAppVisitsMonth  Complain  \nCustomerID                               \n5078                        4         0  \n5081                        1         0  \n5084                        7         0  \n5087                        5         0  \n5090                        6         0  \n\n[5 rows x 26 columns]",
      "text/html": "<div>\n<style scoped>\n    .dataframe tbody tr th:only-of-type {\n        vertical-align: middle;\n    }\n\n    .dataframe tbody tr th {\n        vertical-align: top;\n    }\n\n    .dataframe thead th {\n        text-align: right;\n    }\n</style>\n<table border=\"1\" class=\"dataframe\">\n  <thead>\n    <tr style=\"text-align: right;\">\n      <th></th>\n      <th>Name</th>\n      <th>Birthyear</th>\n      <th>Education</th>\n      <th>Marital_Status</th>\n      <th>Income</th>\n      <th>Kid_Younger6</th>\n      <th>Children_6to18</th>\n      <th>Response_Cmp1</th>\n      <th>Response_Cmp2</th>\n      <th>Response_Cmp3</th>\n      <th>...</th>\n      <th>MntVegan&amp;Vegetarian</th>\n      <th>MntDrinks</th>\n      <th>MntDesserts</th>\n      <th>MntAdditionalRequests</th>\n      <th>NumOfferPurchases</th>\n      <th>NumAppPurchases</th>\n      <th>NumTakeAwayPurchases</th>\n      <th>NumStorePurchases</th>\n      <th>NumAppVisitsMonth</th>\n      <th>Complain</th>\n    </tr>\n    <tr>\n      <th>CustomerID</th>\n      <th></th>\n      <th></th>\n      <th></th>\n      <th></th>\n      <th></th>\n      <th></th>\n      <th></th>\n      <th></th>\n      <th></th>\n      <th></th>\n      <th></th>\n      <th></th>\n      <th></th>\n      <th></th>\n      <th></th>\n      <th></th>\n      <th></th>\n      <th></th>\n      <th></th>\n      <th></th>\n      <th></th>\n    </tr>\n  </thead>\n  <tbody>\n    <tr>\n      <th>5078</th>\n      <td>Mr. Isaac Arnold</td>\n      <td>1969</td>\n      <td>Graduation</td>\n      <td>Together</td>\n      <td>99861.0</td>\n      <td>0</td>\n      <td>0</td>\n      <td>0</td>\n      <td>1</td>\n      <td>0</td>\n      <td>...</td>\n      <td>9240.0</td>\n      <td>2800.0</td>\n      <td>840.0</td>\n      <td>28.0</td>\n      <td>1</td>\n      <td>8</td>\n      <td>6</td>\n      <td>10</td>\n      <td>4</td>\n      <td>0</td>\n    </tr>\n    <tr>\n      <th>5081</th>\n      <td>Mr. Austin Abraham</td>\n      <td>1964</td>\n      <td>PhD</td>\n      <td>Divorced</td>\n      <td>124326.0</td>\n      <td>0</td>\n      <td>0</td>\n      <td>0</td>\n      <td>0</td>\n      <td>0</td>\n      <td>...</td>\n      <td>8760.0</td>\n      <td>1220.0</td>\n      <td>600.0</td>\n      <td>30.0</td>\n      <td>1</td>\n      <td>5</td>\n      <td>3</td>\n      <td>8</td>\n      <td>1</td>\n      <td>0</td>\n    </tr>\n    <tr>\n      <th>5084</th>\n      <td>Mrs. Bernadette Allan</td>\n      <td>1979</td>\n      <td>Master</td>\n      <td>Divorced</td>\n      <td>31179.0</td>\n      <td>1</td>\n      <td>0</td>\n      <td>1</td>\n      <td>0</td>\n      <td>0</td>\n      <td>...</td>\n      <td>150.0</td>\n      <td>0.0</td>\n      <td>200.0</td>\n      <td>27.0</td>\n      <td>3</td>\n      <td>4</td>\n      <td>3</td>\n      <td>2</td>\n      <td>7</td>\n      <td>0</td>\n    </tr>\n    <tr>\n      <th>5087</th>\n      <td>Mrs. Kylie Russell</td>\n      <td>1969</td>\n      <td>PhD</td>\n      <td>Divorced</td>\n      <td>102929.0</td>\n      <td>0</td>\n      <td>1</td>\n      <td>0</td>\n      <td>0</td>\n      <td>0</td>\n      <td>...</td>\n      <td>2520.0</td>\n      <td>1060.0</td>\n      <td>880.0</td>\n      <td>133.0</td>\n      <td>3</td>\n      <td>9</td>\n      <td>4</td>\n      <td>13</td>\n      <td>5</td>\n      <td>0</td>\n    </tr>\n    <tr>\n      <th>5090</th>\n      <td>Mr. Julian Arnold</td>\n      <td>1975</td>\n      <td>Master</td>\n      <td>Married</td>\n      <td>101038.0</td>\n      <td>0</td>\n      <td>1</td>\n      <td>0</td>\n      <td>0</td>\n      <td>0</td>\n      <td>...</td>\n      <td>4770.0</td>\n      <td>900.0</td>\n      <td>900.0</td>\n      <td>216.0</td>\n      <td>1</td>\n      <td>11</td>\n      <td>8</td>\n      <td>11</td>\n      <td>6</td>\n      <td>0</td>\n    </tr>\n  </tbody>\n</table>\n<p>5 rows × 26 columns</p>\n</div>"
     },
     "execution_count": 5,
     "metadata": {},
     "output_type": "execute_result"
    }
   ],
   "source": [
    "df_join= crm_df.join(mkt_df)\n",
    "df_join= df_join.join(sales_df)\n",
    "df_join.head()"
   ],
   "metadata": {
    "collapsed": false
   }
  },
  {
   "cell_type": "markdown",
   "source": [
    "## Tratamento de dados"
   ],
   "metadata": {
    "collapsed": false
   }
  },
  {
   "cell_type": "markdown",
   "source": [
    "### Name\n",
    "Passar o titulo para a variavel binaria 'Sex' Female: 0, Male: 1 **Done**\n",
    "Ver se tem valores que não façam sentido"
   ],
   "metadata": {
    "collapsed": false
   }
  },
  {
   "cell_type": "code",
   "execution_count": 6,
   "outputs": [],
   "source": [
    "rege= '^(Mrs\\.|Miss|Ms.)\\s.+'\n",
    "df_join['Sex'] = np.where(df_join.Name.str.match(rege), '0', '1') #Female= 0, Male= 1"
   ],
   "metadata": {
    "collapsed": false
   }
  },
  {
   "cell_type": "code",
   "execution_count": 7,
   "outputs": [
    {
     "data": {
      "text/plain": "CustomerID\n5078    1\n5081    1\n5084    0\n5087    0\n5090    1\nName: Sex, dtype: object"
     },
     "execution_count": 7,
     "metadata": {},
     "output_type": "execute_result"
    }
   ],
   "source": [
    "df_join.Sex.head()"
   ],
   "metadata": {
    "collapsed": false
   }
  },
  {
   "cell_type": "markdown",
   "source": [
    "### Birthyear\n",
    "Ver se há nans **done**\n",
    "Converter para idade **done**"
   ],
   "metadata": {
    "collapsed": false
   }
  },
  {
   "cell_type": "code",
   "execution_count": 8,
   "outputs": [
    {
     "data": {
      "text/plain": "0"
     },
     "execution_count": 8,
     "metadata": {},
     "output_type": "execute_result"
    }
   ],
   "source": [
    "df_join.Birthyear.isna().sum()"
   ],
   "metadata": {
    "collapsed": false
   }
  },
  {
   "cell_type": "code",
   "execution_count": 9,
   "outputs": [],
   "source": [
    "from datetime import date\n",
    "df_join['Age']= df_join.Birthyear.apply(lambda x: date.today().year-x)\n",
    "df_join.drop('Birthyear', axis= 1, inplace= True)"
   ],
   "metadata": {
    "collapsed": false
   }
  },
  {
   "cell_type": "code",
   "execution_count": null,
   "outputs": [],
   "source": [
    "df_join.Sex.head()"
   ],
   "metadata": {
    "collapsed": false
   }
  },
  {
   "cell_type": "code",
   "execution_count": 12,
   "outputs": [],
   "source": [],
   "metadata": {
    "collapsed": false
   }
  },
  {
   "cell_type": "markdown",
   "source": [
    "### Education\n",
    "Ver se tem valores não desejáveis **done**\n",
    "Corrigir/Merge as rows com variações **done**\n",
    "Preencher os Nan com a moda (?) **done**\n",
    "Converter com count encoding (?) (A frequencia das classes é bastante diferente por isso nao faz sentido usar ordinal scaling)"
   ],
   "metadata": {
    "collapsed": false
   }
  },
  {
   "cell_type": "code",
   "execution_count": 13,
   "id": "1d1fdc81",
   "metadata": {},
   "outputs": [
    {
     "data": {
      "text/plain": "array(['Graduation', 'PhD', 'Master', 'HighSchool', 'Basic', 'graduation',\n       'master', nan, 'highschool', 'phd'], dtype=object)"
     },
     "execution_count": 13,
     "metadata": {},
     "output_type": "execute_result"
    }
   ],
   "source": [
    "df_join['Education'].unique()"
   ]
  },
  {
   "cell_type": "code",
   "execution_count": 14,
   "outputs": [],
   "source": [
    "edu_dict= {'graduation': 'Graduation', 'master': 'Master', 'phd': 'PhD', 'highschool': 'HighSchool'}\n",
    "df_join.replace({'Education': edu_dict}, inplace= True)"
   ],
   "metadata": {
    "collapsed": false
   }
  },
  {
   "cell_type": "code",
   "execution_count": 15,
   "outputs": [],
   "source": [
    "df_join['Education'].fillna(df_join['Education'].mode()[0], inplace =True)"
   ],
   "metadata": {
    "collapsed": false
   }
  },
  {
   "cell_type": "code",
   "execution_count": 16,
   "outputs": [
    {
     "data": {
      "text/plain": "array(['Graduation', 'PhD', 'Master', 'HighSchool', 'Basic'], dtype=object)"
     },
     "execution_count": 16,
     "metadata": {},
     "output_type": "execute_result"
    }
   ],
   "source": [
    "df_join['Education'].unique()"
   ],
   "metadata": {
    "collapsed": false
   }
  },
  {
   "cell_type": "code",
   "execution_count": 17,
   "outputs": [
    {
     "ename": "NameError",
     "evalue": "name 'sk' is not defined",
     "output_type": "error",
     "traceback": [
      "\u001B[0;31m---------------------------------------------------------------------------\u001B[0m",
      "\u001B[0;31mNameError\u001B[0m                                 Traceback (most recent call last)",
      "\u001B[0;32m/var/folders/zb/r83qxb_974vbg2bs9xjz4yvh0000gp/T/ipykernel_5996/2235467121.py\u001B[0m in \u001B[0;36m<module>\u001B[0;34m\u001B[0m\n\u001B[0;32m----> 1\u001B[0;31m \u001B[0mdf_join\u001B[0m\u001B[0;34m[\u001B[0m\u001B[0;34m'Edu Count'\u001B[0m\u001B[0;34m]\u001B[0m\u001B[0;34m=\u001B[0m \u001B[0msk\u001B[0m\u001B[0;34m.\u001B[0m\u001B[0mca\u001B[0m\u001B[0;34m\u001B[0m\u001B[0;34m\u001B[0m\u001B[0m\n\u001B[0m",
      "\u001B[0;31mNameError\u001B[0m: name 'sk' is not defined"
     ]
    }
   ],
   "source": [
    "df_join['Edu Count']= sk.ca"
   ],
   "metadata": {
    "collapsed": false
   }
  },
  {
   "cell_type": "markdown",
   "source": [
    "## Marital Status\n",
    "Converter minusculas para maiusculas **done**\n",
    "One Hot (?) **done**"
   ],
   "metadata": {
    "collapsed": false
   }
  },
  {
   "cell_type": "code",
   "execution_count": null,
   "outputs": [],
   "source": [
    "df_join['Marital_Status'].unique()"
   ],
   "metadata": {
    "collapsed": false
   }
  },
  {
   "cell_type": "code",
   "execution_count": null,
   "outputs": [],
   "source": [
    "marital_dict= {'together': 'Together', 'divorced': 'Divorced', 'married': 'Married', 'single': 'Single', 'widow': 'Widow'}\n",
    "df_join.replace({'Marital_Status': marital_dict}, inplace= True)"
   ],
   "metadata": {
    "collapsed": false
   }
  },
  {
   "cell_type": "code",
   "execution_count": null,
   "outputs": [],
   "source": [
    "df_join['Marital_Status'].unique()"
   ],
   "metadata": {
    "collapsed": false
   }
  },
  {
   "cell_type": "code",
   "execution_count": null,
   "outputs": [],
   "source": [
    "marital_status_df= pd.get_dummies(df_join.Marital_Status)\n",
    "df_join= df_join.join(pd.DataFrame(marital_status_df)).drop('Marital_Status', axis= 1)"
   ],
   "metadata": {
    "collapsed": false
   }
  },
  {
   "cell_type": "code",
   "execution_count": null,
   "outputs": [],
   "source": [
    "df_join.head()"
   ],
   "metadata": {
    "collapsed": false
   }
  },
  {
   "cell_type": "code",
   "execution_count": null,
   "outputs": [],
   "source": [],
   "metadata": {
    "collapsed": false
   }
  },
  {
   "cell_type": "markdown",
   "source": [
    "## Kid_younger6\n",
    "Ver se tem valores estranhos (floats ou negativos ou nan) <br>\n",
    "Preencher nan com 0? **N/A** <br>"
   ],
   "metadata": {
    "collapsed": false
   }
  },
  {
   "cell_type": "code",
   "execution_count": 45,
   "outputs": [
    {
     "name": "stdout",
     "output_type": "stream",
     "text": [
      "Empty DataFrame\n",
      "Columns: [Name, Education, Marital_Status, Income, Kid_Younger6, Children_6to18, Response_Cmp1, Response_Cmp2, Response_Cmp3, Response_Cmp4, Response_Cmp5, Date_Adherence, Recency, MntMeat&Fish, MntEntries, MntVegan&Vegetarian, MntDrinks, MntDesserts, MntAdditionalRequests, NumOfferPurchases, NumAppPurchases, NumTakeAwayPurchases, NumStorePurchases, NumAppVisitsMonth, Complain, Sex, Age]\n",
      "Index: []\n",
      "\n",
      "[0 rows x 27 columns]\n",
      "False\n",
      "False\n"
     ]
    }
   ],
   "source": [
    "\n",
    "kid_younger6_column = df_join['Kid_Younger6']\n",
    "kid_younger6_lt_zero = df_join[kid_younger6_column< 0]\n",
    "kid_younger6_is_nan = kid_younger6_column.isna().any()\n",
    "kid_younger6_is_float = kid_younger6_column.dtype == float\n",
    "\n",
    "print(kid_younger6_lt_zero) #false\n",
    "print(kid_younger6_is_nan) #false\n",
    "print(kid_younger6_is_float) #false"
   ],
   "metadata": {
    "collapsed": false
   }
  },
  {
   "cell_type": "markdown",
   "source": [
    "## Children_6to18\n",
    "Ver se tem valores estranhos (floats ou negativos ou nan) **done** <br>\n",
    "Preencher nan com 0? **N/A** <br>"
   ],
   "metadata": {
    "collapsed": false
   }
  },
  {
   "cell_type": "code",
   "execution_count": 46,
   "outputs": [
    {
     "name": "stdout",
     "output_type": "stream",
     "text": [
      "Empty DataFrame\n",
      "Columns: [Name, Education, Marital_Status, Income, Kid_Younger6, Children_6to18, Response_Cmp1, Response_Cmp2, Response_Cmp3, Response_Cmp4, Response_Cmp5, Date_Adherence, Recency, MntMeat&Fish, MntEntries, MntVegan&Vegetarian, MntDrinks, MntDesserts, MntAdditionalRequests, NumOfferPurchases, NumAppPurchases, NumTakeAwayPurchases, NumStorePurchases, NumAppVisitsMonth, Complain, Sex, Age]\n",
      "Index: []\n",
      "\n",
      "[0 rows x 27 columns]\n",
      "False\n",
      "False\n"
     ]
    }
   ],
   "source": [
    "children_6to18_column = df_join['Children_6to18']\n",
    "children_6to18_lt_zero = df_join[children_6to18_column< 0]\n",
    "children_6to18_is_nan = children_6to18_column.isna().any()\n",
    "children_6to18_is_float = children_6to18_column.dtype == float\n",
    "\n",
    "print(children_6to18_lt_zero) #false\n",
    "print(children_6to18_is_nan) #false\n",
    "print(children_6to18_is_float) #false"
   ],
   "metadata": {
    "collapsed": false
   }
  }
 ],
 "metadata": {
  "kernelspec": {
   "display_name": "Python 3 (ipykernel)",
   "language": "python",
   "name": "python3"
  },
  "language_info": {
   "codemirror_mode": {
    "name": "ipython",
    "version": 3
   },
   "file_extension": ".py",
   "mimetype": "text/x-python",
   "name": "python",
   "nbconvert_exporter": "python",
   "pygments_lexer": "ipython3",
   "version": "3.10.0"
  }
 },
 "nbformat": 4,
 "nbformat_minor": 5
}
