{
 "cells": [
  {
   "cell_type": "markdown",
   "id": "54d10095",
   "metadata": {},
   "source": [
    "\n",
    "# Ideias\n",
    "\n",
    "Name: passar a coluna name para M/F. **done**\n",
    "Birthyear: bins das decadas?/idade?\n",
    "Education: one hot para a educação/ passar para low, medium high? ? passar minusculas para maiusculas / meter o nan como o valor mais comum? Preencher com k neighbors?\n",
    "Income: Ver se tem valores estranhos. Min max scaling ?\n",
    "Kid_younger6: Ver se tem valores estranhos (floats ou negativos ou nan) / preencher nan com 0?\n",
    "Children_6to18: Ver acima\n",
    "Response_cmp1-4: ver se nao tem nada estranho\n",
    "Date adherence: passar data de adesao para o tempo de adesao? datetime- date adherence\n",
    "Recency: ver se não tem valores estranhos (negativos, floats)\n",
    "Mnt???: ver acima, computar a soma de todos?\n",
    "Num???Purchases: ver acima\n",
    "NumAppVisits: ver se nao tem valores estranhos\n",
    "Complain: ver acima\n",
    "\n",
    "\n"
   ]
  },
  {
   "cell_type": "code",
   "execution_count": 109,
   "outputs": [],
   "source": [
    "import pandas as pd\n",
    "import matplotlib.pyplot as plt\n",
    "import seaborn as sns\n",
    "import re\n",
    "import numpy as np\n",
    "from sklearn import metrics as skm\n",
    "from sklearn.preprocessing import LabelBinarizer\n",
    "from category_encoders.count import CountEncoder\n",
    "#from ydata_profiling import ProfileReport"
   ],
   "metadata": {
    "collapsed": false
   }
  },
  {
   "cell_type": "code",
   "execution_count": 110,
   "outputs": [],
   "source": [
    "def model_metrics(y_true, y_pred, name, y_prob= (), prints= False, accuracy= False,\n",
    "                  precision= False, f1= False, hamming_loss= False,\n",
    "                  cohen_kappa= False, matthews_corr= False):\n",
    "    '''Description: This function calculates the evaluation metrics of a machine learning model given the true labels (y_true) and predicted labels (y_pred). The function allows the user to specify which evaluation metrics to calculate and whether to print the results or not. The function returns a list of evaluation metrics, including accuracy, precision, F1 score, Hamming loss, Cohen's kappa score, Matthews correlation coefficient, and the name of the model.\n",
    "\n",
    "    Parameters:\n",
    "        y_true: array-like, true labels of the data;\n",
    "        y_pred: array-like, predicted labels of the data;\n",
    "        name: str, name of the machine learning model;\n",
    "        y_prob: array-like, optional, default (), predicted probabilities of the data (only required for some evaluation metrics)\n",
    "        prints: bool, optional, default False, whether to print the evaluation metrics or not\n",
    "        accuracy: bool, optional, default False, whether to calculate accuracy or not\n",
    "        precision: bool, optional, default False, whether to calculate precision or not\n",
    "        f1: bool, optional, default False, whether to calculate F1 score or not\n",
    "        hamming_loss: bool, optional, default False, whether to calculate Hamming loss or not\n",
    "        cohen_kappa: bool, optional, default False, whether to calculate Cohen's kappa score or not\n",
    "        matthews_corr: bool, optional, default False, whether to calculate Matthews correlation coefficient or not\n",
    "    Returns: a list of evaluation metrics including accuracy, precision, F1 score, Hamming loss, Cohen's kappa score, Matthews correlation coefficient, and the name of the model.\n",
    "    '''\n",
    "    if accuracy:\n",
    "        acc= skm.accuracy_score(y_true, y_pred)\n",
    "    else:\n",
    "        acc= 0\n",
    "    if precision:\n",
    "        prec= skm.precision_score(y_true, y_pred, average= 'weighted')\n",
    "    else:\n",
    "        prec= 0\n",
    "    if f1:\n",
    "        f1score= skm.f1_score(y_true, y_pred, average= 'weighted')\n",
    "    else:\n",
    "        f1score= 0\n",
    "    if hamming_loss:\n",
    "        h_loss= skm.hamming_loss(y_true, y_pred)\n",
    "    else:\n",
    "        h_loss= 0\n",
    "    if cohen_kappa:\n",
    "        ckappa= skm.cohen_kappa_score(y_true, y_pred)\n",
    "    else:\n",
    "        ckappa= 0\n",
    "    if matthews_corr:\n",
    "        mcc= skm.matthews_corrcoef(y_true, y_pred)\n",
    "    else:\n",
    "        mcc= 0\n",
    "    if prints:\n",
    "        if accuracy:\n",
    "            print('The accuracy score is:', acc)\n",
    "        if precision:\n",
    "            print('The precision score is:', prec)\n",
    "        if f1:\n",
    "            print('The F1 score is:', f1score)\n",
    "        if hamming_loss:\n",
    "            print('The Hamming loss is:', h_loss)\n",
    "        if cohen_kappa:\n",
    "            print('Cohens kappa score is:', ckappa)\n",
    "        if matthews_corr:\n",
    "            print('Matthews Correlation Coefficient:', mcc)\n",
    "    return [acc, prec, f1score, h_loss, ckappa, mcc, name]"
   ],
   "metadata": {
    "collapsed": false
   }
  },
  {
   "cell_type": "code",
   "execution_count": 111,
   "outputs": [],
   "source": [
    "def var_plot(x, y, n_fig, plot_type):\n",
    "    pass\n"
   ],
   "metadata": {
    "collapsed": false
   }
  },
  {
   "cell_type": "code",
   "execution_count": 112,
   "outputs": [],
   "source": [
    "crm_df= pd.read_csv(r'crm.csv').sort_values(['CustomerID']).set_index(['CustomerID'])\n",
    "mkt_df= pd.read_csv(r'mkt.csv').sort_values(['CustomerID']).set_index(['CustomerID'])\n",
    "sales_df= pd.read_excel(r'sales.xlsx').sort_values(['CustomerID']).set_index(['CustomerID'])"
   ],
   "metadata": {
    "collapsed": false
   }
  },
  {
   "cell_type": "code",
   "execution_count": 113,
   "outputs": [
    {
     "data": {
      "text/plain": "                             Name  Birthyear   Education Marital_Status  \\\nCustomerID                                                                \n5078             Mr. Isaac Arnold       1969  Graduation       Together   \n5081           Mr. Austin Abraham       1964         PhD       Divorced   \n5084        Mrs. Bernadette Allan       1979      Master       Divorced   \n5087           Mrs. Kylie Russell       1969         PhD       Divorced   \n5090            Mr. Julian Arnold       1975      Master        Married   \n\n              Income  Kid_Younger6  Children_6to18  Response_Cmp1  \\\nCustomerID                                                          \n5078         99861.0             0               0              0   \n5081        124326.0             0               0              0   \n5084         31179.0             1               0              1   \n5087        102929.0             0               1              0   \n5090        101038.0             0               1              0   \n\n            Response_Cmp2  Response_Cmp3  ...  MntVegan&Vegetarian  MntDrinks  \\\nCustomerID                                ...                                   \n5078                    1              0  ...               9240.0     2800.0   \n5081                    0              0  ...               8760.0     1220.0   \n5084                    0              0  ...                150.0        0.0   \n5087                    0              0  ...               2520.0     1060.0   \n5090                    0              0  ...               4770.0      900.0   \n\n           MntDesserts  MntAdditionalRequests  NumOfferPurchases  \\\nCustomerID                                                         \n5078             840.0                   28.0                  1   \n5081             600.0                   30.0                  1   \n5084             200.0                   27.0                  3   \n5087             880.0                  133.0                  3   \n5090             900.0                  216.0                  1   \n\n            NumAppPurchases  NumTakeAwayPurchases  NumStorePurchases  \\\nCustomerID                                                             \n5078                      8                     6                 10   \n5081                      5                     3                  8   \n5084                      4                     3                  2   \n5087                      9                     4                 13   \n5090                     11                     8                 11   \n\n            NumAppVisitsMonth  Complain  \nCustomerID                               \n5078                        4         0  \n5081                        1         0  \n5084                        7         0  \n5087                        5         0  \n5090                        6         0  \n\n[5 rows x 26 columns]",
      "text/html": "<div>\n<style scoped>\n    .dataframe tbody tr th:only-of-type {\n        vertical-align: middle;\n    }\n\n    .dataframe tbody tr th {\n        vertical-align: top;\n    }\n\n    .dataframe thead th {\n        text-align: right;\n    }\n</style>\n<table border=\"1\" class=\"dataframe\">\n  <thead>\n    <tr style=\"text-align: right;\">\n      <th></th>\n      <th>Name</th>\n      <th>Birthyear</th>\n      <th>Education</th>\n      <th>Marital_Status</th>\n      <th>Income</th>\n      <th>Kid_Younger6</th>\n      <th>Children_6to18</th>\n      <th>Response_Cmp1</th>\n      <th>Response_Cmp2</th>\n      <th>Response_Cmp3</th>\n      <th>...</th>\n      <th>MntVegan&amp;Vegetarian</th>\n      <th>MntDrinks</th>\n      <th>MntDesserts</th>\n      <th>MntAdditionalRequests</th>\n      <th>NumOfferPurchases</th>\n      <th>NumAppPurchases</th>\n      <th>NumTakeAwayPurchases</th>\n      <th>NumStorePurchases</th>\n      <th>NumAppVisitsMonth</th>\n      <th>Complain</th>\n    </tr>\n    <tr>\n      <th>CustomerID</th>\n      <th></th>\n      <th></th>\n      <th></th>\n      <th></th>\n      <th></th>\n      <th></th>\n      <th></th>\n      <th></th>\n      <th></th>\n      <th></th>\n      <th></th>\n      <th></th>\n      <th></th>\n      <th></th>\n      <th></th>\n      <th></th>\n      <th></th>\n      <th></th>\n      <th></th>\n      <th></th>\n      <th></th>\n    </tr>\n  </thead>\n  <tbody>\n    <tr>\n      <th>5078</th>\n      <td>Mr. Isaac Arnold</td>\n      <td>1969</td>\n      <td>Graduation</td>\n      <td>Together</td>\n      <td>99861.0</td>\n      <td>0</td>\n      <td>0</td>\n      <td>0</td>\n      <td>1</td>\n      <td>0</td>\n      <td>...</td>\n      <td>9240.0</td>\n      <td>2800.0</td>\n      <td>840.0</td>\n      <td>28.0</td>\n      <td>1</td>\n      <td>8</td>\n      <td>6</td>\n      <td>10</td>\n      <td>4</td>\n      <td>0</td>\n    </tr>\n    <tr>\n      <th>5081</th>\n      <td>Mr. Austin Abraham</td>\n      <td>1964</td>\n      <td>PhD</td>\n      <td>Divorced</td>\n      <td>124326.0</td>\n      <td>0</td>\n      <td>0</td>\n      <td>0</td>\n      <td>0</td>\n      <td>0</td>\n      <td>...</td>\n      <td>8760.0</td>\n      <td>1220.0</td>\n      <td>600.0</td>\n      <td>30.0</td>\n      <td>1</td>\n      <td>5</td>\n      <td>3</td>\n      <td>8</td>\n      <td>1</td>\n      <td>0</td>\n    </tr>\n    <tr>\n      <th>5084</th>\n      <td>Mrs. Bernadette Allan</td>\n      <td>1979</td>\n      <td>Master</td>\n      <td>Divorced</td>\n      <td>31179.0</td>\n      <td>1</td>\n      <td>0</td>\n      <td>1</td>\n      <td>0</td>\n      <td>0</td>\n      <td>...</td>\n      <td>150.0</td>\n      <td>0.0</td>\n      <td>200.0</td>\n      <td>27.0</td>\n      <td>3</td>\n      <td>4</td>\n      <td>3</td>\n      <td>2</td>\n      <td>7</td>\n      <td>0</td>\n    </tr>\n    <tr>\n      <th>5087</th>\n      <td>Mrs. Kylie Russell</td>\n      <td>1969</td>\n      <td>PhD</td>\n      <td>Divorced</td>\n      <td>102929.0</td>\n      <td>0</td>\n      <td>1</td>\n      <td>0</td>\n      <td>0</td>\n      <td>0</td>\n      <td>...</td>\n      <td>2520.0</td>\n      <td>1060.0</td>\n      <td>880.0</td>\n      <td>133.0</td>\n      <td>3</td>\n      <td>9</td>\n      <td>4</td>\n      <td>13</td>\n      <td>5</td>\n      <td>0</td>\n    </tr>\n    <tr>\n      <th>5090</th>\n      <td>Mr. Julian Arnold</td>\n      <td>1975</td>\n      <td>Master</td>\n      <td>Married</td>\n      <td>101038.0</td>\n      <td>0</td>\n      <td>1</td>\n      <td>0</td>\n      <td>0</td>\n      <td>0</td>\n      <td>...</td>\n      <td>4770.0</td>\n      <td>900.0</td>\n      <td>900.0</td>\n      <td>216.0</td>\n      <td>1</td>\n      <td>11</td>\n      <td>8</td>\n      <td>11</td>\n      <td>6</td>\n      <td>0</td>\n    </tr>\n  </tbody>\n</table>\n<p>5 rows × 26 columns</p>\n</div>"
     },
     "execution_count": 113,
     "metadata": {},
     "output_type": "execute_result"
    }
   ],
   "source": [
    "df_join= crm_df.join(mkt_df)\n",
    "df_join= df_join.join(sales_df)\n",
    "df_join.head()"
   ],
   "metadata": {
    "collapsed": false
   }
  },
  {
   "cell_type": "code",
   "execution_count": 114,
   "outputs": [],
   "source": [
    "df_join = df_join[~df_join.duplicated()] # drop duplicates rows"
   ],
   "metadata": {
    "collapsed": false
   }
  },
  {
   "cell_type": "code",
   "execution_count": 115,
   "outputs": [],
   "source": [
    "#profile = ProfileReport(df_join, title=\"Profiling Report\")"
   ],
   "metadata": {
    "collapsed": false
   }
  },
  {
   "cell_type": "code",
   "execution_count": 116,
   "outputs": [],
   "source": [
    "#profile.to_file(\"dsml.html\")"
   ],
   "metadata": {
    "collapsed": false
   }
  },
  {
   "cell_type": "markdown",
   "source": [
    "## Tratamento de dados"
   ],
   "metadata": {
    "collapsed": false
   }
  },
  {
   "cell_type": "markdown",
   "source": [
    "### Name\n",
    "Passar o titulo para a variavel binaria 'Sex' Female: 0, Male: 1 **Done**\n",
    "Ver se tem valores que não façam sentido"
   ],
   "metadata": {
    "collapsed": false
   }
  },
  {
   "cell_type": "code",
   "execution_count": 117,
   "outputs": [],
   "source": [
    "rege= '^(Mrs\\.|Miss)\\s.+'\n",
    "df_join['Sex'] = np.where(df_join.Name.str.match(rege), '0', '1') #Female= 0, Male= 1"
   ],
   "metadata": {
    "collapsed": false
   }
  },
  {
   "cell_type": "code",
   "execution_count": 118,
   "outputs": [
    {
     "data": {
      "text/plain": "CustomerID\n5078    1\n5081    1\n5084    0\n5087    0\n5090    1\nName: Sex, dtype: object"
     },
     "execution_count": 118,
     "metadata": {},
     "output_type": "execute_result"
    }
   ],
   "source": [
    "df_join.Sex.head()"
   ],
   "metadata": {
    "collapsed": false
   }
  },
  {
   "cell_type": "markdown",
   "source": [
    "### Birthyear\n",
    "Ver se há nans **done**\n",
    "Converter para idade **done**"
   ],
   "metadata": {
    "collapsed": false
   }
  },
  {
   "cell_type": "code",
   "execution_count": 119,
   "outputs": [
    {
     "data": {
      "text/plain": "0"
     },
     "execution_count": 119,
     "metadata": {},
     "output_type": "execute_result"
    }
   ],
   "source": [
    "df_join.Birthyear.isna().sum()"
   ],
   "metadata": {
    "collapsed": false
   }
  },
  {
   "cell_type": "code",
   "execution_count": 120,
   "outputs": [],
   "source": [
    "from datetime import date\n",
    "df_join['Age']= df_join.Birthyear.apply(lambda x: date.today().year-x)\n",
    "df_join.drop('Birthyear', axis= 1, inplace= True)"
   ],
   "metadata": {
    "collapsed": false
   }
  },
  {
   "cell_type": "code",
   "execution_count": 121,
   "outputs": [
    {
     "data": {
      "text/plain": "CustomerID\n5078    54\n5081    59\n5084    44\n5087    54\n5090    48\nName: Age, dtype: int64"
     },
     "execution_count": 121,
     "metadata": {},
     "output_type": "execute_result"
    }
   ],
   "source": [
    "df_join.Age.head()"
   ],
   "metadata": {
    "collapsed": false
   }
  },
  {
   "cell_type": "code",
   "execution_count": 121,
   "outputs": [],
   "source": [],
   "metadata": {
    "collapsed": false
   }
  },
  {
   "cell_type": "markdown",
   "source": [
    "### Education\n",
    "Ver se tem valores não desejáveis **done**\n",
    "Corrigir/Merge as rows com variações **done**\n",
    "Preencher os Nan com a moda (?) **done**\n",
    "Converter com count encoding (?) (A frequencia das classes é bastante diferente por isso nao faz sentido usar ordinal scaling)"
   ],
   "metadata": {
    "collapsed": false
   }
  },
  {
   "cell_type": "code",
   "execution_count": 122,
   "id": "1d1fdc81",
   "metadata": {},
   "outputs": [
    {
     "data": {
      "text/plain": "array(['Graduation', 'PhD', 'Master', 'HighSchool', 'Basic', 'graduation',\n       'master', nan, 'highschool', 'phd'], dtype=object)"
     },
     "execution_count": 122,
     "metadata": {},
     "output_type": "execute_result"
    }
   ],
   "source": [
    "df_join['Education'].unique()"
   ]
  },
  {
   "cell_type": "code",
   "execution_count": 123,
   "outputs": [],
   "source": [
    "edu_dict= {'graduation': 'Graduation', 'master': 'Master', 'phd': 'PhD', 'highschool': 'HighSchool'}\n",
    "df_join.replace({'Education': edu_dict}, inplace= True)"
   ],
   "metadata": {
    "collapsed": false
   }
  },
  {
   "cell_type": "code",
   "execution_count": 124,
   "outputs": [],
   "source": [
    "df_join['Education'].fillna(df_join['Education'].mode()[0], inplace =True)"
   ],
   "metadata": {
    "collapsed": false
   }
  },
  {
   "cell_type": "code",
   "execution_count": 125,
   "outputs": [
    {
     "data": {
      "text/plain": "array(['Graduation', 'PhD', 'Master', 'HighSchool', 'Basic'], dtype=object)"
     },
     "execution_count": 125,
     "metadata": {},
     "output_type": "execute_result"
    }
   ],
   "source": [
    "df_join['Education'].unique()"
   ],
   "metadata": {
    "collapsed": false
   }
  },
  {
   "cell_type": "code",
   "execution_count": 126,
   "outputs": [],
   "source": [
    "#df_join['Edu Count']= sk.ca"
   ],
   "metadata": {
    "collapsed": false
   }
  },
  {
   "cell_type": "markdown",
   "source": [
    "## Marital Status\n",
    "Converter minusculas para maiusculas **done**\n",
    "One Hot (?) **done**"
   ],
   "metadata": {
    "collapsed": false
   }
  },
  {
   "cell_type": "code",
   "execution_count": 127,
   "outputs": [
    {
     "data": {
      "text/plain": "array(['Together', 'Divorced', 'Married', 'Single', 'together', 'Widow',\n       'divorced', 'married', 'single', 'widow'], dtype=object)"
     },
     "execution_count": 127,
     "metadata": {},
     "output_type": "execute_result"
    }
   ],
   "source": [
    "df_join['Marital_Status'].unique()"
   ],
   "metadata": {
    "collapsed": false
   }
  },
  {
   "cell_type": "code",
   "execution_count": 128,
   "outputs": [],
   "source": [
    "marital_dict= {'together': 'Married', 'divorced': 'Divorced', 'married': 'Married', 'single': 'Single', 'widow': 'Widow','Together': 'Married'}\n",
    "df_join.replace({'Marital_Status': marital_dict}, inplace= True)"
   ],
   "metadata": {
    "collapsed": false
   }
  },
  {
   "cell_type": "code",
   "execution_count": 129,
   "outputs": [
    {
     "data": {
      "text/plain": "array(['Married', 'Divorced', 'Single', 'Widow'], dtype=object)"
     },
     "execution_count": 129,
     "metadata": {},
     "output_type": "execute_result"
    }
   ],
   "source": [
    "df_join['Marital_Status'].unique()"
   ],
   "metadata": {
    "collapsed": false
   }
  },
  {
   "cell_type": "code",
   "execution_count": 130,
   "outputs": [],
   "source": [
    "marital_status_df= pd.get_dummies(df_join.Marital_Status)\n",
    "df_join= df_join.join(pd.DataFrame(marital_status_df)).drop('Marital_Status', axis= 1)"
   ],
   "metadata": {
    "collapsed": false
   }
  },
  {
   "cell_type": "code",
   "execution_count": 131,
   "outputs": [
    {
     "data": {
      "text/plain": "                             Name   Education    Income  Kid_Younger6  \\\nCustomerID                                                              \n5078             Mr. Isaac Arnold  Graduation   99861.0             0   \n5081           Mr. Austin Abraham         PhD  124326.0             0   \n5084        Mrs. Bernadette Allan      Master   31179.0             1   \n5087           Mrs. Kylie Russell         PhD  102929.0             0   \n5090            Mr. Julian Arnold      Master  101038.0             0   \n\n            Children_6to18  Response_Cmp1  Response_Cmp2  Response_Cmp3  \\\nCustomerID                                                                \n5078                     0              0              1              0   \n5081                     0              0              0              0   \n5084                     0              1              0              0   \n5087                     1              0              0              0   \n5090                     1              0              0              0   \n\n            Response_Cmp4  Response_Cmp5  ... NumTakeAwayPurchases  \\\nCustomerID                                ...                        \n5078                    0              0  ...                    6   \n5081                    0              0  ...                    3   \n5084                    0              0  ...                    3   \n5087                    0              0  ...                    4   \n5090                    1              0  ...                    8   \n\n            NumStorePurchases  NumAppVisitsMonth  Complain  Sex  Age  \\\nCustomerID                                                             \n5078                       10                  4         0    1   54   \n5081                        8                  1         0    1   59   \n5084                        2                  7         0    0   44   \n5087                       13                  5         0    0   54   \n5090                       11                  6         0    1   48   \n\n            Divorced  Married  Single  Widow  \nCustomerID                                    \n5078               0        1       0      0  \n5081               1        0       0      0  \n5084               1        0       0      0  \n5087               1        0       0      0  \n5090               0        1       0      0  \n\n[5 rows x 30 columns]",
      "text/html": "<div>\n<style scoped>\n    .dataframe tbody tr th:only-of-type {\n        vertical-align: middle;\n    }\n\n    .dataframe tbody tr th {\n        vertical-align: top;\n    }\n\n    .dataframe thead th {\n        text-align: right;\n    }\n</style>\n<table border=\"1\" class=\"dataframe\">\n  <thead>\n    <tr style=\"text-align: right;\">\n      <th></th>\n      <th>Name</th>\n      <th>Education</th>\n      <th>Income</th>\n      <th>Kid_Younger6</th>\n      <th>Children_6to18</th>\n      <th>Response_Cmp1</th>\n      <th>Response_Cmp2</th>\n      <th>Response_Cmp3</th>\n      <th>Response_Cmp4</th>\n      <th>Response_Cmp5</th>\n      <th>...</th>\n      <th>NumTakeAwayPurchases</th>\n      <th>NumStorePurchases</th>\n      <th>NumAppVisitsMonth</th>\n      <th>Complain</th>\n      <th>Sex</th>\n      <th>Age</th>\n      <th>Divorced</th>\n      <th>Married</th>\n      <th>Single</th>\n      <th>Widow</th>\n    </tr>\n    <tr>\n      <th>CustomerID</th>\n      <th></th>\n      <th></th>\n      <th></th>\n      <th></th>\n      <th></th>\n      <th></th>\n      <th></th>\n      <th></th>\n      <th></th>\n      <th></th>\n      <th></th>\n      <th></th>\n      <th></th>\n      <th></th>\n      <th></th>\n      <th></th>\n      <th></th>\n      <th></th>\n      <th></th>\n      <th></th>\n      <th></th>\n    </tr>\n  </thead>\n  <tbody>\n    <tr>\n      <th>5078</th>\n      <td>Mr. Isaac Arnold</td>\n      <td>Graduation</td>\n      <td>99861.0</td>\n      <td>0</td>\n      <td>0</td>\n      <td>0</td>\n      <td>1</td>\n      <td>0</td>\n      <td>0</td>\n      <td>0</td>\n      <td>...</td>\n      <td>6</td>\n      <td>10</td>\n      <td>4</td>\n      <td>0</td>\n      <td>1</td>\n      <td>54</td>\n      <td>0</td>\n      <td>1</td>\n      <td>0</td>\n      <td>0</td>\n    </tr>\n    <tr>\n      <th>5081</th>\n      <td>Mr. Austin Abraham</td>\n      <td>PhD</td>\n      <td>124326.0</td>\n      <td>0</td>\n      <td>0</td>\n      <td>0</td>\n      <td>0</td>\n      <td>0</td>\n      <td>0</td>\n      <td>0</td>\n      <td>...</td>\n      <td>3</td>\n      <td>8</td>\n      <td>1</td>\n      <td>0</td>\n      <td>1</td>\n      <td>59</td>\n      <td>1</td>\n      <td>0</td>\n      <td>0</td>\n      <td>0</td>\n    </tr>\n    <tr>\n      <th>5084</th>\n      <td>Mrs. Bernadette Allan</td>\n      <td>Master</td>\n      <td>31179.0</td>\n      <td>1</td>\n      <td>0</td>\n      <td>1</td>\n      <td>0</td>\n      <td>0</td>\n      <td>0</td>\n      <td>0</td>\n      <td>...</td>\n      <td>3</td>\n      <td>2</td>\n      <td>7</td>\n      <td>0</td>\n      <td>0</td>\n      <td>44</td>\n      <td>1</td>\n      <td>0</td>\n      <td>0</td>\n      <td>0</td>\n    </tr>\n    <tr>\n      <th>5087</th>\n      <td>Mrs. Kylie Russell</td>\n      <td>PhD</td>\n      <td>102929.0</td>\n      <td>0</td>\n      <td>1</td>\n      <td>0</td>\n      <td>0</td>\n      <td>0</td>\n      <td>0</td>\n      <td>0</td>\n      <td>...</td>\n      <td>4</td>\n      <td>13</td>\n      <td>5</td>\n      <td>0</td>\n      <td>0</td>\n      <td>54</td>\n      <td>1</td>\n      <td>0</td>\n      <td>0</td>\n      <td>0</td>\n    </tr>\n    <tr>\n      <th>5090</th>\n      <td>Mr. Julian Arnold</td>\n      <td>Master</td>\n      <td>101038.0</td>\n      <td>0</td>\n      <td>1</td>\n      <td>0</td>\n      <td>0</td>\n      <td>0</td>\n      <td>1</td>\n      <td>0</td>\n      <td>...</td>\n      <td>8</td>\n      <td>11</td>\n      <td>6</td>\n      <td>0</td>\n      <td>1</td>\n      <td>48</td>\n      <td>0</td>\n      <td>1</td>\n      <td>0</td>\n      <td>0</td>\n    </tr>\n  </tbody>\n</table>\n<p>5 rows × 30 columns</p>\n</div>"
     },
     "execution_count": 131,
     "metadata": {},
     "output_type": "execute_result"
    }
   ],
   "source": [
    "df_join.head()"
   ],
   "metadata": {
    "collapsed": false
   }
  },
  {
   "cell_type": "code",
   "execution_count": 131,
   "outputs": [],
   "source": [],
   "metadata": {
    "collapsed": false
   }
  },
  {
   "cell_type": "markdown",
   "source": [
    "## Kid_younger6\n",
    "Ver se tem valores estranhos (floats ou negativos ou nan) **done** <br>\n",
    "Preencher nan com 0? **N/A** <br>"
   ],
   "metadata": {
    "collapsed": false
   }
  },
  {
   "cell_type": "code",
   "execution_count": 132,
   "outputs": [
    {
     "name": "stdout",
     "output_type": "stream",
     "text": [
      "Empty DataFrame\n",
      "Columns: [Name, Education, Income, Kid_Younger6, Children_6to18, Response_Cmp1, Response_Cmp2, Response_Cmp3, Response_Cmp4, Response_Cmp5, Date_Adherence, Recency, MntMeat&Fish, MntEntries, MntVegan&Vegetarian, MntDrinks, MntDesserts, MntAdditionalRequests, NumOfferPurchases, NumAppPurchases, NumTakeAwayPurchases, NumStorePurchases, NumAppVisitsMonth, Complain, Sex, Age, Divorced, Married, Single, Widow]\n",
      "Index: []\n",
      "\n",
      "[0 rows x 30 columns]\n",
      "False\n",
      "False\n"
     ]
    }
   ],
   "source": [
    "\n",
    "kid_younger6_column = df_join['Kid_Younger6']\n",
    "kid_younger6_lt_zero = df_join[kid_younger6_column< 0]\n",
    "kid_younger6_is_nan = kid_younger6_column.isna().any()\n",
    "kid_younger6_is_float = kid_younger6_column.dtype == float\n",
    "\n",
    "print(kid_younger6_lt_zero) #false\n",
    "print(kid_younger6_is_nan) #false\n",
    "print(kid_younger6_is_float) #false"
   ],
   "metadata": {
    "collapsed": false
   }
  },
  {
   "cell_type": "markdown",
   "source": [
    "## Children_6to18\n",
    "Ver se tem valores estranhos (floats ou negativos ou nan) **done** <br>\n",
    "Preencher nan com 0? **N/A** <br>"
   ],
   "metadata": {
    "collapsed": false
   }
  },
  {
   "cell_type": "code",
   "execution_count": 133,
   "outputs": [
    {
     "name": "stdout",
     "output_type": "stream",
     "text": [
      "Empty DataFrame\n",
      "Columns: [Name, Education, Income, Kid_Younger6, Children_6to18, Response_Cmp1, Response_Cmp2, Response_Cmp3, Response_Cmp4, Response_Cmp5, Date_Adherence, Recency, MntMeat&Fish, MntEntries, MntVegan&Vegetarian, MntDrinks, MntDesserts, MntAdditionalRequests, NumOfferPurchases, NumAppPurchases, NumTakeAwayPurchases, NumStorePurchases, NumAppVisitsMonth, Complain, Sex, Age, Divorced, Married, Single, Widow]\n",
      "Index: []\n",
      "\n",
      "[0 rows x 30 columns]\n",
      "False\n",
      "False\n"
     ]
    }
   ],
   "source": [
    "children_6to18_column = df_join['Children_6to18']\n",
    "children_6to18_lt_zero = df_join[children_6to18_column< 0]\n",
    "children_6to18_is_nan = children_6to18_column.isna().any()\n",
    "children_6to18_is_float = children_6to18_column.dtype == float\n",
    "\n",
    "print(children_6to18_lt_zero) #false\n",
    "print(children_6to18_is_nan) #false\n",
    "print(children_6to18_is_float) #false"
   ],
   "metadata": {
    "collapsed": false
   }
  },
  {
   "cell_type": "markdown",
   "source": [],
   "metadata": {
    "collapsed": false
   }
  },
  {
   "cell_type": "markdown",
   "source": [
    "## Dinheiro Gasto"
   ],
   "metadata": {
    "collapsed": false
   }
  },
  {
   "cell_type": "code",
   "execution_count": 134,
   "outputs": [
    {
     "data": {
      "text/plain": "                             Name   Education    Income  Kid_Younger6  \\\nCustomerID                                                              \n5078             Mr. Isaac Arnold  Graduation   99861.0             0   \n5081           Mr. Austin Abraham         PhD  124326.0             0   \n5084        Mrs. Bernadette Allan      Master   31179.0             1   \n5087           Mrs. Kylie Russell         PhD  102929.0             0   \n5090            Mr. Julian Arnold      Master  101038.0             0   \n...                           ...         ...       ...           ...   \n35057             Mr. Jacob Grant  HighSchool  103804.0             0   \n35063             Mr. Thomas Parr  Graduation   59722.0             0   \n35066          Mr. Trevor Dickens  Graduation  138559.0             0   \n35069           Mr. Benjamin Rees         PhD  109591.0             0   \n35072            Mrs. Leah Wright  HighSchool  122120.0             1   \n\n            Children_6to18  Response_Cmp1  Response_Cmp2  Response_Cmp3  \\\nCustomerID                                                                \n5078                     0              0              1              0   \n5081                     0              0              0              0   \n5084                     0              1              0              0   \n5087                     1              0              0              0   \n5090                     1              0              0              0   \n...                    ...            ...            ...            ...   \n35057                    1              0              0              0   \n35063                    0              0              0              0   \n35066                    1              0              1              1   \n35069                    0              0              0              0   \n35072                    0              0              0              0   \n\n            Response_Cmp4  Response_Cmp5  ... NumTakeAwayPurchases  \\\nCustomerID                                ...                        \n5078                    0              0  ...                    6   \n5081                    0              0  ...                    3   \n5084                    0              0  ...                    3   \n5087                    0              0  ...                    4   \n5090                    1              0  ...                    8   \n...                   ...            ...  ...                  ...   \n35057                   0              0  ...                    3   \n35063                   1              0  ...                    4   \n35066                   0              0  ...                    6   \n35069                   0              0  ...                    6   \n35072                   0              0  ...                    5   \n\n            NumStorePurchases  NumAppVisitsMonth  Complain  Sex  Age  \\\nCustomerID                                                             \n5078                       10                  4         0    1   54   \n5081                        8                  1         0    1   59   \n5084                        2                  7         0    0   44   \n5087                       13                  5         0    0   54   \n5090                       11                  6         0    1   48   \n...                       ...                ...       ...  ...  ...   \n35057                       9                  7         0    1   63   \n35063                       5                  6         0    1   42   \n35066                       5                  5         0    1   58   \n35069                      12                  3         0    1   44   \n35072                       6                  4         0    0   40   \n\n            Divorced  Married  Single  Widow  \nCustomerID                                    \n5078               0        1       0      0  \n5081               1        0       0      0  \n5084               1        0       0      0  \n5087               1        0       0      0  \n5090               0        1       0      0  \n...              ...      ...     ...    ...  \n35057              0        1       0      0  \n35063              0        1       0      0  \n35066              0        1       0      0  \n35069              0        1       0      0  \n35072              1        0       0      0  \n\n[7000 rows x 30 columns]",
      "text/html": "<div>\n<style scoped>\n    .dataframe tbody tr th:only-of-type {\n        vertical-align: middle;\n    }\n\n    .dataframe tbody tr th {\n        vertical-align: top;\n    }\n\n    .dataframe thead th {\n        text-align: right;\n    }\n</style>\n<table border=\"1\" class=\"dataframe\">\n  <thead>\n    <tr style=\"text-align: right;\">\n      <th></th>\n      <th>Name</th>\n      <th>Education</th>\n      <th>Income</th>\n      <th>Kid_Younger6</th>\n      <th>Children_6to18</th>\n      <th>Response_Cmp1</th>\n      <th>Response_Cmp2</th>\n      <th>Response_Cmp3</th>\n      <th>Response_Cmp4</th>\n      <th>Response_Cmp5</th>\n      <th>...</th>\n      <th>NumTakeAwayPurchases</th>\n      <th>NumStorePurchases</th>\n      <th>NumAppVisitsMonth</th>\n      <th>Complain</th>\n      <th>Sex</th>\n      <th>Age</th>\n      <th>Divorced</th>\n      <th>Married</th>\n      <th>Single</th>\n      <th>Widow</th>\n    </tr>\n    <tr>\n      <th>CustomerID</th>\n      <th></th>\n      <th></th>\n      <th></th>\n      <th></th>\n      <th></th>\n      <th></th>\n      <th></th>\n      <th></th>\n      <th></th>\n      <th></th>\n      <th></th>\n      <th></th>\n      <th></th>\n      <th></th>\n      <th></th>\n      <th></th>\n      <th></th>\n      <th></th>\n      <th></th>\n      <th></th>\n      <th></th>\n    </tr>\n  </thead>\n  <tbody>\n    <tr>\n      <th>5078</th>\n      <td>Mr. Isaac Arnold</td>\n      <td>Graduation</td>\n      <td>99861.0</td>\n      <td>0</td>\n      <td>0</td>\n      <td>0</td>\n      <td>1</td>\n      <td>0</td>\n      <td>0</td>\n      <td>0</td>\n      <td>...</td>\n      <td>6</td>\n      <td>10</td>\n      <td>4</td>\n      <td>0</td>\n      <td>1</td>\n      <td>54</td>\n      <td>0</td>\n      <td>1</td>\n      <td>0</td>\n      <td>0</td>\n    </tr>\n    <tr>\n      <th>5081</th>\n      <td>Mr. Austin Abraham</td>\n      <td>PhD</td>\n      <td>124326.0</td>\n      <td>0</td>\n      <td>0</td>\n      <td>0</td>\n      <td>0</td>\n      <td>0</td>\n      <td>0</td>\n      <td>0</td>\n      <td>...</td>\n      <td>3</td>\n      <td>8</td>\n      <td>1</td>\n      <td>0</td>\n      <td>1</td>\n      <td>59</td>\n      <td>1</td>\n      <td>0</td>\n      <td>0</td>\n      <td>0</td>\n    </tr>\n    <tr>\n      <th>5084</th>\n      <td>Mrs. Bernadette Allan</td>\n      <td>Master</td>\n      <td>31179.0</td>\n      <td>1</td>\n      <td>0</td>\n      <td>1</td>\n      <td>0</td>\n      <td>0</td>\n      <td>0</td>\n      <td>0</td>\n      <td>...</td>\n      <td>3</td>\n      <td>2</td>\n      <td>7</td>\n      <td>0</td>\n      <td>0</td>\n      <td>44</td>\n      <td>1</td>\n      <td>0</td>\n      <td>0</td>\n      <td>0</td>\n    </tr>\n    <tr>\n      <th>5087</th>\n      <td>Mrs. Kylie Russell</td>\n      <td>PhD</td>\n      <td>102929.0</td>\n      <td>0</td>\n      <td>1</td>\n      <td>0</td>\n      <td>0</td>\n      <td>0</td>\n      <td>0</td>\n      <td>0</td>\n      <td>...</td>\n      <td>4</td>\n      <td>13</td>\n      <td>5</td>\n      <td>0</td>\n      <td>0</td>\n      <td>54</td>\n      <td>1</td>\n      <td>0</td>\n      <td>0</td>\n      <td>0</td>\n    </tr>\n    <tr>\n      <th>5090</th>\n      <td>Mr. Julian Arnold</td>\n      <td>Master</td>\n      <td>101038.0</td>\n      <td>0</td>\n      <td>1</td>\n      <td>0</td>\n      <td>0</td>\n      <td>0</td>\n      <td>1</td>\n      <td>0</td>\n      <td>...</td>\n      <td>8</td>\n      <td>11</td>\n      <td>6</td>\n      <td>0</td>\n      <td>1</td>\n      <td>48</td>\n      <td>0</td>\n      <td>1</td>\n      <td>0</td>\n      <td>0</td>\n    </tr>\n    <tr>\n      <th>...</th>\n      <td>...</td>\n      <td>...</td>\n      <td>...</td>\n      <td>...</td>\n      <td>...</td>\n      <td>...</td>\n      <td>...</td>\n      <td>...</td>\n      <td>...</td>\n      <td>...</td>\n      <td>...</td>\n      <td>...</td>\n      <td>...</td>\n      <td>...</td>\n      <td>...</td>\n      <td>...</td>\n      <td>...</td>\n      <td>...</td>\n      <td>...</td>\n      <td>...</td>\n      <td>...</td>\n    </tr>\n    <tr>\n      <th>35057</th>\n      <td>Mr. Jacob Grant</td>\n      <td>HighSchool</td>\n      <td>103804.0</td>\n      <td>0</td>\n      <td>1</td>\n      <td>0</td>\n      <td>0</td>\n      <td>0</td>\n      <td>0</td>\n      <td>0</td>\n      <td>...</td>\n      <td>3</td>\n      <td>9</td>\n      <td>7</td>\n      <td>0</td>\n      <td>1</td>\n      <td>63</td>\n      <td>0</td>\n      <td>1</td>\n      <td>0</td>\n      <td>0</td>\n    </tr>\n    <tr>\n      <th>35063</th>\n      <td>Mr. Thomas Parr</td>\n      <td>Graduation</td>\n      <td>59722.0</td>\n      <td>0</td>\n      <td>0</td>\n      <td>0</td>\n      <td>0</td>\n      <td>0</td>\n      <td>1</td>\n      <td>0</td>\n      <td>...</td>\n      <td>4</td>\n      <td>5</td>\n      <td>6</td>\n      <td>0</td>\n      <td>1</td>\n      <td>42</td>\n      <td>0</td>\n      <td>1</td>\n      <td>0</td>\n      <td>0</td>\n    </tr>\n    <tr>\n      <th>35066</th>\n      <td>Mr. Trevor Dickens</td>\n      <td>Graduation</td>\n      <td>138559.0</td>\n      <td>0</td>\n      <td>1</td>\n      <td>0</td>\n      <td>1</td>\n      <td>1</td>\n      <td>0</td>\n      <td>0</td>\n      <td>...</td>\n      <td>6</td>\n      <td>5</td>\n      <td>5</td>\n      <td>0</td>\n      <td>1</td>\n      <td>58</td>\n      <td>0</td>\n      <td>1</td>\n      <td>0</td>\n      <td>0</td>\n    </tr>\n    <tr>\n      <th>35069</th>\n      <td>Mr. Benjamin Rees</td>\n      <td>PhD</td>\n      <td>109591.0</td>\n      <td>0</td>\n      <td>0</td>\n      <td>0</td>\n      <td>0</td>\n      <td>0</td>\n      <td>0</td>\n      <td>0</td>\n      <td>...</td>\n      <td>6</td>\n      <td>12</td>\n      <td>3</td>\n      <td>0</td>\n      <td>1</td>\n      <td>44</td>\n      <td>0</td>\n      <td>1</td>\n      <td>0</td>\n      <td>0</td>\n    </tr>\n    <tr>\n      <th>35072</th>\n      <td>Mrs. Leah Wright</td>\n      <td>HighSchool</td>\n      <td>122120.0</td>\n      <td>1</td>\n      <td>0</td>\n      <td>0</td>\n      <td>0</td>\n      <td>0</td>\n      <td>0</td>\n      <td>0</td>\n      <td>...</td>\n      <td>5</td>\n      <td>6</td>\n      <td>4</td>\n      <td>0</td>\n      <td>0</td>\n      <td>40</td>\n      <td>1</td>\n      <td>0</td>\n      <td>0</td>\n      <td>0</td>\n    </tr>\n  </tbody>\n</table>\n<p>7000 rows × 30 columns</p>\n</div>"
     },
     "execution_count": 134,
     "metadata": {},
     "output_type": "execute_result"
    }
   ],
   "source": [
    "df_join"
   ],
   "metadata": {
    "collapsed": false
   }
  },
  {
   "cell_type": "code",
   "execution_count": 135,
   "outputs": [
    {
     "data": {
      "text/plain": "0"
     },
     "execution_count": 135,
     "metadata": {},
     "output_type": "execute_result"
    }
   ],
   "source": [
    "(df_join['Income']<0).sum() # Sem valores negativos em income\n",
    "(df_join['NumAppPurchases']<0).sum() # Sem valores negativos em app purchases\n",
    "(df_join['NumAppVisitsMonth']<0).sum() # Sem valores negativos em appvisits\n",
    "(df_join['NumStorePurchases']<0).sum() # Sem valores negativos em storepurchases\n",
    "(df_join['NumTakeAwayPurchases']<0).sum() # Sem valores negativos em takeawaypurchases"
   ],
   "metadata": {
    "collapsed": false
   }
  },
  {
   "cell_type": "code",
   "execution_count": 139,
   "outputs": [
    {
     "data": {
      "text/plain": "              Income  Kid_Younger6  Children_6to18  Response_Cmp1  \\\ncount    7000.000000   7000.000000     7000.000000    7000.000000   \nmean    77988.962407      0.440571        0.490571       0.079143   \nstd     35409.810253      0.543477        0.542174       0.269981   \nmin      2493.800000      0.000000        0.000000       0.000000   \n25%     51586.250000      0.000000        0.000000       0.000000   \n50%     77190.000000      0.000000        0.000000       0.000000   \n75%    102016.250000      1.000000        1.000000       0.000000   \nmax    237639.725000      2.000000        2.000000       1.000000   \n\n       Response_Cmp2  Response_Cmp3  Response_Cmp4  Response_Cmp5  \\\ncount    7000.000000    7000.000000    7000.000000    7000.000000   \nmean        0.073286       0.083000       0.065857       0.014286   \nstd         0.260624       0.275902       0.248050       0.118675   \nmin         0.000000       0.000000       0.000000       0.000000   \n25%         0.000000       0.000000       0.000000       0.000000   \n50%         0.000000       0.000000       0.000000       0.000000   \n75%         0.000000       0.000000       0.000000       0.000000   \nmax         1.000000       1.000000       1.000000       1.000000   \n\n           Recency  MntMeat&Fish  ...  NumAppPurchases  NumTakeAwayPurchases  \\\ncount  6977.000000   7000.000000  ...      7000.000000           7000.000000   \nmean     49.235058   3079.523800  ...         6.015714              3.834571   \nstd      28.922688   3370.377166  ...         2.745537              3.331142   \nmin       0.000000      0.000000  ...         0.000000              0.000000   \n25%      24.000000    250.000000  ...         4.000000              1.000000   \n50%      49.000000   1820.000000  ...         6.000000              3.000000   \n75%      74.000000   5070.000000  ...         8.000000              5.000000   \nmax      99.000000  14980.000000  ...        13.000000             24.000000   \n\n       NumStorePurchases  NumAppVisitsMonth     Complain          Age  \\\ncount        7000.000000        7000.000000  7000.000000  7000.000000   \nmean            5.790571           5.278286     0.010286    46.548571   \nstd             3.295708           2.748596     0.100903    11.996270   \nmin             0.000000           0.000000     0.000000    18.000000   \n25%             3.000000           3.000000     0.000000    38.000000   \n50%             5.000000           5.000000     0.000000    46.000000   \n75%             8.000000           7.000000     0.000000    56.000000   \nmax            13.000000          20.000000     1.000000    75.000000   \n\n          Divorced      Married       Single        Widow  \ncount  7000.000000  7000.000000  7000.000000  7000.000000  \nmean      0.092143     0.653143     0.219714     0.035000  \nstd       0.289248     0.476004     0.414083     0.183793  \nmin       0.000000     0.000000     0.000000     0.000000  \n25%       0.000000     0.000000     0.000000     0.000000  \n50%       0.000000     1.000000     0.000000     0.000000  \n75%       0.000000     1.000000     0.000000     0.000000  \nmax       1.000000     1.000000     1.000000     1.000000  \n\n[8 rows x 26 columns]",
      "text/html": "<div>\n<style scoped>\n    .dataframe tbody tr th:only-of-type {\n        vertical-align: middle;\n    }\n\n    .dataframe tbody tr th {\n        vertical-align: top;\n    }\n\n    .dataframe thead th {\n        text-align: right;\n    }\n</style>\n<table border=\"1\" class=\"dataframe\">\n  <thead>\n    <tr style=\"text-align: right;\">\n      <th></th>\n      <th>Income</th>\n      <th>Kid_Younger6</th>\n      <th>Children_6to18</th>\n      <th>Response_Cmp1</th>\n      <th>Response_Cmp2</th>\n      <th>Response_Cmp3</th>\n      <th>Response_Cmp4</th>\n      <th>Response_Cmp5</th>\n      <th>Recency</th>\n      <th>MntMeat&amp;Fish</th>\n      <th>...</th>\n      <th>NumAppPurchases</th>\n      <th>NumTakeAwayPurchases</th>\n      <th>NumStorePurchases</th>\n      <th>NumAppVisitsMonth</th>\n      <th>Complain</th>\n      <th>Age</th>\n      <th>Divorced</th>\n      <th>Married</th>\n      <th>Single</th>\n      <th>Widow</th>\n    </tr>\n  </thead>\n  <tbody>\n    <tr>\n      <th>count</th>\n      <td>7000.000000</td>\n      <td>7000.000000</td>\n      <td>7000.000000</td>\n      <td>7000.000000</td>\n      <td>7000.000000</td>\n      <td>7000.000000</td>\n      <td>7000.000000</td>\n      <td>7000.000000</td>\n      <td>6977.000000</td>\n      <td>7000.000000</td>\n      <td>...</td>\n      <td>7000.000000</td>\n      <td>7000.000000</td>\n      <td>7000.000000</td>\n      <td>7000.000000</td>\n      <td>7000.000000</td>\n      <td>7000.000000</td>\n      <td>7000.000000</td>\n      <td>7000.000000</td>\n      <td>7000.000000</td>\n      <td>7000.000000</td>\n    </tr>\n    <tr>\n      <th>mean</th>\n      <td>77988.962407</td>\n      <td>0.440571</td>\n      <td>0.490571</td>\n      <td>0.079143</td>\n      <td>0.073286</td>\n      <td>0.083000</td>\n      <td>0.065857</td>\n      <td>0.014286</td>\n      <td>49.235058</td>\n      <td>3079.523800</td>\n      <td>...</td>\n      <td>6.015714</td>\n      <td>3.834571</td>\n      <td>5.790571</td>\n      <td>5.278286</td>\n      <td>0.010286</td>\n      <td>46.548571</td>\n      <td>0.092143</td>\n      <td>0.653143</td>\n      <td>0.219714</td>\n      <td>0.035000</td>\n    </tr>\n    <tr>\n      <th>std</th>\n      <td>35409.810253</td>\n      <td>0.543477</td>\n      <td>0.542174</td>\n      <td>0.269981</td>\n      <td>0.260624</td>\n      <td>0.275902</td>\n      <td>0.248050</td>\n      <td>0.118675</td>\n      <td>28.922688</td>\n      <td>3370.377166</td>\n      <td>...</td>\n      <td>2.745537</td>\n      <td>3.331142</td>\n      <td>3.295708</td>\n      <td>2.748596</td>\n      <td>0.100903</td>\n      <td>11.996270</td>\n      <td>0.289248</td>\n      <td>0.476004</td>\n      <td>0.414083</td>\n      <td>0.183793</td>\n    </tr>\n    <tr>\n      <th>min</th>\n      <td>2493.800000</td>\n      <td>0.000000</td>\n      <td>0.000000</td>\n      <td>0.000000</td>\n      <td>0.000000</td>\n      <td>0.000000</td>\n      <td>0.000000</td>\n      <td>0.000000</td>\n      <td>0.000000</td>\n      <td>0.000000</td>\n      <td>...</td>\n      <td>0.000000</td>\n      <td>0.000000</td>\n      <td>0.000000</td>\n      <td>0.000000</td>\n      <td>0.000000</td>\n      <td>18.000000</td>\n      <td>0.000000</td>\n      <td>0.000000</td>\n      <td>0.000000</td>\n      <td>0.000000</td>\n    </tr>\n    <tr>\n      <th>25%</th>\n      <td>51586.250000</td>\n      <td>0.000000</td>\n      <td>0.000000</td>\n      <td>0.000000</td>\n      <td>0.000000</td>\n      <td>0.000000</td>\n      <td>0.000000</td>\n      <td>0.000000</td>\n      <td>24.000000</td>\n      <td>250.000000</td>\n      <td>...</td>\n      <td>4.000000</td>\n      <td>1.000000</td>\n      <td>3.000000</td>\n      <td>3.000000</td>\n      <td>0.000000</td>\n      <td>38.000000</td>\n      <td>0.000000</td>\n      <td>0.000000</td>\n      <td>0.000000</td>\n      <td>0.000000</td>\n    </tr>\n    <tr>\n      <th>50%</th>\n      <td>77190.000000</td>\n      <td>0.000000</td>\n      <td>0.000000</td>\n      <td>0.000000</td>\n      <td>0.000000</td>\n      <td>0.000000</td>\n      <td>0.000000</td>\n      <td>0.000000</td>\n      <td>49.000000</td>\n      <td>1820.000000</td>\n      <td>...</td>\n      <td>6.000000</td>\n      <td>3.000000</td>\n      <td>5.000000</td>\n      <td>5.000000</td>\n      <td>0.000000</td>\n      <td>46.000000</td>\n      <td>0.000000</td>\n      <td>1.000000</td>\n      <td>0.000000</td>\n      <td>0.000000</td>\n    </tr>\n    <tr>\n      <th>75%</th>\n      <td>102016.250000</td>\n      <td>1.000000</td>\n      <td>1.000000</td>\n      <td>0.000000</td>\n      <td>0.000000</td>\n      <td>0.000000</td>\n      <td>0.000000</td>\n      <td>0.000000</td>\n      <td>74.000000</td>\n      <td>5070.000000</td>\n      <td>...</td>\n      <td>8.000000</td>\n      <td>5.000000</td>\n      <td>8.000000</td>\n      <td>7.000000</td>\n      <td>0.000000</td>\n      <td>56.000000</td>\n      <td>0.000000</td>\n      <td>1.000000</td>\n      <td>0.000000</td>\n      <td>0.000000</td>\n    </tr>\n    <tr>\n      <th>max</th>\n      <td>237639.725000</td>\n      <td>2.000000</td>\n      <td>2.000000</td>\n      <td>1.000000</td>\n      <td>1.000000</td>\n      <td>1.000000</td>\n      <td>1.000000</td>\n      <td>1.000000</td>\n      <td>99.000000</td>\n      <td>14980.000000</td>\n      <td>...</td>\n      <td>13.000000</td>\n      <td>24.000000</td>\n      <td>13.000000</td>\n      <td>20.000000</td>\n      <td>1.000000</td>\n      <td>75.000000</td>\n      <td>1.000000</td>\n      <td>1.000000</td>\n      <td>1.000000</td>\n      <td>1.000000</td>\n    </tr>\n  </tbody>\n</table>\n<p>8 rows × 26 columns</p>\n</div>"
     },
     "execution_count": 139,
     "metadata": {},
     "output_type": "execute_result"
    }
   ],
   "source": [
    "df_join.describe()"
   ],
   "metadata": {
    "collapsed": false
   }
  },
  {
   "cell_type": "code",
   "execution_count": null,
   "outputs": [],
   "source": [
    "#Temos missing values nas colunas \"Recency\" e \"MntDrinks\""
   ],
   "metadata": {
    "collapsed": false
   }
  },
  {
   "cell_type": "code",
   "execution_count": 142,
   "outputs": [
    {
     "data": {
      "text/plain": "28"
     },
     "execution_count": 142,
     "metadata": {},
     "output_type": "execute_result"
    }
   ],
   "source": [
    "df_join.Recency.isna().sum() #23\n",
    "df_join.MntDrinks.isna().sum() #28 missing values"
   ],
   "metadata": {
    "collapsed": false
   }
  },
  {
   "cell_type": "markdown",
   "source": [],
   "metadata": {
    "collapsed": false
   }
  },
  {
   "cell_type": "code",
   "execution_count": 149,
   "outputs": [
    {
     "data": {
      "text/plain": "                             Name   Education    Income  Kid_Younger6  \\\nCustomerID                                                              \n6092             Mr. Thomas Piper  Graduation   33013.0             0   \n7283           Mr. Benjamin Walsh  HighSchool   60285.0             0   \n8354              Mr. Isaac Scott         PhD   42140.0             1   \n9173            Mr. Stewart Walsh  Graduation   28434.0             1   \n9770            Mr. Oliver Bailey         PhD   58791.0             1   \n12353            Mr. Adrian Clark  HighSchool   98338.0             0   \n13955            Mr. Paul Chapman  Graduation   89496.0             0   \n18368            Mr. Julian Jones         PhD  104790.0             0   \n18731         Mr. Warren Lawrence         PhD   42343.0             1   \n20321            Miss Karen Ogden         PhD   24811.0             1   \n20894         Mr. Stephen Russell      Master   70839.0             1   \n21656           Mr. Stephen Allan  HighSchool   90373.0             0   \n22247       Mr. William Henderson  Graduation   38511.0             1   \n22481       Miss Kimberly Skinner  Graduation   56348.0             1   \n25082         Mr. Connor Buckland      Master  108101.0             0   \n26435         Mr. Benjamin Tucker         PhD   40631.0             1   \n27986             Mr. Boris Mills  HighSchool   68646.0             1   \n31790           Mr. Cameron Lewis  Graduation   27955.0             1   \n31895        Mr. Nicholas Manning  Graduation   63773.0             1   \n32813          Mr. Oliver Randall         PhD   55630.0             0   \n33278           Mr. Justin Martin         PhD   64674.0             0   \n34376           Mr. Robert Butler  HighSchool   55578.0             1   \n34799            Mr. Robert Scott      Master  116440.0             0   \n\n            Children_6to18  Response_Cmp1  Response_Cmp2  Response_Cmp3  \\\nCustomerID                                                                \n6092                     0              0              0              0   \n7283                     1              0              0              0   \n8354                     0              0              0              0   \n9173                     0              0              0              0   \n9770                     1              0              0              0   \n12353                    1              0              0              0   \n13955                    1              0              0              0   \n18368                    0              0              0              0   \n18731                    0              0              0              0   \n20321                    0              0              0              0   \n20894                    1              0              0              0   \n21656                    0              0              0              0   \n22247                    0              1              0              0   \n22481                    1              0              0              0   \n25082                    1              0              0              0   \n26435                    0              0              0              0   \n27986                    1              0              0              0   \n31790                    0              0              0              0   \n31895                    1              0              0              0   \n32813                    0              0              1              0   \n33278                    1              0              1              0   \n34376                    0              0              0              0   \n34799                    0              0              0              1   \n\n            Response_Cmp4  Response_Cmp5  ... NumTakeAwayPurchases  \\\nCustomerID                                ...                        \n6092                    0              0  ...                    1   \n7283                    0              0  ...                    2   \n8354                    0              0  ...                    1   \n9173                    0              0  ...                    1   \n9770                    0              0  ...                    1   \n12353                   0              0  ...                   10   \n13955                   0              0  ...                    3   \n18368                   0              0  ...                    4   \n18731                   0              0  ...                    7   \n20321                   0              0  ...                    1   \n20894                   0              0  ...                    2   \n21656                   0              0  ...                    7   \n22247                   0              0  ...                    2   \n22481                   0              0  ...                    1   \n25082                   0              0  ...                    7   \n26435                   0              0  ...                    1   \n27986                   0              0  ...                    1   \n31790                   0              0  ...                    1   \n31895                   0              0  ...                    1   \n32813                   1              0  ...                    3   \n33278                   0              0  ...                    3   \n34376                   0              0  ...                    3   \n34799                   0              0  ...                   10   \n\n            NumStorePurchases  NumAppVisitsMonth  Complain  Sex  Age  \\\nCustomerID                                                             \n6092                        4                  9         0    1   59   \n7283                        5                  4         0    1   47   \n8354                        2                  8         0    1   34   \n9173                        3                  8         0    1   35   \n9770                        4                  8         0    1   51   \n12353                       4                  4         0    1   44   \n13955                      10                  4         0    1   41   \n18368                       6                  1         0    1   38   \n18731                       4                  9         0    1   34   \n20321                       3                  7         0    0   47   \n20894                       4                  6         0    1   55   \n21656                       8                  3         0    1   20   \n22247                       3                  6         0    1   30   \n22481                       4                  2         0    0   56   \n25082                       8                  5         0    1   65   \n26435                       3                  7         0    1   44   \n27986                       4                  3         0    1   44   \n31790                       3                  7         0    1   42   \n31895                       4                  6         0    1   35   \n32813                       5                  7         0    1   46   \n33278                       6                  8         0    1   63   \n34376                       3                  7         0    1   41   \n34799                       7                  2         1    1   56   \n\n            Divorced  Married  Single  Widow  \nCustomerID                                    \n6092               0        1       0      0  \n7283               0        1       0      0  \n8354               0        1       0      0  \n9173               0        0       0      1  \n9770               0        1       0      0  \n12353              0        1       0      0  \n13955              0        1       0      0  \n18368              0        0       1      0  \n18731              0        1       0      0  \n20321              0        0       1      0  \n20894              0        1       0      0  \n21656              0        0       1      0  \n22247              0        1       0      0  \n22481              0        0       1      0  \n25082              0        1       0      0  \n26435              0        1       0      0  \n27986              0        1       0      0  \n31790              0        1       0      0  \n31895              0        0       1      0  \n32813              0        1       0      0  \n33278              1        0       0      0  \n34376              0        1       0      0  \n34799              0        1       0      0  \n\n[23 rows x 30 columns]",
      "text/html": "<div>\n<style scoped>\n    .dataframe tbody tr th:only-of-type {\n        vertical-align: middle;\n    }\n\n    .dataframe tbody tr th {\n        vertical-align: top;\n    }\n\n    .dataframe thead th {\n        text-align: right;\n    }\n</style>\n<table border=\"1\" class=\"dataframe\">\n  <thead>\n    <tr style=\"text-align: right;\">\n      <th></th>\n      <th>Name</th>\n      <th>Education</th>\n      <th>Income</th>\n      <th>Kid_Younger6</th>\n      <th>Children_6to18</th>\n      <th>Response_Cmp1</th>\n      <th>Response_Cmp2</th>\n      <th>Response_Cmp3</th>\n      <th>Response_Cmp4</th>\n      <th>Response_Cmp5</th>\n      <th>...</th>\n      <th>NumTakeAwayPurchases</th>\n      <th>NumStorePurchases</th>\n      <th>NumAppVisitsMonth</th>\n      <th>Complain</th>\n      <th>Sex</th>\n      <th>Age</th>\n      <th>Divorced</th>\n      <th>Married</th>\n      <th>Single</th>\n      <th>Widow</th>\n    </tr>\n    <tr>\n      <th>CustomerID</th>\n      <th></th>\n      <th></th>\n      <th></th>\n      <th></th>\n      <th></th>\n      <th></th>\n      <th></th>\n      <th></th>\n      <th></th>\n      <th></th>\n      <th></th>\n      <th></th>\n      <th></th>\n      <th></th>\n      <th></th>\n      <th></th>\n      <th></th>\n      <th></th>\n      <th></th>\n      <th></th>\n      <th></th>\n    </tr>\n  </thead>\n  <tbody>\n    <tr>\n      <th>6092</th>\n      <td>Mr. Thomas Piper</td>\n      <td>Graduation</td>\n      <td>33013.0</td>\n      <td>0</td>\n      <td>0</td>\n      <td>0</td>\n      <td>0</td>\n      <td>0</td>\n      <td>0</td>\n      <td>0</td>\n      <td>...</td>\n      <td>1</td>\n      <td>4</td>\n      <td>9</td>\n      <td>0</td>\n      <td>1</td>\n      <td>59</td>\n      <td>0</td>\n      <td>1</td>\n      <td>0</td>\n      <td>0</td>\n    </tr>\n    <tr>\n      <th>7283</th>\n      <td>Mr. Benjamin Walsh</td>\n      <td>HighSchool</td>\n      <td>60285.0</td>\n      <td>0</td>\n      <td>1</td>\n      <td>0</td>\n      <td>0</td>\n      <td>0</td>\n      <td>0</td>\n      <td>0</td>\n      <td>...</td>\n      <td>2</td>\n      <td>5</td>\n      <td>4</td>\n      <td>0</td>\n      <td>1</td>\n      <td>47</td>\n      <td>0</td>\n      <td>1</td>\n      <td>0</td>\n      <td>0</td>\n    </tr>\n    <tr>\n      <th>8354</th>\n      <td>Mr. Isaac Scott</td>\n      <td>PhD</td>\n      <td>42140.0</td>\n      <td>1</td>\n      <td>0</td>\n      <td>0</td>\n      <td>0</td>\n      <td>0</td>\n      <td>0</td>\n      <td>0</td>\n      <td>...</td>\n      <td>1</td>\n      <td>2</td>\n      <td>8</td>\n      <td>0</td>\n      <td>1</td>\n      <td>34</td>\n      <td>0</td>\n      <td>1</td>\n      <td>0</td>\n      <td>0</td>\n    </tr>\n    <tr>\n      <th>9173</th>\n      <td>Mr. Stewart Walsh</td>\n      <td>Graduation</td>\n      <td>28434.0</td>\n      <td>1</td>\n      <td>0</td>\n      <td>0</td>\n      <td>0</td>\n      <td>0</td>\n      <td>0</td>\n      <td>0</td>\n      <td>...</td>\n      <td>1</td>\n      <td>3</td>\n      <td>8</td>\n      <td>0</td>\n      <td>1</td>\n      <td>35</td>\n      <td>0</td>\n      <td>0</td>\n      <td>0</td>\n      <td>1</td>\n    </tr>\n    <tr>\n      <th>9770</th>\n      <td>Mr. Oliver Bailey</td>\n      <td>PhD</td>\n      <td>58791.0</td>\n      <td>1</td>\n      <td>1</td>\n      <td>0</td>\n      <td>0</td>\n      <td>0</td>\n      <td>0</td>\n      <td>0</td>\n      <td>...</td>\n      <td>1</td>\n      <td>4</td>\n      <td>8</td>\n      <td>0</td>\n      <td>1</td>\n      <td>51</td>\n      <td>0</td>\n      <td>1</td>\n      <td>0</td>\n      <td>0</td>\n    </tr>\n    <tr>\n      <th>12353</th>\n      <td>Mr. Adrian Clark</td>\n      <td>HighSchool</td>\n      <td>98338.0</td>\n      <td>0</td>\n      <td>1</td>\n      <td>0</td>\n      <td>0</td>\n      <td>0</td>\n      <td>0</td>\n      <td>0</td>\n      <td>...</td>\n      <td>10</td>\n      <td>4</td>\n      <td>4</td>\n      <td>0</td>\n      <td>1</td>\n      <td>44</td>\n      <td>0</td>\n      <td>1</td>\n      <td>0</td>\n      <td>0</td>\n    </tr>\n    <tr>\n      <th>13955</th>\n      <td>Mr. Paul Chapman</td>\n      <td>Graduation</td>\n      <td>89496.0</td>\n      <td>0</td>\n      <td>1</td>\n      <td>0</td>\n      <td>0</td>\n      <td>0</td>\n      <td>0</td>\n      <td>0</td>\n      <td>...</td>\n      <td>3</td>\n      <td>10</td>\n      <td>4</td>\n      <td>0</td>\n      <td>1</td>\n      <td>41</td>\n      <td>0</td>\n      <td>1</td>\n      <td>0</td>\n      <td>0</td>\n    </tr>\n    <tr>\n      <th>18368</th>\n      <td>Mr. Julian Jones</td>\n      <td>PhD</td>\n      <td>104790.0</td>\n      <td>0</td>\n      <td>0</td>\n      <td>0</td>\n      <td>0</td>\n      <td>0</td>\n      <td>0</td>\n      <td>0</td>\n      <td>...</td>\n      <td>4</td>\n      <td>6</td>\n      <td>1</td>\n      <td>0</td>\n      <td>1</td>\n      <td>38</td>\n      <td>0</td>\n      <td>0</td>\n      <td>1</td>\n      <td>0</td>\n    </tr>\n    <tr>\n      <th>18731</th>\n      <td>Mr. Warren Lawrence</td>\n      <td>PhD</td>\n      <td>42343.0</td>\n      <td>1</td>\n      <td>0</td>\n      <td>0</td>\n      <td>0</td>\n      <td>0</td>\n      <td>0</td>\n      <td>0</td>\n      <td>...</td>\n      <td>7</td>\n      <td>4</td>\n      <td>9</td>\n      <td>0</td>\n      <td>1</td>\n      <td>34</td>\n      <td>0</td>\n      <td>1</td>\n      <td>0</td>\n      <td>0</td>\n    </tr>\n    <tr>\n      <th>20321</th>\n      <td>Miss Karen Ogden</td>\n      <td>PhD</td>\n      <td>24811.0</td>\n      <td>1</td>\n      <td>0</td>\n      <td>0</td>\n      <td>0</td>\n      <td>0</td>\n      <td>0</td>\n      <td>0</td>\n      <td>...</td>\n      <td>1</td>\n      <td>3</td>\n      <td>7</td>\n      <td>0</td>\n      <td>0</td>\n      <td>47</td>\n      <td>0</td>\n      <td>0</td>\n      <td>1</td>\n      <td>0</td>\n    </tr>\n    <tr>\n      <th>20894</th>\n      <td>Mr. Stephen Russell</td>\n      <td>Master</td>\n      <td>70839.0</td>\n      <td>1</td>\n      <td>1</td>\n      <td>0</td>\n      <td>0</td>\n      <td>0</td>\n      <td>0</td>\n      <td>0</td>\n      <td>...</td>\n      <td>2</td>\n      <td>4</td>\n      <td>6</td>\n      <td>0</td>\n      <td>1</td>\n      <td>55</td>\n      <td>0</td>\n      <td>1</td>\n      <td>0</td>\n      <td>0</td>\n    </tr>\n    <tr>\n      <th>21656</th>\n      <td>Mr. Stephen Allan</td>\n      <td>HighSchool</td>\n      <td>90373.0</td>\n      <td>0</td>\n      <td>0</td>\n      <td>0</td>\n      <td>0</td>\n      <td>0</td>\n      <td>0</td>\n      <td>0</td>\n      <td>...</td>\n      <td>7</td>\n      <td>8</td>\n      <td>3</td>\n      <td>0</td>\n      <td>1</td>\n      <td>20</td>\n      <td>0</td>\n      <td>0</td>\n      <td>1</td>\n      <td>0</td>\n    </tr>\n    <tr>\n      <th>22247</th>\n      <td>Mr. William Henderson</td>\n      <td>Graduation</td>\n      <td>38511.0</td>\n      <td>1</td>\n      <td>0</td>\n      <td>1</td>\n      <td>0</td>\n      <td>0</td>\n      <td>0</td>\n      <td>0</td>\n      <td>...</td>\n      <td>2</td>\n      <td>3</td>\n      <td>6</td>\n      <td>0</td>\n      <td>1</td>\n      <td>30</td>\n      <td>0</td>\n      <td>1</td>\n      <td>0</td>\n      <td>0</td>\n    </tr>\n    <tr>\n      <th>22481</th>\n      <td>Miss Kimberly Skinner</td>\n      <td>Graduation</td>\n      <td>56348.0</td>\n      <td>1</td>\n      <td>1</td>\n      <td>0</td>\n      <td>0</td>\n      <td>0</td>\n      <td>0</td>\n      <td>0</td>\n      <td>...</td>\n      <td>1</td>\n      <td>4</td>\n      <td>2</td>\n      <td>0</td>\n      <td>0</td>\n      <td>56</td>\n      <td>0</td>\n      <td>0</td>\n      <td>1</td>\n      <td>0</td>\n    </tr>\n    <tr>\n      <th>25082</th>\n      <td>Mr. Connor Buckland</td>\n      <td>Master</td>\n      <td>108101.0</td>\n      <td>0</td>\n      <td>1</td>\n      <td>0</td>\n      <td>0</td>\n      <td>0</td>\n      <td>0</td>\n      <td>0</td>\n      <td>...</td>\n      <td>7</td>\n      <td>8</td>\n      <td>5</td>\n      <td>0</td>\n      <td>1</td>\n      <td>65</td>\n      <td>0</td>\n      <td>1</td>\n      <td>0</td>\n      <td>0</td>\n    </tr>\n    <tr>\n      <th>26435</th>\n      <td>Mr. Benjamin Tucker</td>\n      <td>PhD</td>\n      <td>40631.0</td>\n      <td>1</td>\n      <td>0</td>\n      <td>0</td>\n      <td>0</td>\n      <td>0</td>\n      <td>0</td>\n      <td>0</td>\n      <td>...</td>\n      <td>1</td>\n      <td>3</td>\n      <td>7</td>\n      <td>0</td>\n      <td>1</td>\n      <td>44</td>\n      <td>0</td>\n      <td>1</td>\n      <td>0</td>\n      <td>0</td>\n    </tr>\n    <tr>\n      <th>27986</th>\n      <td>Mr. Boris Mills</td>\n      <td>HighSchool</td>\n      <td>68646.0</td>\n      <td>1</td>\n      <td>1</td>\n      <td>0</td>\n      <td>0</td>\n      <td>0</td>\n      <td>0</td>\n      <td>0</td>\n      <td>...</td>\n      <td>1</td>\n      <td>4</td>\n      <td>3</td>\n      <td>0</td>\n      <td>1</td>\n      <td>44</td>\n      <td>0</td>\n      <td>1</td>\n      <td>0</td>\n      <td>0</td>\n    </tr>\n    <tr>\n      <th>31790</th>\n      <td>Mr. Cameron Lewis</td>\n      <td>Graduation</td>\n      <td>27955.0</td>\n      <td>1</td>\n      <td>0</td>\n      <td>0</td>\n      <td>0</td>\n      <td>0</td>\n      <td>0</td>\n      <td>0</td>\n      <td>...</td>\n      <td>1</td>\n      <td>3</td>\n      <td>7</td>\n      <td>0</td>\n      <td>1</td>\n      <td>42</td>\n      <td>0</td>\n      <td>1</td>\n      <td>0</td>\n      <td>0</td>\n    </tr>\n    <tr>\n      <th>31895</th>\n      <td>Mr. Nicholas Manning</td>\n      <td>Graduation</td>\n      <td>63773.0</td>\n      <td>1</td>\n      <td>1</td>\n      <td>0</td>\n      <td>0</td>\n      <td>0</td>\n      <td>0</td>\n      <td>0</td>\n      <td>...</td>\n      <td>1</td>\n      <td>4</td>\n      <td>6</td>\n      <td>0</td>\n      <td>1</td>\n      <td>35</td>\n      <td>0</td>\n      <td>0</td>\n      <td>1</td>\n      <td>0</td>\n    </tr>\n    <tr>\n      <th>32813</th>\n      <td>Mr. Oliver Randall</td>\n      <td>PhD</td>\n      <td>55630.0</td>\n      <td>0</td>\n      <td>0</td>\n      <td>0</td>\n      <td>1</td>\n      <td>0</td>\n      <td>1</td>\n      <td>0</td>\n      <td>...</td>\n      <td>3</td>\n      <td>5</td>\n      <td>7</td>\n      <td>0</td>\n      <td>1</td>\n      <td>46</td>\n      <td>0</td>\n      <td>1</td>\n      <td>0</td>\n      <td>0</td>\n    </tr>\n    <tr>\n      <th>33278</th>\n      <td>Mr. Justin Martin</td>\n      <td>PhD</td>\n      <td>64674.0</td>\n      <td>0</td>\n      <td>1</td>\n      <td>0</td>\n      <td>1</td>\n      <td>0</td>\n      <td>0</td>\n      <td>0</td>\n      <td>...</td>\n      <td>3</td>\n      <td>6</td>\n      <td>8</td>\n      <td>0</td>\n      <td>1</td>\n      <td>63</td>\n      <td>1</td>\n      <td>0</td>\n      <td>0</td>\n      <td>0</td>\n    </tr>\n    <tr>\n      <th>34376</th>\n      <td>Mr. Robert Butler</td>\n      <td>HighSchool</td>\n      <td>55578.0</td>\n      <td>1</td>\n      <td>0</td>\n      <td>0</td>\n      <td>0</td>\n      <td>0</td>\n      <td>0</td>\n      <td>0</td>\n      <td>...</td>\n      <td>3</td>\n      <td>3</td>\n      <td>7</td>\n      <td>0</td>\n      <td>1</td>\n      <td>41</td>\n      <td>0</td>\n      <td>1</td>\n      <td>0</td>\n      <td>0</td>\n    </tr>\n    <tr>\n      <th>34799</th>\n      <td>Mr. Robert Scott</td>\n      <td>Master</td>\n      <td>116440.0</td>\n      <td>0</td>\n      <td>0</td>\n      <td>0</td>\n      <td>0</td>\n      <td>1</td>\n      <td>0</td>\n      <td>0</td>\n      <td>...</td>\n      <td>10</td>\n      <td>7</td>\n      <td>2</td>\n      <td>1</td>\n      <td>1</td>\n      <td>56</td>\n      <td>0</td>\n      <td>1</td>\n      <td>0</td>\n      <td>0</td>\n    </tr>\n  </tbody>\n</table>\n<p>23 rows × 30 columns</p>\n</div>"
     },
     "execution_count": 149,
     "metadata": {},
     "output_type": "execute_result"
    }
   ],
   "source": [
    "recencynulldf = df_join[df_join['Recency'].isnull()]\n",
    "recencynulldf"
   ],
   "metadata": {
    "collapsed": false
   }
  },
  {
   "cell_type": "markdown",
   "source": [],
   "metadata": {
    "collapsed": false
   }
  },
  {
   "cell_type": "code",
   "execution_count": 150,
   "outputs": [
    {
     "data": {
      "text/plain": "                              Name   Education    Income  Kid_Younger6  \\\nCustomerID                                                               \n5117             Mr. Trevor Davies      Master   63797.0             1   \n5444             Mr. Michael James  Graduation   81638.0             0   \n10031           Mr. John Sanderson         PhD  110126.0             0   \n10142           Miss Leah Johnston      Master   41267.0             1   \n10736                 Mr. Joe Dowd  HighSchool   99700.0             0   \n12368                Miss Joan May         PhD   93871.0             0   \n12989             Mr. Connor Alsop  Graduation   97951.0             0   \n14468             Mr. Joe Paterson  HighSchool  120649.0             0   \n14663          Mr. Jason Underwood  HighSchool   85875.0             0   \n16919            Mr. Jason Russell  Graduation   51417.0             1   \n17252          Mr. Julian Hamilton  Graduation   41638.0             1   \n17876            Mr. Frank Wilkins         PhD   71756.0             1   \n18182           Mrs. Maria Burgess  Graduation   46582.0             1   \n18440             Mr. Matt Lambert  Graduation  110697.0             0   \n20564             Mr. Owen Simpson  Graduation   85006.0             0   \n21245            Mr. Matt Lawrence         PhD   60449.0             1   \n21746        Mrs. Michelle Thomson  Graduation  116784.0             0   \n22052          Miss Rebecca Wilson      Master  118174.0             0   \n23660          Mr. William Skinner  Graduation   43947.0             1   \n24692          Mr. Steven McDonald         PhD  114578.0             0   \n26216              Mr. Keith Mills  Graduation   80789.0             1   \n27017          Miss Irene Metcalfe  Graduation   37151.0             1   \n27689              Miss Sonia Ince      Master   80442.0             0   \n28178       Mr. Nicholas Mackenzie         PhD   72388.0             0   \n28316        Mr. William MacDonald  Graduation   87762.0             2   \n28502             Mr. Luke Chapman         PhD  101869.0             0   \n29396            Mr. Eric Ferguson  Graduation   42699.0             1   \n33542            Mr. Kevin Langdon         PhD  100227.0             0   \n\n            Children_6to18  Response_Cmp1  Response_Cmp2  Response_Cmp3  \\\nCustomerID                                                                \n5117                     1              0              0              0   \n5444                     1              0              0              0   \n10031                    0              0              0              0   \n10142                    0              0              0              0   \n10736                    1              0              0              0   \n12368                    1              0              1              0   \n12989                    0              0              0              0   \n14468                    0              0              0              1   \n14663                    1              0              0              0   \n16919                    0              0              0              0   \n17252                    1              0              0              0   \n17876                    1              0              0              0   \n18182                    0              0              0              0   \n18440                    0              0              0              0   \n20564                    1              0              0              0   \n21245                    1              0              0              0   \n21746                    1              0              1              1   \n22052                    0              0              0              0   \n23660                    1              0              0              0   \n24692                    0              0              0              0   \n26216                    1              0              0              0   \n27017                    0              0              0              0   \n27689                    0              0              0              0   \n28178                    1              0              0              0   \n28316                    0              0              0              0   \n28502                    1              0              0              0   \n29396                    0              0              0              0   \n33542                    1              0              0              0   \n\n            Response_Cmp4  Response_Cmp5  ... NumTakeAwayPurchases  \\\nCustomerID                                ...                        \n5117                    0              0  ...                    2   \n5444                    0              0  ...                    7   \n10031                   0              0  ...                    4   \n10142                   0              0  ...                    1   \n10736                   0              0  ...                    5   \n12368                   0              0  ...                    5   \n12989                   0              0  ...                    4   \n14468                   1              0  ...                    7   \n14663                   0              0  ...                    4   \n16919                   0              0  ...                    2   \n17252                   0              0  ...                    1   \n17876                   0              0  ...                    3   \n18182                   0              0  ...                    1   \n18440                   0              0  ...                    6   \n20564                   0              0  ...                    8   \n21245                   0              0  ...                    1   \n21746                   0              0  ...                    5   \n22052                   0              0  ...                    7   \n23660                   0              0  ...                    1   \n24692                   0              0  ...                    5   \n26216                   0              0  ...                    1   \n27017                   0              0  ...                    1   \n27689                   0              0  ...                    3   \n28178                   0              0  ...                    2   \n28316                   0              0  ...                    3   \n28502                   0              0  ...                    3   \n29396                   0              0  ...                    2   \n33542                   0              0  ...                    5   \n\n            NumStorePurchases  NumAppVisitsMonth  Complain  Sex  Age  \\\nCustomerID                                                             \n5117                        3                  5         0    1   65   \n5444                        6                  6         0    1   63   \n10031                       4                  4         0    1   27   \n10142                       4                  8         0    0   36   \n10736                      12                  5         0    1   62   \n12368                       6                  3         0    0   65   \n12989                       7                  5         0    1   52   \n14468                       5                  1         0    1   44   \n14663                       8                  4         0    1   37   \n16919                       3                  5         0    1   37   \n17252                       3                  8         0    1   44   \n17876                       3                  8         0    1   40   \n18182                       4                  5         0    0   40   \n18440                      13                  2         0    1   26   \n20564                      11                  3         0    1   58   \n21245                       4                  6         0    1   53   \n21746                       7                  3         0    0   51   \n22052                      13                  2         0    0   33   \n23660                       3                  8         0    1   46   \n24692                       8                  2         0    1   50   \n26216                       3                  5         0    1   56   \n27017                       3                  8         0    0   30   \n27689                       9                  4         0    0   67   \n28178                       4                  5         0    1   61   \n28316                       6                  3         0    1   31   \n28502                       5                  1         0    1   58   \n29396                       2                  8         0    1   30   \n33542                       9                  5         0    1   63   \n\n            Divorced  Married  Single  Widow  \nCustomerID                                    \n5117               0        1       0      0  \n5444               1        0       0      0  \n10031              0        1       0      0  \n10142              0        0       1      0  \n10736              0        0       1      0  \n12368              0        1       0      0  \n12989              0        1       0      0  \n14468              0        1       0      0  \n14663              0        1       0      0  \n16919              0        1       0      0  \n17252              0        1       0      0  \n17876              0        1       0      0  \n18182              0        1       0      0  \n18440              0        1       0      0  \n20564              0        1       0      0  \n21245              0        0       1      0  \n21746              0        1       0      0  \n22052              0        0       1      0  \n23660              1        0       0      0  \n24692              0        1       0      0  \n26216              0        0       1      0  \n27017              0        0       1      0  \n27689              0        0       1      0  \n28178              0        1       0      0  \n28316              0        1       0      0  \n28502              0        1       0      0  \n29396              0        1       0      0  \n33542              0        1       0      0  \n\n[28 rows x 30 columns]",
      "text/html": "<div>\n<style scoped>\n    .dataframe tbody tr th:only-of-type {\n        vertical-align: middle;\n    }\n\n    .dataframe tbody tr th {\n        vertical-align: top;\n    }\n\n    .dataframe thead th {\n        text-align: right;\n    }\n</style>\n<table border=\"1\" class=\"dataframe\">\n  <thead>\n    <tr style=\"text-align: right;\">\n      <th></th>\n      <th>Name</th>\n      <th>Education</th>\n      <th>Income</th>\n      <th>Kid_Younger6</th>\n      <th>Children_6to18</th>\n      <th>Response_Cmp1</th>\n      <th>Response_Cmp2</th>\n      <th>Response_Cmp3</th>\n      <th>Response_Cmp4</th>\n      <th>Response_Cmp5</th>\n      <th>...</th>\n      <th>NumTakeAwayPurchases</th>\n      <th>NumStorePurchases</th>\n      <th>NumAppVisitsMonth</th>\n      <th>Complain</th>\n      <th>Sex</th>\n      <th>Age</th>\n      <th>Divorced</th>\n      <th>Married</th>\n      <th>Single</th>\n      <th>Widow</th>\n    </tr>\n    <tr>\n      <th>CustomerID</th>\n      <th></th>\n      <th></th>\n      <th></th>\n      <th></th>\n      <th></th>\n      <th></th>\n      <th></th>\n      <th></th>\n      <th></th>\n      <th></th>\n      <th></th>\n      <th></th>\n      <th></th>\n      <th></th>\n      <th></th>\n      <th></th>\n      <th></th>\n      <th></th>\n      <th></th>\n      <th></th>\n      <th></th>\n    </tr>\n  </thead>\n  <tbody>\n    <tr>\n      <th>5117</th>\n      <td>Mr. Trevor Davies</td>\n      <td>Master</td>\n      <td>63797.0</td>\n      <td>1</td>\n      <td>1</td>\n      <td>0</td>\n      <td>0</td>\n      <td>0</td>\n      <td>0</td>\n      <td>0</td>\n      <td>...</td>\n      <td>2</td>\n      <td>3</td>\n      <td>5</td>\n      <td>0</td>\n      <td>1</td>\n      <td>65</td>\n      <td>0</td>\n      <td>1</td>\n      <td>0</td>\n      <td>0</td>\n    </tr>\n    <tr>\n      <th>5444</th>\n      <td>Mr. Michael James</td>\n      <td>Graduation</td>\n      <td>81638.0</td>\n      <td>0</td>\n      <td>1</td>\n      <td>0</td>\n      <td>0</td>\n      <td>0</td>\n      <td>0</td>\n      <td>0</td>\n      <td>...</td>\n      <td>7</td>\n      <td>6</td>\n      <td>6</td>\n      <td>0</td>\n      <td>1</td>\n      <td>63</td>\n      <td>1</td>\n      <td>0</td>\n      <td>0</td>\n      <td>0</td>\n    </tr>\n    <tr>\n      <th>10031</th>\n      <td>Mr. John Sanderson</td>\n      <td>PhD</td>\n      <td>110126.0</td>\n      <td>0</td>\n      <td>0</td>\n      <td>0</td>\n      <td>0</td>\n      <td>0</td>\n      <td>0</td>\n      <td>0</td>\n      <td>...</td>\n      <td>4</td>\n      <td>4</td>\n      <td>4</td>\n      <td>0</td>\n      <td>1</td>\n      <td>27</td>\n      <td>0</td>\n      <td>1</td>\n      <td>0</td>\n      <td>0</td>\n    </tr>\n    <tr>\n      <th>10142</th>\n      <td>Miss Leah Johnston</td>\n      <td>Master</td>\n      <td>41267.0</td>\n      <td>1</td>\n      <td>0</td>\n      <td>0</td>\n      <td>0</td>\n      <td>0</td>\n      <td>0</td>\n      <td>0</td>\n      <td>...</td>\n      <td>1</td>\n      <td>4</td>\n      <td>8</td>\n      <td>0</td>\n      <td>0</td>\n      <td>36</td>\n      <td>0</td>\n      <td>0</td>\n      <td>1</td>\n      <td>0</td>\n    </tr>\n    <tr>\n      <th>10736</th>\n      <td>Mr. Joe Dowd</td>\n      <td>HighSchool</td>\n      <td>99700.0</td>\n      <td>0</td>\n      <td>1</td>\n      <td>0</td>\n      <td>0</td>\n      <td>0</td>\n      <td>0</td>\n      <td>0</td>\n      <td>...</td>\n      <td>5</td>\n      <td>12</td>\n      <td>5</td>\n      <td>0</td>\n      <td>1</td>\n      <td>62</td>\n      <td>0</td>\n      <td>0</td>\n      <td>1</td>\n      <td>0</td>\n    </tr>\n    <tr>\n      <th>12368</th>\n      <td>Miss Joan May</td>\n      <td>PhD</td>\n      <td>93871.0</td>\n      <td>0</td>\n      <td>1</td>\n      <td>0</td>\n      <td>1</td>\n      <td>0</td>\n      <td>0</td>\n      <td>0</td>\n      <td>...</td>\n      <td>5</td>\n      <td>6</td>\n      <td>3</td>\n      <td>0</td>\n      <td>0</td>\n      <td>65</td>\n      <td>0</td>\n      <td>1</td>\n      <td>0</td>\n      <td>0</td>\n    </tr>\n    <tr>\n      <th>12989</th>\n      <td>Mr. Connor Alsop</td>\n      <td>Graduation</td>\n      <td>97951.0</td>\n      <td>0</td>\n      <td>0</td>\n      <td>0</td>\n      <td>0</td>\n      <td>0</td>\n      <td>0</td>\n      <td>0</td>\n      <td>...</td>\n      <td>4</td>\n      <td>7</td>\n      <td>5</td>\n      <td>0</td>\n      <td>1</td>\n      <td>52</td>\n      <td>0</td>\n      <td>1</td>\n      <td>0</td>\n      <td>0</td>\n    </tr>\n    <tr>\n      <th>14468</th>\n      <td>Mr. Joe Paterson</td>\n      <td>HighSchool</td>\n      <td>120649.0</td>\n      <td>0</td>\n      <td>0</td>\n      <td>0</td>\n      <td>0</td>\n      <td>1</td>\n      <td>1</td>\n      <td>0</td>\n      <td>...</td>\n      <td>7</td>\n      <td>5</td>\n      <td>1</td>\n      <td>0</td>\n      <td>1</td>\n      <td>44</td>\n      <td>0</td>\n      <td>1</td>\n      <td>0</td>\n      <td>0</td>\n    </tr>\n    <tr>\n      <th>14663</th>\n      <td>Mr. Jason Underwood</td>\n      <td>HighSchool</td>\n      <td>85875.0</td>\n      <td>0</td>\n      <td>1</td>\n      <td>0</td>\n      <td>0</td>\n      <td>0</td>\n      <td>0</td>\n      <td>0</td>\n      <td>...</td>\n      <td>4</td>\n      <td>8</td>\n      <td>4</td>\n      <td>0</td>\n      <td>1</td>\n      <td>37</td>\n      <td>0</td>\n      <td>1</td>\n      <td>0</td>\n      <td>0</td>\n    </tr>\n    <tr>\n      <th>16919</th>\n      <td>Mr. Jason Russell</td>\n      <td>Graduation</td>\n      <td>51417.0</td>\n      <td>1</td>\n      <td>0</td>\n      <td>0</td>\n      <td>0</td>\n      <td>0</td>\n      <td>0</td>\n      <td>0</td>\n      <td>...</td>\n      <td>2</td>\n      <td>3</td>\n      <td>5</td>\n      <td>0</td>\n      <td>1</td>\n      <td>37</td>\n      <td>0</td>\n      <td>1</td>\n      <td>0</td>\n      <td>0</td>\n    </tr>\n    <tr>\n      <th>17252</th>\n      <td>Mr. Julian Hamilton</td>\n      <td>Graduation</td>\n      <td>41638.0</td>\n      <td>1</td>\n      <td>1</td>\n      <td>0</td>\n      <td>0</td>\n      <td>0</td>\n      <td>0</td>\n      <td>0</td>\n      <td>...</td>\n      <td>1</td>\n      <td>3</td>\n      <td>8</td>\n      <td>0</td>\n      <td>1</td>\n      <td>44</td>\n      <td>0</td>\n      <td>1</td>\n      <td>0</td>\n      <td>0</td>\n    </tr>\n    <tr>\n      <th>17876</th>\n      <td>Mr. Frank Wilkins</td>\n      <td>PhD</td>\n      <td>71756.0</td>\n      <td>1</td>\n      <td>1</td>\n      <td>0</td>\n      <td>0</td>\n      <td>0</td>\n      <td>0</td>\n      <td>0</td>\n      <td>...</td>\n      <td>3</td>\n      <td>3</td>\n      <td>8</td>\n      <td>0</td>\n      <td>1</td>\n      <td>40</td>\n      <td>0</td>\n      <td>1</td>\n      <td>0</td>\n      <td>0</td>\n    </tr>\n    <tr>\n      <th>18182</th>\n      <td>Mrs. Maria Burgess</td>\n      <td>Graduation</td>\n      <td>46582.0</td>\n      <td>1</td>\n      <td>0</td>\n      <td>0</td>\n      <td>0</td>\n      <td>0</td>\n      <td>0</td>\n      <td>0</td>\n      <td>...</td>\n      <td>1</td>\n      <td>4</td>\n      <td>5</td>\n      <td>0</td>\n      <td>0</td>\n      <td>40</td>\n      <td>0</td>\n      <td>1</td>\n      <td>0</td>\n      <td>0</td>\n    </tr>\n    <tr>\n      <th>18440</th>\n      <td>Mr. Matt Lambert</td>\n      <td>Graduation</td>\n      <td>110697.0</td>\n      <td>0</td>\n      <td>0</td>\n      <td>0</td>\n      <td>0</td>\n      <td>0</td>\n      <td>0</td>\n      <td>0</td>\n      <td>...</td>\n      <td>6</td>\n      <td>13</td>\n      <td>2</td>\n      <td>0</td>\n      <td>1</td>\n      <td>26</td>\n      <td>0</td>\n      <td>1</td>\n      <td>0</td>\n      <td>0</td>\n    </tr>\n    <tr>\n      <th>20564</th>\n      <td>Mr. Owen Simpson</td>\n      <td>Graduation</td>\n      <td>85006.0</td>\n      <td>0</td>\n      <td>1</td>\n      <td>0</td>\n      <td>0</td>\n      <td>0</td>\n      <td>0</td>\n      <td>0</td>\n      <td>...</td>\n      <td>8</td>\n      <td>11</td>\n      <td>3</td>\n      <td>0</td>\n      <td>1</td>\n      <td>58</td>\n      <td>0</td>\n      <td>1</td>\n      <td>0</td>\n      <td>0</td>\n    </tr>\n    <tr>\n      <th>21245</th>\n      <td>Mr. Matt Lawrence</td>\n      <td>PhD</td>\n      <td>60449.0</td>\n      <td>1</td>\n      <td>1</td>\n      <td>0</td>\n      <td>0</td>\n      <td>0</td>\n      <td>0</td>\n      <td>0</td>\n      <td>...</td>\n      <td>1</td>\n      <td>4</td>\n      <td>6</td>\n      <td>0</td>\n      <td>1</td>\n      <td>53</td>\n      <td>0</td>\n      <td>0</td>\n      <td>1</td>\n      <td>0</td>\n    </tr>\n    <tr>\n      <th>21746</th>\n      <td>Mrs. Michelle Thomson</td>\n      <td>Graduation</td>\n      <td>116784.0</td>\n      <td>0</td>\n      <td>1</td>\n      <td>0</td>\n      <td>1</td>\n      <td>1</td>\n      <td>0</td>\n      <td>0</td>\n      <td>...</td>\n      <td>5</td>\n      <td>7</td>\n      <td>3</td>\n      <td>0</td>\n      <td>0</td>\n      <td>51</td>\n      <td>0</td>\n      <td>1</td>\n      <td>0</td>\n      <td>0</td>\n    </tr>\n    <tr>\n      <th>22052</th>\n      <td>Miss Rebecca Wilson</td>\n      <td>Master</td>\n      <td>118174.0</td>\n      <td>0</td>\n      <td>0</td>\n      <td>0</td>\n      <td>0</td>\n      <td>0</td>\n      <td>0</td>\n      <td>0</td>\n      <td>...</td>\n      <td>7</td>\n      <td>13</td>\n      <td>2</td>\n      <td>0</td>\n      <td>0</td>\n      <td>33</td>\n      <td>0</td>\n      <td>0</td>\n      <td>1</td>\n      <td>0</td>\n    </tr>\n    <tr>\n      <th>23660</th>\n      <td>Mr. William Skinner</td>\n      <td>Graduation</td>\n      <td>43947.0</td>\n      <td>1</td>\n      <td>1</td>\n      <td>0</td>\n      <td>0</td>\n      <td>0</td>\n      <td>0</td>\n      <td>0</td>\n      <td>...</td>\n      <td>1</td>\n      <td>3</td>\n      <td>8</td>\n      <td>0</td>\n      <td>1</td>\n      <td>46</td>\n      <td>1</td>\n      <td>0</td>\n      <td>0</td>\n      <td>0</td>\n    </tr>\n    <tr>\n      <th>24692</th>\n      <td>Mr. Steven McDonald</td>\n      <td>PhD</td>\n      <td>114578.0</td>\n      <td>0</td>\n      <td>0</td>\n      <td>0</td>\n      <td>0</td>\n      <td>0</td>\n      <td>0</td>\n      <td>0</td>\n      <td>...</td>\n      <td>5</td>\n      <td>8</td>\n      <td>2</td>\n      <td>0</td>\n      <td>1</td>\n      <td>50</td>\n      <td>0</td>\n      <td>1</td>\n      <td>0</td>\n      <td>0</td>\n    </tr>\n    <tr>\n      <th>26216</th>\n      <td>Mr. Keith Mills</td>\n      <td>Graduation</td>\n      <td>80789.0</td>\n      <td>1</td>\n      <td>1</td>\n      <td>0</td>\n      <td>0</td>\n      <td>0</td>\n      <td>0</td>\n      <td>0</td>\n      <td>...</td>\n      <td>1</td>\n      <td>3</td>\n      <td>5</td>\n      <td>0</td>\n      <td>1</td>\n      <td>56</td>\n      <td>0</td>\n      <td>0</td>\n      <td>1</td>\n      <td>0</td>\n    </tr>\n    <tr>\n      <th>27017</th>\n      <td>Miss Irene Metcalfe</td>\n      <td>Graduation</td>\n      <td>37151.0</td>\n      <td>1</td>\n      <td>0</td>\n      <td>0</td>\n      <td>0</td>\n      <td>0</td>\n      <td>0</td>\n      <td>0</td>\n      <td>...</td>\n      <td>1</td>\n      <td>3</td>\n      <td>8</td>\n      <td>0</td>\n      <td>0</td>\n      <td>30</td>\n      <td>0</td>\n      <td>0</td>\n      <td>1</td>\n      <td>0</td>\n    </tr>\n    <tr>\n      <th>27689</th>\n      <td>Miss Sonia Ince</td>\n      <td>Master</td>\n      <td>80442.0</td>\n      <td>0</td>\n      <td>0</td>\n      <td>0</td>\n      <td>0</td>\n      <td>0</td>\n      <td>0</td>\n      <td>0</td>\n      <td>...</td>\n      <td>3</td>\n      <td>9</td>\n      <td>4</td>\n      <td>0</td>\n      <td>0</td>\n      <td>67</td>\n      <td>0</td>\n      <td>0</td>\n      <td>1</td>\n      <td>0</td>\n    </tr>\n    <tr>\n      <th>28178</th>\n      <td>Mr. Nicholas Mackenzie</td>\n      <td>PhD</td>\n      <td>72388.0</td>\n      <td>0</td>\n      <td>1</td>\n      <td>0</td>\n      <td>0</td>\n      <td>0</td>\n      <td>0</td>\n      <td>0</td>\n      <td>...</td>\n      <td>2</td>\n      <td>4</td>\n      <td>5</td>\n      <td>0</td>\n      <td>1</td>\n      <td>61</td>\n      <td>0</td>\n      <td>1</td>\n      <td>0</td>\n      <td>0</td>\n    </tr>\n    <tr>\n      <th>28316</th>\n      <td>Mr. William MacDonald</td>\n      <td>Graduation</td>\n      <td>87762.0</td>\n      <td>2</td>\n      <td>0</td>\n      <td>0</td>\n      <td>0</td>\n      <td>0</td>\n      <td>0</td>\n      <td>0</td>\n      <td>...</td>\n      <td>3</td>\n      <td>6</td>\n      <td>3</td>\n      <td>0</td>\n      <td>1</td>\n      <td>31</td>\n      <td>0</td>\n      <td>1</td>\n      <td>0</td>\n      <td>0</td>\n    </tr>\n    <tr>\n      <th>28502</th>\n      <td>Mr. Luke Chapman</td>\n      <td>PhD</td>\n      <td>101869.0</td>\n      <td>0</td>\n      <td>1</td>\n      <td>0</td>\n      <td>0</td>\n      <td>0</td>\n      <td>0</td>\n      <td>0</td>\n      <td>...</td>\n      <td>3</td>\n      <td>5</td>\n      <td>1</td>\n      <td>0</td>\n      <td>1</td>\n      <td>58</td>\n      <td>0</td>\n      <td>1</td>\n      <td>0</td>\n      <td>0</td>\n    </tr>\n    <tr>\n      <th>29396</th>\n      <td>Mr. Eric Ferguson</td>\n      <td>Graduation</td>\n      <td>42699.0</td>\n      <td>1</td>\n      <td>0</td>\n      <td>0</td>\n      <td>0</td>\n      <td>0</td>\n      <td>0</td>\n      <td>0</td>\n      <td>...</td>\n      <td>2</td>\n      <td>2</td>\n      <td>8</td>\n      <td>0</td>\n      <td>1</td>\n      <td>30</td>\n      <td>0</td>\n      <td>1</td>\n      <td>0</td>\n      <td>0</td>\n    </tr>\n    <tr>\n      <th>33542</th>\n      <td>Mr. Kevin Langdon</td>\n      <td>PhD</td>\n      <td>100227.0</td>\n      <td>0</td>\n      <td>1</td>\n      <td>0</td>\n      <td>0</td>\n      <td>0</td>\n      <td>0</td>\n      <td>0</td>\n      <td>...</td>\n      <td>5</td>\n      <td>9</td>\n      <td>5</td>\n      <td>0</td>\n      <td>1</td>\n      <td>63</td>\n      <td>0</td>\n      <td>1</td>\n      <td>0</td>\n      <td>0</td>\n    </tr>\n  </tbody>\n</table>\n<p>28 rows × 30 columns</p>\n</div>"
     },
     "execution_count": 150,
     "metadata": {},
     "output_type": "execute_result"
    }
   ],
   "source": [
    "MntDrinksnulldf = df_join[df_join['MntDrinks'].isnull()]\n",
    "MntDrinksnulldf"
   ],
   "metadata": {
    "collapsed": false
   }
  },
  {
   "cell_type": "code",
   "execution_count": 152,
   "outputs": [],
   "source": [
    "df_join['Recency'].fillna(df_join['Recency'].mode()[0], inplace =True) # nulls pela moda\n",
    "df_join['MntDrinks'].fillna(df_join['MntDrinks'].mode()[0], inplace =True) #nulls pela moda"
   ],
   "metadata": {
    "collapsed": false
   }
  },
  {
   "cell_type": "code",
   "execution_count": 154,
   "outputs": [
    {
     "data": {
      "text/plain": "0"
     },
     "execution_count": 154,
     "metadata": {},
     "output_type": "execute_result"
    }
   ],
   "source": [
    "df_join['Recency'].isna().sum() #0\n",
    "df_join['MntDrinks'].isna().sum() #0"
   ],
   "metadata": {
    "collapsed": false
   }
  },
  {
   "cell_type": "code",
   "execution_count": null,
   "outputs": [],
   "source": [],
   "metadata": {
    "collapsed": false
   }
  }
 ],
 "metadata": {
  "kernelspec": {
   "display_name": "Python 3 (ipykernel)",
   "language": "python",
   "name": "python3"
  },
  "language_info": {
   "codemirror_mode": {
    "name": "ipython",
    "version": 3
   },
   "file_extension": ".py",
   "mimetype": "text/x-python",
   "name": "python",
   "nbconvert_exporter": "python",
   "pygments_lexer": "ipython3",
   "version": "3.10.0"
  }
 },
 "nbformat": 4,
 "nbformat_minor": 5
}
